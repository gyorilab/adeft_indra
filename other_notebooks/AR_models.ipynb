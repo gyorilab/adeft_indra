{
 "cells": [
  {
   "cell_type": "code",
   "execution_count": 1,
   "metadata": {},
   "outputs": [
    {
     "name": "stderr",
     "output_type": "stream",
     "text": [
      "INFO: [2019-12-02 21:10:47] /Users/albertsteppi/adeft/adeft/recognize.py - OneShotRecognizer not available. AdeftLongformScorer has not been built successfully.\n"
     ]
    }
   ],
   "source": [
    "import pickle\n",
    "\n",
    "from indra.literature.adeft_tools import universal_extract_text\n",
    "\n",
    "from adeft.discover import AdeftMiner\n",
    "from adeft.gui import ground_with_gui\n",
    "from adeft.modeling.label import AdeftLabeler\n",
    "from adeft.disambiguate import load_disambiguator\n",
    "from adeft.modeling.classify import AdeftClassifier\n",
    "from adeft.modeling.find_anomalies import AdeftAnomalyDetector"
   ]
  },
  {
   "cell_type": "code",
   "execution_count": 2,
   "metadata": {},
   "outputs": [],
   "source": [
    "with open('data/content/AR_refs.pkl', 'rb') as f:\n",
    "    AR_refs = pickle.load(f)\n",
    "with open('data/content/AR_content.pkl', 'rb') as f:\n",
    "    AR_content = pickle.load(f)\n",
    "with open('data/entrez_content/AR_content.pkl', 'rb') as f:\n",
    "    AR_entrez = pickle.load(f)"
   ]
  },
  {
   "cell_type": "code",
   "execution_count": 3,
   "metadata": {},
   "outputs": [],
   "source": [
    "AR_disamb = load_disambiguator('AR')"
   ]
  },
  {
   "cell_type": "code",
   "execution_count": 4,
   "metadata": {},
   "outputs": [
    {
     "data": {
      "text/plain": [
       "{'AR': {'androgen receptor': 'HGNC:644',\n",
       "  'aldose reductase': 'HGNC:381',\n",
       "  'allergic rhinitis': 'ungrounded',\n",
       "  'acrosome reaction': 'GO:GO:0007340',\n",
       "  'amphiregulin': 'HGNC:651',\n",
       "  'acute rejection': 'ungrounded',\n",
       "  'pc 3': 'ungrounded',\n",
       "  'resistant': 'ungrounded',\n",
       "  'response': 'ungrounded',\n",
       "  'aortic regurgitation': 'ungrounded',\n",
       "  'autosomal recessive': 'ungrounded',\n",
       "  'androgen': 'HGNC:644',\n",
       "  'adrenoceptor': 'FPLX:ADRB',\n",
       "  'adventitious root': 'ungrounded',\n",
       "  'ar': 'ungrounded',\n",
       "  'ratio': 'ungrounded',\n",
       "  'antigen retrieval': 'ungrounded',\n",
       "  'gene': 'ungrounded',\n",
       "  'ankyrin repeat': 'ungrounded',\n",
       "  'nes': 'ungrounded',\n",
       "  'astragali radix': 'ungrounded',\n",
       "  'rate': 'ungrounded',\n",
       "  'red': 'ungrounded',\n",
       "  'autoregressive': 'ungrounded',\n",
       "  '”': 'ungrounded',\n",
       "  'acid rain': 'ungrounded',\n",
       "  'after ripening': 'ungrounded'}}"
      ]
     },
     "execution_count": 4,
     "metadata": {},
     "output_type": "execute_result"
    }
   ],
   "source": [
    "AR_disamb.grounding_dict"
   ]
  },
  {
   "cell_type": "code",
   "execution_count": null,
   "metadata": {},
   "outputs": [],
   "source": [
    "AR_texts = [universal_extract_text(text, contains=['AR']) for text in AR_content.values()\n",
    "            if text]"
   ]
  },
  {
   "cell_type": "code",
   "execution_count": 114,
   "metadata": {},
   "outputs": [
    {
     "data": {
      "text/plain": [
       "10467"
      ]
     },
     "execution_count": 114,
     "metadata": {},
     "output_type": "execute_result"
    }
   ],
   "source": [
    "len(AR_texts)"
   ]
  },
  {
   "cell_type": "code",
   "execution_count": 115,
   "metadata": {},
   "outputs": [],
   "source": [
    "AR_entrez_texts = [universal_extract_text(text) for text in AR_entrez if text]"
   ]
  },
  {
   "cell_type": "code",
   "execution_count": 116,
   "metadata": {},
   "outputs": [
    {
     "data": {
      "text/plain": [
       "2152"
      ]
     },
     "execution_count": 116,
     "metadata": {},
     "output_type": "execute_result"
    }
   ],
   "source": [
    "len(AR_entrez_texts)"
   ]
  },
  {
   "cell_type": "code",
   "execution_count": 117,
   "metadata": {},
   "outputs": [],
   "source": [
    "disambs = AR_disamb.disambiguate(AR_texts)"
   ]
  },
  {
   "cell_type": "code",
   "execution_count": 118,
   "metadata": {},
   "outputs": [
    {
     "data": {
      "text/plain": [
       "('HGNC:644',\n",
       " 'AR',\n",
       " {'HGNC:381': 0.0,\n",
       "  'FPLX:ADRB': 0.0,\n",
       "  'ungrounded': 0.0,\n",
       "  'HGNC:651': 0.0,\n",
       "  'GO:GO:0007340': 0.0,\n",
       "  'HGNC:644': 1.0})"
      ]
     },
     "execution_count": 118,
     "metadata": {},
     "output_type": "execute_result"
    }
   ],
   "source": [
    "disambs[2]"
   ]
  },
  {
   "cell_type": "code",
   "execution_count": 119,
   "metadata": {},
   "outputs": [],
   "source": [
    "anomalous_texts = [text for text, disamb in zip(AR_texts, disambs) if\n",
    "                   disamb[0] != 'HGNC:644' and set(disamb[2].values()) == set([0.0, 1.0])]"
   ]
  },
  {
   "cell_type": "code",
   "execution_count": 120,
   "metadata": {},
   "outputs": [
    {
     "data": {
      "text/plain": [
       "1688"
      ]
     },
     "execution_count": 120,
     "metadata": {},
     "output_type": "execute_result"
    }
   ],
   "source": [
    "len(anomalous_texts)"
   ]
  },
  {
   "cell_type": "code",
   "execution_count": 90,
   "metadata": {},
   "outputs": [],
   "source": []
  },
  {
   "cell_type": "code",
   "execution_count": 91,
   "metadata": {},
   "outputs": [
    {
     "data": {
      "text/plain": [
       "109"
      ]
     },
     "execution_count": 91,
     "metadata": {},
     "output_type": "execute_result"
    }
   ],
   "source": [
    "len(a)"
   ]
  },
  {
   "cell_type": "code",
   "execution_count": 121,
   "metadata": {},
   "outputs": [],
   "source": [
    "AR_detector = AdeftAnomalyDetector(blacklist=['AR'])"
   ]
  },
  {
   "cell_type": "code",
   "execution_count": 128,
   "metadata": {},
   "outputs": [],
   "source": [
    "param_grid = {'nu': [0.01, 0.05, 0.1], 'max_features': [100],\n",
    "              'ngram_range': [(1, 1)]}"
   ]
  },
  {
   "cell_type": "code",
   "execution_count": 129,
   "metadata": {},
   "outputs": [
    {
     "name": "stderr",
     "output_type": "stream",
     "text": [
      "INFO: [2019-11-26 13:47:47] /Users/albertsteppi/adeft/adeft/modeling/find_anomalies.py - Best score of 0.4735723935800604 found for parameter values:\n",
      "{'nu': 0.05, 'max_features': 100, 'ngram_range': (1, 1)}\n"
     ]
    }
   ],
   "source": [
    "AR_detector.cv(AR_entrez_texts, anomalous_texts, param_grid, n_jobs=8)"
   ]
  },
  {
   "cell_type": "code",
   "execution_count": 130,
   "metadata": {},
   "outputs": [
    {
     "data": {
      "text/plain": [
       "[('androgen', 9.33449909669644),\n",
       " ('receptor', 8.624016369114962),\n",
       " ('genes', 5.52580672280176),\n",
       " ('cag', 5.253883510862585),\n",
       " ('patients', 5.012425001196676),\n",
       " ('gene', 4.941435518282439),\n",
       " ('cancer', 4.700616232096251),\n",
       " ('expression', 4.700563245183466),\n",
       " ('breast', 4.544330808472303),\n",
       " ('prostate', 4.519195855852777),\n",
       " ('human', 4.439268526513311),\n",
       " ('cell', 4.249908252271126),\n",
       " ('mutations', 4.238535092364618),\n",
       " ('protein', 4.12466746768825),\n",
       " ('men', 4.01941023682817),\n",
       " ('interaction', 3.89014558099108),\n",
       " ('tumors', 3.8701814398418617),\n",
       " ('activity', 3.8278600315181146),\n",
       " ('binding', 3.7916558084273433),\n",
       " ('pca', 3.773134614759867),\n",
       " ('repeats', 3.642490445503589),\n",
       " ('repeat', 3.6262930430461795),\n",
       " ('cases', 3.5309788060963765),\n",
       " ('high', 3.466578067422709),\n",
       " ('ligand', 3.4523743624359375),\n",
       " ('effect', 3.4014154522211517),\n",
       " ('study', 3.3620250190856686),\n",
       " ('dna', 3.3550014243001534),\n",
       " ('cells', 3.3548771695248116),\n",
       " ('dht', 3.3441016018360163),\n",
       " ('associated', 3.2886496155227714),\n",
       " ('disease', 3.202419675923131),\n",
       " ('length', 3.1738934992623427),\n",
       " ('domain', 3.1507595080918085),\n",
       " ('using', 3.036384062753948),\n",
       " ('nuclear', 3.009435305178997),\n",
       " ('analysis', 2.9889252103951622),\n",
       " ('risk', 2.979627470362965),\n",
       " ('10', 2.938860259754972),\n",
       " ('proteins', 2.929933253665728),\n",
       " ('association', 2.9029324632131237),\n",
       " ('normal', 2.8263971947126865),\n",
       " ('role', 2.7035945649041655),\n",
       " ('mediated', 2.678791530993225),\n",
       " ('significant', 2.678687055181041),\n",
       " ('studies', 2.6211866153725314),\n",
       " ('hormone', 2.6084419235978453),\n",
       " ('different', 2.582931759863257),\n",
       " ('effects', 2.575203784459682),\n",
       " ('identified', 2.5639354248447073),\n",
       " ('signaling', 2.536829169558797),\n",
       " ('dependent', 2.5366041482563464),\n",
       " ('showed', 2.4647398436370547),\n",
       " ('control', 2.446128558523373),\n",
       " ('tumor', 2.4444391776376886),\n",
       " ('number', 2.44232925559566),\n",
       " ('transcription', 2.4235374450243845),\n",
       " ('transcriptional', 2.385674247742203),\n",
       " ('pcr', 2.3557471222696456),\n",
       " ('mrna', 2.320934124954462),\n",
       " ('negative', 2.215997719885388),\n",
       " ('function', 2.2032399106703022),\n",
       " ('significantly', 2.1446466266737803),\n",
       " ('positive', 2.118154460524913),\n",
       " ('regulation', 2.1177939264578782),\n",
       " ('levels', 2.115879734056974),\n",
       " ('data', 2.08901922972513),\n",
       " ('results', 2.0284836541818447),\n",
       " ('promoter', 2.0162391210214534),\n",
       " ('increased', 2.0079846419981804),\n",
       " ('response', 1.996660530653495),\n",
       " ('independent', 1.9784867279644667),\n",
       " ('compared', 1.9465829244199455),\n",
       " ('activation', 1.8911753075324493),\n",
       " ('induced', 1.8805301915328831),\n",
       " ('used', 1.8580653680886812),\n",
       " ('target', 1.8230200952761013),\n",
       " ('et', 1.7675459487227807),\n",
       " ('al', 1.7571274351604025),\n",
       " ('progression', 1.7543324060798013),\n",
       " ('treatment', 1.7224087622496642),\n",
       " ('growth', 1.7100993980848622),\n",
       " ('psa', 1.6215762464477492),\n",
       " ('proliferation', 1.5865305598715629),\n",
       " ('specific', 1.5511217862247497),\n",
       " ('presence', 1.4957448855280702),\n",
       " ('observed', 1.4559548009742775),\n",
       " ('non', 1.4279556373328344),\n",
       " ('20', 1.238921752316986),\n",
       " ('treated', 1.088012920943681),\n",
       " ('performed', 1.0799477785055471),\n",
       " ('fig', 1.0000718241222109),\n",
       " ('shown', 0.9835803736937285),\n",
       " ('samples', 0.9588573906140425),\n",
       " ('nm', 0.8596591727544267),\n",
       " ('lncap', 0.8531446703486036),\n",
       " ('figure', 0.8355024518651508),\n",
       " ('24', 0.7959315729434392),\n",
       " ('anti', 0.7140338198228328),\n",
       " ('transfected', 0.31611564873949094)]"
      ]
     },
     "execution_count": 130,
     "metadata": {},
     "output_type": "execute_result"
    }
   ],
   "source": [
    "AR_detector.feature_importances()"
   ]
  },
  {
   "cell_type": "code",
   "execution_count": 131,
   "metadata": {},
   "outputs": [],
   "source": [
    "preds = AR_detector.predict(AR_texts)"
   ]
  },
  {
   "cell_type": "code",
   "execution_count": 133,
   "metadata": {},
   "outputs": [
    {
     "data": {
      "text/plain": [
       "10467"
      ]
     },
     "execution_count": 133,
     "metadata": {},
     "output_type": "execute_result"
    }
   ],
   "source": [
    "len(preds)"
   ]
  },
  {
   "cell_type": "code",
   "execution_count": 135,
   "metadata": {},
   "outputs": [
    {
     "data": {
      "text/plain": [
       "0.6599230944814145"
      ]
     },
     "execution_count": 135,
     "metadata": {},
     "output_type": "execute_result"
    }
   ],
   "source": [
    "AR_detector.sensitivity"
   ]
  },
  {
   "cell_type": "code",
   "execution_count": 134,
   "metadata": {},
   "outputs": [
    {
     "data": {
      "text/plain": [
       "0.8136492990986458"
      ]
     },
     "execution_count": 134,
     "metadata": {},
     "output_type": "execute_result"
    }
   ],
   "source": [
    "AR_detector.specificity"
   ]
  },
  {
   "cell_type": "code",
   "execution_count": 136,
   "metadata": {},
   "outputs": [
    {
     "data": {
      "text/plain": [
       "(0.2701708652367167, 0.3080066092612979)"
      ]
     },
     "execution_count": 136,
     "metadata": {},
     "output_type": "execute_result"
    }
   ],
   "source": [
    "AR_detector.confidence_interval(AR_texts)"
   ]
  },
  {
   "cell_type": "code",
   "execution_count": 139,
   "metadata": {},
   "outputs": [
    {
     "data": {
      "text/plain": [
       "0.3074424381389128"
      ]
     },
     "execution_count": 139,
     "metadata": {},
     "output_type": "execute_result"
    }
   ],
   "source": [
    "1 - len([disamb for disamb in disambs if disamb[0] == 'HGNC:644'])/len(disambs)"
   ]
  },
  {
   "cell_type": "markdown",
   "metadata": {},
   "source": [
    "The confidence interval is very accurate here"
   ]
  }
 ],
 "metadata": {
  "kernelspec": {
   "display_name": "Python 3",
   "language": "python",
   "name": "python3"
  },
  "language_info": {
   "codemirror_mode": {
    "name": "ipython",
    "version": 3
   },
   "file_extension": ".py",
   "mimetype": "text/x-python",
   "name": "python",
   "nbconvert_exporter": "python",
   "pygments_lexer": "ipython3",
   "version": "3.7.5"
  }
 },
 "nbformat": 4,
 "nbformat_minor": 2
}
