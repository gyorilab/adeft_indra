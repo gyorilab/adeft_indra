{
 "cells": [
  {
   "cell_type": "code",
   "execution_count": 1,
   "metadata": {},
   "outputs": [
    {
     "name": "stderr",
     "output_type": "stream",
     "text": [
      "INFO: [2020-01-09 16:10:07] /Users/albertsteppi/adeft/adeft/recognize.py - OneShotRecognizer not available. AdeftLongformScorer has not been built successfully.\n"
     ]
    }
   ],
   "source": [
    "import pickle\n",
    "\n",
    "from indra.literature.adeft_tools import universal_extract_text\n",
    "\n",
    "from adeft.discover import AdeftMiner\n",
    "from adeft.gui import ground_with_gui\n",
    "from adeft.modeling.label import AdeftLabeler\n",
    "from adeft.disambiguate import load_disambiguator\n",
    "from adeft.modeling.classify import AdeftClassifier\n",
    "from adeft.modeling.find_anomalies import AdeftAnomalyDetector\n",
    "\n",
    "from adeft.modeling.find_anomalies import AdeftTfidfVectorizer"
   ]
  },
  {
   "cell_type": "code",
   "execution_count": 2,
   "metadata": {},
   "outputs": [],
   "source": [
    "agent_text = 'TF'"
   ]
  },
  {
   "cell_type": "code",
   "execution_count": 3,
   "metadata": {},
   "outputs": [],
   "source": [
    "with open(f'../data/content/{agent_text}_refs.pkl', 'rb') as f:\n",
    "    refs = pickle.load(f)\n",
    "with open(f'../data/content/{agent_text}_content.pkl', 'rb') as f:\n",
    "    content = pickle.load(f)\n",
    "with open(f'../data/entrez_content/{agent_text}_content.pkl', 'rb') as f:\n",
    "    entrez_content = pickle.load(f)"
   ]
  },
  {
   "cell_type": "code",
   "execution_count": 4,
   "metadata": {},
   "outputs": [],
   "source": [
    "disamb = load_disambiguator(agent_text)"
   ]
  },
  {
   "cell_type": "code",
   "execution_count": 5,
   "metadata": {},
   "outputs": [
    {
     "data": {
      "text/plain": [
       "{'TF': {'tissue factor': 'HGNC:3541',\n",
       "  'transferrin': 'HGNC:11740',\n",
       "  'tail flick': 'ungrounded',\n",
       "  'transmitted founder': 'ungrounded',\n",
       "  'theaflavin': 'CHEBI:CHEBI:136609',\n",
       "  'tolylfluanid': 'CHEBI:CHEBI:75182',\n",
       "  'thomsen friedenreich': 'ungrounded',\n",
       "  'time frequency': 'ungrounded',\n",
       "  'total flavonoids': 'ungrounded',\n",
       "  'ab': 'ungrounded',\n",
       "  'force': 'ungrounded',\n",
       "  'tibiofemoral': 'ungrounded',\n",
       "  'fat': 'ungrounded',\n",
       "  'telephone filtered': 'ungrounded',\n",
       "  'follicular': 'ungrounded',\n",
       "  'f3': 'ungrounded',\n",
       "  'serotransferrin': 'HGNC:11740'}}"
      ]
     },
     "execution_count": 5,
     "metadata": {},
     "output_type": "execute_result"
    }
   ],
   "source": [
    "disamb.grounding_dict"
   ]
  },
  {
   "cell_type": "code",
   "execution_count": 6,
   "metadata": {},
   "outputs": [],
   "source": [
    "texts = [universal_extract_text(text, contains=[agent_text]) for text in content.values()\n",
    "         if text]"
   ]
  },
  {
   "cell_type": "code",
   "execution_count": 7,
   "metadata": {},
   "outputs": [
    {
     "data": {
      "text/plain": [
       "5039"
      ]
     },
     "execution_count": 7,
     "metadata": {},
     "output_type": "execute_result"
    }
   ],
   "source": [
    "len(texts)"
   ]
  },
  {
   "cell_type": "code",
   "execution_count": 8,
   "metadata": {},
   "outputs": [],
   "source": [
    "entrez_texts = [universal_extract_text(text) for text in entrez_content if text]"
   ]
  },
  {
   "cell_type": "code",
   "execution_count": 9,
   "metadata": {},
   "outputs": [
    {
     "data": {
      "text/plain": [
       "340"
      ]
     },
     "execution_count": 9,
     "metadata": {},
     "output_type": "execute_result"
    }
   ],
   "source": [
    "len(entrez_texts)"
   ]
  },
  {
   "cell_type": "code",
   "execution_count": 10,
   "metadata": {},
   "outputs": [],
   "source": [
    "disambs = disamb.disambiguate(texts)"
   ]
  },
  {
   "cell_type": "code",
   "execution_count": 11,
   "metadata": {},
   "outputs": [
    {
     "name": "stdout",
     "output_type": "stream",
     "text": [
      "Disambiguation model for TF\n",
      "\n",
      "Produces the disambiguations:\n",
      "\tF3*\tHGNC:3541\n",
      "\tTF*\tHGNC:11740\n",
      "\tTheaflavin*\tCHEBI:CHEBI:136609\n",
      "\tToylfluanid*\tCHEBI:CHEBI:75182\n",
      "\n",
      "Model statistics are not available.\n"
     ]
    }
   ],
   "source": [
    "print(disamb.info())"
   ]
  },
  {
   "cell_type": "code",
   "execution_count": 12,
   "metadata": {},
   "outputs": [],
   "source": [
    "anomalous_texts = [text for text, disamb in zip(texts, disambs) if\n",
    "                   disamb[0] != 'HGNC:11740' and set(disamb[2].values()) == set([0.0, 1.0])]"
   ]
  },
  {
   "cell_type": "code",
   "execution_count": 13,
   "metadata": {},
   "outputs": [
    {
     "data": {
      "text/plain": [
       "2328"
      ]
     },
     "execution_count": 13,
     "metadata": {},
     "output_type": "execute_result"
    }
   ],
   "source": [
    "len(anomalous_texts)"
   ]
  },
  {
   "cell_type": "code",
   "execution_count": 14,
   "metadata": {},
   "outputs": [],
   "source": [
    "detector = AdeftAnomalyDetector('../results/pubmed_dictionary.pkl', blacklist=['TF'])"
   ]
  },
  {
   "cell_type": "code",
   "execution_count": 15,
   "metadata": {},
   "outputs": [],
   "source": [
    "tfidf = AdeftTfidfVectorizer('../results/pubmed_dictionary.pkl', max_features=5000)"
   ]
  },
  {
   "cell_type": "code",
   "execution_count": 16,
   "metadata": {},
   "outputs": [
    {
     "name": "stderr",
     "output_type": "stream",
     "text": [
      "INFO: [2020-01-09 16:32:32] gensim.utils - loading Dictionary object from ../results/pubmed_dictionary.pkl\n",
      "INFO: [2020-01-09 16:32:33] gensim.utils - loaded ../results/pubmed_dictionary.pkl\n",
      "INFO: [2020-01-09 16:32:33] gensim.corpora.dictionary - adding document #0 to Dictionary(0 unique tokens: [])\n",
      "INFO: [2020-01-09 16:32:33] gensim.corpora.dictionary - built Dictionary(11386 unique tokens: ['000', '005', '05', '10', '100']...) from 50 documents (total 163082 corpus positions)\n",
      "INFO: [2020-01-09 16:32:33] gensim.corpora.dictionary - discarding 5840 tokens: [('murphy', 1), ('mut', 1), ('mutageneis', 1), ('mutagenic', 1), ('myszka', 1), ('nangiana', 1), ('nicholls', 1), ('nii', 1), ('noncovalently', 1), ('oriented', 1)]...\n",
      "INFO: [2020-01-09 16:32:33] gensim.corpora.dictionary - keeping 5000 tokens which were in no less than 1 and no more than 50 (=100.0%) documents\n",
      "INFO: [2020-01-09 16:32:33] gensim.corpora.dictionary - resulting dictionary: Dictionary(5000 unique tokens: ['000', '005', '05', '100', '110']...)\n"
     ]
    },
    {
     "data": {
      "text/plain": [
       "AdeftTfidfVectorizer(dict_path='../results/pubmed_dictionary.pkl',\n",
       "                     max_features=5000, stop_words=[])"
      ]
     },
     "execution_count": 16,
     "metadata": {},
     "output_type": "execute_result"
    }
   ],
   "source": [
    "tfidf.fit(entrez_texts[0:50])"
   ]
  },
  {
   "cell_type": "code",
   "execution_count": 17,
   "metadata": {
    "scrolled": true
   },
   "outputs": [],
   "source": [
    "X = tfidf.transform(entrez_texts[51:])"
   ]
  },
  {
   "cell_type": "code",
   "execution_count": 18,
   "metadata": {
    "scrolled": true
   },
   "outputs": [],
   "source": [
    "examples = [['genetics', 'women', 'mesenchymal'], ['stem', 'tfs', 'genetics']]"
   ]
  },
  {
   "cell_type": "code",
   "execution_count": 19,
   "metadata": {},
   "outputs": [],
   "source": [
    "small = [tfidf.dictionary.doc2bow(doc) for doc in examples]"
   ]
  },
  {
   "cell_type": "code",
   "execution_count": 20,
   "metadata": {},
   "outputs": [],
   "source": [
    "corpus = tfidf.model[small]"
   ]
  },
  {
   "cell_type": "code",
   "execution_count": 21,
   "metadata": {},
   "outputs": [
    {
     "data": {
      "text/plain": [
       "False"
      ]
     },
     "execution_count": 21,
     "metadata": {},
     "output_type": "execute_result"
    }
   ],
   "source": [
    "corpus.metadata"
   ]
  },
  {
   "cell_type": "code",
   "execution_count": 22,
   "metadata": {},
   "outputs": [],
   "source": [
    "from gensim.matutils import corpus2csc"
   ]
  },
  {
   "cell_type": "code",
   "execution_count": 24,
   "metadata": {},
   "outputs": [],
   "source": [
    "X = corpus2csc(corpus, num_terms=5000)"
   ]
  },
  {
   "cell_type": "code",
   "execution_count": 25,
   "metadata": {},
   "outputs": [
    {
     "data": {
      "text/plain": [
       "(5000, 2)"
      ]
     },
     "execution_count": 25,
     "metadata": {},
     "output_type": "execute_result"
    }
   ],
   "source": [
    "X.shape"
   ]
  },
  {
   "cell_type": "code",
   "execution_count": 26,
   "metadata": {},
   "outputs": [
    {
     "data": {
      "text/plain": [
       "[[(546, 1), (2337, 1)], [(546, 1), (993, 1), (4794, 1)]]"
      ]
     },
     "execution_count": 26,
     "metadata": {},
     "output_type": "execute_result"
    }
   ],
   "source": [
    "corpus.corpus"
   ]
  },
  {
   "cell_type": "code",
   "execution_count": 67,
   "metadata": {},
   "outputs": [],
   "source": [
    "param_grid = {'nu': [0.05, 0.1, 0.15, 0.2], 'max_features': [100]}"
   ]
  },
  {
   "cell_type": "code",
   "execution_count": 68,
   "metadata": {
    "scrolled": true
   },
   "outputs": [
    {
     "name": "stderr",
     "output_type": "stream",
     "text": [
      "INFO: [2020-01-09 18:09:12] /Users/albertsteppi/adeft/adeft/modeling/find_anomalies.py - Best score of 0.34509293569289845 found for parameter values:\n",
      "{'nu': 0.2, 'max_features': 100}\n",
      "INFO: [2020-01-09 18:09:12] gensim.utils - loading Dictionary object from ../results/pubmed_dictionary.pkl\n",
      "INFO: [2020-01-09 18:09:12] gensim.utils - loaded ../results/pubmed_dictionary.pkl\n",
      "INFO: [2020-01-09 18:09:12] gensim.corpora.dictionary - adding document #0 to Dictionary(0 unique tokens: [])\n",
      "INFO: [2020-01-09 18:09:13] gensim.corpora.dictionary - built Dictionary(13800 unique tokens: ['000', '005', '05', '10', '100']...) from 340 documents (total 223107 corpus positions)\n",
      "INFO: [2020-01-09 18:09:13] gensim.corpora.dictionary - discarding 12829 tokens: [('000', 26), ('005', 10), ('110', 5), ('120', 9), ('121', 5), ('123', 4), ('125', 9), ('126', 2), ('150', 11), ('15056', 1)]...\n",
      "INFO: [2020-01-09 18:09:13] gensim.corpora.dictionary - keeping 100 tokens which were in no less than 1 and no more than 340 (=100.0%) documents\n",
      "INFO: [2020-01-09 18:09:13] gensim.corpora.dictionary - resulting dictionary: Dictionary(100 unique tokens: ['05', '100', 'acid', 'affinity', 'bind']...)\n"
     ]
    }
   ],
   "source": [
    "detector.cv(entrez_texts, anomalous_texts, param_grid, n_jobs=8)"
   ]
  },
  {
   "cell_type": "code",
   "execution_count": 69,
   "metadata": {},
   "outputs": [
    {
     "data": {
      "text/plain": [
       "0.34509293569289845"
      ]
     },
     "execution_count": 69,
     "metadata": {},
     "output_type": "execute_result"
    }
   ],
   "source": [
    "detector.best_score"
   ]
  },
  {
   "cell_type": "code",
   "execution_count": 70,
   "metadata": {},
   "outputs": [
    {
     "data": {
      "text/plain": [
       "{'nu': 0.2, 'max_features': 100}"
      ]
     },
     "execution_count": 70,
     "metadata": {},
     "output_type": "execute_result"
    }
   ],
   "source": [
    "detector.best_params"
   ]
  },
  {
   "cell_type": "code",
   "execution_count": 71,
   "metadata": {},
   "outputs": [
    {
     "data": {
      "text/plain": [
       "0.6215635239281924"
      ]
     },
     "execution_count": 71,
     "metadata": {},
     "output_type": "execute_result"
    }
   ],
   "source": [
    "detector.sensitivity"
   ]
  },
  {
   "cell_type": "code",
   "execution_count": 72,
   "metadata": {},
   "outputs": [
    {
     "data": {
      "text/plain": [
       "0.723529411764706"
      ]
     },
     "execution_count": 72,
     "metadata": {},
     "output_type": "execute_result"
    }
   ],
   "source": [
    "detector.specificity"
   ]
  },
  {
   "cell_type": "code",
   "execution_count": 42,
   "metadata": {
    "scrolled": true
   },
   "outputs": [
    {
     "data": {
      "text/plain": [
       "array([   1,   10,   12,   14,   18,   20,   22,   27,   33,   35,   45,\n",
       "         47,   49,   50,   68,   87,   93,   95,   96,   99,  103,  106,\n",
       "        123,  125,  130,  135,  140,  148,  150,  151,  152,  157,  161,\n",
       "        174,  184,  185,  189,  190,  192,  204,  218,  220,  227,  233,\n",
       "        234,  238,  239,  240,  241,  242,  247,  252,  253,  256,  261,\n",
       "        275,  277,  281,  285,  291,  306,  307,  312,  314,  321,  329,\n",
       "        336,  338,  343,  347,  348,  355,  356,  357,  366,  375,  377,\n",
       "        379,  383,  390,  391,  392,  400,  402,  405,  413,  434,  435,\n",
       "        438,  442,  463,  470,  471,  476,  481,  501,  506,  514,  519,\n",
       "        520,  521,  524,  527,  531,  537,  538,  540,  542,  552,  555,\n",
       "        561,  574,  577,  587,  588,  589,  596,  597,  602,  604,  606,\n",
       "        610,  622,  631,  634,  638,  644,  646,  652,  658,  661,  662,\n",
       "        665,  679,  680,  686,  697,  700,  702,  704,  711,  712,  714,\n",
       "        719,  731,  735,  753,  754,  764,  768,  769,  770,  772,  780,\n",
       "        782,  788,  789,  792,  797,  805,  816,  820,  825,  830,  840,\n",
       "        843,  844,  847,  848,  854,  856,  865,  871,  874,  876,  889,\n",
       "        900,  913,  917,  922,  930,  938,  942,  949,  954,  960,  965,\n",
       "        967,  970,  975,  977,  988,  989,  996, 1002, 1004, 1008, 1010,\n",
       "       1012, 1013, 1014, 1016, 1017, 1020, 1021, 1022, 1025, 1041, 1042,\n",
       "       1044, 1048, 1050, 1052, 1057, 1058, 1060, 1062, 1069, 1070, 1075,\n",
       "       1078, 1085, 1087, 1095, 1115, 1116, 1120, 1131, 1139, 1141, 1146,\n",
       "       1157, 1159, 1162, 1165, 1183, 1197, 1198, 1201, 1206, 1207, 1214,\n",
       "       1222, 1238, 1241, 1244, 1245, 1246, 1249, 1253, 1254, 1259, 1260,\n",
       "       1270, 1285, 1287, 1290, 1291, 1296, 1300, 1302, 1306, 1307, 1308,\n",
       "       1319, 1323, 1325, 1337, 1341, 1344, 1353, 1358, 1365, 1367, 1371,\n",
       "       1376, 1378, 1383, 1385, 1388, 1392, 1395, 1406, 1420, 1425, 1432,\n",
       "       1445, 1460, 1467, 1479, 1481, 1484, 1485, 1487, 1494, 1503, 1508,\n",
       "       1514, 1535, 1536, 1539, 1546, 1548, 1549, 1558, 1563, 1565, 1567,\n",
       "       1568, 1570, 1573, 1574, 1577, 1582, 1595, 1597, 1604, 1609, 1610,\n",
       "       1621, 1630, 1633, 1644, 1651, 1652, 1653, 1655, 1658, 1667, 1668,\n",
       "       1674, 1679, 1682, 1683, 1684, 1685, 1687, 1702, 1703, 1707, 1722,\n",
       "       1726, 1737, 1748, 1750, 1755, 1756, 1763, 1768, 1777, 1779, 1780,\n",
       "       1802, 1803, 1810, 1813, 1820, 1834, 1837, 1845, 1849, 1857, 1858,\n",
       "       1859, 1862, 1871, 1879, 1880, 1883, 1887, 1889, 1894, 1895, 1905,\n",
       "       1906, 1907, 1909, 1913, 1916, 1918, 1919, 1921, 1922, 1935, 1950,\n",
       "       1953, 1962, 1963, 1969, 1973, 1975, 1977, 1983, 1985, 1986, 1987,\n",
       "       1989, 1990, 1991, 1992, 1993, 1995, 1999, 2009, 2010, 2013, 2015,\n",
       "       2017, 2020, 2037, 2038, 2042, 2046, 2064, 2074, 2079, 2080, 2083,\n",
       "       2087, 2091, 2098, 2099, 2103, 2105, 2109, 2122, 2123, 2129, 2144,\n",
       "       2154, 2159, 2163, 2164, 2168, 2170, 2173, 2174, 2178, 2180, 2182,\n",
       "       2187, 2190, 2194, 2196, 2198, 2199, 2203, 2212, 2219, 2221, 2222,\n",
       "       2227, 2235, 2236, 2237, 2238, 2243, 2257, 2260, 2269, 2277, 2288,\n",
       "       2289, 2299, 2301, 2304, 2305, 2310, 2318, 2326, 2330, 2333, 2334,\n",
       "       2346, 2356, 2365, 2380, 2386, 2392, 2394, 2406, 2409, 2418, 2422,\n",
       "       2427, 2434, 2440, 2441, 2449, 2466, 2481, 2482, 2483, 2488, 2490,\n",
       "       2495, 2500, 2503, 2506, 2510, 2517, 2520, 2524, 2532, 2535, 2544,\n",
       "       2550, 2553, 2554, 2559, 2563, 2567, 2571, 2574, 2577, 2579, 2580,\n",
       "       2585, 2601, 2602, 2603, 2626, 2634, 2635, 2640, 2641, 2645, 2646,\n",
       "       2650, 2652, 2655, 2659, 2664, 2666])"
      ]
     },
     "execution_count": 42,
     "metadata": {},
     "output_type": "execute_result"
    }
   ],
   "source": [
    "splits[0][1]"
   ]
  },
  {
   "cell_type": "code",
   "execution_count": 73,
   "metadata": {},
   "outputs": [
    {
     "data": {
      "text/plain": [
       "[('transferrin', 4.755108162819198),\n",
       " ('tissue', 3.9647423187622897),\n",
       " ('iron', 3.689060083685279),\n",
       " ('identify', 2.8762116627001517),\n",
       " ('genetic', 2.862615150752703),\n",
       " ('plasma', 2.8555030288402605),\n",
       " ('interaction', 2.801698630579818),\n",
       " ('large', 2.7606277197476023),\n",
       " ('sequence', 2.7592925526559453),\n",
       " ('hfe', 2.64089570386582),\n",
       " ('interactions', 2.5746517086445797),\n",
       " ('identification', 2.5714542159144895),\n",
       " ('membrane', 2.56467585342454),\n",
       " ('acid', 2.454503766256504),\n",
       " ('polymorphisms', 2.370574475273075),\n",
       " ('fe', 2.3532828938751718),\n",
       " ('complex', 2.3523554253915955),\n",
       " ('spectrometry', 2.3479916898394593),\n",
       " ('serum', 2.2443862665107215),\n",
       " ('polymorphism', 2.1421655946301597),\n",
       " ('chain', 2.055696904055092),\n",
       " ('method', 2.053223986935547),\n",
       " ('individuals', 1.9728985653714828),\n",
       " ('risk', 1.9695299717343948),\n",
       " ('blood', 1.9275612260720865),\n",
       " ('new', 1.8290040446282352),\n",
       " ('investigated', 1.7977176411438438),\n",
       " ('healthy', 1.7684207409418318),\n",
       " ('mass', 1.7470756087062784),\n",
       " ('multiple', 1.7440071962747856),\n",
       " ('pathway', 1.7433174826119813),\n",
       " ('associations', 1.6313852214076725),\n",
       " ('mechanisms', 1.5949338201759646),\n",
       " ('cellular', 1.5916092693802715),\n",
       " ('changes', 1.585034977552989),\n",
       " ('mrna', 1.5673110977937),\n",
       " ('surface', 1.5344438062554469),\n",
       " ('markers', 1.5325249480778242),\n",
       " ('affinity', 1.4875866828740079),\n",
       " ('distribution', 1.4821919364687879),\n",
       " ('transport', 1.477972914739947),\n",
       " ('sites', 1.4461571471894614),\n",
       " ('controls', 1.4251311848802157),\n",
       " ('age', 1.3415926860514313),\n",
       " ('report', 1.3085041570573142),\n",
       " ('variants', 1.2879340385378315),\n",
       " ('major', 1.2590092830745827),\n",
       " ('subjects', 1.2465435639634108),\n",
       " ('allele', 1.2401355191146717),\n",
       " ('metabolism', 1.2377147662053818),\n",
       " ('analyses', 1.2347110502031042),\n",
       " ('primary', 1.2274022979268602),\n",
       " ('groups', 1.2229697094803762),\n",
       " ('bound', 1.1709941170217975),\n",
       " ('functional', 1.1243601296030825),\n",
       " ('model', 1.0936692383708222),\n",
       " ('confirmed', 1.0803318677017297),\n",
       " ('work', 1.0215094481862332),\n",
       " ('conditions', 0.9958890641908695),\n",
       " ('differences', 0.9763092913308887),\n",
       " ('sample', 0.9478646319023961),\n",
       " ('indicate', 0.9188964934326247),\n",
       " ('rate', 0.8747232247379696),\n",
       " ('site', 0.8410238490613701),\n",
       " ('population', 0.8287336432719316),\n",
       " ('examined', 0.801571150784548),\n",
       " ('05', 0.7788361978028345),\n",
       " ('values', 0.7715363169731422),\n",
       " ('nucleotide', 0.7337877867271678),\n",
       " ('use', 0.7311378203106706),\n",
       " ('structure', 0.713436255418218),\n",
       " ('change', 0.6832230376741952),\n",
       " ('process', 0.6245856471312857),\n",
       " ('studied', 0.6115662446994053),\n",
       " ('status', 0.6044205603413894),\n",
       " ('concentration', 0.5701885941954774),\n",
       " ('ratio', 0.5631600432184323),\n",
       " ('form', 0.5579549037639837),\n",
       " ('measured', 0.5471382156570782),\n",
       " ('lower', 0.5332854699065004),\n",
       " ('independent', 0.4793577556939149),\n",
       " ('100', 0.4756330910840437),\n",
       " ('previous', 0.4671340645015583),\n",
       " ('highly', 0.46002433563779666),\n",
       " ('common', 0.4487056916268513),\n",
       " ('concentrations', 0.446901062280021),\n",
       " ('release', 0.4399620396526137),\n",
       " ('determine', 0.43493121505857135),\n",
       " ('uptake', 0.413760029560384),\n",
       " ('suggesting', 0.3917230980033686),\n",
       " ('hemochromatosis', 0.38151360287008007),\n",
       " ('free', 0.3594605854894463),\n",
       " ('consistent', 0.35325010693080244),\n",
       " ('cause', 0.28424192555239086),\n",
       " ('investigate', 0.23683705215419476),\n",
       " ('decreased', 0.2104970696753729),\n",
       " ('ph', 0.15907571504392437),\n",
       " ('mutations', 0.1499909850113458),\n",
       " ('bind', 0.1431324868410529),\n",
       " ('experiments', 0.04531807989216055)]"
      ]
     },
     "execution_count": 73,
     "metadata": {},
     "output_type": "execute_result"
    }
   ],
   "source": [
    "detector.feature_importances()"
   ]
  },
  {
   "cell_type": "code",
   "execution_count": 36,
   "metadata": {},
   "outputs": [],
   "source": [
    "preds = detector.predict(texts)"
   ]
  },
  {
   "cell_type": "code",
   "execution_count": 23,
   "metadata": {},
   "outputs": [
    {
     "data": {
      "text/plain": [
       "5039"
      ]
     },
     "execution_count": 23,
     "metadata": {},
     "output_type": "execute_result"
    }
   ],
   "source": [
    "len(preds)"
   ]
  },
  {
   "cell_type": "code",
   "execution_count": 43,
   "metadata": {},
   "outputs": [
    {
     "data": {
      "text/plain": [
       "0.6821431538142047"
      ]
     },
     "execution_count": 43,
     "metadata": {},
     "output_type": "execute_result"
    }
   ],
   "source": [
    "detector.sensitivity"
   ]
  },
  {
   "cell_type": "code",
   "execution_count": 44,
   "metadata": {},
   "outputs": [
    {
     "data": {
      "text/plain": [
       "0.7"
      ]
     },
     "execution_count": 44,
     "metadata": {},
     "output_type": "execute_result"
    }
   ],
   "source": [
    "detector.specificity"
   ]
  },
  {
   "cell_type": "code",
   "execution_count": 26,
   "metadata": {},
   "outputs": [
    {
     "data": {
      "text/plain": [
       "(0.9442772863393372, 1)"
      ]
     },
     "execution_count": 26,
     "metadata": {},
     "output_type": "execute_result"
    }
   ],
   "source": [
    "detector.confidence_interval(texts)"
   ]
  },
  {
   "cell_type": "code",
   "execution_count": 27,
   "metadata": {},
   "outputs": [
    {
     "data": {
      "text/plain": [
       "0.951379241913078"
      ]
     },
     "execution_count": 27,
     "metadata": {},
     "output_type": "execute_result"
    }
   ],
   "source": [
    "1 - len([disamb for disamb in disambs if disamb[0] == 'HGNC:11740'])/len(disambs)"
   ]
  },
  {
   "cell_type": "markdown",
   "metadata": {},
   "source": [
    "The confidence interval is not accurate here"
   ]
  },
  {
   "cell_type": "code",
   "execution_count": 45,
   "metadata": {},
   "outputs": [
    {
     "data": {
      "text/plain": [
       "{'nu': 0.005, 'max_features': 1000}"
      ]
     },
     "execution_count": 45,
     "metadata": {},
     "output_type": "execute_result"
    }
   ],
   "source": [
    "detector.best_params"
   ]
  },
  {
   "cell_type": "code",
   "execution_count": 28,
   "metadata": {},
   "outputs": [
    {
     "data": {
      "text/plain": [
       "2396"
      ]
     },
     "execution_count": 28,
     "metadata": {},
     "output_type": "execute_result"
    }
   ],
   "source": [
    "2328 + 68"
   ]
  },
  {
   "cell_type": "code",
   "execution_count": 29,
   "metadata": {},
   "outputs": [
    {
     "data": {
      "text/plain": [
       "465.6"
      ]
     },
     "execution_count": 29,
     "metadata": {},
     "output_type": "execute_result"
    }
   ],
   "source": [
    "2328/5"
   ]
  },
  {
   "cell_type": "code",
   "execution_count": 30,
   "metadata": {},
   "outputs": [
    {
     "data": {
      "text/plain": [
       "2668"
      ]
     },
     "execution_count": 30,
     "metadata": {},
     "output_type": "execute_result"
    }
   ],
   "source": [
    "2328 + 340"
   ]
  },
  {
   "cell_type": "code",
   "execution_count": 31,
   "metadata": {},
   "outputs": [
    {
     "data": {
      "text/plain": [
       "533.6"
      ]
     },
     "execution_count": 31,
     "metadata": {},
     "output_type": "execute_result"
    }
   ],
   "source": [
    "2668/5"
   ]
  },
  {
   "cell_type": "code",
   "execution_count": null,
   "metadata": {},
   "outputs": [],
   "source": []
  }
 ],
 "metadata": {
  "kernelspec": {
   "display_name": "Python 3",
   "language": "python",
   "name": "python3"
  },
  "language_info": {
   "codemirror_mode": {
    "name": "ipython",
    "version": 3
   },
   "file_extension": ".py",
   "mimetype": "text/x-python",
   "name": "python",
   "nbconvert_exporter": "python",
   "pygments_lexer": "ipython3",
   "version": "3.7.5"
  }
 },
 "nbformat": 4,
 "nbformat_minor": 2
}
