{
 "cells": [
  {
   "cell_type": "code",
   "execution_count": 50,
   "metadata": {},
   "outputs": [],
   "source": [
    "import pickle\n",
    "\n",
    "from indra.literature.adeft_tools import universal_extract_text\n",
    "\n",
    "from adeft.discover import AdeftMiner\n",
    "from adeft.gui import ground_with_gui\n",
    "from adeft.modeling.label import AdeftLabeler\n",
    "from adeft.disambiguate import load_disambiguator\n",
    "from adeft.modeling.classify import AdeftClassifier\n",
    "from adeft.modeling.find_anomalies import AdeftAnomalyDetector"
   ]
  },
  {
   "cell_type": "code",
   "execution_count": 55,
   "metadata": {},
   "outputs": [],
   "source": [
    "with open('data/content/TG_refs.pkl', 'rb') as f:\n",
    "    TG_refs = pickle.load(f)\n",
    "with open('data/content/TG_content.pkl', 'rb') as f:\n",
    "    TG_content = pickle.load(f)\n",
    "with open('data/entrez_content/TG_content.pkl', 'rb') as f:\n",
    "    TG_entrez = pickle.load(f)"
   ]
  },
  {
   "cell_type": "code",
   "execution_count": 56,
   "metadata": {},
   "outputs": [],
   "source": [
    "TG_disamb = load_disambiguator('TG')"
   ]
  },
  {
   "cell_type": "code",
   "execution_count": 57,
   "metadata": {},
   "outputs": [
    {
     "data": {
      "text/plain": [
       "{'TG': {'triglyceride': 'CHEBI:CHEBI:17855',\n",
       "  'thapsigargin': 'CHEBI:CHEBI:9516',\n",
       "  'triacylglycerol': 'CHEBI:CHEBI:17855',\n",
       "  'transgenic': 'ungrounded',\n",
       "  'trigeminal ganglion': 'ungrounded',\n",
       "  'trigeminal ganglia': 'ungrounded',\n",
       "  'thyroglobulin': 'HGNC:11764',\n",
       "  'thrombin generation': 'ungrounded',\n",
       "  'the': 'ungrounded',\n",
       "  'transglutaminase': 'ungrounded',\n",
       "  'log': 'ungrounded',\n",
       "  'transgenic mice': 'ungrounded',\n",
       "  'of': 'ungrounded',\n",
       "  'group': 'ungrounded',\n",
       "  'thioguanine': 'ungrounded',\n",
       "  'and': 'ungrounded',\n",
       "  'thioglycollate': 'ungrounded',\n",
       "  'triacylglyceride': 'CHEBI:CHEBI:17855',\n",
       "  'trophoblast giant': 'ungrounded',\n",
       "  'd': 'ungrounded',\n",
       "  'transplant glomerulopathy': 'ungrounded',\n",
       "  'ln': 'ungrounded',\n",
       "  'trigeminal': 'ungrounded',\n",
       "  'for': 'ungrounded',\n",
       "  'high risk': 'ungrounded',\n",
       "  'with': 'ungrounded',\n",
       "  'target gene': 'ungrounded',\n",
       "  'to': 'ungrounded',\n",
       "  'or': 'ungrounded',\n",
       "  'transglycosylation': 'ungrounded'}}"
      ]
     },
     "execution_count": 57,
     "metadata": {},
     "output_type": "execute_result"
    }
   ],
   "source": [
    "TG_disamb.grounding_dict"
   ]
  },
  {
   "cell_type": "code",
   "execution_count": 81,
   "metadata": {},
   "outputs": [],
   "source": [
    "TG_texts = [universal_extract_text(text, contains=['TG']) for text in TG_content.values()\n",
    "            if text]"
   ]
  },
  {
   "cell_type": "code",
   "execution_count": 82,
   "metadata": {},
   "outputs": [
    {
     "data": {
      "text/plain": [
       "7820"
      ]
     },
     "execution_count": 82,
     "metadata": {},
     "output_type": "execute_result"
    }
   ],
   "source": [
    "len(TG_texts)"
   ]
  },
  {
   "cell_type": "code",
   "execution_count": 60,
   "metadata": {},
   "outputs": [],
   "source": [
    "TG_entrez_texts = [universal_extract_text(text) for text in TG_entrez if text]"
   ]
  },
  {
   "cell_type": "code",
   "execution_count": 61,
   "metadata": {},
   "outputs": [
    {
     "data": {
      "text/plain": [
       "176"
      ]
     },
     "execution_count": 61,
     "metadata": {},
     "output_type": "execute_result"
    }
   ],
   "source": [
    "len(TG_entrez_texts)"
   ]
  },
  {
   "cell_type": "code",
   "execution_count": 83,
   "metadata": {},
   "outputs": [],
   "source": [
    "disambs = TG_disamb.disambiguate(TG_texts)"
   ]
  },
  {
   "cell_type": "code",
   "execution_count": 85,
   "metadata": {},
   "outputs": [
    {
     "data": {
      "text/plain": [
       "('ungrounded',\n",
       " None,\n",
       " {'CHEBI:CHEBI:9516': 0.0,\n",
       "  'CHEBI:CHEBI:17855': 0.0,\n",
       "  'HGNC:11764': 0.0,\n",
       "  'ungrounded': 1.0})"
      ]
     },
     "execution_count": 85,
     "metadata": {},
     "output_type": "execute_result"
    }
   ],
   "source": [
    "disambs[2]"
   ]
  },
  {
   "cell_type": "code",
   "execution_count": 88,
   "metadata": {},
   "outputs": [],
   "source": [
    "anomalous_texts = [text for text, disamb in zip(TG_texts, disambs) if\n",
    "                   not disamb[0].startswith('HGNC') and set(disamb[2].values()) == set([0.0, 1.0])]"
   ]
  },
  {
   "cell_type": "code",
   "execution_count": 89,
   "metadata": {},
   "outputs": [
    {
     "data": {
      "text/plain": [
       "5837"
      ]
     },
     "execution_count": 89,
     "metadata": {},
     "output_type": "execute_result"
    }
   ],
   "source": [
    "len(anomalous_texts)"
   ]
  },
  {
   "cell_type": "code",
   "execution_count": 90,
   "metadata": {},
   "outputs": [],
   "source": [
    "a = [disamb for disamb in disambs if disamb[0].startswith('HGNC')]"
   ]
  },
  {
   "cell_type": "code",
   "execution_count": 91,
   "metadata": {},
   "outputs": [
    {
     "data": {
      "text/plain": [
       "109"
      ]
     },
     "execution_count": 91,
     "metadata": {},
     "output_type": "execute_result"
    }
   ],
   "source": [
    "len(a)"
   ]
  },
  {
   "cell_type": "code",
   "execution_count": 92,
   "metadata": {},
   "outputs": [],
   "source": [
    "TG_detector = AdeftAnomalyDetector(blacklist=['TG'])"
   ]
  },
  {
   "cell_type": "code",
   "execution_count": 93,
   "metadata": {},
   "outputs": [],
   "source": [
    "param_grid = {'nu': [0.2, 0.4, 0.6], 'max_features': [10, 50, 100],\n",
    "              'ngram_range': [(1, 1), (1, 2)]}"
   ]
  },
  {
   "cell_type": "code",
   "execution_count": 94,
   "metadata": {},
   "outputs": [
    {
     "name": "stderr",
     "output_type": "stream",
     "text": [
      "INFO: [2019-11-26 13:30:48] /Users/albertsteppi/adeft/adeft/modeling/find_anomalies.py - Best score of 0.8400477446484829 found for parameter values:\n",
      "{'nu': 0.2, 'max_features': 10, 'ngram_range': (1, 1)}\n"
     ]
    }
   ],
   "source": [
    "TG_detector.cv(TG_entrez_texts, anomalous_texts, param_grid, n_jobs=8)"
   ]
  },
  {
   "cell_type": "code",
   "execution_count": 96,
   "metadata": {},
   "outputs": [
    {
     "data": {
      "text/plain": [
       "[('thyroglobulin', 9.140296109158923),\n",
       " ('gene', 7.285102631462286),\n",
       " ('thyroid', 6.859173126477999),\n",
       " ('patients', 6.4009891282238724),\n",
       " ('disease', 4.8707526750566705),\n",
       " ('10', 4.077762563429923),\n",
       " ('analysis', 3.926549661139732),\n",
       " ('study', 3.7133358400852265),\n",
       " ('snps', 3.6538125862103623),\n",
       " ('association', 3.5264001449168236)]"
      ]
     },
     "execution_count": 96,
     "metadata": {},
     "output_type": "execute_result"
    }
   ],
   "source": [
    "TG_detector.feature_importances()"
   ]
  },
  {
   "cell_type": "code",
   "execution_count": 98,
   "metadata": {},
   "outputs": [],
   "source": [
    "preds = TG_detector.predict(TG_texts)"
   ]
  },
  {
   "cell_type": "code",
   "execution_count": 101,
   "metadata": {},
   "outputs": [
    {
     "data": {
      "text/plain": [
       "7344.0"
      ]
     },
     "execution_count": 101,
     "metadata": {},
     "output_type": "execute_result"
    }
   ],
   "source": [
    "sum(preds)"
   ]
  },
  {
   "cell_type": "code",
   "execution_count": 102,
   "metadata": {},
   "outputs": [
    {
     "data": {
      "text/plain": [
       "0.9218770175253255"
      ]
     },
     "execution_count": 102,
     "metadata": {},
     "output_type": "execute_result"
    }
   ],
   "source": [
    "TG_detector.sensitivity"
   ]
  },
  {
   "cell_type": "code",
   "execution_count": 103,
   "metadata": {},
   "outputs": [
    {
     "data": {
      "text/plain": [
       "0.9181707271231574"
      ]
     },
     "execution_count": 103,
     "metadata": {},
     "output_type": "execute_result"
    }
   ],
   "source": [
    "TG_detector.specificity"
   ]
  },
  {
   "cell_type": "markdown",
   "metadata": {},
   "source": [
    "The anomaly detector did a great job of identifying how problematic TG is"
   ]
  }
 ],
 "metadata": {
  "kernelspec": {
   "display_name": "Python 3",
   "language": "python",
   "name": "python3"
  },
  "language_info": {
   "codemirror_mode": {
    "name": "ipython",
    "version": 3
   },
   "file_extension": ".py",
   "mimetype": "text/x-python",
   "name": "python",
   "nbconvert_exporter": "python",
   "pygments_lexer": "ipython3",
   "version": "3.7.2"
  }
 },
 "nbformat": 4,
 "nbformat_minor": 2
}
