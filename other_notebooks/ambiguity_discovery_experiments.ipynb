{
 "cells": [
  {
   "cell_type": "code",
   "execution_count": 1,
   "metadata": {},
   "outputs": [
    {
     "name": "stderr",
     "output_type": "stream",
     "text": [
      "/adeft/.virtualenvs/adeft_env/lib/python3.8/site-packages/pandas/compat/__init__.py:120: UserWarning: Could not import the lzma module. Your installed Python is incomplete. Attempting to use lzma compression will result in a RuntimeError.\n",
      "  warnings.warn(msg)\n"
     ]
    }
   ],
   "source": [
    "import re\n",
    "import json\n",
    "import pickle\n",
    "import pandas as pd\n",
    "from pprint import pprint\n",
    "from indra_db.util import get_db, get_ro, get_primary_db\n",
    "from indra_db.util.helpers import unpack\n",
    "from sqlalchemy import text"
   ]
  },
  {
   "cell_type": "code",
   "execution_count": 2,
   "metadata": {},
   "outputs": [],
   "source": [
    "db = get_db('primary')"
   ]
  },
  {
   "cell_type": "code",
   "execution_count": 3,
   "metadata": {},
   "outputs": [],
   "source": [
    "show_tables = \"\"\"SELECT *\n",
    "                 FROM\n",
    "                     pg_catalog.pg_tables\n",
    "                 WHERE\n",
    "                     schemaname != 'pg_catalog'\n",
    "                 AND schemaname != 'information_schema';\n",
    "              \"\"\""
   ]
  },
  {
   "cell_type": "code",
   "execution_count": 4,
   "metadata": {},
   "outputs": [],
   "source": [
    "res = db.session.execute(show_tables)"
   ]
  },
  {
   "cell_type": "code",
   "execution_count": 5,
   "metadata": {},
   "outputs": [
    {
     "data": {
      "text/plain": [
       "[('public', 'raw_muts', 'tester', None, True, False, True, False),\n",
       " ('public', 'rejected_statements', 'tester', None, True, False, True, False),\n",
       " ('public', 'reading_updates', 'tester', None, True, False, False, False),\n",
       " ('public', 'raw_agents', 'tester', None, True, False, True, False),\n",
       " ('public', 'raw_activity', 'tester', None, True, False, True, False),\n",
       " ('public', 'pa_statements', 'tester', None, True, False, True, False),\n",
       " ('public', 'pa_agents', 'tester', None, True, False, True, False),\n",
       " ('public', 'source_file', 'tester', None, True, False, False, False),\n",
       " ('public', 'raw_mods', 'tester', None, True, False, True, False),\n",
       " ('public', 'updates', 'tester', None, True, False, False, False),\n",
       " ('public', 'raw_unique_links', 'tester', None, True, False, True, False),\n",
       " ('public', 'preassembly_updates', 'tester', None, True, False, False, False),\n",
       " ('public', 'pa_mods', 'tester', None, True, False, True, False),\n",
       " ('public', 'pa_muts', 'tester', None, True, False, True, False),\n",
       " ('public', 'pa_statements_mid', 'tester', None, True, False, False, False),\n",
       " ('public', 'pa_activity', 'tester', None, True, False, True, False),\n",
       " ('public', 'doi_lookup', 'tester', None, True, False, False, False),\n",
       " ('public', 'pa_support_links', 'tester', None, True, False, True, False),\n",
       " ('public', 'discarded_statements', 'tester', None, True, False, True, False),\n",
       " ('public', 'raw_statements', 'tester', None, True, False, True, False),\n",
       " ('public', 'auth', 'tester', None, True, False, False, False),\n",
       " ('public', 'curation', 'tester', None, True, False, False, False),\n",
       " ('public', 'db_info', 'tester', None, True, False, True, False),\n",
       " ('public', 'reading', 'tester', None, True, False, True, False),\n",
       " ('public', 'text_ref', 'tester', None, True, False, True, False),\n",
       " ('public', 'text_content', 'tester', None, True, False, True, False),\n",
       " ('public', 'text_ref_old', 'tester', None, True, False, False, False),\n",
       " ('public', 'xdd_updates', 'tester', None, True, False, False, False),\n",
       " ('public', 'pa_statements_old', 'tester', None, False, False, False, False),\n",
       " ('public', 'curation_new', 'tester', None, False, False, False, False),\n",
       " ('public', 'mti_ref_annotations_test', 'tester', None, True, False, False, False),\n",
       " ('public', 'mesh_ref_annotations', 'tester', None, True, False, False, False)]"
      ]
     },
     "execution_count": 5,
     "metadata": {},
     "output_type": "execute_result"
    }
   ],
   "source": [
    "list(res)"
   ]
  },
  {
   "cell_type": "code",
   "execution_count": 4,
   "metadata": {},
   "outputs": [],
   "source": [
    "def describe_table(tablename):\n",
    "    query = \"\"\"\n",
    "            SELECT\n",
    "                column_name, data_type\n",
    "            FROM\n",
    "                information_schema.columns\n",
    "            WHERE\n",
    "                table_name = :tablename;\n",
    "            \"\"\"\n",
    "    res = db.session.execute(query, {'tablename': tablename})\n",
    "    return list(res)"
   ]
  },
  {
   "cell_type": "code",
   "execution_count": 5,
   "metadata": {},
   "outputs": [
    {
     "data": {
      "text/plain": [
       "[('id', 'integer'),\n",
       " ('pmid', 'character varying'),\n",
       " ('pmid_num', 'integer'),\n",
       " ('pmcid', 'character varying'),\n",
       " ('pmcid_num', 'integer'),\n",
       " ('pmcid_version', 'integer'),\n",
       " ('doi', 'character varying'),\n",
       " ('doi_ns', 'integer'),\n",
       " ('doi_id', 'character varying'),\n",
       " ('pii', 'character varying'),\n",
       " ('url', 'character varying'),\n",
       " ('manuscript_id', 'character varying'),\n",
       " ('create_date', 'timestamp without time zone'),\n",
       " ('last_updated', 'timestamp without time zone')]"
      ]
     },
     "execution_count": 5,
     "metadata": {},
     "output_type": "execute_result"
    }
   ],
   "source": [
    "describe_table('text_ref')"
   ]
  },
  {
   "cell_type": "code",
   "execution_count": 8,
   "metadata": {},
   "outputs": [
    {
     "data": {
      "text/plain": [
       "[('text_ref_id', 'integer'),\n",
       " ('source', 'character varying'),\n",
       " ('format', 'character varying'),\n",
       " ('text_type', 'character varying'),\n",
       " ('insert_date', 'timestamp without time zone'),\n",
       " ('last_updated', 'timestamp without time zone'),\n",
       " ('id', 'integer'),\n",
       " ('content', 'bytea'),\n",
       " ('preprint', 'boolean')]"
      ]
     },
     "execution_count": 8,
     "metadata": {},
     "output_type": "execute_result"
    }
   ],
   "source": [
    "describe_table('text_content')"
   ]
  },
  {
   "cell_type": "markdown",
   "metadata": {},
   "source": [
    "This query does a self join on the raw agents table to find texts grounded to each HGNC gene along with statement id's for these texts"
   ]
  },
  {
   "cell_type": "code",
   "execution_count": 6,
   "metadata": {},
   "outputs": [],
   "source": [
    "def show_indices(tablename):\n",
    "    query = \"\"\"\n",
    "            SELECT\n",
    "                indexname, indexdef\n",
    "            FROM\n",
    "                pg_indexes\n",
    "            WHERE\n",
    "                tablename = :tablename;\n",
    "            \"\"\"\n",
    "    res = db.session.execute(query, {'tablename': tablename})\n",
    "    return list(res)"
   ]
  },
  {
   "cell_type": "code",
   "execution_count": 7,
   "metadata": {},
   "outputs": [],
   "source": [
    "def show_matviews():\n",
    "    query = \"\"\"\n",
    "        SELECT schemaname AS schema_name,\n",
    "            matviewname AS view_name,\n",
    "            matviewowner AS owner,\n",
    "            ispopulated AS is_populated,\n",
    "            definition\n",
    "        FROM pg_matviews\n",
    "        ORDER BY schema_name,\n",
    "                 view_name;\n",
    "        \"\"\"\n",
    "    res = db.session.execute(query)\n",
    "    return list(res)"
   ]
  },
  {
   "cell_type": "code",
   "execution_count": 8,
   "metadata": {},
   "outputs": [
    {
     "data": {
      "text/plain": [
       "[]"
      ]
     },
     "execution_count": 8,
     "metadata": {},
     "output_type": "execute_result"
    }
   ],
   "source": [
    "show_indices('raw_stmt_ref_link')"
   ]
  },
  {
   "cell_type": "code",
   "execution_count": null,
   "metadata": {},
   "outputs": [],
   "source": [
    "query = \"\"\"\n",
    "        SELECT\n",
    "            rs.id, text_ref.id\n",
    "        FROM\n",
    "            (SELECT\n",
    "                id, reading_id\n",
    "             FROM\n",
    "                raw_statements\n",
    "             WHERE\n",
    "                 id IN (193, 2993, 28283, 29333, 28388)\n",
    "             ) rs \n",
    "        JOIN\n",
    "            reading\n",
    "        ON\n",
    "            rs.reading_id = reading.id\n",
    "        JOIN\n",
    "            text_content\n",
    "        ON\n",
    "            reading.text_content_id = text_content.id\n",
    "        JOIN\n",
    "            text_ref\n",
    "        ON\n",
    "            text_content.text_ref_id = text_ref.id\n",
    "\"\"\" "
   ]
  },
  {
   "cell_type": "code",
   "execution_count": 11,
   "metadata": {},
   "outputs": [
    {
     "data": {
      "text/plain": [
       "[('public', 'pa_stmt_src', 'tester', True, \" SELECT final_result.mk_hash,\\n    final_result.reach,\\n    final_result.phosphosite,\\n    final_result.pc11,\\n    final_result.hprd,\\n    final_resu ... (613 characters truncated) ... t, medscan bigint, trrust bigint, signor bigint, sparser bigint, rlimsp bigint, cbn bigint, tas bigint, bel_lc bigint, biogrid bigint, trips bigint);\"),\n",
       " ('public', 'raw_stmt_ref_link', 'tester', True, ' SELECT raw_statements.id AS stmt_id,\\n    text_ref_old.id AS text_ref_id\\n   FROM (((raw_statements\\n     JOIN reading ON ((raw_statements.reading_i ... (18 characters truncated) ... n     JOIN text_content ON ((reading.text_content_id = text_content.id)))\\n     JOIN text_ref_old ON ((text_content.text_ref_id = text_ref_old.id)));'),\n",
       " ('public', 'raw_stmt_src', 'tester', True, ' SELECT raw_statements.id AS sid,\\n    lower((reading.reader)::text) AS src\\n   FROM raw_statements,\\n    reading\\n  WHERE (reading.id = raw_statemen ... (39 characters truncated) ... ements.id AS sid,\\n    lower((db_info.db_name)::text) AS src\\n   FROM raw_statements,\\n    db_info\\n  WHERE (db_info.id = raw_statements.db_info_id);'),\n",
       " ('public', 'reading_ref_link', 'tester', True, ' SELECT tr.pmid,\\n    tr.pmcid,\\n    tr.id AS trid,\\n    tr.doi,\\n    tr.pii,\\n    tr.url,\\n    tr.manuscript_id,\\n    tc.id AS tcid,\\n    tc.source, ... (24 characters truncated) ... r.reader\\n   FROM ((text_ref_old tr\\n     JOIN text_content tc ON ((tr.id = tc.text_ref_id)))\\n     JOIN reading r ON ((tc.id = r.text_content_id)));')]"
      ]
     },
     "execution_count": 11,
     "metadata": {},
     "output_type": "execute_result"
    }
   ],
   "source": [
    "show_matviews()"
   ]
  },
  {
   "cell_type": "code",
   "execution_count": 12,
   "metadata": {},
   "outputs": [],
   "source": [
    "query = \"\"\"REFRESH MATERIALIZED VIEW\n",
    "               raw_stmt_ref_link\n",
    "        \"\"\"\n",
    "        \n"
   ]
  },
  {
   "cell_type": "code",
   "execution_count": null,
   "metadata": {},
   "outputs": [],
   "source": [
    "res"
   ]
  },
  {
   "cell_type": "code",
   "execution_count": null,
   "metadata": {},
   "outputs": [],
   "source": [
    "query = \"\"\"CREATE MATERIALIZED VIEW\n",
    "               raw_stmt_ref_link\n",
    "           AS\n",
    "               SELECT\n",
    "                   raw_statements.id stmt_id, text_ref.id text_ref_id\n",
    "               FROM\n",
    "                   raw_statements\n",
    "               JOIN\n",
    "                   reading\n",
    "               ON\n",
    "                   raw_statements.reading_id = reading.id\n",
    "               JOIN\n",
    "                   text_content\n",
    "               ON\n",
    "                   reading.text_content_id = text_content.id\n",
    "               JOIN\n",
    "                   text_ref\n",
    "               ON\n",
    "                   text_content.text_ref_id = text_ref.id\n",
    "        \"\"\""
   ]
  },
  {
   "cell_type": "code",
   "execution_count": 13,
   "metadata": {},
   "outputs": [
    {
     "data": {
      "text/plain": [
       "<sqlalchemy.engine.result.ResultProxy at 0x1350c27d0>"
      ]
     },
     "execution_count": 13,
     "metadata": {},
     "output_type": "execute_result"
    }
   ],
   "source": [
    "db.session.execute(query)"
   ]
  },
  {
   "cell_type": "code",
   "execution_count": 14,
   "metadata": {},
   "outputs": [],
   "source": [
    "db.session.commit()"
   ]
  },
  {
   "cell_type": "code",
   "execution_count": 15,
   "metadata": {},
   "outputs": [
    {
     "data": {
      "text/plain": [
       "[('public', 'pa_stmt_src', 'tester', True, \" SELECT final_result.mk_hash,\\n    final_result.reach,\\n    final_result.phosphosite,\\n    final_result.pc11,\\n    final_result.hprd,\\n    final_resu ... (613 characters truncated) ... t, medscan bigint, trrust bigint, signor bigint, sparser bigint, rlimsp bigint, cbn bigint, tas bigint, bel_lc bigint, biogrid bigint, trips bigint);\"),\n",
       " ('public', 'raw_stmt_ref_link', 'tester', True, ' SELECT raw_statements.id AS stmt_id,\\n    text_ref_old.id AS text_ref_id\\n   FROM (((raw_statements\\n     JOIN reading ON ((raw_statements.reading_i ... (18 characters truncated) ... n     JOIN text_content ON ((reading.text_content_id = text_content.id)))\\n     JOIN text_ref_old ON ((text_content.text_ref_id = text_ref_old.id)));'),\n",
       " ('public', 'raw_stmt_src', 'tester', True, ' SELECT raw_statements.id AS sid,\\n    lower((reading.reader)::text) AS src\\n   FROM raw_statements,\\n    reading\\n  WHERE (reading.id = raw_statemen ... (39 characters truncated) ... ements.id AS sid,\\n    lower((db_info.db_name)::text) AS src\\n   FROM raw_statements,\\n    db_info\\n  WHERE (db_info.id = raw_statements.db_info_id);'),\n",
       " ('public', 'reading_ref_link', 'tester', True, ' SELECT tr.pmid,\\n    tr.pmcid,\\n    tr.id AS trid,\\n    tr.doi,\\n    tr.pii,\\n    tr.url,\\n    tr.manuscript_id,\\n    tc.id AS tcid,\\n    tc.source, ... (24 characters truncated) ... r.reader\\n   FROM ((text_ref_old tr\\n     JOIN text_content tc ON ((tr.id = tc.text_ref_id)))\\n     JOIN reading r ON ((tc.id = r.text_content_id)));')]"
      ]
     },
     "execution_count": 15,
     "metadata": {},
     "output_type": "execute_result"
    }
   ],
   "source": [
    "show_matviews()"
   ]
  },
  {
   "cell_type": "code",
   "execution_count": null,
   "metadata": {},
   "outputs": [],
   "source": [
    "query = \"\"\"\n",
    "        SELECT \n",
    "            temp_files AS \"Temporary files\",\n",
    "            pg_size_pretty(temp_bytes) AS \"Size of temporary files\"\n",
    "        FROM   pg_stat_database db;\n",
    "\"\"\"\n",
    "res = list(db.session.execute(query))"
   ]
  },
  {
   "cell_type": "code",
   "execution_count": null,
   "metadata": {},
   "outputs": [],
   "source": [
    "query = \"\"\"\n",
    "        SELECT\n",
    "            text_ref_id\n",
    "        FROM\n",
    "            rstmt_ref_link\n",
    "        WHERE\n",
    "            stmt_id IN (32822, 383838)\n",
    "        \"\"\"\n",
    "res = list(db.session.execute(query))"
   ]
  },
  {
   "cell_type": "code",
   "execution_count": null,
   "metadata": {},
   "outputs": [],
   "source": [
    "res"
   ]
  },
  {
   "cell_type": "code",
   "execution_count": null,
   "metadata": {},
   "outputs": [],
   "source": [
    "res[2][1]* 10**(-9)"
   ]
  },
  {
   "cell_type": "code",
   "execution_count": null,
   "metadata": {},
   "outputs": [],
   "source": [
    "views[-2][4]"
   ]
  },
  {
   "cell_type": "code",
   "execution_count": null,
   "metadata": {},
   "outputs": [],
   "source": [
    "show_indices('text_content')"
   ]
  },
  {
   "cell_type": "code",
   "execution_count": null,
   "metadata": {},
   "outputs": [],
   "source": [
    "describe_table('text_content')"
   ]
  },
  {
   "cell_type": "code",
   "execution_count": null,
   "metadata": {},
   "outputs": [],
   "source": [
    "describe_table('text_ref')"
   ]
  },
  {
   "cell_type": "code",
   "execution_count": null,
   "metadata": {},
   "outputs": [],
   "source": [
    "describe_table('source_file')"
   ]
  },
  {
   "cell_type": "code",
   "execution_count": null,
   "metadata": {},
   "outputs": [],
   "source": [
    "db.session.rollback()"
   ]
  },
  {
   "cell_type": "code",
   "execution_count": 7,
   "metadata": {},
   "outputs": [
    {
     "data": {
      "text/plain": [
       "[('raw_agents_stmt_id_ag_num_index', 'CREATE INDEX raw_agents_stmt_id_ag_num_index ON public.raw_agents USING btree (stmt_id, ag_num)'),\n",
       " ('fki_raw_agents_stmt_id_fkey', 'CREATE INDEX fki_raw_agents_stmt_id_fkey ON public.raw_agents USING btree (stmt_id)'),\n",
       " ('raw_agents_db_id_idx', 'CREATE INDEX raw_agents_db_id_idx ON public.raw_agents USING btree (db_id COLLATE \"en_US.utf8\" varchar_ops)'),\n",
       " ('raw_agents_db_name_idx', 'CREATE INDEX raw_agents_db_name_idx ON public.raw_agents USING btree (db_name COLLATE \"en_US.utf8\" varchar_ops)'),\n",
       " ('raw_agents_pkey', 'CREATE UNIQUE INDEX raw_agents_pkey ON public.raw_agents USING btree (id)')]"
      ]
     },
     "execution_count": 7,
     "metadata": {},
     "output_type": "execute_result"
    }
   ],
   "source": [
    "show_indices('raw_agents')"
   ]
  },
  {
   "cell_type": "code",
   "execution_count": 14,
   "metadata": {},
   "outputs": [],
   "source": [
    "query = \"\"\"CREATE INDEX\n",
    "               raw_agents_stmt_id_ag_num_index\n",
    "           ON\n",
    "               raw_agents\n",
    "           USING\n",
    "               btree (stmt_id, ag_num)\n",
    "        \"\"\""
   ]
  },
  {
   "cell_type": "code",
   "execution_count": 15,
   "metadata": {},
   "outputs": [
    {
     "data": {
      "text/plain": [
       "<sqlalchemy.engine.result.ResultProxy at 0x7fb0e486aa30>"
      ]
     },
     "execution_count": 15,
     "metadata": {},
     "output_type": "execute_result"
    }
   ],
   "source": [
    "db.session.execute(query)"
   ]
  },
  {
   "cell_type": "code",
   "execution_count": 22,
   "metadata": {},
   "outputs": [],
   "source": [
    "db.session.rollback()"
   ]
  },
  {
   "cell_type": "code",
   "execution_count": null,
   "metadata": {},
   "outputs": [],
   "source": [
    "query = \"\"\"\n",
    "        SELECT x.stmt_id, x.ag_num, x.db_id, y.db_id, w.reader\n",
    "        FROM\n",
    "            raw_agents x\n",
    "        INNER JOIN\n",
    "            raw_agents y\n",
    "        ON x.stmt_id = y.stmt_id AND x.ag_num = y.ag_num\n",
    "        INNER JOIN\n",
    "            raw_statements z\n",
    "        ON x.stmt_id = z.id\n",
    "        INNER JOIN\n",
    "            reading w\n",
    "        ON z.reading_id = w.id\n",
    "        WHERE\n",
    "            x.db_name = 'TEXT' AND y.db_name = 'HGNC'\n",
    "        AND x.stmt_id IS NOT NULL\n",
    "        \"\"\"\n",
    "text2grounding = list(db.session.execute(query))"
   ]
  },
  {
   "cell_type": "markdown",
   "metadata": {},
   "source": [
    "The output of this query has been pickled so we don't need to run it multiple times"
   ]
  },
  {
   "cell_type": "code",
   "execution_count": 9,
   "metadata": {},
   "outputs": [],
   "source": [
    "query = \"\"\"\n",
    "        SELECT x.stmt_id, x.ag_num, x.db_id, y.db_id\n",
    "        FROM\n",
    "            raw_agents x\n",
    "        INNER JOIN\n",
    "            raw_agents y\n",
    "        ON x.stmt_id = y.stmt_id and x.ag_num = y.ag_num\n",
    "        INNER JOIN\n",
    "            raw_statements z\n",
    "        ON x.stmt_id = z.id\n",
    "        WHERE\n",
    "            x.db_name = 'TEXT' AND y.db_name = 'HGNC' AND x.stmt_id IS NOT NULL\n",
    "        \"\"\""
   ]
  },
  {
   "cell_type": "code",
   "execution_count": null,
   "metadata": {},
   "outputs": [],
   "source": [
    "text2grounding = list(db.session.execute(query))"
   ]
  },
  {
   "cell_type": "code",
   "execution_count": null,
   "metadata": {},
   "outputs": [],
   "source": [
    "with open('text2grounding.pkl', 'wb') as f:\n",
    "    pickle.dump(text2grounding, f)"
   ]
  },
  {
   "cell_type": "code",
   "execution_count": null,
   "metadata": {},
   "outputs": [],
   "source": [
    "text2grounding[2]"
   ]
  },
  {
   "cell_type": "code",
   "execution_count": 3,
   "metadata": {},
   "outputs": [],
   "source": [
    "with open('text2grounding.pkl', 'rb') as f:\n",
    "    text2grounding = pickle.load(f)"
   ]
  },
  {
   "cell_type": "code",
   "execution_count": 4,
   "metadata": {},
   "outputs": [],
   "source": [
    "from collections import defaultdict\n",
    "from indra.databases.hgnc_client import get_hgnc_name"
   ]
  },
  {
   "cell_type": "code",
   "execution_count": 5,
   "metadata": {},
   "outputs": [],
   "source": [
    "hgnc_texts = defaultdict(lambda: defaultdict(set))"
   ]
  },
  {
   "cell_type": "code",
   "execution_count": 6,
   "metadata": {},
   "outputs": [],
   "source": [
    "bad = []\n",
    "for stmt_id, _, text, hgnc_id, reader in text2grounding:\n",
    "    name = get_hgnc_name(hgnc_id)\n",
    "    if name:\n",
    "        hgnc_texts[name][text].add((stmt_id, reader))\n",
    "    else:\n",
    "        bad.append(hgnc_id)"
   ]
  },
  {
   "cell_type": "code",
   "execution_count": null,
   "metadata": {},
   "outputs": [],
   "source": [
    "pattern = r'^[A-Z][A-Z0-9]{1,4}$'"
   ]
  },
  {
   "cell_type": "code",
   "execution_count": 33,
   "metadata": {},
   "outputs": [],
   "source": [
    "s = {gene_name: {text: len(value) for text, value in entry.items() if re.match(pattern, text)}\n",
    "     for gene_name, entry in hgnc_texts.items()}"
   ]
  },
  {
   "cell_type": "code",
   "execution_count": 36,
   "metadata": {},
   "outputs": [],
   "source": [
    "a = defaultdict(int)"
   ]
  },
  {
   "cell_type": "code",
   "execution_count": 37,
   "metadata": {},
   "outputs": [],
   "source": [
    "for gene_name, entry in s.items():\n",
    "    for text, size in entry.items():\n",
    "        a[text] += size"
   ]
  },
  {
   "cell_type": "code",
   "execution_count": 40,
   "metadata": {},
   "outputs": [],
   "source": [
    "frequent_gene_texts = sorted(a.items(), key=lambda x: -x[1])"
   ]
  },
  {
   "cell_type": "code",
   "execution_count": 42,
   "metadata": {},
   "outputs": [],
   "source": [
    "top = frequent_gene_texts[:1000]"
   ]
  },
  {
   "cell_type": "code",
   "execution_count": 43,
   "metadata": {},
   "outputs": [
    {
     "data": {
      "text/plain": [
       "[('STAT3', 94539),\n",
       " ('VEGF', 91761),\n",
       " ('EGFR', 89811),\n",
       " ('ER', 86275),\n",
       " ('CD4', 80034),\n",
       " ('EMT', 61518),\n",
       " ('AR', 52607),\n",
       " ('TNF', 51221),\n",
       " ('EGF', 50195),\n",
       " ('TLR4', 45492),\n",
       " ('TCR', 40790),\n",
       " ('PTEN', 37172),\n",
       " ('IR', 35317),\n",
       " ('TRAIL', 34767),\n",
       " ('BDNF', 32653),\n",
       " ('SIRT1', 31235),\n",
       " ('MAP', 29849),\n",
       " ('ATM', 29206),\n",
       " ('STAT1', 28664),\n",
       " ('ECM', 25576),\n",
       " ('EC', 25150),\n",
       " ('CXCR4', 24548),\n",
       " ('RANKL', 23925),\n",
       " ('HMGB1', 23759),\n",
       " ('MDM2', 23471),\n",
       " ('GH', 22619),\n",
       " ('NLRP3', 21570),\n",
       " ('NGF', 21323),\n",
       " ('APC', 21282),\n",
       " ('GR', 20493),\n",
       " ('HGF', 20436),\n",
       " ('APP', 20177),\n",
       " ('GC', 20114),\n",
       " ('FAK', 20055),\n",
       " ('HR', 20054),\n",
       " ('BRCA1', 20023),\n",
       " ('HER2', 19863),\n",
       " ('TLR2', 19759),\n",
       " ('NAC', 19757),\n",
       " ('PCNA', 19633),\n",
       " ('PA', 19563),\n",
       " ('CD44', 18535),\n",
       " ('TG', 17651),\n",
       " ('CRP', 17163),\n",
       " ('PTH', 16974),\n",
       " ('EZH2', 16809),\n",
       " ('CD40', 16687),\n",
       " ('TPA', 16149),\n",
       " ('GA', 15554),\n",
       " ('PC', 15247),\n",
       " ('ACTH', 14414),\n",
       " ('MYC', 14368),\n",
       " ('SP', 14260),\n",
       " ('TRPV1', 14221),\n",
       " ('H2AX', 14176),\n",
       " ('CBP', 14096),\n",
       " ('CFTR', 14052),\n",
       " ('JAK2', 13577),\n",
       " ('MSC', 13501),\n",
       " ('ATR', 13367),\n",
       " ('BCR', 13186),\n",
       " ('IRF3', 12798),\n",
       " ('CS', 12736),\n",
       " ('TAK1', 12670),\n",
       " ('TRAF6', 12479),\n",
       " ('E2F1', 12360),\n",
       " ('CD28', 12173),\n",
       " ('MT', 12132),\n",
       " ('CP', 11998),\n",
       " ('MR', 11796),\n",
       " ('STAT', 11739),\n",
       " ('PKR', 11506),\n",
       " ('RAGE', 11474),\n",
       " ('PP2A', 11399),\n",
       " ('IP', 11183),\n",
       " ('PRL', 11157),\n",
       " ('PR', 11113),\n",
       " ('TSA', 11111),\n",
       " ('NP', 11057),\n",
       " ('VDR', 11021),\n",
       " ('HSC', 10967),\n",
       " ('AF', 10956),\n",
       " ('TF', 10914),\n",
       " ('ROS', 10852),\n",
       " ('CCL2', 10719),\n",
       " ('MS', 10589),\n",
       " ('CD25', 10588),\n",
       " ('HF', 10538),\n",
       " ('BRAF', 10485),\n",
       " ('CHOP', 10422),\n",
       " ('TSC2', 10369),\n",
       " ('TH', 10296),\n",
       " ('EPO', 9985),\n",
       " ('MRI', 9917),\n",
       " ('HDAC1', 9915),\n",
       " ('CRF', 9903),\n",
       " ('AC', 9854),\n",
       " ('PERK', 9846),\n",
       " ('PE', 9750),\n",
       " ('RT', 9744),\n",
       " ('TM', 9704),\n",
       " ('H3K9', 9667),\n",
       " ('OPN', 9625),\n",
       " ('XIAP', 9258),\n",
       " ('TLR9', 9230),\n",
       " ('AHR', 9191),\n",
       " ('FGF2', 9172),\n",
       " ('ET', 9102),\n",
       " ('SD', 9100),\n",
       " ('MGMT', 9082),\n",
       " ('CDK2', 8980),\n",
       " ('FOXO1', 8966),\n",
       " ('TLR3', 8945),\n",
       " ('ERK2', 8803),\n",
       " ('CCR5', 8802),\n",
       " ('ABCA1', 8725),\n",
       " ('MIF', 8615),\n",
       " ('NPY', 8586),\n",
       " ('LKB1', 8537),\n",
       " ('BPA', 8536),\n",
       " ('H3K4', 8497),\n",
       " ('PAF', 8375),\n",
       " ('SOCS3', 8346),\n",
       " ('TBK1', 8340),\n",
       " ('CAR', 8335),\n",
       " ('RAD51', 8252),\n",
       " ('PKM2', 8196),\n",
       " ('VIP', 8122),\n",
       " ('CD40L', 8117),\n",
       " ('GRP78', 8110),\n",
       " ('DNMT1', 8100),\n",
       " ('LRRK2', 8074),\n",
       " ('STAT6', 8070),\n",
       " ('RPE', 8050),\n",
       " ('AVP', 8008),\n",
       " ('PIP', 7994),\n",
       " ('STIM1', 7962),\n",
       " ('FN', 7956),\n",
       " ('KRAS', 7941),\n",
       " ('MMP9', 7929),\n",
       " ('CD14', 7927),\n",
       " ('PLC', 7896),\n",
       " ('ALP', 7845),\n",
       " ('PML', 7829),\n",
       " ('ZEB1', 7783),\n",
       " ('S6K1', 7733),\n",
       " ('TRAF2', 7722),\n",
       " ('ATF4', 7711),\n",
       " ('CGRP', 7702),\n",
       " ('MTX', 7675),\n",
       " ('FXR', 7649),\n",
       " ('GLUT4', 7582),\n",
       " ('STZ', 7574),\n",
       " ('HSF1', 7539),\n",
       " ('PDK1', 7535),\n",
       " ('S6', 7479),\n",
       " ('EPA', 7473),\n",
       " ('RB', 7440),\n",
       " ('NRF2', 7389),\n",
       " ('MBP', 7388),\n",
       " ('CD36', 7334),\n",
       " ('CD86', 7303),\n",
       " ('CDK1', 7297),\n",
       " ('KLF4', 7294),\n",
       " ('RIP1', 7247),\n",
       " ('CDK4', 7246),\n",
       " ('PSA', 7224),\n",
       " ('CSF', 7195),\n",
       " ('ULK1', 7177),\n",
       " ('TAZ', 7170),\n",
       " ('SE', 7161),\n",
       " ('SOD1', 7157),\n",
       " ('ARF', 7042),\n",
       " ('IDO', 6992),\n",
       " ('ACE', 6912),\n",
       " ('ASK1', 6885),\n",
       " ('SC', 6875),\n",
       " ('IL6', 6805),\n",
       " ('PINK1', 6770),\n",
       " ('BMP4', 6753),\n",
       " ('SFN', 6740),\n",
       " ('BMP2', 6736),\n",
       " ('TP53', 6713),\n",
       " ('TSLP', 6602),\n",
       " ('SR', 6582),\n",
       " ('PAH', 6548),\n",
       " ('PARP1', 6540),\n",
       " ('CD80', 6524),\n",
       " ('BLM', 6458),\n",
       " ('LIF', 6457),\n",
       " ('SCF', 6441),\n",
       " ('CRH', 6418),\n",
       " ('CAD', 6417),\n",
       " ('BAX', 6345),\n",
       " ('PLB', 6320),\n",
       " ('PXR', 6288),\n",
       " ('YAP', 6280),\n",
       " ('GDNF', 6261),\n",
       " ('ANP', 6242),\n",
       " ('II', 6222),\n",
       " ('CR', 6215),\n",
       " ('CAT', 6208),\n",
       " ('MPO', 6171),\n",
       " ('RANK', 6153),\n",
       " ('TNFR1', 6140),\n",
       " ('STING', 6136),\n",
       " ('DAT', 6123),\n",
       " ('AGE', 6109),\n",
       " ('PP1', 6082),\n",
       " ('YY1', 6074),\n",
       " ('PAK1', 6059),\n",
       " ('H2A', 6035),\n",
       " ('HDAC3', 6034),\n",
       " ('BMAL1', 6003),\n",
       " ('LSD1', 5997),\n",
       " ('GAPDH', 5991),\n",
       " ('AM', 5973),\n",
       " ('OPG', 5972),\n",
       " ('HD', 5967),\n",
       " ('ALS', 5965),\n",
       " ('MUC1', 5964),\n",
       " ('IRS1', 5959),\n",
       " ('BAD', 5951),\n",
       " ('DR5', 5896),\n",
       " ('P1', 5892),\n",
       " ('TRPA1', 5889),\n",
       " ('CCK', 5838),\n",
       " ('PEG', 5812),\n",
       " ('VASP', 5805),\n",
       " ('HDAC6', 5791),\n",
       " ('MMP2', 5783),\n",
       " ('BRCA2', 5768),\n",
       " ('PL', 5730),\n",
       " ('PPAR', 5727),\n",
       " ('MAVS', 5703),\n",
       " ('FOXM1', 5674),\n",
       " ('SRF', 5671),\n",
       " ('BACE1', 5669),\n",
       " ('CCL5', 5661),\n",
       " ('FGF23', 5656),\n",
       " ('HDAC2', 5642),\n",
       " ('HSA', 5622),\n",
       " ('LDLR', 5562),\n",
       " ('FGF21', 5544),\n",
       " ('LPL', 5535),\n",
       " ('PCSK9', 5510),\n",
       " ('PUMA', 5503),\n",
       " ('HSP27', 5497),\n",
       " ('PACAP', 5477),\n",
       " ('NR2B', 5471),\n",
       " ('IGF1', 5450),\n",
       " ('DRG', 5445),\n",
       " ('CA1', 5444),\n",
       " ('ART', 5433),\n",
       " ('GFAP', 5431),\n",
       " ('AID', 5413),\n",
       " ('AIF', 5403),\n",
       " ('CTCF', 5390),\n",
       " ('FADD', 5384),\n",
       " ('COPD', 5375),\n",
       " ('SOX2', 5372),\n",
       " ('GS', 5369),\n",
       " ('PKB', 5357),\n",
       " ('CLOCK', 5333),\n",
       " ('TRH', 5324),\n",
       " ('JNK1', 5313),\n",
       " ('PCP', 5312),\n",
       " ('FH', 5298),\n",
       " ('CBF', 5298),\n",
       " ('SS', 5276),\n",
       " ('PP', 5250),\n",
       " ('NS1', 5246),\n",
       " ('LRP6', 5242),\n",
       " ('FAS', 5237),\n",
       " ('CB1', 5190),\n",
       " ('TA', 5184),\n",
       " ('CG', 5182),\n",
       " ('NEMO', 5165),\n",
       " ('MEK1', 5159),\n",
       " ('HER3', 5157),\n",
       " ('EP', 5141),\n",
       " ('ASC', 5131),\n",
       " ('NOD2', 5114),\n",
       " ('PC3', 5083),\n",
       " ('CXCL8', 5070),\n",
       " ('TTP', 5068),\n",
       " ('TLR7', 5068),\n",
       " ('FOXP3', 5065),\n",
       " ('VHL', 5055),\n",
       " ('BAT', 5003),\n",
       " ('PB', 4985),\n",
       " ('ATF3', 4976),\n",
       " ('TS', 4970),\n",
       " ('SIRT3', 4958),\n",
       " ('CHIP', 4930),\n",
       " ('NIK', 4927),\n",
       " ('TP', 4917),\n",
       " ('IGF1R', 4907),\n",
       " ('PLK1', 4894),\n",
       " ('LD', 4869),\n",
       " ('FGFR1', 4834),\n",
       " ('BCL2', 4815),\n",
       " ('PTP1B', 4803),\n",
       " ('P53', 4751),\n",
       " ('HDAC4', 4751),\n",
       " ('ILK', 4742),\n",
       " ('AST', 4705),\n",
       " ('YAP1', 4703),\n",
       " ('SOCS1', 4700),\n",
       " ('HC', 4690),\n",
       " ('PMA', 4655),\n",
       " ('NICD', 4641),\n",
       " ('NKG2D', 4637),\n",
       " ('BAFF', 4637),\n",
       " ('CCR2', 4625),\n",
       " ('LAT', 4588),\n",
       " ('ALK', 4586),\n",
       " ('NC', 4580),\n",
       " ('CXCR2', 4548),\n",
       " ('WRN', 4541),\n",
       " ('TERT', 4530),\n",
       " ('TRAF3', 4524),\n",
       " ('SF', 4523),\n",
       " ('GATA3', 4517),\n",
       " ('RUNX2', 4515),\n",
       " ('RET', 4486),\n",
       " ('MITF', 4483),\n",
       " ('PKD', 4480),\n",
       " ('FMRP', 4472),\n",
       " ('TRIF', 4470),\n",
       " ('SBP', 4469),\n",
       " ('CD19', 4469),\n",
       " ('MB', 4467),\n",
       " ('GRK2', 4454),\n",
       " ('RIPK1', 4421),\n",
       " ('PFC', 4406),\n",
       " ('PS1', 4387),\n",
       " ('MPP', 4387),\n",
       " ('NS', 4376),\n",
       " ('MV', 4359),\n",
       " ('OT', 4358),\n",
       " ('SOX9', 4343),\n",
       " ('VWF', 4329),\n",
       " ('BIM', 4325),\n",
       " ('TBP', 4306),\n",
       " ('H2B', 4300),\n",
       " ('IRF7', 4268),\n",
       " ('CAP', 4252),\n",
       " ('CD47', 4248),\n",
       " ('CD8', 4240),\n",
       " ('ERK5', 4229),\n",
       " ('CD34', 4223),\n",
       " ('BRD4', 4166),\n",
       " ('PAR1', 4157),\n",
       " ('CHD', 4150),\n",
       " ('ERG', 4145),\n",
       " ('SMAD3', 4142),\n",
       " ('MLCK', 4142),\n",
       " ('CCR7', 4136),\n",
       " ('TR', 4123),\n",
       " ('MLH1', 4119),\n",
       " ('ERK1', 4115),\n",
       " ('CK', 4113),\n",
       " ('SGK1', 4102),\n",
       " ('VEGFA', 4095),\n",
       " ('ATF6', 4093),\n",
       " ('SHP2', 4090),\n",
       " ('CXCL1', 4084),\n",
       " ('PH', 4071),\n",
       " ('PCD', 4062),\n",
       " ('TSC1', 4060),\n",
       " ('IAP', 4045),\n",
       " ('PP2', 4042),\n",
       " ('TFEB', 4038),\n",
       " ('AKT1', 4033),\n",
       " ('STS', 4030),\n",
       " ('ABCG2', 4021),\n",
       " ('SDS', 4016),\n",
       " ('SP1', 4016),\n",
       " ('PRP', 3989),\n",
       " ('AT1', 3985),\n",
       " ('TRPV4', 3985),\n",
       " ('APE1', 3981),\n",
       " ('KIT', 3971),\n",
       " ('CHK1', 3965),\n",
       " ('LRP1', 3954),\n",
       " ('HP', 3938),\n",
       " ('OSM', 3920),\n",
       " ('IRE1', 3914),\n",
       " ('PRMT5', 3902),\n",
       " ('PEDF', 3901),\n",
       " ('FOXO3', 3899),\n",
       " ('FBS', 3872),\n",
       " ('TWEAK', 3865),\n",
       " ('HO', 3843),\n",
       " ('SPARC', 3840),\n",
       " ('MDR1', 3838),\n",
       " ('MLL', 3837),\n",
       " ('RLC', 3834),\n",
       " ('SIRT6', 3833),\n",
       " ('CXCR3', 3826),\n",
       " ('CDK6', 3780),\n",
       " ('TXNIP', 3779),\n",
       " ('CORT', 3777),\n",
       " ('IBD', 3760),\n",
       " ('PKD1', 3759),\n",
       " ('GLUT1', 3757),\n",
       " ('XBP1', 3743),\n",
       " ('STAT2', 3739),\n",
       " ('NT', 3715),\n",
       " ('DP', 3710),\n",
       " ('B7', 3706),\n",
       " ('OCT4', 3703),\n",
       " ('P3', 3700),\n",
       " ('ODC', 3681),\n",
       " ('RACK1', 3671),\n",
       " ('IRF4', 3670),\n",
       " ('WT1', 3648),\n",
       " ('SHH', 3630),\n",
       " ('NQO1', 3625),\n",
       " ('NOX4', 3603),\n",
       " ('CPA', 3594),\n",
       " ('GLI1', 3587),\n",
       " ('CDK9', 3577),\n",
       " ('MYPT1', 3553),\n",
       " ('RIP3', 3549),\n",
       " ('NR1', 3540),\n",
       " ('NOX', 3536),\n",
       " ('DS', 3512),\n",
       " ('SOD2', 3509),\n",
       " ('LTA', 3499),\n",
       " ('GIP', 3494),\n",
       " ('RIPK3', 3478),\n",
       " ('LP', 3472),\n",
       " ('FUS', 3455),\n",
       " ('CYLD', 3452),\n",
       " ('CD69', 3448),\n",
       " ('PCI', 3437),\n",
       " ('ERM', 3428),\n",
       " ('JAK1', 3428),\n",
       " ('STAT4', 3421),\n",
       " ('CFA', 3418),\n",
       " ('REST', 3416),\n",
       " ('TRAP', 3411),\n",
       " ('SAP', 3402),\n",
       " ('GATA4', 3386),\n",
       " ('CDK5', 3376),\n",
       " ('ATF2', 3364),\n",
       " ('TLR5', 3358),\n",
       " ('SHP', 3356),\n",
       " ('MYCN', 3352),\n",
       " ('RUNX3', 3345),\n",
       " ('CXCR7', 3339),\n",
       " ('ASA', 3337),\n",
       " ('SAC', 3336),\n",
       " ('DBP', 3334),\n",
       " ('RUNX1', 3331),\n",
       " ('TNFR2', 3328),\n",
       " ('P2X7', 3305),\n",
       " ('NOX2', 3301),\n",
       " ('BCL6', 3284),\n",
       " ('FP', 3278),\n",
       " ('PTP', 3273),\n",
       " ('TSP1', 3272),\n",
       " ('CAPE', 3259),\n",
       " ('CD38', 3254),\n",
       " ('COX2', 3240),\n",
       " ('MCT', 3234),\n",
       " ('PAR2', 3226),\n",
       " ('NCC', 3225),\n",
       " ('VDAC', 3224),\n",
       " ('ASM', 3223),\n",
       " ('FLT3', 3223),\n",
       " ('ABCB1', 3217),\n",
       " ('GFR', 3202),\n",
       " ('TRF2', 3186),\n",
       " ('SAH', 3182),\n",
       " ('ASD', 3162),\n",
       " ('DKK1', 3157),\n",
       " ('LOX', 3154),\n",
       " ('XPC', 3146),\n",
       " ('IGF2', 3137),\n",
       " ('NMD', 3135),\n",
       " ('AQP4', 3128),\n",
       " ('BRG1', 3123),\n",
       " ('SK', 3120),\n",
       " ('HSL', 3114),\n",
       " ('MEF2', 3114),\n",
       " ('LPC', 3105),\n",
       " ('UCP2', 3093),\n",
       " ('VP', 3071),\n",
       " ('UCP1', 3070),\n",
       " ('PRC1', 3059),\n",
       " ('REM', 3057),\n",
       " ('SMAD2', 3057),\n",
       " ('PER', 3047),\n",
       " ('PDCD4', 3035),\n",
       " ('APOE', 3027),\n",
       " ('MDA5', 3019),\n",
       " ('CSA', 3002),\n",
       " ('AMPH', 3000),\n",
       " ('RD', 2995),\n",
       " ('TCF4', 2989),\n",
       " ('CD24', 2988),\n",
       " ('ARC', 2978),\n",
       " ('PN', 2972),\n",
       " ('NET', 2970),\n",
       " ('PLN', 2968),\n",
       " ('RKIP', 2967),\n",
       " ('TRPC6', 2956),\n",
       " ('CCL20', 2951),\n",
       " ('MK2', 2950),\n",
       " ('MBL', 2946),\n",
       " ('TRF1', 2945),\n",
       " ('TACE', 2943),\n",
       " ('MCM', 2938),\n",
       " ('CDH1', 2932),\n",
       " ('ACE2', 2932),\n",
       " ('FASN', 2927),\n",
       " ('ROCK1', 2913),\n",
       " ('LF', 2908),\n",
       " ('NRG1', 2908),\n",
       " ('PCAF', 2906),\n",
       " ('SMAD4', 2898),\n",
       " ('ADM', 2896),\n",
       " ('HIPK2', 2894),\n",
       " ('PI', 2883),\n",
       " ('PTB', 2879),\n",
       " ('MMR', 2873),\n",
       " ('TRPC1', 2870),\n",
       " ('LBP', 2865),\n",
       " ('PRMT1', 2863),\n",
       " ('KLF5', 2854),\n",
       " ('CLP', 2847),\n",
       " ('CETP', 2840),\n",
       " ('XRCC1', 2837),\n",
       " ('S100B', 2832),\n",
       " ('TRPM7', 2829),\n",
       " ('AMD', 2825),\n",
       " ('COMT', 2819),\n",
       " ('MDP', 2815),\n",
       " ('ATG5', 2813),\n",
       " ('PGF', 2802),\n",
       " ('PAMP', 2801),\n",
       " ('NBS1', 2784),\n",
       " ('SN', 2782),\n",
       " ('SERT', 2781),\n",
       " ('SMRT', 2776),\n",
       " ('IL10', 2771),\n",
       " ('OM', 2763),\n",
       " ('DR4', 2761),\n",
       " ('FR', 2761),\n",
       " ('BSA', 2758),\n",
       " ('S1P', 2753),\n",
       " ('IRAK1', 2752),\n",
       " ('CNP', 2744),\n",
       " ('PDI', 2741),\n",
       " ('SI', 2733),\n",
       " ('TTR', 2721),\n",
       " ('HAT', 2717),\n",
       " ('AFP', 2716),\n",
       " ('AURKA', 2716),\n",
       " ('CPE', 2716),\n",
       " ('IRF1', 2713),\n",
       " ('DES', 2712),\n",
       " ('HI', 2712),\n",
       " ('MLKL', 2711),\n",
       " ('SEB', 2707),\n",
       " ('AQP2', 2706),\n",
       " ('NF', 2705),\n",
       " ('MET', 2704),\n",
       " ('ID', 2703),\n",
       " ('NANOG', 2702),\n",
       " ('ICOS', 2698),\n",
       " ('UPF1', 2690),\n",
       " ('BNIP3', 2681),\n",
       " ('BMP7', 2678),\n",
       " ('WASP', 2668),\n",
       " ('MN', 2667),\n",
       " ('HDAC5', 2661),\n",
       " ('BMI1', 2653),\n",
       " ('SSB', 2650),\n",
       " ('MDC1', 2647),\n",
       " ('OGT', 2636),\n",
       " ('SET', 2622),\n",
       " ('NPM', 2621),\n",
       " ('VCP', 2620),\n",
       " ('CCND1', 2615),\n",
       " ('C2', 2614),\n",
       " ('HPA', 2605),\n",
       " ('CD45', 2602),\n",
       " ('KLF2', 2592),\n",
       " ('ANF', 2591),\n",
       " ('GEF', 2584),\n",
       " ('CAF', 2584),\n",
       " ('HK2', 2583),\n",
       " ('PTC', 2581),\n",
       " ('UPS', 2576),\n",
       " ('LTB', 2574),\n",
       " ('EGR1', 2573),\n",
       " ('NRP1', 2569),\n",
       " ('CNTF', 2569),\n",
       " ('CIITA', 2569),\n",
       " ('PHB', 2568),\n",
       " ('GHRH', 2559),\n",
       " ('HMGA2', 2558),\n",
       " ('APN', 2550),\n",
       " ('LRP', 2546),\n",
       " ('CSR', 2531),\n",
       " ('DISC1', 2531),\n",
       " ('MSH2', 2530),\n",
       " ('ZEB2', 2525),\n",
       " ('GPI', 2514),\n",
       " ('CHK2', 2498),\n",
       " ('HL', 2491),\n",
       " ('PGN', 2489),\n",
       " ('DDB1', 2481),\n",
       " ('CD2', 2481),\n",
       " ('BAK', 2478),\n",
       " ('TPO', 2469),\n",
       " ('NDRG1', 2450),\n",
       " ('E2F', 2443),\n",
       " ('MLC2', 2439),\n",
       " ('ATGL', 2435),\n",
       " ('BAL', 2433),\n",
       " ('DDP', 2430),\n",
       " ('PAP', 2424),\n",
       " ('PIAS1', 2423),\n",
       " ('COP1', 2420),\n",
       " ('LHRH', 2417),\n",
       " ('BMP9', 2413),\n",
       " ('PTX3', 2406),\n",
       " ('GAS', 2396),\n",
       " ('SCD', 2395),\n",
       " ('DCC', 2385),\n",
       " ('SIRT2', 2382),\n",
       " ('XRCC4', 2379),\n",
       " ('ABCG1', 2379),\n",
       " ('RTA', 2377),\n",
       " ('CIA', 2374),\n",
       " ('NOS2', 2371),\n",
       " ('NHE3', 2370),\n",
       " ('NHE1', 2360),\n",
       " ('LS', 2356),\n",
       " ('JNK', 2351),\n",
       " ('PHD', 2350),\n",
       " ('KIR', 2346),\n",
       " ('ERBB2', 2344),\n",
       " ('ERCC1', 2341),\n",
       " ('NTS', 2340),\n",
       " ('AS160', 2332),\n",
       " ('OB', 2326),\n",
       " ('PGI', 2314),\n",
       " ('UHRF1', 2313),\n",
       " ('HRG', 2312),\n",
       " ('APRIL', 2309),\n",
       " ('BAF', 2301),\n",
       " ('KAP1', 2297),\n",
       " ('DT', 2293),\n",
       " ('SMN', 2292),\n",
       " ('CCL3', 2289),\n",
       " ('GAP', 2287),\n",
       " ('EWS', 2284),\n",
       " ('PLA2', 2283),\n",
       " ('PLP', 2282),\n",
       " ('PGD', 2275),\n",
       " ('CRMP2', 2263),\n",
       " ('FGFR2', 2262),\n",
       " ('FS', 2253),\n",
       " ('MCC', 2252),\n",
       " ('SYK', 2251),\n",
       " ('MYB', 2248),\n",
       " ('EPR', 2246),\n",
       " ('MEF', 2245),\n",
       " ('CD81', 2239),\n",
       " ('AXL', 2233),\n",
       " ('CCL21', 2233),\n",
       " ('GSTP1', 2228),\n",
       " ('ALDH2', 2223),\n",
       " ('SAPK', 2222),\n",
       " ('RC', 2217),\n",
       " ('PPD', 2206),\n",
       " ('PICK1', 2203),\n",
       " ('TMP', 2203),\n",
       " ('CXCL9', 2200),\n",
       " ('IN', 2194),\n",
       " ('RB1', 2193),\n",
       " ('EB1', 2192),\n",
       " ('USP7', 2184),\n",
       " ('SMO', 2180),\n",
       " ('ME', 2179),\n",
       " ('SNAP', 2177),\n",
       " ('CR1', 2177),\n",
       " ('APS', 2173),\n",
       " ('MST1', 2172),\n",
       " ('MDMX', 2171),\n",
       " ('LAB', 2167),\n",
       " ('FOXA1', 2167),\n",
       " ('CAC', 2161),\n",
       " ('BTK', 2160),\n",
       " ('HP1', 2156),\n",
       " ('LIGHT', 2153),\n",
       " ('MDS', 2149),\n",
       " ('PCB', 2143),\n",
       " ('TRPM2', 2142),\n",
       " ('CD18', 2141),\n",
       " ('IL2', 2136),\n",
       " ('SCH', 2135),\n",
       " ('ESR1', 2134),\n",
       " ('PHD2', 2133),\n",
       " ('TIM', 2123),\n",
       " ('SRSF1', 2122),\n",
       " ('KCC2', 2121),\n",
       " ('IL4', 2120),\n",
       " ('LPO', 2120),\n",
       " ('EP2', 2117),\n",
       " ('CD74', 2114),\n",
       " ('BECN1', 2114),\n",
       " ('FGF1', 2112),\n",
       " ('TER', 2110),\n",
       " ('PON1', 2107),\n",
       " ('ADA', 2106),\n",
       " ('DOR', 2106),\n",
       " ('CRM1', 2100),\n",
       " ('IL8', 2098),\n",
       " ('ST2', 2090),\n",
       " ('CA3', 2082),\n",
       " ('MLK3', 2077),\n",
       " ('LCA', 2072),\n",
       " ('TRPM8', 2072),\n",
       " ('GCN5', 2062),\n",
       " ('GT', 2062),\n",
       " ('TK', 2062),\n",
       " ('FGFR3', 2057),\n",
       " ('CBS', 2057),\n",
       " ('BCRP', 2056),\n",
       " ('CIN', 2056),\n",
       " ('IRF8', 2045),\n",
       " ('PEP', 2043),\n",
       " ('ABL', 2040),\n",
       " ('DRP1', 2040),\n",
       " ('NIR', 2038),\n",
       " ('MTHFR', 2032),\n",
       " ('TLS', 2032),\n",
       " ('LAP', 2029),\n",
       " ('APL', 2026),\n",
       " ('AGO2', 2020),\n",
       " ('NCAM', 2019),\n",
       " ('GSC', 2018),\n",
       " ('GL', 2010),\n",
       " ('ARNT', 2010),\n",
       " ('PLD1', 2003),\n",
       " ('FGF19', 2002),\n",
       " ('KEAP1', 2000),\n",
       " ('CB2', 2000),\n",
       " ('CD27', 1999),\n",
       " ('GD', 1998),\n",
       " ('HDM2', 1996),\n",
       " ('MKK4', 1996),\n",
       " ('JAK3', 1993),\n",
       " ('TIP60', 1993),\n",
       " ('TFAM', 1992),\n",
       " ('EPCR', 1992),\n",
       " ('TEM', 1987),\n",
       " ('BARD1', 1986),\n",
       " ('SHBG', 1976),\n",
       " ('TAT', 1975),\n",
       " ('GPER', 1971),\n",
       " ('NKCC1', 1970),\n",
       " ('EFS', 1967),\n",
       " ('IK', 1965),\n",
       " ('TET2', 1962),\n",
       " ('PYY', 1961),\n",
       " ('MEF2C', 1959),\n",
       " ('HBZ', 1951),\n",
       " ('RAP', 1948),\n",
       " ('DDR1', 1947),\n",
       " ('CAS', 1944),\n",
       " ('ISG15', 1943),\n",
       " ('VDAC1', 1943),\n",
       " ('AIM2', 1941),\n",
       " ('CK1', 1926),\n",
       " ('ARF6', 1923),\n",
       " ('MK', 1922),\n",
       " ('LIMK1', 1917),\n",
       " ('CCR4', 1916),\n",
       " ('JNK2', 1914),\n",
       " ('CAV1', 1913),\n",
       " ('ON', 1911),\n",
       " ('MMP1', 1910),\n",
       " ('TRADD', 1905),\n",
       " ('PLZF', 1896),\n",
       " ('MTA1', 1892),\n",
       " ('CD9', 1887),\n",
       " ('MOG', 1886),\n",
       " ('NF1', 1885),\n",
       " ('NSF', 1884),\n",
       " ('TGR5', 1883),\n",
       " ('NPM1', 1882),\n",
       " ('SRP', 1881),\n",
       " ('HVEM', 1881),\n",
       " ('DDX3', 1880),\n",
       " ('TRPC3', 1879),\n",
       " ('ACS', 1878),\n",
       " ('MCD', 1878),\n",
       " ('NOD1', 1877),\n",
       " ('KGF', 1874),\n",
       " ('BF', 1873),\n",
       " ('MLL1', 1873),\n",
       " ('RSK2', 1870),\n",
       " ('HSP60', 1869),\n",
       " ('GGT', 1860),\n",
       " ('NER', 1858),\n",
       " ('TORC2', 1858),\n",
       " ('CDC42', 1857),\n",
       " ('NEFA', 1853),\n",
       " ('NR2A', 1853),\n",
       " ('NIS', 1852),\n",
       " ('IRF5', 1851),\n",
       " ('NLRC4', 1845),\n",
       " ('PDE5', 1843),\n",
       " ('CHS', 1843),\n",
       " ('XPA', 1839),\n",
       " ('MALT1', 1831),\n",
       " ('MMP13', 1830),\n",
       " ('NGAL', 1827),\n",
       " ('MRP1', 1824),\n",
       " ('DAC', 1823),\n",
       " ('RBP', 1822),\n",
       " ('PPT', 1821),\n",
       " ('IDE', 1820),\n",
       " ('XO', 1818),\n",
       " ('NCX', 1818),\n",
       " ('MEKK1', 1817),\n",
       " ('IDH1', 1815),\n",
       " ('OX40L', 1815),\n",
       " ('IRS2', 1813),\n",
       " ('PAM', 1810),\n",
       " ('MSK1', 1807),\n",
       " ('CTLA4', 1805),\n",
       " ('OCR', 1800),\n",
       " ('KCNQ1', 1800),\n",
       " ('DAP12', 1799),\n",
       " ('KDR', 1796),\n",
       " ('GRP', 1793),\n",
       " ('IDO1', 1791),\n",
       " ('ATX', 1789),\n",
       " ('HMGA1', 1789),\n",
       " ('IFI16', 1789),\n",
       " ('ACF', 1788),\n",
       " ('CD20', 1785),\n",
       " ('WDR5', 1783),\n",
       " ('ADC', 1782),\n",
       " ('FX', 1781),\n",
       " ('EL', 1781),\n",
       " ('BAK1', 1780),\n",
       " ('ECD', 1780),\n",
       " ('TFPI', 1776),\n",
       " ('NDRG2', 1774),\n",
       " ('LDHA', 1766),\n",
       " ('DDB2', 1759),\n",
       " ('DHFR', 1757),\n",
       " ('MCL', 1756),\n",
       " ('HFE', 1754),\n",
       " ('GATA1', 1753),\n",
       " ('GEM', 1750),\n",
       " ('PSD95', 1746),\n",
       " ('MCL1', 1745),\n",
       " ('TIMP3', 1745),\n",
       " ('GCN2', 1744),\n",
       " ('GDF15', 1743),\n",
       " ('GPR30', 1743),\n",
       " ('MICA', 1741),\n",
       " ('GHR', 1732),\n",
       " ('ALK5', 1731),\n",
       " ('BH', 1731),\n",
       " ('MKK7', 1728),\n",
       " ('RAC1', 1726),\n",
       " ('SST', 1721),\n",
       " ('MIA', 1721),\n",
       " ('AREG', 1719),\n",
       " ('CPB', 1716),\n",
       " ('CIP2A', 1712),\n",
       " ('FM', 1710),\n",
       " ('MD2', 1709),\n",
       " ('CSD', 1707),\n",
       " ('CXCR1', 1707),\n",
       " ('STEP', 1701),\n",
       " ('PC2', 1701),\n",
       " ('WNK4', 1701),\n",
       " ('CDX2', 1699),\n",
       " ('PAK4', 1695),\n",
       " ('PUFA', 1694),\n",
       " ('TFIID', 1694),\n",
       " ('CARM1', 1694),\n",
       " ('PALB2', 1692),\n",
       " ('MEP', 1691),\n",
       " ('PVR', 1690),\n",
       " ('SOC', 1689),\n",
       " ('AKT2', 1689),\n",
       " ('NOXA', 1689),\n",
       " ('PRA', 1687),\n",
       " ('GATA2', 1687),\n",
       " ('PLD2', 1686),\n",
       " ('RNP', 1685),\n",
       " ('BAG3', 1681),\n",
       " ('NEP', 1671),\n",
       " ('CSB', 1671),\n",
       " ('TLR1', 1670),\n",
       " ('SATB1', 1669),\n",
       " ('TLR8', 1667),\n",
       " ('GK', 1659),\n",
       " ('CRAF', 1657),\n",
       " ('LEF1', 1654),\n",
       " ('TPR', 1650),\n",
       " ('LEDGF', 1650),\n",
       " ('RPA2', 1650),\n",
       " ('NAMPT', 1649),\n",
       " ('RNF8', 1648),\n",
       " ('TPX2', 1648),\n",
       " ('DIC', 1647),\n",
       " ('FBXW7', 1646),\n",
       " ('IAPP', 1644),\n",
       " ('GRB2', 1642),\n",
       " ('SASP', 1641),\n",
       " ('FAAH', 1640),\n",
       " ('MRE11', 1638),\n",
       " ('POT1', 1635),\n",
       " ('LATS1', 1632),\n",
       " ('FABP4', 1632),\n",
       " ('CXCL2', 1631),\n",
       " ('RIP', 1628),\n",
       " ('CPZ', 1628),\n",
       " ('MCU', 1624),\n",
       " ('TRBP', 1623),\n",
       " ('WWOX', 1621),\n",
       " ('MSP', 1620),\n",
       " ('PSF', 1617),\n",
       " ('EPI', 1616),\n",
       " ('PAG', 1615),\n",
       " ('DAPK', 1606),\n",
       " ('MMP3', 1605),\n",
       " ('SAG', 1605),\n",
       " ('SPC', 1604),\n",
       " ('APPL1', 1601),\n",
       " ('CD5', 1596),\n",
       " ('ALF', 1596),\n",
       " ('TAP', 1595),\n",
       " ('MCH', 1592),\n",
       " ('CD22', 1592),\n",
       " ('CD46', 1588),\n",
       " ('CPAP', 1588),\n",
       " ('PER2', 1587),\n",
       " ('CXCR5', 1584),\n",
       " ('CART', 1579),\n",
       " ('BID', 1577),\n",
       " ('P21', 1577),\n",
       " ('WNT5A', 1575),\n",
       " ('MC4R', 1575),\n",
       " ('AT2', 1572),\n",
       " ('AQP1', 1570),\n",
       " ('MAP2', 1566),\n",
       " ('VLP', 1562),\n",
       " ('RON', 1556),\n",
       " ('BET', 1553),\n",
       " ('PIN1', 1552),\n",
       " ('NPR1', 1550),\n",
       " ('CREB1', 1548),\n",
       " ('HSPC', 1547),\n",
       " ('GIT1', 1546),\n",
       " ('ANG', 1543),\n",
       " ('TCDD', 1543),\n",
       " ('PDGF', 1543),\n",
       " ('TAB1', 1539),\n",
       " ('TET1', 1538),\n",
       " ('WIN', 1537),\n",
       " ('DAPK1', 1536),\n",
       " ('LE', 1533),\n",
       " ('RGS', 1531),\n",
       " ('ACR', 1531),\n",
       " ('TPP1', 1527),\n",
       " ('GITR', 1526),\n",
       " ('CD163', 1524),\n",
       " ('RRM2', 1518),\n",
       " ('REDD1', 1518),\n",
       " ('NKA', 1514),\n",
       " ('PYK2', 1513),\n",
       " ('AAT', 1513),\n",
       " ('SK1', 1513),\n",
       " ('FEN1', 1513),\n",
       " ('PDK4', 1512),\n",
       " ('SUMO1', 1511),\n",
       " ('MCP', 1510),\n",
       " ('SDH', 1510),\n",
       " ('AUF1', 1509),\n",
       " ('AMF', 1508),\n",
       " ('P300', 1507),\n",
       " ('ROCK2', 1507),\n",
       " ('LCN2', 1506),\n",
       " ('CGA', 1503)]"
      ]
     },
     "execution_count": 43,
     "metadata": {},
     "output_type": "execute_result"
    }
   ],
   "source": [
    "top"
   ]
  },
  {
   "cell_type": "code",
   "execution_count": 44,
   "metadata": {},
   "outputs": [],
   "source": [
    "with open('../data/top_gene_texts.pkl', 'wb') as f:\n",
    "    pickle.dump(top, f)"
   ]
  },
  {
   "cell_type": "code",
   "execution_count": 55,
   "metadata": {},
   "outputs": [],
   "source": [
    "with open('../data/filenames.json') as f:\n",
    "    big_map = json.load(f)"
   ]
  },
  {
   "cell_type": "code",
   "execution_count": 56,
   "metadata": {},
   "outputs": [],
   "source": [
    "top_genes = [x[0] for x in top]"
   ]
  },
  {
   "cell_type": "code",
   "execution_count": 57,
   "metadata": {},
   "outputs": [],
   "source": [
    "sample_map = {key: value for key, value in big_map.items() if key in top_genes}"
   ]
  },
  {
   "cell_type": "code",
   "execution_count": 59,
   "metadata": {},
   "outputs": [],
   "source": [
    "with open('../data/sample_map.json', 'w') as f:\n",
    "    json.dump(sample_map, f)"
   ]
  },
  {
   "cell_type": "code",
   "execution_count": 60,
   "metadata": {},
   "outputs": [],
   "source": [
    "import subprocess"
   ]
  },
  {
   "cell_type": "code",
   "execution_count": 67,
   "metadata": {},
   "outputs": [],
   "source": [
    "for filename in sample_map.values():\n",
    "    subprocess.call(['scp', f'adeft_content:/content/adeft_mining_results/merged_results/miners/{filename}',\n",
    "                    '../data/miners/'])"
   ]
  },
  {
   "cell_type": "code",
   "execution_count": 68,
   "metadata": {},
   "outputs": [
    {
     "data": {
      "text/plain": [
       "631"
      ]
     },
     "execution_count": 68,
     "metadata": {},
     "output_type": "execute_result"
    }
   ],
   "source": [
    "len(sample_map)"
   ]
  },
  {
   "cell_type": "code",
   "execution_count": null,
   "metadata": {},
   "outputs": [],
   "source": [
    "import nltk\n",
    "from nltk.corpus import words"
   ]
  },
  {
   "cell_type": "code",
   "execution_count": null,
   "metadata": {},
   "outputs": [],
   "source": [
    "wordset = set(words.words())"
   ]
  },
  {
   "cell_type": "markdown",
   "metadata": {},
   "source": [
    "Get all genes with grounded from a common english word. Take only texts with over 10 statements. Calculate ratio of statements that came from a common english word"
   ]
  },
  {
   "cell_type": "code",
   "execution_count": null,
   "metadata": {},
   "outputs": [],
   "source": [
    "word_texts = {}\n",
    "for gene, info in hgnc_texts.items():\n",
    "    total_stmt_count = sum([len(stmts) for stmts in info.values()])\n",
    "    filtered_info = {text: stmts for text, stmts in info.items() if len(stmts) > 10}\n",
    "    texts = set(filtered_info)\n",
    "    overlap = texts & wordset\n",
    "    if overlap:\n",
    "        count4word_texts = sum([len(stmts) for text, stmts in filtered_info.items() if text in overlap])\n",
    "        word_texts[gene] = (filtered_info, tuple(overlap), count4word_texts/total_stmt_count,\n",
    "                           total_stmt_count)"
   ]
  },
  {
   "cell_type": "code",
   "execution_count": null,
   "metadata": {},
   "outputs": [],
   "source": [
    "worst_words = sorted(word_texts.items(), key=lambda x: -x[1][2])"
   ]
  },
  {
   "cell_type": "code",
   "execution_count": null,
   "metadata": {},
   "outputs": [],
   "source": [
    "rows = []\n",
    "for gene, info in worst_words:\n",
    "    new_row = [gene, ','.join(info[1]), info[2], info[3]]\n",
    "    rows.append(new_row)\n",
    "df = pd.DataFrame(rows, columns=['gene', 'english_words', 'proportion', 'total_stmts'])"
   ]
  },
  {
   "cell_type": "code",
   "execution_count": null,
   "metadata": {},
   "outputs": [],
   "source": [
    "df[df.proportion > 0.8].to_csv('worst_english_words.tsv', sep='\\t', index=False)"
   ]
  },
  {
   "cell_type": "code",
   "execution_count": null,
   "metadata": {},
   "outputs": [],
   "source": [
    "from indra_db.util.content_scripts import get_text_content_from_stmt_ids\n",
    "from indra.literature.adeft_tools import get_text_content_for_gene, universal_extract_text"
   ]
  },
  {
   "cell_type": "code",
   "execution_count": null,
   "metadata": {},
   "outputs": [],
   "source": [
    "THG1L_texts = get_text_content_for_gene('THG1L')"
   ]
  },
  {
   "cell_type": "code",
   "execution_count": null,
   "metadata": {},
   "outputs": [],
   "source": [
    "texts = [universal_extract_text(text) for text in THG1L_texts]"
   ]
  },
  {
   "cell_type": "code",
   "execution_count": null,
   "metadata": {},
   "outputs": [],
   "source": [
    "from sklearn.svm import OneClassSVM\n",
    "from sklearn.pipeline import Pipeline\n",
    "from sklearn.model_selection import GridSearchCV\n",
    "from sklearn.feature_extraction.text import TfidfVectorizer"
   ]
  },
  {
   "cell_type": "code",
   "execution_count": null,
   "metadata": {},
   "outputs": [],
   "source": [
    "pipeline = Pipeline([('tfidf',\n",
    "                    TfidfVectorizer(ngram_range=(1, 2),\n",
    "                    max_features=10000,\n",
    "                    stop_words='english')),\n",
    "                    ('osvm', OneClassSVM(gamma='scale'))])                  "
   ]
  },
  {
   "cell_type": "code",
   "execution_count": null,
   "metadata": {},
   "outputs": [],
   "source": [
    "params = {'tfidf__max_features': [100, 1000],\n",
    "          'tfidf__ngram_range': [(1, 1), (1, 2)],\n",
    "          'osvm__nu': [0.05, 0.1, 0.15, 0.3],\n",
    "          'osvm__degree': [2, 3]}"
   ]
  },
  {
   "cell_type": "code",
   "execution_count": null,
   "metadata": {},
   "outputs": [],
   "source": [
    "grid_search = GridSearchCV(pipeline, params, cv=5, n_jobs=8, scoring='accuracy')"
   ]
  },
  {
   "cell_type": "code",
   "execution_count": null,
   "metadata": {},
   "outputs": [],
   "source": [
    "grid_search.fit(texts, [1]*len(texts))"
   ]
  },
  {
   "cell_type": "code",
   "execution_count": null,
   "metadata": {},
   "outputs": [],
   "source": [
    "grid_search.best_params_"
   ]
  },
  {
   "cell_type": "code",
   "execution_count": null,
   "metadata": {},
   "outputs": [],
   "source": [
    "grid_search.best_score_"
   ]
  },
  {
   "cell_type": "code",
   "execution_count": null,
   "metadata": {},
   "outputs": [],
   "source": [
    "THG1L_stmt_ids = [pmid for pmid, reader in worst_words[1][1][0]['foci']]"
   ]
  },
  {
   "cell_type": "code",
   "execution_count": null,
   "metadata": {},
   "outputs": [],
   "source": [
    "THG1L_foci_texts = get_text_content_from_stmt_ids(THG1L_stmt_ids)"
   ]
  },
  {
   "cell_type": "code",
   "execution_count": null,
   "metadata": {},
   "outputs": [],
   "source": [
    "db_texts = list(THG1L_foci_texts[1].values())"
   ]
  },
  {
   "cell_type": "code",
   "execution_count": null,
   "metadata": {},
   "outputs": [],
   "source": [
    "db_texts = [universal_extract_text(t) for t in db_texts if t]"
   ]
  },
  {
   "cell_type": "code",
   "execution_count": null,
   "metadata": {},
   "outputs": [],
   "source": [
    "preds = grid_search.predict(db_texts)"
   ]
  },
  {
   "cell_type": "code",
   "execution_count": null,
   "metadata": {},
   "outputs": [],
   "source": [
    "p = [(x+1)/2 for x in preds]"
   ]
  },
  {
   "cell_type": "code",
   "execution_count": null,
   "metadata": {},
   "outputs": [],
   "source": [
    "sum(p)/len(p)"
   ]
  },
  {
   "cell_type": "code",
   "execution_count": null,
   "metadata": {},
   "outputs": [],
   "source": [
    "db_texts[1]"
   ]
  },
  {
   "cell_type": "code",
   "execution_count": null,
   "metadata": {},
   "outputs": [],
   "source": [
    "F13B_texts = get_text_content_for_gene('F13B')"
   ]
  },
  {
   "cell_type": "code",
   "execution_count": null,
   "metadata": {},
   "outputs": [],
   "source": [
    "grid_search.fit(F13B_texts, [1]*len(F13B_texts))"
   ]
  },
  {
   "cell_type": "code",
   "execution_count": null,
   "metadata": {},
   "outputs": [],
   "source": [
    "grid_search.best_score_"
   ]
  },
  {
   "cell_type": "code",
   "execution_count": null,
   "metadata": {},
   "outputs": [],
   "source": [
    "worst_words[0][0]"
   ]
  },
  {
   "cell_type": "code",
   "execution_count": null,
   "metadata": {},
   "outputs": [],
   "source": [
    "F13B_stmt_ids = [pmid for pmid, reader in worst_words[0][1][0]['fibrin']]"
   ]
  },
  {
   "cell_type": "code",
   "execution_count": null,
   "metadata": {},
   "outputs": [],
   "source": [
    "F13B_db_texts = get_text_content_from_stmt_ids(F13B_stmt_ids)"
   ]
  },
  {
   "cell_type": "code",
   "execution_count": null,
   "metadata": {},
   "outputs": [],
   "source": [
    "F13B_db_texts = list(F13B_db_texts[1].values())"
   ]
  },
  {
   "cell_type": "code",
   "execution_count": null,
   "metadata": {},
   "outputs": [],
   "source": [
    "F13B_db_texts[10]"
   ]
  },
  {
   "cell_type": "code",
   "execution_count": null,
   "metadata": {},
   "outputs": [],
   "source": [
    "F13B_db_texts = [universal_extract_text(t) for t in F13B_db_texts if t]"
   ]
  },
  {
   "cell_type": "code",
   "execution_count": null,
   "metadata": {},
   "outputs": [],
   "source": [
    "preds = grid_search.predict(F13B_db_texts)"
   ]
  },
  {
   "cell_type": "code",
   "execution_count": null,
   "metadata": {},
   "outputs": [],
   "source": [
    "preds = [(x+1)/2 for x in preds]"
   ]
  },
  {
   "cell_type": "code",
   "execution_count": null,
   "metadata": {},
   "outputs": [],
   "source": [
    "sum(preds)/len(preds)"
   ]
  },
  {
   "cell_type": "code",
   "execution_count": null,
   "metadata": {},
   "outputs": [],
   "source": [
    "F13B_db_texts[50]"
   ]
  },
  {
   "cell_type": "code",
   "execution_count": null,
   "metadata": {},
   "outputs": [],
   "source": [
    "list(worst_words[0][1][0].keys())"
   ]
  },
  {
   "cell_type": "code",
   "execution_count": null,
   "metadata": {},
   "outputs": [],
   "source": [
    "list(hgnc_texts['F13B'].keys())"
   ]
  },
  {
   "cell_type": "code",
   "execution_count": null,
   "metadata": {},
   "outputs": [],
   "source": [
    "hgnc_texts['F13B']['F13b']"
   ]
  },
  {
   "cell_type": "code",
   "execution_count": null,
   "metadata": {},
   "outputs": [],
   "source": [
    "insulin_texts = get_text_content_for_gene('INS')"
   ]
  },
  {
   "cell_type": "code",
   "execution_count": null,
   "metadata": {},
   "outputs": [],
   "source": [
    "insulin_texts = [universal_extract_text(text) for text in insulin_texts]"
   ]
  },
  {
   "cell_type": "code",
   "execution_count": null,
   "metadata": {},
   "outputs": [],
   "source": [
    "pipeline.fit(insulin_texts)"
   ]
  },
  {
   "cell_type": "code",
   "execution_count": null,
   "metadata": {},
   "outputs": [],
   "source": [
    "df.head()"
   ]
  },
  {
   "cell_type": "code",
   "execution_count": null,
   "metadata": {},
   "outputs": [],
   "source": [
    "df.head(20)"
   ]
  },
  {
   "cell_type": "code",
   "execution_count": null,
   "metadata": {},
   "outputs": [],
   "source": [
    "INS_stmts = [stmt for stmt, reader in worst_words[15][1][0]['insulin']]"
   ]
  },
  {
   "cell_type": "code",
   "execution_count": null,
   "metadata": {},
   "outputs": [],
   "source": [
    "INS_db_texts = get_text_content_from_stmt_ids(INS_stmts)"
   ]
  },
  {
   "cell_type": "code",
   "execution_count": null,
   "metadata": {},
   "outputs": [],
   "source": [
    "db_texts = [universal_extract_text(t) for t in INS_db_texts[1].values() if t]"
   ]
  },
  {
   "cell_type": "code",
   "execution_count": null,
   "metadata": {},
   "outputs": [],
   "source": [
    "preds = pipeline.predict(db_texts)"
   ]
  },
  {
   "cell_type": "code",
   "execution_count": null,
   "metadata": {},
   "outputs": [],
   "source": [
    "sum([(x+1)/2 for x in preds])/len(preds)"
   ]
  },
  {
   "cell_type": "code",
   "execution_count": null,
   "metadata": {},
   "outputs": [],
   "source": [
    "worst_words[8][1]"
   ]
  },
  {
   "cell_type": "code",
   "execution_count": null,
   "metadata": {},
   "outputs": [],
   "source": [
    "db.session.rollback()"
   ]
  },
  {
   "cell_type": "code",
   "execution_count": null,
   "metadata": {},
   "outputs": [],
   "source": [
    "describe_table('raw_agents')"
   ]
  },
  {
   "cell_type": "code",
   "execution_count": null,
   "metadata": {},
   "outputs": [],
   "source": [
    "describe_table('raw_statements')"
   ]
  },
  {
   "cell_type": "code",
   "execution_count": null,
   "metadata": {},
   "outputs": [],
   "source": [
    "from sqlalchemy import text as sql_text"
   ]
  },
  {
   "cell_type": "code",
   "execution_count": null,
   "metadata": {},
   "outputs": [],
   "source": [
    "query = \"\"\"\n",
    "        SELECT stmt.id\n",
    "        FROM\n",
    "            raw_statements stmt\n",
    "        INNER JOIN\n",
    "            (SELECT * FROM raw_agents ra\n",
    "             WHERE \n",
    "                 ra.db_name = 'TEXT' AND\n",
    "                 ra.db_id LIKE 'MYL_' AND\n",
    "                 ra.stmt_id IS NOT NULL) myl\n",
    "        ON stmt.id = myl.stmt_id\n",
    "        WHERE\n",
    "            stmt.type = 'Complex'\n",
    "        \"\"\"\n",
    "myl_statements = list(db.session.execute(query))"
   ]
  },
  {
   "cell_type": "code",
   "execution_count": null,
   "metadata": {},
   "outputs": [],
   "source": [
    "myl_statements = [x[0] for x in myl_statements]"
   ]
  },
  {
   "cell_type": "code",
   "execution_count": null,
   "metadata": {},
   "outputs": [],
   "source": [
    "myl_statements"
   ]
  },
  {
   "cell_type": "code",
   "execution_count": null,
   "metadata": {},
   "outputs": [],
   "source": [
    "query = \"\"\"\n",
    "        SELECT db_id \n",
    "        FROM\n",
    "            raw_agents\n",
    "        WHERE\n",
    "            stmt_id = ANY(:stmts)\n",
    "        \"\"\"\n",
    "myl_binders = list(db.session.execute(sql_text(query), {'stmts': myl_statements}))"
   ]
  },
  {
   "cell_type": "code",
   "execution_count": null,
   "metadata": {},
   "outputs": [],
   "source": [
    "db.session.rollback()"
   ]
  },
  {
   "cell_type": "code",
   "execution_count": null,
   "metadata": {},
   "outputs": [],
   "source": [
    "myl_binders"
   ]
  },
  {
   "cell_type": "code",
   "execution_count": null,
   "metadata": {},
   "outputs": [],
   "source": [
    "[x for x in worst_words if 'light' in x[1][0]]"
   ]
  },
  {
   "cell_type": "code",
   "execution_count": null,
   "metadata": {},
   "outputs": [],
   "source": [
    "type(hgnc_texts)"
   ]
  },
  {
   "cell_type": "code",
   "execution_count": null,
   "metadata": {},
   "outputs": [],
   "source": [
    "crys = [(x, y) for x, y in hgnc_texts.items() if 'crystallin' in y]"
   ]
  },
  {
   "cell_type": "code",
   "execution_count": null,
   "metadata": {},
   "outputs": [],
   "source": [
    "len(crys)"
   ]
  },
  {
   "cell_type": "code",
   "execution_count": null,
   "metadata": {},
   "outputs": [],
   "source": [
    "crys"
   ]
  },
  {
   "cell_type": "code",
   "execution_count": null,
   "metadata": {},
   "outputs": [],
   "source": [
    "query1 = \"\"\"SELECT content FROM text_content\n",
    "           WHERE (text_ref_id, source, text_type) IN ((176393, 'pubmed', 'abstract'),\n",
    "                                                      (223531, 'manuscripts', 'fulltext'),\n",
    "                                                      (225473, 'pmc_oa', 'fulltext'))\n",
    "        \"\"\""
   ]
  },
  {
   "cell_type": "code",
   "execution_count": null,
   "metadata": {},
   "outputs": [],
   "source": [
    "res1 = list(db.session.execute(query1))"
   ]
  },
  {
   "cell_type": "code",
   "execution_count": null,
   "metadata": {},
   "outputs": [],
   "source": [
    "unpack(res1[2][0])"
   ]
  },
  {
   "cell_type": "code",
   "execution_count": null,
   "metadata": {},
   "outputs": [],
   "source": [
    "query2 = \"\"\"SELECT content FROM text_content AS tc\n",
    "            JOIN (VALUES (176393, 'pubmed', 'abstract'),\n",
    "                         (223531, 'manuscripts', 'fulltext'),\n",
    "                         (225473, 'pmc_oa', 'fulltext')) \n",
    "            AS ids (text_ref_id, source, text_type)\n",
    "            ON tc.text_ref_id = ids.text_ref_id AND tc.source = ids.source AND tc.text_type = ids.text_type\n",
    "         \"\"\""
   ]
  },
  {
   "cell_type": "code",
   "execution_count": null,
   "metadata": {},
   "outputs": [],
   "source": [
    "res2 = list(db.session.execute(query2))"
   ]
  },
  {
   "cell_type": "code",
   "execution_count": null,
   "metadata": {},
   "outputs": [],
   "source": [
    "unpack(res2[2][0])"
   ]
  },
  {
   "cell_type": "code",
   "execution_count": null,
   "metadata": {},
   "outputs": [],
   "source": [
    "query3 = \"\"\"SELECT content FROM text_content AS tc\n",
    "            JOIN (VALUES :identifiers) \n",
    "            AS ids (text_ref_id, source, text_type)\n",
    "            ON tc.text_ref_id = ids.text_ref_id AND tc.source = ids.source AND tc.text_type = ids.text_type\n",
    "         \"\"\""
   ]
  },
  {
   "cell_type": "code",
   "execution_count": null,
   "metadata": {},
   "outputs": [],
   "source": [
    "res2 = list(db.session.execute(query3, {'identifiers': [[176393, 'pubmed', 'abstract'],\n",
    "                                                        [223531, 'manuscripts', 'fulltext'],\n",
    "                                                        [225473, 'pmc_oa', 'fulltext']]}))"
   ]
  },
  {
   "cell_type": "code",
   "execution_count": null,
   "metadata": {},
   "outputs": [],
   "source": [
    "identifiers = [(176393, 'pubmed', 'abstract'), (223531, 'manuscripts', 'fulltext'), (225473, 'pmc_oa', 'fulltext')]\n",
    "id_str = ', '.join('(:trid%s, :source%s, :text_type%s)' % (i, i, i) for i in range(len(identifiers)))\n",
    "params = {}\n",
    "for i, (trid, source, text_type) in enumerate(identifiers):\n",
    "    params.update({'trid%s' %i: trid, 'source%i' %i: source, 'text_type%i' %i: text_type})"
   ]
  },
  {
   "cell_type": "code",
   "execution_count": null,
   "metadata": {},
   "outputs": [],
   "source": [
    "id_str"
   ]
  },
  {
   "cell_type": "code",
   "execution_count": null,
   "metadata": {},
   "outputs": [],
   "source": [
    "params"
   ]
  },
  {
   "cell_type": "code",
   "execution_count": null,
   "metadata": {},
   "outputs": [],
   "source": [
    "query3 = \"\"\"SELECT tc.text_ref_id, tc.source, tc.text_type, content FROM text_content AS tc\n",
    "           JOIN (VALUES %s)\n",
    "           AS ids (text_ref_id, source, text_type)\n",
    "           ON tc.text_ref_id = ids.text_ref_id AND tc.source = ids.source AND tc.text_type = ids.text_type\n",
    "         \"\"\" % id_str"
   ]
  },
  {
   "cell_type": "code",
   "execution_count": null,
   "metadata": {},
   "outputs": [],
   "source": [
    "query3"
   ]
  },
  {
   "cell_type": "code",
   "execution_count": null,
   "metadata": {},
   "outputs": [],
   "source": [
    "res3 = list(db.session.execute(query3, params))"
   ]
  },
  {
   "cell_type": "code",
   "execution_count": null,
   "metadata": {},
   "outputs": [],
   "source": [
    "res3"
   ]
  },
  {
   "cell_type": "code",
   "execution_count": null,
   "metadata": {},
   "outputs": [],
   "source": [
    "d"
   ]
  },
  {
   "cell_type": "code",
   "execution_count": null,
   "metadata": {},
   "outputs": [],
   "source": [
    "db.session.rollback()"
   ]
  },
  {
   "cell_type": "code",
   "execution_count": null,
   "metadata": {},
   "outputs": [],
   "source": [
    "res"
   ]
  },
  {
   "cell_type": "code",
   "execution_count": null,
   "metadata": {},
   "outputs": [],
   "source": [
    "describe_table('text_refs')"
   ]
  },
  {
   "cell_type": "code",
   "execution_count": null,
   "metadata": {},
   "outputs": [],
   "source": [
    "from indra_db.util.content_scripts import get_stmts_with_agent_text_like, get_text_content_from_stmt_ids"
   ]
  },
  {
   "cell_type": "code",
   "execution_count": null,
   "metadata": {},
   "outputs": [],
   "source": []
  },
  {
   "cell_type": "code",
   "execution_count": null,
   "metadata": {},
   "outputs": [],
   "source": [
    "from indra_db.util.content_scripts import get_content_identifiers_from_stmt_ids2"
   ]
  },
  {
   "cell_type": "code",
   "execution_count": null,
   "metadata": {},
   "outputs": [],
   "source": [
    "GSC_stmts = get_stmts_with_agent_text_like('GSC')['GSC']"
   ]
  },
  {
   "cell_type": "code",
   "execution_count": null,
   "metadata": {},
   "outputs": [],
   "source": [
    "%time res1 = get_content_identifiers_from_stmt_ids(GSC_stmts)"
   ]
  },
  {
   "cell_type": "code",
   "execution_count": null,
   "metadata": {},
   "outputs": [],
   "source": [
    "%time res2 = get_content_identifiers_from_stmt_ids2(GSC_stmts)"
   ]
  },
  {
   "cell_type": "code",
   "execution_count": null,
   "metadata": {},
   "outputs": [],
   "source": [
    "res2 == res1"
   ]
  },
  {
   "cell_type": "code",
   "execution_count": null,
   "metadata": {},
   "outputs": [],
   "source": [
    "ER_stmts = get_stmts_with_agent_text_like('ER')['ER']"
   ]
  },
  {
   "cell_type": "code",
   "execution_count": null,
   "metadata": {
    "scrolled": false
   },
   "outputs": [],
   "source": [
    "%time res1 = get_text_content_from_stmt_ids(ER_stmts)"
   ]
  },
  {
   "cell_type": "code",
   "execution_count": null,
   "metadata": {},
   "outputs": [],
   "source": [
    "len(res1)"
   ]
  },
  {
   "cell_type": "code",
   "execution_count": null,
   "metadata": {},
   "outputs": [],
   "source": [
    "%time res2 = get_content_identifiers_from_stmt_ids2(ER_stmts)"
   ]
  },
  {
   "cell_type": "code",
   "execution_count": null,
   "metadata": {},
   "outputs": [],
   "source": []
  },
  {
   "cell_type": "code",
   "execution_count": null,
   "metadata": {},
   "outputs": [],
   "source": [
    "len(res2)"
   ]
  },
  {
   "cell_type": "code",
   "execution_count": null,
   "metadata": {},
   "outputs": [],
   "source": [
    "from sqlalchemy import func"
   ]
  },
  {
   "cell_type": "code",
   "execution_count": null,
   "metadata": {},
   "outputs": [],
   "source": [
    "trid_q = (db.session.query(func.array_agg(db.RawStatements.id)\n",
    "                               .label('stmt_ids'),\n",
    "                               db.TextRef.id.label('text_ref_id'))\n",
    "              .filter(db.RawStatements.id.in_(stmt_ids),\n",
    "                      *db.link(db.RawStatements, db.TextRef))\n",
    "              .group_by(db.TextRef.id))\n",
    "trid_q = trid_q.subquery('text_ref_ids')\n",
    "texts_q = (db.session.query(db.TextContent.source,\n",
    "                                db.TextContent.text_type,\n",
    "                                trid_q)\n",
    "                 .filter(trid_q.c.text_ref_id ==\n",
    "                         db.TextContent.text_ref_id))"
   ]
  },
  {
   "cell_type": "code",
   "execution_count": null,
   "metadata": {},
   "outputs": [],
   "source": [
    "from sqlparse import format"
   ]
  },
  {
   "cell_type": "code",
   "execution_count": null,
   "metadata": {},
   "outputs": [],
   "source": [
    "print(format(str(texts_q), reindent=True, keyword_case='upper'))"
   ]
  },
  {
   "cell_type": "code",
   "execution_count": null,
   "metadata": {},
   "outputs": [],
   "source": [
    "def get_content_identifiers_from_stmt_ids2(stmt_ids):\n",
    "    stmt_ids = tuple(set(stmt_ids))\n",
    "    query = \"\"\"SELECT\n",
    "                rs.id,\n",
    "                tc.text_ref_id,\n",
    "                tc.source,\n",
    "                tc.format,\n",
    "                tc.text_type\n",
    "            FROM\n",
    "                raw statements rs\n",
    "            JOIN\n",
    "                reading rd\n",
    "            ON rs.reading_id = rd.id\n",
    "            WHERE rs.id IN :stmt_ids\n",
    "            \n",
    "                text_content tc\n",
    "            JOIN\n",
    "                reading rd\n",
    "            ON\n",
    "                rd.text_content_id = tc.id\n",
    "            JOIN\n",
    "                text_ref tr\n",
    "            ON\n",
    "                tr.id = tc.text_ref_id\n",
    "            JOIN\n",
    "                (SELECT\n",
    "                    raw_statements.id id\n",
    "                 FROM\n",
    "                     raw_statements\n",
    "                 JOIN\n",
    "                     reading\n",
    "                 ON\n",
    "                     raw_statements.reading_id = reading.id\n",
    "                ) stmts\n",
    "            ON\n",
    "            WHERE\n",
    "                stmts.id IN :stmt_ids        \n",
    "            \"\"\"\n",
    "    res = db.session.execute(query, {'stmt_ids': stmt_ids})\n",
    "    priority = {'fulltext': 2, 'abstract': 1, 'title': 0}\n",
    "    seen_text_refs = {}\n",
    "    ref_dict = {}\n",
    "    for stmt_id, text_ref_id, source, format_, text_type in res.fetchall():\n",
    "        new_identifier = (text_ref_id, source, format_, text_type)\n",
    "        if text_ref_id not in seen_text_refs:\n",
    "            seen_text_refs[text_ref_id] = new_identifier\n",
    "            ref_dict[stmt_id] = new_identifier\n",
    "        else:\n",
    "            # update if we find text_type with higher priority for\n",
    "            # a given text_ref\n",
    "            old_identifier = seen_text_refs[text_ref_id]\n",
    "            old_text_type = old_identifier[3]\n",
    "            if priority[text_type] > priority[old_text_type]:\n",
    "                seen_text_refs[text_ref_id] = new_identifier\n",
    "                ref_dict[stmt_id] = new_identifier\n",
    "    return ref_dict"
   ]
  },
  {
   "cell_type": "code",
   "execution_count": null,
   "metadata": {},
   "outputs": [],
   "source": [
    "describe_table('raw_statements')"
   ]
  },
  {
   "cell_type": "code",
   "execution_count": null,
   "metadata": {},
   "outputs": [],
   "source": [
    "describe_table('reading')"
   ]
  },
  {
   "cell_type": "code",
   "execution_count": null,
   "metadata": {},
   "outputs": [],
   "source": [
    "describe_table('text_content')"
   ]
  },
  {
   "cell_type": "code",
   "execution_count": null,
   "metadata": {},
   "outputs": [],
   "source": [
    "show_indices('reading')"
   ]
  },
  {
   "cell_type": "code",
   "execution_count": null,
   "metadata": {},
   "outputs": [],
   "source": [
    "show_indices('raw_stmt_ref_link')"
   ]
  },
  {
   "cell_type": "code",
   "execution_count": null,
   "metadata": {},
   "outputs": [],
   "source": [
    "query = \"\"\"CREATE INDEX\n",
    "               text_ref_ix\n",
    "           ON\n",
    "               public.raw_stmt_ref_link\n",
    "           USING\n",
    "               btree (text_ref_id)\n",
    "        \"\"\""
   ]
  },
  {
   "cell_type": "code",
   "execution_count": null,
   "metadata": {},
   "outputs": [],
   "source": [
    "db.session.execute(query)"
   ]
  },
  {
   "cell_type": "code",
   "execution_count": null,
   "metadata": {},
   "outputs": [],
   "source": [
    "db.session.commit()"
   ]
  },
  {
   "cell_type": "code",
   "execution_count": null,
   "metadata": {},
   "outputs": [],
   "source": [
    "db.session.rollback()"
   ]
  },
  {
   "cell_type": "code",
   "execution_count": null,
   "metadata": {},
   "outputs": [],
   "source": [
    "show_matviews()"
   ]
  },
  {
   "cell_type": "code",
   "execution_count": null,
   "metadata": {},
   "outputs": [],
   "source": [
    "show_indices('raw_stmt_ref_link')"
   ]
  },
  {
   "cell_type": "code",
   "execution_count": null,
   "metadata": {},
   "outputs": [],
   "source": [
    "show_indices('reading')"
   ]
  },
  {
   "cell_type": "code",
   "execution_count": null,
   "metadata": {},
   "outputs": [],
   "source": [
    "show_indices('raw_statements')"
   ]
  },
  {
   "cell_type": "code",
   "execution_count": null,
   "metadata": {},
   "outputs": [],
   "source": [
    "db.session.rollback()"
   ]
  },
  {
   "cell_type": "code",
   "execution_count": null,
   "metadata": {},
   "outputs": [],
   "source": [
    "query = \"\"\"SHOW temp_file_limit\"\"\""
   ]
  },
  {
   "cell_type": "code",
   "execution_count": null,
   "metadata": {},
   "outputs": [],
   "source": [
    "res = list(db.session.execute(query))"
   ]
  },
  {
   "cell_type": "code",
   "execution_count": null,
   "metadata": {},
   "outputs": [],
   "source": [
    "res"
   ]
  },
  {
   "cell_type": "code",
   "execution_count": null,
   "metadata": {},
   "outputs": [],
   "source": [
    "describe_table('rstmt_ref_link')"
   ]
  },
  {
   "cell_type": "code",
   "execution_count": null,
   "metadata": {},
   "outputs": [],
   "source": [
    "show_matviews()"
   ]
  },
  {
   "cell_type": "code",
   "execution_count": null,
   "metadata": {},
   "outputs": [],
   "source": [
    "views = show_matviews()"
   ]
  },
  {
   "cell_type": "code",
   "execution_count": null,
   "metadata": {},
   "outputs": [],
   "source": [
    "views[-2][4]"
   ]
  },
  {
   "cell_type": "code",
   "execution_count": null,
   "metadata": {},
   "outputs": [],
   "source": [
    "query = \"\"\"SELECT\n",
    "                   rs.id, tc.text_ref_id, tc.source, tc.format, tc.text_type\n",
    "               FROM\n",
    "                   raw_statements rs\n",
    "               JOIN\n",
    "                   raw_stmt_ref_link link\n",
    "               ON\n",
    "                   rs.id = link.stmt_id\n",
    "               JOIN\n",
    "                   text_ref tr\n",
    "               ON\n",
    "                   link.text_ref_id = tr.id\n",
    "               JOIN text_content tc\n",
    "                   ON tr.text_content_id tc.id\n",
    "               WHERE\n",
    "                   rs.id IN :stmt_ids\n",
    "            \"\"\""
   ]
  },
  {
   "cell_type": "code",
   "execution_count": 1,
   "metadata": {},
   "outputs": [],
   "source": [
    "from indra_db.util.content_scripts import get_stmts_with_agent_text_like, get_text_content_from_stmt_ids, \\\n",
    "    get_content_identifiers_from_stmt_ids, get_content_identifiers_from_stmt_ids2"
   ]
  },
  {
   "cell_type": "code",
   "execution_count": 14,
   "metadata": {},
   "outputs": [],
   "source": [
    "stmt_ids = get_stmts_with_agent_text_like('ER')['ER']"
   ]
  },
  {
   "cell_type": "code",
   "execution_count": 15,
   "metadata": {},
   "outputs": [
    {
     "name": "stdout",
     "output_type": "stream",
     "text": [
      "CPU times: user 12.3 s, sys: 4.83 s, total: 17.1 s\n",
      "Wall time: 1min 56s\n"
     ]
    }
   ],
   "source": [
    "%time res = get_text_content_from_stmt_ids(stmt_ids)"
   ]
  },
  {
   "cell_type": "code",
   "execution_count": 10,
   "metadata": {},
   "outputs": [
    {
     "data": {
      "text/plain": [
       "27392"
      ]
     },
     "execution_count": 10,
     "metadata": {},
     "output_type": "execute_result"
    }
   ],
   "source": [
    "len(res[1])"
   ]
  },
  {
   "cell_type": "code",
   "execution_count": 12,
   "metadata": {},
   "outputs": [
    {
     "name": "stdout",
     "output_type": "stream",
     "text": [
      "CPU times: user 286 ms, sys: 133 ms, total: 419 ms\n",
      "Wall time: 827 ms\n"
     ]
    }
   ],
   "source": [
    "%time res = get_content_identifiers_from_stmt_ids(stmt_ids)"
   ]
  },
  {
   "cell_type": "code",
   "execution_count": 13,
   "metadata": {},
   "outputs": [
    {
     "name": "stdout",
     "output_type": "stream",
     "text": [
      "CPU times: user 268 ms, sys: 29.2 ms, total: 297 ms\n",
      "Wall time: 603 ms\n"
     ]
    }
   ],
   "source": [
    "%time res2 = get_content_identifiers_from_stmt_ids2(stmt_ids)"
   ]
  },
  {
   "cell_type": "code",
   "execution_count": null,
   "metadata": {},
   "outputs": [],
   "source": [
    "len(res2)"
   ]
  },
  {
   "cell_type": "code",
   "execution_count": null,
   "metadata": {},
   "outputs": [],
   "source": [
    "x = _collect_content_identifiers(res2)"
   ]
  },
  {
   "cell_type": "code",
   "execution_count": null,
   "metadata": {},
   "outputs": [],
   "source": [
    "len(x)"
   ]
  },
  {
   "cell_type": "code",
   "execution_count": null,
   "metadata": {},
   "outputs": [],
   "source": [
    "len(res1)"
   ]
  },
  {
   "cell_type": "code",
   "execution_count": null,
   "metadata": {},
   "outputs": [],
   "source": [
    "len(x)"
   ]
  },
  {
   "cell_type": "code",
   "execution_count": null,
   "metadata": {},
   "outputs": [],
   "source": [
    "len(stmt_ids)"
   ]
  },
  {
   "cell_type": "code",
   "execution_count": null,
   "metadata": {},
   "outputs": [],
   "source": [
    "x"
   ]
  },
  {
   "cell_type": "code",
   "execution_count": null,
   "metadata": {},
   "outputs": [],
   "source": [
    "res2"
   ]
  },
  {
   "cell_type": "code",
   "execution_count": null,
   "metadata": {},
   "outputs": [],
   "source": [
    "\""
   ]
  },
  {
   "cell_type": "code",
   "execution_count": null,
   "metadata": {},
   "outputs": [],
   "source": [
    "res = db.session.execute(query)"
   ]
  },
  {
   "cell_type": "code",
   "execution_count": null,
   "metadata": {},
   "outputs": [],
   "source": [
    "x"
   ]
  },
  {
   "cell_type": "code",
   "execution_count": 24,
   "metadata": {},
   "outputs": [],
   "source": [
    "def get_content_identifiers_from_stmt_ids1(stmt_ids, db=None):\n",
    "    \"\"\"Get content identifiers for statements from a list of ids\n",
    "\n",
    "    An identifier is a triple containing a text_ref_id, source, and text_type\n",
    "    Gets the identifier for best piece of text content with priority\n",
    "    fulltext > abstract > title\n",
    "\n",
    "    Parameters\n",
    "    ----------\n",
    "    stmt_ids : list of str\n",
    "\n",
    "    db : Optional[:py:class:`DatabaseManager`]\n",
    "        User has the option to pass in a database manager. If None\n",
    "        the primary database is used. Default: None\n",
    "\n",
    "    Returns\n",
    "    -------\n",
    "    ref_dict: dict\n",
    "        dict mapping statement ids to identifiers for pieces of content.\n",
    "        These identifiers take the form `<text_ref_id>/<source>/<text_type>'.\n",
    "        No entries exist for statements with no associated text content\n",
    "        (these typically come from databases)\n",
    "    \"\"\"\n",
    "    if db is None:\n",
    "        db = get_primary_db()\n",
    "    stmt_ids = tuple(set(stmt_ids))\n",
    "    query = \"\"\"SELECT\n",
    "                   sub.stmt_id, tc.text_ref_id, tc.source,\n",
    "                   tc.format, tc.text_type\n",
    "               FROM\n",
    "                   text_content tc,\n",
    "                   (SELECT\n",
    "                        stmt_id, text_ref_id\n",
    "                    FROM\n",
    "                        raw_stmt_ref_link\n",
    "                    WHERE\n",
    "                        stmt_id IN :stmt_ids) sub\n",
    "                WHERE\n",
    "                    tc.text_ref_id = sub.text_ref_id\n",
    "            \"\"\"\n",
    "    res = db.session.execute(text(query), {'stmt_ids': stmt_ids})\n",
    "    return _collect_content_identifiers(res)"
   ]
  },
  {
   "cell_type": "code",
   "execution_count": 25,
   "metadata": {},
   "outputs": [],
   "source": []
  },
  {
   "cell_type": "code",
   "execution_count": 26,
   "metadata": {},
   "outputs": [
    {
     "ename": "NameError",
     "evalue": "name '_collect_content_identifiers' is not defined",
     "output_type": "error",
     "traceback": [
      "\u001b[0;31m---------------------------------------------------------------------------\u001b[0m",
      "\u001b[0;31mNameError\u001b[0m                                 Traceback (most recent call last)",
      "\u001b[0;32m<timed eval>\u001b[0m in \u001b[0;36m<module>\u001b[0;34m\u001b[0m\n",
      "\u001b[0;32m<ipython-input-24-52010284071a>\u001b[0m in \u001b[0;36mget_content_identifiers_from_stmt_ids1\u001b[0;34m(stmt_ids, db)\u001b[0m\n\u001b[1;32m     40\u001b[0m             \"\"\"\n\u001b[1;32m     41\u001b[0m     \u001b[0mres\u001b[0m \u001b[0;34m=\u001b[0m \u001b[0mdb\u001b[0m\u001b[0;34m.\u001b[0m\u001b[0msession\u001b[0m\u001b[0;34m.\u001b[0m\u001b[0mexecute\u001b[0m\u001b[0;34m(\u001b[0m\u001b[0mtext\u001b[0m\u001b[0;34m(\u001b[0m\u001b[0mquery\u001b[0m\u001b[0;34m)\u001b[0m\u001b[0;34m,\u001b[0m \u001b[0;34m{\u001b[0m\u001b[0;34m'stmt_ids'\u001b[0m\u001b[0;34m:\u001b[0m \u001b[0mstmt_ids\u001b[0m\u001b[0;34m}\u001b[0m\u001b[0;34m)\u001b[0m\u001b[0;34m\u001b[0m\u001b[0;34m\u001b[0m\u001b[0m\n\u001b[0;32m---> 42\u001b[0;31m     \u001b[0;32mreturn\u001b[0m \u001b[0m_collect_content_identifiers\u001b[0m\u001b[0;34m(\u001b[0m\u001b[0mres\u001b[0m\u001b[0;34m)\u001b[0m\u001b[0;34m\u001b[0m\u001b[0;34m\u001b[0m\u001b[0m\n\u001b[0m",
      "\u001b[0;31mNameError\u001b[0m: name '_collect_content_identifiers' is not defined"
     ]
    }
   ],
   "source": [
    "%time get_content_identifiers_from_stmt_ids1(stmt_ids)"
   ]
  },
  {
   "cell_type": "code",
   "execution_count": 6,
   "metadata": {},
   "outputs": [
    {
     "name": "stdout",
     "output_type": "stream",
     "text": [
      "/Users/albertsteppi/gilda/models\n"
     ]
    }
   ],
   "source": [
    "cd ~/gilda/models/"
   ]
  },
  {
   "cell_type": "code",
   "execution_count": 8,
   "metadata": {},
   "outputs": [],
   "source": [
    "from learn import get_texts_for_term, get_texts_for_term2, get_pmids"
   ]
  },
  {
   "cell_type": "code",
   "execution_count": 9,
   "metadata": {},
   "outputs": [
    {
     "ename": "AttributeError",
     "evalue": "'str' object has no attribute 'db'",
     "output_type": "error",
     "traceback": [
      "\u001b[0;31m---------------------------------------------------------------------------\u001b[0m",
      "\u001b[0;31mAttributeError\u001b[0m                            Traceback (most recent call last)",
      "\u001b[0;32m<ipython-input-9-9fb314603fb3>\u001b[0m in \u001b[0;36m<module>\u001b[0;34m\u001b[0m\n\u001b[0;32m----> 1\u001b[0;31m \u001b[0mpmids\u001b[0m \u001b[0;34m=\u001b[0m \u001b[0mget_pmids\u001b[0m\u001b[0;34m(\u001b[0m\u001b[0;34m[\u001b[0m\u001b[0;34m'ER'\u001b[0m\u001b[0;34m]\u001b[0m\u001b[0;34m)\u001b[0m\u001b[0;34m\u001b[0m\u001b[0;34m\u001b[0m\u001b[0m\n\u001b[0m",
      "\u001b[0;32m~/gilda/models/learn.py\u001b[0m in \u001b[0;36mget_pmids\u001b[0;34m(ambig_terms)\u001b[0m\n\u001b[1;32m     32\u001b[0m     \u001b[0mpmid_counter\u001b[0m \u001b[0;34m=\u001b[0m \u001b[0mCounter\u001b[0m\u001b[0;34m(\u001b[0m\u001b[0;34m)\u001b[0m\u001b[0;34m\u001b[0m\u001b[0;34m\u001b[0m\u001b[0m\n\u001b[1;32m     33\u001b[0m     \u001b[0;32mfor\u001b[0m \u001b[0mterm\u001b[0m \u001b[0;32min\u001b[0m \u001b[0mambig_terms\u001b[0m\u001b[0;34m:\u001b[0m\u001b[0;34m\u001b[0m\u001b[0;34m\u001b[0m\u001b[0m\n\u001b[0;32m---> 34\u001b[0;31m         \u001b[0mkey\u001b[0m \u001b[0;34m=\u001b[0m \u001b[0;34m(\u001b[0m\u001b[0mterm\u001b[0m\u001b[0;34m.\u001b[0m\u001b[0mdb\u001b[0m\u001b[0;34m,\u001b[0m \u001b[0mterm\u001b[0m\u001b[0;34m.\u001b[0m\u001b[0mid\u001b[0m\u001b[0;34m)\u001b[0m\u001b[0;34m\u001b[0m\u001b[0;34m\u001b[0m\u001b[0m\n\u001b[0m\u001b[1;32m     35\u001b[0m         \u001b[0;32mif\u001b[0m \u001b[0mterm\u001b[0m\u001b[0;34m.\u001b[0m\u001b[0mdb\u001b[0m \u001b[0;34m==\u001b[0m \u001b[0;34m'HGNC'\u001b[0m\u001b[0;34m:\u001b[0m\u001b[0;34m\u001b[0m\u001b[0;34m\u001b[0m\u001b[0m\n\u001b[1;32m     36\u001b[0m             \u001b[0mgene\u001b[0m \u001b[0;34m=\u001b[0m \u001b[0mterm\u001b[0m\u001b[0;34m.\u001b[0m\u001b[0mentry_name\u001b[0m\u001b[0;34m\u001b[0m\u001b[0;34m\u001b[0m\u001b[0m\n",
      "\u001b[0;31mAttributeError\u001b[0m: 'str' object has no attribute 'db'"
     ]
    }
   ],
   "source": []
  },
  {
   "cell_type": "code",
   "execution_count": null,
   "metadata": {},
   "outputs": [],
   "source": []
  }
 ],
 "metadata": {
  "kernelspec": {
   "display_name": "Python 3",
   "language": "python",
   "name": "python3"
  },
  "language_info": {
   "codemirror_mode": {
    "name": "ipython",
    "version": 3
   },
   "file_extension": ".py",
   "mimetype": "text/x-python",
   "name": "python",
   "nbconvert_exporter": "python",
   "pygments_lexer": "ipython3",
   "version": "3.8.4"
  }
 },
 "nbformat": 4,
 "nbformat_minor": 2
}
