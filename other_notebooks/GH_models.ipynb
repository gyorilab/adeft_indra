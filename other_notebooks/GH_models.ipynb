{
 "cells": [
  {
   "cell_type": "code",
   "execution_count": 3,
   "metadata": {},
   "outputs": [],
   "source": [
    "import pickle\n",
    "\n",
    "from indra.literature.adeft_tools import universal_extract_text\n",
    "\n",
    "from adeft.discover import AdeftMiner\n",
    "from adeft.gui import ground_with_gui\n",
    "from adeft.modeling.label import AdeftLabeler\n",
    "from adeft.disambiguate import load_disambiguator\n",
    "from adeft.modeling.classify import AdeftClassifier\n",
    "from adeft.modeling.find_anomalies import AdeftAnomalyDetector"
   ]
  },
  {
   "cell_type": "code",
   "execution_count": 4,
   "metadata": {},
   "outputs": [],
   "source": [
    "with open('data/content/GH_refs.pkl', 'rb') as f:\n",
    "    GH_refs = pickle.load(f)\n",
    "with open('data/content/GH_content.pkl', 'rb') as f:\n",
    "    GH_content = pickle.load(f)\n",
    "with open('data/entrez_content/GH1_content.pkl', 'rb') as f:\n",
    "    GH1_entrez = pickle.load(f)"
   ]
  },
  {
   "cell_type": "code",
   "execution_count": 8,
   "metadata": {},
   "outputs": [],
   "source": [
    "GH_disamb = load_disambiguator('GH')"
   ]
  },
  {
   "cell_type": "code",
   "execution_count": 43,
   "metadata": {},
   "outputs": [
    {
     "data": {
      "text/plain": [
       "{'GH': {'growth hormone': 'HGNC:4261',\n",
       "  'glycoside hydrolase': 'MESH:D006026',\n",
       "  'gestational hypertension': 'ungrounded',\n",
       "  'glycogenic hepatopathy': 'ungrounded'}}"
      ]
     },
     "execution_count": 43,
     "metadata": {},
     "output_type": "execute_result"
    }
   ],
   "source": [
    "GH_disamb.grounding_dict"
   ]
  },
  {
   "cell_type": "code",
   "execution_count": 11,
   "metadata": {},
   "outputs": [],
   "source": [
    "GH_texts = [universal_extract_text(text, contains=['GH']) for text in GH_content.values()\n",
    "            if text]"
   ]
  },
  {
   "cell_type": "code",
   "execution_count": 14,
   "metadata": {},
   "outputs": [
    {
     "data": {
      "text/plain": [
       "9117"
      ]
     },
     "execution_count": 14,
     "metadata": {},
     "output_type": "execute_result"
    }
   ],
   "source": [
    "len(GH_texts)"
   ]
  },
  {
   "cell_type": "code",
   "execution_count": 15,
   "metadata": {},
   "outputs": [],
   "source": [
    "GH1_texts = [universal_extract_text(text) for text in GH1_entrez if text]"
   ]
  },
  {
   "cell_type": "code",
   "execution_count": 16,
   "metadata": {},
   "outputs": [
    {
     "data": {
      "text/plain": [
       "408"
      ]
     },
     "execution_count": 16,
     "metadata": {},
     "output_type": "execute_result"
    }
   ],
   "source": [
    "len(GH1_texts)"
   ]
  },
  {
   "cell_type": "code",
   "execution_count": 18,
   "metadata": {},
   "outputs": [],
   "source": [
    "disambs = GH_disamb.disambiguate(GH_texts)"
   ]
  },
  {
   "cell_type": "code",
   "execution_count": 19,
   "metadata": {},
   "outputs": [
    {
     "data": {
      "text/plain": [
       "('HGNC:4261',\n",
       " 'GH1',\n",
       " {'HGNC:4261': 1.0, 'MESH:D006026': 0.0, 'ungrounded': 0.0})"
      ]
     },
     "execution_count": 19,
     "metadata": {},
     "output_type": "execute_result"
    }
   ],
   "source": [
    "disambs[0]"
   ]
  },
  {
   "cell_type": "code",
   "execution_count": 48,
   "metadata": {},
   "outputs": [],
   "source": [
    "anomalous_texts = [text for text, disamb in zip(GH_texts, disambs) if\n",
    "                   disamb[0] == 'HGNC:4261' and set(disamb[2].values()) == set([0.0, 1.0])]"
   ]
  },
  {
   "cell_type": "code",
   "execution_count": 49,
   "metadata": {},
   "outputs": [
    {
     "data": {
      "text/plain": [
       "4817"
      ]
     },
     "execution_count": 49,
     "metadata": {},
     "output_type": "execute_result"
    }
   ],
   "source": []
  },
  {
   "cell_type": "code",
   "execution_count": 36,
   "metadata": {},
   "outputs": [],
   "source": [
    "GH_detector = AdeftAnomalyDetector(blacklist=['GH1', 'GH'])"
   ]
  },
  {
   "cell_type": "code",
   "execution_count": 44,
   "metadata": {},
   "outputs": [],
   "source": [
    "param_grid = {'nu': [0.5, 0.6, 0.7], 'max_features': [5, 10, 20],\n",
    "              'ngram_range': [(1, 1), (1, 2)]}"
   ]
  },
  {
   "cell_type": "code",
   "execution_count": 45,
   "metadata": {},
   "outputs": [
    {
     "name": "stderr",
     "output_type": "stream",
     "text": [
      "INFO: [2019-11-26 13:02:29] /Users/albertsteppi/adeft/adeft/modeling/find_anomalies.py - Best score of 0.0 found for parameter values:\n",
      "{'nu': 0.5, 'max_features': 10, 'ngram_range': (1, 1)}\n"
     ]
    }
   ],
   "source": [
    "GH_detector.cv(GH1_texts, anomalous_texts, param_grid, n_jobs=8)"
   ]
  },
  {
   "cell_type": "code",
   "execution_count": 46,
   "metadata": {},
   "outputs": [
    {
     "data": {
      "text/plain": [
       "{'mean_fit_time': array([0.16244869, 0.57272477, 0.21738338, 0.57852497, 0.19949379,\n",
       "        0.58279052, 0.20834751, 0.57075543, 0.1915998 , 0.58622084,\n",
       "        0.19860215, 0.58121395, 0.20395479, 0.57543654, 0.20918937,\n",
       "        0.58977809, 0.21994257, 0.49488001]),\n",
       " 'std_fit_time': array([0.01567579, 0.01647477, 0.03048168, 0.02233889, 0.0305974 ,\n",
       "        0.02115509, 0.02313954, 0.02503815, 0.00622446, 0.01364771,\n",
       "        0.01617415, 0.01371395, 0.01448588, 0.02755995, 0.02968387,\n",
       "        0.01586859, 0.01123935, 0.04730596]),\n",
       " 'mean_score_time': array([0.15804343, 0.27334886, 0.17753038, 0.26328063, 0.18106966,\n",
       "        0.28554573, 0.19294434, 0.28051977, 0.19592667, 0.28248997,\n",
       "        0.18303943, 0.28556447, 0.17464871, 0.27556663, 0.19183102,\n",
       "        0.28690486, 0.1922606 , 0.19702697]),\n",
       " 'std_score_time': array([0.03068639, 0.02638121, 0.02629305, 0.04619839, 0.02616604,\n",
       "        0.04008969, 0.02484096, 0.04675247, 0.02521806, 0.021546  ,\n",
       "        0.02880851, 0.03816113, 0.0156302 , 0.04636208, 0.02058652,\n",
       "        0.03622676, 0.03048617, 0.02075231]),\n",
       " 'param_oc_svm__nu': masked_array(data=[0.5, 0.5, 0.5, 0.5, 0.5, 0.5, 0.6, 0.6, 0.6, 0.6, 0.6,\n",
       "                    0.6, 0.7, 0.7, 0.7, 0.7, 0.7, 0.7],\n",
       "              mask=[False, False, False, False, False, False, False, False,\n",
       "                    False, False, False, False, False, False, False, False,\n",
       "                    False, False],\n",
       "        fill_value='?',\n",
       "             dtype=object),\n",
       " 'param_tfidf__max_features': masked_array(data=[5, 5, 10, 10, 20, 20, 5, 5, 10, 10, 20, 20, 5, 5, 10,\n",
       "                    10, 20, 20],\n",
       "              mask=[False, False, False, False, False, False, False, False,\n",
       "                    False, False, False, False, False, False, False, False,\n",
       "                    False, False],\n",
       "        fill_value='?',\n",
       "             dtype=object),\n",
       " 'param_tfidf__ngram_range': masked_array(data=[(1, 1), (1, 2), (1, 1), (1, 2), (1, 1), (1, 2), (1, 1),\n",
       "                    (1, 2), (1, 1), (1, 2), (1, 1), (1, 2), (1, 1), (1, 2),\n",
       "                    (1, 1), (1, 2), (1, 1), (1, 2)],\n",
       "              mask=[False, False, False, False, False, False, False, False,\n",
       "                    False, False, False, False, False, False, False, False,\n",
       "                    False, False],\n",
       "        fill_value='?',\n",
       "             dtype=object),\n",
       " 'params': [{'oc_svm__nu': 0.5,\n",
       "   'tfidf__max_features': 5,\n",
       "   'tfidf__ngram_range': (1, 1)},\n",
       "  {'oc_svm__nu': 0.5, 'tfidf__max_features': 5, 'tfidf__ngram_range': (1, 2)},\n",
       "  {'oc_svm__nu': 0.5, 'tfidf__max_features': 10, 'tfidf__ngram_range': (1, 1)},\n",
       "  {'oc_svm__nu': 0.5, 'tfidf__max_features': 10, 'tfidf__ngram_range': (1, 2)},\n",
       "  {'oc_svm__nu': 0.5, 'tfidf__max_features': 20, 'tfidf__ngram_range': (1, 1)},\n",
       "  {'oc_svm__nu': 0.5, 'tfidf__max_features': 20, 'tfidf__ngram_range': (1, 2)},\n",
       "  {'oc_svm__nu': 0.6, 'tfidf__max_features': 5, 'tfidf__ngram_range': (1, 1)},\n",
       "  {'oc_svm__nu': 0.6, 'tfidf__max_features': 5, 'tfidf__ngram_range': (1, 2)},\n",
       "  {'oc_svm__nu': 0.6, 'tfidf__max_features': 10, 'tfidf__ngram_range': (1, 1)},\n",
       "  {'oc_svm__nu': 0.6, 'tfidf__max_features': 10, 'tfidf__ngram_range': (1, 2)},\n",
       "  {'oc_svm__nu': 0.6, 'tfidf__max_features': 20, 'tfidf__ngram_range': (1, 1)},\n",
       "  {'oc_svm__nu': 0.6, 'tfidf__max_features': 20, 'tfidf__ngram_range': (1, 2)},\n",
       "  {'oc_svm__nu': 0.7, 'tfidf__max_features': 5, 'tfidf__ngram_range': (1, 1)},\n",
       "  {'oc_svm__nu': 0.7, 'tfidf__max_features': 5, 'tfidf__ngram_range': (1, 2)},\n",
       "  {'oc_svm__nu': 0.7, 'tfidf__max_features': 10, 'tfidf__ngram_range': (1, 1)},\n",
       "  {'oc_svm__nu': 0.7, 'tfidf__max_features': 10, 'tfidf__ngram_range': (1, 2)},\n",
       "  {'oc_svm__nu': 0.7, 'tfidf__max_features': 20, 'tfidf__ngram_range': (1, 1)},\n",
       "  {'oc_svm__nu': 0.7,\n",
       "   'tfidf__max_features': 20,\n",
       "   'tfidf__ngram_range': (1, 2)}],\n",
       " 'split0_test_sens': array([0.92307692, 0.92307692, 1.        , 0.92307692, 1.        ,\n",
       "        1.        , 1.        , 1.        , 1.        , 0.92307692,\n",
       "        1.        , 1.        , 1.        , 1.        , 1.        ,\n",
       "        1.        , 1.        , 1.        ]),\n",
       " 'split1_test_sens': array([1.        , 1.        , 1.        , 1.        , 0.91666667,\n",
       "        1.        , 1.        , 1.        , 1.        , 1.        ,\n",
       "        1.        , 1.        , 1.        , 1.        , 1.        ,\n",
       "        1.        , 1.        , 1.        ]),\n",
       " 'split2_test_sens': array([0.91666667, 0.91666667, 1.        , 1.        , 0.75      ,\n",
       "        1.        , 0.91666667, 0.91666667, 1.        , 1.        ,\n",
       "        0.91666667, 1.        , 0.91666667, 0.91666667, 1.        ,\n",
       "        1.        , 1.        , 1.        ]),\n",
       " 'split3_test_sens': array([1.        , 1.        , 1.        , 1.        , 0.91666667,\n",
       "        0.91666667, 1.        , 1.        , 1.        , 1.        ,\n",
       "        0.91666667, 1.        , 1.        , 1.        , 1.        ,\n",
       "        1.        , 1.        , 1.        ]),\n",
       " 'split4_test_sens': array([1., 1., 1., 1., 1., 1., 1., 1., 1., 1., 1., 1., 1., 1., 1., 1., 1.,\n",
       "        1.]),\n",
       " 'mean_test_sens': array([0.96794872, 0.96794872, 1.        , 0.98461538, 0.91666667,\n",
       "        0.98333333, 0.98333333, 0.98333333, 1.        , 0.98461538,\n",
       "        0.96666667, 1.        , 0.98333333, 0.98333333, 1.        ,\n",
       "        1.        , 1.        , 1.        ]),\n",
       " 'std_test_sens': array([0.03930695, 0.03930695, 0.        , 0.03076923, 0.09128709,\n",
       "        0.03333333, 0.03333333, 0.03333333, 0.        , 0.03076923,\n",
       "        0.04082483, 0.        , 0.03333333, 0.03333333, 0.        ,\n",
       "        0.        , 0.        , 0.        ]),\n",
       " 'rank_test_sens': array([15, 15,  1,  8, 18, 10, 10, 10,  1,  8, 17,  1, 10, 10,  1,  1,  1,\n",
       "         1], dtype=int32),\n",
       " 'split0_test_spec': array([0.03225806, 0.03225806, 0.        , 0.02439024, 0.        ,\n",
       "        0.        , 0.        , 0.        , 0.        , 0.02040816,\n",
       "        0.        , 0.        , 0.        , 0.        , 0.        ,\n",
       "        0.        , 0.        , 0.        ]),\n",
       " 'split1_test_spec': array([0.        , 0.        , 0.        , 0.        , 0.02173913,\n",
       "        0.        , 0.        , 0.        , 0.        , 0.        ,\n",
       "        0.        , 0.        , 0.        , 0.        , 0.        ,\n",
       "        0.        , 0.        , 0.        ]),\n",
       " 'split2_test_spec': array([0.01818182, 0.01818182, 0.        , 0.        , 0.06521739,\n",
       "        0.        , 0.01754386, 0.01754386, 0.        , 0.        ,\n",
       "        0.0212766 , 0.        , 0.02083333, 0.02083333, 0.        ,\n",
       "        0.        , 0.        , 0.        ]),\n",
       " 'split3_test_spec': array([0.        , 0.        , 0.        , 0.        , 0.025     ,\n",
       "        0.02380952, 0.        , 0.        , 0.        , 0.        ,\n",
       "        0.02083333, 0.        , 0.        , 0.        , 0.        ,\n",
       "        0.        , 0.        , 0.        ]),\n",
       " 'split4_test_spec': array([0., 0., 0., 0., 0., 0., 0., 0., 0., 0., 0., 0., 0., 0., 0., 0., 0.,\n",
       "        0.]),\n",
       " 'mean_test_spec': array([0.01008798, 0.01008798, 0.        , 0.00487805, 0.0223913 ,\n",
       "        0.0047619 , 0.00350877, 0.00350877, 0.        , 0.00408163,\n",
       "        0.00842199, 0.        , 0.00416667, 0.00416667, 0.        ,\n",
       "        0.        , 0.        , 0.        ]),\n",
       " 'std_test_spec': array([0.01313259, 0.01313259, 0.        , 0.0097561 , 0.02384972,\n",
       "        0.00952381, 0.00701754, 0.00701754, 0.        , 0.00816327,\n",
       "        0.01031574, 0.        , 0.00833333, 0.00833333, 0.        ,\n",
       "        0.        , 0.        , 0.        ]),\n",
       " 'rank_test_spec': array([ 2,  2, 12,  5,  1,  6, 10, 10, 12,  9,  4, 12,  7,  7, 12, 12, 12,\n",
       "        12], dtype=int32),\n",
       " 'split0_test_se': array([-0.04466501, -0.04466501,  0.        , -0.05253283,  0.        ,\n",
       "         0.        ,  0.        ,  0.        ,  0.        , -0.05651491,\n",
       "         0.        ,  0.        ,  0.        ,  0.        ,  0.        ,\n",
       "         0.        ,  0.        ,  0.        ]),\n",
       " 'split1_test_se': array([ 0.       ,  0.       ,  0.       ,  0.       , -0.0615942,\n",
       "         0.       ,  0.       ,  0.       ,  0.       ,  0.       ,\n",
       "         0.       ,  0.       ,  0.       ,  0.       ,  0.       ,\n",
       "         0.       ,  0.       ,  0.       ]),\n",
       " 'split2_test_se': array([-0.06515152, -0.06515152,  0.        ,  0.        , -0.18478261,\n",
       "         0.        , -0.06578947, -0.06578947,  0.        ,  0.        ,\n",
       "        -0.06205674,  0.        , -0.0625    , -0.0625    ,  0.        ,\n",
       "         0.        ,  0.        ,  0.        ]),\n",
       " 'split3_test_se': array([ 0.        ,  0.        ,  0.        ,  0.        , -0.05833333,\n",
       "        -0.05952381,  0.        ,  0.        ,  0.        ,  0.        ,\n",
       "        -0.0625    ,  0.        ,  0.        ,  0.        ,  0.        ,\n",
       "         0.        ,  0.        ,  0.        ]),\n",
       " 'split4_test_se': array([0., 0., 0., 0., 0., 0., 0., 0., 0., 0., 0., 0., 0., 0., 0., 0., 0.,\n",
       "        0.]),\n",
       " 'mean_test_se': array([-0.02196331, -0.02196331,  0.        , -0.01050657, -0.06094203,\n",
       "        -0.01190476, -0.01315789, -0.01315789,  0.        , -0.01130298,\n",
       "        -0.02491135,  0.        , -0.0125    , -0.0125    ,  0.        ,\n",
       "         0.        ,  0.        ,  0.        ]),\n",
       " 'std_test_se': array([0.02766857, 0.02766857, 0.        , 0.02101313, 0.06748567,\n",
       "        0.02380952, 0.02631579, 0.02631579, 0.        , 0.02260597,\n",
       "        0.03051037, 0.        , 0.025     , 0.025     , 0.        ,\n",
       "        0.        , 0.        , 0.        ]),\n",
       " 'rank_test_se': array([15, 15,  1,  8, 18, 10, 13, 13,  1,  9, 17,  1, 11, 11,  1,  1,  1,\n",
       "         1], dtype=int32)}"
      ]
     },
     "execution_count": 46,
     "metadata": {},
     "output_type": "execute_result"
    }
   ],
   "source": [
    "GH_detector.cv_results"
   ]
  },
  {
   "cell_type": "code",
   "execution_count": 47,
   "metadata": {},
   "outputs": [
    {
     "data": {
      "text/plain": [
       "(0, 1)"
      ]
     },
     "execution_count": 47,
     "metadata": {},
     "output_type": "execute_result"
    }
   ],
   "source": [
    "GH_detector.confidence_interval(GH_texts)"
   ]
  },
  {
   "cell_type": "markdown",
   "metadata": {},
   "source": [
    "GH is not very ambiguous. A model wasn't really necessary here. "
   ]
  }
 ],
 "metadata": {
  "kernelspec": {
   "display_name": "Python 3",
   "language": "python",
   "name": "python3"
  },
  "language_info": {
   "codemirror_mode": {
    "name": "ipython",
    "version": 3
   },
   "file_extension": ".py",
   "mimetype": "text/x-python",
   "name": "python",
   "nbconvert_exporter": "python",
   "pygments_lexer": "ipython3",
   "version": "3.7.2"
  }
 },
 "nbformat": 4,
 "nbformat_minor": 2
}
