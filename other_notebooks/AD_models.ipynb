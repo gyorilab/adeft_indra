{
 "cells": [
  {
   "cell_type": "code",
   "execution_count": 1,
   "metadata": {},
   "outputs": [
    {
     "ename": "ModuleNotFoundError",
     "evalue": "No module named 'adeft.modeling.find_anomalies'",
     "output_type": "error",
     "traceback": [
      "\u001b[0;31m---------------------------------------------------------------------------\u001b[0m",
      "\u001b[0;31mModuleNotFoundError\u001b[0m                       Traceback (most recent call last)",
      "\u001b[0;32m<ipython-input-1-64c094f1c791>\u001b[0m in \u001b[0;36m<module>\u001b[0;34m\u001b[0m\n\u001b[1;32m      8\u001b[0m \u001b[0;32mfrom\u001b[0m \u001b[0madeft\u001b[0m\u001b[0;34m.\u001b[0m\u001b[0mdisambiguate\u001b[0m \u001b[0;32mimport\u001b[0m \u001b[0mload_disambiguator\u001b[0m\u001b[0;34m\u001b[0m\u001b[0;34m\u001b[0m\u001b[0m\n\u001b[1;32m      9\u001b[0m \u001b[0;32mfrom\u001b[0m \u001b[0madeft\u001b[0m\u001b[0;34m.\u001b[0m\u001b[0mmodeling\u001b[0m\u001b[0;34m.\u001b[0m\u001b[0mclassify\u001b[0m \u001b[0;32mimport\u001b[0m \u001b[0mAdeftClassifier\u001b[0m\u001b[0;34m\u001b[0m\u001b[0;34m\u001b[0m\u001b[0m\n\u001b[0;32m---> 10\u001b[0;31m \u001b[0;32mfrom\u001b[0m \u001b[0madeft\u001b[0m\u001b[0;34m.\u001b[0m\u001b[0mmodeling\u001b[0m\u001b[0;34m.\u001b[0m\u001b[0mfind_anomalies\u001b[0m \u001b[0;32mimport\u001b[0m \u001b[0mAdeftAnomalyDetector\u001b[0m\u001b[0;34m\u001b[0m\u001b[0;34m\u001b[0m\u001b[0m\n\u001b[0m",
      "\u001b[0;31mModuleNotFoundError\u001b[0m: No module named 'adeft.modeling.find_anomalies'"
     ]
    }
   ],
   "source": [
    "import pickle\n",
    "\n",
    "from indra.literature.adeft_tools import universal_extract_text\n",
    "\n",
    "from adeft.discover import AdeftMiner\n",
    "from adeft.gui import ground_with_gui\n",
    "from adeft.modeling.label import AdeftLabeler\n",
    "from adeft.disambiguate import load_disambiguator\n",
    "from adeft.modeling.classify import AdeftClassifier\n",
    "from adeft.modeling.find_anomalies import AdeftAnomalyDetector"
   ]
  },
  {
   "cell_type": "code",
   "execution_count": 2,
   "metadata": {},
   "outputs": [],
   "source": [
    "agent_text = 'AD'\n",
    "hgnc_name = 'ADIPOQ'\n",
    "hgnc_id = 'HGNC:13633'"
   ]
  },
  {
   "cell_type": "code",
   "execution_count": 3,
   "metadata": {},
   "outputs": [
    {
     "ename": "FileNotFoundError",
     "evalue": "[Errno 2] No such file or directory: 'data/content/AD_refs.pkl'",
     "output_type": "error",
     "traceback": [
      "\u001b[0;31m---------------------------------------------------------------------------\u001b[0m",
      "\u001b[0;31mFileNotFoundError\u001b[0m                         Traceback (most recent call last)",
      "\u001b[0;32m<ipython-input-3-8a139c7a1a75>\u001b[0m in \u001b[0;36m<module>\u001b[0;34m\u001b[0m\n\u001b[0;32m----> 1\u001b[0;31m \u001b[0;32mwith\u001b[0m \u001b[0mopen\u001b[0m\u001b[0;34m(\u001b[0m\u001b[0;34mf'data/content/{agent_text}_refs.pkl'\u001b[0m\u001b[0;34m,\u001b[0m \u001b[0;34m'rb'\u001b[0m\u001b[0;34m)\u001b[0m \u001b[0;32mas\u001b[0m \u001b[0mf\u001b[0m\u001b[0;34m:\u001b[0m\u001b[0;34m\u001b[0m\u001b[0;34m\u001b[0m\u001b[0m\n\u001b[0m\u001b[1;32m      2\u001b[0m     \u001b[0mrefs\u001b[0m \u001b[0;34m=\u001b[0m \u001b[0mpickle\u001b[0m\u001b[0;34m.\u001b[0m\u001b[0mload\u001b[0m\u001b[0;34m(\u001b[0m\u001b[0mf\u001b[0m\u001b[0;34m)\u001b[0m\u001b[0;34m\u001b[0m\u001b[0;34m\u001b[0m\u001b[0m\n\u001b[1;32m      3\u001b[0m \u001b[0;32mwith\u001b[0m \u001b[0mopen\u001b[0m\u001b[0;34m(\u001b[0m\u001b[0;34mf'data/content/{agent_text}_content.pkl'\u001b[0m\u001b[0;34m,\u001b[0m \u001b[0;34m'rb'\u001b[0m\u001b[0;34m)\u001b[0m \u001b[0;32mas\u001b[0m \u001b[0mf\u001b[0m\u001b[0;34m:\u001b[0m\u001b[0;34m\u001b[0m\u001b[0;34m\u001b[0m\u001b[0m\n\u001b[1;32m      4\u001b[0m     \u001b[0mcontent\u001b[0m \u001b[0;34m=\u001b[0m \u001b[0mpickle\u001b[0m\u001b[0;34m.\u001b[0m\u001b[0mload\u001b[0m\u001b[0;34m(\u001b[0m\u001b[0mf\u001b[0m\u001b[0;34m)\u001b[0m\u001b[0;34m\u001b[0m\u001b[0;34m\u001b[0m\u001b[0m\n\u001b[1;32m      5\u001b[0m \u001b[0;32mwith\u001b[0m \u001b[0mopen\u001b[0m\u001b[0;34m(\u001b[0m\u001b[0;34mf'data/entrez_content/{hgnc_name}_content.pkl'\u001b[0m\u001b[0;34m,\u001b[0m \u001b[0;34m'rb'\u001b[0m\u001b[0;34m)\u001b[0m \u001b[0;32mas\u001b[0m \u001b[0mf\u001b[0m\u001b[0;34m:\u001b[0m\u001b[0;34m\u001b[0m\u001b[0;34m\u001b[0m\u001b[0m\n",
      "\u001b[0;31mFileNotFoundError\u001b[0m: [Errno 2] No such file or directory: 'data/content/AD_refs.pkl'"
     ]
    }
   ],
   "source": [
    "with open(f'data/content/{agent_text}_refs.pkl', 'rb') as f:\n",
    "    refs = pickle.load(f)\n",
    "with open(f'data/content/{agent_text}_content.pkl', 'rb') as f:\n",
    "    content = pickle.load(f)\n",
    "with open(f'data/entrez_content/{hgnc_name}_content.pkl', 'rb') as f:\n",
    "    entrez_content = pickle.load(f)"
   ]
  },
  {
   "cell_type": "code",
   "execution_count": 59,
   "metadata": {},
   "outputs": [],
   "source": [
    "disamb = load_disambiguator(agent_text)"
   ]
  },
  {
   "cell_type": "code",
   "execution_count": 60,
   "metadata": {},
   "outputs": [
    {
     "data": {
      "text/plain": [
       "{'AD': {'s disease': 'MESH:D000544',\n",
       "  'atopic dermatitis': 'MESH:D003876',\n",
       "  'alcohol dependence': 'MESH:D000437',\n",
       "  'axial diffusivity': 'ungrounded',\n",
       "  'anaerobic digestion': 'ungrounded',\n",
       "  'activation domain': 'ungrounded',\n",
       "  'autosomal dominant': 'ungrounded',\n",
       "  'antidepressant': 'ungrounded',\n",
       "  's': 'ungrounded',\n",
       "  'androstenedione': 'MESH:D000735',\n",
       "  'afterdischarge': 'ungrounded',\n",
       "  'dementia': 'ungrounded',\n",
       "  'aortic dissection': 'ungrounded',\n",
       "  'autonomic dysreflexia': 'ungrounded',\n",
       "  'androgen deprivation': 'ungrounded',\n",
       "  'adenocarcinoma': 'ungrounded',\n",
       "  'aortic distensibility': 'ungrounded',\n",
       "  'adenosine': 'ungrounded',\n",
       "  'disorders': 'ungrounded',\n",
       "  'adiponectin': 'HGNC:13633',\n",
       "  'anoxic depolarization': 'ungrounded',\n",
       "  'actinomycin d': 'ungrounded',\n",
       "  'atherogenic diet': 'ungrounded',\n",
       "  'p': 'ungrounded',\n",
       "  'adrenaline': 'MESH:D004837',\n",
       "  'patients': 'ungrounded',\n",
       "  'alzheimer': 'MESH:D000544',\n",
       "  '3 17 dione': 'ungrounded',\n",
       "  'cases': 'ungrounded',\n",
       "  'adriamycin': 'ungrounded',\n",
       "  'drugs': 'ungrounded',\n",
       "  'amiodarone': 'ungrounded',\n",
       "  'atherogenic dyslipidemia': 'ungrounded',\n",
       "  'axial': 'ungrounded',\n",
       "  'ad': 'ungrounded',\n",
       "  'acetabular dysplasia': 'ungrounded'}}"
      ]
     },
     "execution_count": 60,
     "metadata": {},
     "output_type": "execute_result"
    }
   ],
   "source": [
    "disamb.grounding_dict"
   ]
  },
  {
   "cell_type": "code",
   "execution_count": 61,
   "metadata": {},
   "outputs": [],
   "source": [
    "texts = [universal_extract_text(text, contains=[agent_text]) for text in content.values()\n",
    "         if text]"
   ]
  },
  {
   "cell_type": "code",
   "execution_count": 62,
   "metadata": {},
   "outputs": [
    {
     "data": {
      "text/plain": [
       "13133"
      ]
     },
     "execution_count": 62,
     "metadata": {},
     "output_type": "execute_result"
    }
   ],
   "source": [
    "len(texts)"
   ]
  },
  {
   "cell_type": "code",
   "execution_count": 63,
   "metadata": {},
   "outputs": [],
   "source": [
    "entrez_texts = [universal_extract_text(text) for text in entrez_content if text]"
   ]
  },
  {
   "cell_type": "code",
   "execution_count": 64,
   "metadata": {},
   "outputs": [
    {
     "data": {
      "text/plain": [
       "2049"
      ]
     },
     "execution_count": 64,
     "metadata": {},
     "output_type": "execute_result"
    }
   ],
   "source": [
    "len(entrez_texts)"
   ]
  },
  {
   "cell_type": "code",
   "execution_count": 65,
   "metadata": {},
   "outputs": [],
   "source": [
    "disambs = disamb.disambiguate(texts)"
   ]
  },
  {
   "cell_type": "code",
   "execution_count": 66,
   "metadata": {},
   "outputs": [
    {
     "data": {
      "text/plain": [
       "'Disambiguation model for AD\\n\\nProduces the disambiguations:\\n\\tADIPOQ*\\tHGNC:13633\\n\\tAlcoholism\\tMESH:D000437\\n\\tAlzheimer Disease\\tMESH:D000544\\n\\tAndrostenedione\\tMESH:D000735\\n\\tDermatitis, Atopic\\tMESH:D003876\\n\\tEpinephrine\\tMESH:D004837\\n\\nModel statistics are not available.'"
      ]
     },
     "execution_count": 66,
     "metadata": {},
     "output_type": "execute_result"
    }
   ],
   "source": [
    "disamb.info()"
   ]
  },
  {
   "cell_type": "code",
   "execution_count": 67,
   "metadata": {},
   "outputs": [],
   "source": [
    "anomalous_texts = [text for text, disamb in zip(texts, disambs) if\n",
    "                   disamb[0] != hgnc_id and set(disamb[2].values()) == set([0.0, 1.0])]"
   ]
  },
  {
   "cell_type": "code",
   "execution_count": 68,
   "metadata": {},
   "outputs": [
    {
     "data": {
      "text/plain": [
       "10734"
      ]
     },
     "execution_count": 68,
     "metadata": {},
     "output_type": "execute_result"
    }
   ],
   "source": [
    "len(anomalous_texts)"
   ]
  },
  {
   "cell_type": "code",
   "execution_count": 90,
   "metadata": {},
   "outputs": [],
   "source": []
  },
  {
   "cell_type": "code",
   "execution_count": 91,
   "metadata": {},
   "outputs": [
    {
     "data": {
      "text/plain": [
       "109"
      ]
     },
     "execution_count": 91,
     "metadata": {},
     "output_type": "execute_result"
    }
   ],
   "source": [
    "len(a)"
   ]
  },
  {
   "cell_type": "code",
   "execution_count": 69,
   "metadata": {},
   "outputs": [],
   "source": [
    "detector = AdeftAnomalyDetector(blacklist=['AD'])"
   ]
  },
  {
   "cell_type": "code",
   "execution_count": 70,
   "metadata": {},
   "outputs": [],
   "source": [
    "param_grid = {'nu': [0.01, 0.05, 0.1], 'max_features': [100],\n",
    "              'ngram_range': [(1, 1)]}"
   ]
  },
  {
   "cell_type": "code",
   "execution_count": 71,
   "metadata": {},
   "outputs": [
    {
     "name": "stderr",
     "output_type": "stream",
     "text": [
      "INFO: [2019-12-02 15:44:39] /Users/albertsteppi/adeft/adeft/modeling/find_anomalies.py - Best score of 0.43764468526416467 found for parameter values:\n",
      "{'nu': 0.1, 'max_features': 100, 'ngram_range': (1, 1)}\n"
     ]
    }
   ],
   "source": [
    "detector.cv(entrez_texts, anomalous_texts, param_grid, n_jobs=8)"
   ]
  },
  {
   "cell_type": "code",
   "execution_count": 72,
   "metadata": {},
   "outputs": [
    {
     "data": {
      "text/plain": [
       "[('adiponectin', 24.076900233220364),\n",
       " ('apn', 14.440637123248656),\n",
       " ('gene', 11.585661093590954),\n",
       " ('serum', 9.492613020451502),\n",
       " ('levels', 9.47126868329198),\n",
       " ('associated', 9.441717064037311),\n",
       " ('leptin', 9.439173703437989),\n",
       " ('adipoq', 9.41710590753717),\n",
       " ('insulin', 8.946536257708775),\n",
       " ('human', 8.88095224260832),\n",
       " ('cells', 8.805737542732958),\n",
       " ('association', 8.576377218599577),\n",
       " ('cancer', 8.535744383725502),\n",
       " ('expression', 8.491760050111699),\n",
       " ('risk', 8.478306079463264),\n",
       " ('patients', 8.353630470030149),\n",
       " ('protein', 8.224327681894163),\n",
       " ('plasma', 8.21529776928965),\n",
       " ('obesity', 8.179828915567638),\n",
       " ('obese', 8.154944282611384),\n",
       " ('genetic', 7.74162601095031),\n",
       " ('type', 7.621764308283175),\n",
       " ('analysis', 7.392656384274771),\n",
       " ('diabetes', 7.374336620229934),\n",
       " ('study', 7.265491384558692),\n",
       " ('fat', 7.14758311704635),\n",
       " ('hmw', 7.141285119207971),\n",
       " ('polymorphisms', 7.138213765754079),\n",
       " ('women', 7.01090909231474),\n",
       " ('increased', 6.821080466360374),\n",
       " ('concentrations', 6.673211610163744),\n",
       " ('cell', 6.615690636845767),\n",
       " ('inflammatory', 6.593955524614127),\n",
       " ('metabolic', 6.446940824107901),\n",
       " ('adipose', 6.298678208874626),\n",
       " ('effects', 6.1695640890215016),\n",
       " ('group', 6.063588808965751),\n",
       " ('weight', 5.9699569535617725),\n",
       " ('blood', 5.8922380541244515),\n",
       " ('subjects', 5.885220235047742),\n",
       " ('hdl', 5.878162260780816),\n",
       " ('disease', 5.771396490766764),\n",
       " ('high', 5.695779608642575),\n",
       " ('men', 5.6298671934820135),\n",
       " ('syndrome', 5.533880757276288),\n",
       " ('population', 5.402968120606066),\n",
       " ('significantly', 5.373720545324456),\n",
       " ('data', 5.368560658988157),\n",
       " ('tissue', 5.285159637519157),\n",
       " ('role', 5.198831456411199),\n",
       " ('cardiovascular', 5.16763870033439),\n",
       " ('effect', 5.153013125326107),\n",
       " ('glucose', 5.063453367659733),\n",
       " ('ratio', 4.882787466108816),\n",
       " ('snp', 4.873809936385258),\n",
       " ('model', 4.839611030610761),\n",
       " ('results', 4.83603980090688),\n",
       " ('studies', 4.7992250596889505),\n",
       " ('related', 4.788947211552311),\n",
       " ('95', 4.7839566500555275),\n",
       " ('ci', 4.776384865766541),\n",
       " ('ir', 4.712588403997154),\n",
       " ('snps', 4.69397291601052),\n",
       " ('factors', 4.682536860745903),\n",
       " ('using', 4.66276858293887),\n",
       " ('ml', 4.606679222498858),\n",
       " ('sensitivity', 4.599011814743668),\n",
       " ('higher', 4.572580198588278),\n",
       " ('age', 4.5118658535198675),\n",
       " ('allele', 4.471840709406933),\n",
       " ('low', 4.459982519476629),\n",
       " ('05', 4.412391202382617),\n",
       " ('significant', 4.303300012516398),\n",
       " ('body', 4.22534265734055),\n",
       " ('total', 4.042830569206925),\n",
       " ('10', 4.008467154969983),\n",
       " ('bmi', 3.85755847671673),\n",
       " ('compared', 3.8033765095193584),\n",
       " ('resistance', 3.758230945201568),\n",
       " ('anti', 3.7450326541202497),\n",
       " ('mass', 3.6882185502841174),\n",
       " ('control', 3.6349389831927947),\n",
       " ('observed', 3.538825638595658),\n",
       " ('cholesterol', 3.5162938121842124),\n",
       " ('controls', 3.469115441876662),\n",
       " ('001', 3.4594451709912124),\n",
       " ('level', 3.4456525199711745),\n",
       " ('used', 3.4276362892635563),\n",
       " ('showed', 3.399005627808486),\n",
       " ('correlated', 3.392662606967372),\n",
       " ('measured', 3.3616205447027303),\n",
       " ('groups', 3.341568454162285),\n",
       " ('lower', 3.3085228974183702),\n",
       " ('performed', 2.856591232024586),\n",
       " ('index', 2.657075826972792),\n",
       " ('circulating', 2.1790272134055204),\n",
       " ('non', 1.985549538749161),\n",
       " ('mean', 1.6069068656319343),\n",
       " ('shown', 1.239825569111517),\n",
       " ('table', 0.2727018270154549)]"
      ]
     },
     "execution_count": 72,
     "metadata": {},
     "output_type": "execute_result"
    }
   ],
   "source": [
    "detector.feature_importances()"
   ]
  },
  {
   "cell_type": "code",
   "execution_count": 73,
   "metadata": {},
   "outputs": [],
   "source": [
    "preds = detector.predict(texts)"
   ]
  },
  {
   "cell_type": "code",
   "execution_count": 74,
   "metadata": {},
   "outputs": [
    {
     "data": {
      "text/plain": [
       "13133"
      ]
     },
     "execution_count": 74,
     "metadata": {},
     "output_type": "execute_result"
    }
   ],
   "source": [
    "len(preds)"
   ]
  },
  {
   "cell_type": "code",
   "execution_count": 75,
   "metadata": {},
   "outputs": [
    {
     "data": {
      "text/plain": [
       "6672.0"
      ]
     },
     "execution_count": 75,
     "metadata": {},
     "output_type": "execute_result"
    }
   ],
   "source": [
    "sum(preds)"
   ]
  },
  {
   "cell_type": "code",
   "execution_count": 76,
   "metadata": {},
   "outputs": [
    {
     "data": {
      "text/plain": [
       "0.47531139703376823"
      ]
     },
     "execution_count": 76,
     "metadata": {},
     "output_type": "execute_result"
    }
   ],
   "source": [
    "detector.sensitivity"
   ]
  },
  {
   "cell_type": "code",
   "execution_count": 77,
   "metadata": {},
   "outputs": [
    {
     "data": {
      "text/plain": [
       "0.9623332882303964"
      ]
     },
     "execution_count": 77,
     "metadata": {},
     "output_type": "execute_result"
    }
   ],
   "source": [
    "detector.specificity"
   ]
  },
  {
   "cell_type": "code",
   "execution_count": 78,
   "metadata": {},
   "outputs": [
    {
     "data": {
      "text/plain": [
       "(1, 1)"
      ]
     },
     "execution_count": 78,
     "metadata": {},
     "output_type": "execute_result"
    }
   ],
   "source": [
    "detector.confidence_interval(texts)"
   ]
  },
  {
   "cell_type": "code",
   "execution_count": 79,
   "metadata": {},
   "outputs": [
    {
     "data": {
      "text/plain": [
       "0.9989339830960177"
      ]
     },
     "execution_count": 79,
     "metadata": {},
     "output_type": "execute_result"
    }
   ],
   "source": [
    "1 - len([disamb for disamb in disambs if disamb[0] == hgnc_id])/len(disambs)"
   ]
  },
  {
   "cell_type": "code",
   "execution_count": null,
   "metadata": {},
   "outputs": [],
   "source": [
    "The confidence interval is highly accurate here"
   ]
  }
 ],
 "metadata": {
  "kernelspec": {
   "display_name": "Python 3",
   "language": "python",
   "name": "python3"
  },
  "language_info": {
   "codemirror_mode": {
    "name": "ipython",
    "version": 3
   },
   "file_extension": ".py",
   "mimetype": "text/x-python",
   "name": "python",
   "nbconvert_exporter": "python",
   "pygments_lexer": "ipython3",
   "version": "3.7.5"
  }
 },
 "nbformat": 4,
 "nbformat_minor": 2
}
