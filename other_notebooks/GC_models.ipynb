{
 "cells": [
  {
   "cell_type": "code",
   "execution_count": 28,
   "metadata": {},
   "outputs": [],
   "source": [
    "import pickle\n",
    "\n",
    "from indra.literature.adeft_tools import universal_extract_text\n",
    "\n",
    "from adeft.discover import AdeftMiner\n",
    "from adeft.gui import ground_with_gui\n",
    "from adeft.modeling.label import AdeftLabeler\n",
    "from adeft.disambiguate import load_disambiguator\n",
    "from adeft.modeling.classify import AdeftClassifier\n",
    "from adeft.modeling.find_anomalies import AdeftAnomalyDetector"
   ]
  },
  {
   "cell_type": "code",
   "execution_count": 32,
   "metadata": {},
   "outputs": [],
   "source": [
    "agent_text = 'GC'\n",
    "hgnc_name = 'GBA'"
   ]
  },
  {
   "cell_type": "code",
   "execution_count": 33,
   "metadata": {},
   "outputs": [],
   "source": [
    "with open(f'data/content/{agent_text}_refs.pkl', 'rb') as f:\n",
    "    refs = pickle.load(f)\n",
    "with open(f'data/content/{agent_text}_content.pkl', 'rb') as f:\n",
    "    content = pickle.load(f)\n",
    "with open(f'data/entrez_content/{hgnc_name}_content.pkl', 'rb') as f:\n",
    "    entrez_content = pickle.load(f)"
   ]
  },
  {
   "cell_type": "code",
   "execution_count": 34,
   "metadata": {},
   "outputs": [],
   "source": [
    "disamb = load_disambiguator(agent_text)"
   ]
  },
  {
   "cell_type": "code",
   "execution_count": 35,
   "metadata": {},
   "outputs": [
    {
     "data": {
      "text/plain": [
       "{'GC': {'gastric cancer': 'MESH:D013274',\n",
       "  'glucocorticoid': 'MESH:D005938',\n",
       "  'germinal center': 'ungrounded',\n",
       "  'cells': 'ungrounded',\n",
       "  'cyclase': 'FPLX:GUCY',\n",
       "  'gastric carcinoma': 'MESH:D013274',\n",
       "  'gene conversion': 'ungrounded',\n",
       "  'germinal centre': 'ungrounded',\n",
       "  'glucocerebrosidase': 'HGNC:4177',\n",
       "  'gas chromatography': 'ungrounded',\n",
       "  'growth cone': 'ungrounded',\n",
       "  'glucocorticosteroids': 'MESH:D005938',\n",
       "  'chitosan': 'ungrounded',\n",
       "  'gustatory cortex': 'ungrounded',\n",
       "  'glucosylceramide': 'HGNC:4177',\n",
       "  'neisseria gonorrhoeae': 'ungrounded',\n",
       "  'glucocorticoid hormone': 'MESH:D005938',\n",
       "  'gastric adenocarcinoma': 'MESH:D013274',\n",
       "  'carbon': 'ungrounded',\n",
       "  'c': 'ungrounded',\n",
       "  'control': 'ungrounded',\n",
       "  'genomic classifier': 'ungrounded'}}"
      ]
     },
     "execution_count": 35,
     "metadata": {},
     "output_type": "execute_result"
    }
   ],
   "source": [
    "disamb.grounding_dict"
   ]
  },
  {
   "cell_type": "code",
   "execution_count": 36,
   "metadata": {},
   "outputs": [],
   "source": [
    "texts = [universal_extract_text(text, contains=[agent_text]) for text in content.values()\n",
    "         if text]"
   ]
  },
  {
   "cell_type": "code",
   "execution_count": 37,
   "metadata": {},
   "outputs": [
    {
     "data": {
      "text/plain": [
       "8143"
      ]
     },
     "execution_count": 37,
     "metadata": {},
     "output_type": "execute_result"
    }
   ],
   "source": [
    "len(texts)"
   ]
  },
  {
   "cell_type": "code",
   "execution_count": 38,
   "metadata": {},
   "outputs": [],
   "source": [
    "entrez_texts = [universal_extract_text(text) for text in entrez_content if text]"
   ]
  },
  {
   "cell_type": "code",
   "execution_count": 39,
   "metadata": {},
   "outputs": [
    {
     "data": {
      "text/plain": [
       "355"
      ]
     },
     "execution_count": 39,
     "metadata": {},
     "output_type": "execute_result"
    }
   ],
   "source": [
    "len(entrez_texts)"
   ]
  },
  {
   "cell_type": "code",
   "execution_count": 40,
   "metadata": {},
   "outputs": [],
   "source": [
    "disambs = disamb.disambiguate(texts)"
   ]
  },
  {
   "cell_type": "code",
   "execution_count": 41,
   "metadata": {},
   "outputs": [
    {
     "data": {
      "text/plain": [
       "'Disambiguation model for GC\\n\\nProduces the disambiguations:\\n\\tGBA*\\tHGNC:4177\\n\\tGUCY*\\tFPLX:GUCY\\n\\tGlucocorticoids\\tMESH:D005938\\n\\tStomach Neoplasms\\tMESH:D013274\\n\\nModel statistics are not available.'"
      ]
     },
     "execution_count": 41,
     "metadata": {},
     "output_type": "execute_result"
    }
   ],
   "source": [
    "disamb.info()"
   ]
  },
  {
   "cell_type": "code",
   "execution_count": 42,
   "metadata": {},
   "outputs": [],
   "source": [
    "anomalous_texts = [text for text, disamb in zip(texts, disambs) if\n",
    "                   disamb[0] != 'HGNC:4177' and set(disamb[2].values()) == set([0.0, 1.0])]"
   ]
  },
  {
   "cell_type": "code",
   "execution_count": 43,
   "metadata": {},
   "outputs": [
    {
     "data": {
      "text/plain": [
       "4521"
      ]
     },
     "execution_count": 43,
     "metadata": {},
     "output_type": "execute_result"
    }
   ],
   "source": [
    "len(anomalous_texts)"
   ]
  },
  {
   "cell_type": "code",
   "execution_count": 90,
   "metadata": {},
   "outputs": [],
   "source": []
  },
  {
   "cell_type": "code",
   "execution_count": 91,
   "metadata": {},
   "outputs": [
    {
     "data": {
      "text/plain": [
       "109"
      ]
     },
     "execution_count": 91,
     "metadata": {},
     "output_type": "execute_result"
    }
   ],
   "source": [
    "len(a)"
   ]
  },
  {
   "cell_type": "code",
   "execution_count": 44,
   "metadata": {},
   "outputs": [],
   "source": [
    "detector = AdeftAnomalyDetector(blacklist=['GC'])"
   ]
  },
  {
   "cell_type": "code",
   "execution_count": 45,
   "metadata": {},
   "outputs": [],
   "source": [
    "param_grid = {'nu': [0.01, 0.05, 0.1], 'max_features': [100],\n",
    "              'ngram_range': [(1, 1)]}"
   ]
  },
  {
   "cell_type": "code",
   "execution_count": 46,
   "metadata": {},
   "outputs": [
    {
     "name": "stderr",
     "output_type": "stream",
     "text": [
      "INFO: [2019-12-02 15:01:58] /Users/albertsteppi/adeft/adeft/modeling/find_anomalies.py - Best score of 0.6781034497476468 found for parameter values:\n",
      "{'nu': 0.1, 'max_features': 100, 'ngram_range': (1, 1)}\n"
     ]
    }
   ],
   "source": [
    "detector.cv(entrez_texts, anomalous_texts, param_grid, n_jobs=8)"
   ]
  },
  {
   "cell_type": "code",
   "execution_count": 47,
   "metadata": {},
   "outputs": [
    {
     "data": {
      "text/plain": [
       "[('glucocerebrosidase', 2.527763049552582),\n",
       " ('gaucher', 2.4279755044494125),\n",
       " ('disease', 2.4047516847007504),\n",
       " ('human', 2.2840302697021895),\n",
       " ('gba', 2.2383178775329964),\n",
       " ('proteins', 2.114225759297341),\n",
       " ('gba1', 1.9339734691323078),\n",
       " ('gcase', 1.8401752374131628),\n",
       " ('cells', 1.7160214693450375),\n",
       " ('syn', 1.6354404380733238),\n",
       " ('pd', 1.6125487199724262),\n",
       " ('associated', 1.5971235582636587),\n",
       " ('binding', 1.5636455019677706),\n",
       " ('genes', 1.5620571477850131),\n",
       " ('mutations', 1.490631376939289),\n",
       " ('analysis', 1.4780823634667524),\n",
       " ('type', 1.4597015515314744),\n",
       " ('mutation', 1.4130278983028932),\n",
       " ('lysosomal', 1.3940924883274937),\n",
       " ('cell', 1.3623796434144229),\n",
       " ('association', 1.3536276884065508),\n",
       " ('non', 1.3415446436036682),\n",
       " ('patients', 1.2901338900874975),\n",
       " ('activity', 1.237178959443848),\n",
       " ('glucosylceramidase', 1.2019428402596786),\n",
       " ('n370s', 1.194958741276297),\n",
       " ('beta', 1.191800672854855),\n",
       " ('sequence', 1.1262417494803363),\n",
       " ('gene', 1.1259812376266316),\n",
       " ('using', 1.1090716497962698),\n",
       " ('protein', 1.1046546226334923),\n",
       " ('fibroblasts', 1.0947552885777112),\n",
       " ('risk', 1.0814376047210565),\n",
       " ('cases', 1.0432588784403558),\n",
       " ('expression', 0.9923360142984735),\n",
       " ('95', 0.9697144371026591),\n",
       " ('acid', 0.929641720121375),\n",
       " ('phenotype', 0.9276782193175247),\n",
       " ('substrate', 0.9084751863195393),\n",
       " ('novel', 0.8784642885510812),\n",
       " ('10', 0.8665426387626458),\n",
       " ('based', 0.8556789336307424),\n",
       " ('used', 0.8500786191233862),\n",
       " ('cognitive', 0.8473170781847537),\n",
       " ('parkinson', 0.84708636708083),\n",
       " ('genetic', 0.8166030682644112),\n",
       " ('significantly', 0.814704814058645),\n",
       " ('nedd4', 0.8069722300794028),\n",
       " ('l444p', 0.7842130326028739),\n",
       " ('fih', 0.7750324398698548),\n",
       " ('study', 0.7635134930635219),\n",
       " ('onset', 0.7362731691559461),\n",
       " ('δtt', 0.7229551876669291),\n",
       " ('alleles', 0.7204691244970307),\n",
       " ('substrates', 0.7139176947560667),\n",
       " ('identified', 0.7030514916381364),\n",
       " ('data', 0.6912854942243619),\n",
       " ('control', 0.6712096782786292),\n",
       " ('clinical', 0.6541401506543114),\n",
       " ('enzyme', 0.646812655496913),\n",
       " ('individuals', 0.6407373390306653),\n",
       " ('increased', 0.6088344757021574),\n",
       " ('results', 0.6037586514782693),\n",
       " ('compared', 0.5929503572952836),\n",
       " ('population', 0.5928420213376325),\n",
       " ('variants', 0.5850585390161387),\n",
       " ('allele', 0.5846828769369178),\n",
       " ('al', 0.5784931756483604),\n",
       " ('et', 0.5695332129669337),\n",
       " ('different', 0.5607323442558383),\n",
       " ('significant', 0.5475178725136379),\n",
       " ('11', 0.5415347898869112),\n",
       " ('studies', 0.5392652949383914),\n",
       " ('levels', 0.5323565876853329),\n",
       " ('gd', 0.5313005048616559),\n",
       " ('age', 0.5158586474230504),\n",
       " ('observed', 0.5064146154203241),\n",
       " ('test', 0.49454219595773036),\n",
       " ('synuclein', 0.49023517604203315),\n",
       " ('deficiency', 0.4548489699286739),\n",
       " ('specific', 0.4512904324508531),\n",
       " ('carriers', 0.42010367896433753),\n",
       " ('treated', 0.3795926675030609),\n",
       " ('figure', 0.36421817137899304),\n",
       " ('function', 0.3408819045072006),\n",
       " ('common', 0.32963082171055075),\n",
       " ('50', 0.3238248804125141),\n",
       " ('fig', 0.3222095231058821),\n",
       " ('wt', 0.2883894808141852),\n",
       " ('30', 0.2866161055400729),\n",
       " ('shown', 0.2701126557901299),\n",
       " ('controls', 0.26207144970543594),\n",
       " ('reported', 0.2541156409318742),\n",
       " ('loss', 0.2448373781107134),\n",
       " ('accumulation', 0.2374815665650934),\n",
       " ('performed', 0.2144812017053755),\n",
       " ('heterozygous', 0.20712083336382053),\n",
       " ('increase', 0.20063401795426383),\n",
       " ('mutant', 0.1559670396067705),\n",
       " ('samples', 0.07117272119286229)]"
      ]
     },
     "execution_count": 47,
     "metadata": {},
     "output_type": "execute_result"
    }
   ],
   "source": [
    "detector.feature_importances()"
   ]
  },
  {
   "cell_type": "code",
   "execution_count": 48,
   "metadata": {},
   "outputs": [],
   "source": [
    "preds = detector.predict(texts)"
   ]
  },
  {
   "cell_type": "code",
   "execution_count": 49,
   "metadata": {},
   "outputs": [
    {
     "data": {
      "text/plain": [
       "8143"
      ]
     },
     "execution_count": 49,
     "metadata": {},
     "output_type": "execute_result"
    }
   ],
   "source": [
    "len(preds)"
   ]
  },
  {
   "cell_type": "code",
   "execution_count": 50,
   "metadata": {},
   "outputs": [
    {
     "data": {
      "text/plain": [
       "5798.0"
      ]
     },
     "execution_count": 50,
     "metadata": {},
     "output_type": "execute_result"
    }
   ],
   "source": [
    "sum(preds)"
   ]
  },
  {
   "cell_type": "code",
   "execution_count": 51,
   "metadata": {},
   "outputs": [
    {
     "data": {
      "text/plain": [
       "0.7201970371094706"
      ]
     },
     "execution_count": 51,
     "metadata": {},
     "output_type": "execute_result"
    }
   ],
   "source": [
    "detector.sensitivity"
   ]
  },
  {
   "cell_type": "code",
   "execution_count": 52,
   "metadata": {},
   "outputs": [
    {
     "data": {
      "text/plain": [
       "0.9579064126381761"
      ]
     },
     "execution_count": 52,
     "metadata": {},
     "output_type": "execute_result"
    }
   ],
   "source": [
    "detector.specificity"
   ]
  },
  {
   "cell_type": "code",
   "execution_count": 53,
   "metadata": {},
   "outputs": [
    {
     "data": {
      "text/plain": [
       "(0.9733319919443564, 1)"
      ]
     },
     "execution_count": 53,
     "metadata": {},
     "output_type": "execute_result"
    }
   ],
   "source": [
    "detector.confidence_interval(texts)"
   ]
  },
  {
   "cell_type": "code",
   "execution_count": 55,
   "metadata": {},
   "outputs": [
    {
     "data": {
      "text/plain": [
       "0.9920176839002824"
      ]
     },
     "execution_count": 55,
     "metadata": {},
     "output_type": "execute_result"
    }
   ],
   "source": [
    "1 - len([disamb for disamb in disambs if disamb[0] == 'HGNC:4177'])/len(disambs)"
   ]
  },
  {
   "cell_type": "markdown",
   "metadata": {},
   "source": [
    "The confidence interval is not accurate here"
   ]
  },
  {
   "cell_type": "code",
   "execution_count": null,
   "metadata": {},
   "outputs": [],
   "source": [
    "The confidence interval is highly accurate here"
   ]
  }
 ],
 "metadata": {
  "kernelspec": {
   "display_name": "Python 3",
   "language": "python",
   "name": "python3"
  },
  "language_info": {
   "codemirror_mode": {
    "name": "ipython",
    "version": 3
   },
   "file_extension": ".py",
   "mimetype": "text/x-python",
   "name": "python",
   "nbconvert_exporter": "python",
   "pygments_lexer": "ipython3",
   "version": "3.7.2"
  }
 },
 "nbformat": 4,
 "nbformat_minor": 2
}
