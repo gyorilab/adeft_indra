{
 "cells": [
  {
   "cell_type": "code",
   "execution_count": 3,
   "metadata": {},
   "outputs": [
    {
     "name": "stderr",
     "output_type": "stream",
     "text": [
      "INFO: [2019-12-02 15:12:07] /Users/albertsteppi/adeft/adeft/recognize.py - OneShotRecognizer not available. AdeftLongformScorer has not been built successfully.\n"
     ]
    }
   ],
   "source": [
    "import pickle\n",
    "\n",
    "from indra.literature.adeft_tools import universal_extract_text\n",
    "\n",
    "from adeft.discover import AdeftMiner\n",
    "from adeft.gui import ground_with_gui\n",
    "from adeft.modeling.label import AdeftLabeler\n",
    "from adeft.disambiguate import load_disambiguator\n",
    "from adeft.modeling.classify import AdeftClassifier\n",
    "from adeft.modeling.find_anomalies import AdeftAnomalyDetector"
   ]
  },
  {
   "cell_type": "code",
   "execution_count": 2,
   "metadata": {},
   "outputs": [],
   "source": [
    "agent_text = 'TF'"
   ]
  },
  {
   "cell_type": "code",
   "execution_count": 3,
   "metadata": {},
   "outputs": [],
   "source": [
    "with open(f'data/content/{agent_text}_refs.pkl', 'rb') as f:\n",
    "    refs = pickle.load(f)\n",
    "with open(f'data/content/{agent_text}_content.pkl', 'rb') as f:\n",
    "    content = pickle.load(f)\n",
    "with open(f'data/entrez_content/{agent_text}_content.pkl', 'rb') as f:\n",
    "    entrez_content = pickle.load(f)"
   ]
  },
  {
   "cell_type": "code",
   "execution_count": 4,
   "metadata": {},
   "outputs": [],
   "source": [
    "disamb = load_disambiguator(agent_text)"
   ]
  },
  {
   "cell_type": "code",
   "execution_count": 5,
   "metadata": {},
   "outputs": [
    {
     "data": {
      "text/plain": [
       "{'TF': {'tissue factor': 'HGNC:3541',\n",
       "  'transferrin': 'HGNC:11740',\n",
       "  'tail flick': 'ungrounded',\n",
       "  'transmitted founder': 'ungrounded',\n",
       "  'theaflavin': 'CHEBI:CHEBI:136609',\n",
       "  'tolylfluanid': 'CHEBI:CHEBI:75182',\n",
       "  'thomsen friedenreich': 'ungrounded',\n",
       "  'time frequency': 'ungrounded',\n",
       "  'total flavonoids': 'ungrounded',\n",
       "  'ab': 'ungrounded',\n",
       "  'force': 'ungrounded',\n",
       "  'tibiofemoral': 'ungrounded',\n",
       "  'fat': 'ungrounded',\n",
       "  'telephone filtered': 'ungrounded',\n",
       "  'follicular': 'ungrounded',\n",
       "  'f3': 'ungrounded',\n",
       "  'serotransferrin': 'HGNC:11740'}}"
      ]
     },
     "execution_count": 5,
     "metadata": {},
     "output_type": "execute_result"
    }
   ],
   "source": [
    "disamb.grounding_dict"
   ]
  },
  {
   "cell_type": "code",
   "execution_count": 6,
   "metadata": {},
   "outputs": [],
   "source": [
    "texts = [universal_extract_text(text, contains=[agent_text]) for text in content.values()\n",
    "         if text]"
   ]
  },
  {
   "cell_type": "code",
   "execution_count": 7,
   "metadata": {},
   "outputs": [
    {
     "data": {
      "text/plain": [
       "5039"
      ]
     },
     "execution_count": 7,
     "metadata": {},
     "output_type": "execute_result"
    }
   ],
   "source": [
    "len(texts)"
   ]
  },
  {
   "cell_type": "code",
   "execution_count": 9,
   "metadata": {},
   "outputs": [],
   "source": [
    "entrez_texts = [universal_extract_text(text) for text in entrez_content if text]"
   ]
  },
  {
   "cell_type": "code",
   "execution_count": 10,
   "metadata": {},
   "outputs": [
    {
     "data": {
      "text/plain": [
       "340"
      ]
     },
     "execution_count": 10,
     "metadata": {},
     "output_type": "execute_result"
    }
   ],
   "source": [
    "len(entrez_texts)"
   ]
  },
  {
   "cell_type": "code",
   "execution_count": 11,
   "metadata": {},
   "outputs": [],
   "source": [
    "disambs = disamb.disambiguate(texts)"
   ]
  },
  {
   "cell_type": "code",
   "execution_count": 20,
   "metadata": {},
   "outputs": [
    {
     "data": {
      "text/plain": [
       "('HGNC:3541',\n",
       " 'F3',\n",
       " {'CHEBI:CHEBI:136609': 0.0049276234891150175,\n",
       "  'CHEBI:CHEBI:75182': 0.0041165543373885794,\n",
       "  'HGNC:11740': 0.014490057876546144,\n",
       "  'HGNC:3541': 0.9664821495120481,\n",
       "  'ungrounded': 0.00998361478490201})"
      ]
     },
     "execution_count": 20,
     "metadata": {},
     "output_type": "execute_result"
    }
   ],
   "source": [
    "disambs[5]"
   ]
  },
  {
   "cell_type": "code",
   "execution_count": 17,
   "metadata": {},
   "outputs": [],
   "source": [
    "from collections import Counter\n",
    "counts = Counter([disamb[0] for disamb in disambs])"
   ]
  },
  {
   "cell_type": "code",
   "execution_count": 18,
   "metadata": {},
   "outputs": [
    {
     "data": {
      "text/plain": [
       "Counter({'HGNC:3541': 4380,\n",
       "         'ungrounded': 364,\n",
       "         'HGNC:11740': 245,\n",
       "         'CHEBI:CHEBI:136609': 34,\n",
       "         'CHEBI:CHEBI:75182': 16})"
      ]
     },
     "execution_count": 18,
     "metadata": {},
     "output_type": "execute_result"
    }
   ],
   "source": [
    "counts"
   ]
  },
  {
   "cell_type": "code",
   "execution_count": 22,
   "metadata": {},
   "outputs": [],
   "source": [
    "anomalous_texts = [text for text, disamb in zip(texts, disambs) if\n",
    "                   disamb[0] != 'HGNC:11740' and set(disamb[2].values()) == set([0.0, 1.0])]"
   ]
  },
  {
   "cell_type": "code",
   "execution_count": 23,
   "metadata": {},
   "outputs": [
    {
     "data": {
      "text/plain": [
       "2328"
      ]
     },
     "execution_count": 23,
     "metadata": {},
     "output_type": "execute_result"
    }
   ],
   "source": [
    "len(anomalous_texts)"
   ]
  },
  {
   "cell_type": "code",
   "execution_count": 42,
   "metadata": {},
   "outputs": [],
   "source": [
    "detector = AdeftAnomalyDetector(blacklist=['TF', 'binding', 'expression', 'cells', 'cell', 'gene', 'genes'])"
   ]
  },
  {
   "cell_type": "code",
   "execution_count": 46,
   "metadata": {},
   "outputs": [],
   "source": [
    "param_grid = {'nu': [0.2, 0.4, 0.6], 'max_features': [10, 50, 100],\n",
    "              'ngram_range': [(1, 1), (1, 2)]}"
   ]
  },
  {
   "cell_type": "code",
   "execution_count": 47,
   "metadata": {},
   "outputs": [
    {
     "name": "stderr",
     "output_type": "stream",
     "text": [
      "/Users/albertsteppi/.virtualenvs/py37/lib/python3.7/site-packages/joblib/externals/loky/process_executor.py:706: UserWarning: A worker stopped while some jobs were given to the executor. This can be caused by a too short worker timeout or by a memory leak.\n",
      "  \"timeout or by a memory leak.\", UserWarning\n",
      "INFO: [2019-11-26 16:20:16] /Users/albertsteppi/adeft/adeft/modeling/find_anomalies.py - Best score of -0.17802450262126845 found for parameter values:\n",
      "{'nu': 0.6, 'max_features': 100, 'ngram_range': (1, 1)}\n"
     ]
    }
   ],
   "source": [
    "detector.cv(texts, anomalous_texts, param_grid, n_jobs=8, cv=5)"
   ]
  },
  {
   "cell_type": "code",
   "execution_count": 48,
   "metadata": {},
   "outputs": [
    {
     "data": {
      "text/plain": [
       "[('factor', 230.81908884713255),\n",
       " ('tfs', 195.3469401252208),\n",
       " ('activity', 185.14070610095345),\n",
       " ('et', 177.17540141791963),\n",
       " ('al', 176.75007547106193),\n",
       " ('induced', 169.05868761197843),\n",
       " ('protein', 159.155108795253),\n",
       " ('patients', 154.46511094966945),\n",
       " ('fviia', 152.41886024636182),\n",
       " ('coagulation', 152.26481385598825),\n",
       " ('tissue', 151.9379876715055),\n",
       " ('thrombin', 147.39801702812437),\n",
       " ('activation', 137.66463160005833),\n",
       " ('cancer', 137.40187731728537),\n",
       " ('fig', 135.98362268739376),\n",
       " ('transcription', 135.38367832922555),\n",
       " ('human', 133.1708596967484),\n",
       " ('tfpi', 130.65454674897745),\n",
       " ('mice', 126.96838805368198),\n",
       " ('levels', 125.98333545731029),\n",
       " ('study', 123.01775222607336),\n",
       " ('increased', 122.0480621208196),\n",
       " ('effect', 120.67555143099669),\n",
       " ('blood', 118.66023996207686),\n",
       " ('tumor', 116.2132758588517),\n",
       " ('data', 115.39558394336129),\n",
       " ('dna', 115.20453628478484),\n",
       " ('figure', 115.17955318957232),\n",
       " ('using', 112.27192834423542),\n",
       " ('endothelial', 112.15231773575996),\n",
       " ('10', 111.84936159719037),\n",
       " ('associated', 110.6933987395436),\n",
       " ('complex', 105.99918186870063),\n",
       " ('significantly', 105.11448811036453),\n",
       " ('mrna', 103.94951651863832),\n",
       " ('results', 103.89188692855075),\n",
       " ('sites', 101.52489445860346),\n",
       " ('plasma', 100.44815183682812),\n",
       " ('specific', 100.29583046786242),\n",
       " ('pathway', 98.87502920966593),\n",
       " ('regulatory', 97.71080199733899),\n",
       " ('proteins', 97.57226166659765),\n",
       " ('treatment', 96.99162000157096),\n",
       " ('effects', 96.5830361237346),\n",
       " ('surface', 95.48859059083274),\n",
       " ('promoter', 94.85242039973724),\n",
       " ('anti', 94.8044102328758),\n",
       " ('role', 94.70377368805737),\n",
       " ('response', 94.02787888914621),\n",
       " ('formation', 93.68778597479088),\n",
       " ('signaling', 92.23153078326871),\n",
       " ('factors', 91.75288012261632),\n",
       " ('dependent', 91.4048525241075),\n",
       " ('model', 91.07205309105355),\n",
       " ('analysis', 90.78937536367843),\n",
       " ('high', 90.75962448314203),\n",
       " ('used', 90.64257659422145),\n",
       " ('time', 89.58954712823439),\n",
       " ('group', 86.99581639048485),\n",
       " ('activated', 86.6685136734893),\n",
       " ('compared', 86.20046162459445),\n",
       " ('target', 85.32104424544917),\n",
       " ('increase', 84.96725097401233),\n",
       " ('studies', 83.6727412050069),\n",
       " ('regulation', 83.21991601164828),\n",
       " ('different', 83.06537479131785),\n",
       " ('control', 82.3362223168852),\n",
       " ('regulated', 81.5383324938776),\n",
       " ('shown', 81.31987465836686),\n",
       " ('interactions', 78.66196116062333),\n",
       " ('significant', 78.34457725074867),\n",
       " ('showed', 78.2347643320205),\n",
       " ('type', 78.17759373546882),\n",
       " ('site', 77.839643239553),\n",
       " ('expressed', 76.25863292647492),\n",
       " ('level', 74.97207006313114),\n",
       " ('identified', 74.77473196302532),\n",
       " ('function', 74.44248543070879),\n",
       " ('low', 74.17218984203619),\n",
       " ('bound', 73.77740374821596),\n",
       " ('observed', 72.81000602357112),\n",
       " ('interaction', 72.11881063101985),\n",
       " ('network', 71.51599653305388),\n",
       " ('transcriptional', 69.03659004884119),\n",
       " ('higher', 67.51951270910767),\n",
       " ('table', 67.31646242365181),\n",
       " ('based', 67.02748452158995),\n",
       " ('addition', 65.46522823756835),\n",
       " ('regions', 65.09391889872967),\n",
       " ('number', 65.07731022186287),\n",
       " ('chip', 64.47783407067692),\n",
       " ('non', 62.02467045931009),\n",
       " ('including', 61.877759926181),\n",
       " ('motif', 61.74012433307516),\n",
       " ('sequence', 60.91502027737124),\n",
       " ('known', 60.88079833668021),\n",
       " ('motifs', 58.97538854983604),\n",
       " ('20', 57.811316219258764),\n",
       " ('similar', 54.43606080036244),\n",
       " ('seq', 54.094954627830674)]"
      ]
     },
     "execution_count": 48,
     "metadata": {},
     "output_type": "execute_result"
    }
   ],
   "source": [
    "detector.feature_importances()"
   ]
  },
  {
   "cell_type": "code",
   "execution_count": 49,
   "metadata": {},
   "outputs": [],
   "source": [
    "preds = detector.predict(texts)"
   ]
  },
  {
   "cell_type": "code",
   "execution_count": 50,
   "metadata": {},
   "outputs": [
    {
     "data": {
      "text/plain": [
       "5039"
      ]
     },
     "execution_count": 50,
     "metadata": {},
     "output_type": "execute_result"
    }
   ],
   "source": [
    "len(preds)"
   ]
  },
  {
   "cell_type": "code",
   "execution_count": 51,
   "metadata": {},
   "outputs": [
    {
     "data": {
      "text/plain": [
       "3025.0"
      ]
     },
     "execution_count": 51,
     "metadata": {},
     "output_type": "execute_result"
    }
   ],
   "source": [
    "sum(preds)"
   ]
  },
  {
   "cell_type": "code",
   "execution_count": 52,
   "metadata": {},
   "outputs": [
    {
     "data": {
      "text/plain": [
       "0.5760247357976833"
      ]
     },
     "execution_count": 52,
     "metadata": {},
     "output_type": "execute_result"
    }
   ],
   "source": [
    "detector.sensitivity"
   ]
  },
  {
   "cell_type": "code",
   "execution_count": 53,
   "metadata": {},
   "outputs": [
    {
     "data": {
      "text/plain": [
       "0.24595076158104826"
      ]
     },
     "execution_count": 53,
     "metadata": {},
     "output_type": "execute_result"
    }
   ],
   "source": [
    "detector.specificity"
   ]
  },
  {
   "cell_type": "code",
   "execution_count": 136,
   "metadata": {},
   "outputs": [
    {
     "data": {
      "text/plain": [
       "(0.2701708652367167, 0.3080066092612979)"
      ]
     },
     "execution_count": 136,
     "metadata": {},
     "output_type": "execute_result"
    }
   ],
   "source": [
    "AR_detector.confidence_interval(AR_texts)"
   ]
  },
  {
   "cell_type": "code",
   "execution_count": 139,
   "metadata": {},
   "outputs": [
    {
     "data": {
      "text/plain": [
       "0.3074424381389128"
      ]
     },
     "execution_count": 139,
     "metadata": {},
     "output_type": "execute_result"
    }
   ],
   "source": [
    "1 - len([disamb for disamb in disambs if disamb[0] == 'HGNC:644'])/len(disambs)"
   ]
  },
  {
   "cell_type": "markdown",
   "metadata": {},
   "source": [
    "The confidence interval is very accurate here"
   ]
  },
  {
   "cell_type": "code",
   "execution_count": 1,
   "metadata": {},
   "outputs": [],
   "source": [
    "from adeft import available_shortforms"
   ]
  },
  {
   "cell_type": "code",
   "execution_count": 2,
   "metadata": {},
   "outputs": [
    {
     "data": {
      "text/plain": [
       "{'PC': 'PC',\n",
       " 'EMT': 'EMT',\n",
       " 'SP': 'SP',\n",
       " 'PE': 'PE',\n",
       " 'ROS': 'ROS',\n",
       " 'NP': 'NP:NP_S',\n",
       " 'NPs': 'NP:NP_S',\n",
       " 'MS': 'MS',\n",
       " 'MT': 'MT',\n",
       " 'BP': 'BP',\n",
       " 'GH': 'GH',\n",
       " 'AD': 'AD',\n",
       " 'GT': 'GT',\n",
       " 'DA': 'DA',\n",
       " 'GR': 'GR',\n",
       " 'IR': 'IR',\n",
       " 'HK2': 'HK2',\n",
       " 'ARF': 'ARF',\n",
       " 'CS': 'CS',\n",
       " 'EC': 'EC',\n",
       " 'STD': 'STD',\n",
       " 'PD1': 'PD1',\n",
       " 'TGH': 'TGH',\n",
       " 'PKD': 'PKD',\n",
       " 'RA': 'RA',\n",
       " 'PCP': 'PCP',\n",
       " 'PI': 'PI',\n",
       " 'PS': 'PS',\n",
       " 'PA': 'PA',\n",
       " 'MB': 'MB',\n",
       " 'HA': 'HA',\n",
       " 'AR': 'AR',\n",
       " 'HR': 'HR',\n",
       " 'NE': 'NE',\n",
       " 'UBC': 'UBC',\n",
       " 'GSC': 'GSC',\n",
       " 'AA': 'AA',\n",
       " 'NIS': 'NIS',\n",
       " 'GC': 'GC',\n",
       " 'CM': 'CM',\n",
       " 'RB': 'RB:R_B',\n",
       " 'Rb': 'RB:R_B',\n",
       " 'LH': 'LH',\n",
       " 'ER': 'ER',\n",
       " 'TF': 'TF',\n",
       " 'PGP': 'PGP',\n",
       " 'MCT': 'MCT',\n",
       " 'TG': 'TG'}"
      ]
     },
     "execution_count": 2,
     "metadata": {},
     "output_type": "execute_result"
    }
   ],
   "source": [
    "available_shortforms"
   ]
  },
  {
   "cell_type": "code",
   "execution_count": 5,
   "metadata": {},
   "outputs": [],
   "source": [
    "disambs = [load_disambiguator(shortform) for shortform in set(available_shortforms.keys())]"
   ]
  },
  {
   "cell_type": "code",
   "execution_count": 6,
   "metadata": {},
   "outputs": [],
   "source": [
    "names = [disamb.names for disamb in disambs]"
   ]
  },
  {
   "cell_type": "code",
   "execution_count": 8,
   "metadata": {},
   "outputs": [
    {
     "data": {
      "text/plain": [
       "{'CHEBI:CHEBI:18303': 'phosphatidyl-L-serine',\n",
       " 'HGNC:9456': 'PROS1',\n",
       " 'HGNC:9498': 'PSAP',\n",
       " 'HGNC:9508': 'PSEN1'}"
      ]
     },
     "execution_count": 8,
     "metadata": {},
     "output_type": "execute_result"
    }
   ],
   "source": [
    "names[1]"
   ]
  },
  {
   "cell_type": "code",
   "execution_count": 9,
   "metadata": {},
   "outputs": [
    {
     "data": {
      "text/plain": [
       "[{'HGNC:10261': 'ROS1',\n",
       "  'MESH:D012374': 'Rod Outer Segment',\n",
       "  'MESH:D017382': 'Reactive Oxygen Species'},\n",
       " {'CHEBI:CHEBI:18303': 'phosphatidyl-L-serine',\n",
       "  'HGNC:9456': 'PROS1',\n",
       "  'HGNC:9498': 'PSAP',\n",
       "  'HGNC:9508': 'PSEN1'},\n",
       " {'CHEBI:CHEBI:29865': 'benzo[a]pyrene',\n",
       "  'MESH:D001794': 'Blood Pressure',\n",
       "  'MESH:D004164': 'Diphosphonates'},\n",
       " {'CHEBI:CHEBI:17642': 'pentachlorophenol',\n",
       "  'CHEBI:CHEBI:8058': 'phencyclidine',\n",
       "  'HGNC:1067': 'BMP1',\n",
       "  'HGNC:9344': 'PRCP',\n",
       "  'MESH:D016764': 'Cell Polarity'},\n",
       " {'HGNC:4612': 'GSC'},\n",
       " {'CHEBI:CHEBI:33322': 'RUBIDIUM',\n",
       "  'CHEBI:CHEBI:52261': 'ROSE-BENGAL',\n",
       "  'GO:GO:0045730': 'RESPIRATORY-BURST',\n",
       "  'HGNC:9884': 'RB1'},\n",
       " {'CHEBI:CHEBI:79516': 'Nonylphenol',\n",
       "  'FPLX:Natriuretic_peptide': 'Natriuretic Peptide',\n",
       "  'HGNC:33173': 'CTF2P',\n",
       "  'MESH:D000070614': 'Nucleus Pulposus',\n",
       "  'MESH:D009437': 'Neuralgia',\n",
       "  'MESH:D009698': 'Nucleoproteins',\n",
       "  'MESH:D019590': 'Nucleocapsid Proteins',\n",
       "  'MESH:D053758': 'Nanoparticles'},\n",
       " {'HGNC:13633': 'ADIPOQ',\n",
       "  'MESH:D000437': 'Alcoholism',\n",
       "  'MESH:D000544': 'Alzheimer Disease',\n",
       "  'MESH:D000735': 'Androstenedione',\n",
       "  'MESH:D003876': 'Dermatitis, Atopic',\n",
       "  'MESH:D004837': 'Epinephrine'},\n",
       " {'FPLX:UBE2': 'UBE2',\n",
       "  'HGNC:12468': 'UBC',\n",
       "  'MESH:D001749': 'Urinary Bladder Neoplasms'},\n",
       " {'CHEBI:CHEBI:16796': 'melatonin',\n",
       "  'FPLX:MT': 'MT',\n",
       "  'MESH:D008870': 'Microtubules'},\n",
       " {'HGNC:4923': 'HK2', 'HGNC:6318': 'KIF2A'},\n",
       " {'MESH:D011839': 'Radiation, Ionizing',\n",
       "  'MESH:D007333': 'Insulin Resistance',\n",
       "  'HGNC:6091': 'INSR',\n",
       "  'MESH:D015427': 'Reperfusion Injury',\n",
       "  'MESH:D007259': 'Infrared Rays'},\n",
       " {'CHEBI:CHEBI:17264': 'phosphatidylglycerol phosphate', 'HGNC:40': 'ABCB1'},\n",
       " {'FPLX:ARF_GTPase_family': 'ARF_GTPase_family',\n",
       "  'HGNC:30833': 'CDK2AP2',\n",
       "  'MESH:D058186': 'Acute Kidney Injury'},\n",
       " {'GO:GO:0005783': 'Endoplasmic Reticulum', 'HGNC:3467': 'ESR1'},\n",
       " {'HGNC:11458': 'SULT2A1',\n",
       "  'MESH:D003866': 'Depressive Disorder',\n",
       "  'MESH:D009682': 'Magnetic Resonance Spectroscopy',\n",
       "  'MESH:D012749': 'Sexually Transmitted Diseases'},\n",
       " {'CHEBI:CHEBI:6980': 'monocrotaline',\n",
       "  'FPLX:Tryptase': 'Tryptase',\n",
       "  'HGNC:10922': 'SLC16A1',\n",
       "  'MESH:D014280': 'Triglycerides'},\n",
       " {'CHEBI:CHEBI:25053': 'catechin',\n",
       "  'MESH:D004759': 'Cell, Enterochromaffin',\n",
       "  'MESH:D016889': 'Endometrial Neoplasms',\n",
       "  'MESH:D042783': 'Endothelial Cells',\n",
       "  'MESH:D063388': 'Endocannabinoids'},\n",
       " {'CHEBI:CHEBI:17855': 'Triglyceride',\n",
       "  'CHEBI:CHEBI:9516': 'Thapsigargin',\n",
       "  'HGNC:11764': 'TG'},\n",
       " {'CHEBI:CHEBI:15343': 'acetaldehyde',\n",
       "  'CHEBI:CHEBI:15843': 'arachidonic acid',\n",
       "  'CHEBI:CHEBI:22584': 'antimycin A',\n",
       "  'CHEBI:CHEBI:28619': 'acrylamide',\n",
       "  'CHEBI:CHEBI:68639': 'abiraterone acetate'},\n",
       " {'HGNC:1863': 'CES1'},\n",
       " {'HGNC:4623': 'GSR', 'HGNC:7978': 'NR3C1'},\n",
       " {'HGNC:5172': 'HR',\n",
       "  'MESH:D006339': 'Heart Rate',\n",
       "  'MESH:D006967': 'Hypersensitivity',\n",
       "  'MESH:D059765': 'Homologous Recombination'},\n",
       " {'CHEBI:CHEBI:33322': 'RUBIDIUM',\n",
       "  'CHEBI:CHEBI:52261': 'ROSE-BENGAL',\n",
       "  'GO:GO:0045730': 'RESPIRATORY-BURST',\n",
       "  'HGNC:9884': 'RB1'},\n",
       " {'CHEBI:CHEBI:15429': 'hydroxylamine',\n",
       "  'CHEBI:CHEBI:16336': 'hyaluronic acid',\n",
       "  'CHEBI:CHEBI:52255': 'hydroxylapatite',\n",
       "  'MESH:D006388': 'Hemagglutinins',\n",
       "  'MESH:D006632': 'Histamine'},\n",
       " {'HGNC:9407': 'PRKD1'},\n",
       " {'FPLX:GUCY': 'GUCY',\n",
       "  'HGNC:4177': 'GBA',\n",
       "  'MESH:D005938': 'Glucocorticoids',\n",
       "  'MESH:D013274': 'Stomach Neoplasms'},\n",
       " {'CHEBI:CHEBI:16337': 'phosphatidic acid',\n",
       "  'CHEBI:CHEBI:26267': 'proanthocyanidin',\n",
       "  'CHEBI:CHEBI:88061': 'polyamine',\n",
       "  'MESH:D015444': 'Exercise'},\n",
       " {'CHEBI:CHEBI:26536': 'retinoic acid',\n",
       "  'MESH:D001172': 'Arthritis, Rheumatoid'},\n",
       " {'CHEBI:CHEBI:64482': 'phosphatidylcholine',\n",
       "  'HGNC:8636': 'PC',\n",
       "  'HGNC:9451': 'PROC',\n",
       "  'MESH:D050050': 'Protein Carbonylation'},\n",
       " {'CHEBI:CHEBI:16261': 'chitosan',\n",
       "  'CHEBI:CHEBI:37397': 'chondroitin sulfate',\n",
       "  'HGNC:2422': 'CS',\n",
       "  'HGNC:2752': 'PIAS1',\n",
       "  'MESH:D000073865': 'Cigarette Smoking',\n",
       "  'MESH:D000305': 'Adrenal Cortex Hormones'},\n",
       " {'HGNC:8760': 'PDCD1', 'HGNC:11138': 'SNCA'},\n",
       " {'CHEBI:CHEBI:6872': 'Methylene Blue', 'HGNC:6915': 'MB'},\n",
       " {'CHEBI:CHEBI:136609': 'Theaflavin',\n",
       "  'CHEBI:CHEBI:75182': 'Toylfluanid',\n",
       "  'HGNC:11740': 'TF',\n",
       "  'HGNC:3541': 'F3'},\n",
       " {'HGNC:7468': 'MTR', 'MESH:D009103': 'Multiple Sclerosis'},\n",
       " {'FPLX:Glycosyltransferase': 'Glycosyltransferase',\n",
       "  'FPLX:SLC2A': 'SLC2A',\n",
       "  'MESH:D013662': 'Tea'},\n",
       " {'FPLX:ADRB': 'ADRB',\n",
       "  'GO:GO:0007340': 'Acrosome Reaction',\n",
       "  'HGNC:381': 'AKR1B1',\n",
       "  'HGNC:644': 'AR',\n",
       "  'HGNC:651': 'AREG'},\n",
       " {'CHEBI:CHEBI:11040': 'N-iodosuccinimide', 'HGNC:11040': 'SLC5A5'},\n",
       " {'HGNC:4261': 'GH1', 'MESH:D006026': 'Glycoside Hydrolases'},\n",
       " {'CHEBI:CHEBI:28874': 'phosphatidylinositol',\n",
       "  'CHEBI:CHEBI:51240': 'propidium iodide',\n",
       "  'MESH:D011480': 'Protease Inhibitors'},\n",
       " {'MESH:D058750': 'Epithelial-Mesenchymal Transition', 'HGNC:6179': 'ITK'},\n",
       " {'CHEBI:CHEBI:16038': 'phosphatidylethanolamine',\n",
       "  'CHEBI:CHEBI:60034': 'polyethylene polymer',\n",
       "  'CHEBI:CHEBI:8093': 'phenylephrine',\n",
       "  'FPLX:ELA': 'ELA',\n",
       "  'HGNC:8831': 'PENK',\n",
       "  'HGNC:9358': 'PREP',\n",
       "  'MESH:D010799': 'Phycoerythrin',\n",
       "  'MESH:D011225': 'Pre-Eclampsia',\n",
       "  'MESH:D011655': 'Pulmonary Embolism'},\n",
       " {'CHEBI:CHEBI:18243': 'dopamine', 'MESH:D015259': 'Dopamine Agents'},\n",
       " {'FPLX:LH': 'LH'},\n",
       " {'FPLX:CALM': 'CALM',\n",
       "  'MESH:D002914': 'Chylomicrons',\n",
       "  'MESH:D017077': 'Culture Media, Conditioned'},\n",
       " {'CHEBI:CHEBI:79516': 'Nonylphenol',\n",
       "  'FPLX:Natriuretic_peptide': 'Natriuretic Peptide',\n",
       "  'HGNC:33173': 'CTF2P',\n",
       "  'MESH:D000070614': 'Nucleus Pulposus',\n",
       "  'MESH:D009437': 'Neuralgia',\n",
       "  'MESH:D009698': 'Nucleoproteins',\n",
       "  'MESH:D019590': 'Nucleocapsid Proteins',\n",
       "  'MESH:D053758': 'Nanoparticles'},\n",
       " {'CHEBI:CHEBI:33569': 'noradrenaline', 'HGNC:3309': 'ELANE'},\n",
       " {'CHEBI:CHEBI:8673': 'pyrimethamine',\n",
       "  'CHEBI:CHEBI:90695': 'anthra[1,9-cd]pyrazol-6(2H)-one',\n",
       "  'HGNC:10798': 'SFTPA1',\n",
       "  'HGNC:11517': 'TAC1',\n",
       "  'HGNC:9475': 'PRSS1'}]"
      ]
     },
     "execution_count": 9,
     "metadata": {},
     "output_type": "execute_result"
    }
   ],
   "source": [
    "names"
   ]
  },
  {
   "cell_type": "code",
   "execution_count": null,
   "metadata": {},
   "outputs": [],
   "source": []
  }
 ],
 "metadata": {
  "kernelspec": {
   "display_name": "Python 3",
   "language": "python",
   "name": "python3"
  },
  "language_info": {
   "codemirror_mode": {
    "name": "ipython",
    "version": 3
   },
   "file_extension": ".py",
   "mimetype": "text/x-python",
   "name": "python",
   "nbconvert_exporter": "python",
   "pygments_lexer": "ipython3",
   "version": "3.7.2"
  }
 },
 "nbformat": 4,
 "nbformat_minor": 2
}
