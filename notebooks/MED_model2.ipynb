{
 "cells": [
  {
   "cell_type": "code",
   "execution_count": 1,
   "metadata": {},
   "outputs": [],
   "source": [
    "import json\n",
    "import pickle\n",
    "\n",
    "from indra.literature.adeft_tools import universal_extract_text\n",
    "from indra.databases.hgnc_client import get_hgnc_name, get_hgnc_id\n",
    "\n",
    "from indra_db.util.content_scripts import get_text_content_from_pmids\n",
    "from indra_db.util.content_scripts import get_stmts_with_agent_text_like\n",
    "from indra_db.util.content_scripts import get_text_content_from_stmt_ids\n",
    "\n",
    "from adeft.discover import AdeftMiner\n",
    "from adeft.gui import ground_with_gui\n",
    "from adeft.modeling.label import AdeftLabeler\n",
    "from adeft.disambiguate import AdeftDisambiguator\n",
    "from adeft.modeling.classify import AdeftClassifier\n",
    "\n",
    "\n",
    "from adeft_indra.ground import gilda_ground"
   ]
  },
  {
   "cell_type": "code",
   "execution_count": 2,
   "metadata": {},
   "outputs": [],
   "source": [
    "shortforms = ['MED']\n",
    "genes = ['SCN8A']\n",
    "families = {'Macrophage_inflammatory_proteins': ['CCL3', 'CCL4']}\n",
    "groundings = [f'HGNC:{get_hgnc_id(gene)}' for gene in genes]\n",
    "for family, members in families.items():\n",
    "    genes.extend(members)\n",
    "    groundings.append(f'FPLX:{family}')\n",
    "with open('../data/entrez_all_pmids.json', 'r') as f:\n",
    "    all_pmids = json.load(f)"
   ]
  },
  {
   "cell_type": "code",
   "execution_count": 3,
   "metadata": {},
   "outputs": [
    {
     "data": {
      "text/plain": [
       "['HGNC:10596', 'FPLX:Macrophage_inflammatory_proteins']"
      ]
     },
     "execution_count": 3,
     "metadata": {},
     "output_type": "execute_result"
    }
   ],
   "source": [
    "groundings"
   ]
  },
  {
   "cell_type": "code",
   "execution_count": 4,
   "metadata": {},
   "outputs": [],
   "source": [
    "entrez_texts = []\n",
    "entrez_refs = set()\n",
    "for gene, grounding in zip(genes, groundings):\n",
    "    pmids = all_pmids[gene]\n",
    "    _, content = get_text_content_from_pmids(pmids)\n",
    "    entrez_texts.extend([(universal_extract_text(text), grounding)\n",
    "                          for text in content.values() if text])\n",
    "    entrez_refs.update(content.keys())"
   ]
  },
  {
   "cell_type": "code",
   "execution_count": 5,
   "metadata": {},
   "outputs": [],
   "source": [
    "miners = dict()\n",
    "all_texts = set()\n",
    "for shortform in shortforms:\n",
    "    stmts = get_stmts_with_agent_text_like(shortform)[shortform]\n",
    "    _, content = get_text_content_from_stmt_ids(stmts)\n",
    "    shortform_texts = [universal_extract_text(text, contains=shortforms)\n",
    "                       for ref, text in content.items() if text and ref not in entrez_refs]\n",
    "    miners[shortform] = AdeftMiner(shortform)\n",
    "    miners[shortform].process_texts(shortform_texts)\n",
    "    all_texts.union(shortform_texts)"
   ]
  },
  {
   "cell_type": "markdown",
   "metadata": {},
   "source": [
    "It's then necessary to check if Acromine produced the correct results. We must fix errors manually"
   ]
  },
  {
   "cell_type": "code",
   "execution_count": 6,
   "metadata": {},
   "outputs": [],
   "source": [
    "miners['MED'].compute_alignment_scores()"
   ]
  },
  {
   "cell_type": "code",
   "execution_count": 8,
   "metadata": {},
   "outputs": [],
   "source": [
    "trie = miners['MED']._internal_trie"
   ]
  },
  {
   "cell_type": "code",
   "execution_count": 12,
   "metadata": {},
   "outputs": [
    {
     "data": {
      "text/plain": [
       "<adeft.discover._TrieNode at 0x13b2df260>"
      ]
     },
     "execution_count": 12,
     "metadata": {},
     "output_type": "execute_result"
    }
   ],
   "source": [
    "trie.children['electrodialysi']"
   ]
  },
  {
   "cell_type": "code",
   "execution_count": 13,
   "metadata": {},
   "outputs": [
    {
     "data": {
      "text/plain": [
       "<adeft.discover._TrieNode at 0x13b2df100>"
      ]
     },
     "execution_count": 13,
     "metadata": {},
     "output_type": "execute_result"
    }
   ],
   "source": [
    "_12.children['metathesi']"
   ]
  },
  {
   "cell_type": "code",
   "execution_count": 16,
   "metadata": {},
   "outputs": [
    {
     "data": {
      "text/plain": [
       "<adeft.discover._TrieNode at 0x13a8bff70>"
      ]
     },
     "execution_count": 16,
     "metadata": {},
     "output_type": "execute_result"
    }
   ],
   "source": [
    "_13.children['dure']"
   ]
  },
  {
   "cell_type": "code",
   "execution_count": 24,
   "metadata": {},
   "outputs": [
    {
     "data": {
      "text/plain": [
       "6.166666666666667"
      ]
     },
     "execution_count": 24,
     "metadata": {},
     "output_type": "execute_result"
    }
   ],
   "source": [
    "_13.best_ancestor_score"
   ]
  },
  {
   "cell_type": "code",
   "execution_count": 7,
   "metadata": {},
   "outputs": [
    {
     "data": {
      "text/plain": [
       "[('dose', 79, 0.9302274232722455),\n",
       " ('multiple epiphyseal dysplasia', 55, 0.9217114246700046),\n",
       " ('mediterranean', 15, 0.7183098591549295),\n",
       " ('medetomidine', 14, 0.7037037037037037),\n",
       " ('mycoepoxydiene', 12, 0.7142857142857143),\n",
       " ('mediator', 12, 0.6923076923076923),\n",
       " ('metathesis electrodialysis', 12, 0.5636363636363636),\n",
       " ('diet', 8, 0.4482758620689655),\n",
       " ('microendoscopic discectomy', 6, 0.5),\n",
       " ('medical', 5, 0.3548387096774194),\n",
       " ('b tabaci', 4, 0.3333333333333333),\n",
       " ('distillate', 4, 0.1111111111111111)]"
      ]
     },
     "execution_count": 7,
     "metadata": {},
     "output_type": "execute_result"
    }
   ],
   "source": [
    "miners['MED'].get_longforms(use_alignment_based_scoring=False)"
   ]
  },
  {
   "cell_type": "code",
   "execution_count": 9,
   "metadata": {},
   "outputs": [
    {
     "data": {
      "text/plain": [
       "[('multiple epiphyseal dysplasia', 55, 0.9963986197984428),\n",
       " ('minimal erythema dose', 26, 0.9633978506922196),\n",
       " ('mediterranean', 15, 0.9971413643893225),\n",
       " ('medetomidine', 14, 0.997198513316415),\n",
       " ('morphine equivalent dose', 13, 0.9577536558487252),\n",
       " ('minimal effective dose', 13, 0.9560813018210231),\n",
       " ('mediator', 12, 0.9972431934685796),\n",
       " ('metathesis electrodialysis', 12, 0.9440712954161106),\n",
       " ('mycoepoxydiene', 12, 0.9063801075107808),\n",
       " ('minimum effective dose', 11, 0.9537501416611961),\n",
       " ('microendoscopic discectomy', 6, 0.9605827067560145),\n",
       " ('maximal effective dose', 6, 0.9495777028244041),\n",
       " ('medical', 5, 0.9985822053072961),\n",
       " ('methionine enriched diet', 5, 0.9979189008592835),\n",
       " ('minimal erythemal dose', 4, 0.9498796556349615),\n",
       " ('main excretory duct', 2, 1.0),\n",
       " ('medial', 2, 1.0),\n",
       " ('medulla', 2, 1.0),\n",
       " ('medullectomy', 2, 1.0),\n",
       " ('medulloblastoma', 2, 1.0),\n",
       " ('miniaturized electromagnetic device', 2, 1.0),\n",
       " ('minimum exposure distance', 2, 1.0),\n",
       " ('marihuana extract distillate', 2, 0.9993890416412069),\n",
       " ('maximum entropy discrimination', 1, 1.0),\n",
       " ('medea', 1, 1.0),\n",
       " ('medical emergency dispatcher', 1, 1.0),\n",
       " ('medotomidine', 1, 1.0),\n",
       " ('minimal effective dosage', 1, 1.0),\n",
       " ('minimum effective dosage', 1, 1.0),\n",
       " ('minimum entropy deconvolution', 1, 1.0),\n",
       " ('modulation enhanced diffraction', 1, 1.0),\n",
       " ('mouse embryo dependent', 1, 1.0),\n",
       " ('marijuana extract distillate', 1, 0.9993890416412069),\n",
       " ('multi effective distillate', 1, 0.9993890416412069),\n",
       " ('multienzyme digestion', 1, 0.9624287271624916),\n",
       " ('maximum effective dose', 1, 0.9471620803399456),\n",
       " ('minimal efficacious dose', 1, 0.9471620803399456),\n",
       " ('minimum erythemal dose', 1, 0.9471620803399456),\n",
       " ('mínimal erythema dose', 1, 0.9471620803399456),\n",
       " ('mid esophageal and epiphrenic diverticula', 1, 0.8740751906952435),\n",
       " ('minimum significant effective dose', 1, 0.844108260554852),\n",
       " ('medial extensor digiti tertii proprius', 1, 0.8151931096059227)]"
      ]
     },
     "execution_count": 9,
     "metadata": {},
     "output_type": "execute_result"
    }
   ],
   "source": [
    "miners['MED'].get_longforms(use_alignment_based_scoring=True, cutoff=0.8)"
   ]
  },
  {
   "cell_type": "code",
   "execution_count": 12,
   "metadata": {},
   "outputs": [
    {
     "data": {
      "text/plain": [
       "[('multiple epiphyseal dysplasia', 55, 0.9990434922264482),\n",
       " ('minimal erythema dose', 26, 0.9642443532842938),\n",
       " ('mediterranean', 15, 0.9990939146055442),\n",
       " ('medetomidine', 14, 0.999099522137419),\n",
       " ('morphine equivalent dose', 13, 0.958288491577354),\n",
       " ('minimal effective dose', 13, 0.9565237918123347),\n",
       " ('mediator', 12, 0.9991040378772884),\n",
       " ('metathesis electrodialysis', 12, 0.9454843494997125),\n",
       " ('mycoepoxydiene', 12, 0.9083184515856181),\n",
       " ('minimum effective dose', 11, 0.9540639072913988),\n",
       " ('microendoscopic discectomy', 6, 0.961780309952817),\n",
       " ('maximal effective dose', 6, 0.9496610705039266),\n",
       " ('medical', 5, 0.9993132556957216),\n",
       " ('methionine enriched diet', 5, 0.9987402834423367),\n",
       " ('minimal erythemal dose', 4, 0.9499796968503884),\n",
       " ('mediator complex', 3, 0.757689025371995),\n",
       " ('main excretory duct', 2, 1.0),\n",
       " ('medial', 2, 1.0),\n",
       " ('medulla', 2, 1.0),\n",
       " ('medullectomy', 2, 1.0),\n",
       " ('medulloblastoma', 2, 1.0),\n",
       " ('miniaturized electromagnetic device', 2, 1.0),\n",
       " ('minimum exposure distance', 2, 1.0),\n",
       " ('marihuana extract distillate', 2, 0.9991668749652821),\n",
       " ('media thickness', 2, 0.757858283255199),\n",
       " ('medical therapy', 2, 0.757858283255199),\n",
       " ('meditation training', 2, 0.757858283255199),\n",
       " ('metabolic syndrome related ed', 2, 0.7566010536914948),\n",
       " ('mediterranean style low glycemic load diet', 2, 0.641539669370255),\n",
       " ('maximum entropy discrimination', 1, 1.0),\n",
       " ('medea', 1, 1.0),\n",
       " ('medical emergency dispatcher', 1, 1.0),\n",
       " ('medotomidine', 1, 1.0),\n",
       " ('minimal effective dosage', 1, 1.0),\n",
       " ('minimum effective dosage', 1, 1.0),\n",
       " ('minimum entropy deconvolution', 1, 1.0),\n",
       " ('modulation enhanced diffraction', 1, 1.0),\n",
       " ('mouse embryo dependent', 1, 1.0),\n",
       " ('marijuana extract distillate', 1, 0.9991668749652821),\n",
       " ('multi effective distillate', 1, 0.9991668749652821),\n",
       " ('multienzyme digestion', 1, 0.9624287271624916),\n",
       " ('maximum effective dose', 1, 0.9471120597322321),\n",
       " ('minimal efficacious dose', 1, 0.9471120597322321),\n",
       " ('minimum erythemal dose', 1, 0.9471120597322321),\n",
       " ('mínimal erythema dose', 1, 0.9471120597322321),\n",
       " ('mid esophageal and epiphrenic diverticula', 1, 0.8740751906952435),\n",
       " ('minimum significant effective dose', 1, 0.8440582399471385),\n",
       " ('medial extensor digiti tertii proprius', 1, 0.8151931096059227),\n",
       " ('medetomidine hydrochloride', 1, 0.7934240264316235),\n",
       " ('supplement ethanol diet', 1, 0.7807601870532557),\n",
       " ('minimum effective oral antitussive dose', 1, 0.771902572085527),\n",
       " ('medial snc', 1, 0.757858283255199),\n",
       " ('mediterranean like', 1, 0.757858283255199),\n",
       " ('medulla oblongata', 1, 0.757858283255199),\n",
       " ('medial sn lesions', 1, 0.6443940149772542),\n",
       " ('medical treatment alone', 1, 0.6443940149772542),\n",
       " ('med 1 3 matrilin 3', 1, 0.5253055608807534)]"
      ]
     },
     "execution_count": 12,
     "metadata": {},
     "output_type": "execute_result"
    }
   ],
   "source": [
    "longforms0"
   ]
  },
  {
   "cell_type": "code",
   "execution_count": 27,
   "metadata": {},
   "outputs": [],
   "source": [
    "from adeft.score import AlignmentBasedScorer"
   ]
  },
  {
   "cell_type": "code",
   "execution_count": 50,
   "metadata": {},
   "outputs": [],
   "source": [
    "abs1 = AlignmentBasedScorer('MED', beta=0.95, gamma=0.95)\n",
    "abs2 = AlignmentBasedScorer('MED')"
   ]
  },
  {
   "cell_type": "code",
   "execution_count": 51,
   "metadata": {},
   "outputs": [
    {
     "data": {
      "text/plain": [
       "[0.9161259357582442, 0.6942936289193057]"
      ]
     },
     "execution_count": 51,
     "metadata": {},
     "output_type": "execute_result"
    }
   ],
   "source": [
    "abs1.expanding_score(['during', 'mycoepxydiene'])"
   ]
  },
  {
   "cell_type": "code",
   "execution_count": 52,
   "metadata": {},
   "outputs": [
    {
     "data": {
      "text/plain": [
       "[0.7770510291922018, 0.8746748864246718]"
      ]
     },
     "execution_count": 52,
     "metadata": {},
     "output_type": "execute_result"
    }
   ],
   "source": [
    "abs2.expanding_score(['during', 'mycoepxydiene'])"
   ]
  },
  {
   "cell_type": "code",
   "execution_count": 53,
   "metadata": {},
   "outputs": [
    {
     "data": {
      "text/plain": [
       "[('multiple epiphyseal dysplasia', 55, 0.9921905749853817),\n",
       " ('minimal erythema dose', 26, 0.7154196017671662),\n",
       " ('mediterranean', 15, 0.9812707760965216),\n",
       " ('medetomidine', 14, 0.9812269573851179),\n",
       " ('morphine equivalent dose', 13, 0.6680166975529871),\n",
       " ('minimal effective dose', 13, 0.6539713926006377),\n",
       " ('mediator', 12, 0.9812003885576985),\n",
       " ('metathesis electrodialysis', 12, 0.868079762881967),\n",
       " ('minimum effective dose', 11, 0.634393088727666),\n",
       " ('microendoscopic discectomy', 6, 0.8971397047791269),\n",
       " ('maximal effective dose', 6, 0.5993507622303903),\n",
       " ('methionine enriched diet', 5, 0.9875851864050953),\n",
       " ('medical', 5, 0.9822901288955395),\n",
       " ('minimal erythemal dose', 4, 0.6018867200690089),\n",
       " ('mediator complex', 3, 0.7477442596713679),\n",
       " ('main excretory duct', 2, 1.0),\n",
       " ('miniaturized electromagnetic device', 2, 1.0),\n",
       " ('minimum exposure distance', 2, 1.0),\n",
       " ('marihuana extract distillate', 2, 0.9916874653211372),\n",
       " ('medial', 2, 0.9888473769867046),\n",
       " ('medulla', 2, 0.9888473769867046),\n",
       " ('medullectomy', 2, 0.9888473769867046),\n",
       " ('medulloblastoma', 2, 0.9888473769867046),\n",
       " ('media thickness', 2, 0.7494061755245505),\n",
       " ('medical therapy', 2, 0.7494061755245505),\n",
       " ('meditation training', 2, 0.7494061755245505),\n",
       " ('metabolic syndrome related ed', 2, 0.7453423842168238),\n",
       " ('mediterranean style low glycemic load diet', 2, 0.6162637435834556),\n",
       " ('maximum entropy discrimination', 1, 1.0),\n",
       " ('medical emergency dispatcher', 1, 1.0),\n",
       " ('minimal effective dosage', 1, 1.0),\n",
       " ('minimum effective dosage', 1, 1.0),\n",
       " ('minimum entropy deconvolution', 1, 1.0),\n",
       " ('modulation enhanced diffraction', 1, 1.0),\n",
       " ('mouse embryo dependent', 1, 1.0),\n",
       " ('marijuana extract distillate', 1, 0.9916874653211372),\n",
       " ('multi effective distillate', 1, 0.9916874653211372),\n",
       " ('medea', 1, 0.9888473769867046),\n",
       " ('medotomidine', 1, 0.9888473769867046),\n",
       " ('multienzyme digestion', 1, 0.901104051335983),\n",
       " ('mid esophageal and epiphrenic diverticula', 1, 0.8740751906952435),\n",
       " ('medial extensor digiti tertii proprius', 1, 0.8151931096059227),\n",
       " ('medetomidine hydrochloride', 1, 0.7934240264316235),\n",
       " ('drug mycoepoxydiene', 1, 0.7827874220384835),\n",
       " ('supplement ethanol diet', 1, 0.7514710406024515),\n",
       " ('medial snc', 1, 0.7494061755245505),\n",
       " ('mediterranean like', 1, 0.7494061755245505),\n",
       " ('medulla oblongata', 1, 0.7494061755245505),\n",
       " ('medial sn lesions', 1, 0.637207331456189),\n",
       " ('medical treatment alone', 1, 0.637207331456189),\n",
       " ('maximum effective dose', 1, 0.5790630995214412),\n",
       " ('minimal efficacious dose', 1, 0.5790630995214412),\n",
       " ('minimum erythemal dose', 1, 0.5790630995214412),\n",
       " ('mínimal erythema dose', 1, 0.5790630995214412),\n",
       " ('med 1 3 matrilin 3', 1, 0.5194470259934627),\n",
       " ('minimum significant effective dose', 1, 0.5152926857609404),\n",
       " ('minimum effective oral antitussive dose', 1, 0.4706422613099508)]"
      ]
     },
     "execution_count": 53,
     "metadata": {},
     "output_type": "execute_result"
    }
   ],
   "source": [
    "longforms0"
   ]
  },
  {
   "cell_type": "code",
   "execution_count": 17,
   "metadata": {},
   "outputs": [],
   "source": [
    "from adeft.score import AlignmentBasedScorer"
   ]
  },
  {
   "cell_type": "code",
   "execution_count": 18,
   "metadata": {},
   "outputs": [],
   "source": [
    "scorer = AlignmentBasedScorer('MED')"
   ]
  },
  {
   "cell_type": "code",
   "execution_count": 21,
   "metadata": {},
   "outputs": [
    {
     "data": {
      "text/plain": [
       "[0.0, 0.869683331152402, 0.9024999773502351]"
      ]
     },
     "execution_count": 21,
     "metadata": {},
     "output_type": "execute_result"
    }
   ],
   "source": [
    "scorer.expanding_score(['during', 'metathesis', 'electrodialysis'])"
   ]
  },
  {
   "cell_type": "code",
   "execution_count": 22,
   "metadata": {},
   "outputs": [],
   "source": [
    "trie = miners['MED']._internal_trie"
   ]
  },
  {
   "cell_type": "code",
   "execution_count": 23,
   "metadata": {},
   "outputs": [
    {
     "data": {
      "text/plain": [
       "<adeft.discover._TrieNode at 0x1105f9d60>"
      ]
     },
     "execution_count": 23,
     "metadata": {},
     "output_type": "execute_result"
    }
   ],
   "source": [
    "trie.children['electrodialysi']"
   ]
  },
  {
   "cell_type": "code",
   "execution_count": 25,
   "metadata": {},
   "outputs": [
    {
     "data": {
      "text/plain": [
       "<adeft.discover._TrieNode at 0x1105f9ec0>"
      ]
     },
     "execution_count": 25,
     "metadata": {},
     "output_type": "execute_result"
    }
   ],
   "source": [
    "_23.children['metathesi']"
   ]
  },
  {
   "cell_type": "code",
   "execution_count": 26,
   "metadata": {},
   "outputs": [
    {
     "data": {
      "text/plain": [
       "0.34444444444444444"
      ]
     },
     "execution_count": 26,
     "metadata": {},
     "output_type": "execute_result"
    }
   ],
   "source": [
    "_25.scaled_score(smoothing_param=4)"
   ]
  },
  {
   "cell_type": "code",
   "execution_count": 27,
   "metadata": {},
   "outputs": [
    {
     "data": {
      "text/plain": [
       "<adeft.discover._TrieNode at 0x1107d0680>"
      ]
     },
     "execution_count": 27,
     "metadata": {},
     "output_type": "execute_result"
    }
   ],
   "source": [
    "_25.children['dure']"
   ]
  },
  {
   "cell_type": "code",
   "execution_count": 28,
   "metadata": {},
   "outputs": [
    {
     "data": {
      "text/plain": [
       "0.0"
      ]
     },
     "execution_count": 28,
     "metadata": {},
     "output_type": "execute_result"
    }
   ],
   "source": [
    "_27.scaled_score(smoothing_param=4)"
   ]
  },
  {
   "cell_type": "code",
   "execution_count": 51,
   "metadata": {},
   "outputs": [
    {
     "data": {
      "text/plain": [
       "[('molecularly imprinted polymer', 91.88),\n",
       " ('protein', 53.23711340206186),\n",
       " ('maximal inspiratory pressure', 38.82051282051282),\n",
       " ('maximum intensity projection', 20.363636363636363),\n",
       " ('mycobacterium indicus pranii', 18.857142857142858),\n",
       " ('peptide', 17.846153846153847),\n",
       " ('minimally invasive parathyroidectomy', 11.8),\n",
       " ('molecularly inversion probe', 11.0),\n",
       " ('malaria in pregnancy', 8.666666666666666),\n",
       " ('promoter', 4.0),\n",
       " ('myo inositol 1 phosphate', 3.0),\n",
       " ('micropapillary', 2.5),\n",
       " ('mitochondrial intermediate peptidase', 2.5),\n",
       " ('maximal inspiratory', 2.0),\n",
       " ('maximum intensity persistence', 2.0),\n",
       " ('mercury intrusion porosimetry', 2.0),\n",
       " ('macrophage infectivity potential', 2.0),\n",
       " ('methylation induced premeiotically', 2.0),\n",
       " ('pain', 1.5)]"
      ]
     },
     "execution_count": 51,
     "metadata": {},
     "output_type": "execute_result"
    }
   ],
   "source": [
    "longforms0"
   ]
  },
  {
   "cell_type": "code",
   "execution_count": 61,
   "metadata": {},
   "outputs": [
    {
     "data": {
      "text/plain": [
       "('myoinhibitory peptide', 7.555555555555555)"
      ]
     },
     "execution_count": 61,
     "metadata": {},
     "output_type": "execute_result"
    }
   ],
   "source": [
    "candidates[17]"
   ]
  },
  {
   "cell_type": "code",
   "execution_count": null,
   "metadata": {},
   "outputs": [],
   "source": []
  },
  {
   "cell_type": "code",
   "execution_count": 53,
   "metadata": {},
   "outputs": [],
   "source": [
    "longforms = longforms0[:1] + longforms0[2:5] + longforms0[6:9] + longforms0[10:]"
   ]
  },
  {
   "cell_type": "code",
   "execution_count": 54,
   "metadata": {},
   "outputs": [
    {
     "data": {
      "text/plain": [
       "[('molecularly imprinted polymer', 91.88),\n",
       " ('maximal inspiratory pressure', 38.82051282051282),\n",
       " ('maximum intensity projection', 20.363636363636363),\n",
       " ('mycobacterium indicus pranii', 18.857142857142858),\n",
       " ('minimally invasive parathyroidectomy', 11.8),\n",
       " ('molecularly inversion probe', 11.0),\n",
       " ('malaria in pregnancy', 8.666666666666666),\n",
       " ('myo inositol 1 phosphate', 3.0),\n",
       " ('micropapillary', 2.5),\n",
       " ('mitochondrial intermediate peptidase', 2.5),\n",
       " ('maximal inspiratory', 2.0),\n",
       " ('maximum intensity persistence', 2.0),\n",
       " ('mercury intrusion porosimetry', 2.0),\n",
       " ('macrophage infectivity potential', 2.0),\n",
       " ('methylation induced premeiotically', 2.0),\n",
       " ('pain', 1.5)]"
      ]
     },
     "execution_count": 54,
     "metadata": {},
     "output_type": "execute_result"
    }
   ],
   "source": [
    "longforms"
   ]
  },
  {
   "cell_type": "code",
   "execution_count": 62,
   "metadata": {},
   "outputs": [],
   "source": [
    "longforms.extend([candidates[2], candidates[8], candidates[17], candidates[21]])\n",
    "longforms.sort(key=lambda x: -x[1])"
   ]
  },
  {
   "cell_type": "code",
   "execution_count": 63,
   "metadata": {},
   "outputs": [
    {
     "data": {
      "text/plain": [
       "[('molecularly imprinted polymer', 91.88),\n",
       " ('macrophage inflammatory protein', 53.22807017543858),\n",
       " ('maximal inspiratory pressure', 38.82051282051282),\n",
       " ('maximum intensity projection', 20.363636363636363),\n",
       " ('mycobacterium indicus pranii', 18.857142857142858),\n",
       " ('major intrinsic protein', 17.88888888888889),\n",
       " ('minimally invasive parathyroidectomy', 11.8),\n",
       " ('molecularly inversion probe', 11.0),\n",
       " ('malaria in pregnancy', 8.666666666666666),\n",
       " ('myoinhibitory peptide', 7.555555555555555),\n",
       " ('myd88 inhibitory peptide', 5.714285714285714),\n",
       " ('myo inositol 1 phosphate', 3.0),\n",
       " ('micropapillary', 2.5),\n",
       " ('mitochondrial intermediate peptidase', 2.5),\n",
       " ('maximal inspiratory', 2.0),\n",
       " ('maximum intensity persistence', 2.0),\n",
       " ('mercury intrusion porosimetry', 2.0),\n",
       " ('macrophage infectivity potential', 2.0),\n",
       " ('methylation induced premeiotically', 2.0),\n",
       " ('pain', 1.5)]"
      ]
     },
     "execution_count": 63,
     "metadata": {},
     "output_type": "execute_result"
    }
   ],
   "source": [
    "longforms"
   ]
  },
  {
   "cell_type": "code",
   "execution_count": 23,
   "metadata": {},
   "outputs": [],
   "source": [
    "longforms, scores = zip(*longforms)"
   ]
  },
  {
   "cell_type": "code",
   "execution_count": 24,
   "metadata": {},
   "outputs": [],
   "source": [
    "grounding_map = {}\n",
    "for longform in longforms:\n",
    "    grounding = gilda_ground(longform)\n",
    "    if grounding[0]:\n",
    "        grounding_map[longform] = f'{grounding[0]}:{grounding[1]}'"
   ]
  },
  {
   "cell_type": "code",
   "execution_count": 25,
   "metadata": {},
   "outputs": [
    {
     "data": {
      "text/plain": [
       "{'mitochondrial intermediate peptidase': 'HGNC:7104', 'pain': 'MESH:D010146'}"
      ]
     },
     "execution_count": 25,
     "metadata": {},
     "output_type": "execute_result"
    }
   ],
   "source": [
    "grounding_map"
   ]
  },
  {
   "cell_type": "code",
   "execution_count": 26,
   "metadata": {},
   "outputs": [],
   "source": [
    "result = ground_with_gui(longforms, scores, grounding_map=grounding_map)"
   ]
  },
  {
   "cell_type": "code",
   "execution_count": 28,
   "metadata": {},
   "outputs": [],
   "source": [
    "grounding_map, names, pos_labels = result"
   ]
  },
  {
   "cell_type": "code",
   "execution_count": 36,
   "metadata": {},
   "outputs": [],
   "source": [
    "names.update({f'HGNC:{get_hgnc_id(gene)}': gene for gene in genes})\n",
    "pos_labels = list(set(pos_labels) | set(f'HGNC:{get_hgnc_id(gene)}' for gene in genes))"
   ]
  },
  {
   "cell_type": "code",
   "execution_count": 38,
   "metadata": {},
   "outputs": [],
   "source": [
    "result = (grounding_map, names, pos_labels)"
   ]
  },
  {
   "cell_type": "code",
   "execution_count": 64,
   "metadata": {},
   "outputs": [],
   "source": [
    "grounding_map, names, pos_labels = \\\n",
    "    ({'macrophage infectivity potential': 'ungrounded',\n",
    "      'macrophage inflammatory protein': 'FPLX:Macrophage_inflammatory_proteins',\n",
    "      'major intrinsic protein': 'FPLX:AQP',\n",
    "      'malaria in pregnancy': 'ungrounded',\n",
    "      'maximal inspiratory': 'ungrounded',\n",
    "      'maximal inspiratory pressure': 'ungrounded',\n",
    "      'maximum intensity persistence': 'ungrounded',\n",
    "      'maximum intensity projection': 'ungrounded',\n",
    "      'mercury intrusion porosimetry': 'ungrounded',\n",
    "      'methylation induced premeiotically': 'ungrounded',\n",
    "      'micropapillary': 'ungrounded',\n",
    "      'minimally invasive parathyroidectomy': 'ungrounded',\n",
    "      'mitochondrial intermediate peptidase': 'HGNC:7104',\n",
    "      'molecularly imprinted polymer': 'molecularly imprinted polymer',\n",
    "      'molecularly inversion probe': 'ungrounded',\n",
    "      'mycobacterium indicus pranii': 'ungrounded',\n",
    "      'myd88 inhibitory peptide': 'ungrounded',\n",
    "      'myo inositol 1 phosphate': 'ungrounded',\n",
    "      'myoinhibitory peptide': 'ungrounded',\n",
    "      'pain': 'ungrounded'},\n",
    "     {'FPLX:Macrophage_inflammatory_proteins': 'Macrophage_inflammatory_proteins',\n",
    "      'FPLX:AQP': 'AQP',\n",
    "      'HGNC:7104': 'MIPEP',\n",
    "      'molecularly imprinted polymer': 'molecularly imprinted polymer',\n",
    "      'HGNC:7103': 'MIP',\n",
    "      'HGNC:31102': 'MAFIP',\n",
    "      'HGNC:6401': 'TNPO1'},\n",
    "     ['HGNC:31102',\n",
    "      'FPLX:AQP',\n",
    "      'FPLX:Macrophage_inflammatory_proteins',\n",
    "      'HGNC:7103',\n",
    "      'HGNC:7104',\n",
    "      'HGNC:6401'])"
   ]
  },
  {
   "cell_type": "code",
   "execution_count": 65,
   "metadata": {},
   "outputs": [],
   "source": [
    "grounding_dict = {'MIP': grounding_map}"
   ]
  },
  {
   "cell_type": "code",
   "execution_count": 66,
   "metadata": {},
   "outputs": [],
   "source": [
    "classifier = AdeftClassifier('MIP', pos_labels)"
   ]
  },
  {
   "cell_type": "code",
   "execution_count": 67,
   "metadata": {},
   "outputs": [],
   "source": [
    "param_grid = {'C': [10.0, 100.0, 1000.0], 'max_features': [1000, 10000]}"
   ]
  },
  {
   "cell_type": "code",
   "execution_count": 68,
   "metadata": {},
   "outputs": [],
   "source": [
    "labeler = AdeftLabeler(grounding_dict)"
   ]
  },
  {
   "cell_type": "code",
   "execution_count": 69,
   "metadata": {},
   "outputs": [],
   "source": [
    "corpus = labeler.build_from_texts(shortform_texts)"
   ]
  },
  {
   "cell_type": "code",
   "execution_count": 70,
   "metadata": {},
   "outputs": [],
   "source": [
    "corpus.extend(entrez_texts)"
   ]
  },
  {
   "cell_type": "code",
   "execution_count": 71,
   "metadata": {},
   "outputs": [],
   "source": [
    "texts, labels = zip(*corpus)"
   ]
  },
  {
   "cell_type": "code",
   "execution_count": 72,
   "metadata": {},
   "outputs": [
    {
     "data": {
      "text/plain": [
       "('molecularly imprinted polymer',\n",
       " 'ungrounded',\n",
       " 'FPLX:Macrophage_inflammatory_proteins',\n",
       " 'FPLX:Macrophage_inflammatory_proteins',\n",
       " 'molecularly imprinted polymer',\n",
       " 'molecularly imprinted polymer',\n",
       " 'molecularly imprinted polymer',\n",
       " 'ungrounded',\n",
       " 'FPLX:Macrophage_inflammatory_proteins',\n",
       " 'FPLX:AQP',\n",
       " 'ungrounded',\n",
       " 'ungrounded',\n",
       " 'ungrounded',\n",
       " 'molecularly imprinted polymer',\n",
       " 'molecularly imprinted polymer',\n",
       " 'ungrounded',\n",
       " 'FPLX:AQP',\n",
       " 'molecularly imprinted polymer',\n",
       " 'ungrounded',\n",
       " 'molecularly imprinted polymer',\n",
       " 'molecularly imprinted polymer',\n",
       " 'ungrounded',\n",
       " 'molecularly imprinted polymer',\n",
       " 'ungrounded',\n",
       " 'HGNC:7104',\n",
       " 'molecularly imprinted polymer',\n",
       " 'FPLX:Macrophage_inflammatory_proteins',\n",
       " 'molecularly imprinted polymer',\n",
       " 'ungrounded',\n",
       " 'molecularly imprinted polymer',\n",
       " 'FPLX:Macrophage_inflammatory_proteins',\n",
       " 'FPLX:Macrophage_inflammatory_proteins',\n",
       " 'molecularly imprinted polymer',\n",
       " 'FPLX:Macrophage_inflammatory_proteins',\n",
       " 'ungrounded',\n",
       " 'ungrounded',\n",
       " 'molecularly imprinted polymer',\n",
       " 'molecularly imprinted polymer',\n",
       " 'ungrounded',\n",
       " 'ungrounded',\n",
       " 'ungrounded',\n",
       " 'ungrounded',\n",
       " 'FPLX:Macrophage_inflammatory_proteins',\n",
       " 'FPLX:Macrophage_inflammatory_proteins',\n",
       " 'ungrounded',\n",
       " 'molecularly imprinted polymer',\n",
       " 'molecularly imprinted polymer',\n",
       " 'molecularly imprinted polymer',\n",
       " 'molecularly imprinted polymer',\n",
       " 'ungrounded',\n",
       " 'FPLX:Macrophage_inflammatory_proteins',\n",
       " 'ungrounded',\n",
       " 'molecularly imprinted polymer',\n",
       " 'ungrounded',\n",
       " 'ungrounded',\n",
       " 'FPLX:Macrophage_inflammatory_proteins',\n",
       " 'ungrounded',\n",
       " 'FPLX:Macrophage_inflammatory_proteins',\n",
       " 'ungrounded',\n",
       " 'ungrounded',\n",
       " 'molecularly imprinted polymer',\n",
       " 'ungrounded',\n",
       " 'molecularly imprinted polymer',\n",
       " 'molecularly imprinted polymer',\n",
       " 'molecularly imprinted polymer',\n",
       " 'FPLX:Macrophage_inflammatory_proteins',\n",
       " 'FPLX:Macrophage_inflammatory_proteins',\n",
       " 'FPLX:AQP',\n",
       " 'ungrounded',\n",
       " 'FPLX:Macrophage_inflammatory_proteins',\n",
       " 'molecularly imprinted polymer',\n",
       " 'FPLX:Macrophage_inflammatory_proteins',\n",
       " 'molecularly imprinted polymer',\n",
       " 'ungrounded',\n",
       " 'molecularly imprinted polymer',\n",
       " 'ungrounded',\n",
       " 'molecularly imprinted polymer',\n",
       " 'molecularly imprinted polymer',\n",
       " 'molecularly imprinted polymer',\n",
       " 'ungrounded',\n",
       " 'ungrounded',\n",
       " 'molecularly imprinted polymer',\n",
       " 'molecularly imprinted polymer',\n",
       " 'molecularly imprinted polymer',\n",
       " 'ungrounded',\n",
       " 'ungrounded',\n",
       " 'molecularly imprinted polymer',\n",
       " 'molecularly imprinted polymer',\n",
       " 'ungrounded',\n",
       " 'molecularly imprinted polymer',\n",
       " 'ungrounded',\n",
       " 'molecularly imprinted polymer',\n",
       " 'ungrounded',\n",
       " 'ungrounded',\n",
       " 'FPLX:Macrophage_inflammatory_proteins',\n",
       " 'molecularly imprinted polymer',\n",
       " 'molecularly imprinted polymer',\n",
       " 'FPLX:Macrophage_inflammatory_proteins',\n",
       " 'ungrounded',\n",
       " 'FPLX:Macrophage_inflammatory_proteins',\n",
       " 'molecularly imprinted polymer',\n",
       " 'ungrounded',\n",
       " 'molecularly imprinted polymer',\n",
       " 'FPLX:Macrophage_inflammatory_proteins',\n",
       " 'ungrounded',\n",
       " 'molecularly imprinted polymer',\n",
       " 'molecularly imprinted polymer',\n",
       " 'ungrounded',\n",
       " 'molecularly imprinted polymer',\n",
       " 'molecularly imprinted polymer',\n",
       " 'FPLX:AQP',\n",
       " 'ungrounded',\n",
       " 'ungrounded',\n",
       " 'FPLX:AQP',\n",
       " 'ungrounded',\n",
       " 'FPLX:AQP',\n",
       " 'FPLX:Macrophage_inflammatory_proteins',\n",
       " 'molecularly imprinted polymer',\n",
       " 'HGNC:7104',\n",
       " 'ungrounded',\n",
       " 'FPLX:Macrophage_inflammatory_proteins',\n",
       " 'ungrounded',\n",
       " 'molecularly imprinted polymer',\n",
       " 'molecularly imprinted polymer',\n",
       " 'molecularly imprinted polymer',\n",
       " 'ungrounded',\n",
       " 'ungrounded',\n",
       " 'ungrounded',\n",
       " 'ungrounded',\n",
       " 'molecularly imprinted polymer',\n",
       " 'molecularly imprinted polymer',\n",
       " 'FPLX:Macrophage_inflammatory_proteins',\n",
       " 'FPLX:Macrophage_inflammatory_proteins',\n",
       " 'ungrounded',\n",
       " 'FPLX:Macrophage_inflammatory_proteins',\n",
       " 'ungrounded',\n",
       " 'molecularly imprinted polymer',\n",
       " 'ungrounded',\n",
       " 'ungrounded',\n",
       " 'FPLX:Macrophage_inflammatory_proteins',\n",
       " 'ungrounded',\n",
       " 'FPLX:Macrophage_inflammatory_proteins',\n",
       " 'FPLX:Macrophage_inflammatory_proteins',\n",
       " 'FPLX:AQP',\n",
       " 'FPLX:Macrophage_inflammatory_proteins',\n",
       " 'molecularly imprinted polymer',\n",
       " 'ungrounded',\n",
       " 'HGNC:7104',\n",
       " 'molecularly imprinted polymer',\n",
       " 'ungrounded',\n",
       " 'FPLX:Macrophage_inflammatory_proteins',\n",
       " 'molecularly imprinted polymer',\n",
       " 'molecularly imprinted polymer',\n",
       " 'molecularly imprinted polymer',\n",
       " 'ungrounded',\n",
       " 'FPLX:Macrophage_inflammatory_proteins',\n",
       " 'molecularly imprinted polymer',\n",
       " 'ungrounded',\n",
       " 'FPLX:Macrophage_inflammatory_proteins',\n",
       " 'ungrounded',\n",
       " 'ungrounded',\n",
       " 'molecularly imprinted polymer',\n",
       " 'FPLX:Macrophage_inflammatory_proteins',\n",
       " 'molecularly imprinted polymer',\n",
       " 'ungrounded',\n",
       " 'FPLX:Macrophage_inflammatory_proteins',\n",
       " 'FPLX:Macrophage_inflammatory_proteins',\n",
       " 'ungrounded',\n",
       " 'ungrounded',\n",
       " 'FPLX:AQP',\n",
       " 'FPLX:Macrophage_inflammatory_proteins',\n",
       " 'ungrounded',\n",
       " 'molecularly imprinted polymer',\n",
       " 'ungrounded',\n",
       " 'molecularly imprinted polymer',\n",
       " 'molecularly imprinted polymer',\n",
       " 'ungrounded',\n",
       " 'FPLX:AQP',\n",
       " 'molecularly imprinted polymer',\n",
       " 'ungrounded',\n",
       " 'molecularly imprinted polymer',\n",
       " 'molecularly imprinted polymer',\n",
       " 'FPLX:Macrophage_inflammatory_proteins',\n",
       " 'molecularly imprinted polymer',\n",
       " 'ungrounded',\n",
       " 'FPLX:Macrophage_inflammatory_proteins',\n",
       " 'molecularly imprinted polymer',\n",
       " 'ungrounded',\n",
       " 'ungrounded',\n",
       " 'molecularly imprinted polymer',\n",
       " 'ungrounded',\n",
       " 'ungrounded',\n",
       " 'ungrounded',\n",
       " 'molecularly imprinted polymer',\n",
       " 'ungrounded',\n",
       " 'FPLX:Macrophage_inflammatory_proteins',\n",
       " 'ungrounded',\n",
       " 'molecularly imprinted polymer',\n",
       " 'molecularly imprinted polymer',\n",
       " 'FPLX:AQP',\n",
       " 'molecularly imprinted polymer',\n",
       " 'FPLX:Macrophage_inflammatory_proteins',\n",
       " 'ungrounded',\n",
       " 'molecularly imprinted polymer',\n",
       " 'molecularly imprinted polymer',\n",
       " 'ungrounded',\n",
       " 'ungrounded',\n",
       " 'molecularly imprinted polymer',\n",
       " 'molecularly imprinted polymer',\n",
       " 'FPLX:Macrophage_inflammatory_proteins',\n",
       " 'ungrounded',\n",
       " 'FPLX:AQP',\n",
       " 'FPLX:Macrophage_inflammatory_proteins',\n",
       " 'ungrounded',\n",
       " 'ungrounded',\n",
       " 'FPLX:Macrophage_inflammatory_proteins',\n",
       " 'FPLX:Macrophage_inflammatory_proteins',\n",
       " 'ungrounded',\n",
       " 'FPLX:AQP',\n",
       " 'FPLX:Macrophage_inflammatory_proteins',\n",
       " 'FPLX:AQP',\n",
       " 'molecularly imprinted polymer',\n",
       " 'ungrounded',\n",
       " 'ungrounded',\n",
       " 'ungrounded',\n",
       " 'molecularly imprinted polymer',\n",
       " 'FPLX:AQP',\n",
       " 'ungrounded',\n",
       " 'ungrounded',\n",
       " 'molecularly imprinted polymer',\n",
       " 'ungrounded',\n",
       " 'ungrounded',\n",
       " 'molecularly imprinted polymer',\n",
       " 'FPLX:Macrophage_inflammatory_proteins',\n",
       " 'FPLX:Macrophage_inflammatory_proteins',\n",
       " 'FPLX:Macrophage_inflammatory_proteins',\n",
       " 'FPLX:Macrophage_inflammatory_proteins',\n",
       " 'ungrounded',\n",
       " 'ungrounded',\n",
       " 'FPLX:Macrophage_inflammatory_proteins',\n",
       " 'ungrounded',\n",
       " 'ungrounded',\n",
       " 'ungrounded',\n",
       " 'molecularly imprinted polymer',\n",
       " 'ungrounded',\n",
       " 'FPLX:AQP',\n",
       " 'molecularly imprinted polymer',\n",
       " 'molecularly imprinted polymer',\n",
       " 'ungrounded',\n",
       " 'HGNC:7104',\n",
       " 'FPLX:Macrophage_inflammatory_proteins',\n",
       " 'FPLX:Macrophage_inflammatory_proteins',\n",
       " 'ungrounded',\n",
       " 'molecularly imprinted polymer',\n",
       " 'FPLX:Macrophage_inflammatory_proteins',\n",
       " 'molecularly imprinted polymer',\n",
       " 'molecularly imprinted polymer',\n",
       " 'molecularly imprinted polymer',\n",
       " 'ungrounded',\n",
       " 'FPLX:Macrophage_inflammatory_proteins',\n",
       " 'ungrounded',\n",
       " 'molecularly imprinted polymer',\n",
       " 'FPLX:AQP',\n",
       " 'ungrounded',\n",
       " 'ungrounded',\n",
       " 'ungrounded',\n",
       " 'ungrounded',\n",
       " 'molecularly imprinted polymer',\n",
       " 'ungrounded',\n",
       " 'molecularly imprinted polymer',\n",
       " 'ungrounded',\n",
       " 'molecularly imprinted polymer',\n",
       " 'FPLX:AQP',\n",
       " 'ungrounded',\n",
       " 'molecularly imprinted polymer',\n",
       " 'ungrounded',\n",
       " 'ungrounded',\n",
       " 'ungrounded',\n",
       " 'HGNC:7103',\n",
       " 'HGNC:7103',\n",
       " 'HGNC:7103',\n",
       " 'HGNC:7103',\n",
       " 'HGNC:7103',\n",
       " 'HGNC:7103',\n",
       " 'HGNC:7103',\n",
       " 'HGNC:7103',\n",
       " 'HGNC:7103',\n",
       " 'HGNC:7103',\n",
       " 'HGNC:7103',\n",
       " 'HGNC:7103',\n",
       " 'HGNC:7103',\n",
       " 'HGNC:7103',\n",
       " 'HGNC:7103',\n",
       " 'HGNC:7103',\n",
       " 'HGNC:7103',\n",
       " 'HGNC:7103',\n",
       " 'HGNC:7103',\n",
       " 'HGNC:7103',\n",
       " 'HGNC:7103',\n",
       " 'HGNC:7103',\n",
       " 'HGNC:7103',\n",
       " 'HGNC:7103',\n",
       " 'HGNC:7103',\n",
       " 'HGNC:7103',\n",
       " 'HGNC:7103',\n",
       " 'HGNC:7103',\n",
       " 'HGNC:7103',\n",
       " 'HGNC:7103',\n",
       " 'HGNC:7103',\n",
       " 'HGNC:7103',\n",
       " 'HGNC:7103',\n",
       " 'HGNC:7103',\n",
       " 'HGNC:7103',\n",
       " 'HGNC:7103',\n",
       " 'HGNC:7103',\n",
       " 'HGNC:7103',\n",
       " 'HGNC:7103',\n",
       " 'HGNC:7103',\n",
       " 'HGNC:7103',\n",
       " 'HGNC:7103',\n",
       " 'HGNC:7103',\n",
       " 'HGNC:7103',\n",
       " 'HGNC:7103',\n",
       " 'HGNC:7103',\n",
       " 'HGNC:7103',\n",
       " 'HGNC:7103',\n",
       " 'HGNC:7103',\n",
       " 'HGNC:7103',\n",
       " 'HGNC:7103',\n",
       " 'HGNC:7103',\n",
       " 'HGNC:7103',\n",
       " 'HGNC:7103',\n",
       " 'HGNC:7103',\n",
       " 'HGNC:7103',\n",
       " 'HGNC:7103',\n",
       " 'HGNC:7103',\n",
       " 'HGNC:7103',\n",
       " 'HGNC:7103',\n",
       " 'HGNC:7103',\n",
       " 'HGNC:7103',\n",
       " 'HGNC:7103',\n",
       " 'HGNC:7103',\n",
       " 'HGNC:7103',\n",
       " 'HGNC:7103',\n",
       " 'HGNC:7103',\n",
       " 'HGNC:7103',\n",
       " 'HGNC:7103',\n",
       " 'HGNC:7103',\n",
       " 'HGNC:7103',\n",
       " 'HGNC:7103',\n",
       " 'HGNC:7103',\n",
       " 'HGNC:7103',\n",
       " 'HGNC:7103',\n",
       " 'HGNC:7103',\n",
       " 'HGNC:7103',\n",
       " 'HGNC:7103',\n",
       " 'HGNC:7103',\n",
       " 'HGNC:7103',\n",
       " 'HGNC:31102',\n",
       " 'HGNC:31102',\n",
       " 'HGNC:31102',\n",
       " 'HGNC:31102',\n",
       " 'HGNC:31102',\n",
       " 'HGNC:31102',\n",
       " 'HGNC:31102',\n",
       " 'HGNC:31102',\n",
       " 'HGNC:31102',\n",
       " 'HGNC:31102',\n",
       " 'HGNC:7104',\n",
       " 'HGNC:7104',\n",
       " 'HGNC:7104',\n",
       " 'HGNC:7104',\n",
       " 'HGNC:7104',\n",
       " 'HGNC:7104',\n",
       " 'HGNC:7104',\n",
       " 'HGNC:7104',\n",
       " 'HGNC:7104',\n",
       " 'HGNC:7104',\n",
       " 'HGNC:7104',\n",
       " 'HGNC:7104',\n",
       " 'HGNC:7104',\n",
       " 'HGNC:7104',\n",
       " 'HGNC:7104',\n",
       " 'HGNC:7104',\n",
       " 'HGNC:7104',\n",
       " 'HGNC:7104',\n",
       " 'HGNC:7104',\n",
       " 'HGNC:7104',\n",
       " 'HGNC:6401',\n",
       " 'HGNC:6401',\n",
       " 'HGNC:6401',\n",
       " 'HGNC:6401',\n",
       " 'HGNC:6401',\n",
       " 'HGNC:6401',\n",
       " 'HGNC:6401',\n",
       " 'HGNC:6401',\n",
       " 'HGNC:6401',\n",
       " 'HGNC:6401',\n",
       " 'HGNC:6401',\n",
       " 'HGNC:6401',\n",
       " 'HGNC:6401',\n",
       " 'HGNC:6401',\n",
       " 'HGNC:6401',\n",
       " 'HGNC:6401',\n",
       " 'HGNC:6401',\n",
       " 'HGNC:6401',\n",
       " 'HGNC:6401',\n",
       " 'HGNC:6401',\n",
       " 'HGNC:6401',\n",
       " 'HGNC:6401',\n",
       " 'HGNC:6401',\n",
       " 'HGNC:6401',\n",
       " 'HGNC:6401',\n",
       " 'HGNC:6401',\n",
       " 'HGNC:6401',\n",
       " 'HGNC:6401',\n",
       " 'HGNC:6401',\n",
       " 'HGNC:6401',\n",
       " 'HGNC:6401',\n",
       " 'HGNC:6401',\n",
       " 'HGNC:6401',\n",
       " 'HGNC:6401',\n",
       " 'HGNC:6401',\n",
       " 'HGNC:6401',\n",
       " 'HGNC:6401',\n",
       " 'HGNC:6401',\n",
       " 'HGNC:6401',\n",
       " 'HGNC:6401',\n",
       " 'HGNC:6401',\n",
       " 'HGNC:6401',\n",
       " 'HGNC:6401',\n",
       " 'HGNC:6401',\n",
       " 'HGNC:6401',\n",
       " 'HGNC:6401',\n",
       " 'HGNC:6401',\n",
       " 'HGNC:6401',\n",
       " 'HGNC:6401',\n",
       " 'HGNC:6401',\n",
       " 'HGNC:6401',\n",
       " 'HGNC:6401',\n",
       " 'HGNC:6401',\n",
       " 'HGNC:6401',\n",
       " 'HGNC:6401',\n",
       " 'HGNC:6401',\n",
       " 'HGNC:6401',\n",
       " 'HGNC:6401',\n",
       " 'HGNC:6401',\n",
       " 'HGNC:6401',\n",
       " 'HGNC:6401',\n",
       " 'HGNC:6401',\n",
       " 'HGNC:6401',\n",
       " 'HGNC:6401',\n",
       " 'HGNC:6401',\n",
       " 'HGNC:6401',\n",
       " 'HGNC:6401',\n",
       " 'HGNC:6401',\n",
       " 'HGNC:6401',\n",
       " 'HGNC:6401',\n",
       " 'HGNC:6401',\n",
       " 'HGNC:6401',\n",
       " 'HGNC:6401',\n",
       " 'HGNC:6401',\n",
       " 'HGNC:6401',\n",
       " 'HGNC:6401',\n",
       " 'HGNC:6401',\n",
       " 'HGNC:6401',\n",
       " 'HGNC:6401',\n",
       " 'HGNC:6401',\n",
       " 'HGNC:6401',\n",
       " 'HGNC:6401',\n",
       " 'HGNC:6401',\n",
       " 'HGNC:6401',\n",
       " 'HGNC:6401',\n",
       " 'HGNC:6401',\n",
       " 'HGNC:6401',\n",
       " 'HGNC:6401',\n",
       " 'HGNC:6401',\n",
       " 'HGNC:6401',\n",
       " 'HGNC:6401',\n",
       " 'HGNC:6401',\n",
       " 'HGNC:6401',\n",
       " 'HGNC:6401',\n",
       " 'HGNC:6401',\n",
       " 'HGNC:6401',\n",
       " 'HGNC:6401',\n",
       " 'HGNC:6401',\n",
       " 'HGNC:6401',\n",
       " 'HGNC:6401',\n",
       " 'HGNC:6401',\n",
       " 'HGNC:6401',\n",
       " 'HGNC:6401',\n",
       " 'HGNC:6401',\n",
       " 'HGNC:6401',\n",
       " 'HGNC:6401',\n",
       " 'HGNC:6401',\n",
       " 'HGNC:6401',\n",
       " 'HGNC:6401',\n",
       " 'HGNC:6401',\n",
       " 'HGNC:6401',\n",
       " 'HGNC:6401',\n",
       " 'HGNC:6401',\n",
       " 'HGNC:6401',\n",
       " 'HGNC:6401',\n",
       " 'HGNC:6401',\n",
       " 'FPLX:Macrophage_inflammatory_proteins',\n",
       " 'FPLX:Macrophage_inflammatory_proteins',\n",
       " 'FPLX:Macrophage_inflammatory_proteins',\n",
       " 'FPLX:Macrophage_inflammatory_proteins',\n",
       " 'FPLX:Macrophage_inflammatory_proteins',\n",
       " 'FPLX:Macrophage_inflammatory_proteins',\n",
       " 'FPLX:Macrophage_inflammatory_proteins',\n",
       " 'FPLX:Macrophage_inflammatory_proteins',\n",
       " 'FPLX:Macrophage_inflammatory_proteins',\n",
       " 'FPLX:Macrophage_inflammatory_proteins',\n",
       " 'FPLX:Macrophage_inflammatory_proteins',\n",
       " 'FPLX:Macrophage_inflammatory_proteins',\n",
       " 'FPLX:Macrophage_inflammatory_proteins',\n",
       " 'FPLX:Macrophage_inflammatory_proteins',\n",
       " 'FPLX:Macrophage_inflammatory_proteins',\n",
       " 'FPLX:Macrophage_inflammatory_proteins',\n",
       " 'FPLX:Macrophage_inflammatory_proteins',\n",
       " 'FPLX:Macrophage_inflammatory_proteins',\n",
       " 'FPLX:Macrophage_inflammatory_proteins',\n",
       " 'FPLX:Macrophage_inflammatory_proteins',\n",
       " 'FPLX:Macrophage_inflammatory_proteins',\n",
       " 'FPLX:Macrophage_inflammatory_proteins',\n",
       " 'FPLX:Macrophage_inflammatory_proteins',\n",
       " 'FPLX:Macrophage_inflammatory_proteins',\n",
       " 'FPLX:Macrophage_inflammatory_proteins',\n",
       " 'FPLX:Macrophage_inflammatory_proteins',\n",
       " 'FPLX:Macrophage_inflammatory_proteins',\n",
       " 'FPLX:Macrophage_inflammatory_proteins',\n",
       " 'FPLX:Macrophage_inflammatory_proteins',\n",
       " 'FPLX:Macrophage_inflammatory_proteins',\n",
       " 'FPLX:Macrophage_inflammatory_proteins',\n",
       " 'FPLX:Macrophage_inflammatory_proteins',\n",
       " 'FPLX:Macrophage_inflammatory_proteins',\n",
       " 'FPLX:Macrophage_inflammatory_proteins',\n",
       " 'FPLX:Macrophage_inflammatory_proteins',\n",
       " 'FPLX:Macrophage_inflammatory_proteins',\n",
       " 'FPLX:Macrophage_inflammatory_proteins',\n",
       " 'FPLX:Macrophage_inflammatory_proteins',\n",
       " 'FPLX:Macrophage_inflammatory_proteins',\n",
       " 'FPLX:Macrophage_inflammatory_proteins',\n",
       " 'FPLX:Macrophage_inflammatory_proteins',\n",
       " 'FPLX:Macrophage_inflammatory_proteins',\n",
       " 'FPLX:Macrophage_inflammatory_proteins',\n",
       " 'FPLX:Macrophage_inflammatory_proteins',\n",
       " 'FPLX:Macrophage_inflammatory_proteins',\n",
       " 'FPLX:Macrophage_inflammatory_proteins',\n",
       " 'FPLX:Macrophage_inflammatory_proteins',\n",
       " 'FPLX:Macrophage_inflammatory_proteins',\n",
       " 'FPLX:Macrophage_inflammatory_proteins',\n",
       " 'FPLX:Macrophage_inflammatory_proteins',\n",
       " 'FPLX:Macrophage_inflammatory_proteins',\n",
       " 'FPLX:Macrophage_inflammatory_proteins',\n",
       " 'FPLX:Macrophage_inflammatory_proteins',\n",
       " 'FPLX:Macrophage_inflammatory_proteins',\n",
       " 'FPLX:Macrophage_inflammatory_proteins',\n",
       " 'FPLX:Macrophage_inflammatory_proteins',\n",
       " 'FPLX:Macrophage_inflammatory_proteins',\n",
       " 'FPLX:Macrophage_inflammatory_proteins',\n",
       " 'FPLX:Macrophage_inflammatory_proteins',\n",
       " 'FPLX:Macrophage_inflammatory_proteins',\n",
       " 'FPLX:Macrophage_inflammatory_proteins',\n",
       " 'FPLX:Macrophage_inflammatory_proteins',\n",
       " 'FPLX:Macrophage_inflammatory_proteins',\n",
       " 'FPLX:Macrophage_inflammatory_proteins',\n",
       " 'FPLX:Macrophage_inflammatory_proteins',\n",
       " 'FPLX:Macrophage_inflammatory_proteins',\n",
       " 'FPLX:Macrophage_inflammatory_proteins',\n",
       " 'FPLX:Macrophage_inflammatory_proteins',\n",
       " 'FPLX:Macrophage_inflammatory_proteins',\n",
       " 'FPLX:Macrophage_inflammatory_proteins',\n",
       " 'FPLX:Macrophage_inflammatory_proteins',\n",
       " 'FPLX:Macrophage_inflammatory_proteins',\n",
       " 'FPLX:Macrophage_inflammatory_proteins',\n",
       " 'FPLX:Macrophage_inflammatory_proteins',\n",
       " 'FPLX:Macrophage_inflammatory_proteins',\n",
       " 'FPLX:Macrophage_inflammatory_proteins',\n",
       " 'FPLX:Macrophage_inflammatory_proteins',\n",
       " 'FPLX:Macrophage_inflammatory_proteins',\n",
       " 'FPLX:Macrophage_inflammatory_proteins',\n",
       " 'FPLX:Macrophage_inflammatory_proteins',\n",
       " 'FPLX:Macrophage_inflammatory_proteins',\n",
       " 'FPLX:Macrophage_inflammatory_proteins',\n",
       " 'FPLX:Macrophage_inflammatory_proteins',\n",
       " 'FPLX:Macrophage_inflammatory_proteins',\n",
       " 'FPLX:Macrophage_inflammatory_proteins',\n",
       " 'FPLX:Macrophage_inflammatory_proteins',\n",
       " 'FPLX:Macrophage_inflammatory_proteins',\n",
       " 'FPLX:Macrophage_inflammatory_proteins',\n",
       " 'FPLX:Macrophage_inflammatory_proteins',\n",
       " 'FPLX:Macrophage_inflammatory_proteins',\n",
       " 'FPLX:Macrophage_inflammatory_proteins',\n",
       " 'FPLX:Macrophage_inflammatory_proteins',\n",
       " 'FPLX:Macrophage_inflammatory_proteins',\n",
       " 'FPLX:Macrophage_inflammatory_proteins',\n",
       " 'FPLX:Macrophage_inflammatory_proteins',\n",
       " 'FPLX:Macrophage_inflammatory_proteins',\n",
       " 'FPLX:Macrophage_inflammatory_proteins',\n",
       " 'FPLX:Macrophage_inflammatory_proteins',\n",
       " 'FPLX:Macrophage_inflammatory_proteins',\n",
       " 'FPLX:Macrophage_inflammatory_proteins',\n",
       " 'FPLX:Macrophage_inflammatory_proteins',\n",
       " 'FPLX:Macrophage_inflammatory_proteins',\n",
       " 'FPLX:Macrophage_inflammatory_proteins',\n",
       " 'FPLX:Macrophage_inflammatory_proteins',\n",
       " 'FPLX:Macrophage_inflammatory_proteins',\n",
       " 'FPLX:Macrophage_inflammatory_proteins',\n",
       " 'FPLX:Macrophage_inflammatory_proteins',\n",
       " 'FPLX:Macrophage_inflammatory_proteins',\n",
       " 'FPLX:Macrophage_inflammatory_proteins',\n",
       " 'FPLX:Macrophage_inflammatory_proteins',\n",
       " 'FPLX:Macrophage_inflammatory_proteins',\n",
       " 'FPLX:Macrophage_inflammatory_proteins',\n",
       " 'FPLX:Macrophage_inflammatory_proteins',\n",
       " 'FPLX:Macrophage_inflammatory_proteins',\n",
       " 'FPLX:Macrophage_inflammatory_proteins',\n",
       " 'FPLX:Macrophage_inflammatory_proteins',\n",
       " 'FPLX:Macrophage_inflammatory_proteins',\n",
       " 'FPLX:Macrophage_inflammatory_proteins',\n",
       " 'FPLX:Macrophage_inflammatory_proteins',\n",
       " 'FPLX:Macrophage_inflammatory_proteins',\n",
       " 'FPLX:Macrophage_inflammatory_proteins',\n",
       " 'FPLX:Macrophage_inflammatory_proteins',\n",
       " 'FPLX:Macrophage_inflammatory_proteins',\n",
       " 'FPLX:Macrophage_inflammatory_proteins',\n",
       " 'FPLX:Macrophage_inflammatory_proteins',\n",
       " 'FPLX:Macrophage_inflammatory_proteins',\n",
       " 'FPLX:Macrophage_inflammatory_proteins',\n",
       " 'FPLX:Macrophage_inflammatory_proteins',\n",
       " 'FPLX:Macrophage_inflammatory_proteins',\n",
       " 'FPLX:Macrophage_inflammatory_proteins',\n",
       " 'FPLX:Macrophage_inflammatory_proteins',\n",
       " 'FPLX:Macrophage_inflammatory_proteins',\n",
       " 'FPLX:Macrophage_inflammatory_proteins',\n",
       " 'FPLX:Macrophage_inflammatory_proteins',\n",
       " 'FPLX:Macrophage_inflammatory_proteins',\n",
       " 'FPLX:Macrophage_inflammatory_proteins',\n",
       " 'FPLX:Macrophage_inflammatory_proteins',\n",
       " 'FPLX:Macrophage_inflammatory_proteins',\n",
       " 'FPLX:Macrophage_inflammatory_proteins',\n",
       " 'FPLX:Macrophage_inflammatory_proteins',\n",
       " 'FPLX:Macrophage_inflammatory_proteins',\n",
       " 'FPLX:Macrophage_inflammatory_proteins',\n",
       " 'FPLX:Macrophage_inflammatory_proteins',\n",
       " 'FPLX:Macrophage_inflammatory_proteins',\n",
       " 'FPLX:Macrophage_inflammatory_proteins',\n",
       " 'FPLX:Macrophage_inflammatory_proteins',\n",
       " 'FPLX:Macrophage_inflammatory_proteins',\n",
       " 'FPLX:Macrophage_inflammatory_proteins',\n",
       " 'FPLX:Macrophage_inflammatory_proteins',\n",
       " 'FPLX:Macrophage_inflammatory_proteins',\n",
       " 'FPLX:Macrophage_inflammatory_proteins',\n",
       " 'FPLX:Macrophage_inflammatory_proteins',\n",
       " 'FPLX:Macrophage_inflammatory_proteins',\n",
       " 'FPLX:Macrophage_inflammatory_proteins',\n",
       " 'FPLX:Macrophage_inflammatory_proteins',\n",
       " 'FPLX:Macrophage_inflammatory_proteins',\n",
       " 'FPLX:Macrophage_inflammatory_proteins',\n",
       " 'FPLX:Macrophage_inflammatory_proteins',\n",
       " 'FPLX:Macrophage_inflammatory_proteins',\n",
       " 'FPLX:Macrophage_inflammatory_proteins',\n",
       " 'FPLX:Macrophage_inflammatory_proteins',\n",
       " 'FPLX:Macrophage_inflammatory_proteins',\n",
       " 'FPLX:Macrophage_inflammatory_proteins',\n",
       " 'FPLX:Macrophage_inflammatory_proteins',\n",
       " 'FPLX:Macrophage_inflammatory_proteins',\n",
       " 'FPLX:Macrophage_inflammatory_proteins',\n",
       " 'FPLX:Macrophage_inflammatory_proteins',\n",
       " 'FPLX:Macrophage_inflammatory_proteins',\n",
       " 'FPLX:Macrophage_inflammatory_proteins',\n",
       " 'FPLX:Macrophage_inflammatory_proteins',\n",
       " 'FPLX:Macrophage_inflammatory_proteins',\n",
       " 'FPLX:Macrophage_inflammatory_proteins',\n",
       " 'FPLX:Macrophage_inflammatory_proteins',\n",
       " 'FPLX:Macrophage_inflammatory_proteins',\n",
       " 'FPLX:Macrophage_inflammatory_proteins',\n",
       " 'FPLX:Macrophage_inflammatory_proteins',\n",
       " 'FPLX:Macrophage_inflammatory_proteins',\n",
       " 'FPLX:Macrophage_inflammatory_proteins',\n",
       " 'FPLX:Macrophage_inflammatory_proteins',\n",
       " 'FPLX:Macrophage_inflammatory_proteins',\n",
       " 'FPLX:Macrophage_inflammatory_proteins',\n",
       " 'FPLX:Macrophage_inflammatory_proteins',\n",
       " 'FPLX:Macrophage_inflammatory_proteins',\n",
       " 'FPLX:Macrophage_inflammatory_proteins',\n",
       " 'FPLX:Macrophage_inflammatory_proteins',\n",
       " 'FPLX:Macrophage_inflammatory_proteins',\n",
       " 'FPLX:Macrophage_inflammatory_proteins',\n",
       " 'FPLX:Macrophage_inflammatory_proteins',\n",
       " 'FPLX:Macrophage_inflammatory_proteins',\n",
       " 'FPLX:Macrophage_inflammatory_proteins',\n",
       " 'FPLX:Macrophage_inflammatory_proteins',\n",
       " 'FPLX:Macrophage_inflammatory_proteins',\n",
       " 'FPLX:Macrophage_inflammatory_proteins',\n",
       " 'FPLX:Macrophage_inflammatory_proteins',\n",
       " 'FPLX:Macrophage_inflammatory_proteins',\n",
       " 'FPLX:Macrophage_inflammatory_proteins',\n",
       " 'FPLX:Macrophage_inflammatory_proteins',\n",
       " 'FPLX:Macrophage_inflammatory_proteins',\n",
       " 'FPLX:Macrophage_inflammatory_proteins',\n",
       " 'FPLX:Macrophage_inflammatory_proteins',\n",
       " 'FPLX:Macrophage_inflammatory_proteins',\n",
       " 'FPLX:Macrophage_inflammatory_proteins',\n",
       " 'FPLX:Macrophage_inflammatory_proteins',\n",
       " 'FPLX:Macrophage_inflammatory_proteins',\n",
       " 'FPLX:Macrophage_inflammatory_proteins',\n",
       " 'FPLX:Macrophage_inflammatory_proteins',\n",
       " 'FPLX:Macrophage_inflammatory_proteins',\n",
       " 'FPLX:Macrophage_inflammatory_proteins',\n",
       " 'FPLX:Macrophage_inflammatory_proteins',\n",
       " 'FPLX:Macrophage_inflammatory_proteins',\n",
       " 'FPLX:Macrophage_inflammatory_proteins',\n",
       " 'FPLX:Macrophage_inflammatory_proteins',\n",
       " 'FPLX:Macrophage_inflammatory_proteins',\n",
       " 'FPLX:Macrophage_inflammatory_proteins',\n",
       " 'FPLX:Macrophage_inflammatory_proteins',\n",
       " 'FPLX:Macrophage_inflammatory_proteins',\n",
       " 'FPLX:Macrophage_inflammatory_proteins',\n",
       " 'FPLX:Macrophage_inflammatory_proteins',\n",
       " 'FPLX:Macrophage_inflammatory_proteins',\n",
       " 'FPLX:Macrophage_inflammatory_proteins',\n",
       " 'FPLX:Macrophage_inflammatory_proteins',\n",
       " 'FPLX:Macrophage_inflammatory_proteins',\n",
       " 'FPLX:Macrophage_inflammatory_proteins',\n",
       " 'FPLX:Macrophage_inflammatory_proteins',\n",
       " 'FPLX:Macrophage_inflammatory_proteins',\n",
       " 'FPLX:Macrophage_inflammatory_proteins',\n",
       " 'FPLX:Macrophage_inflammatory_proteins',\n",
       " 'FPLX:Macrophage_inflammatory_proteins',\n",
       " 'FPLX:Macrophage_inflammatory_proteins',\n",
       " 'FPLX:Macrophage_inflammatory_proteins',\n",
       " 'FPLX:Macrophage_inflammatory_proteins',\n",
       " 'FPLX:Macrophage_inflammatory_proteins',\n",
       " 'FPLX:Macrophage_inflammatory_proteins',\n",
       " 'FPLX:Macrophage_inflammatory_proteins',\n",
       " 'FPLX:Macrophage_inflammatory_proteins',\n",
       " 'FPLX:Macrophage_inflammatory_proteins',\n",
       " 'FPLX:Macrophage_inflammatory_proteins',\n",
       " 'FPLX:Macrophage_inflammatory_proteins',\n",
       " 'FPLX:Macrophage_inflammatory_proteins',\n",
       " 'FPLX:Macrophage_inflammatory_proteins',\n",
       " 'FPLX:Macrophage_inflammatory_proteins',\n",
       " 'FPLX:Macrophage_inflammatory_proteins',\n",
       " 'FPLX:Macrophage_inflammatory_proteins',\n",
       " 'FPLX:Macrophage_inflammatory_proteins',\n",
       " 'FPLX:Macrophage_inflammatory_proteins',\n",
       " 'FPLX:Macrophage_inflammatory_proteins',\n",
       " 'FPLX:Macrophage_inflammatory_proteins',\n",
       " 'FPLX:Macrophage_inflammatory_proteins',\n",
       " 'FPLX:Macrophage_inflammatory_proteins',\n",
       " 'FPLX:Macrophage_inflammatory_proteins')"
      ]
     },
     "execution_count": 72,
     "metadata": {},
     "output_type": "execute_result"
    }
   ],
   "source": [
    "labels"
   ]
  },
  {
   "cell_type": "code",
   "execution_count": 73,
   "metadata": {},
   "outputs": [
    {
     "name": "stderr",
     "output_type": "stream",
     "text": [
      "INFO: [2019-12-19 10:09:22] /Users/albertsteppi/adeft/adeft/modeling/classify.py - Beginning grid search in parameter space:\n",
      "{'C': [10.0, 100.0, 1000.0], 'max_features': [1000, 10000]}\n",
      "INFO: [2019-12-19 10:11:19] /Users/albertsteppi/adeft/adeft/modeling/classify.py - Best f1 score of 0.8787164473103702 found for parameter values:\n",
      "{'logit__C': 1000.0, 'tfidf__max_features': 1000}\n"
     ]
    }
   ],
   "source": [
    "classifier.cv(texts, labels, param_grid, cv=5, n_jobs=8)"
   ]
  },
  {
   "cell_type": "code",
   "execution_count": 74,
   "metadata": {},
   "outputs": [
    {
     "data": {
      "text/plain": [
       "['HGNC:31102',\n",
       " 'FPLX:AQP',\n",
       " 'FPLX:Macrophage_inflammatory_proteins',\n",
       " 'HGNC:7103',\n",
       " 'HGNC:7104',\n",
       " 'HGNC:6401']"
      ]
     },
     "execution_count": 74,
     "metadata": {},
     "output_type": "execute_result"
    }
   ],
   "source": [
    "pos_labels"
   ]
  },
  {
   "cell_type": "code",
   "execution_count": 75,
   "metadata": {},
   "outputs": [
    {
     "data": {
      "text/plain": [
       "{'label_distribution': {'molecularly imprinted polymer': 94,\n",
       "  'ungrounded': 109,\n",
       "  'FPLX:Macrophage_inflammatory_proteins': 304,\n",
       "  'FPLX:AQP': 17,\n",
       "  'HGNC:7104': 24,\n",
       "  'HGNC:7103': 80,\n",
       "  'HGNC:31102': 10,\n",
       "  'HGNC:6401': 116},\n",
       " 'f1': {'mean': 0.8585349306239577, 'std': 0.03350549602999615},\n",
       " 'precision': {'mean': 0.862530896548089, 'std': 0.03367118570631103},\n",
       " 'recall': {'mean': 0.8641440466440468, 'std': 0.033809042915954414}}"
      ]
     },
     "execution_count": 75,
     "metadata": {},
     "output_type": "execute_result"
    }
   ],
   "source": [
    "classifier.stats"
   ]
  },
  {
   "cell_type": "code",
   "execution_count": 76,
   "metadata": {},
   "outputs": [],
   "source": [
    "disamb = AdeftDisambiguator(classifier, grounding_dict, names)"
   ]
  },
  {
   "cell_type": "code",
   "execution_count": 77,
   "metadata": {},
   "outputs": [],
   "source": [
    "from adeft import __version__"
   ]
  },
  {
   "cell_type": "code",
   "execution_count": 79,
   "metadata": {},
   "outputs": [],
   "source": [
    "from adeft_indra.s3 import model_to_s3"
   ]
  },
  {
   "cell_type": "code",
   "execution_count": 80,
   "metadata": {},
   "outputs": [],
   "source": [
    "model_to_s3(disamb)"
   ]
  },
  {
   "cell_type": "code",
   "execution_count": 29,
   "metadata": {},
   "outputs": [],
   "source": [
    "a = [text for text, disamb in zip(shortform_texts, disamb.disambiguate(shortform_texts)) if disamb[0] == 'HGNC:7104']"
   ]
  },
  {
   "cell_type": "code",
   "execution_count": 34,
   "metadata": {},
   "outputs": [
    {
     "data": {
      "text/plain": [
       "'Morphine has cardioprotective effects against ischemic-reperfusion injuries. This study investigates whether morphine could mimic the antiapoptotic effect of preconditioning using a model of cultured neonatal rat cardiomyocytes subjected to metabolic inhibition (MI). To quantify MI-induced apoptosis, DNA fragmentation and mitochondrial cytochrome c release levels were measured by ELISA. MI-dependent DNA fragmentation was prevented by both Z-VAD-fmk (20 microM), a pan-caspase inhibitor, and cyclosporine A (CsA; 5 microM), a mitochondrial pore transition blocker, added during MI (36% and 54% decrease, respectively). MI-dependent cytochrome c release was not blocked by Z-VAD-fmk but was decreased (38%) by CsA during MI. Metabolic preconditioning (MIP) and preconditioning with morphine (1 microM) were also assessed. MI-dependent DNA fragmentation and cytochrome c release were prevented by MIP (40% and 45% decrease, respectively) and morphine (34% and 45%, respectively). The antiapoptotic effect of morphine was abolished by naloxone (10 nM), a nonselective opioid receptor antagonist, or xestospongin C (XeC, 400 nM), an inhibitor of inositol (1,4,5)-trisphosphate [Ins(1,4,5)P(3)]-mediated Ca(2+) release. Ca(2+) preconditioning, induced by increasing extracellular Ca(2+) from 1.8 to 3.3 mM, mimicked the antiapoptotic effect of morphine on DNA fragmentation (24% decrease) and cytochrome c release (57% decrease). This effect mediated by extracellular Ca(2+) was also abolished by XeC. Measurements of intracellular Ca(2+) concentration using fura-2 microspectrofluorimetry showed that morphine induces Ins(1,4,5)P(3)-dependent Ca(2+) transients abolished by 2-aminoethoxydiphenyl borate (2-APB), a cell-permeable Ins(1,4,5)P(3) antagonist. These results suggest that morphine preconditioning prevents simulated ischemia-reperfusion-induced apoptosis via an Ins(1,4,5)P(3) signaling pathway in rat ventricular myocytes.\\n'"
      ]
     },
     "execution_count": 34,
     "metadata": {},
     "output_type": "execute_result"
    }
   ],
   "source": [
    "a[3]"
   ]
  },
  {
   "cell_type": "code",
   "execution_count": 139,
   "metadata": {},
   "outputs": [
    {
     "data": {
      "text/plain": [
       "'Mesenchymal stem cells (MSCs), which have multipotential differentiation and self-renewal potential, are possible cells for tissue engineering. Transforming growth factor β1 (TGFβ1) can be produced by MSCs in an inactive form, and the activation of TGFβ1 functions as an important regulator of osteogenic differentiation in MSCs. Recently, studies showed that GARP participated in the activation of latent TGFβ1, but the interaction between GARP and TGFβ1 is still undefined. In our study, we successfully isolated the MSCs from bone marrow of rats, and showed that GARP was detected in bone mesenchymal stem cells (BMSCs). During the osteogenic differentiation of BMSCs, GARP expression was increased over time. To elucidate the interaction between GARP and TGFβ1, we downregulated GARP expression in BMSCs to examine the level of active TGFβ1. We then verified that the downregulation of GARP decreased the secretion of active TGFβ1. Furthermore, osteogenic differentiation experiments, alkaline phosphatase (ALP) activity analyses and Alizarin Red S staining experiments were performed to evaluate the osteogenic capacity. After the downregulation of GARP, ALP activity and Alizarin Red S staining significantly declined and the osteogenic indicators, ALP, Runx2, and OPN, also decreased, both at the mRNA and protein levels. These results demonstrated that downregulated GARP expression resulted in the reduction of TGFβ1 and the attenuation of osteoblast differentiation of BMSCs in vitro .'"
      ]
     },
     "execution_count": 139,
     "metadata": {},
     "output_type": "execute_result"
    }
   ],
   "source": [
    "texts[2]"
   ]
  },
  {
   "cell_type": "code",
   "execution_count": 140,
   "metadata": {},
   "outputs": [],
   "source": [
    "disamb.dump('MED', '../results')"
   ]
  },
  {
   "cell_type": "code",
   "execution_count": null,
   "metadata": {},
   "outputs": [],
   "source": []
  }
 ],
 "metadata": {
  "kernelspec": {
   "display_name": "Python 3",
   "language": "python",
   "name": "python3"
  },
  "language_info": {
   "codemirror_mode": {
    "name": "ipython",
    "version": 3
   },
   "file_extension": ".py",
   "mimetype": "text/x-python",
   "name": "python",
   "nbconvert_exporter": "python",
   "pygments_lexer": "ipython3",
   "version": "3.7.5"
  }
 },
 "nbformat": 4,
 "nbformat_minor": 2
}
