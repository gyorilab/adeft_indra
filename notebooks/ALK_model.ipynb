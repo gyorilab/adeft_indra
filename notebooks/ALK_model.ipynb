{
 "cells": [
  {
   "cell_type": "code",
   "execution_count": 1,
   "metadata": {},
   "outputs": [],
   "source": [
    "import json\n",
    "import pickle\n",
    "\n",
    "from indra.literature.adeft_tools import universal_extract_text\n",
    "from indra.databases.hgnc_client import get_hgnc_name, get_hgnc_id\n",
    "\n",
    "from indra_db.util.content_scripts import get_text_content_from_pmids\n",
    "from indra_db.util.content_scripts import get_stmts_with_agent_text_like\n",
    "from indra_db.util.content_scripts import get_text_content_from_stmt_ids\n",
    "\n",
    "from adeft.discover import AdeftMiner\n",
    "from adeft.gui import ground_with_gui\n",
    "from adeft.modeling.label import AdeftLabeler\n",
    "from adeft.modeling.classify import AdeftClassifier\n",
    "from adeft.disambiguate import AdeftDisambiguator\n",
    "\n",
    "from adeft_indra.s3 import model_to_s3\n",
    "from adeft_indra.ground import gilda_ground"
   ]
  },
  {
   "cell_type": "code",
   "execution_count": 2,
   "metadata": {},
   "outputs": [],
   "source": [
    "shortforms = ['ALK']\n",
    "genes = ['ALK', 'ACVRL1', 'TGFBR1']\n",
    "families = {}\n",
    "groundings = [f'HGNC:{get_hgnc_id(gene)}' for gene in genes]\n",
    "for family, members in families.items():\n",
    "    genes.extend(members)\n",
    "    groundings.append(f'FPLX:{family}')\n",
    "with open('../data/entrez_all_pmids.json', 'r') as f:\n",
    "    all_pmids = json.load(f)"
   ]
  },
  {
   "cell_type": "code",
   "execution_count": 3,
   "metadata": {},
   "outputs": [],
   "source": [
    "entrez_texts = []\n",
    "entrez_refs = set()\n",
    "for gene, grounding in zip(genes, groundings):\n",
    "    try:\n",
    "        pmids = all_pmids[gene]\n",
    "    except KeyError:\n",
    "        continue\n",
    "    _, content = get_text_content_from_pmids(pmids)\n",
    "    entrez_texts.extend([(universal_extract_text(text), grounding)\n",
    "                          for text in content.values() if text])\n",
    "    entrez_refs.update(content.keys())"
   ]
  },
  {
   "cell_type": "code",
   "execution_count": 4,
   "metadata": {},
   "outputs": [],
   "source": [
    "miners = dict()\n",
    "all_texts = set()\n",
    "for shortform in shortforms:\n",
    "    stmts = get_stmts_with_agent_text_like(shortform)[shortform]\n",
    "    _, content = get_text_content_from_stmt_ids(stmts)\n",
    "    shortform_texts = [universal_extract_text(text, contains=shortforms)\n",
    "                       for ref, text in content.items() if text and ref not in entrez_refs]\n",
    "    miners[shortform] = AdeftMiner(shortform)\n",
    "    miners[shortform].process_texts(shortform_texts)\n",
    "    all_texts.union(shortform_texts)"
   ]
  },
  {
   "cell_type": "markdown",
   "metadata": {},
   "source": [
    "It's then necessary to check if Acromine produced the correct results. We must fix errors manually"
   ]
  },
  {
   "cell_type": "code",
   "execution_count": 5,
   "metadata": {},
   "outputs": [],
   "source": [
    "top = miners['ALK'].top()"
   ]
  },
  {
   "cell_type": "code",
   "execution_count": 8,
   "metadata": {},
   "outputs": [
    {
     "data": {
      "text/plain": [
       "1322"
      ]
     },
     "execution_count": 8,
     "metadata": {},
     "output_type": "execute_result"
    }
   ],
   "source": [
    "len(shortform_texts)"
   ]
  },
  {
   "cell_type": "code",
   "execution_count": 7,
   "metadata": {},
   "outputs": [
    {
     "name": "stdout",
     "output_type": "stream",
     "text": [
      "CPU times: user 2.01 s, sys: 86 ms, total: 2.09 s\n",
      "Wall time: 2.12 s\n"
     ]
    }
   ],
   "source": [
    "%time miners['ALK'].compute_alignment_scores()"
   ]
  },
  {
   "cell_type": "code",
   "execution_count": 198,
   "metadata": {},
   "outputs": [],
   "source": [
    "longforms0 = miners['ALK'].get_longforms()"
   ]
  },
  {
   "cell_type": "code",
   "execution_count": 188,
   "metadata": {},
   "outputs": [
    {
     "data": {
      "text/plain": [
       "[('anaplastic lymphoma kinase', 948.8728813559322),\n",
       " ('alkaline phosphatase', 6.75),\n",
       " ('kinase gene', 6.428571428571429)]"
      ]
     },
     "execution_count": 188,
     "metadata": {},
     "output_type": "execute_result"
    }
   ],
   "source": [
    "longforms0["
   ]
  },
  {
   "cell_type": "code",
   "execution_count": 199,
   "metadata": {},
   "outputs": [],
   "source": [
    "longforms0 = [x for i, x in enumerate(longforms0) if i in [0, 1, 3, 4]]"
   ]
  },
  {
   "cell_type": "code",
   "execution_count": 185,
   "metadata": {},
   "outputs": [
    {
     "data": {
      "text/plain": [
       "('activin receptor like kinase', 20.454545454545457)"
      ]
     },
     "execution_count": 185,
     "metadata": {},
     "output_type": "execute_result"
    }
   ],
   "source": [
    "top[8]"
   ]
  },
  {
   "cell_type": "code",
   "execution_count": 200,
   "metadata": {},
   "outputs": [],
   "source": [
    "longforms0.extend([x for i, x in enumerate(top) if i in [8, ]])"
   ]
  },
  {
   "cell_type": "code",
   "execution_count": 201,
   "metadata": {},
   "outputs": [
    {
     "data": {
      "text/plain": [
       "[('anaplastic lymphoma kinase', 948.8728813559322),\n",
       " ('alkaline phosphatase', 6.75),\n",
       " ('2p23', 3.2),\n",
       " ('anaplastic lymphomakinase', 2.0),\n",
       " ('activin receptor like kinase', 20.454545454545457)]"
      ]
     },
     "execution_count": 201,
     "metadata": {},
     "output_type": "execute_result"
    }
   ],
   "source": [
    "longforms0"
   ]
  },
  {
   "cell_type": "code",
   "execution_count": 202,
   "metadata": {},
   "outputs": [],
   "source": [
    "longforms0.sort(key=lambda x: -x[1])"
   ]
  },
  {
   "cell_type": "code",
   "execution_count": 204,
   "metadata": {},
   "outputs": [],
   "source": [
    "longforms, scores = zip(*longforms0)"
   ]
  },
  {
   "cell_type": "code",
   "execution_count": 205,
   "metadata": {},
   "outputs": [
    {
     "data": {
      "text/plain": [
       "('anaplastic lymphoma kinase',\n",
       " 'activin receptor like kinase',\n",
       " 'alkaline phosphatase',\n",
       " '2p23',\n",
       " 'anaplastic lymphomakinase')"
      ]
     },
     "execution_count": 205,
     "metadata": {},
     "output_type": "execute_result"
    }
   ],
   "source": [
    "longforms"
   ]
  },
  {
   "cell_type": "code",
   "execution_count": 206,
   "metadata": {},
   "outputs": [],
   "source": [
    "grounding_map = {}\n",
    "names = {}\n",
    "for longform in longforms:\n",
    "    grounding = gilda_ground(longform)\n",
    "    if grounding[0]:\n",
    "        grounding_map[longform] = f'{grounding[0]}:{grounding[1]}'\n",
    "        names[grounding_map[longform]] = grounding[2]"
   ]
  },
  {
   "cell_type": "code",
   "execution_count": 207,
   "metadata": {},
   "outputs": [
    {
     "data": {
      "text/plain": [
       "{'anaplastic lymphoma kinase': 'HGNC:427',\n",
       " 'activin receptor like kinase': 'MESH:D029404',\n",
       " 'alkaline phosphatase': 'MESH:D000469'}"
      ]
     },
     "execution_count": 207,
     "metadata": {},
     "output_type": "execute_result"
    }
   ],
   "source": [
    "grounding_map"
   ]
  },
  {
   "cell_type": "code",
   "execution_count": 208,
   "metadata": {},
   "outputs": [
    {
     "data": {
      "text/plain": [
       "{'HGNC:427': 'ALK',\n",
       " 'MESH:D029404': 'Activin Receptors',\n",
       " 'MESH:D000469': 'Alkaline Phosphatase'}"
      ]
     },
     "execution_count": 208,
     "metadata": {},
     "output_type": "execute_result"
    }
   ],
   "source": [
    "names"
   ]
  },
  {
   "cell_type": "code",
   "execution_count": 209,
   "metadata": {},
   "outputs": [],
   "source": [
    "grounding_map, names, pos_labels = ground_with_gui(longforms, scores, grounding_map=grounding_map, names=names)"
   ]
  },
  {
   "cell_type": "code",
   "execution_count": 231,
   "metadata": {},
   "outputs": [],
   "source": [
    "names.update({f'HGNC:{get_hgnc_id(gene)}': gene for gene in genes})\n",
    "pos_labels = list(set(pos_labels) | set(f'HGNC:{get_hgnc_id(gene)}' for gene in genes))"
   ]
  },
  {
   "cell_type": "code",
   "execution_count": 232,
   "metadata": {},
   "outputs": [],
   "source": [
    "result = (grounding_map, names, pos_labels)"
   ]
  },
  {
   "cell_type": "code",
   "execution_count": 233,
   "metadata": {
    "scrolled": true
   },
   "outputs": [
    {
     "data": {
      "text/plain": [
       "({'2p23': 'HGNC:427',\n",
       "  'activin receptor like kinase': 'HGNC:175',\n",
       "  'alkaline phosphatase': 'MESH:D000469',\n",
       "  'anaplastic lymphoma kinase': 'HGNC:427',\n",
       "  'anaplastic lymphomakinase': 'HGNC:427'},\n",
       " {'HGNC:427': 'ALK',\n",
       "  'HGNC:175': 'ACVRL1',\n",
       "  'MESH:D000469': 'Alkaline Phosphatase',\n",
       "  'HGNC:11772': 'TGFBR1'},\n",
       " ['HGNC:175', 'HGNC:11772', 'HGNC:427', 'MESH:D000469'])"
      ]
     },
     "execution_count": 233,
     "metadata": {},
     "output_type": "execute_result"
    }
   ],
   "source": [
    "result"
   ]
  },
  {
   "cell_type": "code",
   "execution_count": 234,
   "metadata": {},
   "outputs": [],
   "source": [
    "grounding_map, names, pos_labels = ({'2p23': 'HGNC:427',\n",
    "  'activin receptor like kinase': 'HGNC:175',\n",
    "  'alkaline phosphatase': 'MESH:D000469',\n",
    "  'anaplastic lymphoma kinase': 'HGNC:427',\n",
    "  'anaplastic lymphomakinase': 'HGNC:427'},\n",
    " {'HGNC:427': 'ALK',\n",
    "  'HGNC:175': 'ACVRL1',\n",
    "  'MESH:D000469': 'Alkaline Phosphatase',\n",
    "  'HGNC:11772': 'TGFBR1'},\n",
    " ['HGNC:175', 'HGNC:11772', 'HGNC:427', 'MESH:D000469'])"
   ]
  },
  {
   "cell_type": "code",
   "execution_count": 235,
   "metadata": {},
   "outputs": [],
   "source": [
    "grounding_dict = {'ALK': grounding_map}"
   ]
  },
  {
   "cell_type": "code",
   "execution_count": 236,
   "metadata": {},
   "outputs": [],
   "source": [
    "classifier = AdeftClassifier('ALK', pos_labels=pos_labels)"
   ]
  },
  {
   "cell_type": "code",
   "execution_count": 237,
   "metadata": {},
   "outputs": [],
   "source": [
    "param_grid = {'C': [100.0], 'max_features': [10000]}"
   ]
  },
  {
   "cell_type": "code",
   "execution_count": 238,
   "metadata": {},
   "outputs": [],
   "source": [
    "labeler = AdeftLabeler(grounding_dict)"
   ]
  },
  {
   "cell_type": "code",
   "execution_count": 239,
   "metadata": {},
   "outputs": [],
   "source": [
    "corpus = labeler.build_from_texts(shortform_texts)"
   ]
  },
  {
   "cell_type": "code",
   "execution_count": 240,
   "metadata": {},
   "outputs": [],
   "source": [
    "corpus.extend(entrez_texts)"
   ]
  },
  {
   "cell_type": "code",
   "execution_count": 241,
   "metadata": {},
   "outputs": [],
   "source": [
    "texts, labels = zip(*corpus)"
   ]
  },
  {
   "cell_type": "code",
   "execution_count": 242,
   "metadata": {},
   "outputs": [
    {
     "name": "stderr",
     "output_type": "stream",
     "text": [
      "INFO: [2020-01-10 17:03:48] /Users/albertsteppi/adeft/adeft/modeling/classify.py - Beginning grid search in parameter space:\n",
      "{'C': [100.0], 'max_features': [10000]}\n",
      "INFO: [2020-01-10 17:04:31] /Users/albertsteppi/adeft/adeft/modeling/classify.py - Best f1 score of 0.926249207369229 found for parameter values:\n",
      "{'logit__C': 100.0, 'tfidf__max_features': 10000}\n"
     ]
    }
   ],
   "source": [
    "classifier.cv(texts, labels, param_grid, cv=5, n_jobs=8)"
   ]
  },
  {
   "cell_type": "code",
   "execution_count": 243,
   "metadata": {},
   "outputs": [
    {
     "data": {
      "text/plain": [
       "{'label_distribution': {'HGNC:427': 1181,\n",
       "  'MESH:D000469': 6,\n",
       "  'HGNC:175': 155,\n",
       "  'HGNC:11772': 422},\n",
       " 'f1': {'mean': 0.926249207369229, 'std': 0.015151303723191564},\n",
       " 'precision': {'mean': 0.9258002623248398, 'std': 0.014684118845845862},\n",
       " 'recall': {'mean': 0.9308644669977111, 'std': 0.010179655973384}}"
      ]
     },
     "execution_count": 243,
     "metadata": {},
     "output_type": "execute_result"
    }
   ],
   "source": [
    "classifier.stats"
   ]
  },
  {
   "cell_type": "code",
   "execution_count": 244,
   "metadata": {},
   "outputs": [],
   "source": [
    "disamb = AdeftDisambiguator(classifier, grounding_dict, names)"
   ]
  },
  {
   "cell_type": "code",
   "execution_count": 245,
   "metadata": {},
   "outputs": [],
   "source": [
    "d = disamb.disambiguate(shortform_texts)"
   ]
  },
  {
   "cell_type": "code",
   "execution_count": 246,
   "metadata": {},
   "outputs": [],
   "source": [
    "a = [text for pred, text in zip(d, shortform_texts)if pred[0] == 'HGNC:175']"
   ]
  },
  {
   "cell_type": "code",
   "execution_count": 247,
   "metadata": {},
   "outputs": [
    {
     "data": {
      "text/plain": [
       "24"
      ]
     },
     "execution_count": 247,
     "metadata": {},
     "output_type": "execute_result"
    }
   ],
   "source": [
    "len(a)"
   ]
  },
  {
   "cell_type": "code",
   "execution_count": 248,
   "metadata": {},
   "outputs": [
    {
     "data": {
      "text/plain": [
       "'Transforming growth factor beta (TGF-β) is a multi-potential growth factor expressed in many tissues that affects a wide range of physiological phenomena such as cell proliferation, differentiation, migration, adhesion, and induction of extracellular matrix (ECM) synthesis [ 4 ]. TGF-β superfamily molecules transmit their signals through both types I and II serine/threonine kinase receptors [ 5 ]. The type II receptors are constitutively activated and they phosphorylate intracellular domain of type I receptors upon ligand ligation. There are seven type I receptors, named activin receptor-like kinases (ALK) 1–7 in mammals. TGF-β variants and activins bind to ALK-1, -4, and -5, whereas bone morphogenetic proteins (BMPs) bind to ALK-2, -3, and -6. ALK-7 transduces nodal signaling. Type II receptors activate these type I ALK receptors. Once activated, the ALK receptors transduce signals from the cell surface and cytosolic compartments to the nucleus to activate targeted genes via Smad proteins [ 6 , 7 , 8 , 9 , 10 ].\\nIn this study, we examined whether endogenous or exogenous TGF-β regulated the differentiation of PDL cells into hard tissue-forming cells using SB431542 [ 14 ], a small molecule inhibitor of TGF-β signal. SB431542 is a cell-permeable small chemical compound that inhibits ALK-4, -5 and -7 kinase activity by specifically antagonizing ATP binding to the intracellular kinase domain. SB431542 treatment enhanced the formation of mineralized tissue in BMP-2-stimulated MPDL22 cells. SB431542 affected the cytodifferentiation of MPDL22 cells during the early ossification phase and down-regulated collagen synthesis during the late ossification phase. These results suggested that TGF-β has opposing functions during the process of hard tissue formation by PDL cells. Thus, SB431542 promotes the BMP-2-induced cytodifferentiation of MPDL22 cells by inhibiting the endogenous signal from TGF-β along the osteoblastic lineage. Topical application of a TGF-β inhibitor, such as SB431542, in combination with recombinant growth factors, may be an efficient treatment method for the periodontal regeneration of large tissue defects and could increase the indicated applications of current cytokine therapies.\\nWe first examined the expression levels of TGF-β/BMP receptor and Smad intracellular signaling components in PDL cells ( Fig 1A ). Reverse-transcription polymerase chain reaction (RT-PCR) analysis demonstrated a moderate expression of ALK-3 and -5, whereas the expression of ALK-1, -2, and -6 was low and that of ALK4 was negligible. The expression levels of both TGF-β and BMP type II receptor were comparable ( Fig 1A ). The mRNA expression of Smads 1–7 were measured by RT-PCR, and the mRNA expression levels of each Smad were comparable in MPDL22 cells ( Fig 1A ). The expression of these receptors for TGF-β and BMP were confirmed at the protein level by western blotting. The effect of TGF-β and BMP stimulation on the receptor expression in MPDL22 cells at the protein level with or without SB431542 combined with the growth factor treatment was negligible ( Fig 1B ).\\n(A) Semiquantitative RT-PCR analysis of the expression of TGF-β receptor genes  ALK-1 ,  -4 ,  -5 ,  -7 , and  TβRII , and BMP receptor genes  ALK-2 ,  -3 ,  -6 ,  BMPR2 , and  Smad1–7 . Human glycerralaldehyde-3-phosphate dehydrogenase ( GAPDH ) was used as an internal control. (B) Western blotting analysis of TGF-β/BMP receptor induced by TGF-β (4 ng/mL) or BMP-2 (50 ng/mL) in the presence or absence of SB431542 (10 μM). Protein levels of TGF-β receptor I (TGF-βRI), TGF-β receptor II (TGF-βRII), BMP receptor I (BMPRI), and BMP receptor II (BMPRII) were measured. β-actin was used as a protein loading control. Quantitative analysis is shown as the relative ratios of TGF-β or BMP receptors I/II and β-actin by densitometric analysis. Values represent the mean ± SD of 3 independent assays. (-): control; B: BMP-2; T: TGF-β. (C) The relative quantification of  TGF-β1 ,  TGF-β2 , and  TGF-β3  mRNAs in MPDL22 cells by RT-qPCR. Quantitative mRNA values were normalized to the amount of  GAPDH  mRNA. (D) TGF-β production from MPDL22 cells. Protein expression levels of TGF-β were examined by ELISA. Culture supernatants of MPDL22 cells were aspirated after 24 h of culture with or without BMP-2 (50 ng/mL) and SB431542 (10 μM). B: BMP-2; SB: SB431542. **: p<0.01 vs the BMP-2 stimulated group.\\nThe expression level of ALK-3 and ALK-5 receptors in MPDL22 cells was higher than for other ALKs. These results suggested that MPDL22 cells mainly use ALK-5 as a type I receptor for TGF-β and ALK-3 as type I receptor for BMP, along with other type II receptors in the TGF-β/BMP signaling cascades in PDL cells. A weak but significant expression of ALK-1 was detected in MPDL22 cells, which may activate disease-related Smad1-dependent signaling by TGF-β ( Fig 1A ). ALK-1 is expressed in endothelial cells, chondrocytes, and synoviocytes [ 26 ,  27 ,  28 ] and might be involved in the pathogenesis of hypertension and rheumatoid arthritis. We infer that ALK-1 may be involved in TGF-β-dependent cellular responses in PDL cells during SB431542 treatment and the analysis of ALK-1 function might provide further insights into the role of TGF-β signaling in PDL cells.\\nRecently, several small molecule inhibitors of TGF-β type I receptors have been developed. LY364947 and Inhibitor II are two such small molecules that inhibit TGF-β type I receptor, as well as ALK-4, -5, and -7. Both of these drugs enhanced the ossification of BMP-2-stimulated MPDL22 cells, though at different magnitudes ( Fig 5 ). This result strongly supports the idea that the pharmacological inhibition of TGF-β signaling might enhance the BMP-2-induced formation of mineralized tissues in MPDL22 cells.\\n'"
      ]
     },
     "execution_count": 248,
     "metadata": {},
     "output_type": "execute_result"
    }
   ],
   "source": [
    "a[0]"
   ]
  },
  {
   "cell_type": "code",
   "execution_count": 163,
   "metadata": {},
   "outputs": [],
   "source": [
    "disamb.dump('LAK', '../results')"
   ]
  },
  {
   "cell_type": "code",
   "execution_count": 74,
   "metadata": {},
   "outputs": [],
   "source": [
    "from adeft.disambiguate import load_disambiguator"
   ]
  },
  {
   "cell_type": "code",
   "execution_count": 75,
   "metadata": {},
   "outputs": [
    {
     "name": "stderr",
     "output_type": "stream",
     "text": [
      "WARNING: [2020-01-10 16:16:37] /Users/albertsteppi/adeft/adeft/download/download.py - Shortform EAG has multiple adeft modelsThis may lead to unexpected behavior\n"
     ]
    }
   ],
   "source": [
    "d = load_disambiguator('ARG', '../results')"
   ]
  },
  {
   "cell_type": "code",
   "execution_count": 76,
   "metadata": {},
   "outputs": [
    {
     "data": {
      "text/plain": [
       "('CHEBI:CHEBI:29016',\n",
       " 'arginine',\n",
       " {'CHEBI:CHEBI:29016': 0.9667882794828576,\n",
       "  'CHEBI:CHEBI:79': 0.004343534773612251,\n",
       "  'HGNC:651': 0.00798509086185913,\n",
       "  'HGNC:77': 0.00973784879530277,\n",
       "  'HGNC:9965': 0.011145246086368127})"
      ]
     },
     "execution_count": 76,
     "metadata": {},
     "output_type": "execute_result"
    }
   ],
   "source": [
    "d.disambiguate(texts[0])"
   ]
  },
  {
   "cell_type": "code",
   "execution_count": 79,
   "metadata": {},
   "outputs": [
    {
     "name": "stdout",
     "output_type": "stream",
     "text": [
      "Disambiguation model for ARG\n",
      "\n",
      "Produces the disambiguations:\n",
      "\t(-)-Arctigenin*\tCHEBI:CHEBI:79\n",
      "\tABL2*\tHGNC:77\n",
      "\tAREG*\tHGNC:651\n",
      "\tRERE*\tHGNC:9965\n",
      "\targinine*\tCHEBI:CHEBI:29016\n",
      "\n",
      "Training data had class balance:\n",
      "\tAREG*\t157\n",
      "\tABL2*\t88\n",
      "\tRERE*\t39\n",
      "\targinine*\t15\n",
      "\t(-)-Arctigenin*\t2\n",
      "\n",
      "Classification Metrics:\n",
      "\tF1 score:\t0.81188\n",
      "\tPrecision:\t0.82394\n",
      "\tRecall:\t\t0.8205\n",
      "\n",
      "* Positive labels\n",
      "See Docstring for explanation\n",
      "\n"
     ]
    }
   ],
   "source": [
    "print(d.info())"
   ]
  },
  {
   "cell_type": "code",
   "execution_count": 32,
   "metadata": {},
   "outputs": [],
   "source": [
    "a = load_disambiguator('AR')"
   ]
  },
  {
   "cell_type": "code",
   "execution_count": 33,
   "metadata": {},
   "outputs": [
    {
     "data": {
      "text/plain": [
       "('HGNC:644',\n",
       " 'AR',\n",
       " {'FPLX:ADRB': 4.719192246728643e-10,\n",
       "  'GO:GO:0007340': 1.3624879544267196e-09,\n",
       "  'HGNC:381': 5.2828214761836554e-12,\n",
       "  'HGNC:644': 0.9999384718638125,\n",
       "  'HGNC:651': 1.8656671170325e-12,\n",
       "  'ungrounded': 6.152629463170691e-05})"
      ]
     },
     "execution_count": 33,
     "metadata": {},
     "output_type": "execute_result"
    }
   ],
   "source": [
    "a.disambiguate('Androgen')"
   ]
  },
  {
   "cell_type": "code",
   "execution_count": 36,
   "metadata": {},
   "outputs": [],
   "source": [
    "logit = d.classifier.estimator.named_steps['logit']"
   ]
  },
  {
   "cell_type": "code",
   "execution_count": 37,
   "metadata": {},
   "outputs": [
    {
     "data": {
      "text/plain": [
       "array(['FPLX:AQP', 'FPLX:Macrophage_inflammatory_pro', 'MESH:D000072277',\n",
       "       'polymer', 'ungrounded'], dtype='<U32')"
      ]
     },
     "execution_count": 37,
     "metadata": {},
     "output_type": "execute_result"
    }
   ],
   "source": [
    "logit.classes_"
   ]
  },
  {
   "cell_type": "code",
   "execution_count": 164,
   "metadata": {},
   "outputs": [],
   "source": [
    "model_to_s3(disamb)"
   ]
  },
  {
   "cell_type": "code",
   "execution_count": null,
   "metadata": {},
   "outputs": [],
   "source": []
  }
 ],
 "metadata": {
  "kernelspec": {
   "display_name": "Python 3",
   "language": "python",
   "name": "python3"
  },
  "language_info": {
   "codemirror_mode": {
    "name": "ipython",
    "version": 3
   },
   "file_extension": ".py",
   "mimetype": "text/x-python",
   "name": "python",
   "nbconvert_exporter": "python",
   "pygments_lexer": "ipython3",
   "version": "3.7.5"
  }
 },
 "nbformat": 4,
 "nbformat_minor": 2
}
