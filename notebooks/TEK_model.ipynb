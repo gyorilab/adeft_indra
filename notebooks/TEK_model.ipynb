{
 "cells": [
  {
   "cell_type": "code",
   "execution_count": 1,
   "metadata": {},
   "outputs": [
    {
     "name": "stderr",
     "output_type": "stream",
     "text": [
      "INFO: [2020-01-16 15:56:38] /Users/albertsteppi/adeft/adeft/recognize.py - OneShotRecognizer not available. AdeftLongformScorer has not been built successfully.\n"
     ]
    }
   ],
   "source": [
    "import json\n",
    "import pickle\n",
    "\n",
    "from indra.literature.adeft_tools import universal_extract_text\n",
    "from indra.databases.hgnc_client import get_hgnc_name, get_hgnc_id\n",
    "\n",
    "from indra_db.util.content_scripts import get_text_content_from_pmids\n",
    "from indra_db.util.content_scripts import get_stmts_with_agent_text_like\n",
    "from indra_db.util.content_scripts import get_text_content_from_stmt_ids\n",
    "\n",
    "from adeft.discover import AdeftMiner\n",
    "from adeft.gui import ground_with_gui\n",
    "from adeft.modeling.label import AdeftLabeler\n",
    "from adeft.modeling.classify import AdeftClassifier\n",
    "from adeft.disambiguate import AdeftDisambiguator\n",
    "\n",
    "from adeft_indra.s3 import model_to_s3\n",
    "from adeft_indra.ground import gilda_ground"
   ]
  },
  {
   "cell_type": "code",
   "execution_count": 2,
   "metadata": {},
   "outputs": [],
   "source": [
    "shortforms = ['TEK']\n",
    "genes = ['TEK']\n",
    "families = {}\n",
    "groundings = [f'HGNC:{get_hgnc_id(gene)}' for gene in genes]\n",
    "for family, members in families.items():\n",
    "    genes.extend(members)\n",
    "    groundings.append(f'FPLX:{family}')\n",
    "with open('../data/entrez_all_pmids.json', 'r') as f:\n",
    "    all_pmids = json.load(f)"
   ]
  },
  {
   "cell_type": "code",
   "execution_count": 3,
   "metadata": {},
   "outputs": [
    {
     "data": {
      "text/plain": [
       "['TEK']"
      ]
     },
     "execution_count": 3,
     "metadata": {},
     "output_type": "execute_result"
    }
   ],
   "source": [
    "genes"
   ]
  },
  {
   "cell_type": "code",
   "execution_count": 4,
   "metadata": {},
   "outputs": [],
   "source": [
    "entrez_texts = []\n",
    "entrez_refs = set()\n",
    "for gene, grounding in zip(genes, groundings):\n",
    "    try:\n",
    "        pmids = all_pmids[gene]\n",
    "    except KeyError:\n",
    "        continue\n",
    "    _, content = get_text_content_from_pmids(pmids)\n",
    "    entrez_texts.extend([(universal_extract_text(text), grounding)\n",
    "                          for text in content.values() if text])\n",
    "    entrez_refs.update(content.keys())"
   ]
  },
  {
   "cell_type": "code",
   "execution_count": 5,
   "metadata": {},
   "outputs": [],
   "source": [
    "miners = dict()\n",
    "all_texts = set()\n",
    "for shortform in shortforms:\n",
    "    stmts = get_stmts_with_agent_text_like(shortform)[shortform]\n",
    "    _, content = get_text_content_from_stmt_ids(stmts)\n",
    "    shortform_texts = [universal_extract_text(text, contains=shortforms)\n",
    "                       for ref, text in content.items() if text and ref not in entrez_refs]\n",
    "    miners[shortform] = AdeftMiner(shortform)\n",
    "    miners[shortform].process_texts(shortform_texts)\n",
    "    all_texts.union(shortform_texts)"
   ]
  },
  {
   "cell_type": "markdown",
   "metadata": {},
   "source": [
    "It's then necessary to check if Acromine produced the correct results. We must fix errors manually"
   ]
  },
  {
   "cell_type": "code",
   "execution_count": 10,
   "metadata": {},
   "outputs": [],
   "source": [
    "top = miners['TEK'].top()"
   ]
  },
  {
   "cell_type": "code",
   "execution_count": 11,
   "metadata": {},
   "outputs": [
    {
     "data": {
      "text/plain": [
       "[('transposable element silencing via at hook', 6.0),\n",
       " ('traditional ecological knowledge', 4.0),\n",
       " ('of traditional ecological knowledge', 2.0),\n",
       " ('protein transposable element silencing via at hook', 1.3333333333333333),\n",
       " ('receptor', 1.0),\n",
       " ('tek tyrosine kinase endothelial', 1.0),\n",
       " ('we test whether traditional ecological knowledge', 1),\n",
       " ('of transposable element silencing via at hook', 1.0),\n",
       " ('binding protein transposable element silencing via at hook', 1.0),\n",
       " ('een biological and cultural realms and these experiences construe traditional ecological knowledge',\n",
       "  1),\n",
       " ('nism of reciprocity unsatisfactory for the contemporary holders of traditional ecological knowledge',\n",
       "  1),\n",
       " ('plexes in relation with angiogenesis and vascular maturation processes the angiopoietin 1 receptor',\n",
       "  1),\n",
       " ('dh angiopoietin 1 angpt1 tgf β1 tgfb1 contactin 1 cntn1 tek tyrosine kinase endothelial',\n",
       "  1),\n",
       " ('g42940 see below which was previously designated as transposable element silencing via at hook',\n",
       "  1),\n",
       " ('latent transforming growth factor β binding protein 2 ltbp2 and tek tyrosine kinase endothelial',\n",
       "  1),\n",
       " ('ains poorly understood here we reported the knockout of transposable element silencing via at hook',\n",
       "  1),\n",
       " ('harides ellis et al 2010 nexine formation appears regulated by the tapetal ahl family protein',\n",
       "  1),\n",
       " ('mp migration cycle in the patos lagoon estuary we find the term traditional ecological knowledge',\n",
       "  1),\n",
       " ('n of the perspective of time as knowledge 24 the concept of traditional ecological knowledge',\n",
       "  1),\n",
       " ('on specific analyses rs666478 is located within an intronic region of the tyrosine kinase receptor',\n",
       "  1),\n",
       " ('reported that an at hook nuclear matrix binding protein transposable element silencing via at hook',\n",
       "  1),\n",
       " ('the conceptual level the concept of traditional time as a form of traditional ecological knowledge',\n",
       "  1),\n",
       " ('and plants the authors show that the ahl family protein transposable element silencing via at hook',\n",
       "  1),\n",
       " ('dominant including poag causing gene myoc il20rb optn efemp1 and tbk1 and a pcg causing gene',\n",
       "  1),\n",
       " ('e nuclear matrix protein with at hook dna binding motifs transposable element silencing via at hook',\n",
       "  1),\n",
       " ('e recently reported that an at hook dna binding protein transposable element silencing via at hook',\n",
       "  1),\n",
       " ('ion of endothelial growth factor vegfa and ang 1 and their receptor vegfr2 kdr and tie2',\n",
       "  1),\n",
       " ('ne layer is absent in the knockout mutant of arabidopsis transposable element silencing via at hook',\n",
       "  1),\n",
       " ('the notch ligand jagged 1 jag1 was downregulated in all the treatment groups tek tyrosine kinase',\n",
       "  1),\n",
       " ('et al 2007 as early as e12 5 mrna encoding receptor for vegfa kdr flt1 and angiopoietin1',\n",
       "  1),\n",
       " ('hat the nexine layer is absent in the knockout mutant of transposable element silencing via at hook',\n",
       "  1),\n",
       " ('angiopoietin1', 0.0),\n",
       " ('endothelial', 0.0),\n",
       " ('gene', 0.0),\n",
       " ('hook', 0.0),\n",
       " ('kinase', 0.0),\n",
       " ('knowledge', 0.0),\n",
       " ('protein', 0.0),\n",
       " ('tie2', 0.0),\n",
       " ('1 receptor', 0.0),\n",
       " ('and angiopoietin1', 0.0),\n",
       " ('and tie2', 0.0),\n",
       " ('at hook', 0.0),\n",
       " ('causing gene', 0.0),\n",
       " ('ecological knowledge', 0.0),\n",
       " ('family protein', 0.0),\n",
       " ('kinase endothelial', 0.0),\n",
       " ('kinase receptor', 0.0),\n",
       " ('tyrosine kinase', 0.0),\n",
       " ('ahl family protein', 0.0),\n",
       " ('angiopoietin 1 receptor', 0.0),\n",
       " ('flt1 and angiopoietin1', 0.0),\n",
       " ('kdr and tie2', 0.0),\n",
       " ('pcg causing gene', 0.0),\n",
       " ('tek tyrosine kinase', 0.0),\n",
       " ('tyrosine kinase endothelial', 0.0),\n",
       " ('tyrosine kinase receptor', 0.0),\n",
       " ('via at hook', 0.0),\n",
       " ('a pcg causing gene', 0.0),\n",
       " ('construe traditional ecological knowledge', 0.0),\n",
       " ('groups tek tyrosine kinase', 0.0),\n",
       " ('kdr flt1 and angiopoietin1', 0.0),\n",
       " ('silencing via at hook', 0.0),\n",
       " ('tapetal ahl family protein', 0.0),\n",
       " ('term traditional ecological knowledge', 0.0),\n",
       " ('the angiopoietin 1 receptor', 0.0),\n",
       " ('the tyrosine kinase receptor', 0.0),\n",
       " ('vegfr2 kdr and tie2', 0.0),\n",
       " ('whether traditional ecological knowledge', 0.0),\n",
       " ('and a pcg causing gene', 0.0),\n",
       " ('and tek tyrosine kinase endothelial', 0.0),\n",
       " ('cntn1 tek tyrosine kinase endothelial', 0.0),\n",
       " ('concept of traditional ecological knowledge', 0.0),\n",
       " ('element silencing via at hook', 0.0),\n",
       " ('experiences construe traditional ecological knowledge', 0.0),\n",
       " ('form of traditional ecological knowledge', 0.0),\n",
       " ('holders of traditional ecological knowledge', 0.0),\n",
       " ('of the tyrosine kinase receptor', 0.0),\n",
       " ('processes the angiopoietin 1 receptor', 0.0),\n",
       " ('receptor vegfr2 kdr and tie2', 0.0),\n",
       " ('test whether traditional ecological knowledge', 0.0),\n",
       " ('the tapetal ahl family protein', 0.0),\n",
       " ('the term traditional ecological knowledge', 0.0),\n",
       " ('treatment groups tek tyrosine kinase', 0.0),\n",
       " ('vegfa kdr flt1 and angiopoietin1', 0.0),\n",
       " ('1 cntn1 tek tyrosine kinase endothelial', 0.0),\n",
       " ('a form of traditional ecological knowledge', 0.0),\n",
       " ('by the tapetal ahl family protein', 0.0),\n",
       " ('contemporary holders of traditional ecological knowledge', 0.0),\n",
       " ('find the term traditional ecological knowledge', 0.0),\n",
       " ('for vegfa kdr flt1 and angiopoietin1', 0.0),\n",
       " ('ltbp2 and tek tyrosine kinase endothelial', 0.0),\n",
       " ('maturation processes the angiopoietin 1 receptor', 0.0),\n",
       " ('region of the tyrosine kinase receptor', 0.0),\n",
       " ('tbk1 and a pcg causing gene', 0.0),\n",
       " ('the concept of traditional ecological knowledge', 0.0),\n",
       " ('the treatment groups tek tyrosine kinase', 0.0),\n",
       " ('their receptor vegfr2 kdr and tie2', 0.0),\n",
       " ('these experiences construe traditional ecological knowledge', 0.0),\n",
       " ('2 ltbp2 and tek tyrosine kinase endothelial', 0.0),\n",
       " ('24 the concept of traditional ecological knowledge', 0.0),\n",
       " ('all the treatment groups tek tyrosine kinase', 0.0),\n",
       " ('and tbk1 and a pcg causing gene', 0.0),\n",
       " ('and their receptor vegfr2 kdr and tie2', 0.0),\n",
       " ('and these experiences construe traditional ecological knowledge', 0.0),\n",
       " ('arabidopsis transposable element silencing via at hook', 0.0),\n",
       " ('as a form of traditional ecological knowledge', 0.0),\n",
       " ('as transposable element silencing via at hook', 0.0),\n",
       " ('contactin 1 cntn1 tek tyrosine kinase endothelial', 0.0),\n",
       " ('intronic region of the tyrosine kinase receptor', 0.0),\n",
       " ('motifs transposable element silencing via at hook', 0.0),\n",
       " ('receptor for vegfa kdr flt1 and angiopoietin1', 0.0),\n",
       " ('regulated by the tapetal ahl family protein', 0.0),\n",
       " ('the contemporary holders of traditional ecological knowledge', 0.0),\n",
       " ('vascular maturation processes the angiopoietin 1 receptor', 0.0),\n",
       " ('we find the term traditional ecological knowledge', 0.0),\n",
       " ('1 and their receptor vegfr2 kdr and tie2', 0.0),\n",
       " ('an intronic region of the tyrosine kinase receptor', 0.0),\n",
       " ('and vascular maturation processes the angiopoietin 1 receptor', 0.0),\n",
       " ('appears regulated by the tapetal ahl family protein', 0.0),\n",
       " ('binding motifs transposable element silencing via at hook', 0.0),\n",
       " ('designated as transposable element silencing via at hook', 0.0),\n",
       " ('efemp1 and tbk1 and a pcg causing gene', 0.0),\n",
       " ('encoding receptor for vegfa kdr flt1 and angiopoietin1', 0.0),\n",
       " ('estuary we find the term traditional ecological knowledge', 0.0),\n",
       " ('family protein transposable element silencing via at hook', 0.0),\n",
       " ('for the contemporary holders of traditional ecological knowledge', 0.0),\n",
       " ('in all the treatment groups tek tyrosine kinase', 0.0),\n",
       " ('knockout of transposable element silencing via at hook', 0.0),\n",
       " ('knowledge 24 the concept of traditional ecological knowledge', 0.0),\n",
       " ('mutant of transposable element silencing via at hook', 0.0),\n",
       " ('of arabidopsis transposable element silencing via at hook', 0.0),\n",
       " ('protein 2 ltbp2 and tek tyrosine kinase endothelial', 0.0),\n",
       " ('realms and these experiences construe traditional ecological knowledge',\n",
       "  0.0),\n",
       " ('tgfb1 contactin 1 cntn1 tek tyrosine kinase endothelial', 0.0),\n",
       " ('time as a form of traditional ecological knowledge', 0.0),\n",
       " ('ahl family protein transposable element silencing via at hook', 0.0),\n",
       " ('ang 1 and their receptor vegfr2 kdr and tie2', 0.0),\n",
       " ('angiogenesis and vascular maturation processes the angiopoietin 1 receptor',\n",
       "  0.0),\n",
       " ('as knowledge 24 the concept of traditional ecological knowledge', 0.0),\n",
       " ('binding protein 2 ltbp2 and tek tyrosine kinase endothelial', 0.0),\n",
       " ('cultural realms and these experiences construe traditional ecological knowledge',\n",
       "  0.0),\n",
       " ('dna binding motifs transposable element silencing via at hook', 0.0),\n",
       " ('dna binding protein transposable element silencing via at hook', 0.0),\n",
       " ('downregulated in all the treatment groups tek tyrosine kinase', 0.0),\n",
       " ('formation appears regulated by the tapetal ahl family protein', 0.0),\n",
       " ('knockout mutant of transposable element silencing via at hook', 0.0),\n",
       " ('lagoon estuary we find the term traditional ecological knowledge', 0.0),\n",
       " ('matrix binding protein transposable element silencing via at hook', 0.0),\n",
       " ('mrna encoding receptor for vegfa kdr flt1 and angiopoietin1', 0.0),\n",
       " ('mutant of arabidopsis transposable element silencing via at hook', 0.0),\n",
       " ('optn efemp1 and tbk1 and a pcg causing gene', 0.0),\n",
       " ('previously designated as transposable element silencing via at hook', 0.0),\n",
       " ('the knockout of transposable element silencing via at hook', 0.0),\n",
       " ('traditional time as a form of traditional ecological knowledge', 0.0),\n",
       " ('unsatisfactory for the contemporary holders of traditional ecological knowledge',\n",
       "  0.0),\n",
       " ('within an intronic region of the tyrosine kinase receptor', 0.0),\n",
       " ('β1 tgfb1 contactin 1 cntn1 tek tyrosine kinase endothelial', 0.0),\n",
       " ('5 mrna encoding receptor for vegfa kdr flt1 and angiopoietin1', 0.0),\n",
       " ('and ang 1 and their receptor vegfr2 kdr and tie2', 0.0),\n",
       " ('and cultural realms and these experiences construe traditional ecological knowledge',\n",
       "  0.0),\n",
       " ('hook dna binding motifs transposable element silencing via at hook', 0.0),\n",
       " ('hook dna binding protein transposable element silencing via at hook', 0.0),\n",
       " ('il20rb optn efemp1 and tbk1 and a pcg causing gene', 0.0),\n",
       " ('knockout mutant of arabidopsis transposable element silencing via at hook',\n",
       "  0.0),\n",
       " ('located within an intronic region of the tyrosine kinase receptor', 0.0),\n",
       " ('nexine formation appears regulated by the tapetal ahl family protein', 0.0),\n",
       " ('nuclear matrix binding protein transposable element silencing via at hook',\n",
       "  0.0),\n",
       " ('of traditional time as a form of traditional ecological knowledge', 0.0),\n",
       " ('patos lagoon estuary we find the term traditional ecological knowledge',\n",
       "  0.0),\n",
       " ('reciprocity unsatisfactory for the contemporary holders of traditional ecological knowledge',\n",
       "  0.0),\n",
       " ('reported the knockout of transposable element silencing via at hook', 0.0),\n",
       " ('tgf β1 tgfb1 contactin 1 cntn1 tek tyrosine kinase endothelial', 0.0),\n",
       " ('the ahl family protein transposable element silencing via at hook', 0.0),\n",
       " ('the knockout mutant of transposable element silencing via at hook', 0.0),\n",
       " ('time as knowledge 24 the concept of traditional ecological knowledge', 0.0),\n",
       " ('was downregulated in all the treatment groups tek tyrosine kinase', 0.0),\n",
       " ('was previously designated as transposable element silencing via at hook',\n",
       "  0.0),\n",
       " ('with angiogenesis and vascular maturation processes the angiopoietin 1 receptor',\n",
       "  0.0),\n",
       " ('β binding protein 2 ltbp2 and tek tyrosine kinase endothelial', 0.0),\n",
       " ('2010 nexine formation appears regulated by the tapetal ahl family protein',\n",
       "  0.0),\n",
       " ('angpt1 tgf β1 tgfb1 contactin 1 cntn1 tek tyrosine kinase endothelial',\n",
       "  0.0),\n",
       " ('at hook dna binding motifs transposable element silencing via at hook',\n",
       "  0.0),\n",
       " ('at hook dna binding protein transposable element silencing via at hook',\n",
       "  0.0),\n",
       " ('biological and cultural realms and these experiences construe traditional ecological knowledge',\n",
       "  0.0),\n",
       " ('concept of traditional time as a form of traditional ecological knowledge',\n",
       "  0.0),\n",
       " ('e12 5 mrna encoding receptor for vegfa kdr flt1 and angiopoietin1', 0.0),\n",
       " ('factor β binding protein 2 ltbp2 and tek tyrosine kinase endothelial', 0.0),\n",
       " ('hook nuclear matrix binding protein transposable element silencing via at hook',\n",
       "  0.0),\n",
       " ('in the knockout mutant of transposable element silencing via at hook', 0.0),\n",
       " ('is located within an intronic region of the tyrosine kinase receptor', 0.0),\n",
       " ('jag1 was downregulated in all the treatment groups tek tyrosine kinase',\n",
       "  0.0),\n",
       " ('myoc il20rb optn efemp1 and tbk1 and a pcg causing gene', 0.0),\n",
       " ('of reciprocity unsatisfactory for the contemporary holders of traditional ecological knowledge',\n",
       "  0.0),\n",
       " ('of time as knowledge 24 the concept of traditional ecological knowledge',\n",
       "  0.0),\n",
       " ('relation with angiogenesis and vascular maturation processes the angiopoietin 1 receptor',\n",
       "  0.0),\n",
       " ('that the ahl family protein transposable element silencing via at hook',\n",
       "  0.0),\n",
       " ('the knockout mutant of arabidopsis transposable element silencing via at hook',\n",
       "  0.0),\n",
       " ('the patos lagoon estuary we find the term traditional ecological knowledge',\n",
       "  0.0),\n",
       " ('vegfa and ang 1 and their receptor vegfr2 kdr and tie2', 0.0),\n",
       " ('we reported the knockout of transposable element silencing via at hook',\n",
       "  0.0),\n",
       " ('which was previously designated as transposable element silencing via at hook',\n",
       "  0.0),\n",
       " ('1 angpt1 tgf β1 tgfb1 contactin 1 cntn1 tek tyrosine kinase endothelial',\n",
       "  0.0),\n",
       " ('1 jag1 was downregulated in all the treatment groups tek tyrosine kinase',\n",
       "  0.0),\n",
       " ('absent in the knockout mutant of transposable element silencing via at hook',\n",
       "  0.0),\n",
       " ('al 2010 nexine formation appears regulated by the tapetal ahl family protein',\n",
       "  0.0),\n",
       " ('an at hook dna binding protein transposable element silencing via at hook',\n",
       "  0.0),\n",
       " ('as e12 5 mrna encoding receptor for vegfa kdr flt1 and angiopoietin1', 0.0),\n",
       " ('at hook nuclear matrix binding protein transposable element silencing via at hook',\n",
       "  0.0),\n",
       " ('below which was previously designated as transposable element silencing via at hook',\n",
       "  0.0),\n",
       " ('factor vegfa and ang 1 and their receptor vegfr2 kdr and tie2', 0.0),\n",
       " ('gene myoc il20rb optn efemp1 and tbk1 and a pcg causing gene', 0.0),\n",
       " ('growth factor β binding protein 2 ltbp2 and tek tyrosine kinase endothelial',\n",
       "  0.0),\n",
       " ('here we reported the knockout of transposable element silencing via at hook',\n",
       "  0.0),\n",
       " ('in relation with angiogenesis and vascular maturation processes the angiopoietin 1 receptor',\n",
       "  0.0),\n",
       " ('in the knockout mutant of arabidopsis transposable element silencing via at hook',\n",
       "  0.0),\n",
       " ('in the patos lagoon estuary we find the term traditional ecological knowledge',\n",
       "  0.0),\n",
       " ('perspective of time as knowledge 24 the concept of traditional ecological knowledge',\n",
       "  0.0),\n",
       " ('rs666478 is located within an intronic region of the tyrosine kinase receptor',\n",
       "  0.0),\n",
       " ('show that the ahl family protein transposable element silencing via at hook',\n",
       "  0.0),\n",
       " ('the concept of traditional time as a form of traditional ecological knowledge',\n",
       "  0.0),\n",
       " ('with at hook dna binding motifs transposable element silencing via at hook',\n",
       "  0.0),\n",
       " ('absent in the knockout mutant of arabidopsis transposable element silencing via at hook',\n",
       "  0.0),\n",
       " ('an at hook nuclear matrix binding protein transposable element silencing via at hook',\n",
       "  0.0),\n",
       " ('analyses rs666478 is located within an intronic region of the tyrosine kinase receptor',\n",
       "  0.0),\n",
       " ('angiopoietin 1 angpt1 tgf β1 tgfb1 contactin 1 cntn1 tek tyrosine kinase endothelial',\n",
       "  0.0),\n",
       " ('authors show that the ahl family protein transposable element silencing via at hook',\n",
       "  0.0),\n",
       " ('causing gene myoc il20rb optn efemp1 and tbk1 and a pcg causing gene', 0.0),\n",
       " ('cycle in the patos lagoon estuary we find the term traditional ecological knowledge',\n",
       "  0.0),\n",
       " ('early as e12 5 mrna encoding receptor for vegfa kdr flt1 and angiopoietin1',\n",
       "  0.0),\n",
       " ('et al 2010 nexine formation appears regulated by the tapetal ahl family protein',\n",
       "  0.0),\n",
       " ('growth factor vegfa and ang 1 and their receptor vegfr2 kdr and tie2', 0.0),\n",
       " ('is absent in the knockout mutant of transposable element silencing via at hook',\n",
       "  0.0),\n",
       " ('jagged 1 jag1 was downregulated in all the treatment groups tek tyrosine kinase',\n",
       "  0.0),\n",
       " ('level the concept of traditional time as a form of traditional ecological knowledge',\n",
       "  0.0),\n",
       " ('protein with at hook dna binding motifs transposable element silencing via at hook',\n",
       "  0.0),\n",
       " ('see below which was previously designated as transposable element silencing via at hook',\n",
       "  0.0),\n",
       " ('that an at hook dna binding protein transposable element silencing via at hook',\n",
       "  0.0),\n",
       " ('the perspective of time as knowledge 24 the concept of traditional ecological knowledge',\n",
       "  0.0),\n",
       " ('transforming growth factor β binding protein 2 ltbp2 and tek tyrosine kinase endothelial',\n",
       "  0.0),\n",
       " ('understood here we reported the knockout of transposable element silencing via at hook',\n",
       "  0.0),\n",
       " ('as early as e12 5 mrna encoding receptor for vegfa kdr flt1 and angiopoietin1',\n",
       "  0.0),\n",
       " ('conceptual level the concept of traditional time as a form of traditional ecological knowledge',\n",
       "  0.0),\n",
       " ('ellis et al 2010 nexine formation appears regulated by the tapetal ahl family protein',\n",
       "  0.0),\n",
       " ('endothelial growth factor vegfa and ang 1 and their receptor vegfr2 kdr and tie2',\n",
       "  0.0),\n",
       " ('is absent in the knockout mutant of arabidopsis transposable element silencing via at hook',\n",
       "  0.0),\n",
       " ('layer is absent in the knockout mutant of transposable element silencing via at hook',\n",
       "  0.0),\n",
       " ('ligand jagged 1 jag1 was downregulated in all the treatment groups tek tyrosine kinase',\n",
       "  0.0),\n",
       " ('matrix protein with at hook dna binding motifs transposable element silencing via at hook',\n",
       "  0.0),\n",
       " ('migration cycle in the patos lagoon estuary we find the term traditional ecological knowledge',\n",
       "  0.0),\n",
       " ('of the perspective of time as knowledge 24 the concept of traditional ecological knowledge',\n",
       "  0.0),\n",
       " ('poag causing gene myoc il20rb optn efemp1 and tbk1 and a pcg causing gene',\n",
       "  0.0),\n",
       " ('poorly understood here we reported the knockout of transposable element silencing via at hook',\n",
       "  0.0),\n",
       " ('reported that an at hook dna binding protein transposable element silencing via at hook',\n",
       "  0.0),\n",
       " ('specific analyses rs666478 is located within an intronic region of the tyrosine kinase receptor',\n",
       "  0.0),\n",
       " ('that an at hook nuclear matrix binding protein transposable element silencing via at hook',\n",
       "  0.0),\n",
       " ('the authors show that the ahl family protein transposable element silencing via at hook',\n",
       "  0.0),\n",
       " ('2007 as early as e12 5 mrna encoding receptor for vegfa kdr flt1 and angiopoietin1',\n",
       "  0.0),\n",
       " ('including poag causing gene myoc il20rb optn efemp1 and tbk1 and a pcg causing gene',\n",
       "  0.0),\n",
       " ('layer is absent in the knockout mutant of arabidopsis transposable element silencing via at hook',\n",
       "  0.0),\n",
       " ('nexine layer is absent in the knockout mutant of transposable element silencing via at hook',\n",
       "  0.0),\n",
       " ('notch ligand jagged 1 jag1 was downregulated in all the treatment groups tek tyrosine kinase',\n",
       "  0.0),\n",
       " ('nuclear matrix protein with at hook dna binding motifs transposable element silencing via at hook',\n",
       "  0.0),\n",
       " ('of endothelial growth factor vegfa and ang 1 and their receptor vegfr2 kdr and tie2',\n",
       "  0.0),\n",
       " ('plants the authors show that the ahl family protein transposable element silencing via at hook',\n",
       "  0.0),\n",
       " ('recently reported that an at hook dna binding protein transposable element silencing via at hook',\n",
       "  0.0),\n",
       " ('al 2007 as early as e12 5 mrna encoding receptor for vegfa kdr flt1 and angiopoietin1',\n",
       "  0.0),\n",
       " ('the nexine layer is absent in the knockout mutant of transposable element silencing via at hook',\n",
       "  0.0)]"
      ]
     },
     "execution_count": 11,
     "metadata": {},
     "output_type": "execute_result"
    }
   ],
   "source": [
    "top"
   ]
  },
  {
   "cell_type": "code",
   "execution_count": 12,
   "metadata": {},
   "outputs": [],
   "source": [
    "longforms0 = miners['TEK'].get_longforms()"
   ]
  },
  {
   "cell_type": "code",
   "execution_count": 13,
   "metadata": {},
   "outputs": [
    {
     "data": {
      "text/plain": [
       "[('transposable element silencing via at hook', 6.0),\n",
       " ('traditional ecological knowledge', 4.0)]"
      ]
     },
     "execution_count": 13,
     "metadata": {},
     "output_type": "execute_result"
    }
   ],
   "source": [
    "longforms0"
   ]
  },
  {
   "cell_type": "code",
   "execution_count": 35,
   "metadata": {},
   "outputs": [],
   "source": [
    "longforms0 = [x for i, x in enumerate(longforms0) if i in [0, 2, 3, 4]]"
   ]
  },
  {
   "cell_type": "code",
   "execution_count": 36,
   "metadata": {},
   "outputs": [],
   "source": [
    "longforms0.extend([(longform, score) for i, (longform, score) in enumerate(top)\n",
    "                   if i in [2, 3]])"
   ]
  },
  {
   "cell_type": "code",
   "execution_count": 37,
   "metadata": {},
   "outputs": [],
   "source": [
    "longforms0.sort(key=lambda x: -x[1])"
   ]
  },
  {
   "cell_type": "code",
   "execution_count": 14,
   "metadata": {},
   "outputs": [],
   "source": [
    "longforms, scores = zip(*longforms0)"
   ]
  },
  {
   "cell_type": "code",
   "execution_count": 15,
   "metadata": {},
   "outputs": [
    {
     "data": {
      "text/plain": [
       "('transposable element silencing via at hook',\n",
       " 'traditional ecological knowledge')"
      ]
     },
     "execution_count": 15,
     "metadata": {},
     "output_type": "execute_result"
    }
   ],
   "source": [
    "longforms"
   ]
  },
  {
   "cell_type": "code",
   "execution_count": 16,
   "metadata": {},
   "outputs": [],
   "source": [
    "grounding_map = {}\n",
    "names = {}\n",
    "for longform in longforms:\n",
    "    grounding = gilda_ground(longform)\n",
    "    if grounding[0]:\n",
    "        grounding_map[longform] = f'{grounding[0]}:{grounding[1]}'\n",
    "        names[grounding_map[longform]] = grounding[2]"
   ]
  },
  {
   "cell_type": "code",
   "execution_count": 17,
   "metadata": {},
   "outputs": [
    {
     "data": {
      "text/plain": [
       "{}"
      ]
     },
     "execution_count": 17,
     "metadata": {},
     "output_type": "execute_result"
    }
   ],
   "source": [
    "grounding_map"
   ]
  },
  {
   "cell_type": "code",
   "execution_count": 18,
   "metadata": {},
   "outputs": [
    {
     "data": {
      "text/plain": [
       "{}"
      ]
     },
     "execution_count": 18,
     "metadata": {},
     "output_type": "execute_result"
    }
   ],
   "source": [
    "names"
   ]
  },
  {
   "cell_type": "code",
   "execution_count": 19,
   "metadata": {},
   "outputs": [],
   "source": [
    "grounding_map, names, pos_labels = ground_with_gui(longforms, scores, grounding_map=grounding_map, names=names)"
   ]
  },
  {
   "cell_type": "code",
   "execution_count": 20,
   "metadata": {},
   "outputs": [
    {
     "data": {
      "text/plain": [
       "{}"
      ]
     },
     "execution_count": 20,
     "metadata": {},
     "output_type": "execute_result"
    }
   ],
   "source": [
    "names"
   ]
  },
  {
   "cell_type": "code",
   "execution_count": 21,
   "metadata": {},
   "outputs": [
    {
     "data": {
      "text/plain": [
       "{'traditional ecological knowledge': 'ungrounded',\n",
       " 'transposable element silencing via at hook': 'ungrounded'}"
      ]
     },
     "execution_count": 21,
     "metadata": {},
     "output_type": "execute_result"
    }
   ],
   "source": [
    "grounding_map"
   ]
  },
  {
   "cell_type": "code",
   "execution_count": 22,
   "metadata": {},
   "outputs": [],
   "source": [
    "names['HGNC:11724'] = 'TEK'\n",
    "pos_labels.append('HGNC:11724')"
   ]
  },
  {
   "cell_type": "code",
   "execution_count": 23,
   "metadata": {},
   "outputs": [],
   "source": [
    "result = (grounding_map, names, pos_labels)"
   ]
  },
  {
   "cell_type": "code",
   "execution_count": 24,
   "metadata": {
    "scrolled": true
   },
   "outputs": [
    {
     "data": {
      "text/plain": [
       "({'traditional ecological knowledge': 'ungrounded',\n",
       "  'transposable element silencing via at hook': 'ungrounded'},\n",
       " {'HGNC:11724': 'TEK'},\n",
       " ['HGNC:11724'])"
      ]
     },
     "execution_count": 24,
     "metadata": {},
     "output_type": "execute_result"
    }
   ],
   "source": [
    "result"
   ]
  },
  {
   "cell_type": "code",
   "execution_count": 25,
   "metadata": {},
   "outputs": [],
   "source": [
    "grounding_map, names, pos_labels = ({'traditional ecological knowledge': 'ungrounded',\n",
    "  'transposable element silencing via at hook': 'ungrounded'},\n",
    " {'HGNC:11724': 'TEK'},\n",
    " ['HGNC:11724'])"
   ]
  },
  {
   "cell_type": "code",
   "execution_count": 26,
   "metadata": {},
   "outputs": [],
   "source": [
    "grounding_dict = {'TEK': grounding_map}"
   ]
  },
  {
   "cell_type": "code",
   "execution_count": 27,
   "metadata": {},
   "outputs": [],
   "source": [
    "classifier = AdeftClassifier('TEK', pos_labels=pos_labels)"
   ]
  },
  {
   "cell_type": "code",
   "execution_count": 28,
   "metadata": {},
   "outputs": [],
   "source": [
    "param_grid = {'C': [100.0], 'max_features': [10000]}"
   ]
  },
  {
   "cell_type": "code",
   "execution_count": 29,
   "metadata": {},
   "outputs": [],
   "source": [
    "labeler = AdeftLabeler(grounding_dict)"
   ]
  },
  {
   "cell_type": "code",
   "execution_count": 30,
   "metadata": {},
   "outputs": [],
   "source": [
    "corpus = labeler.build_from_texts(shortform_texts)"
   ]
  },
  {
   "cell_type": "code",
   "execution_count": 31,
   "metadata": {},
   "outputs": [],
   "source": [
    "corpus.extend(entrez_texts)"
   ]
  },
  {
   "cell_type": "code",
   "execution_count": 32,
   "metadata": {},
   "outputs": [],
   "source": [
    "texts, labels = zip(*corpus)"
   ]
  },
  {
   "cell_type": "code",
   "execution_count": 33,
   "metadata": {},
   "outputs": [
    {
     "name": "stderr",
     "output_type": "stream",
     "text": [
      "INFO: [2020-01-16 15:59:18] /Users/albertsteppi/adeft/adeft/modeling/classify.py - Beginning grid search in parameter space:\n",
      "{'C': [100.0], 'max_features': [10000]}\n",
      "INFO: [2020-01-16 15:59:21] /Users/albertsteppi/adeft/adeft/modeling/classify.py - Best f1 score of 0.9931551078393387 found for parameter values:\n",
      "{'logit__C': 100.0, 'tfidf__max_features': 10000}\n"
     ]
    }
   ],
   "source": [
    "classifier.cv(texts, labels, param_grid, cv=5, n_jobs=8)"
   ]
  },
  {
   "cell_type": "code",
   "execution_count": 34,
   "metadata": {},
   "outputs": [
    {
     "data": {
      "text/plain": [
       "{'label_distribution': {'ungrounded': 9, 'HGNC:11724': 217},\n",
       " 'f1': {'mean': 0.9931551078393387, 'std': 0.005589626835700498},\n",
       " 'precision': {'mean': 0.9864646464646466, 'std': 0.011053108477694943},\n",
       " 'recall': {'mean': 1.0, 'std': 0.0}}"
      ]
     },
     "execution_count": 34,
     "metadata": {},
     "output_type": "execute_result"
    }
   ],
   "source": [
    "classifier.stats"
   ]
  },
  {
   "cell_type": "code",
   "execution_count": 35,
   "metadata": {},
   "outputs": [],
   "source": [
    "disamb = AdeftDisambiguator(classifier, grounding_dict, names)"
   ]
  },
  {
   "cell_type": "code",
   "execution_count": 36,
   "metadata": {},
   "outputs": [],
   "source": [
    "d = disamb.disambiguate(shortform_texts)"
   ]
  },
  {
   "cell_type": "code",
   "execution_count": 37,
   "metadata": {},
   "outputs": [],
   "source": [
    "a = [text for pred, text in zip(d, shortform_texts)if pred[0] == 'ungrounded']"
   ]
  },
  {
   "cell_type": "code",
   "execution_count": 38,
   "metadata": {},
   "outputs": [
    {
     "data": {
      "text/plain": [
       "12"
      ]
     },
     "execution_count": 38,
     "metadata": {},
     "output_type": "execute_result"
    }
   ],
   "source": [
    "len(a)"
   ]
  },
  {
   "cell_type": "code",
   "execution_count": 88,
   "metadata": {},
   "outputs": [
    {
     "data": {
      "text/plain": [
       "'The OsPCS2 exhibits root- and shoot-specific differential ratios of alternatively spliced transcripts in indica rice under Cd stress, and plays role in Cd and As stress tolerance and accumulation. Enzymatic activity of phytochelatin synthase (PCS) in plant produces phytochelatins, which help in sequestration of heavy metal(loid)s inside the cell vacuole to alleviate toxicity. Here we report that among the two PCS genes-OsPCS1 and OsPCS2 in indica rice (Oryza sativa) cultivar, the OsPCS2 produces an alternatively spliced OsPCS2b transcript that bears the unusual premature termination codon besides the canonically spliced OsPCS2a transcript. Root- and shoot-specific differential ratios of alternatively spliced OsPCS2a and OsPCS2b transcript expressions were observed under cadmium stress. Saccharomyces cerevisiae cells transformed with OsPCS2a exhibited increased cadmium (Cd) and arsenic (As) tolerance and accumulation, unlike the OsPCS2b transformed yeast cells. An intron-containing hairpin RNA-mediated gene silencing was carried out in endosperm-specific manner for efficient down-regulation of OsPCS genes in rice grains. Analysis of the transgenic rice lines grown under metal(loid) stress revealed almost complete absence of both OsPCS1 and OsPCS2 transcripts in the developing seeds coupled with the significant reduction in the content of Cd (~51%) and As (~35%) in grains compared with the non-transgenic plant. Taken together, the findings indicate towards a crucial role played by the tissue-specific alternative splicing and relative abundance of the OsPCS2 gene during heavy metal(loid) stress mitigation in rice plant.\\n'"
      ]
     },
     "execution_count": 88,
     "metadata": {},
     "output_type": "execute_result"
    }
   ],
   "source": [
    "a[16]"
   ]
  },
  {
   "cell_type": "code",
   "execution_count": 86,
   "metadata": {},
   "outputs": [],
   "source": [
    "disamb.dump('CKI', '../results')"
   ]
  },
  {
   "cell_type": "code",
   "execution_count": null,
   "metadata": {},
   "outputs": [],
   "source": [
    "from adeft.disambiguate import load_disambiguator"
   ]
  },
  {
   "cell_type": "code",
   "execution_count": null,
   "metadata": {},
   "outputs": [],
   "source": [
    "d = load_disambiguator('ARG', '../results')"
   ]
  },
  {
   "cell_type": "code",
   "execution_count": null,
   "metadata": {},
   "outputs": [],
   "source": [
    "d.disambiguate(texts[0])"
   ]
  },
  {
   "cell_type": "code",
   "execution_count": null,
   "metadata": {},
   "outputs": [],
   "source": [
    "print(d.info())"
   ]
  },
  {
   "cell_type": "code",
   "execution_count": null,
   "metadata": {},
   "outputs": [],
   "source": [
    "a = load_disambiguator('AR')"
   ]
  },
  {
   "cell_type": "code",
   "execution_count": null,
   "metadata": {},
   "outputs": [],
   "source": [
    "a.disambiguate('Androgen')"
   ]
  },
  {
   "cell_type": "code",
   "execution_count": null,
   "metadata": {},
   "outputs": [],
   "source": [
    "logit = d.classifier.estimator.named_steps['logit']"
   ]
  },
  {
   "cell_type": "code",
   "execution_count": null,
   "metadata": {},
   "outputs": [],
   "source": [
    "logit.classes_"
   ]
  },
  {
   "cell_type": "code",
   "execution_count": 87,
   "metadata": {},
   "outputs": [],
   "source": [
    "model_to_s3(disamb)"
   ]
  },
  {
   "cell_type": "code",
   "execution_count": null,
   "metadata": {},
   "outputs": [],
   "source": []
  }
 ],
 "metadata": {
  "kernelspec": {
   "display_name": "Python 3",
   "language": "python",
   "name": "python3"
  },
  "language_info": {
   "codemirror_mode": {
    "name": "ipython",
    "version": 3
   },
   "file_extension": ".py",
   "mimetype": "text/x-python",
   "name": "python",
   "nbconvert_exporter": "python",
   "pygments_lexer": "ipython3",
   "version": "3.7.5"
  }
 },
 "nbformat": 4,
 "nbformat_minor": 2
}
