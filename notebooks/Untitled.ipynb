{
 "cells": [
  {
   "cell_type": "markdown",
   "metadata": {},
   "source": [
    "Import scripts for getting content"
   ]
  },
  {
   "cell_type": "code",
   "execution_count": 1,
   "metadata": {},
   "outputs": [],
   "source": [
    "from adeft_indra.database_content import get_texts_for_agent_texts"
   ]
  },
  {
   "cell_type": "markdown",
   "metadata": {},
   "source": [
    "Use this function to get texts. This may take a while. Everything is cached so if you need to run this again it will be much faster."
   ]
  },
  {
   "cell_type": "code",
   "execution_count": 2,
   "metadata": {},
   "outputs": [],
   "source": [
    "ir_texts = get_texts_for_agent_texts(['IR'])"
   ]
  },
  {
   "cell_type": "code",
   "execution_count": 4,
   "metadata": {},
   "outputs": [],
   "source": [
    "from adeft.discover import AdeftMiner"
   ]
  },
  {
   "cell_type": "code",
   "execution_count": 5,
   "metadata": {},
   "outputs": [],
   "source": [
    "ir_miner = AdeftMiner('IR')"
   ]
  },
  {
   "cell_type": "code",
   "execution_count": 6,
   "metadata": {},
   "outputs": [],
   "source": [
    "ir_miner.process_texts(ir_texts)"
   ]
  },
  {
   "cell_type": "code",
   "execution_count": 7,
   "metadata": {},
   "outputs": [
    {
     "data": {
      "text/plain": [
       "[('ionizing radiation', 18269.06074691457),\n",
       " ('insulin receptor', 7611.715709642471),\n",
       " ('ischemia reperfusion', 6044.189576657109),\n",
       " ('insulin resistance', 5981.9022823330515),\n",
       " ('irradiation', 3019.1234718826413),\n",
       " ('immunoreactivity', 678.2774566473988),\n",
       " ('infrared', 401.87628865979383),\n",
       " ('intron retention', 170.96491228070175),\n",
       " ('inverted repeat', 137.83116883116884),\n",
       " ('msc cm iec 6', 127.5),\n",
       " ('immediate release', 117.36363636363636),\n",
       " ('isolation rearing', 111.6793893129771),\n",
       " ('gy', 99.89528795811518),\n",
       " ('rate', 79.56140350877193),\n",
       " ('k', 73.54216867469883),\n",
       " ('ischemia reperfusion injury', 68.10810810810813),\n",
       " ('response', 61.95),\n",
       " ('region', 60.02173913043478),\n",
       " ('1 i e the co immunoprecipitation experiments show that both inactivated no ir and activation',\n",
       "  56),\n",
       " ('iterative reconstruction', 43.82222222222222),\n",
       " ('24 h etoposide or 48 h', 43.2),\n",
       " ('group', 43.05882352941177),\n",
       " ('htc ir in response to insulin stimulated see fig 1d the fluorescence intensity of c yfp',\n",
       "  43),\n",
       " ('inversion recovery', 40.355555555555554),\n",
       " ('were exposed', 39.0),\n",
       " ('purity as determine by high pressure liquid chromatography rats ir membrane preparation i 9266',\n",
       "  39),\n",
       " ('cells death was calculated used the following equation experimental cells death in the ionizing',\n",
       "  35),\n",
       " ('ray', 32.26229508196721),\n",
       " ('ssigned to six experimental group control group n = 6 received neither restraint nor 56 fe ion',\n",
       "  32),\n",
       " ('ik', 29.51515151515151),\n",
       " ('infusion reactions', 27.2972972972973),\n",
       " ('treatment alone results in modest inhibition of tumor growth median weight of 324 914 ± 28 08 mg',\n",
       "  27),\n",
       " ('immune reconstitution', 25.03030303030303),\n",
       " ('internal rotation', 22.53846153846154),\n",
       " ('ich containing addition data see also 41 42 insulin hrp binding to insulin receptor peptide',\n",
       "  22),\n",
       " ('significantly better flow in preconditioning animals ripc + iri as compared to non preconditioning',\n",
       "  21),\n",
       " ('ir', 20.5625),\n",
       " ('the animals were randomly divided into eight group 1 ischemia reperfusion treated with vehicle',\n",
       "  20),\n",
       " ('gfp', 18.0),\n",
       " ('dna used moloney murine leukemia virus reversal transcriptase promega madison wi with oligodt18',\n",
       "  18),\n",
       " ('for 48 h then cells were left untreated or irradiation and harvested 24 h after radiation exposure',\n",
       "  18),\n",
       " ('intermediate risk', 17.444444444444443),\n",
       " ('ir f heatmap of the indicated mrna levels detected by qpcr in non senescence mock or senescence',\n",
       "  17),\n",
       " ('as a transcription factor that regulation metabolic gene expression in response to genotoxic stress',\n",
       "  17),\n",
       " ('ividuals no ir submandibular or patients who received radiation therapy for head and neck cancer',\n",
       "  16),\n",
       " ('dna damage', 15.714285714285715),\n",
       " ('loki', 15.0),\n",
       " ('mbrane domain and the increased gm3 cluster at the cells surface localization of insulin recptor',\n",
       "  15),\n",
       " ('ir treated', 14.4),\n",
       " ('intrarectal', 14.31578947368421),\n",
       " ('group ii', 14.210526315789473),\n",
       " ('gypsy', 14.0),\n",
       " ('ptrsnd1 a2', 14.0),\n",
       " ('interventions radiology', 14.0),\n",
       " ('ch treatment group 1 mock irradiation and vehicle only vehicle 2 irradiation and vehicle only',\n",
       "  14),\n",
       " ('l ihc analysis were purchased from cells signaling technology igf 1r or santa cruz biotechnology',\n",
       "  14),\n",
       " ('this study evaluate the effects of retinal ischemiareperfusion', 13),\n",
       " ('s were seeded onto an 18 mm 2 coverslip and were exposed to dna damage conditions 24 h later 45',\n",
       "  13),\n",
       " ('are large', 12.0),\n",
       " ('retinal ischemia', 12.0),\n",
       " ('ischemia re perfusion', 12.0),\n",
       " ('aa or grb10 s501 503d dd treated with or without 10 nm insulin e the immunoprecipitation',\n",
       "  12),\n",
       " ('scs when untreated ctrl or treated with ginger oleoresin alone trt and ionizing radiation alone',\n",
       "  12),\n",
       " ('rtance of podocyte ir signaling in disease human ir nm_000208 2 was subcloned into plenti tetcmv',\n",
       "  12),\n",
       " ('insulin', 11.571428571428571),\n",
       " ('ratio', 11.125),\n",
       " ('ice recrystallization', 10.8),\n",
       " ('kinase', 10.476190476190476),\n",
       " ('inwardly rectifying', 10.307692307692307),\n",
       " ('hods and unpublished data subsequent analysis used upstream activation sequence uas rnai',\n",
       "  10),\n",
       " ('c in ir and sh rats buffalo buf rats were raised in same sex group of 2 3 sh or in isolation',\n",
       "  10),\n",
       " ('infra red', 9.333333333333334),\n",
       " ('implementation research', 9.333333333333334),\n",
       " ('infrarenal', 9.23076923076923),\n",
       " ('ked caspase 3 activation whereas exposure to either trail or ir alone induced no trail or a weak',\n",
       "  9),\n",
       " ('ubjected to laparotomy as well as exposure of the portal triad without hepatic ischemia in the i r',\n",
       "  9),\n",
       " ('illegitimate recombination', 8.5),\n",
       " ('2', 8.0),\n",
       " ('tbi', 8.0),\n",
       " ('and induced repair', 8.0),\n",
       " ('astrocytomas immunohistochemical scores for intensity i percent and immunoreactivity scores',\n",
       "  8),\n",
       " ('the l × r + r reactions start with the binding of four molecules of an integrase rdf complex',\n",
       "  8),\n",
       " ('rum of type 2 diabetes patients is significantly higher 24 this start since prepatologic stage',\n",
       "  8),\n",
       " ('inhibition both igf 1r and ir with equal potency enzymes biochemical ic 50 = 1 7 nm igf 1r 1 8 nm',\n",
       "  8),\n",
       " ('u937', 7.2),\n",
       " ('xperiments were divided into four group group i ctr group ii xbj at 0 4 ml kg days group iii',\n",
       "  7),\n",
       " ('ect of tylcv function genomic a major discovery was that the short noncoding viral dna segment',\n",
       "  7),\n",
       " ('hase of the tylcv life cycle employed the il 60 system we revealed new feature of the noncoding',\n",
       "  7),\n",
       " ('ed ptp opening and improve cardiac recovery and mitochondrial function after myocardial infarction',\n",
       "  7),\n",
       " ('potential neuroprotective effects of neuroserpin nsp on acute retinal ischemic reperfusion induced',\n",
       "  7),\n",
       " ('treatment', 6.909090909090909),\n",
       " ('current', 6.428571428571429),\n",
       " ('scr', 6.0),\n",
       " ('atg5 kd', 6.0),\n",
       " ('imr90 ois and x ray irradiation induced senescence 10 days post 20 gy of either mrc5 or imr90',\n",
       "  6),\n",
       " ('ion oncogenic braunschweig germany 49 ba f3 cells expression t674i f p resistance to imatinib',\n",
       "  6),\n",
       " ('graphs fecg form the top to the bottom of each picture there were ecg of mother mice clip side',\n",
       "  6),\n",
       " ('tumour growth inhibition without the addition of ir as a triple therapy 98 ionising radioation',\n",
       "  6),\n",
       " ('neity in their reduced potential as measured used hp mr imaging a control and irradiation tumor',\n",
       "  6),\n",
       " ('ith inf4e in the perfusion the infarction size was significantly reduced compared to untreated heart',\n",
       "  6),\n",
       " ('initiated respond', 5.714285714285714),\n",
       " ('infrared spectroscopy', 5.714285714285714),\n",
       " ('revascularization', 5.454545454545454),\n",
       " ('inferior rectus', 5.428571428571429),\n",
       " ('isoleucine arginine', 5.4)]"
      ]
     },
     "execution_count": 7,
     "metadata": {},
     "output_type": "execute_result"
    }
   ],
   "source": [
    "ir_miner.get_longforms(cutoff=5.0)"
   ]
  },
  {
   "cell_type": "code",
   "execution_count": null,
   "metadata": {},
   "outputs": [],
   "source": []
  }
 ],
 "metadata": {
  "kernelspec": {
   "display_name": "Python 3",
   "language": "python",
   "name": "python3"
  },
  "language_info": {
   "codemirror_mode": {
    "name": "ipython",
    "version": 3
   },
   "file_extension": ".py",
   "mimetype": "text/x-python",
   "name": "python",
   "nbconvert_exporter": "python",
   "pygments_lexer": "ipython3",
   "version": "3.7.2"
  }
 },
 "nbformat": 4,
 "nbformat_minor": 2
}
