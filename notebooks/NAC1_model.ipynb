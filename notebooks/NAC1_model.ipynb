{
 "cells": [
  {
   "cell_type": "code",
   "execution_count": 1,
   "metadata": {},
   "outputs": [],
   "source": [
    "import json\n",
    "import pickle\n",
    "\n",
    "from indra.databases.hgnc_client import get_hgnc_name\n",
    "from indra.literature.adeft_tools import universal_extract_text\n",
    "\n",
    "from indra_db.util.content_scripts import get_text_content_from_pmids\n",
    "from indra_db.util.content_scripts import get_stmts_with_agent_text_like\n",
    "from indra_db.util.content_scripts import get_text_content_from_stmt_ids\n",
    "\n",
    "from adeft.discover import AdeftMiner\n",
    "from adeft.gui import ground_with_gui\n",
    "from adeft.modeling.label import AdeftLabeler\n",
    "from adeft.modeling.classify import AdeftClassifier\n",
    "from adeft.disambiguate import AdeftDisambiguator\n",
    "\n",
    "from adeft_indra.ground import gilda_ground"
   ]
  },
  {
   "cell_type": "code",
   "execution_count": 2,
   "metadata": {},
   "outputs": [],
   "source": [
    "shortform = 'BI'"
   ]
  },
  {
   "cell_type": "code",
   "execution_count": 3,
   "metadata": {},
   "outputs": [],
   "source": [
    "stmts = get_stmts_with_agent_text_like(shortform)[shortform]\n",
    "\n",
    "ids, content = get_text_content_from_stmt_ids(stmts)\n",
    "\n",
    "shortform_texts = [universal_extract_text(text, contains=[shortform]) for text in content.values() if text]\n",
    "\n",
    "miner = AdeftMiner(shortform)\n",
    "miner.process_texts(shortform_texts)"
   ]
  },
  {
   "cell_type": "markdown",
   "metadata": {},
   "source": [
    "It's then necessary to check if Acromine produced the correct results. We must fix errors manually"
   ]
  },
  {
   "cell_type": "code",
   "execution_count": 14,
   "metadata": {},
   "outputs": [
    {
     "data": {
      "text/plain": [
       "\"After more than 50 years of research it is apparent that the pacemaker function is orchestrated via intrinsic signaling mechanisms originating at multiple levels of organization, including subcellular (e.g., phosphorylation cascades, SR, mitochondria), cellular (i.e., surface membrane), hierarchical brain-heart signaling (i.e., neurotransmitter or hormonal stimulation of surface membrane receptors) and modulated by environmental mechanical, chemical and thermal factors (Figure  1 ). The SR rhythmically discharges local diastolic Ca 2+  releases (LCRs) beneath the cell surface membrane; LCRs activate an inward Na + /Ca 2+  exchange (NCX) current that prompts the surface membrane clock (M clock), an ensemble of sarcolemmal electrogenic molecules, to generate an AP. LCR Ca 2+  signal is regulated not only by the SR Ca 2+  pumping, which depends not only on SR proteins (phospholamban and RyR), and their phosphorylation status, but also by functions and phosphorylation status of M-clock proteins, e.g., L-type Ca 2+  channels that regulate cell Ca 2+  available for SR pumping, i.e., Ca 2+ -clock's substrate or “fuel.” LCR signals affect Ca 2+  -dependent electrogenic processes (such as Na + /Ca 2+  exchange) and voltage-dependent Ca 2+  fluxes (such as via Ca 2+ -dependent inactivation of L-type Ca 2+  channels). Therefore, the amplitude and phase of the LCR Ca 2+  signal sensed by M-clock proteins reports the degree of synchronization and coupling of pacemaker mechanisms of both clocks, i.e., a stronger, more synchronized, and earlier LCR signal to M-clock proteins reports more efficient clock coupling that results in further shortening of the AP-beating interval (BI).\\nThe coupled-clock theory predicts that extremely complex crosstalk between the two clocks via signaling pathways can amplify each other via secondary (indirect) mechanisms (reviewed in Maltsev and Lakatta,  2012 ), e.g., the crosstalk determines cell Ca 2+  which, in turn, activates calmodulin-adenylyl cyclase (AC)-dependent protein kinase A (PKA) and Ca 2+ /calmodulin-dependent protein kinase II (CaMKII) (Mattick et al.,  2007 ; Younes et al.,  2008 ; Yaniv et al.,  2013b ). These phosphorylation signaling cascades act on both SR (phospholamban and RyR) and M-clock proteins (such as L type Ca 2+  channels and K +  channels). Numerical model simulations predict that the diastolic LCR signal is also regulated both by the level of Ca 2+  cycling, and by the phosphorylation states of coupled-clock proteins (Maltsev and Lakatta,  2009 ; Yaniv et al.,  2013a ; Stern et al.,  2014 ). Indeed, the LCR period (i.e., the time period of an LCR occurrence following the prior AP) reports the degree of synchronization of the coupled-clock mechanisms (Monfredi et al.,  2013 ; Yaniv et al.,  2013a ,  2014b ). Thus, during higher degrees of clock coupling AP BI and LCR period are shorter and vice versa. LCRs affect Ca 2+  dependent mechanisms, specifically NCX, whereas the M-clock effects Ca 2+  clock primarily via I Ca,L . Phosphorylation signaling acts on both clocks and a decrease in its level is correlated with a decrease in the degree of synchronization of the coupled-clock mechanisms (Yaniv et al.,  2014b ). Numerical evidence has shown the essential roles of both mechanisms to couple clock functions (see below).\\nThe spontaneous AP BI of single isolated pacemaker cells and SAN tissue are roughly periodic, i.e., this period varies on a beat-to-beat basis (Verheijck et al.,  1998 ; Rocchetti et al.,  2000 ; Zaza and Lombardi,  2001 ; Monfredi et al.,  2011 ; Papaioannou et al.,  2013 ; Yaniv et al.,  2014a , b ). Recent experimental evidence shows that the degree of clock coupling determines not only the average pacemaker cell AP BI, but also the AP beating interval variability (BIV) (Yaniv et al.,  2014b ) (Figure  2 ). LCR periods vary among individual LCRs occurring within each spontaneous AP cycle and, similar to AP BI variability, among different cycles (Monfredi et al.,  2013 ; Stern et al.,  2014 ; Yaniv et al.,  2014b ). The ensemble LCR period and size report the extent of synchronization of the coupled-clock mechanisms. Indeed, the variability in the average LCR period in each cycle is correlated with the variability of the AP BI (Monfredi et al.,  2013 ; Yaniv et al.,  2014b ) (Figure  2 ) and beat-to-beat variation in periodicity of LCRs is associated with intrinsic variations of spontaneous AP BI (Monfredi et al.,  2013 ). Based on the coupled-clock theory, the stochasticity of LCR Ca 2+  signal depends on stochastic RyR activation (Stern et al.,  2014 ) and the cell Ca 2+  balance that in turn is determined, in part, by stochastic sarcolemmal ion channel openings and closings. The occurrence of an AP synchronizes global stochastic RyR activation, and therefore synchronizes subsequent generation of LCRs by the RyRs during the diastolic depolarization phase. The amplitude of LCR Ca 2+  signal to M-clock proteins reports the efficiency of clock coupling, i.e., a weaker LCR signal to M-clock proteins reports less-efficient clock coupling. At steady state, increase in LCR variability is also linked to reduced peak ensemble LCR Ca 2+  signal amplitude that occurs later in diastole (i.e., prolonged next AP ignition). Therefore, the extent to which intrinsic clock mechanisms regulates the coupled-clock determines both the steady state BI and BIV in isolated pacemaker cells.\\nβ-AR stimulation in single pacemaker cell not only markedly decreases the average AP BI, but also decreases the AP BIV indices (Zaza et al.,  1996 ; Yaniv et al.,  2014a ) and increases the likelihood that pacemaker cell BIs exhibit fractal-like behavior (Yaniv et al.,  2014a ). β-AR stimulation increases the efficiency of the coupled-clock system (Yaniv et al.,  2014a ). A reduction in LCR variability is associated with increased peak ensemble LCR Ca 2+  signal that occurs early in diastole (Monfredi et al.,  2012 ; Yaniv et al.,  2014b ). β-AR stimulation decreases the beating-interval entropy, which in isolated pacemaker cells is within a range that has been documented in random systems. Therefore, β-AR stimulation confers beating interval complexity. CR stimulation, in contrast, not only markedly increases both the average AP BI and AP BIV indices of single isolated pacemaker cells, but also impairs beating interval complexity (Rocchetti et al.,  2000 ; Zaza and Lombardi,  2001 ; Yaniv et al.,  2014a ). Therefore, CR stimulation reduces the efficiency of the clocks coupling (Yaniv et al.,  2014a ).\\nIn contrast to these results, three sets of experiments that rapidly perturb the Ca 2+ -clock in intact SANC have demonstrated the time-dependent beat-to-beat mutual entrainment between the two clocks. In the first experiment set single isolated rabbit SANC were loaded with a caged Ca 2+  buffer, NP-EGTA, which induced an increase in AP BI and markedly suppressed LCR Ca 2+  signals and uncoupled them from AP generation (Yaniv et al.,  2011 ). Flash photolysis released Ca 2+  from the caged compound, immediately restored Ca 2+  dynamics and within the same AP cycle. In the second experiment set low concentrations of caffeine (2-4 mM) were rapidly applied to single isolated rabbit SANC (Yaniv et al.,  2013c ). Caffeine induced immediate Ca 2+  release from the SR and immediately reduced the AP cycle. Lastly, in each given cycle the phase of the entire ensemble LCR signal (i.e. the average LCR period) is linked to that length of that cycle (Monfredi et al.,  2013 ). Therefore, mutual clock entrainment exists on a beat-to-beat basis.\\nMutual entrainment of the Ca 2+  and M-clock exists on a beat-to-beat basis (see above). Numerical simulations, using a modified ML “coupled-clock” model, faithfully reproduced experimentally reported prolongation of the AP BI and associated dys-rhythmic spontaneous beating in the presence of cytosolic Ca 2+  buffering (Yaniv et al.,  2013c ). However, three contemporary numerical models (Kurata et al.,  2002 ; Severi et al.,  2012 ) and the original ML model (Maltsev and Lakatta,  2009 ), failed to reproduce the effects of severe and acute perturbations of the system, e.g., the transient reduction in AP BI induced by both caffeine and flash-induced Ca 2+  release (Yaniv et al.,  2013c ).\\nRecognition of the limitations of the traditional common-pool model approach have led to novel pacemaker cell models featuring local Ca 2+  control mechanisms (for review see Maltsev et al.,  2014 ). Thus, newer local control models are more accurate vs. old common pool models: the scale of amplitudes for Ca 2+  dynamics attained locally is higher by as much as two orders of magnitude vs. that predicted by the old models. The common pool models also lack crucial mechanisms of Ca 2+  dynamics, such as diffusion-reaction for the Ca 2+  release, local Ca 2+  pumping and local NCX activity. The first model (Maltsev et al.,  2011a ) generated LCRs via stochastic recruitment of the neighboring CRUs. This model was later updated to include LCR regulation by local interactions with M-clock driving by NCX (Maltsev et al.,  2013 ). The model predicted that when the RyR sensitivity is very high or the NCX density is low, synchronization between the clocks is lost, leading to dysrhythmic AP BI (Maltsev et al.,  2013 ). The most recent and advanced formulations of local Ca 2+  mechanisms in pacemaker cells include stochastic gating of individual RyR and L-type Ca 2+  channels in Ca 2+  diffusion and buffering in 3 dimensions (Stern et al.,  2014 ). The model succeeded in reproducing observed propagating local Ca 2+  releases and realistic pacemaker rates only when RyR locations were assigned taking into account irregular, hierarchical distribution of RyR clusters (small and large) observed in 3D confocal scan sections of immunofluorescence staining.\\n\""
      ]
     },
     "execution_count": 14,
     "metadata": {},
     "output_type": "execute_result"
    }
   ],
   "source": [
    "shortform_texts[5]"
   ]
  },
  {
   "cell_type": "code",
   "execution_count": 4,
   "metadata": {},
   "outputs": [],
   "source": [
    "top = miner.top(15)"
   ]
  },
  {
   "cell_type": "code",
   "execution_count": 6,
   "metadata": {},
   "outputs": [
    {
     "data": {
      "text/plain": [
       "[('behavioral inhibition', 64.07142857142857),\n",
       " ('index', 61.76),\n",
       " ('brief intervention', 53.357142857142854),\n",
       " ('bayesian inference', 36.56410256410256),\n",
       " ('inhibition', 19.81818181818182),\n",
       " ('barthel index', 17.310344827586206),\n",
       " ('intervention', 16.529411764705884),\n",
       " ('the barthel index', 15.333333333333334),\n",
       " ('basal insulin', 10.833333333333334),\n",
       " ('maximum likelihood ml and bayesian inference', 10.5),\n",
       " ('of brief intervention', 10.153846153846153),\n",
       " ('injury', 9.88888888888889),\n",
       " ('brain infarction', 9.833333333333334),\n",
       " ('burn injury', 9.777777777777779),\n",
       " ('insulin', 8.736842105263158)]"
      ]
     },
     "execution_count": 6,
     "metadata": {},
     "output_type": "execute_result"
    }
   ],
   "source": [
    "top"
   ]
  },
  {
   "cell_type": "code",
   "execution_count": 203,
   "metadata": {},
   "outputs": [],
   "source": [
    "longforms = miner.get_longforms(cutoff=2.9)"
   ]
  },
  {
   "cell_type": "code",
   "execution_count": 204,
   "metadata": {},
   "outputs": [
    {
     "data": {
      "text/plain": [
       "[('dose', 46.06060606060606),\n",
       " ('multiple epiphyseal dysplasia', 46.048780487804876),\n",
       " ('mediterranean', 11.2),\n",
       " ('mycoepoxydiene', 11.0),\n",
       " ('medetomidine', 10.5),\n",
       " ('mediator', 10.0),\n",
       " ('metathesis electrodialysis', 6.166666666666667),\n",
       " ('microendoscopic discectomy', 5.0),\n",
       " ('diet', 4.25),\n",
       " ('medical', 3.2),\n",
       " ('b tabaci', 3.0)]"
      ]
     },
     "execution_count": 204,
     "metadata": {},
     "output_type": "execute_result"
    }
   ],
   "source": [
    "longforms"
   ]
  },
  {
   "cell_type": "code",
   "execution_count": 205,
   "metadata": {},
   "outputs": [],
   "source": [
    "longforms = [lf for i, lf in enumerate(longforms) if i in [1, 2, 3, 4, 5, 6, 7]]\n",
    "longforms.extend([top[3], top[7], top[11]])\n",
    "longforms.sort(key=lambda x: -x[1])"
   ]
  },
  {
   "cell_type": "code",
   "execution_count": 206,
   "metadata": {},
   "outputs": [
    {
     "data": {
      "text/plain": [
       "[('multiple epiphyseal dysplasia', 46.048780487804876),\n",
       " ('minimal erythema dose', 14.999999999999996),\n",
       " ('mediterranean', 11.2),\n",
       " ('mycoepoxydiene', 11.0),\n",
       " ('morphine equivalent dose', 10.666666666666666),\n",
       " ('medetomidine', 10.5),\n",
       " ('mediator', 10.0),\n",
       " ('minimal effective dose', 8.0),\n",
       " ('metathesis electrodialysis', 6.166666666666667),\n",
       " ('microendoscopic discectomy', 5.0)]"
      ]
     },
     "execution_count": 206,
     "metadata": {},
     "output_type": "execute_result"
    }
   ],
   "source": [
    "longforms"
   ]
  },
  {
   "cell_type": "code",
   "execution_count": 207,
   "metadata": {},
   "outputs": [],
   "source": [
    "longforms, scores = zip(*longforms)"
   ]
  },
  {
   "cell_type": "code",
   "execution_count": 208,
   "metadata": {},
   "outputs": [],
   "source": [
    "grounding_map = {}\n",
    "for longform in longforms:\n",
    "    grounding = gilda_ground(longform)\n",
    "    if grounding[0]:\n",
    "        grounding_map[longform] = f'{grounding[0]}:{grounding[1]}'"
   ]
  },
  {
   "cell_type": "code",
   "execution_count": 209,
   "metadata": {},
   "outputs": [
    {
     "data": {
      "text/plain": [
       "{'medetomidine': 'CHEBI:CHEBI:48552'}"
      ]
     },
     "execution_count": 209,
     "metadata": {},
     "output_type": "execute_result"
    }
   ],
   "source": [
    "grounding_map"
   ]
  },
  {
   "cell_type": "code",
   "execution_count": 210,
   "metadata": {},
   "outputs": [],
   "source": [
    "result = ground_with_gui(longforms, scores, grounding_map=grounding_map)"
   ]
  },
  {
   "cell_type": "code",
   "execution_count": 211,
   "metadata": {},
   "outputs": [
    {
     "data": {
      "text/plain": [
       "({'medetomidine': 'CHEBI:CHEBI:48552',\n",
       "  'mediator': 'ungrounded',\n",
       "  'mediterranean': 'ungrounded',\n",
       "  'metathesis electrodialysis': 'ungrounded',\n",
       "  'microendoscopic discectomy': 'ungrounded',\n",
       "  'minimal effective dose': 'ungrounded',\n",
       "  'minimal erythema dose': 'ungrounded',\n",
       "  'morphine equivalent dose': 'ungrounded',\n",
       "  'multiple epiphyseal dysplasia': 'MESH:D010009',\n",
       "  'mycoepoxydiene': 'PUBCHEM:11300750'},\n",
       " {'MESH:D010009': 'Osteochondrodysplasias',\n",
       "  'PUBCHEM:11300750': 'Mycoepoxydiene'},\n",
       " ['CHEBI:CHEBI:48552', 'PUBCHEM:11300750'])"
      ]
     },
     "execution_count": 211,
     "metadata": {},
     "output_type": "execute_result"
    }
   ],
   "source": [
    "result"
   ]
  },
  {
   "cell_type": "code",
   "execution_count": 212,
   "metadata": {},
   "outputs": [],
   "source": [
    "grounding_map, names, pos_labels = ({'medetomidine': 'CHEBI:CHEBI:48552',\n",
    "                                     'mediator': 'ungrounded',\n",
    "                                     'mediterranean': 'ungrounded',\n",
    "                                     'metathesis electrodialysis': 'ungrounded',\n",
    "                                     'microendoscopic discectomy': 'ungrounded',\n",
    "                                     'minimal effective dose': 'ungrounded',\n",
    "                                     'minimal erythema dose': 'ungrounded',\n",
    "                                     'morphine equivalent dose': 'ungrounded',\n",
    "                                     'multiple epiphyseal dysplasia': 'MESH:D010009',\n",
    "                                     'mycoepoxydiene': 'PUBCHEM:11300750'},\n",
    "                                     {'MESH:D010009': 'Osteochondrodysplasias',\n",
    "                                      'PUBCHEM:11300750': 'Mycoepoxydiene'},\n",
    "                                     ['CHEBI:CHEBI:48552', 'PUBCHEM:11300750'])"
   ]
  },
  {
   "cell_type": "code",
   "execution_count": 213,
   "metadata": {},
   "outputs": [],
   "source": [
    "grounding_dict = {'MED': grounding_map}"
   ]
  },
  {
   "cell_type": "code",
   "execution_count": 219,
   "metadata": {},
   "outputs": [],
   "source": [
    "classifier = AdeftClassifier('MED', pos_labels)"
   ]
  },
  {
   "cell_type": "code",
   "execution_count": 220,
   "metadata": {},
   "outputs": [
    {
     "data": {
      "text/plain": [
       "43"
      ]
     },
     "execution_count": 220,
     "metadata": {},
     "output_type": "execute_result"
    }
   ],
   "source": [
    "len(texts)"
   ]
  },
  {
   "cell_type": "code",
   "execution_count": 228,
   "metadata": {},
   "outputs": [],
   "source": [
    "param_grid = {'C': [100.0], 'max_features': [1000]}"
   ]
  },
  {
   "cell_type": "code",
   "execution_count": 229,
   "metadata": {},
   "outputs": [],
   "source": [
    "labeler = AdeftLabeler(grounding_dict)"
   ]
  },
  {
   "cell_type": "code",
   "execution_count": 230,
   "metadata": {},
   "outputs": [],
   "source": [
    "corpus = labeler.build_from_texts(shortform_texts)"
   ]
  },
  {
   "cell_type": "code",
   "execution_count": 231,
   "metadata": {},
   "outputs": [],
   "source": [
    "texts, labels = zip(*corpus)"
   ]
  },
  {
   "cell_type": "code",
   "execution_count": 232,
   "metadata": {},
   "outputs": [
    {
     "name": "stderr",
     "output_type": "stream",
     "text": [
      "INFO: [2019-12-17 10:25:47] /Users/albertsteppi/adeft/adeft/modeling/classify.py - Beginning grid search in parameter space:\n",
      "{'C': [100.0], 'max_features': [1000]}\n",
      "INFO: [2019-12-17 10:25:48] /Users/albertsteppi/adeft/adeft/modeling/classify.py - Best f1 score of 0.6633333333333333 found for parameter values:\n",
      "{'logit__C': 100.0, 'tfidf__max_features': 1000}\n"
     ]
    }
   ],
   "source": [
    "classifier.cv(texts, labels, param_grid, cv=5, n_jobs=8)"
   ]
  },
  {
   "cell_type": "code",
   "execution_count": 234,
   "metadata": {},
   "outputs": [
    {
     "data": {
      "text/plain": [
       "{'label_distribution': {'ungrounded': 57,\n",
       "  'CHEBI:CHEBI:48552': 11,\n",
       "  'MESH:D010009': 35,\n",
       "  'PUBCHEM:11300750': 10},\n",
       " 'f1': {'mean': 0.6633333333333333, 'std': 0.1796292478040997},\n",
       " 'precision': {'mean': 0.73, 'std': 0.24819347291981714},\n",
       " 'recall': {'mean': 0.63, 'std': 0.15033296378372907}}"
      ]
     },
     "execution_count": 234,
     "metadata": {},
     "output_type": "execute_result"
    }
   ],
   "source": [
    "classifier.stats"
   ]
  },
  {
   "cell_type": "code",
   "execution_count": 235,
   "metadata": {},
   "outputs": [],
   "source": [
    "disamb = AdeftDisambiguator(classifier, grounding_dict, names)"
   ]
  },
  {
   "cell_type": "code",
   "execution_count": 236,
   "metadata": {},
   "outputs": [
    {
     "data": {
      "text/plain": [
       "('MESH:D010009',\n",
       " 'Osteochondrodysplasias',\n",
       " {'CHEBI:CHEBI:48552': 0.0004532352177294433,\n",
       "  'MESH:D010009': 0.9990150835227889,\n",
       "  'PUBCHEM:11300750': 0.00030488616098269574,\n",
       "  'ungrounded': 0.00022679509849898903})"
      ]
     },
     "execution_count": 236,
     "metadata": {},
     "output_type": "execute_result"
    }
   ],
   "source": [
    "disamb.disambiguate(texts[2])"
   ]
  },
  {
   "cell_type": "code",
   "execution_count": 237,
   "metadata": {},
   "outputs": [],
   "source": [
    "disamb.dump('MED', '../results')"
   ]
  },
  {
   "cell_type": "code",
   "execution_count": 188,
   "metadata": {},
   "outputs": [],
   "source": [
    "from adeft.disambiguate import load_disambiguator"
   ]
  },
  {
   "cell_type": "code",
   "execution_count": 189,
   "metadata": {},
   "outputs": [],
   "source": [
    "d = load_disambiguator('HIR', '../results')"
   ]
  },
  {
   "cell_type": "code",
   "execution_count": 190,
   "metadata": {},
   "outputs": [
    {
     "data": {
      "text/plain": [
       "('HGNC:6091',\n",
       " 'INSR',\n",
       " {'HGNC:6091': 0.9495047219792215,\n",
       "  'MESH:D015427': 0.03378744088190508,\n",
       "  'ungrounded': 0.016707837138873322})"
      ]
     },
     "execution_count": 190,
     "metadata": {},
     "output_type": "execute_result"
    }
   ],
   "source": [
    "d.disambiguate(texts[0])"
   ]
  },
  {
   "cell_type": "code",
   "execution_count": 32,
   "metadata": {},
   "outputs": [],
   "source": [
    "a = load_disambiguator('AR')"
   ]
  },
  {
   "cell_type": "code",
   "execution_count": 33,
   "metadata": {},
   "outputs": [
    {
     "data": {
      "text/plain": [
       "('HGNC:644',\n",
       " 'AR',\n",
       " {'FPLX:ADRB': 4.719192246728643e-10,\n",
       "  'GO:GO:0007340': 1.3624879544267196e-09,\n",
       "  'HGNC:381': 5.2828214761836554e-12,\n",
       "  'HGNC:644': 0.9999384718638125,\n",
       "  'HGNC:651': 1.8656671170325e-12,\n",
       "  'ungrounded': 6.152629463170691e-05})"
      ]
     },
     "execution_count": 33,
     "metadata": {},
     "output_type": "execute_result"
    }
   ],
   "source": [
    "a.disambiguate('Androgen')"
   ]
  },
  {
   "cell_type": "code",
   "execution_count": 36,
   "metadata": {},
   "outputs": [],
   "source": [
    "logit = d.classifier.estimator.named_steps['logit']"
   ]
  },
  {
   "cell_type": "code",
   "execution_count": 37,
   "metadata": {},
   "outputs": [
    {
     "data": {
      "text/plain": [
       "array(['FPLX:AQP', 'FPLX:Macrophage_inflammatory_pro', 'MESH:D000072277',\n",
       "       'polymer', 'ungrounded'], dtype='<U32')"
      ]
     },
     "execution_count": 37,
     "metadata": {},
     "output_type": "execute_result"
    }
   ],
   "source": [
    "logit.classes_"
   ]
  },
  {
   "cell_type": "code",
   "execution_count": null,
   "metadata": {},
   "outputs": [],
   "source": []
  }
 ],
 "metadata": {
  "kernelspec": {
   "display_name": "Python 3",
   "language": "python",
   "name": "python3"
  },
  "language_info": {
   "codemirror_mode": {
    "name": "ipython",
    "version": 3
   },
   "file_extension": ".py",
   "mimetype": "text/x-python",
   "name": "python",
   "nbconvert_exporter": "python",
   "pygments_lexer": "ipython3",
   "version": "3.7.5"
  }
 },
 "nbformat": 4,
 "nbformat_minor": 2
}
