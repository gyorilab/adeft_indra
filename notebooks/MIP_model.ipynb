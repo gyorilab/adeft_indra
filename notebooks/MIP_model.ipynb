{
 "cells": [
  {
   "cell_type": "code",
   "execution_count": 1,
   "metadata": {},
   "outputs": [],
   "source": [
    "import json\n",
    "import pickle\n",
    "\n",
    "from indra.literature.adeft_tools import universal_extract_text\n",
    "\n",
    "from indra_db.util.content_scripts import get_text_content_from_pmids\n",
    "from indra_db.util.content_scripts import get_stmts_with_agent_text_like\n",
    "from indra_db.util.content_scripts import get_text_content_from_stmt_ids\n",
    "\n",
    "from adeft.discover import AdeftMiner\n",
    "from adeft.gui import ground_with_gui\n",
    "from adeft.modeling.label import AdeftLabeler\n",
    "from adeft.modeling.classify import AdeftClassifier\n",
    "from adeft.disambiguate import AdeftDisambiguator\n",
    "\n",
    "from adeft_indra.ground import gilda_ground"
   ]
  },
  {
   "cell_type": "code",
   "execution_count": 2,
   "metadata": {},
   "outputs": [],
   "source": [
    "MIP_stmts = get_stmts_with_agent_text_like('MIP')['MIP']\n",
    "\n",
    "ids, content = get_text_content_from_stmt_ids(MIP_stmts)\n",
    "\n",
    "texts = [universal_extract_text(text, contains=['MIP']) for text in content.values() if text]"
   ]
  },
  {
   "cell_type": "code",
   "execution_count": 3,
   "metadata": {},
   "outputs": [
    {
     "data": {
      "text/plain": [
       "530"
      ]
     },
     "execution_count": 3,
     "metadata": {},
     "output_type": "execute_result"
    }
   ],
   "source": [
    "len(texts)"
   ]
  },
  {
   "cell_type": "code",
   "execution_count": 4,
   "metadata": {},
   "outputs": [],
   "source": [
    "miner = AdeftMiner('MIP')\n",
    "miner.process_texts(texts)"
   ]
  },
  {
   "cell_type": "code",
   "execution_count": 5,
   "metadata": {},
   "outputs": [],
   "source": [
    "top = miner.top(40)"
   ]
  },
  {
   "cell_type": "code",
   "execution_count": 6,
   "metadata": {},
   "outputs": [
    {
     "data": {
      "text/plain": [
       "[('molecularly imprinted polymer', 91.88),\n",
       " ('protein', 56.18),\n",
       " ('macrophage inflammatory protein', 54.31034482758619),\n",
       " ('maximal inspiratory pressure', 38.82051282051282),\n",
       " ('a molecularly imprinted polymer', 27.0),\n",
       " ('maximum intensity projection', 20.363636363636363),\n",
       " ('mycobacterium indicus pranii', 18.85714285714286),\n",
       " ('pressure', 17.93333333333333),\n",
       " ('major intrinsic protein', 17.88888888888889),\n",
       " ('peptide', 17.846153846153847),\n",
       " ('inspiratory pressure', 14.759999999999998),\n",
       " ('and macrophage inflammatory protein', 12.933333333333332),\n",
       " ('minimally invasive parathyroidectomy', 11.8),\n",
       " ('molecularly inversion probe', 11.0),\n",
       " ('of molecularly imprinted polymer', 9.636363636363637),\n",
       " ('malaria in pregnancy', 8.666666666666666),\n",
       " ('maximum inspiratory pressure', 7.777777777777778),\n",
       " ('myoinhibitory peptide', 7.555555555555555),\n",
       " ('intrinsic protein', 6.719999999999999),\n",
       " ('inhibitory peptide', 6.181818181818182),\n",
       " ('a new molecularly imprinted polymer', 6.0),\n",
       " ('myd88 inhibitory peptide', 5.714285714285714),\n",
       " ('the molecularly imprinted polymer', 5.714285714285714),\n",
       " ('the maximal inspiratory pressure', 4.666666666666667),\n",
       " ('the major intrinsic protein', 4.6),\n",
       " ('promoter', 4.0),\n",
       " ('using a molecularly imprinted polymer', 4.0),\n",
       " ('intensity projection', 3.666666666666668),\n",
       " ('interacting protein', 3.6),\n",
       " ('chemokines macrophage inflammatory protein', 3.6),\n",
       " ('myo inositol 1 phosphate', 3.0),\n",
       " ('of malaria in pregnancy', 3.0),\n",
       " ('mitochondrial intermediate peptidase', 2.8),\n",
       " ('the macrophage inflammatory protein', 2.8),\n",
       " ('micropapillary', 2.5),\n",
       " ('main intrinsic protein', 2.5),\n",
       " ('of a molecularly imprinted polymer', 2.5),\n",
       " ('gene', 2.0),\n",
       " ('maximal inspiratory', 2.0),\n",
       " ('macrophage infectivity potential', 2.0)]"
      ]
     },
     "execution_count": 6,
     "metadata": {},
     "output_type": "execute_result"
    }
   ],
   "source": [
    "top"
   ]
  },
  {
   "cell_type": "code",
   "execution_count": 7,
   "metadata": {},
   "outputs": [],
   "source": [
    "longforms = miner.get_longforms(cutoff=5)"
   ]
  },
  {
   "cell_type": "code",
   "execution_count": 8,
   "metadata": {},
   "outputs": [
    {
     "data": {
      "text/plain": [
       "[('molecularly imprinted polymer', 91.88),\n",
       " ('protein', 56.18),\n",
       " ('maximal inspiratory pressure', 38.82051282051282),\n",
       " ('maximum intensity projection', 20.363636363636363),\n",
       " ('mycobacterium indicus pranii', 18.85714285714286),\n",
       " ('peptide', 17.846153846153847),\n",
       " ('minimally invasive parathyroidectomy', 11.8),\n",
       " ('molecularly inversion probe', 11.0),\n",
       " ('malaria in pregnancy', 8.666666666666666)]"
      ]
     },
     "execution_count": 8,
     "metadata": {},
     "output_type": "execute_result"
    }
   ],
   "source": [
    "longforms"
   ]
  },
  {
   "cell_type": "code",
   "execution_count": 9,
   "metadata": {},
   "outputs": [],
   "source": [
    "del longforms[1]\n",
    "\n",
    "del longforms[4]\n",
    "\n",
    "longforms.extend([top[2], top[8], top[17], top[21]])\n",
    "\n",
    "longforms.sort(key=lambda x: -x[1])"
   ]
  },
  {
   "cell_type": "code",
   "execution_count": 10,
   "metadata": {},
   "outputs": [
    {
     "data": {
      "text/plain": [
       "[('molecularly imprinted polymer', 91.88),\n",
       " ('macrophage inflammatory protein', 54.31034482758619),\n",
       " ('maximal inspiratory pressure', 38.82051282051282),\n",
       " ('maximum intensity projection', 20.363636363636363),\n",
       " ('mycobacterium indicus pranii', 18.85714285714286),\n",
       " ('major intrinsic protein', 17.88888888888889),\n",
       " ('minimally invasive parathyroidectomy', 11.8),\n",
       " ('molecularly inversion probe', 11.0),\n",
       " ('malaria in pregnancy', 8.666666666666666),\n",
       " ('myoinhibitory peptide', 7.555555555555555),\n",
       " ('myd88 inhibitory peptide', 5.714285714285714)]"
      ]
     },
     "execution_count": 10,
     "metadata": {},
     "output_type": "execute_result"
    }
   ],
   "source": [
    "longforms"
   ]
  },
  {
   "cell_type": "code",
   "execution_count": 27,
   "metadata": {},
   "outputs": [],
   "source": [
    "longforms, scores = zip(*longforms)"
   ]
  },
  {
   "cell_type": "code",
   "execution_count": 31,
   "metadata": {},
   "outputs": [],
   "source": [
    "grounding_map = {}\n",
    "for longform in longforms:\n",
    "    grounding = gilda_ground(longform)\n",
    "    if grounding[0]:\n",
    "        grounding_map[longform] = f'{grounding[0]}:{grounding[1]}'"
   ]
  },
  {
   "cell_type": "code",
   "execution_count": 32,
   "metadata": {},
   "outputs": [
    {
     "data": {
      "text/plain": [
       "{}"
      ]
     },
     "execution_count": 32,
     "metadata": {},
     "output_type": "execute_result"
    }
   ],
   "source": [
    "grounding_map"
   ]
  },
  {
   "cell_type": "code",
   "execution_count": 30,
   "metadata": {},
   "outputs": [
    {
     "data": {
      "text/plain": [
       "('HGNC', '3467', 'ESR1')"
      ]
     },
     "execution_count": 30,
     "metadata": {},
     "output_type": "execute_result"
    }
   ],
   "source": [
    "gilda_ground('ESR1')"
   ]
  },
  {
   "cell_type": "code",
   "execution_count": 34,
   "metadata": {},
   "outputs": [],
   "source": [
    "result = ground_with_gui(longforms, scores)"
   ]
  },
  {
   "cell_type": "code",
   "execution_count": 35,
   "metadata": {},
   "outputs": [
    {
     "data": {
      "text/plain": [
       "({'macrophage inflammatory protein': 'FPLX:Macrophage_Inflammatory_Proteins',\n",
       "  'major intrinsic protein': 'FPLX:AQP',\n",
       "  'malaria in pregnancy': 'ungrounded',\n",
       "  'maximal inspiratory pressure': 'MESH:D000072277',\n",
       "  'maximum intensity projection': 'ungrounded',\n",
       "  'minimally invasive parathyroidectomy': 'ungrounded',\n",
       "  'molecularly imprinted polymer': 'polymer',\n",
       "  'molecularly inversion probe': 'ungrounded',\n",
       "  'mycobacterium indicus pranii': 'ungrounded',\n",
       "  'myd88 inhibitory peptide': 'ungrounded',\n",
       "  'myoinhibitory peptide': 'ungrounded'},\n",
       " {'FPLX:Macrophage_Inflammatory_Proteins': 'Macrophage_Inflammatory_Proteins',\n",
       "  'FPLX:AQP': 'AQP',\n",
       "  'MESH:D000072277': 'Maximal Respiratory Pressures',\n",
       "  'polymer': 'Molecularly Imprinted Polymer'},\n",
       " ['FPLX:AQP', 'FPLX:Macrophage_Inflammatory_Proteins'])"
      ]
     },
     "execution_count": 35,
     "metadata": {},
     "output_type": "execute_result"
    }
   ],
   "source": [
    "result"
   ]
  },
  {
   "cell_type": "code",
   "execution_count": 36,
   "metadata": {},
   "outputs": [],
   "source": [
    "grounding_map, names, pos_labels = result"
   ]
  },
  {
   "cell_type": "code",
   "execution_count": 37,
   "metadata": {},
   "outputs": [],
   "source": [
    "grounding_dict = {'MIP': grounding_map}"
   ]
  },
  {
   "cell_type": "code",
   "execution_count": 38,
   "metadata": {},
   "outputs": [],
   "source": [
    "classifier = AdeftClassifier('MIP', pos_labels)"
   ]
  },
  {
   "cell_type": "code",
   "execution_count": 39,
   "metadata": {},
   "outputs": [],
   "source": [
    "param_grid = {'C': [100.0], 'max_features': [10000]}"
   ]
  },
  {
   "cell_type": "code",
   "execution_count": 40,
   "metadata": {},
   "outputs": [],
   "source": [
    "labeler = AdeftLabeler(grounding_dict)"
   ]
  },
  {
   "cell_type": "code",
   "execution_count": 41,
   "metadata": {},
   "outputs": [],
   "source": [
    "corpus = labeler.build_from_texts(texts)"
   ]
  },
  {
   "cell_type": "code",
   "execution_count": 43,
   "metadata": {},
   "outputs": [
    {
     "data": {
      "text/plain": [
       "'polymer'"
      ]
     },
     "execution_count": 43,
     "metadata": {},
     "output_type": "execute_result"
    }
   ],
   "source": []
  },
  {
   "cell_type": "code",
   "execution_count": null,
   "metadata": {},
   "outputs": [],
   "source": []
  }
 ],
 "metadata": {
  "kernelspec": {
   "display_name": "Python 3",
   "language": "python",
   "name": "python3"
  },
  "language_info": {
   "codemirror_mode": {
    "name": "ipython",
    "version": 3
   },
   "file_extension": ".py",
   "mimetype": "text/x-python",
   "name": "python",
   "nbconvert_exporter": "python",
   "pygments_lexer": "ipython3",
   "version": "3.7.1"
  }
 },
 "nbformat": 4,
 "nbformat_minor": 2
}
