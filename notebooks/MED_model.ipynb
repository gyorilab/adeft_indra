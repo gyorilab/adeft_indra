{
 "cells": [
  {
   "cell_type": "code",
   "execution_count": 1,
   "metadata": {},
   "outputs": [],
   "source": [
    "import json\n",
    "import pickle\n",
    "\n",
    "from indra.databases.hgnc_client import get_hgnc_name\n",
    "from indra.literature.adeft_tools import universal_extract_text\n",
    "\n",
    "from indra_db.util.content_scripts import get_text_content_from_pmids\n",
    "from indra_db.util.content_scripts import get_stmts_with_agent_text_like\n",
    "from indra_db.util.content_scripts import get_text_content_from_stmt_ids\n",
    "\n",
    "from adeft.discover import AdeftMiner\n",
    "from adeft.gui import ground_with_gui\n",
    "from adeft.modeling.label import AdeftLabeler\n",
    "from adeft.modeling.classify import AdeftClassifier\n",
    "from adeft.disambiguate import AdeftDisambiguator\n",
    "\n",
    "from adeft_indra.ground import gilda_ground"
   ]
  },
  {
   "cell_type": "code",
   "execution_count": 2,
   "metadata": {},
   "outputs": [],
   "source": [
    "shortform = 'MED'\n",
    "genes = ["
   ]
  },
  {
   "cell_type": "code",
   "execution_count": 3,
   "metadata": {},
   "outputs": [],
   "source": [
    "stmts = get_stmts_with_agent_text_like(shortform)[shortform]\n",
    "\n",
    "ids, content = get_text_content_from_stmt_ids(stmts)\n",
    "\n",
    "shortform_texts = [universal_extract_text(text, contains=[shortform]) for text in content.values() if text]\n",
    "\n",
    "miner = AdeftMiner(shortform)\n",
    "miner.process_texts(shortform_texts)"
   ]
  },
  {
   "cell_type": "code",
   "execution_count": 4,
   "metadata": {},
   "outputs": [],
   "source": [
    "Med_stmts = get_stmts_with_agent_text_like('Med')['Med']\n",
    "\n",
    "ids, content = get_text_content_from_stmt_ids(Med_stmts)\n",
    "\n",
    "Med_texts = [universal_extract_text(text, contains=['Med']) for text in content.values() if text]\n",
    "\n",
    "Med_miner = AdeftMiner('Med')\n",
    "Med_miner.process_texts(Med_texts)"
   ]
  },
  {
   "cell_type": "code",
   "execution_count": 5,
   "metadata": {},
   "outputs": [
    {
     "data": {
      "text/plain": [
       "104"
      ]
     },
     "execution_count": 5,
     "metadata": {},
     "output_type": "execute_result"
    }
   ],
   "source": [
    "len(Med_texts)"
   ]
  },
  {
   "cell_type": "markdown",
   "metadata": {},
   "source": [
    "It's then necessary to check if Acromine produced the correct results. We must fix errors manually"
   ]
  },
  {
   "cell_type": "code",
   "execution_count": 6,
   "metadata": {},
   "outputs": [],
   "source": [
    "Med_top = Med_miner.top(15)"
   ]
  },
  {
   "cell_type": "code",
   "execution_count": 7,
   "metadata": {},
   "outputs": [
    {
     "data": {
      "text/plain": [
       "[('medea', 6.0),\n",
       " ('medicarpin', 6.0),\n",
       " ('mad and medea', 2.0),\n",
       " ('mediterranean', 1.0),\n",
       " ('medulloblastoma', 1),\n",
       " ('with medea', 1.0),\n",
       " ('natural pterocarpan medicarpin', 1),\n",
       " ('osteogenic activation was identified in medicarpin', 1),\n",
       " ('as necessitates research into the etiology and therapeutic interventions in this study medicarpin',\n",
       "  1),\n",
       " ('es exerted through inhibition of cancer cell proliferation invasion and metastasis 7 medicarpin',\n",
       "  1),\n",
       " ('en deficiency in experimental animals and humans we have evaluated osteogenic effect of medicarpin',\n",
       "  1),\n",
       " ('for test the combination of med and trail agonists in management of myeloid leukemia medicarpin',\n",
       "  1),\n",
       " ('rly people twenty participants received three diet for 4 weeks each sfa rich diet mediterranean',\n",
       "  1),\n",
       " ('tail of the mothers against dpp mad transcription factor pmad which then interacts with medea',\n",
       "  1),\n",
       " ('tion of target genes by smad family transcription factor including the drosophila mad and medea',\n",
       "  1)]"
      ]
     },
     "execution_count": 7,
     "metadata": {},
     "output_type": "execute_result"
    }
   ],
   "source": [
    "Med_top"
   ]
  },
  {
   "cell_type": "code",
   "execution_count": 8,
   "metadata": {},
   "outputs": [],
   "source": [
    "top = miner.top(15)"
   ]
  },
  {
   "cell_type": "code",
   "execution_count": 9,
   "metadata": {},
   "outputs": [
    {
     "data": {
      "text/plain": [
       "[('dose', 46.06060606060606),\n",
       " ('multiple epiphyseal dysplasia', 46.048780487804876),\n",
       " ('effective dose', 17.52),\n",
       " ('minimal erythema dose', 15.0),\n",
       " ('pseudoachondroplasia psach and multiple epiphyseal dysplasia', 12.8),\n",
       " ('mediterranean', 11.2),\n",
       " ('mycoepoxydiene', 11.0),\n",
       " ('morphine equivalent dose', 10.666666666666666),\n",
       " ('the minimal erythema dose', 10.636363636363637),\n",
       " ('medetomidine', 10.5),\n",
       " ('mediator', 9.999999999999996),\n",
       " ('minimal effective dose', 8.0),\n",
       " ('metathesis electrodialysis', 6.166666666666667),\n",
       " ('microendoscopic discectomy', 5.0),\n",
       " ('by metathesis electrodialysis', 4.75)]"
      ]
     },
     "execution_count": 9,
     "metadata": {},
     "output_type": "execute_result"
    }
   ],
   "source": [
    "top"
   ]
  },
  {
   "cell_type": "code",
   "execution_count": 10,
   "metadata": {},
   "outputs": [],
   "source": [
    "longforms = miner.get_longforms(cutoff=2.9)"
   ]
  },
  {
   "cell_type": "code",
   "execution_count": 11,
   "metadata": {},
   "outputs": [
    {
     "data": {
      "text/plain": [
       "[('dose', 46.06060606060606),\n",
       " ('multiple epiphyseal dysplasia', 46.048780487804876),\n",
       " ('mediterranean', 11.2),\n",
       " ('mycoepoxydiene', 11.0),\n",
       " ('medetomidine', 10.5),\n",
       " ('mediator', 9.999999999999996),\n",
       " ('metathesis electrodialysis', 6.166666666666667),\n",
       " ('microendoscopic discectomy', 5.0),\n",
       " ('diet', 4.25),\n",
       " ('medical', 3.2),\n",
       " ('b tabaci', 3.0)]"
      ]
     },
     "execution_count": 11,
     "metadata": {},
     "output_type": "execute_result"
    }
   ],
   "source": [
    "longforms"
   ]
  },
  {
   "cell_type": "code",
   "execution_count": 12,
   "metadata": {},
   "outputs": [],
   "source": [
    "longforms = [lf for i, lf in enumerate(longforms) if i in [1, 2, 3, 4, 5, 6, 7]]\n",
    "longforms.extend([top[3], top[7], top[11]])\n",
    "longforms.sort(key=lambda x: -x[1])"
   ]
  },
  {
   "cell_type": "code",
   "execution_count": 13,
   "metadata": {},
   "outputs": [
    {
     "data": {
      "text/plain": [
       "[('multiple epiphyseal dysplasia', 46.048780487804876),\n",
       " ('minimal erythema dose', 15.0),\n",
       " ('mediterranean', 11.2),\n",
       " ('mycoepoxydiene', 11.0),\n",
       " ('morphine equivalent dose', 10.666666666666666),\n",
       " ('medetomidine', 10.5),\n",
       " ('mediator', 9.999999999999996),\n",
       " ('minimal effective dose', 8.0),\n",
       " ('metathesis electrodialysis', 6.166666666666667),\n",
       " ('microendoscopic discectomy', 5.0)]"
      ]
     },
     "execution_count": 13,
     "metadata": {},
     "output_type": "execute_result"
    }
   ],
   "source": [
    "longforms"
   ]
  },
  {
   "cell_type": "code",
   "execution_count": 14,
   "metadata": {},
   "outputs": [],
   "source": [
    "longforms, scores = zip(*longforms)"
   ]
  },
  {
   "cell_type": "code",
   "execution_count": 15,
   "metadata": {},
   "outputs": [],
   "source": [
    "grounding_map = {}\n",
    "for longform in longforms:\n",
    "    grounding = gilda_ground(longform)\n",
    "    if grounding[0]:\n",
    "        grounding_map[longform] = f'{grounding[0]}:{grounding[1]}'"
   ]
  },
  {
   "cell_type": "code",
   "execution_count": 209,
   "metadata": {},
   "outputs": [
    {
     "data": {
      "text/plain": [
       "{'medetomidine': 'CHEBI:CHEBI:48552'}"
      ]
     },
     "execution_count": 209,
     "metadata": {},
     "output_type": "execute_result"
    }
   ],
   "source": [
    "grounding_map"
   ]
  },
  {
   "cell_type": "code",
   "execution_count": 210,
   "metadata": {},
   "outputs": [],
   "source": [
    "result = ground_with_gui(longforms, scores, grounding_map=grounding_map)"
   ]
  },
  {
   "cell_type": "code",
   "execution_count": 211,
   "metadata": {},
   "outputs": [
    {
     "data": {
      "text/plain": [
       "({'medetomidine': 'CHEBI:CHEBI:48552',\n",
       "  'mediator': 'ungrounded',\n",
       "  'mediterranean': 'ungrounded',\n",
       "  'metathesis electrodialysis': 'ungrounded',\n",
       "  'microendoscopic discectomy': 'ungrounded',\n",
       "  'minimal effective dose': 'ungrounded',\n",
       "  'minimal erythema dose': 'ungrounded',\n",
       "  'morphine equivalent dose': 'ungrounded',\n",
       "  'multiple epiphyseal dysplasia': 'MESH:D010009',\n",
       "  'mycoepoxydiene': 'PUBCHEM:11300750'},\n",
       " {'MESH:D010009': 'Osteochondrodysplasias',\n",
       "  'PUBCHEM:11300750': 'Mycoepoxydiene'},\n",
       " ['CHEBI:CHEBI:48552', 'PUBCHEM:11300750'])"
      ]
     },
     "execution_count": 211,
     "metadata": {},
     "output_type": "execute_result"
    }
   ],
   "source": [
    "result"
   ]
  },
  {
   "cell_type": "code",
   "execution_count": 212,
   "metadata": {},
   "outputs": [],
   "source": [
    "grounding_map, names, pos_labels = ({'medetomidine': 'CHEBI:CHEBI:48552',\n",
    "                                     'mediator': 'ungrounded',\n",
    "                                     'mediterranean': 'ungrounded',\n",
    "                                     'metathesis electrodialysis': 'ungrounded',\n",
    "                                     'microendoscopic discectomy': 'ungrounded',\n",
    "                                     'minimal effective dose': 'ungrounded',\n",
    "                                     'minimal erythema dose': 'ungrounded',\n",
    "                                     'morphine equivalent dose': 'ungrounded',\n",
    "                                     'multiple epiphyseal dysplasia': 'MESH:D010009',\n",
    "                                     'mycoepoxydiene': 'PUBCHEM:11300750'},\n",
    "                                     {'MESH:D010009': 'Osteochondrodysplasias',\n",
    "                                      'PUBCHEM:11300750': 'Mycoepoxydiene',\n",
    "                                      'CHEBI:CHEBI:48552', 'medetomidine'},\n",
    "                                     ['CHEBI:CHEBI:48552', 'PUBCHEM:11300750'])"
   ]
  },
  {
   "cell_type": "code",
   "execution_count": 213,
   "metadata": {},
   "outputs": [],
   "source": [
    "grounding_dict = {'MED': grounding_map}"
   ]
  },
  {
   "cell_type": "code",
   "execution_count": 219,
   "metadata": {},
   "outputs": [],
   "source": [
    "classifier = AdeftClassifier('MED', pos_labels)"
   ]
  },
  {
   "cell_type": "code",
   "execution_count": 220,
   "metadata": {},
   "outputs": [
    {
     "data": {
      "text/plain": [
       "43"
      ]
     },
     "execution_count": 220,
     "metadata": {},
     "output_type": "execute_result"
    }
   ],
   "source": [
    "len(texts)"
   ]
  },
  {
   "cell_type": "code",
   "execution_count": 228,
   "metadata": {},
   "outputs": [],
   "source": [
    "param_grid = {'C': [100.0], 'max_features': [1000]}"
   ]
  },
  {
   "cell_type": "code",
   "execution_count": 229,
   "metadata": {},
   "outputs": [],
   "source": [
    "labeler = AdeftLabeler(grounding_dict)"
   ]
  },
  {
   "cell_type": "code",
   "execution_count": 230,
   "metadata": {},
   "outputs": [],
   "source": [
    "corpus = labeler.build_from_texts(shortform_texts)"
   ]
  },
  {
   "cell_type": "code",
   "execution_count": 231,
   "metadata": {},
   "outputs": [],
   "source": [
    "texts, labels = zip(*corpus)"
   ]
  },
  {
   "cell_type": "code",
   "execution_count": 232,
   "metadata": {},
   "outputs": [
    {
     "name": "stderr",
     "output_type": "stream",
     "text": [
      "INFO: [2019-12-17 10:25:47] /Users/albertsteppi/adeft/adeft/modeling/classify.py - Beginning grid search in parameter space:\n",
      "{'C': [100.0], 'max_features': [1000]}\n",
      "INFO: [2019-12-17 10:25:48] /Users/albertsteppi/adeft/adeft/modeling/classify.py - Best f1 score of 0.6633333333333333 found for parameter values:\n",
      "{'logit__C': 100.0, 'tfidf__max_features': 1000}\n"
     ]
    }
   ],
   "source": [
    "classifier.cv(texts, labels, param_grid, cv=5, n_jobs=8)"
   ]
  },
  {
   "cell_type": "code",
   "execution_count": 234,
   "metadata": {},
   "outputs": [
    {
     "data": {
      "text/plain": [
       "{'label_distribution': {'ungrounded': 57,\n",
       "  'CHEBI:CHEBI:48552': 11,\n",
       "  'MESH:D010009': 35,\n",
       "  'PUBCHEM:11300750': 10},\n",
       " 'f1': {'mean': 0.6633333333333333, 'std': 0.1796292478040997},\n",
       " 'precision': {'mean': 0.73, 'std': 0.24819347291981714},\n",
       " 'recall': {'mean': 0.63, 'std': 0.15033296378372907}}"
      ]
     },
     "execution_count": 234,
     "metadata": {},
     "output_type": "execute_result"
    }
   ],
   "source": [
    "classifier.stats"
   ]
  },
  {
   "cell_type": "code",
   "execution_count": 235,
   "metadata": {},
   "outputs": [],
   "source": [
    "disamb = AdeftDisambiguator(classifier, grounding_dict, names)"
   ]
  },
  {
   "cell_type": "code",
   "execution_count": 236,
   "metadata": {},
   "outputs": [
    {
     "data": {
      "text/plain": [
       "('MESH:D010009',\n",
       " 'Osteochondrodysplasias',\n",
       " {'CHEBI:CHEBI:48552': 0.0004532352177294433,\n",
       "  'MESH:D010009': 0.9990150835227889,\n",
       "  'PUBCHEM:11300750': 0.00030488616098269574,\n",
       "  'ungrounded': 0.00022679509849898903})"
      ]
     },
     "execution_count": 236,
     "metadata": {},
     "output_type": "execute_result"
    }
   ],
   "source": [
    "disamb.disambiguate(texts[2])"
   ]
  },
  {
   "cell_type": "code",
   "execution_count": 237,
   "metadata": {},
   "outputs": [],
   "source": [
    "disamb.dump('MED', '../results')"
   ]
  },
  {
   "cell_type": "code",
   "execution_count": 188,
   "metadata": {},
   "outputs": [],
   "source": [
    "from adeft.disambiguate import load_disambiguator"
   ]
  },
  {
   "cell_type": "code",
   "execution_count": 189,
   "metadata": {},
   "outputs": [],
   "source": [
    "d = load_disambiguator('HIR', '../results')"
   ]
  },
  {
   "cell_type": "code",
   "execution_count": 190,
   "metadata": {},
   "outputs": [
    {
     "data": {
      "text/plain": [
       "('HGNC:6091',\n",
       " 'INSR',\n",
       " {'HGNC:6091': 0.9495047219792215,\n",
       "  'MESH:D015427': 0.03378744088190508,\n",
       "  'ungrounded': 0.016707837138873322})"
      ]
     },
     "execution_count": 190,
     "metadata": {},
     "output_type": "execute_result"
    }
   ],
   "source": [
    "d.disambiguate(texts[0])"
   ]
  },
  {
   "cell_type": "code",
   "execution_count": 32,
   "metadata": {},
   "outputs": [],
   "source": [
    "a = load_disambiguator('AR')"
   ]
  },
  {
   "cell_type": "code",
   "execution_count": 33,
   "metadata": {},
   "outputs": [
    {
     "data": {
      "text/plain": [
       "('HGNC:644',\n",
       " 'AR',\n",
       " {'FPLX:ADRB': 4.719192246728643e-10,\n",
       "  'GO:GO:0007340': 1.3624879544267196e-09,\n",
       "  'HGNC:381': 5.2828214761836554e-12,\n",
       "  'HGNC:644': 0.9999384718638125,\n",
       "  'HGNC:651': 1.8656671170325e-12,\n",
       "  'ungrounded': 6.152629463170691e-05})"
      ]
     },
     "execution_count": 33,
     "metadata": {},
     "output_type": "execute_result"
    }
   ],
   "source": [
    "a.disambiguate('Androgen')"
   ]
  },
  {
   "cell_type": "code",
   "execution_count": 36,
   "metadata": {},
   "outputs": [],
   "source": [
    "logit = d.classifier.estimator.named_steps['logit']"
   ]
  },
  {
   "cell_type": "code",
   "execution_count": 37,
   "metadata": {},
   "outputs": [
    {
     "data": {
      "text/plain": [
       "array(['FPLX:AQP', 'FPLX:Macrophage_inflammatory_pro', 'MESH:D000072277',\n",
       "       'polymer', 'ungrounded'], dtype='<U32')"
      ]
     },
     "execution_count": 37,
     "metadata": {},
     "output_type": "execute_result"
    }
   ],
   "source": [
    "logit.classes_"
   ]
  },
  {
   "cell_type": "code",
   "execution_count": null,
   "metadata": {},
   "outputs": [],
   "source": []
  }
 ],
 "metadata": {
  "kernelspec": {
   "display_name": "Python 3",
   "language": "python",
   "name": "python3"
  },
  "language_info": {
   "codemirror_mode": {
    "name": "ipython",
    "version": 3
   },
   "file_extension": ".py",
   "mimetype": "text/x-python",
   "name": "python",
   "nbconvert_exporter": "python",
   "pygments_lexer": "ipython3",
   "version": "3.7.5"
  }
 },
 "nbformat": 4,
 "nbformat_minor": 2
}
