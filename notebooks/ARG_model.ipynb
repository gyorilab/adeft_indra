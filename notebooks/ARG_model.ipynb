{
 "cells": [
  {
   "cell_type": "code",
   "execution_count": 1,
   "metadata": {},
   "outputs": [],
   "source": [
    "import json\n",
    "import pickle\n",
    "\n",
    "from indra.literature.adeft_tools import universal_extract_text\n",
    "from indra.databases.hgnc_client import get_hgnc_name, get_hgnc_id\n",
    "\n",
    "from indra_db.util.content_scripts import get_text_content_from_pmids\n",
    "from indra_db.util.content_scripts import get_stmts_with_agent_text_like\n",
    "from indra_db.util.content_scripts import get_text_content_from_stmt_ids\n",
    "\n",
    "from adeft.discover import AdeftMiner\n",
    "from adeft.gui import ground_with_gui\n",
    "from adeft.modeling.label import AdeftLabeler\n",
    "from adeft.modeling.classify import AdeftClassifier\n",
    "from adeft.disambiguate import AdeftDisambiguator\n",
    "\n",
    "from adeft_indra.s3 import model_to_s3\n",
    "from adeft_indra.ground import gilda_ground"
   ]
  },
  {
   "cell_type": "code",
   "execution_count": 2,
   "metadata": {},
   "outputs": [],
   "source": [
    "shortforms = ['ARG']\n",
    "genes = ['ABL2', 'RERE', 'AREG']\n",
    "families = {}\n",
    "groundings = [f'HGNC:{get_hgnc_id(gene)}' for gene in genes]\n",
    "for family, members in families.items():\n",
    "    genes.extend(members)\n",
    "    groundings.append(f'FPLX:{family}')\n",
    "with open('../data/entrez_all_pmids.json', 'r') as f:\n",
    "    all_pmids = json.load(f)"
   ]
  },
  {
   "cell_type": "code",
   "execution_count": 3,
   "metadata": {},
   "outputs": [],
   "source": [
    "entrez_texts = []\n",
    "entrez_refs = set()\n",
    "for gene, grounding in zip(genes, groundings):\n",
    "    try:\n",
    "        pmids = all_pmids[gene]\n",
    "    except KeyError:\n",
    "        continue\n",
    "    _, content = get_text_content_from_pmids(pmids)\n",
    "    entrez_texts.extend([(universal_extract_text(text), grounding)\n",
    "                          for text in content.values() if text])\n",
    "    entrez_refs.update(content.keys())"
   ]
  },
  {
   "cell_type": "code",
   "execution_count": 4,
   "metadata": {},
   "outputs": [],
   "source": [
    "miners = dict()\n",
    "all_texts = set()\n",
    "for shortform in shortforms:\n",
    "    stmts = get_stmts_with_agent_text_like(shortform)[shortform]\n",
    "    _, content = get_text_content_from_stmt_ids(stmts)\n",
    "    shortform_texts = [universal_extract_text(text, contains=shortforms)\n",
    "                       for ref, text in content.items() if text and ref not in entrez_refs]\n",
    "    miners[shortform] = AdeftMiner(shortform)\n",
    "    miners[shortform].process_texts(shortform_texts)\n",
    "    all_texts.union(shortform_texts)"
   ]
  },
  {
   "cell_type": "markdown",
   "metadata": {},
   "source": [
    "It's then necessary to check if Acromine produced the correct results. We must fix errors manually"
   ]
  },
  {
   "cell_type": "code",
   "execution_count": 5,
   "metadata": {},
   "outputs": [],
   "source": [
    "top = miners['ARG'].top()"
   ]
  },
  {
   "cell_type": "code",
   "execution_count": 6,
   "metadata": {},
   "outputs": [
    {
     "data": {
      "text/plain": [
       "[('l arginine', 13.571428571428571),\n",
       " ('arginine', 12.478260869565217),\n",
       " ('arctigenin', 6.0),\n",
       " ('of l arginine', 4.0),\n",
       " ('amphiregulin', 1.3333333333333333),\n",
       " ('arginase', 1.0),\n",
       " ('and amphiregulin', 1.0),\n",
       " ('and arginine', 1.0),\n",
       " ('aggressive response generation', 1.0),\n",
       " ('autologous retinal graft', 1.0),\n",
       " ('herein the interaction of l arginine', 1),\n",
       " ('the therapeutic benefits of l arginine', 1),\n",
       " ('a salient aspect of maladaptive sip aggressive response generation', 1),\n",
       " ('to evaluate the surgical technique using autologous retinal graft', 1),\n",
       " ('this study was aim to examine the effect of l arginine', 1),\n",
       " ('turally and functionally related polypeptides including vaccinia growth factor vgf amphiregulin',\n",
       "  1),\n",
       " ('results of in vivo study indicate dietary n carbamylglutamate ncg and arginine',\n",
       "  1),\n",
       " ('we examine the related contributory role of extracellular vs intracellular l arginine',\n",
       "  1),\n",
       " ('by various etiological factor the seeds derived from arctium lappa that containing arctigenin',\n",
       "  1),\n",
       " ('immunomodulatory property to stimulate the innate and acquired immune response in pigs arctigenin',\n",
       "  1),\n",
       " ('abc appear to improve the limitation 15 therefore we combined the autologous retinal graft',\n",
       "  1),\n",
       " ('actories for overproduction of arg and related compounds that are industrially valuable l arginine',\n",
       "  1),\n",
       " ('e solvent interaction 18 therefore in this article we investigated the feasibility of arginine',\n",
       "  1),\n",
       " ('en s sip the present study probes whether individual differences in aggressive response generation',\n",
       "  1),\n",
       " ('fluence their cellular availability via transport and metabolic interaction the using of l arginine',\n",
       "  1),\n",
       " ('ly describe this phenomenon in terms of thermodynamics and the solute solvent interaction arginine',\n",
       "  1),\n",
       " ('massive differences in solubility enhanced can be attributed to the differences extent of cosolute',\n",
       "  1),\n",
       " ('sue is often unavailable ligands of egfr transforming growth factor alpha tgfa and amphiregulin',\n",
       "  1),\n",
       " ('a s nitrosylation in skeletal muscles nitric oxide no which is synthesized from l arginine',\n",
       "  1),\n",
       " ('d carbamazepine in the presence of the amino acid tyrosine tyr phenylalanine phe and arginine',\n",
       "  1),\n",
       " ('interestingly a recent study describe a novel role for the tyrosine kinase abl related gene',\n",
       "  1),\n",
       " ('physiologically no is produced by the enzyme nitric oxide synthase nos which converts l arginine',\n",
       "  1),\n",
       " ('t intestinal cell migration the initial event in epithelial restitution is enhanced by l arginine',\n",
       "  1),\n",
       " ('tic peptide anp receptors in human renal biopsy specimens by using in vitro micro autoradiography',\n",
       "  1),\n",
       " ('effect on both 3d4 21 cell line and primary porcine alveolar macrophages the effect of arctigenin',\n",
       "  1),\n",
       " ('enten km for endothelial nitric oxide synthase enos as the isolated enzyme to utilize l arginine',\n",
       "  1),\n",
       " ('nd l arginine catabolising enzyme indoleamine 2 3 dioxygenase ido 1 and ido 2 and arginase',\n",
       "  1),\n",
       " ('on crick hydrogen bond alignment figure 1 a 8 9 11 binding of the ligands argininamide',\n",
       "  1),\n",
       " ('stress may be a primary causative factor for the development of cellular arg tolerance l arginine',\n",
       "  1),\n",
       " ('the association process of the solute in the aqueous solute of arg were also determination arginine',\n",
       "  1),\n",
       " ('as process in a vibrational ball mill with l histidine his l lysine lys and l arginine',\n",
       "  1),\n",
       " ('g the sh2 domains of the p85 regulatory subunit of pi3 kinase abl abelson related tyrosine kinase',\n",
       "  1),\n",
       " ('ind by mill selection of aa was based on the binding site at the biological receptors arginine',\n",
       "  1),\n",
       " ('mediated proteolysis the aim of this study was to examine the effect of ingestion of l arginine',\n",
       "  1),\n",
       " ('might be the reason that hep g2 was more sensitive than smmc7721 cell to arg treatment arctigenin',\n",
       "  1),\n",
       " ('to egf ligands using elisa fig 1a y 142 showed comparable binding to hb egf and amphiregulin',\n",
       "  1),\n",
       " ('ed and can be applied for determination of these compounds in rat plasma and rat urine l arginine',\n",
       "  1),\n",
       " ('s on apoptosis related factor e g pi3k p akt nf κb and p53 in hep g2 and smmc7721 arctigenin',\n",
       "  1),\n",
       " ('0 004 than in non hispanic whites β = 0 3 p = 0 71 or hispanic whites β = 1 0 p = 0 35 arginase',\n",
       "  1),\n",
       " ('0 04 mol dm − 3 0 09 mol dm − 3 0 18 mol dm − 3 0 36 mol dm − 3 and 0 73 mol dm − 3 arginine',\n",
       "  1),\n",
       " ('argininamide', 0.0),\n",
       " ('autoradiography', 0.0),\n",
       " ('cosolute', 0.0),\n",
       " ('gene', 0.0),\n",
       " ('generation', 0.0),\n",
       " ('graft', 0.0),\n",
       " ('kinase', 0.0),\n",
       " ('3 arginine', 0.0),\n",
       " ('35 arginase', 0.0),\n",
       " ('and arginase', 0.0),\n",
       " ('containing arctigenin', 0.0),\n",
       " ('determination arginine', 0.0),\n",
       " ('interaction arginine', 0.0),\n",
       " ('ligands argininamide', 0.0),\n",
       " ('micro autoradiography', 0.0),\n",
       " ('of arctigenin', 0.0),\n",
       " ('of arginine', 0.0),\n",
       " ('of cosolute', 0.0),\n",
       " ('pigs arctigenin', 0.0),\n",
       " ('receptors arginine', 0.0),\n",
       " ('related gene', 0.0),\n",
       " ('response generation', 0.0),\n",
       " ('retinal graft', 0.0),\n",
       " ('smmc7721 arctigenin', 0.0),\n",
       " ('treatment arctigenin', 0.0),\n",
       " ('tyrosine kinase', 0.0),\n",
       " ('vgf amphiregulin', 0.0),\n",
       " ('0 35 arginase', 0.0),\n",
       " ('2 and arginase', 0.0),\n",
       " ('abl related gene', 0.0),\n",
       " ('also determination arginine', 0.0),\n",
       " ('and l arginine', 0.0),\n",
       " ('and smmc7721 arctigenin', 0.0),\n",
       " ('arg treatment arctigenin', 0.0),\n",
       " ('biological receptors arginine', 0.0),\n",
       " ('by l arginine', 0.0),\n",
       " ('converts l arginine', 0.0),\n",
       " ('effect of arctigenin', 0.0),\n",
       " ('egf and amphiregulin', 0.0),\n",
       " ('extent of cosolute', 0.0),\n",
       " ('factor vgf amphiregulin', 0.0),\n",
       " ('feasibility of arginine', 0.0),\n",
       " ('from l arginine', 0.0),\n",
       " ('in pigs arctigenin', 0.0),\n",
       " ('intracellular l arginine', 0.0),\n",
       " ('ncg and arginine', 0.0),\n",
       " ('phe and arginine', 0.0),\n",
       " ('related tyrosine kinase', 0.0),\n",
       " ('solvent interaction arginine', 0.0),\n",
       " ('tgfa and amphiregulin', 0.0),\n",
       " ('that containing arctigenin', 0.0),\n",
       " ('the ligands argininamide', 0.0),\n",
       " ('tolerance l arginine', 0.0),\n",
       " ('urine l arginine', 0.0),\n",
       " ('utilize l arginine', 0.0),\n",
       " ('valuable l arginine', 0.0),\n",
       " ('vitro micro autoradiography', 0.0),\n",
       " ('− 3 arginine', 0.0),\n",
       " ('= 0 35 arginase', 0.0),\n",
       " ('abelson related tyrosine kinase', 0.0),\n",
       " ('alpha tgfa and amphiregulin', 0.0),\n",
       " ('arg tolerance l arginine', 0.0),\n",
       " ('benefits of l arginine', 0.0),\n",
       " ('carbamylglutamate ncg and arginine', 0.0),\n",
       " ('differences extent of cosolute', 0.0),\n",
       " ('dm − 3 arginine', 0.0),\n",
       " ('effect of l arginine', 0.0),\n",
       " ('enhanced by l arginine', 0.0),\n",
       " ('g2 and smmc7721 arctigenin', 0.0),\n",
       " ('growth factor vgf amphiregulin', 0.0),\n",
       " ('hb egf and amphiregulin', 0.0),\n",
       " ('ido 2 and arginase', 0.0),\n",
       " ('in aggressive response generation', 0.0),\n",
       " ('in vitro micro autoradiography', 0.0),\n",
       " ('industrially valuable l arginine', 0.0),\n",
       " ('ingestion of l arginine', 0.0),\n",
       " ('interaction of l arginine', 0.0),\n",
       " ('kinase abl related gene', 0.0),\n",
       " ('lappa that containing arctigenin', 0.0),\n",
       " ('lys and l arginine', 0.0),\n",
       " ('of the ligands argininamide', 0.0),\n",
       " ('phenylalanine phe and arginine', 0.0),\n",
       " ('rat urine l arginine', 0.0),\n",
       " ('response in pigs arctigenin', 0.0),\n",
       " ('sip aggressive response generation', 0.0),\n",
       " ('solute solvent interaction arginine', 0.0),\n",
       " ('synthesized from l arginine', 0.0),\n",
       " ('the autologous retinal graft', 0.0),\n",
       " ('the biological receptors arginine', 0.0),\n",
       " ('the effect of arctigenin', 0.0),\n",
       " ('the feasibility of arginine', 0.0),\n",
       " ('to arg treatment arctigenin', 0.0),\n",
       " ('to utilize l arginine', 0.0),\n",
       " ('using autologous retinal graft', 0.0),\n",
       " ('using of l arginine', 0.0),\n",
       " ('vs intracellular l arginine', 0.0),\n",
       " ('were also determination arginine', 0.0),\n",
       " ('which converts l arginine', 0.0),\n",
       " ('abl abelson related tyrosine kinase', 0.0),\n",
       " ('and ido 2 and arginase', 0.0),\n",
       " ('and rat urine l arginine', 0.0),\n",
       " ('arctium lappa that containing arctigenin', 0.0),\n",
       " ('are industrially valuable l arginine', 0.0),\n",
       " ('arg were also determination arginine', 0.0),\n",
       " ('at the biological receptors arginine', 0.0),\n",
       " ('binding of the ligands argininamide', 0.0),\n",
       " ('cell to arg treatment arctigenin', 0.0),\n",
       " ('cellular arg tolerance l arginine', 0.0),\n",
       " ('combined the autologous retinal graft', 0.0),\n",
       " ('differences in aggressive response generation', 0.0),\n",
       " ('enzyme to utilize l arginine', 0.0),\n",
       " ('extracellular vs intracellular l arginine', 0.0),\n",
       " ('factor alpha tgfa and amphiregulin', 0.0),\n",
       " ('hep g2 and smmc7721 arctigenin', 0.0),\n",
       " ('immune response in pigs arctigenin', 0.0),\n",
       " ('investigated the feasibility of arginine', 0.0),\n",
       " ('is enhanced by l arginine', 0.0),\n",
       " ('is synthesized from l arginine', 0.0),\n",
       " ('lysine lys and l arginine', 0.0),\n",
       " ('macrophages the effect of arctigenin', 0.0),\n",
       " ('maladaptive sip aggressive response generation', 0.0),\n",
       " ('mol dm − 3 arginine', 0.0),\n",
       " ('n carbamylglutamate ncg and arginine', 0.0),\n",
       " ('nos which converts l arginine', 0.0),\n",
       " ('of ingestion of l arginine', 0.0),\n",
       " ('p = 0 35 arginase', 0.0),\n",
       " ('technique using autologous retinal graft', 0.0),\n",
       " ('the differences extent of cosolute', 0.0),\n",
       " ('the effect of l arginine', 0.0),\n",
       " ('the interaction of l arginine', 0.0),\n",
       " ('the solute solvent interaction arginine', 0.0),\n",
       " ('the using of l arginine', 0.0),\n",
       " ('therapeutic benefits of l arginine', 0.0),\n",
       " ('to hb egf and amphiregulin', 0.0),\n",
       " ('tyr phenylalanine phe and arginine', 0.0),\n",
       " ('tyrosine kinase abl related gene', 0.0),\n",
       " ('using in vitro micro autoradiography', 0.0),\n",
       " ('vaccinia growth factor vgf amphiregulin', 0.0),\n",
       " ('0 p = 0 35 arginase', 0.0),\n",
       " ('1 and ido 2 and arginase', 0.0),\n",
       " ('11 binding of the ligands argininamide', 0.0),\n",
       " ('73 mol dm − 3 arginine', 0.0),\n",
       " ('acquired immune response in pigs arctigenin', 0.0),\n",
       " ('alveolar macrophages the effect of arctigenin', 0.0),\n",
       " ('and the solute solvent interaction arginine', 0.0),\n",
       " ('binding to hb egf and amphiregulin', 0.0),\n",
       " ('by using in vitro micro autoradiography', 0.0),\n",
       " ('dietary n carbamylglutamate ncg and arginine', 0.0),\n",
       " ('effect of ingestion of l arginine', 0.0),\n",
       " ('examine the effect of l arginine', 0.0),\n",
       " ('from arctium lappa that containing arctigenin', 0.0),\n",
       " ('growth factor alpha tgfa and amphiregulin', 0.0),\n",
       " ('in hep g2 and smmc7721 arctigenin', 0.0),\n",
       " ('including vaccinia growth factor vgf amphiregulin', 0.0),\n",
       " ('individual differences in aggressive response generation', 0.0),\n",
       " ('interaction the using of l arginine', 0.0),\n",
       " ('isolated enzyme to utilize l arginine', 0.0),\n",
       " ('kinase abl abelson related tyrosine kinase', 0.0),\n",
       " ('l lysine lys and l arginine', 0.0),\n",
       " ('of arg were also determination arginine', 0.0),\n",
       " ('of cellular arg tolerance l arginine', 0.0),\n",
       " ('of extracellular vs intracellular l arginine', 0.0),\n",
       " ('of maladaptive sip aggressive response generation', 0.0),\n",
       " ('plasma and rat urine l arginine', 0.0),\n",
       " ('restitution is enhanced by l arginine', 0.0),\n",
       " ('site at the biological receptors arginine', 0.0),\n",
       " ('smmc7721 cell to arg treatment arctigenin', 0.0),\n",
       " ('surgical technique using autologous retinal graft', 0.0),\n",
       " ('synthase nos which converts l arginine', 0.0),\n",
       " ('that are industrially valuable l arginine', 0.0),\n",
       " ('the tyrosine kinase abl related gene', 0.0),\n",
       " ('to the differences extent of cosolute', 0.0),\n",
       " ('tyrosine tyr phenylalanine phe and arginine', 0.0),\n",
       " ('we combined the autologous retinal graft', 0.0),\n",
       " ('we investigated the feasibility of arginine', 0.0),\n",
       " ('which is synthesized from l arginine', 0.0),\n",
       " ('0 73 mol dm − 3 arginine', 0.0),\n",
       " ('1 0 p = 0 35 arginase', 0.0),\n",
       " ('9 11 binding of the ligands argininamide', 0.0),\n",
       " ('acid tyrosine tyr phenylalanine phe and arginine', 0.0),\n",
       " ('and acquired immune response in pigs arctigenin', 0.0),\n",
       " ('article we investigated the feasibility of arginine', 0.0),\n",
       " ('aspect of maladaptive sip aggressive response generation', 0.0),\n",
       " ('attributed to the differences extent of cosolute', 0.0),\n",
       " ('binding site at the biological receptors arginine', 0.0),\n",
       " ('comparable binding to hb egf and amphiregulin', 0.0),\n",
       " ('compounds that are industrially valuable l arginine', 0.0),\n",
       " ('derived from arctium lappa that containing arctigenin', 0.0),\n",
       " ('development of cellular arg tolerance l arginine', 0.0),\n",
       " ('epithelial restitution is enhanced by l arginine', 0.0),\n",
       " ('for the tyrosine kinase abl related gene', 0.0),\n",
       " ('his l lysine lys and l arginine', 0.0),\n",
       " ('ido 1 and ido 2 and arginase', 0.0),\n",
       " ('indicate dietary n carbamylglutamate ncg and arginine', 0.0),\n",
       " ('metabolic interaction the using of l arginine', 0.0),\n",
       " ('no which is synthesized from l arginine', 0.0),\n",
       " ('oxide synthase nos which converts l arginine', 0.0),\n",
       " ('p53 in hep g2 and smmc7721 arctigenin', 0.0),\n",
       " ('pi3 kinase abl abelson related tyrosine kinase', 0.0),\n",
       " ('polypeptides including vaccinia growth factor vgf amphiregulin', 0.0),\n",
       " ('porcine alveolar macrophages the effect of arctigenin', 0.0),\n",
       " ('rat plasma and rat urine l arginine', 0.0),\n",
       " ('role of extracellular vs intracellular l arginine', 0.0),\n",
       " ('solute of arg were also determination arginine', 0.0),\n",
       " ('specimens by using in vitro micro autoradiography', 0.0),\n",
       " ('than smmc7721 cell to arg treatment arctigenin', 0.0),\n",
       " ('the effect of ingestion of l arginine', 0.0),\n",
       " ('the isolated enzyme to utilize l arginine', 0.0),\n",
       " ('the surgical technique using autologous retinal graft', 0.0),\n",
       " ('therefore we combined the autologous retinal graft', 0.0),\n",
       " ('thermodynamics and the solute solvent interaction arginine', 0.0),\n",
       " ('to examine the effect of l arginine', 0.0),\n",
       " ('transforming growth factor alpha tgfa and amphiregulin', 0.0),\n",
       " ('whether individual differences in aggressive response generation', 0.0),\n",
       " ('15 therefore we combined the autologous retinal graft', 0.0),\n",
       " ('8 9 11 binding of the ligands argininamide', 0.0),\n",
       " ('= 1 0 p = 0 35 arginase', 0.0),\n",
       " ('aim to examine the effect of l arginine', 0.0),\n",
       " ('amino acid tyrosine tyr phenylalanine phe and arginine', 0.0),\n",
       " ('and 0 73 mol dm − 3 arginine', 0.0),\n",
       " ('and metabolic interaction the using of l arginine', 0.0),\n",
       " ('and p53 in hep g2 and smmc7721 arctigenin', 0.0),\n",
       " ('aqueous solute of arg were also determination arginine', 0.0),\n",
       " ('as the isolated enzyme to utilize l arginine', 0.0),\n",
       " ('be attributed to the differences extent of cosolute', 0.0),\n",
       " ('biopsy specimens by using in vitro micro autoradiography', 0.0),\n",
       " ('contributory role of extracellular vs intracellular l arginine', 0.0),\n",
       " ('dioxygenase ido 1 and ido 2 and arginase', 0.0),\n",
       " ('egfr transforming growth factor alpha tgfa and amphiregulin', 0.0),\n",
       " ('evaluate the surgical technique using autologous retinal graft', 0.0),\n",
       " ('examine the effect of ingestion of l arginine', 0.0),\n",
       " ('histidine his l lysine lys and l arginine', 0.0),\n",
       " ('in epithelial restitution is enhanced by l arginine', 0.0),\n",
       " ('in rat plasma and rat urine l arginine', 0.0),\n",
       " ('innate and acquired immune response in pigs arctigenin', 0.0),\n",
       " ('nitric oxide synthase nos which converts l arginine', 0.0),\n",
       " ('of pi3 kinase abl abelson related tyrosine kinase', 0.0),\n",
       " ('of thermodynamics and the solute solvent interaction arginine', 0.0),\n",
       " ('oxide no which is synthesized from l arginine', 0.0),\n",
       " ('primary porcine alveolar macrophages the effect of arctigenin', 0.0),\n",
       " ('probes whether individual differences in aggressive response generation',\n",
       "  0.0),\n",
       " ('related compounds that are industrially valuable l arginine', 0.0),\n",
       " ('related polypeptides including vaccinia growth factor vgf amphiregulin',\n",
       "  0.0),\n",
       " ('role for the tyrosine kinase abl related gene', 0.0),\n",
       " ('salient aspect of maladaptive sip aggressive response generation', 0.0),\n",
       " ('seeds derived from arctium lappa that containing arctigenin', 0.0),\n",
       " ('sensitive than smmc7721 cell to arg treatment arctigenin', 0.0),\n",
       " ('showed comparable binding to hb egf and amphiregulin', 0.0),\n",
       " ('study indicate dietary n carbamylglutamate ncg and arginine', 0.0),\n",
       " ('the binding site at the biological receptors arginine', 0.0),\n",
       " ('the development of cellular arg tolerance l arginine', 0.0),\n",
       " ('this article we investigated the feasibility of arginine', 0.0),\n",
       " ('142 showed comparable binding to hb egf and amphiregulin', 0.0),\n",
       " ('3 and 0 73 mol dm − 3 arginine', 0.0),\n",
       " ('3 dioxygenase ido 1 and ido 2 and arginase', 0.0),\n",
       " ('a 8 9 11 binding of the ligands argininamide', 0.0),\n",
       " ('and primary porcine alveolar macrophages the effect of arctigenin', 0.0),\n",
       " ('and related compounds that are industrially valuable l arginine', 0.0),\n",
       " ('can be attributed to the differences extent of cosolute', 0.0),\n",
       " ('compounds in rat plasma and rat urine l arginine', 0.0),\n",
       " ('enos as the isolated enzyme to utilize l arginine', 0.0),\n",
       " ('enzyme nitric oxide synthase nos which converts l arginine', 0.0),\n",
       " ('event in epithelial restitution is enhanced by l arginine', 0.0),\n",
       " ('for the development of cellular arg tolerance l arginine', 0.0),\n",
       " ('functionally related polypeptides including vaccinia growth factor vgf amphiregulin',\n",
       "  0.0),\n",
       " ('in this article we investigated the feasibility of arginine', 0.0),\n",
       " ('l histidine his l lysine lys and l arginine', 0.0),\n",
       " ('limitation 15 therefore we combined the autologous retinal graft', 0.0),\n",
       " ('more sensitive than smmc7721 cell to arg treatment arctigenin', 0.0),\n",
       " ('nitric oxide no which is synthesized from l arginine', 0.0),\n",
       " ('novel role for the tyrosine kinase abl related gene', 0.0),\n",
       " ('of egfr transforming growth factor alpha tgfa and amphiregulin', 0.0),\n",
       " ('on the binding site at the biological receptors arginine', 0.0),\n",
       " ('related contributory role of extracellular vs intracellular l arginine',\n",
       "  0.0),\n",
       " ('renal biopsy specimens by using in vitro micro autoradiography', 0.0),\n",
       " ('study probes whether individual differences in aggressive response generation',\n",
       "  0.0),\n",
       " ('subunit of pi3 kinase abl abelson related tyrosine kinase', 0.0),\n",
       " ('terms of thermodynamics and the solute solvent interaction arginine', 0.0),\n",
       " ('the amino acid tyrosine tyr phenylalanine phe and arginine', 0.0),\n",
       " ('the aqueous solute of arg were also determination arginine', 0.0),\n",
       " ('the innate and acquired immune response in pigs arctigenin', 0.0),\n",
       " ('the seeds derived from arctium lappa that containing arctigenin', 0.0),\n",
       " ('to examine the effect of ingestion of l arginine', 0.0),\n",
       " ('transport and metabolic interaction the using of l arginine', 0.0),\n",
       " ('vivo study indicate dietary n carbamylglutamate ncg and arginine', 0.0),\n",
       " ('was aim to examine the effect of l arginine', 0.0),\n",
       " ('β = 1 0 p = 0 35 arginase', 0.0),\n",
       " ('κb and p53 in hep g2 and smmc7721 arctigenin', 0.0),\n",
       " ('1 a 8 9 11 binding of the ligands argininamide', 0.0),\n",
       " ('2 3 dioxygenase ido 1 and ido 2 and arginase', 0.0),\n",
       " ('a novel role for the tyrosine kinase abl related gene', 0.0),\n",
       " ('and functionally related polypeptides including vaccinia growth factor vgf amphiregulin',\n",
       "  0.0),\n",
       " ('arg and related compounds that are industrially valuable l arginine', 0.0),\n",
       " ('based on the binding site at the biological receptors arginine', 0.0),\n",
       " ('enhanced can be attributed to the differences extent of cosolute', 0.0),\n",
       " ('factor for the development of cellular arg tolerance l arginine', 0.0),\n",
       " ('factor the seeds derived from arctium lappa that containing arctigenin',\n",
       "  0.0),\n",
       " ('human renal biopsy specimens by using in vitro micro autoradiography', 0.0),\n",
       " ('in terms of thermodynamics and the solute solvent interaction arginine',\n",
       "  0.0),\n",
       " ('in the aqueous solute of arg were also determination arginine', 0.0),\n",
       " ('in vivo study indicate dietary n carbamylglutamate ncg and arginine', 0.0),\n",
       " ('initial event in epithelial restitution is enhanced by l arginine', 0.0),\n",
       " ('ligands of egfr transforming growth factor alpha tgfa and amphiregulin',\n",
       "  0.0),\n",
       " ('line and primary porcine alveolar macrophages the effect of arctigenin',\n",
       "  0.0),\n",
       " ('muscles nitric oxide no which is synthesized from l arginine', 0.0),\n",
       " ('nf κb and p53 in hep g2 and smmc7721 arctigenin', 0.0),\n",
       " ('of the amino acid tyrosine tyr phenylalanine phe and arginine', 0.0),\n",
       " ('present study probes whether individual differences in aggressive response generation',\n",
       "  0.0),\n",
       " ('regulatory subunit of pi3 kinase abl abelson related tyrosine kinase', 0.0),\n",
       " ('stimulate the innate and acquired immune response in pigs arctigenin', 0.0),\n",
       " ('study was aim to examine the effect of l arginine', 0.0),\n",
       " ('synthase enos as the isolated enzyme to utilize l arginine', 0.0),\n",
       " ('the enzyme nitric oxide synthase nos which converts l arginine', 0.0),\n",
       " ('the limitation 15 therefore we combined the autologous retinal graft', 0.0),\n",
       " ('the related contributory role of extracellular vs intracellular l arginine',\n",
       "  0.0),\n",
       " ('therefore in this article we investigated the feasibility of arginine',\n",
       "  0.0),\n",
       " ('these compounds in rat plasma and rat urine l arginine', 0.0),\n",
       " ('via transport and metabolic interaction the using of l arginine', 0.0),\n",
       " ('was more sensitive than smmc7721 cell to arg treatment arctigenin', 0.0),\n",
       " ('was to examine the effect of ingestion of l arginine', 0.0),\n",
       " ('whites β = 1 0 p = 0 35 arginase', 0.0),\n",
       " ('with l histidine his l lysine lys and l arginine', 0.0),\n",
       " ('y 142 showed comparable binding to hb egf and amphiregulin', 0.0),\n",
       " ('− 3 and 0 73 mol dm − 3 arginine', 0.0),\n",
       " ('18 therefore in this article we investigated the feasibility of arginine',\n",
       "  0.0),\n",
       " ('1a y 142 showed comparable binding to hb egf and amphiregulin', 0.0),\n",
       " ('akt nf κb and p53 in hep g2 and smmc7721 arctigenin', 0.0),\n",
       " ('availability via transport and metabolic interaction the using of l arginine',\n",
       "  0.0),\n",
       " ('by the enzyme nitric oxide synthase nos which converts l arginine', 0.0),\n",
       " ('causative factor for the development of cellular arg tolerance l arginine',\n",
       "  0.0),\n",
       " ('cell line and primary porcine alveolar macrophages the effect of arctigenin',\n",
       "  0.0),\n",
       " ('describe a novel role for the tyrosine kinase abl related gene', 0.0),\n",
       " ('dm − 3 and 0 73 mol dm − 3 arginine', 0.0),\n",
       " ('etiological factor the seeds derived from arctium lappa that containing arctigenin',\n",
       "  0.0),\n",
       " ('examine the related contributory role of extracellular vs intracellular l arginine',\n",
       "  0.0),\n",
       " ('figure 1 a 8 9 11 binding of the ligands argininamide', 0.0),\n",
       " ('g2 was more sensitive than smmc7721 cell to arg treatment arctigenin', 0.0),\n",
       " ('hispanic whites β = 1 0 p = 0 35 arginase', 0.0),\n",
       " ('improve the limitation 15 therefore we combined the autologous retinal graft',\n",
       "  0.0),\n",
       " ('in human renal biopsy specimens by using in vitro micro autoradiography',\n",
       "  0.0),\n",
       " ('indoleamine 2 3 dioxygenase ido 1 and ido 2 and arginase', 0.0),\n",
       " ('mill with l histidine his l lysine lys and l arginine', 0.0),\n",
       " ('of arg and related compounds that are industrially valuable l arginine',\n",
       "  0.0),\n",
       " ('of in vivo study indicate dietary n carbamylglutamate ncg and arginine',\n",
       "  0.0),\n",
       " ('of these compounds in rat plasma and rat urine l arginine', 0.0),\n",
       " ('oxide synthase enos as the isolated enzyme to utilize l arginine', 0.0),\n",
       " ('p85 regulatory subunit of pi3 kinase abl abelson related tyrosine kinase',\n",
       "  0.0),\n",
       " ('phenomenon in terms of thermodynamics and the solute solvent interaction arginine',\n",
       "  0.0),\n",
       " ('presence of the amino acid tyrosine tyr phenylalanine phe and arginine',\n",
       "  0.0),\n",
       " ('skeletal muscles nitric oxide no which is synthesized from l arginine',\n",
       "  0.0),\n",
       " ('solubility enhanced can be attributed to the differences extent of cosolute',\n",
       "  0.0),\n",
       " ('solute in the aqueous solute of arg were also determination arginine', 0.0),\n",
       " ('study was to examine the effect of ingestion of l arginine', 0.0),\n",
       " ('the initial event in epithelial restitution is enhanced by l arginine',\n",
       "  0.0),\n",
       " ('the present study probes whether individual differences in aggressive response generation',\n",
       "  0.0),\n",
       " ('to stimulate the innate and acquired immune response in pigs arctigenin',\n",
       "  0.0),\n",
       " ('unavailable ligands of egfr transforming growth factor alpha tgfa and amphiregulin',\n",
       "  0.0),\n",
       " ('was based on the binding site at the biological receptors arginine', 0.0),\n",
       " ('21 cell line and primary porcine alveolar macrophages the effect of arctigenin',\n",
       "  0.0),\n",
       " ('aa was based on the binding site at the biological receptors arginine',\n",
       "  0.0),\n",
       " ('alignment figure 1 a 8 9 11 binding of the ligands argininamide', 0.0),\n",
       " ('ball mill with l histidine his l lysine lys and l arginine', 0.0),\n",
       " ('cellular availability via transport and metabolic interaction the using of l arginine',\n",
       "  0.0),\n",
       " ('determination of these compounds in rat plasma and rat urine l arginine',\n",
       "  0.0),\n",
       " ('enzyme indoleamine 2 3 dioxygenase ido 1 and ido 2 and arginase', 0.0),\n",
       " ('fig 1a y 142 showed comparable binding to hb egf and amphiregulin', 0.0),\n",
       " ('hep g2 was more sensitive than smmc7721 cell to arg treatment arctigenin',\n",
       "  0.0),\n",
       " ('in skeletal muscles nitric oxide no which is synthesized from l arginine',\n",
       "  0.0),\n",
       " ('in solubility enhanced can be attributed to the differences extent of cosolute',\n",
       "  0.0),\n",
       " ('interaction 18 therefore in this article we investigated the feasibility of arginine',\n",
       "  0.0),\n",
       " ('migration the initial event in epithelial restitution is enhanced by l arginine',\n",
       "  0.0),\n",
       " ('mol dm − 3 and 0 73 mol dm − 3 arginine', 0.0),\n",
       " ('nitric oxide synthase enos as the isolated enzyme to utilize l arginine',\n",
       "  0.0),\n",
       " ('often unavailable ligands of egfr transforming growth factor alpha tgfa and amphiregulin',\n",
       "  0.0),\n",
       " ('or hispanic whites β = 1 0 p = 0 35 arginase', 0.0),\n",
       " ('overproduction of arg and related compounds that are industrially valuable l arginine',\n",
       "  0.0),\n",
       " ('p akt nf κb and p53 in hep g2 and smmc7721 arctigenin', 0.0),\n",
       " ('primary causative factor for the development of cellular arg tolerance l arginine',\n",
       "  0.0),\n",
       " ('produced by the enzyme nitric oxide synthase nos which converts l arginine',\n",
       "  0.0),\n",
       " ('property to stimulate the innate and acquired immune response in pigs arctigenin',\n",
       "  0.0),\n",
       " ('receptors in human renal biopsy specimens by using in vitro micro autoradiography',\n",
       "  0.0),\n",
       " ('sip the present study probes whether individual differences in aggressive response generation',\n",
       "  0.0),\n",
       " ('study describe a novel role for the tyrosine kinase abl related gene', 0.0),\n",
       " ('the p85 regulatory subunit of pi3 kinase abl abelson related tyrosine kinase',\n",
       "  0.0),\n",
       " ('the presence of the amino acid tyrosine tyr phenylalanine phe and arginine',\n",
       "  0.0),\n",
       " ('the solute in the aqueous solute of arg were also determination arginine',\n",
       "  0.0),\n",
       " ('this phenomenon in terms of thermodynamics and the solute solvent interaction arginine',\n",
       "  0.0),\n",
       " ('this study was to examine the effect of ingestion of l arginine', 0.0),\n",
       " ('to improve the limitation 15 therefore we combined the autologous retinal graft',\n",
       "  0.0),\n",
       " ('various etiological factor the seeds derived from arctium lappa that containing arctigenin',\n",
       "  0.0),\n",
       " ('36 mol dm − 3 and 0 73 mol dm − 3 arginine', 0.0),\n",
       " ('3d4 21 cell line and primary porcine alveolar macrophages the effect of arctigenin',\n",
       "  0.0),\n",
       " ('71 or hispanic whites β = 1 0 p = 0 35 arginase', 0.0),\n",
       " ('a primary causative factor for the development of cellular arg tolerance l arginine',\n",
       "  0.0),\n",
       " ('anp receptors in human renal biopsy specimens by using in vitro micro autoradiography',\n",
       "  0.0),\n",
       " ('appear to improve the limitation 15 therefore we combined the autologous retinal graft',\n",
       "  0.0),\n",
       " ('bond alignment figure 1 a 8 9 11 binding of the ligands argininamide', 0.0),\n",
       " ('catabolising enzyme indoleamine 2 3 dioxygenase ido 1 and ido 2 and arginase',\n",
       "  0.0),\n",
       " ('cell migration the initial event in epithelial restitution is enhanced by l arginine',\n",
       "  0.0),\n",
       " ('describe this phenomenon in terms of thermodynamics and the solute solvent interaction arginine',\n",
       "  0.0),\n",
       " ('differences in solubility enhanced can be attributed to the differences extent of cosolute',\n",
       "  0.0),\n",
       " ('elisa fig 1a y 142 showed comparable binding to hb egf and amphiregulin',\n",
       "  0.0),\n",
       " ('endothelial nitric oxide synthase enos as the isolated enzyme to utilize l arginine',\n",
       "  0.0),\n",
       " ('for determination of these compounds in rat plasma and rat urine l arginine',\n",
       "  0.0),\n",
       " ('for overproduction of arg and related compounds that are industrially valuable l arginine',\n",
       "  0.0),\n",
       " ('in the presence of the amino acid tyrosine tyr phenylalanine phe and arginine',\n",
       "  0.0),\n",
       " ('is often unavailable ligands of egfr transforming growth factor alpha tgfa and amphiregulin',\n",
       "  0.0),\n",
       " ('is produced by the enzyme nitric oxide synthase nos which converts l arginine',\n",
       "  0.0),\n",
       " ('nitrosylation in skeletal muscles nitric oxide no which is synthesized from l arginine',\n",
       "  0.0),\n",
       " ('of aa was based on the binding site at the biological receptors arginine',\n",
       "  0.0),\n",
       " ('of the p85 regulatory subunit of pi3 kinase abl abelson related tyrosine kinase',\n",
       "  0.0),\n",
       " ('of the solute in the aqueous solute of arg were also determination arginine',\n",
       "  0.0),\n",
       " ('of this study was to examine the effect of ingestion of l arginine', 0.0),\n",
       " ('pi3k p akt nf κb and p53 in hep g2 and smmc7721 arctigenin', 0.0),\n",
       " ('recent study describe a novel role for the tyrosine kinase abl related gene',\n",
       "  0.0),\n",
       " ('s sip the present study probes whether individual differences in aggressive response generation',\n",
       "  0.0),\n",
       " ('solvent interaction 18 therefore in this article we investigated the feasibility of arginine',\n",
       "  0.0),\n",
       " ('that hep g2 was more sensitive than smmc7721 cell to arg treatment arctigenin',\n",
       "  0.0),\n",
       " ('their cellular availability via transport and metabolic interaction the using of l arginine',\n",
       "  0.0),\n",
       " ('vibrational ball mill with l histidine his l lysine lys and l arginine',\n",
       "  0.0),\n",
       " ('0 36 mol dm − 3 and 0 73 mol dm − 3 arginine', 0.0),\n",
       " ('0 71 or hispanic whites β = 1 0 p = 0 35 arginase', 0.0),\n",
       " ('a recent study describe a novel role for the tyrosine kinase abl related gene',\n",
       "  0.0),\n",
       " ('a vibrational ball mill with l histidine his l lysine lys and l arginine',\n",
       "  0.0),\n",
       " ('aim of this study was to examine the effect of ingestion of l arginine',\n",
       "  0.0),\n",
       " ('applied for determination of these compounds in rat plasma and rat urine l arginine',\n",
       "  0.0),\n",
       " ('arginine catabolising enzyme indoleamine 2 3 dioxygenase ido 1 and ido 2 and arginase',\n",
       "  0.0),\n",
       " ('be a primary causative factor for the development of cellular arg tolerance l arginine',\n",
       "  0.0),\n",
       " ('both 3d4 21 cell line and primary porcine alveolar macrophages the effect of arctigenin',\n",
       "  0.0),\n",
       " ('carbamazepine in the presence of the amino acid tyrosine tyr phenylalanine phe and arginine',\n",
       "  0.0),\n",
       " ('domains of the p85 regulatory subunit of pi3 kinase abl abelson related tyrosine kinase',\n",
       "  0.0),\n",
       " ('for endothelial nitric oxide synthase enos as the isolated enzyme to utilize l arginine',\n",
       "  0.0),\n",
       " ('g pi3k p akt nf κb and p53 in hep g2 and smmc7721 arctigenin', 0.0),\n",
       " ('hydrogen bond alignment figure 1 a 8 9 11 binding of the ligands argininamide',\n",
       "  0.0),\n",
       " ('intestinal cell migration the initial event in epithelial restitution is enhanced by l arginine',\n",
       "  0.0),\n",
       " ('no is produced by the enzyme nitric oxide synthase nos which converts l arginine',\n",
       "  0.0),\n",
       " ('peptide anp receptors in human renal biopsy specimens by using in vitro micro autoradiography',\n",
       "  0.0),\n",
       " ('process of the solute in the aqueous solute of arg were also determination arginine',\n",
       "  0.0),\n",
       " ('reason that hep g2 was more sensitive than smmc7721 cell to arg treatment arctigenin',\n",
       "  0.0),\n",
       " ('s nitrosylation in skeletal muscles nitric oxide no which is synthesized from l arginine',\n",
       "  0.0),\n",
       " ('selection of aa was based on the binding site at the biological receptors arginine',\n",
       "  0.0),\n",
       " ('using elisa fig 1a y 142 showed comparable binding to hb egf and amphiregulin',\n",
       "  0.0),\n",
       " ('3 0 36 mol dm − 3 and 0 73 mol dm − 3 arginine', 0.0),\n",
       " ('= 0 71 or hispanic whites β = 1 0 p = 0 35 arginase', 0.0),\n",
       " ('association process of the solute in the aqueous solute of arg were also determination arginine',\n",
       "  0.0),\n",
       " ('be applied for determination of these compounds in rat plasma and rat urine l arginine',\n",
       "  0.0),\n",
       " ('crick hydrogen bond alignment figure 1 a 8 9 11 binding of the ligands argininamide',\n",
       "  0.0),\n",
       " ('e g pi3k p akt nf κb and p53 in hep g2 and smmc7721 arctigenin', 0.0),\n",
       " ('in a vibrational ball mill with l histidine his l lysine lys and l arginine',\n",
       "  0.0),\n",
       " ('km for endothelial nitric oxide synthase enos as the isolated enzyme to utilize l arginine',\n",
       "  0.0),\n",
       " ('l arginine catabolising enzyme indoleamine 2 3 dioxygenase ido 1 and ido 2 and arginase',\n",
       "  0.0),\n",
       " ('ligands using elisa fig 1a y 142 showed comparable binding to hb egf and amphiregulin',\n",
       "  0.0),\n",
       " ('may be a primary causative factor for the development of cellular arg tolerance l arginine',\n",
       "  0.0),\n",
       " ('mill selection of aa was based on the binding site at the biological receptors arginine',\n",
       "  0.0),\n",
       " ('on both 3d4 21 cell line and primary porcine alveolar macrophages the effect of arctigenin',\n",
       "  0.0),\n",
       " ('sh2 domains of the p85 regulatory subunit of pi3 kinase abl abelson related tyrosine kinase',\n",
       "  0.0),\n",
       " ('the aim of this study was to examine the effect of ingestion of l arginine',\n",
       "  0.0),\n",
       " ('the reason that hep g2 was more sensitive than smmc7721 cell to arg treatment arctigenin',\n",
       "  0.0),\n",
       " ('be the reason that hep g2 was more sensitive than smmc7721 cell to arg treatment arctigenin',\n",
       "  0.0),\n",
       " ('by mill selection of aa was based on the binding site at the biological receptors arginine',\n",
       "  0.0),\n",
       " ('can be applied for determination of these compounds in rat plasma and rat urine l arginine',\n",
       "  0.0),\n",
       " ('egf ligands using elisa fig 1a y 142 showed comparable binding to hb egf and amphiregulin',\n",
       "  0.0),\n",
       " ('factor e g pi3k p akt nf κb and p53 in hep g2 and smmc7721 arctigenin',\n",
       "  0.0),\n",
       " ('p = 0 71 or hispanic whites β = 1 0 p = 0 35 arginase', 0.0),\n",
       " ('process in a vibrational ball mill with l histidine his l lysine lys and l arginine',\n",
       "  0.0),\n",
       " ('proteolysis the aim of this study was to examine the effect of ingestion of l arginine',\n",
       "  0.0),\n",
       " ('the sh2 domains of the p85 regulatory subunit of pi3 kinase abl abelson related tyrosine kinase',\n",
       "  0.0),\n",
       " ('− 3 0 36 mol dm − 3 and 0 73 mol dm − 3 arginine', 0.0),\n",
       " ('3 p = 0 71 or hispanic whites β = 1 0 p = 0 35 arginase', 0.0),\n",
       " ('and can be applied for determination of these compounds in rat plasma and rat urine l arginine',\n",
       "  0.0),\n",
       " ('dm − 3 0 36 mol dm − 3 and 0 73 mol dm − 3 arginine', 0.0),\n",
       " ('related factor e g pi3k p akt nf κb and p53 in hep g2 and smmc7721 arctigenin',\n",
       "  0.0),\n",
       " ('0 3 p = 0 71 or hispanic whites β = 1 0 p = 0 35 arginase', 0.0),\n",
       " ('apoptosis related factor e g pi3k p akt nf κb and p53 in hep g2 and smmc7721 arctigenin',\n",
       "  0.0),\n",
       " ('mol dm − 3 0 36 mol dm − 3 and 0 73 mol dm − 3 arginine', 0.0),\n",
       " ('18 mol dm − 3 0 36 mol dm − 3 and 0 73 mol dm − 3 arginine', 0.0),\n",
       " ('= 0 3 p = 0 71 or hispanic whites β = 1 0 p = 0 35 arginase', 0.0),\n",
       " ('on apoptosis related factor e g pi3k p akt nf κb and p53 in hep g2 and smmc7721 arctigenin',\n",
       "  0.0),\n",
       " ('0 18 mol dm − 3 0 36 mol dm − 3 and 0 73 mol dm − 3 arginine', 0.0),\n",
       " ('β = 0 3 p = 0 71 or hispanic whites β = 1 0 p = 0 35 arginase', 0.0),\n",
       " ('3 0 18 mol dm − 3 0 36 mol dm − 3 and 0 73 mol dm − 3 arginine', 0.0),\n",
       " ('whites β = 0 3 p = 0 71 or hispanic whites β = 1 0 p = 0 35 arginase', 0.0),\n",
       " ('hispanic whites β = 0 3 p = 0 71 or hispanic whites β = 1 0 p = 0 35 arginase',\n",
       "  0.0),\n",
       " ('− 3 0 18 mol dm − 3 0 36 mol dm − 3 and 0 73 mol dm − 3 arginine', 0.0),\n",
       " ('dm − 3 0 18 mol dm − 3 0 36 mol dm − 3 and 0 73 mol dm − 3 arginine', 0.0),\n",
       " ('non hispanic whites β = 0 3 p = 0 71 or hispanic whites β = 1 0 p = 0 35 arginase',\n",
       "  0.0),\n",
       " ('in non hispanic whites β = 0 3 p = 0 71 or hispanic whites β = 1 0 p = 0 35 arginase',\n",
       "  0.0),\n",
       " ('mol dm − 3 0 18 mol dm − 3 0 36 mol dm − 3 and 0 73 mol dm − 3 arginine',\n",
       "  0.0),\n",
       " ('09 mol dm − 3 0 18 mol dm − 3 0 36 mol dm − 3 and 0 73 mol dm − 3 arginine',\n",
       "  0.0),\n",
       " ('than in non hispanic whites β = 0 3 p = 0 71 or hispanic whites β = 1 0 p = 0 35 arginase',\n",
       "  0.0),\n",
       " ('0 09 mol dm − 3 0 18 mol dm − 3 0 36 mol dm − 3 and 0 73 mol dm − 3 arginine',\n",
       "  0.0),\n",
       " ('004 than in non hispanic whites β = 0 3 p = 0 71 or hispanic whites β = 1 0 p = 0 35 arginase',\n",
       "  0.0),\n",
       " ('3 0 09 mol dm − 3 0 18 mol dm − 3 0 36 mol dm − 3 and 0 73 mol dm − 3 arginine',\n",
       "  0.0),\n",
       " ('− 3 0 09 mol dm − 3 0 18 mol dm − 3 0 36 mol dm − 3 and 0 73 mol dm − 3 arginine',\n",
       "  0.0),\n",
       " ('dm − 3 0 09 mol dm − 3 0 18 mol dm − 3 0 36 mol dm − 3 and 0 73 mol dm − 3 arginine',\n",
       "  0.0),\n",
       " ('mol dm − 3 0 09 mol dm − 3 0 18 mol dm − 3 0 36 mol dm − 3 and 0 73 mol dm − 3 arginine',\n",
       "  0.0),\n",
       " ('04 mol dm − 3 0 09 mol dm − 3 0 18 mol dm − 3 0 36 mol dm − 3 and 0 73 mol dm − 3 arginine',\n",
       "  0.0)]"
      ]
     },
     "execution_count": 6,
     "metadata": {},
     "output_type": "execute_result"
    }
   ],
   "source": [
    "top"
   ]
  },
  {
   "cell_type": "code",
   "execution_count": 7,
   "metadata": {},
   "outputs": [],
   "source": [
    "longforms0 = miners['ARG'].get_longforms()"
   ]
  },
  {
   "cell_type": "code",
   "execution_count": 8,
   "metadata": {},
   "outputs": [
    {
     "data": {
      "text/plain": [
       "[('l arginine', 13.571428571428571),\n",
       " ('arctigenin', 6.0),\n",
       " ('amphiregulin', 1.3333333333333333)]"
      ]
     },
     "execution_count": 8,
     "metadata": {},
     "output_type": "execute_result"
    }
   ],
   "source": [
    "longforms0"
   ]
  },
  {
   "cell_type": "code",
   "execution_count": 9,
   "metadata": {},
   "outputs": [],
   "source": [
    "longforms0.append(top[1])"
   ]
  },
  {
   "cell_type": "code",
   "execution_count": 10,
   "metadata": {},
   "outputs": [],
   "source": [
    "longforms0 = longforms0[1:]"
   ]
  },
  {
   "cell_type": "code",
   "execution_count": 45,
   "metadata": {},
   "outputs": [],
   "source": [
    "longforms0.sort(key=lambda x: -x[1])"
   ]
  },
  {
   "cell_type": "code",
   "execution_count": 46,
   "metadata": {},
   "outputs": [],
   "source": [
    "longforms = longforms0"
   ]
  },
  {
   "cell_type": "code",
   "execution_count": 47,
   "metadata": {},
   "outputs": [],
   "source": [
    "longforms, scores = zip(*longforms)"
   ]
  },
  {
   "cell_type": "code",
   "execution_count": 48,
   "metadata": {},
   "outputs": [
    {
     "data": {
      "text/plain": [
       "('arginine', 'arctigenin', 'amphiregulin')"
      ]
     },
     "execution_count": 48,
     "metadata": {},
     "output_type": "execute_result"
    }
   ],
   "source": [
    "longforms"
   ]
  },
  {
   "cell_type": "code",
   "execution_count": 49,
   "metadata": {},
   "outputs": [],
   "source": [
    "grounding_map = {}\n",
    "for longform in longforms:\n",
    "    grounding = gilda_ground(longform)\n",
    "    if grounding[0]:\n",
    "        grounding_map[longform] = f'{grounding[0]}:{grounding[1]}'"
   ]
  },
  {
   "cell_type": "code",
   "execution_count": 50,
   "metadata": {},
   "outputs": [
    {
     "data": {
      "text/plain": [
       "{'arginine': 'CHEBI:CHEBI:29016', 'amphiregulin': 'HGNC:651'}"
      ]
     },
     "execution_count": 50,
     "metadata": {},
     "output_type": "execute_result"
    }
   ],
   "source": [
    "grounding_map"
   ]
  },
  {
   "cell_type": "code",
   "execution_count": 51,
   "metadata": {},
   "outputs": [],
   "source": [
    "grounding_map, names, pos_labels = ground_with_gui(longforms, scores, grounding_map=grounding_map)"
   ]
  },
  {
   "cell_type": "code",
   "execution_count": 54,
   "metadata": {},
   "outputs": [],
   "source": [
    "names.update({f'HGNC:{get_hgnc_id(gene)}': gene for gene in genes})\n",
    "pos_labels = list(set(pos_labels) | set(f'HGNC:{get_hgnc_id(gene)}' for gene in genes))"
   ]
  },
  {
   "cell_type": "code",
   "execution_count": 55,
   "metadata": {},
   "outputs": [],
   "source": [
    "result = (grounding_map, names, pos_labels)"
   ]
  },
  {
   "cell_type": "code",
   "execution_count": 56,
   "metadata": {},
   "outputs": [
    {
     "data": {
      "text/plain": [
       "({'amphiregulin': 'HGNC:651',\n",
       "  'arctigenin': 'CHEBI:CHEBI:79',\n",
       "  'arginine': 'CHEBI:CHEBI:29016'},\n",
       " {'HGNC:651': 'AREG',\n",
       "  'CHEBI:CHEBI:79': '(-)-Arctigenin',\n",
       "  'CHEBI:CHEBI:29016': 'arginine',\n",
       "  'HGNC:77': 'ABL2',\n",
       "  'HGNC:9965': 'RERE'},\n",
       " ['HGNC:9965', 'HGNC:651', 'CHEBI:CHEBI:29016', 'HGNC:77', 'CHEBI:CHEBI:79'])"
      ]
     },
     "execution_count": 56,
     "metadata": {},
     "output_type": "execute_result"
    }
   ],
   "source": [
    "result"
   ]
  },
  {
   "cell_type": "code",
   "execution_count": 11,
   "metadata": {},
   "outputs": [],
   "source": [
    "grounding_map, names, pos_labels = ({'amphiregulin': 'HGNC:651',\n",
    "  'arctigenin': 'CHEBI:CHEBI:79',\n",
    "  'arginine': 'CHEBI:CHEBI:29016'},\n",
    " {'HGNC:651': 'AREG',\n",
    "  'CHEBI:CHEBI:79': '(-)-Arctigenin',\n",
    "  'CHEBI:CHEBI:29016': 'arginine',\n",
    "  'HGNC:77': 'ABL2',\n",
    "  'HGNC:9965': 'RERE'},\n",
    " ['HGNC:9965', 'HGNC:651', 'CHEBI:CHEBI:29016', 'HGNC:77', 'CHEBI:CHEBI:79'])"
   ]
  },
  {
   "cell_type": "code",
   "execution_count": 12,
   "metadata": {},
   "outputs": [],
   "source": [
    "grounding_dict = {'ARG': grounding_map}"
   ]
  },
  {
   "cell_type": "code",
   "execution_count": 13,
   "metadata": {},
   "outputs": [],
   "source": [
    "classifier = AdeftClassifier('ARG', pos_labels=pos_labels)"
   ]
  },
  {
   "cell_type": "code",
   "execution_count": 14,
   "metadata": {},
   "outputs": [],
   "source": [
    "param_grid = {'C': [100.0], 'max_features': [10000]}"
   ]
  },
  {
   "cell_type": "code",
   "execution_count": 15,
   "metadata": {},
   "outputs": [],
   "source": [
    "labeler = AdeftLabeler(grounding_dict)"
   ]
  },
  {
   "cell_type": "code",
   "execution_count": 16,
   "metadata": {},
   "outputs": [],
   "source": [
    "corpus = labeler.build_from_texts(shortform_texts)"
   ]
  },
  {
   "cell_type": "code",
   "execution_count": 17,
   "metadata": {},
   "outputs": [],
   "source": [
    "corpus.extend(entrez_texts)"
   ]
  },
  {
   "cell_type": "code",
   "execution_count": 18,
   "metadata": {},
   "outputs": [],
   "source": [
    "texts, labels = zip(*corpus)"
   ]
  },
  {
   "cell_type": "code",
   "execution_count": 19,
   "metadata": {},
   "outputs": [
    {
     "name": "stderr",
     "output_type": "stream",
     "text": [
      "INFO: [2020-01-13 16:32:42] /Users/albertsteppi/adeft/adeft/modeling/classify.py - Beginning grid search in parameter space:\n",
      "{'C': [100.0], 'max_features': [10000]}\n",
      "/Users/albertsteppi/.virtualenvs/py37/lib/python3.7/site-packages/sklearn/model_selection/_split.py:657: Warning: The least populated class in y has only 2 members, which is too few. The minimum number of members in any class cannot be less than n_splits=5.\n",
      "  % (min_groups, self.n_splits)), Warning)\n",
      "INFO: [2020-01-13 16:33:03] /Users/albertsteppi/adeft/adeft/modeling/classify.py - Best f1 score of 0.8079007829680392 found for parameter values:\n",
      "{'logit__C': 100.0, 'tfidf__max_features': 10000}\n"
     ]
    }
   ],
   "source": [
    "classifier.cv(texts, labels, param_grid, cv=5, n_jobs=8)"
   ]
  },
  {
   "cell_type": "code",
   "execution_count": 20,
   "metadata": {},
   "outputs": [],
   "source": [
    "imp = classifier.feature_importances()"
   ]
  },
  {
   "cell_type": "code",
   "execution_count": 22,
   "metadata": {},
   "outputs": [
    {
     "data": {
      "text/plain": [
       "[('areg', 1.4972089252377179),\n",
       " ('ar', 1.2208487384038054),\n",
       " ('amphiregulin', 0.8431062870077384),\n",
       " ('egfr', 0.5519674764084078),\n",
       " ('egf', 0.4501358811472624),\n",
       " ('cancer', 0.3576551829899575),\n",
       " ('cells', 0.3119225815027824),\n",
       " ('expression', 0.20636241454874607),\n",
       " ('breast', 0.18044446067764217),\n",
       " ('agr2', 0.17452552023646034)]"
      ]
     },
     "execution_count": 22,
     "metadata": {},
     "output_type": "execute_result"
    }
   ],
   "source": [
    "imp['HGNC:651'][0:10]"
   ]
  },
  {
   "cell_type": "markdown",
   "metadata": {},
   "source": [
    "classifier._std"
   ]
  },
  {
   "cell_type": "code",
   "execution_count": 68,
   "metadata": {},
   "outputs": [],
   "source": [
    "disamb = AdeftDisambiguator(classifier, grounding_dict, names)"
   ]
  },
  {
   "cell_type": "code",
   "execution_count": 69,
   "metadata": {},
   "outputs": [],
   "source": [
    "d = disamb.disambiguate(shortform_texts)"
   ]
  },
  {
   "cell_type": "code",
   "execution_count": 70,
   "metadata": {},
   "outputs": [],
   "source": [
    "a = [text for pred, text in zip(d, shortform_texts)if pred[0] == 'HGNC:651']"
   ]
  },
  {
   "cell_type": "code",
   "execution_count": 72,
   "metadata": {},
   "outputs": [
    {
     "data": {
      "text/plain": [
       "'The selection of patients with non-small cell lung cancer (NSCLC) for epidermal growth factor receptor (EGFR) inhibitor (EGFR-tyrosine kinase inhibitors [TKIs]) therapy is suboptimal as tumor tissue is often unavailable. Ligands of EGFR, transforming growth factor-alpha (TGFa) and amphiregulin (ARG), and the insulin-like growth factor (IGF) family have been associated with resistance to EGFR-TKIs. The aim of our study was to explore whether concentrations of these factors measured in serum were predictive of response to EGFR-TKIs. We assessed serum levels of marker candidates using enzyme-linked immunosorbent (TGFa and ARG) and chemiluminescent (IGF1 and IGF-binding protein-3) assays in 61 patients with advanced NSCLC treated with EGFR-TKIs and 63 matched advanced NSCLC control patients without EGFR-TKIs treatment. We dichotomized marker levels at the 20th, 50th, or 80th percentile and evaluated whether the effect of EGFR-TKIs treatment on disease-specific survival (DSS) differed by marker level based on multivariate proportional hazards regression with an interaction term. The effect of EGFR-TKIs treatment on DSS showed a significant difference by TGFa and ARG (interaction p = 0.046 and p = 0.004, respectively). Low concentrations of TGFa and high concentrations of ARG were associated with a better DSS in EGFR-TKIs patients compared with control patients. Patients with high concentrations of IGF-binding protein-3 had significantly longer DSS, independent of treatment (hazard ratio: 0.60 per 1 mg/liter, 95% confidence interval: 0.46-0.79). Our results suggest that concentrations of TGFa and ARG measured in serum are predictive of EGFR-TKI response. The combination of these two biomarkers could be of value in the process of selecting patients for treatment with EGFR-TKIs.\\n'"
      ]
     },
     "execution_count": 72,
     "metadata": {},
     "output_type": "execute_result"
    }
   ],
   "source": [
    "a[2]"
   ]
  },
  {
   "cell_type": "code",
   "execution_count": 74,
   "metadata": {},
   "outputs": [],
   "source": [
    "disamb.dump('MED', '../results')"
   ]
  },
  {
   "cell_type": "code",
   "execution_count": 188,
   "metadata": {},
   "outputs": [],
   "source": [
    "from adeft.disambiguate import load_disambiguator"
   ]
  },
  {
   "cell_type": "code",
   "execution_count": 189,
   "metadata": {},
   "outputs": [],
   "source": [
    "d = load_disambiguator('HIR', '../results')"
   ]
  },
  {
   "cell_type": "code",
   "execution_count": 190,
   "metadata": {},
   "outputs": [
    {
     "data": {
      "text/plain": [
       "('HGNC:6091',\n",
       " 'INSR',\n",
       " {'HGNC:6091': 0.9495047219792215,\n",
       "  'MESH:D015427': 0.03378744088190508,\n",
       "  'ungrounded': 0.016707837138873322})"
      ]
     },
     "execution_count": 190,
     "metadata": {},
     "output_type": "execute_result"
    }
   ],
   "source": [
    "d.disambiguate(texts[0])"
   ]
  },
  {
   "cell_type": "code",
   "execution_count": 32,
   "metadata": {},
   "outputs": [],
   "source": [
    "a = load_disambiguator('AR')"
   ]
  },
  {
   "cell_type": "code",
   "execution_count": 33,
   "metadata": {},
   "outputs": [
    {
     "data": {
      "text/plain": [
       "('HGNC:644',\n",
       " 'AR',\n",
       " {'FPLX:ADRB': 4.719192246728643e-10,\n",
       "  'GO:GO:0007340': 1.3624879544267196e-09,\n",
       "  'HGNC:381': 5.2828214761836554e-12,\n",
       "  'HGNC:644': 0.9999384718638125,\n",
       "  'HGNC:651': 1.8656671170325e-12,\n",
       "  'ungrounded': 6.152629463170691e-05})"
      ]
     },
     "execution_count": 33,
     "metadata": {},
     "output_type": "execute_result"
    }
   ],
   "source": [
    "a.disambiguate('Androgen')"
   ]
  },
  {
   "cell_type": "code",
   "execution_count": 36,
   "metadata": {},
   "outputs": [],
   "source": [
    "logit = d.classifier.estimator.named_steps['logit']"
   ]
  },
  {
   "cell_type": "code",
   "execution_count": 37,
   "metadata": {},
   "outputs": [
    {
     "data": {
      "text/plain": [
       "array(['FPLX:AQP', 'FPLX:Macrophage_inflammatory_pro', 'MESH:D000072277',\n",
       "       'polymer', 'ungrounded'], dtype='<U32')"
      ]
     },
     "execution_count": 37,
     "metadata": {},
     "output_type": "execute_result"
    }
   ],
   "source": [
    "logit.classes_"
   ]
  },
  {
   "cell_type": "code",
   "execution_count": 89,
   "metadata": {},
   "outputs": [],
   "source": [
    "model_to_s3(disamb)"
   ]
  },
  {
   "cell_type": "code",
   "execution_count": 14,
   "metadata": {},
   "outputs": [],
   "source": [
    "import numpy as np"
   ]
  },
  {
   "cell_type": "code",
   "execution_count": 15,
   "metadata": {},
   "outputs": [],
   "source": [
    "t = np.array([1, 1, 2, 2, 3, 3, 4])"
   ]
  },
  {
   "cell_type": "code",
   "execution_count": 16,
   "metadata": {},
   "outputs": [
    {
     "data": {
      "text/plain": [
       "array([ 1,  1,  4,  4,  9,  9, 16])"
      ]
     },
     "execution_count": 16,
     "metadata": {},
     "output_type": "execute_result"
    }
   ],
   "source": [
    "np.square(t)"
   ]
  },
  {
   "cell_type": "code",
   "execution_count": 16,
   "metadata": {},
   "outputs": [
    {
     "data": {
      "text/plain": [
       "matrix([[9.50383849e-06, 3.38021732e-04, 2.66352572e-06, ...,\n",
       "         2.33005627e-05, 2.86057449e-06, 5.92565616e-05]])"
      ]
     },
     "execution_count": 16,
     "metadata": {},
     "output_type": "execute_result"
    }
   ],
   "source": [
    "classifier._std"
   ]
  },
  {
   "cell_type": "code",
   "execution_count": 19,
   "metadata": {},
   "outputs": [],
   "source": [
    "coef = classifier.estimator.named_steps['logit'].coef_"
   ]
  },
  {
   "cell_type": "code",
   "execution_count": 20,
   "metadata": {},
   "outputs": [
    {
     "data": {
      "text/plain": [
       "(5, 10000)"
      ]
     },
     "execution_count": 20,
     "metadata": {},
     "output_type": "execute_result"
    }
   ],
   "source": [
    "coef.shape"
   ]
  },
  {
   "cell_type": "code",
   "execution_count": 21,
   "metadata": {},
   "outputs": [],
   "source": [
    "logit = classifier.estimator.named_steps['logit']"
   ]
  },
  {
   "cell_type": "code",
   "execution_count": 22,
   "metadata": {},
   "outputs": [
    {
     "data": {
      "text/plain": [
       "array(['CHEBI:CHEBI:29016', 'CHEBI:CHEBI:79', 'HGNC:651', 'HGNC:77',\n",
       "       'HGNC:9965'], dtype='<U17')"
      ]
     },
     "execution_count": 22,
     "metadata": {},
     "output_type": "execute_result"
    }
   ],
   "source": [
    "logit.classes_"
   ]
  },
  {
   "cell_type": "code",
   "execution_count": 25,
   "metadata": {},
   "outputs": [
    {
     "data": {
      "text/plain": [
       "(10000,)"
      ]
     },
     "execution_count": 25,
     "metadata": {},
     "output_type": "execute_result"
    }
   ],
   "source": [
    "classifier._std.shape"
   ]
  },
  {
   "cell_type": "code",
   "execution_count": 37,
   "metadata": {},
   "outputs": [
    {
     "data": {
      "text/plain": [
       "(10000,)"
      ]
     },
     "execution_count": 37,
     "metadata": {},
     "output_type": "execute_result"
    }
   ],
   "source": [
    "coef[0,:].shape"
   ]
  },
  {
   "cell_type": "code",
   "execution_count": 29,
   "metadata": {},
   "outputs": [],
   "source": [
    "import numpy as np"
   ]
  },
  {
   "cell_type": "code",
   "execution_count": 41,
   "metadata": {},
   "outputs": [
    {
     "data": {
      "text/plain": [
       "array([9.50383849e-06, 3.38021732e-04, 2.66352572e-06, ...,\n",
       "       2.33005627e-05, 2.86057449e-06, 5.92565616e-05])"
      ]
     },
     "execution_count": 41,
     "metadata": {},
     "output_type": "execute_result"
    }
   ],
   "source": [
    "np.squeeze(np.asarray(classifier._std))"
   ]
  },
  {
   "cell_type": "code",
   "execution_count": 44,
   "metadata": {},
   "outputs": [
    {
     "data": {
      "text/plain": [
       "matrix([[9.50383849e-06, 3.38021732e-04, 2.66352572e-06, ...,\n",
       "         2.33005627e-05, 2.86057449e-06, 5.92565616e-05]])"
      ]
     },
     "execution_count": 44,
     "metadata": {},
     "output_type": "execute_result"
    }
   ],
   "source": [
    "np.squeeze(classifier._std)"
   ]
  },
  {
   "cell_type": "code",
   "execution_count": 45,
   "metadata": {},
   "outputs": [
    {
     "data": {
      "text/plain": [
       "matrix([[9.50383849e-06, 3.38021732e-04, 2.66352572e-06, ...,\n",
       "         2.33005627e-05, 2.86057449e-06, 5.92565616e-05]])"
      ]
     },
     "execution_count": 45,
     "metadata": {},
     "output_type": "execute_result"
    }
   ],
   "source": [
    "classifier._std"
   ]
  },
  {
   "cell_type": "code",
   "execution_count": 24,
   "metadata": {},
   "outputs": [
    {
     "ename": "NameError",
     "evalue": "name 'np' is not defined",
     "output_type": "error",
     "traceback": [
      "\u001b[0;31m---------------------------------------------------------------------------\u001b[0m",
      "\u001b[0;31mNameError\u001b[0m                                 Traceback (most recent call last)",
      "\u001b[0;32m<ipython-input-24-87076365be31>\u001b[0m in \u001b[0;36m<module>\u001b[0;34m\u001b[0m\n\u001b[0;32m----> 1\u001b[0;31m \u001b[0mstd\u001b[0m \u001b[0;34m=\u001b[0m \u001b[0mnp\u001b[0m\u001b[0;34m.\u001b[0m\u001b[0msqueeze\u001b[0m\u001b[0;34m(\u001b[0m\u001b[0mnp\u001b[0m\u001b[0;34m.\u001b[0m\u001b[0masarray\u001b[0m\u001b[0;34m(\u001b[0m\u001b[0mclassifier\u001b[0m\u001b[0;34m.\u001b[0m\u001b[0m_std\u001b[0m\u001b[0;34m)\u001b[0m\u001b[0;34m)\u001b[0m\u001b[0;34m\u001b[0m\u001b[0;34m\u001b[0m\u001b[0m\n\u001b[0m",
      "\u001b[0;31mNameError\u001b[0m: name 'np' is not defined"
     ]
    }
   ],
   "source": [
    "std = np.squeeze(np.asarray(classifier._std))"
   ]
  },
  {
   "cell_type": "code",
   "execution_count": 49,
   "metadata": {},
   "outputs": [
    {
     "data": {
      "text/plain": [
       "0.04813629584466277"
      ]
     },
     "execution_count": 49,
     "metadata": {},
     "output_type": "execute_result"
    }
   ],
   "source": [
    "sum(std * coef[0,:])"
   ]
  },
  {
   "cell_type": "code",
   "execution_count": 50,
   "metadata": {},
   "outputs": [],
   "source": [
    "t = [1, 2, 3]\n",
    "v = [5, 4, 2]"
   ]
  },
  {
   "cell_type": "code",
   "execution_count": 53,
   "metadata": {},
   "outputs": [
    {
     "data": {
      "text/plain": [
       "[(1, 5), (2, 4), (3, 2)]"
      ]
     },
     "execution_count": 53,
     "metadata": {},
     "output_type": "execute_result"
    }
   ],
   "source": [
    "sorted(zip(t, v), key=lambda x: -x[1])"
   ]
  },
  {
   "cell_type": "code",
   "execution_count": 23,
   "metadata": {},
   "outputs": [
    {
     "ename": "NameError",
     "evalue": "name 'std' is not defined",
     "output_type": "error",
     "traceback": [
      "\u001b[0;31m---------------------------------------------------------------------------\u001b[0m",
      "\u001b[0;31mNameError\u001b[0m                                 Traceback (most recent call last)",
      "\u001b[0;32m<ipython-input-23-ddbf3650fe96>\u001b[0m in \u001b[0;36m<module>\u001b[0;34m\u001b[0m\n\u001b[0;32m----> 1\u001b[0;31m \u001b[0ma\u001b[0m \u001b[0;34m=\u001b[0m \u001b[0mstd\u001b[0m\u001b[0;34m\u001b[0m\u001b[0;34m\u001b[0m\u001b[0m\n\u001b[0m",
      "\u001b[0;31mNameError\u001b[0m: name 'std' is not defined"
     ]
    }
   ],
   "source": [
    "a = std"
   ]
  },
  {
   "cell_type": "code",
   "execution_count": 30,
   "metadata": {},
   "outputs": [
    {
     "data": {
      "text/plain": [
       "array([0.00308283, 0.01838537, 0.00163203, ..., 0.00482707, 0.00169132,\n",
       "       0.00769783])"
      ]
     },
     "execution_count": 30,
     "metadata": {},
     "output_type": "execute_result"
    }
   ],
   "source": [
    "np.sqrt(classifier._std)"
   ]
  },
  {
   "cell_type": "code",
   "execution_count": 32,
   "metadata": {},
   "outputs": [],
   "source": [
    "std = classifier._std"
   ]
  },
  {
   "cell_type": "code",
   "execution_count": 33,
   "metadata": {},
   "outputs": [],
   "source": [
    "std.shape = (len(std), 1)"
   ]
  },
  {
   "cell_type": "code",
   "execution_count": 34,
   "metadata": {},
   "outputs": [
    {
     "data": {
      "text/plain": [
       "array([[9.50383849e-06],\n",
       "       [3.38021732e-04],\n",
       "       [2.66352572e-06],\n",
       "       ...,\n",
       "       [2.33005627e-05],\n",
       "       [2.86057449e-06],\n",
       "       [5.92565616e-05]])"
      ]
     },
     "execution_count": 34,
     "metadata": {},
     "output_type": "execute_result"
    }
   ],
   "source": [
    "std"
   ]
  },
  {
   "cell_type": "code",
   "execution_count": 35,
   "metadata": {},
   "outputs": [
    {
     "data": {
      "text/plain": [
       "array([[0.00308283],\n",
       "       [0.01838537],\n",
       "       [0.00163203],\n",
       "       ...,\n",
       "       [0.00482707],\n",
       "       [0.00169132],\n",
       "       [0.00769783]])"
      ]
     },
     "execution_count": 35,
     "metadata": {},
     "output_type": "execute_result"
    }
   ],
   "source": [
    "np.sqrt(std)"
   ]
  },
  {
   "cell_type": "code",
   "execution_count": null,
   "metadata": {},
   "outputs": [],
   "source": []
  }
 ],
 "metadata": {
  "kernelspec": {
   "display_name": "Python 3",
   "language": "python",
   "name": "python3"
  },
  "language_info": {
   "codemirror_mode": {
    "name": "ipython",
    "version": 3
   },
   "file_extension": ".py",
   "mimetype": "text/x-python",
   "name": "python",
   "nbconvert_exporter": "python",
   "pygments_lexer": "ipython3",
   "version": "3.7.5"
  }
 },
 "nbformat": 4,
 "nbformat_minor": 2
}
