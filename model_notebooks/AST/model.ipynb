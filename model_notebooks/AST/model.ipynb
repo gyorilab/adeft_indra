{
 "cells": [
  {
   "cell_type": "code",
   "execution_count": 1,
   "metadata": {},
   "outputs": [],
   "source": [
    "import os\n",
    "import json\n",
    "import pickle\n",
    "import random\n",
    "from collections import defaultdict, Counter\n",
    "\n",
    "from indra.literature.adeft_tools import universal_extract_text\n",
    "from indra.databases.hgnc_client import get_hgnc_name, get_hgnc_id\n",
    "\n",
    "from adeft.discover import AdeftMiner\n",
    "from adeft.gui import ground_with_gui\n",
    "from adeft.modeling.label import AdeftLabeler\n",
    "from adeft.modeling.classify import AdeftClassifier\n",
    "from adeft.disambiguate import AdeftDisambiguator\n",
    "\n",
    "\n",
    "from adeft_indra.ground.ground import AdeftGrounder\n",
    "from adeft_indra.model_building.s3 import model_to_s3\n",
    "from adeft_indra.model_building.escape import escape_filename\n",
    "from adeft_indra.db.content import get_pmids_for_agent_text, get_pmids_for_entity, \\\n",
    "    get_plaintexts_for_pmids"
   ]
  },
  {
   "cell_type": "code",
   "execution_count": 2,
   "metadata": {},
   "outputs": [],
   "source": [
    "adeft_grounder = AdeftGrounder()"
   ]
  },
  {
   "cell_type": "code",
   "execution_count": 3,
   "metadata": {},
   "outputs": [],
   "source": [
    "shortforms = ['AST']\n",
    "model_name = ':'.join(sorted(escape_filename(shortform) for shortform in shortforms))\n",
    "results_path = os.path.abspath(os.path.join('../..', 'results', model_name))"
   ]
  },
  {
   "cell_type": "code",
   "execution_count": 4,
   "metadata": {},
   "outputs": [],
   "source": [
    "miners = dict()\n",
    "all_texts = {}\n",
    "for shortform in shortforms:\n",
    "    pmids = get_pmids_for_agent_text(shortform)\n",
    "    if len(pmids) > 10000:\n",
    "        pmids = random.choices(pmids, k=10000)\n",
    "    text_dict = get_plaintexts_for_pmids(pmids, contains=shortforms)\n",
    "    text_dict = {pmid: text for pmid, text in text_dict.items() if len(text) > 5}\n",
    "    miners[shortform] = AdeftMiner(shortform)\n",
    "    miners[shortform].process_texts(text_dict.values())\n",
    "    all_texts.update(text_dict)\n",
    "\n",
    "longform_dict = {}\n",
    "for shortform in shortforms:\n",
    "    longforms = miners[shortform].get_longforms()\n",
    "    longforms = [(longform, count, score) for longform, count, score in longforms\n",
    "                 if count*score > 2]\n",
    "    longform_dict[shortform] = longforms\n",
    "    \n",
    "combined_longforms = Counter()\n",
    "for longform_rows in longform_dict.values():\n",
    "    combined_longforms.update({longform: count for longform, count, score\n",
    "                               in longform_rows})\n",
    "grounding_map = {}\n",
    "names = {}\n",
    "for longform in combined_longforms:\n",
    "    groundings = adeft_grounder.ground(longform)\n",
    "    if groundings:\n",
    "        grounding = groundings[0]['grounding']\n",
    "        grounding_map[longform] = grounding\n",
    "        names[grounding] = groundings[0]['name']\n",
    "longforms, counts = zip(*combined_longforms.most_common())\n",
    "pos_labels = []"
   ]
  },
  {
   "cell_type": "code",
   "execution_count": 5,
   "metadata": {},
   "outputs": [
    {
     "data": {
      "text/plain": [
       "[('aspartate aminotransferase', 1739),\n",
       " ('aspartate transaminase', 457),\n",
       " ('astaxanthin', 111),\n",
       " ('aspartate amino transferase', 56),\n",
       " ('astragaloside', 21),\n",
       " ('antimicrobial susceptibility testing', 21),\n",
       " ('aspartate aminotransaminase', 20),\n",
       " ('aspartate', 18),\n",
       " ('astressin', 16),\n",
       " ('astrocytoma', 11),\n",
       " ('aspartate transferase', 10),\n",
       " ('astragaloside iv', 10),\n",
       " ('androgen suppression therapy', 8),\n",
       " ('asparate aminotransferase', 8),\n",
       " ('acute stent thrombosis', 6),\n",
       " ('antibiotic susceptibility testing', 6),\n",
       " ('anti scarring treatment', 5),\n",
       " ('astragalin', 5),\n",
       " ('activities school transport', 5),\n",
       " ('astemizole', 5),\n",
       " ('astrocytes', 5),\n",
       " ('total astragalus saponins', 5),\n",
       " ('astilbin', 4),\n",
       " ('average survival time', 4),\n",
       " ('allatostatin', 4),\n",
       " ('attentional set shifting testing', 4),\n",
       " ('that astragalus saponins', 4),\n",
       " ('aspartate aminotrasferase', 4),\n",
       " ('aminotransferase activities', 4),\n",
       " ('artesunate', 4),\n",
       " ('aspartate transminase', 3),\n",
       " ('antenatal steroids therapy', 3),\n",
       " ('antisense transcript', 3),\n",
       " ('antisaccade task', 3),\n",
       " ('aspartate amino transaminase', 3),\n",
       " ('astragalus membranaceus', 3),\n",
       " ('asparatate aminotransferase', 3)]"
      ]
     },
     "execution_count": 5,
     "metadata": {},
     "output_type": "execute_result"
    }
   ],
   "source": [
    "list(zip(longforms, counts))"
   ]
  },
  {
   "cell_type": "code",
   "execution_count": 6,
   "metadata": {},
   "outputs": [
    {
     "name": "stderr",
     "output_type": "stream",
     "text": [
      "INFO: [2020-09-28 14:52:29] indra.ontology.bio.ontology - Loading INDRA bio ontology from cache at /home/ubuntu/.indra/bio_ontology/1.2/bio_ontology.pkl\n"
     ]
    }
   ],
   "source": [
    "grounding_map, names, pos_labels = ground_with_gui(longforms, counts, \n",
    "                                                   grounding_map=grounding_map,\n",
    "                                                   names=names, pos_labels=pos_labels, no_browser=True, port=8890)"
   ]
  },
  {
   "cell_type": "code",
   "execution_count": 7,
   "metadata": {},
   "outputs": [],
   "source": [
    "result = [grounding_map, names, pos_labels]"
   ]
  },
  {
   "cell_type": "code",
   "execution_count": 8,
   "metadata": {},
   "outputs": [
    {
     "data": {
      "text/plain": [
       "[{'activities school transport': 'ungrounded',\n",
       "  'acute stent thrombosis': 'ungrounded',\n",
       "  'allatostatin': 'MESH:C076523',\n",
       "  'aminotransferase activities': 'FPLX:GOT',\n",
       "  'androgen suppression therapy': 'ungrounded',\n",
       "  'antenatal steroids therapy': 'ungrounded',\n",
       "  'anti scarring treatment': 'ungrounded',\n",
       "  'antibiotic susceptibility testing': 'ungrounded',\n",
       "  'antimicrobial susceptibility testing': 'ungrounded',\n",
       "  'antisaccade task': 'ungrounded',\n",
       "  'antisense transcript': 'ungrounded',\n",
       "  'artesunate': 'CHEBI:CHEBI:63918',\n",
       "  'asparatate aminotransferase': 'FPLX:GOT',\n",
       "  'asparate aminotransferase': 'FPLX:GOT',\n",
       "  'aspartate': 'FPLX:GOT',\n",
       "  'aspartate amino transaminase': 'FPLX:GOT',\n",
       "  'aspartate amino transferase': 'FPLX:GOT',\n",
       "  'aspartate aminotransaminase': 'FPLX:GOT',\n",
       "  'aspartate aminotransferase': 'FPLX:GOT',\n",
       "  'aspartate aminotrasferase': 'FPLX:GOT',\n",
       "  'aspartate transaminase': 'FPLX:GOT',\n",
       "  'aspartate transferase': 'FPLX:GOT',\n",
       "  'aspartate transminase': 'FPLX:GOT',\n",
       "  'astaxanthin': 'CHEBI:CHEBI:40968',\n",
       "  'astemizole': 'CHEBI:CHEBI:2896',\n",
       "  'astilbin': 'CHEBI:CHEBI:38200',\n",
       "  'astragalin': 'MESH:C001579',\n",
       "  'astragaloside': 'CHEBI:CHEBI:65457',\n",
       "  'astragaloside iv': 'CHEBI:CHEBI:65457',\n",
       "  'astragalus membranaceus': 'ungrounded',\n",
       "  'astressin': 'CHEBI:CHEBI:76649',\n",
       "  'astrocytes': 'MESH:D001253',\n",
       "  'astrocytoma': 'MESH:D001254',\n",
       "  'attentional set shifting testing': 'ungrounded',\n",
       "  'average survival time': 'ungrounded',\n",
       "  'that astragalus saponins': 'ungrounded',\n",
       "  'total astragalus saponins': 'ungrounded'},\n",
       " {'MESH:C076523': 'allatostatin',\n",
       "  'FPLX:GOT': 'GOT',\n",
       "  'CHEBI:CHEBI:63918': 'artesunate',\n",
       "  'CHEBI:CHEBI:40968': 'astaxanthin',\n",
       "  'CHEBI:CHEBI:2896': 'astemizole',\n",
       "  'CHEBI:CHEBI:38200': 'astilbin',\n",
       "  'MESH:C001579': 'astragalin',\n",
       "  'CHEBI:CHEBI:65457': 'astragaloside IV',\n",
       "  'CHEBI:CHEBI:76649': 'astressin',\n",
       "  'MESH:D001253': 'Astrocytes',\n",
       "  'MESH:D001254': 'Astrocytoma'},\n",
       " ['CHEBI:CHEBI:40968', 'CHEBI:CHEBI:65457', 'FPLX:GOT']]"
      ]
     },
     "execution_count": 8,
     "metadata": {},
     "output_type": "execute_result"
    }
   ],
   "source": [
    "result"
   ]
  },
  {
   "cell_type": "code",
   "execution_count": 6,
   "metadata": {},
   "outputs": [],
   "source": [
    "grounding_map, names, pos_labels = [{'activities school transport': 'ungrounded',\n",
    "  'acute stent thrombosis': 'ungrounded',\n",
    "  'allatostatin': 'MESH:C076523',\n",
    "  'aminotransferase activities': 'FPLX:GOT',\n",
    "  'androgen suppression therapy': 'ungrounded',\n",
    "  'antenatal steroids therapy': 'ungrounded',\n",
    "  'anti scarring treatment': 'ungrounded',\n",
    "  'antibiotic susceptibility testing': 'ungrounded',\n",
    "  'antimicrobial susceptibility testing': 'ungrounded',\n",
    "  'antisaccade task': 'ungrounded',\n",
    "  'antisense transcript': 'ungrounded',\n",
    "  'artesunate': 'CHEBI:CHEBI:63918',\n",
    "  'asparatate aminotransferase': 'FPLX:GOT',\n",
    "  'asparate aminotransferase': 'FPLX:GOT',\n",
    "  'aspartate': 'FPLX:GOT',\n",
    "  'aspartate amino transaminase': 'FPLX:GOT',\n",
    "  'aspartate amino transferase': 'FPLX:GOT',\n",
    "  'aspartate aminotransaminase': 'FPLX:GOT',\n",
    "  'aspartate aminotransferase': 'FPLX:GOT',\n",
    "  'aspartate aminotrasferase': 'FPLX:GOT',\n",
    "  'aspartate transaminase': 'FPLX:GOT',\n",
    "  'aspartate transferase': 'FPLX:GOT',\n",
    "  'aspartate transminase': 'FPLX:GOT',\n",
    "  'astaxanthin': 'CHEBI:CHEBI:40968',\n",
    "  'astemizole': 'CHEBI:CHEBI:2896',\n",
    "  'astilbin': 'CHEBI:CHEBI:38200',\n",
    "  'astragalin': 'MESH:C001579',\n",
    "  'astragaloside': 'CHEBI:CHEBI:65457',\n",
    "  'astragaloside iv': 'CHEBI:CHEBI:65457',\n",
    "  'astragalus membranaceus': 'ungrounded',\n",
    "  'astressin': 'CHEBI:CHEBI:76649',\n",
    "  'astrocytes': 'MESH:D001253',\n",
    "  'astrocytoma': 'MESH:D001254',\n",
    "  'attentional set shifting testing': 'ungrounded',\n",
    "  'average survival time': 'ungrounded',\n",
    "  'that astragalus saponins': 'ungrounded',\n",
    "  'total astragalus saponins': 'ungrounded'},\n",
    " {'MESH:C076523': 'allatostatin',\n",
    "  'FPLX:GOT': 'GOT',\n",
    "  'CHEBI:CHEBI:63918': 'artesunate',\n",
    "  'CHEBI:CHEBI:40968': 'astaxanthin',\n",
    "  'CHEBI:CHEBI:2896': 'astemizole',\n",
    "  'CHEBI:CHEBI:38200': 'astilbin',\n",
    "  'MESH:C001579': 'astragalin',\n",
    "  'CHEBI:CHEBI:65457': 'astragaloside IV',\n",
    "  'CHEBI:CHEBI:76649': 'astressin',\n",
    "  'MESH:D001253': 'Astrocytes',\n",
    "  'MESH:D001254': 'Astrocytoma'},\n",
    " ['CHEBI:CHEBI:40968', 'FPLX:GOT']]"
   ]
  },
  {
   "cell_type": "code",
   "execution_count": 7,
   "metadata": {},
   "outputs": [],
   "source": [
    "excluded_longforms = []"
   ]
  },
  {
   "cell_type": "code",
   "execution_count": 8,
   "metadata": {},
   "outputs": [],
   "source": [
    "grounding_dict = {shortform: {longform: grounding_map[longform] \n",
    "                              for longform, _, _ in longforms if longform in grounding_map\n",
    "                              and longform not in excluded_longforms}\n",
    "                  for shortform, longforms in longform_dict.items()}\n",
    "result = [grounding_dict, names, pos_labels]\n",
    "\n",
    "if not os.path.exists(results_path):\n",
    "    os.mkdir(results_path)\n",
    "with open(os.path.join(results_path, f'{model_name}_preliminary_grounding_info.json'), 'w') as f:\n",
    "    json.dump(result, f)"
   ]
  },
  {
   "cell_type": "code",
   "execution_count": 9,
   "metadata": {},
   "outputs": [],
   "source": [
    "additional_entities = {'HGNC:10933': ['SLC17A5', ['AST']]}"
   ]
  },
  {
   "cell_type": "code",
   "execution_count": 10,
   "metadata": {},
   "outputs": [],
   "source": [
    "unambiguous_agent_texts = {}"
   ]
  },
  {
   "cell_type": "code",
   "execution_count": 11,
   "metadata": {},
   "outputs": [],
   "source": [
    "labeler = AdeftLabeler(grounding_dict)\n",
    "corpus = labeler.build_from_texts((text, pmid) for pmid, text in all_texts.items())\n",
    "agent_text_pmid_map = defaultdict(list)\n",
    "for text, label, id_ in corpus:\n",
    "    agent_text_pmid_map[label].append(id_)\n",
    "\n",
    "entity_pmid_map = {entity: set(get_pmids_for_entity(*entity.split(':', maxsplit=1),\n",
    "                                                major_topic=True))for entity in additional_entities}"
   ]
  },
  {
   "cell_type": "code",
   "execution_count": 12,
   "metadata": {},
   "outputs": [],
   "source": [
    "intersection1 = []\n",
    "for entity1, pmids1 in entity_pmid_map.items():\n",
    "    for entity2, pmids2 in entity_pmid_map.items():\n",
    "        intersection1.append((entity1, entity2, len(pmids1 & pmids2)))"
   ]
  },
  {
   "cell_type": "code",
   "execution_count": 13,
   "metadata": {},
   "outputs": [],
   "source": [
    "intersection2 = []\n",
    "for entity1, pmids1 in agent_text_pmid_map.items():\n",
    "    for entity2, pmids2 in entity_pmid_map.items():\n",
    "        intersection2.append((entity1, entity2, len(set(pmids1) & pmids2)))"
   ]
  },
  {
   "cell_type": "code",
   "execution_count": 14,
   "metadata": {},
   "outputs": [
    {
     "data": {
      "text/plain": [
       "[('HGNC:10933', 'HGNC:10933', 998)]"
      ]
     },
     "execution_count": 14,
     "metadata": {},
     "output_type": "execute_result"
    }
   ],
   "source": [
    "intersection1"
   ]
  },
  {
   "cell_type": "code",
   "execution_count": 15,
   "metadata": {},
   "outputs": [
    {
     "data": {
      "text/plain": [
       "[('FPLX:GOT', 'HGNC:10933', 0),\n",
       " ('MESH:C076523', 'HGNC:10933', 0),\n",
       " ('ungrounded', 'HGNC:10933', 0),\n",
       " ('MESH:D001253', 'HGNC:10933', 0),\n",
       " ('CHEBI:CHEBI:40968', 'HGNC:10933', 0),\n",
       " ('CHEBI:CHEBI:76649', 'HGNC:10933', 0),\n",
       " ('CHEBI:CHEBI:65457', 'HGNC:10933', 0),\n",
       " ('CHEBI:CHEBI:2896', 'HGNC:10933', 0),\n",
       " ('CHEBI:CHEBI:63918', 'HGNC:10933', 0),\n",
       " ('MESH:C001579', 'HGNC:10933', 0),\n",
       " ('CHEBI:CHEBI:38200', 'HGNC:10933', 0),\n",
       " ('MESH:D001254', 'HGNC:10933', 0)]"
      ]
     },
     "execution_count": 15,
     "metadata": {},
     "output_type": "execute_result"
    }
   ],
   "source": [
    "intersection2"
   ]
  },
  {
   "cell_type": "code",
   "execution_count": 16,
   "metadata": {},
   "outputs": [],
   "source": [
    "all_used_pmids = set()\n",
    "for entity, agent_texts in unambiguous_agent_texts.items():\n",
    "    used_pmids = set()\n",
    "    for agent_text in agent_texts[1]:\n",
    "        pmids = set(get_pmids_for_agent_text(agent_text))\n",
    "        new_pmids = list(pmids - all_texts.keys() - used_pmids)\n",
    "        text_dict = get_plaintexts_for_pmids(new_pmids, contains=agent_texts)\n",
    "        corpus.extend([(text, entity, pmid) for pmid, text in text_dict.items() if len(text) >= 5])\n",
    "        used_pmids.update(new_pmids)\n",
    "    all_used_pmids.update(used_pmids)\n",
    "        \n",
    "for entity, pmids in entity_pmid_map.items():\n",
    "    new_pmids = list(set(pmids) - all_texts.keys() - all_used_pmids)\n",
    "    if len(new_pmids) > 10000:\n",
    "        new_pmids = random.choices(new_pmids, k=10000)\n",
    "    _, contains = additional_entities[entity]\n",
    "    text_dict = get_plaintexts_for_pmids(new_pmids, contains=contains)\n",
    "    corpus.extend([(text, entity, pmid) for pmid, text in text_dict.items() if len(text) >= 5])"
   ]
  },
  {
   "cell_type": "code",
   "execution_count": 17,
   "metadata": {},
   "outputs": [],
   "source": [
    "names.update({key: value[0] for key, value in additional_entities.items()})\n",
    "names.update({key: value[0] for key, value in unambiguous_agent_texts.items()})\n",
    "pos_labels = list(set(pos_labels) | additional_entities.keys() |\n",
    "                  unambiguous_agent_texts.keys())"
   ]
  },
  {
   "cell_type": "code",
   "execution_count": 18,
   "metadata": {},
   "outputs": [
    {
     "name": "stderr",
     "output_type": "stream",
     "text": [
      "INFO: [2020-10-30 02:43:17] /adeft/PP/adeft/adeft/modeling/classify.py - Beginning grid search in parameter space:\n",
      "{'C': [100.0], 'max_features': [10000]}\n",
      "INFO: [2020-10-30 02:43:48] /adeft/PP/adeft/adeft/modeling/classify.py - Best f1 score of 0.968261799626293 found for parameter values:\n",
      "{'logit__C': 100.0, 'tfidf__max_features': 10000}\n"
     ]
    }
   ],
   "source": [
    "%%capture\n",
    "\n",
    "classifier = AdeftClassifier(shortforms, pos_labels=pos_labels, random_state=1729)\n",
    "param_grid = {'C': [100.0], 'max_features': [10000]}\n",
    "texts, labels, pmids = zip(*corpus)\n",
    "classifier.cv(texts, labels, param_grid, cv=5, n_jobs=5)"
   ]
  },
  {
   "cell_type": "code",
   "execution_count": 19,
   "metadata": {
    "scrolled": true
   },
   "outputs": [
    {
     "data": {
      "text/plain": [
       "{'label_distribution': {'FPLX:GOT': 1834,\n",
       "  'MESH:C076523': 4,\n",
       "  'ungrounded': 60,\n",
       "  'MESH:D001253': 5,\n",
       "  'CHEBI:CHEBI:40968': 78,\n",
       "  'CHEBI:CHEBI:76649': 5,\n",
       "  'CHEBI:CHEBI:65457': 26,\n",
       "  'CHEBI:CHEBI:2896': 4,\n",
       "  'CHEBI:CHEBI:63918': 4,\n",
       "  'MESH:C001579': 5,\n",
       "  'CHEBI:CHEBI:38200': 4,\n",
       "  'MESH:D001254': 2,\n",
       "  'HGNC:10933': 3},\n",
       " 'f1': {'mean': 0.968262, 'std': 0.00859},\n",
       " 'precision': {'mean': 0.952443, 'std': 0.010563},\n",
       " 'recall': {'mean': 0.985379, 'std': 0.005862},\n",
       " 'CHEBI:CHEBI:63918': {'f1': {'mean': 0.0, 'std': 0.0},\n",
       "  'pr': {'mean': 0.0, 'std': 0.0},\n",
       "  'rc': {'mean': 0.0, 'std': 0.0}},\n",
       " 'MESH:D001253': {'f1': {'mean': 0.0, 'std': 0.0},\n",
       "  'pr': {'mean': 0.0, 'std': 0.0},\n",
       "  'rc': {'mean': 0.0, 'std': 0.0}},\n",
       " 'CHEBI:CHEBI:2896': {'f1': {'mean': 0.0, 'std': 0.0},\n",
       "  'pr': {'mean': 0.0, 'std': 0.0},\n",
       "  'rc': {'mean': 0.0, 'std': 0.0}},\n",
       " 'MESH:C001579': {'f1': {'mean': 0.0, 'std': 0.0},\n",
       "  'pr': {'mean': 0.0, 'std': 0.0},\n",
       "  'rc': {'mean': 0.0, 'std': 0.0}},\n",
       " 'CHEBI:CHEBI:65457': {'f1': {'mean': 0.340952, 'std': 0.258122},\n",
       "  'pr': {'mean': 0.253333, 'std': 0.220706},\n",
       "  'rc': {'mean': 0.6, 'std': 0.374166}},\n",
       " 'HGNC:10933': {'f1': {'mean': 0.0, 'std': 0.0},\n",
       "  'pr': {'mean': 0.0, 'std': 0.0},\n",
       "  'rc': {'mean': 0.0, 'std': 0.0}},\n",
       " 'CHEBI:CHEBI:38200': {'f1': {'mean': 0.0, 'std': 0.0},\n",
       "  'pr': {'mean': 0.0, 'std': 0.0},\n",
       "  'rc': {'mean': 0.0, 'std': 0.0}},\n",
       " 'CHEBI:CHEBI:40968': {'f1': {'mean': 0.716712, 'std': 0.083453},\n",
       "  'pr': {'mean': 0.703333, 'std': 0.134923},\n",
       "  'rc': {'mean': 0.745112, 'std': 0.056202}},\n",
       " 'CHEBI:CHEBI:76649': {'f1': {'mean': 0.8, 'std': 0.4},\n",
       "  'pr': {'mean': 0.8, 'std': 0.4},\n",
       "  'rc': {'mean': 0.8, 'std': 0.4}},\n",
       " 'MESH:C076523': {'f1': {'mean': 0.2, 'std': 0.4},\n",
       "  'pr': {'mean': 0.2, 'std': 0.4},\n",
       "  'rc': {'mean': 0.2, 'std': 0.4}},\n",
       " 'MESH:D001254': {'f1': {'mean': 0.0, 'std': 0.0},\n",
       "  'pr': {'mean': 0.0, 'std': 0.0},\n",
       "  'rc': {'mean': 0.0, 'std': 0.0}},\n",
       " 'ungrounded': {'f1': {'mean': 0.768922, 'std': 0.08427},\n",
       "  'pr': {'mean': 0.65, 'std': 0.097183},\n",
       "  'rc': {'mean': 0.949206, 'std': 0.063014}},\n",
       " 'FPLX:GOT': {'f1': {'mean': 0.980502, 'std': 0.00588},\n",
       "  'pr': {'mean': 0.99891, 'std': 0.001335},\n",
       "  'rc': {'mean': 0.962824, 'std': 0.01116}}}"
      ]
     },
     "execution_count": 19,
     "metadata": {},
     "output_type": "execute_result"
    }
   ],
   "source": [
    "classifier.stats"
   ]
  },
  {
   "cell_type": "code",
   "execution_count": 20,
   "metadata": {},
   "outputs": [],
   "source": [
    "disamb = AdeftDisambiguator(classifier, grounding_dict, names)"
   ]
  },
  {
   "cell_type": "code",
   "execution_count": 21,
   "metadata": {},
   "outputs": [],
   "source": [
    "disamb.dump(model_name, results_path)"
   ]
  },
  {
   "cell_type": "code",
   "execution_count": 22,
   "metadata": {},
   "outputs": [
    {
     "name": "stdout",
     "output_type": "stream",
     "text": [
      "Disambiguation model for AST\n",
      "\n",
      "Produces the disambiguations:\n",
      "\tAstrocytes\tMESH:D001253\n",
      "\tAstrocytoma\tMESH:D001254\n",
      "\tGOT*\tFPLX:GOT\n",
      "\tSLC17A5*\tHGNC:10933\n",
      "\tallatostatin\tMESH:C076523\n",
      "\tartesunate\tCHEBI:CHEBI:63918\n",
      "\tastaxanthin*\tCHEBI:CHEBI:40968\n",
      "\tastemizole\tCHEBI:CHEBI:2896\n",
      "\tastilbin\tCHEBI:CHEBI:38200\n",
      "\tastragalin\tMESH:C001579\n",
      "\tastragaloside IV\tCHEBI:CHEBI:65457\n",
      "\tastressin\tCHEBI:CHEBI:76649\n",
      "\n",
      "Class level metrics:\n",
      "--------------------\n",
      "Grounding       \tCount\tF1     \n",
      "             GOT*\t1834\t 0.9805\n",
      "     astaxanthin*\t  78\t0.71671\n",
      "      Ungrounded\t  60\t0.76892\n",
      "astragaloside IV\t  26\t0.34095\n",
      "      Astrocytes\t   5\t    0.0\n",
      "       astressin\t   5\t    0.8\n",
      "      astragalin\t   5\t    0.0\n",
      "    allatostatin\t   4\t    0.2\n",
      "      astemizole\t   4\t    0.0\n",
      "      artesunate\t   4\t    0.0\n",
      "        astilbin\t   4\t    0.0\n",
      "         SLC17A5*\t   3\t    0.0\n",
      "     Astrocytoma\t   2\t    0.0\n",
      "\n",
      "Weighted Metrics:\n",
      "-----------------\n",
      "\tF1 score:\t0.96826\n",
      "\tPrecision:\t0.95244\n",
      "\tRecall:\t\t0.98538\n",
      "\n",
      "* Positive labels\n",
      "See Docstring for explanation\n",
      "\n"
     ]
    }
   ],
   "source": [
    "print(disamb.info())"
   ]
  },
  {
   "cell_type": "code",
   "execution_count": 23,
   "metadata": {},
   "outputs": [],
   "source": [
    "model_to_s3(disamb)"
   ]
  },
  {
   "cell_type": "code",
   "execution_count": null,
   "metadata": {},
   "outputs": [],
   "source": []
  }
 ],
 "metadata": {
  "kernelspec": {
   "display_name": "Python 3",
   "language": "python",
   "name": "python3"
  },
  "language_info": {
   "codemirror_mode": {
    "name": "ipython",
    "version": 3
   },
   "file_extension": ".py",
   "mimetype": "text/x-python",
   "name": "python",
   "nbconvert_exporter": "python",
   "pygments_lexer": "ipython3",
   "version": "3.8.4"
  }
 },
 "nbformat": 4,
 "nbformat_minor": 2
}
