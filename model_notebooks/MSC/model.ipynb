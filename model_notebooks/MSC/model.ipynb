{
 "cells": [
  {
   "cell_type": "code",
   "execution_count": 1,
   "metadata": {},
   "outputs": [],
   "source": [
    "import os\n",
    "import json\n",
    "import pickle\n",
    "import random\n",
    "from collections import defaultdict, Counter\n",
    "\n",
    "from indra.literature.adeft_tools import universal_extract_text\n",
    "from indra.databases.hgnc_client import get_hgnc_name, get_hgnc_id\n",
    "\n",
    "from adeft.discover import AdeftMiner\n",
    "from adeft.gui import ground_with_gui\n",
    "from adeft.modeling.label import AdeftLabeler\n",
    "from adeft.modeling.classify import AdeftClassifier\n",
    "from adeft.disambiguate import AdeftDisambiguator\n",
    "\n",
    "\n",
    "from adeft_indra.ground.ground import AdeftGrounder\n",
    "from adeft_indra.model_building.s3 import model_to_s3\n",
    "from adeft_indra.model_building.escape import escape_filename\n",
    "from adeft_indra.db.content import get_pmids_for_agent_text, get_pmids_for_entity, \\\n",
    "    get_plaintexts_for_pmids"
   ]
  },
  {
   "cell_type": "code",
   "execution_count": 2,
   "metadata": {},
   "outputs": [],
   "source": [
    "adeft_grounder = AdeftGrounder()"
   ]
  },
  {
   "cell_type": "code",
   "execution_count": 3,
   "metadata": {},
   "outputs": [],
   "source": [
    "shortforms = ['MSC', 'MSCs']\n",
    "model_name = ':'.join(sorted(escape_filename(shortform) for shortform in shortforms))\n",
    "results_path = os.path.abspath(os.path.join('../..', 'results', model_name))"
   ]
  },
  {
   "cell_type": "code",
   "execution_count": 4,
   "metadata": {},
   "outputs": [],
   "source": [
    "miners = dict()\n",
    "all_texts = {}\n",
    "for shortform in shortforms:\n",
    "    pmids = get_pmids_for_agent_text(shortform)\n",
    "    text_dict = get_plaintexts_for_pmids(pmids, contains=shortforms)\n",
    "    text_dict = {pmid: text for pmid, text in text_dict.items() if len(text) > 5}\n",
    "    miners[shortform] = AdeftMiner(shortform)\n",
    "    miners[shortform].process_texts(text_dict.values())\n",
    "    all_texts.update(text_dict)\n",
    "\n",
    "longform_dict = {}\n",
    "for shortform in shortforms:\n",
    "    longforms = miners[shortform].get_longforms()\n",
    "    longforms = [(longform, count, score) for longform, count, score in longforms\n",
    "                 if count*score > 2]\n",
    "    longform_dict[shortform] = longforms\n",
    "    \n",
    "combined_longforms = Counter()\n",
    "for longform_rows in longform_dict.values():\n",
    "    combined_longforms.update({longform: count for longform, count, score\n",
    "                               in longform_rows})\n",
    "grounding_map = {}\n",
    "names = {}\n",
    "for longform in combined_longforms:\n",
    "    groundings = adeft_grounder.ground(longform)\n",
    "    if groundings:\n",
    "        grounding = groundings[0]['grounding']\n",
    "        grounding_map[longform] = grounding\n",
    "        names[grounding] = groundings[0]['name']\n",
    "longforms, counts = zip(*combined_longforms.most_common())"
   ]
  },
  {
   "cell_type": "code",
   "execution_count": null,
   "metadata": {},
   "outputs": [],
   "source": [
    "grounding_map, names, pos_labels = ground_with_gui(longforms, counts, \n",
    "                                                   grounding_map=grounding_map,\n",
    "                                                   names=names, no_browser=True, port=8890)"
   ]
  },
  {
   "cell_type": "code",
   "execution_count": 7,
   "metadata": {},
   "outputs": [],
   "source": [
    "result = [grounding_map, names, pos_labels]"
   ]
  },
  {
   "cell_type": "code",
   "execution_count": 8,
   "metadata": {},
   "outputs": [
    {
     "data": {
      "text/plain": [
       "[{'marijuana smoke condensate': 'ungrounded',\n",
       "  'mcs': 'ungrounded',\n",
       "  'mechanosensitive channel': 'FPLX:Mechanosensitive_Ion_Channels',\n",
       "  'mechanosensitive channels': 'FPLX:Mechanosensitive_Ion_Channels',\n",
       "  'mechanosensitive ion channels': 'FPLX:Mechanosensitive_Ion_Channels',\n",
       "  'mesenchymal': 'MESH:D059630',\n",
       "  'mesenchymal stem cells': 'MESH:D059630',\n",
       "  'methanol extract of sorbus commixta cortex': 'ungrounded',\n",
       "  'methyl l selenocysteine': 'CHEBI:CHEBI:27812',\n",
       "  'methyl selenocysteine': 'CHEBI:CHEBI:27812',\n",
       "  'methylselenocysteine': 'CHEBI:CHEBI:27812',\n",
       "  'molecular sentinel on chip': 'ungrounded',\n",
       "  'msc': 'ungrounded',\n",
       "  'msc conditions medium': 'MESH:D059630',\n",
       "  'mscs': 'ungrounded',\n",
       "  'multi aminoacyl trna synthetase complex': 'MESH:D000604',\n",
       "  'multi synthetase complex': 'MESH:D000604',\n",
       "  'multi trna synthetase complex': 'MESH:D000604',\n",
       "  'multifocal serpiginoid choroiditis': 'MESH:D000080364',\n",
       "  'multiple aminoacyl trna synthetase complex': 'MESH:D000604',\n",
       "  'multiple scatter correction': 'ungrounded',\n",
       "  'multisynthetase complex': 'MESH:D000604',\n",
       "  'muscimol': 'CHEBI:CHEBI:7035',\n",
       "  'musculin': 'HGNC:7321',\n",
       "  'musculoskeletal complaints': 'ungrounded',\n",
       "  'se methylseleno l cysteine': 'CHEBI:CHEBI:27812'},\n",
       " {'FPLX:Mechanosensitive_Ion_Channels': 'Mechanosensitive_Ion_Channels',\n",
       "  'MESH:D059630': 'Mesenchymal Stem Cells',\n",
       "  'CHEBI:CHEBI:27812': 'Se-methyl-L-selenocysteine',\n",
       "  'MESH:D000604': 'Amino Acyl-tRNA Synthetases',\n",
       "  'MESH:D000080364': 'Multifocal Choroiditis',\n",
       "  'CHEBI:CHEBI:7035': 'muscimol',\n",
       "  'HGNC:7321': 'MSC'},\n",
       " ['CHEBI:CHEBI:27812',\n",
       "  'CHEBI:CHEBI:7035',\n",
       "  'FPLX:Mechanosensitive_Ion_Channels',\n",
       "  'HGNC:7321',\n",
       "  'MESH:D000080364',\n",
       "  'MESH:D000604',\n",
       "  'MESH:D059630']]"
      ]
     },
     "execution_count": 8,
     "metadata": {},
     "output_type": "execute_result"
    }
   ],
   "source": [
    "result"
   ]
  },
  {
   "cell_type": "code",
   "execution_count": 26,
   "metadata": {},
   "outputs": [],
   "source": [
    "grounding_map, names, pos_labels = [{'marijuana smoke condensate': 'ungrounded',\n",
    "  'mcs': 'ungrounded',\n",
    "  'mechanosensitive channel': 'FPLX:Mechanosensitive_ion_channels',\n",
    "  'mechanosensitive channels': 'FPLX:Mechanosensitive_ion_channels',\n",
    "  'mechanosensitive ion channels': 'FPLX:Mechanosensitive_ion_channels',\n",
    "  'mesenchymal': 'MESH:D059630',\n",
    "  'mesenchymal stem cells': 'MESH:D059630',\n",
    "  'methanol extract of sorbus commixta cortex': 'ungrounded',\n",
    "  'methyl l selenocysteine': 'CHEBI:CHEBI:27812',\n",
    "  'methyl selenocysteine': 'CHEBI:CHEBI:27812',\n",
    "  'methylselenocysteine': 'CHEBI:CHEBI:27812',\n",
    "  'molecular sentinel on chip': 'ungrounded',\n",
    "  'msc': 'ungrounded',\n",
    "  'msc conditions medium': 'MESH:D059630',\n",
    "  'mscs': 'ungrounded',\n",
    "  'multi aminoacyl trna synthetase complex': 'MESH:D000604',\n",
    "  'multi synthetase complex': 'MESH:D000604',\n",
    "  'multi trna synthetase complex': 'MESH:D000604',\n",
    "  'multifocal serpiginoid choroiditis': 'MESH:D000080364',\n",
    "  'multiple aminoacyl trna synthetase complex': 'MESH:D000604',\n",
    "  'multiple scatter correction': 'ungrounded',\n",
    "  'multisynthetase complex': 'MESH:D000604',\n",
    "  'muscimol': 'CHEBI:CHEBI:7035',\n",
    "  'musculin': 'HGNC:7321',\n",
    "  'musculoskeletal complaints': 'ungrounded',\n",
    "  'se methylseleno l cysteine': 'CHEBI:CHEBI:27812'},\n",
    " {'FPLX:Mechanosensitive_ion_channels': 'Mechanosensitive_ion_channels',\n",
    "  'MESH:D059630': 'Mesenchymal Stem Cells',\n",
    "  'CHEBI:CHEBI:27812': 'Se-methyl-L-selenocysteine',\n",
    "  'MESH:D000604': 'Amino Acyl-tRNA Synthetases',\n",
    "  'MESH:D000080364': 'Multifocal Choroiditis',\n",
    "  'CHEBI:CHEBI:7035': 'muscimol',\n",
    "  'HGNC:7321': 'MSC'},\n",
    " ['CHEBI:CHEBI:27812',\n",
    "  'CHEBI:CHEBI:7035',\n",
    "  'FPLX:Mechanosensitive_ion_channels',\n",
    "  'HGNC:7321',\n",
    "  'MESH:D000080364',\n",
    "  'MESH:D000604',\n",
    "  'MESH:D059630']]"
   ]
  },
  {
   "cell_type": "code",
   "execution_count": 27,
   "metadata": {},
   "outputs": [],
   "source": [
    "excluded_longforms = ['msc', 'mcs', 'mscs']"
   ]
  },
  {
   "cell_type": "code",
   "execution_count": 28,
   "metadata": {},
   "outputs": [],
   "source": [
    "grounding_dict = {shortform: {longform: grounding_map[longform] \n",
    "                              for longform, _, _ in longforms if longform in grounding_map\n",
    "                              and longform not in excluded_longforms}\n",
    "                  for shortform, longforms in longform_dict.items()}\n",
    "result = [grounding_dict, names, pos_labels]\n",
    "\n",
    "if not os.path.exists(results_path):\n",
    "    os.mkdir(results_path)\n",
    "with open(os.path.join(results_path, f'{model_name}_preliminary_grounding_info.json'), 'w') as f:\n",
    "    json.dump(result, f)"
   ]
  },
  {
   "cell_type": "code",
   "execution_count": 29,
   "metadata": {},
   "outputs": [],
   "source": [
    "additional_entities = {'HGNC:7321': ['MSC', ['MSC', 'musculin', 'Musculin']]}"
   ]
  },
  {
   "cell_type": "code",
   "execution_count": 30,
   "metadata": {},
   "outputs": [],
   "source": [
    "unambiguous_agent_texts = {'HGNC:7321': ['MSC', ['musculin', 'Musculin']]}"
   ]
  },
  {
   "cell_type": "code",
   "execution_count": 31,
   "metadata": {},
   "outputs": [],
   "source": [
    "labeler = AdeftLabeler(grounding_dict)\n",
    "corpus = labeler.build_from_texts((text, pmid) for pmid, text in all_texts.items())\n",
    "agent_text_pmid_map = defaultdict(list)\n",
    "for text, label, id_ in corpus:\n",
    "    agent_text_pmid_map[label].append(id_)\n",
    "\n",
    "\n",
    "entity_pmid_map = {entity: set(get_pmids_for_entity(*entity.split(':', maxsplit=1),\n",
    "                                                major_topic=True))for entity in additional_entities}"
   ]
  },
  {
   "cell_type": "code",
   "execution_count": 32,
   "metadata": {},
   "outputs": [],
   "source": [
    "intersection1 = []\n",
    "for entity1, pmids1 in entity_pmid_map.items():\n",
    "    for entity2, pmids2 in entity_pmid_map.items():\n",
    "        intersection1.append((entity1, entity2, len(pmids1 & pmids2)))"
   ]
  },
  {
   "cell_type": "code",
   "execution_count": 33,
   "metadata": {},
   "outputs": [],
   "source": [
    "intersection2 = []\n",
    "for entity1, pmids1 in agent_text_pmid_map.items():\n",
    "    for entity2, pmids2 in entity_pmid_map.items():\n",
    "        intersection2.append((entity1, entity2, len(set(pmids1) & pmids2)))"
   ]
  },
  {
   "cell_type": "code",
   "execution_count": 34,
   "metadata": {},
   "outputs": [
    {
     "data": {
      "text/plain": [
       "[('HGNC:7321', 'HGNC:7321', 21)]"
      ]
     },
     "execution_count": 34,
     "metadata": {},
     "output_type": "execute_result"
    }
   ],
   "source": [
    "intersection1"
   ]
  },
  {
   "cell_type": "code",
   "execution_count": 35,
   "metadata": {},
   "outputs": [
    {
     "data": {
      "text/plain": [
       "[('CHEBI:CHEBI:27812', 'HGNC:7321', 0),\n",
       " ('MESH:D059630', 'HGNC:7321', 0),\n",
       " ('ungrounded', 'HGNC:7321', 0),\n",
       " ('MESH:D000604', 'HGNC:7321', 0),\n",
       " ('CHEBI:CHEBI:7035', 'HGNC:7321', 0),\n",
       " ('FPLX:Mechanosensitive_ion_channels', 'HGNC:7321', 0),\n",
       " ('HGNC:7321', 'HGNC:7321', 0),\n",
       " ('MESH:D000080364', 'HGNC:7321', 0)]"
      ]
     },
     "execution_count": 35,
     "metadata": {},
     "output_type": "execute_result"
    }
   ],
   "source": [
    "intersection2"
   ]
  },
  {
   "cell_type": "code",
   "execution_count": null,
   "metadata": {},
   "outputs": [],
   "source": []
  },
  {
   "cell_type": "code",
   "execution_count": 36,
   "metadata": {},
   "outputs": [],
   "source": [
    "all_used_pmids = set()\n",
    "for entity, agent_texts in unambiguous_agent_texts.items():\n",
    "    used_pmids = set()\n",
    "    for agent_text in agent_texts[1]:\n",
    "        pmids = set(get_pmids_for_agent_text(agent_text))\n",
    "        new_pmids = list(pmids - all_texts.keys() - used_pmids)\n",
    "        text_dict = get_plaintexts_for_pmids(new_pmids, contains=agent_texts)\n",
    "        corpus.extend([(text, entity, pmid) for pmid, text in text_dict.items() if len(text) >= 5])\n",
    "        used_pmids.update(new_pmids)\n",
    "    all_used_pmids.update(used_pmids)\n",
    "        \n",
    "for entity, pmids in entity_pmid_map.items():\n",
    "    new_pmids = list(set(pmids) - all_texts.keys() - all_used_pmids)\n",
    "    if len(new_pmids) > 10000:\n",
    "        new_pmids = random.choices(new_pmids, k=10000)\n",
    "    _, contains = additional_entities[entity]\n",
    "    text_dict = get_plaintexts_for_pmids(new_pmids, contains=contains)\n",
    "    corpus.extend([(text, entity, pmid) for pmid, text in text_dict.items() if len(text) >= 5])"
   ]
  },
  {
   "cell_type": "code",
   "execution_count": 37,
   "metadata": {},
   "outputs": [],
   "source": [
    "names.update({key: value[0] for key, value in additional_entities.items()})\n",
    "names.update({key: value[0] for key, value in unambiguous_agent_texts.items()})\n",
    "pos_labels = list(set(pos_labels) | additional_entities.keys() |\n",
    "                  unambiguous_agent_texts.keys())"
   ]
  },
  {
   "cell_type": "code",
   "execution_count": 38,
   "metadata": {},
   "outputs": [
    {
     "name": "stderr",
     "output_type": "stream",
     "text": [
      "INFO: [2020-10-30 03:09:04] /adeft/PP/adeft/adeft/modeling/classify.py - Beginning grid search in parameter space:\n",
      "{'C': [100.0], 'max_features': [10000]}\n",
      "INFO: [2020-10-30 03:10:52] /adeft/PP/adeft/adeft/modeling/classify.py - Best f1 score of 0.9880264679919669 found for parameter values:\n",
      "{'logit__C': 100.0, 'tfidf__max_features': 10000}\n"
     ]
    }
   ],
   "source": [
    "%%capture\n",
    "\n",
    "classifier = AdeftClassifier(shortforms, pos_labels=pos_labels, random_state=1729)\n",
    "param_grid = {'C': [100.0], 'max_features': [10000]}\n",
    "texts, labels, pmids = zip(*corpus)\n",
    "classifier.cv(texts, labels, param_grid, cv=5, n_jobs=5)"
   ]
  },
  {
   "cell_type": "code",
   "execution_count": 39,
   "metadata": {
    "scrolled": true
   },
   "outputs": [
    {
     "data": {
      "text/plain": [
       "{'label_distribution': {'CHEBI:CHEBI:27812': 49,\n",
       "  'MESH:D059630': 4506,\n",
       "  'ungrounded': 13,\n",
       "  'MESH:D000604': 23,\n",
       "  'CHEBI:CHEBI:7035': 2,\n",
       "  'FPLX:Mechanosensitive_ion_channels': 19,\n",
       "  'HGNC:7321': 11,\n",
       "  'MESH:D000080364': 3},\n",
       " 'f1': {'mean': 0.988026, 'std': 0.003813},\n",
       " 'precision': {'mean': 0.985542, 'std': 0.004788},\n",
       " 'recall': {'mean': 0.991545, 'std': 0.002862},\n",
       " 'MESH:D059630': {'f1': {'mean': 0.994262, 'std': 0.001619},\n",
       "  'pr': {'mean': 0.999556, 'std': 0.000888},\n",
       "  'rc': {'mean': 0.989028, 'std': 0.002926}},\n",
       " 'MESH:D000604': {'f1': {'mean': 0.949206, 'std': 0.063014},\n",
       "  'pr': {'mean': 0.91, 'std': 0.111355},\n",
       "  'rc': {'mean': 1.0, 'std': 0.0}},\n",
       " 'CHEBI:CHEBI:7035': {'f1': {'mean': 0.0, 'std': 0.0},\n",
       "  'pr': {'mean': 0.0, 'std': 0.0},\n",
       "  'rc': {'mean': 0.0, 'std': 0.0}},\n",
       " 'CHEBI:CHEBI:27812': {'f1': {'mean': 0.842484, 'std': 0.094266},\n",
       "  'pr': {'mean': 0.74, 'std': 0.149666},\n",
       "  'rc': {'mean': 1.0, 'std': 0.0}},\n",
       " 'ungrounded': {'f1': {'mean': 0.0, 'std': 0.0},\n",
       "  'pr': {'mean': 0.0, 'std': 0.0},\n",
       "  'rc': {'mean': 0.0, 'std': 0.0}},\n",
       " 'FPLX:Mechanosensitive_ion_channels': {'f1': {'mean': 0.647619,\n",
       "   'std': 0.332107},\n",
       "  'pr': {'mean': 0.6, 'std': 0.339116},\n",
       "  'rc': {'mean': 0.75, 'std': 0.387298}},\n",
       " 'HGNC:7321': {'f1': {'mean': 0.213333, 'std': 0.27455},\n",
       "  'pr': {'mean': 0.166667, 'std': 0.210819},\n",
       "  'rc': {'mean': 0.3, 'std': 0.4}},\n",
       " 'MESH:D000080364': {'f1': {'mean': 0.0, 'std': 0.0},\n",
       "  'pr': {'mean': 0.0, 'std': 0.0},\n",
       "  'rc': {'mean': 0.0, 'std': 0.0}}}"
      ]
     },
     "execution_count": 39,
     "metadata": {},
     "output_type": "execute_result"
    }
   ],
   "source": [
    "classifier.stats"
   ]
  },
  {
   "cell_type": "code",
   "execution_count": 40,
   "metadata": {},
   "outputs": [],
   "source": [
    "disamb = AdeftDisambiguator(classifier, grounding_dict, names)"
   ]
  },
  {
   "cell_type": "code",
   "execution_count": 41,
   "metadata": {},
   "outputs": [],
   "source": [
    "disamb.dump(model_name, results_path)"
   ]
  },
  {
   "cell_type": "code",
   "execution_count": 42,
   "metadata": {},
   "outputs": [
    {
     "name": "stdout",
     "output_type": "stream",
     "text": [
      "Disambiguation model for MSC, and MSCs\n",
      "\n",
      "Produces the disambiguations:\n",
      "\tAmino Acyl-tRNA Synthetases*\tMESH:D000604\n",
      "\tMSC*\tHGNC:7321\n",
      "\tMechanosensitive_ion_channels*\tFPLX:Mechanosensitive_ion_channels\n",
      "\tMesenchymal Stem Cells*\tMESH:D059630\n",
      "\tMultifocal Choroiditis*\tMESH:D000080364\n",
      "\tSe-methyl-L-selenocysteine*\tCHEBI:CHEBI:27812\n",
      "\tmuscimol*\tCHEBI:CHEBI:7035\n",
      "\n",
      "Class level metrics:\n",
      "--------------------\n",
      "Grounding                    \tCount\tF1     \n",
      "       Mesenchymal Stem Cells*\t4506\t0.99426\n",
      "   Se-methyl-L-selenocysteine*\t  49\t0.84248\n",
      "  Amino Acyl-tRNA Synthetases*\t  23\t0.94921\n",
      "Mechanosensitive_ion_channels*\t  19\t0.64762\n",
      "                   Ungrounded\t  13\t    0.0\n",
      "                          MSC*\t  11\t0.21333\n",
      "       Multifocal Choroiditis*\t   3\t    0.0\n",
      "                     muscimol*\t   2\t    0.0\n",
      "\n",
      "Weighted Metrics:\n",
      "-----------------\n",
      "\tF1 score:\t0.98803\n",
      "\tPrecision:\t0.98554\n",
      "\tRecall:\t\t0.99154\n",
      "\n",
      "* Positive labels\n",
      "See Docstring for explanation\n",
      "\n"
     ]
    }
   ],
   "source": [
    "print(disamb.info())"
   ]
  },
  {
   "cell_type": "code",
   "execution_count": 51,
   "metadata": {},
   "outputs": [],
   "source": [
    "model_to_s3(disamb)"
   ]
  },
  {
   "cell_type": "code",
   "execution_count": 44,
   "metadata": {},
   "outputs": [],
   "source": [
    "preds = [disamb.disambiguate(text) for text in all_texts.values()]"
   ]
  },
  {
   "cell_type": "code",
   "execution_count": 45,
   "metadata": {},
   "outputs": [],
   "source": [
    "texts = [text for pred, text in zip(preds, all_texts.values()) if pred[0] == 'HGNC:7321']"
   ]
  },
  {
   "cell_type": "code",
   "execution_count": 46,
   "metadata": {},
   "outputs": [
    {
     "data": {
      "text/plain": [
       "4"
      ]
     },
     "execution_count": 46,
     "metadata": {},
     "output_type": "execute_result"
    }
   ],
   "source": [
    "len(texts)"
   ]
  },
  {
   "cell_type": "code",
   "execution_count": 50,
   "metadata": {},
   "outputs": [
    {
     "data": {
      "text/plain": [
       "'This study aimed to explore whether intrauterine infusion of peripheral blood mononuclear cells (PBMCs) could induce favorable transcriptomic changes in the endometrium for embryo implantation and the potential mechanism. Twenty-one mice were randomly divided to five groups, including a normal pregnancy (NP) group, an embryo implantation dysfunction (EID) group, an EID with human chorionic gonadotropin (hCG) group, an EID with PBMCs group, and an EID with hCG co-cultured with PBMCs group. The endometrium in the implantation window from mice were collected and determined by RNA sequencing (RNA-Seq), and the expression of significantly different genes with high degree of coincidence was recommended and validated by quantitative real-time polymerase chain reaction (qRT-PCR). There were totally 1,366 up-regulated and 1,374 down-regulated genes in the EID mice compared with the normal pregnant mice. We selected (fold change ≥2, P<0.05) and verified the candidate genes associated with embryo implantation, immune response and other reproductive processes in previous reports by qRT-PCR. Leukemia inhibitory factor (LIF), solute carrier family 15 member 2 (SLC15A2), retinoic acid receptor responder 1 (RARRES1), vascular cell adhesion molecule 1 (VCAM1) were down-regulated and musculin (MSC), chemokine (C-X-C motif) ligand 14 (CXCL14) were up-regulated significantly in EID group (P<0.05), and the synergistic effects of hCG were seen. In addition, the expression of glucocorticoid receptor (GR)-β in PBMCs of NP mice was higher than that of EID mice, and up-regulated GR-β in EID mice could significantly increase the expression of LIF, SLC15A2, RARRES1 and VCAM1, and decrease the expression of CXCL14 and MSC, which indicated GR-β might be a transcriptional factor of the six genes above. Intrauterine PBMCs perfusion might improve the performance of impaired endometrial receptivity by regulating LIF, SLC15A2, RARRES1, VCAM1, MSC as well as CXCL14, and hCG could enhance the effect of PBMCs. In addition, GR-β, as a transcriptional factor, could regulate the six genes in PBMCs.\\n'"
      ]
     },
     "execution_count": 50,
     "metadata": {},
     "output_type": "execute_result"
    }
   ],
   "source": [
    "texts[3]"
   ]
  },
  {
   "cell_type": "code",
   "execution_count": null,
   "metadata": {},
   "outputs": [],
   "source": []
  }
 ],
 "metadata": {
  "kernelspec": {
   "display_name": "Python 3",
   "language": "python",
   "name": "python3"
  },
  "language_info": {
   "codemirror_mode": {
    "name": "ipython",
    "version": 3
   },
   "file_extension": ".py",
   "mimetype": "text/x-python",
   "name": "python",
   "nbconvert_exporter": "python",
   "pygments_lexer": "ipython3",
   "version": "3.8.4"
  }
 },
 "nbformat": 4,
 "nbformat_minor": 2
}
