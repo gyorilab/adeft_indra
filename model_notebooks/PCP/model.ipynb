{
 "cells": [
  {
   "cell_type": "code",
   "execution_count": 1,
   "metadata": {},
   "outputs": [],
   "source": [
    "import os\n",
    "import json\n",
    "import pickle\n",
    "import random\n",
    "from collections import defaultdict, Counter\n",
    "\n",
    "from indra.literature.adeft_tools import universal_extract_text\n",
    "from indra.databases.hgnc_client import get_hgnc_name, get_hgnc_id\n",
    "\n",
    "from adeft.discover import AdeftMiner\n",
    "from adeft.gui import ground_with_gui\n",
    "from adeft.modeling.label import AdeftLabeler\n",
    "from adeft.modeling.classify import AdeftClassifier\n",
    "from adeft.disambiguate import AdeftDisambiguator, load_disambiguator\n",
    "\n",
    "\n",
    "from adeft_indra.ground.ground import AdeftGrounder\n",
    "from adeft_indra.model_building.s3 import model_to_s3\n",
    "from adeft_indra.model_building.escape import escape_filename\n",
    "from adeft_indra.db.content import get_pmids_for_agent_text, get_pmids_for_entity, \\\n",
    "    get_plaintexts_for_pmids"
   ]
  },
  {
   "cell_type": "code",
   "execution_count": 2,
   "metadata": {},
   "outputs": [],
   "source": [
    "adeft_grounder = AdeftGrounder()"
   ]
  },
  {
   "cell_type": "code",
   "execution_count": 3,
   "metadata": {},
   "outputs": [],
   "source": [
    "shortforms = ['PCP']\n",
    "model_name = ':'.join(sorted(escape_filename(shortform) for shortform in shortforms))\n",
    "results_path = os.path.abspath(os.path.join('../..', 'results', model_name))"
   ]
  },
  {
   "cell_type": "code",
   "execution_count": 4,
   "metadata": {},
   "outputs": [],
   "source": [
    "miners = dict()\n",
    "all_texts = {}\n",
    "for shortform in shortforms:\n",
    "    pmids = get_pmids_for_agent_text(shortform)\n",
    "    text_dict = get_plaintexts_for_pmids(pmids, contains=shortforms)\n",
    "    text_dict = {pmid: text for pmid, text in text_dict.items() if len(text) > 5}\n",
    "    miners[shortform] = AdeftMiner(shortform)\n",
    "    miners[shortform].process_texts(text_dict.values())\n",
    "    all_texts.update(text_dict)\n",
    "\n",
    "longform_dict = {}\n",
    "for shortform in shortforms:\n",
    "    longforms = miners[shortform].get_longforms()\n",
    "    longforms = [(longform, count, score) for longform, count, score in longforms\n",
    "                 if count*score > 2]\n",
    "    longform_dict[shortform] = longforms\n",
    "    \n",
    "combined_longforms = Counter()\n",
    "for longform_rows in longform_dict.values():\n",
    "    combined_longforms.update({longform: count for longform, count, score\n",
    "                               in longform_rows})\n",
    "grounding_map = {}\n",
    "names = {}\n",
    "for longform in combined_longforms:\n",
    "    groundings = adeft_grounder.ground(longform)\n",
    "    if groundings:\n",
    "        grounding = groundings[0]['grounding']\n",
    "        grounding_map[longform] = grounding\n",
    "        names[grounding] = groundings[0]['name']\n",
    "longforms, counts = zip(*combined_longforms.most_common())\n",
    "pos_labels = []"
   ]
  },
  {
   "cell_type": "code",
   "execution_count": 5,
   "metadata": {},
   "outputs": [
    {
     "data": {
      "text/plain": [
       "[('phencyclidine', 1127),\n",
       " ('planar cell polarity', 741),\n",
       " ('pentachlorophenol', 330),\n",
       " ('pneumocystis pneumonia', 91),\n",
       " ('pneumocystis carinii pneumonia', 56),\n",
       " ('peptidyl carrier protein', 40),\n",
       " ('primary care physician', 21),\n",
       " ('primary care provider', 21),\n",
       " ('cell polarity pathway', 15),\n",
       " ('perception', 12),\n",
       " ('pomegranate concentrate powder', 9),\n",
       " ('pulmonary capillary pressure', 9),\n",
       " ('pneumocystis jiroveci pneumonia', 8),\n",
       " ('precleaved 40 bp primary site containing dna', 8),\n",
       " ('procollagen c proteinase', 6),\n",
       " ('pentose catabolic pathway', 6),\n",
       " ('paracellular permeability', 6),\n",
       " ('phenylcyclohexyl piperidine', 6),\n",
       " ('papain like cysteine protease', 6),\n",
       " ('p carinii pneumonia', 5),\n",
       " ('pc pneumonia', 5),\n",
       " ('porous coordinated polymer', 4),\n",
       " ('poria cocos polysaccharide', 4),\n",
       " ('prochelator peptide', 3),\n",
       " ('prochlorperazine', 3)]"
      ]
     },
     "execution_count": 5,
     "metadata": {},
     "output_type": "execute_result"
    }
   ],
   "source": [
    "list(zip(longforms, counts))"
   ]
  },
  {
   "cell_type": "code",
   "execution_count": 6,
   "metadata": {},
   "outputs": [],
   "source": [
    "try:\n",
    "    disamb = load_disambiguator(shortforms[0])\n",
    "    for shortform, gm in disamb.grounding_dict.items():\n",
    "        for longform, grounding in gm.items():\n",
    "            grounding_map[longform] = grounding\n",
    "    for grounding, name in disamb.names.items():\n",
    "        names[grounding] = name\n",
    "    pos_labels = disamb.pos_labels\n",
    "except Exception:\n",
    "    pass"
   ]
  },
  {
   "cell_type": "code",
   "execution_count": 9,
   "metadata": {},
   "outputs": [
    {
     "name": "stderr",
     "output_type": "stream",
     "text": [
      "INFO: [2020-10-31 19:34:39] indra.ontology.bio.ontology - Loading INDRA bio ontology from cache at /home/ubuntu/.indra/bio_ontology/1.4/bio_ontology.pkl\n"
     ]
    }
   ],
   "source": [
    "grounding_map, names, pos_labels = ground_with_gui(longforms, counts, \n",
    "                                                   grounding_map=grounding_map,\n",
    "                                                   names=names, pos_labels=pos_labels, no_browser=True, port=8891)"
   ]
  },
  {
   "cell_type": "code",
   "execution_count": 10,
   "metadata": {},
   "outputs": [],
   "source": [
    "result = [grounding_map, names, pos_labels]"
   ]
  },
  {
   "cell_type": "code",
   "execution_count": 11,
   "metadata": {},
   "outputs": [
    {
     "data": {
      "text/plain": [
       "[{'cell polarity pathway': 'ungrounded',\n",
       "  'p carinii pneumonia': 'ungrounded',\n",
       "  'papain like cysteine protease': 'PF:PF00112)',\n",
       "  'paracellular permeability': 'ungrounded',\n",
       "  'pc pneumonia': 'ungrounded',\n",
       "  'pentachlorophenol': 'CHEBI:CHEBI:17642',\n",
       "  'pentose catabolic pathway': 'MESH:D010427',\n",
       "  'peptidyl carrier protein': 'GO:GO:1904091',\n",
       "  'perception': 'MESH:D010465',\n",
       "  'phencyclidine': 'CHEBI:CHEBI:8058',\n",
       "  'phenylcyclohexyl piperidine': 'CHEBI:CHEBI:8058',\n",
       "  'planar cell polarity': 'MESH:D016764',\n",
       "  'pneumocystis carinii pneumonia': 'MESH:D011020',\n",
       "  'pneumocystis jiroveci pneumonia': 'ungrounded',\n",
       "  'pneumocystis pneumonia': 'MESH:D011020',\n",
       "  'pomegranate concentrate powder': 'ungrounded',\n",
       "  'poria cocos polysaccharide': 'ungrounded',\n",
       "  'porous coordinated polymer': 'ungrounded',\n",
       "  'precleaved 40 bp primary site containing dna': 'ungrounded',\n",
       "  'primary care physician': 'MESH:D058007',\n",
       "  'primary care provider': 'MESH:D058007',\n",
       "  'prochelator peptide': 'ungrounded',\n",
       "  'prochlorperazine': 'CHEBI:CHEBI:8435',\n",
       "  'procollagen c proteinase': 'HGNC:8737',\n",
       "  'pulmonary capillary pressure': 'ungrounded'},\n",
       " {'PF:PF00112)': 'Papain family cysteine protease',\n",
       "  'CHEBI:CHEBI:17642': 'pentachlorophenol',\n",
       "  'MESH:D010427': 'Pentose Phosphate Pathway',\n",
       "  'GO:GO:1904091': 'peptidyl carrier protein activity',\n",
       "  'MESH:D010465': 'Perception',\n",
       "  'CHEBI:CHEBI:8058': 'phencyclidine',\n",
       "  'MESH:D016764': 'Cell Polarity',\n",
       "  'MESH:D011020': 'Pneumonia, Pneumocystis',\n",
       "  'MESH:D058007': 'Physicians, Primary Care',\n",
       "  'CHEBI:CHEBI:8435': 'prochlorperazine',\n",
       "  'HGNC:8737': 'BMP1'},\n",
       " ['CHEBI:CHEBI:17642',\n",
       "  'CHEBI:CHEBI:8058',\n",
       "  'GO:GO:1904091',\n",
       "  'HGNC:8737',\n",
       "  'MESH:D010427',\n",
       "  'MESH:D011020']]"
      ]
     },
     "execution_count": 11,
     "metadata": {},
     "output_type": "execute_result"
    }
   ],
   "source": [
    "result"
   ]
  },
  {
   "cell_type": "code",
   "execution_count": 12,
   "metadata": {},
   "outputs": [],
   "source": [
    "grounding_map, names, pos_labels = [{'cell polarity pathway': 'ungrounded',\n",
    "  'p carinii pneumonia': 'ungrounded',\n",
    "  'papain like cysteine protease': 'PF:PF00112)',\n",
    "  'paracellular permeability': 'ungrounded',\n",
    "  'pc pneumonia': 'ungrounded',\n",
    "  'pentachlorophenol': 'CHEBI:CHEBI:17642',\n",
    "  'pentose catabolic pathway': 'MESH:D010427',\n",
    "  'peptidyl carrier protein': 'GO:GO:1904091',\n",
    "  'perception': 'MESH:D010465',\n",
    "  'phencyclidine': 'CHEBI:CHEBI:8058',\n",
    "  'phenylcyclohexyl piperidine': 'CHEBI:CHEBI:8058',\n",
    "  'planar cell polarity': 'MESH:D016764',\n",
    "  'pneumocystis carinii pneumonia': 'MESH:D011020',\n",
    "  'pneumocystis jiroveci pneumonia': 'ungrounded',\n",
    "  'pneumocystis pneumonia': 'MESH:D011020',\n",
    "  'pomegranate concentrate powder': 'ungrounded',\n",
    "  'poria cocos polysaccharide': 'ungrounded',\n",
    "  'porous coordinated polymer': 'ungrounded',\n",
    "  'precleaved 40 bp primary site containing dna': 'ungrounded',\n",
    "  'primary care physician': 'MESH:D058007',\n",
    "  'primary care provider': 'MESH:D058007',\n",
    "  'prochelator peptide': 'ungrounded',\n",
    "  'prochlorperazine': 'CHEBI:CHEBI:8435',\n",
    "  'procollagen c proteinase': 'HGNC:8737',\n",
    "  'pulmonary capillary pressure': 'ungrounded'},\n",
    " {'PF:PF00112)': 'Papain family cysteine protease',\n",
    "  'CHEBI:CHEBI:17642': 'pentachlorophenol',\n",
    "  'MESH:D010427': 'Pentose Phosphate Pathway',\n",
    "  'GO:GO:1904091': 'peptidyl carrier protein activity',\n",
    "  'MESH:D010465': 'Perception',\n",
    "  'CHEBI:CHEBI:8058': 'phencyclidine',\n",
    "  'MESH:D016764': 'Cell Polarity',\n",
    "  'MESH:D011020': 'Pneumonia, Pneumocystis',\n",
    "  'MESH:D058007': 'Physicians, Primary Care',\n",
    "  'CHEBI:CHEBI:8435': 'prochlorperazine',\n",
    "  'HGNC:8737': 'BMP1'},\n",
    " ['CHEBI:CHEBI:17642',\n",
    "  'CHEBI:CHEBI:8058',\n",
    "  'GO:GO:1904091',\n",
    "  'HGNC:8737',\n",
    "  'MESH:D010427',\n",
    "  'MESH:D011020']]"
   ]
  },
  {
   "cell_type": "code",
   "execution_count": 13,
   "metadata": {},
   "outputs": [],
   "source": [
    "excluded_longforms = []"
   ]
  },
  {
   "cell_type": "code",
   "execution_count": 14,
   "metadata": {},
   "outputs": [],
   "source": [
    "grounding_dict = {shortform: {longform: grounding_map[longform] \n",
    "                              for longform, _, _ in longforms if longform in grounding_map\n",
    "                              and longform not in excluded_longforms}\n",
    "                  for shortform, longforms in longform_dict.items()}\n",
    "result = [grounding_dict, names, pos_labels]\n",
    "\n",
    "if not os.path.exists(results_path):\n",
    "    os.mkdir(results_path)\n",
    "with open(os.path.join(results_path, f'{model_name}_preliminary_grounding_info.json'), 'w') as f:\n",
    "    json.dump(result, f)"
   ]
  },
  {
   "cell_type": "code",
   "execution_count": 17,
   "metadata": {},
   "outputs": [],
   "source": [
    "additional_entities = {}"
   ]
  },
  {
   "cell_type": "code",
   "execution_count": 18,
   "metadata": {},
   "outputs": [],
   "source": [
    "unambiguous_agent_texts = {}"
   ]
  },
  {
   "cell_type": "code",
   "execution_count": 19,
   "metadata": {},
   "outputs": [],
   "source": [
    "labeler = AdeftLabeler(grounding_dict)\n",
    "corpus = labeler.build_from_texts((text, pmid) for pmid, text in all_texts.items())\n",
    "agent_text_pmid_map = defaultdict(list)\n",
    "for text, label, id_ in corpus:\n",
    "    agent_text_pmid_map[label].append(id_)\n",
    "\n",
    "entity_pmid_map = {entity: set(get_pmids_for_entity(*entity.split(':', maxsplit=1),\n",
    "                                                major_topic=True))for entity in additional_entities}"
   ]
  },
  {
   "cell_type": "code",
   "execution_count": 18,
   "metadata": {},
   "outputs": [],
   "source": [
    "intersection1 = []\n",
    "for entity1, pmids1 in entity_pmid_map.items():\n",
    "    for entity2, pmids2 in entity_pmid_map.items():\n",
    "        intersection1.append((entity1, entity2, len(pmids1 & pmids2)))"
   ]
  },
  {
   "cell_type": "code",
   "execution_count": 19,
   "metadata": {},
   "outputs": [],
   "source": [
    "intersection2 = []\n",
    "for entity1, pmids1 in agent_text_pmid_map.items():\n",
    "    for entity2, pmids2 in entity_pmid_map.items():\n",
    "        intersection2.append((entity1, entity2, len(set(pmids1) & pmids2)))"
   ]
  },
  {
   "cell_type": "code",
   "execution_count": 20,
   "metadata": {},
   "outputs": [
    {
     "data": {
      "text/plain": [
       "[('HGNC:10967', 'HGNC:10967', 98)]"
      ]
     },
     "execution_count": 20,
     "metadata": {},
     "output_type": "execute_result"
    }
   ],
   "source": [
    "intersection1"
   ]
  },
  {
   "cell_type": "code",
   "execution_count": 21,
   "metadata": {},
   "outputs": [
    {
     "data": {
      "text/plain": [
       "[('GO:GO:0001837', 'HGNC:10967', 0),\n",
       " ('ungrounded', 'HGNC:10967', 0),\n",
       " ('HGNC:10967', 'HGNC:10967', 0),\n",
       " ('MESH:D055032', 'HGNC:10967', 0)]"
      ]
     },
     "execution_count": 21,
     "metadata": {},
     "output_type": "execute_result"
    }
   ],
   "source": [
    "intersection2"
   ]
  },
  {
   "cell_type": "code",
   "execution_count": 22,
   "metadata": {},
   "outputs": [],
   "source": [
    "all_used_pmids = set()\n",
    "for entity, agent_texts in unambiguous_agent_texts.items():\n",
    "    used_pmids = set()\n",
    "    for agent_text in agent_texts[1]:\n",
    "        pmids = set(get_pmids_for_agent_text(agent_text))\n",
    "        new_pmids = list(pmids - all_texts.keys() - used_pmids)\n",
    "        text_dict = get_plaintexts_for_pmids(new_pmids, contains=agent_texts)\n",
    "        corpus.extend([(text, entity, pmid) for pmid, text in text_dict.items() if len(text) >= 5])\n",
    "        used_pmids.update(new_pmids)\n",
    "    all_used_pmids.update(used_pmids)\n",
    "        \n",
    "for entity, pmids in entity_pmid_map.items():\n",
    "    new_pmids = list(set(pmids) - all_texts.keys() - all_used_pmids)\n",
    "    if len(new_pmids) > 10000:\n",
    "        new_pmids = random.choices(new_pmids, k=10000)\n",
    "    _, contains = additional_entities[entity]\n",
    "    text_dict = get_plaintexts_for_pmids(new_pmids, contains=contains)\n",
    "    corpus.extend([(text, entity, pmid) for pmid, text in text_dict.items() if len(text) >= 5])"
   ]
  },
  {
   "cell_type": "code",
   "execution_count": 23,
   "metadata": {},
   "outputs": [],
   "source": [
    "names.update({key: value[0] for key, value in additional_entities.items()})\n",
    "names.update({key: value[0] for key, value in unambiguous_agent_texts.items()})\n",
    "pos_labels = list(set(pos_labels) | additional_entities.keys() |\n",
    "                  unambiguous_agent_texts.keys())"
   ]
  },
  {
   "cell_type": "code",
   "execution_count": 20,
   "metadata": {},
   "outputs": [
    {
     "name": "stderr",
     "output_type": "stream",
     "text": [
      "INFO: [2020-10-31 19:54:17] /adeft/PP/adeft/adeft/modeling/classify.py - Beginning grid search in parameter space:\n",
      "{'C': [100.0], 'max_features': [10000]}\n",
      "INFO: [2020-10-31 19:54:56] /adeft/PP/adeft/adeft/modeling/classify.py - Best f1 score of 0.9646002508587295 found for parameter values:\n",
      "{'logit__C': 100.0, 'tfidf__max_features': 10000}\n"
     ]
    }
   ],
   "source": [
    "%%capture\n",
    "\n",
    "classifier = AdeftClassifier(shortforms, pos_labels=pos_labels, random_state=1729)\n",
    "param_grid = {'C': [100.0], 'max_features': [10000]}\n",
    "texts, labels, pmids = zip(*corpus)\n",
    "classifier.cv(texts, labels, param_grid, cv=5, n_jobs=5)"
   ]
  },
  {
   "cell_type": "code",
   "execution_count": 21,
   "metadata": {
    "scrolled": true
   },
   "outputs": [
    {
     "data": {
      "text/plain": [
       "{'label_distribution': {'CHEBI:CHEBI:8058': 897,\n",
       "  'CHEBI:CHEBI:17642': 265,\n",
       "  'MESH:D011020': 100,\n",
       "  'ungrounded': 55,\n",
       "  'HGNC:8737': 6,\n",
       "  'MESH:D016764': 505,\n",
       "  'CHEBI:CHEBI:8435': 3,\n",
       "  'PF:PF00112)': 4,\n",
       "  'GO:GO:1904091': 33,\n",
       "  'MESH:D058007': 33,\n",
       "  'MESH:D010427': 3,\n",
       "  'MESH:D010465': 1},\n",
       " 'f1': {'mean': 0.9646, 'std': 0.007461},\n",
       " 'precision': {'mean': 0.95661, 'std': 0.008289},\n",
       " 'recall': {'mean': 0.973931, 'std': 0.00744},\n",
       " 'ungrounded': {'f1': {'mean': 0.362544, 'std': 0.094161},\n",
       "  'pr': {'mean': 0.272727, 'std': 0.081312},\n",
       "  'rc': {'mean': 0.56, 'std': 0.135647}},\n",
       " 'CHEBI:CHEBI:8435': {'f1': {'mean': 0.0, 'std': 0.0},\n",
       "  'pr': {'mean': 0.0, 'std': 0.0},\n",
       "  'rc': {'mean': 0.0, 'std': 0.0}},\n",
       " 'PF:PF00112)': {'f1': {'mean': 0.6, 'std': 0.489898},\n",
       "  'pr': {'mean': 0.6, 'std': 0.489898},\n",
       "  'rc': {'mean': 0.6, 'std': 0.489898}},\n",
       " 'MESH:D016764': {'f1': {'mean': 0.979501, 'std': 0.006554},\n",
       "  'pr': {'mean': 0.994059, 'std': 0.011881},\n",
       "  'rc': {'mean': 0.965504, 'std': 0.009347}},\n",
       " 'MESH:D010427': {'f1': {'mean': 0.4, 'std': 0.489898},\n",
       "  'pr': {'mean': 0.4, 'std': 0.489898},\n",
       "  'rc': {'mean': 0.4, 'std': 0.489898}},\n",
       " 'HGNC:8737': {'f1': {'mean': 0.533333, 'std': 0.452155},\n",
       "  'pr': {'mean': 0.5, 'std': 0.447214},\n",
       "  'rc': {'mean': 0.6, 'std': 0.489898}},\n",
       " 'MESH:D011020': {'f1': {'mean': 0.875641, 'std': 0.051757},\n",
       "  'pr': {'mean': 0.91, 'std': 0.066332},\n",
       "  'rc': {'mean': 0.848813, 'std': 0.070667}},\n",
       " 'CHEBI:CHEBI:8058': {'f1': {'mean': 0.986703, 'std': 0.00409},\n",
       "  'pr': {'mean': 0.993315, 'std': 0.006486},\n",
       "  'rc': {'mean': 0.980207, 'std': 0.004343}},\n",
       " 'GO:GO:1904091': {'f1': {'mean': 0.966434, 'std': 0.041348},\n",
       "  'pr': {'mean': 0.938095, 'std': 0.07619},\n",
       "  'rc': {'mean': 1.0, 'std': 0.0}},\n",
       " 'CHEBI:CHEBI:17642': {'f1': {'mean': 0.935615, 'std': 0.027341},\n",
       "  'pr': {'mean': 0.950943, 'std': 0.015094},\n",
       "  'rc': {'mean': 0.921778, 'std': 0.046408}},\n",
       " 'MESH:D058007': {'f1': {'mean': 0.911049, 'std': 0.06409},\n",
       "  'pr': {'mean': 0.842857, 'std': 0.106053},\n",
       "  'rc': {'mean': 1.0, 'std': 0.0}},\n",
       " 'MESH:D010465': {'f1': {'mean': 0.0, 'std': 0.0},\n",
       "  'pr': {'mean': 0.0, 'std': 0.0},\n",
       "  'rc': {'mean': 0.0, 'std': 0.0}}}"
      ]
     },
     "execution_count": 21,
     "metadata": {},
     "output_type": "execute_result"
    }
   ],
   "source": [
    "classifier.stats"
   ]
  },
  {
   "cell_type": "code",
   "execution_count": 22,
   "metadata": {},
   "outputs": [],
   "source": [
    "disamb = AdeftDisambiguator(classifier, grounding_dict, names)"
   ]
  },
  {
   "cell_type": "code",
   "execution_count": 23,
   "metadata": {},
   "outputs": [],
   "source": [
    "disamb.dump(model_name, results_path)"
   ]
  },
  {
   "cell_type": "code",
   "execution_count": 24,
   "metadata": {},
   "outputs": [
    {
     "name": "stdout",
     "output_type": "stream",
     "text": [
      "Disambiguation model for PCP\n",
      "\n",
      "Produces the disambiguations:\n",
      "\tBMP1*\tHGNC:8737\n",
      "\tCell Polarity\tMESH:D016764\n",
      "\tPapain family cysteine protease\tPF:PF00112)\n",
      "\tPentose Phosphate Pathway*\tMESH:D010427\n",
      "\tPerception\tMESH:D010465\n",
      "\tPhysicians, Primary Care\tMESH:D058007\n",
      "\tPneumonia, Pneumocystis*\tMESH:D011020\n",
      "\tpentachlorophenol*\tCHEBI:CHEBI:17642\n",
      "\tpeptidyl carrier protein activity*\tGO:GO:1904091\n",
      "\tphencyclidine*\tCHEBI:CHEBI:8058\n",
      "\tprochlorperazine\tCHEBI:CHEBI:8435\n",
      "\n",
      "Class level metrics:\n",
      "--------------------\n",
      "Grounding                        \tCount\tF1     \n",
      "                    phencyclidine*\t897\t 0.9867\n",
      "                    Cell Polarity\t505\t 0.9795\n",
      "                pentachlorophenol*\t265\t0.93562\n",
      "          Pneumonia, Pneumocystis*\t100\t0.87564\n",
      "                       Ungrounded\t 55\t0.36254\n",
      "peptidyl carrier protein activity*\t 33\t0.96643\n",
      "         Physicians, Primary Care\t 33\t0.91105\n",
      "                             BMP1*\t  6\t0.53333\n",
      "  Papain family cysteine protease\t  4\t    0.6\n",
      "                 prochlorperazine\t  3\t    0.0\n",
      "        Pentose Phosphate Pathway*\t  3\t    0.4\n",
      "                       Perception\t  1\t    0.0\n",
      "\n",
      "Weighted Metrics:\n",
      "-----------------\n",
      "\tF1 score:\t0.9646\n",
      "\tPrecision:\t0.95661\n",
      "\tRecall:\t\t0.97393\n",
      "\n",
      "* Positive labels\n",
      "See Docstring for explanation\n",
      "\n"
     ]
    }
   ],
   "source": [
    "print(disamb.info())"
   ]
  },
  {
   "cell_type": "code",
   "execution_count": 25,
   "metadata": {},
   "outputs": [],
   "source": [
    "model_to_s3(disamb)"
   ]
  },
  {
   "cell_type": "code",
   "execution_count": 30,
   "metadata": {},
   "outputs": [],
   "source": [
    "preds = [disamb.disambiguate(text) for text in all_texts.values()]"
   ]
  },
  {
   "cell_type": "code",
   "execution_count": 31,
   "metadata": {},
   "outputs": [],
   "source": [
    "texts = [text for pred, text in zip(preds, all_texts.values()) if pred[0] == 'HGNC:10967']"
   ]
  },
  {
   "cell_type": "code",
   "execution_count": 36,
   "metadata": {},
   "outputs": [
    {
     "data": {
      "text/plain": [
       "'The non-neuronal monoamine transporters (OCT1, OCT2, EMT, and PMAT) play a key role in the clearance of monoamines from extracellular compartments. In a previous report we described endometrial distribution and cyclic variation of the vesicular monoamine transporter (VMAT2) mRNA and the neuronal norepinephrine transporter (NET) mRNA. In the present study we used in situ hybridization, real-time PCR and immunohistochemistry to reveal tissue distribution and cyclic variation of mRNA for the non-neuronal monoamine transporters in the human endometrium and early pregnancy decidua. We found that non-neuronal monoamine transporters are predominantly expressed in the stroma. The plasma membrane monoamine transporter (PMAT) mRNA expression peaked in the proliferative phase, whereas the extra-neuronal monoamine transporter (EMT) mRNA expression peaked in the secretory phase. The organic cation transporter 2 (OCT2) mRNA expression was exclusively detected in few scattered stromal cells and OCT1 mRNA was not detected at all. Our present results demonstrate that PMAT, EMT, and OCT2 transporters are expressed in the endometrial stroma and can potentially regulate reuptake of monoamines in general and histamine in particular. Taken together with our previous finding of VMAT2 mRNA in epithelial cells, we suggest a paracrine interaction between stromal and epithelial cells, which may modulate certain steps of the reproductive process.\\n'"
      ]
     },
     "execution_count": 36,
     "metadata": {},
     "output_type": "execute_result"
    }
   ],
   "source": [
    "texts[3]"
   ]
  },
  {
   "cell_type": "code",
   "execution_count": null,
   "metadata": {},
   "outputs": [],
   "source": []
  }
 ],
 "metadata": {
  "kernelspec": {
   "display_name": "Python 3",
   "language": "python",
   "name": "python3"
  },
  "language_info": {
   "codemirror_mode": {
    "name": "ipython",
    "version": 3
   },
   "file_extension": ".py",
   "mimetype": "text/x-python",
   "name": "python",
   "nbconvert_exporter": "python",
   "pygments_lexer": "ipython3",
   "version": "3.8.4"
  }
 },
 "nbformat": 4,
 "nbformat_minor": 2
}
