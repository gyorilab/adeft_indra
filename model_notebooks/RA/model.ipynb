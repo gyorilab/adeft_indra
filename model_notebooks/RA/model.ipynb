{
 "cells": [
  {
   "cell_type": "code",
   "execution_count": 1,
   "metadata": {},
   "outputs": [],
   "source": [
    "import os\n",
    "import json\n",
    "import pickle\n",
    "import random\n",
    "from collections import defaultdict, Counter\n",
    "\n",
    "from indra.literature.adeft_tools import universal_extract_text\n",
    "from indra.databases.hgnc_client import get_hgnc_name, get_hgnc_id\n",
    "\n",
    "from adeft.discover import AdeftMiner\n",
    "from adeft.gui import ground_with_gui\n",
    "from adeft.modeling.label import AdeftLabeler\n",
    "from adeft.modeling.classify import AdeftClassifier\n",
    "from adeft.disambiguate import AdeftDisambiguator, load_disambiguator\n",
    "\n",
    "\n",
    "from adeft_indra.ground.ground import AdeftGrounder\n",
    "from adeft_indra.model_building.s3 import model_to_s3\n",
    "from adeft_indra.model_building.escape import escape_filename\n",
    "from adeft_indra.db.content import get_pmids_for_agent_text, get_pmids_for_entity, \\\n",
    "    get_plaintexts_for_pmids"
   ]
  },
  {
   "cell_type": "code",
   "execution_count": 2,
   "metadata": {},
   "outputs": [],
   "source": [
    "adeft_grounder = AdeftGrounder()"
   ]
  },
  {
   "cell_type": "code",
   "execution_count": 3,
   "metadata": {},
   "outputs": [],
   "source": [
    "shortforms = ['RA']\n",
    "model_name = ':'.join(sorted(escape_filename(shortform) for shortform in shortforms))\n",
    "results_path = os.path.abspath(os.path.join('../..', 'results', model_name))"
   ]
  },
  {
   "cell_type": "code",
   "execution_count": 4,
   "metadata": {},
   "outputs": [],
   "source": [
    "miners = dict()\n",
    "all_texts = {}\n",
    "for shortform in shortforms:\n",
    "    pmids = get_pmids_for_agent_text(shortform)\n",
    "    text_dict = get_plaintexts_for_pmids(pmids, contains=shortforms)\n",
    "    text_dict = {pmid: text for pmid, text in text_dict.items() if len(text) > 5}\n",
    "    miners[shortform] = AdeftMiner(shortform)\n",
    "    miners[shortform].process_texts(text_dict.values())\n",
    "    all_texts.update(text_dict)\n",
    "\n",
    "longform_dict = {}\n",
    "for shortform in shortforms:\n",
    "    longforms = miners[shortform].get_longforms()\n",
    "    longforms = [(longform, count, score) for longform, count, score in longforms\n",
    "                 if count*score > 2]\n",
    "    longform_dict[shortform] = longforms\n",
    "    \n",
    "combined_longforms = Counter()\n",
    "for longform_rows in longform_dict.values():\n",
    "    combined_longforms.update({longform: count for longform, count, score\n",
    "                               in longform_rows})\n",
    "grounding_map = {}\n",
    "names = {}\n",
    "for longform in combined_longforms:\n",
    "    groundings = adeft_grounder.ground(longform)\n",
    "    if groundings:\n",
    "        grounding = groundings[0]['grounding']\n",
    "        grounding_map[longform] = grounding\n",
    "        names[grounding] = groundings[0]['name']\n",
    "longforms, counts = zip(*combined_longforms.most_common())\n",
    "pos_labels = []"
   ]
  },
  {
   "cell_type": "code",
   "execution_count": 5,
   "metadata": {},
   "outputs": [
    {
     "data": {
      "text/plain": [
       "[('rheumatoid arthritis', 8999),\n",
       " ('retinoic acid', 7223),\n",
       " ('rosmarinic acid', 317),\n",
       " ('right atrial', 81),\n",
       " ('right atrium', 77),\n",
       " ('ras associated', 65),\n",
       " ('radial artery', 55),\n",
       " ('robust nucleus of the arcopallium', 43),\n",
       " ('room air', 38),\n",
       " ('rapidly adapting', 30),\n",
       " ('ra', 26),\n",
       " ('rotational atherectomy', 25),\n",
       " ('radix astragali', 19),\n",
       " ('refractory anemia', 18),\n",
       " ('raddeanin a', 18),\n",
       " ('rectus abdominis', 15),\n",
       " ('radiation attenuated', 14),\n",
       " ('retrograde amnesia', 13),\n",
       " ('related abundance', 13),\n",
       " ('riemerella anatipestifer', 13),\n",
       " ('region anesthesia', 13),\n",
       " ('rheumatoid', 13),\n",
       " ('renin angiotensin', 12),\n",
       " ('retinyl acetate', 12),\n",
       " ('rheumatic arthritis', 10),\n",
       " ('rapidarc', 9),\n",
       " ('rheumatoid arthritic', 8),\n",
       " ('rats aorta', 8),\n",
       " ('radicicol', 7),\n",
       " ('receptor antagonist', 7),\n",
       " ('rapamycin', 7),\n",
       " ('region anaesthesia', 7),\n",
       " ('risk assess', 6),\n",
       " ('recovered activity', 6),\n",
       " ('renal artery', 6),\n",
       " ('ras associated domain', 6),\n",
       " ('rassf1a specific sirna', 6),\n",
       " ('reperfusion arrhythmias', 5),\n",
       " ('restricted alleviation', 5),\n",
       " ('rheumatoid arthritis patients', 5),\n",
       " ('ra treated', 5),\n",
       " ('robustus archistriatalis', 4),\n",
       " ('role ambiguity', 4),\n",
       " ('renal agenesis', 4),\n",
       " ('refractive astigmatism', 4),\n",
       " ('right atria', 4),\n",
       " ('root architecture', 4),\n",
       " ('radial access', 4),\n",
       " ('roridin a', 4),\n",
       " ('artery resistance', 4),\n",
       " ('and right', 4),\n",
       " ('ra patients', 4),\n",
       " ('related absorption', 3),\n",
       " ('related affinity', 3),\n",
       " ('right auricle', 3),\n",
       " ('rumex acetosa', 3),\n",
       " ('root avulsion', 3),\n",
       " ('reactive aggressive', 3),\n",
       " ('recombinant antigen', 3),\n",
       " ('recycled aggregation', 3),\n",
       " ('related amplitude', 3),\n",
       " ('repolarization alternans', 3),\n",
       " ('resource allocation', 3),\n",
       " ('respiratory arrest', 3),\n",
       " ('root angulation', 3),\n",
       " ('reconstruction algorithm', 3),\n",
       " ('right angle', 3),\n",
       " ('random access', 3),\n",
       " ('redox adapting', 3),\n",
       " ('risk area', 3),\n",
       " ('rap associated', 3),\n",
       " ('resistance artery', 3),\n",
       " ('reduced and alkylated', 3),\n",
       " ('rats thoracic aorta', 3),\n",
       " ('robust nucleus of the archistriatum', 3),\n",
       " ('arg ala', 3),\n",
       " ('rapidly act human insulin analogs', 3)]"
      ]
     },
     "execution_count": 5,
     "metadata": {},
     "output_type": "execute_result"
    }
   ],
   "source": [
    "list(zip(longforms, counts))"
   ]
  },
  {
   "cell_type": "code",
   "execution_count": 6,
   "metadata": {},
   "outputs": [],
   "source": [
    "try:\n",
    "    disamb = load_disambiguator(shortforms[0])\n",
    "    for shortform, gm in disamb.grounding_dict.items():\n",
    "        for longform, grounding in gm.items():\n",
    "            grounding_map[longform] = grounding\n",
    "    for grounding, name in disamb.names.items():\n",
    "        names[grounding] = name\n",
    "    pos_labels = disamb.pos_labels\n",
    "except Exception:\n",
    "    pass"
   ]
  },
  {
   "cell_type": "code",
   "execution_count": 7,
   "metadata": {},
   "outputs": [
    {
     "data": {
      "text/plain": [
       "{'MESH:D001172': 'Arthritis, Rheumatoid',\n",
       " 'CHEBI:CHEBI:26536': 'retinoic acid',\n",
       " 'CHEBI:CHEBI:17226': 'rosmarinic acid',\n",
       " 'MESH:D017534': 'Radial Artery',\n",
       " 'MESH:D000388': 'Air',\n",
       " 'MESH:D017073': 'Atherectomy',\n",
       " 'MESH:C027492': 'Huang Qi',\n",
       " 'MESH:D000753': 'Anemia, Refractory',\n",
       " 'MESH:C584473': 'raddeanin A',\n",
       " 'MESH:D017568': 'Rectus Abdominis',\n",
       " 'MESH:D000648': 'Amnesia, Retrograde',\n",
       " 'MESH:C000639115': 'Riemerella anatipestifer',\n",
       " 'CHEBI:CHEBI:32095': 'retinyl acetate',\n",
       " 'MESH:D012213': 'Rheumatic Fever',\n",
       " 'MESH:D001011': 'Aorta',\n",
       " 'CHEBI:CHEBI:556075': 'radicicol',\n",
       " 'CHEBI:CHEBI:9168': 'sirolimus',\n",
       " 'MESH:D012077': 'Renal Artery',\n",
       " 'MESH:D034741': 'RNA, Small Interfering',\n",
       " 'MESH:D001145': 'Arrhythmias, Cardiac',\n",
       " 'MESH:D010361': 'Patients',\n",
       " 'HP:HP:0000104': 'Renal agenesis',\n",
       " 'MESH:D001251': 'Astigmatism',\n",
       " 'MESH:D001108': 'Architecture',\n",
       " 'CHEBI:CHEBI:34922': 'picloram',\n",
       " 'CHEBI:CHEBI:8891': 'Roridin A',\n",
       " 'HP:HP:0012834': 'Right',\n",
       " 'MESH:D000042': 'Absorption',\n",
       " 'EFO:0002752': 'aggressive',\n",
       " 'CHEBI:CHEBI:59132': 'antigen',\n",
       " 'MESH:D040841': 'Resource Allocation',\n",
       " 'HP:HP:0005943': 'Respiratory arrest',\n",
       " 'MESH:D000465': 'Algorithms',\n",
       " 'EFO:0001696': 'area',\n",
       " 'MESH:D001158': 'Arteries',\n",
       " 'MESH:D001013': 'Aorta, Thoracic',\n",
       " 'MESH:D000679': 'Amygdala',\n",
       " 'CHEBI:CHEBI:73810': 'Arg-Ala'}"
      ]
     },
     "execution_count": 7,
     "metadata": {},
     "output_type": "execute_result"
    }
   ],
   "source": [
    "names"
   ]
  },
  {
   "cell_type": "code",
   "execution_count": 8,
   "metadata": {},
   "outputs": [
    {
     "name": "stderr",
     "output_type": "stream",
     "text": [
      "INFO: [2020-11-11 03:51:35] indra.ontology.bio.ontology - Loading INDRA bio ontology from cache at /home/ubuntu/.indra/bio_ontology/1.4/bio_ontology.pkl\n"
     ]
    }
   ],
   "source": [
    "grounding_map, names, pos_labels = ground_with_gui(longforms, counts, \n",
    "                                                   grounding_map=grounding_map,\n",
    "                                                   names=names, pos_labels=pos_labels, no_browser=True, port=8891)"
   ]
  },
  {
   "cell_type": "code",
   "execution_count": 9,
   "metadata": {},
   "outputs": [],
   "source": [
    "result = [grounding_map, names, pos_labels]"
   ]
  },
  {
   "cell_type": "code",
   "execution_count": 10,
   "metadata": {},
   "outputs": [
    {
     "data": {
      "text/plain": [
       "[{'and right': 'ungrounded',\n",
       "  'arg ala': 'CHEBI:CHEBI:73810',\n",
       "  'artery resistance': 'ungrounded',\n",
       "  'ra': 'ungrounded',\n",
       "  'ra patients': 'ungrounded',\n",
       "  'ra treated': 'ungrounded',\n",
       "  'raddeanin a': 'MESH:C584473',\n",
       "  'radial access': 'ungrounded',\n",
       "  'radial artery': 'ungrounded',\n",
       "  'radiation attenuated': 'ungrounded',\n",
       "  'radicicol': 'CHEBI:CHEBI:556075',\n",
       "  'radix astragali': 'ungrounded',\n",
       "  'random access': 'ungrounded',\n",
       "  'rap associated': 'ungrounded',\n",
       "  'rapamycin': 'CHEBI:CHEBI:9168',\n",
       "  'rapidarc': 'ungrounded',\n",
       "  'rapidly act human insulin analogs': 'ungrounded',\n",
       "  'rapidly adapting': 'ungrounded',\n",
       "  'ras associated': 'IP:IPR000159',\n",
       "  'ras associated domain': 'ungrounded',\n",
       "  'rassf1a specific sirna': 'ungrounded',\n",
       "  'rats aorta': 'ungrounded',\n",
       "  'rats thoracic aorta': 'MESH:D001013',\n",
       "  'reactive aggressive': 'ungrounded',\n",
       "  'receptor antagonist': 'ungrounded',\n",
       "  'recombinant antigen': 'ungrounded',\n",
       "  'reconstruction algorithm': 'ungrounded',\n",
       "  'recovered activity': 'ungrounded',\n",
       "  'rectus abdominis': 'ungrounded',\n",
       "  'recycled aggregation': 'ungrounded',\n",
       "  'redox adapting': 'ungrounded',\n",
       "  'reduced and alkylated': 'ungrounded',\n",
       "  'refractive astigmatism': 'MESH:D001251',\n",
       "  'refractory anemia': 'MESH:D000753',\n",
       "  'region anaesthesia': 'ungrounded',\n",
       "  'region anesthesia': 'ungrounded',\n",
       "  'related absorption': 'ungrounded',\n",
       "  'related abundance': 'ungrounded',\n",
       "  'related affinity': 'ungrounded',\n",
       "  'related amplitude': 'ungrounded',\n",
       "  'renal agenesis': 'HP:HP:0000104',\n",
       "  'renal artery': 'MESH:D012077',\n",
       "  'renin angiotensin': 'ungrounded',\n",
       "  'reperfusion arrhythmias': 'MESH:D001145',\n",
       "  'repolarization alternans': 'ungrounded',\n",
       "  'resistance artery': 'ungrounded',\n",
       "  'resource allocation': 'MESH:D040841',\n",
       "  'respiratory arrest': 'HP:HP:0005943',\n",
       "  'restricted alleviation': 'ungrounded',\n",
       "  'retinoic acid': 'CHEBI:CHEBI:26536',\n",
       "  'retinyl acetate': 'CHEBI:CHEBI:32095',\n",
       "  'retrograde amnesia': 'MESH:D000648',\n",
       "  'rheumatic arthritis': 'MESH:D001172',\n",
       "  'rheumatoid': 'ungrounded',\n",
       "  'rheumatoid arthritic': 'MESH:D001172',\n",
       "  'rheumatoid arthritis': 'MESH:D001172',\n",
       "  'rheumatoid arthritis patients': 'MESH:D001172',\n",
       "  'riemerella anatipestifer': 'MESH:C000639115',\n",
       "  'right angle': 'ungrounded',\n",
       "  'right atria': 'ungrounded',\n",
       "  'right atrial': 'ungrounded',\n",
       "  'right atrium': 'ungrounded',\n",
       "  'right auricle': 'ungrounded',\n",
       "  'risk area': 'ungrounded',\n",
       "  'risk assess': 'ungrounded',\n",
       "  'robust nucleus of the archistriatum': 'MESH:D000679',\n",
       "  'robust nucleus of the arcopallium': 'ungrounded',\n",
       "  'robustus archistriatalis': 'ungrounded',\n",
       "  'role ambiguity': 'ungrounded',\n",
       "  'room air': 'ungrounded',\n",
       "  'root angulation': 'ungrounded',\n",
       "  'root architecture': 'ungrounded',\n",
       "  'root avulsion': 'ungrounded',\n",
       "  'roridin a': 'CHEBI:CHEBI:8891',\n",
       "  'rosmarinic acid': 'CHEBI:CHEBI:17226',\n",
       "  'rotational atherectomy': 'ungrounded',\n",
       "  'rumex acetosa': 'ungrounded'},\n",
       " {'CHEBI:CHEBI:73810': 'Arg-Ala',\n",
       "  'MESH:C584473': 'raddeanin A',\n",
       "  'CHEBI:CHEBI:556075': 'radicicol',\n",
       "  'CHEBI:CHEBI:9168': 'sirolimus',\n",
       "  'IP:IPR000159': 'Ras-associating (RA) domain',\n",
       "  'MESH:D001013': 'Aorta, Thoracic',\n",
       "  'MESH:D001251': 'Astigmatism',\n",
       "  'MESH:D000753': 'Anemia, Refractory',\n",
       "  'HP:HP:0000104': 'Renal agenesis',\n",
       "  'MESH:D012077': 'Renal Artery',\n",
       "  'MESH:D001145': 'Arrhythmias, Cardiac',\n",
       "  'MESH:D040841': 'Resource Allocation',\n",
       "  'HP:HP:0005943': 'Respiratory arrest',\n",
       "  'CHEBI:CHEBI:26536': 'retinoic acid',\n",
       "  'CHEBI:CHEBI:32095': 'retinyl acetate',\n",
       "  'MESH:D000648': 'Amnesia, Retrograde',\n",
       "  'MESH:D001172': 'Arthritis, Rheumatoid',\n",
       "  'MESH:C000639115': 'Riemerella anatipestifer',\n",
       "  'MESH:D000679': 'Amygdala',\n",
       "  'CHEBI:CHEBI:8891': 'Roridin A',\n",
       "  'CHEBI:CHEBI:17226': 'rosmarinic acid'},\n",
       " ['CHEBI:CHEBI:17226', 'CHEBI:CHEBI:26536', 'IP:IPR000159', 'MESH:D001172']]"
      ]
     },
     "execution_count": 10,
     "metadata": {},
     "output_type": "execute_result"
    }
   ],
   "source": [
    "result"
   ]
  },
  {
   "cell_type": "code",
   "execution_count": 11,
   "metadata": {},
   "outputs": [],
   "source": [
    "grounding_map, names, pos_labels = [{'and right': 'ungrounded',\n",
    "  'arg ala': 'CHEBI:CHEBI:73810',\n",
    "  'artery resistance': 'ungrounded',\n",
    "  'ra': 'ungrounded',\n",
    "  'ra patients': 'ungrounded',\n",
    "  'ra treated': 'ungrounded',\n",
    "  'raddeanin a': 'MESH:C584473',\n",
    "  'radial access': 'ungrounded',\n",
    "  'radial artery': 'ungrounded',\n",
    "  'radiation attenuated': 'ungrounded',\n",
    "  'radicicol': 'CHEBI:CHEBI:556075',\n",
    "  'radix astragali': 'ungrounded',\n",
    "  'random access': 'ungrounded',\n",
    "  'rap associated': 'ungrounded',\n",
    "  'rapamycin': 'CHEBI:CHEBI:9168',\n",
    "  'rapidarc': 'ungrounded',\n",
    "  'rapidly act human insulin analogs': 'ungrounded',\n",
    "  'rapidly adapting': 'ungrounded',\n",
    "  'ras associated': 'IP:IPR000159',\n",
    "  'ras associated domain': 'ungrounded',\n",
    "  'rassf1a specific sirna': 'ungrounded',\n",
    "  'rats aorta': 'ungrounded',\n",
    "  'rats thoracic aorta': 'MESH:D001013',\n",
    "  'reactive aggressive': 'ungrounded',\n",
    "  'receptor antagonist': 'ungrounded',\n",
    "  'recombinant antigen': 'ungrounded',\n",
    "  'reconstruction algorithm': 'ungrounded',\n",
    "  'recovered activity': 'ungrounded',\n",
    "  'rectus abdominis': 'ungrounded',\n",
    "  'recycled aggregation': 'ungrounded',\n",
    "  'redox adapting': 'ungrounded',\n",
    "  'reduced and alkylated': 'ungrounded',\n",
    "  'refractive astigmatism': 'MESH:D001251',\n",
    "  'refractory anemia': 'MESH:D000753',\n",
    "  'region anaesthesia': 'ungrounded',\n",
    "  'region anesthesia': 'ungrounded',\n",
    "  'related absorption': 'ungrounded',\n",
    "  'related abundance': 'ungrounded',\n",
    "  'related affinity': 'ungrounded',\n",
    "  'related amplitude': 'ungrounded',\n",
    "  'renal agenesis': 'HP:HP:0000104',\n",
    "  'renal artery': 'MESH:D012077',\n",
    "  'renin angiotensin': 'ungrounded',\n",
    "  'reperfusion arrhythmias': 'MESH:D001145',\n",
    "  'repolarization alternans': 'ungrounded',\n",
    "  'resistance artery': 'ungrounded',\n",
    "  'resource allocation': 'MESH:D040841',\n",
    "  'respiratory arrest': 'HP:HP:0005943',\n",
    "  'restricted alleviation': 'ungrounded',\n",
    "  'retinoic acid': 'CHEBI:CHEBI:26536',\n",
    "  'retinyl acetate': 'CHEBI:CHEBI:32095',\n",
    "  'retrograde amnesia': 'MESH:D000648',\n",
    "  'rheumatic arthritis': 'MESH:D001172',\n",
    "  'rheumatoid': 'ungrounded',\n",
    "  'rheumatoid arthritic': 'MESH:D001172',\n",
    "  'rheumatoid arthritis': 'MESH:D001172',\n",
    "  'rheumatoid arthritis patients': 'MESH:D001172',\n",
    "  'riemerella anatipestifer': 'MESH:C000639115',\n",
    "  'right angle': 'ungrounded',\n",
    "  'right atria': 'ungrounded',\n",
    "  'right atrial': 'ungrounded',\n",
    "  'right atrium': 'ungrounded',\n",
    "  'right auricle': 'ungrounded',\n",
    "  'risk area': 'ungrounded',\n",
    "  'risk assess': 'ungrounded',\n",
    "  'robust nucleus of the archistriatum': 'MESH:D000679',\n",
    "  'robust nucleus of the arcopallium': 'ungrounded',\n",
    "  'robustus archistriatalis': 'ungrounded',\n",
    "  'role ambiguity': 'ungrounded',\n",
    "  'room air': 'ungrounded',\n",
    "  'root angulation': 'ungrounded',\n",
    "  'root architecture': 'ungrounded',\n",
    "  'root avulsion': 'ungrounded',\n",
    "  'roridin a': 'CHEBI:CHEBI:8891',\n",
    "  'rosmarinic acid': 'CHEBI:CHEBI:17226',\n",
    "  'rotational atherectomy': 'ungrounded',\n",
    "  'rumex acetosa': 'ungrounded'},\n",
    " {'CHEBI:CHEBI:73810': 'Arg-Ala',\n",
    "  'MESH:C584473': 'raddeanin A',\n",
    "  'CHEBI:CHEBI:556075': 'radicicol',\n",
    "  'CHEBI:CHEBI:9168': 'sirolimus',\n",
    "  'IP:IPR000159': 'Ras-associating (RA) domain',\n",
    "  'MESH:D001013': 'Aorta, Thoracic',\n",
    "  'MESH:D001251': 'Astigmatism',\n",
    "  'MESH:D000753': 'Anemia, Refractory',\n",
    "  'HP:HP:0000104': 'Renal agenesis',\n",
    "  'MESH:D012077': 'Renal Artery',\n",
    "  'MESH:D001145': 'Arrhythmias, Cardiac',\n",
    "  'MESH:D040841': 'Resource Allocation',\n",
    "  'HP:HP:0005943': 'Respiratory arrest',\n",
    "  'CHEBI:CHEBI:26536': 'retinoic acid',\n",
    "  'CHEBI:CHEBI:32095': 'retinyl acetate',\n",
    "  'MESH:D000648': 'Amnesia, Retrograde',\n",
    "  'MESH:D001172': 'Arthritis, Rheumatoid',\n",
    "  'MESH:C000639115': 'Riemerella anatipestifer',\n",
    "  'MESH:D000679': 'Amygdala',\n",
    "  'CHEBI:CHEBI:8891': 'Roridin A',\n",
    "  'CHEBI:CHEBI:17226': 'rosmarinic acid'},\n",
    " ['CHEBI:CHEBI:17226', 'CHEBI:CHEBI:26536', 'IP:IPR000159', 'MESH:D001172']]"
   ]
  },
  {
   "cell_type": "code",
   "execution_count": 12,
   "metadata": {},
   "outputs": [],
   "source": [
    "excluded_longforms = ['ra', 'ra patients', 'ra treated']"
   ]
  },
  {
   "cell_type": "code",
   "execution_count": 13,
   "metadata": {},
   "outputs": [],
   "source": [
    "grounding_dict = {shortform: {longform: grounding_map[longform] \n",
    "                              for longform, _, _ in longforms if longform in grounding_map\n",
    "                              and longform not in excluded_longforms}\n",
    "                  for shortform, longforms in longform_dict.items()}\n",
    "result = [grounding_dict, names, pos_labels]\n",
    "\n",
    "if not os.path.exists(results_path):\n",
    "    os.mkdir(results_path)\n",
    "with open(os.path.join(results_path, f'{model_name}_preliminary_grounding_info.json'), 'w') as f:\n",
    "    json.dump(result, f)"
   ]
  },
  {
   "cell_type": "code",
   "execution_count": 14,
   "metadata": {},
   "outputs": [],
   "source": [
    "additional_entities = {}"
   ]
  },
  {
   "cell_type": "code",
   "execution_count": 15,
   "metadata": {},
   "outputs": [],
   "source": [
    "unambiguous_agent_texts = {}"
   ]
  },
  {
   "cell_type": "code",
   "execution_count": 16,
   "metadata": {},
   "outputs": [],
   "source": [
    "labeler = AdeftLabeler(grounding_dict)\n",
    "corpus = labeler.build_from_texts((text, pmid) for pmid, text in all_texts.items())\n",
    "agent_text_pmid_map = defaultdict(list)\n",
    "for text, label, id_ in corpus:\n",
    "    agent_text_pmid_map[label].append(id_)\n",
    "\n",
    "entity_pmid_map = {entity: set(get_pmids_for_entity(*entity.split(':', maxsplit=1),\n",
    "                                                major_topic=True))for entity in additional_entities}"
   ]
  },
  {
   "cell_type": "code",
   "execution_count": 17,
   "metadata": {},
   "outputs": [],
   "source": [
    "intersection1 = []\n",
    "for entity1, pmids1 in entity_pmid_map.items():\n",
    "    for entity2, pmids2 in entity_pmid_map.items():\n",
    "        intersection1.append((entity1, entity2, len(pmids1 & pmids2)))"
   ]
  },
  {
   "cell_type": "code",
   "execution_count": 18,
   "metadata": {},
   "outputs": [],
   "source": [
    "intersection2 = []\n",
    "for entity1, pmids1 in agent_text_pmid_map.items():\n",
    "    for entity2, pmids2 in entity_pmid_map.items():\n",
    "        intersection2.append((entity1, entity2, len(set(pmids1) & pmids2)))"
   ]
  },
  {
   "cell_type": "code",
   "execution_count": 19,
   "metadata": {},
   "outputs": [
    {
     "data": {
      "text/plain": [
       "[]"
      ]
     },
     "execution_count": 19,
     "metadata": {},
     "output_type": "execute_result"
    }
   ],
   "source": [
    "intersection1"
   ]
  },
  {
   "cell_type": "code",
   "execution_count": 20,
   "metadata": {},
   "outputs": [
    {
     "data": {
      "text/plain": [
       "[]"
      ]
     },
     "execution_count": 20,
     "metadata": {},
     "output_type": "execute_result"
    }
   ],
   "source": [
    "intersection2"
   ]
  },
  {
   "cell_type": "code",
   "execution_count": 22,
   "metadata": {},
   "outputs": [],
   "source": [
    "all_used_pmids = set()\n",
    "for entity, agent_texts in unambiguous_agent_texts.items():\n",
    "    used_pmids = set()\n",
    "    for agent_text in agent_texts[1]:\n",
    "        pmids = set(get_pmids_for_agent_text(agent_text))\n",
    "        new_pmids = list(pmids - all_texts.keys() - used_pmids)\n",
    "        text_dict = get_plaintexts_for_pmids(new_pmids, contains=agent_texts)\n",
    "        corpus.extend([(text, entity, pmid) for pmid, text in text_dict.items() if len(text) >= 5])\n",
    "        used_pmids.update(new_pmids)\n",
    "    all_used_pmids.update(used_pmids)\n",
    "        \n",
    "for entity, pmids in entity_pmid_map.items():\n",
    "    new_pmids = list(set(pmids) - all_texts.keys() - all_used_pmids)\n",
    "    if len(new_pmids) > 10000:\n",
    "        new_pmids = random.choices(new_pmids, k=10000)\n",
    "    _, contains = additional_entities[entity]\n",
    "    text_dict = get_plaintexts_for_pmids(new_pmids, contains=contains)\n",
    "    corpus.extend([(text, entity, pmid) for pmid, text in text_dict.items() if len(text) >= 5])"
   ]
  },
  {
   "cell_type": "code",
   "execution_count": 23,
   "metadata": {},
   "outputs": [],
   "source": [
    "names.update({key: value[0] for key, value in additional_entities.items()})\n",
    "names.update({key: value[0] for key, value in unambiguous_agent_texts.items()})\n",
    "pos_labels = list(set(pos_labels) | additional_entities.keys() |\n",
    "                  unambiguous_agent_texts.keys())"
   ]
  },
  {
   "cell_type": "code",
   "execution_count": 21,
   "metadata": {},
   "outputs": [
    {
     "name": "stderr",
     "output_type": "stream",
     "text": [
      "INFO: [2020-11-11 04:01:47] /adeft/PP/adeft/adeft/modeling/classify.py - Beginning grid search in parameter space:\n",
      "{'C': [100.0], 'max_features': [10000]}\n",
      "INFO: [2020-11-11 04:08:45] /adeft/PP/adeft/adeft/modeling/classify.py - Best f1 score of 0.9768646524355177 found for parameter values:\n",
      "{'logit__C': 100.0, 'tfidf__max_features': 10000}\n"
     ]
    }
   ],
   "source": [
    "%%capture\n",
    "\n",
    "classifier = AdeftClassifier(shortforms, pos_labels=pos_labels, random_state=1729)\n",
    "param_grid = {'C': [100.0], 'max_features': [10000]}\n",
    "texts, labels, pmids = zip(*corpus)\n",
    "classifier.cv(texts, labels, param_grid, cv=5, n_jobs=5)"
   ]
  },
  {
   "cell_type": "code",
   "execution_count": 22,
   "metadata": {
    "scrolled": true
   },
   "outputs": [
    {
     "data": {
      "text/plain": [
       "{'label_distribution': {'MESH:D001172': 5860,\n",
       "  'CHEBI:CHEBI:26536': 5505,\n",
       "  'CHEBI:CHEBI:32095': 10,\n",
       "  'ungrounded': 433,\n",
       "  'MESH:D001145': 4,\n",
       "  'MESH:D000753': 16,\n",
       "  'MESH:D012077': 5,\n",
       "  'CHEBI:CHEBI:17226': 229,\n",
       "  'MESH:D000648': 11,\n",
       "  'HP:HP:0005943': 3,\n",
       "  'MESH:D000679': 3,\n",
       "  'IP:IPR000159': 45,\n",
       "  'CHEBI:CHEBI:8891': 4,\n",
       "  'CHEBI:CHEBI:556075': 6,\n",
       "  'MESH:C000639115': 11,\n",
       "  'MESH:D001013': 2,\n",
       "  'HP:HP:0000104': 4,\n",
       "  'CHEBI:CHEBI:9168': 6,\n",
       "  'MESH:C584473': 15,\n",
       "  'MESH:D040841': 1,\n",
       "  'MESH:D001251': 2,\n",
       "  'CHEBI:CHEBI:73810': 1},\n",
       " 'f1': {'mean': 0.976865, 'std': 0.001843},\n",
       " 'precision': {'mean': 0.971642, 'std': 0.00167},\n",
       " 'recall': {'mean': 0.982473, 'std': 0.001984},\n",
       " 'IP:IPR000159': {'f1': {'mean': 0.808421, 'std': 0.057303},\n",
       "  'pr': {'mean': 0.822222, 'std': 0.133333},\n",
       "  'rc': {'mean': 0.811948, 'std': 0.047826}},\n",
       " 'HP:HP:0000104': {'f1': {'mean': 0.2, 'std': 0.4},\n",
       "  'pr': {'mean': 0.2, 'std': 0.4},\n",
       "  'rc': {'mean': 0.2, 'std': 0.4}},\n",
       " 'MESH:D012077': {'f1': {'mean': 0.0, 'std': 0.0},\n",
       "  'pr': {'mean': 0.0, 'std': 0.0},\n",
       "  'rc': {'mean': 0.0, 'std': 0.0}},\n",
       " 'MESH:D000753': {'f1': {'mean': 0.533333, 'std': 0.304047},\n",
       "  'pr': {'mean': 0.45, 'std': 0.276887},\n",
       "  'rc': {'mean': 0.733333, 'std': 0.38873}},\n",
       " 'CHEBI:CHEBI:17226': {'f1': {'mean': 0.798061, 'std': 0.033265},\n",
       "  'pr': {'mean': 0.742609, 'std': 0.040916},\n",
       "  'rc': {'mean': 0.863717, 'std': 0.03378}},\n",
       " 'CHEBI:CHEBI:32095': {'f1': {'mean': 0.0, 'std': 0.0},\n",
       "  'pr': {'mean': 0.0, 'std': 0.0},\n",
       "  'rc': {'mean': 0.0, 'std': 0.0}},\n",
       " 'MESH:D001172': {'f1': {'mean': 0.984621, 'std': 0.002048},\n",
       "  'pr': {'mean': 0.988567, 'std': 0.002131},\n",
       "  'rc': {'mean': 0.98072, 'std': 0.004105}},\n",
       " 'HP:HP:0005943': {'f1': {'mean': 0.0, 'std': 0.0},\n",
       "  'pr': {'mean': 0.0, 'std': 0.0},\n",
       "  'rc': {'mean': 0.0, 'std': 0.0}},\n",
       " 'MESH:D001013': {'f1': {'mean': 0.0, 'std': 0.0},\n",
       "  'pr': {'mean': 0.0, 'std': 0.0},\n",
       "  'rc': {'mean': 0.0, 'std': 0.0}},\n",
       " 'ungrounded': {'f1': {'mean': 0.805565, 'std': 0.032597},\n",
       "  'pr': {'mean': 0.752847, 'std': 0.039364},\n",
       "  'rc': {'mean': 0.86665, 'std': 0.025394}},\n",
       " 'CHEBI:CHEBI:9168': {'f1': {'mean': 0.0, 'std': 0.0},\n",
       "  'pr': {'mean': 0.0, 'std': 0.0},\n",
       "  'rc': {'mean': 0.0, 'std': 0.0}},\n",
       " 'MESH:C000639115': {'f1': {'mean': 0.633333, 'std': 0.066667},\n",
       "  'pr': {'mean': 0.466667, 'std': 0.066667},\n",
       "  'rc': {'mean': 1.0, 'std': 0.0}},\n",
       " 'CHEBI:CHEBI:8891': {'f1': {'mean': 0.2, 'std': 0.4},\n",
       "  'pr': {'mean': 0.2, 'std': 0.4},\n",
       "  'rc': {'mean': 0.2, 'std': 0.4}},\n",
       " 'MESH:D001251': {'f1': {'mean': 0.0, 'std': 0.0},\n",
       "  'pr': {'mean': 0.0, 'std': 0.0},\n",
       "  'rc': {'mean': 0.0, 'std': 0.0}},\n",
       " 'MESH:D000648': {'f1': {'mean': 0.633333, 'std': 0.371184},\n",
       "  'pr': {'mean': 0.566667, 'std': 0.38873},\n",
       "  'rc': {'mean': 0.8, 'std': 0.4}},\n",
       " 'MESH:D040841': {'f1': {'mean': 0.0, 'std': 0.0},\n",
       "  'pr': {'mean': 0.0, 'std': 0.0},\n",
       "  'rc': {'mean': 0.0, 'std': 0.0}},\n",
       " 'MESH:D000679': {'f1': {'mean': 0.0, 'std': 0.0},\n",
       "  'pr': {'mean': 0.0, 'std': 0.0},\n",
       "  'rc': {'mean': 0.0, 'std': 0.0}},\n",
       " 'MESH:D001145': {'f1': {'mean': 0.0, 'std': 0.0},\n",
       "  'pr': {'mean': 0.0, 'std': 0.0},\n",
       "  'rc': {'mean': 0.0, 'std': 0.0}},\n",
       " 'CHEBI:CHEBI:26536': {'f1': {'mean': 0.977433, 'std': 0.002979},\n",
       "  'pr': {'mean': 0.987284, 'std': 0.002437},\n",
       "  'rc': {'mean': 0.967784, 'std': 0.004242}},\n",
       " 'CHEBI:CHEBI:73810': {'f1': {'mean': 0.0, 'std': 0.0},\n",
       "  'pr': {'mean': 0.0, 'std': 0.0},\n",
       "  'rc': {'mean': 0.0, 'std': 0.0}},\n",
       " 'CHEBI:CHEBI:556075': {'f1': {'mean': 0.666667, 'std': 0.365148},\n",
       "  'pr': {'mean': 0.7, 'std': 0.4},\n",
       "  'rc': {'mean': 0.7, 'std': 0.4}},\n",
       " 'MESH:C584473': {'f1': {'mean': 0.44, 'std': 0.257682},\n",
       "  'pr': {'mean': 0.333333, 'std': 0.210819},\n",
       "  'rc': {'mean': 0.7, 'std': 0.4}}}"
      ]
     },
     "execution_count": 22,
     "metadata": {},
     "output_type": "execute_result"
    }
   ],
   "source": [
    "classifier.stats"
   ]
  },
  {
   "cell_type": "code",
   "execution_count": 23,
   "metadata": {},
   "outputs": [],
   "source": [
    "disamb = AdeftDisambiguator(classifier, grounding_dict, names)"
   ]
  },
  {
   "cell_type": "code",
   "execution_count": 24,
   "metadata": {},
   "outputs": [],
   "source": [
    "disamb.dump(model_name, results_path)"
   ]
  },
  {
   "cell_type": "code",
   "execution_count": 25,
   "metadata": {},
   "outputs": [
    {
     "name": "stdout",
     "output_type": "stream",
     "text": [
      "Disambiguation model for RA\n",
      "\n",
      "Produces the disambiguations:\n",
      "\tAmnesia, Retrograde\tMESH:D000648\n",
      "\tAmygdala\tMESH:D000679\n",
      "\tAnemia, Refractory\tMESH:D000753\n",
      "\tAorta, Thoracic\tMESH:D001013\n",
      "\tArg-Ala\tCHEBI:CHEBI:73810\n",
      "\tArrhythmias, Cardiac\tMESH:D001145\n",
      "\tArthritis, Rheumatoid*\tMESH:D001172\n",
      "\tAstigmatism\tMESH:D001251\n",
      "\tRas-associating (RA) domain*\tIP:IPR000159\n",
      "\tRenal Artery\tMESH:D012077\n",
      "\tRenal agenesis\tHP:HP:0000104\n",
      "\tResource Allocation\tMESH:D040841\n",
      "\tRespiratory arrest\tHP:HP:0005943\n",
      "\tRiemerella anatipestifer\tMESH:C000639115\n",
      "\tRoridin A\tCHEBI:CHEBI:8891\n",
      "\traddeanin A\tMESH:C584473\n",
      "\tradicicol\tCHEBI:CHEBI:556075\n",
      "\tretinoic acid*\tCHEBI:CHEBI:26536\n",
      "\tretinyl acetate\tCHEBI:CHEBI:32095\n",
      "\trosmarinic acid*\tCHEBI:CHEBI:17226\n",
      "\tsirolimus\tCHEBI:CHEBI:9168\n",
      "\n",
      "Class level metrics:\n",
      "--------------------\n",
      "Grounding                  \tCount\tF1     \n",
      "      Arthritis, Rheumatoid*\t5860\t0.98462\n",
      "              retinoic acid*\t5505\t0.97743\n",
      "                 Ungrounded\t 433\t0.80556\n",
      "            rosmarinic acid*\t 229\t0.79806\n",
      "Ras-associating (RA) domain*\t  45\t0.80842\n",
      "         Anemia, Refractory\t  16\t0.53333\n",
      "                raddeanin A\t  15\t   0.44\n",
      "        Amnesia, Retrograde\t  11\t0.63333\n",
      "   Riemerella anatipestifer\t  11\t0.63333\n",
      "            retinyl acetate\t  10\t    0.0\n",
      "                  radicicol\t   6\t0.66667\n",
      "                  sirolimus\t   6\t    0.0\n",
      "               Renal Artery\t   5\t    0.0\n",
      "       Arrhythmias, Cardiac\t   4\t    0.0\n",
      "                  Roridin A\t   4\t    0.2\n",
      "             Renal agenesis\t   4\t    0.2\n",
      "         Respiratory arrest\t   3\t    0.0\n",
      "                   Amygdala\t   3\t    0.0\n",
      "            Aorta, Thoracic\t   2\t    0.0\n",
      "                Astigmatism\t   2\t    0.0\n",
      "        Resource Allocation\t   1\t    0.0\n",
      "                    Arg-Ala\t   1\t    0.0\n",
      "\n",
      "Weighted Metrics:\n",
      "-----------------\n",
      "\tF1 score:\t0.97686\n",
      "\tPrecision:\t0.97164\n",
      "\tRecall:\t\t0.98247\n",
      "\n",
      "* Positive labels\n",
      "See Docstring for explanation\n",
      "\n"
     ]
    }
   ],
   "source": [
    "print(disamb.info())"
   ]
  },
  {
   "cell_type": "code",
   "execution_count": 26,
   "metadata": {},
   "outputs": [],
   "source": [
    "model_to_s3(disamb)"
   ]
  },
  {
   "cell_type": "code",
   "execution_count": 30,
   "metadata": {},
   "outputs": [],
   "source": [
    "preds = [disamb.disambiguate(text) for text in all_texts.values()]"
   ]
  },
  {
   "cell_type": "code",
   "execution_count": 31,
   "metadata": {},
   "outputs": [],
   "source": [
    "texts = [text for pred, text in zip(preds, all_texts.values()) if pred[0] == 'HGNC:10967']"
   ]
  },
  {
   "cell_type": "code",
   "execution_count": 36,
   "metadata": {},
   "outputs": [
    {
     "data": {
      "text/plain": [
       "'The non-neuronal monoamine transporters (OCT1, OCT2, EMT, and PMAT) play a key role in the clearance of monoamines from extracellular compartments. In a previous report we described endometrial distribution and cyclic variation of the vesicular monoamine transporter (VMAT2) mRNA and the neuronal norepinephrine transporter (NET) mRNA. In the present study we used in situ hybridization, real-time PCR and immunohistochemistry to reveal tissue distribution and cyclic variation of mRNA for the non-neuronal monoamine transporters in the human endometrium and early pregnancy decidua. We found that non-neuronal monoamine transporters are predominantly expressed in the stroma. The plasma membrane monoamine transporter (PMAT) mRNA expression peaked in the proliferative phase, whereas the extra-neuronal monoamine transporter (EMT) mRNA expression peaked in the secretory phase. The organic cation transporter 2 (OCT2) mRNA expression was exclusively detected in few scattered stromal cells and OCT1 mRNA was not detected at all. Our present results demonstrate that PMAT, EMT, and OCT2 transporters are expressed in the endometrial stroma and can potentially regulate reuptake of monoamines in general and histamine in particular. Taken together with our previous finding of VMAT2 mRNA in epithelial cells, we suggest a paracrine interaction between stromal and epithelial cells, which may modulate certain steps of the reproductive process.\\n'"
      ]
     },
     "execution_count": 36,
     "metadata": {},
     "output_type": "execute_result"
    }
   ],
   "source": [
    "texts[3]"
   ]
  },
  {
   "cell_type": "code",
   "execution_count": null,
   "metadata": {},
   "outputs": [],
   "source": []
  }
 ],
 "metadata": {
  "kernelspec": {
   "display_name": "Python 3",
   "language": "python",
   "name": "python3"
  },
  "language_info": {
   "codemirror_mode": {
    "name": "ipython",
    "version": 3
   },
   "file_extension": ".py",
   "mimetype": "text/x-python",
   "name": "python",
   "nbconvert_exporter": "python",
   "pygments_lexer": "ipython3",
   "version": "3.8.4"
  }
 },
 "nbformat": 4,
 "nbformat_minor": 2
}
