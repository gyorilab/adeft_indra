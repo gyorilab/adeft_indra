{
 "cells": [
  {
   "cell_type": "code",
   "execution_count": 1,
   "metadata": {},
   "outputs": [],
   "source": [
    "import os\n",
    "import json\n",
    "import pickle\n",
    "import random\n",
    "from collections import defaultdict, Counter\n",
    "\n",
    "from indra.literature.adeft_tools import universal_extract_text\n",
    "from indra.databases.hgnc_client import get_hgnc_name, get_hgnc_id\n",
    "\n",
    "from adeft.discover import AdeftMiner\n",
    "from adeft.gui import ground_with_gui\n",
    "from adeft.modeling.label import AdeftLabeler\n",
    "from adeft.modeling.classify import AdeftClassifier\n",
    "from adeft.disambiguate import AdeftDisambiguator\n",
    "\n",
    "\n",
    "from adeft_indra.ground.ground import AdeftGrounder\n",
    "from adeft_indra.model_building.s3 import model_to_s3\n",
    "from adeft_indra.model_building.escape import escape_filename\n",
    "from adeft_indra.db.content import get_pmids_for_agent_text, get_pmids_for_entity, \\\n",
    "    get_plaintexts_for_pmids"
   ]
  },
  {
   "cell_type": "code",
   "execution_count": 2,
   "metadata": {},
   "outputs": [],
   "source": [
    "adeft_grounder = AdeftGrounder()"
   ]
  },
  {
   "cell_type": "code",
   "execution_count": 3,
   "metadata": {},
   "outputs": [],
   "source": [
    "shortforms = ['GL']\n",
    "model_name = ':'.join(sorted(escape_filename(shortform) for shortform in shortforms))\n",
    "results_path = os.path.abspath(os.path.join('../..', 'results', model_name))"
   ]
  },
  {
   "cell_type": "code",
   "execution_count": 4,
   "metadata": {},
   "outputs": [],
   "source": [
    "miners = dict()\n",
    "all_texts = {}\n",
    "for shortform in shortforms:\n",
    "    pmids = get_pmids_for_agent_text(shortform)\n",
    "    if len(pmids) > 10000:\n",
    "        pmids = random.choices(pmids, k=10000)\n",
    "    text_dict = get_plaintexts_for_pmids(pmids, contains=shortforms)\n",
    "    text_dict = {pmid: text for pmid, text in text_dict.items() if len(text) > 5}\n",
    "    miners[shortform] = AdeftMiner(shortform)\n",
    "    miners[shortform].process_texts(text_dict.values())\n",
    "    all_texts.update(text_dict)\n",
    "\n",
    "longform_dict = {}\n",
    "for shortform in shortforms:\n",
    "    longforms = miners[shortform].get_longforms()\n",
    "    longforms = [(longform, count, score) for longform, count, score in longforms\n",
    "                 if count*score > 2]\n",
    "    longform_dict[shortform] = longforms\n",
    "    \n",
    "combined_longforms = Counter()\n",
    "for longform_rows in longform_dict.values():\n",
    "    combined_longforms.update({longform: count for longform, count, score\n",
    "                               in longform_rows})\n",
    "grounding_map = {}\n",
    "names = {}\n",
    "for longform in combined_longforms:\n",
    "    groundings = adeft_grounder.ground(longform)\n",
    "    if groundings:\n",
    "        grounding = groundings[0]['grounding']\n",
    "        grounding_map[longform] = grounding\n",
    "        names[grounding] = groundings[0]['name']\n",
    "longforms, counts = zip(*combined_longforms.most_common())\n",
    "pos_labels = []"
   ]
  },
  {
   "cell_type": "code",
   "execution_count": 5,
   "metadata": {},
   "outputs": [
    {
     "data": {
      "text/plain": [
       "[('bronchoalveolar lavage', 1661),\n",
       " ('broncho alveolar lavage', 64),\n",
       " ('bronchial alveolar lavage', 40),\n",
       " ('bronchoalveolar', 26),\n",
       " ('bioartificial liver', 22),\n",
       " ('blood alcohol levels', 20),\n",
       " ('british anti lewisite', 9),\n",
       " ('bronchoalveolar fluid', 5),\n",
       " ('betaine aldehyde', 3),\n",
       " ('breath alcohol levels', 3),\n",
       " ('benzaldehyde lyase', 3),\n",
       " ('bronchoalveolar larvage', 3),\n",
       " ('bile salt activity lipase', 3),\n",
       " ('bronchio alveolar lavage', 3),\n",
       " ('brochoalveolar lavage', 3),\n",
       " ('bronchalveolar lavage', 3),\n",
       " ('bronchial lavage', 3),\n",
       " ('bronchiolar lavage', 3)]"
      ]
     },
     "execution_count": 5,
     "metadata": {},
     "output_type": "execute_result"
    }
   ],
   "source": [
    "list(zip(longforms, counts))"
   ]
  },
  {
   "cell_type": "code",
   "execution_count": 5,
   "metadata": {},
   "outputs": [
    {
     "name": "stderr",
     "output_type": "stream",
     "text": [
      "INFO: [2020-09-28 12:09:18] indra.ontology.bio.ontology - Loading INDRA bio ontology from cache at /home/ubuntu/.indra/bio_ontology/1.2/bio_ontology.pkl\n"
     ]
    }
   ],
   "source": [
    "grounding_map, names, pos_labels = ground_with_gui(longforms, counts, \n",
    "                                                   grounding_map=grounding_map,\n",
    "                                                   names=names, pos_labels=pos_labels, no_browser=True, port=8890)"
   ]
  },
  {
   "cell_type": "code",
   "execution_count": 6,
   "metadata": {},
   "outputs": [],
   "source": [
    "result = [grounding_map, names, pos_labels]"
   ]
  },
  {
   "cell_type": "code",
   "execution_count": 7,
   "metadata": {},
   "outputs": [
    {
     "data": {
      "text/plain": [
       "[{'bl green': 'ungrounded',\n",
       "  'gaba contained liposomes': 'ungrounded',\n",
       "  'galactono 1 4 lactone': 'ungrounded',\n",
       "  'galiellalactone': 'MESH:C416043',\n",
       "  'gamma lactone': 'CHEBI:CHEBI:37581',\n",
       "  'ganoderma lucidum': 'MESH:D020940',\n",
       "  'gastric lipase': 'HGNC:1863',\n",
       "  'gastrocnemius lateralis': 'UBERON_0011908',\n",
       "  'gate loop': 'ungrounded',\n",
       "  'gaussia luciferase': 'MI_2219',\n",
       "  'germ line': 'MESH:D005854',\n",
       "  'germinal layer': 'ungrounded',\n",
       "  'germline': 'MESH:D005854',\n",
       "  'gi and load': 'ungrounded',\n",
       "  'gl': 'ungrounded',\n",
       "  'glargine': 'MESH:D000069036',\n",
       "  'glibenclamide': 'CHEBI:CHEBI:5441',\n",
       "  'global layer': 'ungrounded',\n",
       "  'glomerular layer': 'UBERON_0005377',\n",
       "  'glossopharyngeal': 'MESH:D005930',\n",
       "  'glucan': 'CHEBI:CHEBI:37163',\n",
       "  'glucolipotoxic': 'ungrounded',\n",
       "  'glucosaminidase': 'PF:PF01832',\n",
       "  'glucose': 'CHEBI:CHEBI:17234',\n",
       "  'glucosinolate': 'CHEBI:CHEBI:24279',\n",
       "  'glycaemic load': 'MESH:D000067940',\n",
       "  'glycemic load': 'MESH:D000067940',\n",
       "  'glycerol': 'CHEBI:CHEBI:17754',\n",
       "  'glycogen binding': 'GO:GO:2001069',\n",
       "  'glycogenolysis': 'MESH:D050261',\n",
       "  'glycolipid': 'CHEBI:CHEBI:33563',\n",
       "  'glycolysis': 'GO:GO:0006096',\n",
       "  'glycyrrhizin': 'CHEBI:CHEBI:15939',\n",
       "  'gold lotion': 'ungrounded',\n",
       "  'goloco': 'ungrounded',\n",
       "  'grain length': 'grain_length',\n",
       "  'granular layer': 'ungrounded',\n",
       "  'granular lymphocytes': 'ungrounded',\n",
       "  'granulosa luteal': 'MESH:D008184',\n",
       "  'granulosa lutein': 'MESH:D008184',\n",
       "  'green light': 'ungrounded',\n",
       "  'green luminescence': 'ungrounded',\n",
       "  'growth light': 'ungrounded',\n",
       "  'gugulipid': 'ungrounded'},\n",
       " {'MESH:C416043': 'galiellalactone',\n",
       "  'CHEBI:CHEBI:37581': 'gamma-lactone',\n",
       "  'MESH:D020940': 'Reishi',\n",
       "  'HGNC:1863': 'CES1',\n",
       "  'UBERON_0011908': 'gastrocnemius lateralis',\n",
       "  'MI_2219': 'gaussia luciferase protein tag',\n",
       "  'MESH:D005854': 'Germ Cells',\n",
       "  'MESH:D000069036': 'Insulin Glargine',\n",
       "  'CHEBI:CHEBI:5441': 'glyburide',\n",
       "  'UBERON_0005377': 'olfactory bulb glomerular layer',\n",
       "  'MESH:D005930': 'Glossopharyngeal Nerve',\n",
       "  'CHEBI:CHEBI:37163': 'glucan',\n",
       "  'PF:PF01832': 'Glucosaminidase',\n",
       "  'CHEBI:CHEBI:17234': 'glucose',\n",
       "  'CHEBI:CHEBI:24279': 'glucosinolate',\n",
       "  'MESH:D000067940': 'Glycemic Load',\n",
       "  'CHEBI:CHEBI:17754': 'glycerol',\n",
       "  'GO:GO:2001069': 'glycogen binding',\n",
       "  'MESH:D050261': 'Glycogenolysis',\n",
       "  'CHEBI:CHEBI:33563': 'glycolipid',\n",
       "  'GO:GO:0006096': 'glycolytic process',\n",
       "  'CHEBI:CHEBI:15939': 'glycyrrhizinic acid',\n",
       "  'grain_length': 'grain_length',\n",
       "  'MESH:D008184': 'Luteal Cells'},\n",
       " ['CHEBI:CHEBI:15939',\n",
       "  'CHEBI:CHEBI:17754',\n",
       "  'MESH:D000067940',\n",
       "  'MESH:D005854',\n",
       "  'MESH:D020940']]"
      ]
     },
     "execution_count": 7,
     "metadata": {},
     "output_type": "execute_result"
    }
   ],
   "source": [
    "result"
   ]
  },
  {
   "cell_type": "code",
   "execution_count": 19,
   "metadata": {},
   "outputs": [],
   "source": [
    "grounding_map, names, pos_labels = [{'bl green': 'ungrounded',\n",
    "  'gaba contained liposomes': 'ungrounded',\n",
    "  'galactono 1 4 lactone': 'ungrounded',\n",
    "  'galiellalactone': 'MESH:C416043',\n",
    "  'gamma lactone': 'CHEBI:CHEBI:37581',\n",
    "  'ganoderma lucidum': 'MESH:D020940',\n",
    "  'gastric lipase': 'HGNC:1863',\n",
    "  'gastrocnemius lateralis': 'UBERON_0011908',\n",
    "  'gate loop': 'ungrounded',\n",
    "  'gaussia luciferase': 'MI_2219',\n",
    "  'germ line': 'MESH:D005854',\n",
    "  'germinal layer': 'ungrounded',\n",
    "  'germline': 'MESH:D005854',\n",
    "  'gi and load': 'ungrounded',\n",
    "  'gl': 'ungrounded',\n",
    "  'glargine': 'MESH:D000069036',\n",
    "  'glibenclamide': 'CHEBI:CHEBI:5441',\n",
    "  'global layer': 'ungrounded',\n",
    "  'glomerular layer': 'UBERON_0005377',\n",
    "  'glossopharyngeal': 'MESH:D005930',\n",
    "  'glucan': 'CHEBI:CHEBI:37163',\n",
    "  'glucolipotoxic': 'ungrounded',\n",
    "  'glucosaminidase': 'PF:PF01832',\n",
    "  'glucose': 'CHEBI:CHEBI:17234',\n",
    "  'glucosinolate': 'CHEBI:CHEBI:24279',\n",
    "  'glycaemic load': 'MESH:D000067940',\n",
    "  'glycemic load': 'MESH:D000067940',\n",
    "  'glycerol': 'CHEBI:CHEBI:17754',\n",
    "  'glycogen binding': 'GO:GO:2001069',\n",
    "  'glycogenolysis': 'MESH:D050261',\n",
    "  'glycolipid': 'CHEBI:CHEBI:33563',\n",
    "  'glycolysis': 'GO:GO:0006096',\n",
    "  'glycyrrhizin': 'CHEBI:CHEBI:15939',\n",
    "  'gold lotion': 'ungrounded',\n",
    "  'goloco': 'ungrounded',\n",
    "  'grain length': 'grain_length',\n",
    "  'granular layer': 'ungrounded',\n",
    "  'granular lymphocytes': 'ungrounded',\n",
    "  'granulosa luteal': 'MESH:D008184',\n",
    "  'granulosa lutein': 'MESH:D008184',\n",
    "  'green light': 'ungrounded',\n",
    "  'green luminescence': 'ungrounded',\n",
    "  'growth light': 'ungrounded',\n",
    "  'gugulipid': 'ungrounded'},\n",
    " {'MESH:C416043': 'galiellalactone',\n",
    "  'CHEBI:CHEBI:37581': 'gamma-lactone',\n",
    "  'MESH:D020940': 'Reishi',\n",
    "  'HGNC:1863': 'CES1',\n",
    "  'UBERON_0011908': 'gastrocnemius lateralis',\n",
    "  'MI_2219': 'gaussia luciferase protein tag',\n",
    "  'MESH:D005854': 'Germ Cells',\n",
    "  'MESH:D000069036': 'Insulin Glargine',\n",
    "  'CHEBI:CHEBI:5441': 'glyburide',\n",
    "  'UBERON_0005377': 'olfactory bulb glomerular layer',\n",
    "  'MESH:D005930': 'Glossopharyngeal Nerve',\n",
    "  'CHEBI:CHEBI:37163': 'glucan',\n",
    "  'PF:PF01832': 'Glucosaminidase',\n",
    "  'CHEBI:CHEBI:17234': 'glucose',\n",
    "  'CHEBI:CHEBI:24279': 'glucosinolate',\n",
    "  'MESH:D000067940': 'Glycemic Load',\n",
    "  'CHEBI:CHEBI:17754': 'glycerol',\n",
    "  'GO:GO:2001069': 'glycogen binding',\n",
    "  'MESH:D050261': 'Glycogenolysis',\n",
    "  'CHEBI:CHEBI:33563': 'glycolipid',\n",
    "  'GO:GO:0006096': 'glycolytic process',\n",
    "  'CHEBI:CHEBI:15939': 'glycyrrhizinic acid',\n",
    "  'grain_length': 'grain_length',\n",
    "  'MESH:D008184': 'Luteal Cells'},\n",
    " ['CHEBI:CHEBI:15939',\n",
    "  'MESH:D000067940',\n",
    "  'MESH:D005854']]"
   ]
  },
  {
   "cell_type": "code",
   "execution_count": 9,
   "metadata": {},
   "outputs": [],
   "source": [
    "excluded_longforms = ['gl']"
   ]
  },
  {
   "cell_type": "code",
   "execution_count": 10,
   "metadata": {},
   "outputs": [],
   "source": [
    "grounding_dict = {shortform: {longform: grounding_map[longform] \n",
    "                              for longform, _, _ in longforms if longform in grounding_map\n",
    "                              and longform not in excluded_longforms}\n",
    "                  for shortform, longforms in longform_dict.items()}\n",
    "result = [grounding_dict, names, pos_labels]\n",
    "\n",
    "if not os.path.exists(results_path):\n",
    "    os.mkdir(results_path)\n",
    "with open(os.path.join(results_path, f'{model_name}_preliminary_grounding_info.json'), 'w') as f:\n",
    "    json.dump(result, f)"
   ]
  },
  {
   "cell_type": "code",
   "execution_count": 11,
   "metadata": {},
   "outputs": [],
   "source": [
    "additional_entities = []"
   ]
  },
  {
   "cell_type": "code",
   "execution_count": 12,
   "metadata": {},
   "outputs": [],
   "source": [
    "unambiguous_agent_texts = {}"
   ]
  },
  {
   "cell_type": "code",
   "execution_count": 13,
   "metadata": {},
   "outputs": [],
   "source": [
    "labeler = AdeftLabeler(grounding_dict)\n",
    "corpus = labeler.build_from_texts((text, pmid) for pmid, text in all_texts.items())\n",
    "agent_text_pmid_map = defaultdict(list)\n",
    "for text, label, id_ in corpus:\n",
    "    agent_text_pmid_map[label].append(id_)\n",
    "\n",
    "entity_pmid_map = {entity: set(get_pmids_for_entity(*entity.split(':', maxsplit=1),\n",
    "                                                major_topic=True))for entity in additional_entities}"
   ]
  },
  {
   "cell_type": "code",
   "execution_count": 19,
   "metadata": {},
   "outputs": [],
   "source": [
    "intersection1 = []\n",
    "for entity1, pmids1 in entity_pmid_map.items():\n",
    "    for entity2, pmids2 in entity_pmid_map.items():\n",
    "        intersection1.append((entity1, entity2, len(pmids1 & pmids2)))"
   ]
  },
  {
   "cell_type": "code",
   "execution_count": 20,
   "metadata": {},
   "outputs": [],
   "source": [
    "intersection2 = []\n",
    "for entity1, pmids1 in agent_text_pmid_map.items():\n",
    "    for entity2, pmids2 in entity_pmid_map.items():\n",
    "        intersection2.append((entity1, entity2, len(set(pmids1) & pmids2)))"
   ]
  },
  {
   "cell_type": "code",
   "execution_count": 21,
   "metadata": {},
   "outputs": [
    {
     "data": {
      "text/plain": [
       "[('HGNC:1848', 'HGNC:1848', 86)]"
      ]
     },
     "execution_count": 21,
     "metadata": {},
     "output_type": "execute_result"
    }
   ],
   "source": [
    "intersection1"
   ]
  },
  {
   "cell_type": "code",
   "execution_count": 22,
   "metadata": {},
   "outputs": [
    {
     "data": {
      "text/plain": [
       "[('MESH:D018893', 'HGNC:1848', 0),\n",
       " ('HGNC:1848', 'HGNC:1848', 1),\n",
       " ('ungrounded', 'HGNC:1848', 0),\n",
       " ('CHEBI:CHEBI:64198', 'HGNC:1848', 0),\n",
       " ('MESH:D019164', 'HGNC:1848', 0),\n",
       " ('MESH:C059416', 'HGNC:1848', 0),\n",
       " ('CHEBI:CHEBI:15710', 'HGNC:1848', 0)]"
      ]
     },
     "execution_count": 22,
     "metadata": {},
     "output_type": "execute_result"
    }
   ],
   "source": [
    "intersection2"
   ]
  },
  {
   "cell_type": "code",
   "execution_count": 84,
   "metadata": {},
   "outputs": [
    {
     "data": {
      "text/plain": [
       "[('HGNC:7321', ['Musculin', 'musculin'])]"
      ]
     },
     "execution_count": 84,
     "metadata": {},
     "output_type": "execute_result"
    }
   ],
   "source": []
  },
  {
   "cell_type": "code",
   "execution_count": 23,
   "metadata": {},
   "outputs": [],
   "source": [
    "all_used_pmids = set()\n",
    "for entity, agent_texts in unambiguous_agent_texts.items():\n",
    "    used_pmids = set()\n",
    "    for agent_text in agent_texts:\n",
    "        pmids = set(get_pmids_for_agent_text(agent_text))\n",
    "        new_pmids = list(pmids - all_texts.keys() - used_pmids)\n",
    "        text_dict = get_plaintexts_for_pmids(new_pmids, contains=agent_texts)\n",
    "        corpus.extend([(text, entity, pmid) for pmid, text in text_dict.items()])\n",
    "        used_pmids.update(new_pmids)\n",
    "    all_used_pmids.update(used_pmids)\n",
    "        \n",
    "for entity, pmids in entity_pmid_map.items():\n",
    "    new_pmids = list(set(pmids) - all_texts.keys() - all_used_pmids)\n",
    "    if len(new_pmids) > 10000:\n",
    "        new_pmids = random.choices(new_pmids, k=10000)\n",
    "    text_dict = get_plaintexts_for_pmids(new_pmids)\n",
    "    corpus.extend([(text, entity, pmid) for pmid, text in text_dict.items()])"
   ]
  },
  {
   "cell_type": "code",
   "execution_count": 20,
   "metadata": {},
   "outputs": [
    {
     "name": "stderr",
     "output_type": "stream",
     "text": [
      "INFO: [2020-09-28 12:59:20] /adeft/PythonRepos/adeft/adeft/modeling/classify.py - Beginning grid search in parameter space:\n",
      "{'C': [100.0], 'max_features': [10000]}\n",
      "INFO: [2020-09-28 12:59:34] /adeft/PythonRepos/adeft/adeft/modeling/classify.py - Best f1 score of 0.9168576034317801 found for parameter values:\n",
      "{'logit__C': 100.0, 'tfidf__max_features': 10000}\n"
     ]
    }
   ],
   "source": [
    "%%capture\n",
    "\n",
    "classifier = AdeftClassifier(shortforms, pos_labels=pos_labels, random_state=1729)\n",
    "param_grid = {'C': [100.0], 'max_features': [10000]}\n",
    "texts, labels, pmids = zip(*corpus)\n",
    "classifier.cv(texts, labels, param_grid, cv=5, n_jobs=5)"
   ]
  },
  {
   "cell_type": "code",
   "execution_count": 21,
   "metadata": {
    "scrolled": true
   },
   "outputs": [
    {
     "data": {
      "text/plain": [
       "{'label_distribution': {'CHEBI:CHEBI:5441': 3,\n",
       "  'CHEBI:CHEBI:15939': 143,\n",
       "  'ungrounded': 54,\n",
       "  'HGNC:1863': 3,\n",
       "  'CHEBI:CHEBI:17234': 3,\n",
       "  'GO:GO:0006096': 4,\n",
       "  'GO:GO:2001069': 2,\n",
       "  'MESH:D008184': 9,\n",
       "  'MESH:D005854': 26,\n",
       "  'MESH:D005930': 6,\n",
       "  'CHEBI:CHEBI:33563': 4,\n",
       "  'MESH:D020940': 13,\n",
       "  'CHEBI:CHEBI:37581': 3,\n",
       "  'MESH:D050261': 3,\n",
       "  'MESH:D000067940': 188,\n",
       "  'CHEBI:CHEBI:17754': 11,\n",
       "  'CHEBI:CHEBI:37163': 3,\n",
       "  'MI_2219': 4,\n",
       "  'UBERON_0005377': 8,\n",
       "  'grain_length': 14,\n",
       "  'MESH:C416043': 6,\n",
       "  'MESH:D000069036': 4,\n",
       "  'PF:PF01832': 3,\n",
       "  'UBERON_0011908': 4,\n",
       "  'CHEBI:CHEBI:24279': 2},\n",
       " 'f1': {'mean': 0.916858, 'std': 0.009065},\n",
       " 'precision': {'mean': 0.86328, 'std': 0.017201},\n",
       " 'recall': {'mean': 0.988772, 'std': 0.01053},\n",
       " 'CHEBI:CHEBI:17234': {'f1': {'mean': 0.0, 'std': 0.0},\n",
       "  'pr': {'mean': 0.0, 'std': 0.0},\n",
       "  'rc': {'mean': 0.0, 'std': 0.0}},\n",
       " 'MESH:D000069036': {'f1': {'mean': 0.4, 'std': 0.489898},\n",
       "  'pr': {'mean': 0.4, 'std': 0.489898},\n",
       "  'rc': {'mean': 0.4, 'std': 0.489898}},\n",
       " 'PF:PF01832': {'f1': {'mean': 0.6, 'std': 0.489898},\n",
       "  'pr': {'mean': 0.6, 'std': 0.489898},\n",
       "  'rc': {'mean': 0.6, 'std': 0.489898}},\n",
       " 'GO:GO:2001069': {'f1': {'mean': 0.4, 'std': 0.489898},\n",
       "  'pr': {'mean': 0.4, 'std': 0.489898},\n",
       "  'rc': {'mean': 0.4, 'std': 0.489898}},\n",
       " 'MESH:D000067940': {'f1': {'mean': 0.976552, 'std': 0.009648},\n",
       "  'pr': {'mean': 0.994737, 'std': 0.010526},\n",
       "  'rc': {'mean': 0.959096, 'std': 0.012198}},\n",
       " 'CHEBI:CHEBI:37581': {'f1': {'mean': 0.0, 'std': 0.0},\n",
       "  'pr': {'mean': 0.0, 'std': 0.0},\n",
       "  'rc': {'mean': 0.0, 'std': 0.0}},\n",
       " 'CHEBI:CHEBI:33563': {'f1': {'mean': 0.0, 'std': 0.0},\n",
       "  'pr': {'mean': 0.0, 'std': 0.0},\n",
       "  'rc': {'mean': 0.0, 'std': 0.0}},\n",
       " 'HGNC:1863': {'f1': {'mean': 0.2, 'std': 0.4},\n",
       "  'pr': {'mean': 0.2, 'std': 0.4},\n",
       "  'rc': {'mean': 0.2, 'std': 0.4}},\n",
       " 'MI_2219': {'f1': {'mean': 0.6, 'std': 0.489898},\n",
       "  'pr': {'mean': 0.6, 'std': 0.489898},\n",
       "  'rc': {'mean': 0.6, 'std': 0.489898}},\n",
       " 'CHEBI:CHEBI:5441': {'f1': {'mean': 0.0, 'std': 0.0},\n",
       "  'pr': {'mean': 0.0, 'std': 0.0},\n",
       "  'rc': {'mean': 0.0, 'std': 0.0}},\n",
       " 'MESH:D008184': {'f1': {'mean': 0.666667, 'std': 0.365148},\n",
       "  'pr': {'mean': 0.6, 'std': 0.374166},\n",
       "  'rc': {'mean': 0.8, 'std': 0.4}},\n",
       " 'MESH:D005930': {'f1': {'mean': 0.8, 'std': 0.4},\n",
       "  'pr': {'mean': 0.8, 'std': 0.4},\n",
       "  'rc': {'mean': 0.8, 'std': 0.4}},\n",
       " 'CHEBI:CHEBI:24279': {'f1': {'mean': 0.2, 'std': 0.4},\n",
       "  'pr': {'mean': 0.2, 'std': 0.4},\n",
       "  'rc': {'mean': 0.2, 'std': 0.4}},\n",
       " 'GO:GO:0006096': {'f1': {'mean': 0.2, 'std': 0.4},\n",
       "  'pr': {'mean': 0.2, 'std': 0.4},\n",
       "  'rc': {'mean': 0.2, 'std': 0.4}},\n",
       " 'MESH:C416043': {'f1': {'mean': 0.333333, 'std': 0.421637},\n",
       "  'pr': {'mean': 0.3, 'std': 0.4},\n",
       "  'rc': {'mean': 0.4, 'std': 0.489898}},\n",
       " 'CHEBI:CHEBI:15939': {'f1': {'mean': 0.829978, 'std': 0.031005},\n",
       "  'pr': {'mean': 0.985961, 'std': 0.017199},\n",
       "  'rc': {'mean': 0.717819, 'std': 0.044404}},\n",
       " 'CHEBI:CHEBI:17754': {'f1': {'mean': 0.366667, 'std': 0.305505},\n",
       "  'pr': {'mean': 0.266667, 'std': 0.226078},\n",
       "  'rc': {'mean': 0.6, 'std': 0.489898}},\n",
       " 'UBERON_0005377': {'f1': {'mean': 1.0, 'std': 0.0},\n",
       "  'pr': {'mean': 1.0, 'std': 0.0},\n",
       "  'rc': {'mean': 1.0, 'std': 0.0}},\n",
       " 'UBERON_0011908': {'f1': {'mean': 0.533333, 'std': 0.452155},\n",
       "  'pr': {'mean': 0.6, 'std': 0.489898},\n",
       "  'rc': {'mean': 0.5, 'std': 0.447214}},\n",
       " 'MESH:D020940': {'f1': {'mean': 0.313333, 'std': 0.26965},\n",
       "  'pr': {'mean': 0.233333, 'std': 0.2},\n",
       "  'rc': {'mean': 0.5, 'std': 0.447214}},\n",
       " 'CHEBI:CHEBI:37163': {'f1': {'mean': 0.0, 'std': 0.0},\n",
       "  'pr': {'mean': 0.0, 'std': 0.0},\n",
       "  'rc': {'mean': 0.0, 'std': 0.0}},\n",
       " 'MESH:D005854': {'f1': {'mean': 0.962393, 'std': 0.047311},\n",
       "  'pr': {'mean': 0.96, 'std': 0.08},\n",
       "  'rc': {'mean': 0.971429, 'std': 0.057143}},\n",
       " 'grain_length': {'f1': {'mean': 1.0, 'std': 0.0},\n",
       "  'pr': {'mean': 1.0, 'std': 0.0},\n",
       "  'rc': {'mean': 1.0, 'std': 0.0}},\n",
       " 'MESH:D050261': {'f1': {'mean': 0.6, 'std': 0.489898},\n",
       "  'pr': {'mean': 0.6, 'std': 0.489898},\n",
       "  'rc': {'mean': 0.6, 'std': 0.489898}},\n",
       " 'ungrounded': {'f1': {'mean': 0.661962, 'std': 0.093667},\n",
       "  'pr': {'mean': 0.596364, 'std': 0.142423},\n",
       "  'rc': {'mean': 0.808889, 'std': 0.166058}}}"
      ]
     },
     "execution_count": 21,
     "metadata": {},
     "output_type": "execute_result"
    }
   ],
   "source": [
    "classifier.stats"
   ]
  },
  {
   "cell_type": "code",
   "execution_count": 22,
   "metadata": {},
   "outputs": [],
   "source": [
    "disamb = AdeftDisambiguator(classifier, grounding_dict, names)"
   ]
  },
  {
   "cell_type": "code",
   "execution_count": 24,
   "metadata": {},
   "outputs": [],
   "source": [
    "disamb.dump(model_name, results_path)"
   ]
  },
  {
   "cell_type": "code",
   "execution_count": 23,
   "metadata": {},
   "outputs": [
    {
     "name": "stdout",
     "output_type": "stream",
     "text": [
      "Disambiguation model for GL\n",
      "\n",
      "Produces the disambiguations:\n",
      "\tCES1\tHGNC:1863\n",
      "\tGerm Cells*\tMESH:D005854\n",
      "\tGlossopharyngeal Nerve\tMESH:D005930\n",
      "\tGlucosaminidase\tPF:PF01832\n",
      "\tGlycemic Load*\tMESH:D000067940\n",
      "\tGlycogenolysis\tMESH:D050261\n",
      "\tInsulin Glargine\tMESH:D000069036\n",
      "\tLuteal Cells\tMESH:D008184\n",
      "\tReishi\tMESH:D020940\n",
      "\tgaliellalactone\tMESH:C416043\n",
      "\tgamma-lactone\tCHEBI:CHEBI:37581\n",
      "\tgastrocnemius lateralis\tUBERON_0011908\n",
      "\tgaussia luciferase protein tag\tMI_2219\n",
      "\tglucan\tCHEBI:CHEBI:37163\n",
      "\tglucose\tCHEBI:CHEBI:17234\n",
      "\tglucosinolate\tCHEBI:CHEBI:24279\n",
      "\tglyburide\tCHEBI:CHEBI:5441\n",
      "\tglycerol\tCHEBI:CHEBI:17754\n",
      "\tglycogen binding\tGO:GO:2001069\n",
      "\tglycolipid\tCHEBI:CHEBI:33563\n",
      "\tglycolytic process\tGO:GO:0006096\n",
      "\tglycyrrhizinic acid*\tCHEBI:CHEBI:15939\n",
      "\tgrain_length\tgrain_length\n",
      "\tolfactory bulb glomerular layer\tUBERON_0005377\n",
      "\n",
      "Class level metrics:\n",
      "--------------------\n",
      "Grounding                      \tCount\tF1     \n",
      "                  Glycemic Load*\t188\t0.97655\n",
      "            glycyrrhizinic acid*\t143\t0.82998\n",
      "                     Ungrounded\t 54\t0.66196\n",
      "                     Germ Cells*\t 26\t0.96239\n",
      "                   grain_length\t 14\t    1.0\n",
      "                         Reishi\t 13\t0.31333\n",
      "                       glycerol\t 11\t0.36667\n",
      "                   Luteal Cells\t  9\t0.66667\n",
      "olfactory bulb glomerular layer\t  8\t    1.0\n",
      "         Glossopharyngeal Nerve\t  6\t    0.8\n",
      "                galiellalactone\t  6\t0.33333\n",
      "             glycolytic process\t  4\t    0.2\n",
      "                     glycolipid\t  4\t    0.0\n",
      " gaussia luciferase protein tag\t  4\t    0.6\n",
      "               Insulin Glargine\t  4\t    0.4\n",
      "        gastrocnemius lateralis\t  4\t0.53333\n",
      "                      glyburide\t  3\t    0.0\n",
      "                           CES1\t  3\t    0.2\n",
      "                        glucose\t  3\t    0.0\n",
      "                  gamma-lactone\t  3\t    0.0\n",
      "                 Glycogenolysis\t  3\t    0.6\n",
      "                         glucan\t  3\t    0.0\n",
      "                Glucosaminidase\t  3\t    0.6\n",
      "               glycogen binding\t  2\t    0.4\n",
      "                  glucosinolate\t  2\t    0.2\n",
      "\n",
      "Weighted Metrics:\n",
      "-----------------\n",
      "\tF1 score:\t0.91686\n",
      "\tPrecision:\t0.86328\n",
      "\tRecall:\t\t0.98877\n",
      "\n",
      "* Positive labels\n",
      "See Docstring for explanation\n",
      "\n"
     ]
    }
   ],
   "source": [
    "print(disamb.info())"
   ]
  },
  {
   "cell_type": "code",
   "execution_count": 25,
   "metadata": {},
   "outputs": [],
   "source": [
    "model_to_s3(disamb)"
   ]
  },
  {
   "cell_type": "code",
   "execution_count": null,
   "metadata": {},
   "outputs": [],
   "source": []
  }
 ],
 "metadata": {
  "kernelspec": {
   "display_name": "Python 3",
   "language": "python",
   "name": "python3"
  },
  "language_info": {
   "codemirror_mode": {
    "name": "ipython",
    "version": 3
   },
   "file_extension": ".py",
   "mimetype": "text/x-python",
   "name": "python",
   "nbconvert_exporter": "python",
   "pygments_lexer": "ipython3",
   "version": "3.8.4"
  }
 },
 "nbformat": 4,
 "nbformat_minor": 2
}
