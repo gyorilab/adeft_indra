{
 "cells": [
  {
   "cell_type": "code",
   "execution_count": 1,
   "metadata": {},
   "outputs": [],
   "source": [
    "import os\n",
    "import json\n",
    "import pickle\n",
    "import random\n",
    "from collections import defaultdict, Counter\n",
    "\n",
    "from indra.literature.adeft_tools import universal_extract_text\n",
    "from indra.databases.hgnc_client import get_hgnc_name, get_hgnc_id\n",
    "\n",
    "from adeft.discover import AdeftMiner\n",
    "from adeft.gui import ground_with_gui\n",
    "from adeft.modeling.label import AdeftLabeler\n",
    "from adeft.modeling.classify import AdeftClassifier\n",
    "from adeft.disambiguate import AdeftDisambiguator, load_disambiguator\n",
    "\n",
    "\n",
    "from adeft_indra.ground.ground import AdeftGrounder\n",
    "from adeft_indra.model_building.s3 import model_to_s3\n",
    "from adeft_indra.model_building.escape import escape_filename\n",
    "from adeft_indra.db.content import get_pmids_for_agent_text, get_pmids_for_entity, \\\n",
    "    get_plaintexts_for_pmids"
   ]
  },
  {
   "cell_type": "code",
   "execution_count": 2,
   "metadata": {},
   "outputs": [],
   "source": [
    "adeft_grounder = AdeftGrounder()"
   ]
  },
  {
   "cell_type": "code",
   "execution_count": 3,
   "metadata": {},
   "outputs": [],
   "source": [
    "shortforms = ['TG']\n",
    "model_name = ':'.join(sorted(escape_filename(shortform) for shortform in shortforms))\n",
    "results_path = os.path.abspath(os.path.join('../..', 'results', model_name))"
   ]
  },
  {
   "cell_type": "code",
   "execution_count": 4,
   "metadata": {},
   "outputs": [],
   "source": [
    "miners = dict()\n",
    "all_texts = {}\n",
    "for shortform in shortforms:\n",
    "    pmids = get_pmids_for_agent_text(shortform)\n",
    "    text_dict = get_plaintexts_for_pmids(pmids, contains=shortforms)\n",
    "    text_dict = {pmid: text for pmid, text in text_dict.items() if len(text) > 5}\n",
    "    miners[shortform] = AdeftMiner(shortform)\n",
    "    miners[shortform].process_texts(text_dict.values())\n",
    "    all_texts.update(text_dict)\n",
    "\n",
    "longform_dict = {}\n",
    "for shortform in shortforms:\n",
    "    longforms = miners[shortform].get_longforms()\n",
    "    longforms = [(longform, count, score) for longform, count, score in longforms\n",
    "                 if count*score > 2]\n",
    "    longform_dict[shortform] = longforms\n",
    "    \n",
    "combined_longforms = Counter()\n",
    "for longform_rows in longform_dict.values():\n",
    "    combined_longforms.update({longform: count for longform, count, score\n",
    "                               in longform_rows})\n",
    "grounding_map = {}\n",
    "names = {}\n",
    "for longform in combined_longforms:\n",
    "    groundings = adeft_grounder.ground(longform)\n",
    "    if groundings:\n",
    "        grounding = groundings[0]['grounding']\n",
    "        grounding_map[longform] = grounding\n",
    "        names[grounding] = groundings[0]['name']\n",
    "longforms, counts = zip(*combined_longforms.most_common())\n",
    "pos_labels = []"
   ]
  },
  {
   "cell_type": "code",
   "execution_count": 5,
   "metadata": {},
   "outputs": [
    {
     "data": {
      "text/plain": [
       "[('triglyceride', 5915),\n",
       " ('thapsigargin', 939),\n",
       " ('triacylglycerol', 510),\n",
       " ('transgenic', 505),\n",
       " ('trigeminal ganglion', 235),\n",
       " ('trigeminal ganglia', 162),\n",
       " ('thyroglobulin', 127),\n",
       " ('thrombin generation', 108),\n",
       " ('transglutaminase', 91),\n",
       " ('thioguanine', 50),\n",
       " ('thioglycollate', 43),\n",
       " ('triacylglyceride', 34),\n",
       " ('trophoblast giant', 26),\n",
       " ('triglycide', 22),\n",
       " ('transplant glomerulopathy', 20),\n",
       " ('target gene', 18),\n",
       " ('tripterygium glycosides', 18),\n",
       " ('trigeminal', 15),\n",
       " ('total glutathione', 14),\n",
       " ('total gastrectomy', 14),\n",
       " ('treatment group', 13),\n",
       " ('transglycosylation', 12),\n",
       " ('training group', 11),\n",
       " ('total ginsenosides', 10),\n",
       " ('troglitazone', 10),\n",
       " ('tg', 9),\n",
       " ('tg101209', 9),\n",
       " ('thymine glycol', 8),\n",
       " ('transient grating', 7),\n",
       " ('typhus group', 7),\n",
       " ('triacyglycerol', 7),\n",
       " ('toxoplasma gondii', 5),\n",
       " ('timothy grass', 5),\n",
       " ('triglyeride', 5),\n",
       " ('thioglycerol', 5),\n",
       " ('tara gum', 4),\n",
       " ('thyroid gland', 4),\n",
       " ('triglycéride', 4),\n",
       " ('trigonelline', 4),\n",
       " ('therapy group', 4),\n",
       " ('thymoglobulin', 4),\n",
       " ('thermogravimetric', 4),\n",
       " ('tectorigenin', 4),\n",
       " ('tg mice', 4),\n",
       " ('transgenic pgc 1α overexpression', 4),\n",
       " ('total ghrelin', 3),\n",
       " ('treatment gap', 3),\n",
       " ('transtricuspid gradient', 3),\n",
       " ('testosterone glucuronide', 3),\n",
       " ('test group', 3),\n",
       " ('transglycosylase', 3),\n",
       " ('thermogravimetry', 3),\n",
       " ('tgfbr2flox flox', 3),\n",
       " ('trigly ceride', 3),\n",
       " ('triglyceride content', 3),\n",
       " ('thioglycollate broth', 3),\n",
       " ('transgenic rats', 3),\n",
       " ('thermogravimetric analysis', 3)]"
      ]
     },
     "execution_count": 5,
     "metadata": {},
     "output_type": "execute_result"
    }
   ],
   "source": [
    "list(zip(longforms, counts))"
   ]
  },
  {
   "cell_type": "code",
   "execution_count": 6,
   "metadata": {},
   "outputs": [],
   "source": [
    "try:\n",
    "    disamb = load_disambiguator(shortforms[0])\n",
    "    for shortform, gm in disamb.grounding_dict.items():\n",
    "        for longform, grounding in gm.items():\n",
    "            grounding_map[longform] = grounding\n",
    "    for grounding, name in disamb.names.items():\n",
    "        names[grounding] = name\n",
    "    pos_labels = disamb.pos_labels\n",
    "except Exception:\n",
    "    pass"
   ]
  },
  {
   "cell_type": "code",
   "execution_count": 7,
   "metadata": {},
   "outputs": [
    {
     "data": {
      "text/plain": [
       "{'CHEBI:CHEBI:17855': 'Triglyceride',\n",
       " 'CHEBI:CHEBI:9516': 'Thapsigargin',\n",
       " 'EFO:0004020': 'transgenic',\n",
       " 'MESH:D012668': 'Trigeminal Ganglion',\n",
       " 'HGNC:11764': 'TG',\n",
       " 'EFO:0000507': 'generation',\n",
       " 'CHEBI:CHEBI:9555': 'tioguanine',\n",
       " 'CHEBI:CHEBI:30066': 'thioglycolate(1-)',\n",
       " 'HP:HP:0100820': 'Glomerulopathy',\n",
       " 'CHEBI:CHEBI:24400': 'glycoside',\n",
       " 'CHEBI:CHEBI:16856': 'glutathione',\n",
       " 'MESH:D005743': 'Gastrectomy',\n",
       " 'CHEBI:CHEBI:24433': 'group',\n",
       " 'CHEBI:CHEBI:74978': 'ginsenoside',\n",
       " 'CHEBI:CHEBI:9753': 'troglitazone',\n",
       " 'CHEBI:CHEBI:90304': 'TG101209',\n",
       " 'CHEBI:CHEBI:29128': 'thymine glycol',\n",
       " 'MESH:D031784': 'Phleum',\n",
       " 'MESH:C009465': 'thioglycerol',\n",
       " 'MESH:C038612': 'tara gum',\n",
       " 'MESH:D013961': 'Thyroid Gland',\n",
       " 'MESH:C009560': 'trigonelline',\n",
       " 'MESH:C512542': 'thymoglobulin',\n",
       " 'CHEBI:CHEBI:9429': 'tectorigenin',\n",
       " 'HGNC:7094': 'MICE',\n",
       " 'CHEBI:CHEBI:75431': 'ghrelin',\n",
       " 'FPLX:GAP': 'GAP',\n",
       " 'CHEBI:CHEBI:28835': 'testosterone 17-glucosiduronic acid',\n",
       " 'MESH:D013818': 'Thermogravimetry',\n",
       " 'MESH:D055647': 'Rats, Transgenic'}"
      ]
     },
     "execution_count": 7,
     "metadata": {},
     "output_type": "execute_result"
    }
   ],
   "source": [
    "names"
   ]
  },
  {
   "cell_type": "code",
   "execution_count": 8,
   "metadata": {},
   "outputs": [
    {
     "name": "stderr",
     "output_type": "stream",
     "text": [
      "INFO: [2020-11-01 01:54:33] indra.ontology.bio.ontology - Loading INDRA bio ontology from cache at /home/ubuntu/.indra/bio_ontology/1.4/bio_ontology.pkl\n",
      "ERROR: [2020-11-01 01:59:02] adeft.gui.ground - Exception on /ground_add [POST]\n",
      "Traceback (most recent call last):\n",
      "  File \"/adeft/.virtualenvs/adeft_env/lib/python3.8/site-packages/flask/app.py\", line 2447, in wsgi_app\n",
      "    response = self.full_dispatch_request()\n",
      "  File \"/adeft/.virtualenvs/adeft_env/lib/python3.8/site-packages/flask/app.py\", line 1952, in full_dispatch_request\n",
      "    rv = self.handle_user_exception(e)\n",
      "  File \"/adeft/.virtualenvs/adeft_env/lib/python3.8/site-packages/flask/app.py\", line 1821, in handle_user_exception\n",
      "    reraise(exc_type, exc_value, tb)\n",
      "  File \"/adeft/.virtualenvs/adeft_env/lib/python3.8/site-packages/flask/_compat.py\", line 39, in reraise\n",
      "    raise value\n",
      "  File \"/adeft/.virtualenvs/adeft_env/lib/python3.8/site-packages/flask/app.py\", line 1950, in full_dispatch_request\n",
      "    rv = self.dispatch_request()\n",
      "  File \"/adeft/.virtualenvs/adeft_env/lib/python3.8/site-packages/flask/app.py\", line 1936, in dispatch_request\n",
      "    return self.view_functions[rule.endpoint](**req.view_args)\n",
      "  File \"/adeft/PP/adeft/adeft/gui/ground/ground.py\", line 64, in add_groundings\n",
      "    name, grounding = determine_grounding_info(namespace, name, identifier)\n",
      "  File \"/adeft/PP/adeft/adeft/gui/ground/ground.py\", line 38, in determine_grounding_info\n",
      "    return name, grounding\n",
      "UnboundLocalError: local variable 'grounding' referenced before assignment\n",
      "ERROR: [2020-11-01 01:59:18] adeft.gui.ground - Exception on /ground_add [POST]\n",
      "Traceback (most recent call last):\n",
      "  File \"/adeft/.virtualenvs/adeft_env/lib/python3.8/site-packages/flask/app.py\", line 2447, in wsgi_app\n",
      "    response = self.full_dispatch_request()\n",
      "  File \"/adeft/.virtualenvs/adeft_env/lib/python3.8/site-packages/flask/app.py\", line 1952, in full_dispatch_request\n",
      "    rv = self.handle_user_exception(e)\n",
      "  File \"/adeft/.virtualenvs/adeft_env/lib/python3.8/site-packages/flask/app.py\", line 1821, in handle_user_exception\n",
      "    reraise(exc_type, exc_value, tb)\n",
      "  File \"/adeft/.virtualenvs/adeft_env/lib/python3.8/site-packages/flask/_compat.py\", line 39, in reraise\n",
      "    raise value\n",
      "  File \"/adeft/.virtualenvs/adeft_env/lib/python3.8/site-packages/flask/app.py\", line 1950, in full_dispatch_request\n",
      "    rv = self.dispatch_request()\n",
      "  File \"/adeft/.virtualenvs/adeft_env/lib/python3.8/site-packages/flask/app.py\", line 1936, in dispatch_request\n",
      "    return self.view_functions[rule.endpoint](**req.view_args)\n",
      "  File \"/adeft/PP/adeft/adeft/gui/ground/ground.py\", line 64, in add_groundings\n",
      "    name, grounding = determine_grounding_info(namespace, name, identifier)\n",
      "  File \"/adeft/PP/adeft/adeft/gui/ground/ground.py\", line 38, in determine_grounding_info\n",
      "    return name, grounding\n",
      "UnboundLocalError: local variable 'grounding' referenced before assignment\n"
     ]
    }
   ],
   "source": [
    "grounding_map, names, pos_labels = ground_with_gui(longforms, counts, \n",
    "                                                   grounding_map=grounding_map,\n",
    "                                                   names=names, pos_labels=pos_labels, no_browser=True, port=8891)"
   ]
  },
  {
   "cell_type": "code",
   "execution_count": 9,
   "metadata": {},
   "outputs": [],
   "source": [
    "result = [grounding_map, names, pos_labels]"
   ]
  },
  {
   "cell_type": "code",
   "execution_count": 10,
   "metadata": {},
   "outputs": [
    {
     "data": {
      "text/plain": [
       "[{'tara gum': 'MESH:C038612',\n",
       "  'target gene': 'ungrounded',\n",
       "  'tectorigenin': 'CHEBI:CHEBI:9429',\n",
       "  'test group': 'ungrounded',\n",
       "  'testosterone glucuronide': 'CHEBI:CHEBI:28835',\n",
       "  'tg': 'ungrounded',\n",
       "  'tg mice': 'ungrounded',\n",
       "  'tg101209': 'CHEBI:CHEBI:90304',\n",
       "  'tgfbr2flox flox': 'ungrounded',\n",
       "  'thapsigargin': 'CHEBI:CHEBI:9516',\n",
       "  'therapy group': 'ungrounded',\n",
       "  'thermogravimetric': 'ungrounded',\n",
       "  'thermogravimetric analysis': 'ungrounded',\n",
       "  'thermogravimetry': 'MESH:D013818',\n",
       "  'thioglycerol': 'MESH:C009465',\n",
       "  'thioglycollate': 'MESH:D013864',\n",
       "  'thioglycollate broth': 'MESH:D013864',\n",
       "  'thioguanine': 'CHEBI:CHEBI:9555',\n",
       "  'thrombin generation': 'ungrounded',\n",
       "  'thymine glycol': 'CHEBI:CHEBI:29128',\n",
       "  'thymoglobulin': 'MESH:C512542',\n",
       "  'thyroglobulin': 'HGNC:11764',\n",
       "  'thyroid gland': 'MESH:D013961',\n",
       "  'timothy grass': 'MESH:D031784',\n",
       "  'total gastrectomy': 'MESH:D005743',\n",
       "  'total ghrelin': 'CHEBI:CHEBI:75431',\n",
       "  'total ginsenosides': 'CHEBI:CHEBI:74978',\n",
       "  'total glutathione': 'CHEBI:CHEBI:16856',\n",
       "  'toxoplasma gondii': 'ungrounded',\n",
       "  'training group': 'ungrounded',\n",
       "  'transgenic': 'ungrounded',\n",
       "  'transgenic pgc 1α overexpression': 'ungrounded',\n",
       "  'transgenic rats': 'MESH:D055647',\n",
       "  'transglutaminase': 'MESH:D011503',\n",
       "  'transglycosylase': 'PF:PF00912',\n",
       "  'transglycosylation': 'ungrounded',\n",
       "  'transient grating': 'ungrounded',\n",
       "  'transplant glomerulopathy': 'ungrounded',\n",
       "  'transtricuspid gradient': 'ungrounded',\n",
       "  'treatment gap': 'ungrounded',\n",
       "  'treatment group': 'ungrounded',\n",
       "  'triacyglycerol': 'CHEBI:CHEBI:17855',\n",
       "  'triacylglyceride': 'CHEBI:CHEBI:17855',\n",
       "  'triacylglycerol': 'CHEBI:CHEBI:17855',\n",
       "  'trigeminal': 'MESH:D012668',\n",
       "  'trigeminal ganglia': 'MESH:D012668',\n",
       "  'trigeminal ganglion': 'MESH:D012668',\n",
       "  'trigly ceride': 'CHEBI:CHEBI:17855',\n",
       "  'triglyceride': 'CHEBI:CHEBI:17855',\n",
       "  'triglyceride content': 'CHEBI:CHEBI:17855',\n",
       "  'triglycide': 'CHEBI:CHEBI:17855',\n",
       "  'triglycéride': 'CHEBI:CHEBI:17855',\n",
       "  'triglyeride': 'CHEBI:CHEBI:17855',\n",
       "  'trigonelline': 'MESH:C009560',\n",
       "  'tripterygium glycosides': 'ungrounded',\n",
       "  'troglitazone': 'CHEBI:CHEBI:9753',\n",
       "  'trophoblast giant': 'BTO:BTO:0005362',\n",
       "  'typhus group': 'ungrounded'},\n",
       " {'MESH:C038612': 'tara gum',\n",
       "  'CHEBI:CHEBI:9429': 'tectorigenin',\n",
       "  'CHEBI:CHEBI:28835': 'testosterone 17-glucosiduronic acid',\n",
       "  'CHEBI:CHEBI:90304': 'TG101209',\n",
       "  'CHEBI:CHEBI:9516': 'Thapsigargin',\n",
       "  'MESH:D013818': 'Thermogravimetry',\n",
       "  'MESH:C009465': 'thioglycerol',\n",
       "  'MESH:D013864': 'Thioglycolates',\n",
       "  'CHEBI:CHEBI:9555': 'tioguanine',\n",
       "  'CHEBI:CHEBI:29128': 'thymine glycol',\n",
       "  'MESH:C512542': 'thymoglobulin',\n",
       "  'HGNC:11764': 'TG',\n",
       "  'MESH:D013961': 'Thyroid Gland',\n",
       "  'MESH:D031784': 'Phleum',\n",
       "  'MESH:D005743': 'Gastrectomy',\n",
       "  'CHEBI:CHEBI:75431': 'ghrelin',\n",
       "  'CHEBI:CHEBI:74978': 'ginsenoside',\n",
       "  'CHEBI:CHEBI:16856': 'glutathione',\n",
       "  'MESH:D055647': 'Rats, Transgenic',\n",
       "  'MESH:D011503': 'Transglutaminases',\n",
       "  'PF:PF00912': 'Transglycosylase',\n",
       "  'CHEBI:CHEBI:17855': 'triglyceride',\n",
       "  'MESH:D012668': 'Trigeminal Ganglion',\n",
       "  'MESH:C009560': 'trigonelline',\n",
       "  'CHEBI:CHEBI:9753': 'troglitazone',\n",
       "  'BTO:BTO:0005362': 'trophoblast giant cell'},\n",
       " ['CHEBI:CHEBI:17855', 'CHEBI:CHEBI:9516', 'HGNC:11764']]"
      ]
     },
     "execution_count": 10,
     "metadata": {},
     "output_type": "execute_result"
    }
   ],
   "source": [
    "result"
   ]
  },
  {
   "cell_type": "code",
   "execution_count": 11,
   "metadata": {},
   "outputs": [],
   "source": [
    "grounding_map, names, pos_labels = [{'tara gum': 'MESH:C038612',\n",
    "  'target gene': 'ungrounded',\n",
    "  'tectorigenin': 'CHEBI:CHEBI:9429',\n",
    "  'test group': 'ungrounded',\n",
    "  'testosterone glucuronide': 'CHEBI:CHEBI:28835',\n",
    "  'tg': 'ungrounded',\n",
    "  'tg mice': 'ungrounded',\n",
    "  'tg101209': 'CHEBI:CHEBI:90304',\n",
    "  'tgfbr2flox flox': 'ungrounded',\n",
    "  'thapsigargin': 'CHEBI:CHEBI:9516',\n",
    "  'therapy group': 'ungrounded',\n",
    "  'thermogravimetric': 'ungrounded',\n",
    "  'thermogravimetric analysis': 'ungrounded',\n",
    "  'thermogravimetry': 'MESH:D013818',\n",
    "  'thioglycerol': 'MESH:C009465',\n",
    "  'thioglycollate': 'MESH:D013864',\n",
    "  'thioglycollate broth': 'MESH:D013864',\n",
    "  'thioguanine': 'CHEBI:CHEBI:9555',\n",
    "  'thrombin generation': 'ungrounded',\n",
    "  'thymine glycol': 'CHEBI:CHEBI:29128',\n",
    "  'thymoglobulin': 'MESH:C512542',\n",
    "  'thyroglobulin': 'HGNC:11764',\n",
    "  'thyroid gland': 'MESH:D013961',\n",
    "  'timothy grass': 'MESH:D031784',\n",
    "  'total gastrectomy': 'MESH:D005743',\n",
    "  'total ghrelin': 'CHEBI:CHEBI:75431',\n",
    "  'total ginsenosides': 'CHEBI:CHEBI:74978',\n",
    "  'total glutathione': 'CHEBI:CHEBI:16856',\n",
    "  'toxoplasma gondii': 'ungrounded',\n",
    "  'training group': 'ungrounded',\n",
    "  'transgenic': 'ungrounded',\n",
    "  'transgenic pgc 1α overexpression': 'ungrounded',\n",
    "  'transgenic rats': 'MESH:D055647',\n",
    "  'transglutaminase': 'MESH:D011503',\n",
    "  'transglycosylase': 'PF:PF00912',\n",
    "  'transglycosylation': 'ungrounded',\n",
    "  'transient grating': 'ungrounded',\n",
    "  'transplant glomerulopathy': 'ungrounded',\n",
    "  'transtricuspid gradient': 'ungrounded',\n",
    "  'treatment gap': 'ungrounded',\n",
    "  'treatment group': 'ungrounded',\n",
    "  'triacyglycerol': 'CHEBI:CHEBI:17855',\n",
    "  'triacylglyceride': 'CHEBI:CHEBI:17855',\n",
    "  'triacylglycerol': 'CHEBI:CHEBI:17855',\n",
    "  'trigeminal': 'MESH:D012668',\n",
    "  'trigeminal ganglia': 'MESH:D012668',\n",
    "  'trigeminal ganglion': 'MESH:D012668',\n",
    "  'trigly ceride': 'CHEBI:CHEBI:17855',\n",
    "  'triglyceride': 'CHEBI:CHEBI:17855',\n",
    "  'triglyceride content': 'CHEBI:CHEBI:17855',\n",
    "  'triglycide': 'CHEBI:CHEBI:17855',\n",
    "  'triglycéride': 'CHEBI:CHEBI:17855',\n",
    "  'triglyeride': 'CHEBI:CHEBI:17855',\n",
    "  'trigonelline': 'MESH:C009560',\n",
    "  'tripterygium glycosides': 'ungrounded',\n",
    "  'troglitazone': 'CHEBI:CHEBI:9753',\n",
    "  'trophoblast giant': 'BTO:BTO:0005362',\n",
    "  'typhus group': 'ungrounded'},\n",
    " {'MESH:C038612': 'tara gum',\n",
    "  'CHEBI:CHEBI:9429': 'tectorigenin',\n",
    "  'CHEBI:CHEBI:28835': 'testosterone 17-glucosiduronic acid',\n",
    "  'CHEBI:CHEBI:90304': 'TG101209',\n",
    "  'CHEBI:CHEBI:9516': 'Thapsigargin',\n",
    "  'MESH:D013818': 'Thermogravimetry',\n",
    "  'MESH:C009465': 'thioglycerol',\n",
    "  'MESH:D013864': 'Thioglycolates',\n",
    "  'CHEBI:CHEBI:9555': 'tioguanine',\n",
    "  'CHEBI:CHEBI:29128': 'thymine glycol',\n",
    "  'MESH:C512542': 'thymoglobulin',\n",
    "  'HGNC:11764': 'TG',\n",
    "  'MESH:D013961': 'Thyroid Gland',\n",
    "  'MESH:D031784': 'Phleum',\n",
    "  'MESH:D005743': 'Gastrectomy',\n",
    "  'CHEBI:CHEBI:75431': 'ghrelin',\n",
    "  'CHEBI:CHEBI:74978': 'ginsenoside',\n",
    "  'CHEBI:CHEBI:16856': 'glutathione',\n",
    "  'MESH:D055647': 'Rats, Transgenic',\n",
    "  'MESH:D011503': 'Transglutaminases',\n",
    "  'PF:PF00912': 'Transglycosylase',\n",
    "  'CHEBI:CHEBI:17855': 'triglyceride',\n",
    "  'MESH:D012668': 'Trigeminal Ganglion',\n",
    "  'MESH:C009560': 'trigonelline',\n",
    "  'CHEBI:CHEBI:9753': 'troglitazone',\n",
    "  'BTO:BTO:0005362': 'trophoblast giant cell'},\n",
    " ['CHEBI:CHEBI:17855', 'CHEBI:CHEBI:9516', 'HGNC:11764']]"
   ]
  },
  {
   "cell_type": "code",
   "execution_count": 12,
   "metadata": {},
   "outputs": [],
   "source": [
    "excluded_longforms = ['tg']"
   ]
  },
  {
   "cell_type": "code",
   "execution_count": 13,
   "metadata": {},
   "outputs": [],
   "source": [
    "grounding_dict = {shortform: {longform: grounding_map[longform] \n",
    "                              for longform, _, _ in longforms if longform in grounding_map\n",
    "                              and longform not in excluded_longforms}\n",
    "                  for shortform, longforms in longform_dict.items()}\n",
    "result = [grounding_dict, names, pos_labels]\n",
    "\n",
    "if not os.path.exists(results_path):\n",
    "    os.mkdir(results_path)\n",
    "with open(os.path.join(results_path, f'{model_name}_preliminary_grounding_info.json'), 'w') as f:\n",
    "    json.dump(result, f)"
   ]
  },
  {
   "cell_type": "code",
   "execution_count": 14,
   "metadata": {},
   "outputs": [],
   "source": [
    "additional_entities = {}"
   ]
  },
  {
   "cell_type": "code",
   "execution_count": 15,
   "metadata": {},
   "outputs": [],
   "source": [
    "unambiguous_agent_texts = {}"
   ]
  },
  {
   "cell_type": "code",
   "execution_count": 16,
   "metadata": {},
   "outputs": [],
   "source": [
    "labeler = AdeftLabeler(grounding_dict)\n",
    "corpus = labeler.build_from_texts((text, pmid) for pmid, text in all_texts.items())\n",
    "agent_text_pmid_map = defaultdict(list)\n",
    "for text, label, id_ in corpus:\n",
    "    agent_text_pmid_map[label].append(id_)\n",
    "\n",
    "entity_pmid_map = {entity: set(get_pmids_for_entity(*entity.split(':', maxsplit=1),\n",
    "                                                major_topic=True))for entity in additional_entities}"
   ]
  },
  {
   "cell_type": "code",
   "execution_count": 17,
   "metadata": {},
   "outputs": [],
   "source": [
    "intersection1 = []\n",
    "for entity1, pmids1 in entity_pmid_map.items():\n",
    "    for entity2, pmids2 in entity_pmid_map.items():\n",
    "        intersection1.append((entity1, entity2, len(pmids1 & pmids2)))"
   ]
  },
  {
   "cell_type": "code",
   "execution_count": 18,
   "metadata": {},
   "outputs": [],
   "source": [
    "intersection2 = []\n",
    "for entity1, pmids1 in agent_text_pmid_map.items():\n",
    "    for entity2, pmids2 in entity_pmid_map.items():\n",
    "        intersection2.append((entity1, entity2, len(set(pmids1) & pmids2)))"
   ]
  },
  {
   "cell_type": "code",
   "execution_count": 20,
   "metadata": {},
   "outputs": [
    {
     "data": {
      "text/plain": [
       "[('HGNC:10967', 'HGNC:10967', 98)]"
      ]
     },
     "execution_count": 20,
     "metadata": {},
     "output_type": "execute_result"
    }
   ],
   "source": [
    "intersection1"
   ]
  },
  {
   "cell_type": "code",
   "execution_count": 21,
   "metadata": {},
   "outputs": [
    {
     "data": {
      "text/plain": [
       "[('GO:GO:0001837', 'HGNC:10967', 0),\n",
       " ('ungrounded', 'HGNC:10967', 0),\n",
       " ('HGNC:10967', 'HGNC:10967', 0),\n",
       " ('MESH:D055032', 'HGNC:10967', 0)]"
      ]
     },
     "execution_count": 21,
     "metadata": {},
     "output_type": "execute_result"
    }
   ],
   "source": [
    "intersection2"
   ]
  },
  {
   "cell_type": "code",
   "execution_count": 22,
   "metadata": {},
   "outputs": [],
   "source": [
    "all_used_pmids = set()\n",
    "for entity, agent_texts in unambiguous_agent_texts.items():\n",
    "    used_pmids = set()\n",
    "    for agent_text in agent_texts[1]:\n",
    "        pmids = set(get_pmids_for_agent_text(agent_text))\n",
    "        new_pmids = list(pmids - all_texts.keys() - used_pmids)\n",
    "        text_dict = get_plaintexts_for_pmids(new_pmids, contains=agent_texts)\n",
    "        corpus.extend([(text, entity, pmid) for pmid, text in text_dict.items() if len(text) >= 5])\n",
    "        used_pmids.update(new_pmids)\n",
    "    all_used_pmids.update(used_pmids)\n",
    "        \n",
    "for entity, pmids in entity_pmid_map.items():\n",
    "    new_pmids = list(set(pmids) - all_texts.keys() - all_used_pmids)\n",
    "    if len(new_pmids) > 10000:\n",
    "        new_pmids = random.choices(new_pmids, k=10000)\n",
    "    _, contains = additional_entities[entity]\n",
    "    text_dict = get_plaintexts_for_pmids(new_pmids, contains=contains)\n",
    "    corpus.extend([(text, entity, pmid) for pmid, text in text_dict.items() if len(text) >= 5])"
   ]
  },
  {
   "cell_type": "code",
   "execution_count": 23,
   "metadata": {},
   "outputs": [],
   "source": [
    "names.update({key: value[0] for key, value in additional_entities.items()})\n",
    "names.update({key: value[0] for key, value in unambiguous_agent_texts.items()})\n",
    "pos_labels = list(set(pos_labels) | additional_entities.keys() |\n",
    "                  unambiguous_agent_texts.keys())"
   ]
  },
  {
   "cell_type": "code",
   "execution_count": 19,
   "metadata": {},
   "outputs": [
    {
     "name": "stderr",
     "output_type": "stream",
     "text": [
      "INFO: [2020-11-01 02:35:28] /adeft/PP/adeft/adeft/modeling/classify.py - Beginning grid search in parameter space:\n",
      "{'C': [100.0], 'max_features': [10000]}\n",
      "INFO: [2020-11-01 02:39:07] /adeft/PP/adeft/adeft/modeling/classify.py - Best f1 score of 0.9827130463339534 found for parameter values:\n",
      "{'logit__C': 100.0, 'tfidf__max_features': 10000}\n"
     ]
    }
   ],
   "source": [
    "%%capture\n",
    "\n",
    "classifier = AdeftClassifier(shortforms, pos_labels=pos_labels, random_state=1729)\n",
    "param_grid = {'C': [100.0], 'max_features': [10000]}\n",
    "texts, labels, pmids = zip(*corpus)\n",
    "classifier.cv(texts, labels, param_grid, cv=5, n_jobs=5)"
   ]
  },
  {
   "cell_type": "code",
   "execution_count": 20,
   "metadata": {
    "scrolled": true
   },
   "outputs": [
    {
     "data": {
      "text/plain": [
       "{'label_distribution': {'CHEBI:CHEBI:17855': 4976,\n",
       "  'MESH:D012668': 264,\n",
       "  'HGNC:11764': 99,\n",
       "  'CHEBI:CHEBI:9555': 34,\n",
       "  'CHEBI:CHEBI:9516': 719,\n",
       "  'MESH:D013864': 35,\n",
       "  'ungrounded': 513,\n",
       "  'CHEBI:CHEBI:29128': 4,\n",
       "  'MESH:D011503': 72,\n",
       "  'MESH:C009465': 4,\n",
       "  'MESH:D013961': 4,\n",
       "  'MESH:D005743': 11,\n",
       "  'MESH:D055647': 3,\n",
       "  'CHEBI:CHEBI:9753': 9,\n",
       "  'BTO:BTO:0005362': 13,\n",
       "  'CHEBI:CHEBI:16856': 7,\n",
       "  'MESH:C512542': 4,\n",
       "  'CHEBI:CHEBI:74978': 9,\n",
       "  'CHEBI:CHEBI:90304': 2,\n",
       "  'PF:PF00912': 3,\n",
       "  'MESH:D031784': 3,\n",
       "  'CHEBI:CHEBI:28835': 3,\n",
       "  'CHEBI:CHEBI:9429': 3,\n",
       "  'MESH:C009560': 4,\n",
       "  'CHEBI:CHEBI:75431': 3,\n",
       "  'MESH:D013818': 3,\n",
       "  'MESH:C038612': 3},\n",
       " 'f1': {'mean': 0.982713, 'std': 0.001813},\n",
       " 'precision': {'mean': 0.975161, 'std': 0.00264},\n",
       " 'recall': {'mean': 0.990508, 'std': 0.001336},\n",
       " 'MESH:D013818': {'f1': {'mean': 0.0, 'std': 0.0},\n",
       "  'pr': {'mean': 0.0, 'std': 0.0},\n",
       "  'rc': {'mean': 0.0, 'std': 0.0}},\n",
       " 'MESH:D012668': {'f1': {'mean': 0.971783, 'std': 0.020557},\n",
       "  'pr': {'mean': 0.973512, 'std': 0.019214},\n",
       "  'rc': {'mean': 0.970223, 'std': 0.025179}},\n",
       " 'PF:PF00912': {'f1': {'mean': 0.0, 'std': 0.0},\n",
       "  'pr': {'mean': 0.0, 'std': 0.0},\n",
       "  'rc': {'mean': 0.0, 'std': 0.0}},\n",
       " 'CHEBI:CHEBI:75431': {'f1': {'mean': 0.0, 'std': 0.0},\n",
       "  'pr': {'mean': 0.0, 'std': 0.0},\n",
       "  'rc': {'mean': 0.0, 'std': 0.0}},\n",
       " 'CHEBI:CHEBI:17855': {'f1': {'mean': 0.987332, 'std': 0.001867},\n",
       "  'pr': {'mean': 0.994373, 'std': 0.001864},\n",
       "  'rc': {'mean': 0.980399, 'std': 0.003597}},\n",
       " 'BTO:BTO:0005362': {'f1': {'mean': 1.0, 'std': 0.0},\n",
       "  'pr': {'mean': 1.0, 'std': 0.0},\n",
       "  'rc': {'mean': 1.0, 'std': 0.0}},\n",
       " 'CHEBI:CHEBI:28835': {'f1': {'mean': 0.2, 'std': 0.4},\n",
       "  'pr': {'mean': 0.2, 'std': 0.4},\n",
       "  'rc': {'mean': 0.2, 'std': 0.4}},\n",
       " 'MESH:C009560': {'f1': {'mean': 0.0, 'std': 0.0},\n",
       "  'pr': {'mean': 0.0, 'std': 0.0},\n",
       "  'rc': {'mean': 0.0, 'std': 0.0}},\n",
       " 'MESH:D013864': {'f1': {'mean': 0.836737, 'std': 0.14931},\n",
       "  'pr': {'mean': 0.771429, 'std': 0.232115},\n",
       "  'rc': {'mean': 0.975, 'std': 0.05}},\n",
       " 'MESH:C038612': {'f1': {'mean': 0.0, 'std': 0.0},\n",
       "  'pr': {'mean': 0.0, 'std': 0.0},\n",
       "  'rc': {'mean': 0.0, 'std': 0.0}},\n",
       " 'CHEBI:CHEBI:29128': {'f1': {'mean': 0.533333, 'std': 0.452155},\n",
       "  'pr': {'mean': 0.6, 'std': 0.489898},\n",
       "  'rc': {'mean': 0.5, 'std': 0.447214}},\n",
       " 'CHEBI:CHEBI:90304': {'f1': {'mean': 0.2, 'std': 0.4},\n",
       "  'pr': {'mean': 0.2, 'std': 0.4},\n",
       "  'rc': {'mean': 0.2, 'std': 0.4}},\n",
       " 'CHEBI:CHEBI:9429': {'f1': {'mean': 0.0, 'std': 0.0},\n",
       "  'pr': {'mean': 0.0, 'std': 0.0},\n",
       "  'rc': {'mean': 0.0, 'std': 0.0}},\n",
       " 'CHEBI:CHEBI:9555': {'f1': {'mean': 0.719814, 'std': 0.115017},\n",
       "  'pr': {'mean': 0.609524, 'std': 0.148767},\n",
       "  'rc': {'mean': 0.933333, 'std': 0.08165}},\n",
       " 'ungrounded': {'f1': {'mean': 0.877478, 'std': 0.015097},\n",
       "  'pr': {'mean': 0.879174, 'std': 0.019849},\n",
       "  'rc': {'mean': 0.8762, 'std': 0.020757}},\n",
       " 'MESH:D031784': {'f1': {'mean': 0.2, 'std': 0.4},\n",
       "  'pr': {'mean': 0.2, 'std': 0.4},\n",
       "  'rc': {'mean': 0.2, 'std': 0.4}},\n",
       " 'MESH:C009465': {'f1': {'mean': 0.0, 'std': 0.0},\n",
       "  'pr': {'mean': 0.0, 'std': 0.0},\n",
       "  'rc': {'mean': 0.0, 'std': 0.0}},\n",
       " 'CHEBI:CHEBI:74978': {'f1': {'mean': 0.6, 'std': 0.326599},\n",
       "  'pr': {'mean': 0.5, 'std': 0.316228},\n",
       "  'rc': {'mean': 0.8, 'std': 0.4}},\n",
       " 'MESH:C512542': {'f1': {'mean': 0.2, 'std': 0.4},\n",
       "  'pr': {'mean': 0.2, 'std': 0.4},\n",
       "  'rc': {'mean': 0.2, 'std': 0.4}},\n",
       " 'CHEBI:CHEBI:16856': {'f1': {'mean': 0.8, 'std': 0.4},\n",
       "  'pr': {'mean': 0.8, 'std': 0.4},\n",
       "  'rc': {'mean': 0.8, 'std': 0.4}},\n",
       " 'MESH:D011503': {'f1': {'mean': 0.750664, 'std': 0.051916},\n",
       "  'pr': {'mean': 0.637143, 'std': 0.076155},\n",
       "  'rc': {'mean': 0.928788, 'std': 0.067692}},\n",
       " 'MESH:D005743': {'f1': {'mean': 0.4, 'std': 0.326599},\n",
       "  'pr': {'mean': 0.3, 'std': 0.244949},\n",
       "  'rc': {'mean': 0.6, 'std': 0.489898}},\n",
       " 'CHEBI:CHEBI:9516': {'f1': {'mean': 0.957661, 'std': 0.007948},\n",
       "  'pr': {'mean': 0.974981, 'std': 0.012863},\n",
       "  'rc': {'mean': 0.94115, 'std': 0.012863}},\n",
       " 'MESH:D013961': {'f1': {'mean': 0.0, 'std': 0.0},\n",
       "  'pr': {'mean': 0.0, 'std': 0.0},\n",
       "  'rc': {'mean': 0.0, 'std': 0.0}},\n",
       " 'CHEBI:CHEBI:9753': {'f1': {'mean': 0.0, 'std': 0.0},\n",
       "  'pr': {'mean': 0.0, 'std': 0.0},\n",
       "  'rc': {'mean': 0.0, 'std': 0.0}},\n",
       " 'HGNC:11764': {'f1': {'mean': 0.932104, 'std': 0.028268},\n",
       "  'pr': {'mean': 0.908421, 'std': 0.039993},\n",
       "  'rc': {'mean': 0.958661, 'std': 0.036759}},\n",
       " 'MESH:D055647': {'f1': {'mean': 0.0, 'std': 0.0},\n",
       "  'pr': {'mean': 0.0, 'std': 0.0},\n",
       "  'rc': {'mean': 0.0, 'std': 0.0}}}"
      ]
     },
     "execution_count": 20,
     "metadata": {},
     "output_type": "execute_result"
    }
   ],
   "source": [
    "classifier.stats"
   ]
  },
  {
   "cell_type": "code",
   "execution_count": 21,
   "metadata": {},
   "outputs": [],
   "source": [
    "disamb = AdeftDisambiguator(classifier, grounding_dict, names)"
   ]
  },
  {
   "cell_type": "code",
   "execution_count": 22,
   "metadata": {},
   "outputs": [],
   "source": [
    "disamb.dump(model_name, results_path)"
   ]
  },
  {
   "cell_type": "code",
   "execution_count": 23,
   "metadata": {},
   "outputs": [
    {
     "name": "stdout",
     "output_type": "stream",
     "text": [
      "Disambiguation model for TG\n",
      "\n",
      "Produces the disambiguations:\n",
      "\tGastrectomy\tMESH:D005743\n",
      "\tPhleum\tMESH:D031784\n",
      "\tRats, Transgenic\tMESH:D055647\n",
      "\tTG*\tHGNC:11764\n",
      "\tTG101209\tCHEBI:CHEBI:90304\n",
      "\tThapsigargin*\tCHEBI:CHEBI:9516\n",
      "\tThermogravimetry\tMESH:D013818\n",
      "\tThioglycolates\tMESH:D013864\n",
      "\tThyroid Gland\tMESH:D013961\n",
      "\tTransglutaminases\tMESH:D011503\n",
      "\tTransglycosylase\tPF:PF00912\n",
      "\tTrigeminal Ganglion\tMESH:D012668\n",
      "\tghrelin\tCHEBI:CHEBI:75431\n",
      "\tginsenoside\tCHEBI:CHEBI:74978\n",
      "\tglutathione\tCHEBI:CHEBI:16856\n",
      "\ttara gum\tMESH:C038612\n",
      "\ttectorigenin\tCHEBI:CHEBI:9429\n",
      "\ttestosterone 17-glucosiduronic acid\tCHEBI:CHEBI:28835\n",
      "\tthioglycerol\tMESH:C009465\n",
      "\tthymine glycol\tCHEBI:CHEBI:29128\n",
      "\tthymoglobulin\tMESH:C512542\n",
      "\ttioguanine\tCHEBI:CHEBI:9555\n",
      "\ttriglyceride*\tCHEBI:CHEBI:17855\n",
      "\ttrigonelline\tMESH:C009560\n",
      "\ttroglitazone\tCHEBI:CHEBI:9753\n",
      "\ttrophoblast giant cell\tBTO:BTO:0005362\n",
      "\n",
      "Class level metrics:\n",
      "--------------------\n",
      "Grounding                          \tCount\tF1     \n",
      "                       triglyceride*\t4976\t0.98733\n",
      "                       Thapsigargin*\t 719\t0.95766\n",
      "                         Ungrounded\t 513\t0.87748\n",
      "                Trigeminal Ganglion\t 264\t0.97178\n",
      "                                 TG*\t  99\t 0.9321\n",
      "                  Transglutaminases\t  72\t0.75066\n",
      "                     Thioglycolates\t  35\t0.83674\n",
      "                         tioguanine\t  34\t0.71981\n",
      "             trophoblast giant cell\t  13\t    1.0\n",
      "                        Gastrectomy\t  11\t    0.4\n",
      "                       troglitazone\t   9\t    0.0\n",
      "                        ginsenoside\t   9\t    0.6\n",
      "                        glutathione\t   7\t    0.8\n",
      "                     thymine glycol\t   4\t0.53333\n",
      "                       thioglycerol\t   4\t    0.0\n",
      "                      Thyroid Gland\t   4\t    0.0\n",
      "                      thymoglobulin\t   4\t    0.2\n",
      "                       trigonelline\t   4\t    0.0\n",
      "                   Rats, Transgenic\t   3\t    0.0\n",
      "                   Transglycosylase\t   3\t    0.0\n",
      "                             Phleum\t   3\t    0.2\n",
      "testosterone 17-glucosiduronic acid\t   3\t    0.2\n",
      "                       tectorigenin\t   3\t    0.0\n",
      "                            ghrelin\t   3\t    0.0\n",
      "                   Thermogravimetry\t   3\t    0.0\n",
      "                           tara gum\t   3\t    0.0\n",
      "                           TG101209\t   2\t    0.2\n",
      "\n",
      "Weighted Metrics:\n",
      "-----------------\n",
      "\tF1 score:\t0.98271\n",
      "\tPrecision:\t0.97516\n",
      "\tRecall:\t\t0.99051\n",
      "\n",
      "* Positive labels\n",
      "See Docstring for explanation\n",
      "\n"
     ]
    }
   ],
   "source": [
    "print(disamb.info())"
   ]
  },
  {
   "cell_type": "code",
   "execution_count": 24,
   "metadata": {},
   "outputs": [],
   "source": [
    "model_to_s3(disamb)"
   ]
  },
  {
   "cell_type": "code",
   "execution_count": 30,
   "metadata": {},
   "outputs": [],
   "source": [
    "preds = [disamb.disambiguate(text) for text in all_texts.values()]"
   ]
  },
  {
   "cell_type": "code",
   "execution_count": 31,
   "metadata": {},
   "outputs": [],
   "source": [
    "texts = [text for pred, text in zip(preds, all_texts.values()) if pred[0] == 'HGNC:10967']"
   ]
  },
  {
   "cell_type": "code",
   "execution_count": 36,
   "metadata": {},
   "outputs": [
    {
     "data": {
      "text/plain": [
       "'The non-neuronal monoamine transporters (OCT1, OCT2, EMT, and PMAT) play a key role in the clearance of monoamines from extracellular compartments. In a previous report we described endometrial distribution and cyclic variation of the vesicular monoamine transporter (VMAT2) mRNA and the neuronal norepinephrine transporter (NET) mRNA. In the present study we used in situ hybridization, real-time PCR and immunohistochemistry to reveal tissue distribution and cyclic variation of mRNA for the non-neuronal monoamine transporters in the human endometrium and early pregnancy decidua. We found that non-neuronal monoamine transporters are predominantly expressed in the stroma. The plasma membrane monoamine transporter (PMAT) mRNA expression peaked in the proliferative phase, whereas the extra-neuronal monoamine transporter (EMT) mRNA expression peaked in the secretory phase. The organic cation transporter 2 (OCT2) mRNA expression was exclusively detected in few scattered stromal cells and OCT1 mRNA was not detected at all. Our present results demonstrate that PMAT, EMT, and OCT2 transporters are expressed in the endometrial stroma and can potentially regulate reuptake of monoamines in general and histamine in particular. Taken together with our previous finding of VMAT2 mRNA in epithelial cells, we suggest a paracrine interaction between stromal and epithelial cells, which may modulate certain steps of the reproductive process.\\n'"
      ]
     },
     "execution_count": 36,
     "metadata": {},
     "output_type": "execute_result"
    }
   ],
   "source": [
    "texts[3]"
   ]
  },
  {
   "cell_type": "code",
   "execution_count": null,
   "metadata": {},
   "outputs": [],
   "source": []
  }
 ],
 "metadata": {
  "kernelspec": {
   "display_name": "Python 3",
   "language": "python",
   "name": "python3"
  },
  "language_info": {
   "codemirror_mode": {
    "name": "ipython",
    "version": 3
   },
   "file_extension": ".py",
   "mimetype": "text/x-python",
   "name": "python",
   "nbconvert_exporter": "python",
   "pygments_lexer": "ipython3",
   "version": "3.8.4"
  }
 },
 "nbformat": 4,
 "nbformat_minor": 2
}
