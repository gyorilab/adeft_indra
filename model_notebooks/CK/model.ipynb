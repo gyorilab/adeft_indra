{
 "cells": [
  {
   "cell_type": "code",
   "execution_count": 1,
   "metadata": {},
   "outputs": [],
   "source": [
    "import os\n",
    "import json\n",
    "import pickle\n",
    "import random\n",
    "from collections import defaultdict, Counter\n",
    "\n",
    "from indra.literature.adeft_tools import universal_extract_text\n",
    "from indra.databases.hgnc_client import get_hgnc_name, get_hgnc_id\n",
    "\n",
    "from adeft.discover import AdeftMiner\n",
    "from adeft.gui import ground_with_gui\n",
    "from adeft.modeling.label import AdeftLabeler\n",
    "from adeft.modeling.classify import AdeftClassifier\n",
    "from adeft.disambiguate import AdeftDisambiguator\n",
    "\n",
    "\n",
    "from adeft_indra.ground.ground import AdeftGrounder\n",
    "from adeft_indra.model_building.s3 import model_to_s3\n",
    "from adeft_indra.model_building.escape import escape_filename\n",
    "from adeft_indra.db.content import get_pmids_for_agent_text, get_pmids_for_entity, \\\n",
    "    get_plaintexts_for_pmids"
   ]
  },
  {
   "cell_type": "code",
   "execution_count": 2,
   "metadata": {},
   "outputs": [],
   "source": [
    "adeft_grounder = AdeftGrounder()"
   ]
  },
  {
   "cell_type": "code",
   "execution_count": 3,
   "metadata": {},
   "outputs": [],
   "source": [
    "shortforms = ['CK', 'CKs']\n",
    "model_name = ':'.join(sorted(escape_filename(shortform) for shortform in shortforms))\n",
    "results_path = os.path.abspath(os.path.join('../..', 'results', model_name))"
   ]
  },
  {
   "cell_type": "code",
   "execution_count": 4,
   "metadata": {},
   "outputs": [],
   "source": [
    "miners = dict()\n",
    "all_texts = {}\n",
    "for shortform in shortforms:\n",
    "    pmids = get_pmids_for_agent_text(shortform)\n",
    "    if len(pmids) > 10000:\n",
    "        pmids = random.choices(pmids, k=10000)\n",
    "    text_dict = get_plaintexts_for_pmids(pmids, contains=shortforms)\n",
    "    text_dict = {pmid: text for pmid, text in text_dict.items() if len(text) > 5}\n",
    "    miners[shortform] = AdeftMiner(shortform)\n",
    "    miners[shortform].process_texts(text_dict.values())\n",
    "    all_texts.update(text_dict)\n",
    "\n",
    "longform_dict = {}\n",
    "for shortform in shortforms:\n",
    "    longforms = miners[shortform].get_longforms()\n",
    "    longforms = [(longform, count, score) for longform, count, score in longforms\n",
    "                 if count*score > 2]\n",
    "    longform_dict[shortform] = longforms\n",
    "    \n",
    "combined_longforms = Counter()\n",
    "for longform_rows in longform_dict.values():\n",
    "    combined_longforms.update({longform: count for longform, count, score\n",
    "                               in longform_rows})\n",
    "grounding_map = {}\n",
    "names = {}\n",
    "for longform in combined_longforms:\n",
    "    groundings = adeft_grounder.ground(longform)\n",
    "    if groundings:\n",
    "        grounding = groundings[0]['grounding']\n",
    "        grounding_map[longform] = grounding\n",
    "        names[grounding] = groundings[0]['name']\n",
    "longforms, counts = zip(*combined_longforms.most_common())\n",
    "pos_labels = []"
   ]
  },
  {
   "cell_type": "code",
   "execution_count": 5,
   "metadata": {},
   "outputs": [
    {
     "data": {
      "text/plain": [
       "[('creatine kinase', 1271),\n",
       " ('cytokinin', 225),\n",
       " ('compound k', 120),\n",
       " ('cytokeratin', 50),\n",
       " ('creatinine kinase', 40),\n",
       " ('choline kinase', 31),\n",
       " ('carbamate kinase', 21),\n",
       " ('cytokines', 21),\n",
       " ('casein kinase', 17),\n",
       " ('complex karyotype', 14),\n",
       " ('cyberknife', 13),\n",
       " ('chemokines', 12),\n",
       " ('creatine kinase specific activity', 11),\n",
       " ('chemokine', 9),\n",
       " ('cytokinin trans zeatin riboside', 8),\n",
       " ('creatine kinase activity', 7),\n",
       " ('creatine kinases', 6),\n",
       " ('cathepsin k', 5),\n",
       " ('creatinkinase', 5),\n",
       " ('cyberknife ®', 5),\n",
       " ('such as cytokinins', 5),\n",
       " ('chick kidney', 4),\n",
       " ('chicken kidney', 4),\n",
       " ('changkil', 4),\n",
       " ('cyanoketone', 4),\n",
       " ('creatinine phosphokinase', 4),\n",
       " ('crinkled', 3),\n",
       " ('chemokinesis', 3),\n",
       " ('cr kinase', 3),\n",
       " ('cytokinin content', 3),\n",
       " ('calmodulin dependent protein kinase ii', 3),\n",
       " ('casein kinases', 3)]"
      ]
     },
     "execution_count": 5,
     "metadata": {},
     "output_type": "execute_result"
    }
   ],
   "source": [
    "list(zip(longforms, counts))"
   ]
  },
  {
   "cell_type": "code",
   "execution_count": 6,
   "metadata": {},
   "outputs": [
    {
     "name": "stderr",
     "output_type": "stream",
     "text": [
      "INFO: [2020-10-29 04:23:13] indra.ontology.bio.ontology - Loading INDRA bio ontology from cache at /home/ubuntu/.indra/bio_ontology/1.4/bio_ontology.pkl\n"
     ]
    },
    {
     "ename": "KeyboardInterrupt",
     "evalue": "",
     "output_type": "error",
     "traceback": [
      "\u001b[0;31m---------------------------------------------------------------------------\u001b[0m",
      "\u001b[0;31mKeyboardInterrupt\u001b[0m                         Traceback (most recent call last)",
      "\u001b[0;32m<ipython-input-6-ebc679c72521>\u001b[0m in \u001b[0;36m<module>\u001b[0;34m\u001b[0m\n\u001b[0;32m----> 1\u001b[0;31m grounding_map, names, pos_labels = ground_with_gui(longforms, counts, \n\u001b[0m\u001b[1;32m      2\u001b[0m                                                    \u001b[0mgrounding_map\u001b[0m\u001b[0;34m=\u001b[0m\u001b[0mgrounding_map\u001b[0m\u001b[0;34m,\u001b[0m\u001b[0;34m\u001b[0m\u001b[0;34m\u001b[0m\u001b[0m\n\u001b[1;32m      3\u001b[0m                                                    names=names, pos_labels=pos_labels, no_browser=True, port=8891)\n",
      "\u001b[0;32m/adeft/PP/adeft/adeft/gui/__init__.py\u001b[0m in \u001b[0;36mground_with_gui\u001b[0;34m(longforms, scores, grounding_map, names, pos_labels, verbose, port, no_browser, test)\u001b[0m\n\u001b[1;32m     57\u001b[0m         \u001b[0mList\u001b[0m \u001b[0mof\u001b[0m \u001b[0mgroundings\u001b[0m \u001b[0mto\u001b[0m \u001b[0mbe\u001b[0m \u001b[0mconsidered\u001b[0m \u001b[0;32mas\u001b[0m \u001b[0mpositive\u001b[0m \u001b[0mlabels\u001b[0m\u001b[0;34m\u001b[0m\u001b[0;34m\u001b[0m\u001b[0m\n\u001b[1;32m     58\u001b[0m     \"\"\"\n\u001b[0;32m---> 59\u001b[0;31m     \u001b[0;32mfrom\u001b[0m \u001b[0;34m.\u001b[0m\u001b[0mground\u001b[0m \u001b[0;32mimport\u001b[0m \u001b[0mcreate_app\u001b[0m\u001b[0;34m\u001b[0m\u001b[0;34m\u001b[0m\u001b[0m\n\u001b[0m\u001b[1;32m     60\u001b[0m     \u001b[0;31m# Set initial groundings as empty if None are passed\u001b[0m\u001b[0;34m\u001b[0m\u001b[0;34m\u001b[0m\u001b[0;34m\u001b[0m\u001b[0m\n\u001b[1;32m     61\u001b[0m     \u001b[0;32mif\u001b[0m \u001b[0mgrounding_map\u001b[0m \u001b[0;32mis\u001b[0m \u001b[0;32mNone\u001b[0m\u001b[0;34m:\u001b[0m\u001b[0;34m\u001b[0m\u001b[0;34m\u001b[0m\u001b[0m\n",
      "\u001b[0;32m/adeft/PP/adeft/adeft/gui/ground/__init__.py\u001b[0m in \u001b[0;36m<module>\u001b[0;34m\u001b[0m\n\u001b[1;32m      5\u001b[0m \u001b[0;32mfrom\u001b[0m \u001b[0mflask\u001b[0m \u001b[0;32mimport\u001b[0m \u001b[0mFlask\u001b[0m\u001b[0;34m,\u001b[0m \u001b[0msession\u001b[0m\u001b[0;34m,\u001b[0m \u001b[0mrender_template\u001b[0m\u001b[0;34m\u001b[0m\u001b[0;34m\u001b[0m\u001b[0m\n\u001b[1;32m      6\u001b[0m \u001b[0;34m\u001b[0m\u001b[0m\n\u001b[0;32m----> 7\u001b[0;31m \u001b[0;32mfrom\u001b[0m \u001b[0madeft\u001b[0m\u001b[0;34m.\u001b[0m\u001b[0mgui\u001b[0m\u001b[0;34m.\u001b[0m\u001b[0mground\u001b[0m\u001b[0;34m.\u001b[0m\u001b[0mground\u001b[0m \u001b[0;32mimport\u001b[0m \u001b[0m_convert_grounding_data\u001b[0m\u001b[0;34m\u001b[0m\u001b[0;34m\u001b[0m\u001b[0m\n\u001b[0m\u001b[1;32m      8\u001b[0m \u001b[0;34m\u001b[0m\u001b[0m\n\u001b[1;32m      9\u001b[0m \u001b[0;34m\u001b[0m\u001b[0m\n",
      "\u001b[0;32m/adeft/PP/adeft/adeft/gui/ground/ground.py\u001b[0m in \u001b[0;36m<module>\u001b[0;34m\u001b[0m\n\u001b[1;32m      9\u001b[0m \u001b[0;32mtry\u001b[0m\u001b[0;34m:\u001b[0m\u001b[0;34m\u001b[0m\u001b[0;34m\u001b[0m\u001b[0m\n\u001b[1;32m     10\u001b[0m     \u001b[0;32mfrom\u001b[0m \u001b[0mindra\u001b[0m\u001b[0;34m.\u001b[0m\u001b[0montology\u001b[0m\u001b[0;34m.\u001b[0m\u001b[0mbio\u001b[0m \u001b[0;32mimport\u001b[0m \u001b[0mbio_ontology\u001b[0m\u001b[0;34m\u001b[0m\u001b[0;34m\u001b[0m\u001b[0m\n\u001b[0;32m---> 11\u001b[0;31m     \u001b[0mbio_ontology\u001b[0m\u001b[0;34m.\u001b[0m\u001b[0minitialize\u001b[0m\u001b[0;34m(\u001b[0m\u001b[0;34m)\u001b[0m\u001b[0;34m\u001b[0m\u001b[0;34m\u001b[0m\u001b[0m\n\u001b[0m\u001b[1;32m     12\u001b[0m     \u001b[0;32mdef\u001b[0m \u001b[0mdetermine_grounding_info\u001b[0m\u001b[0;34m(\u001b[0m\u001b[0mnamespace\u001b[0m\u001b[0;34m,\u001b[0m \u001b[0mname\u001b[0m\u001b[0;34m,\u001b[0m \u001b[0midentifier\u001b[0m\u001b[0;34m)\u001b[0m\u001b[0;34m:\u001b[0m\u001b[0;34m\u001b[0m\u001b[0;34m\u001b[0m\u001b[0m\n\u001b[1;32m     13\u001b[0m         \u001b[0;31m# Fix GO, CHEBI, and CHEMBL IDs that are missing the prefix\u001b[0m\u001b[0;34m\u001b[0m\u001b[0;34m\u001b[0m\u001b[0;34m\u001b[0m\u001b[0m\n",
      "\u001b[0;32m/adeft/PP/indra/indra/ontology/bio/ontology.py\u001b[0m in \u001b[0;36minitialize\u001b[0;34m(self, rebuild)\u001b[0m\n\u001b[1;32m     47\u001b[0m                 'Loading INDRA bio ontology from cache at %s' % CACHE_FILE)\n\u001b[1;32m     48\u001b[0m             \u001b[0;32mwith\u001b[0m \u001b[0mopen\u001b[0m\u001b[0;34m(\u001b[0m\u001b[0mCACHE_FILE\u001b[0m\u001b[0;34m,\u001b[0m \u001b[0;34m'rb'\u001b[0m\u001b[0;34m)\u001b[0m \u001b[0;32mas\u001b[0m \u001b[0mfh\u001b[0m\u001b[0;34m:\u001b[0m\u001b[0;34m\u001b[0m\u001b[0;34m\u001b[0m\u001b[0m\n\u001b[0;32m---> 49\u001b[0;31m                 \u001b[0mself\u001b[0m\u001b[0;34m.\u001b[0m\u001b[0m__dict__\u001b[0m\u001b[0;34m.\u001b[0m\u001b[0mupdate\u001b[0m\u001b[0;34m(\u001b[0m\u001b[0mpickle\u001b[0m\u001b[0;34m.\u001b[0m\u001b[0mload\u001b[0m\u001b[0;34m(\u001b[0m\u001b[0mfh\u001b[0m\u001b[0;34m)\u001b[0m\u001b[0;34m.\u001b[0m\u001b[0m__dict__\u001b[0m\u001b[0;34m)\u001b[0m\u001b[0;34m\u001b[0m\u001b[0;34m\u001b[0m\u001b[0m\n\u001b[0m\u001b[1;32m     50\u001b[0m \u001b[0;34m\u001b[0m\u001b[0m\n\u001b[1;32m     51\u001b[0m     \u001b[0;32mdef\u001b[0m \u001b[0m_build\u001b[0m\u001b[0;34m(\u001b[0m\u001b[0mself\u001b[0m\u001b[0;34m)\u001b[0m\u001b[0;34m:\u001b[0m\u001b[0;34m\u001b[0m\u001b[0;34m\u001b[0m\u001b[0m\n",
      "\u001b[0;32m/adeft/.virtualenvs/adeft_env/lib/python3.8/site-packages/networkx/classes/reportviews.py\u001b[0m in \u001b[0;36m__setstate__\u001b[0;34m(self, state)\u001b[0m\n\u001b[1;32m    162\u001b[0m         \u001b[0;32mreturn\u001b[0m \u001b[0;34m{\u001b[0m\u001b[0;34m'_nodes'\u001b[0m\u001b[0;34m:\u001b[0m \u001b[0mself\u001b[0m\u001b[0;34m.\u001b[0m\u001b[0m_nodes\u001b[0m\u001b[0;34m}\u001b[0m\u001b[0;34m\u001b[0m\u001b[0;34m\u001b[0m\u001b[0m\n\u001b[1;32m    163\u001b[0m \u001b[0;34m\u001b[0m\u001b[0m\n\u001b[0;32m--> 164\u001b[0;31m     \u001b[0;32mdef\u001b[0m \u001b[0m__setstate__\u001b[0m\u001b[0;34m(\u001b[0m\u001b[0mself\u001b[0m\u001b[0;34m,\u001b[0m \u001b[0mstate\u001b[0m\u001b[0;34m)\u001b[0m\u001b[0;34m:\u001b[0m\u001b[0;34m\u001b[0m\u001b[0;34m\u001b[0m\u001b[0m\n\u001b[0m\u001b[1;32m    165\u001b[0m         \u001b[0mself\u001b[0m\u001b[0;34m.\u001b[0m\u001b[0m_nodes\u001b[0m \u001b[0;34m=\u001b[0m \u001b[0mstate\u001b[0m\u001b[0;34m[\u001b[0m\u001b[0;34m'_nodes'\u001b[0m\u001b[0;34m]\u001b[0m\u001b[0;34m\u001b[0m\u001b[0;34m\u001b[0m\u001b[0m\n\u001b[1;32m    166\u001b[0m \u001b[0;34m\u001b[0m\u001b[0m\n",
      "\u001b[0;31mKeyboardInterrupt\u001b[0m: "
     ]
    }
   ],
   "source": [
    "grounding_map, names, pos_labels = ground_with_gui(longforms, counts, \n",
    "                                                   grounding_map=grounding_map,\n",
    "                                                   names=names, pos_labels=pos_labels, no_browser=True, port=8891)"
   ]
  },
  {
   "cell_type": "code",
   "execution_count": 7,
   "metadata": {},
   "outputs": [],
   "source": [
    "result = [grounding_map, names, pos_labels]"
   ]
  },
  {
   "cell_type": "code",
   "execution_count": 8,
   "metadata": {},
   "outputs": [
    {
     "data": {
      "text/plain": [
       "[{'calmodulin dependent protein kinase ii': 'HGNC:1697',\n",
       "  'carbamate kinase': 'MESH:C019288',\n",
       "  'casein kinase': 'FPLX:CSNK',\n",
       "  'casein kinases': 'FPLX:CSNK',\n",
       "  'cathepsin k': 'HGNC:2536',\n",
       "  'changkil': 'MESH:C440574',\n",
       "  'chemokine': 'FPLX:Chemokine',\n",
       "  'chemokines': 'FPLX:Chemokine',\n",
       "  'chemokinesis': 'GO:GO:0042466',\n",
       "  'chick kidney': 'ungrounded',\n",
       "  'chicken kidney': 'ungrounded',\n",
       "  'choline kinase': 'FPLX:CHK',\n",
       "  'complex karyotype': 'MESH:D059785',\n",
       "  'compound k': 'MESH:C112772',\n",
       "  'cr kinase': 'FPLX:Creatine_kinase',\n",
       "  'creatine kinase': 'FPLX:Creatine_kinase',\n",
       "  'creatine kinase activity': 'FPLX:Creatine_kinase',\n",
       "  'creatine kinase specific activity': 'FPLX:Creatine_kinase',\n",
       "  'creatine kinases': 'FPLX:Creatine_kinase',\n",
       "  'creatinine kinase': 'FPLX:Creatine_kinase',\n",
       "  'creatinine phosphokinase': 'FPLX:Creatine_kinase',\n",
       "  'creatinkinase': 'FPLX:Creatine_kinase',\n",
       "  'crinkled': 'ungrounded',\n",
       "  'cyanoketone': 'MESH:D003489',\n",
       "  'cyberknife': 'ungrounded',\n",
       "  'cyberknife ®': 'ungrounded',\n",
       "  'cytokeratin': 'MESH:D007633',\n",
       "  'cytokines': 'MESH:D016207',\n",
       "  'cytokinin': 'CHEBI:CHEBI:23530',\n",
       "  'cytokinin content': 'CHEBI:CHEBI:23530',\n",
       "  'cytokinin trans zeatin riboside': 'CHEBI:CHEBI:71693',\n",
       "  'such as cytokinins': 'CHEBI:CHEBI:23530'},\n",
       " {'HGNC:1697': 'CD74',\n",
       "  'MESH:C019288': 'carbamate kinase',\n",
       "  'FPLX:CSNK': 'CSNK',\n",
       "  'HGNC:2536': 'CTSK',\n",
       "  'MESH:C440574': 'Changkil',\n",
       "  'FPLX:Chemokine': 'Chemokine',\n",
       "  'GO:GO:0042466': 'chemokinesis',\n",
       "  'FPLX:CHK': 'CHK',\n",
       "  'MESH:D059785': 'Karyotype',\n",
       "  'MESH:C112772': 'ginsenoside M1',\n",
       "  'FPLX:Creatine_kinase': 'Creatine_kinase',\n",
       "  'MESH:D003489': 'Cyanoketone',\n",
       "  'MESH:D007633': 'Keratins',\n",
       "  'MESH:D016207': 'Cytokines',\n",
       "  'CHEBI:CHEBI:23530': 'cytokinin',\n",
       "  'CHEBI:CHEBI:71693': '9-ribosyl-trans-zeatin'},\n",
       " ['FPLX:CHK',\n",
       "  'FPLX:CSNK',\n",
       "  'FPLX:Chemokine',\n",
       "  'FPLX:Creatine_kinase',\n",
       "  'HGNC:1697',\n",
       "  'HGNC:2536',\n",
       "  'MESH:C019288',\n",
       "  'MESH:C112772',\n",
       "  'MESH:D007633']]"
      ]
     },
     "execution_count": 8,
     "metadata": {},
     "output_type": "execute_result"
    }
   ],
   "source": [
    "result"
   ]
  },
  {
   "cell_type": "code",
   "execution_count": 25,
   "metadata": {},
   "outputs": [],
   "source": [
    "grounding_map, names, pos_labels = [{'calmodulin dependent protein kinase ii': 'FPLX:CAMK2_complex',\n",
    "  'carbamate kinase': 'MESH:C019288',\n",
    "  'casein kinase': 'FPLX:CSNK',\n",
    "  'casein kinases': 'FPLX:CSNK',\n",
    "  'cathepsin k': 'HGNC:2536',\n",
    "  'changkil': 'MESH:C440574',\n",
    "  'chemokine': 'FPLX:Chemokine',\n",
    "  'chemokines': 'FPLX:Chemokine',\n",
    "  'chemokinesis': 'GO:GO:0042466',\n",
    "  'chick kidney': 'ungrounded',\n",
    "  'chicken kidney': 'ungrounded',\n",
    "  'choline kinase': 'FPLX:CHK',\n",
    "  'complex karyotype': 'MESH:D059785',\n",
    "  'compound k': 'MESH:C112772',\n",
    "  'cr kinase': 'FPLX:Creatine_kinase',\n",
    "  'creatine kinase': 'FPLX:Creatine_kinase',\n",
    "  'creatine kinase activity': 'FPLX:Creatine_kinase',\n",
    "  'creatine kinase specific activity': 'FPLX:Creatine_kinase',\n",
    "  'creatine kinases': 'FPLX:Creatine_kinase',\n",
    "  'creatinine kinase': 'FPLX:Creatine_kinase',\n",
    "  'creatinine phosphokinase': 'FPLX:Creatine_kinase',\n",
    "  'creatinkinase': 'FPLX:Creatine_kinase',\n",
    "  'crinkled': 'ungrounded',\n",
    "  'cyanoketone': 'MESH:D003489',\n",
    "  'cyberknife': 'ungrounded',\n",
    "  'cyberknife ®': 'ungrounded',\n",
    "  'cytokeratin': 'MESH:D007633',\n",
    "  'cytokines': 'MESH:D016207',\n",
    "  'cytokinin': 'CHEBI:CHEBI:23530',\n",
    "  'cytokinin content': 'CHEBI:CHEBI:23530',\n",
    "  'cytokinin trans zeatin riboside': 'CHEBI:CHEBI:71693',\n",
    "  'such as cytokinins': 'CHEBI:CHEBI:23530'},\n",
    " {'FPLX:CAMK2_complex': 'CAMK2_complex',\n",
    "  'MESH:C019288': 'carbamate kinase',\n",
    "  'FPLX:CSNK': 'CSNK',\n",
    "  'HGNC:2536': 'CTSK',\n",
    "  'MESH:C440574': 'Changkil',\n",
    "  'FPLX:Chemokine': 'Chemokine',\n",
    "  'GO:GO:0042466': 'chemokinesis',\n",
    "  'FPLX:CHK': 'CHK',\n",
    "  'MESH:D059785': 'Karyotype',\n",
    "  'MESH:C112772': 'ginsenoside M1',\n",
    "  'FPLX:Creatine_kinase': 'Creatine_kinase',\n",
    "  'MESH:D003489': 'Cyanoketone',\n",
    "  'MESH:D007633': 'Keratins',\n",
    "  'MESH:D016207': 'Cytokines',\n",
    "  'CHEBI:CHEBI:23530': 'cytokinin',\n",
    "  'CHEBI:CHEBI:71693': '9-ribosyl-trans-zeatin'},\n",
    " ['FPLX:CHK',\n",
    "  'FPLX:CSNK',\n",
    "  'FPLX:Chemokine',\n",
    "  'FPLX:Creatine_kinase',\n",
    "  'HGNC:1697',\n",
    "  'HGNC:2536',\n",
    "  'MESH:C019288',\n",
    "  'MESH:C112772',\n",
    "  'MESH:D007633',\n",
    "  'MESH:D059785']]"
   ]
  },
  {
   "cell_type": "code",
   "execution_count": 26,
   "metadata": {},
   "outputs": [],
   "source": [
    "excluded_longforms = []"
   ]
  },
  {
   "cell_type": "code",
   "execution_count": 27,
   "metadata": {},
   "outputs": [],
   "source": [
    "grounding_dict = {shortform: {longform: grounding_map[longform] \n",
    "                              for longform, _, _ in longforms if longform in grounding_map\n",
    "                              and longform not in excluded_longforms}\n",
    "                  for shortform, longforms in longform_dict.items()}\n",
    "result = [grounding_dict, names, pos_labels]\n",
    "\n",
    "if not os.path.exists(results_path):\n",
    "    os.mkdir(results_path)\n",
    "with open(os.path.join(results_path, f'{model_name}_preliminary_grounding_info.json'), 'w') as f:\n",
    "    json.dump(result, f)"
   ]
  },
  {
   "cell_type": "code",
   "execution_count": 28,
   "metadata": {},
   "outputs": [],
   "source": [
    "additional_entities = {'HGNC:2536': ['CTSK', ['CK']]}"
   ]
  },
  {
   "cell_type": "code",
   "execution_count": 29,
   "metadata": {},
   "outputs": [],
   "source": [
    "unambiguous_agent_texts = {}"
   ]
  },
  {
   "cell_type": "code",
   "execution_count": 30,
   "metadata": {},
   "outputs": [],
   "source": [
    "labeler = AdeftLabeler(grounding_dict)\n",
    "corpus = labeler.build_from_texts((text, pmid) for pmid, text in all_texts.items())\n",
    "agent_text_pmid_map = defaultdict(list)\n",
    "for text, label, id_ in corpus:\n",
    "    agent_text_pmid_map[label].append(id_)\n",
    "\n",
    "entity_pmid_map = {entity: set(get_pmids_for_entity(*entity.split(':', maxsplit=1),\n",
    "                                                major_topic=True))for entity in additional_entities}"
   ]
  },
  {
   "cell_type": "code",
   "execution_count": 31,
   "metadata": {},
   "outputs": [],
   "source": [
    "intersection1 = []\n",
    "for entity1, pmids1 in entity_pmid_map.items():\n",
    "    for entity2, pmids2 in entity_pmid_map.items():\n",
    "        intersection1.append((entity1, entity2, len(pmids1 & pmids2)))"
   ]
  },
  {
   "cell_type": "code",
   "execution_count": 32,
   "metadata": {},
   "outputs": [],
   "source": [
    "intersection2 = []\n",
    "for entity1, pmids1 in agent_text_pmid_map.items():\n",
    "    for entity2, pmids2 in entity_pmid_map.items():\n",
    "        intersection2.append((entity1, entity2, len(set(pmids1) & pmids2)))"
   ]
  },
  {
   "cell_type": "code",
   "execution_count": 33,
   "metadata": {},
   "outputs": [
    {
     "data": {
      "text/plain": [
       "[('HGNC:2536', 'HGNC:2536', 480)]"
      ]
     },
     "execution_count": 33,
     "metadata": {},
     "output_type": "execute_result"
    }
   ],
   "source": [
    "intersection1"
   ]
  },
  {
   "cell_type": "code",
   "execution_count": 16,
   "metadata": {},
   "outputs": [
    {
     "data": {
      "text/plain": [
       "[('FPLX:Creatine_kinase', 'HGNC:2536', 0),\n",
       " ('MESH:D007633', 'HGNC:2536', 0),\n",
       " ('MESH:D016207', 'HGNC:2536', 0),\n",
       " ('MESH:C019288', 'HGNC:2536', 0),\n",
       " ('MESH:D003489', 'HGNC:2536', 0),\n",
       " ('ungrounded', 'HGNC:2536', 0),\n",
       " ('FPLX:Chemokine', 'HGNC:2536', 0),\n",
       " ('FPLX:CHK', 'HGNC:2536', 0),\n",
       " ('FPLX:CSNK', 'HGNC:2536', 0),\n",
       " ('MESH:C440574', 'HGNC:2536', 0),\n",
       " ('CHEBI:CHEBI:23530', 'HGNC:2536', 0),\n",
       " ('MESH:C112772', 'HGNC:2536', 0),\n",
       " ('FPLX:CAMK2_complex', 'HGNC:2536', 0),\n",
       " ('MESH:D059785', 'HGNC:2536', 0),\n",
       " ('HGNC:2536', 'HGNC:2536', 1),\n",
       " ('GO:GO:0042466', 'HGNC:2536', 0),\n",
       " ('CHEBI:CHEBI:71693', 'HGNC:2536', 0)]"
      ]
     },
     "execution_count": 16,
     "metadata": {},
     "output_type": "execute_result"
    }
   ],
   "source": [
    "intersection2"
   ]
  },
  {
   "cell_type": "code",
   "execution_count": 84,
   "metadata": {},
   "outputs": [
    {
     "data": {
      "text/plain": [
       "[('HGNC:7321', ['Musculin', 'musculin'])]"
      ]
     },
     "execution_count": 84,
     "metadata": {},
     "output_type": "execute_result"
    }
   ],
   "source": []
  },
  {
   "cell_type": "code",
   "execution_count": 34,
   "metadata": {},
   "outputs": [],
   "source": [
    "all_used_pmids = set()\n",
    "for entity, agent_texts in unambiguous_agent_texts.items():\n",
    "    used_pmids = set()\n",
    "    for agent_text in agent_texts[1]:\n",
    "        pmids = set(get_pmids_for_agent_text(agent_text))\n",
    "        new_pmids = list(pmids - all_texts.keys() - used_pmids)\n",
    "        text_dict = get_plaintexts_for_pmids(new_pmids, contains=agent_texts)\n",
    "        corpus.extend([(text, entity, pmid) for pmid, text in text_dict.items() if len(text) >= 5])\n",
    "        used_pmids.update(new_pmids)\n",
    "    all_used_pmids.update(used_pmids)\n",
    "        \n",
    "for entity, pmids in entity_pmid_map.items():\n",
    "    new_pmids = list(set(pmids) - all_texts.keys() - all_used_pmids)\n",
    "    if len(new_pmids) > 10000:\n",
    "        new_pmids = random.choices(new_pmids, k=10000)\n",
    "    _, contains = additional_entities[entity]\n",
    "    text_dict = get_plaintexts_for_pmids(new_pmids, contains=contains)\n",
    "    corpus.extend([(text, entity, pmid) for pmid, text in text_dict.items() if len(text) >= 5])"
   ]
  },
  {
   "cell_type": "code",
   "execution_count": 35,
   "metadata": {},
   "outputs": [],
   "source": [
    "names.update({key: value[0] for key, value in additional_entities.items()})\n",
    "pos_labels = list(set(pos_labels) | additional_entities.keys() | unambiguous_agent_texts.keys())\n",
    "names.update({key: value[0] for key, value in unambiguous_agent_texts.items()})"
   ]
  },
  {
   "cell_type": "code",
   "execution_count": 36,
   "metadata": {},
   "outputs": [
    {
     "name": "stderr",
     "output_type": "stream",
     "text": [
      "INFO: [2020-10-29 04:27:22] /adeft/PP/adeft/adeft/modeling/classify.py - Beginning grid search in parameter space:\n",
      "{'C': [100.0], 'max_features': [10000]}\n",
      "INFO: [2020-10-29 04:27:52] /adeft/PP/adeft/adeft/modeling/classify.py - Best f1 score of 0.9456692108337685 found for parameter values:\n",
      "{'logit__C': 100.0, 'tfidf__max_features': 10000}\n"
     ]
    }
   ],
   "source": [
    "%%capture\n",
    "\n",
    "classifier = AdeftClassifier(shortforms, pos_labels=pos_labels, random_state=1729)\n",
    "param_grid = {'C': [100.0], 'max_features': [10000]}\n",
    "texts, labels, pmids = zip(*corpus)\n",
    "classifier.cv(texts, labels, param_grid, cv=5, n_jobs=5)"
   ]
  },
  {
   "cell_type": "code",
   "execution_count": 37,
   "metadata": {
    "scrolled": true
   },
   "outputs": [
    {
     "data": {
      "text/plain": [
       "{'label_distribution': {'FPLX:Creatine_kinase': 1028,\n",
       "  'MESH:D007633': 48,\n",
       "  'MESH:D016207': 18,\n",
       "  'MESH:C019288': 11,\n",
       "  'MESH:D003489': 4,\n",
       "  'ungrounded': 21,\n",
       "  'FPLX:Chemokine': 20,\n",
       "  'FPLX:CHK': 23,\n",
       "  'FPLX:CSNK': 18,\n",
       "  'MESH:C440574': 4,\n",
       "  'CHEBI:CHEBI:23530': 190,\n",
       "  'MESH:C112772': 91,\n",
       "  'FPLX:CAMK2_complex': 1,\n",
       "  'MESH:D059785': 10,\n",
       "  'HGNC:2536': 5,\n",
       "  'GO:GO:0042466': 2,\n",
       "  'CHEBI:CHEBI:71693': 1},\n",
       " 'f1': {'mean': 0.945669, 'std': 0.007127},\n",
       " 'precision': {'mean': 0.937941, 'std': 0.008198},\n",
       " 'recall': {'mean': 0.960905, 'std': 0.006465},\n",
       " 'FPLX:Chemokine': {'f1': {'mean': 0.788095, 'std': 0.126974},\n",
       "  'pr': {'mean': 0.7, 'std': 0.187083},\n",
       "  'rc': {'mean': 0.95, 'std': 0.1}},\n",
       " 'FPLX:CHK': {'f1': {'mean': 0.926984, 'std': 0.060734},\n",
       "  'pr': {'mean': 0.87, 'std': 0.107703},\n",
       "  'rc': {'mean': 1.0, 'std': 0.0}},\n",
       " 'CHEBI:CHEBI:71693': {'f1': {'mean': 0.0, 'std': 0.0},\n",
       "  'pr': {'mean': 0.0, 'std': 0.0},\n",
       "  'rc': {'mean': 0.0, 'std': 0.0}},\n",
       " 'GO:GO:0042466': {'f1': {'mean': 0.0, 'std': 0.0},\n",
       "  'pr': {'mean': 0.0, 'std': 0.0},\n",
       "  'rc': {'mean': 0.0, 'std': 0.0}},\n",
       " 'MESH:D059785': {'f1': {'mean': 1.0, 'std': 0.0},\n",
       "  'pr': {'mean': 1.0, 'std': 0.0},\n",
       "  'rc': {'mean': 1.0, 'std': 0.0}},\n",
       " 'MESH:D003489': {'f1': {'mean': 0.0, 'std': 0.0},\n",
       "  'pr': {'mean': 0.0, 'std': 0.0},\n",
       "  'rc': {'mean': 0.0, 'std': 0.0}},\n",
       " 'MESH:D016207': {'f1': {'mean': 0.266667, 'std': 0.226078},\n",
       "  'pr': {'mean': 0.183333, 'std': 0.152753},\n",
       "  'rc': {'mean': 0.5, 'std': 0.447214}},\n",
       " 'MESH:D007633': {'f1': {'mean': 0.883428, 'std': 0.099298},\n",
       "  'pr': {'mean': 0.815556, 'std': 0.133629},\n",
       "  'rc': {'mean': 0.971429, 'std': 0.057143}},\n",
       " 'MESH:C019288': {'f1': {'mean': 0.833333, 'std': 0.210819},\n",
       "  'pr': {'mean': 0.766667, 'std': 0.290593},\n",
       "  'rc': {'mean': 1.0, 'std': 0.0}},\n",
       " 'ungrounded': {'f1': {'mean': 0.921429, 'std': 0.10202},\n",
       "  'pr': {'mean': 0.87, 'std': 0.166132},\n",
       "  'rc': {'mean': 1.0, 'std': 0.0}},\n",
       " 'FPLX:CSNK': {'f1': {'mean': 0.506667, 'std': 0.130639},\n",
       "  'pr': {'mean': 0.383333, 'std': 0.1},\n",
       "  'rc': {'mean': 0.8, 'std': 0.244949}},\n",
       " 'MESH:C440574': {'f1': {'mean': 0.2, 'std': 0.4},\n",
       "  'pr': {'mean': 0.2, 'std': 0.4},\n",
       "  'rc': {'mean': 0.2, 'std': 0.4}},\n",
       " 'CHEBI:CHEBI:23530': {'f1': {'mean': 0.981394, 'std': 0.020131},\n",
       "  'pr': {'mean': 0.978947, 'std': 0.030689},\n",
       "  'rc': {'mean': 0.984444, 'std': 0.020306}},\n",
       " 'FPLX:CAMK2_complex': {'f1': {'mean': 0.0, 'std': 0.0},\n",
       "  'pr': {'mean': 0.0, 'std': 0.0},\n",
       "  'rc': {'mean': 0.0, 'std': 0.0}},\n",
       " 'HGNC:2536': {'f1': {'mean': 0.0, 'std': 0.0},\n",
       "  'pr': {'mean': 0.0, 'std': 0.0},\n",
       "  'rc': {'mean': 0.0, 'std': 0.0}},\n",
       " 'MESH:C112772': {'f1': {'mean': 0.878679, 'std': 0.035119},\n",
       "  'pr': {'mean': 0.878947, 'std': 0.054721},\n",
       "  'rc': {'mean': 0.88245, 'std': 0.053467}},\n",
       " 'FPLX:Creatine_kinase': {'f1': {'mean': 0.97116, 'std': 0.003462},\n",
       "  'pr': {'mean': 0.999024, 'std': 0.001951},\n",
       "  'rc': {'mean': 0.944822, 'std': 0.005634}}}"
      ]
     },
     "execution_count": 37,
     "metadata": {},
     "output_type": "execute_result"
    }
   ],
   "source": [
    "classifier.stats"
   ]
  },
  {
   "cell_type": "code",
   "execution_count": 38,
   "metadata": {},
   "outputs": [],
   "source": [
    "disamb = AdeftDisambiguator(classifier, grounding_dict, names)"
   ]
  },
  {
   "cell_type": "code",
   "execution_count": 39,
   "metadata": {},
   "outputs": [],
   "source": [
    "disamb.dump(model_name, results_path)"
   ]
  },
  {
   "cell_type": "code",
   "execution_count": 40,
   "metadata": {},
   "outputs": [
    {
     "name": "stdout",
     "output_type": "stream",
     "text": [
      "Disambiguation model for CK, and CKs\n",
      "\n",
      "Produces the disambiguations:\n",
      "\t9-ribosyl-trans-zeatin\tCHEBI:CHEBI:71693\n",
      "\tCAMK2_complex\tFPLX:CAMK2_complex\n",
      "\tCHK*\tFPLX:CHK\n",
      "\tCSNK*\tFPLX:CSNK\n",
      "\tCTSK*\tHGNC:2536\n",
      "\tChangkil\tMESH:C440574\n",
      "\tChemokine*\tFPLX:Chemokine\n",
      "\tCreatine_kinase*\tFPLX:Creatine_kinase\n",
      "\tCyanoketone\tMESH:D003489\n",
      "\tCytokines\tMESH:D016207\n",
      "\tKaryotype*\tMESH:D059785\n",
      "\tKeratins*\tMESH:D007633\n",
      "\tcarbamate kinase*\tMESH:C019288\n",
      "\tchemokinesis\tGO:GO:0042466\n",
      "\tcytokinin\tCHEBI:CHEBI:23530\n",
      "\tginsenoside M1*\tMESH:C112772\n",
      "\n",
      "Class level metrics:\n",
      "--------------------\n",
      "Grounding             \tCount\tF1     \n",
      "       Creatine_kinase*\t1028\t0.97116\n",
      "             cytokinin\t 190\t0.98139\n",
      "        ginsenoside M1*\t  91\t0.87868\n",
      "              Keratins*\t  48\t0.88343\n",
      "                   CHK*\t  23\t0.92698\n",
      "            Ungrounded\t  21\t0.92143\n",
      "             Chemokine*\t  20\t 0.7881\n",
      "             Cytokines\t  18\t0.26667\n",
      "                  CSNK*\t  18\t0.50667\n",
      "      carbamate kinase*\t  11\t0.83333\n",
      "             Karyotype*\t  10\t    1.0\n",
      "                  CTSK*\t   5\t    0.0\n",
      "           Cyanoketone\t   4\t    0.0\n",
      "              Changkil\t   4\t    0.2\n",
      "          chemokinesis\t   2\t    0.0\n",
      "         CAMK2_complex\t   1\t    0.0\n",
      "9-ribosyl-trans-zeatin\t   1\t    0.0\n",
      "\n",
      "Weighted Metrics:\n",
      "-----------------\n",
      "\tF1 score:\t0.94567\n",
      "\tPrecision:\t0.93794\n",
      "\tRecall:\t\t0.9609\n",
      "\n",
      "* Positive labels\n",
      "See Docstring for explanation\n",
      "\n"
     ]
    }
   ],
   "source": [
    "print(disamb.info())"
   ]
  },
  {
   "cell_type": "code",
   "execution_count": 41,
   "metadata": {},
   "outputs": [],
   "source": [
    "model_to_s3(disamb)"
   ]
  },
  {
   "cell_type": "code",
   "execution_count": null,
   "metadata": {},
   "outputs": [],
   "source": []
  }
 ],
 "metadata": {
  "kernelspec": {
   "display_name": "Python 3",
   "language": "python",
   "name": "python3"
  },
  "language_info": {
   "codemirror_mode": {
    "name": "ipython",
    "version": 3
   },
   "file_extension": ".py",
   "mimetype": "text/x-python",
   "name": "python",
   "nbconvert_exporter": "python",
   "pygments_lexer": "ipython3",
   "version": "3.8.4"
  }
 },
 "nbformat": 4,
 "nbformat_minor": 2
}
