{
 "cells": [
  {
   "cell_type": "code",
   "execution_count": 5,
   "metadata": {},
   "outputs": [],
   "source": [
    "import json\n",
    "import pickle\n",
    "\n",
    "from indra.literature.adeft_tools import universal_extract_text\n",
    "from indra.databases.hgnc_client import get_hgnc_name, get_hgnc_id\n",
    "\n",
    "from indra_db.util.content_scripts import get_text_content_from_pmids\n",
    "from indra_db.util.content_scripts import get_stmts_with_agent_text_like\n",
    "from indra_db.util.content_scripts import get_text_content_from_stmt_ids\n",
    "\n",
    "from adeft.discover import AdeftMiner\n",
    "from adeft.gui import ground_with_gui\n",
    "from adeft.modeling.label import AdeftLabeler\n",
    "from adeft.modeling.classify import AdeftClassifier\n",
    "from adeft.disambiguate import AdeftDisambiguator\n",
    "\n",
    "from adeft_indra.s3 import model_to_s3\n",
    "from adeft_indra.ground import gilda_ground"
   ]
  },
  {
   "cell_type": "code",
   "execution_count": 3,
   "metadata": {},
   "outputs": [],
   "source": [
    "shortforms = ['RAC']\n",
    "genes = ['AKT1']\n",
    "families = {'RAC': ['RAC1', 'RAC2', 'RAC3']}\n",
    "groundings = [f'HGNC:{get_hgnc_id(gene)}' for gene in genes]\n",
    "for family, members in families.items():\n",
    "    genes.extend(members)\n",
    "    groundings.append(f'FPLX:{family}')\n",
    "with open('../data/entrez_all_pmids.json', 'r') as f:\n",
    "    all_pmids = json.load(f)"
   ]
  },
  {
   "cell_type": "code",
   "execution_count": 4,
   "metadata": {},
   "outputs": [],
   "source": [
    "entrez_texts = []\n",
    "entrez_refs = set()\n",
    "for gene, grounding in zip(genes, groundings):\n",
    "    try:\n",
    "        pmids = all_pmids[gene]\n",
    "    except KeyError:\n",
    "        continue\n",
    "    _, content = get_text_content_from_pmids(pmids)\n",
    "    entrez_texts.extend([(universal_extract_text(text), grounding)\n",
    "                          for text in content.values() if text])\n",
    "    entrez_refs.update(content.keys())"
   ]
  },
  {
   "cell_type": "code",
   "execution_count": 5,
   "metadata": {},
   "outputs": [
    {
     "ename": "TypeError",
     "evalue": "unsupported operand type(s) for |=: 'set' and 'list'",
     "output_type": "error",
     "traceback": [
      "\u001b[0;31m---------------------------------------------------------------------------\u001b[0m",
      "\u001b[0;31mTypeError\u001b[0m                                 Traceback (most recent call last)",
      "\u001b[0;32m<ipython-input-5-4713289064c1>\u001b[0m in \u001b[0;36m<module>\u001b[0;34m\u001b[0m\n\u001b[1;32m      8\u001b[0m     \u001b[0mminers\u001b[0m\u001b[0;34m[\u001b[0m\u001b[0mshortform\u001b[0m\u001b[0;34m]\u001b[0m \u001b[0;34m=\u001b[0m \u001b[0mAdeftMiner\u001b[0m\u001b[0;34m(\u001b[0m\u001b[0mshortform\u001b[0m\u001b[0;34m)\u001b[0m\u001b[0;34m\u001b[0m\u001b[0;34m\u001b[0m\u001b[0m\n\u001b[1;32m      9\u001b[0m     \u001b[0mminers\u001b[0m\u001b[0;34m[\u001b[0m\u001b[0mshortform\u001b[0m\u001b[0;34m]\u001b[0m\u001b[0;34m.\u001b[0m\u001b[0mprocess_texts\u001b[0m\u001b[0;34m(\u001b[0m\u001b[0mshortform_texts\u001b[0m\u001b[0;34m)\u001b[0m\u001b[0;34m\u001b[0m\u001b[0;34m\u001b[0m\u001b[0m\n\u001b[0;32m---> 10\u001b[0;31m     \u001b[0mall_texts\u001b[0m \u001b[0;34m|=\u001b[0m \u001b[0mshortform_texts\u001b[0m\u001b[0;34m\u001b[0m\u001b[0;34m\u001b[0m\u001b[0m\n\u001b[0m",
      "\u001b[0;31mTypeError\u001b[0m: unsupported operand type(s) for |=: 'set' and 'list'"
     ]
    }
   ],
   "source": [
    "miners = dict()\n",
    "all_texts = set()\n",
    "for shortform in shortforms:\n",
    "    stmts = get_stmts_with_agent_text_like(shortform)[shortform]\n",
    "    _, content = get_text_content_from_stmt_ids(stmts)\n",
    "    shortform_texts = [universal_extract_text(text, contains=shortforms)\n",
    "                       for ref, text in content.items() if text and ref not in entrez_refs]\n",
    "    miners[shortform] = AdeftMiner(shortform)\n",
    "    miners[shortform].process_texts(shortform_texts)\n",
    "    all_texts |= shortform_texts"
   ]
  },
  {
   "cell_type": "markdown",
   "metadata": {},
   "source": [
    "It's then necessary to check if Acromine produced the correct results. We must fix errors manually"
   ]
  },
  {
   "cell_type": "code",
   "execution_count": 8,
   "metadata": {},
   "outputs": [],
   "source": [
    "top = miners['RAC'].top()"
   ]
  },
  {
   "cell_type": "code",
   "execution_count": null,
   "metadata": {},
   "outputs": [],
   "source": [
    "top"
   ]
  },
  {
   "cell_type": "code",
   "execution_count": 7,
   "metadata": {},
   "outputs": [],
   "source": [
    "longforms0 = miners['RAC'].get_longforms()"
   ]
  },
  {
   "cell_type": "code",
   "execution_count": 9,
   "metadata": {},
   "outputs": [
    {
     "data": {
      "text/plain": [
       "[('raclopride', 20.076923076923077),\n",
       " ('radial alveolar count', 19.818181818181813),\n",
       " ('ractopamine', 14.555555555555555),\n",
       " ('ribosome associated complex', 11.857142857142858),\n",
       " ('regenerated amorphous cellulose', 9.454545454545455),\n",
       " ('ractopamine hydrochloride', 8.428571428571429),\n",
       " ('relative area change', 5.0),\n",
       " ('renal artery calcium', 5.0),\n",
       " ('right auditory cortex', 4.0),\n",
       " ('rabbit articular chondrocytes', 3.8),\n",
       " ('ractopamine hcl', 2.5),\n",
       " ('renal artery calcification', 2.0),\n",
       " ('regional anticoagulation with citrate', 2.0),\n",
       " ('ras relative c3 botulinum toxin substrate', 2.0),\n",
       " ('and mean for control con and ractopamine treatment', 2.0),\n",
       " ('al phase locking itpl in the theta band 2 10 hz of the source waveforms at left lac and right',\n",
       "  2)]"
      ]
     },
     "execution_count": 9,
     "metadata": {},
     "output_type": "execute_result"
    }
   ],
   "source": [
    "longforms0"
   ]
  },
  {
   "cell_type": "code",
   "execution_count": 10,
   "metadata": {},
   "outputs": [],
   "source": [
    "longforms = longforms0[:-2]"
   ]
  },
  {
   "cell_type": "code",
   "execution_count": 11,
   "metadata": {},
   "outputs": [],
   "source": [
    "longforms, scores = zip(*longforms)"
   ]
  },
  {
   "cell_type": "code",
   "execution_count": 12,
   "metadata": {},
   "outputs": [
    {
     "data": {
      "text/plain": [
       "('raclopride',\n",
       " 'radial alveolar count',\n",
       " 'ractopamine',\n",
       " 'ribosome associated complex',\n",
       " 'regenerated amorphous cellulose',\n",
       " 'ractopamine hydrochloride',\n",
       " 'relative area change',\n",
       " 'renal artery calcium',\n",
       " 'right auditory cortex',\n",
       " 'rabbit articular chondrocytes',\n",
       " 'ractopamine hcl',\n",
       " 'renal artery calcification',\n",
       " 'regional anticoagulation with citrate',\n",
       " 'ras relative c3 botulinum toxin substrate')"
      ]
     },
     "execution_count": 12,
     "metadata": {},
     "output_type": "execute_result"
    }
   ],
   "source": [
    "longforms"
   ]
  },
  {
   "cell_type": "code",
   "execution_count": 103,
   "metadata": {},
   "outputs": [],
   "source": [
    "grounding_map = {}\n",
    "names = {}\n",
    "for longform in longforms:\n",
    "    grounding = gilda_ground(longform)\n",
    "    if grounding[0]:\n",
    "        grounding_map[longform] = f'{grounding[0]}:{grounding[1]}'\n",
    "        names[grounding_map[longform]] = grounding[2]"
   ]
  },
  {
   "cell_type": "code",
   "execution_count": 100,
   "metadata": {},
   "outputs": [
    {
     "data": {
      "text/plain": [
       "('MESH', 'D020891', 'Raclopride')"
      ]
     },
     "execution_count": 100,
     "metadata": {},
     "output_type": "execute_result"
    }
   ],
   "source": [
    "gilda_ground('raclopride')"
   ]
  },
  {
   "cell_type": "code",
   "execution_count": 104,
   "metadata": {},
   "outputs": [
    {
     "data": {
      "text/plain": [
       "{'raclopride': 'MESH:D020891', 'ractopamine': 'CHEBI:CHEBI:82644'}"
      ]
     },
     "execution_count": 104,
     "metadata": {},
     "output_type": "execute_result"
    }
   ],
   "source": [
    "grounding_map"
   ]
  },
  {
   "cell_type": "code",
   "execution_count": 105,
   "metadata": {},
   "outputs": [
    {
     "data": {
      "text/plain": [
       "{'MESH:D020891': 'Raclopride', 'CHEBI:CHEBI:82644': 'ractopamine'}"
      ]
     },
     "execution_count": 105,
     "metadata": {},
     "output_type": "execute_result"
    }
   ],
   "source": [
    "names"
   ]
  },
  {
   "cell_type": "code",
   "execution_count": 17,
   "metadata": {},
   "outputs": [],
   "source": [
    "grounding_map, names, pos_labels = ground_with_gui(longforms, scores, grounding_map=grounding_map, names=names, pos_labels=pos_labels)"
   ]
  },
  {
   "cell_type": "code",
   "execution_count": 18,
   "metadata": {},
   "outputs": [],
   "source": [
    "result = (grounding_map, names, pos_labels)"
   ]
  },
  {
   "cell_type": "code",
   "execution_count": 19,
   "metadata": {
    "scrolled": true
   },
   "outputs": [
    {
     "data": {
      "text/plain": [
       "({'rabbit articular chondrocytes': 'ungrounded',\n",
       "  'raclopride': 'MESH:D020891',\n",
       "  'ractopamine': 'CHEBI:CHEBI:82644',\n",
       "  'ractopamine hcl': 'CHEBI:CHEBI:82644',\n",
       "  'ractopamine hydrochloride': 'CHEBI:CHEBI:82644',\n",
       "  'radial alveolar count': 'radial alveolar count',\n",
       "  'ras relative c3 botulinum toxin substrate': 'FPLX:RAC',\n",
       "  'regenerated amorphous cellulose': 'ungrounded',\n",
       "  'regional anticoagulation with citrate': 'ungrounded',\n",
       "  'relative area change': 'ungrounded',\n",
       "  'renal artery calcification': 'ungrounded',\n",
       "  'renal artery calcium': 'ungrounded',\n",
       "  'ribosome associated complex': 'ungrounded',\n",
       "  'right auditory cortex': 'ungrounded'},\n",
       " {'MESH:D020891': 'Raclopride',\n",
       "  'CHEBI:CHEBI:82644': 'ractopamine',\n",
       "  'radial alveolar count': 'radial alveolar count',\n",
       "  'FPLX:RAC': 'RAC'},\n",
       " ['CHEBI:CHEBI:82644', 'FPLX:RAC', 'MESH:D020891'])"
      ]
     },
     "execution_count": 19,
     "metadata": {},
     "output_type": "execute_result"
    }
   ],
   "source": [
    "result"
   ]
  },
  {
   "cell_type": "code",
   "execution_count": 20,
   "metadata": {},
   "outputs": [],
   "source": [
    "grounding_map, names, pos_labels = ({'rabbit articular chondrocytes': 'ungrounded',\n",
    "  'raclopride': 'MESH:D020891',\n",
    "  'ractopamine': 'CHEBI:CHEBI:82644',\n",
    "  'ractopamine hcl': 'CHEBI:CHEBI:82644',\n",
    "  'ractopamine hydrochloride': 'CHEBI:CHEBI:82644',\n",
    "  'radial alveolar count': 'radial alveolar count',\n",
    "  'ras relative c3 botulinum toxin substrate': 'FPLX:RAC',\n",
    "  'regenerated amorphous cellulose': 'ungrounded',\n",
    "  'regional anticoagulation with citrate': 'ungrounded',\n",
    "  'relative area change': 'ungrounded',\n",
    "  'renal artery calcification': 'ungrounded',\n",
    "  'renal artery calcium': 'ungrounded',\n",
    "  'ribosome associated complex': 'ungrounded',\n",
    "  'right auditory cortex': 'ungrounded'},\n",
    " {'MESH:D020891': 'Raclopride',\n",
    "  'CHEBI:CHEBI:82644': 'ractopamine',\n",
    "  'radial alveolar count': 'radial alveolar count',\n",
    "  'FPLX:RAC': 'RAC'},\n",
    " ['CHEBI:CHEBI:82644', 'FPLX:RAC', 'MESH:D020891'])"
   ]
  },
  {
   "cell_type": "code",
   "execution_count": 21,
   "metadata": {},
   "outputs": [],
   "source": [
    "names['HGNC:391'] = 'AKT1'\n",
    "pos_labels.append('HGNC:391')"
   ]
  },
  {
   "cell_type": "code",
   "execution_count": 22,
   "metadata": {},
   "outputs": [],
   "source": [
    "grounding_dict = {'RAC': grounding_map}"
   ]
  },
  {
   "cell_type": "code",
   "execution_count": 23,
   "metadata": {},
   "outputs": [],
   "source": [
    "classifier = AdeftClassifier('RAC', pos_labels=pos_labels)"
   ]
  },
  {
   "cell_type": "code",
   "execution_count": 24,
   "metadata": {},
   "outputs": [],
   "source": [
    "param_grid = {'C': [100.0], 'max_features': [10000]}"
   ]
  },
  {
   "cell_type": "code",
   "execution_count": 25,
   "metadata": {},
   "outputs": [],
   "source": [
    "labeler = AdeftLabeler(grounding_dict)"
   ]
  },
  {
   "cell_type": "code",
   "execution_count": 27,
   "metadata": {},
   "outputs": [],
   "source": [
    "corpus = labeler.build_from_texts(shortform_texts)"
   ]
  },
  {
   "cell_type": "code",
   "execution_count": 28,
   "metadata": {},
   "outputs": [],
   "source": [
    "corpus.extend(entrez_texts)"
   ]
  },
  {
   "cell_type": "code",
   "execution_count": 29,
   "metadata": {},
   "outputs": [],
   "source": [
    "texts, labels = zip(*corpus)"
   ]
  },
  {
   "cell_type": "code",
   "execution_count": 30,
   "metadata": {},
   "outputs": [
    {
     "name": "stderr",
     "output_type": "stream",
     "text": [
      "INFO: [2020-01-24 10:40:37] /Users/albertsteppi/adeft/adeft/modeling/classify.py - Beginning grid search in parameter space:\n",
      "{'C': [100.0], 'max_features': [10000]}\n",
      "INFO: [2020-01-24 10:41:43] /Users/albertsteppi/adeft/adeft/modeling/classify.py - Best f1 score of 0.9491480221449358 found for parameter values:\n",
      "{'logit__C': 100.0, 'tfidf__max_features': 10000}\n"
     ]
    }
   ],
   "source": [
    "classifier.cv(texts, labels, param_grid, cv=5, n_jobs=8)"
   ]
  },
  {
   "cell_type": "code",
   "execution_count": 31,
   "metadata": {},
   "outputs": [
    {
     "data": {
      "text/plain": [
       "{'label_distribution': {'radial alveolar count': 10,\n",
       "  'CHEBI:CHEBI:82644': 31,\n",
       "  'FPLX:RAC': 950,\n",
       "  'ungrounded': 32,\n",
       "  'MESH:D020891': 19,\n",
       "  'HGNC:391': 2636},\n",
       " 'f1': {'mean': 0.9491480221449358, 'std': 0.005321067717975318},\n",
       " 'precision': {'mean': 0.9472554921097684, 'std': 0.005037114274819043},\n",
       " 'recall': {'mean': 0.9518640618177944, 'std': 0.006001817426961046}}"
      ]
     },
     "execution_count": 31,
     "metadata": {},
     "output_type": "execute_result"
    }
   ],
   "source": [
    "classifier.stats"
   ]
  },
  {
   "cell_type": "code",
   "execution_count": 36,
   "metadata": {},
   "outputs": [],
   "source": [
    "disamb = AdeftDisambiguator(classifier, grounding_dict, names)"
   ]
  },
  {
   "cell_type": "code",
   "execution_count": 37,
   "metadata": {},
   "outputs": [],
   "source": [
    "d = disamb.disambiguate(shortform_texts)"
   ]
  },
  {
   "cell_type": "code",
   "execution_count": 38,
   "metadata": {},
   "outputs": [],
   "source": [
    "a = [text for pred, text in zip(d, shortform_texts)if pred[0] == 'HGNC:391']"
   ]
  },
  {
   "cell_type": "code",
   "execution_count": 39,
   "metadata": {},
   "outputs": [
    {
     "data": {
      "text/plain": [
       "'The influence of inositol phosphates and phosphoinositides on the alpha isoform of the RAC-protein kinase B (RAC/PKB) was studied using purified wild type and mutant kinase preparations and a recombinant pleckstrin homology (PH) domain. Binding of inositol phosphates and phosphoinositides to the PH domain was measured as the quenching of intrinsic tryptophan fluorescence. Inositol phosphates and D3-phosphorylated phosphoinositides bound with affinities of 1-10 microM and 0.5 microM, respectively. Similar values were obtained using RAC/PKB expressed and purified from baculovirus-infected Sf9 cells in the fluorescence assay. The influence of synthetic dioctanoyl derivatives of phosphatidylinositol 3,4-bisphosphate and phosphatidylinositol 3,4,5-trisphosphate on the activity of RAC/PKB purified from transfected COS-1 cells was studied. Phosphatidylinositol 3,4,5-trisphosphate was found to inhibit the RAC/PKB kinase activity with half-maximal inhibition at 2.5 microM. In contrast, phosphatidylinositol 3, 4-bisphosphate stimulated kinase activity (half-maximal stimulation at 2.5 microM). A mutant RAC/PKB protein lacking the PH domain was not affected by D3-phosphorylated phosphoinositides. These results demonstrate that the PH domain of RAC/PKB binds inositol phosphates and phosphoinositides with high affinity, and suggest that the products of the phosphatidylinositide 3-kinase can act as both a membrane anchor and modulator of RAC/PKB activity. The data also provide further evidence for a link between phosphatidylinositide 3-kinase and RAC/PKB regulation.\\n'"
      ]
     },
     "execution_count": 39,
     "metadata": {},
     "output_type": "execute_result"
    }
   ],
   "source": [
    "a[1]"
   ]
  },
  {
   "cell_type": "code",
   "execution_count": 40,
   "metadata": {},
   "outputs": [],
   "source": [
    "disamb.dump('RAC', '../results')"
   ]
  },
  {
   "cell_type": "code",
   "execution_count": 68,
   "metadata": {},
   "outputs": [],
   "source": [
    "from adeft.disambiguate import load_disambiguator, load_disambiguator_directly"
   ]
  },
  {
   "cell_type": "code",
   "execution_count": 87,
   "metadata": {},
   "outputs": [],
   "source": [
    "d = load_disambiguator_directly('../results/EK/')"
   ]
  },
  {
   "cell_type": "code",
   "execution_count": 88,
   "metadata": {},
   "outputs": [
    {
     "data": {
      "text/plain": [
       "'Disambiguation model for EK\\n\\nProduces the disambiguations:\\n\\tCHK*\\tFPLX:CHK\\n\\tEnkephalins*\\tMESH:D004745\\n\\tTMPRSS15*\\tHGNC:9490\\n\\nTraining data had class balance:\\n\\tCHK*\\t58\\n\\tTMPRSS15*\\t30\\n\\tUngrounded\\t11\\n\\tEnkephalins*\\t7\\n\\nClassification Metrics:\\n\\tF1 score:\\t0.81333\\n\\tPrecision:\\t0.83439\\n\\tRecall:\\t\\t0.84234\\n\\n* Positive labels\\nSee Docstring for explanation\\n'"
      ]
     },
     "execution_count": 88,
     "metadata": {},
     "output_type": "execute_result"
    }
   ],
   "source": [
    "d.info()"
   ]
  },
  {
   "cell_type": "code",
   "execution_count": 89,
   "metadata": {},
   "outputs": [],
   "source": [
    "model_to_s3(d)"
   ]
  },
  {
   "cell_type": "code",
   "execution_count": 76,
   "metadata": {},
   "outputs": [
    {
     "data": {
      "text/plain": [
       "('CHEBI:CHEBI:29016',\n",
       " 'arginine',\n",
       " {'CHEBI:CHEBI:29016': 0.9667882794828576,\n",
       "  'CHEBI:CHEBI:79': 0.004343534773612251,\n",
       "  'HGNC:651': 0.00798509086185913,\n",
       "  'HGNC:77': 0.00973784879530277,\n",
       "  'HGNC:9965': 0.011145246086368127})"
      ]
     },
     "execution_count": 76,
     "metadata": {},
     "output_type": "execute_result"
    }
   ],
   "source": [
    "d.disambiguate(texts[0])"
   ]
  },
  {
   "cell_type": "code",
   "execution_count": 79,
   "metadata": {},
   "outputs": [
    {
     "name": "stdout",
     "output_type": "stream",
     "text": [
      "Disambiguation model for ARG\n",
      "\n",
      "Produces the disambiguations:\n",
      "\t(-)-Arctigenin*\tCHEBI:CHEBI:79\n",
      "\tABL2*\tHGNC:77\n",
      "\tAREG*\tHGNC:651\n",
      "\tRERE*\tHGNC:9965\n",
      "\targinine*\tCHEBI:CHEBI:29016\n",
      "\n",
      "Training data had class balance:\n",
      "\tAREG*\t157\n",
      "\tABL2*\t88\n",
      "\tRERE*\t39\n",
      "\targinine*\t15\n",
      "\t(-)-Arctigenin*\t2\n",
      "\n",
      "Classification Metrics:\n",
      "\tF1 score:\t0.81188\n",
      "\tPrecision:\t0.82394\n",
      "\tRecall:\t\t0.8205\n",
      "\n",
      "* Positive labels\n",
      "See Docstring for explanation\n",
      "\n"
     ]
    }
   ],
   "source": [
    "print(d.info())"
   ]
  },
  {
   "cell_type": "code",
   "execution_count": 32,
   "metadata": {},
   "outputs": [],
   "source": [
    "a = load_disambiguator('AR')"
   ]
  },
  {
   "cell_type": "code",
   "execution_count": 33,
   "metadata": {},
   "outputs": [
    {
     "data": {
      "text/plain": [
       "('HGNC:644',\n",
       " 'AR',\n",
       " {'FPLX:ADRB': 4.719192246728643e-10,\n",
       "  'GO:GO:0007340': 1.3624879544267196e-09,\n",
       "  'HGNC:381': 5.2828214761836554e-12,\n",
       "  'HGNC:644': 0.9999384718638125,\n",
       "  'HGNC:651': 1.8656671170325e-12,\n",
       "  'ungrounded': 6.152629463170691e-05})"
      ]
     },
     "execution_count": 33,
     "metadata": {},
     "output_type": "execute_result"
    }
   ],
   "source": [
    "a.disambiguate('Androgen')"
   ]
  },
  {
   "cell_type": "code",
   "execution_count": 36,
   "metadata": {},
   "outputs": [],
   "source": [
    "logit = d.classifier.estimator.named_steps['logit']"
   ]
  },
  {
   "cell_type": "code",
   "execution_count": 37,
   "metadata": {},
   "outputs": [
    {
     "data": {
      "text/plain": [
       "array(['FPLX:AQP', 'FPLX:Macrophage_inflammatory_pro', 'MESH:D000072277',\n",
       "       'polymer', 'ungrounded'], dtype='<U32')"
      ]
     },
     "execution_count": 37,
     "metadata": {},
     "output_type": "execute_result"
    }
   ],
   "source": [
    "logit.classes_"
   ]
  },
  {
   "cell_type": "code",
   "execution_count": 41,
   "metadata": {},
   "outputs": [],
   "source": [
    "model_to_s3(disamb)"
   ]
  },
  {
   "cell_type": "code",
   "execution_count": 44,
   "metadata": {},
   "outputs": [
    {
     "data": {
      "text/plain": [
       "[('rac1', 3.0203950681340763),\n",
       " ('cdc42', 0.46463658443237615),\n",
       " ('cells', 0.26067826443238284),\n",
       " ('rhoa', 0.2284452268653803),\n",
       " ('rho', 0.201414697794678),\n",
       " ('rac1b', 0.1862119230497441),\n",
       " ('actin', 0.16300556582714468),\n",
       " ('gtpases', 0.15543881285531247),\n",
       " ('rictor', 0.14896197766149943),\n",
       " ('pak1', 0.14776120596579687),\n",
       " ('jnk', 0.13802477317328446),\n",
       " ('activation', 0.13739172186857945),\n",
       " ('s1p', 0.12195584486540219),\n",
       " ('thrombin', 0.12054088946040988),\n",
       " ('endothelial', 0.11948523924516169),\n",
       " ('proteins', 0.11834598588132215),\n",
       " ('cell', 0.11418065253318789),\n",
       " ('phox', 0.11144187989246301),\n",
       " ('chimaerin', 0.1102266733731222),\n",
       " ('elmo1', 0.10886660370678143),\n",
       " ('vav', 0.10685654194092864),\n",
       " ('ros', 0.1017412296369346),\n",
       " ('gtp', 0.09970566367485924),\n",
       " ('escc', 0.09632367768212988),\n",
       " ('ras', 0.09346518511044424),\n",
       " ('nef', 0.08938792674953275),\n",
       " ('ubiquitylation', 0.0893305800391189),\n",
       " ('p85', 0.08885763883676143),\n",
       " ('gtpase', 0.08833886568389247),\n",
       " ('figure', 0.087475101884638),\n",
       " ('complexes', 0.0872265272835201),\n",
       " ('hcc', 0.0862347075830363),\n",
       " ('small', 0.08509078434544262),\n",
       " ('domain', 0.08492635500235372),\n",
       " ('region', 0.0841391109644385),\n",
       " ('nox', 0.08167855496471926),\n",
       " ('bfgf', 0.07852529781557573),\n",
       " ('glioma', 0.0754901259891954),\n",
       " ('syk', 0.07470961043787495),\n",
       " ('wasp', 0.0742950745186167),\n",
       " ('oscc', 0.07402266033376588),\n",
       " ('protein', 0.07386030185484761),\n",
       " ('apoptotic', 0.07258466038676381),\n",
       " ('neurons', 0.07164901466379286),\n",
       " ('mapk', 0.0693512216241394),\n",
       " ('methylation', 0.06882298766794948),\n",
       " ('rac1 activation', 0.06832338117403505),\n",
       " ('integrin', 0.06827423774405098),\n",
       " ('gef', 0.0671435194882063),\n",
       " ('active', 0.06693609445326244),\n",
       " ('p75', 0.06570119946407436),\n",
       " ('cases', 0.06567364135565414),\n",
       " ('tcr', 0.06475739947254273),\n",
       " ('icam', 0.06340546963244698),\n",
       " ('hep3b', 0.06316817405048261),\n",
       " ('fa', 0.0628753619339119),\n",
       " ('mediated', 0.06285616023878235),\n",
       " ('egf', 0.06277717335021338),\n",
       " ('infection', 0.061523518414123436),\n",
       " ('sf', 0.06134784459551271),\n",
       " ('entry', 0.06038857487458122),\n",
       " ('pak', 0.05939391436218462),\n",
       " ('wound', 0.05923859060302146),\n",
       " ('copd', 0.05877579744260618),\n",
       " ('elmo', 0.05828459190699769),\n",
       " ('p130cas', 0.057815560886065924),\n",
       " ('clathrin', 0.05707426720261616),\n",
       " ('hace1', 0.05649835189408671),\n",
       " ('oxidase', 0.05547714037120707),\n",
       " ('lfa', 0.05546906527374801),\n",
       " ('dc', 0.05508546159211082),\n",
       " ('p47 phox', 0.05504661883696745),\n",
       " ('ms', 0.05436964547326225),\n",
       " ('chromosome', 0.054334210304795176),\n",
       " ('overexpression', 0.054090065566761096),\n",
       " ('p47', 0.05394496787681315),\n",
       " ('hiv', 0.05352750703541026),\n",
       " ('ii', 0.05309105229204692),\n",
       " ('akt2', 0.05278459426546419),\n",
       " ('yb', 0.052064051340956596),\n",
       " ('neurite', 0.05171860077695334),\n",
       " ('irs', 0.0513599511009117),\n",
       " ('nox1', 0.050645783645603654),\n",
       " ('cpla', 0.05042931079704418),\n",
       " ('pca', 0.04934272353939055),\n",
       " ('wave', 0.04896364243055747),\n",
       " ('nsc23766', 0.048853677395395534),\n",
       " ('arsenic', 0.04876212336508516),\n",
       " ('sirna', 0.04811302518877607),\n",
       " ('adiponectin', 0.04803720510287865),\n",
       " ('truncated', 0.047884870201109216),\n",
       " ('lung cancer', 0.04721719270549104),\n",
       " ('atp', 0.04714578002416112),\n",
       " ('migration', 0.04666477190667146),\n",
       " ('dock3', 0.04484063405112551),\n",
       " ('terminal', 0.044794618757841104),\n",
       " ('gap', 0.04468352203269657),\n",
       " ('small gtpases', 0.0444759550998171),\n",
       " ('tsp2', 0.043942530073612804),\n",
       " ('rhogdi2', 0.043000969005224494),\n",
       " ('1α', 0.04242678125949959),\n",
       " ('nucleotide', 0.042141427379211734),\n",
       " ('sequence', 0.04214039492422873),\n",
       " ('fak', 0.04202138999956006),\n",
       " ('innate', 0.04198221223898748),\n",
       " ('formation', 0.041507813802964574),\n",
       " ('collagen', 0.04135087372525645),\n",
       " ('atrial', 0.04128688190453292),\n",
       " ('cdk2', 0.04125860734487443),\n",
       " ('mt1 mmp', 0.04070912463676751),\n",
       " ('meningioma', 0.04037677126750782),\n",
       " ('rhogap', 0.0396684808760319),\n",
       " ('ccn1', 0.039496633046272024),\n",
       " ('digly', 0.039468234526180396),\n",
       " ('fusion', 0.03944929559886624),\n",
       " ('dock8', 0.039385509651343964),\n",
       " ('pi kinase', 0.03936113617367713),\n",
       " ('controls', 0.03915400821199335),\n",
       " ('pka', 0.039003739505961574),\n",
       " ('jurkat', 0.03896165957054991),\n",
       " ('lta', 0.03891333803080356),\n",
       " ('mt1', 0.03874461409761504),\n",
       " ('vav1', 0.038644224683977955),\n",
       " ('hgf', 0.03858424077823517),\n",
       " ('internalization', 0.03805669663681727),\n",
       " ('cortactin', 0.037990972183323465),\n",
       " ('yeast', 0.03779568908486589),\n",
       " ('y2h', 0.03775746468544831),\n",
       " ('leukemia', 0.037672087148421116),\n",
       " ('rhoa rac1', 0.03761871634903423),\n",
       " ('identify', 0.03760971606252097),\n",
       " ('rhogdi', 0.03724802608002106),\n",
       " ('nox5', 0.03722662725952386),\n",
       " ('immunity', 0.037171575537813764),\n",
       " ('liver', 0.03694725515648911),\n",
       " ('dn', 0.03681821394278545),\n",
       " ('zebov', 0.036597313913992645),\n",
       " ('network', 0.036444150722925325),\n",
       " ('jun', 0.03634197021214388),\n",
       " ('eed', 0.035931742148661606),\n",
       " ('ibd', 0.03560180706573227),\n",
       " ('1alpha', 0.0355091060936955),\n",
       " ('mda', 0.03516078973143468),\n",
       " ('ilk', 0.03511279416458306),\n",
       " ('kras', 0.03495215601311585),\n",
       " ('pip3', 0.034511644996769265),\n",
       " ('motility', 0.03443189313471419),\n",
       " ('binds', 0.0342478089403812),\n",
       " ('binding', 0.03373881333400147),\n",
       " ('small gtpase', 0.033124745240230666),\n",
       " ('tat', 0.033004758422727876),\n",
       " ('torc2', 0.03271874764910593),\n",
       " ('dna', 0.03263174892492359),\n",
       " ('invasive', 0.03260709555273325),\n",
       " ('dock7', 0.032449235918525554),\n",
       " ('mir 124', 0.03244303877589036),\n",
       " ('pancreatic cancer', 0.0320653467573329),\n",
       " ('sfrp', 0.03169250797834563),\n",
       " ('rho gtpase', 0.031655678391204915),\n",
       " ('14 3ζ', 0.031450427515770776),\n",
       " ('3ζ', 0.031450427515770776),\n",
       " ('p38', 0.031411271237745744),\n",
       " ('knock', 0.03131193900948513),\n",
       " ('motif', 0.031177518298016363),\n",
       " ('mm', 0.031054496040082657),\n",
       " ('fibronectin', 0.030966667365816217),\n",
       " ('βpix', 0.030414325081330133),\n",
       " ('v12', 0.03035653815101677),\n",
       " ('grb2', 0.030204206057581628),\n",
       " ('human', 0.030199346098436),\n",
       " ('ubiquitin', 0.030011311706388766),\n",
       " ('cellular', 0.029946886704226478),\n",
       " ('coronin 1c', 0.029688562000831205),\n",
       " ('e5', 0.02966659066577676),\n",
       " ('coronin', 0.02966321542455329),\n",
       " ('exchange factor', 0.029382732601370545),\n",
       " ('phagocytic', 0.029371349266960552),\n",
       " ('junctions', 0.02933011530559981),\n",
       " ('pi', 0.028730907406303324),\n",
       " ('previously', 0.02864559523924255),\n",
       " ('nox2', 0.028587933872386416),\n",
       " ('proteomic', 0.028511624674826538),\n",
       " ('permeability', 0.028499385953599098),\n",
       " ('antigen', 0.02842657294250135),\n",
       " ('rac2', 0.02838799060500865),\n",
       " ('nos1', 0.02800838957952772),\n",
       " ('immunoreactivity', 0.027932097411104525),\n",
       " ('essential', 0.02780420091900546),\n",
       " ('vec', 0.027630770337512812),\n",
       " ('identified', 0.027543725246719424),\n",
       " ('activation rac1', 0.0272147692169875),\n",
       " ('cytoplasmic', 0.026981675494376956),\n",
       " ('src', 0.026879982549783837),\n",
       " ('gtpase rac1', 0.026757719987982254),\n",
       " ('stat3', 0.026326442097333966),\n",
       " ('assembly', 0.026317432670428624),\n",
       " ('transfected', 0.026221743978613887),\n",
       " ('aj', 0.025664580482664314),\n",
       " ('invasion', 0.025644840830538997),\n",
       " ('sh3', 0.025464883991775066),\n",
       " ('rho gtpases', 0.025429630542801118),\n",
       " ('inhibition', 0.025157629262764655),\n",
       " ('novel', 0.02509044216740874),\n",
       " ('iv', 0.025046349514416023),\n",
       " ('knock cells', 0.024722311906035077),\n",
       " ('guanosine', 0.02470782103676491),\n",
       " ('p66shc', 0.02461752814235518),\n",
       " ('rac1 rac2', 0.0244560982586639),\n",
       " ('p27', 0.02436542124684091),\n",
       " ('polarity', 0.0240393668710278),\n",
       " ('rac1 activity', 0.024025586754085112),\n",
       " ('depletion', 0.023994671613852242),\n",
       " ('wnt5a', 0.023925749074542143),\n",
       " ('thrombin induced', 0.023906044277593835),\n",
       " ('htt', 0.023828667452046415),\n",
       " ('wild', 0.023788506910093567),\n",
       " ('hif 1alpha', 0.02356854974798571),\n",
       " ('process', 0.023548524842693746),\n",
       " ('ect2', 0.023264946956959617),\n",
       " ('molecules', 0.023224835767189866),\n",
       " ('metastasis', 0.023220820577175737),\n",
       " ('set', 0.023215464953241855),\n",
       " ('genetic', 0.02319517740947015),\n",
       " ('wild type', 0.023153134008382682),\n",
       " ('supplementary', 0.02311877833098524),\n",
       " ('cxcl8', 0.02304530977828437),\n",
       " ('pancreatic', 0.02281119797964666),\n",
       " ('integrins', 0.02280581798468821),\n",
       " ('pkcα', 0.02244992811908462),\n",
       " ('tem5', 0.022447833575297282),\n",
       " ('cell surface', 0.02242781703661839),\n",
       " ('myd88', 0.022305571503684122),\n",
       " ('sema5a', 0.022277870789730515),\n",
       " ('engagement', 0.022182006058950064),\n",
       " ('underlying', 0.02209546642769122),\n",
       " ('barrier', 0.021930642021353523),\n",
       " ('autism', 0.02191995925068183),\n",
       " ('cdna', 0.021876945552437844),\n",
       " ('mb', 0.02180195820948653),\n",
       " ('ubiquitination', 0.02179966832791386),\n",
       " ('subjects', 0.02174788054242913),\n",
       " ('molecule', 0.021697224634553983),\n",
       " ('active rac1', 0.021632847154140444),\n",
       " ('nih3t3', 0.021544056048947706),\n",
       " ('pd', 0.02152991251543415),\n",
       " ('lymphocytes', 0.021504623548912364),\n",
       " ('understanding', 0.021284177604780317),\n",
       " ('membrane', 0.021228539194300563),\n",
       " ('phagocytosis', 0.02116382314033173),\n",
       " ('sequences', 0.021047391032285864),\n",
       " ('junction', 0.021040399641936193),\n",
       " ('caveolin', 0.020960146786391784),\n",
       " ('surface', 0.020841332753073993),\n",
       " ('pi3ks', 0.02083258313102381),\n",
       " ('pyk2', 0.020806518493762343),\n",
       " ('cross talk', 0.020604952270767522),\n",
       " ('talk', 0.020604952270767522),\n",
       " ('using', 0.02052251709028873),\n",
       " ('oxidative', 0.020505036286350253),\n",
       " ('upar', 0.020485141923817025),\n",
       " ('ubiquitinated', 0.02048475998955216),\n",
       " ('gps', 0.02048434038422736),\n",
       " ('ra fls', 0.020479093445853545),\n",
       " ('class', 0.02041155974081153),\n",
       " ('exchange', 0.020152473142486454),\n",
       " ('proteomics', 0.020127058692613362),\n",
       " ('intake', 0.020033149758172733),\n",
       " ('guanine', 0.019914386516719215),\n",
       " ('ruffling', 0.01979642375009938),\n",
       " ('expressed', 0.019750310199278153),\n",
       " ('vegf expression', 0.01955681683110888),\n",
       " ('apoptotic cells', 0.01945334403106939),\n",
       " ('map', 0.019251254552508375),\n",
       " ('signals', 0.01923746925649908),\n",
       " ('based', 0.019139256979612666),\n",
       " ('approach', 0.018946676745493087),\n",
       " ('polymorphisms', 0.01883008880724273),\n",
       " ('actin assembly', 0.018748767273919883),\n",
       " ('focal', 0.01869339908892024),\n",
       " ('identification', 0.01867072705520121),\n",
       " ('001', 0.018648851505037884),\n",
       " ('rpe cells', 0.018522501214784885),\n",
       " ('ps', 0.018470744897555527),\n",
       " ('pkcε', 0.01839790207718945),\n",
       " ('gdp', 0.0182634426003109),\n",
       " ('hepatic', 0.01822118909398534),\n",
       " ('knockdown', 0.018171349215046966),\n",
       " ('innate immunity', 0.01816161890853653),\n",
       " ('secretion', 0.018136250465746864),\n",
       " ('supplemental', 0.01778658842459498),\n",
       " ('hiv tat', 0.017638346556396577),\n",
       " ('killing', 0.01748387789922201),\n",
       " ('plc', 0.017358434486541455),\n",
       " ('function', 0.017339896136276334),\n",
       " ('guanine nucleotide', 0.017304454245122253),\n",
       " ('cytosolic', 0.017224866552834457),\n",
       " ('nadph', 0.017156641688460775),\n",
       " ('wnt', 0.017091217479662517),\n",
       " ('sp', 0.016964170364102294),\n",
       " ('filopodia', 0.016875281798859165),\n",
       " ('rpe', 0.01681073835692372),\n",
       " ('sew2871', 0.016760566664748257),\n",
       " ('plexin b1', 0.016746320049536915),\n",
       " ('il induced', 0.01673393432301101),\n",
       " ('10a', 0.016396861582968977),\n",
       " ('mcp', 0.016292450719778244),\n",
       " ('pai', 0.016252342812473567),\n",
       " ('cbap', 0.016190984276892428),\n",
       " ('pathway', 0.01600850802853722),\n",
       " ('r1881', 0.01592774902308085),\n",
       " ('dominant negative', 0.015868995219207014),\n",
       " ('mc', 0.015847271400778056),\n",
       " ('genomic', 0.01584704772312995),\n",
       " ('transfection', 0.01580747733041345),\n",
       " ('urine', 0.015712077774307453),\n",
       " ('srgp', 0.01571150861516083),\n",
       " ('ad', 0.015710349700715217),\n",
       " ('gdi', 0.015623463724461882),\n",
       " ('oxidative stress', 0.015612271424510877),\n",
       " ('generation', 0.015562382393116785),\n",
       " ('metformin', 0.015560497824882507),\n",
       " ('bait', 0.015548925059886117),\n",
       " ('flna', 0.015356750459884723),\n",
       " ('mouse', 0.015295664106856977),\n",
       " ('ldl', 0.014822672937428848),\n",
       " ('erk2', 0.014815174646760354),\n",
       " ('p70s6k1', 0.014759900436732507),\n",
       " ('interaction', 0.014667114218613053),\n",
       " ('b23', 0.014639263832465863),\n",
       " ('hesc', 0.014631669324006263),\n",
       " ('phorbol', 0.014547832864229494),\n",
       " ('hybrid', 0.014469737037411655),\n",
       " ('subphenotypes', 0.014464833333729808),\n",
       " ('60 cells', 0.01444973988070071),\n",
       " ('role', 0.014438962260684533),\n",
       " ('receptors', 0.014411006609396268),\n",
       " ('cdnas', 0.014358653983890947),\n",
       " ('expression', 0.014312788750190044),\n",
       " ('htsmcs', 0.0141570921423991),\n",
       " ('peptides', 0.014123165522057342),\n",
       " ('important role', 0.014112807807552979),\n",
       " ('ifnγ', 0.01405787827023577),\n",
       " ('healthy', 0.014034425605422347),\n",
       " ('transgenic', 0.014026974915707714),\n",
       " ('eps8', 0.014025489228184453),\n",
       " ('homing', 0.014012479951942778),\n",
       " ('diseases', 0.013927738035500422),\n",
       " ('gst', 0.013902357168834156),\n",
       " ('vitreous', 0.013708639886622001),\n",
       " ('induced', 0.013647499473476087),\n",
       " ('lead', 0.013628646533937357),\n",
       " ('small gtp', 0.013608939318467987),\n",
       " ('pdz rhogef', 0.013590456548030368),\n",
       " ('mir 512', 0.013543801039710408),\n",
       " ('translocation', 0.013529458623439109),\n",
       " ('124', 0.013463875650364781),\n",
       " ('gly', 0.013445843638601952),\n",
       " ('dna methylation', 0.013360701981525749),\n",
       " ('pdz', 0.01330563566414309),\n",
       " ('hiv infection', 0.01329668226656683),\n",
       " ('contacts', 0.01321777548800453),\n",
       " ('cascade', 0.013176052912617938),\n",
       " ('dock180', 0.01307904424015042),\n",
       " ('rho gdi', 0.013077947535265994),\n",
       " ('op18', 0.012957277509108614),\n",
       " ('distribution', 0.012949841083939246),\n",
       " ('facilitates', 0.01290588934643674),\n",
       " ('g12v', 0.012794367497524975),\n",
       " ('gfp', 0.012775908670638348),\n",
       " ('apoptotic cell', 0.0127308355625043),\n",
       " ('cytotoxicity', 0.012688847670565528),\n",
       " ('map kinase', 0.012684357576186672),\n",
       " ('replication', 0.012644932274629286),\n",
       " ('p110α', 0.012623422119748928),\n",
       " ('important', 0.012599745011492403),\n",
       " ('marcks', 0.012597107911613364),\n",
       " ('dcs', 0.012537962865970727),\n",
       " ('nad', 0.012412603389312509),\n",
       " ('mbp', 0.012395382513927133),\n",
       " ('snps', 0.012392635050117664),\n",
       " ('inhibitory', 0.012368533737116449),\n",
       " ('receptor activation', 0.01229611054368631),\n",
       " ('induces', 0.012259684168199798),\n",
       " ('pharmacological', 0.012241840272533295),\n",
       " ('cancer', 0.012235320550250096),\n",
       " ('nih3t3 cells', 0.012214196740341693),\n",
       " ('clearance', 0.012204483010158572),\n",
       " ('vsmc', 0.012170139045170888),\n",
       " ('metastatic', 0.012143230810205954),\n",
       " ('n17rac1', 0.012000362167650913),\n",
       " ('sema3f', 0.011878900284227832),\n",
       " ('td 60', 0.011827374037866743),\n",
       " ('erk1', 0.011814672334078513),\n",
       " ('ntr', 0.011785547786218889),\n",
       " ('candidate', 0.011739105475305505),\n",
       " ('pairs', 0.011664535410199288),\n",
       " ('ubiquitylation sites', 0.011606618994677307),\n",
       " ('nt', 0.011559056211678565),\n",
       " ('invasion metastasis', 0.011457876493945408),\n",
       " ('p75 ntr', 0.011384193379712327),\n",
       " ('fip3', 0.011357917383964168),\n",
       " ('wnt signaling', 0.011313382963316146),\n",
       " ('yeast hybrid', 0.011312009892505213),\n",
       " ('cycle progression', 0.01126084364422455),\n",
       " ('27b', 0.011242543141861981),\n",
       " ('insulin resistance', 0.01117147715118021),\n",
       " ('microtubule', 0.011060152887086111),\n",
       " ('variable', 0.011042694080933396),\n",
       " ('approximately', 0.010992372795085312),\n",
       " ('nci', 0.010988690691238912),\n",
       " ('airway', 0.01098528474635292),\n",
       " ('shown', 0.010907209715227498),\n",
       " ('env', 0.010901044348487843),\n",
       " ('homologous', 0.010869657768262755),\n",
       " ('mass spectrometry', 0.010833688874941927),\n",
       " ('bone marrow', 0.010816808658203728),\n",
       " ('smo', 0.010753525412065717),\n",
       " ('512 3p', 0.010707259848275986),\n",
       " ('spectrometry', 0.010660845110206145),\n",
       " ('nitric oxide', 0.010628251437463593),\n",
       " ('nitric', 0.01058684296483498),\n",
       " ('proximal', 0.010550441803380651),\n",
       " ('esc', 0.010537745775803348),\n",
       " ('ras g12v', 0.010530001857811746),\n",
       " ('remain', 0.010462278428247386),\n",
       " ('dysfunction', 0.01044755298992495),\n",
       " ('flag', 0.010408979907515459),\n",
       " ('retrovirus', 0.010390504155979897),\n",
       " ('coronary', 0.010372220079324175),\n",
       " ('itsn', 0.010340955497256997),\n",
       " ('aggregation', 0.010325087730043358),\n",
       " ('invade', 0.010323009884665045),\n",
       " ('activate', 0.01026647575165933),\n",
       " ('oxide', 0.010202498580515041),\n",
       " ('events', 0.010183453374917379),\n",
       " ('sp cells', 0.010177153565380221),\n",
       " ('epidermal', 0.010158248991947663),\n",
       " ('marrow', 0.010091815472868158),\n",
       " ('propose', 0.010079823316107222),\n",
       " ('endogenous', 0.010055064462566373),\n",
       " ('healing', 0.009992289429142409),\n",
       " ('prenylation', 0.009974117845307235),\n",
       " ('resulting', 0.009969482696193839),\n",
       " ('maps', 0.009946798727518828),\n",
       " ('dhl', 0.009902729773324624),\n",
       " ('residues', 0.009874830985182164),\n",
       " ('impaired', 0.009769718135422946),\n",
       " ('vasp', 0.00972034444703042),\n",
       " ('cdc42 rac1', 0.009685963193646016),\n",
       " ('initiated', 0.009672555683135728),\n",
       " ('cell receptor', 0.009672493356258598),\n",
       " ('nucleotide exchange', 0.009656005232409951),\n",
       " ('cell adhesion', 0.009655175188563268),\n",
       " ('junctional', 0.00964425248825214),\n",
       " ('ha', 0.009594460457510386),\n",
       " ('elicited', 0.00946431064723462),\n",
       " ('mcak', 0.009458291835982317),\n",
       " ('platelet', 0.0094239118708518),\n",
       " ('bile', 0.00942362673904087),\n",
       " ('tumor cells', 0.009415545736463424),\n",
       " ('β2', 0.009374492350895944),\n",
       " ('rac1 signaling', 0.009332686441934603),\n",
       " ('recruited', 0.00931923924128352),\n",
       " ('sas', 0.009255873100387413),\n",
       " ('mln4924', 0.009211894865947003),\n",
       " ('unlike', 0.00919013464068777),\n",
       " ('membranes', 0.009182285800317462),\n",
       " ('innate immune', 0.00917263273912276),\n",
       " ('effector', 0.009136523685329941),\n",
       " ('barrier function', 0.00911178833197133),\n",
       " ('dendritic', 0.009050679934256994),\n",
       " ('carboxyl', 0.009050442080494036),\n",
       " ('ccn2', 0.009000855524193637),\n",
       " ('adhesion kinase', 0.009000792452400166),\n",
       " ('hek293', 0.008997152917478182),\n",
       " ('artery', 0.008983927021474422),\n",
       " ('immune', 0.008981167518695569),\n",
       " ('coding', 0.00895740952064868),\n",
       " ('highly', 0.008944532142112969),\n",
       " ('elongation', 0.008936789997669175),\n",
       " ('oxygen species', 0.008904844361351529),\n",
       " ('specifically', 0.008843726881632201),\n",
       " ('spanning', 0.008830332723827872),\n",
       " ('dependent activation', 0.00878041500193981),\n",
       " ('leukocytes', 0.008733659671460038),\n",
       " ('gtp bound', 0.008710928203253443),\n",
       " ('mmp3', 0.008681902436463785),\n",
       " ('enhancement', 0.008667630714871808),\n",
       " ('resveratrol', 0.008629053596286603),\n",
       " ('current', 0.008606144523083436),\n",
       " ('gmp', 0.008602512042958338),\n",
       " ('rich', 0.008599571221074985),\n",
       " ('taken', 0.008584619283767305),\n",
       " ('mb 231', 0.008562911491998247),\n",
       " ('fbab', 0.00855487278984958),\n",
       " ('epithelium', 0.008548383258229755),\n",
       " ('physical', 0.008527461985876884),\n",
       " ('driven', 0.008503768201737332),\n",
       " ('115', 0.008478431651918106),\n",
       " ('coronary artery', 0.008435062333719698),\n",
       " ('cell polarity', 0.008432160288610055),\n",
       " ('beads', 0.008424334441047768),\n",
       " ('tagged', 0.008405528267810318),\n",
       " ('targeting', 0.008326884214279644),\n",
       " ('binding domain', 0.008279765202792529),\n",
       " ('respiratory', 0.008269541247013021),\n",
       " ('supplemental figure', 0.008072166365680325),\n",
       " ('somatic', 0.0080674139720082),\n",
       " ('molecular mechanisms', 0.008064265915050661),\n",
       " ('sites', 0.008063142468208903),\n",
       " ('lamellipodia', 0.008053167282441783),\n",
       " ('sema3c', 0.008046304941973417),\n",
       " ('cytoplasmic domain', 0.008025220509541133),\n",
       " ('described', 0.00802435338648657),\n",
       " ('isothiocyanate', 0.007994134176632377),\n",
       " ('aexu', 0.00797513813717709),\n",
       " ('myc', 0.007941552613951446),\n",
       " ('macropinocytosis', 0.007921046300209691),\n",
       " ('al', 0.007885710899666077),\n",
       " ('required', 0.007885248871657627),\n",
       " ('stathmin', 0.007854349100260082),\n",
       " ('functionally', 0.007835010423655607),\n",
       " ('polymorphism', 0.007833436507841449),\n",
       " ('kalirin', 0.007815707647537681),\n",
       " ('reactive oxygen', 0.007742317551477518),\n",
       " ('itsn 1s', 0.00773654199798419),\n",
       " ('cells results', 0.007622991110502811),\n",
       " ('sarcoma', 0.007518538365150011),\n",
       " ('transplantation', 0.007475042661448391),\n",
       " ('fdr', 0.007443042393887618),\n",
       " ('gef activity', 0.007437569425219722),\n",
       " ('ho', 0.007412067802880237),\n",
       " ('nectin', 0.007368963039958793),\n",
       " ('mdck', 0.007317437629337578),\n",
       " ('bound', 0.0072958431282564235),\n",
       " ('involving', 0.007291664774434484),\n",
       " ('ter', 0.007235755909822461),\n",
       " ('23b 27b', 0.007206265708084709),\n",
       " ('validated', 0.007163551826713954),\n",
       " ('colon', 0.007131877392755278),\n",
       " ('candidate genes', 0.007110248666611471),\n",
       " ('focal adhesion', 0.0070619967885762),\n",
       " ('cdc42 rhoa', 0.007051251415549898),\n",
       " ('nos2', 0.007042189772145327),\n",
       " ('forms', 0.006991936270090967),\n",
       " ('b1', 0.006990731940082651),\n",
       " ('10a erbb2', 0.006980506888901755),\n",
       " ('mediators', 0.006973327655986217),\n",
       " ('directed', 0.0069512036785383995),\n",
       " ('baits', 0.00694650275817448),\n",
       " ('pcna', 0.006921017563928596),\n",
       " ('sos1', 0.006873136015568805),\n",
       " ('et al', 0.00686705574941171),\n",
       " ('c3', 0.006861709728920033),\n",
       " ('nos', 0.006840994190261359),\n",
       " ('dbl', 0.006837610529361065),\n",
       " ('epidermal growth', 0.00680737771193734),\n",
       " ('hospital', 0.006803221430341374),\n",
       " ('512', 0.006771187675411202),\n",
       " ('hpv', 0.006760901371455843),\n",
       " ('staining', 0.006757341692189546),\n",
       " ('findings', 0.006748181455693626),\n",
       " ('phosphoinositides', 0.006736606287159734),\n",
       " ('lymph', 0.006735169151440593),\n",
       " ('precise', 0.006703344332465116),\n",
       " ('type cells', 0.0066974070313291605),\n",
       " ('fls', 0.006635589180873805),\n",
       " ('bay11', 0.006622745527109128),\n",
       " ('dorsal', 0.006617627416228051),\n",
       " ('smggds', 0.006614550754833543),\n",
       " ('salmonella', 0.006610084452491686),\n",
       " ('plasma', 0.006591888447881252),\n",
       " ('endocytosis', 0.00654159318084871),\n",
       " ('assays', 0.006539122022076843),\n",
       " ('type', 0.006522814427967373),\n",
       " ('human lung', 0.006477130423604407),\n",
       " ('cells migrated', 0.006471122372254692),\n",
       " ('gel', 0.00646879805339804),\n",
       " ('migrated', 0.006420668244454476),\n",
       " ('vegf', 0.006408495715230089),\n",
       " ('pix', 0.006406582575494956),\n",
       " ('7082', 0.0063985949456537156),\n",
       " ('tlr2', 0.006392618555270654),\n",
       " ('differential', 0.006386241391320173),\n",
       " ('activates', 0.006373919100091132),\n",
       " ('crib', 0.006335134660679389),\n",
       " ('dp', 0.006303849859394509),\n",
       " ('cd147', 0.00627748439244753),\n",
       " ('modified', 0.006267034072364308),\n",
       " ('protein complexes', 0.00626331288889464),\n",
       " ('observations', 0.00625632614412513),\n",
       " ('231', 0.006192509327411784),\n",
       " ('organelles', 0.006153422666386984),\n",
       " ('mediated apoptosis', 0.0061193137538965514),\n",
       " ('hiv entry', 0.00608735001960618),\n",
       " ('dock2', 0.0060803394724862755),\n",
       " ('mts', 0.006051345408774466),\n",
       " ('actin cytoskeletal', 0.006049879597686346),\n",
       " ('filament', 0.006039828941765352),\n",
       " ('actin filament', 0.006038055672687159),\n",
       " ('directional', 0.0060199899680502995),\n",
       " ('jun terminal', 0.005981329732336405),\n",
       " ('bay11 7082', 0.005966454298325702),\n",
       " ('cell shape', 0.005953951095207025),\n",
       " ('tipe2', 0.005942910110955934),\n",
       " ('bm', 0.005929337750231642),\n",
       " ('activated rac1', 0.005914551164532541),\n",
       " ('mapk pathways', 0.005905328618494586),\n",
       " ('td', 0.005899625342090774),\n",
       " ('cd8', 0.005841106590292143),\n",
       " ('collagen expression', 0.005823444892102193),\n",
       " ('dynamin', 0.00580402357248656),\n",
       " ('mapk erk', 0.00579257336554953),\n",
       " ('high levels', 0.005785468737388073),\n",
       " ('protein interaction', 0.005785415304146695),\n",
       " ('hybridization', 0.0057834918984928105),\n",
       " ('common', 0.005771830432604548),\n",
       " ('gaps', 0.005770116786281938),\n",
       " ('dominant', 0.005733918478010866),\n",
       " ('serine phosphorylation', 0.005723734335907564),\n",
       " ('bacteria', 0.005715100101718417),\n",
       " ('vessel', 0.005706183287855687),\n",
       " ('regulation', 0.0056988298324655625),\n",
       " ('mlk3', 0.005688380808631716),\n",
       " ('inhibition rac1', 0.00568791762030483),\n",
       " ('adherens', 0.0056600775725103225),\n",
       " ('stem cell', 0.005655953651217714),\n",
       " ('ap', 0.0056496561780630065),\n",
       " ('bar domain', 0.005639853077923057),\n",
       " ('cell morphology', 0.005628305661066379),\n",
       " ('laminin', 0.005609511853085799),\n",
       " ('1s', 0.005607944700418022),\n",
       " ('h2', 0.005573975696509812),\n",
       " ('muscle invasive', 0.005550180739376854),\n",
       " ('troy', 0.0055066854586714705),\n",
       " ('lung epithelial', 0.005503082902499582),\n",
       " ('immunodeficiency', 0.0054730277359887015),\n",
       " ('v12rac1', 0.005460632209116069),\n",
       " ('movement', 0.005454266593303879),\n",
       " ('transcripts', 0.005446498311323664),\n",
       " ('kinase activation', 0.005443486767368354),\n",
       " ('adenovirus', 0.005387148532587528),\n",
       " ('glioblastoma', 0.005366657973018925),\n",
       " ('define', 0.0053501721126900095),\n",
       " ('indicating', 0.005306907124096307),\n",
       " ('particles', 0.0053006249320654095),\n",
       " ('cd80 cd86', 0.005293001303206585),\n",
       " ('associated proteins', 0.005290005410790623),\n",
       " ('expression rac1', 0.005245646759920363),\n",
       " ('esft', 0.0052268145561896575),\n",
       " ('transendothelial', 0.005220415588557029),\n",
       " ('tyrosine kinases', 0.005192887601529198),\n",
       " ('ubiquitylated', 0.005158625762896821),\n",
       " ('shape', 0.005149990453514948),\n",
       " ('cd81', 0.005146065444045243),\n",
       " ('cyclic', 0.005119472463651535),\n",
       " ('ors', 0.005094586974257734),\n",
       " ('cd86', 0.0050817455363424855),\n",
       " ('poorly', 0.005069463904943635),\n",
       " ('wound healing', 0.005066526116909007),\n",
       " ('family small', 0.005025620529925341),\n",
       " ('vav2', 0.005020542537791017),\n",
       " ('differentiation', 0.005019731131640566),\n",
       " ('features', 0.004988002490543839),\n",
       " ('tissue microarray', 0.004961526514079956),\n",
       " ('data set', 0.004951022304996623),\n",
       " ('direct interaction', 0.004948838279548571),\n",
       " ('endothelial cells', 0.004943094692597835),\n",
       " ('actin reorganization', 0.004924307622878195),\n",
       " ('logistic', 0.00490506181693724),\n",
       " ('kaposi', 0.0048996414674474225),\n",
       " ('expressing', 0.004889714700284606),\n",
       " ('highly conserved', 0.004882272039373651),\n",
       " ('conversely', 0.004877337982978708),\n",
       " ('trisphosphate', 0.004866358226309253),\n",
       " ('contraction', 0.004846566246483192),\n",
       " ('therapeutic intervention', 0.004832737625157615),\n",
       " ('signalling', 0.004810484322572015),\n",
       " ('tumor cell', 0.004808075378147319),\n",
       " ('support', 0.004801971909450752),\n",
       " ('α5', 0.0047714490254005),\n",
       " ('sirna targeting', 0.00471649812936961),\n",
       " ('transgenic mice', 0.004692024436350045),\n",
       " ('23b', 0.004672563339251344),\n",
       " ('remains unclear', 0.004639383202876327),\n",
       " ('reactive', 0.004557727407844425),\n",
       " ('slit2n', 0.004525562753308691),\n",
       " ('logistic regression', 0.0045074814173842554),\n",
       " ('temporal', 0.0045007568639144156),\n",
       " ('subunit', 0.004500517043528864),\n",
       " ('results provide', 0.004486802662890601),\n",
       " ('hras', 0.004446786572793779),\n",
       " ('protein mrna', 0.0044410983285642575),\n",
       " ('dramatically', 0.004419682781011331),\n",
       " ('structures', 0.004349308686684758),\n",
       " ('conditioned medium', 0.004335852861279513),\n",
       " ('previously shown', 0.0042882598461981315),\n",
       " ('cihps', 0.004258614687201975),\n",
       " ('checkpoint', 0.00425718334139369),\n",
       " ('upa', 0.004255015047483455),\n",
       " ('pull', 0.004240149198609161),\n",
       " ('vinculin', 0.004239653132941826),\n",
       " ('ii et', 0.0042364774513347775),\n",
       " ('dendritic cells', 0.004235337326533667),\n",
       " ('epithelial cells', 0.004221628976080657),\n",
       " ('signaling events', 0.0041926285097096515),\n",
       " ('proline', 0.004173834243918105),\n",
       " ('cell contacts', 0.004160768460884263),\n",
       " ('multiple comparisons', 0.0041374512360847),\n",
       " ('altering', 0.004088434267758463),\n",
       " ('binding protein', 0.004079540282821639),\n",
       " ('somatic mutations', 0.004071538874420954),\n",
       " ('lamellipodial', 0.004029261711213534),\n",
       " ('lo', 0.004026268534470859),\n",
       " ('hi ii', 0.004015075015117215),\n",
       " ('ii 14', 0.004015075015117215),\n",
       " ('induction apoptosis', 0.004005907113574557),\n",
       " ('neuron', 0.003999236741033007),\n",
       " ('medicine', 0.003971626942150232),\n",
       " ('investigated role', 0.003964312874152429),\n",
       " ('serve', 0.0039593513059680745),\n",
       " ('taken data', 0.003956520660473731),\n",
       " ('transformed', 0.003938186237110746),\n",
       " ('product', 0.003936460536763847),\n",
       " ('cd80', 0.00393407378204811),\n",
       " ('cell invasion', 0.003925788487852589),\n",
       " ('lck', 0.003921815924276717),\n",
       " ('activating protein', 0.003910316511128611),\n",
       " ('podocyte', 0.003900100660689968),\n",
       " ('retraction', 0.003897590127615478),\n",
       " ('oral', 0.0038733455045904673),\n",
       " ('expression dominant', 0.003863424676552841),\n",
       " ('1998', 0.0038535062689350353),\n",
       " ('rac1 gtp', 0.003848241286872643),\n",
       " ('deficient cells', 0.003844665618743975),\n",
       " ('review', 0.0038445908322667483),\n",
       " ('modulators', 0.0038363155357727147),\n",
       " ('study investigated', 0.0037793031215573353),\n",
       " ('ms analysis', 0.0037784496690676708),\n",
       " ('complex', 0.0037654087896358437),\n",
       " ('melanoma', 0.0037307649351554376),\n",
       " ('podocytes', 0.0037035825331350352),\n",
       " ('hek293 cells', 0.00367445618848107),\n",
       " ('inducible', 0.0036476382278558058),\n",
       " ('proline rich', 0.0036450333059744136),\n",
       " ('atr', 0.0036150477770019833),\n",
       " ('recurrent', 0.003608700358215478),\n",
       " ('ectopic', 0.003604805341583024),\n",
       " ('polarization', 0.0035970338929350457),\n",
       " ('false', 0.003584217690673167),\n",
       " ('termed', 0.003542426194829231),\n",
       " ('aurora', 0.0035231622957503017),\n",
       " ('information', 0.003522259167028352),\n",
       " ('stimulation', 0.0035195015522602163),\n",
       " ('imddcs', 0.0035135240123937575),\n",
       " ('psd', 0.003507053477173907),\n",
       " ('developmental', 0.003476520584019721),\n",
       " ('lung', 0.003459073723340849),\n",
       " ('c1', 0.0034468556480186517),\n",
       " ('concentrated', 0.0034459297297501517),\n",
       " ('national', 0.0034415334252617578),\n",
       " ('kb', 0.003425673883081896),\n",
       " ('trail r2', 0.003410138212955827),\n",
       " ('heavy', 0.0034097639501358894),\n",
       " ('gbs', 0.0034000899206480767),\n",
       " ('candidates', 0.003375038570645721),\n",
       " ('immunoprecipitated', 0.003355856335267704),\n",
       " ('egfp', 0.0033354498688807042),\n",
       " ('lysines', 0.00326634084176249),\n",
       " ('patient', 0.003262555608021848),\n",
       " ('p110', 0.003253613527666557),\n",
       " ('lsp1', 0.003242336531540982),\n",
       " ('cytochrome', 0.003242056177967908),\n",
       " ('dna repair', 0.003240033169817577),\n",
       " ('include', 0.0032180022902102787),\n",
       " ('matrix', 0.0032134475166504424),\n",
       " ('profiling', 0.003213028269055297),\n",
       " ('rbd', 0.003168795700590306),\n",
       " ('kinetics', 0.0031661103772455314),\n",
       " ('participate', 0.0031482681755590283),\n",
       " ('intercellular', 0.0031479459177239395),\n",
       " ('responsible', 0.0031460464938028085),\n",
       " ('leukocyte', 0.0031377432916305835),\n",
       " ('domains', 0.0031338135599627078),\n",
       " ('http', 0.0031126764510001435),\n",
       " ('etiology', 0.003104779107585249),\n",
       " ('mbl', 0.003093447760048961),\n",
       " ('g1', 0.0030771746098063237),\n",
       " ('aortic', 0.003072551618769711),\n",
       " ('systems', 0.0030511342520310554),\n",
       " ('studies demonstrated', 0.0030467501825966006),\n",
       " ('partner', 0.0030184169742482362),\n",
       " ('chain', 0.003002494071764173),\n",
       " ('digestion', 0.0030017059663302323),\n",
       " ('ccl2', 0.002991588931212391),\n",
       " ('efforts', 0.0029849398593767866),\n",
       " ('enhanced', 0.0029810464485566183),\n",
       " ('skin', 0.0029731431912498247),\n",
       " ('conducted', 0.0029727504304821375),\n",
       " ('early', 0.0029699795588838235),\n",
       " ('hif', 0.002944300796665503),\n",
       " ('kappab', 0.0029188172134003514),\n",
       " ('undergo', 0.00288450598694869),\n",
       " ('stabilization', 0.002870340543495631),\n",
       " ('pooled', 0.002866110258559955),\n",
       " ('cells study', 0.002851643304980232),\n",
       " ('engulfment', 0.002839428752400599),\n",
       " ('compromised', 0.0028146847914691485),\n",
       " ('activates rac1', 0.002801443274293439),\n",
       " ('trastuzumab', 0.002768917058106709),\n",
       " ('mdm', 0.0027611365274589823),\n",
       " ('ubiquitously', 0.00275963498282245),\n",
       " ('prc1', 0.002753938286000275),\n",
       " ('form', 0.002749269269061881),\n",
       " ('purification', 0.0027436765303213563),\n",
       " ('pro apoptotic', 0.002740139527041523),\n",
       " ('play important', 0.0027364824947341544),\n",
       " ('diversity', 0.002724650876292162),\n",
       " ('nsc', 0.0027087249103490453),\n",
       " ('lamellipodia formation', 0.002696636035423023),\n",
       " ('envelope', 0.002686701709295054),\n",
       " ('ikkα', 0.002675083017553689),\n",
       " ('integrity', 0.0026721201293948807),\n",
       " ('torc1', 0.002642595836980734),\n",
       " ('mmp expression', 0.002636180587867215),\n",
       " ('gene transcription', 0.0026340110283227633),\n",
       " ('immune response', 0.002630769075503361),\n",
       " ('keratinocytes', 0.002612622375149208),\n",
       " ('r2', 0.0025957701912281157),\n",
       " ('million', 0.0025915510722136245),\n",
       " ('depth', 0.002580671786522798),\n",
       " ('mechanistically', 0.002537360278662078),\n",
       " ('internalized', 0.002519838456831727),\n",
       " ('negative', 0.0025156938069693427),\n",
       " ('subject', 0.0025090285177655804),\n",
       " ('constitutively active', 0.0024972706277744715),\n",
       " ('apc', 0.002477451362742979),\n",
       " ('slowly', 0.0024437550842130156),\n",
       " ('induce', 0.002442456183943361),\n",
       " ('disease progression', 0.0024271600494600912),\n",
       " ('dimensional', 0.0024064034857451864),\n",
       " ('gpcr', 0.0023995615350814723),\n",
       " ('hiv infected', 0.0023947875173693646),\n",
       " ('related proteins', 0.002370511591909401),\n",
       " ('improve', 0.002349119410950688),\n",
       " ('transactivation', 0.0023392322324918263),\n",
       " ('proteome', 0.0023366813591017333),\n",
       " ('embryo', 0.002323944560501788),\n",
       " ('mir 23b', 0.0023213746379011145),\n",
       " ('ups', 0.002310541351097159),\n",
       " ('rna sirna', 0.00230952894736003),\n",
       " ('actin stress', 0.002305643309104253),\n",
       " ('www', 0.002305246868990212),\n",
       " ('concordance', 0.002295478408414917),\n",
       " ('phosphatidylinositol trisphosphate', 0.002284000970278403),\n",
       " ('al 2000', 0.0022762253505495215),\n",
       " ('coupled receptors', 0.0022760973985635705),\n",
       " ('occurs', 0.002268762362325606),\n",
       " ('mt growth', 0.002259818832226123),\n",
       " ('comparisons', 0.002214916443753755),\n",
       " ('mdck cells', 0.0022088971986984063),\n",
       " ('report', 0.0022010896811818846),\n",
       " ('ras related', 0.0021960055640703677),\n",
       " ('healthy controls', 0.002185704688407782),\n",
       " ('mapks', 0.0021852036409092035),\n",
       " ('variations', 0.002184805337859339),\n",
       " ('rt pcr', 0.0021687414258417894),\n",
       " ('clusters', 0.002168711659795307),\n",
       " ('migrating', 0.002145644573375307),\n",
       " ('ketorolac', 0.0021394273083780915),\n",
       " ('overexpressing cells', 0.0021194373828616157),\n",
       " ('advances', 0.0021172079508826646),\n",
       " ('platelet aggregation', 0.0020838154536074347),\n",
       " ('pi3k activation', 0.002080551608819154),\n",
       " ('global', 0.0020708170522329714),\n",
       " ('characterization', 0.002069156363858708),\n",
       " ('factor receptor', 0.002068259764256092),\n",
       " ('protein protein', 0.0020681113400694623),\n",
       " ('clones', 0.0020622850963533685),\n",
       " ('quality', 0.002050398855044074),\n",
       " ('actin filaments', 0.0020499675562639153),\n",
       " ('doxycycline', 0.00204677192326688),\n",
       " ('genotyped', 0.002044098345626217),\n",
       " ('kda', 0.0020357585888912126),\n",
       " ('leading activation', 0.002032362572755158),\n",
       " ('mechanisms underlying', 0.002028824150714053),\n",
       " ('node metastasis', 0.0020016937255670705),\n",
       " ('p85α', 0.0019999398304480784),\n",
       " ('general', 0.0019996719614774894),\n",
       " ('adhesion migration', 0.0019673618877314512),\n",
       " ('nucleotides', 0.0019341227749842796),\n",
       " ('gal4', 0.001933046049572754),\n",
       " ('bar', 0.0019320696931873103),\n",
       " ('il 23', 0.0019236563045347994),\n",
       " ('able', 0.0018651225526654816),\n",
       " ('triggered', 0.0018513405639057601),\n",
       " ('activate pi3k', 0.0018414276060765553),\n",
       " ('invading', 0.0018220323254759256),\n",
       " ('cd34 cells', 0.0018065851477302682),\n",
       " ('cell motility', 0.0017730299184850723),\n",
       " ('prc2', 0.0017670604659660535),\n",
       " ('accumulate', 0.0017648876521940342),\n",
       " ('gap activity', 0.0017619215596028977),\n",
       " ('tg mice', 0.0017421293613266637),\n",
       " ('computational', 0.001718341844745325),\n",
       " ('acini', 0.0016837317043615556),\n",
       " ('bias', 0.001679335276788265),\n",
       " ('tract', 0.0016768391282356956),\n",
       " ('10 nm', 0.0016686423025255063),\n",
       " ('nih', 0.0016600026674318845),\n",
       " ('primarily', 0.0016334901957943378),\n",
       " ('free', 0.001633095368968019),\n",
       " ('drosophila', 0.001632059878931662),\n",
       " ('consistently', 0.0016074640092012614),\n",
       " ('regulation cell', 0.001593194032487206),\n",
       " ('122', 0.0015851794022037076),\n",
       " ('org', 0.0015815793588850192),\n",
       " ('speed', 0.0015538209831334015),\n",
       " ('similar', 0.0015484272543345948),\n",
       " ('polarized', 0.0015423757921221675),\n",
       " ('sufficient', 0.0015364345138062885),\n",
       " ('nef mediated', 0.0015343464675582612),\n",
       " ('btz', 0.0015139523525440973),\n",
       " ('poor', 0.0015114074362315075),\n",
       " ('long', 0.0015003542046306503),\n",
       " ('cos', 0.001498601792119749),\n",
       " ('keratinocyte', 0.0014976736236310818),\n",
       " ('depend', 0.0014773617977301068),\n",
       " ('structurally', 0.0014491726186032525),\n",
       " ('figures', 0.0014377814748537813),\n",
       " ('terminal kinase', 0.0014361158507965417),\n",
       " ('forced', 0.0014262514895394777),\n",
       " ('stress fibers', 0.0014136424401912943),\n",
       " ('gtp levels', 0.0014045893550220271),\n",
       " ('http www', 0.001400662742870137),\n",
       " ('constitute', 0.0013847501095176986),\n",
       " ('correlates', 0.001369935214639086),\n",
       " ('bacterial', 0.0013642322615670115),\n",
       " ('lymph node', 0.0013335407699094147),\n",
       " ('isolated', 0.001323811398459816),\n",
       " ('extensive', 0.0013226730118904525),\n",
       " ('required activation', 0.0013197737912688597),\n",
       " ('58', 0.0013141559461475587),\n",
       " ('nmr', 0.001306937842581011),\n",
       " ('depleted', 0.0012903072537006044),\n",
       " ('mammals', 0.0012702016022548464),\n",
       " ('released', 0.0012652732264462352),\n",
       " ('hcc cell', 0.0012594994919302661),\n",
       " ('basement', 0.0012518869954071575),\n",
       " ('101', 0.00123504916963941),\n",
       " ('trans', 0.0012301377075536557),\n",
       " ('pkcι', 0.0012264666011846362),\n",
       " ('heterogeneous', 0.001222948155486682),\n",
       " ('negative rac1', 0.0012105078877033412),\n",
       " ('generate', 0.0012101502636323205),\n",
       " ('lifetime', 0.0012071362921252094),\n",
       " ('calmodulin', 0.0012066364853404571),\n",
       " ('vesicle', 0.0011892819563656617),\n",
       " ('nm', 0.001188215693767789),\n",
       " ('cos cells', 0.0011740720697546365),\n",
       " ('protein expression', 0.001170686518324222),\n",
       " ('retroviruses', 0.0011687624569236418),\n",
       " ('crl', 0.0011505650463955826),\n",
       " ('ruffles', 0.0011480796192660672),\n",
       " ('drive', 0.0011419143176276045),\n",
       " ('cancer institute', 0.0011183052808775025),\n",
       " ('67', 0.0010737540075197954),\n",
       " ('gmr', 0.0010730314391936902),\n",
       " ('caspase activation', 0.0010666893479688092),\n",
       " ('genetic variation', 0.001056046926990383),\n",
       " ('reveal', 0.0010552131145286768),\n",
       " ('epha2', 0.0010510078687096037),\n",
       " ('armus', 0.0010396359831100128),\n",
       " ('gmr gal4', 0.0010376435255460572),\n",
       " ('lit', 0.0010286327602783783),\n",
       " ('generating', 0.001026011834877848),\n",
       " ('enrichment', 0.0010042797351243191),\n",
       " ('gtpase activating', 0.0009997082407178493),\n",
       " ('generated', 0.000993851413177679),\n",
       " ('national cancer', 0.000989916070391823),\n",
       " ('distributed', 0.0009730749000416528),\n",
       " ('ecm', 0.0009706890159439986),\n",
       " ('estimated', 0.0009695631010071959),\n",
       " ('previously demonstrated', 0.0009554759769811339),\n",
       " ('irs 58', 0.000954797862102126),\n",
       " ('ct', 0.0009469276356233916),\n",
       " ('subsequently', 0.000944581365728863),\n",
       " ('data shown', 0.0009438237408699296),\n",
       " ('translocate', 0.0009278463464143314),\n",
       " ('lysine', 0.0009263729645421186),\n",
       " ('species', 0.0008982062345607147),\n",
       " ('length', 0.0008805014816108636),\n",
       " ('lysosome', 0.0008783885121699345),\n",
       " ('cellular signaling', 0.0008749500098327759),\n",
       " ('matrix ecm', 0.000864806411168055),\n",
       " ('contribution', 0.0008579903992322249),\n",
       " ('maintenance', 0.0008469696554932863),\n",
       " ('fibroblasts', 0.0008461510935831209),\n",
       " ('lysates', 0.0008441775342110156),\n",
       " ('filaments', 0.0008422746066604947),\n",
       " ...]"
      ]
     },
     "execution_count": 44,
     "metadata": {},
     "output_type": "execute_result"
    }
   ],
   "source": [
    "classifier.feature_importances()['FPLX:RAC']"
   ]
  },
  {
   "cell_type": "code",
   "execution_count": 46,
   "metadata": {},
   "outputs": [
    {
     "name": "stderr",
     "output_type": "stream",
     "text": [
      "WARNING: [2020-01-24 11:18:53] /Users/albertsteppi/adeft/adeft/download/download.py - Shortform TEC has multiple adeft modelsThis may lead to unexpected behavior\n",
      "WARNING: [2020-01-24 11:18:53] /Users/albertsteppi/adeft/adeft/download/download.py - Shortform EAG has multiple adeft modelsThis may lead to unexpected behavior\n"
     ]
    }
   ],
   "source": [
    "d = load_disambiguator('ALK', '../results')"
   ]
  },
  {
   "cell_type": "code",
   "execution_count": 47,
   "metadata": {},
   "outputs": [
    {
     "data": {
      "text/plain": [
       "'Disambiguation model for ALK\\n\\nProduces the disambiguations:\\n\\tALK*\\tHGNC:427\\n\\tAlkaline Phosphatase*\\tMESH:D000469\\n\\tRSTK1*\\tFPLX:RSTK1\\n\\nTraining data had class balance:\\n\\tALK*\\t1181\\n\\tRSTK1*\\t155\\n\\tAlkaline Phosphatase*\\t6\\n\\nClassification Metrics:\\n\\tF1 score:\\t0.97493\\n\\tPrecision:\\t0.97367\\n\\tRecall:\\t\\t0.97767\\n\\n* Positive labels\\nSee Docstring for explanation\\n'"
      ]
     },
     "execution_count": 47,
     "metadata": {},
     "output_type": "execute_result"
    }
   ],
   "source": [
    "d.info()"
   ]
  },
  {
   "cell_type": "code",
   "execution_count": 48,
   "metadata": {},
   "outputs": [
    {
     "name": "stdout",
     "output_type": "stream",
     "text": [
      "Disambiguation model for ALK\n",
      "\n",
      "Produces the disambiguations:\n",
      "\tALK*\tHGNC:427\n",
      "\tAlkaline Phosphatase*\tMESH:D000469\n",
      "\tRSTK1*\tFPLX:RSTK1\n",
      "\n",
      "Training data had class balance:\n",
      "\tALK*\t1181\n",
      "\tRSTK1*\t155\n",
      "\tAlkaline Phosphatase*\t6\n",
      "\n",
      "Classification Metrics:\n",
      "\tF1 score:\t0.97493\n",
      "\tPrecision:\t0.97367\n",
      "\tRecall:\t\t0.97767\n",
      "\n",
      "* Positive labels\n",
      "See Docstring for explanation\n",
      "\n"
     ]
    }
   ],
   "source": [
    "print(d.info())"
   ]
  },
  {
   "cell_type": "code",
   "execution_count": 49,
   "metadata": {},
   "outputs": [],
   "source": [
    "model_to_s3(d)"
   ]
  },
  {
   "cell_type": "code",
   "execution_count": 58,
   "metadata": {},
   "outputs": [
    {
     "name": "stderr",
     "output_type": "stream",
     "text": [
      "WARNING: [2020-01-24 11:34:16] /Users/albertsteppi/adeft/adeft/download/download.py - Shortform TEC has multiple adeft modelsThis may lead to unexpected behavior\n",
      "WARNING: [2020-01-24 11:34:16] /Users/albertsteppi/adeft/adeft/download/download.py - Shortform EAG has multiple adeft modelsThis may lead to unexpected behavior\n"
     ]
    }
   ],
   "source": [
    "d = load_disambiguator('TAK', '../results')"
   ]
  },
  {
   "cell_type": "code",
   "execution_count": 59,
   "metadata": {},
   "outputs": [
    {
     "name": "stdout",
     "output_type": "stream",
     "text": [
      "Disambiguation model for TAK\n",
      "\n",
      "Produces the disambiguations:\n",
      "\tMAP3K7*\tHGNC:6859\n",
      "\tTakayasu Arteritis*\tMESH:D013625\n",
      "\n",
      "Training data had class balance:\n",
      "\tMAP3K7*\t327\n",
      "\tUngrounded*\t241\n",
      "\tUngrounded\t36\n",
      "\tTakayasu Arteritis*\t13\n",
      "\n",
      "Classification Metrics:\n",
      "\tF1 score:\t0.94043\n",
      "\tPrecision:\t0.93685\n",
      "\tRecall:\t\t0.94658\n",
      "\n",
      "* Positive labels\n",
      "See Docstring for explanation\n",
      "\n"
     ]
    }
   ],
   "source": [
    "print(d.info())"
   ]
  },
  {
   "cell_type": "code",
   "execution_count": 57,
   "metadata": {},
   "outputs": [],
   "source": [
    "model_to_s3(d)"
   ]
  },
  {
   "cell_type": "code",
   "execution_count": 60,
   "metadata": {},
   "outputs": [],
   "source": [
    "from adeft import available_shortforms"
   ]
  },
  {
   "cell_type": "code",
   "execution_count": 63,
   "metadata": {},
   "outputs": [
    {
     "name": "stdout",
     "output_type": "stream",
     "text": [
      "Disambiguation model for TAK\n",
      "\n",
      "Produces the disambiguations:\n",
      "\tMAP3K7*\tHGNC:6859\n",
      "\tTakayasu Arteritis*\tMESH:D013625\n",
      "\n",
      "Training data had class balance:\n",
      "\tMAP3K7*\t327\n",
      "\tUngrounded*\t241\n",
      "\tUngrounded\t36\n",
      "\tTakayasu Arteritis*\t13\n",
      "\n",
      "Classification Metrics:\n",
      "\tF1 score:\t0.94043\n",
      "\tPrecision:\t0.93685\n",
      "\tRecall:\t\t0.94658\n",
      "\n",
      "* Positive labels\n",
      "See Docstring for explanation\n",
      "\n"
     ]
    }
   ],
   "source": [
    "print(d.info())"
   ]
  },
  {
   "cell_type": "code",
   "execution_count": 64,
   "metadata": {},
   "outputs": [
    {
     "ename": "TypeError",
     "evalue": "unsupported operand type(s) for *: 'float' and 'NoneType'",
     "output_type": "error",
     "traceback": [
      "\u001b[0;31m---------------------------------------------------------------------------\u001b[0m",
      "\u001b[0;31mTypeError\u001b[0m                                 Traceback (most recent call last)",
      "\u001b[0;32m<ipython-input-64-f3f38030175b>\u001b[0m in \u001b[0;36m<module>\u001b[0;34m\u001b[0m\n\u001b[0;32m----> 1\u001b[0;31m \u001b[0md\u001b[0m\u001b[0;34m.\u001b[0m\u001b[0mclassifier\u001b[0m\u001b[0;34m.\u001b[0m\u001b[0mfeature_importances\u001b[0m\u001b[0;34m(\u001b[0m\u001b[0;34m)\u001b[0m\u001b[0;34m\u001b[0m\u001b[0;34m\u001b[0m\u001b[0m\n\u001b[0m",
      "\u001b[0;32m~/adeft/adeft/modeling/classify.py\u001b[0m in \u001b[0;36mfeature_importances\u001b[0;34m(self)\u001b[0m\n\u001b[1;32m    299\u001b[0m         \u001b[0;31m# When there are greater than two classes, the logistic\u001b[0m\u001b[0;34m\u001b[0m\u001b[0;34m\u001b[0m\u001b[0;34m\u001b[0m\u001b[0m\n\u001b[1;32m    300\u001b[0m         \u001b[0;31m# regression model will have a row of coefficients for\u001b[0m\u001b[0;34m\u001b[0m\u001b[0;34m\u001b[0m\u001b[0;34m\u001b[0m\u001b[0m\n\u001b[0;32m--> 301\u001b[0;31m         \u001b[0;31m# each class. When there are only two classes, there is\u001b[0m\u001b[0;34m\u001b[0m\u001b[0;34m\u001b[0m\u001b[0;34m\u001b[0m\u001b[0m\n\u001b[0m\u001b[1;32m    302\u001b[0m         \u001b[0;31m# only one row of coefficients corresponding to the label classes[1]\u001b[0m\u001b[0;34m\u001b[0m\u001b[0;34m\u001b[0m\u001b[0;34m\u001b[0m\u001b[0m\n\u001b[1;32m    303\u001b[0m         \u001b[0;32mif\u001b[0m \u001b[0mlen\u001b[0m\u001b[0;34m(\u001b[0m\u001b[0mclasses\u001b[0m\u001b[0;34m)\u001b[0m \u001b[0;34m>\u001b[0m \u001b[0;36m2\u001b[0m\u001b[0;34m:\u001b[0m\u001b[0;34m\u001b[0m\u001b[0;34m\u001b[0m\u001b[0m\n",
      "\u001b[0;31mTypeError\u001b[0m: unsupported operand type(s) for *: 'float' and 'NoneType'"
     ]
    }
   ],
   "source": [
    "d.classifier.feature_importances()"
   ]
  },
  {
   "cell_type": "code",
   "execution_count": 2,
   "metadata": {},
   "outputs": [],
   "source": [
    "from adeft import __version__"
   ]
  },
  {
   "cell_type": "code",
   "execution_count": 3,
   "metadata": {},
   "outputs": [
    {
     "data": {
      "text/plain": [
       "'0.5.5'"
      ]
     },
     "execution_count": 3,
     "metadata": {},
     "output_type": "execute_result"
    }
   ],
   "source": [
    "__version__"
   ]
  },
  {
   "cell_type": "code",
   "execution_count": 4,
   "metadata": {},
   "outputs": [],
   "source": [
    "from adeft.disambiguate import load_disambiguator_directly"
   ]
  },
  {
   "cell_type": "code",
   "execution_count": 59,
   "metadata": {},
   "outputs": [],
   "source": [
    "d = load_disambiguator_directly('../results/TEK/')"
   ]
  },
  {
   "cell_type": "code",
   "execution_count": 60,
   "metadata": {},
   "outputs": [
    {
     "name": "stdout",
     "output_type": "stream",
     "text": [
      "Disambiguation model for TEK\n",
      "\n",
      "Produces the disambiguations:\n",
      "\tTEK*\tHGNC:11724\n",
      "\n",
      "Training data had class balance:\n",
      "\tTEK*\t217\n",
      "\tUngrounded\t9\n",
      "\n",
      "Classification Metrics:\n",
      "\tF1 score:\t0.99316\n",
      "\tPrecision:\t0.98646\n",
      "\tRecall:\t\t1.0\n",
      "\n",
      "* Positive labels\n",
      "See Docstring for explanation\n",
      "\n"
     ]
    }
   ],
   "source": [
    "print(d.info())"
   ]
  },
  {
   "cell_type": "code",
   "execution_count": 61,
   "metadata": {},
   "outputs": [],
   "source": [
    "model_to_s3(d)"
   ]
  },
  {
   "cell_type": "code",
   "execution_count": 32,
   "metadata": {},
   "outputs": [
    {
     "data": {
      "text/plain": [
       "{'TEC': {'ternary elongation complex': 'transcription elongation complex',\n",
       "  'thermal expansion coefficient': 'ungrounded',\n",
       "  'thromboembolic complications': 'ungrounded',\n",
       "  'thymic epithelial cells': 'NCIT:C33771',\n",
       "  'thymic epithelial cells line': 'NCIT:C33771',\n",
       "  'thyrocyte': 'MESH:D000072637',\n",
       "  'thyroid epithelial cells': 'MESH:D000072637',\n",
       "  'tissue engineered construct': 'ungrounded',\n",
       "  'total electron content': 'ungrounded',\n",
       "  'tracheal epithelial cells': 'ungrounded',\n",
       "  'transcription elongation complex': 'transcription elongation complex',\n",
       "  'triethyl citrate': 'PUBCHEM:6506',\n",
       "  'tubular epithelial cells': 'NCIT:C61147',\n",
       "  'tumor associated endothelial cells': 'NCIT:C37088',\n",
       "  'tumor endothelial cells': 'NCIT:C37088'},\n",
       " 'TECs': {'thymic epithelial cells': 'NCIT:C33771',\n",
       "  'thymus epithelial cells': 'NCIT:C33771',\n",
       "  'tissue engineered constructs': 'ungrounded',\n",
       "  'transcription elongation complexes': 'transcription elongation complex',\n",
       "  'tubular epithelial cells': 'NCIT:C61147',\n",
       "  'tubule epithelial cells': 'NCIT:C61147',\n",
       "  'tumor associated endothelial cells': 'NCIT:C37088',\n",
       "  'tumor ecs': 'ungrounded'}}"
      ]
     },
     "execution_count": 32,
     "metadata": {},
     "output_type": "execute_result"
    }
   ],
   "source": [
    "d.grounding_dict"
   ]
  },
  {
   "cell_type": "code",
   "execution_count": 25,
   "metadata": {},
   "outputs": [
    {
     "name": "stdout",
     "output_type": "stream",
     "text": [
      "100% [......................................................] 1181008 / 1181008"
     ]
    }
   ],
   "source": [
    "!python -m adeft.download --update"
   ]
  },
  {
   "cell_type": "code",
   "execution_count": 26,
   "metadata": {},
   "outputs": [],
   "source": [
    "from adeft import available_shortforms"
   ]
  },
  {
   "cell_type": "code",
   "execution_count": 27,
   "metadata": {},
   "outputs": [
    {
     "data": {
      "text/plain": [
       "72"
      ]
     },
     "execution_count": 27,
     "metadata": {},
     "output_type": "execute_result"
    }
   ],
   "source": [
    "len(available_shortforms)"
   ]
  },
  {
   "cell_type": "code",
   "execution_count": 28,
   "metadata": {},
   "outputs": [
    {
     "data": {
      "text/plain": [
       "{'PC': 'PC',\n",
       " 'DOG1': 'DOG1',\n",
       " 'TEK': 'TEK',\n",
       " 'EMT': 'EMT',\n",
       " 'SP': 'SP',\n",
       " 'PCS': 'PCS',\n",
       " 'CKI': 'CKI',\n",
       " 'PE': 'PE',\n",
       " 'RET': 'RET',\n",
       " 'TEC': 'TEC',\n",
       " 'ROS': 'ROS',\n",
       " 'NP': 'NP:NP_S',\n",
       " 'NPs': 'NP:NP_S',\n",
       " 'MS': 'MS',\n",
       " 'MT': 'MT',\n",
       " 'BP': 'BP',\n",
       " 'GH': 'GH',\n",
       " 'AD': 'AD',\n",
       " 'GT': 'GT',\n",
       " 'SNS': 'SNS',\n",
       " 'GARP': 'GARP',\n",
       " 'DA': 'DA',\n",
       " 'BCR': 'BCR',\n",
       " 'GR': 'GR',\n",
       " 'HIR': 'HIR',\n",
       " 'IR': 'IR',\n",
       " 'HK2': 'HK2',\n",
       " 'ARF': 'ARF',\n",
       " 'CS': 'CS',\n",
       " 'UFO': 'UFO',\n",
       " 'LAK': 'LAK',\n",
       " 'EC': 'EC',\n",
       " 'ARG': 'ARG',\n",
       " 'MOS': 'MOS',\n",
       " 'STD': 'STD',\n",
       " 'PD1': 'PD1',\n",
       " 'TGH': 'TGH',\n",
       " 'PKD': 'PKD',\n",
       " 'MIP': 'MIP',\n",
       " 'RA': 'RA',\n",
       " 'PCP': 'PCP',\n",
       " 'EAG': 'EAG',\n",
       " 'PI': 'PI',\n",
       " 'PS': 'PS',\n",
       " 'PA': 'PA',\n",
       " 'MB': 'MB',\n",
       " 'HA': 'HA',\n",
       " 'FES': 'FES',\n",
       " 'AR': 'AR',\n",
       " 'HR': 'HR',\n",
       " 'NE': 'NE',\n",
       " 'UBC': 'UBC',\n",
       " 'GSC': 'GSC',\n",
       " 'AA': 'AA',\n",
       " 'FER': 'FER',\n",
       " 'NIS': 'NIS',\n",
       " 'GC': 'GC',\n",
       " 'DLK': 'DLK',\n",
       " 'HK1': 'HK1',\n",
       " 'CM': 'CM',\n",
       " 'RB': 'RB:R_B',\n",
       " 'Rb': 'RB:R_B',\n",
       " 'LH': 'LH',\n",
       " 'ER': 'ER',\n",
       " 'TF': 'TF',\n",
       " 'PGP': 'PGP',\n",
       " 'GCA': 'GCA',\n",
       " 'RK': 'RK',\n",
       " 'RAC': 'RAC',\n",
       " 'MCT': 'MCT',\n",
       " 'CIR': 'CIR',\n",
       " 'TG': 'TG'}"
      ]
     },
     "execution_count": 28,
     "metadata": {},
     "output_type": "execute_result"
    }
   ],
   "source": [
    "available_shortforms"
   ]
  },
  {
   "cell_type": "code",
   "execution_count": 33,
   "metadata": {},
   "outputs": [
    {
     "data": {
      "text/plain": [
       "True"
      ]
     },
     "execution_count": 33,
     "metadata": {},
     "output_type": "execute_result"
    }
   ],
   "source": [
    "'TEC' in available_shortforms"
   ]
  },
  {
   "cell_type": "code",
   "execution_count": 34,
   "metadata": {},
   "outputs": [
    {
     "data": {
      "text/plain": [
       "False"
      ]
     },
     "execution_count": 34,
     "metadata": {},
     "output_type": "execute_result"
    }
   ],
   "source": [
    "'TECs' in available_shortforms"
   ]
  },
  {
   "cell_type": "code",
   "execution_count": 35,
   "metadata": {},
   "outputs": [
    {
     "name": "stdout",
     "output_type": "stream",
     "text": [
      "Shortform TEC has multiple adeft modelsThis may lead to unexpected behavior\n",
      "Shortform TEC has multiple adeft modelsThis may lead to unexpected behavior\n",
      "100% [........................................................] 194559 / 194559Traceback (most recent call last):\n",
      "  File \"/usr/local/Cellar/python/3.7.5/Frameworks/Python.framework/Versions/3.7/lib/python3.7/runpy.py\", line 193, in _run_module_as_main\n",
      "    \"__main__\", mod_spec)\n",
      "  File \"/usr/local/Cellar/python/3.7.5/Frameworks/Python.framework/Versions/3.7/lib/python3.7/runpy.py\", line 85, in _run_code\n",
      "    exec(code, run_globals)\n",
      "  File \"/Users/albertsteppi/adeft/adeft/download/__main__.py\", line 18, in <module>\n",
      "    download_models(update=args.update)\n",
      "  File \"/Users/albertsteppi/adeft/adeft/download/download.py\", line 65, in download_models\n",
      "    out=resource_path)\n",
      "  File \"/Users/albertsteppi/.virtualenvs/py37/lib/python3.7/site-packages/wget.py\", line 526, in download\n",
      "    (tmpfile, headers) = ulib.urlretrieve(binurl, tmpfile, callback)\n",
      "  File \"/usr/local/Cellar/python/3.7.5/Frameworks/Python.framework/Versions/3.7/lib/python3.7/urllib/request.py\", line 247, in urlretrieve\n",
      "    with contextlib.closing(urlopen(url, data)) as fp:\n",
      "  File \"/usr/local/Cellar/python/3.7.5/Frameworks/Python.framework/Versions/3.7/lib/python3.7/urllib/request.py\", line 222, in urlopen\n",
      "    return opener.open(url, data, timeout)\n",
      "  File \"/usr/local/Cellar/python/3.7.5/Frameworks/Python.framework/Versions/3.7/lib/python3.7/urllib/request.py\", line 531, in open\n",
      "    response = meth(req, response)\n",
      "  File \"/usr/local/Cellar/python/3.7.5/Frameworks/Python.framework/Versions/3.7/lib/python3.7/urllib/request.py\", line 641, in http_response\n",
      "    'http', request, response, code, msg, hdrs)\n",
      "  File \"/usr/local/Cellar/python/3.7.5/Frameworks/Python.framework/Versions/3.7/lib/python3.7/urllib/request.py\", line 569, in error\n",
      "    return self._call_chain(*args)\n",
      "  File \"/usr/local/Cellar/python/3.7.5/Frameworks/Python.framework/Versions/3.7/lib/python3.7/urllib/request.py\", line 503, in _call_chain\n",
      "    result = func(*args)\n",
      "  File \"/usr/local/Cellar/python/3.7.5/Frameworks/Python.framework/Versions/3.7/lib/python3.7/urllib/request.py\", line 649, in http_error_default\n",
      "    raise HTTPError(req.full_url, code, msg, hdrs, fp)\n",
      "urllib.error.HTTPError: HTTP Error 404: Not Found\n"
     ]
    }
   ],
   "source": [
    "!python -m adeft.download --update"
   ]
  },
  {
   "cell_type": "code",
   "execution_count": 36,
   "metadata": {},
   "outputs": [
    {
     "name": "stdout",
     "output_type": "stream",
     "text": [
      "100% [......................................................] 1181008 / 1181008"
     ]
    }
   ],
   "source": [
    "!python -m adeft.download --update"
   ]
  },
  {
   "cell_type": "code",
   "execution_count": null,
   "metadata": {},
   "outputs": [],
   "source": []
  }
 ],
 "metadata": {
  "kernelspec": {
   "display_name": "Python 3",
   "language": "python",
   "name": "python3"
  },
  "language_info": {
   "codemirror_mode": {
    "name": "ipython",
    "version": 3
   },
   "file_extension": ".py",
   "mimetype": "text/x-python",
   "name": "python",
   "nbconvert_exporter": "python",
   "pygments_lexer": "ipython3",
   "version": "3.7.5"
  }
 },
 "nbformat": 4,
 "nbformat_minor": 2
}
