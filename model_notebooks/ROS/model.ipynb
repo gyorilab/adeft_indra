{
 "cells": [
  {
   "cell_type": "code",
   "execution_count": 1,
   "metadata": {},
   "outputs": [],
   "source": [
    "import os\n",
    "import json\n",
    "import pickle\n",
    "import random\n",
    "from collections import defaultdict, Counter\n",
    "\n",
    "from indra.literature.adeft_tools import universal_extract_text\n",
    "from indra.databases.hgnc_client import get_hgnc_name, get_hgnc_id\n",
    "\n",
    "from adeft.discover import AdeftMiner\n",
    "from adeft.gui import ground_with_gui\n",
    "from adeft.modeling.label import AdeftLabeler\n",
    "from adeft.modeling.classify import AdeftClassifier\n",
    "from adeft.disambiguate import AdeftDisambiguator, load_disambiguator\n",
    "\n",
    "\n",
    "from adeft_indra.ground.ground import AdeftGrounder\n",
    "from adeft_indra.model_building.s3 import model_to_s3\n",
    "from adeft_indra.model_building.escape import escape_filename\n",
    "from adeft_indra.db.content import get_pmids_for_agent_text, get_pmids_for_entity, \\\n",
    "    get_plaintexts_for_pmids"
   ]
  },
  {
   "cell_type": "code",
   "execution_count": 2,
   "metadata": {},
   "outputs": [],
   "source": [
    "adeft_grounder = AdeftGrounder()"
   ]
  },
  {
   "cell_type": "code",
   "execution_count": 3,
   "metadata": {},
   "outputs": [],
   "source": [
    "shortforms = ['ROS']\n",
    "model_name = ':'.join(sorted(escape_filename(shortform) for shortform in shortforms))\n",
    "results_path = os.path.abspath(os.path.join('../..', 'results', model_name))"
   ]
  },
  {
   "cell_type": "code",
   "execution_count": 4,
   "metadata": {},
   "outputs": [],
   "source": [
    "miners = dict()\n",
    "all_texts = {}\n",
    "for shortform in shortforms:\n",
    "    pmids = get_pmids_for_agent_text(shortform)\n",
    "    text_dict = get_plaintexts_for_pmids(pmids, contains=shortforms)\n",
    "    text_dict = {pmid: text for pmid, text in text_dict.items() if len(text) > 5}\n",
    "    miners[shortform] = AdeftMiner(shortform)\n",
    "    miners[shortform].process_texts(text_dict.values())\n",
    "    all_texts.update(text_dict)\n",
    "\n",
    "longform_dict = {}\n",
    "for shortform in shortforms:\n",
    "    longforms = miners[shortform].get_longforms()\n",
    "    longforms = [(longform, count, score) for longform, count, score in longforms\n",
    "                 if count*score > 2]\n",
    "    longform_dict[shortform] = longforms\n",
    "    \n",
    "combined_longforms = Counter()\n",
    "for longform_rows in longform_dict.values():\n",
    "    combined_longforms.update({longform: count for longform, count, score\n",
    "                               in longform_rows})\n",
    "grounding_map = {}\n",
    "names = {}\n",
    "for longform in combined_longforms:\n",
    "    groundings = adeft_grounder.ground(longform)\n",
    "    if groundings:\n",
    "        grounding = groundings[0]['grounding']\n",
    "        grounding_map[longform] = grounding\n",
    "        names[grounding] = groundings[0]['name']\n",
    "longforms, counts = zip(*combined_longforms.most_common())\n",
    "pos_labels = []"
   ]
  },
  {
   "cell_type": "code",
   "execution_count": 5,
   "metadata": {},
   "outputs": [
    {
     "data": {
      "text/plain": [
       "[('reactive oxygen species', 64016),\n",
       " ('reactive oxygen', 231),\n",
       " ('rod outer segments', 205),\n",
       " ('reactive oxidative stress', 39),\n",
       " ('reactive species of oxygen', 24),\n",
       " ('rosiglitazone', 18),\n",
       " ('reactive oxygen species production', 17),\n",
       " ('reactive oxygen spices', 15),\n",
       " ('rosuvastatin', 15),\n",
       " ('reactive oxygen species generation', 15),\n",
       " ('robot operating system', 9),\n",
       " ('reactive oxygen species formation', 9),\n",
       " ('rats osteosarcoma', 8),\n",
       " ('reactive oxygen species levels', 8),\n",
       " ('increased oxidative stress', 7),\n",
       " ('reactive oxygen substances', 6),\n",
       " ('reactive oxygenspecies', 6),\n",
       " ('reactive oxygen intermediates', 6),\n",
       " ('reactive oxygen specious', 5),\n",
       " ('reactive species oxygen', 5),\n",
       " ('ctrl or h2o2 on two successfully days', 5),\n",
       " ('reactive oxygen species assay', 4),\n",
       " ('rod photoreceptor outer segments', 4),\n",
       " ('reactive oxygen specified', 3),\n",
       " ('region of support', 3),\n",
       " ('reactive oxygen speices', 3),\n",
       " ('roscovitine', 3),\n",
       " ('reactive oxygen stress', 3),\n",
       " ('regression on order statistically', 3),\n",
       " ('reduced oxidative stress', 3),\n",
       " ('rod outer segments membrane', 3),\n",
       " ('rehmannia glutinosa oligosaccharides', 3)]"
      ]
     },
     "execution_count": 5,
     "metadata": {},
     "output_type": "execute_result"
    }
   ],
   "source": [
    "list(zip(longforms, counts))"
   ]
  },
  {
   "cell_type": "code",
   "execution_count": 6,
   "metadata": {},
   "outputs": [],
   "source": [
    "try:\n",
    "    disamb = load_disambiguator(shortforms[0])\n",
    "    for shortform, gm in disamb.grounding_dict.items():\n",
    "        for longform, grounding in gm.items():\n",
    "            grounding_map[longform] = grounding\n",
    "    for grounding, name in disamb.names.items():\n",
    "        names[grounding] = name\n",
    "    pos_labels = disamb.pos_labels\n",
    "except Exception:\n",
    "    pass"
   ]
  },
  {
   "cell_type": "code",
   "execution_count": 7,
   "metadata": {},
   "outputs": [
    {
     "data": {
      "text/plain": [
       "{'CHEBI:CHEBI:26523': 'reactive oxygen species',\n",
       " 'CHEBI:CHEBI:15379': 'dioxygen',\n",
       " 'GO:GO:0120200': 'rod photoreceptor outer segment',\n",
       " 'MESH:D018384': 'Oxidative Stress',\n",
       " 'CHEBI:CHEBI:50122': 'rosiglitazone',\n",
       " 'MESH:D017365': 'Spices',\n",
       " 'CHEBI:CHEBI:38545': 'rosuvastatin',\n",
       " 'GO:GO:1903409': 'reactive oxygen species biosynthetic process',\n",
       " 'MESH:D012516': 'Osteosarcoma',\n",
       " 'CHEBI:CHEBI:45307': 'seliciclib',\n",
       " 'CHEBI:CHEBI:50699': 'oligosaccharide',\n",
       " 'HGNC:10261': 'ROS1',\n",
       " 'MESH:D012374': 'Rod Outer Segment',\n",
       " 'MESH:D017382': 'Reactive Oxygen Species'}"
      ]
     },
     "execution_count": 7,
     "metadata": {},
     "output_type": "execute_result"
    }
   ],
   "source": [
    "names"
   ]
  },
  {
   "cell_type": "code",
   "execution_count": 8,
   "metadata": {},
   "outputs": [
    {
     "name": "stderr",
     "output_type": "stream",
     "text": [
      "INFO: [2020-11-03 04:45:43] indra.ontology.bio.ontology - Loading INDRA bio ontology from cache at /home/ubuntu/.indra/bio_ontology/1.4/bio_ontology.pkl\n",
      "ERROR: [2020-11-03 04:47:47] adeft.gui.ground - Exception on /ground_add [POST]\n",
      "Traceback (most recent call last):\n",
      "  File \"/adeft/.virtualenvs/adeft_env/lib/python3.8/site-packages/flask/app.py\", line 2447, in wsgi_app\n",
      "    response = self.full_dispatch_request()\n",
      "  File \"/adeft/.virtualenvs/adeft_env/lib/python3.8/site-packages/flask/app.py\", line 1952, in full_dispatch_request\n",
      "    rv = self.handle_user_exception(e)\n",
      "  File \"/adeft/.virtualenvs/adeft_env/lib/python3.8/site-packages/flask/app.py\", line 1821, in handle_user_exception\n",
      "    reraise(exc_type, exc_value, tb)\n",
      "  File \"/adeft/.virtualenvs/adeft_env/lib/python3.8/site-packages/flask/_compat.py\", line 39, in reraise\n",
      "    raise value\n",
      "  File \"/adeft/.virtualenvs/adeft_env/lib/python3.8/site-packages/flask/app.py\", line 1950, in full_dispatch_request\n",
      "    rv = self.dispatch_request()\n",
      "  File \"/adeft/.virtualenvs/adeft_env/lib/python3.8/site-packages/flask/app.py\", line 1936, in dispatch_request\n",
      "    return self.view_functions[rule.endpoint](**req.view_args)\n",
      "  File \"/adeft/PP/adeft/adeft/gui/ground/ground.py\", line 64, in add_groundings\n",
      "    name, grounding = determine_grounding_info(namespace, name, identifier)\n",
      "  File \"/adeft/PP/adeft/adeft/gui/ground/ground.py\", line 38, in determine_grounding_info\n",
      "    return name, grounding\n",
      "UnboundLocalError: local variable 'grounding' referenced before assignment\n"
     ]
    }
   ],
   "source": [
    "grounding_map, names, pos_labels = ground_with_gui(longforms, counts, \n",
    "                                                   grounding_map=grounding_map,\n",
    "                                                   names=names, pos_labels=pos_labels, no_browser=True, port=8891)"
   ]
  },
  {
   "cell_type": "code",
   "execution_count": 9,
   "metadata": {},
   "outputs": [],
   "source": [
    "result = [grounding_map, names, pos_labels]"
   ]
  },
  {
   "cell_type": "code",
   "execution_count": 10,
   "metadata": {},
   "outputs": [
    {
     "data": {
      "text/plain": [
       "[{'ctrl or h2o2 on two successfully days': 'ungrounded',\n",
       "  'increased oxidative stress': 'MESH:D018384',\n",
       "  'rats osteosarcoma': 'MESH:D012516',\n",
       "  'reactive oxidative stress': 'MESH:D018384',\n",
       "  'reactive oxygen': 'MESH:D017382',\n",
       "  'reactive oxygen intermediates': 'MESH:D017382',\n",
       "  'reactive oxygen species': 'MESH:D017382',\n",
       "  'reactive oxygen species assay': 'MESH:D017382',\n",
       "  'reactive oxygen species formation': 'GO:GO:1903409',\n",
       "  'reactive oxygen species generation': 'GO:GO:1903409',\n",
       "  'reactive oxygen species levels': 'MESH:D017382',\n",
       "  'reactive oxygen species production': 'GO:GO:1903409',\n",
       "  'reactive oxygen specified': 'MESH:D017382',\n",
       "  'reactive oxygen specious': 'MESH:D017382',\n",
       "  'reactive oxygen speices': 'MESH:D017382',\n",
       "  'reactive oxygen spices': 'MESH:D017382',\n",
       "  'reactive oxygen stress': 'MESH:D018384',\n",
       "  'reactive oxygen substances': 'MESH:D017382',\n",
       "  'reactive oxygenspecies': 'MESH:D017382',\n",
       "  'reactive species of oxygen': 'MESH:D017382',\n",
       "  'reactive species oxygen': 'MESH:D017382',\n",
       "  'reduced oxidative stress': 'ungrounded',\n",
       "  'region of support': 'ungrounded',\n",
       "  'regression on order statistically': 'ungrounded',\n",
       "  'rehmannia glutinosa oligosaccharides': 'CHEBI:CHEBI:50699',\n",
       "  'robot operating system': 'ungrounded',\n",
       "  'rod outer segments': 'MESH:D012374',\n",
       "  'rod outer segments membrane': 'MESH:D012374',\n",
       "  'rod photoreceptor outer segments': 'MESH:D012374',\n",
       "  'roscovitine': 'CHEBI:CHEBI:45307',\n",
       "  'rosiglitazone': 'CHEBI:CHEBI:50122',\n",
       "  'rosuvastatin': 'CHEBI:CHEBI:38545'},\n",
       " {'MESH:D018384': 'Oxidative Stress',\n",
       "  'MESH:D012516': 'Osteosarcoma',\n",
       "  'MESH:D017382': 'Reactive Oxygen Species',\n",
       "  'GO:GO:1903409': 'reactive oxygen species biosynthetic process',\n",
       "  'CHEBI:CHEBI:50699': 'oligosaccharide',\n",
       "  'MESH:D012374': 'Rod Cell Outer Segment',\n",
       "  'CHEBI:CHEBI:45307': 'seliciclib',\n",
       "  'CHEBI:CHEBI:50122': 'rosiglitazone',\n",
       "  'CHEBI:CHEBI:38545': 'rosuvastatin'},\n",
       " ['CHEBI:CHEBI:38545', 'CHEBI:CHEBI:50122', 'MESH:D012374', 'MESH:D017382']]"
      ]
     },
     "execution_count": 10,
     "metadata": {},
     "output_type": "execute_result"
    }
   ],
   "source": [
    "result"
   ]
  },
  {
   "cell_type": "code",
   "execution_count": 11,
   "metadata": {},
   "outputs": [],
   "source": [
    "grounding_map, names, pos_labels = [{'ctrl or h2o2 on two successfully days': 'ungrounded',\n",
    "  'increased oxidative stress': 'MESH:D018384',\n",
    "  'rats osteosarcoma': 'MESH:D012516',\n",
    "  'reactive oxidative stress': 'MESH:D018384',\n",
    "  'reactive oxygen': 'MESH:D017382',\n",
    "  'reactive oxygen intermediates': 'MESH:D017382',\n",
    "  'reactive oxygen species': 'MESH:D017382',\n",
    "  'reactive oxygen species assay': 'MESH:D017382',\n",
    "  'reactive oxygen species formation': 'GO:GO:1903409',\n",
    "  'reactive oxygen species generation': 'GO:GO:1903409',\n",
    "  'reactive oxygen species levels': 'MESH:D017382',\n",
    "  'reactive oxygen species production': 'GO:GO:1903409',\n",
    "  'reactive oxygen specified': 'MESH:D017382',\n",
    "  'reactive oxygen specious': 'MESH:D017382',\n",
    "  'reactive oxygen speices': 'MESH:D017382',\n",
    "  'reactive oxygen spices': 'MESH:D017382',\n",
    "  'reactive oxygen stress': 'MESH:D018384',\n",
    "  'reactive oxygen substances': 'MESH:D017382',\n",
    "  'reactive oxygenspecies': 'MESH:D017382',\n",
    "  'reactive species of oxygen': 'MESH:D017382',\n",
    "  'reactive species oxygen': 'MESH:D017382',\n",
    "  'reduced oxidative stress': 'ungrounded',\n",
    "  'region of support': 'ungrounded',\n",
    "  'regression on order statistically': 'ungrounded',\n",
    "  'rehmannia glutinosa oligosaccharides': 'CHEBI:CHEBI:50699',\n",
    "  'robot operating system': 'ungrounded',\n",
    "  'rod outer segments': 'MESH:D012374',\n",
    "  'rod outer segments membrane': 'MESH:D012374',\n",
    "  'rod photoreceptor outer segments': 'MESH:D012374',\n",
    "  'roscovitine': 'CHEBI:CHEBI:45307',\n",
    "  'rosiglitazone': 'CHEBI:CHEBI:50122',\n",
    "  'rosuvastatin': 'CHEBI:CHEBI:38545'},\n",
    " {'MESH:D018384': 'Oxidative Stress',\n",
    "  'MESH:D012516': 'Osteosarcoma',\n",
    "  'MESH:D017382': 'Reactive Oxygen Species',\n",
    "  'GO:GO:1903409': 'reactive oxygen species biosynthetic process',\n",
    "  'CHEBI:CHEBI:50699': 'oligosaccharide',\n",
    "  'MESH:D012374': 'Rod Cell Outer Segment',\n",
    "  'CHEBI:CHEBI:45307': 'seliciclib',\n",
    "  'CHEBI:CHEBI:50122': 'rosiglitazone',\n",
    "  'CHEBI:CHEBI:38545': 'rosuvastatin'},\n",
    " ['CHEBI:CHEBI:38545', 'CHEBI:CHEBI:50122', 'MESH:D012374', 'MESH:D017382']]"
   ]
  },
  {
   "cell_type": "code",
   "execution_count": 12,
   "metadata": {},
   "outputs": [],
   "source": [
    "excluded_longforms = []"
   ]
  },
  {
   "cell_type": "code",
   "execution_count": 13,
   "metadata": {},
   "outputs": [],
   "source": [
    "grounding_dict = {shortform: {longform: grounding_map[longform] \n",
    "                              for longform, _, _ in longforms if longform in grounding_map\n",
    "                              and longform not in excluded_longforms}\n",
    "                  for shortform, longforms in longform_dict.items()}\n",
    "result = [grounding_dict, names, pos_labels]\n",
    "\n",
    "if not os.path.exists(results_path):\n",
    "    os.mkdir(results_path)\n",
    "with open(os.path.join(results_path, f'{model_name}_preliminary_grounding_info.json'), 'w') as f:\n",
    "    json.dump(result, f)"
   ]
  },
  {
   "cell_type": "code",
   "execution_count": 14,
   "metadata": {},
   "outputs": [],
   "source": [
    "additional_entities = {}"
   ]
  },
  {
   "cell_type": "code",
   "execution_count": 15,
   "metadata": {},
   "outputs": [],
   "source": [
    "unambiguous_agent_texts = {}"
   ]
  },
  {
   "cell_type": "code",
   "execution_count": 16,
   "metadata": {},
   "outputs": [],
   "source": [
    "labeler = AdeftLabeler(grounding_dict)\n",
    "corpus = labeler.build_from_texts((text, pmid) for pmid, text in all_texts.items())\n",
    "agent_text_pmid_map = defaultdict(list)\n",
    "for text, label, id_ in corpus:\n",
    "    agent_text_pmid_map[label].append(id_)\n",
    "\n",
    "entity_pmid_map = {entity: set(get_pmids_for_entity(*entity.split(':', maxsplit=1),\n",
    "                                                major_topic=True))for entity in additional_entities}"
   ]
  },
  {
   "cell_type": "code",
   "execution_count": 18,
   "metadata": {},
   "outputs": [],
   "source": [
    "intersection1 = []\n",
    "for entity1, pmids1 in entity_pmid_map.items():\n",
    "    for entity2, pmids2 in entity_pmid_map.items():\n",
    "        intersection1.append((entity1, entity2, len(pmids1 & pmids2)))"
   ]
  },
  {
   "cell_type": "code",
   "execution_count": 19,
   "metadata": {},
   "outputs": [],
   "source": [
    "intersection2 = []\n",
    "for entity1, pmids1 in agent_text_pmid_map.items():\n",
    "    for entity2, pmids2 in entity_pmid_map.items():\n",
    "        intersection2.append((entity1, entity2, len(set(pmids1) & pmids2)))"
   ]
  },
  {
   "cell_type": "code",
   "execution_count": 20,
   "metadata": {},
   "outputs": [
    {
     "data": {
      "text/plain": [
       "[('HGNC:10967', 'HGNC:10967', 98)]"
      ]
     },
     "execution_count": 20,
     "metadata": {},
     "output_type": "execute_result"
    }
   ],
   "source": [
    "intersection1"
   ]
  },
  {
   "cell_type": "code",
   "execution_count": 21,
   "metadata": {},
   "outputs": [
    {
     "data": {
      "text/plain": [
       "[('GO:GO:0001837', 'HGNC:10967', 0),\n",
       " ('ungrounded', 'HGNC:10967', 0),\n",
       " ('HGNC:10967', 'HGNC:10967', 0),\n",
       " ('MESH:D055032', 'HGNC:10967', 0)]"
      ]
     },
     "execution_count": 21,
     "metadata": {},
     "output_type": "execute_result"
    }
   ],
   "source": [
    "intersection2"
   ]
  },
  {
   "cell_type": "code",
   "execution_count": 22,
   "metadata": {},
   "outputs": [],
   "source": [
    "all_used_pmids = set()\n",
    "for entity, agent_texts in unambiguous_agent_texts.items():\n",
    "    used_pmids = set()\n",
    "    for agent_text in agent_texts[1]:\n",
    "        pmids = set(get_pmids_for_agent_text(agent_text))\n",
    "        new_pmids = list(pmids - all_texts.keys() - used_pmids)\n",
    "        text_dict = get_plaintexts_for_pmids(new_pmids, contains=agent_texts)\n",
    "        corpus.extend([(text, entity, pmid) for pmid, text in text_dict.items() if len(text) >= 5])\n",
    "        used_pmids.update(new_pmids)\n",
    "    all_used_pmids.update(used_pmids)\n",
    "        \n",
    "for entity, pmids in entity_pmid_map.items():\n",
    "    new_pmids = list(set(pmids) - all_texts.keys() - all_used_pmids)\n",
    "    if len(new_pmids) > 10000:\n",
    "        new_pmids = random.choices(new_pmids, k=10000)\n",
    "    _, contains = additional_entities[entity]\n",
    "    text_dict = get_plaintexts_for_pmids(new_pmids, contains=contains)\n",
    "    corpus.extend([(text, entity, pmid) for pmid, text in text_dict.items() if len(text) >= 5])"
   ]
  },
  {
   "cell_type": "code",
   "execution_count": 23,
   "metadata": {},
   "outputs": [],
   "source": [
    "names.update({key: value[0] for key, value in additional_entities.items()})\n",
    "names.update({key: value[0] for key, value in unambiguous_agent_texts.items()})\n",
    "pos_labels = list(set(pos_labels) | additional_entities.keys() |\n",
    "                  unambiguous_agent_texts.keys())"
   ]
  },
  {
   "cell_type": "code",
   "execution_count": 17,
   "metadata": {},
   "outputs": [
    {
     "name": "stderr",
     "output_type": "stream",
     "text": [
      "INFO: [2020-11-03 04:54:18] /adeft/PP/adeft/adeft/modeling/classify.py - Beginning grid search in parameter space:\n",
      "{'C': [100.0], 'max_features': [10000]}\n",
      "INFO: [2020-11-03 05:12:10] /adeft/PP/adeft/adeft/modeling/classify.py - Best f1 score of 0.9970649903236918 found for parameter values:\n",
      "{'logit__C': 100.0, 'tfidf__max_features': 10000}\n"
     ]
    }
   ],
   "source": [
    "%%capture\n",
    "\n",
    "classifier = AdeftClassifier(shortforms, pos_labels=pos_labels, random_state=1729)\n",
    "param_grid = {'C': [100.0], 'max_features': [10000]}\n",
    "texts, labels, pmids = zip(*corpus)\n",
    "classifier.cv(texts, labels, param_grid, cv=5, n_jobs=5)"
   ]
  },
  {
   "cell_type": "code",
   "execution_count": 18,
   "metadata": {
    "scrolled": true
   },
   "outputs": [
    {
     "data": {
      "text/plain": [
       "{'label_distribution': {'MESH:D012374': 174,\n",
       "  'MESH:D017382': 48327,\n",
       "  'MESH:D012516': 8,\n",
       "  'CHEBI:CHEBI:45307': 3,\n",
       "  'CHEBI:CHEBI:50699': 3,\n",
       "  'GO:GO:1903409': 40,\n",
       "  'CHEBI:CHEBI:50122': 13,\n",
       "  'ungrounded': 10,\n",
       "  'CHEBI:CHEBI:38545': 11,\n",
       "  'MESH:D018384': 46},\n",
       " 'f1': {'mean': 0.997065, 'std': 0.00018},\n",
       " 'precision': {'mean': 0.996229, 'std': 0.000219},\n",
       " 'recall': {'mean': 0.99798, 'std': 0.000202},\n",
       " 'CHEBI:CHEBI:45307': {'f1': {'mean': 0.0, 'std': 0.0},\n",
       "  'pr': {'mean': 0.0, 'std': 0.0},\n",
       "  'rc': {'mean': 0.0, 'std': 0.0}},\n",
       " 'MESH:D012516': {'f1': {'mean': 0.0, 'std': 0.0},\n",
       "  'pr': {'mean': 0.0, 'std': 0.0},\n",
       "  'rc': {'mean': 0.0, 'std': 0.0}},\n",
       " 'CHEBI:CHEBI:50122': {'f1': {'mean': 0.0, 'std': 0.0},\n",
       "  'pr': {'mean': 0.0, 'std': 0.0},\n",
       "  'rc': {'mean': 0.0, 'std': 0.0}},\n",
       " 'MESH:D012374': {'f1': {'mean': 0.889662, 'std': 0.009024},\n",
       "  'pr': {'mean': 0.81042, 'std': 0.012861},\n",
       "  'rc': {'mean': 0.986437, 'std': 0.016615}},\n",
       " 'CHEBI:CHEBI:38545': {'f1': {'mean': 0.266667, 'std': 0.326599},\n",
       "  'pr': {'mean': 0.2, 'std': 0.244949},\n",
       "  'rc': {'mean': 0.4, 'std': 0.489898}},\n",
       " 'MESH:D017382': {'f1': {'mean': 0.997892, 'std': 0.0001},\n",
       "  'pr': {'mean': 0.99911, 'std': 0.00018},\n",
       "  'rc': {'mean': 0.996677, 'std': 0.000136}},\n",
       " 'ungrounded': {'f1': {'mean': 0.0, 'std': 0.0},\n",
       "  'pr': {'mean': 0.0, 'std': 0.0},\n",
       "  'rc': {'mean': 0.0, 'std': 0.0}},\n",
       " 'GO:GO:1903409': {'f1': {'mean': 0.0, 'std': 0.0},\n",
       "  'pr': {'mean': 0.0, 'std': 0.0},\n",
       "  'rc': {'mean': 0.0, 'std': 0.0}},\n",
       " 'CHEBI:CHEBI:50699': {'f1': {'mean': 0.0, 'std': 0.0},\n",
       "  'pr': {'mean': 0.0, 'std': 0.0},\n",
       "  'rc': {'mean': 0.0, 'std': 0.0}},\n",
       " 'MESH:D018384': {'f1': {'mean': 0.118681, 'std': 0.108207},\n",
       "  'pr': {'mean': 0.088889, 'std': 0.083148},\n",
       "  'rc': {'mean': 0.18, 'std': 0.156844}}}"
      ]
     },
     "execution_count": 18,
     "metadata": {},
     "output_type": "execute_result"
    }
   ],
   "source": [
    "classifier.stats"
   ]
  },
  {
   "cell_type": "code",
   "execution_count": 19,
   "metadata": {},
   "outputs": [],
   "source": [
    "disamb = AdeftDisambiguator(classifier, grounding_dict, names)"
   ]
  },
  {
   "cell_type": "code",
   "execution_count": 20,
   "metadata": {},
   "outputs": [],
   "source": [
    "disamb.dump(model_name, results_path)"
   ]
  },
  {
   "cell_type": "code",
   "execution_count": 21,
   "metadata": {},
   "outputs": [
    {
     "name": "stdout",
     "output_type": "stream",
     "text": [
      "Disambiguation model for ROS\n",
      "\n",
      "Produces the disambiguations:\n",
      "\tOsteosarcoma\tMESH:D012516\n",
      "\tOxidative Stress\tMESH:D018384\n",
      "\tReactive Oxygen Species*\tMESH:D017382\n",
      "\tRod Cell Outer Segment*\tMESH:D012374\n",
      "\toligosaccharide\tCHEBI:CHEBI:50699\n",
      "\treactive oxygen species biosynthetic process\tGO:GO:1903409\n",
      "\trosiglitazone*\tCHEBI:CHEBI:50122\n",
      "\trosuvastatin*\tCHEBI:CHEBI:38545\n",
      "\tseliciclib\tCHEBI:CHEBI:45307\n",
      "\n",
      "Class level metrics:\n",
      "--------------------\n",
      "Grounding                                   \tCount\tF1     \n",
      "                     Reactive Oxygen Species*\t48327\t0.99789\n",
      "                      Rod Cell Outer Segment*\t  174\t0.88966\n",
      "                            Oxidative Stress\t   46\t0.11868\n",
      "reactive oxygen species biosynthetic process\t   40\t    0.0\n",
      "                               rosiglitazone*\t   13\t    0.0\n",
      "                                rosuvastatin*\t   11\t0.26667\n",
      "                                  Ungrounded\t   10\t    0.0\n",
      "                                Osteosarcoma\t    8\t    0.0\n",
      "                                  seliciclib\t    3\t    0.0\n",
      "                             oligosaccharide\t    3\t    0.0\n",
      "\n",
      "Weighted Metrics:\n",
      "-----------------\n",
      "\tF1 score:\t0.99706\n",
      "\tPrecision:\t0.99623\n",
      "\tRecall:\t\t0.99798\n",
      "\n",
      "* Positive labels\n",
      "See Docstring for explanation\n",
      "\n"
     ]
    }
   ],
   "source": [
    "print(disamb.info())"
   ]
  },
  {
   "cell_type": "code",
   "execution_count": 22,
   "metadata": {},
   "outputs": [],
   "source": [
    "model_to_s3(disamb)"
   ]
  },
  {
   "cell_type": "code",
   "execution_count": 30,
   "metadata": {},
   "outputs": [],
   "source": [
    "preds = [disamb.disambiguate(text) for text in all_texts.values()]"
   ]
  },
  {
   "cell_type": "code",
   "execution_count": 31,
   "metadata": {},
   "outputs": [],
   "source": [
    "texts = [text for pred, text in zip(preds, all_texts.values()) if pred[0] == 'HGNC:10967']"
   ]
  },
  {
   "cell_type": "code",
   "execution_count": 36,
   "metadata": {},
   "outputs": [
    {
     "data": {
      "text/plain": [
       "'The non-neuronal monoamine transporters (OCT1, OCT2, EMT, and PMAT) play a key role in the clearance of monoamines from extracellular compartments. In a previous report we described endometrial distribution and cyclic variation of the vesicular monoamine transporter (VMAT2) mRNA and the neuronal norepinephrine transporter (NET) mRNA. In the present study we used in situ hybridization, real-time PCR and immunohistochemistry to reveal tissue distribution and cyclic variation of mRNA for the non-neuronal monoamine transporters in the human endometrium and early pregnancy decidua. We found that non-neuronal monoamine transporters are predominantly expressed in the stroma. The plasma membrane monoamine transporter (PMAT) mRNA expression peaked in the proliferative phase, whereas the extra-neuronal monoamine transporter (EMT) mRNA expression peaked in the secretory phase. The organic cation transporter 2 (OCT2) mRNA expression was exclusively detected in few scattered stromal cells and OCT1 mRNA was not detected at all. Our present results demonstrate that PMAT, EMT, and OCT2 transporters are expressed in the endometrial stroma and can potentially regulate reuptake of monoamines in general and histamine in particular. Taken together with our previous finding of VMAT2 mRNA in epithelial cells, we suggest a paracrine interaction between stromal and epithelial cells, which may modulate certain steps of the reproductive process.\\n'"
      ]
     },
     "execution_count": 36,
     "metadata": {},
     "output_type": "execute_result"
    }
   ],
   "source": [
    "texts[3]"
   ]
  },
  {
   "cell_type": "code",
   "execution_count": null,
   "metadata": {},
   "outputs": [],
   "source": []
  }
 ],
 "metadata": {
  "kernelspec": {
   "display_name": "Python 3",
   "language": "python",
   "name": "python3"
  },
  "language_info": {
   "codemirror_mode": {
    "name": "ipython",
    "version": 3
   },
   "file_extension": ".py",
   "mimetype": "text/x-python",
   "name": "python",
   "nbconvert_exporter": "python",
   "pygments_lexer": "ipython3",
   "version": "3.8.4"
  }
 },
 "nbformat": 4,
 "nbformat_minor": 2
}
