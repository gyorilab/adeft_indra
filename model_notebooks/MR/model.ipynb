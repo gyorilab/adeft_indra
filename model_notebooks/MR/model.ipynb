{
 "cells": [
  {
   "cell_type": "code",
   "execution_count": 1,
   "metadata": {},
   "outputs": [],
   "source": [
    "import os\n",
    "import json\n",
    "import pickle\n",
    "import random\n",
    "from collections import defaultdict, Counter\n",
    "\n",
    "from indra.literature.adeft_tools import universal_extract_text\n",
    "from indra.databases.hgnc_client import get_hgnc_name, get_hgnc_id\n",
    "\n",
    "from adeft.discover import AdeftMiner\n",
    "from adeft.gui import ground_with_gui\n",
    "from adeft.modeling.label import AdeftLabeler\n",
    "from adeft.modeling.classify import AdeftClassifier\n",
    "from adeft.disambiguate import AdeftDisambiguator\n",
    "\n",
    "\n",
    "from adeft_indra.ground.ground import AdeftGrounder\n",
    "from adeft_indra.model_building.s3 import model_to_s3\n",
    "from adeft_indra.model_building.escape import escape_filename\n",
    "from adeft_indra.db.content import get_pmids_for_agent_text, get_pmids_for_entity, \\\n",
    "    get_plaintexts_for_pmids"
   ]
  },
  {
   "cell_type": "code",
   "execution_count": 2,
   "metadata": {},
   "outputs": [],
   "source": [
    "adeft_grounder = AdeftGrounder()"
   ]
  },
  {
   "cell_type": "code",
   "execution_count": 3,
   "metadata": {},
   "outputs": [],
   "source": [
    "shortforms = ['MR']\n",
    "model_name = ':'.join(sorted(escape_filename(shortform) for shortform in shortforms))\n",
    "results_path = os.path.abspath(os.path.join('../..', 'results', model_name))"
   ]
  },
  {
   "cell_type": "code",
   "execution_count": 4,
   "metadata": {},
   "outputs": [],
   "source": [
    "miners = dict()\n",
    "all_texts = {}\n",
    "for shortform in shortforms:\n",
    "    pmids = get_pmids_for_agent_text(shortform)\n",
    "    if len(pmids) > 10000:\n",
    "        pmids = random.choices(pmids, k=10000)\n",
    "    text_dict = get_plaintexts_for_pmids(pmids, contains=shortforms)\n",
    "    text_dict = {pmid: text for pmid, text in text_dict.items() if len(text) > 5}\n",
    "    miners[shortform] = AdeftMiner(shortform)\n",
    "    miners[shortform].process_texts(text_dict.values())\n",
    "    all_texts.update(text_dict)\n",
    "\n",
    "longform_dict = {}\n",
    "for shortform in shortforms:\n",
    "    longforms = miners[shortform].get_longforms()\n",
    "    longforms = [(longform, count, score) for longform, count, score in longforms\n",
    "                 if count*score > 2]\n",
    "    longform_dict[shortform] = longforms\n",
    "    \n",
    "combined_longforms = Counter()\n",
    "for longform_rows in longform_dict.values():\n",
    "    combined_longforms.update({longform: count for longform, count, score\n",
    "                               in longform_rows})\n",
    "grounding_map = {}\n",
    "names = {}\n",
    "for longform in combined_longforms:\n",
    "    groundings = adeft_grounder.ground(longform)\n",
    "    if groundings:\n",
    "        grounding = groundings[0]['grounding']\n",
    "        grounding_map[longform] = grounding\n",
    "        names[grounding] = groundings[0]['name']\n",
    "longforms, counts = zip(*combined_longforms.most_common())\n",
    "pos_labels = []"
   ]
  },
  {
   "cell_type": "code",
   "execution_count": 5,
   "metadata": {},
   "outputs": [
    {
     "data": {
      "text/plain": [
       "[('mineralocorticoid receptor', 1445),\n",
       " ('magnetic resonance', 1123),\n",
       " ('mitral regurgitation', 432),\n",
       " ('mannose receptor', 336),\n",
       " ('methionine restriction', 104),\n",
       " ('mineralocorticoid', 97),\n",
       " ('magnetoresistance', 50),\n",
       " ('milk replacer', 47),\n",
       " ('mendelian randomization', 43),\n",
       " ('mental retardation', 39),\n",
       " ('metabolic rate', 32),\n",
       " ('muscarinic receptor', 24),\n",
       " ('mre11 rad50', 21),\n",
       " ('modified release', 20),\n",
       " ('mitral valve regurgitation', 17),\n",
       " ('medial rectus', 15),\n",
       " ('maillard reaction', 14),\n",
       " ('membrane raft', 14),\n",
       " ('median raphe', 14),\n",
       " ('mitochondria rich', 11),\n",
       " ('metabolic ratio', 11),\n",
       " ('mineralcorticoid receptor', 11),\n",
       " ('mortality rate', 10),\n",
       " ('median raphe nucleus', 10),\n",
       " ('myogenic response', 9),\n",
       " ('meal replacer', 9),\n",
       " ('mendelian randomisation', 8),\n",
       " ('midbrain raphe', 8),\n",
       " ('middle region', 7),\n",
       " ('mitotic recombinant', 7),\n",
       " ('master regulation', 7),\n",
       " ('medical reconciliation', 7),\n",
       " ('metastatic relapse', 6),\n",
       " ('measles rubella', 6),\n",
       " ('mc receptor', 6),\n",
       " ('mixed reality', 5),\n",
       " ('manikya rasa', 5),\n",
       " ('medical records', 5),\n",
       " ('maintenance rituximab', 5),\n",
       " ('methyl red', 5),\n",
       " ('morphological response', 5),\n",
       " ('molecular replacer', 5),\n",
       " ('mesenteric', 5),\n",
       " ('magnetorheological', 5),\n",
       " ('magnetic resonance imaging', 5),\n",
       " ('mean survival time ratio', 5),\n",
       " ('mineralocorticosteroid receptor', 5),\n",
       " ('mammary rudiment', 4),\n",
       " ('mandelate racemase', 4),\n",
       " ('marital relationship', 4),\n",
       " ('molecular remission', 4),\n",
       " ('morphinone reductase', 4),\n",
       " ('miroestrol', 4),\n",
       " ('magneto resistant', 4),\n",
       " ('minor response', 4),\n",
       " ('mitotic rate', 4),\n",
       " ('mixis rate', 4),\n",
       " ('mitoxantrone', 4),\n",
       " ('resistant tme', 4),\n",
       " ('mobile relay', 3),\n",
       " ('multiple regression', 3),\n",
       " ('midbody ring', 3),\n",
       " ('molar refractivity', 3),\n",
       " ('magnetic reduction', 3),\n",
       " ('malarial retinopathy', 3),\n",
       " ('maximal respiration', 3),\n",
       " ('mitochondrial restoration', 3),\n",
       " ('mother reared', 3),\n",
       " ('motor resonance', 3),\n",
       " ('met restriction', 3),\n",
       " ('mannose resistant', 3),\n",
       " ('methicillin resistant', 3),\n",
       " ('minireplicon', 3),\n",
       " ('mineralcorticoid', 3),\n",
       " ('myricetin 3 rhamnoside', 3)]"
      ]
     },
     "execution_count": 5,
     "metadata": {},
     "output_type": "execute_result"
    }
   ],
   "source": [
    "list(zip(longforms, counts))"
   ]
  },
  {
   "cell_type": "code",
   "execution_count": 6,
   "metadata": {},
   "outputs": [
    {
     "name": "stderr",
     "output_type": "stream",
     "text": [
      "INFO: [2020-10-03 02:12:14] indra.ontology.bio.ontology - Loading INDRA bio ontology from cache at /home/ubuntu/.indra/bio_ontology/1.2/bio_ontology.pkl\n"
     ]
    }
   ],
   "source": [
    "grounding_map, names, pos_labels = ground_with_gui(longforms, counts, \n",
    "                                                   grounding_map=grounding_map,\n",
    "                                                   names=names, pos_labels=pos_labels, no_browser=True, port=8890)"
   ]
  },
  {
   "cell_type": "code",
   "execution_count": 7,
   "metadata": {},
   "outputs": [],
   "source": [
    "result = [grounding_map, names, pos_labels]"
   ]
  },
  {
   "cell_type": "code",
   "execution_count": 8,
   "metadata": {},
   "outputs": [
    {
     "data": {
      "text/plain": [
       "[{'magnetic reduction': 'ungrounded',\n",
       "  'magnetic resonance': 'MESH:D008279',\n",
       "  'magnetic resonance imaging': 'MESH:D008279',\n",
       "  'magneto resistant': 'ungrounded',\n",
       "  'magnetoresistance': 'ungrounded',\n",
       "  'magnetorheological': 'ungrounded',\n",
       "  'maillard reaction': 'MESH:D015416',\n",
       "  'maintenance rituximab': 'CHEBI:CHEBI:64357',\n",
       "  'malarial retinopathy': 'ungrounded',\n",
       "  'mammary rudiment': 'ungrounded',\n",
       "  'mandelate racemase': 'ungrounded',\n",
       "  'manikya rasa': 'ungrounded',\n",
       "  'mannose receptor': 'FPLX:MRC',\n",
       "  'mannose resistant': 'ungrounded',\n",
       "  'marital relationship': 'ungrounded',\n",
       "  'master regulation': 'ungrounded',\n",
       "  'maximal respiration': 'ungrounded',\n",
       "  'mc receptor': 'HGNC:7979',\n",
       "  'meal replacer': 'ungrounded',\n",
       "  'mean survival time ratio': 'ungrounded',\n",
       "  'measles rubella': 'ungrounded',\n",
       "  'medial rectus': 'ungrounded',\n",
       "  'median raphe': 'ungrounded',\n",
       "  'median raphe nucleus': 'MESH:D011903',\n",
       "  'medical reconciliation': 'ungrounded',\n",
       "  'medical records': 'MESH:D008499',\n",
       "  'membrane raft': 'GO:GO:0045121',\n",
       "  'mendelian randomisation': 'MESH:D057182',\n",
       "  'mendelian randomization': 'MESH:D057182',\n",
       "  'mental retardation': 'MESH:D008607',\n",
       "  'mesenteric': 'ungrounded',\n",
       "  'met restriction': 'ungrounded',\n",
       "  'metabolic rate': 'ungrounded',\n",
       "  'metabolic ratio': 'ungrounded',\n",
       "  'metastatic relapse': 'ungrounded',\n",
       "  'methicillin resistant': 'ungrounded',\n",
       "  'methionine restriction': 'NCIT:C154555',\n",
       "  'methyl red': 'CHEBI:CHEBI:49770',\n",
       "  'midbody ring': 'GO:GO:0090543',\n",
       "  'midbrain raphe': 'MESH:D066267',\n",
       "  'middle region': 'ungrounded',\n",
       "  'milk replacer': 'ungrounded',\n",
       "  'mineralcorticoid': 'HGNC:7979',\n",
       "  'mineralcorticoid receptor': 'HGNC:7979',\n",
       "  'mineralocorticoid': 'HGNC:7979',\n",
       "  'mineralocorticoid receptor': 'HGNC:7979',\n",
       "  'mineralocorticosteroid receptor': 'HGNC:7979',\n",
       "  'minireplicon': 'ungrounded',\n",
       "  'minor response': 'ungrounded',\n",
       "  'miroestrol': 'CHEBI:CHEBI:6949',\n",
       "  'mitochondria rich': 'ungrounded',\n",
       "  'mitochondrial restoration': 'ungrounded',\n",
       "  'mitotic rate': 'ungrounded',\n",
       "  'mitotic recombinant': 'ungrounded',\n",
       "  'mitoxantrone': 'CHEBI:CHEBI:50729',\n",
       "  'mitral regurgitation': 'MESH:D008944',\n",
       "  'mitral valve regurgitation': 'MESH:D008944',\n",
       "  'mixed reality': 'MESH:D000081411',\n",
       "  'mixis rate': 'ungrounded',\n",
       "  'mobile relay': 'ungrounded',\n",
       "  'modified release': 'ungrounded',\n",
       "  'molar refractivity': 'ungrounded',\n",
       "  'molecular remission': 'ungrounded',\n",
       "  'molecular replacer': 'ungrounded',\n",
       "  'morphinone reductase': 'ungrounded',\n",
       "  'morphological response': 'ungrounded',\n",
       "  'mortality rate': 'MESH:D009026',\n",
       "  'mother reared': 'ungrounded',\n",
       "  'motor resonance': 'ungrounded',\n",
       "  'mre11 rad50': 'FPLX:MRN_complex',\n",
       "  'multiple regression': 'ungrounded',\n",
       "  'muscarinic receptor': 'FPLX:CHRM',\n",
       "  'myogenic response': 'ungrounded',\n",
       "  'myricetin 3 rhamnoside': 'ungrounded',\n",
       "  'resistant tme': 'ungrounded'},\n",
       " {'MESH:D008279': 'Magnetic Resonance Imaging',\n",
       "  'MESH:D015416': 'Maillard Reaction',\n",
       "  'CHEBI:CHEBI:64357': 'rituximab',\n",
       "  'FPLX:MRC': 'MRC',\n",
       "  'HGNC:7979': 'NR3C2',\n",
       "  'MESH:D011903': 'Raphe Nuclei',\n",
       "  'MESH:D008499': 'Medical Records',\n",
       "  'GO:GO:0045121': 'membrane raft',\n",
       "  'MESH:D057182': 'Mendelian Randomization Analysis',\n",
       "  'MESH:D008607': 'Intellectual Disability',\n",
       "  'NCIT:C154555': 'Methionine-Restricted Diet',\n",
       "  'CHEBI:CHEBI:49770': 'methyl red',\n",
       "  'GO:GO:0090543': 'Flemming body',\n",
       "  'MESH:D066267': 'Midbrain Raphe Nuclei',\n",
       "  'CHEBI:CHEBI:6949': 'Miroestrol',\n",
       "  'CHEBI:CHEBI:50729': 'mitoxantrone',\n",
       "  'MESH:D008944': 'Mitral Valve Insufficiency',\n",
       "  'MESH:D000081411': 'Augmented Reality',\n",
       "  'MESH:D009026': 'Mortality',\n",
       "  'FPLX:MRN_complex': 'MRN_complex',\n",
       "  'FPLX:CHRM': 'CHRM'},\n",
       " ['FPLX:CHRM',\n",
       "  'FPLX:MRC',\n",
       "  'FPLX:MRN_complex',\n",
       "  'HGNC:7979',\n",
       "  'MESH:D008279',\n",
       "  'MESH:D008607',\n",
       "  'MESH:D008944',\n",
       "  'MESH:D057182',\n",
       "  'NCIT:C154555']]"
      ]
     },
     "execution_count": 8,
     "metadata": {},
     "output_type": "execute_result"
    }
   ],
   "source": [
    "result"
   ]
  },
  {
   "cell_type": "code",
   "execution_count": 9,
   "metadata": {},
   "outputs": [],
   "source": [
    "grounding_map, names, pos_labels = [{'magnetic reduction': 'ungrounded',\n",
    "  'magnetic resonance': 'MESH:D008279',\n",
    "  'magnetic resonance imaging': 'MESH:D008279',\n",
    "  'magneto resistant': 'ungrounded',\n",
    "  'magnetoresistance': 'ungrounded',\n",
    "  'magnetorheological': 'ungrounded',\n",
    "  'maillard reaction': 'MESH:D015416',\n",
    "  'maintenance rituximab': 'CHEBI:CHEBI:64357',\n",
    "  'malarial retinopathy': 'ungrounded',\n",
    "  'mammary rudiment': 'ungrounded',\n",
    "  'mandelate racemase': 'ungrounded',\n",
    "  'manikya rasa': 'ungrounded',\n",
    "  'mannose receptor': 'FPLX:MRC',\n",
    "  'mannose resistant': 'ungrounded',\n",
    "  'marital relationship': 'ungrounded',\n",
    "  'master regulation': 'ungrounded',\n",
    "  'maximal respiration': 'ungrounded',\n",
    "  'mc receptor': 'HGNC:7979',\n",
    "  'meal replacer': 'ungrounded',\n",
    "  'mean survival time ratio': 'ungrounded',\n",
    "  'measles rubella': 'ungrounded',\n",
    "  'medial rectus': 'ungrounded',\n",
    "  'median raphe': 'ungrounded',\n",
    "  'median raphe nucleus': 'MESH:D011903',\n",
    "  'medical reconciliation': 'ungrounded',\n",
    "  'medical records': 'MESH:D008499',\n",
    "  'membrane raft': 'GO:GO:0045121',\n",
    "  'mendelian randomisation': 'MESH:D057182',\n",
    "  'mendelian randomization': 'MESH:D057182',\n",
    "  'mental retardation': 'MESH:D008607',\n",
    "  'mesenteric': 'ungrounded',\n",
    "  'met restriction': 'ungrounded',\n",
    "  'metabolic rate': 'ungrounded',\n",
    "  'metabolic ratio': 'ungrounded',\n",
    "  'metastatic relapse': 'ungrounded',\n",
    "  'methicillin resistant': 'ungrounded',\n",
    "  'methionine restriction': 'NCIT:C154555',\n",
    "  'methyl red': 'CHEBI:CHEBI:49770',\n",
    "  'midbody ring': 'GO:GO:0090543',\n",
    "  'midbrain raphe': 'MESH:D066267',\n",
    "  'middle region': 'ungrounded',\n",
    "  'milk replacer': 'ungrounded',\n",
    "  'mineralcorticoid': 'HGNC:7979',\n",
    "  'mineralcorticoid receptor': 'HGNC:7979',\n",
    "  'mineralocorticoid': 'HGNC:7979',\n",
    "  'mineralocorticoid receptor': 'HGNC:7979',\n",
    "  'mineralocorticosteroid receptor': 'HGNC:7979',\n",
    "  'minireplicon': 'ungrounded',\n",
    "  'minor response': 'ungrounded',\n",
    "  'miroestrol': 'CHEBI:CHEBI:6949',\n",
    "  'mitochondria rich': 'ungrounded',\n",
    "  'mitochondrial restoration': 'ungrounded',\n",
    "  'mitotic rate': 'ungrounded',\n",
    "  'mitotic recombinant': 'ungrounded',\n",
    "  'mitoxantrone': 'CHEBI:CHEBI:50729',\n",
    "  'mitral regurgitation': 'MESH:D008944',\n",
    "  'mitral valve regurgitation': 'MESH:D008944',\n",
    "  'mixed reality': 'MESH:D000081411',\n",
    "  'mixis rate': 'ungrounded',\n",
    "  'mobile relay': 'ungrounded',\n",
    "  'modified release': 'ungrounded',\n",
    "  'molar refractivity': 'ungrounded',\n",
    "  'molecular remission': 'ungrounded',\n",
    "  'molecular replacer': 'ungrounded',\n",
    "  'morphinone reductase': 'ungrounded',\n",
    "  'morphological response': 'ungrounded',\n",
    "  'mortality rate': 'MESH:D009026',\n",
    "  'mother reared': 'ungrounded',\n",
    "  'motor resonance': 'ungrounded',\n",
    "  'mre11 rad50': 'FPLX:MRN_complex',\n",
    "  'multiple regression': 'ungrounded',\n",
    "  'muscarinic receptor': 'FPLX:CHRM',\n",
    "  'myogenic response': 'ungrounded',\n",
    "  'myricetin 3 rhamnoside': 'ungrounded',\n",
    "  'resistant tme': 'ungrounded'},\n",
    " {'MESH:D008279': 'Magnetic Resonance Imaging',\n",
    "  'MESH:D015416': 'Maillard Reaction',\n",
    "  'CHEBI:CHEBI:64357': 'rituximab',\n",
    "  'FPLX:MRC': 'MRC',\n",
    "  'HGNC:7979': 'NR3C2',\n",
    "  'MESH:D011903': 'Raphe Nuclei',\n",
    "  'MESH:D008499': 'Medical Records',\n",
    "  'GO:GO:0045121': 'membrane raft',\n",
    "  'MESH:D057182': 'Mendelian Randomization Analysis',\n",
    "  'MESH:D008607': 'Intellectual Disability',\n",
    "  'NCIT:C154555': 'Methionine-Restricted Diet',\n",
    "  'CHEBI:CHEBI:49770': 'methyl red',\n",
    "  'GO:GO:0090543': 'Flemming body',\n",
    "  'MESH:D066267': 'Midbrain Raphe Nuclei',\n",
    "  'CHEBI:CHEBI:6949': 'Miroestrol',\n",
    "  'CHEBI:CHEBI:50729': 'mitoxantrone',\n",
    "  'MESH:D008944': 'Mitral Valve Insufficiency',\n",
    "  'MESH:D000081411': 'Augmented Reality',\n",
    "  'MESH:D009026': 'Mortality',\n",
    "  'FPLX:MRN_complex': 'MRN_complex',\n",
    "  'FPLX:CHRM': 'CHRM'},\n",
    " ['FPLX:CHRM',\n",
    "  'FPLX:MRC',\n",
    "  'FPLX:MRN_complex',\n",
    "  'HGNC:7979',\n",
    "  'MESH:D008279',\n",
    "  'MESH:D008607',\n",
    "  'MESH:D008944',\n",
    "  'MESH:D057182',\n",
    "  'NCIT:C154555']]"
   ]
  },
  {
   "cell_type": "code",
   "execution_count": 10,
   "metadata": {},
   "outputs": [],
   "source": [
    "excluded_longforms = []"
   ]
  },
  {
   "cell_type": "code",
   "execution_count": 11,
   "metadata": {},
   "outputs": [],
   "source": [
    "grounding_dict = {shortform: {longform: grounding_map[longform] \n",
    "                              for longform, _, _ in longforms if longform in grounding_map\n",
    "                              and longform not in excluded_longforms}\n",
    "                  for shortform, longforms in longform_dict.items()}\n",
    "result = [grounding_dict, names, pos_labels]\n",
    "\n",
    "if not os.path.exists(results_path):\n",
    "    os.mkdir(results_path)\n",
    "with open(os.path.join(results_path, f'{model_name}_preliminary_grounding_info.json'), 'w') as f:\n",
    "    json.dump(result, f)"
   ]
  },
  {
   "cell_type": "code",
   "execution_count": 12,
   "metadata": {},
   "outputs": [],
   "source": [
    "additional_entities = {}"
   ]
  },
  {
   "cell_type": "code",
   "execution_count": 13,
   "metadata": {},
   "outputs": [],
   "source": [
    "unambiguous_agent_texts = {}"
   ]
  },
  {
   "cell_type": "code",
   "execution_count": 14,
   "metadata": {},
   "outputs": [],
   "source": [
    "labeler = AdeftLabeler(grounding_dict)\n",
    "corpus = labeler.build_from_texts((text, pmid) for pmid, text in all_texts.items())\n",
    "agent_text_pmid_map = defaultdict(list)\n",
    "for text, label, id_ in corpus:\n",
    "    agent_text_pmid_map[label].append(id_)\n",
    "\n",
    "entity_pmid_map = {entity: set(get_pmids_for_entity(*entity.split(':', maxsplit=1),\n",
    "                                                major_topic=True))for entity in additional_entities}"
   ]
  },
  {
   "cell_type": "code",
   "execution_count": 15,
   "metadata": {},
   "outputs": [],
   "source": [
    "intersection1 = []\n",
    "for entity1, pmids1 in entity_pmid_map.items():\n",
    "    for entity2, pmids2 in entity_pmid_map.items():\n",
    "        intersection1.append((entity1, entity2, len(pmids1 & pmids2)))"
   ]
  },
  {
   "cell_type": "code",
   "execution_count": 16,
   "metadata": {},
   "outputs": [],
   "source": [
    "intersection2 = []\n",
    "for entity1, pmids1 in agent_text_pmid_map.items():\n",
    "    for entity2, pmids2 in entity_pmid_map.items():\n",
    "        intersection2.append((entity1, entity2, len(set(pmids1) & pmids2)))"
   ]
  },
  {
   "cell_type": "code",
   "execution_count": 17,
   "metadata": {},
   "outputs": [
    {
     "data": {
      "text/plain": [
       "[]"
      ]
     },
     "execution_count": 17,
     "metadata": {},
     "output_type": "execute_result"
    }
   ],
   "source": [
    "intersection1"
   ]
  },
  {
   "cell_type": "code",
   "execution_count": 18,
   "metadata": {},
   "outputs": [
    {
     "data": {
      "text/plain": [
       "[]"
      ]
     },
     "execution_count": 18,
     "metadata": {},
     "output_type": "execute_result"
    }
   ],
   "source": [
    "intersection2"
   ]
  },
  {
   "cell_type": "code",
   "execution_count": null,
   "metadata": {},
   "outputs": [],
   "source": []
  },
  {
   "cell_type": "code",
   "execution_count": 20,
   "metadata": {},
   "outputs": [],
   "source": [
    "all_used_pmids = set()\n",
    "for entity, agent_texts in unambiguous_agent_texts.items():\n",
    "    used_pmids = set()\n",
    "    for agent_text in agent_texts:\n",
    "        pmids = set(get_pmids_for_agent_text(agent_text))\n",
    "        new_pmids = list(pmids - all_texts.keys() - used_pmids)\n",
    "        text_dict = get_plaintexts_for_pmids(new_pmids, contains=agent_texts)\n",
    "        corpus.extend([(text, entity, pmid) for pmid, text in text_dict.items()])\n",
    "        used_pmids.update(new_pmids)\n",
    "    all_used_pmids.update(used_pmids)\n",
    "        \n",
    "for entity, pmids in entity_pmid_map.items():\n",
    "    new_pmids = list(set(pmids) - all_texts.keys() - all_used_pmids)\n",
    "    if len(new_pmids) > 10000:\n",
    "        new_pmids = random.choices(new_pmids, k=10000)\n",
    "    text_dict = get_plaintexts_for_pmids(new_pmids, contains=['RTCA', 'RTCD1', 'RPC', 'RTC1', 'RTC'])\n",
    "    corpus.extend([(text, entity, pmid) for pmid, text in text_dict.items()])"
   ]
  },
  {
   "cell_type": "code",
   "execution_count": null,
   "metadata": {},
   "outputs": [],
   "source": [
    "names.update(additional_entitie)"
   ]
  },
  {
   "cell_type": "code",
   "execution_count": 19,
   "metadata": {},
   "outputs": [
    {
     "name": "stderr",
     "output_type": "stream",
     "text": [
      "INFO: [2020-10-03 02:39:14] /adeft/PythonRepos/adeft/adeft/modeling/classify.py - Beginning grid search in parameter space:\n",
      "{'C': [100.0], 'max_features': [10000]}\n",
      "INFO: [2020-10-03 02:40:44] /adeft/PythonRepos/adeft/adeft/modeling/classify.py - Best f1 score of 0.976864242773471 found for parameter values:\n",
      "{'logit__C': 100.0, 'tfidf__max_features': 10000}\n"
     ]
    }
   ],
   "source": [
    "%%capture\n",
    "\n",
    "classifier = AdeftClassifier(shortforms, pos_labels=pos_labels, random_state=1729)\n",
    "param_grid = {'C': [100.0], 'max_features': [10000]}\n",
    "texts, labels, pmids = zip(*corpus)\n",
    "classifier.cv(texts, labels, param_grid, cv=5, n_jobs=5)"
   ]
  },
  {
   "cell_type": "code",
   "execution_count": 20,
   "metadata": {
    "scrolled": true
   },
   "outputs": [
    {
     "data": {
      "text/plain": [
       "{'label_distribution': {'ungrounded': 243,\n",
       "  'HGNC:7979': 1231,\n",
       "  'MESH:D008279': 980,\n",
       "  'FPLX:CHRM': 21,\n",
       "  'MESH:D008944': 320,\n",
       "  'MESH:D011903': 9,\n",
       "  'MESH:D008607': 34,\n",
       "  'MESH:D066267': 5,\n",
       "  'MESH:D009026': 7,\n",
       "  'FPLX:MRC': 252,\n",
       "  'MESH:D015416': 11,\n",
       "  'NCIT:C154555': 65,\n",
       "  'FPLX:MRN_complex': 14,\n",
       "  'GO:GO:0045121': 12,\n",
       "  'CHEBI:CHEBI:64357': 4,\n",
       "  'CHEBI:CHEBI:50729': 3,\n",
       "  'MESH:D008499': 2,\n",
       "  'CHEBI:CHEBI:49770': 5,\n",
       "  'CHEBI:CHEBI:6949': 4,\n",
       "  'MESH:D057182': 34,\n",
       "  'GO:GO:0090543': 2,\n",
       "  'MESH:D000081411': 4},\n",
       " 'f1': {'mean': 0.976864, 'std': 0.004349},\n",
       " 'precision': {'mean': 0.972227, 'std': 0.003904},\n",
       " 'recall': {'mean': 0.983057, 'std': 0.003554},\n",
       " 'CHEBI:CHEBI:49770': {'f1': {'mean': 0.0, 'std': 0.0},\n",
       "  'pr': {'mean': 0.0, 'std': 0.0},\n",
       "  'rc': {'mean': 0.0, 'std': 0.0}},\n",
       " 'MESH:D008944': {'f1': {'mean': 0.989098, 'std': 0.006177},\n",
       "  'pr': {'mean': 0.990625, 'std': 0.007655},\n",
       "  'rc': {'mean': 0.987692, 'std': 0.011513}},\n",
       " 'MESH:D057182': {'f1': {'mean': 1.0, 'std': 0.0},\n",
       "  'pr': {'mean': 1.0, 'std': 0.0},\n",
       "  'rc': {'mean': 1.0, 'std': 0.0}},\n",
       " 'MESH:D015416': {'f1': {'mean': 0.56, 'std': 0.284722},\n",
       "  'pr': {'mean': 0.433333, 'std': 0.226078},\n",
       "  'rc': {'mean': 0.8, 'std': 0.4}},\n",
       " 'CHEBI:CHEBI:50729': {'f1': {'mean': 0.4, 'std': 0.489898},\n",
       "  'pr': {'mean': 0.4, 'std': 0.489898},\n",
       "  'rc': {'mean': 0.4, 'std': 0.489898}},\n",
       " 'MESH:D066267': {'f1': {'mean': 0.6, 'std': 0.489898},\n",
       "  'pr': {'mean': 0.6, 'std': 0.489898},\n",
       "  'rc': {'mean': 0.6, 'std': 0.489898}},\n",
       " 'MESH:D000081411': {'f1': {'mean': 0.4, 'std': 0.489898},\n",
       "  'pr': {'mean': 0.4, 'std': 0.489898},\n",
       "  'rc': {'mean': 0.4, 'std': 0.489898}},\n",
       " 'CHEBI:CHEBI:6949': {'f1': {'mean': 0.2, 'std': 0.4},\n",
       "  'pr': {'mean': 0.2, 'std': 0.4},\n",
       "  'rc': {'mean': 0.2, 'std': 0.4}},\n",
       " 'CHEBI:CHEBI:64357': {'f1': {'mean': 0.2, 'std': 0.4},\n",
       "  'pr': {'mean': 0.2, 'std': 0.4},\n",
       "  'rc': {'mean': 0.2, 'std': 0.4}},\n",
       " 'GO:GO:0090543': {'f1': {'mean': 0.0, 'std': 0.0},\n",
       "  'pr': {'mean': 0.0, 'std': 0.0},\n",
       "  'rc': {'mean': 0.0, 'std': 0.0}},\n",
       " 'FPLX:MRN_complex': {'f1': {'mean': 1.0, 'std': 0.0},\n",
       "  'pr': {'mean': 1.0, 'std': 0.0},\n",
       "  'rc': {'mean': 1.0, 'std': 0.0}},\n",
       " 'HGNC:7979': {'f1': {'mean': 0.981144, 'std': 0.00318},\n",
       "  'pr': {'mean': 0.992693, 'std': 0.003971},\n",
       "  'rc': {'mean': 0.969919, 'std': 0.007819}},\n",
       " 'MESH:D008499': {'f1': {'mean': 0.0, 'std': 0.0},\n",
       "  'pr': {'mean': 0.0, 'std': 0.0},\n",
       "  'rc': {'mean': 0.0, 'std': 0.0}},\n",
       " 'MESH:D011903': {'f1': {'mean': 0.366667, 'std': 0.305505},\n",
       "  'pr': {'mean': 0.4, 'std': 0.374166},\n",
       "  'rc': {'mean': 0.4, 'std': 0.374166}},\n",
       " 'FPLX:MRC': {'f1': {'mean': 0.964812, 'std': 0.00997},\n",
       "  'pr': {'mean': 0.980078, 'std': 0.01265},\n",
       "  'rc': {'mean': 0.950195, 'std': 0.014553}},\n",
       " 'GO:GO:0045121': {'f1': {'mean': 0.66, 'std': 0.377359},\n",
       "  'pr': {'mean': 0.6, 'std': 0.38873},\n",
       "  'rc': {'mean': 0.8, 'std': 0.4}},\n",
       " 'MESH:D008279': {'f1': {'mean': 0.986789, 'std': 0.005891},\n",
       "  'pr': {'mean': 0.990816, 'std': 0.006769},\n",
       "  'rc': {'mean': 0.982817, 'std': 0.006826}},\n",
       " 'ungrounded': {'f1': {'mean': 0.832583, 'std': 0.036395},\n",
       "  'pr': {'mean': 0.851616, 'std': 0.044976},\n",
       "  'rc': {'mean': 0.814822, 'std': 0.032573}},\n",
       " 'MESH:D009026': {'f1': {'mean': 0.0, 'std': 0.0},\n",
       "  'pr': {'mean': 0.0, 'std': 0.0},\n",
       "  'rc': {'mean': 0.0, 'std': 0.0}},\n",
       " 'NCIT:C154555': {'f1': {'mean': 0.92849, 'std': 0.055526},\n",
       "  'pr': {'mean': 0.923077, 'std': 0.084265},\n",
       "  'rc': {'mean': 0.936763, 'std': 0.032269}},\n",
       " 'FPLX:CHRM': {'f1': {'mean': 0.508571, 'std': 0.32244},\n",
       "  'pr': {'mean': 0.43, 'std': 0.331059},\n",
       "  'rc': {'mean': 0.733333, 'std': 0.38873}},\n",
       " 'MESH:D008607': {'f1': {'mean': 0.858375, 'std': 0.055378},\n",
       "  'pr': {'mean': 0.795238, 'std': 0.066667},\n",
       "  'rc': {'mean': 0.938095, 'std': 0.07619}}}"
      ]
     },
     "execution_count": 20,
     "metadata": {},
     "output_type": "execute_result"
    }
   ],
   "source": [
    "classifier.stats"
   ]
  },
  {
   "cell_type": "code",
   "execution_count": 21,
   "metadata": {},
   "outputs": [],
   "source": [
    "disamb = AdeftDisambiguator(classifier, grounding_dict, names)"
   ]
  },
  {
   "cell_type": "code",
   "execution_count": 22,
   "metadata": {},
   "outputs": [],
   "source": [
    "disamb.dump(model_name, results_path)"
   ]
  },
  {
   "cell_type": "code",
   "execution_count": 23,
   "metadata": {},
   "outputs": [
    {
     "name": "stdout",
     "output_type": "stream",
     "text": [
      "Disambiguation model for MR\n",
      "\n",
      "Produces the disambiguations:\n",
      "\tAugmented Reality\tMESH:D000081411\n",
      "\tCHRM*\tFPLX:CHRM\n",
      "\tFlemming body\tGO:GO:0090543\n",
      "\tIntellectual Disability*\tMESH:D008607\n",
      "\tMRC*\tFPLX:MRC\n",
      "\tMRN_complex*\tFPLX:MRN_complex\n",
      "\tMagnetic Resonance Imaging*\tMESH:D008279\n",
      "\tMaillard Reaction\tMESH:D015416\n",
      "\tMedical Records\tMESH:D008499\n",
      "\tMendelian Randomization Analysis*\tMESH:D057182\n",
      "\tMethionine-Restricted Diet*\tNCIT:C154555\n",
      "\tMidbrain Raphe Nuclei\tMESH:D066267\n",
      "\tMiroestrol\tCHEBI:CHEBI:6949\n",
      "\tMitral Valve Insufficiency*\tMESH:D008944\n",
      "\tMortality\tMESH:D009026\n",
      "\tNR3C2*\tHGNC:7979\n",
      "\tRaphe Nuclei\tMESH:D011903\n",
      "\tmembrane raft\tGO:GO:0045121\n",
      "\tmethyl red\tCHEBI:CHEBI:49770\n",
      "\tmitoxantrone\tCHEBI:CHEBI:50729\n",
      "\trituximab\tCHEBI:CHEBI:64357\n",
      "\n",
      "Class level metrics:\n",
      "--------------------\n",
      "Grounding                       \tCount\tF1     \n",
      "                           NR3C2*\t1231\t0.98114\n",
      "      Magnetic Resonance Imaging*\t 980\t0.98679\n",
      "      Mitral Valve Insufficiency*\t 320\t 0.9891\n",
      "                             MRC*\t 252\t0.96481\n",
      "                      Ungrounded\t 243\t0.83258\n",
      "      Methionine-Restricted Diet*\t  65\t0.92849\n",
      "         Intellectual Disability*\t  34\t0.85838\n",
      "Mendelian Randomization Analysis*\t  34\t    1.0\n",
      "                            CHRM*\t  21\t0.50857\n",
      "                     MRN_complex*\t  14\t    1.0\n",
      "                   membrane raft\t  12\t   0.66\n",
      "               Maillard Reaction\t  11\t   0.56\n",
      "                    Raphe Nuclei\t   9\t0.36667\n",
      "                       Mortality\t   7\t    0.0\n",
      "           Midbrain Raphe Nuclei\t   5\t    0.6\n",
      "                      methyl red\t   5\t    0.0\n",
      "                       rituximab\t   4\t    0.2\n",
      "                      Miroestrol\t   4\t    0.2\n",
      "               Augmented Reality\t   4\t    0.4\n",
      "                    mitoxantrone\t   3\t    0.4\n",
      "                 Medical Records\t   2\t    0.0\n",
      "                   Flemming body\t   2\t    0.0\n",
      "\n",
      "Weighted Metrics:\n",
      "-----------------\n",
      "\tF1 score:\t0.97686\n",
      "\tPrecision:\t0.97223\n",
      "\tRecall:\t\t0.98306\n",
      "\n",
      "* Positive labels\n",
      "See Docstring for explanation\n",
      "\n"
     ]
    }
   ],
   "source": [
    "print(disamb.info())"
   ]
  },
  {
   "cell_type": "code",
   "execution_count": 29,
   "metadata": {},
   "outputs": [],
   "source": [
    "# model_to_s3(disamb)"
   ]
  },
  {
   "cell_type": "code",
   "execution_count": null,
   "metadata": {},
   "outputs": [],
   "source": []
  }
 ],
 "metadata": {
  "kernelspec": {
   "display_name": "Python 3",
   "language": "python",
   "name": "python3"
  },
  "language_info": {
   "codemirror_mode": {
    "name": "ipython",
    "version": 3
   },
   "file_extension": ".py",
   "mimetype": "text/x-python",
   "name": "python",
   "nbconvert_exporter": "python",
   "pygments_lexer": "ipython3",
   "version": "3.8.4"
  }
 },
 "nbformat": 4,
 "nbformat_minor": 2
}
