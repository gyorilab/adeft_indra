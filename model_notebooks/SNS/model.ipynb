{
 "cells": [
  {
   "cell_type": "code",
   "execution_count": 1,
   "metadata": {},
   "outputs": [],
   "source": [
    "import os\n",
    "import json\n",
    "import pickle\n",
    "import random\n",
    "from collections import defaultdict, Counter\n",
    "\n",
    "from indra.literature.adeft_tools import universal_extract_text\n",
    "from indra.databases.hgnc_client import get_hgnc_name, get_hgnc_id\n",
    "\n",
    "from adeft.discover import AdeftMiner\n",
    "from adeft.gui import ground_with_gui\n",
    "from adeft.modeling.label import AdeftLabeler\n",
    "from adeft.modeling.classify import AdeftClassifier\n",
    "from adeft.disambiguate import AdeftDisambiguator, load_disambiguator\n",
    "\n",
    "\n",
    "from adeft_indra.ground.ground import AdeftGrounder\n",
    "from adeft_indra.model_building.s3 import model_to_s3\n",
    "from adeft_indra.model_building.escape import escape_filename\n",
    "from adeft_indra.db.content import get_pmids_for_agent_text, get_pmids_for_entity, \\\n",
    "    get_plaintexts_for_pmids"
   ]
  },
  {
   "cell_type": "code",
   "execution_count": 2,
   "metadata": {},
   "outputs": [],
   "source": [
    "adeft_grounder = AdeftGrounder()"
   ]
  },
  {
   "cell_type": "code",
   "execution_count": 3,
   "metadata": {},
   "outputs": [],
   "source": [
    "shortforms = ['SNS']\n",
    "model_name = ':'.join(sorted(escape_filename(shortform) for shortform in shortforms))\n",
    "results_path = os.path.abspath(os.path.join('../..', 'results', model_name))"
   ]
  },
  {
   "cell_type": "code",
   "execution_count": 4,
   "metadata": {},
   "outputs": [],
   "source": [
    "miners = dict()\n",
    "all_texts = {}\n",
    "for shortform in shortforms:\n",
    "    pmids = get_pmids_for_agent_text(shortform)\n",
    "    if len(pmids) > 10000:\n",
    "        pmids = random.choices(pmids, k=10000)\n",
    "    text_dict = get_plaintexts_for_pmids(pmids, contains=shortforms)\n",
    "    text_dict = {pmid: text for pmid, text in text_dict.items() if len(text) > 5}\n",
    "    miners[shortform] = AdeftMiner(shortform)\n",
    "    miners[shortform].process_texts(text_dict.values())\n",
    "    all_texts.update(text_dict)\n",
    "\n",
    "longform_dict = {}\n",
    "for shortform in shortforms:\n",
    "    longforms = miners[shortform].get_longforms()\n",
    "    longforms = [(longform, count, score) for longform, count, score in longforms\n",
    "                 if count*score > 2]\n",
    "    longform_dict[shortform] = longforms\n",
    "    \n",
    "combined_longforms = Counter()\n",
    "for longform_rows in longform_dict.values():\n",
    "    combined_longforms.update({longform: count for longform, count, score\n",
    "                               in longform_rows})\n",
    "grounding_map = {}\n",
    "names = {}\n",
    "for longform in combined_longforms:\n",
    "    groundings = adeft_grounder.ground(longform)\n",
    "    if groundings:\n",
    "        grounding = groundings[0]['grounding']\n",
    "        grounding_map[longform] = grounding\n",
    "        names[grounding] = groundings[0]['name']\n",
    "longforms, counts = zip(*combined_longforms.most_common())\n",
    "pos_labels = []"
   ]
  },
  {
   "cell_type": "code",
   "execution_count": 5,
   "metadata": {},
   "outputs": [
    {
     "data": {
      "text/plain": [
       "[('sympathetic nervous system', 728),\n",
       " ('sympathetic nerve stimulation', 24),\n",
       " ('sacral nerve stimulation', 21),\n",
       " ('social networking sites', 9),\n",
       " ('sympathetic nerve system', 8),\n",
       " ('sini san', 7),\n",
       " ('sinisan', 6),\n",
       " ('secondary neurospheres', 4),\n",
       " ('sciatic nerve stimulation', 3),\n",
       " ('splanchnic nerve stimulation', 3),\n",
       " ('negative symptoms scale', 3),\n",
       " ('short nascent dna strands', 3)]"
      ]
     },
     "execution_count": 5,
     "metadata": {},
     "output_type": "execute_result"
    }
   ],
   "source": [
    "list(zip(longforms, counts))"
   ]
  },
  {
   "cell_type": "code",
   "execution_count": 8,
   "metadata": {},
   "outputs": [
    {
     "name": "stderr",
     "output_type": "stream",
     "text": [
      "INFO: [2020-10-29 03:23:16] indra.ontology.bio.ontology - Loading INDRA bio ontology from cache at /home/ubuntu/.indra/bio_ontology/1.4/bio_ontology.pkl\n"
     ]
    }
   ],
   "source": [
    "grounding_map, names, pos_labels = ground_with_gui(longforms, counts, \n",
    "                                                   grounding_map=grounding_map,\n",
    "                                                   names=names, pos_labels=pos_labels, no_browser=True, port=8891)"
   ]
  },
  {
   "cell_type": "code",
   "execution_count": 7,
   "metadata": {},
   "outputs": [],
   "source": [
    "result = [grounding_map, names, pos_labels]"
   ]
  },
  {
   "cell_type": "code",
   "execution_count": 8,
   "metadata": {},
   "outputs": [
    {
     "data": {
      "text/plain": [
       "[{'benzaldehyde lyase': 'MESH:C059416',\n",
       "  'betaine aldehyde': 'CHEBI:CHEBI:15710',\n",
       "  'bile salt activity lipase': 'HGNC:1848',\n",
       "  'bioartificial liver': 'MESH:D019164',\n",
       "  'blood alcohol levels': 'ungrounded',\n",
       "  'breath alcohol levels': 'ungrounded',\n",
       "  'british anti lewisite': 'CHEBI:CHEBI:64198',\n",
       "  'brochoalveolar lavage': 'MESH:D018893',\n",
       "  'bronchalveolar lavage': 'MESH:D018893',\n",
       "  'bronchial alveolar lavage': 'MESH:D018893',\n",
       "  'bronchial lavage': 'MESH:D018893',\n",
       "  'bronchio alveolar lavage': 'MESH:D018893',\n",
       "  'bronchiolar lavage': 'MESH:D018893',\n",
       "  'broncho alveolar lavage': 'MESH:D018893',\n",
       "  'bronchoalveolar': 'MESH:D018893',\n",
       "  'bronchoalveolar fluid': 'MESH:D018893',\n",
       "  'bronchoalveolar larvage': 'MESH:D018893',\n",
       "  'bronchoalveolar lavage': 'MESH:D018893'},\n",
       " {'MESH:C059416': 'benzaldehyde lyase',\n",
       "  'CHEBI:CHEBI:15710': 'betaine aldehyde',\n",
       "  'HGNC:1848': 'CEL',\n",
       "  'MESH:D019164': 'Liver, Artificial',\n",
       "  'CHEBI:CHEBI:64198': 'dimercaprol',\n",
       "  'MESH:D018893': 'Bronchoalveolar Lavage'},\n",
       " ['HGNC:1848', 'MESH:D018893']]"
      ]
     },
     "execution_count": 8,
     "metadata": {},
     "output_type": "execute_result"
    }
   ],
   "source": [
    "result"
   ]
  },
  {
   "cell_type": "code",
   "execution_count": 13,
   "metadata": {},
   "outputs": [],
   "source": [
    "grounding_map, names, pos_labels = [{'sacral nerve stimulation': 'ungrounded',\n",
    "  'secondary neurospheres': 'ungrounded',\n",
    "  'serevent nationwide surveillance': 'ungrounded',\n",
    "  'short nascent dna strands': 'ungrounded',\n",
    "  'sini san': 'ungrounded',\n",
    "  'sinisan': 'ungrounded',\n",
    "  'social networking sites': 'ungrounded',\n",
    "  'sympathetic': 'MESH:D013564',\n",
    "  'sympathetic nerve stimulation': 'MESH:D013564',\n",
    "  'sympathetic nerve system': 'MESH:D013564',\n",
    "  'sympathetic nervous system': 'MESH:D013564'},\n",
    " {'MESH:D013564': 'Sympathetic Nervous System', 'HGNC:10582': 'SCN10A'},\n",
    " ['MESH:D013564', 'HGNC:10582']]"
   ]
  },
  {
   "cell_type": "code",
   "execution_count": 14,
   "metadata": {},
   "outputs": [],
   "source": [
    "excluded_longforms = []"
   ]
  },
  {
   "cell_type": "code",
   "execution_count": 15,
   "metadata": {},
   "outputs": [],
   "source": [
    "grounding_dict = {shortform: {longform: grounding_map[longform] \n",
    "                              for longform, _, _ in longforms if longform in grounding_map\n",
    "                              and longform not in excluded_longforms}\n",
    "                  for shortform, longforms in longform_dict.items()}\n",
    "result = [grounding_dict, names, pos_labels]\n",
    "\n",
    "if not os.path.exists(results_path):\n",
    "    os.mkdir(results_path)\n",
    "with open(os.path.join(results_path, f'{model_name}_preliminary_grounding_info.json'), 'w') as f:\n",
    "    json.dump(result, f)"
   ]
  },
  {
   "cell_type": "code",
   "execution_count": 16,
   "metadata": {},
   "outputs": [],
   "source": [
    "additional_entities = {'HGNC:10582': ['SCN10A', ['SNS']]}"
   ]
  },
  {
   "cell_type": "code",
   "execution_count": 17,
   "metadata": {},
   "outputs": [],
   "source": [
    "unambiguous_agent_texts = {}"
   ]
  },
  {
   "cell_type": "code",
   "execution_count": 18,
   "metadata": {},
   "outputs": [],
   "source": [
    "labeler = AdeftLabeler(grounding_dict)\n",
    "corpus = labeler.build_from_texts((text, pmid) for pmid, text in all_texts.items())\n",
    "agent_text_pmid_map = defaultdict(list)\n",
    "for text, label, id_ in corpus:\n",
    "    agent_text_pmid_map[label].append(id_)\n",
    "\n",
    "entity_pmid_map = {entity: set(get_pmids_for_entity(*entity.split(':', maxsplit=1),\n",
    "                                                major_topic=True))for entity in additional_entities}"
   ]
  },
  {
   "cell_type": "code",
   "execution_count": 19,
   "metadata": {},
   "outputs": [],
   "source": [
    "intersection1 = []\n",
    "for entity1, pmids1 in entity_pmid_map.items():\n",
    "    for entity2, pmids2 in entity_pmid_map.items():\n",
    "        intersection1.append((entity1, entity2, len(pmids1 & pmids2)))"
   ]
  },
  {
   "cell_type": "code",
   "execution_count": 20,
   "metadata": {},
   "outputs": [],
   "source": [
    "intersection2 = []\n",
    "for entity1, pmids1 in agent_text_pmid_map.items():\n",
    "    for entity2, pmids2 in entity_pmid_map.items():\n",
    "        intersection2.append((entity1, entity2, len(set(pmids1) & pmids2)))"
   ]
  },
  {
   "cell_type": "code",
   "execution_count": 21,
   "metadata": {},
   "outputs": [
    {
     "data": {
      "text/plain": [
       "[('HGNC:10582', 'HGNC:10582', 186)]"
      ]
     },
     "execution_count": 21,
     "metadata": {},
     "output_type": "execute_result"
    }
   ],
   "source": [
    "intersection1"
   ]
  },
  {
   "cell_type": "code",
   "execution_count": 22,
   "metadata": {},
   "outputs": [
    {
     "data": {
      "text/plain": [
       "[('MESH:D013564', 'HGNC:10582', 0), ('ungrounded', 'HGNC:10582', 0)]"
      ]
     },
     "execution_count": 22,
     "metadata": {},
     "output_type": "execute_result"
    }
   ],
   "source": [
    "intersection2"
   ]
  },
  {
   "cell_type": "code",
   "execution_count": 23,
   "metadata": {},
   "outputs": [],
   "source": [
    "all_used_pmids = set()\n",
    "for entity, agent_texts in unambiguous_agent_texts.items():\n",
    "    used_pmids = set()\n",
    "    for agent_text in agent_texts[1]:\n",
    "        pmids = set(get_pmids_for_agent_text(agent_text))\n",
    "        new_pmids = list(pmids - all_texts.keys() - used_pmids)\n",
    "        text_dict = get_plaintexts_for_pmids(new_pmids, contains=agent_texts)\n",
    "        corpus.extend([(text, entity, pmid) for pmid, text in text_dict.items() if len(text) >= 5])\n",
    "        used_pmids.update(new_pmids)\n",
    "    all_used_pmids.update(used_pmids)\n",
    "        \n",
    "for entity, pmids in entity_pmid_map.items():\n",
    "    new_pmids = list(set(pmids) - all_texts.keys() - all_used_pmids)\n",
    "    if len(new_pmids) > 10000:\n",
    "        new_pmids = random.choices(new_pmids, k=10000)\n",
    "    _, contains = additional_entities[entity]\n",
    "    text_dict = get_plaintexts_for_pmids(new_pmids, contains=contains)\n",
    "    corpus.extend([(text, entity, pmid) for pmid, text in text_dict.items() if len(text) >= 5])"
   ]
  },
  {
   "cell_type": "code",
   "execution_count": 24,
   "metadata": {},
   "outputs": [],
   "source": [
    "names.update({key: value[0] for key, value in additional_entities.items()})\n",
    "names.update({key: value[0] for key, value in unambiguous_agent_texts.items()})\n",
    "pos_labels = list(set(pos_labels) | additional_entities.keys() |\n",
    "                  unambiguous_agent_texts.keys())"
   ]
  },
  {
   "cell_type": "code",
   "execution_count": 25,
   "metadata": {},
   "outputs": [
    {
     "name": "stderr",
     "output_type": "stream",
     "text": [
      "INFO: [2020-10-29 03:30:32] /adeft/PP/adeft/adeft/modeling/classify.py - Beginning grid search in parameter space:\n",
      "{'C': [100.0], 'max_features': [10000]}\n",
      "INFO: [2020-10-29 03:30:39] /adeft/PP/adeft/adeft/modeling/classify.py - Best f1 score of 0.9836460516337551 found for parameter values:\n",
      "{'logit__C': 100.0, 'tfidf__max_features': 10000}\n"
     ]
    }
   ],
   "source": [
    "%%capture\n",
    "\n",
    "classifier = AdeftClassifier(shortforms, pos_labels=pos_labels, random_state=1729)\n",
    "param_grid = {'C': [100.0], 'max_features': [10000]}\n",
    "texts, labels, pmids = zip(*corpus)\n",
    "classifier.cv(texts, labels, param_grid, cv=5, n_jobs=5)"
   ]
  },
  {
   "cell_type": "code",
   "execution_count": 26,
   "metadata": {
    "scrolled": true
   },
   "outputs": [
    {
     "data": {
      "text/plain": [
       "{'label_distribution': {'MESH:D013564': 615,\n",
       "  'ungrounded': 32,\n",
       "  'HGNC:10582': 8},\n",
       " 'f1': {'mean': 0.983646, 'std': 0.005567},\n",
       " 'precision': {'mean': 0.971981, 'std': 0.005953},\n",
       " 'recall': {'mean': 0.9968, 'std': 0.003919},\n",
       " 'MESH:D013564': {'f1': {'mean': 0.985587, 'std': 0.00315},\n",
       "  'pr': {'mean': 1.0, 'std': 0.0},\n",
       "  'rc': {'mean': 0.971603, 'std': 0.006107}},\n",
       " 'HGNC:10582': {'f1': {'mean': 0.866667, 'std': 0.163299},\n",
       "  'pr': {'mean': 0.8, 'std': 0.244949},\n",
       "  'rc': {'mean': 1.0, 'std': 0.0}},\n",
       " 'ungrounded': {'f1': {'mean': 0.607576, 'std': 0.180831},\n",
       "  'pr': {'mean': 0.461905, 'std': 0.151036},\n",
       "  'rc': {'mean': 0.9, 'std': 0.2}}}"
      ]
     },
     "execution_count": 26,
     "metadata": {},
     "output_type": "execute_result"
    }
   ],
   "source": [
    "classifier.stats"
   ]
  },
  {
   "cell_type": "code",
   "execution_count": 27,
   "metadata": {},
   "outputs": [],
   "source": [
    "disamb = AdeftDisambiguator(classifier, grounding_dict, names)"
   ]
  },
  {
   "cell_type": "code",
   "execution_count": 28,
   "metadata": {},
   "outputs": [],
   "source": [
    "disamb.dump(model_name, results_path)"
   ]
  },
  {
   "cell_type": "code",
   "execution_count": 29,
   "metadata": {},
   "outputs": [
    {
     "name": "stdout",
     "output_type": "stream",
     "text": [
      "Disambiguation model for SNS\n",
      "\n",
      "Produces the disambiguations:\n",
      "\tSCN10A*\tHGNC:10582\n",
      "\tSympathetic Nervous System*\tMESH:D013564\n",
      "\n",
      "Class level metrics:\n",
      "--------------------\n",
      "Grounding                 \tCount\tF1     \n",
      "Sympathetic Nervous System*\t615\t0.98559\n",
      "                Ungrounded\t 32\t0.60758\n",
      "                    SCN10A*\t  8\t0.86667\n",
      "\n",
      "Weighted Metrics:\n",
      "-----------------\n",
      "\tF1 score:\t0.98365\n",
      "\tPrecision:\t0.97198\n",
      "\tRecall:\t\t0.9968\n",
      "\n",
      "* Positive labels\n",
      "See Docstring for explanation\n",
      "\n"
     ]
    }
   ],
   "source": [
    "print(disamb.info())"
   ]
  },
  {
   "cell_type": "code",
   "execution_count": 40,
   "metadata": {},
   "outputs": [],
   "source": [
    "model_to_s3(disamb)"
   ]
  },
  {
   "cell_type": "code",
   "execution_count": 37,
   "metadata": {},
   "outputs": [],
   "source": [
    "t = [x[0] for x in corpus if x[1].startswith('HGNC')]"
   ]
  },
  {
   "cell_type": "code",
   "execution_count": 39,
   "metadata": {},
   "outputs": [
    {
     "name": "stdout",
     "output_type": "stream",
     "text": [
      "Neuropathic pain may be produced, at least in part, by the increased activity of primary afferent neurons. Studies have suggested that an accumulation of voltage-gated sodium channels at the site of peripheral nerve injury is a primary precursory event for subsequent afferent hyperexcitability. In this study, a human sodium channel (hPN3, SCN10A) has been cloned from the lumbar 4/5 dorsal root ganglia (DRG). Expression of hPN3 in Xenopus oocytes showed that this clone is a functional voltage-gated sodium channel. The amino acid sequence of hPN3 is most closely related to the rat PN3/SNS sodium channels which are expressed primarily in the small neurons of rat DRGs. The homologous relationship between rPN3 and hPN3 is defined by (i) a high level of sequence identity (ii) sodium currents that are highly resistant to tetrodotoxin (TTX) (iii) similar tissue distribution profiles and (iv) orthologous chromosomal map positions. Since rPN3/SNS has been implicated in nociceptive transmission, hPN3 may prove to be a valuable target for therapeutic agents against neuropathic pain.\n",
      "\n",
      "\n",
      "Ten distinct pore-forming voltage-gated sodium channel α-subunits have been identified by molecular cloning  [6] . The tetrodotoxin-resistant sodium channel Na V 1.8/SNS is expressed predominantly in small diameter sensory neurons in the dorsal root and cranial sensory ganglia and plays an important role in pain pathways  [1] . Four auxiliary β-subunits which associate with sodium channel α-subunits have been identified  [7,8,10,14] . Co-expression of β-subunits with α-subunits such as Na V 1.2 in mammalian cell lines and  Xenopus  oocytes results in an increased level of expression of sodium currents. The voltage dependence of activation and inactivation also shifts to levels closer to the values exhibited by endogenous channels  [7] . In the case of Na V 1.8, the β 1  subunit up-regulates expression in  Xenopus  oocytes  [21] . β 3  also up-regulates functional Na V 1.8 expression in a mammalian cell line  [18] . However, none of the β-subunits increase functional Na V 1.8 expression to endogenous levels seen in DRG, and the properties of the expressed α-subunits are aberrant in terms of their current–voltage relationship and kinetics. In contrast, microinjection of Na V 1.8 cDNA into the nuclei of DRG neurons of Na V 1.8 null mutant mice or superior cervical ganglia (SCG) neurons results in high level expression of sodium currents which show the same channel properties as those observed in wild-type DRG neurons  [1,3] . This suggests that normal levels of Na V 1.8 sodium channel expression require the presence of, as yet, unidentified accessory subunits.\n",
      "\n",
      "\n",
      "In attempt to understand the underlying mechanisms of cancer-induced bone pain, we investigated the presence of two tetrodotoxin-resistant sodium channels, Nav1.8 (SNS/PN3) and Nav1.9 (SNS2/NaN), in dorsal root ganglia (DRG) neurons in an animal model of bone cancer pain. Thirty-six female Sprague-Dawley rats were randomized into three groups: Sham operation group (Sham), cancer-bearing animals killed after 7 days (C7) and cancer-bearing animals killed after 14 days group (C14). After establishment of bone cancer pain model, behavioral tests were carried out to determine the paw withdrawal threshold (PWT) of mechanical and thermal hyperalgesia, respectively. Real-time RT-PCR, Western bolt and Immunofluorescence were used to determine the mRNA and protein expression of Nav1.8 and Nav1.9 in ipsilateral lumbar 4-5 DRG. Compared to Sham group, PWT of mechanical and thermal hyperalgesia in C14 group displayed a significant decrease (P<0.01) from post-operation day (POD) 5 and POD7 to the end point of the observation, respectively. Compared to Sham group, the relative mRNA expression of Nav1.8 and Nav1.9 exhibited a significant up-regulation in C14 group (8.9 times and 9 times, respectively, P<0.01) but not C7 group (1.5 times and 2.4 times, respectively). Western blot and Immunofluorescence revealed an apparent increase of Nav1.8 (P<0.05) and Nav1.9 (P<0.05) protein in C14 group compared with Sham group. The up-regulation of mRNA and protein levels of Nav1.8 and Nav1.9 suggested their potential involvement in the development and maintenance of bone cancer pain.\n",
      "\n",
      "\n",
      "Visceral sensory impulses are transmitted via C-fibers from the gastrointestinal tract to the central nervous system. The tetrodotoxinresistant (TTX-r) sodium channel, Na(V) 1.8/SNS (sensory-neuron specific), encoded by SCN10A, has been identified on C-fibers. We attempted to clarify the association between functional dyspepsia (FD) and SCN10A non-synonymous polymorphisms (2884 A>G, 3218 C>T and 3275 T>C). The study was performed in 642 subjects (345 with no symptoms and 297 with FD). We employed a multiplex polymerase chain reaction single-strand confirmation polymorphism (PCR-SSCP) method to detect the gene polymorphisms. The 3218 CC homozygotes had a reduced risk for the development of FD [odds ratio (OR) 0.589; 95 % confidence interval (CI) 0.402-0.864; p = 0.0067]. In addition, both 2884 A>G and 3275 T>C, which were in linkage disequilibrium, were also associated with the development of FD (p = 0.039 and 0.028, respectively). Each 2884 G carrier, 3218 CC homozygote, and 3275 C carrier had a reduced risk for the development of both epigastric pain syndrome (EPS) and postprandial distress syndrome (PDS). The subjects with the 2884 G allele, 3275 C allele, and no 3218 T allele had a reduced risk for FD (OR 0.618; 95 % CI 0.448-0.853; p = 0.0034). This haplotype was associated with a reduced risk for both EPS and PDS (p = 0.0011 and 0.0056, respectively). In addition, there was a significant association between FD and this haplotype in Helicobacter pylori-negative subjects (OR 0.463; 95 % CI 0279-0.9768; p = 0.0029). We conclude that genetic polymorphisms of SCN10A are closely associated with FD (both EPS and PDS), especially in H. pylori-negative subjects, in Japanese.\n",
      "\n",
      "\n",
      "Peripheral neuropathic pain is a disabling condition resulting from nerve injury. It is characterized by the dysregulation of voltage-gated sodium channels (Navs) expressed in dorsal root ganglion (DRG) sensory neurons. The mechanisms underlying the altered expression of Na(v)s remain unknown. This study investigated the role of the E3 ubiquitin ligase NEDD4-2, which is known to ubiquitylate Navs, in the pathogenesis of neuropathic pain in mice. The spared nerve injury (SNI) model of traumatic nerve injury-induced neuropathic pain was used, and an Na(v)1.7-specific inhibitor, ProTxII, allowed the isolation of Na(v)1.7-mediated currents. SNI decreased NEDD4-2 expression in DRG cells and increased the amplitude of Na(v)1.7 and Na(v)1.8 currents. The redistribution of Na(v)1.7 channels toward peripheral axons was also observed. Similar changes were observed in the nociceptive DRG neurons of Nedd4L knockout mice (SNS-Nedd4L(-/-)). SNS-Nedd4L(-/-) mice exhibited thermal hypersensitivity and an enhanced second pain phase after formalin injection. Restoration of NEDD4-2 expression in DRG neurons using recombinant adenoassociated virus (rAAV2/6) not only reduced Na(v)1.7 and Na(v)1.8 current amplitudes, but also alleviated SNI-induced mechanical allodynia. These findings demonstrate that NEDD4-2 is a potent posttranslational regulator of Na(v)s and that downregulation of NEDD4-2 leads to the hyperexcitability of DRG neurons and contributes to the genesis of pathological pain.\n",
      "\n",
      "\n",
      "SCN5A and SCN10A located in close proximity to each other in chromosome 3p22. In 1997, SCN10A protein (also referred to as PN3, SNS, and hereafter, Nav1.8) was initially shown to be specifically expressed in rat and human dorsal root ganglia (27). Real-time polymerase chain reaction and immunostaining methodologies have detected a low level of expression of the SCN10A gene product in mouse and human heart tissues with somewhat higher levels in the Purkinje system (12,15,18). Nav1.8 immunoreactivity was detected in intra-cardiac neurons and ganglia in human myocardium (28). With in situ hybridization method, SCN10A displayed a similar distribution pattern Scn5a in mouse hearts (10). These findings notwithstanding, some researchers deny the existence of Nav1.8 in cardiac myocytes. For example, Veldkamp and colleagues reported that SCN10A expression modulates cardiac electrical activity primarily by regulating the firing patterns of intracardiac neurons (11). Conflicting data also resulted from other in vivo and in vitro experimental studies in the animal models (12,15).\n",
      "\n",
      "\n",
      "The NaV1.8 sodium channel, encoded by gene SCN10A, was initially termed sensory neuron-specific (SNS) due to prominent expression in primary sensory neurons including dorsal root ganglion (DRG) neurons. Early studies on rodent NaV1.8 demonstrated depolarized voltage dependence of channel inactivation, a slow rate of inactivation, and rapid recovery from inactivation. As a result of these biophysical properties, NaV1.8 supports repetitive firing in response to sustained depolarization. This article reviews recent studies that reveal multiple links of NaV1.8 to human disease: (1) It has recently been shown that functional attributes that distinguish NaV1.8 from other sodium channel subtypes are exaggerated in human NaV1.8; its influence on neuronal activity is thus greater than previously thought. (2) Gain-of-function mutations of NaV1.8 that produce DRG neuron hyperexcitability have been found in 3% of patients with painful neuropathy, establishing a role in pathogenesis. (3) NaV1.8 is ectopically expressed within Purkinje neurons in multiple sclerosis (MS), where it perturbs electrical activity. Recent evidence indicates that variants of SCN10A predict the degree of cerebellar dysfunction in MS. (4) Emerging evidence has linked SCN10A variants to disorders of cardiac rhythm, via mechanisms that may include an effect on cardiac innervation. Involvement of NaV1.8 in neurologic disease may have therapeutic implications. NaV1.8-specific blocking agents, under development, ameliorate pain and attenuate MS-like deficits in animal models. Recent studies suggest that pharmacogenomics may permit the matching of specific channel blocking agents to particular patients. The new links of NaV1.8 in human disease raise new questions, but also suggest new therapeutic strategies. \n",
      "\n",
      "\n",
      "Total mRNA from adult WT and Scn10a\n",
      "−/− dorsal root ganglia was isolated using the TRIzol method (Invitrogen). Gene‐specific cDNA was amplified using the SuperScript III One‐Step RT‐PCR System with Platinum Taq DNA Polymerase (Thermo Fisher Scientific) and gene‐specific primers10: SNS, X92184, 5′‐CAGAGATCGAGAAGCAGATCGCTG‐3′, 5′‐AGCTTCCTCACTGAGTGGATC‐3′ by following the kit protocol. PCR products were imaged using a 2% ethidium bromide agarose gel.\n",
      "\n"
     ]
    }
   ],
   "source": [
    "print('\\n\\n'.join(t))"
   ]
  },
  {
   "cell_type": "code",
   "execution_count": null,
   "metadata": {},
   "outputs": [],
   "source": []
  }
 ],
 "metadata": {
  "kernelspec": {
   "display_name": "Python 3",
   "language": "python",
   "name": "python3"
  },
  "language_info": {
   "codemirror_mode": {
    "name": "ipython",
    "version": 3
   },
   "file_extension": ".py",
   "mimetype": "text/x-python",
   "name": "python",
   "nbconvert_exporter": "python",
   "pygments_lexer": "ipython3",
   "version": "3.8.4"
  }
 },
 "nbformat": 4,
 "nbformat_minor": 2
}
