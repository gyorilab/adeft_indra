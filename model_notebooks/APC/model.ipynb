{
 "cells": [
  {
   "cell_type": "code",
   "execution_count": 2,
   "metadata": {},
   "outputs": [],
   "source": [
    "import os\n",
    "import json\n",
    "import pickle\n",
    "import random\n",
    "from collections import defaultdict, Counter\n",
    "\n",
    "from indra.literature.adeft_tools import universal_extract_text\n",
    "from indra.databases.hgnc_client import get_hgnc_name, get_hgnc_id\n",
    "\n",
    "from adeft.discover import AdeftMiner\n",
    "from adeft.gui import ground_with_gui\n",
    "from adeft.modeling.label import AdeftLabeler\n",
    "from adeft.modeling.classify import AdeftClassifier\n",
    "from adeft.disambiguate import AdeftDisambiguator\n",
    "\n",
    "\n",
    "from adeft_indra.ground.ground import AdeftGrounder\n",
    "from adeft_indra.model_building.s3 import model_to_s3\n",
    "from adeft_indra.model_building.escape import escape_filename\n",
    "from adeft_indra.db.content import get_pmids_for_agent_text, get_pmids_for_entity, \\\n",
    "    get_plaintexts_for_pmids"
   ]
  },
  {
   "cell_type": "code",
   "execution_count": 3,
   "metadata": {},
   "outputs": [],
   "source": [
    "adeft_grounder = AdeftGrounder()"
   ]
  },
  {
   "cell_type": "code",
   "execution_count": 4,
   "metadata": {},
   "outputs": [],
   "source": [
    "shortforms = ['APC', 'APCs']\n",
    "model_name = ':'.join(sorted(escape_filename(shortform) for shortform in shortforms))\n",
    "results_path = os.path.abspath(os.path.join('../..', 'results', model_name))"
   ]
  },
  {
   "cell_type": "code",
   "execution_count": 5,
   "metadata": {},
   "outputs": [],
   "source": [
    "miners = dict()\n",
    "all_texts = {}\n",
    "for shortform in shortforms:\n",
    "    pmids = get_pmids_for_agent_text(shortform)\n",
    "    if len(pmids) > 10000:\n",
    "        pmids = random.choices(pmids, k=10000)\n",
    "    text_dict = get_plaintexts_for_pmids(pmids, contains=shortforms)\n",
    "    text_dict = {pmid: text for pmid, text in text_dict.items() if len(text) > 5}\n",
    "    miners[shortform] = AdeftMiner(shortform)\n",
    "    miners[shortform].process_texts(text_dict.values())\n",
    "    all_texts.update(text_dict)\n",
    "\n",
    "longform_dict = {}\n",
    "for shortform in shortforms:\n",
    "    longforms = miners[shortform].get_longforms()\n",
    "    longforms = [(longform, count, score) for longform, count, score in longforms\n",
    "                 if count*score > 2]\n",
    "    longform_dict[shortform] = longforms\n",
    "    \n",
    "combined_longforms = Counter()\n",
    "for longform_rows in longform_dict.values():\n",
    "    combined_longforms.update({longform: count for longform, count, score\n",
    "                               in longform_rows})\n",
    "grounding_map = {}\n",
    "names = {}\n",
    "for longform in combined_longforms:\n",
    "    groundings = adeft_grounder.ground(longform)\n",
    "    if groundings:\n",
    "        grounding = groundings[0]['grounding']\n",
    "        grounding_map[longform] = grounding\n",
    "        names[grounding] = groundings[0]['name']\n",
    "longforms, counts = zip(*combined_longforms.most_common())\n",
    "pos_labels = []"
   ]
  },
  {
   "cell_type": "code",
   "execution_count": 5,
   "metadata": {},
   "outputs": [
    {
     "data": {
      "text/plain": [
       "[('adenomatous polyposis coli', 1608),\n",
       " ('antigen presenting cells', 1377),\n",
       " ('activated protein c', 1185),\n",
       " ('anaphase promoting complex', 585),\n",
       " ('allophycocyanin', 85),\n",
       " ('anesthetic preconditioning', 47),\n",
       " ('activated pc', 41),\n",
       " ('argon plasma coagulation', 41),\n",
       " ('adenomatosis polyposis coli', 41),\n",
       " ('adenomatous polyposis coli protein', 40),\n",
       " ('anaphase promoting complex cyclosome', 31),\n",
       " ('adenomatous polyposis coli gene', 24),\n",
       " ('anterior piriform cortex', 23),\n",
       " ('aphidicolin', 21),\n",
       " ('annual percentage changes', 17),\n",
       " ('advanced pancreatic cancer', 16),\n",
       " ('ag presenting cells', 16),\n",
       " ('alkylphosphocholine', 14),\n",
       " ('adenomatous polyposis coli gene product', 14),\n",
       " ('anesthetic induced preconditioning', 14),\n",
       " ('antibody photoabsorber conjugate', 13),\n",
       " ('allylpyrocatechol', 13),\n",
       " ('aerobic plate count', 11),\n",
       " ('photo absorber conjugate', 10),\n",
       " ('alternative pathway of complement', 10),\n",
       " ('annual percent changes', 9),\n",
       " ('adenomatous polyposis', 9),\n",
       " ('anaphase promoting complex or cyclosome', 8),\n",
       " ('anaesthetic preconditioning', 6),\n",
       " ('anoxic preconditioning', 6),\n",
       " ('acid preconditioning', 6),\n",
       " ('adenomatous polyposis coli tumor suppressor protein', 6),\n",
       " ('acid pre conditions', 5),\n",
       " ('photon absorber conjugate', 5),\n",
       " ('adenomatous polyposis coil', 4),\n",
       " ('apcδ468', 4),\n",
       " ('aqueous protein concentration', 4),\n",
       " ('antibody photosensitizer conjugate', 4),\n",
       " ('acid postconditioning', 4),\n",
       " ('apc gene product', 4),\n",
       " ('amyloid plaque core', 3),\n",
       " ('apparent photosynthetic conductance', 3),\n",
       " ('age period cohort', 3),\n",
       " ('antigen presenting capacity', 3),\n",
       " ('apc', 3),\n",
       " ('article processing charge', 3),\n",
       " ('air pollution control', 3),\n",
       " ('adenosine plasma concentration', 3),\n",
       " ('autologous platelet concentration', 3),\n",
       " ('apicidin', 3),\n",
       " ('antipseudomonal carbapenems', 3),\n",
       " ('adematous polyposis coli', 3),\n",
       " ('adenoma polyposis coli', 3),\n",
       " ('associated of pathology chairs', 3),\n",
       " ('antigen presenting', 3),\n",
       " ('adenomatous polyposis coli tumor suppressor gene', 3)]"
      ]
     },
     "execution_count": 5,
     "metadata": {},
     "output_type": "execute_result"
    }
   ],
   "source": [
    "list(zip(longforms, counts))"
   ]
  },
  {
   "cell_type": "code",
   "execution_count": 7,
   "metadata": {},
   "outputs": [
    {
     "name": "stderr",
     "output_type": "stream",
     "text": [
      "INFO: [2020-10-06 04:02:24] indra.ontology.bio.ontology - Loading INDRA bio ontology from cache at /home/ubuntu/.indra/bio_ontology/1.2/bio_ontology.pkl\n"
     ]
    }
   ],
   "source": [
    "grounding_map, names, pos_labels = ground_with_gui(longforms, counts, \n",
    "                                                   grounding_map=grounding_map,\n",
    "                                                   names=names, pos_labels=pos_labels, no_browser=True, port=8890)"
   ]
  },
  {
   "cell_type": "code",
   "execution_count": 8,
   "metadata": {},
   "outputs": [],
   "source": [
    "result = [grounding_map, names, pos_labels]"
   ]
  },
  {
   "cell_type": "code",
   "execution_count": 9,
   "metadata": {},
   "outputs": [
    {
     "data": {
      "text/plain": [
       "[{'acid postconditioning': 'ungrounded',\n",
       "  'acid pre conditions': 'ungrounded',\n",
       "  'acid preconditioning': 'ungrounded',\n",
       "  'activated pc': 'HGNC:9451',\n",
       "  'activated protein c': 'HGNC:9451',\n",
       "  'adematous polyposis coli': 'HGNC:583',\n",
       "  'adenoma polyposis coli': 'HGNC:583',\n",
       "  'adenomatosis polyposis coli': 'HGNC:583',\n",
       "  'adenomatous polyposis': 'HGNC:583',\n",
       "  'adenomatous polyposis coil': 'HGNC:583',\n",
       "  'adenomatous polyposis coli': 'HGNC:583',\n",
       "  'adenomatous polyposis coli gene': 'HGNC:583',\n",
       "  'adenomatous polyposis coli gene product': 'HGNC:583',\n",
       "  'adenomatous polyposis coli protein': 'HGNC:583',\n",
       "  'adenomatous polyposis coli tumor suppressor gene': 'HGNC:583',\n",
       "  'adenomatous polyposis coli tumor suppressor protein': 'HGNC:583',\n",
       "  'adenosine plasma concentration': 'ungrounded',\n",
       "  'adipocyte precursor cells': 'ungrounded',\n",
       "  'adipocyte progenitor cells': 'ungrounded',\n",
       "  'adipose precursor cells': 'ungrounded',\n",
       "  'adipose progenitor cells': 'ungrounded',\n",
       "  'advanced pancreatic cancer': 'DOID:DOID:1793',\n",
       "  'aerobic plate count': 'ungrounded',\n",
       "  'aerobic plate counts': 'ungrounded',\n",
       "  'ag presenting cells': 'MESH:D000938',\n",
       "  'age period cohort': 'ungrounded',\n",
       "  'air pollution control': 'ungrounded',\n",
       "  'alkylphosphocholine': 'CHEBI:CHEBI:52589',\n",
       "  'alkylphosphocholines': 'CHEBI:CHEBI:52589',\n",
       "  'allophycocyanin': 'MESH:C002497',\n",
       "  'allylpyrocatechol': 'MESH:C523074',\n",
       "  'alternative pathway of complement': 'MESH:D003170',\n",
       "  'amyloid plaque core': 'MESH:D058225',\n",
       "  'anaesthetic preconditioning': 'ungrounded',\n",
       "  'anaphase promoting complex': 'GO:GO:0005680',\n",
       "  'anaphase promoting complex cyclosome': 'GO:GO:0005680',\n",
       "  'anaphase promoting complex or cyclosome': 'GO:GO:0005680',\n",
       "  'anesthetic induced preconditioning': 'ungrounded',\n",
       "  'anesthetic preconditioning': 'ungrounded',\n",
       "  'angiogenic progenitor cells': 'ungrounded',\n",
       "  'annual percent changes': 'ungrounded',\n",
       "  'annual percentage changes': 'ungrounded',\n",
       "  'anoxic preconditioning': 'ungrounded',\n",
       "  'anterior piriform cortex': 'MESH:D066195',\n",
       "  'antibody photoabsorber conjugate': 'NCIT:C66919',\n",
       "  'antibody photosensitizer conjugate': 'NCIT:C66919',\n",
       "  'antigen presenting': 'MESH:D000938',\n",
       "  'antigen presenting capacity': 'MESH:D000938',\n",
       "  'antigen presenting cells': 'MESH:D000938',\n",
       "  'antigen processing cells': 'MESH:D000938',\n",
       "  'antigenpresenting cells': 'MESH:D000938',\n",
       "  'antipseudomonal carbapenems': 'CHEBI:CHEBI:46633',\n",
       "  'apc': 'ungrounded',\n",
       "  'apc gene product': 'HGNC:583',\n",
       "  'apcδ468': 'ungrounded',\n",
       "  'aphidicolin': 'CHEBI:CHEBI:2766',\n",
       "  'apical papilla cells': 'ungrounded',\n",
       "  'apicidin': 'MESH:C102351',\n",
       "  'apparent photosynthetic conductance': 'ungrounded',\n",
       "  'aqueous protein concentration': 'ungrounded',\n",
       "  'argon plasma coagulation': 'MESH:D057908',\n",
       "  'article processing charge': 'ungrounded',\n",
       "  'associated of pathology chairs': 'ungrounded',\n",
       "  'atherosclerotic plaque characteristics': 'ungrounded',\n",
       "  'atrial premature complex': 'MESH:D018880',\n",
       "  'autologous platelet concentration': 'ungrounded',\n",
       "  'photo absorber conjugate': 'NCIT:C66919',\n",
       "  'photon absorber conjugate': 'NCIT:C66919'},\n",
       " {'HGNC:9451': 'PROC',\n",
       "  'HGNC:583': 'APC',\n",
       "  'DOID:DOID:1793': 'pancreatic cancer',\n",
       "  'MESH:D000938': 'Antigen-Presenting Cells',\n",
       "  'CHEBI:CHEBI:52589': '1-lyso-2-alkylphosphatidylcholine',\n",
       "  'MESH:C002497': 'allophycocyanin',\n",
       "  'MESH:C523074': 'allylpyrocatechol',\n",
       "  'MESH:D003170': 'Complement Pathway, Alternative',\n",
       "  'MESH:D058225': 'Plaque, Amyloid',\n",
       "  'GO:GO:0005680': 'anaphase-promoting complex',\n",
       "  'MESH:D066195': 'Piriform Cortex',\n",
       "  'NCIT:C66919': 'Photoimmunotherapy',\n",
       "  'CHEBI:CHEBI:46633': 'carbapenems',\n",
       "  'CHEBI:CHEBI:2766': 'aphidicolin',\n",
       "  'MESH:C102351': 'apicidin',\n",
       "  'MESH:D057908': 'Argon Plasma Coagulation',\n",
       "  'MESH:D018880': 'Atrial Premature Complexes'},\n",
       " ['CHEBI:CHEBI:2766',\n",
       "  'CHEBI:CHEBI:52589',\n",
       "  'DOID:DOID:1793',\n",
       "  'GO:GO:0005680',\n",
       "  'HGNC:583',\n",
       "  'HGNC:9451',\n",
       "  'MESH:D000938',\n",
       "  'MESH:D018880',\n",
       "  'MESH:D057908',\n",
       "  'MESH:D066195',\n",
       "  'NCIT:C66919']]"
      ]
     },
     "execution_count": 9,
     "metadata": {},
     "output_type": "execute_result"
    }
   ],
   "source": [
    "result"
   ]
  },
  {
   "cell_type": "code",
   "execution_count": 10,
   "metadata": {},
   "outputs": [],
   "source": [
    "grounding_map, names, pos_labels = [{'acid postconditioning': 'ungrounded',\n",
    "  'acid pre conditions': 'ungrounded',\n",
    "  'acid preconditioning': 'ungrounded',\n",
    "  'activated pc': 'HGNC:9451',\n",
    "  'activated protein c': 'HGNC:9451',\n",
    "  'adematous polyposis coli': 'HGNC:583',\n",
    "  'adenoma polyposis coli': 'HGNC:583',\n",
    "  'adenomatosis polyposis coli': 'HGNC:583',\n",
    "  'adenomatous polyposis': 'HGNC:583',\n",
    "  'adenomatous polyposis coil': 'HGNC:583',\n",
    "  'adenomatous polyposis coli': 'HGNC:583',\n",
    "  'adenomatous polyposis coli gene': 'HGNC:583',\n",
    "  'adenomatous polyposis coli gene product': 'HGNC:583',\n",
    "  'adenomatous polyposis coli protein': 'HGNC:583',\n",
    "  'adenomatous polyposis coli tumor suppressor gene': 'HGNC:583',\n",
    "  'adenomatous polyposis coli tumor suppressor protein': 'HGNC:583',\n",
    "  'adenosine plasma concentration': 'ungrounded',\n",
    "  'adipocyte precursor cells': 'ungrounded',\n",
    "  'adipocyte progenitor cells': 'ungrounded',\n",
    "  'adipose precursor cells': 'ungrounded',\n",
    "  'adipose progenitor cells': 'ungrounded',\n",
    "  'advanced pancreatic cancer': 'DOID:DOID:1793',\n",
    "  'aerobic plate count': 'ungrounded',\n",
    "  'aerobic plate counts': 'ungrounded',\n",
    "  'ag presenting cells': 'MESH:D000938',\n",
    "  'age period cohort': 'ungrounded',\n",
    "  'air pollution control': 'ungrounded',\n",
    "  'alkylphosphocholine': 'CHEBI:CHEBI:52589',\n",
    "  'alkylphosphocholines': 'CHEBI:CHEBI:52589',\n",
    "  'allophycocyanin': 'MESH:C002497',\n",
    "  'allylpyrocatechol': 'MESH:C523074',\n",
    "  'alternative pathway of complement': 'MESH:D003170',\n",
    "  'amyloid plaque core': 'MESH:D058225',\n",
    "  'anaesthetic preconditioning': 'ungrounded',\n",
    "  'anaphase promoting complex': 'GO:GO:0005680',\n",
    "  'anaphase promoting complex cyclosome': 'GO:GO:0005680',\n",
    "  'anaphase promoting complex or cyclosome': 'GO:GO:0005680',\n",
    "  'anesthetic induced preconditioning': 'ungrounded',\n",
    "  'anesthetic preconditioning': 'ungrounded',\n",
    "  'angiogenic progenitor cells': 'ungrounded',\n",
    "  'annual percent changes': 'ungrounded',\n",
    "  'annual percentage changes': 'ungrounded',\n",
    "  'anoxic preconditioning': 'ungrounded',\n",
    "  'anterior piriform cortex': 'MESH:D066195',\n",
    "  'antibody photoabsorber conjugate': 'NCIT:C66919',\n",
    "  'antibody photosensitizer conjugate': 'NCIT:C66919',\n",
    "  'antigen presenting': 'MESH:D000938',\n",
    "  'antigen presenting capacity': 'MESH:D000938',\n",
    "  'antigen presenting cells': 'MESH:D000938',\n",
    "  'antigen processing cells': 'MESH:D000938',\n",
    "  'antigenpresenting cells': 'MESH:D000938',\n",
    "  'antipseudomonal carbapenems': 'CHEBI:CHEBI:46633',\n",
    "  'apc': 'ungrounded',\n",
    "  'apc gene product': 'HGNC:583',\n",
    "  'apcδ468': 'ungrounded',\n",
    "  'aphidicolin': 'CHEBI:CHEBI:2766',\n",
    "  'apical papilla cells': 'ungrounded',\n",
    "  'apicidin': 'MESH:C102351',\n",
    "  'apparent photosynthetic conductance': 'ungrounded',\n",
    "  'aqueous protein concentration': 'ungrounded',\n",
    "  'argon plasma coagulation': 'MESH:D057908',\n",
    "  'article processing charge': 'ungrounded',\n",
    "  'associated of pathology chairs': 'ungrounded',\n",
    "  'atherosclerotic plaque characteristics': 'ungrounded',\n",
    "  'atrial premature complex': 'MESH:D018880',\n",
    "  'autologous platelet concentration': 'ungrounded',\n",
    "  'photo absorber conjugate': 'NCIT:C66919',\n",
    "  'photon absorber conjugate': 'NCIT:C66919'},\n",
    " {'HGNC:9451': 'PROC',\n",
    "  'HGNC:583': 'APC',\n",
    "  'DOID:DOID:1793': 'pancreatic cancer',\n",
    "  'MESH:D000938': 'Antigen-Presenting Cells',\n",
    "  'CHEBI:CHEBI:52589': '1-lyso-2-alkylphosphatidylcholine',\n",
    "  'MESH:C002497': 'allophycocyanin',\n",
    "  'MESH:C523074': 'allylpyrocatechol',\n",
    "  'MESH:D003170': 'Complement Pathway, Alternative',\n",
    "  'MESH:D058225': 'Plaque, Amyloid',\n",
    "  'GO:GO:0005680': 'anaphase-promoting complex',\n",
    "  'MESH:D066195': 'Piriform Cortex',\n",
    "  'NCIT:C66919': 'Photoimmunotherapy',\n",
    "  'CHEBI:CHEBI:46633': 'carbapenems',\n",
    "  'CHEBI:CHEBI:2766': 'aphidicolin',\n",
    "  'MESH:C102351': 'apicidin',\n",
    "  'MESH:D057908': 'Argon Plasma Coagulation',\n",
    "  'MESH:D018880': 'Atrial Premature Complexes'},\n",
    " ['CHEBI:CHEBI:2766',\n",
    "  'CHEBI:CHEBI:52589',\n",
    "  'DOID:DOID:1793',\n",
    "  'GO:GO:0005680',\n",
    "  'HGNC:583',\n",
    "  'HGNC:9451',\n",
    "  'MESH:D000938',\n",
    "  'MESH:D018880',\n",
    "  'MESH:D057908',\n",
    "  'MESH:D066195',\n",
    "  'NCIT:C66919']]"
   ]
  },
  {
   "cell_type": "code",
   "execution_count": 11,
   "metadata": {},
   "outputs": [],
   "source": [
    "excluded_longforms = []"
   ]
  },
  {
   "cell_type": "code",
   "execution_count": 12,
   "metadata": {},
   "outputs": [],
   "source": [
    "grounding_dict = {shortform: {longform: grounding_map[longform] \n",
    "                              for longform, _, _ in longforms if longform in grounding_map\n",
    "                              and longform not in excluded_longforms}\n",
    "                  for shortform, longforms in longform_dict.items()}\n",
    "result = [grounding_dict, names, pos_labels]\n",
    "\n",
    "if not os.path.exists(results_path):\n",
    "    os.mkdir(results_path)\n",
    "with open(os.path.join(results_path, f'{model_name}_preliminary_grounding_info.json'), 'w') as f:\n",
    "    json.dump(result, f)"
   ]
  },
  {
   "cell_type": "code",
   "execution_count": 13,
   "metadata": {},
   "outputs": [],
   "source": [
    "additional_entities = []"
   ]
  },
  {
   "cell_type": "code",
   "execution_count": 14,
   "metadata": {},
   "outputs": [],
   "source": [
    "unambiguous_agent_texts = {}"
   ]
  },
  {
   "cell_type": "code",
   "execution_count": 15,
   "metadata": {},
   "outputs": [],
   "source": [
    "labeler = AdeftLabeler(grounding_dict)\n",
    "corpus = labeler.build_from_texts((text, pmid) for pmid, text in all_texts.items())\n",
    "agent_text_pmid_map = defaultdict(list)\n",
    "for text, label, id_ in corpus:\n",
    "    agent_text_pmid_map[label].append(id_)\n",
    "\n",
    "entity_pmid_map = {entity: set(get_pmids_for_entity(*entity.split(':', maxsplit=1),\n",
    "                                                major_topic=True))for entity in additional_entities}"
   ]
  },
  {
   "cell_type": "code",
   "execution_count": 19,
   "metadata": {},
   "outputs": [],
   "source": [
    "intersection1 = []\n",
    "for entity1, pmids1 in entity_pmid_map.items():\n",
    "    for entity2, pmids2 in entity_pmid_map.items():\n",
    "        intersection1.append((entity1, entity2, len(pmids1 & pmids2)))"
   ]
  },
  {
   "cell_type": "code",
   "execution_count": 20,
   "metadata": {},
   "outputs": [],
   "source": [
    "intersection2 = []\n",
    "for entity1, pmids1 in agent_text_pmid_map.items():\n",
    "    for entity2, pmids2 in entity_pmid_map.items():\n",
    "        intersection2.append((entity1, entity2, len(set(pmids1) & pmids2)))"
   ]
  },
  {
   "cell_type": "code",
   "execution_count": 21,
   "metadata": {},
   "outputs": [
    {
     "data": {
      "text/plain": [
       "[('HGNC:1848', 'HGNC:1848', 86)]"
      ]
     },
     "execution_count": 21,
     "metadata": {},
     "output_type": "execute_result"
    }
   ],
   "source": [
    "intersection1"
   ]
  },
  {
   "cell_type": "code",
   "execution_count": 22,
   "metadata": {},
   "outputs": [
    {
     "data": {
      "text/plain": [
       "[('MESH:D018893', 'HGNC:1848', 0),\n",
       " ('HGNC:1848', 'HGNC:1848', 1),\n",
       " ('ungrounded', 'HGNC:1848', 0),\n",
       " ('CHEBI:CHEBI:64198', 'HGNC:1848', 0),\n",
       " ('MESH:D019164', 'HGNC:1848', 0),\n",
       " ('MESH:C059416', 'HGNC:1848', 0),\n",
       " ('CHEBI:CHEBI:15710', 'HGNC:1848', 0)]"
      ]
     },
     "execution_count": 22,
     "metadata": {},
     "output_type": "execute_result"
    }
   ],
   "source": [
    "intersection2"
   ]
  },
  {
   "cell_type": "code",
   "execution_count": 84,
   "metadata": {},
   "outputs": [
    {
     "data": {
      "text/plain": [
       "[('HGNC:7321', ['Musculin', 'musculin'])]"
      ]
     },
     "execution_count": 84,
     "metadata": {},
     "output_type": "execute_result"
    }
   ],
   "source": []
  },
  {
   "cell_type": "code",
   "execution_count": 23,
   "metadata": {},
   "outputs": [],
   "source": [
    "all_used_pmids = set()\n",
    "for entity, agent_texts in unambiguous_agent_texts.items():\n",
    "    used_pmids = set()\n",
    "    for agent_text in agent_texts:\n",
    "        pmids = set(get_pmids_for_agent_text(agent_text))\n",
    "        new_pmids = list(pmids - all_texts.keys() - used_pmids)\n",
    "        text_dict = get_plaintexts_for_pmids(new_pmids, contains=agent_texts)\n",
    "        corpus.extend([(text, entity, pmid) for pmid, text in text_dict.items()])\n",
    "        used_pmids.update(new_pmids)\n",
    "    all_used_pmids.update(used_pmids)\n",
    "        \n",
    "for entity, pmids in entity_pmid_map.items():\n",
    "    new_pmids = list(set(pmids) - all_texts.keys() - all_used_pmids)\n",
    "    if len(new_pmids) > 10000:\n",
    "        new_pmids = random.choices(new_pmids, k=10000)\n",
    "    text_dict = get_plaintexts_for_pmids(new_pmids)\n",
    "    corpus.extend([(text, entity, pmid) for pmid, text in text_dict.items()])"
   ]
  },
  {
   "cell_type": "code",
   "execution_count": 16,
   "metadata": {},
   "outputs": [
    {
     "name": "stderr",
     "output_type": "stream",
     "text": [
      "INFO: [2020-10-06 04:09:01] /adeft/PythonRepos/adeft/adeft/modeling/classify.py - Beginning grid search in parameter space:\n",
      "{'C': [100.0], 'max_features': [10000]}\n",
      "INFO: [2020-10-06 04:12:55] /adeft/PythonRepos/adeft/adeft/modeling/classify.py - Best f1 score of 0.9694963847925113 found for parameter values:\n",
      "{'logit__C': 100.0, 'tfidf__max_features': 10000}\n"
     ]
    }
   ],
   "source": [
    "%%capture\n",
    "\n",
    "classifier = AdeftClassifier(shortforms, pos_labels=pos_labels, random_state=1729)\n",
    "param_grid = {'C': [100.0], 'max_features': [10000]}\n",
    "texts, labels, pmids = zip(*corpus)\n",
    "classifier.cv(texts, labels, param_grid, cv=5, n_jobs=5)"
   ]
  },
  {
   "cell_type": "code",
   "execution_count": 16,
   "metadata": {
    "scrolled": true
   },
   "outputs": [
    {
     "data": {
      "text/plain": [
       "{'label_distribution': {'HGNC:9451': 982,\n",
       "  'MESH:D000938': 1225,\n",
       "  'CHEBI:CHEBI:2766': 18,\n",
       "  'HGNC:583': 1427,\n",
       "  'CHEBI:CHEBI:52589': 13,\n",
       "  'MESH:D003170': 8,\n",
       "  'GO:GO:0005680': 520,\n",
       "  'ungrounded': 116,\n",
       "  'MESH:D057908': 31,\n",
       "  'MESH:C002497': 79,\n",
       "  'MESH:D066195': 16,\n",
       "  'DOID:DOID:1793': 12,\n",
       "  'MESH:C523074': 11,\n",
       "  'MESH:C102351': 2,\n",
       "  'NCIT:C66919': 19,\n",
       "  'CHEBI:CHEBI:46633': 1,\n",
       "  'MESH:D058225': 1},\n",
       " 'f1': {'mean': 0.954099, 'std': 0.004035},\n",
       " 'precision': {'mean': 0.949026, 'std': 0.004176},\n",
       " 'recall': {'mean': 0.961406, 'std': 0.005049},\n",
       " 'MESH:C523074': {'f1': {'mean': 0.1, 'std': 0.2},\n",
       "  'pr': {'mean': 0.1, 'std': 0.2},\n",
       "  'rc': {'mean': 0.1, 'std': 0.2}},\n",
       " 'GO:GO:0005680': {'f1': {'mean': 0.968409, 'std': 0.008393},\n",
       "  'pr': {'mean': 0.973077, 'std': 0.012756},\n",
       "  'rc': {'mean': 0.963927, 'std': 0.010733}},\n",
       " 'ungrounded': {'f1': {'mean': 0.884878, 'std': 0.027763},\n",
       "  'pr': {'mean': 0.836594, 'std': 0.062508},\n",
       "  'rc': {'mean': 0.942807, 'std': 0.01311}},\n",
       " 'MESH:D066195': {'f1': {'mean': 0.9, 'std': 0.2},\n",
       "  'pr': {'mean': 0.866667, 'std': 0.266667},\n",
       "  'rc': {'mean': 1.0, 'std': 0.0}},\n",
       " 'DOID:DOID:1793': {'f1': {'mean': 0.92, 'std': 0.09798},\n",
       "  'pr': {'mean': 0.866667, 'std': 0.163299},\n",
       "  'rc': {'mean': 1.0, 'std': 0.0}},\n",
       " 'CHEBI:CHEBI:46633': {'f1': {'mean': 0.0, 'std': 0.0},\n",
       "  'pr': {'mean': 0.0, 'std': 0.0},\n",
       "  'rc': {'mean': 0.0, 'std': 0.0}},\n",
       " 'NCIT:C66919': {'f1': {'mean': 0.971429, 'std': 0.057143},\n",
       "  'pr': {'mean': 0.95, 'std': 0.1},\n",
       "  'rc': {'mean': 1.0, 'std': 0.0}},\n",
       " 'MESH:D058225': {'f1': {'mean': 0.0, 'std': 0.0},\n",
       "  'pr': {'mean': 0.0, 'std': 0.0},\n",
       "  'rc': {'mean': 0.0, 'std': 0.0}},\n",
       " 'MESH:D003170': {'f1': {'mean': 0.6, 'std': 0.489898},\n",
       "  'pr': {'mean': 0.6, 'std': 0.489898},\n",
       "  'rc': {'mean': 0.6, 'std': 0.489898}},\n",
       " 'HGNC:9451': {'f1': {'mean': 0.97432, 'std': 0.007652},\n",
       "  'pr': {'mean': 0.98473, 'std': 0.007186},\n",
       "  'rc': {'mean': 0.964133, 'std': 0.008441}},\n",
       " 'HGNC:583': {'f1': {'mean': 0.9781, 'std': 0.007425},\n",
       "  'pr': {'mean': 0.984593, 'std': 0.006471},\n",
       "  'rc': {'mean': 0.971749, 'std': 0.011075}},\n",
       " 'MESH:D057908': {'f1': {'mean': 0.886434, 'std': 0.077065},\n",
       "  'pr': {'mean': 0.804762, 'std': 0.126348},\n",
       "  'rc': {'mean': 1.0, 'std': 0.0}},\n",
       " 'MESH:C102351': {'f1': {'mean': 0.0, 'std': 0.0},\n",
       "  'pr': {'mean': 0.0, 'std': 0.0},\n",
       "  'rc': {'mean': 0.0, 'std': 0.0}},\n",
       " 'MESH:C002497': {'f1': {'mean': 0.282774, 'std': 0.093449},\n",
       "  'pr': {'mean': 0.241667, 'std': 0.095561},\n",
       "  'rc': {'mean': 0.37359, 'std': 0.034397}},\n",
       " 'CHEBI:CHEBI:52589': {'f1': {'mean': 0.6, 'std': 0.2},\n",
       "  'pr': {'mean': 0.5, 'std': 0.258199},\n",
       "  'rc': {'mean': 0.9, 'std': 0.2}},\n",
       " 'CHEBI:CHEBI:2766': {'f1': {'mean': 0.66, 'std': 0.095219},\n",
       "  'pr': {'mean': 0.5, 'std': 0.105409},\n",
       "  'rc': {'mean': 1.0, 'std': 0.0}},\n",
       " 'MESH:D000938': {'f1': {'mean': 0.952971, 'std': 0.004711},\n",
       "  'pr': {'mean': 0.968163, 'std': 0.01301},\n",
       "  'rc': {'mean': 0.93844, 'std': 0.008416}}}"
      ]
     },
     "execution_count": 16,
     "metadata": {},
     "output_type": "execute_result"
    }
   ],
   "source": [
    "classifier.stats"
   ]
  },
  {
   "cell_type": "code",
   "execution_count": 17,
   "metadata": {},
   "outputs": [],
   "source": [
    "disamb = AdeftDisambiguator(classifier, grounding_dict, names)"
   ]
  },
  {
   "cell_type": "code",
   "execution_count": 19,
   "metadata": {},
   "outputs": [],
   "source": [
    "disamb.dump(model_name, results_path)"
   ]
  },
  {
   "cell_type": "code",
   "execution_count": 18,
   "metadata": {},
   "outputs": [
    {
     "name": "stdout",
     "output_type": "stream",
     "text": [
      "Disambiguation model for APC, and APCs\n",
      "\n",
      "Produces the disambiguations:\n",
      "\t1-lyso-2-alkylphosphatidylcholine*\tCHEBI:CHEBI:52589\n",
      "\tAPC*\tHGNC:583\n",
      "\tAntigen-Presenting Cells*\tMESH:D000938\n",
      "\tArgon Plasma Coagulation*\tMESH:D057908\n",
      "\tAtrial Premature Complexes*\tMESH:D018880\n",
      "\tComplement Pathway, Alternative\tMESH:D003170\n",
      "\tPROC*\tHGNC:9451\n",
      "\tPhotoimmunotherapy*\tNCIT:C66919\n",
      "\tPiriform Cortex*\tMESH:D066195\n",
      "\tPlaque, Amyloid\tMESH:D058225\n",
      "\tallophycocyanin\tMESH:C002497\n",
      "\tallylpyrocatechol\tMESH:C523074\n",
      "\tanaphase-promoting complex*\tGO:GO:0005680\n",
      "\taphidicolin*\tCHEBI:CHEBI:2766\n",
      "\tapicidin\tMESH:C102351\n",
      "\tcarbapenems\tCHEBI:CHEBI:46633\n",
      "\tpancreatic cancer*\tDOID:DOID:1793\n",
      "\n",
      "Class level metrics:\n",
      "--------------------\n",
      "Grounding                        \tCount\tF1     \n",
      "         Antigen-Presenting Cells*\t4026\t0.97074\n",
      "                              APC*\t1429\t0.97738\n",
      "                             PROC*\t 982\t0.97178\n",
      "       anaphase-promoting complex*\t 520\t0.96722\n",
      "                       Ungrounded\t 143\t0.85879\n",
      "                  allophycocyanin\t 130\t 0.1913\n",
      "         Argon Plasma Coagulation*\t  31\t0.86909\n",
      "               Photoimmunotherapy*\t  23\t0.97143\n",
      "1-lyso-2-alkylphosphatidylcholine*\t  21\t0.64905\n",
      "                      aphidicolin*\t  18\t0.73619\n",
      "                  Piriform Cortex*\t  16\t0.89143\n",
      "                pancreatic cancer*\t  12\t0.93333\n",
      "       Atrial Premature Complexes*\t  12\t   0.76\n",
      "                allylpyrocatechol\t  11\t0.13333\n",
      "  Complement Pathway, Alternative\t   8\t    0.3\n",
      "                         apicidin\t   2\t    0.0\n",
      "                      carbapenems\t   1\t    0.0\n",
      "                  Plaque, Amyloid\t   1\t    0.0\n",
      "\n",
      "Weighted Metrics:\n",
      "-----------------\n",
      "\tF1 score:\t0.9695\n",
      "\tPrecision:\t0.96477\n",
      "\tRecall:\t\t0.9756\n",
      "\n",
      "* Positive labels\n",
      "See Docstring for explanation\n",
      "\n"
     ]
    }
   ],
   "source": [
    "print(disamb.info())"
   ]
  },
  {
   "cell_type": "code",
   "execution_count": 20,
   "metadata": {},
   "outputs": [],
   "source": [
    "model_to_s3(disamb)"
   ]
  },
  {
   "cell_type": "code",
   "execution_count": null,
   "metadata": {},
   "outputs": [],
   "source": []
  }
 ],
 "metadata": {
  "kernelspec": {
   "display_name": "Python 3",
   "language": "python",
   "name": "python3"
  },
  "language_info": {
   "codemirror_mode": {
    "name": "ipython",
    "version": 3
   },
   "file_extension": ".py",
   "mimetype": "text/x-python",
   "name": "python",
   "nbconvert_exporter": "python",
   "pygments_lexer": "ipython3",
   "version": "3.8.4"
  }
 },
 "nbformat": 4,
 "nbformat_minor": 2
}
