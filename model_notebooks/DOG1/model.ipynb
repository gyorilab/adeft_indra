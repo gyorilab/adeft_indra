{
 "cells": [
  {
   "cell_type": "code",
   "execution_count": 83,
   "metadata": {},
   "outputs": [],
   "source": [
    "import json\n",
    "import pickle\n",
    "\n",
    "from indra.databases.hgnc_client import get_hgnc_name\n",
    "from indra.literature.adeft_tools import universal_extract_text\n",
    "\n",
    "from indra_db.util.content_scripts import get_text_content_from_pmids\n",
    "from indra_db.util.content_scripts import get_stmts_with_agent_text_like\n",
    "from indra_db.util.content_scripts import get_text_content_from_stmt_ids\n",
    "\n",
    "from adeft.discover import AdeftMiner\n",
    "from adeft.gui import ground_with_gui\n",
    "from adeft.modeling.label import AdeftLabeler\n",
    "from adeft.modeling.classify import AdeftClassifier\n",
    "from adeft.disambiguate import AdeftDisambiguator\n",
    "\n",
    "from adeft_indra.ground import gilda_ground"
   ]
  },
  {
   "cell_type": "code",
   "execution_count": 85,
   "metadata": {},
   "outputs": [],
   "source": [
    "with open('../data/entrez_all_pmids.json', 'r') as f:\n",
    "    all_pmids = json.load(f)"
   ]
  },
  {
   "cell_type": "code",
   "execution_count": 86,
   "metadata": {},
   "outputs": [],
   "source": [
    "ANO1_pmids = all_pmids['ANO1']\n",
    "ANO1_entrez_refs, ANO1_entrez_content = get_text_content_from_pmids(ANO1_pmids)\n",
    "ANO1_entrez_texts = [universal_extract_text(text) for text in ANO1_entrez_content.values() if text]"
   ]
  },
  {
   "cell_type": "code",
   "execution_count": 87,
   "metadata": {},
   "outputs": [],
   "source": [
    "shortform = 'DOG1'"
   ]
  },
  {
   "cell_type": "code",
   "execution_count": 88,
   "metadata": {},
   "outputs": [],
   "source": [
    "stmts = get_stmts_with_agent_text_like(shortform)[shortform]\n",
    "\n",
    "refs, content = get_text_content_from_stmt_ids(stmts)"
   ]
  },
  {
   "cell_type": "markdown",
   "metadata": {},
   "source": [
    "It's then necessary to check if Acromine produced the correct results. We must fix errors manually"
   ]
  },
  {
   "cell_type": "code",
   "execution_count": 89,
   "metadata": {},
   "outputs": [],
   "source": [
    "overlap = set(refs.values()) & set(ANO1_entrez_refs.values())"
   ]
  },
  {
   "cell_type": "code",
   "execution_count": 90,
   "metadata": {},
   "outputs": [
    {
     "data": {
      "text/plain": [
       "2"
      ]
     },
     "execution_count": 90,
     "metadata": {},
     "output_type": "execute_result"
    }
   ],
   "source": [
    "len(overlap)"
   ]
  },
  {
   "cell_type": "code",
   "execution_count": 91,
   "metadata": {},
   "outputs": [],
   "source": [
    "shortform_texts = [universal_extract_text(text, contains=[shortform]) for ref, text in content.items()\n",
    "                   if text and ref not in overlap and len(text) >= 5]"
   ]
  },
  {
   "cell_type": "code",
   "execution_count": 92,
   "metadata": {},
   "outputs": [],
   "source": [
    "miner = AdeftMiner(shortform)\n",
    "miner.process_texts(shortform_texts)"
   ]
  },
  {
   "cell_type": "code",
   "execution_count": 93,
   "metadata": {},
   "outputs": [],
   "source": [
    "top = miner.top()"
   ]
  },
  {
   "cell_type": "code",
   "execution_count": 94,
   "metadata": {},
   "outputs": [
    {
     "data": {
      "text/plain": [
       "[('delay of germination 1', 11.142857142857139),\n",
       " ('delay of germination1', 7.0),\n",
       " ('the delay of germination 1', 3.0),\n",
       " ('gene delay of germination 1', 2.0),\n",
       " ('1', 1.8666666666666671),\n",
       " ('protein delay of germination 1', 1.3333333333333333),\n",
       " ('and delay of germination 1', 1.0),\n",
       " ('the arabidopsis delay of germination1', 1),\n",
       " ('the arabidopsis protein delay of germination 1', 1.0),\n",
       " ('ing seed maturation induces several gene associated with dormancy included delay of germination1',\n",
       "  1),\n",
       " ('up dup regulated gene e g at5g43580 pr peptide at5g45540 unknown protein at5g45830',\n",
       "  1),\n",
       " ('and polysaccharides are produced during seed maturation here we report that delay of germination1',\n",
       "  1),\n",
       " ('nse to seasonal temperature patterns temporal sensing involved the gene delay of germination 1',\n",
       "  1),\n",
       " ('temperature drives seed specific temporal sensing via the accumulation of delay of germination 1',\n",
       "  1),\n",
       " ('favourable conditions the plant hormone abscisic acid aba and the protein delay of germination 1',\n",
       "  1),\n",
       " ('seed developmental gene e g abscisic acid insensitive 3 abi3 and delay of germination 1',\n",
       "  1),\n",
       " ('self binding in natural variation for seed dormancy the arabidopsis gene delay of germination 1',\n",
       "  1),\n",
       " ('sions and contributes to variation in seed dormancy the arabidopsis protein delay of germination 1',\n",
       "  1),\n",
       " ('the aim of the study was to investigate the expression of discovered on gist 1',\n",
       "  1),\n",
       " ('thylene response 1 etr1 etr1 controlled seed dormancy partially through the delay of germination 1',\n",
       "  1),\n",
       " ('uring dry storage after ripening the plant hormone abscisic acid aba and delay of germination1',\n",
       "  1),\n",
       " ('d signalling by the plant hormone abscisic acid two major dormancy gene delay of germination 1',\n",
       "  1),\n",
       " ('nd regulated of ahg1 remain elusive here we report that ahg1 interacts with delay of germination1',\n",
       "  1),\n",
       " ('overcome during dry storage after ripening the plant hormone aba and the delay of germination 1',\n",
       "  1),\n",
       " ('s integrating information such as ambient temperature here we show that the delay of germination 1',\n",
       "  1),\n",
       " ('ve identified many loci involved in seed dormancy and germination 1 3 7 delay of germination1',\n",
       "  1),\n",
       " ('cycle its timing is tightly controlled by the expression level of the delay of germination 1 gene',\n",
       "  1),\n",
       " ('ly and della that acts as activator of mft expression xi et al 2010 delay of germination1',\n",
       "  1),\n",
       " ('suvh4 are included as are clf and swn members of the prc2 involved in delay of germination1',\n",
       "  1),\n",
       " ('ncy and germination in cereals such as mother of ft and tfl1 mft and delay of germination 1',\n",
       "  1),\n",
       " ('oned using a candidate gene approach the gsq5 locus was shown to encode the delay of germination 1',\n",
       "  1),\n",
       " ('s of arabidopsis thaliana and some crops 10 11 12 13 14 15 among them delay of germination 1',\n",
       "  1),\n",
       " ('at5g45830', 0.0),\n",
       " ('gene', 0.0),\n",
       " ('germination1', 0.0),\n",
       " ('1 gene', 0.0),\n",
       " ('germination 1', 0.0),\n",
       " ('gist 1', 0.0),\n",
       " ('of germination1', 0.0),\n",
       " ('protein at5g45830', 0.0),\n",
       " ('germination 1 gene', 0.0),\n",
       " ('of germination 1', 0.0),\n",
       " ('on gist 1', 0.0),\n",
       " ('unknown protein at5g45830', 0.0),\n",
       " ('2010 delay of germination1', 0.0),\n",
       " ('7 delay of germination1', 0.0),\n",
       " ('and delay of germination1', 0.0),\n",
       " ('arabidopsis delay of germination1', 0.0),\n",
       " ('at5g45540 unknown protein at5g45830', 0.0),\n",
       " ('discovered on gist 1', 0.0),\n",
       " ('in delay of germination1', 0.0),\n",
       " ('included delay of germination1', 0.0),\n",
       " ('of germination 1 gene', 0.0),\n",
       " ('that delay of germination1', 0.0),\n",
       " ('with delay of germination1', 0.0),\n",
       " ('3 7 delay of germination1', 0.0),\n",
       " ('aba and delay of germination1', 0.0),\n",
       " ('al 2010 delay of germination1', 0.0),\n",
       " ('delay of germination 1 gene', 0.0),\n",
       " ('dormancy included delay of germination1', 0.0),\n",
       " ('interacts with delay of germination1', 0.0),\n",
       " ('involved in delay of germination1', 0.0),\n",
       " ('of delay of germination 1', 0.0),\n",
       " ('of discovered on gist 1', 0.0),\n",
       " ('peptide at5g45540 unknown protein at5g45830', 0.0),\n",
       " ('report that delay of germination1', 0.0),\n",
       " ('them delay of germination 1', 0.0),\n",
       " ('1 3 7 delay of germination1', 0.0),\n",
       " ('abi3 and delay of germination 1', 0.0),\n",
       " ('accumulation of delay of germination 1', 0.0),\n",
       " ('acid aba and delay of germination1', 0.0),\n",
       " ('ahg1 interacts with delay of germination1', 0.0),\n",
       " ('among them delay of germination 1', 0.0),\n",
       " ('and the delay of germination 1', 0.0),\n",
       " ('arabidopsis gene delay of germination 1', 0.0),\n",
       " ('arabidopsis protein delay of germination 1', 0.0),\n",
       " ('dormancy gene delay of germination 1', 0.0),\n",
       " ('encode the delay of germination 1', 0.0),\n",
       " ('et al 2010 delay of germination1', 0.0),\n",
       " ('expression of discovered on gist 1', 0.0),\n",
       " ('mft and delay of germination 1', 0.0),\n",
       " ('pr peptide at5g45540 unknown protein at5g45830', 0.0),\n",
       " ('prc2 involved in delay of germination1', 0.0),\n",
       " ('that the delay of germination 1', 0.0),\n",
       " ('the delay of germination 1 gene', 0.0),\n",
       " ('the gene delay of germination 1', 0.0),\n",
       " ('the protein delay of germination 1', 0.0),\n",
       " ('through the delay of germination 1', 0.0),\n",
       " ('we report that delay of germination1', 0.0),\n",
       " ('with dormancy included delay of germination1', 0.0),\n",
       " ('15 among them delay of germination 1', 0.0),\n",
       " ('3 abi3 and delay of germination 1', 0.0),\n",
       " ('aba and the delay of germination 1', 0.0),\n",
       " ('abscisic acid aba and delay of germination1', 0.0),\n",
       " ('and the protein delay of germination 1', 0.0),\n",
       " ('associated with dormancy included delay of germination1', 0.0),\n",
       " ('at5g43580 pr peptide at5g45540 unknown protein at5g45830', 0.0),\n",
       " ('germination 1 3 7 delay of germination1', 0.0),\n",
       " ('here we report that delay of germination1', 0.0),\n",
       " ('involved the gene delay of germination 1', 0.0),\n",
       " ('major dormancy gene delay of germination 1', 0.0),\n",
       " ('of the delay of germination 1 gene', 0.0),\n",
       " ('partially through the delay of germination 1', 0.0),\n",
       " ('show that the delay of germination 1', 0.0),\n",
       " ('tfl1 mft and delay of germination 1', 0.0),\n",
       " ('that ahg1 interacts with delay of germination1', 0.0),\n",
       " ('the accumulation of delay of germination 1', 0.0),\n",
       " ('the arabidopsis gene delay of germination 1', 0.0),\n",
       " ('the expression of discovered on gist 1', 0.0),\n",
       " ('the prc2 involved in delay of germination1', 0.0),\n",
       " ('to encode the delay of germination 1', 0.0),\n",
       " ('xi et al 2010 delay of germination1', 0.0),\n",
       " ('14 15 among them delay of germination 1', 0.0),\n",
       " ('aba and the protein delay of germination 1', 0.0),\n",
       " ('and germination 1 3 7 delay of germination1', 0.0),\n",
       " ('and tfl1 mft and delay of germination 1', 0.0),\n",
       " ('dormancy partially through the delay of germination 1', 0.0),\n",
       " ('dormancy the arabidopsis gene delay of germination 1', 0.0),\n",
       " ('dormancy the arabidopsis protein delay of germination 1', 0.0),\n",
       " ('expression xi et al 2010 delay of germination1', 0.0),\n",
       " ('g at5g43580 pr peptide at5g45540 unknown protein at5g45830', 0.0),\n",
       " ('gene associated with dormancy included delay of germination1', 0.0),\n",
       " ('hormone aba and the delay of germination 1', 0.0),\n",
       " ('hormone abscisic acid aba and delay of germination1', 0.0),\n",
       " ('insensitive 3 abi3 and delay of germination 1', 0.0),\n",
       " ('investigate the expression of discovered on gist 1', 0.0),\n",
       " ('level of the delay of germination 1 gene', 0.0),\n",
       " ('maturation here we report that delay of germination1', 0.0),\n",
       " ('of the prc2 involved in delay of germination1', 0.0),\n",
       " ('report that ahg1 interacts with delay of germination1', 0.0),\n",
       " ('sensing involved the gene delay of germination 1', 0.0),\n",
       " ('shown to encode the delay of germination 1', 0.0),\n",
       " ('two major dormancy gene delay of germination 1', 0.0),\n",
       " ('via the accumulation of delay of germination 1', 0.0),\n",
       " ('we show that the delay of germination 1', 0.0),\n",
       " ('13 14 15 among them delay of germination 1', 0.0),\n",
       " ('acid aba and the protein delay of germination 1', 0.0),\n",
       " ('acid insensitive 3 abi3 and delay of germination 1', 0.0),\n",
       " ('acid two major dormancy gene delay of germination 1', 0.0),\n",
       " ('dormancy and germination 1 3 7 delay of germination1', 0.0),\n",
       " ('e g at5g43580 pr peptide at5g45540 unknown protein at5g45830', 0.0),\n",
       " ('expression level of the delay of germination 1 gene', 0.0),\n",
       " ('ft and tfl1 mft and delay of germination 1', 0.0),\n",
       " ('here we show that the delay of germination 1', 0.0),\n",
       " ('members of the prc2 involved in delay of germination1', 0.0),\n",
       " ('mft expression xi et al 2010 delay of germination1', 0.0),\n",
       " ('plant hormone aba and the delay of germination 1', 0.0),\n",
       " ('plant hormone abscisic acid aba and delay of germination1', 0.0),\n",
       " ('seed dormancy partially through the delay of germination 1', 0.0),\n",
       " ('seed dormancy the arabidopsis gene delay of germination 1', 0.0),\n",
       " ('seed dormancy the arabidopsis protein delay of germination 1', 0.0),\n",
       " ('seed maturation here we report that delay of germination1', 0.0),\n",
       " ('sensing via the accumulation of delay of germination 1', 0.0),\n",
       " ('several gene associated with dormancy included delay of germination1', 0.0),\n",
       " ('temporal sensing involved the gene delay of germination 1', 0.0),\n",
       " ('to investigate the expression of discovered on gist 1', 0.0),\n",
       " ('was shown to encode the delay of germination 1', 0.0),\n",
       " ('we report that ahg1 interacts with delay of germination1', 0.0),\n",
       " ('12 13 14 15 among them delay of germination 1', 0.0),\n",
       " ('abscisic acid aba and the protein delay of germination 1', 0.0),\n",
       " ('abscisic acid insensitive 3 abi3 and delay of germination 1', 0.0),\n",
       " ('abscisic acid two major dormancy gene delay of germination 1', 0.0),\n",
       " ('controlled seed dormancy partially through the delay of germination 1',\n",
       "  0.0),\n",
       " ('during seed maturation here we report that delay of germination1', 0.0),\n",
       " ('for seed dormancy the arabidopsis gene delay of germination 1', 0.0),\n",
       " ('gene e g at5g43580 pr peptide at5g45540 unknown protein at5g45830', 0.0),\n",
       " ('here we report that ahg1 interacts with delay of germination1', 0.0),\n",
       " ('in seed dormancy the arabidopsis protein delay of germination 1', 0.0),\n",
       " ('induces several gene associated with dormancy included delay of germination1',\n",
       "  0.0),\n",
       " ('locus was shown to encode the delay of germination 1', 0.0),\n",
       " ('of ft and tfl1 mft and delay of germination 1', 0.0),\n",
       " ('of mft expression xi et al 2010 delay of germination1', 0.0),\n",
       " ('patterns temporal sensing involved the gene delay of germination 1', 0.0),\n",
       " ('seed dormancy and germination 1 3 7 delay of germination1', 0.0),\n",
       " ('swn members of the prc2 involved in delay of germination1', 0.0),\n",
       " ('temperature here we show that the delay of germination 1', 0.0),\n",
       " ('temporal sensing via the accumulation of delay of germination 1', 0.0),\n",
       " ('the expression level of the delay of germination 1 gene', 0.0),\n",
       " ('the plant hormone aba and the delay of germination 1', 0.0),\n",
       " ('the plant hormone abscisic acid aba and delay of germination1', 0.0),\n",
       " ('was to investigate the expression of discovered on gist 1', 0.0),\n",
       " ('11 12 13 14 15 among them delay of germination 1', 0.0),\n",
       " ('activator of mft expression xi et al 2010 delay of germination1', 0.0),\n",
       " ('ambient temperature here we show that the delay of germination 1', 0.0),\n",
       " ('and swn members of the prc2 involved in delay of germination1', 0.0),\n",
       " ('by the expression level of the delay of germination 1 gene', 0.0),\n",
       " ('elusive here we report that ahg1 interacts with delay of germination1',\n",
       "  0.0),\n",
       " ('etr1 controlled seed dormancy partially through the delay of germination 1',\n",
       "  0.0),\n",
       " ('g abscisic acid insensitive 3 abi3 and delay of germination 1', 0.0),\n",
       " ('gsq5 locus was shown to encode the delay of germination 1', 0.0),\n",
       " ('hormone abscisic acid aba and the protein delay of germination 1', 0.0),\n",
       " ('hormone abscisic acid two major dormancy gene delay of germination 1', 0.0),\n",
       " ('in seed dormancy and germination 1 3 7 delay of germination1', 0.0),\n",
       " ('maturation induces several gene associated with dormancy included delay of germination1',\n",
       "  0.0),\n",
       " ('mother of ft and tfl1 mft and delay of germination 1', 0.0),\n",
       " ('produced during seed maturation here we report that delay of germination1',\n",
       "  0.0),\n",
       " ('regulated gene e g at5g43580 pr peptide at5g45540 unknown protein at5g45830',\n",
       "  0.0),\n",
       " ('ripening the plant hormone aba and the delay of germination 1', 0.0),\n",
       " ('ripening the plant hormone abscisic acid aba and delay of germination1',\n",
       "  0.0),\n",
       " ('specific temporal sensing via the accumulation of delay of germination 1',\n",
       "  0.0),\n",
       " ('study was to investigate the expression of discovered on gist 1', 0.0),\n",
       " ('temperature patterns temporal sensing involved the gene delay of germination 1',\n",
       "  0.0),\n",
       " ('variation for seed dormancy the arabidopsis gene delay of germination 1',\n",
       "  0.0),\n",
       " ('variation in seed dormancy the arabidopsis protein delay of germination 1',\n",
       "  0.0),\n",
       " ('10 11 12 13 14 15 among them delay of germination 1', 0.0),\n",
       " ('after ripening the plant hormone aba and the delay of germination 1', 0.0),\n",
       " ('after ripening the plant hormone abscisic acid aba and delay of germination1',\n",
       "  0.0),\n",
       " ('are produced during seed maturation here we report that delay of germination1',\n",
       "  0.0),\n",
       " ('as activator of mft expression xi et al 2010 delay of germination1', 0.0),\n",
       " ('as ambient temperature here we show that the delay of germination 1', 0.0),\n",
       " ('as mother of ft and tfl1 mft and delay of germination 1', 0.0),\n",
       " ('clf and swn members of the prc2 involved in delay of germination1', 0.0),\n",
       " ('controlled by the expression level of the delay of germination 1 gene',\n",
       "  0.0),\n",
       " ('dup regulated gene e g at5g43580 pr peptide at5g45540 unknown protein at5g45830',\n",
       "  0.0),\n",
       " ('e g abscisic acid insensitive 3 abi3 and delay of germination 1', 0.0),\n",
       " ('etr1 etr1 controlled seed dormancy partially through the delay of germination 1',\n",
       "  0.0),\n",
       " ('involved in seed dormancy and germination 1 3 7 delay of germination1',\n",
       "  0.0),\n",
       " ('natural variation for seed dormancy the arabidopsis gene delay of germination 1',\n",
       "  0.0),\n",
       " ('plant hormone abscisic acid aba and the protein delay of germination 1',\n",
       "  0.0),\n",
       " ('plant hormone abscisic acid two major dormancy gene delay of germination 1',\n",
       "  0.0),\n",
       " ('remain elusive here we report that ahg1 interacts with delay of germination1',\n",
       "  0.0),\n",
       " ('seasonal temperature patterns temporal sensing involved the gene delay of germination 1',\n",
       "  0.0),\n",
       " ('seed maturation induces several gene associated with dormancy included delay of germination1',\n",
       "  0.0),\n",
       " ('seed specific temporal sensing via the accumulation of delay of germination 1',\n",
       "  0.0),\n",
       " ('the gsq5 locus was shown to encode the delay of germination 1', 0.0),\n",
       " ('the study was to investigate the expression of discovered on gist 1', 0.0),\n",
       " ('to variation in seed dormancy the arabidopsis protein delay of germination 1',\n",
       "  0.0),\n",
       " ('1 etr1 etr1 controlled seed dormancy partially through the delay of germination 1',\n",
       "  0.0),\n",
       " ('acts as activator of mft expression xi et al 2010 delay of germination1',\n",
       "  0.0),\n",
       " ('ahg1 remain elusive here we report that ahg1 interacts with delay of germination1',\n",
       "  0.0),\n",
       " ('approach the gsq5 locus was shown to encode the delay of germination 1',\n",
       "  0.0),\n",
       " ('are clf and swn members of the prc2 involved in delay of germination1',\n",
       "  0.0),\n",
       " ('contributes to variation in seed dormancy the arabidopsis protein delay of germination 1',\n",
       "  0.0),\n",
       " ('crops 10 11 12 13 14 15 among them delay of germination 1', 0.0),\n",
       " ('drives seed specific temporal sensing via the accumulation of delay of germination 1',\n",
       "  0.0),\n",
       " ('gene e g abscisic acid insensitive 3 abi3 and delay of germination 1', 0.0),\n",
       " ('in natural variation for seed dormancy the arabidopsis gene delay of germination 1',\n",
       "  0.0),\n",
       " ('loci involved in seed dormancy and germination 1 3 7 delay of germination1',\n",
       "  0.0),\n",
       " ('of the study was to investigate the expression of discovered on gist 1',\n",
       "  0.0),\n",
       " ('polysaccharides are produced during seed maturation here we report that delay of germination1',\n",
       "  0.0),\n",
       " ('storage after ripening the plant hormone aba and the delay of germination 1',\n",
       "  0.0),\n",
       " ('storage after ripening the plant hormone abscisic acid aba and delay of germination1',\n",
       "  0.0),\n",
       " ('such as ambient temperature here we show that the delay of germination 1',\n",
       "  0.0),\n",
       " ('such as mother of ft and tfl1 mft and delay of germination 1', 0.0),\n",
       " ('the plant hormone abscisic acid aba and the protein delay of germination 1',\n",
       "  0.0),\n",
       " ('the plant hormone abscisic acid two major dormancy gene delay of germination 1',\n",
       "  0.0),\n",
       " ('tightly controlled by the expression level of the delay of germination 1 gene',\n",
       "  0.0),\n",
       " ('to seasonal temperature patterns temporal sensing involved the gene delay of germination 1',\n",
       "  0.0),\n",
       " ('aim of the study was to investigate the expression of discovered on gist 1',\n",
       "  0.0),\n",
       " ('and contributes to variation in seed dormancy the arabidopsis protein delay of germination 1',\n",
       "  0.0),\n",
       " ('as are clf and swn members of the prc2 involved in delay of germination1',\n",
       "  0.0),\n",
       " ('binding in natural variation for seed dormancy the arabidopsis gene delay of germination 1',\n",
       "  0.0),\n",
       " ('by the plant hormone abscisic acid two major dormancy gene delay of germination 1',\n",
       "  0.0),\n",
       " ('cereals such as mother of ft and tfl1 mft and delay of germination 1', 0.0),\n",
       " ('conditions the plant hormone abscisic acid aba and the protein delay of germination 1',\n",
       "  0.0),\n",
       " ('developmental gene e g abscisic acid insensitive 3 abi3 and delay of germination 1',\n",
       "  0.0),\n",
       " ('dry storage after ripening the plant hormone aba and the delay of germination 1',\n",
       "  0.0),\n",
       " ('dry storage after ripening the plant hormone abscisic acid aba and delay of germination1',\n",
       "  0.0),\n",
       " ('gene approach the gsq5 locus was shown to encode the delay of germination 1',\n",
       "  0.0),\n",
       " ('information such as ambient temperature here we show that the delay of germination 1',\n",
       "  0.0),\n",
       " ('is tightly controlled by the expression level of the delay of germination 1 gene',\n",
       "  0.0),\n",
       " ('many loci involved in seed dormancy and germination 1 3 7 delay of germination1',\n",
       "  0.0),\n",
       " ('of ahg1 remain elusive here we report that ahg1 interacts with delay of germination1',\n",
       "  0.0),\n",
       " ('response 1 etr1 etr1 controlled seed dormancy partially through the delay of germination 1',\n",
       "  0.0),\n",
       " ('some crops 10 11 12 13 14 15 among them delay of germination 1', 0.0),\n",
       " ('that acts as activator of mft expression xi et al 2010 delay of germination1',\n",
       "  0.0),\n",
       " ('and some crops 10 11 12 13 14 15 among them delay of germination 1', 0.0),\n",
       " ('candidate gene approach the gsq5 locus was shown to encode the delay of germination 1',\n",
       "  0.0),\n",
       " ('della that acts as activator of mft expression xi et al 2010 delay of germination1',\n",
       "  0.0),\n",
       " ('during dry storage after ripening the plant hormone aba and the delay of germination 1',\n",
       "  0.0),\n",
       " ('identified many loci involved in seed dormancy and germination 1 3 7 delay of germination1',\n",
       "  0.0),\n",
       " ('in cereals such as mother of ft and tfl1 mft and delay of germination 1',\n",
       "  0.0),\n",
       " ('included as are clf and swn members of the prc2 involved in delay of germination1',\n",
       "  0.0),\n",
       " ('integrating information such as ambient temperature here we show that the delay of germination 1',\n",
       "  0.0),\n",
       " ('regulated of ahg1 remain elusive here we report that ahg1 interacts with delay of germination1',\n",
       "  0.0),\n",
       " ('signalling by the plant hormone abscisic acid two major dormancy gene delay of germination 1',\n",
       "  0.0),\n",
       " ('timing is tightly controlled by the expression level of the delay of germination 1 gene',\n",
       "  0.0),\n",
       " ('a candidate gene approach the gsq5 locus was shown to encode the delay of germination 1',\n",
       "  0.0),\n",
       " ('and della that acts as activator of mft expression xi et al 2010 delay of germination1',\n",
       "  0.0),\n",
       " ('are included as are clf and swn members of the prc2 involved in delay of germination1',\n",
       "  0.0),\n",
       " ('germination in cereals such as mother of ft and tfl1 mft and delay of germination 1',\n",
       "  0.0),\n",
       " ('its timing is tightly controlled by the expression level of the delay of germination 1 gene',\n",
       "  0.0),\n",
       " ('thaliana and some crops 10 11 12 13 14 15 among them delay of germination 1',\n",
       "  0.0),\n",
       " ('and germination in cereals such as mother of ft and tfl1 mft and delay of germination 1',\n",
       "  0.0),\n",
       " ('arabidopsis thaliana and some crops 10 11 12 13 14 15 among them delay of germination 1',\n",
       "  0.0),\n",
       " ('using a candidate gene approach the gsq5 locus was shown to encode the delay of germination 1',\n",
       "  0.0),\n",
       " ('of arabidopsis thaliana and some crops 10 11 12 13 14 15 among them delay of germination 1',\n",
       "  0.0)]"
      ]
     },
     "execution_count": 94,
     "metadata": {},
     "output_type": "execute_result"
    }
   ],
   "source": [
    "top"
   ]
  },
  {
   "cell_type": "code",
   "execution_count": 95,
   "metadata": {},
   "outputs": [
    {
     "data": {
      "text/plain": [
       "[('delay of germination 1', 11.142857142857139),\n",
       " ('delay of germination1', 7.0)]"
      ]
     },
     "execution_count": 95,
     "metadata": {},
     "output_type": "execute_result"
    }
   ],
   "source": [
    "miner.get_longforms()"
   ]
  },
  {
   "cell_type": "code",
   "execution_count": 96,
   "metadata": {},
   "outputs": [],
   "source": [
    "longforms = miner.get_longforms()"
   ]
  },
  {
   "cell_type": "code",
   "execution_count": 97,
   "metadata": {},
   "outputs": [],
   "source": [
    "longforms, scores = zip(*longforms)"
   ]
  },
  {
   "cell_type": "code",
   "execution_count": 98,
   "metadata": {},
   "outputs": [],
   "source": [
    "grounding_map = {}\n",
    "for longform in longforms:\n",
    "    grounding = gilda_ground(longform)\n",
    "    if grounding[0]:\n",
    "        grounding_map[longform] = f'{grounding[0]}:{grounding[1]}'"
   ]
  },
  {
   "cell_type": "code",
   "execution_count": 99,
   "metadata": {},
   "outputs": [
    {
     "data": {
      "text/plain": [
       "{}"
      ]
     },
     "execution_count": 99,
     "metadata": {},
     "output_type": "execute_result"
    }
   ],
   "source": [
    "grounding_map"
   ]
  },
  {
   "cell_type": "code",
   "execution_count": 100,
   "metadata": {},
   "outputs": [],
   "source": [
    "grounding_map, names, pos_labels = ground_with_gui(longforms, scores, grounding_map=grounding_map)"
   ]
  },
  {
   "cell_type": "code",
   "execution_count": 101,
   "metadata": {},
   "outputs": [],
   "source": [
    "names['HGNC:21625'] = 'ANO1'\n",
    "pos_labels.extend(['HGNC:21625'])"
   ]
  },
  {
   "cell_type": "code",
   "execution_count": 102,
   "metadata": {},
   "outputs": [],
   "source": [
    "result = (grounding_map, names, pos_labels)"
   ]
  },
  {
   "cell_type": "code",
   "execution_count": 103,
   "metadata": {},
   "outputs": [
    {
     "data": {
      "text/plain": [
       "({'delay of germination 1': 'UP:A0SVK0', 'delay of germination1': 'UP:A0SVK0'},\n",
       " {'UP:A0SVK0': 'Protein DELAY OF GERMINATION 1', 'HGNC:21625': 'ANO1'},\n",
       " ['UP:A0SVK0', 'HGNC:21625'])"
      ]
     },
     "execution_count": 103,
     "metadata": {},
     "output_type": "execute_result"
    }
   ],
   "source": [
    "result"
   ]
  },
  {
   "cell_type": "code",
   "execution_count": 104,
   "metadata": {},
   "outputs": [],
   "source": [
    "grounding_map, names, pos_labels = ({'delay of germination 1': 'UP:A0SVK0', 'delay of germination1': 'UP:A0SVK0'},\n",
    "                                     {'UP:A0SVK0': 'Protein DELAY OF GERMINATION 1', 'HGNC:21625': 'ANO1'},\n",
    "                                     ['UP:A0SVK0', 'HGNC:21625'])"
   ]
  },
  {
   "cell_type": "code",
   "execution_count": 105,
   "metadata": {},
   "outputs": [],
   "source": [
    "grounding_dict = {'DOG1': grounding_map}"
   ]
  },
  {
   "cell_type": "code",
   "execution_count": 106,
   "metadata": {},
   "outputs": [],
   "source": [
    "classifier = AdeftClassifier('DOG1', pos_labels=pos_labels)"
   ]
  },
  {
   "cell_type": "code",
   "execution_count": 107,
   "metadata": {},
   "outputs": [],
   "source": [
    "param_grid = {'C': [10.0, 100.0], 'max_features': [100, 1000, 10000]}"
   ]
  },
  {
   "cell_type": "code",
   "execution_count": 108,
   "metadata": {},
   "outputs": [],
   "source": [
    "labeler = AdeftLabeler(grounding_dict)"
   ]
  },
  {
   "cell_type": "code",
   "execution_count": 109,
   "metadata": {},
   "outputs": [],
   "source": [
    "corpus = labeler.build_from_texts(shortform_texts)"
   ]
  },
  {
   "cell_type": "code",
   "execution_count": 110,
   "metadata": {},
   "outputs": [],
   "source": [
    "corpus.extend([(text, 'HGNC:21625') for text in ANO1_entrez_texts])"
   ]
  },
  {
   "cell_type": "code",
   "execution_count": 111,
   "metadata": {},
   "outputs": [],
   "source": [
    "texts, labels = zip(*corpus)"
   ]
  },
  {
   "cell_type": "code",
   "execution_count": 112,
   "metadata": {},
   "outputs": [
    {
     "name": "stderr",
     "output_type": "stream",
     "text": [
      "INFO: [2019-12-17 15:58:38] /Users/albertsteppi/adeft/adeft/modeling/classify.py - Beginning grid search in parameter space:\n",
      "{'C': [10.0, 100.0], 'max_features': [100, 1000, 10000]}\n",
      "INFO: [2019-12-17 15:58:46] /Users/albertsteppi/adeft/adeft/modeling/classify.py - Best f1 score of 1.0 found for parameter values:\n",
      "{'logit__C': 100.0, 'tfidf__max_features': 1000}\n"
     ]
    }
   ],
   "source": [
    "classifier.cv(texts, labels, param_grid, cv=5, n_jobs=8)"
   ]
  },
  {
   "cell_type": "code",
   "execution_count": 113,
   "metadata": {},
   "outputs": [
    {
     "data": {
      "text/plain": [
       "{'label_distribution': {'UP:A0SVK0': 16, 'HGNC:21625': 126},\n",
       " 'f1': {'mean': 0.9714285714285715, 'std': 0.05714285714285716},\n",
       " 'precision': {'mean': 1.0, 'std': 0.0},\n",
       " 'recall': {'mean': 0.95, 'std': 0.09999999999999999}}"
      ]
     },
     "execution_count": 113,
     "metadata": {},
     "output_type": "execute_result"
    }
   ],
   "source": [
    "classifier.stats"
   ]
  },
  {
   "cell_type": "code",
   "execution_count": 114,
   "metadata": {},
   "outputs": [],
   "source": [
    "disamb = AdeftDisambiguator(classifier, grounding_dict, names)"
   ]
  },
  {
   "cell_type": "code",
   "execution_count": 123,
   "metadata": {},
   "outputs": [],
   "source": [
    "disamb.dump('DOG1', '../results')"
   ]
  },
  {
   "cell_type": "code",
   "execution_count": 116,
   "metadata": {},
   "outputs": [],
   "source": [
    "disambs = disamb.disambiguate(shortform_texts)"
   ]
  },
  {
   "cell_type": "code",
   "execution_count": 124,
   "metadata": {},
   "outputs": [],
   "source": [
    "a = [text for text, d in zip(shortform_texts, disambs) if d[0] != 'HGNC:21625']"
   ]
  },
  {
   "cell_type": "code",
   "execution_count": 125,
   "metadata": {},
   "outputs": [
    {
     "data": {
      "text/plain": [
       "25"
      ]
     },
     "execution_count": 125,
     "metadata": {},
     "output_type": "execute_result"
    }
   ],
   "source": [
    "len(a)"
   ]
  },
  {
   "cell_type": "code",
   "execution_count": 127,
   "metadata": {},
   "outputs": [
    {
     "data": {
      "text/plain": [
       "'The salinization of land is a major factor limiting crop production worldwide. Halophytes adapted to high levels of salinity are likely to possess useful genes for improving crop tolerance to salt stress. In addition, halophytes could provide a food source on marginal lands. However, despite halophytes being salt-tolerant plants, the seeds of several halophytic species will not germinate on saline soils. Yet, little is understood regarding biochemical and gene expression changes underlying salt-mediated inhibition of halophyte seed germination. We have used the halophytic  Arabidopsis  relative model system,  Eutrema  ( Thellungiella )  salsugineum  to explore salt-mediated inhibition of germination. We show that  E. salsugineum  seed germination is inhibited by salt to a far greater extent than in  Arabidopsis , and that this inhibition is in response to the osmotic component of salt exposure.  E. salsugineum  seeds remain viable even when germination is completely inhibited, and germination resumes once seeds are transferred to non-saline conditions. Moreover, removal of the seed coat from salt-treated seeds allows embryos to germinate on salt-containing medium. Mobilization of seed storage reserves is restricted in salt-treated seeds, while many germination-associated metabolic changes are arrested or progress to a lower extent. Salt-exposed seeds are further characterized by a reduced GA/ABA ratio and increased expression of the germination repressor genes,  RGL2 ,  ABI5 , and  DOG1 . Furthermore, a salt-mediated increase in expression of a  LATE EMBRYOGENESIS ABUNDANT  gene and accretion of metabolites involved in osmoprotection indicates induction of processes associated with stress tolerance, and accumulation of easily mobilized carbon reserves. Overall, our results suggest that salt inhibits  E. salsugineum  seed germination by inducing a seed state with molecular features of dormancy while a physical constraint to radicle emergence is provided by the seed coat layers. This seed state could facilitate survival on saline soils until a rain event(s) increases soil water potential indicating favorable conditions for seed germination and establishment of salt-tolerant  E. salsugineum  seedlings.\\nThe ability of an  Arabidopsis  seed to germinate is highly dependent upon processes occuring during seed maturation on the mother plant as well as environmental conditions before and after imbibition ( Bewley, 1997 ;  Donohue et al., 2005 ;  Holdsworth et al., 2008 ;  Dekkers and Bentsink, 2015 ). The developing seed is prevented from germinating via induction of primary seed dormancy during seed maturation ( Koornneef and Karssen, 1994 ;  Holdsworth et al., 2008 ). Seed dormancy induction and release is controlled by the balance between the levels of two key phytohormones, abscisic acid (ABA) and the gibberelins (GA), as well as by dormancy regulators such as DELAY OF GERMINATION 1 (DOG1;  Nambara and Marion-Poll, 2005 ;  Holdsworth et al., 2008 ;  Piskurewicz et al., 2008 ;  Graeber et al., 2012 ;  Nakabayashi et al., 2012 ;  Nonogaki, 2014 ;  Dekkers and Bentsink, 2015 ). The end-point of  Arabidposis  seed maturation is a desiccated, dormant seed (i.e., an orthodox seed;  Roberts, 1973 ) associated with a low GA/ABA ratio and high DOG1 protein levels ( Kucera et al., 2005 ;  Piskurewicz et al., 2008 ;  Nakabayashi et al., 2012 ). The dry seed state is actually a low-hydrated state with a low level of metabolic activity ( Bove et al., 2005 ;  Leubner-Metzger, 2005 ;  Chibani et al., 2006 ;  Carrera et al., 2008 ;  Holdsworth et al., 2008 ;  Angelovici et al., 2010a , b ). After-ripening of dry seeds leading to germination competency is associated with modification of the DOG1 protein, presumably causing its inactivation, and lower ABA levels ( Nambara et al., 2010 ;  Nakabayashi et al., 2012 ;  Dekkers and Bentsink, 2015 ). The after-ripened seed may now be in a state of shallow dormancy or non-dormant, and can germinate once rehydrated providing that conditions are favorable for germination. Germination of non-dormant seeds is triggered by imbibition ( Bewley, 1997 ;  Rosental et al., 2014 ) followed by significant metabolic changes including mobilization of proteins, lipids, and carbohydrates ( Fait et al., 2006 ;  Graham, 2008 ;  Tan-Wilson and Wilson, 2012 ). GA levels rise and ABA levels drop leading to inactivation of germination repressors, followed by testa and endosperm rupture, and radicle protrusion ( Kucera et al., 2005 ;  Nambara and Marion-Poll, 2005 ;  Müller et al., 2006 ;  Piskurewicz et al., 2008 ;  Dekkers and Bentsink, 2015 ).\\nOur findings so far, showing a salt-mediated halt or retardation in metabolic changes during germination, and a decreased GA/ABA ratio, led us to hypothesize that salt treatment leads to induction of a dormancy-like state in  E. salsugineum  seeds. In order to test this hypothesis, we examined expression of  E. salsugineum  orthologs of  Arabidopsis  genes related to ABA metabolism, ABA and GA signaling, and the major seed dormancy regulator,  DOG1 .\\nDOG1, a protein of unknown function, is a key regulator of seed dormancy whose levels in dry  Arabidopsis  seeds determines the time required for dormancy release during after-ripening ( Bentsink et al., 2006 ;  Nakabayashi et al., 2012 ;  Graeber et al., 2014 ). In control  E. salsugineum  seeds,  DOG1  transcript levels gradually decreased from 0 to 48 HAS ( Figure  7G ) in agreement with previous findings in  Arabidopsis  seeds ( Nakabayashi et al., 2012 ). In salt-treated seeds, however, a dramatic 4.7 and 5.3-fold rise in  DOG1  transcript levels was observed at 0 HAS compared to dry seeds and 0 HAS under control conditions, respectively.  DOG1  expression in salt-treated seeds fell thereafter but always remained significantly higher than in control seeds during the remainder of the germination period.\\nOur physiological data showing rapid germination of salt-treated  E. salsugineum  seeds upon transfer to non-saline conditions ( Figure  2C ) suggests that the seed coat may be imposing a physical constraint upon germination. This idea is consistent with the higher expression of  DOG1  in salt-treated  E. salsugineum  seeds because DOG1 plays a role in repressing micropylar endosperm cap weakening, a step that is essential for endosperm rupture and subsequent radicle emergence ( Graeber et al., 2014 ). A role for the seed coat in salt-mediated inhibition of  E. salsugineum  germination was further supported when the seed coat (including the single layer of endosperm cells) was removed from salt-treated  E. salsugineum  seeds at 2 DAS, and embryos transferred to fresh salt-containing medium.  Figures  8A–C  shows that removal of the seed coat allowed excised embryos to develop into seedlings, reaching a final percent cotyledon emergence similar to the final percent germination usually observed in non-salt-treated intact seeds. On the other hand, salt-treated intact seeds transferred to fresh salt-containing medium at 2 DAS were unable to germinate. Overall, these findings suggest that the seed coat enforces a physical constraint upon the germination of salt-treated  E. salsugineum  seeds. Furthermore, the data indicate that the salt-treated embryos have not entered secondary dormancy but are in a shallow dormant-like state. It is also interesting to note that the embryos are able to develop into seedlings that can continue to grow on nutrient medium supplemented with 200 mM NaCl. Conversely,  Arabidopsis  seedlings are unable to survive under these conditions ( Kazachkova et al., 2013 ; data not shown). This observation suggests that  E. salsugineum  embryos already possess the high tolerance to salt stress associated with later stages of plant development.\\nWhen environmental conditions are unfavorable for germination, non-dormant imbibed seeds can enter a state of secondary dormancy ( Baskin and Baskin, 1998 ;  Cadman et al., 2006 ;  Footitt et al., 2011 ;  Penfield and Springthorpe, 2012 ;  Ibarra et al., 2015 ). However, both the rapid germination observed after salt-treated seeds are rescued to non-saline medium ( Figure  2C ) and the development of seedlings from excised embryos under saline conditions ( Figure  8 ) suggest that salt does not cause  E. salsugineum  to enter secondary dormancy. Rather, each of our main findings indicates that  E. salsugineum  seeds respond to salt by inducing a dormancy-like state. Firstly, TTC staining revealed that salt-treated  E. salsugineum  seeds remain viable even though they do not germinate ( Figures  2A,B ). Furthermore, salt-treated  E. salsugineum  seeds rapidly attain control levels of germination upon transfer from salt to non-salt conditions ( Figure  2C ) suggesting that they are undamaged by 200 mM, a concentration that causes complete inhibition of germination. Secondly, salt-treated  E. salsugineum  seeds do not mobilize seed storage reserves, and at 24 HAS and thereafter exhibit a cessation or retardation of metabolic changes that are associated with germination under control conditions ( Figures  3 – 5 ). Thirdly, analysis of hormone levels and gene expression show that salt-treated  E. salsugineum  seeds exhibit molecular features associated with dormancy: a reduced GA/ABA ratio, and increased  RGL2 ,  ABI5 , and  DOG1  expression compared to control seeds ( Figures  6  and  7 ; Supplementary Table  S6 ).\\nOur data showing development of seedlings from excised embryos on salt further suggests that the salt-mediated induction of a dormancy-like state of the embryos is complemented by a seed coat-imposed physical constraint to germination. Seed dormancy and germination are controlled by a balance between the embryo growth potential and the resistance of the testa and the endosperm layers that cover the embryo ( Nonogaki, 2006 ;  Finch-Savage and Leubner-Metzger, 2006 ). A pre-requisite for radicle emergence involves weakening of the mechanical resistance of the endosperm layer covering the radicle tip – the micropylar endosperm cap ( Linkies et al., 2009 ;  Dekkers et al., 2013 ). It was recently demonstrated that  Lepidium sativim  ( Brassicaceae ) overexpressing  AtDOG1  exhibited no difference in embryo growth potential compared to wild-type plants ( Graeber et al., 2014 ). However, micropylar endosperm cap weakening was severely inhibited in the  DOG1  overexpressing lines as was expression of GA-regulated genes encoding candidate endosperm cap-weakening proteins such as members of the expansin and xyloglucan endo-transglycosylases/hydrolase families. Our data revealed that  DOG1  exhibited a fivefold higher expression at 0 HAS in salt-treated  E. salsugineum  seeds compared to control seeds, and significantly higher  DOG1  expression in salt-treated seeds at all the time points examined ( Figure  7G ). Thus, our findings point to the possibility that the salt-mediated increase in  DOG1  expression targets the seed-covering layers to prevent germination under unfavorable conditions.\\nIt is also notable that we show that  DOG1  expression responds to salt treatment. Since DOG1 may affect ABA sensitivity ( Footitt et al., 2011 ), is involved in temperature-dependent GA control of micropylar endosperm cap weakening ( Graeber et al., 2014 ), and plays a role in low temperature induction of dormancy ( Kendall et al., 2011 ;  Murphey et al., 2015 ), DOG1 might also be involved in sensing the osmotic component of salt exposure thereby indicating that DOG1 could integrate diverse environmental signals via modulation of hormone levels/signaling.\\nSecondly, we found that several metabolites associated with stress tolerance accumulated in salt-treated seeds albeit to a lower extent than in control seeds. These included proline and myo-inositol that are involved in osmoprotection and/or stress signaling ( Verbruggen and Hermans, 2008 ;  Valluru and Van den Ende, 2011 ). Importantly, one metabolite whose abundance was reduced in control germinating  E. salsugineum  seeds but was maintained and actually began to increase at 48 HAS in salt-treated seeds, was raffinose ( Figure  5 ). Raffinose and other derived oligosaccharides (RFOs) are important stress-related sugars that are thought to be involved in stabilizing membranes during dehydration and in scavenging hydroxyl radicals ( Sun et al., 1994 ;  Baud et al., 2002 ;  Fait et al., 2006 ;  Nishizawa et al., 2008 ;  Angelovici et al., 2010a ). In orthodox seeds, RFO-related transcripts accumulate prior to desiccation, while the sugars themselves accumulate during seed desiccation on the mother plant ( Downie et al., 2003 ;  Fait et al., 2006 ;  Baud et al., 2008 ;  Angelovici et al., 2010b ). It has also been suggested that RFOs provide an energy-friendly carbon storage source (in comparison to mobilizing high molecular weight reserves) for initiating the germination process when conditions are favorable ( Baud et al., 2002 ;  Fait et al., 2006 ). Our finding that raffinose levels initially decrease in control and salt-treated  E. salsugineum  seeds, suggests that small molecules are first mobilized as an easily accessible carbon resource to swiftly respond to germination-favorable conditions. However, prolonged exposure to salt eventually leads to induction of a stress-response similar to desiccation-mediated accumulation of raffinose during seed maturation. It is important to point out, however, that salt-treated seeds are not desiccated and therefore we cannot strictly talk about re-establishment of desiccation tolerance (the ability of the seed to successfully rehydrate). Rather, an increase in desiccation-associated molecules is likely a stress response that could aid in protecting imbibed  E. salsugineum  seeds in the dehydrating conditions present in highly saline soils. Intriguingly, a recent report has suggested that  DOG1  expression during  Arabidopsis  seed development is required for expression of desiccation/stress tolerance genes such as  EM6  and heat shock proteins, as well as proper accumulation of RFO pathway compounds ( Dekkers et al., 2016 ). Thus, it is tempting to speculate that in addition to its involvement in repressing micropylar endosperm cap weakening in salt-treated  E. salsugineum  seeds, high salt-mediated  DOG1  expression may also be involved in inducing the production of protective compounds allowing the embryo to survive in saline growth media.\\nWe have shown that salt treatment of  E. salsugineum  seeds causes a decrease in the GA/ABA ratio primarily due to reduced GA levels, and up-regulation of key seed dormancy genes ( Figure  9 ). Notably, there are large increases in expression of  RGL2  and  DOG1  expression immediately after release of salt-treated seeds from stratification (0 HAS) followed by up-regulation of the downstream  ABI5  gene that is thought to ultimately repress seed germination. We suggest that the embryo enters a dormancy-like state whereby the seeds remain viable but germination-associated metabolic activity is arrested or reduced, while processes associated with stress tolerance are induced. Our data showing germination of excised embryos on saline growth medium plus salt-induced  DOG1  expression that could prevent micropylar endosperm cap weakening suggests that the seed coat also imposes a physical constraint preventing radicle emergence in the imbibed seeds. In its native habitat that is characterized by highly saline soils, such a mechanism could allow  E. salsugineum  seeds to remain quiescent but viable in the seed bank, and responsive to any changes in conditions more favorable to germination. Germination would then occur after a rain event(s) when soil water potential rises and the chances of survival and completion of the plant’s life cycle become significantly higher. Our examination of the biochemical and gene expression changes taking place in both control and salt-treated  E. salsugineum  lays the basis for identifying genes involved in salt-mediated inhibition of halophyte germination. Thus, we are currently generating an  E. salsugineum  ethyl methanesulfonate (EMS) mutant population to screen for such genes.\\n'"
      ]
     },
     "execution_count": 127,
     "metadata": {},
     "output_type": "execute_result"
    }
   ],
   "source": [
    "a[1]"
   ]
  },
  {
   "cell_type": "code",
   "execution_count": 128,
   "metadata": {},
   "outputs": [],
   "source": [
    "from adeft.disambiguate import load_disambiguator"
   ]
  },
  {
   "cell_type": "code",
   "execution_count": 130,
   "metadata": {},
   "outputs": [],
   "source": [
    "disamb = load_disambiguator('DOG1', path='../results')"
   ]
  },
  {
   "cell_type": "code",
   "execution_count": 131,
   "metadata": {},
   "outputs": [],
   "source": [
    "from adeft_indra.s3 import model_to_s3"
   ]
  },
  {
   "cell_type": "code",
   "execution_count": 132,
   "metadata": {},
   "outputs": [],
   "source": [
    "model_to_s3(disamb)"
   ]
  },
  {
   "cell_type": "code",
   "execution_count": null,
   "metadata": {},
   "outputs": [],
   "source": []
  }
 ],
 "metadata": {
  "kernelspec": {
   "display_name": "Python 3",
   "language": "python",
   "name": "python3"
  },
  "language_info": {
   "codemirror_mode": {
    "name": "ipython",
    "version": 3
   },
   "file_extension": ".py",
   "mimetype": "text/x-python",
   "name": "python",
   "nbconvert_exporter": "python",
   "pygments_lexer": "ipython3",
   "version": "3.7.5"
  }
 },
 "nbformat": 4,
 "nbformat_minor": 2
}
