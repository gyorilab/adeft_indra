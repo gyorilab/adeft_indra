{
 "cells": [
  {
   "cell_type": "code",
   "execution_count": 1,
   "metadata": {},
   "outputs": [],
   "source": [
    "import os\n",
    "import json\n",
    "import pickle\n",
    "import random\n",
    "from collections import defaultdict, Counter\n",
    "\n",
    "from indra.literature.adeft_tools import universal_extract_text\n",
    "from indra.databases.hgnc_client import get_hgnc_name, get_hgnc_id\n",
    "\n",
    "from adeft.discover import AdeftMiner\n",
    "from adeft.gui import ground_with_gui\n",
    "from adeft.modeling.label import AdeftLabeler\n",
    "from adeft.modeling.classify import AdeftClassifier\n",
    "from adeft.disambiguate import AdeftDisambiguator, load_disambiguator\n",
    "\n",
    "\n",
    "from adeft_indra.ground.ground import AdeftGrounder\n",
    "from adeft_indra.model_building.s3 import model_to_s3\n",
    "from adeft_indra.model_building.escape import escape_filename\n",
    "from adeft_indra.db.content import get_pmids_for_agent_text, get_pmids_for_entity, \\\n",
    "    get_plaintexts_for_pmids"
   ]
  },
  {
   "cell_type": "code",
   "execution_count": 2,
   "metadata": {},
   "outputs": [],
   "source": [
    "adeft_grounder = AdeftGrounder()"
   ]
  },
  {
   "cell_type": "code",
   "execution_count": 3,
   "metadata": {},
   "outputs": [],
   "source": [
    "shortforms = ['RD']\n",
    "model_name = ':'.join(sorted(escape_filename(shortform) for shortform in shortforms))\n",
    "results_path = os.path.abspath(os.path.join('../..', 'results', model_name))"
   ]
  },
  {
   "cell_type": "code",
   "execution_count": 4,
   "metadata": {},
   "outputs": [],
   "source": [
    "miners = dict()\n",
    "all_texts = {}\n",
    "for shortform in shortforms:\n",
    "    pmids = get_pmids_for_agent_text(shortform)\n",
    "    if len(pmids) > 10000:\n",
    "        pmids = random.choices(pmids, k=10000)\n",
    "    text_dict = get_plaintexts_for_pmids(pmids, contains=shortforms)\n",
    "    text_dict = {pmid: text for pmid, text in text_dict.items() if len(text) > 5}\n",
    "    miners[shortform] = AdeftMiner(shortform)\n",
    "    miners[shortform].process_texts(text_dict.values())\n",
    "    all_texts.update(text_dict)\n",
    "\n",
    "longform_dict = {}\n",
    "for shortform in shortforms:\n",
    "    longforms = miners[shortform].get_longforms()\n",
    "    longforms = [(longform, count, score) for longform, count, score in longforms\n",
    "                 if count*score > 2]\n",
    "    longform_dict[shortform] = longforms\n",
    "    \n",
    "combined_longforms = Counter()\n",
    "for longform_rows in longform_dict.values():\n",
    "    combined_longforms.update({longform: count for longform, count, score\n",
    "                               in longform_rows})\n",
    "grounding_map = {}\n",
    "names = {}\n",
    "for longform in combined_longforms:\n",
    "    groundings = adeft_grounder.ground(longform)\n",
    "    if groundings:\n",
    "        grounding = groundings[0]['grounding']\n",
    "        grounding_map[longform] = grounding\n",
    "        names[grounding] = groundings[0]['name']\n",
    "longforms, counts = zip(*combined_longforms.most_common())\n",
    "pos_labels = []"
   ]
  },
  {
   "cell_type": "code",
   "execution_count": 5,
   "metadata": {},
   "outputs": [
    {
     "data": {
      "text/plain": [
       "[('radial diffusivity', 224),\n",
       " ('retinal detachment', 133),\n",
       " ('rhabdomyosarcoma', 106),\n",
       " ('regulatory domain', 72),\n",
       " ('reading disability', 58),\n",
       " ('regular diet', 50),\n",
       " ('retinal degeneration', 44),\n",
       " ('renal dysfunction', 41),\n",
       " ('renal denervation', 40),\n",
       " ('risk difference', 28),\n",
       " ('repressor domain', 27),\n",
       " ('receiver domain', 22),\n",
       " ('radial', 21),\n",
       " ('retinal determination', 19),\n",
       " ('reward dependence', 19),\n",
       " ('runt domain', 17),\n",
       " ('restrictive dermopathy', 16),\n",
       " ('respiratory disease', 16),\n",
       " ('reading difficulties', 14),\n",
       " ('repression domain', 13),\n",
       " ('reading disorder', 12),\n",
       " ('radicicol', 11),\n",
       " ('rhabdomyosarcoma cell', 10),\n",
       " ('rectal distension', 9),\n",
       " ('reaction diffusivity', 9),\n",
       " ('rhabdomyosarcoma cell line', 9),\n",
       " ('respiratory depression', 8),\n",
       " ('recession depth', 8),\n",
       " ('residual disease', 8),\n",
       " ('radiation damping', 7),\n",
       " ('relaxation dispersion', 7),\n",
       " ('root diameter', 7),\n",
       " ('respiratory distress', 7),\n",
       " ('rebound depolarization', 7),\n",
       " ('riboflavin deficient', 7),\n",
       " ('repeat domain', 7),\n",
       " ('radiation dermatitis', 6),\n",
       " ('related disease', 6),\n",
       " ('renal sympathetic denervation', 6),\n",
       " ('regular chow diet', 6),\n",
       " ('rectal distention', 5),\n",
       " ('reading depth', 5),\n",
       " ('respiratory deficient', 5),\n",
       " ('restrictive diffusivity', 5),\n",
       " ('rhododendrol', 5),\n",
       " ('replant disease', 5),\n",
       " ('rheumatic disease', 5),\n",
       " ('radiology department', 4),\n",
       " ('riccardin d', 4),\n",
       " ('reticular dysgenesis', 4),\n",
       " ('regression discontinuity', 4),\n",
       " ('retinal dystrophy', 4),\n",
       " ('reward drive', 4),\n",
       " ('rhizoma drynariae', 4),\n",
       " ('radiation dose', 4),\n",
       " ('racial discrimination', 4),\n",
       " ('related deprivation', 4),\n",
       " ('rate difference', 4),\n",
       " ('respiration deficient', 4),\n",
       " ('resistant disease', 4),\n",
       " ('recruitment domain', 4),\n",
       " ('rem sleep deprivation', 4),\n",
       " ('related demethylation', 3),\n",
       " ('registered dietitian', 3),\n",
       " ('replication defective', 3),\n",
       " ('raphe dorsalis', 3),\n",
       " ('reduction dechlorination', 3),\n",
       " ('resveratrol dimer', 3),\n",
       " ('regimen distress', 3),\n",
       " ('recommended dose', 3),\n",
       " ('roughing disorder', 3),\n",
       " ('retinoid deficient', 3),\n",
       " ('reading', 3),\n",
       " ('recombinase domain', 3),\n",
       " ('rice duck farming', 3),\n",
       " ('rosa damascena l', 3)]"
      ]
     },
     "execution_count": 5,
     "metadata": {},
     "output_type": "execute_result"
    }
   ],
   "source": [
    "list(zip(longforms, counts))"
   ]
  },
  {
   "cell_type": "code",
   "execution_count": 6,
   "metadata": {},
   "outputs": [
    {
     "name": "stderr",
     "output_type": "stream",
     "text": [
      "INFO: [2020-09-25 14:47:31] indra.ontology.bio.ontology - Loading INDRA bio ontology from cache at /home/ubuntu/.indra/bio_ontology/1.2/bio_ontology.pkl\n"
     ]
    }
   ],
   "source": [
    "grounding_map, names, pos_labels = ground_with_gui(longforms, counts, \n",
    "                                                   grounding_map=grounding_map,\n",
    "                                                   names=names, pos_labels=pos_labels, no_browser=True, port=8890)"
   ]
  },
  {
   "cell_type": "code",
   "execution_count": 7,
   "metadata": {},
   "outputs": [],
   "source": [
    "result = [grounding_map, names, pos_labels]"
   ]
  },
  {
   "cell_type": "code",
   "execution_count": 8,
   "metadata": {},
   "outputs": [
    {
     "data": {
      "text/plain": [
       "[{'benzaldehyde lyase': 'MESH:C059416',\n",
       "  'betaine aldehyde': 'CHEBI:CHEBI:15710',\n",
       "  'bile salt activity lipase': 'HGNC:1848',\n",
       "  'bioartificial liver': 'MESH:D019164',\n",
       "  'blood alcohol levels': 'ungrounded',\n",
       "  'breath alcohol levels': 'ungrounded',\n",
       "  'british anti lewisite': 'CHEBI:CHEBI:64198',\n",
       "  'brochoalveolar lavage': 'MESH:D018893',\n",
       "  'bronchalveolar lavage': 'MESH:D018893',\n",
       "  'bronchial alveolar lavage': 'MESH:D018893',\n",
       "  'bronchial lavage': 'MESH:D018893',\n",
       "  'bronchio alveolar lavage': 'MESH:D018893',\n",
       "  'bronchiolar lavage': 'MESH:D018893',\n",
       "  'broncho alveolar lavage': 'MESH:D018893',\n",
       "  'bronchoalveolar': 'MESH:D018893',\n",
       "  'bronchoalveolar fluid': 'MESH:D018893',\n",
       "  'bronchoalveolar larvage': 'MESH:D018893',\n",
       "  'bronchoalveolar lavage': 'MESH:D018893'},\n",
       " {'MESH:C059416': 'benzaldehyde lyase',\n",
       "  'CHEBI:CHEBI:15710': 'betaine aldehyde',\n",
       "  'HGNC:1848': 'CEL',\n",
       "  'MESH:D019164': 'Liver, Artificial',\n",
       "  'CHEBI:CHEBI:64198': 'dimercaprol',\n",
       "  'MESH:D018893': 'Bronchoalveolar Lavage'},\n",
       " ['HGNC:1848', 'MESH:D018893']]"
      ]
     },
     "execution_count": 8,
     "metadata": {},
     "output_type": "execute_result"
    }
   ],
   "source": [
    "result"
   ]
  },
  {
   "cell_type": "code",
   "execution_count": 6,
   "metadata": {},
   "outputs": [],
   "source": [
    "grounding_map, names, pos_labels = grounding_map, names, pos_labels = [{'racial discrimination': 'MESH:D063505',\n",
    "  'radial': 'ungrounded',\n",
    "  'radial diffusivity': 'radial_diffusivity',\n",
    "  'radiation damping': 'ungrounded',\n",
    "  'radiation dermatitis': 'ungrounded',\n",
    "  'radiation dose': 'ungrounded',\n",
    "  'radicicol': 'CHEBI:CHEBI:556075',\n",
    "  'radiology department': 'ungrounded',\n",
    "  'raphe dorsalis': 'ungrounded',\n",
    "  'rate difference': 'ungrounded',\n",
    "  'reaction diffusivity': 'ungrounded',\n",
    "  'reading': 'ungrounded',\n",
    "  'reading depth': 'ungrounded',\n",
    "  'reading difficulties': 'ungrounded',\n",
    "  'reading disability': 'MESH:D004410',\n",
    "  'reading disorder': 'MESH:D004410',\n",
    "  'rebound depolarization': 'ungrounded',\n",
    "  'receiver domain': 'ungrounded',\n",
    "  'recession depth': 'ungrounded',\n",
    "  'recombinase domain': 'ungrounded',\n",
    "  'recommended dose': 'ungrounded',\n",
    "  'recruitment domain': 'ungrounded',\n",
    "  'rectal distension': 'ungrounded',\n",
    "  'rectal distention': 'ungrounded',\n",
    "  'reduction dechlorination': 'ungrounded',\n",
    "  'regimen distress': 'ungrounded',\n",
    "  'registered dietitian': 'ungrounded',\n",
    "  'regression discontinuity': 'ungrounded',\n",
    "  'regular chow diet': 'MESH:D004032',\n",
    "  'regular diet': 'ungrounded',\n",
    "  'regulatory domain': 'ungrounded',\n",
    "  'related demethylation': 'ungrounded',\n",
    "  'related deprivation': 'ungrounded',\n",
    "  'related disease': 'ungrounded',\n",
    "  'relaxation dispersion': 'ungrounded',\n",
    "  'rem sleep deprivation': 'MESH:D012892',\n",
    "  'renal denervation': 'ungrounded',\n",
    "  'renal dysfunction': 'MESH:D051437',\n",
    "  'renal sympathetic denervation': 'MESH:D013562',\n",
    "  'repeat domain': 'ungrounded',\n",
    "  'replant disease': 'ungrounded',\n",
    "  'replication defective': 'ungrounded',\n",
    "  'repression domain': 'ungrounded',\n",
    "  'repressor domain': 'ungrounded',\n",
    "  'residual disease': 'ungrounded',\n",
    "  'resistant disease': 'ungrounded',\n",
    "  'respiration deficient': 'ungrounded',\n",
    "  'respiratory deficient': 'ungrounded',\n",
    "  'respiratory depression': 'EFO:0009842',\n",
    "  'respiratory disease': 'MESH:D012140',\n",
    "  'respiratory distress': 'ungrounded',\n",
    "  'restrictive dermopathy': 'ungrounded',\n",
    "  'restrictive diffusivity': 'ungrounded',\n",
    "  'resveratrol dimer': 'ungrounded',\n",
    "  'reticular dysgenesis': 'MESH:C538361',\n",
    "  'retinal degeneration': 'MESH:D012162',\n",
    "  'retinal detachment': 'MESH:D012163',\n",
    "  'retinal determination': 'ungrounded',\n",
    "  'retinal dystrophy': 'MESH:D058499',\n",
    "  'retinoid deficient': 'ungrounded',\n",
    "  'reward dependence': 'ungrounded',\n",
    "  'reward drive': 'ungrounded',\n",
    "  'rhabdomyosarcoma': 'MESH:D012208',\n",
    "  'rhabdomyosarcoma cell': 'ungrounded',\n",
    "  'rhabdomyosarcoma cell line': 'ungrounded',\n",
    "  'rheumatic disease': 'ungrounded',\n",
    "  'rhizoma drynariae': 'ungrounded',\n",
    "  'rhododendrol': 'MESH:C115945',\n",
    "  'riboflavin deficient': 'ungrounded',\n",
    "  'riccardin d': 'MESH:C547185',\n",
    "  'rice duck farming': 'ungrounded',\n",
    "  'risk difference': 'ungrounded',\n",
    "  'root diameter': 'ungrounded',\n",
    "  'rosa damascena l': 'ungrounded',\n",
    "  'roughing disorder': 'ungrounded',\n",
    "  'runt domain': 'ungrounded'},\n",
    " {'MESH:D063505': 'Racism',\n",
    "  'radial_diffusivity': 'radial_diffusivity',\n",
    "  'CHEBI:CHEBI:556075': 'radicicol',\n",
    "  'MESH:D004410': 'Dyslexia',\n",
    "  'MESH:D004032': 'Diet',\n",
    "  'MESH:D012892': 'Sleep Deprivation',\n",
    "  'MESH:D051437': 'Renal Insufficiency',\n",
    "  'MESH:D013562': 'Sympathectomy',\n",
    "  'EFO:0009842': 'respiratory depression',\n",
    "  'MESH:D012140': 'Respiratory Tract Diseases',\n",
    "  'MESH:C538361': 'Reticular dysgenesis',\n",
    "  'MESH:D012162': 'Retinal Degeneration',\n",
    "  'MESH:D012163': 'Retinal Detachment',\n",
    "  'MESH:D058499': 'Retinal Dystrophies',\n",
    "  'MESH:D012208': 'Rhabdomyosarcoma',\n",
    "  'MESH:C115945': 'rhododendrol',\n",
    "  'MESH:C547185': 'riccardin D'},\n",
    " ['CHEBI:CHEBI:556075',\n",
    "  'MESH:D012162',\n",
    "  'MESH:D012163',\n",
    "  'MESH:D012208',\n",
    "  'MESH:D051437']]"
   ]
  },
  {
   "cell_type": "code",
   "execution_count": 7,
   "metadata": {},
   "outputs": [],
   "source": [
    "excluded_longforms = []"
   ]
  },
  {
   "cell_type": "code",
   "execution_count": 8,
   "metadata": {},
   "outputs": [],
   "source": [
    "grounding_dict = {shortform: {longform: grounding_map[longform] \n",
    "                              for longform, _, _ in longforms if longform in grounding_map\n",
    "                              and longform not in excluded_longforms}\n",
    "                  for shortform, longforms in longform_dict.items()}\n",
    "result = [grounding_dict, names, pos_labels]\n",
    "\n",
    "if not os.path.exists(results_path):\n",
    "    os.mkdir(results_path)\n",
    "with open(os.path.join(results_path, f'{model_name}_preliminary_grounding_info.json'), 'w') as f:\n",
    "    json.dump(result, f)"
   ]
  },
  {
   "cell_type": "code",
   "execution_count": 9,
   "metadata": {},
   "outputs": [],
   "source": [
    "additional_entities = {'HGNC:13974': ['NELFE', ['RD', 'RDBD', 'RDB']]}"
   ]
  },
  {
   "cell_type": "code",
   "execution_count": 10,
   "metadata": {},
   "outputs": [],
   "source": [
    "unambiguous_agent_texts = {}"
   ]
  },
  {
   "cell_type": "code",
   "execution_count": 11,
   "metadata": {},
   "outputs": [],
   "source": [
    "labeler = AdeftLabeler(grounding_dict)\n",
    "corpus = labeler.build_from_texts((text, pmid) for pmid, text in all_texts.items())\n",
    "agent_text_pmid_map = defaultdict(list)\n",
    "for text, label, id_ in corpus:\n",
    "    agent_text_pmid_map[label].append(id_)\n",
    "\n",
    "entity_pmid_map = {entity: set(get_pmids_for_entity(*entity.split(':', maxsplit=1),\n",
    "                                                major_topic=True))for entity in additional_entities}"
   ]
  },
  {
   "cell_type": "code",
   "execution_count": 12,
   "metadata": {},
   "outputs": [],
   "source": [
    "intersection1 = []\n",
    "for entity1, pmids1 in entity_pmid_map.items():\n",
    "    for entity2, pmids2 in entity_pmid_map.items():\n",
    "        intersection1.append((entity1, entity2, len(pmids1 & pmids2)))"
   ]
  },
  {
   "cell_type": "code",
   "execution_count": 13,
   "metadata": {},
   "outputs": [],
   "source": [
    "intersection2 = []\n",
    "for entity1, pmids1 in agent_text_pmid_map.items():\n",
    "    for entity2, pmids2 in entity_pmid_map.items():\n",
    "        intersection2.append((entity1, entity2, len(set(pmids1) & pmids2)))"
   ]
  },
  {
   "cell_type": "code",
   "execution_count": 14,
   "metadata": {},
   "outputs": [
    {
     "data": {
      "text/plain": [
       "[('HGNC:13974', 'HGNC:13974', 74)]"
      ]
     },
     "execution_count": 14,
     "metadata": {},
     "output_type": "execute_result"
    }
   ],
   "source": [
    "intersection1"
   ]
  },
  {
   "cell_type": "code",
   "execution_count": 15,
   "metadata": {},
   "outputs": [
    {
     "data": {
      "text/plain": [
       "[('ungrounded', 'HGNC:13974', 0),\n",
       " ('MESH:D004410', 'HGNC:13974', 0),\n",
       " ('MESH:D051437', 'HGNC:13974', 0),\n",
       " ('MESH:D012208', 'HGNC:13974', 0),\n",
       " ('MESH:D012163', 'HGNC:13974', 0),\n",
       " ('CHEBI:CHEBI:556075', 'HGNC:13974', 0),\n",
       " ('MESH:D012162', 'HGNC:13974', 0),\n",
       " ('radial_diffusivity', 'HGNC:13974', 0),\n",
       " ('MESH:D012140', 'HGNC:13974', 0),\n",
       " ('MESH:D058499', 'HGNC:13974', 0),\n",
       " ('MESH:C538361', 'HGNC:13974', 0),\n",
       " ('MESH:D013562', 'HGNC:13974', 0),\n",
       " ('MESH:C547185', 'HGNC:13974', 0),\n",
       " ('MESH:D012892', 'HGNC:13974', 0),\n",
       " ('EFO:0009842', 'HGNC:13974', 0),\n",
       " ('MESH:C115945', 'HGNC:13974', 0),\n",
       " ('MESH:D004032', 'HGNC:13974', 0),\n",
       " ('MESH:D063505', 'HGNC:13974', 0)]"
      ]
     },
     "execution_count": 15,
     "metadata": {},
     "output_type": "execute_result"
    }
   ],
   "source": [
    "intersection2"
   ]
  },
  {
   "cell_type": "code",
   "execution_count": 16,
   "metadata": {},
   "outputs": [],
   "source": [
    "all_used_pmids = set()\n",
    "for entity, agent_texts in unambiguous_agent_texts.items():\n",
    "    used_pmids = set()\n",
    "    for agent_text in agent_texts[1]:\n",
    "        pmids = set(get_pmids_for_agent_text(agent_text))\n",
    "        new_pmids = list(pmids - all_texts.keys() - used_pmids)\n",
    "        text_dict = get_plaintexts_for_pmids(new_pmids, contains=agent_texts)\n",
    "        corpus.extend([(text, entity, pmid) for pmid, text in text_dict.items() if len(text) >= 5])\n",
    "        used_pmids.update(new_pmids)\n",
    "    all_used_pmids.update(used_pmids)\n",
    "        \n",
    "for entity, pmids in entity_pmid_map.items():\n",
    "    new_pmids = list(set(pmids) - all_texts.keys() - all_used_pmids)\n",
    "    if len(new_pmids) > 10000:\n",
    "        new_pmids = random.choices(new_pmids, k=10000)\n",
    "    _, contains = additional_entities[entity]\n",
    "    text_dict = get_plaintexts_for_pmids(new_pmids, contains=contains)\n",
    "    corpus.extend([(text, entity, pmid) for pmid, text in text_dict.items() if len(text) >= 5])"
   ]
  },
  {
   "cell_type": "code",
   "execution_count": 17,
   "metadata": {},
   "outputs": [],
   "source": [
    "names.update({key: value[0] for key, value in additional_entities.items()})\n",
    "names.update({key: value[0] for key, value in unambiguous_agent_texts.items()})\n",
    "pos_labels = list(set(pos_labels) | additional_entities.keys() |\n",
    "                  unambiguous_agent_texts.keys())"
   ]
  },
  {
   "cell_type": "code",
   "execution_count": 18,
   "metadata": {},
   "outputs": [
    {
     "name": "stderr",
     "output_type": "stream",
     "text": [
      "INFO: [2020-10-29 02:18:14] /adeft/PP/adeft/adeft/modeling/classify.py - Beginning grid search in parameter space:\n",
      "{'C': [100.0], 'max_features': [10000]}\n",
      "INFO: [2020-10-29 02:18:40] /adeft/PP/adeft/adeft/modeling/classify.py - Best f1 score of 0.8168638711735381 found for parameter values:\n",
      "{'logit__C': 100.0, 'tfidf__max_features': 10000}\n"
     ]
    }
   ],
   "source": [
    "%%capture\n",
    "\n",
    "classifier = AdeftClassifier(shortforms, pos_labels=pos_labels, random_state=1729)\n",
    "param_grid = {'C': [100.0], 'max_features': [10000]}\n",
    "texts, labels, pmids = zip(*corpus)\n",
    "classifier.cv(texts, labels, param_grid, cv=5, n_jobs=5)"
   ]
  },
  {
   "cell_type": "code",
   "execution_count": 19,
   "metadata": {
    "scrolled": true
   },
   "outputs": [
    {
     "data": {
      "text/plain": [
       "{'label_distribution': {'ungrounded': 399,\n",
       "  'MESH:D004410': 41,\n",
       "  'MESH:D051437': 24,\n",
       "  'MESH:D012208': 75,\n",
       "  'MESH:D012163': 87,\n",
       "  'CHEBI:CHEBI:556075': 7,\n",
       "  'MESH:D012162': 29,\n",
       "  'radial_diffusivity': 138,\n",
       "  'MESH:D012140': 7,\n",
       "  'MESH:D058499': 3,\n",
       "  'MESH:C538361': 2,\n",
       "  'MESH:D013562': 5,\n",
       "  'MESH:C547185': 3,\n",
       "  'MESH:D012892': 1,\n",
       "  'EFO:0009842': 5,\n",
       "  'MESH:C115945': 5,\n",
       "  'MESH:D004032': 1,\n",
       "  'MESH:D063505': 2,\n",
       "  'HGNC:13974': 10},\n",
       " 'f1': {'mean': 0.816864, 'std': 0.08313},\n",
       " 'precision': {'mean': 0.870062, 'std': 0.07813},\n",
       " 'recall': {'mean': 0.789177, 'std': 0.10313},\n",
       " 'ungrounded': {'f1': {'mean': 0.865408, 'std': 0.017948},\n",
       "  'pr': {'mean': 0.909652, 'std': 0.03156},\n",
       "  'rc': {'mean': 0.826733, 'std': 0.032352}},\n",
       " 'MESH:D013562': {'f1': {'mean': 0.4, 'std': 0.489898},\n",
       "  'pr': {'mean': 0.4, 'std': 0.489898},\n",
       "  'rc': {'mean': 0.4, 'std': 0.489898}},\n",
       " 'MESH:D058499': {'f1': {'mean': 0.0, 'std': 0.0},\n",
       "  'pr': {'mean': 0.0, 'std': 0.0},\n",
       "  'rc': {'mean': 0.0, 'std': 0.0}},\n",
       " 'MESH:D004410': {'f1': {'mean': 0.895163, 'std': 0.081824},\n",
       "  'pr': {'mean': 0.905556, 'std': 0.084893},\n",
       "  'rc': {'mean': 0.892778, 'std': 0.109989}},\n",
       " 'MESH:C547185': {'f1': {'mean': 0.0, 'std': 0.0},\n",
       "  'pr': {'mean': 0.0, 'std': 0.0},\n",
       "  'rc': {'mean': 0.0, 'std': 0.0}},\n",
       " 'HGNC:13974': {'f1': {'mean': 0.6, 'std': 0.326599},\n",
       "  'pr': {'mean': 0.5, 'std': 0.316228},\n",
       "  'rc': {'mean': 0.8, 'std': 0.4}},\n",
       " 'MESH:D063505': {'f1': {'mean': 0.0, 'std': 0.0},\n",
       "  'pr': {'mean': 0.0, 'std': 0.0},\n",
       "  'rc': {'mean': 0.0, 'std': 0.0}},\n",
       " 'radial_diffusivity': {'f1': {'mean': 0.901387, 'std': 0.023245},\n",
       "  'pr': {'mean': 0.927249, 'std': 0.04083},\n",
       "  'rc': {'mean': 0.879956, 'std': 0.046088}},\n",
       " 'MESH:D051437': {'f1': {'mean': 0.803175, 'std': 0.158603},\n",
       "  'pr': {'mean': 0.7, 'std': 0.219089},\n",
       "  'rc': {'mean': 1.0, 'std': 0.0}},\n",
       " 'MESH:C538361': {'f1': {'mean': 0.2, 'std': 0.4},\n",
       "  'pr': {'mean': 0.2, 'std': 0.4},\n",
       "  'rc': {'mean': 0.2, 'std': 0.4}},\n",
       " 'MESH:C115945': {'f1': {'mean': 0.6, 'std': 0.489898},\n",
       "  'pr': {'mean': 0.6, 'std': 0.489898},\n",
       "  'rc': {'mean': 0.6, 'std': 0.489898}},\n",
       " 'MESH:D004032': {'f1': {'mean': 0.0, 'std': 0.0},\n",
       "  'pr': {'mean': 0.0, 'std': 0.0},\n",
       "  'rc': {'mean': 0.0, 'std': 0.0}},\n",
       " 'MESH:D012162': {'f1': {'mean': 0.628485, 'std': 0.330431},\n",
       "  'pr': {'mean': 0.593333, 'std': 0.322077},\n",
       "  'rc': {'mean': 0.676667, 'std': 0.348584}},\n",
       " 'MESH:D012163': {'f1': {'mean': 0.947452, 'std': 0.036944},\n",
       "  'pr': {'mean': 0.930719, 'std': 0.042679},\n",
       "  'rc': {'mean': 0.966013, 'std': 0.044789}},\n",
       " 'MESH:D012208': {'f1': {'mean': 0.775855, 'std': 0.091253},\n",
       "  'pr': {'mean': 0.773333, 'std': 0.171788},\n",
       "  'rc': {'mean': 0.803018, 'std': 0.074655}},\n",
       " 'MESH:D012140': {'f1': {'mean': 0.2, 'std': 0.4},\n",
       "  'pr': {'mean': 0.2, 'std': 0.4},\n",
       "  'rc': {'mean': 0.2, 'std': 0.4}},\n",
       " 'CHEBI:CHEBI:556075': {'f1': {'mean': 0.733333, 'std': 0.38873},\n",
       "  'pr': {'mean': 0.7, 'std': 0.4},\n",
       "  'rc': {'mean': 0.8, 'std': 0.4}},\n",
       " 'MESH:D012892': {'f1': {'mean': 0.0, 'std': 0.0},\n",
       "  'pr': {'mean': 0.0, 'std': 0.0},\n",
       "  'rc': {'mean': 0.0, 'std': 0.0}},\n",
       " 'EFO:0009842': {'f1': {'mean': 0.8, 'std': 0.4},\n",
       "  'pr': {'mean': 0.8, 'std': 0.4},\n",
       "  'rc': {'mean': 0.8, 'std': 0.4}}}"
      ]
     },
     "execution_count": 19,
     "metadata": {},
     "output_type": "execute_result"
    }
   ],
   "source": [
    "classifier.stats"
   ]
  },
  {
   "cell_type": "code",
   "execution_count": 20,
   "metadata": {},
   "outputs": [],
   "source": [
    "disamb = AdeftDisambiguator(classifier, grounding_dict, names)"
   ]
  },
  {
   "cell_type": "code",
   "execution_count": 21,
   "metadata": {},
   "outputs": [],
   "source": [
    "disamb.dump(model_name, results_path)"
   ]
  },
  {
   "cell_type": "code",
   "execution_count": 22,
   "metadata": {},
   "outputs": [
    {
     "name": "stdout",
     "output_type": "stream",
     "text": [
      "Disambiguation model for RD\n",
      "\n",
      "Produces the disambiguations:\n",
      "\tDiet\tMESH:D004032\n",
      "\tDyslexia\tMESH:D004410\n",
      "\tNELFE*\tHGNC:13974\n",
      "\tRacism\tMESH:D063505\n",
      "\tRenal Insufficiency*\tMESH:D051437\n",
      "\tRespiratory Tract Diseases\tMESH:D012140\n",
      "\tReticular dysgenesis\tMESH:C538361\n",
      "\tRetinal Degeneration*\tMESH:D012162\n",
      "\tRetinal Detachment*\tMESH:D012163\n",
      "\tRetinal Dystrophies\tMESH:D058499\n",
      "\tRhabdomyosarcoma*\tMESH:D012208\n",
      "\tSleep Deprivation\tMESH:D012892\n",
      "\tSympathectomy\tMESH:D013562\n",
      "\tradial_diffusivity\tradial_diffusivity\n",
      "\tradicicol*\tCHEBI:CHEBI:556075\n",
      "\trespiratory depression\tEFO:0009842\n",
      "\trhododendrol\tMESH:C115945\n",
      "\triccardin D\tMESH:C547185\n",
      "\n",
      "Class level metrics:\n",
      "--------------------\n",
      "Grounding                 \tCount\tF1     \n",
      "                Ungrounded\t399\t0.86541\n",
      "        radial_diffusivity\t138\t0.90139\n",
      "        Retinal Detachment*\t 87\t0.94745\n",
      "          Rhabdomyosarcoma*\t 75\t0.77586\n",
      "                  Dyslexia\t 41\t0.89516\n",
      "      Retinal Degeneration*\t 29\t0.62848\n",
      "       Renal Insufficiency*\t 24\t0.80318\n",
      "                     NELFE*\t 10\t    0.6\n",
      "                 radicicol*\t  7\t0.73333\n",
      "Respiratory Tract Diseases\t  7\t    0.2\n",
      "             Sympathectomy\t  5\t    0.4\n",
      "    respiratory depression\t  5\t    0.8\n",
      "              rhododendrol\t  5\t    0.6\n",
      "       Retinal Dystrophies\t  3\t    0.0\n",
      "               riccardin D\t  3\t    0.0\n",
      "      Reticular dysgenesis\t  2\t    0.2\n",
      "                    Racism\t  2\t    0.0\n",
      "         Sleep Deprivation\t  1\t    0.0\n",
      "                      Diet\t  1\t    0.0\n",
      "\n",
      "Weighted Metrics:\n",
      "-----------------\n",
      "\tF1 score:\t0.81686\n",
      "\tPrecision:\t0.87006\n",
      "\tRecall:\t\t0.78918\n",
      "\n",
      "* Positive labels\n",
      "See Docstring for explanation\n",
      "\n"
     ]
    }
   ],
   "source": [
    "print(disamb.info())"
   ]
  },
  {
   "cell_type": "code",
   "execution_count": 23,
   "metadata": {},
   "outputs": [],
   "source": [
    "model_to_s3(disamb)"
   ]
  },
  {
   "cell_type": "code",
   "execution_count": null,
   "metadata": {},
   "outputs": [],
   "source": []
  }
 ],
 "metadata": {
  "kernelspec": {
   "display_name": "Python 3",
   "language": "python",
   "name": "python3"
  },
  "language_info": {
   "codemirror_mode": {
    "name": "ipython",
    "version": 3
   },
   "file_extension": ".py",
   "mimetype": "text/x-python",
   "name": "python",
   "nbconvert_exporter": "python",
   "pygments_lexer": "ipython3",
   "version": "3.8.4"
  }
 },
 "nbformat": 4,
 "nbformat_minor": 2
}
