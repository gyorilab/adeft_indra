{
 "cells": [
  {
   "cell_type": "code",
   "execution_count": 1,
   "metadata": {},
   "outputs": [],
   "source": [
    "import os\n",
    "import json\n",
    "import pickle\n",
    "import random\n",
    "from collections import defaultdict, Counter\n",
    "\n",
    "from indra.literature.adeft_tools import universal_extract_text\n",
    "from indra.databases.hgnc_client import get_hgnc_name, get_hgnc_id\n",
    "\n",
    "from adeft.discover import AdeftMiner\n",
    "from adeft.gui import ground_with_gui\n",
    "from adeft.modeling.label import AdeftLabeler\n",
    "from adeft.modeling.classify import AdeftClassifier\n",
    "from adeft.disambiguate import AdeftDisambiguator\n",
    "\n",
    "\n",
    "from adeft_indra.ground.ground import AdeftGrounder\n",
    "from adeft_indra.model_building.s3 import model_to_s3\n",
    "from adeft_indra.model_building.escape import escape_filename\n",
    "from adeft_indra.db.content import get_pmids_for_agent_text, get_pmids_for_entity, \\\n",
    "    get_plaintexts_for_pmids"
   ]
  },
  {
   "cell_type": "code",
   "execution_count": 2,
   "metadata": {},
   "outputs": [],
   "source": [
    "adeft_grounder = AdeftGrounder()"
   ]
  },
  {
   "cell_type": "code",
   "execution_count": 3,
   "metadata": {},
   "outputs": [],
   "source": [
    "shortforms = ['SN']\n",
    "model_name = ':'.join(sorted(escape_filename(shortform) for shortform in shortforms))\n",
    "results_path = os.path.abspath(os.path.join('../..', 'results', model_name))"
   ]
  },
  {
   "cell_type": "code",
   "execution_count": 4,
   "metadata": {},
   "outputs": [],
   "source": [
    "miners = dict()\n",
    "all_texts = {}\n",
    "for shortform in shortforms:\n",
    "    pmids = get_pmids_for_agent_text(shortform)\n",
    "    if len(pmids) > 10000:\n",
    "        pmids = random.choices(pmids, k=10000)\n",
    "    text_dict = get_plaintexts_for_pmids(pmids, contains=shortforms)\n",
    "    text_dict = {pmid: text for pmid, text in text_dict.items() if len(text) > 5}\n",
    "    miners[shortform] = AdeftMiner(shortform)\n",
    "    miners[shortform].process_texts(text_dict.values())\n",
    "    all_texts.update(text_dict)\n",
    "\n",
    "longform_dict = {}\n",
    "for shortform in shortforms:\n",
    "    longforms = miners[shortform].get_longforms()\n",
    "    longforms = [(longform, count, score) for longform, count, score in longforms\n",
    "                 if count*score > 2]\n",
    "    longform_dict[shortform] = longforms\n",
    "    \n",
    "combined_longforms = Counter()\n",
    "for longform_rows in longform_dict.values():\n",
    "    combined_longforms.update({longform: count for longform, count, score\n",
    "                               in longform_rows})\n",
    "grounding_map = {}\n",
    "names = {}\n",
    "for longform in combined_longforms:\n",
    "    groundings = adeft_grounder.ground(longform)\n",
    "    if groundings:\n",
    "        grounding = groundings[0]['grounding']\n",
    "        grounding_map[longform] = grounding\n",
    "        names[grounding] = groundings[0]['name']\n",
    "longforms, counts = zip(*combined_longforms.most_common())\n",
    "pos_labels = []"
   ]
  },
  {
   "cell_type": "code",
   "execution_count": 5,
   "metadata": {},
   "outputs": [
    {
     "data": {
      "text/plain": [
       "[('substantia nigra', 822),\n",
       " ('salience network', 181),\n",
       " ('supernatant', 111),\n",
       " ('secretoneurin', 36),\n",
       " ('substantia nigra pars compacta', 29),\n",
       " ('sentinel node', 26),\n",
       " ('sciatic nerve', 23),\n",
       " ('streptonigrin', 20),\n",
       " ('salience', 17),\n",
       " ('sensory neurons', 15),\n",
       " ('sinomenine', 12),\n",
       " ('sinus node', 12),\n",
       " ('serum neutralizing', 11),\n",
       " ('sensitivity', 10),\n",
       " ('silver nanoparticles', 9),\n",
       " ('spontaneous nystagmus', 9),\n",
       " ('sodium nitrite', 9),\n",
       " ('selective negativity', 8),\n",
       " ('single nucleotide', 8),\n",
       " ('superficial neuromasts', 8),\n",
       " ('staphylococcal nuclease', 8),\n",
       " ('silver nitrate', 7),\n",
       " ('sodium nitroprusside', 6),\n",
       " ('saddle node', 6),\n",
       " ('succinonitrile', 6),\n",
       " ('single layer nanoemulsion', 6),\n",
       " ('social network', 5),\n",
       " ('splanchnic nerve', 5),\n",
       " ('spinal nerve', 5),\n",
       " ('sensory nerve', 5),\n",
       " ('sentinel lymph node', 5),\n",
       " ('solanum nigrum', 4),\n",
       " ('sufficient nitrogen', 4),\n",
       " ('substantial nigra', 4),\n",
       " ('sympathetic nerve', 4),\n",
       " ('staphylococcus aureus nuclease', 4),\n",
       " ('seed number per pod', 4),\n",
       " ('non polar stem extracts', 4),\n",
       " ('self namely', 3),\n",
       " ('sensory neuropathy', 3),\n",
       " ('sodium nucleinate', 3),\n",
       " ('spirogyra neglecta', 3),\n",
       " ('sqstm1 nup214', 3),\n",
       " ('standard nest', 3),\n",
       " ('spikelet number', 3),\n",
       " ('substantia nigral', 3),\n",
       " ('subsequent neoplasms', 3),\n",
       " ('sudomotor nerve', 3)]"
      ]
     },
     "execution_count": 5,
     "metadata": {},
     "output_type": "execute_result"
    }
   ],
   "source": [
    "list(zip(longforms, counts))"
   ]
  },
  {
   "cell_type": "code",
   "execution_count": 6,
   "metadata": {},
   "outputs": [
    {
     "name": "stderr",
     "output_type": "stream",
     "text": [
      "INFO: [2020-10-23 03:29:01] indra.ontology.bio.ontology - Initializing INDRA bio ontology for the first time, this may take a few minutes...\n",
      "INFO: [2020-10-23 03:29:01] indra.ontology.bio.ontology - Adding nodes...\n",
      "INFO: [2020-10-23 03:29:52] indra.ontology.bio.ontology - Adding xrefs...\n",
      "WARNING: [2020-10-23 03:29:53] indra.ontology.bio.ontology - Invalid node: UP:\n",
      "INFO: [2020-10-23 03:30:07] indra.ontology.bio.ontology - Adding hierarchy...\n",
      "INFO: [2020-10-23 03:30:34] indra.ontology.bio.ontology - Building name lookup...\n",
      "INFO: [2020-10-23 03:30:39] indra.ontology.bio.ontology - Finished initializing bio ontology...\n",
      "INFO: [2020-10-23 03:30:39] indra.ontology.bio.ontology - Caching INDRA bio ontology at /home/ubuntu/.indra/bio_ontology/1.4/bio_ontology.pkl\n"
     ]
    },
    {
     "ename": "KeyboardInterrupt",
     "evalue": "",
     "output_type": "error",
     "traceback": [
      "\u001b[0;31m---------------------------------------------------------------------------\u001b[0m",
      "\u001b[0;31mKeyboardInterrupt\u001b[0m                         Traceback (most recent call last)",
      "\u001b[0;32m<ipython-input-6-0cef85b912e8>\u001b[0m in \u001b[0;36m<module>\u001b[0;34m\u001b[0m\n\u001b[0;32m----> 1\u001b[0;31m grounding_map, names, pos_labels = ground_with_gui(longforms, counts, \n\u001b[0m\u001b[1;32m      2\u001b[0m                                                    \u001b[0mgrounding_map\u001b[0m\u001b[0;34m=\u001b[0m\u001b[0mgrounding_map\u001b[0m\u001b[0;34m,\u001b[0m\u001b[0;34m\u001b[0m\u001b[0;34m\u001b[0m\u001b[0m\n\u001b[1;32m      3\u001b[0m                                                    names=names, pos_labels=pos_labels, no_browser=True, port=8890)\n",
      "\u001b[0;32m/adeft/PythonRepos/adeft/adeft/gui/__init__.py\u001b[0m in \u001b[0;36mground_with_gui\u001b[0;34m(longforms, scores, grounding_map, names, pos_labels, verbose, port, no_browser, test)\u001b[0m\n\u001b[1;32m    107\u001b[0m     \u001b[0;31m# Poll until user submits groundings. Checks if output file exists\u001b[0m\u001b[0;34m\u001b[0m\u001b[0;34m\u001b[0m\u001b[0;34m\u001b[0m\u001b[0m\n\u001b[1;32m    108\u001b[0m     \u001b[0;32mwhile\u001b[0m \u001b[0;32mnot\u001b[0m \u001b[0mos\u001b[0m\u001b[0;34m.\u001b[0m\u001b[0mpath\u001b[0m\u001b[0;34m.\u001b[0m\u001b[0mexists\u001b[0m\u001b[0;34m(\u001b[0m\u001b[0mos\u001b[0m\u001b[0;34m.\u001b[0m\u001b[0mpath\u001b[0m\u001b[0;34m.\u001b[0m\u001b[0mjoin\u001b[0m\u001b[0;34m(\u001b[0m\u001b[0moutpath\u001b[0m\u001b[0;34m,\u001b[0m \u001b[0;34m'output.json'\u001b[0m\u001b[0;34m)\u001b[0m\u001b[0;34m)\u001b[0m\u001b[0;34m:\u001b[0m\u001b[0;34m\u001b[0m\u001b[0;34m\u001b[0m\u001b[0m\n\u001b[0;32m--> 109\u001b[0;31m         \u001b[0mtime\u001b[0m\u001b[0;34m.\u001b[0m\u001b[0msleep\u001b[0m\u001b[0;34m(\u001b[0m\u001b[0;36m1\u001b[0m\u001b[0;34m)\u001b[0m\u001b[0;34m\u001b[0m\u001b[0;34m\u001b[0m\u001b[0m\n\u001b[0m\u001b[1;32m    110\u001b[0m     \u001b[0;31m# Stop server\u001b[0m\u001b[0;34m\u001b[0m\u001b[0;34m\u001b[0m\u001b[0;34m\u001b[0m\u001b[0m\n\u001b[1;32m    111\u001b[0m     \u001b[0mflask_server\u001b[0m\u001b[0;34m.\u001b[0m\u001b[0mterminate\u001b[0m\u001b[0;34m(\u001b[0m\u001b[0;34m)\u001b[0m\u001b[0;34m\u001b[0m\u001b[0;34m\u001b[0m\u001b[0m\n",
      "\u001b[0;31mKeyboardInterrupt\u001b[0m: "
     ]
    }
   ],
   "source": [
    "grounding_map, names, pos_labels = ground_with_gui(longforms, counts, \n",
    "                                                   grounding_map=grounding_map,\n",
    "                                                   names=names, pos_labels=pos_labels, no_browser=True, port=8890)"
   ]
  },
  {
   "cell_type": "code",
   "execution_count": null,
   "metadata": {},
   "outputs": [],
   "source": [
    "result = [grounding_map, names, pos_labels]"
   ]
  },
  {
   "cell_type": "code",
   "execution_count": null,
   "metadata": {},
   "outputs": [],
   "source": [
    "result"
   ]
  },
  {
   "cell_type": "code",
   "execution_count": 7,
   "metadata": {},
   "outputs": [],
   "source": [
    "grounding_map, names, pos_labels = [{'non polar stem extracts': 'ungrounded',\n",
    "  'saddle node': 'ungrounded',\n",
    "  'salience': 'salience_network',\n",
    "  'salience network': 'salience_network',\n",
    "  'sciatic nerve': 'MESH:D012584',\n",
    "  'secretoneurin': 'MESH:C081159',\n",
    "  'seed number per pod': 'ungrounded',\n",
    "  'selective negativity': 'ungrounded',\n",
    "  'self namely': 'ungrounded',\n",
    "  'sensitivity': 'ungrounded',\n",
    "  'sensory nerve': 'ungrounded',\n",
    "  'sensory neurons': 'MESH:D011984',\n",
    "  'sensory neuropathy': 'NCIT:C3501',\n",
    "  'sentinel lymph node': 'MESH:D000071036',\n",
    "  'sentinel node': 'MESH:D000071036',\n",
    "  'serum neutralizing': 'ungrounded',\n",
    "  'silver nanoparticles': 'CHEBI:CHEBI:50826',\n",
    "  'silver nitrate': 'CHEBI:CHEBI:32130',\n",
    "  'single layer nanoemulsion': 'ungrounded',\n",
    "  'single nucleotide': 'ungrounded',\n",
    "  'sinomenine': 'CHEBI:CHEBI:9163',\n",
    "  'sinus node': 'MESH:D012849',\n",
    "  'social network': 'ungrounded',\n",
    "  'sodium nitrite': 'CHEBI:CHEBI:78870',\n",
    "  'sodium nitroprusside': 'CHEBI:CHEBI:29321',\n",
    "  'sodium nucleinate': 'MESH:C013683',\n",
    "  'solanum nigrum': 'MESH:D032324',\n",
    "  'spikelet number': 'ungrounded',\n",
    "  'spinal nerve': 'MESH:D013127',\n",
    "  'spirogyra neglecta': 'ungrounded',\n",
    "  'splanchnic nerve': 'MESH:D013153',\n",
    "  'spontaneous nystagmus': 'MESH:D009759',\n",
    "  'sqstm1 nup214': 'HGNC:8064',\n",
    "  'standard nest': 'ungrounded',\n",
    "  'staphylococcal nuclease': 'MESH:D008836',\n",
    "  'staphylococcus aureus nuclease': 'MESH:D008836',\n",
    "  'streptonigrin': 'CHEBI:CHEBI:9287',\n",
    "  'subsequent neoplasms': 'MESH:D009369',\n",
    "  'substantia nigra': 'MESH:D013378',\n",
    "  'substantia nigra pars compacta': 'MESH:D013378',\n",
    "  'substantia nigral': 'MESH:D013378',\n",
    "  'substantial nigra': 'MESH:D013378',\n",
    "  'succinonitrile': 'MESH:C010337',\n",
    "  'sudomotor nerve': 'ungrounded',\n",
    "  'sufficient nitrogen': 'CHEBI:CHEBI:17997',\n",
    "  'superficial neuromasts': 'ungrounded',\n",
    "  'supernatant': 'supernatant',\n",
    "  'sympathetic nerve': 'ungrounded'},\n",
    " {'salience_network': 'salience_network',\n",
    "  'MESH:D012584': 'Sciatic Nerve',\n",
    "  'MESH:C081159': 'secretoneurin',\n",
    "  'MESH:D011984': 'Sensory Receptor Cells',\n",
    "  'NCIT:C3501': 'Peripheral Sensory Neuropathy',\n",
    "  'MESH:D000071036': 'Sentinel Lymph Node',\n",
    "  'CHEBI:CHEBI:50826': 'silver nanoparticle',\n",
    "  'CHEBI:CHEBI:32130': 'silver(1+) nitrate',\n",
    "  'CHEBI:CHEBI:9163': 'Sinomenine',\n",
    "  'MESH:D012849': 'Sinoatrial Node',\n",
    "  'CHEBI:CHEBI:78870': 'sodium nitrite',\n",
    "  'CHEBI:CHEBI:29321': 'sodium nitroprusside',\n",
    "  'MESH:C013683': 'sodium nucleinate',\n",
    "  'MESH:D032324': 'Solanum nigrum',\n",
    "  'MESH:D013127': 'Spinal Nerves',\n",
    "  'MESH:D013153': 'Splanchnic Nerves',\n",
    "  'MESH:D009759': 'Nystagmus, Pathologic',\n",
    "  'HGNC:8064': 'NUP214',\n",
    "  'MESH:D008836': 'Staphylococcal nuclease',\n",
    "  'CHEBI:CHEBI:9287': 'streptonigrin',\n",
    "  'MESH:D009369': 'Neoplasms',\n",
    "  'MESH:D013378': 'Substantia Nigra',\n",
    "  'MESH:C010337': 'succinonitrile',\n",
    "  'CHEBI:CHEBI:17997': 'dinitrogen',\n",
    "  'supernatant': 'supernatant'},\n",
    "['CHEBI:CHEBI:9287',\n",
    "  'MESH:C081159',\n",
    "  'MESH:D009759',\n",
    "  'MESH:D011984',\n",
    "  'MESH:D012849',\n",
    "  'MESH:D013378',\n",
    "  'MESH:D000071036']]"
   ]
  },
  {
   "cell_type": "code",
   "execution_count": 8,
   "metadata": {},
   "outputs": [],
   "source": [
    "excluded_longforms = []"
   ]
  },
  {
   "cell_type": "code",
   "execution_count": 9,
   "metadata": {},
   "outputs": [],
   "source": [
    "grounding_dict = {shortform: {longform: grounding_map[longform] \n",
    "                              for longform, _, _ in longforms if longform in grounding_map\n",
    "                              and longform not in excluded_longforms}\n",
    "                  for shortform, longforms in longform_dict.items()}\n",
    "result = [grounding_dict, names, pos_labels]\n",
    "\n",
    "if not os.path.exists(results_path):\n",
    "    os.mkdir(results_path)\n",
    "with open(os.path.join(results_path, f'{model_name}_preliminary_grounding_info.json'), 'w') as f:\n",
    "    json.dump(result, f)"
   ]
  },
  {
   "cell_type": "code",
   "execution_count": 11,
   "metadata": {},
   "outputs": [],
   "source": [
    "additional_entities = {}"
   ]
  },
  {
   "cell_type": "code",
   "execution_count": 12,
   "metadata": {},
   "outputs": [],
   "source": [
    "unambiguous_agent_texts = {}"
   ]
  },
  {
   "cell_type": "code",
   "execution_count": 13,
   "metadata": {},
   "outputs": [],
   "source": [
    "labeler = AdeftLabeler(grounding_dict)\n",
    "corpus = labeler.build_from_texts((text, pmid) for pmid, text in all_texts.items())\n",
    "agent_text_pmid_map = defaultdict(list)\n",
    "for text, label, id_ in corpus:\n",
    "    agent_text_pmid_map[label].append(id_)\n",
    "\n",
    "entity_pmid_map = {entity: set(get_pmids_for_entity(*entity.split(':', maxsplit=1),\n",
    "                                                major_topic=True))for entity in additional_entities}"
   ]
  },
  {
   "cell_type": "code",
   "execution_count": null,
   "metadata": {},
   "outputs": [],
   "source": [
    "intersection1 = []\n",
    "for entity1, pmids1 in entity_pmid_map.items():\n",
    "    for entity2, pmids2 in entity_pmid_map.items():\n",
    "        intersection1.append((entity1, entity2, len(pmids1 & pmids2)))"
   ]
  },
  {
   "cell_type": "code",
   "execution_count": null,
   "metadata": {},
   "outputs": [],
   "source": [
    "intersection2 = []\n",
    "for entity1, pmids1 in agent_text_pmid_map.items():\n",
    "    for entity2, pmids2 in entity_pmid_map.items():\n",
    "        intersection2.append((entity1, entity2, len(set(pmids1) & pmids2)))"
   ]
  },
  {
   "cell_type": "code",
   "execution_count": 17,
   "metadata": {},
   "outputs": [
    {
     "data": {
      "text/plain": [
       "[('HGNC:17981', 'HGNC:17981', 29)]"
      ]
     },
     "execution_count": 17,
     "metadata": {},
     "output_type": "execute_result"
    }
   ],
   "source": [
    "intersection1"
   ]
  },
  {
   "cell_type": "code",
   "execution_count": 18,
   "metadata": {},
   "outputs": [
    {
     "data": {
      "text/plain": [
       "[('ungrounded', 'HGNC:17981', 0)]"
      ]
     },
     "execution_count": 18,
     "metadata": {},
     "output_type": "execute_result"
    }
   ],
   "source": [
    "intersection2"
   ]
  },
  {
   "cell_type": "code",
   "execution_count": null,
   "metadata": {},
   "outputs": [],
   "source": []
  },
  {
   "cell_type": "code",
   "execution_count": 20,
   "metadata": {},
   "outputs": [],
   "source": [
    "all_used_pmids = set()\n",
    "for entity, agent_texts in unambiguous_agent_texts.items():\n",
    "    used_pmids = set()\n",
    "    for agent_text in agent_texts:\n",
    "        pmids = set(get_pmids_for_agent_text(agent_text))\n",
    "        new_pmids = list(pmids - all_texts.keys() - used_pmids)\n",
    "        text_dict = get_plaintexts_for_pmids(new_pmids, contains=agent_texts)\n",
    "        corpus.extend([(text, entity, pmid) for pmid, text in text_dict.items()])\n",
    "        used_pmids.update(new_pmids)\n",
    "    all_used_pmids.update(used_pmids)\n",
    "        \n",
    "for entity, pmids in entity_pmid_map.items():\n",
    "    new_pmids = list(set(pmids) - all_texts.keys() - all_used_pmids)\n",
    "    if len(new_pmids) > 10000:\n",
    "        new_pmids = random.choices(new_pmids, k=10000)\n",
    "    text_dict = get_plaintexts_for_pmids(new_pmids, contains=['RTCA', 'RTCD1', 'RPC', 'RTC1', 'RTC'])\n",
    "    corpus.extend([(text, entity, pmid) for pmid, text in text_dict.items()])"
   ]
  },
  {
   "cell_type": "code",
   "execution_count": null,
   "metadata": {},
   "outputs": [],
   "source": [
    "names.update(additional_entitie)"
   ]
  },
  {
   "cell_type": "code",
   "execution_count": 14,
   "metadata": {},
   "outputs": [
    {
     "name": "stderr",
     "output_type": "stream",
     "text": [
      "INFO: [2020-10-23 03:40:41] /adeft/PythonRepos/adeft/adeft/modeling/classify.py - Beginning grid search in parameter space:\n",
      "{'C': [100.0], 'max_features': [10000]}\n",
      "INFO: [2020-10-23 03:41:16] /adeft/PythonRepos/adeft/adeft/modeling/classify.py - Best f1 score of 0.9268078878976048 found for parameter values:\n",
      "{'logit__C': 100.0, 'tfidf__max_features': 10000}\n"
     ]
    }
   ],
   "source": [
    "%%capture\n",
    "\n",
    "classifier = AdeftClassifier(shortforms, pos_labels=pos_labels, random_state=1729)\n",
    "param_grid = {'C': [100.0], 'max_features': [10000]}\n",
    "texts, labels, pmids = zip(*corpus)\n",
    "classifier.cv(texts, labels, param_grid, cv=5, n_jobs=5)"
   ]
  },
  {
   "cell_type": "code",
   "execution_count": 17,
   "metadata": {
    "scrolled": true
   },
   "outputs": [
    {
     "data": {
      "text/plain": [
       "{'label_distribution': {'MESH:D013378': 599,\n",
       "  'CHEBI:CHEBI:78870': 7,\n",
       "  'CHEBI:CHEBI:29321': 5,\n",
       "  'supernatant': 71,\n",
       "  'CHEBI:CHEBI:9287': 14,\n",
       "  'MESH:D009759': 9,\n",
       "  'MESH:C013683': 2,\n",
       "  'MESH:D012849': 11,\n",
       "  'MESH:C081159': 29,\n",
       "  'ungrounded': 60,\n",
       "  'MESH:D012584': 18,\n",
       "  'MESH:D011984': 10,\n",
       "  'MESH:D000071036': 20,\n",
       "  'CHEBI:CHEBI:9163': 9,\n",
       "  'CHEBI:CHEBI:32130': 6,\n",
       "  'MESH:D013153': 4,\n",
       "  'IP:SSF50199': 9,\n",
       "  'NCIT:C3501': 2,\n",
       "  'CHEBI:CHEBI:50826': 5,\n",
       "  'MESH:D013127': 4,\n",
       "  'MESH:D032324': 3,\n",
       "  'salience_network': 102,\n",
       "  'MESH:C010337': 4,\n",
       "  'CHEBI:CHEBI:17997': 2,\n",
       "  'MESH:D009369': 2,\n",
       "  'HGNC:8064': 1},\n",
       " 'f1': {'mean': 0.926808, 'std': 0.011128},\n",
       " 'precision': {'mean': 0.903974, 'std': 0.01702},\n",
       " 'recall': {'mean': 0.960995, 'std': 0.013389},\n",
       " 'ungrounded': {'f1': {'mean': 0.769258, 'std': 0.078383},\n",
       "  'pr': {'mean': 0.7, 'std': 0.1},\n",
       "  'rc': {'mean': 0.870303, 'std': 0.115524}},\n",
       " 'CHEBI:CHEBI:9287': {'f1': {'mean': 0.644762, 'std': 0.173522},\n",
       "  'pr': {'mean': 0.566667, 'std': 0.249444},\n",
       "  'rc': {'mean': 0.85, 'std': 0.2}},\n",
       " 'MESH:D009759': {'f1': {'mean': 0.933333, 'std': 0.133333},\n",
       "  'pr': {'mean': 0.9, 'std': 0.2},\n",
       "  'rc': {'mean': 1.0, 'std': 0.0}},\n",
       " 'CHEBI:CHEBI:32130': {'f1': {'mean': 0.666667, 'std': 0.365148},\n",
       "  'pr': {'mean': 0.7, 'std': 0.4},\n",
       "  'rc': {'mean': 0.7, 'std': 0.4}},\n",
       " 'MESH:D013153': {'f1': {'mean': 0.8, 'std': 0.4},\n",
       "  'pr': {'mean': 0.8, 'std': 0.4},\n",
       "  'rc': {'mean': 0.8, 'std': 0.4}},\n",
       " 'CHEBI:CHEBI:9163': {'f1': {'mean': 0.266667, 'std': 0.326599},\n",
       "  'pr': {'mean': 0.2, 'std': 0.244949},\n",
       "  'rc': {'mean': 0.4, 'std': 0.489898}},\n",
       " 'NCIT:C3501': {'f1': {'mean': 0.0, 'std': 0.0},\n",
       "  'pr': {'mean': 0.0, 'std': 0.0},\n",
       "  'rc': {'mean': 0.0, 'std': 0.0}},\n",
       " 'MESH:D012849': {'f1': {'mean': 0.693333, 'std': 0.369023},\n",
       "  'pr': {'mean': 0.633333, 'std': 0.371184},\n",
       "  'rc': {'mean': 0.8, 'std': 0.4}},\n",
       " 'supernatant': {'f1': {'mean': 0.816563, 'std': 0.063355},\n",
       "  'pr': {'mean': 0.885714, 'std': 0.072843},\n",
       "  'rc': {'mean': 0.758758, 'std': 0.06345}},\n",
       " 'MESH:D032324': {'f1': {'mean': 0.4, 'std': 0.489898},\n",
       "  'pr': {'mean': 0.4, 'std': 0.489898},\n",
       "  'rc': {'mean': 0.4, 'std': 0.489898}},\n",
       " 'MESH:D013127': {'f1': {'mean': 0.8, 'std': 0.4},\n",
       "  'pr': {'mean': 0.8, 'std': 0.4},\n",
       "  'rc': {'mean': 0.8, 'std': 0.4}},\n",
       " 'HGNC:8064': {'f1': {'mean': 0.0, 'std': 0.0},\n",
       "  'pr': {'mean': 0.0, 'std': 0.0},\n",
       "  'rc': {'mean': 0.0, 'std': 0.0}},\n",
       " 'MESH:D000071036': {'f1': {'mean': 0.971429, 'std': 0.057143},\n",
       "  'pr': {'mean': 0.95, 'std': 0.1},\n",
       "  'rc': {'mean': 1.0, 'std': 0.0}},\n",
       " 'MESH:D012584': {'f1': {'mean': 0.544286, 'std': 0.116444},\n",
       "  'pr': {'mean': 0.433333, 'std': 0.177951},\n",
       "  'rc': {'mean': 0.883333, 'std': 0.145297}},\n",
       " 'CHEBI:CHEBI:78870': {'f1': {'mean': 0.0, 'std': 0.0},\n",
       "  'pr': {'mean': 0.0, 'std': 0.0},\n",
       "  'rc': {'mean': 0.0, 'std': 0.0}},\n",
       " 'MESH:C081159': {'f1': {'mean': 0.784444, 'std': 0.097778},\n",
       "  'pr': {'mean': 0.693333, 'std': 0.118134},\n",
       "  'rc': {'mean': 0.916667, 'std': 0.105409}},\n",
       " 'MESH:D013378': {'f1': {'mean': 0.946911, 'std': 0.005464},\n",
       "  'pr': {'mean': 0.996653, 'std': 0.0041},\n",
       "  'rc': {'mean': 0.902009, 'std': 0.011746}},\n",
       " 'salience_network': {'f1': {'mean': 0.980221, 'std': 0.018666},\n",
       "  'pr': {'mean': 0.970952, 'std': 0.038344},\n",
       "  'rc': {'mean': 0.990909, 'std': 0.018182}},\n",
       " 'MESH:D011984': {'f1': {'mean': 0.7, 'std': 0.163299},\n",
       "  'pr': {'mean': 0.6, 'std': 0.2},\n",
       "  'rc': {'mean': 0.9, 'std': 0.2}},\n",
       " 'MESH:C010337': {'f1': {'mean': 0.8, 'std': 0.4},\n",
       "  'pr': {'mean': 0.8, 'std': 0.4},\n",
       "  'rc': {'mean': 0.8, 'std': 0.4}},\n",
       " 'CHEBI:CHEBI:29321': {'f1': {'mean': 0.0, 'std': 0.0},\n",
       "  'pr': {'mean': 0.0, 'std': 0.0},\n",
       "  'rc': {'mean': 0.0, 'std': 0.0}},\n",
       " 'CHEBI:CHEBI:17997': {'f1': {'mean': 0.0, 'std': 0.0},\n",
       "  'pr': {'mean': 0.0, 'std': 0.0},\n",
       "  'rc': {'mean': 0.0, 'std': 0.0}},\n",
       " 'CHEBI:CHEBI:50826': {'f1': {'mean': 0.2, 'std': 0.4},\n",
       "  'pr': {'mean': 0.2, 'std': 0.4},\n",
       "  'rc': {'mean': 0.2, 'std': 0.4}},\n",
       " 'MESH:D009369': {'f1': {'mean': 0.0, 'std': 0.0},\n",
       "  'pr': {'mean': 0.0, 'std': 0.0},\n",
       "  'rc': {'mean': 0.0, 'std': 0.0}},\n",
       " 'IP:SSF50199': {'f1': {'mean': 0.8, 'std': 0.163299},\n",
       "  'pr': {'mean': 0.7, 'std': 0.244949},\n",
       "  'rc': {'mean': 1.0, 'std': 0.0}},\n",
       " 'MESH:C013683': {'f1': {'mean': 0.0, 'std': 0.0},\n",
       "  'pr': {'mean': 0.0, 'std': 0.0},\n",
       "  'rc': {'mean': 0.0, 'std': 0.0}}}"
      ]
     },
     "execution_count": 17,
     "metadata": {},
     "output_type": "execute_result"
    }
   ],
   "source": [
    "classifier.stats"
   ]
  },
  {
   "cell_type": "code",
   "execution_count": 15,
   "metadata": {},
   "outputs": [],
   "source": [
    "disamb = AdeftDisambiguator(classifier, grounding_dict, names)"
   ]
  },
  {
   "cell_type": "code",
   "execution_count": 16,
   "metadata": {},
   "outputs": [],
   "source": [
    "disamb.dump(model_name, results_path)"
   ]
  },
  {
   "cell_type": "code",
   "execution_count": 17,
   "metadata": {},
   "outputs": [
    {
     "name": "stdout",
     "output_type": "stream",
     "text": [
      "Disambiguation model for SN\n",
      "\n",
      "Produces the disambiguations:\n",
      "\tNUP214\tHGNC:8064\n",
      "\tNeoplasms\tMESH:D009369\n",
      "\tNystagmus, Pathologic*\tMESH:D009759\n",
      "\tPeripheral Sensory Neuropathy\tNCIT:C3501\n",
      "\tSciatic Nerve\tMESH:D012584\n",
      "\tSensory Receptor Cells*\tMESH:D011984\n",
      "\tSentinel Lymph Node*\tMESH:D000071036\n",
      "\tSinoatrial Node*\tMESH:D012849\n",
      "\tSinomenine\tCHEBI:CHEBI:9163\n",
      "\tSolanum nigrum\tMESH:D032324\n",
      "\tSpinal Nerves\tMESH:D013127\n",
      "\tSplanchnic Nerves\tMESH:D013153\n",
      "\tStaphylococcal nuclease\tMESH:D008836\n",
      "\tSubstantia Nigra*\tMESH:D013378\n",
      "\tdinitrogen\tCHEBI:CHEBI:17997\n",
      "\tsalience_network\tsalience_network\n",
      "\tsecretoneurin*\tMESH:C081159\n",
      "\tsilver nanoparticle\tCHEBI:CHEBI:50826\n",
      "\tsilver(1+) nitrate\tCHEBI:CHEBI:32130\n",
      "\tsodium nitrite\tCHEBI:CHEBI:78870\n",
      "\tsodium nitroprusside\tCHEBI:CHEBI:29321\n",
      "\tsodium nucleinate\tMESH:C013683\n",
      "\tstreptonigrin*\tCHEBI:CHEBI:9287\n",
      "\tsuccinonitrile\tMESH:C010337\n",
      "\tsupernatant\tsupernatant\n",
      "\n",
      "Class level metrics:\n",
      "--------------------\n",
      "Grounding                    \tCount\tF1     \n",
      "             Substantia Nigra*\t599\t0.94691\n",
      "             salience_network\t102\t0.98022\n",
      "                  supernatant\t 71\t0.81656\n",
      "                   Ungrounded\t 60\t0.76926\n",
      "                secretoneurin*\t 29\t0.78444\n",
      "          Sentinel Lymph Node*\t 20\t0.97143\n",
      "                Sciatic Nerve\t 18\t0.54429\n",
      "                streptonigrin*\t 14\t0.64476\n",
      "              Sinoatrial Node*\t 11\t0.69333\n",
      "       Sensory Receptor Cells*\t 10\t    0.7\n",
      "        Nystagmus, Pathologic*\t  9\t0.93333\n",
      "                   Sinomenine\t  9\t0.26667\n",
      "      Staphylococcal nuclease\t  9\t    0.8\n",
      "               sodium nitrite\t  7\t    0.0\n",
      "           silver(1+) nitrate\t  6\t0.66667\n",
      "         sodium nitroprusside\t  5\t    0.0\n",
      "          silver nanoparticle\t  5\t    0.2\n",
      "            Splanchnic Nerves\t  4\t    0.8\n",
      "                Spinal Nerves\t  4\t    0.8\n",
      "               succinonitrile\t  4\t    0.8\n",
      "               Solanum nigrum\t  3\t    0.4\n",
      "            sodium nucleinate\t  2\t    0.0\n",
      "Peripheral Sensory Neuropathy\t  2\t    0.0\n",
      "                   dinitrogen\t  2\t    0.0\n",
      "                    Neoplasms\t  2\t    0.0\n",
      "                       NUP214\t  1\t    0.0\n",
      "\n",
      "Weighted Metrics:\n",
      "-----------------\n",
      "\tF1 score:\t0.92681\n",
      "\tPrecision:\t0.90397\n",
      "\tRecall:\t\t0.961\n",
      "\n",
      "* Positive labels\n",
      "See Docstring for explanation\n",
      "\n"
     ]
    }
   ],
   "source": [
    "print(disamb.info())"
   ]
  },
  {
   "cell_type": "code",
   "execution_count": 18,
   "metadata": {},
   "outputs": [],
   "source": [
    "model_to_s3(disamb)"
   ]
  },
  {
   "cell_type": "code",
   "execution_count": null,
   "metadata": {},
   "outputs": [],
   "source": []
  }
 ],
 "metadata": {
  "kernelspec": {
   "display_name": "Python 3",
   "language": "python",
   "name": "python3"
  },
  "language_info": {
   "codemirror_mode": {
    "name": "ipython",
    "version": 3
   },
   "file_extension": ".py",
   "mimetype": "text/x-python",
   "name": "python",
   "nbconvert_exporter": "python",
   "pygments_lexer": "ipython3",
   "version": "3.8.4"
  }
 },
 "nbformat": 4,
 "nbformat_minor": 2
}
