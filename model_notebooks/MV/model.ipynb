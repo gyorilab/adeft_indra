{
 "cells": [
  {
   "cell_type": "code",
   "execution_count": 2,
   "metadata": {},
   "outputs": [],
   "source": [
    "import os\n",
    "import json\n",
    "import pickle\n",
    "import random\n",
    "from collections import defaultdict, Counter\n",
    "\n",
    "from indra.literature.adeft_tools import universal_extract_text\n",
    "from indra.databases.hgnc_client import get_hgnc_name, get_hgnc_id\n",
    "\n",
    "from adeft.discover import AdeftMiner\n",
    "from adeft.gui import ground_with_gui\n",
    "from adeft.modeling.label import AdeftLabeler\n",
    "from adeft.modeling.classify import AdeftClassifier\n",
    "from adeft.disambiguate import AdeftDisambiguator\n",
    "\n",
    "\n",
    "from adeft_indra.ground.ground import AdeftGrounder\n",
    "from adeft_indra.model_building.s3 import model_to_s3\n",
    "from adeft_indra.model_building.escape import escape_filename\n",
    "from adeft_indra.db.content import get_pmids_for_agent_text, get_pmids_for_entity, \\\n",
    "    get_plaintexts_for_pmids"
   ]
  },
  {
   "cell_type": "code",
   "execution_count": 3,
   "metadata": {},
   "outputs": [],
   "source": [
    "adeft_grounder = AdeftGrounder()"
   ]
  },
  {
   "cell_type": "code",
   "execution_count": 4,
   "metadata": {},
   "outputs": [],
   "source": [
    "shortforms = ['MV']\n",
    "model_name = ':'.join(sorted(escape_filename(shortform) for shortform in shortforms))\n",
    "results_path = os.path.abspath(os.path.join('../..', 'results', model_name))"
   ]
  },
  {
   "cell_type": "code",
   "execution_count": 5,
   "metadata": {},
   "outputs": [],
   "source": [
    "miners = dict()\n",
    "all_texts = {}\n",
    "for shortform in shortforms:\n",
    "    pmids = get_pmids_for_agent_text(shortform)\n",
    "    if len(pmids) > 10000:\n",
    "        pmids = random.choices(pmids, k=10000)\n",
    "    text_dict = get_plaintexts_for_pmids(pmids, contains=shortforms)\n",
    "    text_dict = {pmid: text for pmid, text in text_dict.items() if len(text) > 5}\n",
    "    miners[shortform] = AdeftMiner(shortform)\n",
    "    miners[shortform].process_texts(text_dict.values())\n",
    "    all_texts.update(text_dict)\n",
    "\n",
    "longform_dict = {}\n",
    "for shortform in shortforms:\n",
    "    longforms = miners[shortform].get_longforms()\n",
    "    longforms = [(longform, count, score) for longform, count, score in longforms\n",
    "                 if count*score > 2]\n",
    "    longform_dict[shortform] = longforms\n",
    "    \n",
    "combined_longforms = Counter()\n",
    "for longform_rows in longform_dict.values():\n",
    "    combined_longforms.update({longform: count for longform, count, score\n",
    "                               in longform_rows})\n",
    "grounding_map = {}\n",
    "names = {}\n",
    "for longform in combined_longforms:\n",
    "    groundings = adeft_grounder.ground(longform)\n",
    "    if groundings:\n",
    "        grounding = groundings[0]['grounding']\n",
    "        grounding_map[longform] = grounding\n",
    "        names[grounding] = groundings[0]['name']\n",
    "longforms, counts = zip(*combined_longforms.most_common())\n",
    "pos_labels = []"
   ]
  },
  {
   "cell_type": "code",
   "execution_count": 5,
   "metadata": {},
   "outputs": [
    {
     "data": {
      "text/plain": [
       "[('measles virus', 626),\n",
       " ('mechanical ventilation', 519),\n",
       " ('methyl viologen', 153),\n",
       " ('mitral valve', 108),\n",
       " ('microvesicles', 104),\n",
       " ('membrane vesicles', 33),\n",
       " ('measles vaccine', 28),\n",
       " ('matrix vesicles', 28),\n",
       " ('minute ventilation', 23),\n",
       " ('minute volume', 19),\n",
       " ('methylviologen', 18),\n",
       " ('microvilli', 16),\n",
       " ('microvascular', 14),\n",
       " ('mother vessels', 12),\n",
       " ('myxoma virus', 12),\n",
       " ('mean velocity', 11),\n",
       " ('megavoltage', 10),\n",
       " ('microvillous columnar epithelial cells', 10),\n",
       " ('microvessels', 8),\n",
       " ('mature virus', 8),\n",
       " ('malignant rabbit fibroma virus', 8),\n",
       " ('methyl violet', 7),\n",
       " ('mycobacterium vaccae', 5),\n",
       " ('mature virions', 5),\n",
       " ('main vessels', 5),\n",
       " ('micturition volume', 5),\n",
       " ('multivitamin', 5),\n",
       " ('mumps virus', 5),\n",
       " ('methyl vanillate', 4),\n",
       " ('myosin v', 4),\n",
       " ('mechanical vibration', 4),\n",
       " ('mesenteric veins', 4),\n",
       " ('microvillar', 4),\n",
       " ('mopeia virus', 4),\n",
       " ('mixed valence', 3),\n",
       " ('muscle vibration', 3),\n",
       " ('maximum velocity', 3),\n",
       " ('metavinculin', 3),\n",
       " ('multivessel', 3),\n",
       " ('multivariate', 3),\n",
       " ('marseilleviridae', 3),\n",
       " ('ma and veins', 3),\n",
       " ('methyl viologen dichloride hydrate', 3),\n",
       " ('mv infection vero cells', 3)]"
      ]
     },
     "execution_count": 5,
     "metadata": {},
     "output_type": "execute_result"
    }
   ],
   "source": [
    "list(zip(longforms, counts))"
   ]
  },
  {
   "cell_type": "code",
   "execution_count": 6,
   "metadata": {},
   "outputs": [
    {
     "name": "stderr",
     "output_type": "stream",
     "text": [
      "INFO: [2020-09-30 03:31:16] indra.ontology.bio.ontology - Loading INDRA bio ontology from cache at /home/ubuntu/.indra/bio_ontology/1.2/bio_ontology.pkl\n"
     ]
    }
   ],
   "source": [
    "grounding_map, names, pos_labels = ground_with_gui(longforms, counts, \n",
    "                                                   grounding_map=grounding_map,\n",
    "                                                   names=names, pos_labels=pos_labels, no_browser=True, port=8890)"
   ]
  },
  {
   "cell_type": "code",
   "execution_count": 7,
   "metadata": {},
   "outputs": [],
   "source": [
    "result = [grounding_map, names, pos_labels]"
   ]
  },
  {
   "cell_type": "code",
   "execution_count": 8,
   "metadata": {},
   "outputs": [
    {
     "data": {
      "text/plain": [
       "[{'ma and veins': 'ungrounded',\n",
       "  'main vessels': 'ungrounded',\n",
       "  'malignant rabbit fibroma virus': 'MESH:D012776',\n",
       "  'marseilleviridae': 'ungrounded',\n",
       "  'matrix vesicles': 'ungrounded',\n",
       "  'mature virions': 'MESH:D014771',\n",
       "  'mature virus': 'ungrounded',\n",
       "  'maximum velocity': 'ungrounded',\n",
       "  'mean velocity': 'ungrounded',\n",
       "  'measles vaccine': 'MESH:D008458',\n",
       "  'measles virus': 'MESH:D008459',\n",
       "  'mechanical ventilation': 'MESH:D012121',\n",
       "  'mechanical vibration': 'MESH:D014732',\n",
       "  'megavoltage': 'ungrounded',\n",
       "  'membrane vesicles': 'ungrounded',\n",
       "  'mesenteric veins': 'ungrounded',\n",
       "  'metavinculin': 'MESH:C103334',\n",
       "  'methyl vanillate': 'CHEBI:CHEBI:46477',\n",
       "  'methyl violet': 'CHEBI:CHEBI:41688',\n",
       "  'methyl viologen': 'CHEBI:CHEBI:34905',\n",
       "  'methyl viologen dichloride hydrate': 'ungrounded',\n",
       "  'methylviologen': 'CHEBI:CHEBI:34905',\n",
       "  'microvascular': 'MESH:D055806',\n",
       "  'microvesicles': 'MESH:D055252',\n",
       "  'microvessels': 'MESH:D055806',\n",
       "  'microvillar': 'GO:GO:0005902',\n",
       "  'microvilli': 'GO:GO:0005902',\n",
       "  'microvillous columnar epithelial cells': 'ungrounded',\n",
       "  'micturition volume': 'ungrounded',\n",
       "  'minute ventilation': 'MESH:D014691',\n",
       "  'minute volume': 'NCIT:C120936',\n",
       "  'mitral valve': 'MESH:D008943',\n",
       "  'mixed valence': 'ungrounded',\n",
       "  'mopeia virus': 'ungrounded',\n",
       "  'mother vessels': 'ungrounded',\n",
       "  'multivariate': 'ungrounded',\n",
       "  'multivessel': 'ungrounded',\n",
       "  'multivitamin': 'ungrounded',\n",
       "  'mumps virus': 'MESH:D009109',\n",
       "  'muscle vibration': 'ungrounded',\n",
       "  'mv infection vero cells': 'MESH:D014709',\n",
       "  'mycobacterium vaccae': 'MESH:C000641325',\n",
       "  'myosin v': 'MESH:D024701',\n",
       "  'myxoma virus': 'MESH:D009233'},\n",
       " {'MESH:D012776': 'Fibroma Virus, Rabbit',\n",
       "  'MESH:D014771': 'Virion',\n",
       "  'MESH:D008458': 'Measles Vaccine',\n",
       "  'MESH:D008459': 'Measles virus',\n",
       "  'MESH:D012121': 'Respiration, Artificial',\n",
       "  'MESH:D014732': 'Vibration',\n",
       "  'MESH:C103334': 'metavinculin',\n",
       "  'CHEBI:CHEBI:46477': 'methyl vanillate',\n",
       "  'CHEBI:CHEBI:41688': 'crystal violet',\n",
       "  'CHEBI:CHEBI:34905': 'paraquat',\n",
       "  'MESH:D055806': 'Microvessels',\n",
       "  'MESH:D055252': 'Cell-Derived Microparticles',\n",
       "  'GO:GO:0005902': 'microvillus',\n",
       "  'MESH:D014691': 'Ventilation',\n",
       "  'NCIT:C120936': 'Minute Volume',\n",
       "  'MESH:D008943': 'Mitral Valve',\n",
       "  'MESH:D009109': 'Mumps virus',\n",
       "  'MESH:D014709': 'Vero Cells',\n",
       "  'MESH:C000641325': 'Mycolicibacterium vaccae',\n",
       "  'MESH:D024701': 'Myosin Type V',\n",
       "  'MESH:D009233': 'Myxoma virus'},\n",
       " ['CHEBI:CHEBI:34905',\n",
       "  'GO:GO:0005902',\n",
       "  'MESH:D008458',\n",
       "  'MESH:D008459',\n",
       "  'MESH:D008943',\n",
       "  'MESH:D012121',\n",
       "  'MESH:D055252',\n",
       "  'NCIT:C120936']]"
      ]
     },
     "execution_count": 8,
     "metadata": {},
     "output_type": "execute_result"
    }
   ],
   "source": [
    "result"
   ]
  },
  {
   "cell_type": "code",
   "execution_count": 6,
   "metadata": {},
   "outputs": [],
   "source": [
    "grounding_map, names, pos_labels = [{'ma and veins': 'ungrounded',\n",
    "  'main vessels': 'ungrounded',\n",
    "  'malignant rabbit fibroma virus': 'MESH:D012776',\n",
    "  'marseilleviridae': 'ungrounded',\n",
    "  'matrix vesicles': 'ungrounded',\n",
    "  'mature virions': 'MESH:D014771',\n",
    "  'mature virus': 'ungrounded',\n",
    "  'maximum velocity': 'ungrounded',\n",
    "  'mean velocity': 'ungrounded',\n",
    "  'measles vaccine': 'MESH:D008458',\n",
    "  'measles virus': 'MESH:D008459',\n",
    "  'mechanical ventilation': 'MESH:D012121',\n",
    "  'mechanical vibration': 'MESH:D014732',\n",
    "  'megavoltage': 'ungrounded',\n",
    "  'membrane vesicles': 'ungrounded',\n",
    "  'mesenteric veins': 'ungrounded',\n",
    "  'metavinculin': 'HGNC:12665',\n",
    "  'meta vinculin': 'HGNC:12665',\n",
    "  'methyl vanillate': 'CHEBI:CHEBI:46477',\n",
    "  'methyl violet': 'CHEBI:CHEBI:41688',\n",
    "  'methyl viologen': 'CHEBI:CHEBI:34905',\n",
    "  'methyl viologen dichloride hydrate': 'ungrounded',\n",
    "  'methylviologen': 'CHEBI:CHEBI:34905',\n",
    "  'microvascular': 'MESH:D055806',\n",
    "  'microvesicles': 'MESH:D055252',\n",
    "  'microvessels': 'MESH:D055806',\n",
    "  'microvillar': 'GO:GO:0005902',\n",
    "  'microvilli': 'GO:GO:0005902',\n",
    "  'microvillous columnar epithelial cells': 'ungrounded',\n",
    "  'micturition volume': 'ungrounded',\n",
    "  'minute ventilation': 'MESH:D014691',\n",
    "  'minute volume': 'NCIT:C120936',\n",
    "  'mitral valve': 'MESH:D008943',\n",
    "  'mixed valence': 'ungrounded',\n",
    "  'mopeia virus': 'ungrounded',\n",
    "  'mother vessels': 'ungrounded',\n",
    "  'multivariate': 'ungrounded',\n",
    "  'multivessel': 'ungrounded',\n",
    "  'multivitamin': 'ungrounded',\n",
    "  'mumps virus': 'MESH:D009109',\n",
    "  'muscle vibration': 'ungrounded',\n",
    "  'mv infection vero cells': 'MESH:D014709',\n",
    "  'mycobacterium vaccae': 'MESH:C000641325',\n",
    "  'myosin v': 'MESH:D024701',\n",
    "  'myxoma virus': 'MESH:D009233'},\n",
    " {'MESH:D012776': 'Fibroma Virus, Rabbit',\n",
    "  'MESH:D014771': 'Virion',\n",
    "  'MESH:D008458': 'Measles Vaccine',\n",
    "  'MESH:D008459': 'Measles virus',\n",
    "  'MESH:D012121': 'Respiration, Artificial',\n",
    "  'MESH:D014732': 'Vibration',\n",
    "  'HGNC:12665': 'VCL',\n",
    "  'CHEBI:CHEBI:46477': 'methyl vanillate',\n",
    "  'CHEBI:CHEBI:41688': 'crystal violet',\n",
    "  'CHEBI:CHEBI:34905': 'paraquat',\n",
    "  'MESH:D055806': 'Microvessels',\n",
    "  'MESH:D055252': 'Cell-Derived Microparticles',\n",
    "  'GO:GO:0005902': 'microvillus',\n",
    "  'MESH:D014691': 'Ventilation',\n",
    "  'NCIT:C120936': 'Minute Volume',\n",
    "  'MESH:D008943': 'Mitral Valve',\n",
    "  'MESH:D009109': 'Mumps virus',\n",
    "  'MESH:D014709': 'Vero Cells',\n",
    "  'MESH:C000641325': 'Mycolicibacterium vaccae',\n",
    "  'MESH:D024701': 'Myosin Type V',\n",
    "  'MESH:D009233': 'Myxoma virus'},\n",
    " ['CHEBI:CHEBI:34905',\n",
    "  'GO:GO:0005902',\n",
    "  'MESH:D008458',\n",
    "  'MESH:D008459',\n",
    "  'MESH:D008943',\n",
    "  'MESH:D012121',\n",
    "  'MESH:D055252',\n",
    "  'MESH:D055806',\n",
    "  'HGNC:12665']]"
   ]
  },
  {
   "cell_type": "code",
   "execution_count": 7,
   "metadata": {},
   "outputs": [],
   "source": [
    "excluded_longforms = []"
   ]
  },
  {
   "cell_type": "code",
   "execution_count": 8,
   "metadata": {},
   "outputs": [],
   "source": [
    "grounding_dict = {shortform: {longform: grounding_map[longform] \n",
    "                              for longform, _, _ in longforms if longform in grounding_map\n",
    "                              and longform not in excluded_longforms}\n",
    "                  for shortform, longforms in longform_dict.items()}\n",
    "result = [grounding_dict, names, pos_labels]\n",
    "\n",
    "if not os.path.exists(results_path):\n",
    "    os.mkdir(results_path)\n",
    "with open(os.path.join(results_path, f'{model_name}_preliminary_grounding_info.json'), 'w') as f:\n",
    "    json.dump(result, f)"
   ]
  },
  {
   "cell_type": "code",
   "execution_count": 9,
   "metadata": {},
   "outputs": [],
   "source": [
    "additional_entities = {'HGNC:12665': ['VCL', ['MV']]}"
   ]
  },
  {
   "cell_type": "code",
   "execution_count": 10,
   "metadata": {},
   "outputs": [],
   "source": [
    "unambiguous_agent_texts = {}"
   ]
  },
  {
   "cell_type": "code",
   "execution_count": 11,
   "metadata": {},
   "outputs": [],
   "source": [
    "labeler = AdeftLabeler(grounding_dict)\n",
    "corpus = labeler.build_from_texts((text, pmid) for pmid, text in all_texts.items())\n",
    "agent_text_pmid_map = defaultdict(list)\n",
    "for text, label, id_ in corpus:\n",
    "    agent_text_pmid_map[label].append(id_)\n",
    "\n",
    "entity_pmid_map = {entity: set(get_pmids_for_entity(*entity.split(':', maxsplit=1),\n",
    "                                                major_topic=True))for entity in additional_entities}"
   ]
  },
  {
   "cell_type": "code",
   "execution_count": 13,
   "metadata": {},
   "outputs": [],
   "source": [
    "intersection1 = []\n",
    "for entity1, pmids1 in entity_pmid_map.items():\n",
    "    for entity2, pmids2 in entity_pmid_map.items():\n",
    "        intersection1.append((entity1, entity2, len(pmids1 & pmids2)))"
   ]
  },
  {
   "cell_type": "code",
   "execution_count": 14,
   "metadata": {},
   "outputs": [],
   "source": [
    "intersection2 = []\n",
    "for entity1, pmids1 in agent_text_pmid_map.items():\n",
    "    for entity2, pmids2 in entity_pmid_map.items():\n",
    "        intersection2.append((entity1, entity2, len(set(pmids1) & pmids2)))"
   ]
  },
  {
   "cell_type": "code",
   "execution_count": 15,
   "metadata": {},
   "outputs": [
    {
     "data": {
      "text/plain": [
       "[('HGNC:12665', 'HGNC:12665', 680)]"
      ]
     },
     "execution_count": 15,
     "metadata": {},
     "output_type": "execute_result"
    }
   ],
   "source": [
    "intersection1"
   ]
  },
  {
   "cell_type": "code",
   "execution_count": 16,
   "metadata": {},
   "outputs": [
    {
     "data": {
      "text/plain": [
       "[('MESH:D008459', 'HGNC:12665', 0),\n",
       " ('GO:GO:0005902', 'HGNC:12665', 0),\n",
       " ('ungrounded', 'HGNC:12665', 0),\n",
       " ('NCIT:C120936', 'HGNC:12665', 0),\n",
       " ('MESH:D009109', 'HGNC:12665', 0),\n",
       " ('CHEBI:CHEBI:34905', 'HGNC:12665', 0),\n",
       " ('MESH:D055806', 'HGNC:12665', 0),\n",
       " ('MESH:D012776', 'HGNC:12665', 0),\n",
       " ('MESH:D012121', 'HGNC:12665', 0),\n",
       " ('MESH:D014709', 'HGNC:12665', 0),\n",
       " ('MESH:D008943', 'HGNC:12665', 0),\n",
       " ('MESH:D009233', 'HGNC:12665', 0),\n",
       " ('MESH:D014691', 'HGNC:12665', 0),\n",
       " ('MESH:D014732', 'HGNC:12665', 0),\n",
       " ('MESH:C000641325', 'HGNC:12665', 0),\n",
       " ('MESH:D024701', 'HGNC:12665', 0),\n",
       " ('MESH:D008458', 'HGNC:12665', 0),\n",
       " ('MESH:D055252', 'HGNC:12665', 0),\n",
       " ('MESH:D014771', 'HGNC:12665', 0),\n",
       " ('HGNC:12665', 'HGNC:12665', 2),\n",
       " ('CHEBI:CHEBI:41688', 'HGNC:12665', 0),\n",
       " ('CHEBI:CHEBI:46477', 'HGNC:12665', 0)]"
      ]
     },
     "execution_count": 16,
     "metadata": {},
     "output_type": "execute_result"
    }
   ],
   "source": [
    "intersection2"
   ]
  },
  {
   "cell_type": "code",
   "execution_count": 17,
   "metadata": {},
   "outputs": [
    {
     "data": {
      "text/plain": [
       "2"
      ]
     },
     "execution_count": 17,
     "metadata": {},
     "output_type": "execute_result"
    }
   ],
   "source": [
    "2"
   ]
  },
  {
   "cell_type": "code",
   "execution_count": 12,
   "metadata": {},
   "outputs": [],
   "source": [
    "all_used_pmids = set()\n",
    "for entity, agent_texts in unambiguous_agent_texts.items():\n",
    "    used_pmids = set()\n",
    "    for agent_text in agent_texts[1]:\n",
    "        pmids = set(get_pmids_for_agent_text(agent_text))\n",
    "        new_pmids = list(pmids - all_texts.keys() - used_pmids)\n",
    "        text_dict = get_plaintexts_for_pmids(new_pmids, contains=agent_texts)\n",
    "        corpus.extend([(text, entity, pmid) for pmid, text in text_dict.items() if len(text) >= 5])\n",
    "        used_pmids.update(new_pmids)\n",
    "    all_used_pmids.update(used_pmids)\n",
    "        \n",
    "for entity, pmids in entity_pmid_map.items():\n",
    "    new_pmids = list(set(pmids) - all_texts.keys() - all_used_pmids)\n",
    "    if len(new_pmids) > 10000:\n",
    "        new_pmids = random.choices(new_pmids, k=10000)\n",
    "    _, contains = additional_entities[entity]\n",
    "    text_dict = get_plaintexts_for_pmids(new_pmids, contains=contains)\n",
    "    corpus.extend([(text, entity, pmid) for pmid, text in text_dict.items() if len(text) >= 5])"
   ]
  },
  {
   "cell_type": "code",
   "execution_count": 13,
   "metadata": {},
   "outputs": [],
   "source": [
    "names.update({key: value[0] for key, value in additional_entities.items()})\n",
    "names.update({key: value[0] for key, value in unambiguous_agent_texts.items()})\n",
    "pos_labels = list(set(pos_labels) | additional_entities.keys() |\n",
    "                  unambiguous_agent_texts.keys())"
   ]
  },
  {
   "cell_type": "code",
   "execution_count": 14,
   "metadata": {},
   "outputs": [
    {
     "name": "stderr",
     "output_type": "stream",
     "text": [
      "INFO: [2020-10-30 05:10:56] /adeft/PP/adeft/adeft/modeling/classify.py - Beginning grid search in parameter space:\n",
      "{'C': [100.0], 'max_features': [10000]}\n",
      "INFO: [2020-10-30 05:11:42] /adeft/PP/adeft/adeft/modeling/classify.py - Best f1 score of 0.9285990887280191 found for parameter values:\n",
      "{'logit__C': 100.0, 'tfidf__max_features': 10000}\n"
     ]
    }
   ],
   "source": [
    "%%capture\n",
    "\n",
    "classifier = AdeftClassifier(shortforms, pos_labels=pos_labels, random_state=1729)\n",
    "param_grid = {'C': [100.0], 'max_features': [10000]}\n",
    "texts, labels, pmids = zip(*corpus)\n",
    "classifier.cv(texts, labels, param_grid, cv=5, n_jobs=5)"
   ]
  },
  {
   "cell_type": "code",
   "execution_count": 15,
   "metadata": {
    "scrolled": true
   },
   "outputs": [
    {
     "data": {
      "text/plain": [
       "{'label_distribution': {'MESH:D008459': 489,\n",
       "  'GO:GO:0005902': 16,\n",
       "  'ungrounded': 102,\n",
       "  'NCIT:C120936': 13,\n",
       "  'MESH:D009109': 3,\n",
       "  'CHEBI:CHEBI:34905': 120,\n",
       "  'MESH:D055806': 16,\n",
       "  'MESH:D012776': 6,\n",
       "  'MESH:D012121': 349,\n",
       "  'MESH:D014709': 1,\n",
       "  'MESH:D008943': 81,\n",
       "  'MESH:D009233': 10,\n",
       "  'MESH:D014691': 17,\n",
       "  'MESH:D014732': 4,\n",
       "  'MESH:C000641325': 3,\n",
       "  'MESH:D024701': 4,\n",
       "  'MESH:D008458': 14,\n",
       "  'MESH:D055252': 69,\n",
       "  'MESH:D014771': 5,\n",
       "  'HGNC:12665': 3,\n",
       "  'CHEBI:CHEBI:41688': 4,\n",
       "  'CHEBI:CHEBI:46477': 2},\n",
       " 'f1': {'mean': 0.928599, 'std': 0.013841},\n",
       " 'precision': {'mean': 0.912195, 'std': 0.016961},\n",
       " 'recall': {'mean': 0.952478, 'std': 0.011203},\n",
       " 'NCIT:C120936': {'f1': {'mean': 0.16, 'std': 0.32},\n",
       "  'pr': {'mean': 0.133333, 'std': 0.266667},\n",
       "  'rc': {'mean': 0.2, 'std': 0.4}},\n",
       " 'MESH:D009109': {'f1': {'mean': 0.0, 'std': 0.0},\n",
       "  'pr': {'mean': 0.0, 'std': 0.0},\n",
       "  'rc': {'mean': 0.0, 'std': 0.0}},\n",
       " 'MESH:D055806': {'f1': {'mean': 0.773333, 'std': 0.225487},\n",
       "  'pr': {'mean': 0.716667, 'std': 0.276887},\n",
       "  'rc': {'mean': 0.933333, 'std': 0.133333}},\n",
       " 'MESH:D012121': {'f1': {'mean': 0.961161, 'std': 0.006882},\n",
       "  'pr': {'mean': 0.991387, 'std': 0.01145},\n",
       "  'rc': {'mean': 0.932938, 'std': 0.013418}},\n",
       " 'MESH:D008943': {'f1': {'mean': 0.96845, 'std': 0.028172},\n",
       "  'pr': {'mean': 0.950735, 'std': 0.046597},\n",
       "  'rc': {'mean': 0.988235, 'std': 0.023529}},\n",
       " 'MESH:D055252': {'f1': {'mean': 0.77265, 'std': 0.08756},\n",
       "  'pr': {'mean': 0.740659, 'std': 0.094365},\n",
       "  'rc': {'mean': 0.808974, 'std': 0.08508}},\n",
       " 'MESH:D008458': {'f1': {'mean': 0.631429, 'std': 0.355298},\n",
       "  'pr': {'mean': 0.6, 'std': 0.38873},\n",
       "  'rc': {'mean': 0.75, 'std': 0.387298}},\n",
       " 'ungrounded': {'f1': {'mean': 0.738516, 'std': 0.098806},\n",
       "  'pr': {'mean': 0.707143, 'std': 0.129599},\n",
       "  'rc': {'mean': 0.780799, 'std': 0.079218}},\n",
       " 'MESH:D014771': {'f1': {'mean': 0.6, 'std': 0.489898},\n",
       "  'pr': {'mean': 0.6, 'std': 0.489898},\n",
       "  'rc': {'mean': 0.6, 'std': 0.489898}},\n",
       " 'MESH:D024701': {'f1': {'mean': 0.2, 'std': 0.4},\n",
       "  'pr': {'mean': 0.2, 'std': 0.4},\n",
       "  'rc': {'mean': 0.2, 'std': 0.4}},\n",
       " 'MESH:D014691': {'f1': {'mean': 0.21, 'std': 0.18},\n",
       "  'pr': {'mean': 0.183333, 'std': 0.152753},\n",
       "  'rc': {'mean': 0.34, 'std': 0.377359}},\n",
       " 'HGNC:12665': {'f1': {'mean': 0.4, 'std': 0.489898},\n",
       "  'pr': {'mean': 0.4, 'std': 0.489898},\n",
       "  'rc': {'mean': 0.4, 'std': 0.489898}},\n",
       " 'MESH:D014732': {'f1': {'mean': 0.0, 'std': 0.0},\n",
       "  'pr': {'mean': 0.0, 'std': 0.0},\n",
       "  'rc': {'mean': 0.0, 'std': 0.0}},\n",
       " 'MESH:D012776': {'f1': {'mean': 0.733333, 'std': 0.38873},\n",
       "  'pr': {'mean': 0.7, 'std': 0.4},\n",
       "  'rc': {'mean': 0.8, 'std': 0.4}},\n",
       " 'MESH:D009233': {'f1': {'mean': 0.266667, 'std': 0.326599},\n",
       "  'pr': {'mean': 0.2, 'std': 0.244949},\n",
       "  'rc': {'mean': 0.4, 'std': 0.489898}},\n",
       " 'MESH:D014709': {'f1': {'mean': 0.0, 'std': 0.0},\n",
       "  'pr': {'mean': 0.0, 'std': 0.0},\n",
       "  'rc': {'mean': 0.0, 'std': 0.0}},\n",
       " 'MESH:C000641325': {'f1': {'mean': 0.2, 'std': 0.4},\n",
       "  'pr': {'mean': 0.2, 'std': 0.4},\n",
       "  'rc': {'mean': 0.2, 'std': 0.4}},\n",
       " 'MESH:D008459': {'f1': {'mean': 0.942415, 'std': 0.012792},\n",
       "  'pr': {'mean': 0.985714, 'std': 0.010406},\n",
       "  'rc': {'mean': 0.90288, 'std': 0.01763}},\n",
       " 'GO:GO:0005902': {'f1': {'mean': 0.664762, 'std': 0.240664},\n",
       "  'pr': {'mean': 0.65, 'std': 0.31798},\n",
       "  'rc': {'mean': 0.783333, 'std': 0.194365}},\n",
       " 'CHEBI:CHEBI:34905': {'f1': {'mean': 0.938335, 'std': 0.021972},\n",
       "  'pr': {'mean': 0.95, 'std': 0.040825},\n",
       "  'rc': {'mean': 0.929371, 'std': 0.039473}},\n",
       " 'CHEBI:CHEBI:46477': {'f1': {'mean': 0.0, 'std': 0.0},\n",
       "  'pr': {'mean': 0.0, 'std': 0.0},\n",
       "  'rc': {'mean': 0.0, 'std': 0.0}},\n",
       " 'CHEBI:CHEBI:41688': {'f1': {'mean': 0.6, 'std': 0.489898},\n",
       "  'pr': {'mean': 0.6, 'std': 0.489898},\n",
       "  'rc': {'mean': 0.6, 'std': 0.489898}}}"
      ]
     },
     "execution_count": 15,
     "metadata": {},
     "output_type": "execute_result"
    }
   ],
   "source": [
    "classifier.stats"
   ]
  },
  {
   "cell_type": "code",
   "execution_count": 16,
   "metadata": {},
   "outputs": [],
   "source": [
    "disamb = AdeftDisambiguator(classifier, grounding_dict, names)"
   ]
  },
  {
   "cell_type": "code",
   "execution_count": 17,
   "metadata": {},
   "outputs": [],
   "source": [
    "disamb.dump(model_name, results_path)"
   ]
  },
  {
   "cell_type": "code",
   "execution_count": 18,
   "metadata": {},
   "outputs": [
    {
     "name": "stdout",
     "output_type": "stream",
     "text": [
      "Disambiguation model for MV\n",
      "\n",
      "Produces the disambiguations:\n",
      "\tCell-Derived Microparticles*\tMESH:D055252\n",
      "\tFibroma Virus, Rabbit\tMESH:D012776\n",
      "\tMeasles Vaccine*\tMESH:D008458\n",
      "\tMeasles virus*\tMESH:D008459\n",
      "\tMicrovessels*\tMESH:D055806\n",
      "\tMinute Volume\tNCIT:C120936\n",
      "\tMitral Valve*\tMESH:D008943\n",
      "\tMumps virus\tMESH:D009109\n",
      "\tMycolicibacterium vaccae\tMESH:C000641325\n",
      "\tMyosin Type V\tMESH:D024701\n",
      "\tMyxoma virus\tMESH:D009233\n",
      "\tRespiration, Artificial*\tMESH:D012121\n",
      "\tVCL*\tHGNC:12665\n",
      "\tVentilation\tMESH:D014691\n",
      "\tVero Cells\tMESH:D014709\n",
      "\tVibration\tMESH:D014732\n",
      "\tVirion\tMESH:D014771\n",
      "\tcrystal violet\tCHEBI:CHEBI:41688\n",
      "\tmethyl vanillate\tCHEBI:CHEBI:46477\n",
      "\tmicrovillus*\tGO:GO:0005902\n",
      "\tparaquat*\tCHEBI:CHEBI:34905\n",
      "\n",
      "Class level metrics:\n",
      "--------------------\n",
      "Grounding                  \tCount\tF1     \n",
      "              Measles virus*\t489\t0.94242\n",
      "    Respiration, Artificial*\t349\t0.96116\n",
      "                   paraquat*\t120\t0.93834\n",
      "                 Ungrounded\t102\t0.73852\n",
      "               Mitral Valve*\t 81\t0.96845\n",
      "Cell-Derived Microparticles*\t 69\t0.77265\n",
      "                Ventilation\t 17\t   0.21\n",
      "                microvillus*\t 16\t0.66476\n",
      "               Microvessels*\t 16\t0.77333\n",
      "            Measles Vaccine*\t 14\t0.63143\n",
      "              Minute Volume\t 13\t   0.16\n",
      "               Myxoma virus\t 10\t0.26667\n",
      "      Fibroma Virus, Rabbit\t  6\t0.73333\n",
      "                     Virion\t  5\t    0.6\n",
      "                  Vibration\t  4\t    0.0\n",
      "              Myosin Type V\t  4\t    0.2\n",
      "             crystal violet\t  4\t    0.6\n",
      "                Mumps virus\t  3\t    0.0\n",
      "   Mycolicibacterium vaccae\t  3\t    0.2\n",
      "                        VCL*\t  3\t    0.4\n",
      "           methyl vanillate\t  2\t    0.0\n",
      "                 Vero Cells\t  1\t    0.0\n",
      "\n",
      "Weighted Metrics:\n",
      "-----------------\n",
      "\tF1 score:\t0.9286\n",
      "\tPrecision:\t0.9122\n",
      "\tRecall:\t\t0.95248\n",
      "\n",
      "* Positive labels\n",
      "See Docstring for explanation\n",
      "\n"
     ]
    }
   ],
   "source": [
    "print(disamb.info())"
   ]
  },
  {
   "cell_type": "code",
   "execution_count": 19,
   "metadata": {},
   "outputs": [
    {
     "name": "stdout",
     "output_type": "stream",
     "text": [
      "Disambiguation model for MV\n",
      "\n",
      "Produces the disambiguations:\n",
      "\tCell-Derived Microparticles*\tMESH:D055252\n",
      "\tFibroma Virus, Rabbit\tMESH:D012776\n",
      "\tMeasles Vaccine*\tMESH:D008458\n",
      "\tMeasles virus*\tMESH:D008459\n",
      "\tMicrovessels*\tMESH:D055806\n",
      "\tMinute Volume\tNCIT:C120936\n",
      "\tMitral Valve*\tMESH:D008943\n",
      "\tMumps virus\tMESH:D009109\n",
      "\tMycolicibacterium vaccae\tMESH:C000641325\n",
      "\tMyosin Type V\tMESH:D024701\n",
      "\tMyxoma virus\tMESH:D009233\n",
      "\tRespiration, Artificial*\tMESH:D012121\n",
      "\tVCL*\tHGNC:12665\n",
      "\tVentilation\tMESH:D014691\n",
      "\tVero Cells\tMESH:D014709\n",
      "\tVibration\tMESH:D014732\n",
      "\tVirion\tMESH:D014771\n",
      "\tcrystal violet\tCHEBI:CHEBI:41688\n",
      "\tmethyl vanillate\tCHEBI:CHEBI:46477\n",
      "\tmicrovillus*\tGO:GO:0005902\n",
      "\tparaquat*\tCHEBI:CHEBI:34905\n",
      "\n",
      "Class level metrics:\n",
      "--------------------\n",
      "Grounding                  \tCount\tF1     \n",
      "              Measles virus*\t489\t0.94242\n",
      "    Respiration, Artificial*\t349\t0.96116\n",
      "                   paraquat*\t120\t0.93834\n",
      "                 Ungrounded\t102\t0.73852\n",
      "               Mitral Valve*\t 81\t0.96845\n",
      "Cell-Derived Microparticles*\t 69\t0.77265\n",
      "                Ventilation\t 17\t   0.21\n",
      "                microvillus*\t 16\t0.66476\n",
      "               Microvessels*\t 16\t0.77333\n",
      "            Measles Vaccine*\t 14\t0.63143\n",
      "              Minute Volume\t 13\t   0.16\n",
      "               Myxoma virus\t 10\t0.26667\n",
      "      Fibroma Virus, Rabbit\t  6\t0.73333\n",
      "                     Virion\t  5\t    0.6\n",
      "                  Vibration\t  4\t    0.0\n",
      "              Myosin Type V\t  4\t    0.2\n",
      "             crystal violet\t  4\t    0.6\n",
      "                Mumps virus\t  3\t    0.0\n",
      "   Mycolicibacterium vaccae\t  3\t    0.2\n",
      "                        VCL*\t  3\t    0.4\n",
      "           methyl vanillate\t  2\t    0.0\n",
      "                 Vero Cells\t  1\t    0.0\n",
      "\n",
      "Weighted Metrics:\n",
      "-----------------\n",
      "\tF1 score:\t0.9286\n",
      "\tPrecision:\t0.9122\n",
      "\tRecall:\t\t0.95248\n",
      "\n",
      "* Positive labels\n",
      "See Docstring for explanation\n",
      "\n"
     ]
    }
   ],
   "source": [
    "print(disamb.info())"
   ]
  },
  {
   "cell_type": "code",
   "execution_count": 20,
   "metadata": {},
   "outputs": [],
   "source": [
    "model_to_s3(disamb)"
   ]
  },
  {
   "cell_type": "code",
   "execution_count": 21,
   "metadata": {},
   "outputs": [],
   "source": [
    "preds = [disamb.disambiguate(text) for text in all_texts.values()]"
   ]
  },
  {
   "cell_type": "code",
   "execution_count": 22,
   "metadata": {},
   "outputs": [],
   "source": [
    "texts = [text for pred, text in zip(preds, all_texts.values()) if pred[0] == 'HGNC:12665']"
   ]
  },
  {
   "cell_type": "code",
   "execution_count": 23,
   "metadata": {},
   "outputs": [
    {
     "data": {
      "text/plain": [
       "2"
      ]
     },
     "execution_count": 23,
     "metadata": {},
     "output_type": "execute_result"
    }
   ],
   "source": [
    "len(texts)"
   ]
  },
  {
   "cell_type": "code",
   "execution_count": 24,
   "metadata": {},
   "outputs": [
    {
     "name": "stdout",
     "output_type": "stream",
     "text": [
      "Vinculin and its splice variant, metavinculin (MV), are key elements of multiple protein assemblies linking the extracellular matrix to the actin cytoskeleton. Vinculin is expressed ubiquitously, whereas MV is mainly expressed in smooth and cardiac muscle tissue. The only difference in amino acid sequence between the isoforms is a 68-residue insert in the C-terminal tail domain of MV (MVt). Although the functional role of this insert remains elusive, its importance is exemplified by point mutations that are associated with dilated and hypertrophic cardiomyopathy. In vinculin, the actin binding site resides in the tail domain. In this paper, we show that MVt binds actin filaments similarly to the vinculin tail domain. Unlike its splice variant, MVt did not bundle actin filaments. Instead, MVt promoted severing of actin filaments, most efficiently at substoichiometric concentrations. This surprising and seemingly contradictory alteration of vinculin function by the 68-residue insert may be essential for modulating compliance of vinculin-induced actin bundles when exposed to rapidly increasing external forces.\n",
      "The existence of a vinculin splice variant, metavinculin (MV), was recognized nearly three decades ago (Feramisco et al., 1982). Although extensive research has been performed on vinculin, the function of its larger isoform remains elusive. Vinculin is expressed ubiquitously, whereas MV is mainly expressed in smooth and cardiac muscle tissue (Feramisco et al., 1982; Glukhova et al., 1986; Belkin et al., 1988). A minor fraction of MV can also be found in skeletal muscle tissue and platelets (Turner and Burridge, 1989). The ratio of the two isoforms depends on tissue type and ranges between 1:1 and 4:1 for vinculin/MV (Belkin et al., 1988). MV expression appears to be directly correlated to the ability of differentiated muscle cells to contract (Saga et al., 1985; Koteliansky et al., 1991), suggesting that MV is important for force transduction.\n",
      "The sole difference between the two isoforms in humans is a 68-residue acidic insert in MV that is located between residues 915 and 916 of vinculin, a loop between the first two helices (H1 and H2) of the C-terminal tail domain (Vt; Gimona et al., 1988; Byrne et al., 1992). In both isoforms, the actin binding site resides in the respective tail domain and is masked by the head domain in the full-length molecule (Fig. 1, B and C). Vt forms a five-helix bundle, H1–H5 (Bakolitsa et al., 1999), with the actin binding site primarily residing in H3, H4, and the C terminus (Janssen et al., 2006). A helix formed by the C-terminal part of the MV insert (H1′, residues 964–979) replaces H1 in Vt to form a new, but structurally similar, five-helix bundle (Rangarajan et al., 2010). The ordered “strap” region preceding H1 in Vt is replaced by an equivalent ordered region (residues 947–963) in the MV tail domain (MVt, residues 879–1,134). The residues preceding this region in MVt, MV879–946, are largely disordered in the crystal structures. There is little difference between the head–tail interactions of MV and vinculin. Three mutations are found in the insert region that are associated with dilated and hypertrophic cardiomyopathy: Ala934Val, ΔLeu954, and Arg975Trp (Olson et al., 2002), exemplifying the functional importance of the insert region.\n",
      "F-actin organization by Vt and MVt. (A) Electron (top) and fluorescence microscopy (bottom) images show that actin filaments are organized into bundles by Vt and into short fragments by MVt. (B) Simplified representation of vinculin’s domain structure. The tail domain is held pincerlike by the head domain. (C) Simplified representation of MV. H1′ of the MV insert replaces H1 in Vt. Key residues defining the constructs (in E) are marked. (D) Differential pelleting assays confirm actin bundling by Vt (strong bands in the low-speed pellet) and shows actin filament binding of MVt (strong bands in the high-speed pellet). Molar ratio of F-actin to Vt isoform is 1:2. LSP, low-speed pellet; HSP, high-speed pellet; Sup, supernatant. Lane 1: actin + Vt; lane 2: actin + MVt; lane 3: actin. (E) Overview of MV constructs mentioned in the text. The position of the 68-residue insert is marked in yellow. Only the MVt construct starting at residue 879, which lacks the proline-rich region present in MVt-pro, is able to function as an actin-severing protein.\n",
      "The MV insert includes a region that is homologous to the actin-severing region of the gelsolin family\n",
      "The MV insert contains a 15-residue (936–950) segment that has 47% sequence identity with the actin-binding motif of gelsolin (Fig. 2 C). The sequence contains the DDY motif that is conserved in the severing members in gelsolin family proteins, and replacement of the corresponding residues by DDY in the nonsevering member CapG converts it into a severing protein (Zhang et al., 2006). In gelsolin, the actin-binding motif binds F-actin in the groove between subdomains 1 and 3 (McLaughlin et al., 1993). Marine macrolide toxins bind in the same groove and also induce severing (Klenchin et al., 2003; Allingham et al., 2005), indicating the importance of this site for severing activity. The groove of the barbed-end long-pitch actin neighbor can be easily reached by the flexible region of actin-bound MVt. These facts raise the possibility that MVt residues 936–950 might bind in this groove and induce severing by presenting the DDY motif to actin in a similar manner as gelsolin family members (Fig. 5, A–D). However, if either MVt or Vt occupies the site of a neighboring F-actin subunit, the groove would be masked and not available for binding of the MVt-severing region (Fig. 5, E and F). This scenario would provide an explanation for the concentration dependence of the MVt-severing activity: at substoichiometric concentrations, there is a much higher probability for the MVt-severing region to encounter an available actin groove.\n",
      "The C-terminal tail domain of MV contains a 68-residue insert as well as the actin binding site (Gimona et al., 1988; Janssen et al., 2006). Vt binding to actin promotes local conformational changes in Vt that, in turn, induce formation of large, highly organized actin bundles through opening a cryptic Vt dimerization site. In contrast, we show here that MVt binds, but does not bundle, actin filaments. Furthermore, MVt promotes F-actin severing, most efficiently at substoichiometric concentrations. Despite the replacement of H1 in Vt by H1′ of the MV insert, the binding to actin filaments of the two tail domains appears to be nearly identical as judged by EM reconstructions. Because H1 (or H1′) does not directly participate in actin binding, this is not surprising. In contrast, the location of the MV879–946 region preceding H1′, which is disordered in the MV crystal structure (Rangarajan et al., 2010), is near the cryptic dimerization site identified in vinculin near the C-terminal hairpin (Janssen et al., 2006). Despite the lack of detailed structural knowledge about MV879–946, its location alone provides an explanation for the lack of actin bundling in the presence of MVt: the MV879–946 region spatially occludes the cryptic dimerization sites that are normally exposed in filament-bound Vt.\n",
      "Longer MV constructs induce actin filament bundle formation and abolish severing\n",
      "Full-length vinculin, as well as full-length MV, adopts autoinhibited conformations. Vinculin activation exposes, among other sites, the sterically occluded actin-binding regions. To determine the contribution of full-length MV conformation to MVt function, we produced the MV deletion mutant MVΔ153 (Fig. 1 E). This mutant lacks the first 153 N-terminal amino acids, which would otherwise obscure the actin binding sites in the full-length autoinhibited MV. In the context of our study, MVΔ153 is an ideal model for fully activated MV because it is consecutively active to bind actin filaments. In contrast, full-length MV activation in the presence of activating agents, such as one of the talin vinculin binding site regions, might require up to a few hundredfold excess to induce observable actin filament binding. In addition, at those vinculin binding site concentrations, the background significantly interferes with image processing as a result of high background noise in the micrographs. Transmission EM shows unambiguously that MVΔ153 does not sever F-actin but organizes the filaments into bundles similar to those induced by Vt or VΔ153 (Fig. 4 B). Thus, the presence of the residues N terminal of residue 879 abolishes the severing activity of MVt and reinstates bundling activity similar to Vt.\n",
      "Determination of the isoelectric focusing points of Vt, MVt, VΔ153, and MVΔ153 shows that Vt and MVt have significantly different isoelectric points (Fig. 4 C). This difference indicates that many of the charged MV879–946 residues are exposed to the environment. In contrast, VΔ153 and MVΔ153 carry very similar isoelectric points, suggesting that the charged residues in the MV879–946 region that are exposed in MVt are almost entirely masked by the additional domains present in MVΔ153. Together with the difference in severing and bundling behavior between MVt and MVΔ153, this isoelectric point analysis suggests a possible regulation mechanism that is based on masking and unmasking of the charged residues in the MV879–946 region. Interestingly, a shorter construct (MVt-pro) that contains MVt and the proline-rich region, an additional 21 residues N terminal of MVt (Fig. 1 E), has also been reported to bundle actin filaments in a similar manner to Vt (Witt et al., 2004). This suggests that these 21 residues may be responsible for masking the acidic residues in the MV879–946 region and, thus, potentially regulate the bundling and severing activities of MVt. This is an attractive hypothesis because the proline-rich region contains binding sites for several binding partners of vinculin, including vasodilator-stimulated phosphoprotein, vinexin, and Ponsin (Zamir and Geiger, 2001), suggesting the possibility that other binding partners may be able to regulate MV’s severing activity through binding to the proline-rich region. Another attractive possibility is that the masking of the severing site in MV is sensitive to mechanical forces.\n",
      "Recently, Grashoff et al. (2010) provided direct evidence for vinculin to be intimately linked to focal adhesion mechanosensitivity. The study elegantly shows, using a genetically encoded tension sensor with piconewton sensitivity, that lower fluorescence resonance energy transfer signals (higher tension) occur in instances in which vinculin bears force in the region where the MV insert is located. MV was reported to colocalize with vinculin in vivo (Feramisco et al., 1982; Belkin et al., 1988). It is conceivable that both isoforms work together in complying with sudden changes in tension, both acting as biosensors in cellular force transduction. In this scenario, MV would carry a regulatory role in which its severing activity is activated upon demand when the tension passes some threshold. Application of force would unmask the severing activity of MV, which, in turn, could be relieved once force is diminished. The triggering/unmasking of MV’s severing capabilities would provide a very efficient way to locally remodel F-actin in regions where fast reactions to sudden increases in force are needed. Collectively, our data suggest a plausible, but unexpected, regulatory mechanism for MV in which the ability of actin-vinculin assemblies to bear and comply to force is promoted by local disassembly/remodeling of the region under tension.\n",
      "Cloning, purification, and storage of MV tail.\n",
      "Chicken MVt (residues 879–1,134) was expressed in Escherichia coli strain BL21(DE3), and purification was modified from Gimona et al. (1987) as follows: a 40% ammonium sulfate cut was followed by anion exchange chromatography (Q Sepharose HP column; GE Healthcare) and cation exchange chromatography (SP Sepharose HP column; GE Healthcare). Purified protein was dialyzed against 20 mM Tris-HCl, pH 7.5, 150 mM NaCl, and 1 mM EDTA (buffer A) and stored at −80°C until further use. cDNA constructs of full-length MV were provided by R. Liddington (Sanford–Burnham Medical Research Institute, La Jolla, CA) and the Cell Migration Consortium.\n",
      "To generate the MVΔ153 construct, chicken MV was truncated at amino acid 153 and preceded by an N-terminal His epitope for affinity chromatography. The absence of errors was confirmed by DNA sequencing. MVΔ153 was expressed in E. coli strain BL21(DE3) and purified by affinity chromatography using a Nickel-chelating column (GE Healthcare) followed by anion exchange chromatography (Q Sepharose HP column). The His tag was subsequently removed using biotinylated thrombin (EMD). The protein was stored in buffer A at −80°C until further use.\n",
      "For both subsets, the actin-MVt density was aligned with the previously determined density of actin-Vt (Janssen et al., 2006) by optimizing the correlation between the two (Volkmann and Hanein, 1999). Difference maps for both subsets between the aligned densities show only one major peak per asymmetric unit. To determine the location of the extra density in respect to MVt and actin, the atomic structure of MVt was aligned with the model of the actin-bound Vt by optimally superimposing the α carbons of the two structures. Although there are differences between the asymmetric units in the MVt crystal structure as well as between the MV and MVt crystals at the atomic level, these differences are below the detection capabilities of the resolution achieved by our EM reconstructions and are thus of little consequence for our interpretations. Sequence analysis to identify the severing motif was performed with CLUSTAL W (Thompson et al., 1994) using the human MV sequence, which is 92% identical to the chicken sequence.\n",
      "\n",
      "\n",
      "The main cause of death globally remains debilitating heart conditions, such as dilated cardiomyopathy (DCM) and hypertrophic cardiomyopathy (HCM), which are often due to mutations of specific components of adhesion complexes. Vinculin regulates these complexes and plays essential roles in intercalated discs that are necessary for muscle cell function and coordinated movement and in the development and function of the heart. Humans bearing familial or sporadic mutations in vinculin suffer from chronic, progressively debilitating DCM that ultimately leads to cardiac failure and death, whereas autosomal dominant mutations in vinculin can also provoke HCM, causing acute cardiac failure. The DCM/HCM-associated mutants of vinculin occur in the 68-residue insert unique to the muscle-specific, alternatively spliced isoform of vinculin, termed metavinculin (MV). Contrary to studies that suggested that phosphoinositol-4,5-bisphosphate (PIP2) only induces vinculin homodimers, which are asymmetric, we show that phospholipid binding results in a domain-swapped symmetric MV dimer via a quasi-equivalent interface compared with vinculin involving R975. Although one of the two PIP2 binding sites is preserved, the symmetric MV dimer that bridges two PIP2 molecules differs from the asymmetric vinculin dimer that bridges only one PIP2 Unlike vinculin, wild-type MV and the DCM/HCM-associated R975W mutant bind PIP2 in their inactive conformations, and R975W MV fails to dimerize. Mutating selective vinculin residues to their corresponding MV residues, or vice versa, switches the isoform's dimeric constellation and lipid binding site. Collectively, our data suggest that MV homodimerization modulates microfilament attachment at muscular adhesion sites and furthers our understanding of MV-mediated cardiac remodeling. \n",
      "\n"
     ]
    }
   ],
   "source": [
    "print('\\n\\n'.join(texts))"
   ]
  },
  {
   "cell_type": "code",
   "execution_count": null,
   "metadata": {},
   "outputs": [],
   "source": []
  }
 ],
 "metadata": {
  "kernelspec": {
   "display_name": "Python 3",
   "language": "python",
   "name": "python3"
  },
  "language_info": {
   "codemirror_mode": {
    "name": "ipython",
    "version": 3
   },
   "file_extension": ".py",
   "mimetype": "text/x-python",
   "name": "python",
   "nbconvert_exporter": "python",
   "pygments_lexer": "ipython3",
   "version": "3.8.4"
  }
 },
 "nbformat": 4,
 "nbformat_minor": 2
}
