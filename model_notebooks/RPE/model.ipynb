{
 "cells": [
  {
   "cell_type": "code",
   "execution_count": 1,
   "metadata": {},
   "outputs": [],
   "source": [
    "import os\n",
    "import json\n",
    "import pickle\n",
    "import random\n",
    "from collections import defaultdict, Counter\n",
    "\n",
    "from indra.literature.adeft_tools import universal_extract_text\n",
    "from indra.databases.hgnc_client import get_hgnc_name, get_hgnc_id\n",
    "\n",
    "from adeft.discover import AdeftMiner\n",
    "from adeft.gui import ground_with_gui\n",
    "from adeft.modeling.label import AdeftLabeler\n",
    "from adeft.modeling.classify import AdeftClassifier\n",
    "from adeft.disambiguate import AdeftDisambiguator\n",
    "\n",
    "\n",
    "from adeft_indra.ground.ground import AdeftGrounder\n",
    "from adeft_indra.model_building.s3 import model_to_s3\n",
    "from adeft_indra.model_building.escape import escape_filename\n",
    "from adeft_indra.db.content import get_pmids_for_agent_text, get_pmids_for_entity, \\\n",
    "    get_plaintexts_for_pmids"
   ]
  },
  {
   "cell_type": "code",
   "execution_count": 2,
   "metadata": {},
   "outputs": [],
   "source": [
    "adeft_grounder = AdeftGrounder()"
   ]
  },
  {
   "cell_type": "code",
   "execution_count": 3,
   "metadata": {},
   "outputs": [],
   "source": [
    "shortforms = ['RPE']\n",
    "model_name = ':'.join(sorted(escape_filename(shortform) for shortform in shortforms))\n",
    "results_path = os.path.abspath(os.path.join('../..', 'results', model_name))"
   ]
  },
  {
   "cell_type": "code",
   "execution_count": 25,
   "metadata": {},
   "outputs": [],
   "source": [
    "miners = dict()\n",
    "all_texts = {}\n",
    "for shortform in shortforms:\n",
    "    pmids = get_pmids_for_agent_text(shortform)\n",
    "    if len(pmids) > 10000:\n",
    "        pmids = random.choices(pmids, k=10000)\n",
    "    text_dict = get_plaintexts_for_pmids(pmids, contains=shortforms)\n",
    "    text_dict = {pmid: text for pmid, text in text_dict.items() if len(text) > 5}\n",
    "    miners[shortform] = AdeftMiner(shortform)\n",
    "    miners[shortform].process_texts(text_dict.values())\n",
    "    all_texts.update(text_dict)\n",
    "\n",
    "longform_dict = {}\n",
    "for shortform in shortforms:\n",
    "    longforms = miners[shortform].get_longforms()\n",
    "    longforms = [(longform, count, score) for longform, count, score in longforms\n",
    "                 if count*score > 1]\n",
    "    longform_dict[shortform] = longforms\n",
    "    \n",
    "combined_longforms = Counter()\n",
    "for longform_rows in longform_dict.values():\n",
    "    combined_longforms.update({longform: count for longform, count, score\n",
    "                               in longform_rows})\n",
    "grounding_map = {}\n",
    "names = {}\n",
    "for longform in combined_longforms:\n",
    "    groundings = adeft_grounder.ground(longform)\n",
    "    if groundings:\n",
    "        grounding = groundings[0]['grounding']\n",
    "        grounding_map[longform] = grounding\n",
    "        names[grounding] = groundings[0]['name']\n",
    "longforms, counts = zip(*combined_longforms.most_common())\n",
    "pos_labels = []"
   ]
  },
  {
   "cell_type": "code",
   "execution_count": 26,
   "metadata": {},
   "outputs": [
    {
     "data": {
      "text/plain": [
       "[('retinal pigment epithelium', 2490),\n",
       " ('retinal pigment epithelial', 1118),\n",
       " ('rating of perceived exertion', 152),\n",
       " ('retinal pigment epithelial cells', 108),\n",
       " ('reward prediction error', 63),\n",
       " ('retinal pigment epithelia', 18),\n",
       " ('retina pigment epithelium', 16),\n",
       " ('retinal pigment epithelium cells', 7),\n",
       " ('rapid palatal expansion', 6),\n",
       " ('related proliferative effects', 6),\n",
       " ('retina pigment epithelial', 6),\n",
       " ('retinal pigmentary epithelium', 5),\n",
       " ('rat placenta extract', 5),\n",
       " ('rice prolamin extract', 5),\n",
       " ('r phycoerythrin', 5),\n",
       " ('retinal pigment endothelial', 4),\n",
       " ('respiratory protective equipment', 3),\n",
       " ('re expansion pulmonary edema', 3),\n",
       " ('refractory partial epilepsy', 2),\n",
       " ('related packaging efficiently', 2),\n",
       " ('related predispositional effects', 2),\n",
       " ('radix puerariae extract', 2),\n",
       " ('rat pancreatic extract', 2),\n",
       " ('rat prostatic extract', 2),\n",
       " ('retinal pigment', 2),\n",
       " ('radical prostatectomy', 2),\n",
       " ('retinal pigment epithelial layer', 2),\n",
       " ('retinal pigment epithelium 1', 2),\n",
       " ('ribulose phosphate 3 epimerase', 2),\n",
       " ('positive prediction error', 2),\n",
       " ('ribulose 5 phosphate 3 epimerase', 2),\n",
       " ('rating and perceptual', 2),\n",
       " ('rating of perceived exertion scale', 2),\n",
       " ('subretinal pigment epithelium', 2)]"
      ]
     },
     "execution_count": 26,
     "metadata": {},
     "output_type": "execute_result"
    }
   ],
   "source": [
    "list(zip(longforms, counts))"
   ]
  },
  {
   "cell_type": "code",
   "execution_count": 30,
   "metadata": {},
   "outputs": [],
   "source": [
    "grounding_map, names, pos_labels = ground_with_gui(longforms, counts, \n",
    "                                                   grounding_map=grounding_map,\n",
    "                                                   names=names, pos_labels=pos_labels, no_browser=True, port=8891)"
   ]
  },
  {
   "cell_type": "code",
   "execution_count": 31,
   "metadata": {},
   "outputs": [],
   "source": [
    "result = [grounding_map, names, pos_labels]"
   ]
  },
  {
   "cell_type": "code",
   "execution_count": 32,
   "metadata": {},
   "outputs": [
    {
     "data": {
      "text/plain": [
       "[{'positive prediction error': 'ungrounded',\n",
       "  'r phycoerythrin': 'MESH:D010799',\n",
       "  'radical prostatectomy': 'ungrounded',\n",
       "  'radix puerariae extract': 'ungrounded',\n",
       "  'rapid palatal expansion': 'ungrounded',\n",
       "  'rat pancreatic extract': 'ungrounded',\n",
       "  'rat placenta extract': 'ungrounded',\n",
       "  'rat prostatic extract': 'ungrounded',\n",
       "  'rating and perceptual': 'ungrounded',\n",
       "  'rating of perceived exertion': 'NCIT:C122028',\n",
       "  'rating of perceived exertion scale': 'NCIT:C122028',\n",
       "  're expansion pulmonary edema': 'MESH:D011654',\n",
       "  'refractory partial epilepsy': 'ungrounded',\n",
       "  'related packaging efficiently': 'ungrounded',\n",
       "  'related predispositional effects': 'ungrounded',\n",
       "  'related proliferative effects': 'ungrounded',\n",
       "  'respiratory protective equipment': 'MESH:D012134',\n",
       "  'retina pigment epithelial': 'MESH:D055213',\n",
       "  'retina pigment epithelium': 'MESH:D055213',\n",
       "  'retinal pigment': 'MESH:D055213',\n",
       "  'retinal pigment endothelial': 'MESH:D055213',\n",
       "  'retinal pigment epithelia': 'MESH:D055213',\n",
       "  'retinal pigment epithelial': 'MESH:D055213',\n",
       "  'retinal pigment epithelial cells': 'MESH:D055213',\n",
       "  'retinal pigment epithelial layer': 'MESH:D055213',\n",
       "  'retinal pigment epithelium': 'MESH:D055213',\n",
       "  'retinal pigment epithelium 1': 'MESH:D055213',\n",
       "  'retinal pigment epithelium cells': 'MESH:D055213',\n",
       "  'retinal pigmentary epithelium': 'MESH:D055213',\n",
       "  'reward prediction error': 'reward_prediction_error',\n",
       "  'ribulose 5 phosphate 3 epimerase': 'HGNC:10293',\n",
       "  'ribulose phosphate 3 epimerase': 'HGNC:10293',\n",
       "  'rice prolamin extract': 'ungrounded',\n",
       "  'subretinal pigment epithelium': 'MESH:D055213'},\n",
       " {'MESH:D010799': 'Phycoerythrin',\n",
       "  'NCIT:C122028': 'Rating of Perceived Exertion',\n",
       "  'MESH:D011654': 'Pulmonary Edema',\n",
       "  'MESH:D012134': 'Respiratory Protective Devices',\n",
       "  'MESH:D055213': 'Retinal Pigment Epithelium',\n",
       "  'reward_prediction_error': 'reward_prediction_error',\n",
       "  'HGNC:10293': 'RPE'},\n",
       " ['HGNC:10293', 'MESH:D055213', 'NCIT:C122028']]"
      ]
     },
     "execution_count": 32,
     "metadata": {},
     "output_type": "execute_result"
    }
   ],
   "source": [
    "result"
   ]
  },
  {
   "cell_type": "code",
   "execution_count": 33,
   "metadata": {},
   "outputs": [],
   "source": [
    "grounding_map, names, pos_labels = [{'positive prediction error': 'ungrounded',\n",
    "  'r phycoerythrin': 'MESH:D010799',\n",
    "  'radical prostatectomy': 'ungrounded',\n",
    "  'radix puerariae extract': 'ungrounded',\n",
    "  'rapid palatal expansion': 'ungrounded',\n",
    "  'rat pancreatic extract': 'ungrounded',\n",
    "  'rat placenta extract': 'ungrounded',\n",
    "  'rat prostatic extract': 'ungrounded',\n",
    "  'rating and perceptual': 'ungrounded',\n",
    "  'rating of perceived exertion': 'NCIT:C122028',\n",
    "  'rating of perceived exertion scale': 'NCIT:C122028',\n",
    "  're expansion pulmonary edema': 'MESH:D011654',\n",
    "  'refractory partial epilepsy': 'ungrounded',\n",
    "  'related packaging efficiently': 'ungrounded',\n",
    "  'related predispositional effects': 'ungrounded',\n",
    "  'related proliferative effects': 'ungrounded',\n",
    "  'respiratory protective equipment': 'MESH:D012134',\n",
    "  'retina pigment epithelial': 'MESH:D055213',\n",
    "  'retina pigment epithelium': 'MESH:D055213',\n",
    "  'retinal pigment': 'MESH:D055213',\n",
    "  'retinal pigment endothelial': 'MESH:D055213',\n",
    "  'retinal pigment epithelia': 'MESH:D055213',\n",
    "  'retinal pigment epithelial': 'MESH:D055213',\n",
    "  'retinal pigment epithelial cells': 'MESH:D055213',\n",
    "  'retinal pigment epithelial layer': 'MESH:D055213',\n",
    "  'retinal pigment epithelium': 'MESH:D055213',\n",
    "  'retinal pigment epithelium 1': 'MESH:D055213',\n",
    "  'retinal pigment epithelium cells': 'MESH:D055213',\n",
    "  'retinal pigmentary epithelium': 'MESH:D055213',\n",
    "  'reward prediction error': 'reward_prediction_error',\n",
    "  'ribulose 5 phosphate 3 epimerase': 'HGNC:10293',\n",
    "  'ribulose phosphate 3 epimerase': 'HGNC:10293',\n",
    "  'rice prolamin extract': 'ungrounded',\n",
    "  'subretinal pigment epithelium': 'MESH:D055213'},\n",
    " {'MESH:D010799': 'Phycoerythrin',\n",
    "  'NCIT:C122028': 'Rating of Perceived Exertion',\n",
    "  'MESH:D011654': 'Pulmonary Edema',\n",
    "  'MESH:D012134': 'Respiratory Protective Devices',\n",
    "  'MESH:D055213': 'Retinal Pigment Epithelium',\n",
    "  'reward_prediction_error': 'reward_prediction_error',\n",
    "  'HGNC:10293': 'RPE'},\n",
    " ['HGNC:10293', 'MESH:D055213', 'NCIT:C122028']]"
   ]
  },
  {
   "cell_type": "code",
   "execution_count": 34,
   "metadata": {},
   "outputs": [],
   "source": [
    "excluded_longforms = []"
   ]
  },
  {
   "cell_type": "code",
   "execution_count": 35,
   "metadata": {},
   "outputs": [],
   "source": [
    "grounding_dict = {shortform: {longform: grounding_map[longform] \n",
    "                              for longform, _, _ in longforms if longform in grounding_map\n",
    "                              and longform not in excluded_longforms}\n",
    "                  for shortform, longforms in longform_dict.items()}\n",
    "result = [grounding_dict, names, pos_labels]\n",
    "\n",
    "if not os.path.exists(results_path):\n",
    "    os.mkdir(results_path)\n",
    "with open(os.path.join(results_path, f'{model_name}_preliminary_grounding_info.json'), 'w') as f:\n",
    "    json.dump(result, f)"
   ]
  },
  {
   "cell_type": "code",
   "execution_count": 36,
   "metadata": {},
   "outputs": [],
   "source": [
    "additional_entities = {'HGNC:10293': ['RPE', ['RPE', 'ribulose-5-phosphate-3-epimerase']]}"
   ]
  },
  {
   "cell_type": "code",
   "execution_count": 37,
   "metadata": {},
   "outputs": [],
   "source": [
    "unambiguous_agent_texts = {}"
   ]
  },
  {
   "cell_type": "code",
   "execution_count": 38,
   "metadata": {},
   "outputs": [],
   "source": [
    "labeler = AdeftLabeler(grounding_dict)\n",
    "corpus = labeler.build_from_texts((text, pmid) for pmid, text in all_texts.items())\n",
    "agent_text_pmid_map = defaultdict(list)\n",
    "for text, label, id_ in corpus:\n",
    "    agent_text_pmid_map[label].append(id_)\n",
    "\n",
    "entity_pmid_map = {entity: set(get_pmids_for_entity(*entity.split(':', maxsplit=1),\n",
    "                                                major_topic=True))for entity in additional_entities}"
   ]
  },
  {
   "cell_type": "code",
   "execution_count": 39,
   "metadata": {},
   "outputs": [],
   "source": [
    "intersection1 = []\n",
    "for entity1, pmids1 in entity_pmid_map.items():\n",
    "    for entity2, pmids2 in entity_pmid_map.items():\n",
    "        intersection1.append((entity1, entity2, len(pmids1 & pmids2)))"
   ]
  },
  {
   "cell_type": "code",
   "execution_count": 40,
   "metadata": {},
   "outputs": [],
   "source": [
    "intersection2 = []\n",
    "for entity1, pmids1 in agent_text_pmid_map.items():\n",
    "    for entity2, pmids2 in entity_pmid_map.items():\n",
    "        intersection2.append((entity1, entity2, len(set(pmids1) & pmids2)))"
   ]
  },
  {
   "cell_type": "code",
   "execution_count": 41,
   "metadata": {},
   "outputs": [
    {
     "data": {
      "text/plain": [
       "[('HGNC:10293', 'HGNC:10293', 26)]"
      ]
     },
     "execution_count": 41,
     "metadata": {},
     "output_type": "execute_result"
    }
   ],
   "source": [
    "intersection1"
   ]
  },
  {
   "cell_type": "code",
   "execution_count": 42,
   "metadata": {},
   "outputs": [
    {
     "data": {
      "text/plain": [
       "[('MESH:D055213', 'HGNC:10293', 0),\n",
       " ('NCIT:C122028', 'HGNC:10293', 0),\n",
       " ('MESH:D011654', 'HGNC:10293', 0),\n",
       " ('ungrounded', 'HGNC:10293', 0),\n",
       " ('MESH:D010799', 'HGNC:10293', 0),\n",
       " ('HGNC:10293', 'HGNC:10293', 0),\n",
       " ('reward_prediction_error', 'HGNC:10293', 0),\n",
       " ('MESH:D012134', 'HGNC:10293', 0)]"
      ]
     },
     "execution_count": 42,
     "metadata": {},
     "output_type": "execute_result"
    }
   ],
   "source": [
    "intersection2"
   ]
  },
  {
   "cell_type": "code",
   "execution_count": 43,
   "metadata": {},
   "outputs": [],
   "source": [
    "all_used_pmids = set()\n",
    "for entity, agent_texts in unambiguous_agent_texts.items():\n",
    "    used_pmids = set()\n",
    "    for agent_text in agent_texts[1]:\n",
    "        pmids = set(get_pmids_for_agent_text(agent_text))\n",
    "        new_pmids = list(pmids - all_texts.keys() - used_pmids)\n",
    "        text_dict = get_plaintexts_for_pmids(new_pmids, contains=agent_texts)\n",
    "        corpus.extend([(text, entity, pmid) for pmid, text in text_dict.items() if len(text) >= 5])\n",
    "        used_pmids.update(new_pmids)\n",
    "    all_used_pmids.update(used_pmids)\n",
    "        \n",
    "for entity, pmids in entity_pmid_map.items():\n",
    "    new_pmids = list(set(pmids) - all_texts.keys() - all_used_pmids)\n",
    "    if len(new_pmids) > 10000:\n",
    "        new_pmids = random.choices(new_pmids, k=10000)\n",
    "    _, contains = additional_entities[entity]\n",
    "    text_dict = get_plaintexts_for_pmids(new_pmids, contains=contains)\n",
    "    corpus.extend([(text, entity, pmid) for pmid, text in text_dict.items() if len(text) >= 5])"
   ]
  },
  {
   "cell_type": "code",
   "execution_count": 44,
   "metadata": {},
   "outputs": [],
   "source": [
    "names.update({key: value[0] for key, value in additional_entities.items()})\n",
    "names.update({key: value[0] for key, value in unambiguous_agent_texts.items()})\n",
    "pos_labels = list(set(pos_labels) | additional_entities.keys() |\n",
    "                  unambiguous_agent_texts.keys())"
   ]
  },
  {
   "cell_type": "code",
   "execution_count": 45,
   "metadata": {},
   "outputs": [
    {
     "name": "stderr",
     "output_type": "stream",
     "text": [
      "INFO: [2020-10-30 03:48:48] /adeft/PP/adeft/adeft/modeling/classify.py - Beginning grid search in parameter space:\n",
      "{'C': [100.0], 'max_features': [10000]}\n",
      "INFO: [2020-10-30 03:49:37] /adeft/PP/adeft/adeft/modeling/classify.py - Best f1 score of 0.9908412380735351 found for parameter values:\n",
      "{'logit__C': 100.0, 'tfidf__max_features': 10000}\n"
     ]
    }
   ],
   "source": [
    "%%capture\n",
    "\n",
    "classifier = AdeftClassifier(shortforms, pos_labels=pos_labels, random_state=1729)\n",
    "param_grid = {'C': [100.0], 'max_features': [10000]}\n",
    "texts, labels, pmids = zip(*corpus)\n",
    "classifier.cv(texts, labels, param_grid, cv=5, n_jobs=5)"
   ]
  },
  {
   "cell_type": "code",
   "execution_count": 46,
   "metadata": {
    "scrolled": true
   },
   "outputs": [
    {
     "data": {
      "text/plain": [
       "{'label_distribution': {'MESH:D055213': 2581,\n",
       "  'NCIT:C122028': 107,\n",
       "  'MESH:D011654': 2,\n",
       "  'ungrounded': 22,\n",
       "  'MESH:D010799': 3,\n",
       "  'HGNC:10293': 7,\n",
       "  'reward_prediction_error': 43,\n",
       "  'MESH:D012134': 2},\n",
       " 'f1': {'mean': 0.990841, 'std': 0.003162},\n",
       " 'precision': {'mean': 0.985718, 'std': 0.004371},\n",
       " 'recall': {'mean': 0.996287, 'std': 0.002038},\n",
       " 'MESH:D055213': {'f1': {'mean': 0.993459, 'std': 0.001854},\n",
       "  'pr': {'mean': 1.0, 'std': 0.0},\n",
       "  'rc': {'mean': 0.98701, 'std': 0.003656}},\n",
       " 'MESH:D010799': {'f1': {'mean': 0.0, 'std': 0.0},\n",
       "  'pr': {'mean': 0.0, 'std': 0.0},\n",
       "  'rc': {'mean': 0.0, 'std': 0.0}},\n",
       " 'reward_prediction_error': {'f1': {'mean': 0.964706, 'std': 0.028818},\n",
       "  'pr': {'mean': 0.955556, 'std': 0.054433},\n",
       "  'rc': {'mean': 0.977778, 'std': 0.044444}},\n",
       " 'MESH:D012134': {'f1': {'mean': 0.0, 'std': 0.0},\n",
       "  'pr': {'mean': 0.0, 'std': 0.0},\n",
       "  'rc': {'mean': 0.0, 'std': 0.0}},\n",
       " 'NCIT:C122028': {'f1': {'mean': 0.970642, 'std': 0.025445},\n",
       "  'pr': {'mean': 0.952814, 'std': 0.052171},\n",
       "  'rc': {'mean': 0.991304, 'std': 0.017391}},\n",
       " 'HGNC:10293': {'f1': {'mean': 0.333333, 'std': 0.421637},\n",
       "  'pr': {'mean': 0.3, 'std': 0.4},\n",
       "  'rc': {'mean': 0.4, 'std': 0.489898}},\n",
       " 'ungrounded': {'f1': {'mean': 0.213333, 'std': 0.175879},\n",
       "  'pr': {'mean': 0.13, 'std': 0.107703},\n",
       "  'rc': {'mean': 0.6, 'std': 0.489898}},\n",
       " 'MESH:D011654': {'f1': {'mean': 0.2, 'std': 0.4},\n",
       "  'pr': {'mean': 0.2, 'std': 0.4},\n",
       "  'rc': {'mean': 0.2, 'std': 0.4}}}"
      ]
     },
     "execution_count": 46,
     "metadata": {},
     "output_type": "execute_result"
    }
   ],
   "source": [
    "classifier.stats"
   ]
  },
  {
   "cell_type": "code",
   "execution_count": 47,
   "metadata": {},
   "outputs": [],
   "source": [
    "disamb = AdeftDisambiguator(classifier, grounding_dict, names)"
   ]
  },
  {
   "cell_type": "code",
   "execution_count": 48,
   "metadata": {},
   "outputs": [],
   "source": [
    "disamb.dump(model_name, results_path)"
   ]
  },
  {
   "cell_type": "code",
   "execution_count": 49,
   "metadata": {},
   "outputs": [
    {
     "name": "stdout",
     "output_type": "stream",
     "text": [
      "Disambiguation model for RPE\n",
      "\n",
      "Produces the disambiguations:\n",
      "\tPhycoerythrin\tMESH:D010799\n",
      "\tPulmonary Edema\tMESH:D011654\n",
      "\tRPE*\tHGNC:10293\n",
      "\tRating of Perceived Exertion*\tNCIT:C122028\n",
      "\tRespiratory Protective Devices\tMESH:D012134\n",
      "\tRetinal Pigment Epithelium*\tMESH:D055213\n",
      "\treward_prediction_error\treward_prediction_error\n",
      "\n",
      "Class level metrics:\n",
      "--------------------\n",
      "Grounding                     \tCount\tF1     \n",
      "    Retinal Pigment Epithelium*\t2581\t0.99346\n",
      "  Rating of Perceived Exertion*\t 107\t0.97064\n",
      "       reward_prediction_error\t  43\t0.96471\n",
      "                    Ungrounded\t  22\t0.21333\n",
      "                           RPE*\t   7\t0.33333\n",
      "                 Phycoerythrin\t   3\t    0.0\n",
      "               Pulmonary Edema\t   2\t    0.2\n",
      "Respiratory Protective Devices\t   2\t    0.0\n",
      "\n",
      "Weighted Metrics:\n",
      "-----------------\n",
      "\tF1 score:\t0.99084\n",
      "\tPrecision:\t0.98572\n",
      "\tRecall:\t\t0.99629\n",
      "\n",
      "* Positive labels\n",
      "See Docstring for explanation\n",
      "\n"
     ]
    }
   ],
   "source": [
    "print(disamb.info())"
   ]
  },
  {
   "cell_type": "code",
   "execution_count": 50,
   "metadata": {},
   "outputs": [],
   "source": [
    "model_to_s3(disamb)"
   ]
  },
  {
   "cell_type": "code",
   "execution_count": null,
   "metadata": {},
   "outputs": [],
   "source": []
  }
 ],
 "metadata": {
  "kernelspec": {
   "display_name": "Python 3",
   "language": "python",
   "name": "python3"
  },
  "language_info": {
   "codemirror_mode": {
    "name": "ipython",
    "version": 3
   },
   "file_extension": ".py",
   "mimetype": "text/x-python",
   "name": "python",
   "nbconvert_exporter": "python",
   "pygments_lexer": "ipython3",
   "version": "3.8.4"
  }
 },
 "nbformat": 4,
 "nbformat_minor": 2
}
