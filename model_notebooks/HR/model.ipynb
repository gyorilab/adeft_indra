{
 "cells": [
  {
   "cell_type": "code",
   "execution_count": 1,
   "metadata": {},
   "outputs": [],
   "source": [
    "import os\n",
    "import json\n",
    "import pickle\n",
    "import random\n",
    "from collections import defaultdict, Counter\n",
    "\n",
    "from indra.literature.adeft_tools import universal_extract_text\n",
    "from indra.databases.hgnc_client import get_hgnc_name, get_hgnc_id\n",
    "\n",
    "from adeft.discover import AdeftMiner\n",
    "from adeft.gui import ground_with_gui\n",
    "from adeft.modeling.label import AdeftLabeler\n",
    "from adeft.modeling.classify import AdeftClassifier\n",
    "from adeft.disambiguate import AdeftDisambiguator, load_disambiguator\n",
    "\n",
    "\n",
    "from adeft_indra.ground.ground import AdeftGrounder\n",
    "from adeft_indra.model_building.s3 import model_to_s3\n",
    "from adeft_indra.model_building.escape import escape_filename\n",
    "from adeft_indra.db.content import get_pmids_for_agent_text, get_pmids_for_entity, \\\n",
    "    get_plaintexts_for_pmids"
   ]
  },
  {
   "cell_type": "code",
   "execution_count": 2,
   "metadata": {},
   "outputs": [],
   "source": [
    "adeft_grounder = AdeftGrounder()"
   ]
  },
  {
   "cell_type": "code",
   "execution_count": 3,
   "metadata": {},
   "outputs": [],
   "source": [
    "shortforms = ['HR']\n",
    "model_name = ':'.join(sorted(escape_filename(shortform) for shortform in shortforms))\n",
    "results_path = os.path.abspath(os.path.join('../..', 'results', model_name))"
   ]
  },
  {
   "cell_type": "code",
   "execution_count": 4,
   "metadata": {},
   "outputs": [],
   "source": [
    "miners = dict()\n",
    "all_texts = {}\n",
    "for shortform in shortforms:\n",
    "    pmids = get_pmids_for_agent_text(shortform)\n",
    "    text_dict = get_plaintexts_for_pmids(pmids, contains=shortforms)\n",
    "    text_dict = {pmid: text for pmid, text in text_dict.items() if len(text) > 5}\n",
    "    miners[shortform] = AdeftMiner(shortform)\n",
    "    miners[shortform].process_texts(text_dict.values())\n",
    "    all_texts.update(text_dict)\n",
    "\n",
    "longform_dict = {}\n",
    "for shortform in shortforms:\n",
    "    longforms = miners[shortform].get_longforms()\n",
    "    longforms = [(longform, count, score) for longform, count, score in longforms\n",
    "                 if count*score > 2]\n",
    "    longform_dict[shortform] = longforms\n",
    "    \n",
    "combined_longforms = Counter()\n",
    "for longform_rows in longform_dict.values():\n",
    "    combined_longforms.update({longform: count for longform, count, score\n",
    "                               in longform_rows})\n",
    "grounding_map = {}\n",
    "names = {}\n",
    "for longform in combined_longforms:\n",
    "    groundings = adeft_grounder.ground(longform)\n",
    "    if groundings:\n",
    "        grounding = groundings[0]['grounding']\n",
    "        grounding_map[longform] = grounding\n",
    "        names[grounding] = groundings[0]['name']\n",
    "longforms, counts = zip(*combined_longforms.most_common())\n",
    "pos_labels = []"
   ]
  },
  {
   "cell_type": "code",
   "execution_count": 5,
   "metadata": {},
   "outputs": [
    {
     "data": {
      "text/plain": [
       "[('heart rate', 4111),\n",
       " ('homologous recombination', 3668),\n",
       " ('hazard ratio', 976),\n",
       " ('hypersensitive response', 936),\n",
       " ('hormone receptor', 149),\n",
       " ('high risk', 130),\n",
       " ('hypersensitive reaction', 93),\n",
       " ('hypoxia reoxygenation', 81),\n",
       " ('histamine release', 59),\n",
       " ('homologous recombination repair', 37),\n",
       " ('high resolution', 34),\n",
       " ('high responders', 34),\n",
       " ('hepatic resection', 26),\n",
       " ('heptad repeat', 23),\n",
       " ('hairy roots', 23),\n",
       " ('homologous repair', 21),\n",
       " ('heterotrophic respiration', 15),\n",
       " ('homologous direct repair', 15),\n",
       " ('hairless', 14),\n",
       " ('hypersensitive', 12),\n",
       " ('halorhodopsin', 12),\n",
       " ('hypersensitive cells death response', 12),\n",
       " ('hinge region', 11),\n",
       " ('high reward', 10),\n",
       " ('h + atpase rich', 10),\n",
       " ('hypophosphatemic rickets', 9),\n",
       " ('human resource', 9),\n",
       " ('hypersensitive resistance', 9),\n",
       " ('lr and high', 9),\n",
       " ('high reduced', 8),\n",
       " ('hazard risk', 6),\n",
       " ('heal rate', 6),\n",
       " ('hwangryunhaedoktang', 6),\n",
       " ('hydraulic redistribution', 5),\n",
       " ('heteroreceptor', 5),\n",
       " ('hit rate', 5),\n",
       " ('homologous dna recombination', 5),\n",
       " ('humoral rejection', 4),\n",
       " ('hormone replacement', 4),\n",
       " ('histamine receptor', 4),\n",
       " ('higher risk', 4),\n",
       " ('hindered ratio', 4),\n",
       " ('hypersensitive defense response', 4),\n",
       " ('hyper sensitivity response', 4),\n",
       " ('homologous recombination dna repair', 4),\n",
       " ('histologic remission', 3),\n",
       " ('hypothermic reconditioning', 3),\n",
       " ('heifer rebreeding', 3),\n",
       " ('high runner', 3),\n",
       " ('hypertension retinopathy', 3),\n",
       " ('hydroxyethyl rutosides', 3),\n",
       " ('homologous replacement', 3),\n",
       " ('home range', 3),\n",
       " ('homologous region', 3),\n",
       " ('helical region', 3),\n",
       " ('herbicide resistance', 3),\n",
       " ('hybrid resistance', 3),\n",
       " ('hydroxyethylrutosides', 3),\n",
       " ('heart', 3),\n",
       " ('homologue recombination', 3),\n",
       " ('hazard rate', 3),\n",
       " ('heat rate', 3),\n",
       " ('histologic response', 3),\n",
       " ('hyperpolarizing response', 3),\n",
       " ('human right violations', 3),\n",
       " ('high novelty responders', 3),\n",
       " ('homologous dsbs repair', 3),\n",
       " ('hypersensitive resistance response', 3),\n",
       " ('hairless gene', 3),\n",
       " ('hwangryunhaedok tang', 3)]"
      ]
     },
     "execution_count": 5,
     "metadata": {},
     "output_type": "execute_result"
    }
   ],
   "source": [
    "list(zip(longforms, counts))"
   ]
  },
  {
   "cell_type": "code",
   "execution_count": 6,
   "metadata": {},
   "outputs": [],
   "source": [
    "try:\n",
    "    disamb = load_disambiguator(shortforms[0])\n",
    "    for shortform, gm in disamb.grounding_dict.items():\n",
    "        for longform, grounding in gm.items():\n",
    "            grounding_map[longform] = grounding\n",
    "    for grounding, name in disamb.names.items():\n",
    "        names[grounding] = name\n",
    "    pos_labels = disamb.pos_labels\n",
    "except Exception:\n",
    "    pass"
   ]
  },
  {
   "cell_type": "code",
   "execution_count": 7,
   "metadata": {},
   "outputs": [
    {
     "data": {
      "text/plain": [
       "{'MESH:D006339': 'Heart Rate',\n",
       " 'GO:GO:0035825': 'homologous recombination',\n",
       " 'GO:GO:0000725': 'recombinational repair',\n",
       " 'MESH:D012119': 'Respiration',\n",
       " 'DOID:DOID:0060056': 'hypersensitivity reaction disease',\n",
       " 'MESH:D025602': 'Halorhodopsins',\n",
       " 'MESH:D012201': 'Reward',\n",
       " 'MESH:D063730': 'Rickets, Hypophosphatemic',\n",
       " 'MESH:D000078329': 'Workforce',\n",
       " 'MESH:D012306': 'Risk',\n",
       " 'MESH:C000626630': 'hwangryunhaedok-tang',\n",
       " 'GO:GO:0006310': 'DNA recombination',\n",
       " 'MESH:D011968': 'Receptors, Histamine',\n",
       " 'EFO:0009785': 'remission',\n",
       " 'MESH:D012164': 'Retinal Diseases',\n",
       " 'MESH:D053209': 'Herbicide Resistance',\n",
       " 'MESH:D006321': 'Heart',\n",
       " 'MESH:D011995': 'Recombination, Genetic',\n",
       " 'MESH:D005796': 'Genes',\n",
       " 'HGNC:5172': 'HR',\n",
       " 'MESH:D006967': 'Hypersensitivity',\n",
       " 'MESH:D059765': 'Homologous Recombination'}"
      ]
     },
     "execution_count": 7,
     "metadata": {},
     "output_type": "execute_result"
    }
   ],
   "source": [
    "names"
   ]
  },
  {
   "cell_type": "code",
   "execution_count": 8,
   "metadata": {},
   "outputs": [
    {
     "name": "stderr",
     "output_type": "stream",
     "text": [
      "INFO: [2020-11-10 03:12:00] indra.ontology.bio.ontology - Loading INDRA bio ontology from cache at /home/ubuntu/.indra/bio_ontology/1.4/bio_ontology.pkl\n"
     ]
    }
   ],
   "source": [
    "grounding_map, names, pos_labels = ground_with_gui(longforms, counts, \n",
    "                                                   grounding_map=grounding_map,\n",
    "                                                   names=names, pos_labels=pos_labels, no_browser=True, port=8891)"
   ]
  },
  {
   "cell_type": "code",
   "execution_count": 9,
   "metadata": {},
   "outputs": [],
   "source": [
    "result = [grounding_map, names, pos_labels]"
   ]
  },
  {
   "cell_type": "code",
   "execution_count": 10,
   "metadata": {},
   "outputs": [
    {
     "data": {
      "text/plain": [
       "[{'h + atpase rich': 'ungrounded',\n",
       "  'hairless': 'HGNC:5172',\n",
       "  'hairless gene': 'HGNC:5172',\n",
       "  'hairy roots': 'ungrounded',\n",
       "  'halorhodopsin': 'MESH:D025602',\n",
       "  'hazard rate': 'ungrounded',\n",
       "  'hazard ratio': 'ungrounded',\n",
       "  'hazard risk': 'ungrounded',\n",
       "  'heal rate': 'ungrounded',\n",
       "  'heart': 'MESH:D006321',\n",
       "  'heart rate': 'MESH:D006339',\n",
       "  'heat rate': 'ungrounded',\n",
       "  'heifer rebreeding': 'ungrounded',\n",
       "  'helical region': 'ungrounded',\n",
       "  'hepatic resection': 'ungrounded',\n",
       "  'heptad repeat': 'ungrounded',\n",
       "  'herbicide resistance': 'MESH:D053209',\n",
       "  'heteroreceptor': 'ungrounded',\n",
       "  'heterotrophic respiration': 'ungrounded',\n",
       "  'high novelty responders': 'ungrounded',\n",
       "  'high reduced': 'ungrounded',\n",
       "  'high resolution': 'ungrounded',\n",
       "  'high responders': 'ungrounded',\n",
       "  'high reward': 'ungrounded',\n",
       "  'high risk': 'ungrounded',\n",
       "  'high runner': 'ungrounded',\n",
       "  'higher risk': 'ungrounded',\n",
       "  'hindered ratio': 'ungrounded',\n",
       "  'hinge region': 'ungrounded',\n",
       "  'histamine receptor': 'FPLX:HRH',\n",
       "  'histamine release': 'GO:GO:0001821',\n",
       "  'histologic remission': 'ungrounded',\n",
       "  'histologic response': 'ungrounded',\n",
       "  'hit rate': 'ungrounded',\n",
       "  'home range': 'ungrounded',\n",
       "  'homologous direct repair': 'GO:GO:0035825',\n",
       "  'homologous dna recombination': 'GO:GO:0035825',\n",
       "  'homologous dsbs repair': 'GO:GO:0035825',\n",
       "  'homologous recombination': 'GO:GO:0035825',\n",
       "  'homologous recombination dna repair': 'GO:GO:0035825',\n",
       "  'homologous recombination repair': 'GO:GO:0035825',\n",
       "  'homologous region': 'ungrounded',\n",
       "  'homologous repair': 'GO:GO:0035825',\n",
       "  'homologous replacement': 'ungrounded',\n",
       "  'homologue recombination': 'GO:GO:0035825',\n",
       "  'hormone receptor': 'ungrounded',\n",
       "  'hormone replacement': 'ungrounded',\n",
       "  'human resource': 'ungrounded',\n",
       "  'human right violations': 'ungrounded',\n",
       "  'humoral rejection': 'ungrounded',\n",
       "  'hwangryunhaedok tang': 'MESH:C000626630',\n",
       "  'hwangryunhaedoktang': 'MESH:C000626630',\n",
       "  'hybrid resistance': 'ungrounded',\n",
       "  'hydraulic redistribution': 'ungrounded',\n",
       "  'hydroxyethyl rutosides': 'ungrounded',\n",
       "  'hydroxyethylrutosides': 'ungrounded',\n",
       "  'hyper sensitivity response': 'GO:GO:0009626',\n",
       "  'hyperpolarizing response': 'ungrounded',\n",
       "  'hypersensitive': 'GO:GO:0009626',\n",
       "  'hypersensitive cells death response': 'GO:GO:0009626',\n",
       "  'hypersensitive defense response': 'GO:GO:0009626',\n",
       "  'hypersensitive reaction': 'GO:GO:0009626',\n",
       "  'hypersensitive resistance': 'GO:GO:0009626',\n",
       "  'hypersensitive resistance response': 'GO:GO:0009626',\n",
       "  'hypersensitive response': 'GO:GO:0009626',\n",
       "  'hypertension retinopathy': 'ungrounded',\n",
       "  'hypophosphatemic rickets': 'MESH:D063730',\n",
       "  'hypothermic reconditioning': 'ungrounded',\n",
       "  'hypoxia reoxygenation': 'ungrounded',\n",
       "  'lr and high': 'ungrounded'},\n",
       " {'HGNC:5172': 'HR',\n",
       "  'MESH:D025602': 'Halorhodopsins',\n",
       "  'MESH:D006321': 'Heart',\n",
       "  'MESH:D006339': 'Heart Rate',\n",
       "  'MESH:D053209': 'Herbicide Resistance',\n",
       "  'FPLX:HRH': 'HRH',\n",
       "  'GO:GO:0001821': 'histamine secretion',\n",
       "  'GO:GO:0035825': 'homologous recombination',\n",
       "  'MESH:C000626630': 'hwangryunhaedok-tang',\n",
       "  'GO:GO:0009626': 'plant-type hypersensitive response',\n",
       "  'MESH:D063730': 'Rickets, Hypophosphatemic'},\n",
       " ['GO:GO:0001821', 'GO:GO:0009626', 'GO:GO:0035825', 'HGNC:5172']]"
      ]
     },
     "execution_count": 10,
     "metadata": {},
     "output_type": "execute_result"
    }
   ],
   "source": [
    "result"
   ]
  },
  {
   "cell_type": "code",
   "execution_count": 11,
   "metadata": {},
   "outputs": [],
   "source": [
    "grounding_map, names, pos_labels = [{'h + atpase rich': 'ungrounded',\n",
    "  'hairless': 'HGNC:5172',\n",
    "  'hairless gene': 'HGNC:5172',\n",
    "  'hairy roots': 'ungrounded',\n",
    "  'halorhodopsin': 'MESH:D025602',\n",
    "  'hazard rate': 'ungrounded',\n",
    "  'hazard ratio': 'ungrounded',\n",
    "  'hazard risk': 'ungrounded',\n",
    "  'heal rate': 'ungrounded',\n",
    "  'heart': 'MESH:D006321',\n",
    "  'heart rate': 'MESH:D006339',\n",
    "  'heat rate': 'ungrounded',\n",
    "  'heifer rebreeding': 'ungrounded',\n",
    "  'helical region': 'ungrounded',\n",
    "  'hepatic resection': 'ungrounded',\n",
    "  'heptad repeat': 'ungrounded',\n",
    "  'herbicide resistance': 'MESH:D053209',\n",
    "  'heteroreceptor': 'ungrounded',\n",
    "  'heterotrophic respiration': 'ungrounded',\n",
    "  'high novelty responders': 'ungrounded',\n",
    "  'high reduced': 'ungrounded',\n",
    "  'high resolution': 'ungrounded',\n",
    "  'high responders': 'ungrounded',\n",
    "  'high reward': 'ungrounded',\n",
    "  'high risk': 'ungrounded',\n",
    "  'high runner': 'ungrounded',\n",
    "  'higher risk': 'ungrounded',\n",
    "  'hindered ratio': 'ungrounded',\n",
    "  'hinge region': 'ungrounded',\n",
    "  'histamine receptor': 'FPLX:HRH',\n",
    "  'histamine release': 'GO:GO:0001821',\n",
    "  'histologic remission': 'ungrounded',\n",
    "  'histologic response': 'ungrounded',\n",
    "  'hit rate': 'ungrounded',\n",
    "  'home range': 'ungrounded',\n",
    "  'homologous direct repair': 'GO:GO:0035825',\n",
    "  'homologous dna recombination': 'GO:GO:0035825',\n",
    "  'homologous dsbs repair': 'GO:GO:0035825',\n",
    "  'homologous recombination': 'GO:GO:0035825',\n",
    "  'homologous recombination dna repair': 'GO:GO:0035825',\n",
    "  'homologous recombination repair': 'GO:GO:0035825',\n",
    "  'homologous region': 'ungrounded',\n",
    "  'homologous repair': 'GO:GO:0035825',\n",
    "  'homologous replacement': 'ungrounded',\n",
    "  'homologue recombination': 'GO:GO:0035825',\n",
    "  'hormone receptor': 'ungrounded',\n",
    "  'hormone replacement': 'ungrounded',\n",
    "  'human resource': 'ungrounded',\n",
    "  'human right violations': 'ungrounded',\n",
    "  'humoral rejection': 'ungrounded',\n",
    "  'hwangryunhaedok tang': 'MESH:C000626630',\n",
    "  'hwangryunhaedoktang': 'MESH:C000626630',\n",
    "  'hybrid resistance': 'ungrounded',\n",
    "  'hydraulic redistribution': 'ungrounded',\n",
    "  'hydroxyethyl rutosides': 'ungrounded',\n",
    "  'hydroxyethylrutosides': 'ungrounded',\n",
    "  'hyper sensitivity response': 'GO:GO:0009626',\n",
    "  'hyperpolarizing response': 'ungrounded',\n",
    "  'hypersensitive': 'GO:GO:0009626',\n",
    "  'hypersensitive cells death response': 'GO:GO:0009626',\n",
    "  'hypersensitive defense response': 'GO:GO:0009626',\n",
    "  'hypersensitive reaction': 'GO:GO:0009626',\n",
    "  'hypersensitive resistance': 'GO:GO:0009626',\n",
    "  'hypersensitive resistance response': 'GO:GO:0009626',\n",
    "  'hypersensitive response': 'GO:GO:0009626',\n",
    "  'hypertension retinopathy': 'ungrounded',\n",
    "  'hypophosphatemic rickets': 'MESH:D063730',\n",
    "  'hypothermic reconditioning': 'ungrounded',\n",
    "  'hypoxia reoxygenation': 'ungrounded',\n",
    "  'lr and high': 'ungrounded'},\n",
    " {'HGNC:5172': 'HR',\n",
    "  'MESH:D025602': 'Halorhodopsins',\n",
    "  'MESH:D006321': 'Heart',\n",
    "  'MESH:D006339': 'Heart Rate',\n",
    "  'MESH:D053209': 'Herbicide Resistance',\n",
    "  'FPLX:HRH': 'HRH',\n",
    "  'GO:GO:0001821': 'histamine secretion',\n",
    "  'GO:GO:0035825': 'homologous recombination',\n",
    "  'MESH:C000626630': 'hwangryunhaedok-tang',\n",
    "  'GO:GO:0009626': 'plant-type hypersensitive response',\n",
    "  'MESH:D063730': 'Rickets, Hypophosphatemic'},\n",
    " ['GO:GO:0001821', 'GO:GO:0009626', 'GO:GO:0035825', 'HGNC:5172']]\n",
    "\n"
   ]
  },
  {
   "cell_type": "code",
   "execution_count": 12,
   "metadata": {},
   "outputs": [],
   "source": [
    "excluded_longforms = []"
   ]
  },
  {
   "cell_type": "code",
   "execution_count": 13,
   "metadata": {},
   "outputs": [],
   "source": [
    "grounding_dict = {shortform: {longform: grounding_map[longform] \n",
    "                              for longform, _, _ in longforms if longform in grounding_map\n",
    "                              and longform not in excluded_longforms}\n",
    "                  for shortform, longforms in longform_dict.items()}\n",
    "result = [grounding_dict, names, pos_labels]\n",
    "\n",
    "if not os.path.exists(results_path):\n",
    "    os.mkdir(results_path)\n",
    "with open(os.path.join(results_path, f'{model_name}_preliminary_grounding_info.json'), 'w') as f:\n",
    "    json.dump(result, f)"
   ]
  },
  {
   "cell_type": "code",
   "execution_count": 14,
   "metadata": {},
   "outputs": [],
   "source": [
    "additional_entities = {}"
   ]
  },
  {
   "cell_type": "code",
   "execution_count": 15,
   "metadata": {},
   "outputs": [],
   "source": [
    "unambiguous_agent_texts = {}"
   ]
  },
  {
   "cell_type": "code",
   "execution_count": 16,
   "metadata": {},
   "outputs": [],
   "source": [
    "labeler = AdeftLabeler(grounding_dict)\n",
    "corpus = labeler.build_from_texts((text, pmid) for pmid, text in all_texts.items())\n",
    "agent_text_pmid_map = defaultdict(list)\n",
    "for text, label, id_ in corpus:\n",
    "    agent_text_pmid_map[label].append(id_)\n",
    "\n",
    "entity_pmid_map = {entity: set(get_pmids_for_entity(*entity.split(':', maxsplit=1),\n",
    "                                                major_topic=True))for entity in additional_entities}"
   ]
  },
  {
   "cell_type": "code",
   "execution_count": 18,
   "metadata": {},
   "outputs": [],
   "source": [
    "intersection1 = []\n",
    "for entity1, pmids1 in entity_pmid_map.items():\n",
    "    for entity2, pmids2 in entity_pmid_map.items():\n",
    "        intersection1.append((entity1, entity2, len(pmids1 & pmids2)))"
   ]
  },
  {
   "cell_type": "code",
   "execution_count": 19,
   "metadata": {},
   "outputs": [],
   "source": [
    "intersection2 = []\n",
    "for entity1, pmids1 in agent_text_pmid_map.items():\n",
    "    for entity2, pmids2 in entity_pmid_map.items():\n",
    "        intersection2.append((entity1, entity2, len(set(pmids1) & pmids2)))"
   ]
  },
  {
   "cell_type": "code",
   "execution_count": 20,
   "metadata": {},
   "outputs": [
    {
     "data": {
      "text/plain": [
       "[('HGNC:10967', 'HGNC:10967', 98)]"
      ]
     },
     "execution_count": 20,
     "metadata": {},
     "output_type": "execute_result"
    }
   ],
   "source": [
    "intersection1"
   ]
  },
  {
   "cell_type": "code",
   "execution_count": 21,
   "metadata": {},
   "outputs": [
    {
     "data": {
      "text/plain": [
       "[('GO:GO:0001837', 'HGNC:10967', 0),\n",
       " ('ungrounded', 'HGNC:10967', 0),\n",
       " ('HGNC:10967', 'HGNC:10967', 0),\n",
       " ('MESH:D055032', 'HGNC:10967', 0)]"
      ]
     },
     "execution_count": 21,
     "metadata": {},
     "output_type": "execute_result"
    }
   ],
   "source": [
    "intersection2"
   ]
  },
  {
   "cell_type": "code",
   "execution_count": 22,
   "metadata": {},
   "outputs": [],
   "source": [
    "all_used_pmids = set()\n",
    "for entity, agent_texts in unambiguous_agent_texts.items():\n",
    "    used_pmids = set()\n",
    "    for agent_text in agent_texts[1]:\n",
    "        pmids = set(get_pmids_for_agent_text(agent_text))\n",
    "        new_pmids = list(pmids - all_texts.keys() - used_pmids)\n",
    "        text_dict = get_plaintexts_for_pmids(new_pmids, contains=agent_texts)\n",
    "        corpus.extend([(text, entity, pmid) for pmid, text in text_dict.items() if len(text) >= 5])\n",
    "        used_pmids.update(new_pmids)\n",
    "    all_used_pmids.update(used_pmids)\n",
    "        \n",
    "for entity, pmids in entity_pmid_map.items():\n",
    "    new_pmids = list(set(pmids) - all_texts.keys() - all_used_pmids)\n",
    "    if len(new_pmids) > 10000:\n",
    "        new_pmids = random.choices(new_pmids, k=10000)\n",
    "    _, contains = additional_entities[entity]\n",
    "    text_dict = get_plaintexts_for_pmids(new_pmids, contains=contains)\n",
    "    corpus.extend([(text, entity, pmid) for pmid, text in text_dict.items() if len(text) >= 5])"
   ]
  },
  {
   "cell_type": "code",
   "execution_count": 23,
   "metadata": {},
   "outputs": [],
   "source": [
    "names.update({key: value[0] for key, value in additional_entities.items()})\n",
    "names.update({key: value[0] for key, value in unambiguous_agent_texts.items()})\n",
    "pos_labels = list(set(pos_labels) | additional_entities.keys() |\n",
    "                  unambiguous_agent_texts.keys())"
   ]
  },
  {
   "cell_type": "code",
   "execution_count": 17,
   "metadata": {},
   "outputs": [
    {
     "name": "stderr",
     "output_type": "stream",
     "text": [
      "INFO: [2020-11-10 03:35:39] /adeft/PP/adeft/adeft/modeling/classify.py - Beginning grid search in parameter space:\n",
      "{'C': [100.0], 'max_features': [10000]}\n",
      "INFO: [2020-11-10 03:38:27] /adeft/PP/adeft/adeft/modeling/classify.py - Best f1 score of 0.9885466789982431 found for parameter values:\n",
      "{'logit__C': 100.0, 'tfidf__max_features': 10000}\n"
     ]
    }
   ],
   "source": [
    "%%capture\n",
    "\n",
    "classifier = AdeftClassifier(shortforms, pos_labels=pos_labels, random_state=1729)\n",
    "param_grid = {'C': [100.0], 'max_features': [10000]}\n",
    "texts, labels, pmids = zip(*corpus)\n",
    "classifier.cv(texts, labels, param_grid, cv=5, n_jobs=5)"
   ]
  },
  {
   "cell_type": "code",
   "execution_count": 18,
   "metadata": {
    "scrolled": true
   },
   "outputs": [
    {
     "data": {
      "text/plain": [
       "{'label_distribution': {'MESH:D006339': 3126,\n",
       "  'GO:GO:0001821': 55,\n",
       "  'GO:GO:0009626': 796,\n",
       "  'ungrounded': 1234,\n",
       "  'MESH:D025602': 10,\n",
       "  'GO:GO:0035825': 2704,\n",
       "  'MESH:D053209': 2,\n",
       "  'HGNC:5172': 15,\n",
       "  'MESH:D006321': 3,\n",
       "  'MESH:D063730': 8,\n",
       "  'MESH:C000626630': 3,\n",
       "  'FPLX:HRH': 3},\n",
       " 'f1': {'mean': 0.988547, 'std': 0.001446},\n",
       " 'precision': {'mean': 0.988933, 'std': 0.002714},\n",
       " 'recall': {'mean': 0.988797, 'std': 0.003423},\n",
       " 'MESH:D053209': {'f1': {'mean': 0.0, 'std': 0.0},\n",
       "  'pr': {'mean': 0.0, 'std': 0.0},\n",
       "  'rc': {'mean': 0.0, 'std': 0.0}},\n",
       " 'GO:GO:0001821': {'f1': {'mean': 0.928778, 'std': 0.075262},\n",
       "  'pr': {'mean': 0.927273, 'std': 0.06803},\n",
       "  'rc': {'mean': 0.933333, 'std': 0.097183}},\n",
       " 'ungrounded': {'f1': {'mean': 0.935725, 'std': 0.007978},\n",
       "  'pr': {'mean': 0.932757, 'std': 0.016663},\n",
       "  'rc': {'mean': 0.938979, 'std': 0.0097}},\n",
       " 'GO:GO:0035825': {'f1': {'mean': 0.989108, 'std': 0.002555},\n",
       "  'pr': {'mean': 0.990385, 'std': 0.002957},\n",
       "  'rc': {'mean': 0.98785, 'std': 0.004387}},\n",
       " 'GO:GO:0009626': {'f1': {'mean': 0.994325, 'std': 0.005063},\n",
       "  'pr': {'mean': 0.992461, 'std': 0.009244},\n",
       "  'rc': {'mean': 0.996258, 'std': 0.004977}},\n",
       " 'MESH:D025602': {'f1': {'mean': 0.533333, 'std': 0.452155},\n",
       "  'pr': {'mean': 0.5, 'std': 0.447214},\n",
       "  'rc': {'mean': 0.6, 'std': 0.489898}},\n",
       " 'HGNC:5172': {'f1': {'mean': 0.8, 'std': 0.244949},\n",
       "  'pr': {'mean': 0.733333, 'std': 0.326599},\n",
       "  'rc': {'mean': 1.0, 'std': 0.0}},\n",
       " 'MESH:D063730': {'f1': {'mean': 0.8, 'std': 0.4},\n",
       "  'pr': {'mean': 0.8, 'std': 0.4},\n",
       "  'rc': {'mean': 0.8, 'std': 0.4}},\n",
       " 'MESH:C000626630': {'f1': {'mean': 0.0, 'std': 0.0},\n",
       "  'pr': {'mean': 0.0, 'std': 0.0},\n",
       "  'rc': {'mean': 0.0, 'std': 0.0}},\n",
       " 'MESH:D006339': {'f1': {'mean': 0.982478, 'std': 0.002772},\n",
       "  'pr': {'mean': 0.986245, 'std': 0.002169},\n",
       "  'rc': {'mean': 0.978756, 'std': 0.005084}},\n",
       " 'MESH:D006321': {'f1': {'mean': 0.0, 'std': 0.0},\n",
       "  'pr': {'mean': 0.0, 'std': 0.0},\n",
       "  'rc': {'mean': 0.0, 'std': 0.0}},\n",
       " 'FPLX:HRH': {'f1': {'mean': 0.0, 'std': 0.0},\n",
       "  'pr': {'mean': 0.0, 'std': 0.0},\n",
       "  'rc': {'mean': 0.0, 'std': 0.0}}}"
      ]
     },
     "execution_count": 18,
     "metadata": {},
     "output_type": "execute_result"
    }
   ],
   "source": [
    "classifier.stats"
   ]
  },
  {
   "cell_type": "code",
   "execution_count": 19,
   "metadata": {},
   "outputs": [],
   "source": [
    "disamb = AdeftDisambiguator(classifier, grounding_dict, names)"
   ]
  },
  {
   "cell_type": "code",
   "execution_count": 20,
   "metadata": {},
   "outputs": [],
   "source": [
    "disamb.dump(model_name, results_path)"
   ]
  },
  {
   "cell_type": "code",
   "execution_count": 21,
   "metadata": {},
   "outputs": [
    {
     "name": "stdout",
     "output_type": "stream",
     "text": [
      "Disambiguation model for HR\n",
      "\n",
      "Produces the disambiguations:\n",
      "\tHR*\tHGNC:5172\n",
      "\tHRH\tFPLX:HRH\n",
      "\tHalorhodopsins\tMESH:D025602\n",
      "\tHeart\tMESH:D006321\n",
      "\tHeart Rate\tMESH:D006339\n",
      "\tHerbicide Resistance\tMESH:D053209\n",
      "\tRickets, Hypophosphatemic\tMESH:D063730\n",
      "\thistamine secretion*\tGO:GO:0001821\n",
      "\thomologous recombination*\tGO:GO:0035825\n",
      "\thwangryunhaedok-tang\tMESH:C000626630\n",
      "\tplant-type hypersensitive response*\tGO:GO:0009626\n",
      "\n",
      "Class level metrics:\n",
      "--------------------\n",
      "Grounding                         \tCount\tF1     \n",
      "                        Heart Rate\t3126\t0.98248\n",
      "          homologous recombination*\t2704\t0.98911\n",
      "                        Ungrounded\t1234\t0.93572\n",
      "plant-type hypersensitive response*\t 796\t0.99432\n",
      "               histamine secretion*\t  55\t0.92878\n",
      "                                HR*\t  15\t    0.8\n",
      "                    Halorhodopsins\t  10\t0.53333\n",
      "         Rickets, Hypophosphatemic\t   8\t    0.8\n",
      "                             Heart\t   3\t    0.0\n",
      "              hwangryunhaedok-tang\t   3\t    0.0\n",
      "                               HRH\t   3\t    0.0\n",
      "              Herbicide Resistance\t   2\t    0.0\n",
      "\n",
      "Weighted Metrics:\n",
      "-----------------\n",
      "\tF1 score:\t0.98855\n",
      "\tPrecision:\t0.98893\n",
      "\tRecall:\t\t0.9888\n",
      "\n",
      "* Positive labels\n",
      "See Docstring for explanation\n",
      "\n"
     ]
    }
   ],
   "source": [
    "print(disamb.info())"
   ]
  },
  {
   "cell_type": "code",
   "execution_count": 22,
   "metadata": {},
   "outputs": [],
   "source": [
    "model_to_s3(disamb)"
   ]
  },
  {
   "cell_type": "code",
   "execution_count": 30,
   "metadata": {},
   "outputs": [],
   "source": [
    "preds = [disamb.disambiguate(text) for text in all_texts.values()]"
   ]
  },
  {
   "cell_type": "code",
   "execution_count": 31,
   "metadata": {},
   "outputs": [],
   "source": [
    "texts = [text for pred, text in zip(preds, all_texts.values()) if pred[0] == 'HGNC:10967']"
   ]
  },
  {
   "cell_type": "code",
   "execution_count": 36,
   "metadata": {},
   "outputs": [
    {
     "data": {
      "text/plain": [
       "'The non-neuronal monoamine transporters (OCT1, OCT2, EMT, and PMAT) play a key role in the clearance of monoamines from extracellular compartments. In a previous report we described endometrial distribution and cyclic variation of the vesicular monoamine transporter (VMAT2) mRNA and the neuronal norepinephrine transporter (NET) mRNA. In the present study we used in situ hybridization, real-time PCR and immunohistochemistry to reveal tissue distribution and cyclic variation of mRNA for the non-neuronal monoamine transporters in the human endometrium and early pregnancy decidua. We found that non-neuronal monoamine transporters are predominantly expressed in the stroma. The plasma membrane monoamine transporter (PMAT) mRNA expression peaked in the proliferative phase, whereas the extra-neuronal monoamine transporter (EMT) mRNA expression peaked in the secretory phase. The organic cation transporter 2 (OCT2) mRNA expression was exclusively detected in few scattered stromal cells and OCT1 mRNA was not detected at all. Our present results demonstrate that PMAT, EMT, and OCT2 transporters are expressed in the endometrial stroma and can potentially regulate reuptake of monoamines in general and histamine in particular. Taken together with our previous finding of VMAT2 mRNA in epithelial cells, we suggest a paracrine interaction between stromal and epithelial cells, which may modulate certain steps of the reproductive process.\\n'"
      ]
     },
     "execution_count": 36,
     "metadata": {},
     "output_type": "execute_result"
    }
   ],
   "source": [
    "texts[3]"
   ]
  },
  {
   "cell_type": "code",
   "execution_count": null,
   "metadata": {},
   "outputs": [],
   "source": []
  }
 ],
 "metadata": {
  "kernelspec": {
   "display_name": "Python 3",
   "language": "python",
   "name": "python3"
  },
  "language_info": {
   "codemirror_mode": {
    "name": "ipython",
    "version": 3
   },
   "file_extension": ".py",
   "mimetype": "text/x-python",
   "name": "python",
   "nbconvert_exporter": "python",
   "pygments_lexer": "ipython3",
   "version": "3.8.4"
  }
 },
 "nbformat": 4,
 "nbformat_minor": 2
}
