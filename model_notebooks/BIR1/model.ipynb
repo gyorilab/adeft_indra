{
 "cells": [
  {
   "cell_type": "code",
   "execution_count": 1,
   "metadata": {},
   "outputs": [],
   "source": [
    "import json\n",
    "import pickle\n",
    "\n",
    "from indra.databases.hgnc_client import get_hgnc_name\n",
    "from indra.literature.adeft_tools import universal_extract_text\n",
    "\n",
    "from indra_db.util.content_scripts import get_text_content_from_pmids\n",
    "from indra_db.util.content_scripts import get_stmts_with_agent_text_like\n",
    "from indra_db.util.content_scripts import get_text_content_from_stmt_ids\n",
    "\n",
    "from adeft.discover import AdeftMiner\n",
    "from adeft.gui import ground_with_gui\n",
    "from adeft.modeling.label import AdeftLabeler\n",
    "from adeft.modeling.classify import AdeftClassifier\n",
    "from adeft.disambiguate import AdeftDisambiguator\n",
    "\n",
    "from adeft_indra.ground import gilda_ground"
   ]
  },
  {
   "cell_type": "code",
   "execution_count": 2,
   "metadata": {},
   "outputs": [],
   "source": [
    "with open('../data/entrez_all_pmids.json', 'r') as f:\n",
    "    all_pmids = json.load(f)"
   ]
  },
  {
   "cell_type": "code",
   "execution_count": 4,
   "metadata": {},
   "outputs": [],
   "source": [
    "KCNJ6_pmids = all_pmids['KCNJ6']\n",
    "\n",
    "KCNJ6_entrez_refs, KCNJ6_entrez_content = get_text_content_from_pmids(KCNJ6_pmids)\n",
    "\n",
    "KCNJ6_entrez_texts = [universal_extract_text(text) for text in KCNJ6_entrez_content.values() if text]"
   ]
  },
  {
   "cell_type": "code",
   "execution_count": 20,
   "metadata": {},
   "outputs": [],
   "source": [
    "shortform = 'BIR1'"
   ]
  },
  {
   "cell_type": "code",
   "execution_count": 21,
   "metadata": {},
   "outputs": [],
   "source": [
    "stmts = get_stmts_with_agent_text_like(shortform)[shortform]\n",
    "\n",
    "refs, content = get_text_content_from_stmt_ids(stmts)"
   ]
  },
  {
   "cell_type": "markdown",
   "metadata": {},
   "source": [
    "It's then necessary to check if Acromine produced the correct results. We must fix errors manually"
   ]
  },
  {
   "cell_type": "code",
   "execution_count": 7,
   "metadata": {},
   "outputs": [],
   "source": [
    "overlap = set(refs.values()) & set(KCNJ6_entrez_refs.values())"
   ]
  },
  {
   "cell_type": "code",
   "execution_count": 8,
   "metadata": {},
   "outputs": [
    {
     "data": {
      "text/plain": [
       "set()"
      ]
     },
     "execution_count": 8,
     "metadata": {},
     "output_type": "execute_result"
    }
   ],
   "source": [
    "overlap"
   ]
  },
  {
   "cell_type": "code",
   "execution_count": 22,
   "metadata": {},
   "outputs": [],
   "source": [
    "shortform_texts = [universal_extract_text(text, contains=[shortform]) for ref, text in content.items()\n",
    "                   if text and ref not in overlap]"
   ]
  },
  {
   "cell_type": "code",
   "execution_count": 16,
   "metadata": {},
   "outputs": [],
   "source": [
    "miner = AdeftMiner(shortform)\n",
    "miner.process_texts(shortform_texts)"
   ]
  },
  {
   "cell_type": "code",
   "execution_count": 17,
   "metadata": {},
   "outputs": [],
   "source": [
    "top = miner.top(15)"
   ]
  },
  {
   "cell_type": "code",
   "execution_count": 23,
   "metadata": {},
   "outputs": [
    {
     "data": {
      "text/plain": [
       "84"
      ]
     },
     "execution_count": 23,
     "metadata": {},
     "output_type": "execute_result"
    }
   ],
   "source": [
    "len(shortform_texts)"
   ]
  },
  {
   "cell_type": "code",
   "execution_count": 250,
   "metadata": {},
   "outputs": [],
   "source": [
    "longforms = [lf for i, lf in enumerate(top) if i in [0, 2, 3, 5, 7, 9, 11, 12, 13, 14]]"
   ]
  },
  {
   "cell_type": "code",
   "execution_count": 251,
   "metadata": {},
   "outputs": [
    {
     "data": {
      "text/plain": [
       "[('cerebral ischemia reperfusion', 14.6),\n",
       " ('cumulative incidence of relapse', 10.5),\n",
       " ('chimeric immune receptor', 5.0),\n",
       " ('cumulative incidence of recurrence', 4.0),\n",
       " ('carbon ion radiation', 3.4000000000000004),\n",
       " ('cirrhosis', 2.0),\n",
       " ('cranial irradiation', 2.0),\n",
       " ('cave in rock', 2.0),\n",
       " ('corrected insulin response', 2.0),\n",
       " ('cerebral ischemia reperfusion injury', 2.0)]"
      ]
     },
     "execution_count": 251,
     "metadata": {},
     "output_type": "execute_result"
    }
   ],
   "source": [
    "longforms"
   ]
  },
  {
   "cell_type": "code",
   "execution_count": 252,
   "metadata": {},
   "outputs": [],
   "source": [
    "longforms, scores = zip(*longforms)"
   ]
  },
  {
   "cell_type": "code",
   "execution_count": 253,
   "metadata": {},
   "outputs": [],
   "source": [
    "grounding_map = {}\n",
    "for longform in longforms:\n",
    "    grounding = gilda_ground(longform)\n",
    "    if grounding[0]:\n",
    "        grounding_map[longform] = f'{grounding[0]}:{grounding[1]}'"
   ]
  },
  {
   "cell_type": "code",
   "execution_count": 254,
   "metadata": {},
   "outputs": [
    {
     "data": {
      "text/plain": [
       "{'cranial irradiation': 'MESH:D016371'}"
      ]
     },
     "execution_count": 254,
     "metadata": {},
     "output_type": "execute_result"
    }
   ],
   "source": [
    "grounding_map"
   ]
  },
  {
   "cell_type": "code",
   "execution_count": 255,
   "metadata": {},
   "outputs": [],
   "source": [
    "grounding_map, names, pos_labels = ground_with_gui(longforms, scores, grounding_map=grounding_map)"
   ]
  },
  {
   "cell_type": "code",
   "execution_count": 265,
   "metadata": {},
   "outputs": [],
   "source": [
    "names['HGNC:24217'] = 'CIR1'\n",
    "names['HGNC:6266'] = 'KCNJ5'\n",
    "pos_labels.extend(['HGNC:24217', 'HGNC:6266'])"
   ]
  },
  {
   "cell_type": "code",
   "execution_count": 266,
   "metadata": {},
   "outputs": [],
   "source": [
    "result = (grounding_map, names, pos_labels)"
   ]
  },
  {
   "cell_type": "code",
   "execution_count": 267,
   "metadata": {},
   "outputs": [
    {
     "data": {
      "text/plain": [
       "({'carbon ion radiation': 'ungrounded',\n",
       "  'cave in rock': 'ungrounded',\n",
       "  'cerebral ischemia reperfusion': 'MESH:D015427',\n",
       "  'cerebral ischemia reperfusion injury': 'MESH:D015427',\n",
       "  'chimeric immune receptor': 'MESH:D000076962',\n",
       "  'cirrhosis': 'MESH:D008103',\n",
       "  'corrected insulin response': 'ungrounded',\n",
       "  'cranial irradiation': 'MESH:D016371',\n",
       "  'cumulative incidence of recurrence': 'ungrounded',\n",
       "  'cumulative incidence of relapse': 'ungrounded'},\n",
       " {'MESH:D015427': 'Reperfusion Injury',\n",
       "  'MESH:D000076962': 'Receptors, Chimeric Antigen',\n",
       "  'MESH:D008103': 'Liver Cirrhosis',\n",
       "  'MESH:D016371': 'Cranial Irradiation',\n",
       "  'HGNC:24217': 'CIR1',\n",
       "  'HGNC:6266': 'KCNJ5'},\n",
       " ['MESH:D000076962',\n",
       "  'MESH:D008103',\n",
       "  'MESH:D015427',\n",
       "  'MESH:D016371',\n",
       "  'HGNC:24217',\n",
       "  'HGNC:6266'])"
      ]
     },
     "execution_count": 267,
     "metadata": {},
     "output_type": "execute_result"
    }
   ],
   "source": [
    "result"
   ]
  },
  {
   "cell_type": "code",
   "execution_count": 268,
   "metadata": {},
   "outputs": [],
   "source": [
    "grounding_map, names, pos_labels = ({'carbon ion radiation': 'ungrounded',\n",
    "                                     'cave in rock': 'ungrounded',\n",
    "                                     'cerebral ischemia reperfusion': 'MESH:D015427',\n",
    "                                      'cerebral ischemia reperfusion injury': 'MESH:D015427',\n",
    "                                      'chimeric immune receptor': 'MESH:D000076962',\n",
    "                                      'cirrhosis': 'MESH:D008103',\n",
    "                                      'corrected insulin response': 'ungrounded',\n",
    "                                      'cranial irradiation': 'MESH:D016371',\n",
    "                                      'cumulative incidence of recurrence': 'ungrounded',\n",
    "                                      'cumulative incidence of relapse': 'ungrounded'},\n",
    "                                     {'MESH:D015427': 'Reperfusion Injury',\n",
    "                                      'MESH:D000076962': 'Receptors, Chimeric Antigen',\n",
    "                                      'MESH:D008103': 'Liver Cirrhosis',\n",
    "                                      'MESH:D016371': 'Cranial Irradiation',\n",
    "                                      'HGNC:24217': 'CIR1',\n",
    "                                      'HGNC:6266': 'KCNJ5'},\n",
    "                                     ['MESH:D000076962',\n",
    "                                      'MESH:D008103',\n",
    "                                      'MESH:D015427',\n",
    "                                      'MESH:D016371',\n",
    "                                      'HGNC:24217',\n",
    "                                      'HGNC:6266'])"
   ]
  },
  {
   "cell_type": "code",
   "execution_count": 269,
   "metadata": {},
   "outputs": [],
   "source": [
    "grounding_dict = {'CIR': grounding_map}"
   ]
  },
  {
   "cell_type": "code",
   "execution_count": 270,
   "metadata": {},
   "outputs": [],
   "source": [
    "classifier = AdeftClassifier('CIR', pos_labels=pos_labels)"
   ]
  },
  {
   "cell_type": "code",
   "execution_count": 271,
   "metadata": {},
   "outputs": [],
   "source": [
    "param_grid = {'C': [10.0, 100.0], 'max_features': [100, 1000, 10000]}"
   ]
  },
  {
   "cell_type": "code",
   "execution_count": 272,
   "metadata": {},
   "outputs": [],
   "source": [
    "labeler = AdeftLabeler(grounding_dict)"
   ]
  },
  {
   "cell_type": "code",
   "execution_count": 273,
   "metadata": {},
   "outputs": [],
   "source": [
    "corpus = labeler.build_from_texts(shortform_texts)"
   ]
  },
  {
   "cell_type": "code",
   "execution_count": 274,
   "metadata": {},
   "outputs": [],
   "source": [
    "corpus.extend([(text, 'HGNC:6266') for text in KCNJ5_entrez_texts])\n",
    "corpus.extend([(text, 'HGNC:24217') for text in CIR1_entrez_texts])"
   ]
  },
  {
   "cell_type": "code",
   "execution_count": 275,
   "metadata": {},
   "outputs": [],
   "source": [
    "texts, labels = zip(*corpus)"
   ]
  },
  {
   "cell_type": "code",
   "execution_count": 276,
   "metadata": {},
   "outputs": [
    {
     "name": "stderr",
     "output_type": "stream",
     "text": [
      "INFO: [2019-12-17 13:55:25] /Users/albertsteppi/adeft/adeft/modeling/classify.py - Beginning grid search in parameter space:\n",
      "{'C': [10.0, 100.0], 'max_features': [100, 1000, 10000]}\n",
      "/Users/albertsteppi/.virtualenvs/py37/lib/python3.7/site-packages/sklearn/model_selection/_split.py:657: Warning: The least populated class in y has only 2 members, which is too few. The minimum number of members in any class cannot be less than n_splits=5.\n",
      "  % (min_groups, self.n_splits)), Warning)\n",
      "INFO: [2019-12-17 14:00:29] /Users/albertsteppi/adeft/adeft/modeling/classify.py - Best f1 score of 0.8719200376547886 found for parameter values:\n",
      "{'logit__C': 100.0, 'tfidf__max_features': 10000}\n"
     ]
    }
   ],
   "source": [
    "classifier.cv(texts, labels, param_grid, cv=5, n_jobs=8)"
   ]
  },
  {
   "cell_type": "code",
   "execution_count": 158,
   "metadata": {},
   "outputs": [
    {
     "data": {
      "text/plain": [
       "{'mean_fit_time': array([ 4.14369922, 13.86394496, 18.93544898, 17.07925839, 17.04021072,\n",
       "        19.1184999 ]),\n",
       " 'std_fit_time': array([0.11469509, 3.16742204, 0.21266206, 3.98558026, 4.00093192,\n",
       "        0.10145038]),\n",
       " 'mean_score_time': array([1.05905571, 0.92401719, 0.9861238 , 0.91746535, 0.93600969,\n",
       "        0.97546144]),\n",
       " 'std_score_time': array([0.10238048, 0.06669783, 0.07155401, 0.08566801, 0.05687187,\n",
       "        0.06643738]),\n",
       " 'param_logit__C': masked_array(data=[10.0, 10.0, 10.0, 100.0, 100.0, 100.0],\n",
       "              mask=[False, False, False, False, False, False],\n",
       "        fill_value='?',\n",
       "             dtype=object),\n",
       " 'param_tfidf__max_features': masked_array(data=[100, 1000, 10000, 100, 1000, 10000],\n",
       "              mask=[False, False, False, False, False, False],\n",
       "        fill_value='?',\n",
       "             dtype=object),\n",
       " 'params': [{'logit__C': 10.0, 'tfidf__max_features': 100},\n",
       "  {'logit__C': 10.0, 'tfidf__max_features': 1000},\n",
       "  {'logit__C': 10.0, 'tfidf__max_features': 10000},\n",
       "  {'logit__C': 100.0, 'tfidf__max_features': 100},\n",
       "  {'logit__C': 100.0, 'tfidf__max_features': 1000},\n",
       "  {'logit__C': 100.0, 'tfidf__max_features': 10000}],\n",
       " 'split0_test_f1': array([0.99619772, 1.        , 1.        , 0.99236641, 0.98850575,\n",
       "        1.        ]),\n",
       " 'split1_test_f1': array([0.9924812, 0.9924812, 0.9924812, 0.9924812, 0.9924812, 0.9924812]),\n",
       " 'split2_test_f1': array([0.99619772, 0.99619772, 0.99619772, 0.99619772, 1.        ,\n",
       "        1.        ]),\n",
       " 'split3_test_f1': array([0.99230769, 0.98859316, 0.99242424, 0.99616858, 1.        ,\n",
       "        1.        ]),\n",
       " 'split4_test_f1': array([0.98841699, 0.98850575, 0.98473282, 0.99230769, 0.99616858,\n",
       "        1.        ]),\n",
       " 'mean_test_f1': array([0.99312026, 0.99315556, 0.9931672 , 0.99390432, 0.99543111,\n",
       "        0.99849624]),\n",
       " 'std_test_f1': array([0.00290279, 0.00444954, 0.00506029, 0.00186152, 0.00444873,\n",
       "        0.00300752]),\n",
       " 'rank_test_f1': array([6, 5, 4, 3, 2, 1], dtype=int32),\n",
       " 'split0_test_pr': array([1., 1., 1., 1., 1., 1.]),\n",
       " 'split1_test_pr': array([0.98507463, 0.98507463, 0.98507463, 0.98507463, 0.98507463,\n",
       "        0.98507463]),\n",
       " 'split2_test_pr': array([0.99242424, 0.99242424, 0.99242424, 0.99242424, 1.        ,\n",
       "        1.        ]),\n",
       " 'split3_test_pr': array([1.        , 0.98484848, 0.98496241, 1.        , 1.        ,\n",
       "        1.        ]),\n",
       " 'split4_test_pr': array([1.        , 0.99230769, 0.98473282, 1.        , 1.        ,\n",
       "        1.        ]),\n",
       " 'mean_test_pr': array([0.99549977, 0.99093101, 0.98943882, 0.99549977, 0.99701493,\n",
       "        0.99701493]),\n",
       " 'std_test_pr': array([0.00598162, 0.00561544, 0.00602797, 0.00598162, 0.00597015,\n",
       "        0.00597015]),\n",
       " 'rank_test_pr': array([3, 5, 6, 3, 1, 1], dtype=int32),\n",
       " 'split0_test_rc': array([0.99242424, 1.        , 1.        , 0.98484848, 0.97727273,\n",
       "        1.        ]),\n",
       " 'split1_test_rc': array([1., 1., 1., 1., 1., 1.]),\n",
       " 'split2_test_rc': array([1., 1., 1., 1., 1., 1.]),\n",
       " 'split3_test_rc': array([0.98473282, 0.99236641, 1.        , 0.99236641, 1.        ,\n",
       "        1.        ]),\n",
       " 'split4_test_rc': array([0.97709924, 0.98473282, 0.98473282, 0.98473282, 0.99236641,\n",
       "        1.        ]),\n",
       " 'mean_test_rc': array([0.99085126, 0.99541985, 0.99694656, 0.99238954, 0.99392783,\n",
       "        1.        ]),\n",
       " 'std_test_rc': array([0.00890423, 0.00610687, 0.00610687, 0.00680193, 0.00883679,\n",
       "        0.        ]),\n",
       " 'rank_test_rc': array([6, 3, 2, 5, 4, 1], dtype=int32)}"
      ]
     },
     "execution_count": 158,
     "metadata": {},
     "output_type": "execute_result"
    }
   ],
   "source": [
    "classifier.grid_search.cv_results_"
   ]
  },
  {
   "cell_type": "code",
   "execution_count": 277,
   "metadata": {},
   "outputs": [
    {
     "data": {
      "text/plain": [
       "{'label_distribution': {'ungrounded': 21,\n",
       "  'MESH:D015427': 13,\n",
       "  'MESH:D016371': 2,\n",
       "  'MESH:D008103': 2,\n",
       "  'MESH:D000076962': 3,\n",
       "  'HGNC:6266': 93,\n",
       "  'HGNC:24217': 18},\n",
       " 'f1': {'mean': 0.8716847706728948, 'std': 0.07039172887832547},\n",
       " 'precision': {'mean': 0.8879051635798263, 'std': 0.07126047966257217},\n",
       " 'recall': {'mean': 0.8658448553501028, 'std': 0.07060311872134131}}"
      ]
     },
     "execution_count": 277,
     "metadata": {},
     "output_type": "execute_result"
    }
   ],
   "source": [
    "classifier.stats"
   ]
  },
  {
   "cell_type": "code",
   "execution_count": 278,
   "metadata": {},
   "outputs": [],
   "source": [
    "disamb = AdeftDisambiguator(classifier, grounding_dict, names)"
   ]
  },
  {
   "cell_type": "code",
   "execution_count": 279,
   "metadata": {},
   "outputs": [],
   "source": [
    "disamb.dump('CIR', '../results')"
   ]
  },
  {
   "cell_type": "code",
   "execution_count": 171,
   "metadata": {},
   "outputs": [],
   "source": [
    "from adeft.disambiguate import load_disambiguator"
   ]
  },
  {
   "cell_type": "code",
   "execution_count": 172,
   "metadata": {},
   "outputs": [],
   "source": [
    "d = load_disambiguator('EAG', '../results')"
   ]
  },
  {
   "cell_type": "code",
   "execution_count": 173,
   "metadata": {},
   "outputs": [
    {
     "data": {
      "text/plain": [
       "('ungrounded',\n",
       " None,\n",
       " {'FPLX:KCNH': 0.010634706292363183, 'ungrounded': 0.9893652937076368})"
      ]
     },
     "execution_count": 173,
     "metadata": {},
     "output_type": "execute_result"
    }
   ],
   "source": [
    "d.disambiguate(texts[0])"
   ]
  },
  {
   "cell_type": "code",
   "execution_count": 32,
   "metadata": {},
   "outputs": [],
   "source": [
    "a = load_disambiguator('AR')"
   ]
  },
  {
   "cell_type": "code",
   "execution_count": 33,
   "metadata": {},
   "outputs": [
    {
     "data": {
      "text/plain": [
       "('HGNC:644',\n",
       " 'AR',\n",
       " {'FPLX:ADRB': 4.719192246728643e-10,\n",
       "  'GO:GO:0007340': 1.3624879544267196e-09,\n",
       "  'HGNC:381': 5.2828214761836554e-12,\n",
       "  'HGNC:644': 0.9999384718638125,\n",
       "  'HGNC:651': 1.8656671170325e-12,\n",
       "  'ungrounded': 6.152629463170691e-05})"
      ]
     },
     "execution_count": 33,
     "metadata": {},
     "output_type": "execute_result"
    }
   ],
   "source": [
    "a.disambiguate('Androgen')"
   ]
  },
  {
   "cell_type": "code",
   "execution_count": 36,
   "metadata": {},
   "outputs": [],
   "source": [
    "logit = d.classifier.estimator.named_steps['logit']"
   ]
  },
  {
   "cell_type": "code",
   "execution_count": 37,
   "metadata": {},
   "outputs": [
    {
     "data": {
      "text/plain": [
       "array(['FPLX:AQP', 'FPLX:Macrophage_inflammatory_pro', 'MESH:D000072277',\n",
       "       'polymer', 'ungrounded'], dtype='<U32')"
      ]
     },
     "execution_count": 37,
     "metadata": {},
     "output_type": "execute_result"
    }
   ],
   "source": [
    "logit.classes_"
   ]
  },
  {
   "cell_type": "code",
   "execution_count": null,
   "metadata": {},
   "outputs": [],
   "source": []
  }
 ],
 "metadata": {
  "kernelspec": {
   "display_name": "Python 3",
   "language": "python",
   "name": "python3"
  },
  "language_info": {
   "codemirror_mode": {
    "name": "ipython",
    "version": 3
   },
   "file_extension": ".py",
   "mimetype": "text/x-python",
   "name": "python",
   "nbconvert_exporter": "python",
   "pygments_lexer": "ipython3",
   "version": "3.7.5"
  }
 },
 "nbformat": 4,
 "nbformat_minor": 2
}
