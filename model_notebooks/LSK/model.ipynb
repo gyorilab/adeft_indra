{
 "cells": [
  {
   "cell_type": "code",
   "execution_count": 1,
   "metadata": {},
   "outputs": [],
   "source": [
    "import os\n",
    "import json\n",
    "import pickle\n",
    "import random\n",
    "from collections import defaultdict, Counter\n",
    "\n",
    "from indra.literature.adeft_tools import universal_extract_text\n",
    "from indra.databases.hgnc_client import get_hgnc_name, get_hgnc_id\n",
    "\n",
    "from adeft.discover import AdeftMiner\n",
    "from adeft.gui import ground_with_gui\n",
    "from adeft.modeling.label import AdeftLabeler\n",
    "from adeft.modeling.classify import AdeftClassifier\n",
    "from adeft.disambiguate import AdeftDisambiguator, load_disambiguator\n",
    "\n",
    "\n",
    "from adeft_indra.ground.ground import AdeftGrounder\n",
    "from adeft_indra.model_building.s3 import model_to_s3\n",
    "from adeft_indra.model_building.escape import escape_filename\n",
    "from adeft_indra.db.content import get_pmids_for_agent_text, get_pmids_for_entity, \\\n",
    "    get_plaintexts_for_pmids"
   ]
  },
  {
   "cell_type": "code",
   "execution_count": 2,
   "metadata": {},
   "outputs": [],
   "source": [
    "adeft_grounder = AdeftGrounder()"
   ]
  },
  {
   "cell_type": "code",
   "execution_count": 3,
   "metadata": {},
   "outputs": [],
   "source": [
    "shortforms = ['LSK']\n",
    "model_name = ':'.join(sorted(escape_filename(shortform) for shortform in shortforms))\n",
    "results_path = os.path.abspath(os.path.join('../..', 'results', model_name))"
   ]
  },
  {
   "cell_type": "code",
   "execution_count": 4,
   "metadata": {},
   "outputs": [],
   "source": [
    "miners = dict()\n",
    "all_texts = {}\n",
    "for shortform in shortforms:\n",
    "    pmids = get_pmids_for_agent_text(shortform)\n",
    "    if len(pmids) > 10000:\n",
    "        pmids = random.choices(pmids, k=10000)\n",
    "    text_dict = get_plaintexts_for_pmids(pmids, contains=shortforms)\n",
    "    text_dict = {pmid: text for pmid, text in text_dict.items() if len(text) > 5}\n",
    "    miners[shortform] = AdeftMiner(shortform)\n",
    "    miners[shortform].process_texts(text_dict.values())\n",
    "    all_texts.update(text_dict)\n",
    "\n",
    "longform_dict = {}\n",
    "for shortform in shortforms:\n",
    "    longforms = miners[shortform].get_longforms()\n",
    "    longforms = [(longform, count, score) for longform, count, score in longforms\n",
    "                 if count*score > 2]\n",
    "    longform_dict[shortform] = longforms\n",
    "    \n",
    "combined_longforms = Counter()\n",
    "for longform_rows in longform_dict.values():\n",
    "    combined_longforms.update({longform: count for longform, count, score\n",
    "                               in longform_rows})\n",
    "grounding_map = {}\n",
    "names = {}\n",
    "for longform in combined_longforms:\n",
    "    groundings = adeft_grounder.ground(longform)\n",
    "    if groundings:\n",
    "        grounding = groundings[0]['grounding']\n",
    "        grounding_map[longform] = grounding\n",
    "        names[grounding] = groundings[0]['name']\n",
    "longforms, counts = zip(*combined_longforms.most_common())\n",
    "pos_labels = []"
   ]
  },
  {
   "cell_type": "code",
   "execution_count": 5,
   "metadata": {},
   "outputs": [
    {
     "data": {
      "text/plain": [
       "[('lin sca 1 + c kit +', 19),\n",
       " ('lin − sca1 + c kit +', 15),\n",
       " ('lineage sca 1 + c kit +', 9),\n",
       " ('lin − sca1 + ckit +', 9),\n",
       " ('lin − sca 1 + ckit +', 7),\n",
       " ('lowsca 1 + c kit +', 6),\n",
       " ('lin − sca 1 + kit +', 5),\n",
       " ('lin sca 1 + kit +', 4),\n",
       " ('lin − sca + ckit +', 4),\n",
       " ('sca 1 + c kit + cells', 4),\n",
       " ('lin sca1 + c kit +', 3)]"
      ]
     },
     "execution_count": 5,
     "metadata": {},
     "output_type": "execute_result"
    }
   ],
   "source": [
    "list(zip(longforms, counts))"
   ]
  },
  {
   "cell_type": "code",
   "execution_count": 10,
   "metadata": {},
   "outputs": [],
   "source": [
    "grounding_map, names, pos_labels = ground_with_gui(longforms, counts, \n",
    "                                                   grounding_map=grounding_map,\n",
    "                                                   names=names, pos_labels=pos_labels, no_browser=True, port=8891)"
   ]
  },
  {
   "cell_type": "code",
   "execution_count": 11,
   "metadata": {},
   "outputs": [],
   "source": [
    "result = [grounding_map, names, pos_labels]"
   ]
  },
  {
   "cell_type": "code",
   "execution_count": 12,
   "metadata": {},
   "outputs": [
    {
     "data": {
      "text/plain": [
       "[{'lin sca 1 + c kit +': 'CL:CL:0001025',\n",
       "  'lin sca 1 + kit +': 'CL:CL:0001025',\n",
       "  'lin sca1 + c kit +': 'CL:CL:0001025',\n",
       "  'lin − sca + ckit +': 'CL:CL:0001025',\n",
       "  'lin − sca 1 + ckit +': 'CL:CL:0001025',\n",
       "  'lin − sca 1 + kit +': 'CL:CL:0001025',\n",
       "  'lin − sca1 + c kit +': 'CL:CL:0001025',\n",
       "  'lin − sca1 + ckit +': 'CL:CL:0001025',\n",
       "  'lineage sca 1 + c kit +': 'CL:CL:0001025',\n",
       "  'lowsca 1 + c kit +': 'CL:CL:0001025',\n",
       "  'sca 1 + c kit + cells': 'CL:CL:0001025'},\n",
       " {'CL:CL:0001025': 'Kit-positive, Sca1-positive common lymphoid progenitor'},\n",
       " ['CL:CL:0001025']]"
      ]
     },
     "execution_count": 12,
     "metadata": {},
     "output_type": "execute_result"
    }
   ],
   "source": [
    "result"
   ]
  },
  {
   "cell_type": "code",
   "execution_count": 13,
   "metadata": {},
   "outputs": [],
   "source": [
    "grounding_map, names, pos_labels = [{'lin sca 1 + c kit +': 'CL:CL:0001025',\n",
    "  'lin sca 1 + kit +': 'CL:CL:0001025',\n",
    "  'lin sca1 + c kit +': 'CL:CL:0001025',\n",
    "  'lin − sca + ckit +': 'CL:CL:0001025',\n",
    "  'lin − sca 1 + ckit +': 'CL:CL:0001025',\n",
    "  'lin − sca 1 + kit +': 'CL:CL:0001025',\n",
    "  'lin − sca1 + c kit +': 'CL:CL:0001025',\n",
    "  'lin − sca1 + ckit +': 'CL:CL:0001025',\n",
    "  'lineage sca 1 + c kit +': 'CL:CL:0001025',\n",
    "  'lowsca 1 + c kit +': 'CL:CL:0001025',\n",
    "  'sca 1 + c kit + cells': 'CL:CL:0001025'},\n",
    " {'CL:CL:0001025': 'Kit-positive, Sca1-positive common lymphoid progenitor'},\n",
    " ['CL:CL:0001025']]"
   ]
  },
  {
   "cell_type": "code",
   "execution_count": 14,
   "metadata": {},
   "outputs": [],
   "source": [
    "excluded_longforms = []"
   ]
  },
  {
   "cell_type": "code",
   "execution_count": 15,
   "metadata": {},
   "outputs": [],
   "source": [
    "grounding_dict = {shortform: {longform: grounding_map[longform] \n",
    "                              for longform, _, _ in longforms if longform in grounding_map\n",
    "                              and longform not in excluded_longforms}\n",
    "                  for shortform, longforms in longform_dict.items()}\n",
    "result = [grounding_dict, names, pos_labels]\n",
    "\n",
    "if not os.path.exists(results_path):\n",
    "    os.mkdir(results_path)\n",
    "with open(os.path.join(results_path, f'{model_name}_preliminary_grounding_info.json'), 'w') as f:\n",
    "    json.dump(result, f)"
   ]
  },
  {
   "cell_type": "code",
   "execution_count": 16,
   "metadata": {},
   "outputs": [],
   "source": [
    "additional_entities = {'HGNC:6524': ['LCK', ['LCK']]}"
   ]
  },
  {
   "cell_type": "code",
   "execution_count": 17,
   "metadata": {},
   "outputs": [],
   "source": [
    "unambiguous_agent_texts = {}"
   ]
  },
  {
   "cell_type": "code",
   "execution_count": 18,
   "metadata": {},
   "outputs": [],
   "source": [
    "labeler = AdeftLabeler(grounding_dict)\n",
    "corpus = labeler.build_from_texts((text, pmid) for pmid, text in all_texts.items())\n",
    "agent_text_pmid_map = defaultdict(list)\n",
    "for text, label, id_ in corpus:\n",
    "    agent_text_pmid_map[label].append(id_)\n",
    "\n",
    "entity_pmid_map = {entity: set(get_pmids_for_entity(*entity.split(':', maxsplit=1),\n",
    "                                                major_topic=True))for entity in additional_entities}"
   ]
  },
  {
   "cell_type": "code",
   "execution_count": 19,
   "metadata": {},
   "outputs": [],
   "source": [
    "intersection1 = []\n",
    "for entity1, pmids1 in entity_pmid_map.items():\n",
    "    for entity2, pmids2 in entity_pmid_map.items():\n",
    "        intersection1.append((entity1, entity2, len(pmids1 & pmids2)))"
   ]
  },
  {
   "cell_type": "code",
   "execution_count": 20,
   "metadata": {},
   "outputs": [],
   "source": [
    "intersection2 = []\n",
    "for entity1, pmids1 in agent_text_pmid_map.items():\n",
    "    for entity2, pmids2 in entity_pmid_map.items():\n",
    "        intersection2.append((entity1, entity2, len(set(pmids1) & pmids2)))"
   ]
  },
  {
   "cell_type": "code",
   "execution_count": 21,
   "metadata": {},
   "outputs": [
    {
     "data": {
      "text/plain": [
       "[('HGNC:6524', 'HGNC:6524', 525)]"
      ]
     },
     "execution_count": 21,
     "metadata": {},
     "output_type": "execute_result"
    }
   ],
   "source": [
    "intersection1"
   ]
  },
  {
   "cell_type": "code",
   "execution_count": 22,
   "metadata": {},
   "outputs": [
    {
     "data": {
      "text/plain": [
       "[('CL:CL:0001025', 'HGNC:6524', 0)]"
      ]
     },
     "execution_count": 22,
     "metadata": {},
     "output_type": "execute_result"
    }
   ],
   "source": [
    "intersection2"
   ]
  },
  {
   "cell_type": "code",
   "execution_count": 23,
   "metadata": {},
   "outputs": [],
   "source": [
    "all_used_pmids = set()\n",
    "for entity, agent_texts in unambiguous_agent_texts.items():\n",
    "    used_pmids = set()\n",
    "    for agent_text in agent_texts[1]:\n",
    "        pmids = set(get_pmids_for_agent_text(agent_text))\n",
    "        new_pmids = list(pmids - all_texts.keys() - used_pmids)\n",
    "        text_dict = get_plaintexts_for_pmids(new_pmids, contains=agent_texts)\n",
    "        corpus.extend([(text, entity, pmid) for pmid, text in text_dict.items()])\n",
    "        used_pmids.update(new_pmids)\n",
    "    all_used_pmids.update(used_pmids)\n",
    "        \n",
    "for entity, pmids in entity_pmid_map.items():\n",
    "    new_pmids = list(set(pmids) - all_texts.keys() - all_used_pmids)\n",
    "    if len(new_pmids) > 10000:\n",
    "        new_pmids = random.choices(new_pmids, k=10000)\n",
    "    _, contains = additional_entities[entity]\n",
    "    text_dict = get_plaintexts_for_pmids(new_pmids, contains=contains)\n",
    "    corpus.extend([(text, entity, pmid) for pmid, text in text_dict.items()])"
   ]
  },
  {
   "cell_type": "code",
   "execution_count": 24,
   "metadata": {},
   "outputs": [],
   "source": [
    "names.update({key: value[0] for key, value in additional_entities.items()})\n",
    "names.update({key: value[0] for key, value in unambiguous_agent_texts.items()})\n",
    "pos_labels = list(set(pos_labels) | additional_entities.keys() |\n",
    "                  unambiguous_agent_texts.keys())"
   ]
  },
  {
   "cell_type": "code",
   "execution_count": 25,
   "metadata": {},
   "outputs": [
    {
     "name": "stderr",
     "output_type": "stream",
     "text": [
      "INFO: [2020-10-28 03:46:05] /adeft/PP/adeft/adeft/modeling/classify.py - Beginning grid search in parameter space:\n",
      "{'C': [100.0], 'max_features': [10000]}\n",
      "INFO: [2020-10-28 03:46:07] /adeft/PP/adeft/adeft/modeling/classify.py - Best f1 score of 0.9966246040503688 found for parameter values:\n",
      "{'logit__C': 100.0, 'tfidf__max_features': 10000}\n"
     ]
    }
   ],
   "source": [
    "%%capture\n",
    "\n",
    "classifier = AdeftClassifier(shortforms, pos_labels=pos_labels, random_state=1729)\n",
    "param_grid = {'C': [100.0], 'max_features': [10000]}\n",
    "texts, labels, pmids = zip(*corpus)\n",
    "classifier.cv(texts, labels, param_grid, cv=5, n_jobs=5)"
   ]
  },
  {
   "cell_type": "code",
   "execution_count": 26,
   "metadata": {
    "scrolled": true
   },
   "outputs": [
    {
     "data": {
      "text/plain": [
       "{'label_distribution': {'CL:CL:0001025': 67, 'HGNC:6524': 525},\n",
       " 'f1': {'mean': 0.996625, 'std': 0.004134},\n",
       " 'precision': {'mean': 0.996761, 'std': 0.003969},\n",
       " 'recall': {'mean': 0.996624, 'std': 0.004134},\n",
       " 'HGNC:6524': {'f1': {'mean': 0.998095, 'std': 0.002333},\n",
       "  'pr': {'mean': 0.998095, 'std': 0.00381},\n",
       "  'rc': {'mean': 0.998113, 'std': 0.003774}},\n",
       " 'CL:CL:0001025': {'f1': {'mean': 0.985185, 'std': 0.018144},\n",
       "  'pr': {'mean': 0.985714, 'std': 0.028571},\n",
       "  'rc': {'mean': 0.985714, 'std': 0.028571}}}"
      ]
     },
     "execution_count": 26,
     "metadata": {},
     "output_type": "execute_result"
    }
   ],
   "source": [
    "classifier.stats"
   ]
  },
  {
   "cell_type": "code",
   "execution_count": 27,
   "metadata": {},
   "outputs": [],
   "source": [
    "disamb = AdeftDisambiguator(classifier, grounding_dict, names)"
   ]
  },
  {
   "cell_type": "code",
   "execution_count": 28,
   "metadata": {},
   "outputs": [],
   "source": [
    "disamb.dump(model_name, results_path)"
   ]
  },
  {
   "cell_type": "code",
   "execution_count": 29,
   "metadata": {},
   "outputs": [
    {
     "name": "stdout",
     "output_type": "stream",
     "text": [
      "Disambiguation model for LSK\n",
      "\n",
      "Produces the disambiguations:\n",
      "\tKit-positive, Sca1-positive common lymphoid progenitor*\tCL:CL:0001025\n",
      "\tLCK*\tHGNC:6524\n",
      "\n",
      "Class level metrics:\n",
      "--------------------\n",
      "Grounding                                             \tCount\tF1     \n",
      "                                                   LCK*\t525\t 0.9981\n",
      "Kit-positive, Sca1-positive common lymphoid progenitor*\t 67\t0.98518\n",
      "\n",
      "Weighted Metrics:\n",
      "-----------------\n",
      "\tF1 score:\t0.99662\n",
      "\tPrecision:\t0.99676\n",
      "\tRecall:\t\t0.99662\n",
      "\n",
      "* Positive labels\n",
      "See Docstring for explanation\n",
      "\n"
     ]
    }
   ],
   "source": [
    "print(disamb.info())"
   ]
  },
  {
   "cell_type": "code",
   "execution_count": 25,
   "metadata": {},
   "outputs": [],
   "source": [
    "model_to_s3(disamb)"
   ]
  },
  {
   "cell_type": "code",
   "execution_count": 30,
   "metadata": {},
   "outputs": [],
   "source": [
    "preds = disamb.disambiguate(all_texts.values())"
   ]
  },
  {
   "cell_type": "code",
   "execution_count": 32,
   "metadata": {},
   "outputs": [],
   "source": [
    "texts = [text for text, pred in zip(all_texts.values(), preds) if pred[0] == 'HGNC:6524']"
   ]
  },
  {
   "cell_type": "code",
   "execution_count": 34,
   "metadata": {},
   "outputs": [
    {
     "name": "stdout",
     "output_type": "stream",
     "text": [
      "Gfi1 is required for adult hematopoietic stem cell (HSC) quiescence [18,19]. Deregulation of the Gfi1 target gene p21cip1/waf[20] was posited as a partial mechanism to explain the loss of HSC quiescence [18,19]. However, Gfi1−/− and p21−/− display dissimilar lineage negative, Sca1+, cKit+(LSK) numbers, with Gfi1−/− stem/progenitors in active cell cycle leading to decreasing numbers of LSK while p21−/− induces a decrease in stem/progenitor G2-M phase [18,19,21-23]. In fact, recent studies have demonstrated that HSC quiescence is a p21-independent function of p53 [24]. Notably, while deregulated p21Waf1 is not sufficient to phenocopy p53−/− or Gfi1−/− HSC effects, it is formally possible that deregulation might still be a necessary precursor to p53−/− or Gfi1−/− HSC phenotypes.\n",
      "Recently, p53 and the Ets transcription factor Mef/Elf4 have been implicated in controlling HSC maintenance, perhaps through Gfi1 (Fig 1) [24]. In the absence of Mef/Elf4, a known regulator of HSC [25], LSK display a 10-fold increase in Gfi1 mRNA [24]. Mef controls the expression of Mdm2, which regulates the stability of the tumor suppressor p53. In turn, p53 regulates multiple HSC functions including proliferation and apoptosis [26,27]. Interestingly, Mef−/− induced Gfi1 mRNA was entirely dependent upon p53, as p53−/−Mef−/− mice had the same 2.5 fold decrease in Gfi1 as p53−/− LSK [24]. In agreement with this, p53−/− HSC show a partial phenocopy of Gfi1−/− HSC: decreased LSK cells in G0, and increased proliferation of LSK. However, while Gfi1−/− LSK fail in competitive BM repopulation assays, p53−/− LSK are competitive [19,24]. This may reflect either hypomorphic levels of Gfi1 in p53−/− (as opposed to the complete absence of Gfi1 in Gfi1−/− mice) or a divorce between the previously welded concepts of Gfi1−/−HSC fitness defects and Gfi1−/−increased cell cycle. Whether p53 regulates Gfi1 outside of HSC is not known.\n",
      "\n",
      "\n",
      "Insulin-like growth factor-1 (IGF-1) has also been of particular interest in the context of thymic involution, as this hormone steadily declines with age in rodents and humans, whereas IGF-1 treatment increases thymic cellularity and T-cell output in mice, possibly due to its anti-apoptotic effects [1,2,4,5,9]. Mice lacking IGF-1 receptor (IGF-1R) on thymocytes demonstrate decreased thymic output, which can be reversed by IGF-1 infusion [10]. IGF-1 infusion increased peripheral naïve and recent thymic emigrant populations, demonstrating a direct effect on T cell production, not peripheral expansion. IGF-1 administration also increased bone marrow LSK (Lin- Sca-1+ c-Kit+) cell precursor proliferation, peripheral LSK cell populations and thymocyte populations, and proportionately expanded TEC subpopulations and enhanced their chemokine expression. These results suggest that IGF-1R expression on TECs plays an important role in facilitating the increased thymic cellularity and T cell output in response to IGF-1 administration.\n",
      "\n",
      "\n",
      "In contrast with the essential role of Notch signaling in intrathymic development, less evidence exists to suggest an involvement of Notch signaling in prethymic development in adult mice. Inactivation of Notch signaling by overexpression of a dominant negative mutant of Mastermind-like 1 (DNMAML 1) does not dramatically impair the self-renewal or lineage differentiation of HSCs in the bone marrow of adult recipient mice (71). Also, the frequencies of downstream MPPs and LMPPs remain undisturbed in the absence of Notch signaling. Furthermore, loss of Notch signaling does not prevent primitive LSK progenitors from mobilizing into the blood (45). Thus, Notch signaling seems to be largely dispensable for the development, maintenance, and mobilization of adult prethymic progenitors with T-cell potential.\n",
      "\n",
      "\n",
      "Considering Cbl’s interaction with various signaling molecules, mutant Cbl is likely to affect a multitude of downstream pathways. We discussed the constitutive activation of the Akt-PI3K pathway above [36]. Because CBL mutations are seen in a sizable fraction of JMML cases, a disease entity strongly linked to hyperactivation of the Ras-Raf-MAPK pathway [34], activity of this pathway needs to be carefully evaluated. Indeed, Erk activation of LSK (Lin−Sca-1+c-Kit+) cells in response to Flt3 ligand stimulation is prolonged in C379A mice [36], suggesting that this is another potential pathway affected by CBL mutation. Molecular basis of Cbl-mediated regulation of the MAPK pathway has been proposed previously [6]. Furthermore, mutant Cbl proteins may also influence cytoskeletal reorganization and cell motility through their interaction with the Rac1 and Cdc42 pathways [39, 40]. Comprehensive structure-function analyses using ectopic expression of mutant Cbl proteins in hematopoietic stem cells and, in the long run, from its endogenous promoter through knock-in approaches should help directly test these potential mechanisms in leukemogenesis and disease progression. Finally, aberrations of other pathways such as RUNX1, JAK2, and FLT3 are found in human patients with CBL mutations [28, 41, 42]. Therefore, modeling these additional oncogenic events in cellular and animal models should help provide a fuller picture of mutant Cbl-driven leukemogenic process.\n",
      "\n",
      "\n",
      "Figure 1 shows a block diagram of the BRI2 ASIC. In the upper left, a bandgap voltage reference (VRF) and an external resistor allow the REF block to distribute constant voltage and constant current references across the 5×5mm System on Chip (SoC). The TMP block generates a current proportional to absolute temperature that is used to sense changes in die temperature. The PWR block regulates on-chip power supplies, while the RCV and XMT blocks communicate with the external controller using frequency-shift-keying (FSK) and load-shift-keying (LSK), respectively. A synthesized digital control logic block interfaces between the RCV and XMT blocks and the array of electrode drivers (DRV), as well as the on-chip analog test multiplexors (ATST) that feed dual ADC’s, and the electrode voltage monitor (DRVMON) that checks for charge buildup on electrodes. An on-chip memory (MEM) captures the output of the dual ADC’s or any of a wide range of other on-chip digital signals, with a configurable sample rate and start time.\n",
      "Figure 6 shows the voltages on the secondary coil, VDDH and VSS supplies during power-up of the BRI2 ASIC. The high frequency AC is occasionally attenuated at the ASIC to transmit data back to the external controller using load-shift-keying (LSK). Somewhat counter-intuitively, LSK that attenuates the secondary coil voltage resulted in a larger signal at the primary coil (in the external glasses), as less power is drawn from the coupled resonant system. Different attenuation strengths are shown, which allow for optimization of data and power transmission. In addition, the power supplies can be seen to be charging up from +/−4V on the left to +/−4.2V on the right, as power is drawn from the secondary coil via the Schottky diodes.\n",
      "We have designed and extensively bench-tested a highly configurable, high-density neuro-stimulator ASIC in both wired and wireless configurations. This >256 channel device is appropriate for chronic implantation with our proven, minimally-invasive sub-retinal surgical implantation techniques, and its sophisticated LSK reverse telemetry features will enable optimization of stimuli for each patient. Extensive safety features have been implemented in this chip; driving software, GUI development, and image processing algorithms for the external system are under development, as we prepare for pilot human trials of our retinal prosthesis.\n",
      "\n",
      "\n",
      "Cells were stained and analyzed on either a FACSCalibur II or LSR II (Becton Dickinson, San Jose, CA). The following anti-mouse antibodies were used for flow cytometry analysis: B220-PE, CD3e-FITC, CD11b-APC, Gr-1-APC-Cy7, CD48-Pacific Blue, CD150-PE-Cy7, CD34, c-Kit-APC, Sca-1-PE, FcγR-PE, CD45.1-Brilliant Violet 570, and CD45.2-Alexa Fluor 700 (all from eBiosciences, San Diego, CA). Cell sorting was performed using a FACS Aria (Becton Dickinson, San Jose, CA). Antibodies for Annexin V and Ki-67 assays were used as per manufacturer’s protocol (Becton Dickinson, San Jose, CA). Gating strategy for HSPC fractions are as follows: (1) LSK: LineageNegCkit+Sca1+; (2) CMP: LineageNegCkit+Sca1Neg CD34+FcγRIIIlow; (3) GMP: LineageNegCkit+Sca1Neg CD34+FcγRIIIhigh; (4) MEP: LineageNegCkit+Sca1Neg CD34NegFcγRIIINeg; (5) CLP: LineageNeg IL7RαhighCkit+Sca1low; ProB Frac A: B220lowCD43HighBP1NegHSANeg; ProB Frac B: B220lowCD43HighBP1NegHSAPos; ProB Frac C: B220lowCD43HighBP1HighHSAPos; ProB Frac D: B220HighCD43NegIgMNeg; ProB Frac E: B220HighCD43NegIgMMid; ProB Frac F: B220High++CD43NegIgMHigh/Mid.\n",
      "Bar graphs with representative flow cytometry plots in two week old littermates (a) show significant loss of LSK and LKS CD34+ cells, though the most immature long-term HSC population (LKS CD34+CD48–CD150+ HSC) is relatively preserved. (b) Examination of CMP, GMP, MEP, and CLP progenitor fractions demonstrated significant decreases in CMP and CLP populations. (c) Amongst the Pre/Pro B cell progenitors the decrement is most prominent in the early Fractions A through C. (n = 3–8 per genotype; mean +/− SEM; *: P<.05, **: P<.001, ***: P<.0001). See methods for gating strategy of stem and progenitor cell compartments.\n",
      "Loss of Tle4 appears to significantly impair LSK differentiation into granulocyte, monocyte, macrophage progenitors and LSK self-renewal, at least in part due to increased cellular apoptosis. The finding of preserved numbers of long term stem cells as marked by CD34+ LSK CD48− CD150+ in two week old Tle4 knockout mice, despite decreases in more mature lineages, further studies are need to understand the mechanisms of this preservation.\n",
      "\n",
      "\n",
      "Since Orai1-ANSGA is open without STIM1, this indicates that the Orai1 M1-ext terminus is required for maintaining channel integrity as opposed to functioning as the locus for STIM1-induced channel gating. We also examined certain well-defined Orai1 pore-lining M1-helix mutations on Orai1-ANSGA function, including E106A, R91W, K87A and R83A. All these pore mutations completely prevented Orai1-ANSGA function (Fig. 6e) exactly as they prevent STIM1-induced WT Orai1 channel function2, further establishing the authenticity of the Orai1-ANSGA constitutively gated channel. We then focused on three residues (L81, S82 and K85) oriented outward from the M1-ext helix (Fig. 6a) and recently reported as the N-terminal binding site required for STIM1 mediating Orai1 channel gating12. Remarkably, the triple ‘LSK' mutant (L81E–S82A–K85E) entirely prevented function of the Orai1-ANSGA mutant, as also did the double mutant L81A–S82A (Fig. 6f). Even the single-point mutations, L81A and K85E, completely prevented Orai1-ANSGA channel function. Indeed, the single L81A mutation in Orai1-WT completely blocked channel function without altering STIM1-Orai1 association or FRET (Supplementary Fig. 7). Importantly, the M1-ext LSK mutant does not simply corrupt channel function per se. Thus, neither the LSK mutation nor the Orai1-ΔN85 truncation (devoid of almost the entire M1-ext) blocked constitutive function of the V102C open-pore construct25 (Fig. 6g), in complete contrast to the total block of Orai1-ANSGA function (Fig. 6h). Hence, the M1-ext plays no role in the constitutively open Orai1-V102C channel, underscoring its distinction from both the Orai1-ANSGA and STIM1-activated Orai1 channels which are both equivalent.\n",
      "\n",
      "\n",
      "Pedestrian detection in thermal infrared images poses unique challenges because of the low resolution and noisy nature of the image. Here, we propose a mid-level attribute in the form of the multidimensional template, or tensor, using local steering kernel (LSK) as low-level descriptors for detecting pedestrians in far infrared images. LSK is specifically designed to deal with intrinsic image noise and pixel level uncertainty by capturing local image geometry succinctly instead of collecting local orientation statistics (e.g., histograms in histogram of oriented gradients). In order to learn the LSK tensor, we introduce a new image similarity kernel following the popular maximum margin framework of support vector machines facilitating a relatively short and simple training phase for building a rigid pedestrian detector. Tensor representation has several advantages, and indeed, LSK templates allow exact acceleration of the sluggish but de facto sliding window-based detection methodology with multichannel discrete Fourier transform, facilitating very fast and efficient pedestrian localization. The experimental studies on publicly available thermal infrared images justify our proposals and model assumptions. In addition, the proposed work also involves the release of our in-house annotations of pedestrians in more than 17 000 frames of OSU color thermal database for the purpose of sharing with the research community.\n",
      "\n",
      "\n",
      "Twenty-six patients undergoing HGS (reduction group A, 13; in-situ group B, 13) were clinically evaluated using the Oswestry Disability Index (ODI), short form-12 (SF-12), and Visual Analogue Scale (VAS) scores. Spinopelvic parameters, including pelvic incidence, pelvic tilt (PT), sacral slope (SS), lumbar lordosis (LL), lumbosacral kyphosis (LSK) angle, and sacrofemoral distance (SFD) were measured preoperatively from S1 and postoperatively from L5 as the new sacrum at 1 year follow-up. Sagittal alignment was assessed using the sagittal vertical axis.\n",
      "Both groups were comparable in terms of age, sex, severity of slip, and preoperative spinopelvic parameters (p>0.05). Postoperative VAS, SF-12, and ODI scores significantly improved in both groups (p<0.05). Compared with preoperative values, the mean postoperative PT, SFD, and LSK significantly changed in both groups. In reduction group, PT changed from 26.98° to 10.78°, SFD from 61.24 to 33.56 mm, and LSK from 74.76° to 109.61° (p<0.05). In in-situ fusion group PT changed from 26.78° to 11.08°, SFD from 62.9 to 36.99 mm, and LSK from 67.23° to 113.38° (p<0.05 for all). In both groups, SS and LL did not change significantly (p>0.05).\n",
      "All patients were assessed using standard standing whole spine radiographs. After digitalization of the film and transfer to the picture archiving and communications system server, radiographic measurements were performed using VEPRO software (ver.7.2;VEPROGmbH, Pfungstadt, Germany). The following radiographic parameters were studied: pelvic incidence (PI), pelvic tilt (PT), sacral slope (SS), lumbar lordosis (LL), sacrofemoral distance (SFD), and lumbosacral kyphosis (LSK). Standard definition for each pelvic parameter was used for calculation [1216] (Fig. 2). Dubousset's lumbosacral angle (LSA) was used to measure LSK. Sagittal alignment was assessed using the sagittal vertical axis (SVA). SVA was drawn vertically downward from the C7. The line passing anterior to the posterior superior corner of the S1 was given a positive value and that passing posterior to the posterior superior corner of the S1 was given a negative value.\n",
      "Parameters were calculated from the S1 as the top of the sacrum preoperatively in both groups. Preoperative PI, PT, SS, LL, LSK, and SFD for both groups were analyzed to assess if the groups were comparable (Fig. 2). Patients were also assessed using the Spine Deformity Study Group criteria for balanced and unbalanced pelvis [17]. Patients with high PT and low SS were considered to have unbalanced pelvis and those with low PT and high SS were considered to have balanced pelvis (Fig. 3) with both groups having a comparable distribution of balanced and unbalanced pelvis cases.\n",
      "After lumbosacral fusion, the L5 becomes a part of the sacrum. Hence, for postoperative radiological assessment, we calculated pelvic parameters using the L5 superior endplate as the new sacrum and a comparative analysis was performed for both groups (Fig. 2). LL was calculated from the superior endplate of the L1 to the inferior endplate of the L4 postoperatively, considering that the L5 was a part of the pelvis. LSK was preoperatively calculated with lines drawn along the L5 superior endplate and posterior sacral margin. Postoperatively, it was measured with lines drawn along the L4 superior endplate and posterior sacral margin.\n",
      "For both groups, mean preoperative values for PI, PT, SS, LL, LSK, and SFD were comparable (p>0.05), there were significant changes in PT, SFD, and LSK postoperatively in both groups. There were changes noted in SS and LL in both groups, but were insignificant. The radiological pelvic parameter changes for both groups are illustrated in Table 3.\n",
      "Mean preoperative LSK was 71° (range, 35.1°–154.7°) overall with mean of the in-situ group being 67.23° and mean of reduction group being 74.6°. The mean in each group was comparable (p>0.05). Postoperatively, when LSK was measured with the L5 as the top of the sacrum, LSK significantly improved in both groups. The mean LSK changed from 67.23° to 113.38° (p=0.0002) in-situ group and from 74.6° to 109.61° (p=0.01) for reduction group.\n",
      "Postoperative spinopelvic parameters measured from the L5 between groups A and B were compared. Both groups showed a comparable reduction in PT and SFD with no significant difference (p>0.05 for both). Dubousset's LSA increased in both groups, implying a reduction in LSK in both groups with no significant difference (p>0.05) (Table 3).\n",
      "Surgical management of HGS is controversial [1]. While anatomical reduction and fusion has been considered to be biomechanically advantageous, in-situ fusion has provided equivalent clinical outcomes in several studies [23456789]. It remains unclear how diametrically opposite treatment methodologies are effective. Spinopelvic parameters have gained credence recently in evaluating and planning management strategies for patients with HGS [101112]. In our study, we observed that in-situ fusion and reduction techniques provide similar clinical outcomes. We also noted that spinopelvic parameters showed significant postoperative improvements when the L5 was considered the new sacrum, as it becomes part of the pelvis after fusion (Fig. 1). In our study, both groups were comparable for age, sex, grade of slip, and preoperative spinopelvic parameters. In both groups, considering the L5 as a part of the sacrum, a favorable change was noted in spinopelvic parameters of LSK, PT, and SFD following fusion. The decrease in PT, SFD, and LKS were observed to be closer to normal values described in the literature [12]. These findings provided an explanation based on spinopelvic parameters that in-situ fusion patients have comparable clinical and functional outcomes to those with severe spondylolisthesis undergoing reduction and fusion. In the case of a naturally occurring sacralized L5, pelvic parameters are measured from the L5. Similarly following L5–S1 fusion, the L5 becomes a part of the sacrum, and the L5 was used for measuring spinopelvic parameters after fusion.\n",
      "The Spine Deformity Study Group has formulated a classification for HGS to plan treatment strategies [1117]. HGS is classified into two subgroups: balanced and unbalanced/retroverted pelvis. As per their analysis, they recommended reduction and fusion only for patients with unbalanced pelvis. Here, we noted that three pelvic parameters significantly changed in both groups: PT, LSK, and SFD. The most significant change was noted in PT, with a >50% decrease in the angle for both groups. PT is reduced as the superior endplate of the L5, which is closer to the femoral axis and subtends a smaller angle at the femoral head. Thus, PT is reduced and pelvic retroversion is corrected (Fig. 2). The reduction in pelvic retroversion or PT is the key to improvement of the sagittal spinopelvic balance [111720]. This correction occurs even with in-situ fusion when considering the L5 as the top of the new pelvis following fusion; consequently, in-situ fusion also provides satisfactory clinical results.\n",
      "LSK is an important study parameter because it actually measures the L5 slope. While the anterior translation or slip of the L5 contributes little to the sagittal balance, the L5 slope could adversely affect it. Hence, normalization of the L5 tilt, and not the L5 slip, restores sagittal balance [17]. Considering LSK, which is now calculated between the posterior aspect of L5 and the L4 superior endplate, it shows an increase in the angle trending toward normalization of the spinopelvic parameters.. LSK was increased and the L5 slope was restored even in the presence of persisting slip in group B. This improvement in the L5 slope possibly improves the overall sagittal profile and results in good functional outcomes.\n",
      "SFD, when measured from the posterior edge of the L5 to the femoral axis, resulted in a reduced distance compared with when it was measured from the S1. All these changes contributed to the new pelvis being more anteverted and balanced. These points offered a plausible explanation for the clinical improvement noted in each group and can be attributed to the normalization of these three pelvic parameters of LSK, SFD, and PT. The improvement in these measurements, which are comparable in both groups, may explain the equally good results seen in both groups.\n",
      "Our hypothesis demonstrated that spinopelvic parameters favorably change when the L5 is considered the new sacrum following fusion in HGS, possibly explaining why reduction and in-situ fusion achieve satisfactory results. This questions the need for risky reduction procedures to establish normal pelvic parameters. Improvement in PT, SFD, and LSK when considering the L5 as the new sacrum correlates with good clinical and functional outcomes for both strategies.\n",
      "\n",
      "\n",
      "LSK cells (Lin− Sca-1+ cKit+) are a subset of MNC isolated from peripheral blood that have a marked vessels regeneration and repair ability. LAV-BPIFB4 promotes LSK cell homing and ability to rescue blood flow in mouse compromised ischemic limbs, through a revascularization process that significantly increases both capillary and arteriole density. The capability of LAV-BPIFB4 to enhance pro-angiogenesis makes this protein a candidate as a powerful therapeutic tool for limb-ischemia in different conditions, including diabetes.\n",
      "\n"
     ]
    }
   ],
   "source": [
    "print('\\n\\n'.join(texts))"
   ]
  },
  {
   "cell_type": "code",
   "execution_count": null,
   "metadata": {},
   "outputs": [],
   "source": []
  }
 ],
 "metadata": {
  "kernelspec": {
   "display_name": "Python 3",
   "language": "python",
   "name": "python3"
  },
  "language_info": {
   "codemirror_mode": {
    "name": "ipython",
    "version": 3
   },
   "file_extension": ".py",
   "mimetype": "text/x-python",
   "name": "python",
   "nbconvert_exporter": "python",
   "pygments_lexer": "ipython3",
   "version": "3.8.4"
  }
 },
 "nbformat": 4,
 "nbformat_minor": 2
}
