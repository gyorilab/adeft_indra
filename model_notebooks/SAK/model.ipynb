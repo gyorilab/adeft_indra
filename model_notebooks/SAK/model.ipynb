{
 "cells": [
  {
   "cell_type": "code",
   "execution_count": 1,
   "metadata": {},
   "outputs": [],
   "source": [
    "import os\n",
    "import json\n",
    "import pickle\n",
    "import random\n",
    "from collections import defaultdict, Counter\n",
    "\n",
    "from indra.literature.adeft_tools import universal_extract_text\n",
    "from indra.databases.hgnc_client import get_hgnc_name, get_hgnc_id\n",
    "\n",
    "from adeft.discover import AdeftMiner\n",
    "from adeft.gui import ground_with_gui\n",
    "from adeft.modeling.label import AdeftLabeler\n",
    "from adeft.modeling.classify import AdeftClassifier\n",
    "from adeft.disambiguate import AdeftDisambiguator, load_disambiguator\n",
    "\n",
    "\n",
    "from adeft_indra.ground.ground import AdeftGrounder\n",
    "from adeft_indra.model_building.s3 import model_to_s3\n",
    "from adeft_indra.model_building.escape import escape_filename\n",
    "from adeft_indra.db.content import get_pmids_for_agent_text, get_pmids_for_entity, \\\n",
    "    get_plaintexts_for_pmids"
   ]
  },
  {
   "cell_type": "code",
   "execution_count": 2,
   "metadata": {},
   "outputs": [],
   "source": [
    "adeft_grounder = AdeftGrounder()"
   ]
  },
  {
   "cell_type": "code",
   "execution_count": 3,
   "metadata": {},
   "outputs": [],
   "source": [
    "shortforms = ['SAK']\n",
    "model_name = ':'.join(sorted(escape_filename(shortform) for shortform in shortforms))\n",
    "results_path = os.path.abspath(os.path.join('../..', 'results', model_name))"
   ]
  },
  {
   "cell_type": "code",
   "execution_count": 4,
   "metadata": {},
   "outputs": [],
   "source": [
    "miners = dict()\n",
    "all_texts = {}\n",
    "for shortform in shortforms:\n",
    "    pmids = get_pmids_for_agent_text(shortform)\n",
    "    if len(pmids) > 10000:\n",
    "        pmids = random.choices(pmids, k=10000)\n",
    "    text_dict = get_plaintexts_for_pmids(pmids, contains=shortforms)\n",
    "    text_dict = {pmid: text for pmid, text in text_dict.items() if len(text) > 5}\n",
    "    miners[shortform] = AdeftMiner(shortform)\n",
    "    miners[shortform].process_texts(text_dict.values())\n",
    "    all_texts.update(text_dict)\n",
    "\n",
    "longform_dict = {}\n",
    "for shortform in shortforms:\n",
    "    longforms = miners[shortform].get_longforms()\n",
    "    longforms = [(longform, count, score) for longform, count, score in longforms\n",
    "                 if count*score > 2]\n",
    "    longform_dict[shortform] = longforms\n",
    "    \n",
    "combined_longforms = Counter()\n",
    "for longform_rows in longform_dict.values():\n",
    "    combined_longforms.update({longform: count for longform, count, score\n",
    "                               in longform_rows})\n",
    "grounding_map = {}\n",
    "names = {}\n",
    "for longform in combined_longforms:\n",
    "    groundings = adeft_grounder.ground(longform)\n",
    "    if groundings:\n",
    "        grounding = groundings[0]['grounding']\n",
    "        grounding_map[longform] = grounding\n",
    "        names[grounding] = groundings[0]['name']\n",
    "longforms, counts = zip(*combined_longforms.most_common())\n",
    "pos_labels = []"
   ]
  },
  {
   "cell_type": "code",
   "execution_count": null,
   "metadata": {},
   "outputs": [],
   "source": [
    "list(zip(longforms, counts))"
   ]
  },
  {
   "cell_type": "code",
   "execution_count": null,
   "metadata": {},
   "outputs": [],
   "source": [
    "grounding_map, names, pos_labels = ground_with_gui(longforms, counts, \n",
    "                                                   grounding_map=grounding_map,\n",
    "                                                   names=names, pos_labels=pos_labels, no_browser=True, port=8890)"
   ]
  },
  {
   "cell_type": "code",
   "execution_count": null,
   "metadata": {},
   "outputs": [],
   "source": [
    "result = [grounding_map, names, pos_labels]"
   ]
  },
  {
   "cell_type": "code",
   "execution_count": 8,
   "metadata": {},
   "outputs": [
    {
     "data": {
      "text/plain": [
       "[{'benzaldehyde lyase': 'MESH:C059416',\n",
       "  'betaine aldehyde': 'CHEBI:CHEBI:15710',\n",
       "  'bile salt activity lipase': 'HGNC:1848',\n",
       "  'bioartificial liver': 'MESH:D019164',\n",
       "  'blood alcohol levels': 'ungrounded',\n",
       "  'breath alcohol levels': 'ungrounded',\n",
       "  'british anti lewisite': 'CHEBI:CHEBI:64198',\n",
       "  'brochoalveolar lavage': 'MESH:D018893',\n",
       "  'bronchalveolar lavage': 'MESH:D018893',\n",
       "  'bronchial alveolar lavage': 'MESH:D018893',\n",
       "  'bronchial lavage': 'MESH:D018893',\n",
       "  'bronchio alveolar lavage': 'MESH:D018893',\n",
       "  'bronchiolar lavage': 'MESH:D018893',\n",
       "  'broncho alveolar lavage': 'MESH:D018893',\n",
       "  'bronchoalveolar': 'MESH:D018893',\n",
       "  'bronchoalveolar fluid': 'MESH:D018893',\n",
       "  'bronchoalveolar larvage': 'MESH:D018893',\n",
       "  'bronchoalveolar lavage': 'MESH:D018893'},\n",
       " {'MESH:C059416': 'benzaldehyde lyase',\n",
       "  'CHEBI:CHEBI:15710': 'betaine aldehyde',\n",
       "  'HGNC:1848': 'CEL',\n",
       "  'MESH:D019164': 'Liver, Artificial',\n",
       "  'CHEBI:CHEBI:64198': 'dimercaprol',\n",
       "  'MESH:D018893': 'Bronchoalveolar Lavage'},\n",
       " ['HGNC:1848', 'MESH:D018893']]"
      ]
     },
     "execution_count": 8,
     "metadata": {},
     "output_type": "execute_result"
    }
   ],
   "source": [
    "result"
   ]
  },
  {
   "cell_type": "code",
   "execution_count": 5,
   "metadata": {},
   "outputs": [],
   "source": [
    "grounding_map, names, pos_labels = ({'staphylokinase': 'UP:C3VIQK'},\n",
    " {'UP:C3VIQK': 'Staphylokinase'},\n",
    " ['UP:C3VIQK'])"
   ]
  },
  {
   "cell_type": "code",
   "execution_count": 6,
   "metadata": {},
   "outputs": [],
   "source": [
    "excluded_longforms = []"
   ]
  },
  {
   "cell_type": "code",
   "execution_count": 7,
   "metadata": {},
   "outputs": [],
   "source": [
    "grounding_dict = {shortform: {longform: grounding_map[longform] \n",
    "                              for longform, _, _ in longforms if longform in grounding_map\n",
    "                              and longform not in excluded_longforms}\n",
    "                  for shortform, longforms in longform_dict.items()}\n",
    "result = [grounding_dict, names, pos_labels]\n",
    "\n",
    "if not os.path.exists(results_path):\n",
    "    os.mkdir(results_path)\n",
    "with open(os.path.join(results_path, f'{model_name}_preliminary_grounding_info.json'), 'w') as f:\n",
    "    json.dump(result, f)"
   ]
  },
  {
   "cell_type": "code",
   "execution_count": 8,
   "metadata": {},
   "outputs": [],
   "source": [
    "additional_entities = {'HGNC:11397': ['PLK4', ['SAK', 'Sak']]}"
   ]
  },
  {
   "cell_type": "code",
   "execution_count": 9,
   "metadata": {},
   "outputs": [],
   "source": [
    "unambiguous_agent_texts = {'HGNC:11397': ['PLK4', ['PLK4', 'polo like kinase 4']]}"
   ]
  },
  {
   "cell_type": "code",
   "execution_count": 10,
   "metadata": {},
   "outputs": [],
   "source": [
    "labeler = AdeftLabeler(grounding_dict)\n",
    "corpus = labeler.build_from_texts((text, pmid) for pmid, text in all_texts.items())\n",
    "agent_text_pmid_map = defaultdict(list)\n",
    "for text, label, id_ in corpus:\n",
    "    agent_text_pmid_map[label].append(id_)\n",
    "\n",
    "entity_pmid_map = {entity: set(get_pmids_for_entity(*entity.split(':', maxsplit=1),\n",
    "                                                major_topic=True))for entity in additional_entities}"
   ]
  },
  {
   "cell_type": "code",
   "execution_count": 11,
   "metadata": {},
   "outputs": [],
   "source": [
    "intersection1 = []\n",
    "for entity1, pmids1 in entity_pmid_map.items():\n",
    "    for entity2, pmids2 in entity_pmid_map.items():\n",
    "        intersection1.append((entity1, entity2, len(pmids1 & pmids2)))"
   ]
  },
  {
   "cell_type": "code",
   "execution_count": 12,
   "metadata": {},
   "outputs": [],
   "source": [
    "intersection2 = []\n",
    "for entity1, pmids1 in agent_text_pmid_map.items():\n",
    "    for entity2, pmids2 in entity_pmid_map.items():\n",
    "        intersection2.append((entity1, entity2, len(set(pmids1) & pmids2)))"
   ]
  },
  {
   "cell_type": "code",
   "execution_count": 13,
   "metadata": {},
   "outputs": [
    {
     "data": {
      "text/plain": [
       "[('HGNC:11397', 'HGNC:11397', 0)]"
      ]
     },
     "execution_count": 13,
     "metadata": {},
     "output_type": "execute_result"
    }
   ],
   "source": [
    "intersection1"
   ]
  },
  {
   "cell_type": "code",
   "execution_count": 14,
   "metadata": {},
   "outputs": [
    {
     "data": {
      "text/plain": [
       "[('UP:C3VIQK', 'HGNC:11397', 0)]"
      ]
     },
     "execution_count": 14,
     "metadata": {},
     "output_type": "execute_result"
    }
   ],
   "source": [
    "intersection2"
   ]
  },
  {
   "cell_type": "code",
   "execution_count": 15,
   "metadata": {},
   "outputs": [],
   "source": [
    "all_used_pmids = set()\n",
    "for entity, agent_texts in unambiguous_agent_texts.items():\n",
    "    used_pmids = set()\n",
    "    for agent_text in agent_texts[1]:\n",
    "        pmids = set(get_pmids_for_agent_text(agent_text))\n",
    "        new_pmids = list(pmids - all_texts.keys() - used_pmids)\n",
    "        text_dict = get_plaintexts_for_pmids(new_pmids, contains=agent_texts)\n",
    "        corpus.extend([(text, entity, pmid) for pmid, text in text_dict.items() if len(text) >= 5])\n",
    "        used_pmids.update(new_pmids)\n",
    "    all_used_pmids.update(used_pmids)\n",
    "        \n",
    "for entity, pmids in entity_pmid_map.items():\n",
    "    new_pmids = list(set(pmids) - all_texts.keys() - all_used_pmids)\n",
    "    if len(new_pmids) > 10000:\n",
    "        new_pmids = random.choices(new_pmids, k=10000)\n",
    "    _, contains = additional_entities[entity]\n",
    "    text_dict = get_plaintexts_for_pmids(new_pmids, contains=contains)\n",
    "    corpus.extend([(text, entity, pmid) for pmid, text in text_dict.items() if len(text) >= 5])"
   ]
  },
  {
   "cell_type": "code",
   "execution_count": 16,
   "metadata": {},
   "outputs": [],
   "source": [
    "names.update({key: value[0] for key, value in additional_entities.items()})\n",
    "names.update({key: value[0] for key, value in unambiguous_agent_texts.items()})\n",
    "pos_labels = list(set(pos_labels) | additional_entities.keys() |\n",
    "                  unambiguous_agent_texts.keys())"
   ]
  },
  {
   "cell_type": "code",
   "execution_count": 17,
   "metadata": {},
   "outputs": [
    {
     "name": "stderr",
     "output_type": "stream",
     "text": [
      "INFO: [2020-12-01 04:55:24] /adeft/PP/adeft/adeft/modeling/classify.py - Beginning grid search in parameter space:\n",
      "{'C': [100.0], 'max_features': [10000]}\n",
      "INFO: [2020-12-01 04:55:28] /adeft/PP/adeft/adeft/modeling/classify.py - Best f1 score of 0.9862068965517242 found for parameter values:\n",
      "{'logit__C': 100.0, 'tfidf__max_features': 10000}\n"
     ]
    }
   ],
   "source": [
    "%%capture\n",
    "\n",
    "classifier = AdeftClassifier(shortforms, pos_labels=pos_labels, random_state=1729)\n",
    "param_grid = {'C': [100.0], 'max_features': [10000]}\n",
    "texts, labels, pmids = zip(*corpus)\n",
    "classifier.cv(texts, labels, param_grid, cv=5, n_jobs=5)"
   ]
  },
  {
   "cell_type": "code",
   "execution_count": 18,
   "metadata": {
    "scrolled": true
   },
   "outputs": [
    {
     "data": {
      "text/plain": [
       "{'label_distribution': {'UP:C3VIQK': 41, 'HGNC:11397': 105},\n",
       " 'f1': {'mean': 0.986207, 'std': 0.027586},\n",
       " 'precision': {'mean': 0.986207, 'std': 0.027586},\n",
       " 'recall': {'mean': 0.986207, 'std': 0.027586},\n",
       " 'HGNC:11397': {'f1': {'mean': 0.990909, 'std': 0.018182},\n",
       "  'pr': {'mean': 1.0, 'std': 0.0},\n",
       "  'rc': {'mean': 0.982609, 'std': 0.034783}},\n",
       " 'UP:C3VIQK': {'f1': {'mean': 0.971429, 'std': 0.057143},\n",
       "  'pr': {'mean': 0.95, 'std': 0.1},\n",
       "  'rc': {'mean': 1.0, 'std': 0.0}}}"
      ]
     },
     "execution_count": 18,
     "metadata": {},
     "output_type": "execute_result"
    }
   ],
   "source": [
    "classifier.stats"
   ]
  },
  {
   "cell_type": "code",
   "execution_count": 19,
   "metadata": {},
   "outputs": [],
   "source": [
    "disamb = AdeftDisambiguator(classifier, grounding_dict, names)"
   ]
  },
  {
   "cell_type": "code",
   "execution_count": 20,
   "metadata": {},
   "outputs": [],
   "source": [
    "classifier.other_metadata = {'unambiguous_agent_texts': unambiguous_agent_texts}"
   ]
  },
  {
   "cell_type": "code",
   "execution_count": 21,
   "metadata": {},
   "outputs": [],
   "source": [
    "disamb.dump(model_name, results_path)"
   ]
  },
  {
   "cell_type": "code",
   "execution_count": 22,
   "metadata": {},
   "outputs": [
    {
     "name": "stdout",
     "output_type": "stream",
     "text": [
      "Disambiguation model for SAK\n",
      "\n",
      "Produces the disambiguations:\n",
      "\tPLK4*\tHGNC:11397\n",
      "\tStaphylokinase*\tUP:C3VIQK\n",
      "\n",
      "Class level metrics:\n",
      "--------------------\n",
      "Grounding     \tCount\tF1     \n",
      "          PLK4*\t105\t0.99091\n",
      "Staphylokinase*\t 41\t0.97143\n",
      "\n",
      "Global Metrics:\n",
      "-----------------\n",
      "\tF1 score:\t0.98621\n",
      "\tPrecision:\t0.98621\n",
      "\tRecall:\t\t0.98621\n",
      "\n",
      "* Positive labels\n",
      "See Docstring for explanation\n",
      "\n"
     ]
    }
   ],
   "source": [
    "print(disamb.info())"
   ]
  },
  {
   "cell_type": "code",
   "execution_count": 23,
   "metadata": {},
   "outputs": [],
   "source": [
    "model_to_s3(disamb)"
   ]
  },
  {
   "cell_type": "code",
   "execution_count": 1,
   "metadata": {},
   "outputs": [],
   "source": [
    "from adeft.disambiguate import load_disambiguator"
   ]
  },
  {
   "cell_type": "code",
   "execution_count": 2,
   "metadata": {},
   "outputs": [],
   "source": [
    "ad = load_disambiguator('SAK')"
   ]
  },
  {
   "cell_type": "code",
   "execution_count": 3,
   "metadata": {},
   "outputs": [
    {
     "data": {
      "text/plain": [
       "{'UP:P68802'}"
      ]
     },
     "execution_count": 3,
     "metadata": {},
     "output_type": "execute_result"
    }
   ],
   "source": [
    "ad.labels"
   ]
  },
  {
   "cell_type": "code",
   "execution_count": 4,
   "metadata": {},
   "outputs": [
    {
     "data": {
      "text/plain": [
       "['UP:P68802']"
      ]
     },
     "execution_count": 4,
     "metadata": {},
     "output_type": "execute_result"
    }
   ],
   "source": [
    "ad.pos_labels"
   ]
  },
  {
   "cell_type": "code",
   "execution_count": 5,
   "metadata": {},
   "outputs": [
    {
     "data": {
      "text/plain": [
       "'Disambiguation model for SAK\\n\\nProduces the disambiguations:\\n\\tStaphylokinase*\\tUP:P68802\\n\\nClass level metrics:\\n--------------------\\nGrounding     \\tCount\\tF1     \\n    Ungrounded\\t77\\t       \\nStaphylokinase*\\t39\\t       \\n\\nGlobal Metrics:\\n-----------------\\n\\tF1 score:\\t0.98667\\n\\tPrecision:\\t1.0\\n\\tRecall:\\t\\t0.975\\n\\n* Positive labels\\nSee Docstring for explanation\\n'"
      ]
     },
     "execution_count": 5,
     "metadata": {},
     "output_type": "execute_result"
    }
   ],
   "source": [
    "ad.info()"
   ]
  },
  {
   "cell_type": "code",
   "execution_count": 6,
   "metadata": {},
   "outputs": [
    {
     "name": "stdout",
     "output_type": "stream",
     "text": [
      "Disambiguation model for SAK\n",
      "\n",
      "Produces the disambiguations:\n",
      "\tStaphylokinase*\tUP:P68802\n",
      "\n",
      "Class level metrics:\n",
      "--------------------\n",
      "Grounding     \tCount\tF1     \n",
      "    Ungrounded\t77\t       \n",
      "Staphylokinase*\t39\t       \n",
      "\n",
      "Global Metrics:\n",
      "-----------------\n",
      "\tF1 score:\t0.98667\n",
      "\tPrecision:\t1.0\n",
      "\tRecall:\t\t0.975\n",
      "\n",
      "* Positive labels\n",
      "See Docstring for explanation\n",
      "\n"
     ]
    }
   ],
   "source": [
    "print(ad.info())"
   ]
  },
  {
   "cell_type": "code",
   "execution_count": 7,
   "metadata": {},
   "outputs": [],
   "source": [
    "ad = load_disambiguator('FP')"
   ]
  },
  {
   "cell_type": "code",
   "execution_count": 8,
   "metadata": {},
   "outputs": [
    {
     "data": {
      "text/plain": [
       "{'CHEBI:CHEBI:24018',\n",
       " 'CHEBI:CHEBI:26347',\n",
       " 'CHEBI:CHEBI:31441',\n",
       " 'CHEBI:CHEBI:34922',\n",
       " 'CHEBI:CHEBI:42699',\n",
       " 'CHEBI:CHEBI:47344',\n",
       " 'CHEBI:CHEBI:50145',\n",
       " 'CHEBI:CHEBI:5063',\n",
       " 'CHEBI:CHEBI:5086',\n",
       " 'CHEBI:CHEBI:5123',\n",
       " 'CHEBI:CHEBI:5130',\n",
       " 'CHEBI:CHEBI:5134',\n",
       " 'GO:GO:0020016',\n",
       " 'HGNC:9600',\n",
       " 'MESH:D000070037',\n",
       " 'MESH:D000273',\n",
       " 'MESH:D005189',\n",
       " 'MESH:D005193',\n",
       " 'MESH:D005454',\n",
       " 'MESH:D005498',\n",
       " 'MESH:D005587',\n",
       " 'MESH:D008164',\n",
       " 'MESH:D009240',\n",
       " 'MESH:D010821',\n",
       " 'MESH:D011429',\n",
       " 'MESH:D012596',\n",
       " 'MESH:D014760',\n",
       " 'MESH:D052638',\n",
       " 'MESH:D059247',\n",
       " 'NCIT:C32623',\n",
       " 'PUBCHEM:141643',\n",
       " 'field_potential',\n",
       " 'floor_plate',\n",
       " 'fluid_percussion',\n",
       " 'ungrounded'}"
      ]
     },
     "execution_count": 8,
     "metadata": {},
     "output_type": "execute_result"
    }
   ],
   "source": [
    "ad.labels"
   ]
  },
  {
   "cell_type": "code",
   "execution_count": 9,
   "metadata": {},
   "outputs": [
    {
     "data": {
      "text/plain": [
       "{'FP': {'fluticasone propionate': 'CHEBI:CHEBI:31441',\n",
       "  'fluorescence polarization': 'MESH:D005454',\n",
       "  'fusion peptide': 'MESH:D014760',\n",
       "  'false positive': 'MESH:D005189',\n",
       "  'fluorescence protein': 'MESH:D008164',\n",
       "  'floor plate': 'floor_plate',\n",
       "  'flavopiridol': 'CHEBI:CHEBI:47344',\n",
       "  'fusion protein': 'MESH:D014760',\n",
       "  'family planning': 'MESH:D005193',\n",
       "  'field potential': 'field_potential',\n",
       "  'flurbiprofen': 'CHEBI:CHEBI:5130',\n",
       "  'flagellar pocket': 'GO:GO:0020016',\n",
       "  'foot processes': 'NCIT:C32623',\n",
       "  'first progression': 'ungrounded',\n",
       "  'fat pad': 'MESH:D000273',\n",
       "  'fluid percussion': 'fluid_percussion',\n",
       "  'fertility preservation': 'MESH:D059247',\n",
       "  'prostaglandin f2α receptor': 'HGNC:9600',\n",
       "  'cp fine': 'MESH:D052638',\n",
       "  'follicular phase': 'MESH:D005498',\n",
       "  'fabry perot': 'ungrounded',\n",
       "  'formyl peptide': 'MESH:D009240',\n",
       "  'foreperiod': 'ungrounded',\n",
       "  'fiber protein': 'MESH:D012596',\n",
       "  'fluoropyrimidine': 'PUBCHEM:141643',\n",
       "  'fat percentage': 'ungrounded',\n",
       "  'fluorophosphonate': 'CHEBI:CHEBI:42699',\n",
       "  'f prostanoid': 'CHEBI:CHEBI:26347',\n",
       "  'fish peptide': 'ungrounded',\n",
       "  'flavoprotein': 'CHEBI:CHEBI:5086',\n",
       "  'fp dipeptides': 'ungrounded',\n",
       "  'fluticasone': 'CHEBI:CHEBI:5134',\n",
       "  'fabry pérot': 'ungrounded',\n",
       "  'few polyhedra': 'ungrounded',\n",
       "  'fenugreek powder': 'ungrounded',\n",
       "  'fenpropimorph': 'CHEBI:CHEBI:50145',\n",
       "  'fowlpox': 'MESH:D005587',\n",
       "  'prostaglandin f': 'HGNC:9600',\n",
       "  'faecalibacterium prausnitzii': 'MESH:D000070037',\n",
       "  'fast pathway': 'CHEBI:CHEBI:34922',\n",
       "  'filter paper': 'ungrounded',\n",
       "  'fractional photothermolysis': 'ungrounded',\n",
       "  'frailty phenotype': 'ungrounded',\n",
       "  'fructus psoraleae': 'ungrounded',\n",
       "  'fungiform papilla': 'ungrounded',\n",
       "  'fatty pancreas': 'ungrounded',\n",
       "  'flow probe': 'ungrounded',\n",
       "  'farnesyl phosphate': 'CHEBI:CHEBI:24018',\n",
       "  'fermentation production': 'ungrounded',\n",
       "  'fixed point': 'ungrounded',\n",
       "  'fusion positive': 'ungrounded',\n",
       "  'fluphenazine': 'CHEBI:CHEBI:5123',\n",
       "  'footpad': 'ungrounded',\n",
       "  'female protein': 'ungrounded',\n",
       "  'from propolis': 'MESH:D011429',\n",
       "  'fowlpox virus': 'MESH:D005587',\n",
       "  'fgfb pacap': 'ungrounded',\n",
       "  'frontal pole': 'ungrounded',\n",
       "  'flow proneness': 'ungrounded',\n",
       "  'f poae': 'ungrounded',\n",
       "  'faecal protease': 'ungrounded',\n",
       "  'flowering period': 'ungrounded',\n",
       "  'focused pulsed': 'ungrounded',\n",
       "  'fronto parietal': 'ungrounded',\n",
       "  'fucan polysaccharides': 'ungrounded',\n",
       "  'fetal pancreas': 'ungrounded',\n",
       "  'fluid pressure': 'ungrounded',\n",
       "  'fipronil': 'CHEBI:CHEBI:5063',\n",
       "  'f series prostanoid': 'CHEBI:CHEBI:26347',\n",
       "  'frontopolar cortex': 'ungrounded',\n",
       "  'flavonoids and phenolic acid': 'ungrounded'},\n",
       " 'FPs': {'false positives': 'MESH:D005189',\n",
       "  'field potentials': 'field_potential',\n",
       "  'family physicians': 'MESH:D010821',\n",
       "  'foot processes': 'NCIT:C32623',\n",
       "  'filamentous processes': 'ungrounded',\n",
       "  'fine particles': 'MESH:D052638',\n",
       "  'fusion peptides': 'MESH:D014760',\n",
       "  'fusogenic peptides': 'MESH:D014760'}}"
      ]
     },
     "execution_count": 9,
     "metadata": {},
     "output_type": "execute_result"
    }
   ],
   "source": [
    "ad.grounding_dict"
   ]
  },
  {
   "cell_type": "code",
   "execution_count": 10,
   "metadata": {},
   "outputs": [
    {
     "name": "stdout",
     "output_type": "stream",
     "text": [
      "Disambiguation model for FP, and FPs\n",
      "\n",
      "Produces the disambiguations:\n",
      "\t2-Fluoropyrimidine\tPUBCHEM:141643\n",
      "\tAdipose Tissue\tMESH:D000273\n",
      "\tFaecalibacterium prausnitzii\tMESH:D000070037\n",
      "\tFalse Positive Reactions*\tMESH:D005189\n",
      "\tFamily Planning Services*\tMESH:D005193\n",
      "\tFertility Preservation\tMESH:D059247\n",
      "\tFluorescence Polarization*\tMESH:D005454\n",
      "\tFollicular Phase\tMESH:D005498\n",
      "\tFoot Process*\tNCIT:C32623\n",
      "\tFowlpox virus\tMESH:D005587\n",
      "\tLuminescent Proteins*\tMESH:D008164\n",
      "\tN-Formylmethionine Leucyl-Phenylalanine\tMESH:D009240\n",
      "\tPTGFR\tHGNC:9600\n",
      "\tParticulate Matter\tMESH:D052638\n",
      "\tPhysicians, Family\tMESH:D010821\n",
      "\tPropolis\tMESH:D011429\n",
      "\tScleroproteins\tMESH:D012596\n",
      "\tViral Fusion Proteins*\tMESH:D014760\n",
      "\talvocidib*\tCHEBI:CHEBI:47344\n",
      "\tciliary pocket*\tGO:GO:0020016\n",
      "\tfarnesyl phosphate\tCHEBI:CHEBI:24018\n",
      "\tfenpropimorph\tCHEBI:CHEBI:50145\n",
      "\tfield_potential\tfield_potential\n",
      "\tfipronil\tCHEBI:CHEBI:5063\n",
      "\tflavoprotein\tCHEBI:CHEBI:5086\n",
      "\tfloor_plate\tfloor_plate\n",
      "\tfluid_percussion\tfluid_percussion\n",
      "\tfluoridophosphate\tCHEBI:CHEBI:42699\n",
      "\tfluphenazine\tCHEBI:CHEBI:5123\n",
      "\tflurbiprofen*\tCHEBI:CHEBI:5130\n",
      "\tfluticasone\tCHEBI:CHEBI:5134\n",
      "\tfluticasone propionate\tCHEBI:CHEBI:31441\n",
      "\tpicloram\tCHEBI:CHEBI:34922\n",
      "\tprostanoid\tCHEBI:CHEBI:26347\n",
      "\n",
      "Class level metrics:\n",
      "--------------------\n",
      "Grounding                              \tCount\tF1     \n",
      "                 fluticasone propionate\t146\t0.91725\n",
      "                  Viral Fusion Proteins*\t109\t0.92197\n",
      "               False Positive Reactions*\t107\t 0.9293\n",
      "                             Ungrounded\t 93\t0.77751\n",
      "              Fluorescence Polarization*\t 81\t0.85836\n",
      "                   Luminescent Proteins*\t 72\t0.83447\n",
      "                            floor_plate\t 38\t  0.975\n",
      "                              alvocidib*\t 35\t0.92952\n",
      "                        field_potential\t 30\t0.94825\n",
      "               Family Planning Services*\t 16\t0.84762\n",
      "                           Foot Process*\t 16\t    1.0\n",
      "                           flurbiprofen*\t 14\t   0.58\n",
      "                                  PTGFR\t 13\t0.39429\n",
      "                       fluid_percussion\t  9\t    1.0\n",
      "                             prostanoid\t  9\t0.33333\n",
      "                         ciliary pocket*\t  8\t0.86667\n",
      "                       Follicular Phase\t  6\t    0.2\n",
      "                           flavoprotein\t  6\t0.53333\n",
      "                     2-Fluoropyrimidine\t  6\t0.33333\n",
      "                          Fowlpox virus\t  6\t    0.4\n",
      "                      fluoridophosphate\t  6\t    0.2\n",
      "                 Fertility Preservation\t  6\t0.53333\n",
      "                     Physicians, Family\t  6\t    0.0\n",
      "N-Formylmethionine Leucyl-Phenylalanine\t  5\t    0.6\n",
      "                            fluticasone\t  5\t    0.2\n",
      "                               picloram\t  4\t0.73333\n",
      "                     farnesyl phosphate\t  3\t    0.4\n",
      "                         Adipose Tissue\t  3\t    0.0\n",
      "           Faecalibacterium prausnitzii\t  3\t    0.0\n",
      "                               fipronil\t  3\t    0.0\n",
      "                     Particulate Matter\t  3\t    0.4\n",
      "                         Scleroproteins\t  2\t    0.0\n",
      "                               Propolis\t  2\t    0.0\n",
      "                          fenpropimorph\t  2\t    0.4\n",
      "                           fluphenazine\t  1\t    0.0\n",
      "\n",
      "Global Metrics:\n",
      "-----------------\n",
      "\tF1 score:\t0.8876\n",
      "\tPrecision:\t0.87229\n",
      "\tRecall:\t\t0.91506\n",
      "\n",
      "* Positive labels\n",
      "See Docstring for explanation\n",
      "\n"
     ]
    }
   ],
   "source": [
    "print(ad.info())"
   ]
  },
  {
   "cell_type": "code",
   "execution_count": 58,
   "metadata": {},
   "outputs": [
    {
     "data": {
      "text/plain": [
       "<adeft.disambiguate.AdeftDisambiguator at 0x7fc290790eb0>"
      ]
     },
     "execution_count": 58,
     "metadata": {},
     "output_type": "execute_result"
    }
   ],
   "source": [
    "disamb"
   ]
  },
  {
   "cell_type": "code",
   "execution_count": 60,
   "metadata": {},
   "outputs": [
    {
     "data": {
      "text/plain": [
       "['UP:C3VIQK', 'HGNC:11397']"
      ]
     },
     "execution_count": 60,
     "metadata": {},
     "output_type": "execute_result"
    }
   ],
   "source": [
    "disamb.pos_labels"
   ]
  },
  {
   "cell_type": "code",
   "execution_count": 61,
   "metadata": {},
   "outputs": [
    {
     "data": {
      "text/plain": [
       "{'UP:C3VIQK'}"
      ]
     },
     "execution_count": 61,
     "metadata": {},
     "output_type": "execute_result"
    }
   ],
   "source": [
    "disamb.labels"
   ]
  },
  {
   "cell_type": "code",
   "execution_count": 62,
   "metadata": {},
   "outputs": [
    {
     "data": {
      "text/plain": [
       "['UP:C3VIQK', 'HGNC:11397']"
      ]
     },
     "execution_count": 62,
     "metadata": {},
     "output_type": "execute_result"
    }
   ],
   "source": [
    "disamb.pos_labels"
   ]
  },
  {
   "cell_type": "code",
   "execution_count": 63,
   "metadata": {},
   "outputs": [
    {
     "data": {
      "text/plain": [
       "{'unambiguous_agent_texts': {'HGNC:11397': ['PLK4',\n",
       "   ['PLK4', 'polo like kinase 4']]}}"
      ]
     },
     "execution_count": 63,
     "metadata": {},
     "output_type": "execute_result"
    }
   ],
   "source": [
    "disamb.classifier.other_metadata"
   ]
  },
  {
   "cell_type": "code",
   "execution_count": 1,
   "metadata": {},
   "outputs": [],
   "source": [
    "from adeft import __version__"
   ]
  },
  {
   "cell_type": "code",
   "execution_count": 2,
   "metadata": {},
   "outputs": [
    {
     "data": {
      "text/plain": [
       "'0.10.0'"
      ]
     },
     "execution_count": 2,
     "metadata": {},
     "output_type": "execute_result"
    }
   ],
   "source": [
    "__version__"
   ]
  },
  {
   "cell_type": "code",
   "execution_count": null,
   "metadata": {},
   "outputs": [],
   "source": []
  }
 ],
 "metadata": {
  "kernelspec": {
   "display_name": "Python 3",
   "language": "python",
   "name": "python3"
  },
  "language_info": {
   "codemirror_mode": {
    "name": "ipython",
    "version": 3
   },
   "file_extension": ".py",
   "mimetype": "text/x-python",
   "name": "python",
   "nbconvert_exporter": "python",
   "pygments_lexer": "ipython3",
   "version": "3.8.4"
  }
 },
 "nbformat": 4,
 "nbformat_minor": 2
}
