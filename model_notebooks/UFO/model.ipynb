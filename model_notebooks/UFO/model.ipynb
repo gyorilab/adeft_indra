{
 "cells": [
  {
   "cell_type": "code",
   "execution_count": 1,
   "metadata": {},
   "outputs": [],
   "source": [
    "import os\n",
    "import json\n",
    "import pickle\n",
    "import random\n",
    "from collections import defaultdict, Counter\n",
    "\n",
    "from indra.literature.adeft_tools import universal_extract_text\n",
    "from indra.databases.hgnc_client import get_hgnc_name, get_hgnc_id\n",
    "\n",
    "from adeft.discover import AdeftMiner\n",
    "from adeft.gui import ground_with_gui\n",
    "from adeft.modeling.label import AdeftLabeler\n",
    "from adeft.modeling.classify import AdeftClassifier\n",
    "from adeft.disambiguate import AdeftDisambiguator, load_disambiguator\n",
    "\n",
    "\n",
    "from adeft_indra.ground.ground import AdeftGrounder\n",
    "from adeft_indra.model_building.s3 import model_to_s3\n",
    "from adeft_indra.model_building.escape import escape_filename\n",
    "from adeft_indra.db.content import get_pmids_for_agent_text, get_pmids_for_entity, \\\n",
    "    get_plaintexts_for_pmids"
   ]
  },
  {
   "cell_type": "code",
   "execution_count": 2,
   "metadata": {},
   "outputs": [],
   "source": [
    "adeft_grounder = AdeftGrounder()"
   ]
  },
  {
   "cell_type": "code",
   "execution_count": 3,
   "metadata": {},
   "outputs": [],
   "source": [
    "shortforms = ['UFO']\n",
    "model_name = ':'.join(sorted(escape_filename(shortform) for shortform in shortforms))\n",
    "results_path = os.path.abspath(os.path.join('../..', 'results', model_name))"
   ]
  },
  {
   "cell_type": "code",
   "execution_count": 45,
   "metadata": {},
   "outputs": [],
   "source": [
    "miners = dict()\n",
    "all_texts = {}\n",
    "for shortform in shortforms:\n",
    "    pmids = get_pmids_for_agent_text(shortform)\n",
    "    text_dict = get_plaintexts_for_pmids(pmids, contains=shortforms)\n",
    "    text_dict = {pmid: text for pmid, text in text_dict.items() if len(text) > 5}\n",
    "    miners[shortform] = AdeftMiner(shortform)\n",
    "    miners[shortform].process_texts(text_dict.values())\n",
    "    all_texts.update(text_dict)\n",
    "\n",
    "longform_dict = {}\n",
    "for shortform in shortforms:\n",
    "    longforms = miners[shortform].get_longforms(weight_decay_param=0.00001)\n",
    "    longforms = [(longform, count, score) for longform, count, score in longforms\n",
    "                 if count*score > -1]\n",
    "    longform_dict[shortform] = longforms\n",
    "    \n",
    "combined_longforms = Counter()\n",
    "for longform_rows in longform_dict.values():\n",
    "    combined_longforms.update({longform: count for longform, count, score\n",
    "                               in longform_rows})\n",
    "grounding_map = {}\n",
    "names = {}\n",
    "for longform in combined_longforms:\n",
    "    groundings = adeft_grounder.ground(longform)\n",
    "    if groundings:\n",
    "        grounding = groundings[0]['grounding']\n",
    "        grounding_map[longform] = grounding\n",
    "        names[grounding] = groundings[0]['name']\n",
    "longforms, counts = zip(*combined_longforms.most_common())\n",
    "pos_labels = []"
   ]
  },
  {
   "cell_type": "code",
   "execution_count": 46,
   "metadata": {},
   "outputs": [
    {
     "data": {
      "text/plain": [
       "[('unusual floral organs', 14),\n",
       " ('uncleaved prefusion optimized', 2),\n",
       " ('ufo', 1),\n",
       " ('used frying oil', 1),\n",
       " ('unsual floral organs', 1)]"
      ]
     },
     "execution_count": 46,
     "metadata": {},
     "output_type": "execute_result"
    }
   ],
   "source": [
    "list(zip(longforms, counts))"
   ]
  },
  {
   "cell_type": "code",
   "execution_count": 6,
   "metadata": {},
   "outputs": [],
   "source": [
    "try:\n",
    "    disamb = load_disambiguator(shortforms[0])\n",
    "    for shortform, gm in disamb.grounding_dict.items():\n",
    "        for longform, grounding in gm.items():\n",
    "            grounding_map[longform] = grounding\n",
    "    for grounding, name in disamb.names.items():\n",
    "        names[grounding] = name\n",
    "    pos_labels = disamb.pos_labels\n",
    "except Exception:\n",
    "    pass"
   ]
  },
  {
   "cell_type": "code",
   "execution_count": 7,
   "metadata": {},
   "outputs": [
    {
     "data": {
      "text/plain": [
       "{'HGNC:905': 'AXL'}"
      ]
     },
     "execution_count": 7,
     "metadata": {},
     "output_type": "execute_result"
    }
   ],
   "source": [
    "names"
   ]
  },
  {
   "cell_type": "code",
   "execution_count": 48,
   "metadata": {},
   "outputs": [],
   "source": [
    "grounding_map, names, pos_labels = ground_with_gui(longforms, counts, \n",
    "                                                   grounding_map=grounding_map,\n",
    "                                                   names=names, pos_labels=pos_labels, no_browser=True, port=8891)"
   ]
  },
  {
   "cell_type": "code",
   "execution_count": 49,
   "metadata": {},
   "outputs": [],
   "source": [
    "result = [grounding_map, names, pos_labels]"
   ]
  },
  {
   "cell_type": "code",
   "execution_count": 50,
   "metadata": {},
   "outputs": [
    {
     "data": {
      "text/plain": [
       "[{'ufo': 'ungrounded',\n",
       "  'uncleaved prefusion optimized': 'ungrounded',\n",
       "  'unsual floral organs': 'ungrounded',\n",
       "  'unusual floral organs': 'ungrounded',\n",
       "  'used frying oil': 'ungrounded'},\n",
       " {},\n",
       " []]"
      ]
     },
     "execution_count": 50,
     "metadata": {},
     "output_type": "execute_result"
    }
   ],
   "source": [
    "result"
   ]
  },
  {
   "cell_type": "code",
   "execution_count": 123,
   "metadata": {},
   "outputs": [],
   "source": [
    "grounding_map, names, pos_labels = [{'ufo': 'HGNC:905',\n",
    "  'uncleaved prefusion optimized': 'ungrounded',\n",
    "  'unsual floral organs': 'ungrounded',\n",
    "  'unusual floral organs': 'ungrounded',\n",
    "  'used frying oil': 'ungrounded'},\n",
    " {},\n",
    " ['HGNC:905']]"
   ]
  },
  {
   "cell_type": "code",
   "execution_count": 124,
   "metadata": {},
   "outputs": [],
   "source": [
    "excluded_longforms = []"
   ]
  },
  {
   "cell_type": "code",
   "execution_count": 125,
   "metadata": {},
   "outputs": [],
   "source": [
    "grounding_dict = {shortform: {longform: grounding_map[longform] \n",
    "                              for longform, _, _ in longforms if longform in grounding_map\n",
    "                              and longform not in excluded_longforms}\n",
    "                  for shortform, longforms in longform_dict.items()}\n",
    "result = [grounding_dict, names, pos_labels]\n",
    "\n",
    "if not os.path.exists(results_path):\n",
    "    os.mkdir(results_path)\n",
    "with open(os.path.join(results_path, f'{model_name}_preliminary_grounding_info.json'), 'w') as f:\n",
    "    json.dump(result, f)"
   ]
  },
  {
   "cell_type": "code",
   "execution_count": 126,
   "metadata": {},
   "outputs": [],
   "source": [
    "additional_entities = {'HGNC:905': ['AXL', ['UFO']]}"
   ]
  },
  {
   "cell_type": "code",
   "execution_count": 127,
   "metadata": {},
   "outputs": [],
   "source": [
    "unambiguous_agent_texts = {}"
   ]
  },
  {
   "cell_type": "code",
   "execution_count": 128,
   "metadata": {},
   "outputs": [],
   "source": [
    "labeler = AdeftLabeler(grounding_dict)\n",
    "corpus = labeler.build_from_texts((text, pmid) for pmid, text in all_texts.items())\n",
    "agent_text_pmid_map = defaultdict(list)\n",
    "for text, label, id_ in corpus:\n",
    "    agent_text_pmid_map[label].append(id_)\n",
    "\n",
    "entity_pmid_map = {entity: set(get_pmids_for_entity(*entity.split(':', maxsplit=1),\n",
    "                                                major_topic=True))for entity in additional_entities}"
   ]
  },
  {
   "cell_type": "code",
   "execution_count": 129,
   "metadata": {},
   "outputs": [],
   "source": [
    "intersection1 = []\n",
    "for entity1, pmids1 in entity_pmid_map.items():\n",
    "    for entity2, pmids2 in entity_pmid_map.items():\n",
    "        intersection1.append((entity1, entity2, len(pmids1 & pmids2)))"
   ]
  },
  {
   "cell_type": "code",
   "execution_count": 130,
   "metadata": {},
   "outputs": [],
   "source": [
    "intersection2 = []\n",
    "for entity1, pmids1 in agent_text_pmid_map.items():\n",
    "    for entity2, pmids2 in entity_pmid_map.items():\n",
    "        intersection2.append((entity1, entity2, len(set(pmids1) & pmids2)))"
   ]
  },
  {
   "cell_type": "code",
   "execution_count": 131,
   "metadata": {},
   "outputs": [
    {
     "data": {
      "text/plain": [
       "[('HGNC:905', 'HGNC:905', 819)]"
      ]
     },
     "execution_count": 131,
     "metadata": {},
     "output_type": "execute_result"
    }
   ],
   "source": [
    "intersection1"
   ]
  },
  {
   "cell_type": "code",
   "execution_count": 132,
   "metadata": {},
   "outputs": [
    {
     "data": {
      "text/plain": [
       "[('ungrounded', 'HGNC:905', 0), ('HGNC:905', 'HGNC:905', 0)]"
      ]
     },
     "execution_count": 132,
     "metadata": {},
     "output_type": "execute_result"
    }
   ],
   "source": [
    "intersection2"
   ]
  },
  {
   "cell_type": "code",
   "execution_count": 133,
   "metadata": {},
   "outputs": [],
   "source": [
    "all_used_pmids = set()\n",
    "for entity, agent_texts in unambiguous_agent_texts.items():\n",
    "    used_pmids = set()\n",
    "    for agent_text in agent_texts[1]:\n",
    "        pmids = set(get_pmids_for_agent_text(agent_text))\n",
    "        new_pmids = list(pmids - all_texts.keys() - used_pmids)\n",
    "        text_dict = get_plaintexts_for_pmids(new_pmids, contains=agent_texts)\n",
    "        corpus.extend([(text, entity, pmid) for pmid, text in text_dict.items() if len(text) >= 5])\n",
    "        used_pmids.update(new_pmids)\n",
    "    all_used_pmids.update(used_pmids)\n",
    "        \n",
    "for entity, pmids in entity_pmid_map.items():\n",
    "    new_pmids = list(set(pmids) - all_texts.keys() - all_used_pmids)\n",
    "    if len(new_pmids) > 10000:\n",
    "        new_pmids = random.choices(new_pmids, k=10000)\n",
    "    _, contains = additional_entities[entity]\n",
    "    text_dict = get_plaintexts_for_pmids(new_pmids, contains=contains)\n",
    "    corpus.extend([(text, entity, pmid) for pmid, text in text_dict.items() if len(text) >= 5])"
   ]
  },
  {
   "cell_type": "code",
   "execution_count": 134,
   "metadata": {},
   "outputs": [],
   "source": [
    "names.update({key: value[0] for key, value in additional_entities.items()})\n",
    "names.update({key: value[0] for key, value in unambiguous_agent_texts.items()})\n",
    "pos_labels = list(set(pos_labels) | additional_entities.keys() |\n",
    "                  unambiguous_agent_texts.keys())"
   ]
  },
  {
   "cell_type": "code",
   "execution_count": 135,
   "metadata": {},
   "outputs": [
    {
     "name": "stderr",
     "output_type": "stream",
     "text": [
      "INFO: [2020-11-10 05:33:15] /adeft/PP/adeft/adeft/modeling/classify.py - Beginning grid search in parameter space:\n",
      "{'C': [100.0], 'max_features': [10000]}\n",
      "INFO: [2020-11-10 05:33:15] /adeft/PP/adeft/adeft/modeling/classify.py - Best f1 score of 0.9866666666666667 found for parameter values:\n",
      "{'logit__C': 100.0, 'tfidf__max_features': 10000}\n"
     ]
    }
   ],
   "source": [
    "%%capture\n",
    "\n",
    "classifier = AdeftClassifier(shortforms, pos_labels=pos_labels, random_state=1729)\n",
    "param_grid = {'C': [100.0], 'max_features': [10000]}\n",
    "texts, labels, pmids = zip(*corpus)\n",
    "classifier.cv(texts, labels, param_grid, cv=5, n_jobs=5)"
   ]
  },
  {
   "cell_type": "code",
   "execution_count": 136,
   "metadata": {
    "scrolled": true
   },
   "outputs": [
    {
     "data": {
      "text/plain": [
       "{'label_distribution': {'ungrounded': 17, 'HGNC:905': 31},\n",
       " 'f1': {'mean': 0.986667, 'std': 0.026667},\n",
       " 'precision': {'mean': 0.975, 'std': 0.05},\n",
       " 'recall': {'mean': 1.0, 'std': 0.0},\n",
       " 'HGNC:905': {'f1': {'mean': 0.986667, 'std': 0.026667},\n",
       "  'pr': {'mean': 1.0, 'std': 0.0},\n",
       "  'rc': {'mean': 0.975, 'std': 0.05}},\n",
       " 'ungrounded': {'f1': {'mean': 0.96, 'std': 0.08},\n",
       "  'pr': {'mean': 0.933333, 'std': 0.133333},\n",
       "  'rc': {'mean': 1.0, 'std': 0.0}}}"
      ]
     },
     "execution_count": 136,
     "metadata": {},
     "output_type": "execute_result"
    }
   ],
   "source": [
    "classifier.stats"
   ]
  },
  {
   "cell_type": "code",
   "execution_count": 137,
   "metadata": {},
   "outputs": [],
   "source": [
    "disamb = AdeftDisambiguator(classifier, grounding_dict, names)"
   ]
  },
  {
   "cell_type": "code",
   "execution_count": 138,
   "metadata": {},
   "outputs": [],
   "source": [
    "disamb.dump(model_name, results_path)"
   ]
  },
  {
   "cell_type": "code",
   "execution_count": 139,
   "metadata": {},
   "outputs": [
    {
     "name": "stdout",
     "output_type": "stream",
     "text": [
      "Disambiguation model for UFO\n",
      "\n",
      "Produces the disambiguations:\n",
      "\tAXL*\tHGNC:905\n",
      "\n",
      "Class level metrics:\n",
      "--------------------\n",
      "Grounding\tCount\tF1     \n",
      "AXL*\t31\t0.98667\n",
      "Ungrounded\t17\t   0.96\n",
      "\n",
      "Weighted Metrics:\n",
      "-----------------\n",
      "\tF1 score:\t0.98667\n",
      "\tPrecision:\t0.975\n",
      "\tRecall:\t\t1.0\n",
      "\n",
      "* Positive labels\n",
      "See Docstring for explanation\n",
      "\n"
     ]
    }
   ],
   "source": [
    "print(disamb.info())"
   ]
  },
  {
   "cell_type": "code",
   "execution_count": 140,
   "metadata": {},
   "outputs": [],
   "source": [
    "model_to_s3(disamb)"
   ]
  },
  {
   "cell_type": "code",
   "execution_count": 141,
   "metadata": {},
   "outputs": [],
   "source": [
    "preds = [disamb.disambiguate(text) for text in all_texts.values()]"
   ]
  },
  {
   "cell_type": "code",
   "execution_count": 142,
   "metadata": {},
   "outputs": [],
   "source": [
    "texts = [text for pred, text in zip(preds, all_texts.values()) if pred[0] == 'HGNC:905']"
   ]
  },
  {
   "cell_type": "code",
   "execution_count": 144,
   "metadata": {},
   "outputs": [
    {
     "data": {
      "text/plain": [
       "'In the demyelinated and remyelinated corpus callosum, we detected 1239 differentially expressed genes; 91 orthologues were also differentially expressed in MS lesions. Pathway analysis of these orthologues suggested that the TYROBP (DAP12)-TREM2 pathway, TNF-receptor 1, CYBA and the proteasome subunit PSMB9 were related to de- and remyelination. We designed 129 peptides representing 51 orthologous proteins, measured them by PRM in 97 individual CSF, and compared their levels between relapsing (n = 40) and progressive MS (n = 57). Four proteins were differentially regulated among relapsing and progressive MS: tyrosine protein kinase receptor UFO (UFO), TIMP-1, apolipoprotein C-II (APOC2), and beta-2-microglobulin (B2M). The orthologous genes/proteins in the mouse brain peaked during acute remyelination. UFO, TIMP-1 and B2M levels correlated inversely with inflammation in the CSF (IL-6, MCP-1/CCL2, TARC/CCL17). APOC2 showed positive correlation with IL-2, IL-16 and eotaxin-3/CCL26.\\nPathology-based multi-omics identified four CSF markers that were differentially expressed in MS subtypes. Upregulated TIMP-1, UFO and B2M orthologues in relapsing MS were associated with reduced inflammation and reflected reparatory processes, in contrast to the upregulated orthologue APOC2 in progressive MS that reflected changes in lipid metabolism associated with increased inflammation.\\nBefore histological analysis, brains of mice (untreated controls, DEM, aREM, fREM) were postfixed in 4% PFA overnight and embedded in paraffin. Then, 8 μm coronal sections were obtained at the levels of 161, 181, 209 and 221. Demyelination was evaluated using Luxol fast blue staining with cresyl violet, and axonal pathology was examined by Bielschowsky staining. Immunocytochemistry was performed on paraffin sections as described before [16] without antigen retrieval using antibodies against apolipoprotein C-II (MyBioSource, MBS2006755), TIMP-1 (R&D systems, AF980-SP), tyrosine protein kinase receptor UFO (Santa Cruz Biotechnology, sc-166269), Mac3 (Becton & Dickinson #553322), NG2 (Millipore AB 5320), and CNP (Sternberger Monoclonals SMI 91).\\nThe levels of the detected 24 peptides normalized to synthetic standards (S3 Table) were then compared among the 3 MS subgroups. Four peptides representing 4 proteins were differentially regulated: tissue inhibitor of metalloproteinase-1 (TIMP-1, GFQALGDAADIR), apolipoprotein C2 (APOC2, TAAQNLYEK), tyrosine-protein kinase receptor UFO (UFO, APLQGTLLGYR), and beta2 microglobulin (B2M, VNHVTLSQPK) (Fig 4, S4 Table). All these proteins were detected in the CSF in the discovery phase by LC-MS/MS (Table 2). APOC2 peptide was upregulated in SPMS compared to RRMS. The other 3 peptides (TIMP-1, UFO, B2M) were downregulated in PPMS compared to RRMS. In addition, UFO peptide was also down-regulated in SPMS (Fig 4).\\nCorrelation of TIMP-1, APOC2, UFO, and B2M levels with inflammatory markers and neurofilament in the CSF\\nWe next examined, if the level of the 4 peptides differentially expressed in MS subgroups correlate with concentration of 36 neuroinflammatory markers and neurofilament light chain (NF-L) in the CSF of 17 patients with RRMS. The level of UFO peptide APLQGTLLGYR and TIMP-1 peptide GFQALGDAADIR negatively correlated with the concentration of IL-6. Peptide APLQGTLLGYR of UFO also negatively correlated with concentration of CCL2/MCP-1. Peptide VNHVTLSQPK of B2M also negatively correlated with the concentration of CCL17/TARC. In contrast, peptide TAAQNLYEK of APOC2 showed positive correlation with the concentration of IL-16, IL-2 and CCL26/eotaxin-3 (Fig 5). NF-L showed no correlation with the 4 peptides.\\nWe also examined the correlation among the 4 peptides in the CSF of the same 17 patients with RRMS. We found that B2M correlated with levels of both UFO (p<0.0001, r = 0.91) and TIMP-1 (p<0.01, r = 0.71), and we also found correlation between TIMP-1 and UFO (p<0.01, r = 0.64).\\nGenes and proteins of TIMP-1, APOC2, UFO, and B2M are over-expressed during acute remyelination\\nTo investigate if the expression of the 4 orthologues (TIMP-1, APOC2, UFO, and B2M) is related to de- or remyelination, and explore the dynamics of expression, we examined changes in the gene and protein expression of the 4 orthologues during experimental de- and remyelination in the CPZ model. All four genes peaked during acute remyelination, and the gene encoding TIMP1 was also upregulated during demyelination (Fig 6).\\nTo examine the protein expression and validate microarray data, we examined the expression of TIMP-1, APOC2, and UFO by immunohistochemistry in different tissues and in the brain of mice during CPZ-induced de- and remyelination. In the normal mouse brain, we found some expression of UFO within large neurons and minor reactivity on glia (most likely astrocytes) in the pons and CC (Fig 7). In mice treated with CPZ, we found mildly increased immunoreactivity in neurons in the pons (data not shown). Within the demyelinating CC, we found clear reactivity on macrophages/microglia; similar reactivity was seen during acute remyelination (Fig 7). These data suggest that major up-regulation of UFO within the CPZ lesions is due to its expression in macrophages/microglia.\\nNext, we used the CPZ and the orthologous MS gene data sets for identifying molecules that are differentially expressed in the CSF of relapsing and progressive MS by using a multi-omics method. We applied a two-step approach of CSF proteomics: (i) we first identified protein products of orthologous genes in the CSF proteome, and (ii) used a targeted quantitative approach to validate and compare the levels of specific proteins among MS subtypes. Using this approach, we focused on those proteins that were differentially expressed in MS lesions as genes, and were related to de- and remyelination. We identified 4 proteins differentially regulated between relapsing and progressive MS: UFO, TIMP-1, APOC2, and B2M.\\nOne of the overlapping CPZ/MS gene orthologues, UFO protein, a receptor tyrosine kinase belonging to the family of TAM receptors, was upregulated in the CSF proteome of patients with relapsing compared to progressive MS. In the CPZ model, UFO protein was upregulated on macrophages/microglia in the demyelinating and acute remyelinating corpus callosum, while expressed at low levels in the normal mouse brain. This pattern of upregulation and cellular source is compatible with the function of UFO, as its plays a role in clearing myelin debris and apoptotic cells [37]. In the absence of Axl and/or its ligand growth-arrest-specific protein 6 (Gas6), remyelination is delayed, axonal damage is more severe, and inflammation is more pronounced [38–41]. We also found that higher level of UFO was associated with lower CCL2/MCP-1 concentrations in the CSF. CCL2/MCP-1 regulates the migration of monocytes/macrophages, and both are upregulated in MS lesions [42,43]. Higher level of UFO in the CSF of RRMS was also associated with lower concentration of IL-6 that disrupts the integrity of the BBB, and promotes autoimmune CNS response [44]. UFO-deficient (Axl-KO) mice had also more severe clinical course of EAE, which indicates a protective role of UFO in the inflammatory model of MS [37]. Altogether, these data support the notion that UFO may contribute to tissue repair and less inflammation both in MS and experimental demyelination partially by promoting phagocytosis by microglia and reducing inflammation.\\nAnother overlapping CPZ/MS gene orthologue, TIMP-1 was also upregulated in the CSF proteome of relapsing versus primary progressive MS. In the CPZ lesions, we found reactivity in cells, which by morphology are most likely oligodendrocytes or OPCs; this reactivity was increased during demyelination and further increased during acute remyelination. Besides regulating MMP-9 [45,46], TIMP-1 also exhibits a trophic, growth factor function: it promotes astrocyte recovery [47], OPC differentiation [48], and activates PI3K and Akt signaling [49]. TIMP-1 is also expressed in immature astrocytes [48]. We may speculate that our observation of TIMP-1 expression on oligodendrocytes/OPCs may be related to their differentiation and survival during demyelination and especially during remyelination. In line with our results, Timp-1 mRNA has been described to be upregulated during demyelination and in the acute remyelination phase [50]. TIMP-1 is upregulated in cortical MS lesions [18], and its restricted expression promotes EAE pathology [51]. Low levels of TIMP-1 and high MMP-9 concentration in both CSF and serum may be a marker of MRI disease activity, and their ratio may estimate the integrity of the BBB [52,53]. We also found that levels of TIMP-1 in the CSF of RRMS negatively correlated with the concentration of IL-6, which may support the beneficial role of elevated TIMP-1 in controlling inflammation and possibly BBB damage, similar to UFO.\\nIn summary, the levels of UFO, TIMP-1 and B2M were higher in RRMS compared to progressive MS types; they correlated negatively with pro-inflammatory markers in the CSF; and also showed a strong positive correlation with each other.\\nUFO, TIMP-1, B2M and APOC2 all had similar expression profiles in the CPZ model: the peak gene expression was observed during acute remyelination, and up-regulated proteins were found during demyelination and acute remyelination. Nevertheless, the cellular source of these molecules may be different: UFO and APOC2 showed reactivity with macrophages/microglia, while TIMP-1 was upregulated most likely on oligodendrocytes or OPCs. These data may indicate that although these proteins have been related to de- and remyelination, they reflect different cellular responses including microglia activation. Indeed, microglia-related 24 genes (surface markers and phagocytosis-related genes) peaked during acute remyelination in our study; nevertheless, the oligodendrocyte precursor cell gene of NG2 was also upregulated during acute remyelination (data not shown).\\nFinally, we used the CSF-PR 2.0 database to examine if these 4 proteins have been previously detected and quantitatively changed in the CSF proteome of patients with MS [65]. This database search indicated that all of these 4 proteins have been previously detected in the CSF proteome of patients with RRMS. The level of TIMP-1 was increased in the CSF proteome of patients with RRMS compared to controls with other neurological diseases and healthy subjects [66–68], but there was no difference comparing patients with early MS to clinically definite MS [69]. The level of UFO was not different in the CSF proteome of early MS or RRMS compared to other neurological disease controls [66,67,69]. The level of B2M was increased in the CSF of proteome of patients with RRMS compared to other neurological disease controls [66,67], while other studies did not find such differences [66,67]. The level of APOC2 was not different in the CSF proteome of patients with RRMS and other neurological disease controls [66,67].\\nOur study used a comprehensive, translational multi-omics approach. The differential gene expression during experimental de- and remyelination was compared to MS lesion transcriptomes, and overlapping orthologues were screened at protein levels in the CSF proteome of MS patients. Finally, 129 peptides of selected 52 protein orthologues were quantitatively measured in 97 individual CSF, respectively. Their levels were compared between relapsing and progressive MS, were correlated with inflammatory markers in the CSF, and were related to gene and protein expression kinetics in experimental de- and remyelination. We could conclude that (i) experimental demyelination was mainly associated with altered lipid metabolism, while acute remyelination was associated with a profound change in gene activation. Many of the upregulated genes during acute remyelination were related to immune responses, and overlapped with orthologues in MS lesions. In fact, (ii) three out of four protein orthologues that were differentially regulated in the CSF proteome of relapsing and progressive MS were not directly related to myelin metabolism, but to pathways important in cell survival and immune responses. (iii) Since adaptive immune responses are absent or minor in the CPZ model, our data may indicate the role of microglia during acute remyelination, and different cellular responses promoting oligodendrocyte survival; the TREM2/TYROBP orthologous pathway may be important in such processes. (iv) These events were reflected in the CSF proteome of patients with MS. (v) Interestingly, the three CPZ/MS orthologues that were upregulated in the CSF proteome of relapsing compared to progressive MS, were all negatively correlated with inflammatory molecules, while positively correlated with each other. Although their cellular source maybe different, previous data indicated their protective role in experimental models: UFO (Axl) promotes remyelination and oligodendrocyte survival and limits inflammation [29–33,41]; TIMP-1 limits inflammation, blood-brain barrier damage, and promotes OPC differentiation [46–50]; B2M may indicate microglia activation related to removal of myelin debris and limiting inflammation in the cuprizone lesions; soluble B2M in the MS CSF may indicate increased cellular metabolism and degradation in the CNS. Thus, (vi) increased levels of UFO, TIMP-1 and B2M in the CSF of patients with relapsing MS may indicate different cellular processes in the brain related to de- and remyelination that aim reducing inflammation and promoting survival of oligodendrocytes and their precursor cells. (vii) These processes are either less pronounced in the brain, or less reflected in the CSF in progressive MS. (viii) The only orthologue that were upregulated in the CSF proteome of progressive versus relapsing MS was APOC2 that is related to cholesterol metabolism in the brain. In contrast to the other three orthologues, APOC2 level showed a strong correlation with the concentration of proinflammatory molecules IL-2, IL-16, and CCL26/eotaxin-3. This may indicate that myelin and lipid-related pathological events in the CNS may be more pronounced (or more reflected in the CSF) in progressive MS, nevertheless, they may be associated with inflammatory responses even in this phase.\\nThis study is not without limitations. The CSF full proteome was examined in 30 patients, and only a low volume of samples were applied from each patient. However, we did not restrict the design of the peptide library only to these findings, and the targeted proteomics was done with a large number of individual CSF samples using higher volumes of CSF. Although we validated the protein expression of UFO, APOC2 and TIMP-1 by immunohistochemistry, the cell-specific expression was not addressed by specific antibodies. Nevertheless, this was not a major aim of the study. The role of these identified four molecules as potential CSF biomarkers should be validated in independent larger studies. Their biomarker potential and role in MS pathogenesis are reflected by previous studies indicating their presence in the CSF proteome of patients with RRMS, and upregulation of TIMP-1 and B2M in the CSF proteome of RRMS compared to controls [65–69].\\n'"
      ]
     },
     "execution_count": 144,
     "metadata": {},
     "output_type": "execute_result"
    }
   ],
   "source": [
    "texts[2]"
   ]
  },
  {
   "cell_type": "code",
   "execution_count": null,
   "metadata": {},
   "outputs": [],
   "source": []
  }
 ],
 "metadata": {
  "kernelspec": {
   "display_name": "Python 3",
   "language": "python",
   "name": "python3"
  },
  "language_info": {
   "codemirror_mode": {
    "name": "ipython",
    "version": 3
   },
   "file_extension": ".py",
   "mimetype": "text/x-python",
   "name": "python",
   "nbconvert_exporter": "python",
   "pygments_lexer": "ipython3",
   "version": "3.8.4"
  }
 },
 "nbformat": 4,
 "nbformat_minor": 2
}
