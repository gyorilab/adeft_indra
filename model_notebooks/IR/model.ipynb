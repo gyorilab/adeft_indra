{
 "cells": [
  {
   "cell_type": "code",
   "execution_count": 4,
   "metadata": {},
   "outputs": [],
   "source": [
    "import os\n",
    "import json\n",
    "import pickle\n",
    "import random\n",
    "from collections import defaultdict, Counter\n",
    "\n",
    "from indra.literature.adeft_tools import universal_extract_text\n",
    "from indra.databases.hgnc_client import get_hgnc_name, get_hgnc_id\n",
    "\n",
    "from adeft.discover import AdeftMiner\n",
    "from adeft.gui import ground_with_gui\n",
    "from adeft.modeling.label import AdeftLabeler\n",
    "from adeft.modeling.classify import AdeftClassifier\n",
    "from adeft.disambiguate import AdeftDisambiguator, load_disambiguator\n",
    "\n",
    "\n",
    "from adeft_indra.ground.ground import AdeftGrounder\n",
    "from adeft_indra.model_building.s3 import model_to_s3\n",
    "from adeft_indra.model_building.escape import escape_filename\n",
    "from adeft_indra.db.content import get_pmids_for_agent_text, get_pmids_for_entity, \\\n",
    "    get_plaintexts_for_pmids"
   ]
  },
  {
   "cell_type": "code",
   "execution_count": 5,
   "metadata": {},
   "outputs": [],
   "source": [
    "adeft_grounder = AdeftGrounder()"
   ]
  },
  {
   "cell_type": "code",
   "execution_count": 6,
   "metadata": {},
   "outputs": [],
   "source": [
    "shortforms = ['IR']\n",
    "model_name = ':'.join(sorted(escape_filename(shortform) for shortform in shortforms))\n",
    "results_path = os.path.abspath(os.path.join('../..', 'results', model_name))"
   ]
  },
  {
   "cell_type": "code",
   "execution_count": 7,
   "metadata": {},
   "outputs": [],
   "source": [
    "miners = dict()\n",
    "all_texts = {}\n",
    "for shortform in shortforms:\n",
    "    pmids = get_pmids_for_agent_text(shortform)\n",
    "    text_dict = get_plaintexts_for_pmids(pmids, contains=shortforms)\n",
    "    text_dict = {pmid: text for pmid, text in text_dict.items() if len(text) > 5}\n",
    "    miners[shortform] = AdeftMiner(shortform)\n",
    "    miners[shortform].process_texts(text_dict.values())\n",
    "    all_texts.update(text_dict)\n",
    "\n",
    "longform_dict = {}\n",
    "for shortform in shortforms:\n",
    "    longforms = miners[shortform].get_longforms()\n",
    "    longforms = [(longform, count, score) for longform, count, score in longforms\n",
    "                 if count*score > 2]\n",
    "    longform_dict[shortform] = longforms\n",
    "    \n",
    "combined_longforms = Counter()\n",
    "for longform_rows in longform_dict.values():\n",
    "    combined_longforms.update({longform: count for longform, count, score\n",
    "                               in longform_rows})\n",
    "grounding_map = {}\n",
    "names = {}\n",
    "for longform in combined_longforms:\n",
    "    groundings = adeft_grounder.ground(longform)\n",
    "    if groundings:\n",
    "        grounding = groundings[0]['grounding']\n",
    "        grounding_map[longform] = grounding\n",
    "        names[grounding] = groundings[0]['name']\n",
    "longforms, counts = zip(*combined_longforms.most_common())\n",
    "pos_labels = []"
   ]
  },
  {
   "cell_type": "code",
   "execution_count": 8,
   "metadata": {},
   "outputs": [
    {
     "data": {
      "text/plain": [
       "[('ionizing radiation', 3657),\n",
       " ('insulin resistance', 2614),\n",
       " ('insulin receptor', 1937),\n",
       " ('ischemia reperfusion', 1551),\n",
       " ('irradiation', 591),\n",
       " ('immunoreactivity', 363),\n",
       " ('infrared', 328),\n",
       " ('ionising radiation', 194),\n",
       " ('ischemia and reperfusion', 118),\n",
       " ('inverted repeat', 90),\n",
       " ('immediate release', 87),\n",
       " ('ischaemia reperfusion', 78),\n",
       " ('intron retention', 53),\n",
       " ('injury', 39),\n",
       " ('iterative reconstruction', 38),\n",
       " ('ischemic reperfusion', 35),\n",
       " ('inversion recovery', 31),\n",
       " ('intergenic region', 23),\n",
       " ('incidence rate', 23),\n",
       " ('immune response', 22),\n",
       " ('internal rotation', 21),\n",
       " ('infrared spectroscopy', 19),\n",
       " ('infrared radiation', 19),\n",
       " ('isolated rearing', 17),\n",
       " ('interventional radiology', 16),\n",
       " ('infection rate', 15),\n",
       " ('it receptor', 14),\n",
       " ('immune reconstitution', 13),\n",
       " ('input resistance', 12),\n",
       " ('induced resistance', 12),\n",
       " ('intermediate risk', 11),\n",
       " ('infusion reaction', 11),\n",
       " ('implantation rate', 11),\n",
       " ('ice recrystallization', 10),\n",
       " ('infra red', 10),\n",
       " ('imidazoline receptor', 10),\n",
       " ('inwardly rectifying', 9),\n",
       " ('intrarectal', 9),\n",
       " ('infection response', 9),\n",
       " ('irradiation with 4 gy', 8),\n",
       " ('insulin release', 7),\n",
       " ('inhibitory receptor', 7),\n",
       " ('in receptor', 7),\n",
       " ('ile arg', 7),\n",
       " ('implementation research', 6),\n",
       " ('incomplete revascularization', 6),\n",
       " ('illegitimate recombination', 6),\n",
       " ('inflammatory response', 6),\n",
       " ('ionization radiation', 6),\n",
       " ('ischemia following by reperfusion', 6),\n",
       " ('intermediate range', 5),\n",
       " ('intrinsic rhythm', 5),\n",
       " ('inferior rectus', 5),\n",
       " ('initial respond', 5),\n",
       " ('inadequate response', 5),\n",
       " ('ir group', 5),\n",
       " ('isoleucine arginine', 5),\n",
       " ('group ii', 5),\n",
       " ('ionic radiation', 5),\n",
       " ('inwardly rectification', 4),\n",
       " ('idiopathic rhinitis', 4),\n",
       " ('ir', 4),\n",
       " ('immune reactive', 4),\n",
       " ('resistance index', 4),\n",
       " ('retinal ischemia', 4),\n",
       " ('imatinib resistance', 4),\n",
       " ('ischemia reperfusion model', 4),\n",
       " ('inner retina', 3),\n",
       " ('ionizing radiotherapy', 3),\n",
       " ('inactive renin', 3),\n",
       " ('intermediate root', 3),\n",
       " ('isotonic regression', 3),\n",
       " ('indirect revascularization', 3),\n",
       " ('induction ratio', 3),\n",
       " ('imaging reconstruction', 3),\n",
       " ('inter repeat', 3),\n",
       " ('intervening region', 3),\n",
       " ('initial region', 3),\n",
       " ('infrarenal', 3),\n",
       " ('intermediate', 3),\n",
       " ('interneurons', 3),\n",
       " ('internal', 3),\n",
       " ('incomplete response', 3),\n",
       " ('identification rate', 3),\n",
       " ('inhibition rate', 3),\n",
       " ('initial rate', 3),\n",
       " ('ischemiareperfusion', 3),\n",
       " ('ionotropic receptor', 3),\n",
       " ('insulin receptor antibody', 3),\n",
       " ('reperfusion injury group', 3),\n",
       " ('ir alone', 3),\n",
       " ('ir treated', 3),\n",
       " ('inwardly rectifying potassium current', 3),\n",
       " ('infrared light', 3),\n",
       " ('iressa resistance mda mb 468', 3)]"
      ]
     },
     "execution_count": 8,
     "metadata": {},
     "output_type": "execute_result"
    }
   ],
   "source": [
    "list(zip(longforms, counts))"
   ]
  },
  {
   "cell_type": "code",
   "execution_count": 9,
   "metadata": {},
   "outputs": [],
   "source": [
    "try:\n",
    "    disamb = load_disambiguator(shortforms[0])\n",
    "    for shortform, gm in disamb.grounding_dict.items():\n",
    "        for longform, grounding in gm.items():\n",
    "            grounding_map[longform] = grounding\n",
    "    for grounding, name in disamb.names.items():\n",
    "        names[grounding] = name\n",
    "    pos_labels = disamb.pos_labels\n",
    "except Exception:\n",
    "    pass"
   ]
  },
  {
   "cell_type": "code",
   "execution_count": 10,
   "metadata": {},
   "outputs": [
    {
     "data": {
      "text/plain": [
       "{'MESH:D011839': 'Radiation, Ionizing',\n",
       " 'MESH:D007333': 'Insulin Resistance',\n",
       " 'HGNC:6091': 'INSR',\n",
       " 'MESH:D015427': 'Reperfusion Injury',\n",
       " 'MESH:D011827': 'Radiation',\n",
       " 'MESH:D015424': 'Reperfusion',\n",
       " 'MESH:D014947': 'Wounds and Injuries',\n",
       " 'MESH:D012399': 'Rotation',\n",
       " 'MESH:D011871': 'Radiology',\n",
       " 'GO:GO:0038023': 'signaling receptor activity',\n",
       " 'MESH:D000074243': 'Immune Reconstitution',\n",
       " 'MESH:D012306': 'Risk',\n",
       " 'HGNC:3094': 'DYRK3',\n",
       " 'CHEBI:CHEBI:74061': 'Ile-Arg',\n",
       " 'MESH:D012106': 'Research',\n",
       " 'MESH:D011995': 'Recombination, Genetic',\n",
       " 'GO:GO:0048511': 'rhythmic process',\n",
       " 'CHEBI:CHEBI:24433': 'group',\n",
       " 'CHEBI:CHEBI:29016': 'arginine',\n",
       " 'MESH:D012220': 'Rhinitis',\n",
       " 'MESH:D020481': 'Index',\n",
       " 'DOID:DOID:12510': 'retinal ischemia',\n",
       " 'MESH:D012160': 'Retina',\n",
       " 'MESH:D011878': 'Radiotherapy',\n",
       " 'HGNC:9958': 'REN',\n",
       " 'EFO:0000989': 'root structure',\n",
       " 'MESH:D007395': 'Interneurons',\n",
       " 'MESH:D008027': 'Light',\n",
       " 'EFO:0001216': 'MDAMB468',\n",
       " 'MESH:D007259': 'Infrared Rays'}"
      ]
     },
     "execution_count": 10,
     "metadata": {},
     "output_type": "execute_result"
    }
   ],
   "source": [
    "names"
   ]
  },
  {
   "cell_type": "code",
   "execution_count": 11,
   "metadata": {},
   "outputs": [
    {
     "name": "stderr",
     "output_type": "stream",
     "text": [
      "INFO: [2020-11-01 03:58:33] indra.ontology.bio.ontology - Loading INDRA bio ontology from cache at /home/ubuntu/.indra/bio_ontology/1.4/bio_ontology.pkl\n"
     ]
    }
   ],
   "source": [
    "grounding_map, names, pos_labels = ground_with_gui(longforms, counts, \n",
    "                                                   grounding_map=grounding_map,\n",
    "                                                   names=names, pos_labels=pos_labels, no_browser=True, port=8891)"
   ]
  },
  {
   "cell_type": "code",
   "execution_count": 12,
   "metadata": {},
   "outputs": [],
   "source": [
    "result = [grounding_map, names, pos_labels]"
   ]
  },
  {
   "cell_type": "code",
   "execution_count": 13,
   "metadata": {},
   "outputs": [
    {
     "data": {
      "text/plain": [
       "[{'group ii': 'ungrounded',\n",
       "  'ice recrystallization': 'ungrounded',\n",
       "  'identification rate': 'ungrounded',\n",
       "  'idiopathic rhinitis': 'MESH:D012220',\n",
       "  'ile arg': 'CHEBI:CHEBI:74061',\n",
       "  'illegitimate recombination': 'ungrounded',\n",
       "  'imaging reconstruction': 'ungrounded',\n",
       "  'imatinib resistance': 'ungrounded',\n",
       "  'imidazoline receptor': 'ungrounded',\n",
       "  'immediate release': 'ungrounded',\n",
       "  'immune reactive': 'ungrounded',\n",
       "  'immune reconstitution': 'ungrounded',\n",
       "  'immune response': 'ungrounded',\n",
       "  'immunoreactivity': 'ungrounded',\n",
       "  'implantation rate': 'ungrounded',\n",
       "  'implementation research': 'ungrounded',\n",
       "  'in receptor': 'ungrounded',\n",
       "  'inactive renin': 'HGNC:9958',\n",
       "  'inadequate response': 'ungrounded',\n",
       "  'incidence rate': 'ungrounded',\n",
       "  'incomplete response': 'ungrounded',\n",
       "  'incomplete revascularization': 'ungrounded',\n",
       "  'indirect revascularization': 'ungrounded',\n",
       "  'induced resistance': 'ungrounded',\n",
       "  'induction ratio': 'ungrounded',\n",
       "  'infection rate': 'ungrounded',\n",
       "  'infection response': 'ungrounded',\n",
       "  'inferior rectus': 'ungrounded',\n",
       "  'inflammatory response': 'ungrounded',\n",
       "  'infra red': 'MESH:D007259',\n",
       "  'infrared': 'MESH:D007259',\n",
       "  'infrared light': 'MESH:D007259',\n",
       "  'infrared radiation': 'MESH:D007259',\n",
       "  'infrared spectroscopy': 'ungrounded',\n",
       "  'infrarenal': 'ungrounded',\n",
       "  'infusion reaction': 'ungrounded',\n",
       "  'inhibition rate': 'ungrounded',\n",
       "  'inhibitory receptor': 'ungrounded',\n",
       "  'initial rate': 'ungrounded',\n",
       "  'initial region': 'ungrounded',\n",
       "  'initial respond': 'ungrounded',\n",
       "  'injury': 'MESH:D014947',\n",
       "  'inner retina': 'MESH:D012160',\n",
       "  'input resistance': 'ungrounded',\n",
       "  'insulin receptor': 'HGNC:6091',\n",
       "  'insulin receptor antibody': 'ungrounded',\n",
       "  'insulin release': 'ungrounded',\n",
       "  'insulin resistance': 'MESH:D007333',\n",
       "  'inter repeat': 'ungrounded',\n",
       "  'intergenic region': 'ungrounded',\n",
       "  'intermediate': 'ungrounded',\n",
       "  'intermediate range': 'ungrounded',\n",
       "  'intermediate risk': 'ungrounded',\n",
       "  'intermediate root': 'EFO:0000989',\n",
       "  'internal': 'ungrounded',\n",
       "  'internal rotation': 'ungrounded',\n",
       "  'interneurons': 'MESH:D007395',\n",
       "  'intervening region': 'ungrounded',\n",
       "  'interventional radiology': 'ungrounded',\n",
       "  'intrarectal': 'ungrounded',\n",
       "  'intrinsic rhythm': 'ungrounded',\n",
       "  'intron retention': 'ungrounded',\n",
       "  'inversion recovery': 'ungrounded',\n",
       "  'inverted repeat': 'ungrounded',\n",
       "  'inwardly rectification': 'ungrounded',\n",
       "  'inwardly rectifying': 'ungrounded',\n",
       "  'inwardly rectifying potassium current': 'ungrounded',\n",
       "  'ionic radiation': 'MESH:D011839',\n",
       "  'ionising radiation': 'MESH:D011839',\n",
       "  'ionization radiation': 'ungrounded',\n",
       "  'ionizing radiation': 'MESH:D011839',\n",
       "  'ionizing radiotherapy': 'MESH:D011839',\n",
       "  'ionotropic receptor': 'ungrounded',\n",
       "  'ir': 'HGNC:6091',\n",
       "  'ir alone': 'ungrounded',\n",
       "  'ir group': 'ungrounded',\n",
       "  'ir treated': 'ungrounded',\n",
       "  'iressa resistance mda mb 468': 'EFO:0001216',\n",
       "  'irradiation': 'MESH:D011839',\n",
       "  'irradiation with 4 gy': 'ungrounded',\n",
       "  'ischaemia reperfusion': 'MESH:D015424',\n",
       "  'ischemia and reperfusion': 'MESH:D015427',\n",
       "  'ischemia following by reperfusion': 'MESH:D015427',\n",
       "  'ischemia reperfusion': 'MESH:D015427',\n",
       "  'ischemia reperfusion model': 'MESH:D015427',\n",
       "  'ischemiareperfusion': 'MESH:D015427',\n",
       "  'ischemic reperfusion': 'MESH:D015427',\n",
       "  'isolated rearing': 'ungrounded',\n",
       "  'isoleucine arginine': 'ungrounded',\n",
       "  'isotonic regression': 'ungrounded',\n",
       "  'it receptor': 'ungrounded',\n",
       "  'iterative reconstruction': 'ungrounded',\n",
       "  'reperfusion injury group': 'ungrounded',\n",
       "  'resistance index': 'ungrounded',\n",
       "  'retinal ischemia': 'DOID:DOID:12510'},\n",
       " {'MESH:D012220': 'Rhinitis',\n",
       "  'CHEBI:CHEBI:74061': 'Ile-Arg',\n",
       "  'HGNC:9958': 'REN',\n",
       "  'MESH:D007259': 'Infrared Rays',\n",
       "  'MESH:D014947': 'Wounds and Injuries',\n",
       "  'MESH:D012160': 'Retina',\n",
       "  'HGNC:6091': 'INSR',\n",
       "  'MESH:D007333': 'Insulin Resistance',\n",
       "  'EFO:0000989': 'root structure',\n",
       "  'MESH:D007395': 'Interneurons',\n",
       "  'MESH:D011839': 'Radiation, Ionizing',\n",
       "  'EFO:0001216': 'MDAMB468',\n",
       "  'MESH:D015424': 'Reperfusion',\n",
       "  'MESH:D015427': 'Reperfusion Injury',\n",
       "  'DOID:DOID:12510': 'retinal ischemia'},\n",
       " ['HGNC:6091', 'MESH:D011839']]"
      ]
     },
     "execution_count": 13,
     "metadata": {},
     "output_type": "execute_result"
    }
   ],
   "source": [
    "result"
   ]
  },
  {
   "cell_type": "code",
   "execution_count": 26,
   "metadata": {},
   "outputs": [],
   "source": [
    "grounding_map, names, pos_labels = [{'group ii': 'ungrounded',\n",
    "  'ice recrystallization': 'ungrounded',\n",
    "  'identification rate': 'ungrounded',\n",
    "  'idiopathic rhinitis': 'MESH:D012220',\n",
    "  'ile arg': 'CHEBI:CHEBI:74061',\n",
    "  'illegitimate recombination': 'ungrounded',\n",
    "  'imaging reconstruction': 'ungrounded',\n",
    "  'imatinib resistance': 'ungrounded',\n",
    "  'imidazoline receptor': 'ungrounded',\n",
    "  'immediate release': 'ungrounded',\n",
    "  'immune reactive': 'ungrounded',\n",
    "  'immune reconstitution': 'ungrounded',\n",
    "  'immune response': 'ungrounded',\n",
    "  'immunoreactivity': 'ungrounded',\n",
    "  'implantation rate': 'ungrounded',\n",
    "  'implementation research': 'ungrounded',\n",
    "  'in receptor': 'ungrounded',\n",
    "  'inactive renin': 'HGNC:9958',\n",
    "  'inadequate response': 'ungrounded',\n",
    "  'incidence rate': 'ungrounded',\n",
    "  'incomplete response': 'ungrounded',\n",
    "  'incomplete revascularization': 'ungrounded',\n",
    "  'indirect revascularization': 'ungrounded',\n",
    "  'induced resistance': 'ungrounded',\n",
    "  'induction ratio': 'ungrounded',\n",
    "  'infection rate': 'ungrounded',\n",
    "  'infection response': 'ungrounded',\n",
    "  'inferior rectus': 'ungrounded',\n",
    "  'inflammatory response': 'ungrounded',\n",
    "  'infra red': 'MESH:D007259',\n",
    "  'infrared': 'MESH:D007259',\n",
    "  'infrared light': 'MESH:D007259',\n",
    "  'infrared radiation': 'MESH:D007259',\n",
    "  'infrared spectroscopy': 'ungrounded',\n",
    "  'infrarenal': 'ungrounded',\n",
    "  'infusion reaction': 'ungrounded',\n",
    "  'inhibition rate': 'ungrounded',\n",
    "  'inhibitory receptor': 'ungrounded',\n",
    "  'initial rate': 'ungrounded',\n",
    "  'initial region': 'ungrounded',\n",
    "  'initial respond': 'ungrounded',\n",
    "  'injury': 'MESH:D014947',\n",
    "  'inner retina': 'MESH:D012160',\n",
    "  'input resistance': 'ungrounded',\n",
    "  'insulin receptor': 'HGNC:6091',\n",
    "  'insulin receptor antibody': 'ungrounded',\n",
    "  'insulin release': 'ungrounded',\n",
    "  'insulin resistance': 'MESH:D007333',\n",
    "  'inter repeat': 'ungrounded',\n",
    "  'intergenic region': 'ungrounded',\n",
    "  'intermediate': 'ungrounded',\n",
    "  'intermediate range': 'ungrounded',\n",
    "  'intermediate risk': 'ungrounded',\n",
    "  'intermediate root': 'EFO:0000989',\n",
    "  'internal': 'ungrounded',\n",
    "  'internal rotation': 'ungrounded',\n",
    "  'interneurons': 'MESH:D007395',\n",
    "  'intervening region': 'ungrounded',\n",
    "  'interventional radiology': 'ungrounded',\n",
    "  'intrarectal': 'ungrounded',\n",
    "  'intrinsic rhythm': 'ungrounded',\n",
    "  'intron retention': 'ungrounded',\n",
    "  'inversion recovery': 'ungrounded',\n",
    "  'inverted repeat': 'ungrounded',\n",
    "  'inwardly rectification': 'ungrounded',\n",
    "  'inwardly rectifying': 'ungrounded',\n",
    "  'inwardly rectifying potassium current': 'ungrounded',\n",
    "  'ionic radiation': 'MESH:D011839',\n",
    "  'ionising radiation': 'MESH:D011839',\n",
    "  'ionization radiation': 'MESH:D011839',\n",
    "  'ionizing radiation': 'MESH:D011839',\n",
    "  'ionizing radiotherapy': 'MESH:D011839',\n",
    "  'ionotropic receptor': 'ungrounded',\n",
    "  'ir': 'HGNC:6091',\n",
    "  'ir alone': 'ungrounded',\n",
    "  'ir group': 'ungrounded',\n",
    "  'ir treated': 'ungrounded',\n",
    "  'iressa resistance mda mb 468': 'EFO:0001216',\n",
    "  'irradiation': 'MESH:D011839',\n",
    "  'irradiation with 4 gy': 'MESH:D011839',\n",
    "  'ischaemia reperfusion': 'MESH:D015427',\n",
    "  'ischemia and reperfusion': 'MESH:D015427',\n",
    "  'ischemia following by reperfusion': 'MESH:D015427',\n",
    "  'ischemia reperfusion': 'MESH:D015427',\n",
    "  'ischemia reperfusion model': 'MESH:D015427',\n",
    "  'ischemiareperfusion': 'MESH:D015427',\n",
    "  'ischemic reperfusion': 'MESH:D015427',\n",
    "  'isolated rearing': 'ungrounded',\n",
    "  'isoleucine arginine': 'ungrounded',\n",
    "  'isotonic regression': 'ungrounded',\n",
    "  'it receptor': 'ungrounded',\n",
    "  'iterative reconstruction': 'ungrounded',\n",
    "  'reperfusion injury group': 'ungrounded',\n",
    "  'resistance index': 'ungrounded',\n",
    "  'retinal ischemia': 'DOID:DOID:12510'},\n",
    " {'MESH:D012220': 'Rhinitis',\n",
    "  'CHEBI:CHEBI:74061': 'Ile-Arg',\n",
    "  'HGNC:9958': 'REN',\n",
    "  'MESH:D007259': 'Infrared Rays',\n",
    "  'MESH:D014947': 'Wounds and Injuries',\n",
    "  'MESH:D012160': 'Retina',\n",
    "  'HGNC:6091': 'INSR',\n",
    "  'MESH:D007333': 'Insulin Resistance',\n",
    "  'EFO:0000989': 'root structure',\n",
    "  'MESH:D007395': 'Interneurons',\n",
    "  'MESH:D011839': 'Radiation, Ionizing',\n",
    "  'EFO:0001216': 'MDAMB468',\n",
    "  'MESH:D015427': 'Reperfusion Injury',\n",
    "  'DOID:DOID:12510': 'retinal ischemia'},\n",
    " ['HGNC:6091', 'MESH:D011839']]"
   ]
  },
  {
   "cell_type": "code",
   "execution_count": 27,
   "metadata": {},
   "outputs": [],
   "source": [
    "excluded_longforms = ['ir', 'ir alone', 'ir group', 'ir treated']"
   ]
  },
  {
   "cell_type": "code",
   "execution_count": 28,
   "metadata": {},
   "outputs": [],
   "source": [
    "grounding_dict = {shortform: {longform: grounding_map[longform] \n",
    "                              for longform, _, _ in longforms if longform in grounding_map\n",
    "                              and longform not in excluded_longforms}\n",
    "                  for shortform, longforms in longform_dict.items()}\n",
    "result = [grounding_dict, names, pos_labels]\n",
    "\n",
    "if not os.path.exists(results_path):\n",
    "    os.mkdir(results_path)\n",
    "with open(os.path.join(results_path, f'{model_name}_preliminary_grounding_info.json'), 'w') as f:\n",
    "    json.dump(result, f)"
   ]
  },
  {
   "cell_type": "code",
   "execution_count": 29,
   "metadata": {},
   "outputs": [],
   "source": [
    "additional_entities = {}"
   ]
  },
  {
   "cell_type": "code",
   "execution_count": 30,
   "metadata": {},
   "outputs": [],
   "source": [
    "unambiguous_agent_texts = {}"
   ]
  },
  {
   "cell_type": "code",
   "execution_count": 31,
   "metadata": {},
   "outputs": [],
   "source": [
    "labeler = AdeftLabeler(grounding_dict)\n",
    "corpus = labeler.build_from_texts((text, pmid) for pmid, text in all_texts.items())\n",
    "agent_text_pmid_map = defaultdict(list)\n",
    "for text, label, id_ in corpus:\n",
    "    agent_text_pmid_map[label].append(id_)\n",
    "\n",
    "entity_pmid_map = {entity: set(get_pmids_for_entity(*entity.split(':', maxsplit=1),\n",
    "                                                major_topic=True))for entity in additional_entities}"
   ]
  },
  {
   "cell_type": "code",
   "execution_count": 18,
   "metadata": {},
   "outputs": [],
   "source": [
    "intersection1 = []\n",
    "for entity1, pmids1 in entity_pmid_map.items():\n",
    "    for entity2, pmids2 in entity_pmid_map.items():\n",
    "        intersection1.append((entity1, entity2, len(pmids1 & pmids2)))"
   ]
  },
  {
   "cell_type": "code",
   "execution_count": 19,
   "metadata": {},
   "outputs": [],
   "source": [
    "intersection2 = []\n",
    "for entity1, pmids1 in agent_text_pmid_map.items():\n",
    "    for entity2, pmids2 in entity_pmid_map.items():\n",
    "        intersection2.append((entity1, entity2, len(set(pmids1) & pmids2)))"
   ]
  },
  {
   "cell_type": "code",
   "execution_count": 20,
   "metadata": {},
   "outputs": [
    {
     "data": {
      "text/plain": [
       "[('HGNC:10967', 'HGNC:10967', 98)]"
      ]
     },
     "execution_count": 20,
     "metadata": {},
     "output_type": "execute_result"
    }
   ],
   "source": [
    "intersection1"
   ]
  },
  {
   "cell_type": "code",
   "execution_count": 21,
   "metadata": {},
   "outputs": [
    {
     "data": {
      "text/plain": [
       "[('GO:GO:0001837', 'HGNC:10967', 0),\n",
       " ('ungrounded', 'HGNC:10967', 0),\n",
       " ('HGNC:10967', 'HGNC:10967', 0),\n",
       " ('MESH:D055032', 'HGNC:10967', 0)]"
      ]
     },
     "execution_count": 21,
     "metadata": {},
     "output_type": "execute_result"
    }
   ],
   "source": [
    "intersection2"
   ]
  },
  {
   "cell_type": "code",
   "execution_count": 22,
   "metadata": {},
   "outputs": [],
   "source": [
    "all_used_pmids = set()\n",
    "for entity, agent_texts in unambiguous_agent_texts.items():\n",
    "    used_pmids = set()\n",
    "    for agent_text in agent_texts[1]:\n",
    "        pmids = set(get_pmids_for_agent_text(agent_text))\n",
    "        new_pmids = list(pmids - all_texts.keys() - used_pmids)\n",
    "        text_dict = get_plaintexts_for_pmids(new_pmids, contains=agent_texts)\n",
    "        corpus.extend([(text, entity, pmid) for pmid, text in text_dict.items() if len(text) >= 5])\n",
    "        used_pmids.update(new_pmids)\n",
    "    all_used_pmids.update(used_pmids)\n",
    "        \n",
    "for entity, pmids in entity_pmid_map.items():\n",
    "    new_pmids = list(set(pmids) - all_texts.keys() - all_used_pmids)\n",
    "    if len(new_pmids) > 10000:\n",
    "        new_pmids = random.choices(new_pmids, k=10000)\n",
    "    _, contains = additional_entities[entity]\n",
    "    text_dict = get_plaintexts_for_pmids(new_pmids, contains=contains)\n",
    "    corpus.extend([(text, entity, pmid) for pmid, text in text_dict.items() if len(text) >= 5])"
   ]
  },
  {
   "cell_type": "code",
   "execution_count": 23,
   "metadata": {},
   "outputs": [],
   "source": [
    "names.update({key: value[0] for key, value in additional_entities.items()})\n",
    "names.update({key: value[0] for key, value in unambiguous_agent_texts.items()})\n",
    "pos_labels = list(set(pos_labels) | additional_entities.keys() |\n",
    "                  unambiguous_agent_texts.keys())"
   ]
  },
  {
   "cell_type": "code",
   "execution_count": 32,
   "metadata": {},
   "outputs": [
    {
     "name": "stderr",
     "output_type": "stream",
     "text": [
      "INFO: [2020-11-01 04:19:16] /adeft/PP/adeft/adeft/modeling/classify.py - Beginning grid search in parameter space:\n",
      "{'C': [100.0], 'max_features': [10000]}\n",
      "INFO: [2020-11-01 04:24:30] /adeft/PP/adeft/adeft/modeling/classify.py - Best f1 score of 0.9635676642180975 found for parameter values:\n",
      "{'logit__C': 100.0, 'tfidf__max_features': 10000}\n"
     ]
    }
   ],
   "source": [
    "%%capture\n",
    "\n",
    "classifier = AdeftClassifier(shortforms, pos_labels=pos_labels, random_state=1729)\n",
    "param_grid = {'C': [100.0], 'max_features': [10000]}\n",
    "texts, labels, pmids = zip(*corpus)\n",
    "classifier.cv(texts, labels, param_grid, cv=5, n_jobs=5)"
   ]
  },
  {
   "cell_type": "code",
   "execution_count": 33,
   "metadata": {
    "scrolled": true
   },
   "outputs": [
    {
     "data": {
      "text/plain": [
       "{'label_distribution': {'ungrounded': 784,\n",
       "  'HGNC:6091': 1512,\n",
       "  'MESH:D007259': 304,\n",
       "  'MESH:D011839': 3296,\n",
       "  'HGNC:9958': 3,\n",
       "  'MESH:D015427': 1193,\n",
       "  'MESH:D007333': 1894,\n",
       "  'MESH:D014947': 34,\n",
       "  'MESH:D012160': 2,\n",
       "  'MESH:D012220': 4,\n",
       "  'EFO:0000989': 1,\n",
       "  'CHEBI:CHEBI:74061': 5,\n",
       "  'MESH:D007395': 1,\n",
       "  'EFO:0001216': 1,\n",
       "  'DOID:DOID:12510': 1},\n",
       " 'f1': {'mean': 0.963568, 'std': 0.002946},\n",
       " 'precision': {'mean': 0.961146, 'std': 0.001891},\n",
       " 'recall': {'mean': 0.966103, 'std': 0.007573},\n",
       " 'EFO:0000989': {'f1': {'mean': 0.0, 'std': 0.0},\n",
       "  'pr': {'mean': 0.0, 'std': 0.0},\n",
       "  'rc': {'mean': 0.0, 'std': 0.0}},\n",
       " 'CHEBI:CHEBI:74061': {'f1': {'mean': 0.2, 'std': 0.4},\n",
       "  'pr': {'mean': 0.2, 'std': 0.4},\n",
       "  'rc': {'mean': 0.2, 'std': 0.4}},\n",
       " 'MESH:D007395': {'f1': {'mean': 0.0, 'std': 0.0},\n",
       "  'pr': {'mean': 0.0, 'std': 0.0},\n",
       "  'rc': {'mean': 0.0, 'std': 0.0}},\n",
       " 'ungrounded': {'f1': {'mean': 0.853478, 'std': 0.011479},\n",
       "  'pr': {'mean': 0.854573, 'std': 0.020447},\n",
       "  'rc': {'mean': 0.852944, 'std': 0.018189}},\n",
       " 'MESH:D007259': {'f1': {'mean': 0.875969, 'std': 0.030381},\n",
       "  'pr': {'mean': 0.841913, 'std': 0.046778},\n",
       "  'rc': {'mean': 0.913875, 'std': 0.01565}},\n",
       " 'MESH:D011839': {'f1': {'mean': 0.98309, 'std': 0.002642},\n",
       "  'pr': {'mean': 0.98817, 'std': 0.006014},\n",
       "  'rc': {'mean': 0.97809, 'std': 0.002317}},\n",
       " 'HGNC:9958': {'f1': {'mean': 0.2, 'std': 0.4},\n",
       "  'pr': {'mean': 0.2, 'std': 0.4},\n",
       "  'rc': {'mean': 0.2, 'std': 0.4}},\n",
       " 'MESH:D015427': {'f1': {'mean': 0.944217, 'std': 0.005115},\n",
       "  'pr': {'mean': 0.95055, 'std': 0.009673},\n",
       "  'rc': {'mean': 0.938133, 'std': 0.010891}},\n",
       " 'MESH:D012220': {'f1': {'mean': 0.6, 'std': 0.489898},\n",
       "  'pr': {'mean': 0.6, 'std': 0.489898},\n",
       "  'rc': {'mean': 0.6, 'std': 0.489898}},\n",
       " 'MESH:D014947': {'f1': {'mean': 0.0, 'std': 0.0},\n",
       "  'pr': {'mean': 0.0, 'std': 0.0},\n",
       "  'rc': {'mean': 0.0, 'std': 0.0}},\n",
       " 'DOID:DOID:12510': {'f1': {'mean': 0.0, 'std': 0.0},\n",
       "  'pr': {'mean': 0.0, 'std': 0.0},\n",
       "  'rc': {'mean': 0.0, 'std': 0.0}},\n",
       " 'MESH:D012160': {'f1': {'mean': 0.0, 'std': 0.0},\n",
       "  'pr': {'mean': 0.0, 'std': 0.0},\n",
       "  'rc': {'mean': 0.0, 'std': 0.0}},\n",
       " 'MESH:D007333': {'f1': {'mean': 0.950721, 'std': 0.002997},\n",
       "  'pr': {'mean': 0.952481, 'std': 0.008344},\n",
       "  'rc': {'mean': 0.949082, 'std': 0.007749}},\n",
       " 'EFO:0001216': {'f1': {'mean': 0.0, 'std': 0.0},\n",
       "  'pr': {'mean': 0.0, 'std': 0.0},\n",
       "  'rc': {'mean': 0.0, 'std': 0.0}},\n",
       " 'HGNC:6091': {'f1': {'mean': 0.921014, 'std': 0.005479},\n",
       "  'pr': {'mean': 0.918005, 'std': 0.0125},\n",
       "  'rc': {'mean': 0.924212, 'std': 0.007422}}}"
      ]
     },
     "execution_count": 33,
     "metadata": {},
     "output_type": "execute_result"
    }
   ],
   "source": [
    "classifier.stats"
   ]
  },
  {
   "cell_type": "code",
   "execution_count": 37,
   "metadata": {},
   "outputs": [],
   "source": [
    "disamb = AdeftDisambiguator(classifier, grounding_dict, names)"
   ]
  },
  {
   "cell_type": "code",
   "execution_count": 38,
   "metadata": {},
   "outputs": [],
   "source": [
    "disamb.dump(model_name, results_path)"
   ]
  },
  {
   "cell_type": "code",
   "execution_count": 39,
   "metadata": {},
   "outputs": [
    {
     "name": "stdout",
     "output_type": "stream",
     "text": [
      "Disambiguation model for IR\n",
      "\n",
      "Produces the disambiguations:\n",
      "\tINSR*\tHGNC:6091\n",
      "\tIle-Arg\tCHEBI:CHEBI:74061\n",
      "\tInfrared Rays\tMESH:D007259\n",
      "\tInsulin Resistance\tMESH:D007333\n",
      "\tInterneurons\tMESH:D007395\n",
      "\tMDAMB468\tEFO:0001216\n",
      "\tREN\tHGNC:9958\n",
      "\tRadiation, Ionizing*\tMESH:D011839\n",
      "\tReperfusion Injury\tMESH:D015427\n",
      "\tRetina\tMESH:D012160\n",
      "\tRhinitis\tMESH:D012220\n",
      "\tWounds and Injuries\tMESH:D014947\n",
      "\tretinal ischemia\tDOID:DOID:12510\n",
      "\troot structure\tEFO:0000989\n",
      "\n",
      "Class level metrics:\n",
      "--------------------\n",
      "Grounding          \tCount\tF1     \n",
      "Radiation, Ionizing*\t3296\t0.98309\n",
      " Insulin Resistance\t1894\t0.95072\n",
      "               INSR*\t1512\t0.92101\n",
      " Reperfusion Injury\t1193\t0.94422\n",
      "         Ungrounded\t 784\t0.85348\n",
      "      Infrared Rays\t 304\t0.87597\n",
      "Wounds and Injuries\t  34\t    0.0\n",
      "            Ile-Arg\t   5\t    0.2\n",
      "           Rhinitis\t   4\t    0.6\n",
      "                REN\t   3\t    0.2\n",
      "             Retina\t   2\t    0.0\n",
      "     root structure\t   1\t    0.0\n",
      "       Interneurons\t   1\t    0.0\n",
      "           MDAMB468\t   1\t    0.0\n",
      "   retinal ischemia\t   1\t    0.0\n",
      "\n",
      "Weighted Metrics:\n",
      "-----------------\n",
      "\tF1 score:\t0.96357\n",
      "\tPrecision:\t0.96115\n",
      "\tRecall:\t\t0.9661\n",
      "\n",
      "* Positive labels\n",
      "See Docstring for explanation\n",
      "\n"
     ]
    }
   ],
   "source": [
    "print(disamb.info())"
   ]
  },
  {
   "cell_type": "code",
   "execution_count": 40,
   "metadata": {},
   "outputs": [],
   "source": [
    "model_to_s3(disamb)"
   ]
  },
  {
   "cell_type": "code",
   "execution_count": 30,
   "metadata": {},
   "outputs": [],
   "source": [
    "preds = [disamb.disambiguate(text) for text in all_texts.values()]"
   ]
  },
  {
   "cell_type": "code",
   "execution_count": 31,
   "metadata": {},
   "outputs": [],
   "source": [
    "texts = [text for pred, text in zip(preds, all_texts.values()) if pred[0] == 'HGNC:10967']"
   ]
  },
  {
   "cell_type": "code",
   "execution_count": 36,
   "metadata": {},
   "outputs": [
    {
     "data": {
      "text/plain": [
       "'The non-neuronal monoamine transporters (OCT1, OCT2, EMT, and PMAT) play a key role in the clearance of monoamines from extracellular compartments. In a previous report we described endometrial distribution and cyclic variation of the vesicular monoamine transporter (VMAT2) mRNA and the neuronal norepinephrine transporter (NET) mRNA. In the present study we used in situ hybridization, real-time PCR and immunohistochemistry to reveal tissue distribution and cyclic variation of mRNA for the non-neuronal monoamine transporters in the human endometrium and early pregnancy decidua. We found that non-neuronal monoamine transporters are predominantly expressed in the stroma. The plasma membrane monoamine transporter (PMAT) mRNA expression peaked in the proliferative phase, whereas the extra-neuronal monoamine transporter (EMT) mRNA expression peaked in the secretory phase. The organic cation transporter 2 (OCT2) mRNA expression was exclusively detected in few scattered stromal cells and OCT1 mRNA was not detected at all. Our present results demonstrate that PMAT, EMT, and OCT2 transporters are expressed in the endometrial stroma and can potentially regulate reuptake of monoamines in general and histamine in particular. Taken together with our previous finding of VMAT2 mRNA in epithelial cells, we suggest a paracrine interaction between stromal and epithelial cells, which may modulate certain steps of the reproductive process.\\n'"
      ]
     },
     "execution_count": 36,
     "metadata": {},
     "output_type": "execute_result"
    }
   ],
   "source": [
    "texts[3]"
   ]
  },
  {
   "cell_type": "code",
   "execution_count": null,
   "metadata": {},
   "outputs": [],
   "source": []
  }
 ],
 "metadata": {
  "kernelspec": {
   "display_name": "Python 3",
   "language": "python",
   "name": "python3"
  },
  "language_info": {
   "codemirror_mode": {
    "name": "ipython",
    "version": 3
   },
   "file_extension": ".py",
   "mimetype": "text/x-python",
   "name": "python",
   "nbconvert_exporter": "python",
   "pygments_lexer": "ipython3",
   "version": "3.8.4"
  }
 },
 "nbformat": 4,
 "nbformat_minor": 2
}
