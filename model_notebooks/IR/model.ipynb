{
 "cells": [
  {
   "cell_type": "markdown",
   "metadata": {},
   "source": [
    "Import scripts for getting content"
   ]
  },
  {
   "cell_type": "code",
   "execution_count": 1,
   "metadata": {},
   "outputs": [],
   "source": [
    "from adeft_indra.database_content import get_plaintexts_for_agent_texts, get_agent_stmts"
   ]
  },
  {
   "cell_type": "markdown",
   "metadata": {},
   "source": [
    "Use this function to get texts. This may take a while. Everything is cached so if you need to run this again it will be much faster."
   ]
  },
  {
   "cell_type": "code",
   "execution_count": 2,
   "metadata": {},
   "outputs": [],
   "source": [
    "ad_texts = get_plaintexts_for_agent_texts([''])"
   ]
  },
  {
   "cell_type": "code",
   "execution_count": 3,
   "metadata": {},
   "outputs": [],
   "source": [
    "from adeft.discover import AdeftMiner"
   ]
  },
  {
   "cell_type": "code",
   "execution_count": 4,
   "metadata": {},
   "outputs": [],
   "source": [
    "ad_miner = AdeftMiner('AD')"
   ]
  },
  {
   "cell_type": "code",
   "execution_count": 5,
   "metadata": {},
   "outputs": [],
   "source": [
    "ad_miner.process_texts(ad_texts)"
   ]
  },
  {
   "cell_type": "code",
   "execution_count": 6,
   "metadata": {},
   "outputs": [
    {
     "name": "stdout",
     "output_type": "stream",
     "text": [
      "[('alzheimer s disease', 26271.058057404156),\n",
      " ('atopic dermatitis', 4307.0579216354345),\n",
      " ('alcohol dependence', 508.2251908396948),\n",
      " ('adiponectin', 323.6166666666667),\n",
      " ('activation domain', 246.8719512195122),\n",
      " ('antidepressant', 190.38532110091742),\n",
      " ('alzheimer s', 187.07692307692307),\n",
      " ('axial diffusivity', 173.8507462686567),\n",
      " ('androstenedione', 165.25773195876283),\n",
      " ('androgen deprivation', 164.4748201438849),\n",
      " ('autosomal dominant', 146.8987341772152),\n",
      " ('anaerobic digestion', 141.70312500000003),\n",
      " ('aortic dissection', 122.15126050420167),\n",
      " ('autonomic dysreflexia', 104.78640776699027),\n",
      " ('adenosine', 101.67256637168141),\n",
      " ('amiodarone', 99.92307692307692),\n",
      " ('alzheimer s dementia', 97.65306122448979),\n",
      " ('adenocarcinoma', 93.02702702702703),\n",
      " ('asian dust', 88.96551724137933),\n",
      " ('effect of andrographolide', 80.37931034482759),\n",
      " ('atherogenic diet', 79.63043478260869),\n",
      " ('d', 75.6115107913669),\n",
      " ('afterdischarge', 70.27027027027027),\n",
      " ('aortic distensibility', 68.53424657534248),\n",
      " ('alendronate', 62.0),\n",
      " ('patients', 57.775),\n",
      " ('anoxic depolarization', 50.35087719298245),\n",
      " ('disorders', 49.17948717948718),\n",
      " ('density', 48.51063829787234),\n",
      " ('adipogenesis', 46.285714285714285),\n",
      " ('antidepressant drugs', 40.36363636363636)]\n"
     ]
    }
   ],
   "source": [
    "from pprint import pprint\n",
    "\n",
    "longforms = ad_miner.get_longforms(cutoff=40)\n",
    "pprint(longforms)"
   ]
  },
  {
   "cell_type": "code",
   "execution_count": 7,
   "metadata": {},
   "outputs": [],
   "source": [
    "longforms, scores = zip(*longforms)"
   ]
  },
  {
   "cell_type": "code",
   "execution_count": 11,
   "metadata": {},
   "outputs": [],
   "source": [
    "from adeft_indra.ground import make_grounding_map\n",
    "\n",
    "grounding_map, names = make_grounding_map(longforms)"
   ]
  },
  {
   "cell_type": "code",
   "execution_count": 12,
   "metadata": {},
   "outputs": [
    {
     "data": {
      "text/plain": [
       "({'activation domain': 'ungrounded',\n",
       "  'adenocarcinoma': 'MESH:D000230',\n",
       "  'adenosine': 'CHEBI:CHEBI:16335',\n",
       "  'adipogenesis': 'MESH:D050156',\n",
       "  'adiponectin': 'HGNC:13633',\n",
       "  'afterdischarge': 'ungrounded',\n",
       "  'alcohol dependence': 'MESH:D000437',\n",
       "  'alendronate': 'MESH:D019386',\n",
       "  'alzheimer s': 'ungrounded',\n",
       "  'alzheimer s dementia': 'ungrounded',\n",
       "  'alzheimer s disease': 'ungrounded',\n",
       "  'amiodarone': 'CHEBI:CHEBI:2663',\n",
       "  'anaerobic digestion': 'ungrounded',\n",
       "  'androgen deprivation': 'ungrounded',\n",
       "  'androstenedione': 'MESH:D000735',\n",
       "  'anoxic depolarization': 'ungrounded',\n",
       "  'antidepressant': 'CHEBI:CHEBI:35469',\n",
       "  'antidepressant drugs': 'CHEBI:CHEBI:35469',\n",
       "  'aortic dissection': 'ungrounded',\n",
       "  'aortic distensibility': 'ungrounded',\n",
       "  'asian dust': 'ungrounded',\n",
       "  'atherogenic diet': 'ungrounded',\n",
       "  'atopic dermatitis': 'MESH:D003876',\n",
       "  'autonomic dysreflexia': 'MESH:D020211',\n",
       "  'autosomal dominant': 'ungrounded',\n",
       "  'axial diffusivity': 'ungrounded',\n",
       "  'd': 'ungrounded',\n",
       "  'density': 'ungrounded',\n",
       "  'disorders': 'ungrounded',\n",
       "  'effect of andrographolide': 'ungrounded',\n",
       "  'patients': 'ungrounded'},\n",
       " {'MESH:D000230': 'Adenocarcinoma',\n",
       "  'CHEBI:CHEBI:16335': 'adenosine',\n",
       "  'MESH:D050156': 'Adipogenesis',\n",
       "  'HGNC:13633': 'ADIPOQ',\n",
       "  'MESH:D000437': 'Alcoholism',\n",
       "  'MESH:D019386': 'Alendronate',\n",
       "  'CHEBI:CHEBI:2663': 'amiodarone',\n",
       "  'MESH:D000735': 'Androstenedione',\n",
       "  'CHEBI:CHEBI:35469': 'antidepressant',\n",
       "  'MESH:D003876': 'Dermatitis, Atopic',\n",
       "  'MESH:D020211': 'Autonomic Dysreflexia'},\n",
       " ['HGNC:13633', 'MESH:D000735'])"
      ]
     },
     "execution_count": 12,
     "metadata": {},
     "output_type": "execute_result"
    }
   ],
   "source": [
    "ground_with_gui(longforms, scores, grounding_map=grounding_map, names=names)"
   ]
  },
  {
   "cell_type": "code",
   "execution_count": 13,
   "metadata": {},
   "outputs": [
    {
     "data": {
      "text/plain": [
       "68.0"
      ]
     },
     "execution_count": 13,
     "metadata": {},
     "output_type": "execute_result"
    }
   ],
   "source": [
    "(30**2 + 50**2)/50"
   ]
  },
  {
   "cell_type": "code",
   "execution_count": null,
   "metadata": {},
   "outputs": [],
   "source": []
  }
 ],
 "metadata": {
  "kernelspec": {
   "display_name": "Python 3",
   "language": "python",
   "name": "python3"
  },
  "language_info": {
   "codemirror_mode": {
    "name": "ipython",
    "version": 3
   },
   "file_extension": ".py",
   "mimetype": "text/x-python",
   "name": "python",
   "nbconvert_exporter": "python",
   "pygments_lexer": "ipython3",
   "version": "3.7.2"
  }
 },
 "nbformat": 4,
 "nbformat_minor": 2
}
