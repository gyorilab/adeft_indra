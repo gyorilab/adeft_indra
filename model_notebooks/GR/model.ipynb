{
 "cells": [
  {
   "cell_type": "code",
   "execution_count": 1,
   "metadata": {},
   "outputs": [],
   "source": [
    "import os\n",
    "import json\n",
    "import pickle\n",
    "import random\n",
    "from collections import defaultdict, Counter\n",
    "\n",
    "from indra.literature.adeft_tools import universal_extract_text\n",
    "from indra.databases.hgnc_client import get_hgnc_name, get_hgnc_id\n",
    "\n",
    "from adeft.discover import AdeftMiner\n",
    "from adeft.gui import ground_with_gui\n",
    "from adeft.modeling.label import AdeftLabeler\n",
    "from adeft.modeling.classify import AdeftClassifier\n",
    "from adeft.disambiguate import AdeftDisambiguator, load_disambiguator\n",
    "\n",
    "\n",
    "from adeft_indra.ground.ground import AdeftGrounder\n",
    "from adeft_indra.model_building.s3 import model_to_s3\n",
    "from adeft_indra.model_building.escape import escape_filename\n",
    "from adeft_indra.db.content import get_pmids_for_agent_text, get_pmids_for_entity, \\\n",
    "    get_plaintexts_for_pmids"
   ]
  },
  {
   "cell_type": "code",
   "execution_count": 2,
   "metadata": {},
   "outputs": [],
   "source": [
    "adeft_grounder = AdeftGrounder()"
   ]
  },
  {
   "cell_type": "code",
   "execution_count": 3,
   "metadata": {},
   "outputs": [],
   "source": [
    "shortforms = ['GR']\n",
    "model_name = ':'.join(sorted(escape_filename(shortform) for shortform in shortforms))\n",
    "results_path = os.path.abspath(os.path.join('../..', 'results', model_name))"
   ]
  },
  {
   "cell_type": "code",
   "execution_count": 4,
   "metadata": {},
   "outputs": [],
   "source": [
    "miners = dict()\n",
    "all_texts = {}\n",
    "for shortform in shortforms:\n",
    "    pmids = get_pmids_for_agent_text(shortform)\n",
    "    text_dict = get_plaintexts_for_pmids(pmids, contains=shortforms)\n",
    "    text_dict = {pmid: text for pmid, text in text_dict.items() if len(text) > 5}\n",
    "    miners[shortform] = AdeftMiner(shortform)\n",
    "    miners[shortform].process_texts(text_dict.values())\n",
    "    all_texts.update(text_dict)\n",
    "\n",
    "longform_dict = {}\n",
    "for shortform in shortforms:\n",
    "    longforms = miners[shortform].get_longforms()\n",
    "    longforms = [(longform, count, score) for longform, count, score in longforms\n",
    "                 if count*score > 2]\n",
    "    longform_dict[shortform] = longforms\n",
    "    \n",
    "combined_longforms = Counter()\n",
    "for longform_rows in longform_dict.values():\n",
    "    combined_longforms.update({longform: count for longform, count, score\n",
    "                               in longform_rows})\n",
    "grounding_map = {}\n",
    "names = {}\n",
    "for longform in combined_longforms:\n",
    "    groundings = adeft_grounder.ground(longform)\n",
    "    if groundings:\n",
    "        grounding = groundings[0]['grounding']\n",
    "        grounding_map[longform] = grounding\n",
    "        names[grounding] = groundings[0]['name']\n",
    "longforms, counts = zip(*combined_longforms.most_common())\n",
    "pos_labels = []"
   ]
  },
  {
   "cell_type": "code",
   "execution_count": 5,
   "metadata": {},
   "outputs": [
    {
     "data": {
      "text/plain": [
       "[('glucocorticoid receptor', 4805),\n",
       " ('glutathione reductase', 1112),\n",
       " ('gc receptor', 228),\n",
       " ('glucocorticoid', 162),\n",
       " ('glyphosate resistant', 42),\n",
       " ('gemcitabine resistant', 38),\n",
       " ('glucose restriction', 37),\n",
       " ('graphene', 32),\n",
       " ('gsh reductase', 23),\n",
       " ('glycyrrhizin', 16),\n",
       " ('gefitinib resistant', 16),\n",
       " ('gingival recession', 15),\n",
       " ('growth rate', 15),\n",
       " ('gssg reductase', 15),\n",
       " ('growth restriction', 14),\n",
       " ('glucocorticosteroid receptor', 14),\n",
       " ('glycyrrhizae radix', 13),\n",
       " ('glycine arginine', 13),\n",
       " ('gp 6 and', 12),\n",
       " ('fresh and aged', 11),\n",
       " ('glutathione reductase activity', 10),\n",
       " ('glucagon receptor', 10),\n",
       " ('glycine rich', 9),\n",
       " ('gamma radiation', 9),\n",
       " ('gloeobacter rhodopsin', 8),\n",
       " ('glutamate racemase', 7),\n",
       " ('glucose reperfusion', 7),\n",
       " ('glycemic response', 7),\n",
       " ('glucorticoid receptor', 7),\n",
       " ('granulomas', 6),\n",
       " ('gastrodiae rhizoma', 6),\n",
       " ('genu recurvatum', 6),\n",
       " ('germination rate', 6),\n",
       " ('receptor gene', 6),\n",
       " ('gamma ray', 5),\n",
       " ('glucocorticoid resistant', 5),\n",
       " ('glucocorticoid receptor α', 5),\n",
       " ('gpx and reductase', 5),\n",
       " ('germination receptor', 5),\n",
       " ('ground rye', 4),\n",
       " ('gr', 4),\n",
       " ('glucocorticoid receptor alpha', 4),\n",
       " ('glutathione reductase assay', 4),\n",
       " ('glucocorticoid receptor complex', 4),\n",
       " ('general related', 3),\n",
       " ('green rust', 3),\n",
       " ('general regression', 3),\n",
       " ('genomic rescue', 3),\n",
       " ('glucose reintroduction', 3),\n",
       " ('good respond', 3),\n",
       " ('gr113808', 3),\n",
       " ('graft rejection', 3),\n",
       " ('graphite', 3),\n",
       " ('growing rod', 3),\n",
       " ('group', 3),\n",
       " ('glucose response', 3),\n",
       " ('glycaemic response', 3),\n",
       " ('glucoraphanin', 3),\n",
       " ('ganetespib resistant', 3),\n",
       " ('gem resistant', 3),\n",
       " ('glyoxylate reductase', 3),\n",
       " ('glycine reductase', 3),\n",
       " ('growth rate inhibition', 3),\n",
       " ('ga 80 recruitment', 3),\n",
       " ('glutathione disulfide reductase', 3)]"
      ]
     },
     "execution_count": 5,
     "metadata": {},
     "output_type": "execute_result"
    }
   ],
   "source": [
    "list(zip(longforms, counts))"
   ]
  },
  {
   "cell_type": "code",
   "execution_count": 6,
   "metadata": {},
   "outputs": [],
   "source": [
    "try:\n",
    "    disamb = load_disambiguator(shortforms[0])\n",
    "    for shortform, gm in disamb.grounding_dict.items():\n",
    "        for longform, grounding in gm.items():\n",
    "            grounding_map[longform] = grounding\n",
    "    for grounding, name in disamb.names.items():\n",
    "        names[grounding] = name\n",
    "    pos_labels = disamb.pos_labels\n",
    "except Exception:\n",
    "    pass"
   ]
  },
  {
   "cell_type": "code",
   "execution_count": 7,
   "metadata": {},
   "outputs": [
    {
     "data": {
      "text/plain": [
       "{'HGNC:7978': 'NR3C1',\n",
       " 'GO:GO:0038023': 'signaling receptor activity',\n",
       " 'CHEBI:CHEBI:24261': 'glucocorticoid',\n",
       " 'CHEBI:CHEBI:36973': 'graphene',\n",
       " 'CHEBI:CHEBI:15939': 'glycyrrhizinic acid',\n",
       " 'MESH:D005889': 'Gingival Recession',\n",
       " 'MESH:D000368': 'Aged',\n",
       " 'HGNC:4192': 'GCGR',\n",
       " 'MESH:D005720': 'Gamma Rays',\n",
       " 'HGNC:10012': 'RHO',\n",
       " 'MESH:D015424': 'Reperfusion',\n",
       " 'MESH:D006099': 'Granuloma',\n",
       " 'HP:HP:0002816': 'Genu recurvatum',\n",
       " 'HGNC:4623': 'GSR',\n",
       " 'MESH:C411470': 'glucocorticoid receptor alpha',\n",
       " 'GO:GO:0043235': 'receptor complex',\n",
       " 'CHEBI:CHEBI:73380': 'GR 113808',\n",
       " 'MESH:D006084': 'Graft Rejection',\n",
       " 'MESH:D006108': 'Graphite',\n",
       " 'HGNC:17255': 'KNTC1',\n",
       " 'CHEBI:CHEBI:24433': 'group',\n",
       " 'CHEBI:CHEBI:79311': 'glucoraphanin'}"
      ]
     },
     "execution_count": 7,
     "metadata": {},
     "output_type": "execute_result"
    }
   ],
   "source": [
    "names"
   ]
  },
  {
   "cell_type": "code",
   "execution_count": 8,
   "metadata": {},
   "outputs": [
    {
     "name": "stderr",
     "output_type": "stream",
     "text": [
      "INFO: [2020-11-03 15:40:16] indra.ontology.bio.ontology - Loading INDRA bio ontology from cache at /home/ubuntu/.indra/bio_ontology/1.4/bio_ontology.pkl\n"
     ]
    }
   ],
   "source": [
    "grounding_map, names, pos_labels = ground_with_gui(longforms, counts, \n",
    "                                                   grounding_map=grounding_map,\n",
    "                                                   names=names, pos_labels=pos_labels, no_browser=True, port=8891)"
   ]
  },
  {
   "cell_type": "code",
   "execution_count": 9,
   "metadata": {},
   "outputs": [],
   "source": [
    "result = [grounding_map, names, pos_labels]"
   ]
  },
  {
   "cell_type": "code",
   "execution_count": 10,
   "metadata": {},
   "outputs": [
    {
     "data": {
      "text/plain": [
       "[{'fresh and aged': 'ungrounded',\n",
       "  'ga 80 recruitment': 'ungrounded',\n",
       "  'gamma radiation': 'MESH:D005720',\n",
       "  'gamma ray': 'MESH:D005720',\n",
       "  'ganetespib resistant': 'ungrounded',\n",
       "  'gastrodiae rhizoma': 'ungrounded',\n",
       "  'gc receptor': 'HGNC:7978',\n",
       "  'gefitinib resistant': 'ungrounded',\n",
       "  'gem resistant': 'ungrounded',\n",
       "  'gemcitabine resistant': 'ungrounded',\n",
       "  'general regression': 'ungrounded',\n",
       "  'general related': 'ungrounded',\n",
       "  'genomic rescue': 'ungrounded',\n",
       "  'genu recurvatum': 'HP:HP:0002816',\n",
       "  'germination rate': 'ungrounded',\n",
       "  'germination receptor': 'ungrounded',\n",
       "  'gingival recession': 'MESH:D005889',\n",
       "  'gloeobacter rhodopsin': 'ungrounded',\n",
       "  'glucagon receptor': 'HGNC:4192',\n",
       "  'glucocorticoid': 'HGNC:7978',\n",
       "  'glucocorticoid receptor': 'HGNC:7978',\n",
       "  'glucocorticoid receptor alpha': 'HGNC:7978',\n",
       "  'glucocorticoid receptor complex': 'HGNC:7978',\n",
       "  'glucocorticoid receptor α': 'HGNC:7978',\n",
       "  'glucocorticoid resistant': 'ungrounded',\n",
       "  'glucocorticosteroid receptor': 'HGNC:7978',\n",
       "  'glucoraphanin': 'CHEBI:CHEBI:79311',\n",
       "  'glucorticoid receptor': 'HGNC:7978',\n",
       "  'glucose reintroduction': 'ungrounded',\n",
       "  'glucose reperfusion': 'ungrounded',\n",
       "  'glucose response': 'ungrounded',\n",
       "  'glucose restriction': 'ungrounded',\n",
       "  'glutamate racemase': 'UP:P22634',\n",
       "  'glutathione disulfide reductase': 'HGNC:4623',\n",
       "  'glutathione reductase': 'HGNC:4623',\n",
       "  'glutathione reductase activity': 'HGNC:4623',\n",
       "  'glutathione reductase assay': 'ungrounded',\n",
       "  'glycaemic response': 'ungrounded',\n",
       "  'glycemic response': 'ungrounded',\n",
       "  'glycine arginine': 'ungrounded',\n",
       "  'glycine reductase': 'MESH:C020815',\n",
       "  'glycine rich': 'ungrounded',\n",
       "  'glycyrrhizae radix': 'MESH:C000707873',\n",
       "  'glycyrrhizin': 'CHEBI:CHEBI:15939',\n",
       "  'glyoxylate reductase': 'ungrounded',\n",
       "  'glyphosate resistant': 'ungrounded',\n",
       "  'good respond': 'ungrounded',\n",
       "  'gp 6 and': 'ungrounded',\n",
       "  'gpx and reductase': 'ungrounded',\n",
       "  'gr': 'HGNC:4623',\n",
       "  'gr113808': 'CHEBI:CHEBI:73380',\n",
       "  'graft rejection': 'MESH:D006084',\n",
       "  'granulomas': 'MESH:D006099',\n",
       "  'graphene': 'ungrounded',\n",
       "  'graphite': 'MESH:D006108',\n",
       "  'green rust': 'ungrounded',\n",
       "  'ground rye': 'ungrounded',\n",
       "  'group': 'ungrounded',\n",
       "  'growing rod': 'ungrounded',\n",
       "  'growth rate': 'ungrounded',\n",
       "  'growth rate inhibition': 'ungrounded',\n",
       "  'growth restriction': 'ungrounded',\n",
       "  'gsh reductase': 'HGNC:4623',\n",
       "  'gssg reductase': 'HGNC:4623',\n",
       "  'receptor gene': 'ungrounded'},\n",
       " {'MESH:D005720': 'Gamma Rays',\n",
       "  'HGNC:7978': 'NR3C1',\n",
       "  'HP:HP:0002816': 'Genu recurvatum',\n",
       "  'MESH:D005889': 'Gingival Recession',\n",
       "  'HGNC:4192': 'GCGR',\n",
       "  'CHEBI:CHEBI:79311': 'glucoraphanin',\n",
       "  'UP:P22634': 'murI',\n",
       "  'HGNC:4623': 'GSR',\n",
       "  'MESH:C020815': 'glycine reductase',\n",
       "  'CHEBI:CHEBI:15939': 'glycyrrhizinic acid',\n",
       "  'CHEBI:CHEBI:73380': 'GR 113808',\n",
       "  'MESH:D006084': 'Graft Rejection',\n",
       "  'MESH:D006099': 'Granuloma',\n",
       "  'MESH:D006108': 'Graphite'},\n",
       " ['HGNC:4623', 'HGNC:7978']]"
      ]
     },
     "execution_count": 10,
     "metadata": {},
     "output_type": "execute_result"
    }
   ],
   "source": [
    "result"
   ]
  },
  {
   "cell_type": "code",
   "execution_count": 12,
   "metadata": {},
   "outputs": [],
   "source": [
    "grounding_map, names, pos_labels = [{'fresh and aged': 'ungrounded',\n",
    "  'ga 80 recruitment': 'ungrounded',\n",
    "  'gamma radiation': 'MESH:D005720',\n",
    "  'gamma ray': 'MESH:D005720',\n",
    "  'ganetespib resistant': 'ungrounded',\n",
    "  'gastrodiae rhizoma': 'ungrounded',\n",
    "  'gc receptor': 'HGNC:7978',\n",
    "  'gefitinib resistant': 'ungrounded',\n",
    "  'gem resistant': 'ungrounded',\n",
    "  'gemcitabine resistant': 'ungrounded',\n",
    "  'general regression': 'ungrounded',\n",
    "  'general related': 'ungrounded',\n",
    "  'genomic rescue': 'ungrounded',\n",
    "  'genu recurvatum': 'HP:HP:0002816',\n",
    "  'germination rate': 'ungrounded',\n",
    "  'germination receptor': 'ungrounded',\n",
    "  'gingival recession': 'MESH:D005889',\n",
    "  'gloeobacter rhodopsin': 'ungrounded',\n",
    "  'glucagon receptor': 'HGNC:4192',\n",
    "  'glucocorticoid': 'HGNC:7978',\n",
    "  'glucocorticoid receptor': 'HGNC:7978',\n",
    "  'glucocorticoid receptor alpha': 'HGNC:7978',\n",
    "  'glucocorticoid receptor complex': 'HGNC:7978',\n",
    "  'glucocorticoid receptor α': 'HGNC:7978',\n",
    "  'glucocorticoid resistant': 'ungrounded',\n",
    "  'glucocorticosteroid receptor': 'HGNC:7978',\n",
    "  'glucoraphanin': 'CHEBI:CHEBI:79311',\n",
    "  'glucorticoid receptor': 'HGNC:7978',\n",
    "  'glucose reintroduction': 'ungrounded',\n",
    "  'glucose reperfusion': 'ungrounded',\n",
    "  'glucose response': 'ungrounded',\n",
    "  'glucose restriction': 'ungrounded',\n",
    "  'glutamate racemase': 'UP:P22634',\n",
    "  'glutathione disulfide reductase': 'HGNC:4623',\n",
    "  'glutathione reductase': 'HGNC:4623',\n",
    "  'glutathione reductase activity': 'HGNC:4623',\n",
    "  'glutathione reductase assay': 'ungrounded',\n",
    "  'glycaemic response': 'ungrounded',\n",
    "  'glycemic response': 'ungrounded',\n",
    "  'glycine arginine': 'ungrounded',\n",
    "  'glycine reductase': 'MESH:C020815',\n",
    "  'glycine rich': 'ungrounded',\n",
    "  'glycyrrhizae radix': 'MESH:C000707873',\n",
    "  'glycyrrhizin': 'CHEBI:CHEBI:15939',\n",
    "  'glyoxylate reductase': 'ungrounded',\n",
    "  'glyphosate resistant': 'ungrounded',\n",
    "  'good respond': 'ungrounded',\n",
    "  'gp 6 and': 'HGNC:4623',\n",
    "  'gpx and reductase': 'ungrounded',\n",
    "  'gr': 'HGNC:4623',\n",
    "  'gr113808': 'CHEBI:CHEBI:73380',\n",
    "  'graft rejection': 'MESH:D006084',\n",
    "  'granulomas': 'MESH:D006099',\n",
    "  'graphene': 'ungrounded',\n",
    "  'graphite': 'MESH:D006108',\n",
    "  'green rust': 'ungrounded',\n",
    "  'ground rye': 'ungrounded',\n",
    "  'group': 'ungrounded',\n",
    "  'growing rod': 'ungrounded',\n",
    "  'growth rate': 'ungrounded',\n",
    "  'growth rate inhibition': 'ungrounded',\n",
    "  'growth restriction': 'ungrounded',\n",
    "  'gsh reductase': 'HGNC:4623',\n",
    "  'gssg reductase': 'HGNC:4623',\n",
    "  'receptor gene': 'ungrounded'},\n",
    " {'MESH:D005720': 'Gamma Rays',\n",
    "  'HGNC:7978': 'NR3C1',\n",
    "  'HP:HP:0002816': 'Genu recurvatum',\n",
    "  'MESH:D005889': 'Gingival Recession',\n",
    "  'HGNC:4192': 'GCGR',\n",
    "  'CHEBI:CHEBI:79311': 'glucoraphanin',\n",
    "  'UP:P22634': 'murI',\n",
    "  'HGNC:4623': 'GSR',\n",
    "  'MESH:C020815': 'glycine reductase',\n",
    "  'CHEBI:CHEBI:15939': 'glycyrrhizinic acid',\n",
    "  'CHEBI:CHEBI:73380': 'GR 113808',\n",
    "  'MESH:D006084': 'Graft Rejection',\n",
    "  'MESH:D006099': 'Granuloma',\n",
    "  'MESH:D006108': 'Graphite'},\n",
    " ['HGNC:4623', 'HGNC:7978']]"
   ]
  },
  {
   "cell_type": "code",
   "execution_count": 13,
   "metadata": {},
   "outputs": [],
   "source": [
    "excluded_longforms = ['gr', 'gp6 and']"
   ]
  },
  {
   "cell_type": "code",
   "execution_count": 14,
   "metadata": {},
   "outputs": [],
   "source": [
    "grounding_dict = {shortform: {longform: grounding_map[longform] \n",
    "                              for longform, _, _ in longforms if longform in grounding_map\n",
    "                              and longform not in excluded_longforms}\n",
    "                  for shortform, longforms in longform_dict.items()}\n",
    "result = [grounding_dict, names, pos_labels]\n",
    "\n",
    "if not os.path.exists(results_path):\n",
    "    os.mkdir(results_path)\n",
    "with open(os.path.join(results_path, f'{model_name}_preliminary_grounding_info.json'), 'w') as f:\n",
    "    json.dump(result, f)"
   ]
  },
  {
   "cell_type": "code",
   "execution_count": 15,
   "metadata": {},
   "outputs": [],
   "source": [
    "additional_entities = {}"
   ]
  },
  {
   "cell_type": "code",
   "execution_count": 16,
   "metadata": {},
   "outputs": [],
   "source": [
    "unambiguous_agent_texts = {}"
   ]
  },
  {
   "cell_type": "code",
   "execution_count": 17,
   "metadata": {},
   "outputs": [],
   "source": [
    "labeler = AdeftLabeler(grounding_dict)\n",
    "corpus = labeler.build_from_texts((text, pmid) for pmid, text in all_texts.items())\n",
    "agent_text_pmid_map = defaultdict(list)\n",
    "for text, label, id_ in corpus:\n",
    "    agent_text_pmid_map[label].append(id_)\n",
    "\n",
    "entity_pmid_map = {entity: set(get_pmids_for_entity(*entity.split(':', maxsplit=1),\n",
    "                                                major_topic=True))for entity in additional_entities}"
   ]
  },
  {
   "cell_type": "code",
   "execution_count": 18,
   "metadata": {},
   "outputs": [],
   "source": [
    "intersection1 = []\n",
    "for entity1, pmids1 in entity_pmid_map.items():\n",
    "    for entity2, pmids2 in entity_pmid_map.items():\n",
    "        intersection1.append((entity1, entity2, len(pmids1 & pmids2)))"
   ]
  },
  {
   "cell_type": "code",
   "execution_count": 19,
   "metadata": {},
   "outputs": [],
   "source": [
    "intersection2 = []\n",
    "for entity1, pmids1 in agent_text_pmid_map.items():\n",
    "    for entity2, pmids2 in entity_pmid_map.items():\n",
    "        intersection2.append((entity1, entity2, len(set(pmids1) & pmids2)))"
   ]
  },
  {
   "cell_type": "code",
   "execution_count": 20,
   "metadata": {},
   "outputs": [
    {
     "data": {
      "text/plain": [
       "[]"
      ]
     },
     "execution_count": 20,
     "metadata": {},
     "output_type": "execute_result"
    }
   ],
   "source": [
    "intersection1"
   ]
  },
  {
   "cell_type": "code",
   "execution_count": 21,
   "metadata": {},
   "outputs": [
    {
     "data": {
      "text/plain": [
       "[]"
      ]
     },
     "execution_count": 21,
     "metadata": {},
     "output_type": "execute_result"
    }
   ],
   "source": [
    "intersection2"
   ]
  },
  {
   "cell_type": "code",
   "execution_count": 22,
   "metadata": {},
   "outputs": [],
   "source": [
    "all_used_pmids = set()\n",
    "for entity, agent_texts in unambiguous_agent_texts.items():\n",
    "    used_pmids = set()\n",
    "    for agent_text in agent_texts[1]:\n",
    "        pmids = set(get_pmids_for_agent_text(agent_text))\n",
    "        new_pmids = list(pmids - all_texts.keys() - used_pmids)\n",
    "        text_dict = get_plaintexts_for_pmids(new_pmids, contains=agent_texts)\n",
    "        corpus.extend([(text, entity, pmid) for pmid, text in text_dict.items() if len(text) >= 5])\n",
    "        used_pmids.update(new_pmids)\n",
    "    all_used_pmids.update(used_pmids)\n",
    "        \n",
    "for entity, pmids in entity_pmid_map.items():\n",
    "    new_pmids = list(set(pmids) - all_texts.keys() - all_used_pmids)\n",
    "    if len(new_pmids) > 10000:\n",
    "        new_pmids = random.choices(new_pmids, k=10000)\n",
    "    _, contains = additional_entities[entity]\n",
    "    text_dict = get_plaintexts_for_pmids(new_pmids, contains=contains)\n",
    "    corpus.extend([(text, entity, pmid) for pmid, text in text_dict.items() if len(text) >= 5])"
   ]
  },
  {
   "cell_type": "code",
   "execution_count": 23,
   "metadata": {},
   "outputs": [],
   "source": [
    "names.update({key: value[0] for key, value in additional_entities.items()})\n",
    "names.update({key: value[0] for key, value in unambiguous_agent_texts.items()})\n",
    "pos_labels = list(set(pos_labels) | additional_entities.keys() |\n",
    "                  unambiguous_agent_texts.keys())"
   ]
  },
  {
   "cell_type": "code",
   "execution_count": 22,
   "metadata": {},
   "outputs": [
    {
     "name": "stderr",
     "output_type": "stream",
     "text": [
      "INFO: [2020-11-03 16:25:00] /adeft/PP/adeft/adeft/modeling/classify.py - Beginning grid search in parameter space:\n",
      "{'C': [100.0], 'max_features': [10000]}\n",
      "INFO: [2020-11-03 16:27:02] /adeft/PP/adeft/adeft/modeling/classify.py - Best f1 score of 0.9841605485629321 found for parameter values:\n",
      "{'logit__C': 100.0, 'tfidf__max_features': 10000}\n"
     ]
    }
   ],
   "source": [
    "%%capture\n",
    "\n",
    "classifier = AdeftClassifier(shortforms, pos_labels=pos_labels, random_state=1729)\n",
    "param_grid = {'C': [100.0], 'max_features': [10000]}\n",
    "texts, labels, pmids = zip(*corpus)\n",
    "classifier.cv(texts, labels, param_grid, cv=5, n_jobs=5)"
   ]
  },
  {
   "cell_type": "code",
   "execution_count": 23,
   "metadata": {
    "scrolled": true
   },
   "outputs": [
    {
     "data": {
      "text/plain": [
       "{'label_distribution': {'HGNC:4623': 830,\n",
       "  'HGNC:7978': 4024,\n",
       "  'CHEBI:CHEBI:15939': 12,\n",
       "  'MESH:D005720': 9,\n",
       "  'HGNC:4192': 9,\n",
       "  'MESH:D006099': 6,\n",
       "  'ungrounded': 181,\n",
       "  'MESH:C000707873': 10,\n",
       "  'HP:HP:0002816': 3,\n",
       "  'UP:P22634': 4,\n",
       "  'MESH:C020815': 3,\n",
       "  'CHEBI:CHEBI:73380': 2,\n",
       "  'MESH:D005889': 13,\n",
       "  'MESH:D006108': 2,\n",
       "  'MESH:D006084': 2,\n",
       "  'CHEBI:CHEBI:79311': 2},\n",
       " 'f1': {'mean': 0.984161, 'std': 0.002167},\n",
       " 'precision': {'mean': 0.975982, 'std': 0.002179},\n",
       " 'recall': {'mean': 0.992584, 'std': 0.003012},\n",
       " 'HGNC:4623': {'f1': {'mean': 0.971756, 'std': 0.007633},\n",
       "  'pr': {'mean': 0.973494, 'std': 0.015523},\n",
       "  'rc': {'mean': 0.970467, 'std': 0.017216}},\n",
       " 'CHEBI:CHEBI:15939': {'f1': {'mean': 0.333333, 'std': 0.421637},\n",
       "  'pr': {'mean': 0.3, 'std': 0.4},\n",
       "  'rc': {'mean': 0.4, 'std': 0.489898}},\n",
       " 'MESH:D005720': {'f1': {'mean': 0.0, 'std': 0.0},\n",
       "  'pr': {'mean': 0.0, 'std': 0.0},\n",
       "  'rc': {'mean': 0.0, 'std': 0.0}},\n",
       " 'HP:HP:0002816': {'f1': {'mean': 0.2, 'std': 0.4},\n",
       "  'pr': {'mean': 0.2, 'std': 0.4},\n",
       "  'rc': {'mean': 0.2, 'std': 0.4}},\n",
       " 'HGNC:4192': {'f1': {'mean': 0.533333, 'std': 0.266667},\n",
       "  'pr': {'mean': 0.4, 'std': 0.2},\n",
       "  'rc': {'mean': 0.8, 'std': 0.4}},\n",
       " 'CHEBI:CHEBI:79311': {'f1': {'mean': 0.0, 'std': 0.0},\n",
       "  'pr': {'mean': 0.0, 'std': 0.0},\n",
       "  'rc': {'mean': 0.0, 'std': 0.0}},\n",
       " 'ungrounded': {'f1': {'mean': 0.73482, 'std': 0.033574},\n",
       "  'pr': {'mean': 0.657508, 'std': 0.04097},\n",
       "  'rc': {'mean': 0.839891, 'std': 0.073593}},\n",
       " 'MESH:D006099': {'f1': {'mean': 0.733333, 'std': 0.38873},\n",
       "  'pr': {'mean': 0.8, 'std': 0.4},\n",
       "  'rc': {'mean': 0.7, 'std': 0.4}},\n",
       " 'UP:P22634': {'f1': {'mean': 0.6, 'std': 0.489898},\n",
       "  'pr': {'mean': 0.6, 'std': 0.489898},\n",
       "  'rc': {'mean': 0.6, 'std': 0.489898}},\n",
       " 'MESH:D005889': {'f1': {'mean': 0.693333, 'std': 0.369023},\n",
       "  'pr': {'mean': 0.633333, 'std': 0.371184},\n",
       "  'rc': {'mean': 0.8, 'std': 0.4}},\n",
       " 'CHEBI:CHEBI:73380': {'f1': {'mean': 0.0, 'std': 0.0},\n",
       "  'pr': {'mean': 0.0, 'std': 0.0},\n",
       "  'rc': {'mean': 0.0, 'std': 0.0}},\n",
       " 'MESH:D006108': {'f1': {'mean': 0.0, 'std': 0.0},\n",
       "  'pr': {'mean': 0.0, 'std': 0.0},\n",
       "  'rc': {'mean': 0.0, 'std': 0.0}},\n",
       " 'HGNC:7978': {'f1': {'mean': 0.98672, 'std': 0.002795},\n",
       "  'pr': {'mean': 0.996521, 'std': 0.001449},\n",
       "  'rc': {'mean': 0.977121, 'std': 0.004991}},\n",
       " 'MESH:D006084': {'f1': {'mean': 0.0, 'std': 0.0},\n",
       "  'pr': {'mean': 0.0, 'std': 0.0},\n",
       "  'rc': {'mean': 0.0, 'std': 0.0}},\n",
       " 'MESH:C000707873': {'f1': {'mean': 0.133333, 'std': 0.266667},\n",
       "  'pr': {'mean': 0.1, 'std': 0.2},\n",
       "  'rc': {'mean': 0.2, 'std': 0.4}},\n",
       " 'MESH:C020815': {'f1': {'mean': 0.6, 'std': 0.489898},\n",
       "  'pr': {'mean': 0.6, 'std': 0.489898},\n",
       "  'rc': {'mean': 0.6, 'std': 0.489898}}}"
      ]
     },
     "execution_count": 23,
     "metadata": {},
     "output_type": "execute_result"
    }
   ],
   "source": [
    "classifier.stats"
   ]
  },
  {
   "cell_type": "code",
   "execution_count": 24,
   "metadata": {},
   "outputs": [],
   "source": [
    "disamb = AdeftDisambiguator(classifier, grounding_dict, names)"
   ]
  },
  {
   "cell_type": "code",
   "execution_count": 25,
   "metadata": {},
   "outputs": [],
   "source": [
    "disamb.dump(model_name, results_path)"
   ]
  },
  {
   "cell_type": "code",
   "execution_count": 28,
   "metadata": {},
   "outputs": [
    {
     "name": "stdout",
     "output_type": "stream",
     "text": [
      "Disambiguation model for GR\n",
      "\n",
      "Produces the disambiguations:\n",
      "\tGCGR\tHGNC:4192\n",
      "\tGR 113808\tCHEBI:CHEBI:73380\n",
      "\tGSR*\tHGNC:4623\n",
      "\tGamma Rays\tMESH:D005720\n",
      "\tGenu recurvatum\tHP:HP:0002816\n",
      "\tGingival Recession\tMESH:D005889\n",
      "\tGraft Rejection\tMESH:D006084\n",
      "\tGranuloma\tMESH:D006099\n",
      "\tGraphite\tMESH:D006108\n",
      "\tNR3C1*\tHGNC:7978\n",
      "\tglucoraphanin\tCHEBI:CHEBI:79311\n",
      "\tglycine reductase\tMESH:C020815\n",
      "\tglycyrrhizinic acid\tCHEBI:CHEBI:15939\n",
      "\tmurI\tUP:P22634\n",
      "\n",
      "Class level metrics:\n",
      "--------------------\n",
      "Grounding          \tCount\tF1     \n",
      "              NR3C1*\t4024\t0.98672\n",
      "                GSR*\t 830\t0.97176\n",
      "         Ungrounded\t 181\t0.73482\n",
      " Gingival Recession\t  13\t0.69333\n",
      "glycyrrhizinic acid\t  12\t0.33333\n",
      "         Ungrounded\t  10\t0.13333\n",
      "         Gamma Rays\t   9\t    0.0\n",
      "               GCGR\t   9\t0.53333\n",
      "          Granuloma\t   6\t0.73333\n",
      "               murI\t   4\t    0.6\n",
      "    Genu recurvatum\t   3\t    0.2\n",
      "  glycine reductase\t   3\t    0.6\n",
      "          GR 113808\t   2\t    0.0\n",
      "           Graphite\t   2\t    0.0\n",
      "    Graft Rejection\t   2\t    0.0\n",
      "      glucoraphanin\t   2\t    0.0\n",
      "\n",
      "Weighted Metrics:\n",
      "-----------------\n",
      "\tF1 score:\t0.98416\n",
      "\tPrecision:\t0.97598\n",
      "\tRecall:\t\t0.99258\n",
      "\n",
      "* Positive labels\n",
      "See Docstring for explanation\n",
      "\n"
     ]
    }
   ],
   "source": [
    "print(disamb.info())"
   ]
  },
  {
   "cell_type": "code",
   "execution_count": 29,
   "metadata": {},
   "outputs": [],
   "source": [
    "model_to_s3(disamb)"
   ]
  },
  {
   "cell_type": "code",
   "execution_count": 30,
   "metadata": {},
   "outputs": [],
   "source": [
    "preds = [disamb.disambiguate(text) for text in all_texts.values()]"
   ]
  },
  {
   "cell_type": "code",
   "execution_count": 31,
   "metadata": {},
   "outputs": [],
   "source": [
    "texts = [text for pred, text in zip(preds, all_texts.values()) if pred[0] == 'HGNC:10967']"
   ]
  },
  {
   "cell_type": "code",
   "execution_count": 36,
   "metadata": {},
   "outputs": [
    {
     "data": {
      "text/plain": [
       "'The non-neuronal monoamine transporters (OCT1, OCT2, EMT, and PMAT) play a key role in the clearance of monoamines from extracellular compartments. In a previous report we described endometrial distribution and cyclic variation of the vesicular monoamine transporter (VMAT2) mRNA and the neuronal norepinephrine transporter (NET) mRNA. In the present study we used in situ hybridization, real-time PCR and immunohistochemistry to reveal tissue distribution and cyclic variation of mRNA for the non-neuronal monoamine transporters in the human endometrium and early pregnancy decidua. We found that non-neuronal monoamine transporters are predominantly expressed in the stroma. The plasma membrane monoamine transporter (PMAT) mRNA expression peaked in the proliferative phase, whereas the extra-neuronal monoamine transporter (EMT) mRNA expression peaked in the secretory phase. The organic cation transporter 2 (OCT2) mRNA expression was exclusively detected in few scattered stromal cells and OCT1 mRNA was not detected at all. Our present results demonstrate that PMAT, EMT, and OCT2 transporters are expressed in the endometrial stroma and can potentially regulate reuptake of monoamines in general and histamine in particular. Taken together with our previous finding of VMAT2 mRNA in epithelial cells, we suggest a paracrine interaction between stromal and epithelial cells, which may modulate certain steps of the reproductive process.\\n'"
      ]
     },
     "execution_count": 36,
     "metadata": {},
     "output_type": "execute_result"
    }
   ],
   "source": [
    "texts[3]"
   ]
  },
  {
   "cell_type": "code",
   "execution_count": null,
   "metadata": {},
   "outputs": [],
   "source": []
  }
 ],
 "metadata": {
  "kernelspec": {
   "display_name": "Python 3",
   "language": "python",
   "name": "python3"
  },
  "language_info": {
   "codemirror_mode": {
    "name": "ipython",
    "version": 3
   },
   "file_extension": ".py",
   "mimetype": "text/x-python",
   "name": "python",
   "nbconvert_exporter": "python",
   "pygments_lexer": "ipython3",
   "version": "3.8.4"
  }
 },
 "nbformat": 4,
 "nbformat_minor": 2
}
