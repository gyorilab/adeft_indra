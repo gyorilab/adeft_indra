{
 "cells": [
  {
   "cell_type": "code",
   "execution_count": 1,
   "metadata": {},
   "outputs": [],
   "source": [
    "import os\n",
    "import json\n",
    "import pickle\n",
    "import random\n",
    "from collections import defaultdict, Counter\n",
    "\n",
    "from indra.literature.adeft_tools import universal_extract_text\n",
    "from indra.databases.hgnc_client import get_hgnc_name, get_hgnc_id\n",
    "\n",
    "from adeft.discover import AdeftMiner\n",
    "from adeft.gui import ground_with_gui\n",
    "from adeft.modeling.label import AdeftLabeler\n",
    "from adeft.modeling.classify import AdeftClassifier\n",
    "from adeft.disambiguate import AdeftDisambiguator\n",
    "\n",
    "\n",
    "from adeft_indra.ground.ground import AdeftGrounder\n",
    "from adeft_indra.model_building.s3 import model_to_s3\n",
    "from adeft_indra.model_building.escape import escape_filename\n",
    "from adeft_indra.db.content import get_pmids_for_agent_text, get_pmids_for_entity, \\\n",
    "    get_plaintexts_for_pmids"
   ]
  },
  {
   "cell_type": "code",
   "execution_count": 2,
   "metadata": {},
   "outputs": [],
   "source": [
    "adeft_grounder = AdeftGrounder()"
   ]
  },
  {
   "cell_type": "code",
   "execution_count": 3,
   "metadata": {},
   "outputs": [],
   "source": [
    "shortforms = ['CLS']\n",
    "model_name = ':'.join(sorted(escape_filename(shortform) for shortform in shortforms))\n",
    "results_path = os.path.abspath(os.path.join('../..', 'results', model_name))"
   ]
  },
  {
   "cell_type": "code",
   "execution_count": 25,
   "metadata": {},
   "outputs": [],
   "source": [
    "miners = dict()\n",
    "all_texts = {}\n",
    "for shortform in shortforms:\n",
    "    pmids = get_pmids_for_agent_text(shortform)\n",
    "    if len(pmids) > 10000:\n",
    "        pmids = random.choices(pmids, k=10000)\n",
    "    text_dict = get_plaintexts_for_pmids(pmids, contains=shortforms)\n",
    "    text_dict = {pmid: text for pmid, text in text_dict.items() if len(text) > 5}\n",
    "    miners[shortform] = AdeftMiner(shortform)\n",
    "    miners[shortform].process_texts(text_dict.values())\n",
    "    all_texts.update(text_dict)\n",
    "\n",
    "longform_dict = {}\n",
    "for shortform in shortforms:\n",
    "    longforms = miners[shortform].get_longforms()\n",
    "    longforms = [(longform, count, score) for longform, count, score in longforms\n",
    "                 if count*score > 1]\n",
    "    longform_dict[shortform] = longforms\n",
    "    \n",
    "combined_longforms = Counter()\n",
    "for longform_rows in longform_dict.values():\n",
    "    combined_longforms.update({longform: count for longform, count, score\n",
    "                               in longform_rows})\n",
    "grounding_map = {}\n",
    "names = {}\n",
    "for longform in combined_longforms:\n",
    "    groundings = adeft_grounder.ground(longform)\n",
    "    if groundings:\n",
    "        grounding = groundings[0]['grounding']\n",
    "        grounding_map[longform] = grounding\n",
    "        names[grounding] = groundings[0]['name']\n",
    "longforms, counts = zip(*combined_longforms.most_common())\n",
    "pos_labels = []"
   ]
  },
  {
   "cell_type": "code",
   "execution_count": 26,
   "metadata": {},
   "outputs": [
    {
     "data": {
      "text/plain": [
       "[('chronological lifespan', 110),\n",
       " ('chronological life span', 66),\n",
       " ('crown like structures', 62),\n",
       " ('capillary leak syndrome', 18),\n",
       " ('coffin lowry syndrome', 15),\n",
       " ('capillary like structures', 10),\n",
       " ('cardiolipin synthase', 9),\n",
       " ('centrosomal localization signal', 8),\n",
       " ('cyst like structures', 7),\n",
       " ('clitoral stimulation', 6),\n",
       " ('closantel', 6),\n",
       " ('catheter lock solution', 4),\n",
       " ('contact lens sensor', 4),\n",
       " ('cl synthase', 4),\n",
       " ('condomless sex', 4),\n",
       " ('capture long seq', 3),\n",
       " ('circular leaf spot', 3),\n",
       " ('cre like sequence', 3),\n",
       " ('ciliary localization signal', 3),\n",
       " ('chloramphenicol succinate', 3),\n",
       " ('cilostazol', 3),\n",
       " ('camp response element like sequence', 3),\n",
       " ('chemical lumbar sympathectomy', 2),\n",
       " ('chikui likelihood scale', 2),\n",
       " ('closed loop system', 2),\n",
       " ('conventional laparoscopic surgery', 2),\n",
       " ('cercospora leaf spot', 2),\n",
       " ('cytoplasmic localization signal', 2)]"
      ]
     },
     "execution_count": 26,
     "metadata": {},
     "output_type": "execute_result"
    }
   ],
   "source": [
    "list(zip(longforms, counts))"
   ]
  },
  {
   "cell_type": "code",
   "execution_count": 6,
   "metadata": {},
   "outputs": [
    {
     "name": "stderr",
     "output_type": "stream",
     "text": [
      "INFO: [2020-10-03 01:49:41] indra.ontology.bio.ontology - Loading INDRA bio ontology from cache at /home/ubuntu/.indra/bio_ontology/1.2/bio_ontology.pkl\n"
     ]
    }
   ],
   "source": [
    "grounding_map, names, pos_labels = ground_with_gui(longforms, counts, \n",
    "                                                   grounding_map=grounding_map,\n",
    "                                                   names=names, pos_labels=pos_labels, no_browser=True, port=8890)"
   ]
  },
  {
   "cell_type": "code",
   "execution_count": 7,
   "metadata": {},
   "outputs": [],
   "source": [
    "result = [grounding_map, names, pos_labels]"
   ]
  },
  {
   "cell_type": "code",
   "execution_count": 8,
   "metadata": {},
   "outputs": [
    {
     "data": {
      "text/plain": [
       "[{'camp response element like sequence': 'ungrounded',\n",
       "  'capillary leak syndrome': 'MESH:D019559',\n",
       "  'capillary like structures': 'capillary_like_structures',\n",
       "  'capture long seq': 'ungrounded',\n",
       "  'cardiolipin synthase': 'HGNC:16148',\n",
       "  'catheter lock solution': 'ungrounded',\n",
       "  'centrosomal localization signal': 'centrosome_localization_signal',\n",
       "  'chloramphenicol succinate': 'CHEBI:CHEBI:3606',\n",
       "  'chronological life span': 'chronological_lifespan',\n",
       "  'chronological lifespan': 'chronological_lifespan',\n",
       "  'ciliary localization signal': 'ungrounded',\n",
       "  'cilostazol': 'CHEBI:CHEBI:31401',\n",
       "  'circular leaf spot': 'ungrounded',\n",
       "  'cl synthase': 'ungrounded',\n",
       "  'clitoral stimulation': 'ungrounded',\n",
       "  'closantel': 'CHEBI:CHEBI:77053',\n",
       "  'coffin lowry syndrome': 'MESH:D038921',\n",
       "  'condomless sex': 'ungrounded',\n",
       "  'contact lens sensor': 'ungrounded',\n",
       "  'cre like sequence': 'ungrounded',\n",
       "  'crown like structures': 'NCIT:C116010',\n",
       "  'cyst like structures': 'ungrounded'},\n",
       " {'MESH:D019559': 'Capillary Leak Syndrome',\n",
       "  'capillary_like_structures': 'capillary_like_structures',\n",
       "  'HGNC:16148': 'CRLS1',\n",
       "  'centrosome_localization_signal': 'centrosome_localization_signal',\n",
       "  'CHEBI:CHEBI:3606': 'Chloramphenicol succinate',\n",
       "  'chronological_lifespan': 'chronological_lifespan',\n",
       "  'CHEBI:CHEBI:31401': 'cilostazol',\n",
       "  'CHEBI:CHEBI:77053': 'closantel',\n",
       "  'MESH:D038921': 'Coffin-Lowry Syndrome',\n",
       "  'NCIT:C116010': 'Crown-Like Structure'},\n",
       " ['HGNC:16148', 'MESH:D019559', 'MESH:D038921', 'NCIT:C116010']]"
      ]
     },
     "execution_count": 8,
     "metadata": {},
     "output_type": "execute_result"
    }
   ],
   "source": [
    "result"
   ]
  },
  {
   "cell_type": "code",
   "execution_count": 27,
   "metadata": {},
   "outputs": [],
   "source": [
    "grounding_map, names, pos_labels = [{'camp response element like sequence': 'ungrounded',\n",
    "  'capillary leak syndrome': 'MESH:D019559',\n",
    "  'capillary like structures': 'capillary_like_structures',\n",
    "  'capture long seq': 'ungrounded',\n",
    "  'cardiolipin synthase': 'HGNC:16148',\n",
    "  'catheter lock solution': 'ungrounded',\n",
    "  'centrosomal localization signal': 'centrosome_localization_signal',\n",
    "  'chloramphenicol succinate': 'CHEBI:CHEBI:3606',\n",
    "  'chronological life span': 'chronological_lifespan',\n",
    "  'chronological lifespan': 'chronological_lifespan',\n",
    "  'ciliary localization signal': 'ungrounded',\n",
    "  'cilostazol': 'CHEBI:CHEBI:31401',\n",
    "  'circular leaf spot': 'ungrounded',\n",
    "  'cl synthase': 'HGNC:16148',\n",
    "  'clitoral stimulation': 'ungrounded',\n",
    "  'closantel': 'CHEBI:CHEBI:77053',\n",
    "  'coffin lowry syndrome': 'MESH:D038921',\n",
    "  'condomless sex': 'ungrounded',\n",
    "  'contact lens sensor': 'ungrounded',\n",
    "  'cre like sequence': 'ungrounded',\n",
    "  'crown like structures': 'NCIT:C116010',\n",
    "  'cyst like structures': 'ungrounded'},\n",
    " {'MESH:D019559': 'Capillary Leak Syndrome',\n",
    "  'capillary_like_structures': 'capillary_like_structures',\n",
    "  'HGNC:16148': 'CRLS1',\n",
    "  'centrosome_localization_signal': 'centrosome_localization_signal',\n",
    "  'CHEBI:CHEBI:3606': 'Chloramphenicol succinate',\n",
    "  'chronological_lifespan': 'chronological_lifespan',\n",
    "  'CHEBI:CHEBI:31401': 'cilostazol',\n",
    "  'CHEBI:CHEBI:77053': 'closantel',\n",
    "  'MESH:D038921': 'Coffin-Lowry Syndrome',\n",
    "  'NCIT:C116010': 'Crown-Like Structure'},\n",
    " ['HGNC:16148', 'MESH:D019559', 'MESH:D038921', 'NCIT:C116010']]"
   ]
  },
  {
   "cell_type": "code",
   "execution_count": 28,
   "metadata": {},
   "outputs": [],
   "source": [
    "excluded_longforms = []"
   ]
  },
  {
   "cell_type": "code",
   "execution_count": 29,
   "metadata": {},
   "outputs": [],
   "source": [
    "grounding_dict = {shortform: {longform: grounding_map[longform] \n",
    "                              for longform, _, _ in longforms if longform in grounding_map\n",
    "                              and longform not in excluded_longforms}\n",
    "                  for shortform, longforms in longform_dict.items()}\n",
    "result = [grounding_dict, names, pos_labels]\n",
    "\n",
    "if not os.path.exists(results_path):\n",
    "    os.mkdir(results_path)\n",
    "with open(os.path.join(results_path, f'{model_name}_preliminary_grounding_info.json'), 'w') as f:\n",
    "    json.dump(result, f)"
   ]
  },
  {
   "cell_type": "code",
   "execution_count": 30,
   "metadata": {},
   "outputs": [],
   "source": [
    "additional_entities = {'HGNC:16148': ['CRLS1', ['CLS', 'CLS1']]}"
   ]
  },
  {
   "cell_type": "code",
   "execution_count": 31,
   "metadata": {},
   "outputs": [],
   "source": [
    "unambiguous_agent_texts = {}"
   ]
  },
  {
   "cell_type": "code",
   "execution_count": 32,
   "metadata": {},
   "outputs": [],
   "source": [
    "labeler = AdeftLabeler(grounding_dict)\n",
    "corpus = labeler.build_from_texts((text, pmid) for pmid, text in all_texts.items())\n",
    "agent_text_pmid_map = defaultdict(list)\n",
    "for text, label, id_ in corpus:\n",
    "    agent_text_pmid_map[label].append(id_)\n",
    "\n",
    "entity_pmid_map = {entity: set(get_pmids_for_entity(*entity.split(':', maxsplit=1),\n",
    "                                                major_topic=True))for entity in additional_entities}"
   ]
  },
  {
   "cell_type": "code",
   "execution_count": 33,
   "metadata": {},
   "outputs": [],
   "source": [
    "intersection1 = []\n",
    "for entity1, pmids1 in entity_pmid_map.items():\n",
    "    for entity2, pmids2 in entity_pmid_map.items():\n",
    "        intersection1.append((entity1, entity2, len(pmids1 & pmids2)))"
   ]
  },
  {
   "cell_type": "code",
   "execution_count": 34,
   "metadata": {},
   "outputs": [],
   "source": [
    "intersection2 = []\n",
    "for entity1, pmids1 in agent_text_pmid_map.items():\n",
    "    for entity2, pmids2 in entity_pmid_map.items():\n",
    "        intersection2.append((entity1, entity2, len(set(pmids1) & pmids2)))"
   ]
  },
  {
   "cell_type": "code",
   "execution_count": 35,
   "metadata": {},
   "outputs": [
    {
     "data": {
      "text/plain": [
       "[('HGNC:16148', 'HGNC:16148', 22)]"
      ]
     },
     "execution_count": 35,
     "metadata": {},
     "output_type": "execute_result"
    }
   ],
   "source": [
    "intersection1"
   ]
  },
  {
   "cell_type": "code",
   "execution_count": 36,
   "metadata": {},
   "outputs": [
    {
     "data": {
      "text/plain": [
       "[('CHEBI:CHEBI:77053', 'HGNC:16148', 0),\n",
       " ('ungrounded', 'HGNC:16148', 0),\n",
       " ('MESH:D019559', 'HGNC:16148', 0),\n",
       " ('MESH:D038921', 'HGNC:16148', 0),\n",
       " ('centrosome_localization_signal', 'HGNC:16148', 0),\n",
       " ('chronological_lifespan', 'HGNC:16148', 0),\n",
       " ('capillary_like_structures', 'HGNC:16148', 0),\n",
       " ('CHEBI:CHEBI:3606', 'HGNC:16148', 0),\n",
       " ('HGNC:16148', 'HGNC:16148', 1),\n",
       " ('NCIT:C116010', 'HGNC:16148', 0),\n",
       " ('CHEBI:CHEBI:31401', 'HGNC:16148', 0)]"
      ]
     },
     "execution_count": 36,
     "metadata": {},
     "output_type": "execute_result"
    }
   ],
   "source": [
    "intersection2"
   ]
  },
  {
   "cell_type": "code",
   "execution_count": null,
   "metadata": {},
   "outputs": [],
   "source": []
  },
  {
   "cell_type": "code",
   "execution_count": 37,
   "metadata": {},
   "outputs": [],
   "source": [
    "all_used_pmids = set()\n",
    "for entity, agent_texts in unambiguous_agent_texts.items():\n",
    "    used_pmids = set()\n",
    "    for agent_text in agent_texts[1]:\n",
    "        pmids = set(get_pmids_for_agent_text(agent_text))\n",
    "        new_pmids = list(pmids - all_texts.keys() - used_pmids)\n",
    "        text_dict = get_plaintexts_for_pmids(new_pmids, contains=agent_texts)\n",
    "        corpus.extend([(text, entity, pmid) for pmid, text in text_dict.items() if len(text) >= 5])\n",
    "        used_pmids.update(new_pmids)\n",
    "    all_used_pmids.update(used_pmids)\n",
    "        \n",
    "for entity, pmids in entity_pmid_map.items():\n",
    "    new_pmids = list(set(pmids) - all_texts.keys() - all_used_pmids)\n",
    "    if len(new_pmids) > 10000:\n",
    "        new_pmids = random.choices(new_pmids, k=10000)\n",
    "    _, contains = additional_entities[entity]\n",
    "    text_dict = get_plaintexts_for_pmids(new_pmids, contains=contains)\n",
    "    corpus.extend([(text, entity, pmid) for pmid, text in text_dict.items() if len(text) >= 5])"
   ]
  },
  {
   "cell_type": "code",
   "execution_count": 38,
   "metadata": {},
   "outputs": [],
   "source": [
    "names.update({key: value[0] for key, value in additional_entities.items()})\n",
    "names.update({key: value[0] for key, value in unambiguous_agent_texts.items()})\n",
    "pos_labels = list(set(pos_labels) | additional_entities.keys() |\n",
    "                  unambiguous_agent_texts.keys())"
   ]
  },
  {
   "cell_type": "code",
   "execution_count": 39,
   "metadata": {},
   "outputs": [
    {
     "name": "stderr",
     "output_type": "stream",
     "text": [
      "INFO: [2020-10-30 02:55:31] /adeft/PP/adeft/adeft/modeling/classify.py - Beginning grid search in parameter space:\n",
      "{'C': [100.0], 'max_features': [10000]}\n",
      "INFO: [2020-10-30 02:55:36] /adeft/PP/adeft/adeft/modeling/classify.py - Best f1 score of 0.9320357142857144 found for parameter values:\n",
      "{'logit__C': 100.0, 'tfidf__max_features': 10000}\n"
     ]
    }
   ],
   "source": [
    "%%capture\n",
    "\n",
    "classifier = AdeftClassifier(shortforms, pos_labels=pos_labels, random_state=1729)\n",
    "param_grid = {'C': [100.0], 'max_features': [10000]}\n",
    "texts, labels, pmids = zip(*corpus)\n",
    "classifier.cv(texts, labels, param_grid, cv=5, n_jobs=5)"
   ]
  },
  {
   "cell_type": "code",
   "execution_count": 40,
   "metadata": {
    "scrolled": true
   },
   "outputs": [
    {
     "data": {
      "text/plain": [
       "{'label_distribution': {'CHEBI:CHEBI:77053': 4,\n",
       "  'ungrounded': 31,\n",
       "  'MESH:D019559': 14,\n",
       "  'MESH:D038921': 13,\n",
       "  'centrosome_localization_signal': 5,\n",
       "  'chronological_lifespan': 113,\n",
       "  'capillary_like_structures': 6,\n",
       "  'CHEBI:CHEBI:3606': 1,\n",
       "  'HGNC:16148': 14,\n",
       "  'NCIT:C116010': 36,\n",
       "  'CHEBI:CHEBI:31401': 2},\n",
       " 'f1': {'mean': 0.932036, 'std': 0.046694},\n",
       " 'precision': {'mean': 0.9775, 'std': 0.027839},\n",
       " 'recall': {'mean': 0.910833, 'std': 0.063114},\n",
       " 'HGNC:16148': {'f1': {'mean': 0.92, 'std': 0.09798},\n",
       "  'pr': {'mean': 0.866667, 'std': 0.163299},\n",
       "  'rc': {'mean': 1.0, 'std': 0.0}},\n",
       " 'MESH:D019559': {'f1': {'mean': 0.764762, 'std': 0.170197},\n",
       "  'pr': {'mean': 0.733333, 'std': 0.249444},\n",
       "  'rc': {'mean': 0.883333, 'std': 0.145297}},\n",
       " 'CHEBI:CHEBI:3606': {'f1': {'mean': 0.0, 'std': 0.0},\n",
       "  'pr': {'mean': 0.0, 'std': 0.0},\n",
       "  'rc': {'mean': 0.0, 'std': 0.0}},\n",
       " 'ungrounded': {'f1': {'mean': 0.92028, 'std': 0.005594},\n",
       "  'pr': {'mean': 0.938095, 'std': 0.07619},\n",
       "  'rc': {'mean': 0.914286, 'std': 0.069985}},\n",
       " 'CHEBI:CHEBI:77053': {'f1': {'mean': 0.8, 'std': 0.4},\n",
       "  'pr': {'mean': 0.8, 'std': 0.4},\n",
       "  'rc': {'mean': 0.8, 'std': 0.4}},\n",
       " 'MESH:D038921': {'f1': {'mean': 0.96, 'std': 0.08},\n",
       "  'pr': {'mean': 0.933333, 'std': 0.133333},\n",
       "  'rc': {'mean': 1.0, 'std': 0.0}},\n",
       " 'NCIT:C116010': {'f1': {'mean': 1.0, 'std': 0.0},\n",
       "  'pr': {'mean': 1.0, 'std': 0.0},\n",
       "  'rc': {'mean': 1.0, 'std': 0.0}},\n",
       " 'centrosome_localization_signal': {'f1': {'mean': 1.0, 'std': 0.0},\n",
       "  'pr': {'mean': 1.0, 'std': 0.0},\n",
       "  'rc': {'mean': 1.0, 'std': 0.0}},\n",
       " 'capillary_like_structures': {'f1': {'mean': 0.733333, 'std': 0.38873},\n",
       "  'pr': {'mean': 0.7, 'std': 0.4},\n",
       "  'rc': {'mean': 0.8, 'std': 0.4}},\n",
       " 'CHEBI:CHEBI:31401': {'f1': {'mean': 0.0, 'std': 0.0},\n",
       "  'pr': {'mean': 0.0, 'std': 0.0},\n",
       "  'rc': {'mean': 0.0, 'std': 0.0}},\n",
       " 'chronological_lifespan': {'f1': {'mean': 0.961853, 'std': 0.015223},\n",
       "  'pr': {'mean': 1.0, 'std': 0.0},\n",
       "  'rc': {'mean': 0.926923, 'std': 0.028191}}}"
      ]
     },
     "execution_count": 40,
     "metadata": {},
     "output_type": "execute_result"
    }
   ],
   "source": [
    "classifier.stats"
   ]
  },
  {
   "cell_type": "code",
   "execution_count": 41,
   "metadata": {},
   "outputs": [],
   "source": [
    "disamb = AdeftDisambiguator(classifier, grounding_dict, names)"
   ]
  },
  {
   "cell_type": "code",
   "execution_count": 42,
   "metadata": {},
   "outputs": [],
   "source": [
    "disamb.dump(model_name, results_path)"
   ]
  },
  {
   "cell_type": "code",
   "execution_count": 43,
   "metadata": {},
   "outputs": [
    {
     "name": "stdout",
     "output_type": "stream",
     "text": [
      "Disambiguation model for CLS\n",
      "\n",
      "Produces the disambiguations:\n",
      "\tCRLS1*\tHGNC:16148\n",
      "\tCapillary Leak Syndrome*\tMESH:D019559\n",
      "\tChloramphenicol succinate\tCHEBI:CHEBI:3606\n",
      "\tCoffin-Lowry Syndrome*\tMESH:D038921\n",
      "\tCrown-Like Structure*\tNCIT:C116010\n",
      "\tcapillary_like_structures\tcapillary_like_structures\n",
      "\tcentrosome_localization_signal\tcentrosome_localization_signal\n",
      "\tchronological_lifespan\tchronological_lifespan\n",
      "\tcilostazol\tCHEBI:CHEBI:31401\n",
      "\tclosantel\tCHEBI:CHEBI:77053\n",
      "\n",
      "Class level metrics:\n",
      "--------------------\n",
      "Grounding                     \tCount\tF1     \n",
      "        chronological_lifespan\t113\t0.96185\n",
      "          Crown-Like Structure*\t 36\t    1.0\n",
      "                    Ungrounded\t 31\t0.92028\n",
      "       Capillary Leak Syndrome*\t 14\t0.76476\n",
      "                         CRLS1*\t 14\t   0.92\n",
      "         Coffin-Lowry Syndrome*\t 13\t   0.96\n",
      "     capillary_like_structures\t  6\t0.73333\n",
      "centrosome_localization_signal\t  5\t    1.0\n",
      "                     closantel\t  4\t    0.8\n",
      "                    cilostazol\t  2\t    0.0\n",
      "     Chloramphenicol succinate\t  1\t    0.0\n",
      "\n",
      "Weighted Metrics:\n",
      "-----------------\n",
      "\tF1 score:\t0.93204\n",
      "\tPrecision:\t0.9775\n",
      "\tRecall:\t\t0.91083\n",
      "\n",
      "* Positive labels\n",
      "See Docstring for explanation\n",
      "\n"
     ]
    }
   ],
   "source": [
    "print(disamb.info())"
   ]
  },
  {
   "cell_type": "code",
   "execution_count": 44,
   "metadata": {},
   "outputs": [],
   "source": [
    "model_to_s3(disamb)"
   ]
  },
  {
   "cell_type": "code",
   "execution_count": null,
   "metadata": {},
   "outputs": [],
   "source": []
  }
 ],
 "metadata": {
  "kernelspec": {
   "display_name": "Python 3",
   "language": "python",
   "name": "python3"
  },
  "language_info": {
   "codemirror_mode": {
    "name": "ipython",
    "version": 3
   },
   "file_extension": ".py",
   "mimetype": "text/x-python",
   "name": "python",
   "nbconvert_exporter": "python",
   "pygments_lexer": "ipython3",
   "version": "3.8.4"
  }
 },
 "nbformat": 4,
 "nbformat_minor": 2
}
