{
 "cells": [
  {
   "cell_type": "code",
   "execution_count": 1,
   "metadata": {},
   "outputs": [],
   "source": [
    "import os\n",
    "import json\n",
    "import pickle\n",
    "import random\n",
    "from collections import defaultdict, Counter\n",
    "\n",
    "from indra.literature.adeft_tools import universal_extract_text\n",
    "from indra.databases.hgnc_client import get_hgnc_name, get_hgnc_id\n",
    "\n",
    "from adeft.discover import AdeftMiner\n",
    "from adeft.gui import ground_with_gui\n",
    "from adeft.modeling.label import AdeftLabeler\n",
    "from adeft.modeling.classify import AdeftClassifier\n",
    "from adeft.disambiguate import AdeftDisambiguator, load_disambiguator\n",
    "\n",
    "from indra_db_lite.api import get_entrez_pmids_for_hgnc\n",
    "from indra_db_lite.api import get_entrez_pmids_for_uniprot\n",
    "from indra_db_lite.api import get_plaintexts_for_text_ref_ids\n",
    "from indra_db_lite.api import get_text_ref_ids_for_agent_text\n",
    "from indra_db_lite.api import get_text_ref_ids_for_pmids\n",
    "\n",
    "\n",
    "from adeft_indra.grounding import AdeftGrounder\n",
    "from adeft_indra.s3 import model_to_s3\n",
    "from adeft_indra.model_building.escape import escape_filename"
   ]
  },
  {
   "cell_type": "code",
   "execution_count": 2,
   "metadata": {},
   "outputs": [],
   "source": [
    "def get_text_ref_ids_for_entity(ns, id_):\n",
    "    if ns == 'HGNC':\n",
    "        pmids = get_entrez_pmids_for_hgnc(id_)\n",
    "    elif ns == 'UP':\n",
    "        pmids = get_entrez_pmids_for_uniprot(id_)\n",
    "    return list(get_text_ref_ids_for_pmids(pmids).values())"
   ]
  },
  {
   "cell_type": "code",
   "execution_count": 3,
   "metadata": {},
   "outputs": [],
   "source": [
    "adeft_grounder = AdeftGrounder()"
   ]
  },
  {
   "cell_type": "code",
   "execution_count": 4,
   "metadata": {},
   "outputs": [],
   "source": [
    "shortforms = ['CAS']\n",
    "model_name = ':'.join(sorted(escape_filename(shortform) for shortform in shortforms))\n",
    "results_path = os.path.abspath(os.path.join('../../', 'results', model_name))"
   ]
  },
  {
   "cell_type": "code",
   "execution_count": 5,
   "metadata": {},
   "outputs": [],
   "source": [
    "miners = dict()\n",
    "all_texts = {}\n",
    "for shortform in shortforms:\n",
    "    text_ref_ids = get_text_ref_ids_for_agent_text(shortform)\n",
    "    content = get_plaintexts_for_text_ref_ids(text_ref_ids, contains=shortforms)\n",
    "    text_dict = content.flatten()\n",
    "    miners[shortform] = AdeftMiner(shortform)\n",
    "    miners[shortform].process_texts(text_dict.values())\n",
    "    all_texts.update(text_dict)\n",
    "\n",
    "longform_dict = {}\n",
    "for shortform in shortforms:\n",
    "    longforms = miners[shortform].get_longforms()\n",
    "    longforms = [(longform, count, score) for longform, count, score in longforms\n",
    "                 if count*score > 2]\n",
    "    longform_dict[shortform] = longforms\n",
    "    \n",
    "combined_longforms = Counter()\n",
    "for longform_rows in longform_dict.values():\n",
    "    combined_longforms.update({longform: count for longform, count, score\n",
    "                               in longform_rows})\n",
    "grounding_map = {}\n",
    "names = {}\n",
    "for longform in combined_longforms:\n",
    "    groundings = adeft_grounder.ground(longform)\n",
    "    if groundings:\n",
    "        grounding = groundings[0]['grounding']\n",
    "        grounding_map[longform] = grounding\n",
    "        names[grounding] = groundings[0]['name']\n",
    "longforms, counts = zip(*combined_longforms.most_common())\n",
    "pos_labels = []"
   ]
  },
  {
   "cell_type": "code",
   "execution_count": 6,
   "metadata": {},
   "outputs": [
    {
     "data": {
      "text/plain": [
       "[('carotid artery stenting', 149),\n",
       " ('coronary artery spasm', 68),\n",
       " ('crk associated substrate', 37),\n",
       " ('caspofungin', 37),\n",
       " ('casein', 26),\n",
       " ('carotid artery stenosis', 23),\n",
       " ('childhood apraxia of speech', 21),\n",
       " ('contralateral acoustic stimulation', 19),\n",
       " ('chrome azurol s', 18),\n",
       " ('coronary artery stenosis', 17),\n",
       " ('condomless anal sex', 15),\n",
       " ('carotid angioplasty and stenting', 13),\n",
       " ('clinical activity score', 12),\n",
       " ('catalytic anionic site', 12),\n",
       " ('cycloartenol synthase', 11),\n",
       " ('cellular apoptosis susceptibility protein', 11),\n",
       " ('cyanoalanine synthase', 10),\n",
       " ('catalytic activity site', 9),\n",
       " ('calcific aortic stenosis', 8),\n",
       " ('carotid stenting', 8),\n",
       " ('cas', 6),\n",
       " ('cellular apoptosis susceptibility', 6),\n",
       " ('castanospermine', 6),\n",
       " ('chronic adolescent stress', 6),\n",
       " ('carotid atherosclerosis', 6),\n",
       " ('clean air scenario', 5),\n",
       " ('computer aided surgery', 5),\n",
       " ('central auditory system', 5),\n",
       " ('contact activity system', 5),\n",
       " ('central anticholinergic syndrome', 5),\n",
       " ('coronavirus anxiety scale', 5),\n",
       " ('cutaneous angiosarcoma', 5),\n",
       " ('calcium sensing receptor', 5),\n",
       " ('carotid angioplasty with stenting', 5),\n",
       " ('complete artificial saliva', 4),\n",
       " ('crude antimicrobial substance', 4),\n",
       " ('compensatory auditory stimulation', 4),\n",
       " ('complex adapter system', 4),\n",
       " ('celebrity attitude scale', 4),\n",
       " ('critical asthma syndrome', 4),\n",
       " ('cognitive attentional syndrome', 4),\n",
       " ('central airway stenosis', 4),\n",
       " ('cis acting sequences', 3),\n",
       " ('color analog scale', 3),\n",
       " ('composite appetite score', 3),\n",
       " ('cytolytic activity score', 3),\n",
       " ('centrosome amplification score', 3),\n",
       " ('catalytic site', 3),\n",
       " ('clavaminate synthase', 3),\n",
       " ('chromazurol s', 3),\n",
       " ('coronary atherosclerosis', 3),\n",
       " ('chinese academy of sciences', 3),\n",
       " ('scs casein percentage', 3)]"
      ]
     },
     "execution_count": 6,
     "metadata": {},
     "output_type": "execute_result"
    }
   ],
   "source": [
    "list(zip(longforms, counts))"
   ]
  },
  {
   "cell_type": "code",
   "execution_count": 49,
   "metadata": {},
   "outputs": [],
   "source": [
    "grounding_map, names, pos_labels = ground_with_gui(longforms, counts, \n",
    "                                                   grounding_map=grounding_map,\n",
    "                                                   names=names, pos_labels=pos_labels, no_browser=True, port=8890)"
   ]
  },
  {
   "cell_type": "code",
   "execution_count": 50,
   "metadata": {},
   "outputs": [],
   "source": [
    "result = [grounding_map, names, pos_labels]"
   ]
  },
  {
   "cell_type": "code",
   "execution_count": 51,
   "metadata": {},
   "outputs": [
    {
     "data": {
      "text/plain": [
       "[{'calcific aortic stenosis': 'MESH:D001024',\n",
       "  'calcium sensing receptor': 'ungrounded',\n",
       "  'carotid angioplasty and stenting': 'carotid_artery_stenting',\n",
       "  'carotid angioplasty with stenting': 'carotid_artery_stenting',\n",
       "  'carotid artery stenosis': 'MESH:D016893',\n",
       "  'carotid artery stenting': 'carotid_artery_stenting',\n",
       "  'carotid atherosclerosis': 'EFO:0009783',\n",
       "  'carotid stenting': 'carotid_artery_stenting',\n",
       "  'cas': 'ungrounded',\n",
       "  'casein': 'MESH:D002364',\n",
       "  'caspofungin': 'CHEBI:CHEBI:474180',\n",
       "  'castanospermine': 'CHEBI:CHEBI:27860',\n",
       "  'catalytic activity site': 'ungrounded',\n",
       "  'catalytic anionic site': 'ungrounded',\n",
       "  'catalytic site': 'ungrounded',\n",
       "  'celebrity attitude scale': 'ungrounded',\n",
       "  'cellular apoptosis susceptibility': 'ungrounded',\n",
       "  'cellular apoptosis susceptibility protein': 'HGNC:2431',\n",
       "  'central airway stenosis': 'MESH:D003251',\n",
       "  'central anticholinergic syndrome': 'MESH:D064807',\n",
       "  'central auditory system': 'ungrounded',\n",
       "  'centrosome amplification score': 'ungrounded',\n",
       "  'childhood apraxia of speech': 'DOID:DOID:0111275',\n",
       "  'chinese academy of sciences': 'ungrounded',\n",
       "  'chromazurol s': 'MESH:C015076',\n",
       "  'chrome azurol s': 'MESH:C015076',\n",
       "  'chronic adolescent stress': 'ungrounded',\n",
       "  'cis acting sequences': 'ungrounded',\n",
       "  'clavaminate synthase': 'ungrounded',\n",
       "  'clean air scenario': 'ungrounded',\n",
       "  'clinical activity score': 'ungrounded',\n",
       "  'cognitive attentional syndrome': 'ungrounded',\n",
       "  'color analog scale': 'ungrounded',\n",
       "  'compensatory auditory stimulation': 'MESH:D000161',\n",
       "  'complete artificial saliva': 'MESH:D012464',\n",
       "  'complex adapter system': 'ungrounded',\n",
       "  'composite appetite score': 'ungrounded',\n",
       "  'computer aided surgery': 'MESH:D025321',\n",
       "  'condomless anal sex': 'ungrounded',\n",
       "  'contact activity system': 'ungrounded',\n",
       "  'contralateral acoustic stimulation': 'MESH:D000161',\n",
       "  'coronary artery spasm': 'MESH:D003329',\n",
       "  'coronary artery stenosis': 'MESH:D023921',\n",
       "  'coronary atherosclerosis': 'MESH:D003324',\n",
       "  'coronavirus anxiety scale': 'ungrounded',\n",
       "  'critical asthma syndrome': 'ungrounded',\n",
       "  'crk associated substrate': 'HGNC:971',\n",
       "  'crude antimicrobial substance': 'ungrounded',\n",
       "  'cutaneous angiosarcoma': 'MESH:D006394',\n",
       "  'cyanoalanine synthase': 'ungrounded',\n",
       "  'cycloartenol synthase': 'UP:P38605',\n",
       "  'cytolytic activity score': 'ungrounded',\n",
       "  'scs casein percentage': 'ungrounded'},\n",
       " {'MESH:D001024': 'Aortic Valve Stenosis',\n",
       "  'carotid_artery_stenting': 'carotid_artery_stenting',\n",
       "  'MESH:D016893': 'Carotid Stenosis',\n",
       "  'EFO:0009783': 'carotid atherosclerosis',\n",
       "  'MESH:D002364': 'Caseins',\n",
       "  'CHEBI:CHEBI:474180': 'caspofungin',\n",
       "  'CHEBI:CHEBI:27860': 'castanospermine',\n",
       "  'HGNC:2431': 'CSE1L',\n",
       "  'MESH:D003251': 'Constriction, Pathologic',\n",
       "  'MESH:D064807': 'Anticholinergic Syndrome',\n",
       "  'DOID:DOID:0111275': 'speech-language disorder-1',\n",
       "  'MESH:C015076': 'chrome azurol S',\n",
       "  'MESH:D000161': 'Acoustic Stimulation',\n",
       "  'MESH:D012464': 'Saliva, Artificial',\n",
       "  'MESH:D025321': 'Surgery, Computer-Assisted',\n",
       "  'MESH:D003329': 'Coronary Vasospasm',\n",
       "  'MESH:D023921': 'Coronary Stenosis',\n",
       "  'MESH:D003324': 'Coronary Artery Disease',\n",
       "  'HGNC:971': 'BCAR1',\n",
       "  'MESH:D006394': 'Hemangiosarcoma',\n",
       "  'UP:P38605': 'Cycloartenol synthase'},\n",
       " ['CHEBI:CHEBI:474180',\n",
       "  'DOID:DOID:0111275',\n",
       "  'HGNC:2431',\n",
       "  'HGNC:971',\n",
       "  'MESH:C015076',\n",
       "  'MESH:D000161',\n",
       "  'MESH:D002364',\n",
       "  'MESH:D003329']]"
      ]
     },
     "execution_count": 51,
     "metadata": {},
     "output_type": "execute_result"
    }
   ],
   "source": [
    "result"
   ]
  },
  {
   "cell_type": "code",
   "execution_count": 52,
   "metadata": {},
   "outputs": [],
   "source": [
    "grounding_map, names, pos_labels = [{'calcific aortic stenosis': 'MESH:D001024',\n",
    "  'calcium sensing receptor': 'ungrounded',\n",
    "  'carotid angioplasty and stenting': 'carotid_artery_stenting',\n",
    "  'carotid angioplasty with stenting': 'carotid_artery_stenting',\n",
    "  'carotid artery stenosis': 'MESH:D016893',\n",
    "  'carotid artery stenting': 'carotid_artery_stenting',\n",
    "  'carotid atherosclerosis': 'EFO:0009783',\n",
    "  'carotid stenting': 'carotid_artery_stenting',\n",
    "  'cas': 'ungrounded',\n",
    "  'casein': 'MESH:D002364',\n",
    "  'caspofungin': 'CHEBI:CHEBI:474180',\n",
    "  'castanospermine': 'CHEBI:CHEBI:27860',\n",
    "  'catalytic activity site': 'ungrounded',\n",
    "  'catalytic anionic site': 'ungrounded',\n",
    "  'catalytic site': 'ungrounded',\n",
    "  'celebrity attitude scale': 'ungrounded',\n",
    "  'cellular apoptosis susceptibility': 'ungrounded',\n",
    "  'cellular apoptosis susceptibility protein': 'HGNC:2431',\n",
    "  'central airway stenosis': 'MESH:D003251',\n",
    "  'central anticholinergic syndrome': 'MESH:D064807',\n",
    "  'central auditory system': 'ungrounded',\n",
    "  'centrosome amplification score': 'ungrounded',\n",
    "  'childhood apraxia of speech': 'DOID:DOID:0111275',\n",
    "  'chinese academy of sciences': 'ungrounded',\n",
    "  'chromazurol s': 'MESH:C015076',\n",
    "  'chrome azurol s': 'MESH:C015076',\n",
    "  'chronic adolescent stress': 'ungrounded',\n",
    "  'cis acting sequences': 'ungrounded',\n",
    "  'clavaminate synthase': 'ungrounded',\n",
    "  'clean air scenario': 'ungrounded',\n",
    "  'clinical activity score': 'ungrounded',\n",
    "  'cognitive attentional syndrome': 'ungrounded',\n",
    "  'color analog scale': 'ungrounded',\n",
    "  'compensatory auditory stimulation': 'MESH:D000161',\n",
    "  'complete artificial saliva': 'MESH:D012464',\n",
    "  'complex adapter system': 'ungrounded',\n",
    "  'composite appetite score': 'ungrounded',\n",
    "  'computer aided surgery': 'MESH:D025321',\n",
    "  'condomless anal sex': 'ungrounded',\n",
    "  'contact activity system': 'ungrounded',\n",
    "  'contralateral acoustic stimulation': 'MESH:D000161',\n",
    "  'coronary artery spasm': 'MESH:D003329',\n",
    "  'coronary artery stenosis': 'MESH:D023921',\n",
    "  'coronary atherosclerosis': 'MESH:D003324',\n",
    "  'coronavirus anxiety scale': 'ungrounded',\n",
    "  'critical asthma syndrome': 'ungrounded',\n",
    "  'crk associated substrate': 'HGNC:971',\n",
    "  'crude antimicrobial substance': 'ungrounded',\n",
    "  'cutaneous angiosarcoma': 'MESH:D006394',\n",
    "  'cyanoalanine synthase': 'ungrounded',\n",
    "  'cycloartenol synthase': 'UP:P38605',\n",
    "  'cytolytic activity score': 'ungrounded',\n",
    "  'scs casein percentage': 'ungrounded'},\n",
    " {'MESH:D001024': 'Aortic Valve Stenosis',\n",
    "  'carotid_artery_stenting': 'carotid_artery_stenting',\n",
    "  'MESH:D016893': 'Carotid Stenosis',\n",
    "  'EFO:0009783': 'carotid atherosclerosis',\n",
    "  'MESH:D002364': 'Caseins',\n",
    "  'CHEBI:CHEBI:474180': 'caspofungin',\n",
    "  'CHEBI:CHEBI:27860': 'castanospermine',\n",
    "  'HGNC:2431': 'CSE1L',\n",
    "  'MESH:D003251': 'Constriction, Pathologic',\n",
    "  'MESH:D064807': 'Anticholinergic Syndrome',\n",
    "  'DOID:DOID:0111275': 'speech-language disorder-1',\n",
    "  'MESH:C015076': 'chrome azurol S',\n",
    "  'MESH:D000161': 'Acoustic Stimulation',\n",
    "  'MESH:D012464': 'Saliva, Artificial',\n",
    "  'MESH:D025321': 'Surgery, Computer-Assisted',\n",
    "  'MESH:D003329': 'Coronary Vasospasm',\n",
    "  'MESH:D023921': 'Coronary Stenosis',\n",
    "  'MESH:D003324': 'Coronary Artery Disease',\n",
    "  'HGNC:971': 'BCAR1',\n",
    "  'MESH:D006394': 'Hemangiosarcoma',\n",
    "  'UP:P38605': 'Cycloartenol synthase'},\n",
    " ['CHEBI:CHEBI:474180',\n",
    "  'DOID:DOID:0111275',\n",
    "  'HGNC:2431',\n",
    "  'HGNC:971',\n",
    "  'MESH:C015076',\n",
    "  'MESH:D000161',\n",
    "  'MESH:D002364',\n",
    "  'MESH:D003329']]"
   ]
  },
  {
   "cell_type": "code",
   "execution_count": 53,
   "metadata": {},
   "outputs": [
    {
     "name": "stderr",
     "output_type": "stream",
     "text": [
      "/adeft/.virtualenvs/py38/lib/python3.8/site-packages/sklearn/metrics/_classification.py:1248: UndefinedMetricWarning: Precision is ill-defined and being set to 0.0 due to no predicted samples. Use `zero_division` parameter to control this behavior.\n",
      "  _warn_prf(average, modifier, msg_start, len(result))\n",
      "/adeft/.virtualenvs/py38/lib/python3.8/site-packages/sklearn/metrics/_classification.py:1248: UndefinedMetricWarning: Precision is ill-defined and being set to 0.0 due to no predicted samples. Use `zero_division` parameter to control this behavior.\n",
      "  _warn_prf(average, modifier, msg_start, len(result))\n",
      "/adeft/.virtualenvs/py38/lib/python3.8/site-packages/sklearn/metrics/_classification.py:1248: UndefinedMetricWarning: Precision is ill-defined and being set to 0.0 due to no predicted samples. Use `zero_division` parameter to control this behavior.\n",
      "  _warn_prf(average, modifier, msg_start, len(result))\n",
      "/adeft/.virtualenvs/py38/lib/python3.8/site-packages/sklearn/metrics/_classification.py:1495: UndefinedMetricWarning: F-score is ill-defined and being set to 0.0 due to no true nor predicted samples. Use `zero_division` parameter to control this behavior.\n",
      "  _warn_prf(\n",
      "/adeft/.virtualenvs/py38/lib/python3.8/site-packages/sklearn/metrics/_classification.py:1248: UndefinedMetricWarning: Recall is ill-defined and being set to 0.0 due to no true samples. Use `zero_division` parameter to control this behavior.\n",
      "  _warn_prf(average, modifier, msg_start, len(result))\n",
      "/adeft/.virtualenvs/py38/lib/python3.8/site-packages/sklearn/metrics/_classification.py:1248: UndefinedMetricWarning: Precision is ill-defined and being set to 0.0 due to no predicted samples. Use `zero_division` parameter to control this behavior.\n",
      "  _warn_prf(average, modifier, msg_start, len(result))\n",
      "/adeft/.virtualenvs/py38/lib/python3.8/site-packages/sklearn/metrics/_classification.py:1495: UndefinedMetricWarning: F-score is ill-defined and being set to 0.0 due to no true nor predicted samples. Use `zero_division` parameter to control this behavior.\n",
      "  _warn_prf(\n",
      "/adeft/.virtualenvs/py38/lib/python3.8/site-packages/sklearn/metrics/_classification.py:1248: UndefinedMetricWarning: Recall is ill-defined and being set to 0.0 due to no true samples. Use `zero_division` parameter to control this behavior.\n",
      "  _warn_prf(average, modifier, msg_start, len(result))\n",
      "/adeft/.virtualenvs/py38/lib/python3.8/site-packages/sklearn/metrics/_classification.py:1248: UndefinedMetricWarning: Precision is ill-defined and being set to 0.0 due to no predicted samples. Use `zero_division` parameter to control this behavior.\n",
      "  _warn_prf(average, modifier, msg_start, len(result))\n",
      "/adeft/.virtualenvs/py38/lib/python3.8/site-packages/sklearn/metrics/_classification.py:1495: UndefinedMetricWarning: F-score is ill-defined and being set to 0.0 due to no true nor predicted samples. Use `zero_division` parameter to control this behavior.\n",
      "  _warn_prf(\n",
      "/adeft/.virtualenvs/py38/lib/python3.8/site-packages/sklearn/metrics/_classification.py:1248: UndefinedMetricWarning: Recall is ill-defined and being set to 0.0 due to no true samples. Use `zero_division` parameter to control this behavior.\n",
      "  _warn_prf(average, modifier, msg_start, len(result))\n",
      "/adeft/.virtualenvs/py38/lib/python3.8/site-packages/sklearn/metrics/_classification.py:1248: UndefinedMetricWarning: Precision is ill-defined and being set to 0.0 due to no predicted samples. Use `zero_division` parameter to control this behavior.\n",
      "  _warn_prf(average, modifier, msg_start, len(result))\n",
      "/adeft/.virtualenvs/py38/lib/python3.8/site-packages/sklearn/metrics/_classification.py:1248: UndefinedMetricWarning: Precision is ill-defined and being set to 0.0 due to no predicted samples. Use `zero_division` parameter to control this behavior.\n",
      "  _warn_prf(average, modifier, msg_start, len(result))\n",
      "/adeft/.virtualenvs/py38/lib/python3.8/site-packages/sklearn/metrics/_classification.py:1248: UndefinedMetricWarning: Precision is ill-defined and being set to 0.0 due to no predicted samples. Use `zero_division` parameter to control this behavior.\n",
      "  _warn_prf(average, modifier, msg_start, len(result))\n",
      "/adeft/.virtualenvs/py38/lib/python3.8/site-packages/sklearn/metrics/_classification.py:1495: UndefinedMetricWarning: F-score is ill-defined and being set to 0.0 due to no true nor predicted samples. Use `zero_division` parameter to control this behavior.\n",
      "  _warn_prf(\n",
      "/adeft/.virtualenvs/py38/lib/python3.8/site-packages/sklearn/metrics/_classification.py:1248: UndefinedMetricWarning: Recall is ill-defined and being set to 0.0 due to no true samples. Use `zero_division` parameter to control this behavior.\n",
      "  _warn_prf(average, modifier, msg_start, len(result))\n",
      "/adeft/.virtualenvs/py38/lib/python3.8/site-packages/sklearn/metrics/_classification.py:1248: UndefinedMetricWarning: Precision is ill-defined and being set to 0.0 due to no predicted samples. Use `zero_division` parameter to control this behavior.\n",
      "  _warn_prf(average, modifier, msg_start, len(result))\n",
      "/adeft/.virtualenvs/py38/lib/python3.8/site-packages/sklearn/metrics/_classification.py:1248: UndefinedMetricWarning: Precision is ill-defined and being set to 0.0 due to no predicted samples. Use `zero_division` parameter to control this behavior.\n",
      "  _warn_prf(average, modifier, msg_start, len(result))\n",
      "/adeft/.virtualenvs/py38/lib/python3.8/site-packages/sklearn/metrics/_classification.py:1495: UndefinedMetricWarning: F-score is ill-defined and being set to 0.0 due to no true nor predicted samples. Use `zero_division` parameter to control this behavior.\n",
      "  _warn_prf(\n",
      "/adeft/.virtualenvs/py38/lib/python3.8/site-packages/sklearn/metrics/_classification.py:1248: UndefinedMetricWarning: Recall is ill-defined and being set to 0.0 due to no true samples. Use `zero_division` parameter to control this behavior.\n",
      "  _warn_prf(average, modifier, msg_start, len(result))\n",
      "/adeft/.virtualenvs/py38/lib/python3.8/site-packages/sklearn/metrics/_classification.py:1248: UndefinedMetricWarning: Precision is ill-defined and being set to 0.0 due to no predicted samples. Use `zero_division` parameter to control this behavior.\n",
      "  _warn_prf(average, modifier, msg_start, len(result))\n",
      "/adeft/.virtualenvs/py38/lib/python3.8/site-packages/sklearn/metrics/_classification.py:1495: UndefinedMetricWarning: F-score is ill-defined and being set to 0.0 due to no true nor predicted samples. Use `zero_division` parameter to control this behavior.\n",
      "  _warn_prf(\n",
      "/adeft/.virtualenvs/py38/lib/python3.8/site-packages/sklearn/metrics/_classification.py:1248: UndefinedMetricWarning: Recall is ill-defined and being set to 0.0 due to no true samples. Use `zero_division` parameter to control this behavior.\n",
      "  _warn_prf(average, modifier, msg_start, len(result))\n",
      "/adeft/.virtualenvs/py38/lib/python3.8/site-packages/sklearn/metrics/_classification.py:1248: UndefinedMetricWarning: Precision is ill-defined and being set to 0.0 due to no predicted samples. Use `zero_division` parameter to control this behavior.\n",
      "  _warn_prf(average, modifier, msg_start, len(result))\n",
      "/adeft/.virtualenvs/py38/lib/python3.8/site-packages/sklearn/metrics/_classification.py:1248: UndefinedMetricWarning: Precision is ill-defined and being set to 0.0 due to no predicted samples. Use `zero_division` parameter to control this behavior.\n",
      "  _warn_prf(average, modifier, msg_start, len(result))\n",
      "/adeft/.virtualenvs/py38/lib/python3.8/site-packages/sklearn/metrics/_classification.py:1248: UndefinedMetricWarning: Precision is ill-defined and being set to 0.0 due to no predicted samples. Use `zero_division` parameter to control this behavior.\n",
      "  _warn_prf(average, modifier, msg_start, len(result))\n",
      "/adeft/.virtualenvs/py38/lib/python3.8/site-packages/sklearn/metrics/_classification.py:1248: UndefinedMetricWarning: Precision is ill-defined and being set to 0.0 due to no predicted samples. Use `zero_division` parameter to control this behavior.\n",
      "  _warn_prf(average, modifier, msg_start, len(result))\n",
      "/adeft/.virtualenvs/py38/lib/python3.8/site-packages/sklearn/metrics/_classification.py:1495: UndefinedMetricWarning: F-score is ill-defined and being set to 0.0 due to no true nor predicted samples. Use `zero_division` parameter to control this behavior.\n",
      "  _warn_prf(\n",
      "/adeft/.virtualenvs/py38/lib/python3.8/site-packages/sklearn/metrics/_classification.py:1248: UndefinedMetricWarning: Recall is ill-defined and being set to 0.0 due to no true samples. Use `zero_division` parameter to control this behavior.\n",
      "  _warn_prf(average, modifier, msg_start, len(result))\n",
      "/adeft/.virtualenvs/py38/lib/python3.8/site-packages/sklearn/metrics/_classification.py:1248: UndefinedMetricWarning: Precision is ill-defined and being set to 0.0 due to no predicted samples. Use `zero_division` parameter to control this behavior.\n",
      "  _warn_prf(average, modifier, msg_start, len(result))\n",
      "/adeft/.virtualenvs/py38/lib/python3.8/site-packages/sklearn/metrics/_classification.py:1495: UndefinedMetricWarning: F-score is ill-defined and being set to 0.0 due to no true nor predicted samples. Use `zero_division` parameter to control this behavior.\n",
      "  _warn_prf(\n",
      "/adeft/.virtualenvs/py38/lib/python3.8/site-packages/sklearn/metrics/_classification.py:1248: UndefinedMetricWarning: Recall is ill-defined and being set to 0.0 due to no true samples. Use `zero_division` parameter to control this behavior.\n",
      "  _warn_prf(average, modifier, msg_start, len(result))\n",
      "/adeft/.virtualenvs/py38/lib/python3.8/site-packages/sklearn/metrics/_classification.py:1248: UndefinedMetricWarning: Precision is ill-defined and being set to 0.0 due to no predicted samples. Use `zero_division` parameter to control this behavior.\n",
      "  _warn_prf(average, modifier, msg_start, len(result))\n",
      "/adeft/.virtualenvs/py38/lib/python3.8/site-packages/sklearn/metrics/_classification.py:1248: UndefinedMetricWarning: Precision is ill-defined and being set to 0.0 due to no predicted samples. Use `zero_division` parameter to control this behavior.\n",
      "  _warn_prf(average, modifier, msg_start, len(result))\n",
      "/adeft/.virtualenvs/py38/lib/python3.8/site-packages/sklearn/metrics/_classification.py:1248: UndefinedMetricWarning: Precision is ill-defined and being set to 0.0 due to no predicted samples. Use `zero_division` parameter to control this behavior.\n",
      "  _warn_prf(average, modifier, msg_start, len(result))\n",
      "/adeft/.virtualenvs/py38/lib/python3.8/site-packages/sklearn/metrics/_classification.py:1495: UndefinedMetricWarning: F-score is ill-defined and being set to 0.0 due to no true nor predicted samples. Use `zero_division` parameter to control this behavior.\n",
      "  _warn_prf(\n",
      "/adeft/.virtualenvs/py38/lib/python3.8/site-packages/sklearn/metrics/_classification.py:1248: UndefinedMetricWarning: Recall is ill-defined and being set to 0.0 due to no true samples. Use `zero_division` parameter to control this behavior.\n",
      "  _warn_prf(average, modifier, msg_start, len(result))\n",
      "/adeft/.virtualenvs/py38/lib/python3.8/site-packages/sklearn/metrics/_classification.py:1248: UndefinedMetricWarning: Precision is ill-defined and being set to 0.0 due to no predicted samples. Use `zero_division` parameter to control this behavior.\n",
      "  _warn_prf(average, modifier, msg_start, len(result))\n",
      "/adeft/.virtualenvs/py38/lib/python3.8/site-packages/sklearn/metrics/_classification.py:1248: UndefinedMetricWarning: Precision is ill-defined and being set to 0.0 due to no predicted samples. Use `zero_division` parameter to control this behavior.\n",
      "  _warn_prf(average, modifier, msg_start, len(result))\n"
     ]
    },
    {
     "name": "stderr",
     "output_type": "stream",
     "text": [
      "/adeft/.virtualenvs/py38/lib/python3.8/site-packages/sklearn/metrics/_classification.py:1248: UndefinedMetricWarning: Precision is ill-defined and being set to 0.0 due to no predicted samples. Use `zero_division` parameter to control this behavior.\n",
      "  _warn_prf(average, modifier, msg_start, len(result))\n",
      "/adeft/.virtualenvs/py38/lib/python3.8/site-packages/sklearn/metrics/_classification.py:1495: UndefinedMetricWarning: F-score is ill-defined and being set to 0.0 due to no true nor predicted samples. Use `zero_division` parameter to control this behavior.\n",
      "  _warn_prf(\n",
      "/adeft/.virtualenvs/py38/lib/python3.8/site-packages/sklearn/metrics/_classification.py:1248: UndefinedMetricWarning: Recall is ill-defined and being set to 0.0 due to no true samples. Use `zero_division` parameter to control this behavior.\n",
      "  _warn_prf(average, modifier, msg_start, len(result))\n",
      "/adeft/.virtualenvs/py38/lib/python3.8/site-packages/sklearn/metrics/_classification.py:1248: UndefinedMetricWarning: Precision is ill-defined and being set to 0.0 due to no predicted samples. Use `zero_division` parameter to control this behavior.\n",
      "  _warn_prf(average, modifier, msg_start, len(result))\n",
      "/adeft/.virtualenvs/py38/lib/python3.8/site-packages/sklearn/metrics/_classification.py:1495: UndefinedMetricWarning: F-score is ill-defined and being set to 0.0 due to no true nor predicted samples. Use `zero_division` parameter to control this behavior.\n",
      "  _warn_prf(\n",
      "/adeft/.virtualenvs/py38/lib/python3.8/site-packages/sklearn/metrics/_classification.py:1248: UndefinedMetricWarning: Recall is ill-defined and being set to 0.0 due to no true samples. Use `zero_division` parameter to control this behavior.\n",
      "  _warn_prf(average, modifier, msg_start, len(result))\n",
      "/adeft/.virtualenvs/py38/lib/python3.8/site-packages/sklearn/metrics/_classification.py:1248: UndefinedMetricWarning: Precision is ill-defined and being set to 0.0 due to no predicted samples. Use `zero_division` parameter to control this behavior.\n",
      "  _warn_prf(average, modifier, msg_start, len(result))\n",
      "/adeft/.virtualenvs/py38/lib/python3.8/site-packages/sklearn/metrics/_classification.py:1248: UndefinedMetricWarning: Precision is ill-defined and being set to 0.0 due to no predicted samples. Use `zero_division` parameter to control this behavior.\n",
      "  _warn_prf(average, modifier, msg_start, len(result))\n",
      "/adeft/.virtualenvs/py38/lib/python3.8/site-packages/sklearn/metrics/_classification.py:1248: UndefinedMetricWarning: Precision is ill-defined and being set to 0.0 due to no predicted samples. Use `zero_division` parameter to control this behavior.\n",
      "  _warn_prf(average, modifier, msg_start, len(result))\n",
      "/adeft/.virtualenvs/py38/lib/python3.8/site-packages/sklearn/metrics/_classification.py:1248: UndefinedMetricWarning: Precision is ill-defined and being set to 0.0 due to no predicted samples. Use `zero_division` parameter to control this behavior.\n",
      "  _warn_prf(average, modifier, msg_start, len(result))\n",
      "/adeft/.virtualenvs/py38/lib/python3.8/site-packages/sklearn/metrics/_classification.py:1248: UndefinedMetricWarning: Precision is ill-defined and being set to 0.0 due to no predicted samples. Use `zero_division` parameter to control this behavior.\n",
      "  _warn_prf(average, modifier, msg_start, len(result))\n",
      "/adeft/.virtualenvs/py38/lib/python3.8/site-packages/sklearn/metrics/_classification.py:1248: UndefinedMetricWarning: Precision is ill-defined and being set to 0.0 due to no predicted samples. Use `zero_division` parameter to control this behavior.\n",
      "  _warn_prf(average, modifier, msg_start, len(result))\n",
      "/adeft/.virtualenvs/py38/lib/python3.8/site-packages/sklearn/metrics/_classification.py:1248: UndefinedMetricWarning: Precision is ill-defined and being set to 0.0 due to no predicted samples. Use `zero_division` parameter to control this behavior.\n",
      "  _warn_prf(average, modifier, msg_start, len(result))\n",
      "/adeft/.virtualenvs/py38/lib/python3.8/site-packages/sklearn/metrics/_classification.py:1495: UndefinedMetricWarning: F-score is ill-defined and being set to 0.0 due to no true nor predicted samples. Use `zero_division` parameter to control this behavior.\n",
      "  _warn_prf(\n",
      "/adeft/.virtualenvs/py38/lib/python3.8/site-packages/sklearn/metrics/_classification.py:1248: UndefinedMetricWarning: Recall is ill-defined and being set to 0.0 due to no true samples. Use `zero_division` parameter to control this behavior.\n",
      "  _warn_prf(average, modifier, msg_start, len(result))\n",
      "/adeft/.virtualenvs/py38/lib/python3.8/site-packages/sklearn/metrics/_classification.py:1248: UndefinedMetricWarning: Precision is ill-defined and being set to 0.0 due to no predicted samples. Use `zero_division` parameter to control this behavior.\n",
      "  _warn_prf(average, modifier, msg_start, len(result))\n",
      "/adeft/.virtualenvs/py38/lib/python3.8/site-packages/sklearn/metrics/_classification.py:1495: UndefinedMetricWarning: F-score is ill-defined and being set to 0.0 due to no true nor predicted samples. Use `zero_division` parameter to control this behavior.\n",
      "  _warn_prf(\n",
      "/adeft/.virtualenvs/py38/lib/python3.8/site-packages/sklearn/metrics/_classification.py:1248: UndefinedMetricWarning: Recall is ill-defined and being set to 0.0 due to no true samples. Use `zero_division` parameter to control this behavior.\n",
      "  _warn_prf(average, modifier, msg_start, len(result))\n",
      "/adeft/.virtualenvs/py38/lib/python3.8/site-packages/sklearn/metrics/_classification.py:1248: UndefinedMetricWarning: Precision is ill-defined and being set to 0.0 due to no predicted samples. Use `zero_division` parameter to control this behavior.\n",
      "  _warn_prf(average, modifier, msg_start, len(result))\n",
      "/adeft/.virtualenvs/py38/lib/python3.8/site-packages/sklearn/metrics/_classification.py:1248: UndefinedMetricWarning: Precision is ill-defined and being set to 0.0 due to no predicted samples. Use `zero_division` parameter to control this behavior.\n",
      "  _warn_prf(average, modifier, msg_start, len(result))\n",
      "/adeft/.virtualenvs/py38/lib/python3.8/site-packages/sklearn/metrics/_classification.py:1248: UndefinedMetricWarning: Precision is ill-defined and being set to 0.0 due to no predicted samples. Use `zero_division` parameter to control this behavior.\n",
      "  _warn_prf(average, modifier, msg_start, len(result))\n",
      "/adeft/.virtualenvs/py38/lib/python3.8/site-packages/sklearn/metrics/_classification.py:1248: UndefinedMetricWarning: Precision is ill-defined and being set to 0.0 due to no predicted samples. Use `zero_division` parameter to control this behavior.\n",
      "  _warn_prf(average, modifier, msg_start, len(result))\n",
      "/adeft/.virtualenvs/py38/lib/python3.8/site-packages/sklearn/metrics/_classification.py:1248: UndefinedMetricWarning: Precision is ill-defined and being set to 0.0 due to no predicted samples. Use `zero_division` parameter to control this behavior.\n",
      "  _warn_prf(average, modifier, msg_start, len(result))\n",
      "/adeft/.virtualenvs/py38/lib/python3.8/site-packages/sklearn/metrics/_classification.py:1248: UndefinedMetricWarning: Precision is ill-defined and being set to 0.0 due to no predicted samples. Use `zero_division` parameter to control this behavior.\n",
      "  _warn_prf(average, modifier, msg_start, len(result))\n"
     ]
    }
   ],
   "source": [
    "excluded_longforms = ['cas']"
   ]
  },
  {
   "cell_type": "code",
   "execution_count": 54,
   "metadata": {},
   "outputs": [],
   "source": [
    "grounding_dict = {shortform: {longform: grounding_map[longform] \n",
    "                              for longform, _, _ in longforms if longform in grounding_map\n",
    "                              and longform not in excluded_longforms}\n",
    "                  for shortform, longforms in longform_dict.items()}\n",
    "result = [grounding_dict, names, pos_labels]\n",
    "\n",
    "if not os.path.exists(results_path):\n",
    "    os.mkdir(results_path)\n",
    "with open(os.path.join(results_path, f'{model_name}_preliminary_grounding_info.json'), 'w') as f:\n",
    "    json.dump(result, f)"
   ]
  },
  {
   "cell_type": "code",
   "execution_count": 55,
   "metadata": {},
   "outputs": [],
   "source": [
    "additional_entities = {}"
   ]
  },
  {
   "cell_type": "code",
   "execution_count": 56,
   "metadata": {},
   "outputs": [],
   "source": [
    "unambiguous_agent_texts = {}"
   ]
  },
  {
   "cell_type": "code",
   "execution_count": 57,
   "metadata": {},
   "outputs": [],
   "source": [
    "labeler = AdeftLabeler(grounding_dict)\n",
    "corpus = labeler.build_from_texts(\n",
    "    (text, text_ref_id) for text_ref_id, text in all_texts.items()\n",
    ")\n",
    "agent_text_text_ref_id_map = defaultdict(list)\n",
    "for text, label, id_ in corpus:\n",
    "    agent_text_text_ref_id_map[label].append(id_)\n",
    "\n",
    "entity_text_ref_id_map = {\n",
    "    entity: set(\n",
    "        get_text_ref_ids_for_entity(*entity.split(':', maxsplit=1))\n",
    "    )\n",
    "    for entity in additional_entities\n",
    "}"
   ]
  },
  {
   "cell_type": "code",
   "execution_count": 58,
   "metadata": {},
   "outputs": [],
   "source": [
    "intersection1 = []\n",
    "for entity1, trids1 in entity_text_ref_id_map.items():\n",
    "    for entity2, trids2 in entity_text_ref_id_map.items():\n",
    "        intersection1.append((entity1, entity2, len(trids1 & trids2)))"
   ]
  },
  {
   "cell_type": "code",
   "execution_count": 59,
   "metadata": {},
   "outputs": [],
   "source": [
    "intersection2 = []\n",
    "for entity1, trids1 in agent_text_text_ref_id_map.items():\n",
    "    for entity2, pmids2 in entity_text_ref_id_map.items():\n",
    "        intersection2.append((entity1, entity2, len(set(trids1) & trids2)))"
   ]
  },
  {
   "cell_type": "code",
   "execution_count": 60,
   "metadata": {},
   "outputs": [
    {
     "data": {
      "text/plain": [
       "[]"
      ]
     },
     "execution_count": 60,
     "metadata": {},
     "output_type": "execute_result"
    }
   ],
   "source": [
    "intersection1"
   ]
  },
  {
   "cell_type": "code",
   "execution_count": 61,
   "metadata": {},
   "outputs": [
    {
     "data": {
      "text/plain": [
       "[]"
      ]
     },
     "execution_count": 61,
     "metadata": {},
     "output_type": "execute_result"
    }
   ],
   "source": [
    "intersection2"
   ]
  },
  {
   "cell_type": "code",
   "execution_count": 62,
   "metadata": {},
   "outputs": [],
   "source": [
    "all_used_trids = set()\n",
    "for entity, agent_texts in unambiguous_agent_texts.items():\n",
    "    used_trids = set()\n",
    "    for agent_text in agent_texts[1]:\n",
    "        trids = set(get_text_ref_ids_for_agent_text(agent_text))\n",
    "        new_trids = list(trids - all_texts.keys() - used_trids)\n",
    "        content = get_plaintexts_for_text_ref_ids(new_trids, contains=agent_texts[1])\n",
    "        text_dict = content.flatten()\n",
    "        corpus.extend(\n",
    "            [\n",
    "                (text, entity, trid) for trid, text in text_dict.items() if len(text) >= 5\n",
    "            ]\n",
    "        )\n",
    "        used_trids.update(new_trids)\n",
    "    all_used_trids.update(used_trids)\n",
    "        \n",
    "for entity, trids in entity_text_ref_id_map.items():\n",
    "    new_trids = list(set(trids) - all_texts.keys() - all_used_trids)\n",
    "    _, contains = additional_entities[entity]\n",
    "    content = get_plaintexts_for_text_ref_ids(new_trids, contains=contains)\n",
    "    text_dict = content.flatten()\n",
    "    corpus.extend(\n",
    "        [\n",
    "            (text, entity, trid) for trid, text in text_dict.items() if len(text) >= 5\n",
    "        ]\n",
    "    )"
   ]
  },
  {
   "cell_type": "code",
   "execution_count": 63,
   "metadata": {},
   "outputs": [],
   "source": [
    "names.update({key: value[0] for key, value in additional_entities.items()})\n",
    "names.update({key: value[0] for key, value in unambiguous_agent_texts.items()})\n",
    "pos_labels = list(set(pos_labels) | additional_entities.keys() |\n",
    "                  unambiguous_agent_texts.keys())"
   ]
  },
  {
   "cell_type": "code",
   "execution_count": 64,
   "metadata": {},
   "outputs": [
    {
     "name": "stderr",
     "output_type": "stream",
     "text": [
      "INFO: [2021-10-05 21:07:28] /adeft/Py/adeft/adeft/modeling/classify.py - Beginning grid search in parameter space:\n",
      "{'C': [100.0], 'max_features': [10000]}\n",
      "INFO: [2021-10-05 21:07:41] /adeft/Py/adeft/adeft/modeling/classify.py - Best f1 score of 0.9102677425734932 found for parameter values:\n",
      "{'logit__C': 100.0, 'tfidf__max_features': 10000}\n"
     ]
    }
   ],
   "source": [
    "%%capture\n",
    "\n",
    "classifier = AdeftClassifier(shortforms, pos_labels=pos_labels, random_state=1729)\n",
    "param_grid = {'C': [100.0], 'max_features': [10000]}\n",
    "texts, labels, pmids = zip(*corpus)\n",
    "classifier.cv(texts, labels, param_grid, cv=5, n_jobs=5)"
   ]
  },
  {
   "cell_type": "code",
   "execution_count": 45,
   "metadata": {
    "scrolled": true
   },
   "outputs": [
    {
     "data": {
      "text/plain": [
       "{'label_distribution': {'carotid_artery_stenting': 121,\n",
       "  'HGNC:971': 32,\n",
       "  'MESH:D000161': 14,\n",
       "  'EFO:0009783': 3,\n",
       "  'ungrounded': 85,\n",
       "  'MESH:C015076': 18,\n",
       "  'MESH:D003329': 42,\n",
       "  'MESH:D001024': 4,\n",
       "  'MESH:D025321': 3,\n",
       "  'MESH:D002364': 21,\n",
       "  'UP:P38605': 8,\n",
       "  'CHEBI:CHEBI:474180': 25,\n",
       "  'HGNC:2431': 9,\n",
       "  'CHEBI:CHEBI:27860': 5,\n",
       "  'MESH:D023921': 8,\n",
       "  'MESH:D012464': 3,\n",
       "  'MESH:D003251': 2,\n",
       "  'MESH:D016893': 17,\n",
       "  'DOID:DOID:0111275': 9,\n",
       "  'MESH:D064807': 5,\n",
       "  'MESH:D003324': 3,\n",
       "  'MESH:D006394': 4},\n",
       " 'f1': {'mean': 0.917081, 'std': 0.009011},\n",
       " 'precision': {'mean': 0.933816, 'std': 0.026684},\n",
       " 'recall': {'mean': 0.901935, 'std': 0.020463},\n",
       " 'CHEBI:CHEBI:27860': {'f1': {'mean': 0.4, 'std': 0.489898},\n",
       "  'pr': {'mean': 0.4, 'std': 0.489898},\n",
       "  'rc': {'mean': 0.4, 'std': 0.489898}},\n",
       " 'CHEBI:CHEBI:474180': {'f1': {'mean': 0.941818, 'std': 0.079169},\n",
       "  'pr': {'mean': 0.96, 'std': 0.08},\n",
       "  'rc': {'mean': 0.926667, 'std': 0.090431}},\n",
       " 'DOID:DOID:0111275': {'f1': {'mean': 0.8, 'std': 0.4},\n",
       "  'pr': {'mean': 0.8, 'std': 0.4},\n",
       "  'rc': {'mean': 0.8, 'std': 0.4}},\n",
       " 'EFO:0009783': {'f1': {'mean': 0.0, 'std': 0.0},\n",
       "  'pr': {'mean': 0.0, 'std': 0.0},\n",
       "  'rc': {'mean': 0.0, 'std': 0.0}},\n",
       " 'HGNC:2431': {'f1': {'mean': 0.7, 'std': 0.163299},\n",
       "  'pr': {'mean': 0.6, 'std': 0.2},\n",
       "  'rc': {'mean': 0.9, 'std': 0.2}},\n",
       " 'HGNC:971': {'f1': {'mean': 0.96, 'std': 0.08},\n",
       "  'pr': {'mean': 0.971429, 'std': 0.057143},\n",
       "  'rc': {'mean': 0.95, 'std': 0.1}},\n",
       " 'MESH:C015076': {'f1': {'mean': 0.933333, 'std': 0.133333},\n",
       "  'pr': {'mean': 0.9, 'std': 0.2},\n",
       "  'rc': {'mean': 1.0, 'std': 0.0}},\n",
       " 'MESH:D000161': {'f1': {'mean': 0.931429, 'std': 0.085905},\n",
       "  'pr': {'mean': 0.933333, 'std': 0.133333},\n",
       "  'rc': {'mean': 0.95, 'std': 0.1}},\n",
       " 'MESH:D001024': {'f1': {'mean': 0.6, 'std': 0.489898},\n",
       "  'pr': {'mean': 0.6, 'std': 0.489898},\n",
       "  'rc': {'mean': 0.6, 'std': 0.489898}},\n",
       " 'MESH:D002364': {'f1': {'mean': 0.772222, 'std': 0.1},\n",
       "  'pr': {'mean': 0.71, 'std': 0.190788},\n",
       "  'rc': {'mean': 0.91, 'std': 0.111355}},\n",
       " 'MESH:D003251': {'f1': {'mean': 0.0, 'std': 0.0},\n",
       "  'pr': {'mean': 0.0, 'std': 0.0},\n",
       "  'rc': {'mean': 0.0, 'std': 0.0}},\n",
       " 'MESH:D003324': {'f1': {'mean': 0.4, 'std': 0.489898},\n",
       "  'pr': {'mean': 0.4, 'std': 0.489898},\n",
       "  'rc': {'mean': 0.4, 'std': 0.489898}},\n",
       " 'MESH:D003329': {'f1': {'mean': 0.931696, 'std': 0.041421},\n",
       "  'pr': {'mean': 0.952778, 'std': 0.058002},\n",
       "  'rc': {'mean': 0.917778, 'std': 0.075556}},\n",
       " 'MESH:D006394': {'f1': {'mean': 0.2, 'std': 0.4},\n",
       "  'pr': {'mean': 0.2, 'std': 0.4},\n",
       "  'rc': {'mean': 0.2, 'std': 0.4}},\n",
       " 'MESH:D012464': {'f1': {'mean': 0.2, 'std': 0.4},\n",
       "  'pr': {'mean': 0.2, 'std': 0.4},\n",
       "  'rc': {'mean': 0.2, 'std': 0.4}},\n",
       " 'MESH:D016893': {'f1': {'mean': 0.451429, 'std': 0.274137},\n",
       "  'pr': {'mean': 0.333333, 'std': 0.241523},\n",
       "  'rc': {'mean': 0.8, 'std': 0.4}},\n",
       " 'MESH:D023921': {'f1': {'mean': 0.133333, 'std': 0.266667},\n",
       "  'pr': {'mean': 0.1, 'std': 0.2},\n",
       "  'rc': {'mean': 0.2, 'std': 0.4}},\n",
       " 'MESH:D025321': {'f1': {'mean': 0.6, 'std': 0.489898},\n",
       "  'pr': {'mean': 0.6, 'std': 0.489898},\n",
       "  'rc': {'mean': 0.6, 'std': 0.489898}},\n",
       " 'MESH:D064807': {'f1': {'mean': 0.4, 'std': 0.489898},\n",
       "  'pr': {'mean': 0.4, 'std': 0.489898},\n",
       "  'rc': {'mean': 0.4, 'std': 0.489898}},\n",
       " 'UP:P38605': {'f1': {'mean': 0.533333, 'std': 0.452155},\n",
       "  'pr': {'mean': 0.5, 'std': 0.447214},\n",
       "  'rc': {'mean': 0.6, 'std': 0.489898}},\n",
       " 'carotid_artery_stenting': {'f1': {'mean': 0.94106, 'std': 0.026481},\n",
       "  'pr': {'mean': 0.983333, 'std': 0.033333},\n",
       "  'rc': {'mean': 0.905173, 'std': 0.053779}},\n",
       " 'ungrounded': {'f1': {'mean': 0.772884, 'std': 0.029527},\n",
       "  'pr': {'mean': 0.917647, 'std': 0.047059},\n",
       "  'rc': {'mean': 0.669817, 'std': 0.042648}}}"
      ]
     },
     "execution_count": 45,
     "metadata": {},
     "output_type": "execute_result"
    }
   ],
   "source": [
    "classifier.stats"
   ]
  },
  {
   "cell_type": "code",
   "execution_count": 65,
   "metadata": {},
   "outputs": [],
   "source": [
    "disamb = AdeftDisambiguator(classifier, grounding_dict, names)"
   ]
  },
  {
   "cell_type": "code",
   "execution_count": 66,
   "metadata": {},
   "outputs": [],
   "source": [
    "disamb.dump(model_name, results_path)"
   ]
  },
  {
   "cell_type": "code",
   "execution_count": 67,
   "metadata": {},
   "outputs": [
    {
     "name": "stdout",
     "output_type": "stream",
     "text": [
      "Disambiguation model for CAS\n",
      "\n",
      "Produces the disambiguations:\n",
      "\tAcoustic Stimulation*\tMESH:D000161\n",
      "\tAnticholinergic Syndrome\tMESH:D064807\n",
      "\tAortic Valve Stenosis\tMESH:D001024\n",
      "\tBCAR1*\tHGNC:971\n",
      "\tCSE1L*\tHGNC:2431\n",
      "\tCarotid Stenosis\tMESH:D016893\n",
      "\tCaseins*\tMESH:D002364\n",
      "\tConstriction, Pathologic\tMESH:D003251\n",
      "\tCoronary Artery Disease\tMESH:D003324\n",
      "\tCoronary Stenosis\tMESH:D023921\n",
      "\tCoronary Vasospasm*\tMESH:D003329\n",
      "\tCycloartenol synthase\tUP:P38605\n",
      "\tHemangiosarcoma\tMESH:D006394\n",
      "\tSaliva, Artificial\tMESH:D012464\n",
      "\tSurgery, Computer-Assisted\tMESH:D025321\n",
      "\tcarotid atherosclerosis\tEFO:0009783\n",
      "\tcarotid_artery_stenting\tcarotid_artery_stenting\n",
      "\tcaspofungin*\tCHEBI:CHEBI:474180\n",
      "\tcastanospermine\tCHEBI:CHEBI:27860\n",
      "\tchrome azurol S*\tMESH:C015076\n",
      "\tspeech-language disorder-1*\tDOID:DOID:0111275\n",
      "\n",
      "Class level metrics:\n",
      "--------------------\n",
      "Grounding                 \tCount\tF1     \n",
      "   carotid_artery_stenting\t121\t0.94106\n",
      "                Ungrounded\t 85\t0.77288\n",
      "        Coronary Vasospasm*\t 42\t 0.9317\n",
      "                     BCAR1*\t 32\t   0.96\n",
      "               caspofungin*\t 25\t0.94182\n",
      "                   Caseins*\t 21\t0.77222\n",
      "           chrome azurol S*\t 18\t0.93333\n",
      "          Carotid Stenosis\t 17\t0.45143\n",
      "      Acoustic Stimulation*\t 14\t0.93143\n",
      "                     CSE1L*\t  9\t    0.7\n",
      "speech-language disorder-1*\t  9\t    0.8\n",
      "     Cycloartenol synthase\t  8\t0.53333\n",
      "         Coronary Stenosis\t  8\t0.13333\n",
      "           castanospermine\t  5\t    0.4\n",
      "  Anticholinergic Syndrome\t  5\t    0.4\n",
      "     Aortic Valve Stenosis\t  4\t    0.6\n",
      "           Hemangiosarcoma\t  4\t    0.2\n",
      "   carotid atherosclerosis\t  3\t    0.0\n",
      "Surgery, Computer-Assisted\t  3\t    0.6\n",
      "        Saliva, Artificial\t  3\t    0.2\n",
      "   Coronary Artery Disease\t  3\t    0.4\n",
      "  Constriction, Pathologic\t  2\t    0.0\n",
      "\n",
      "Global Metrics:\n",
      "-----------------\n",
      "\tF1 score:\t0.91027\n",
      "\tPrecision:\t0.92715\n",
      "\tRecall:\t\t0.89421\n",
      "\n",
      "* Positive labels\n",
      "See Docstring for explanation\n",
      "\n"
     ]
    }
   ],
   "source": [
    "print(disamb.info())"
   ]
  },
  {
   "cell_type": "code",
   "execution_count": 68,
   "metadata": {},
   "outputs": [],
   "source": [
    "model_to_s3(disamb)"
   ]
  },
  {
   "cell_type": "code",
   "execution_count": 26,
   "metadata": {},
   "outputs": [],
   "source": [
    "from adeft.disambiguate import load_disambiguator"
   ]
  },
  {
   "cell_type": "code",
   "execution_count": 27,
   "metadata": {},
   "outputs": [],
   "source": [
    "disamb = load_disambiguator(\"BAL\")"
   ]
  },
  {
   "cell_type": "code",
   "execution_count": 28,
   "metadata": {},
   "outputs": [
    {
     "data": {
      "text/plain": [
       "<adeft.disambiguate.AdeftDisambiguator at 0x7f4f001b33a0>"
      ]
     },
     "execution_count": 28,
     "metadata": {},
     "output_type": "execute_result"
    }
   ],
   "source": [
    "disamb"
   ]
  },
  {
   "cell_type": "code",
   "execution_count": 29,
   "metadata": {},
   "outputs": [
    {
     "name": "stdout",
     "output_type": "stream",
     "text": [
      "Disambiguation model for BAL\n",
      "\n",
      "Produces the disambiguations:\n",
      "\tBronchoalveolar Lavage\tMESH:D018893\n",
      "\tCEL*\tHGNC:1848\n",
      "\tLiver, Artificial\tMESH:D019164\n",
      "\tbenzaldehyde lyase*\tMESH:C059416\n",
      "\tbetaine aldehyde*\tCHEBI:CHEBI:15710\n",
      "\tdimercaprol*\tCHEBI:CHEBI:64198\n",
      "\n",
      "Class level metrics:\n",
      "--------------------\n",
      "Grounding             \tCount\tF1     \n",
      "Bronchoalveolar Lavage\t1259\t 0.9929\n",
      "                   CEL*\t  36\t    1.0\n",
      "     Liver, Artificial\t  18\t0.83619\n",
      "            Ungrounded\t  17\t   0.65\n",
      "           dimercaprol*\t   8\t    0.4\n",
      "    benzaldehyde lyase*\t   3\t    0.2\n",
      "      betaine aldehyde*\t   2\t    0.2\n",
      "\n",
      "Global Metrics:\n",
      "-----------------\n",
      "\tF1 score:\t0.90773\n",
      "\tPrecision:\t1.0\n",
      "\tRecall:\t\t0.83293\n",
      "\n",
      "* Positive labels\n",
      "See Docstring for explanation\n",
      "\n"
     ]
    },
    {
     "name": "stderr",
     "output_type": "stream",
     "text": [
      "/adeft/.virtualenvs/py38/lib/python3.8/site-packages/sklearn/metrics/_classification.py:1248: UndefinedMetricWarning: Precision is ill-defined and being set to 0.0 due to no predicted samples. Use `zero_division` parameter to control this behavior.\n",
      "  _warn_prf(average, modifier, msg_start, len(result))\n",
      "/adeft/.virtualenvs/py38/lib/python3.8/site-packages/sklearn/metrics/_classification.py:1495: UndefinedMetricWarning: F-score is ill-defined and being set to 0.0 due to no true nor predicted samples. Use `zero_division` parameter to control this behavior.\n",
      "  _warn_prf(\n",
      "/adeft/.virtualenvs/py38/lib/python3.8/site-packages/sklearn/metrics/_classification.py:1248: UndefinedMetricWarning: Recall is ill-defined and being set to 0.0 due to no true samples. Use `zero_division` parameter to control this behavior.\n",
      "  _warn_prf(average, modifier, msg_start, len(result))\n",
      "/adeft/.virtualenvs/py38/lib/python3.8/site-packages/sklearn/metrics/_classification.py:1248: UndefinedMetricWarning: Precision is ill-defined and being set to 0.0 due to no predicted samples. Use `zero_division` parameter to control this behavior.\n",
      "  _warn_prf(average, modifier, msg_start, len(result))\n",
      "/adeft/.virtualenvs/py38/lib/python3.8/site-packages/sklearn/metrics/_classification.py:1495: UndefinedMetricWarning: F-score is ill-defined and being set to 0.0 due to no true nor predicted samples. Use `zero_division` parameter to control this behavior.\n",
      "  _warn_prf(\n",
      "/adeft/.virtualenvs/py38/lib/python3.8/site-packages/sklearn/metrics/_classification.py:1248: UndefinedMetricWarning: Recall is ill-defined and being set to 0.0 due to no true samples. Use `zero_division` parameter to control this behavior.\n",
      "  _warn_prf(average, modifier, msg_start, len(result))\n",
      "/adeft/.virtualenvs/py38/lib/python3.8/site-packages/sklearn/metrics/_classification.py:1248: UndefinedMetricWarning: Precision is ill-defined and being set to 0.0 due to no predicted samples. Use `zero_division` parameter to control this behavior.\n",
      "  _warn_prf(average, modifier, msg_start, len(result))\n",
      "/adeft/.virtualenvs/py38/lib/python3.8/site-packages/sklearn/metrics/_classification.py:1248: UndefinedMetricWarning: Precision is ill-defined and being set to 0.0 due to no predicted samples. Use `zero_division` parameter to control this behavior.\n",
      "  _warn_prf(average, modifier, msg_start, len(result))\n",
      "/adeft/.virtualenvs/py38/lib/python3.8/site-packages/sklearn/metrics/_classification.py:1495: UndefinedMetricWarning: F-score is ill-defined and being set to 0.0 due to no true nor predicted samples. Use `zero_division` parameter to control this behavior.\n",
      "  _warn_prf(\n",
      "/adeft/.virtualenvs/py38/lib/python3.8/site-packages/sklearn/metrics/_classification.py:1248: UndefinedMetricWarning: Recall is ill-defined and being set to 0.0 due to no true samples. Use `zero_division` parameter to control this behavior.\n",
      "  _warn_prf(average, modifier, msg_start, len(result))\n",
      "/adeft/.virtualenvs/py38/lib/python3.8/site-packages/sklearn/metrics/_classification.py:1248: UndefinedMetricWarning: Precision is ill-defined and being set to 0.0 due to no predicted samples. Use `zero_division` parameter to control this behavior.\n",
      "  _warn_prf(average, modifier, msg_start, len(result))\n",
      "/adeft/.virtualenvs/py38/lib/python3.8/site-packages/sklearn/metrics/_classification.py:1495: UndefinedMetricWarning: F-score is ill-defined and being set to 0.0 due to no true nor predicted samples. Use `zero_division` parameter to control this behavior.\n",
      "  _warn_prf(\n",
      "/adeft/.virtualenvs/py38/lib/python3.8/site-packages/sklearn/metrics/_classification.py:1248: UndefinedMetricWarning: Recall is ill-defined and being set to 0.0 due to no true samples. Use `zero_division` parameter to control this behavior.\n",
      "  _warn_prf(average, modifier, msg_start, len(result))\n",
      "/adeft/.virtualenvs/py38/lib/python3.8/site-packages/sklearn/metrics/_classification.py:1248: UndefinedMetricWarning: Precision is ill-defined and being set to 0.0 due to no predicted samples. Use `zero_division` parameter to control this behavior.\n",
      "  _warn_prf(average, modifier, msg_start, len(result))\n",
      "/adeft/.virtualenvs/py38/lib/python3.8/site-packages/sklearn/metrics/_classification.py:1248: UndefinedMetricWarning: Precision is ill-defined and being set to 0.0 due to no predicted samples. Use `zero_division` parameter to control this behavior.\n",
      "  _warn_prf(average, modifier, msg_start, len(result))\n",
      "/adeft/.virtualenvs/py38/lib/python3.8/site-packages/sklearn/metrics/_classification.py:1495: UndefinedMetricWarning: F-score is ill-defined and being set to 0.0 due to no true nor predicted samples. Use `zero_division` parameter to control this behavior.\n",
      "  _warn_prf(\n",
      "/adeft/.virtualenvs/py38/lib/python3.8/site-packages/sklearn/metrics/_classification.py:1248: UndefinedMetricWarning: Recall is ill-defined and being set to 0.0 due to no true samples. Use `zero_division` parameter to control this behavior.\n",
      "  _warn_prf(average, modifier, msg_start, len(result))\n",
      "/adeft/.virtualenvs/py38/lib/python3.8/site-packages/sklearn/metrics/_classification.py:1248: UndefinedMetricWarning: Precision is ill-defined and being set to 0.0 due to no predicted samples. Use `zero_division` parameter to control this behavior.\n",
      "  _warn_prf(average, modifier, msg_start, len(result))\n",
      "/adeft/.virtualenvs/py38/lib/python3.8/site-packages/sklearn/metrics/_classification.py:1248: UndefinedMetricWarning: Precision is ill-defined and being set to 0.0 due to no predicted samples. Use `zero_division` parameter to control this behavior.\n",
      "  _warn_prf(average, modifier, msg_start, len(result))\n"
     ]
    }
   ],
   "source": [
    "print(_28.info())"
   ]
  },
  {
   "cell_type": "code",
   "execution_count": null,
   "metadata": {},
   "outputs": [],
   "source": []
  }
 ],
 "metadata": {
  "kernelspec": {
   "display_name": "Python 3 (ipykernel)",
   "language": "python",
   "name": "python3"
  },
  "language_info": {
   "codemirror_mode": {
    "name": "ipython",
    "version": 3
   },
   "file_extension": ".py",
   "mimetype": "text/x-python",
   "name": "python",
   "nbconvert_exporter": "python",
   "pygments_lexer": "ipython3",
   "version": "3.8.7"
  }
 },
 "nbformat": 4,
 "nbformat_minor": 2
}
