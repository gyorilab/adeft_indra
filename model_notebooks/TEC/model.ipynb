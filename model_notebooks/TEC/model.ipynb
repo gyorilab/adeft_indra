{
 "cells": [
  {
   "cell_type": "code",
   "execution_count": 1,
   "metadata": {},
   "outputs": [],
   "source": [
    "import os\n",
    "import json\n",
    "import pickle\n",
    "import random\n",
    "from collections import defaultdict, Counter\n",
    "\n",
    "from indra.literature.adeft_tools import universal_extract_text\n",
    "from indra.databases.hgnc_client import get_hgnc_name, get_hgnc_id\n",
    "\n",
    "from adeft.discover import AdeftMiner\n",
    "from adeft.gui import ground_with_gui\n",
    "from adeft.modeling.label import AdeftLabeler\n",
    "from adeft.modeling.classify import AdeftClassifier\n",
    "from adeft.disambiguate import AdeftDisambiguator, load_disambiguator\n",
    "\n",
    "\n",
    "from adeft_indra.ground.ground import AdeftGrounder\n",
    "from adeft_indra.model_building.s3 import model_to_s3\n",
    "from adeft_indra.model_building.escape import escape_filename\n",
    "from adeft_indra.db.content import get_pmids_for_agent_text, get_pmids_for_entity, \\\n",
    "    get_plaintexts_for_pmids"
   ]
  },
  {
   "cell_type": "code",
   "execution_count": 2,
   "metadata": {},
   "outputs": [],
   "source": [
    "adeft_grounder = AdeftGrounder()"
   ]
  },
  {
   "cell_type": "code",
   "execution_count": 3,
   "metadata": {},
   "outputs": [],
   "source": [
    "shortforms = ['TEC', 'TECs']\n",
    "model_name = ':'.join(sorted(escape_filename(shortform) for shortform in shortforms))\n",
    "results_path = os.path.abspath(os.path.join('../..', 'results', model_name))"
   ]
  },
  {
   "cell_type": "code",
   "execution_count": 4,
   "metadata": {},
   "outputs": [],
   "source": [
    "miners = dict()\n",
    "all_texts = {}\n",
    "for shortform in shortforms:\n",
    "    pmids = get_pmids_for_agent_text(shortform)\n",
    "    text_dict = get_plaintexts_for_pmids(pmids, contains=shortforms)\n",
    "    text_dict = {pmid: text for pmid, text in text_dict.items() if len(text) > 5}\n",
    "    miners[shortform] = AdeftMiner(shortform)\n",
    "    miners[shortform].process_texts(text_dict.values())\n",
    "    all_texts.update(text_dict)\n",
    "\n",
    "longform_dict = {}\n",
    "for shortform in shortforms:\n",
    "    longforms = miners[shortform].get_longforms()\n",
    "    longforms = [(longform, count, score) for longform, count, score in longforms\n",
    "                 if count*score > 2]\n",
    "    longform_dict[shortform] = longforms\n",
    "    \n",
    "combined_longforms = Counter()\n",
    "for longform_rows in longform_dict.values():\n",
    "    combined_longforms.update({longform: count for longform, count, score\n",
    "                               in longform_rows})\n",
    "grounding_map = {}\n",
    "names = {}\n",
    "for longform in combined_longforms:\n",
    "    groundings = adeft_grounder.ground(longform)\n",
    "    if groundings:\n",
    "        grounding = groundings[0]['grounding']\n",
    "        grounding_map[longform] = grounding\n",
    "        names[grounding] = groundings[0]['name']\n",
    "longforms, counts = zip(*combined_longforms.most_common())\n",
    "pos_labels = []"
   ]
  },
  {
   "cell_type": "code",
   "execution_count": 5,
   "metadata": {},
   "outputs": [
    {
     "data": {
      "text/plain": [
       "[('thymic epithelial cells', 208),\n",
       " ('tubular epithelial cells', 120),\n",
       " ('transcription elongation complex', 42),\n",
       " ('tumor endothelial cells', 42),\n",
       " ('thyroid epithelial cells', 15),\n",
       " ('triethyl citrate', 14),\n",
       " ('total electron content', 10),\n",
       " ('triethylcholine', 9),\n",
       " ('thymic epithelial cells line', 8),\n",
       " ('ternary elongation complex', 7),\n",
       " ('total erythrocyte count', 6),\n",
       " ('tumor derived endothelial cells', 6),\n",
       " ('transcription elongation complexes', 6),\n",
       " ('thermal expansion coefficient', 5),\n",
       " ('tracheal epithelial cells', 5),\n",
       " ('tumor associated endothelial cells', 5),\n",
       " ('tumour endothelial cells', 4),\n",
       " ('total eosinophil count', 3),\n",
       " ('thromboembolic complications', 3),\n",
       " ('tissue engineered constructs', 3),\n",
       " ('tumor ecs', 3),\n",
       " ('tubule epithelial cells', 3)]"
      ]
     },
     "execution_count": 5,
     "metadata": {},
     "output_type": "execute_result"
    }
   ],
   "source": [
    "list(zip(longforms, counts))"
   ]
  },
  {
   "cell_type": "code",
   "execution_count": 6,
   "metadata": {},
   "outputs": [],
   "source": [
    "try:\n",
    "    disamb = load_disambiguator(shortforms[0])\n",
    "    for shortform, gm in disamb.grounding_dict.items():\n",
    "        for longform, grounding in gm.items():\n",
    "            grounding_map[longform] = grounding\n",
    "    for grounding, name in disamb.names.items():\n",
    "        names[grounding] = name\n",
    "    pos_labels = disamb.pos_labels\n",
    "except Exception:\n",
    "    pass"
   ]
  },
  {
   "cell_type": "code",
   "execution_count": 7,
   "metadata": {},
   "outputs": [
    {
     "data": {
      "text/plain": [
       "{'MESH:D002477': 'Cells',\n",
       " 'MESH:C023001': 'ethyl citrate',\n",
       " 'MESH:C100239': 'triethylcholine',\n",
       " 'MESH:D004906': 'Erythrocyte Count',\n",
       " 'EFO:0004842': 'eosinophil count',\n",
       " 'NCIT:C33771': 'Thymic Epithelial Cell',\n",
       " 'transcription elongation complex': 'transcription elongation complex',\n",
       " 'NCIT:C61147': 'Renal Tubular Epithelial Cell',\n",
       " 'NCIT:C37088': 'Neoplastic Endothelial Cell',\n",
       " 'MESH:D000072637': 'Thyroid Epithelial Cells',\n",
       " 'PUBCHEM:6506': 'Triethyl citrate',\n",
       " 'HGNC:11719': 'TEC'}"
      ]
     },
     "execution_count": 7,
     "metadata": {},
     "output_type": "execute_result"
    }
   ],
   "source": [
    "names"
   ]
  },
  {
   "cell_type": "code",
   "execution_count": 8,
   "metadata": {},
   "outputs": [
    {
     "name": "stderr",
     "output_type": "stream",
     "text": [
      "INFO: [2020-11-11 04:22:20] indra.ontology.bio.ontology - Loading INDRA bio ontology from cache at /home/ubuntu/.indra/bio_ontology/1.4/bio_ontology.pkl\n"
     ]
    }
   ],
   "source": [
    "grounding_map, names, pos_labels = ground_with_gui(longforms, counts, \n",
    "                                                   grounding_map=grounding_map,\n",
    "                                                   names=names, pos_labels=pos_labels, no_browser=True, port=8891)"
   ]
  },
  {
   "cell_type": "code",
   "execution_count": 9,
   "metadata": {},
   "outputs": [],
   "source": [
    "result = [grounding_map, names, pos_labels]"
   ]
  },
  {
   "cell_type": "code",
   "execution_count": 10,
   "metadata": {},
   "outputs": [
    {
     "data": {
      "text/plain": [
       "[{'ternary elongation complex': 'transcription elongation complex',\n",
       "  'thermal expansion coefficient': 'ungrounded',\n",
       "  'thromboembolic complications': 'ungrounded',\n",
       "  'thymic epithelial cells': 'NCIT:C33771',\n",
       "  'thymic epithelial cells line': 'NCIT:C33771',\n",
       "  'thyroid epithelial cells': 'MESH:D000072637',\n",
       "  'tissue engineered constructs': 'ungrounded',\n",
       "  'total electron content': 'ungrounded',\n",
       "  'total eosinophil count': 'EFO:0004842',\n",
       "  'total erythrocyte count': 'MESH:D004906',\n",
       "  'tracheal epithelial cells': 'ungrounded',\n",
       "  'transcription elongation complex': 'transcription elongation complex',\n",
       "  'transcription elongation complexes': 'transcription elongation complex',\n",
       "  'triethyl citrate': 'PUBCHEM:6506',\n",
       "  'triethylcholine': 'MESH:C100239',\n",
       "  'tubular epithelial cells': 'NCIT:C61147',\n",
       "  'tubule epithelial cells': 'NCIT:C61147',\n",
       "  'tumor associated endothelial cells': 'NCIT:C37088',\n",
       "  'tumor derived endothelial cells': 'NCIT:C37088',\n",
       "  'tumor ecs': 'NCIT:C37088',\n",
       "  'tumor endothelial cells': 'NCIT:C37088',\n",
       "  'tumour endothelial cells': 'NCIT:C37088'},\n",
       " {'transcription elongation complex': 'transcription elongation complex',\n",
       "  'NCIT:C33771': 'Thymic Epithelial Cell',\n",
       "  'MESH:D000072637': 'Thyroid Epithelial Cells',\n",
       "  'EFO:0004842': 'eosinophil count',\n",
       "  'MESH:D004906': 'Erythrocyte Count',\n",
       "  'PUBCHEM:6506': 'Triethyl citrate',\n",
       "  'MESH:C100239': 'triethylcholine',\n",
       "  'NCIT:C61147': 'Renal Tubular Epithelial Cell',\n",
       "  'NCIT:C37088': 'Neoplastic Endothelial Cell'},\n",
       " ['MESH:D000072637',\n",
       "  'NCIT:C33771',\n",
       "  'NCIT:C37088',\n",
       "  'NCIT:C61147',\n",
       "  'PUBCHEM:6506']]"
      ]
     },
     "execution_count": 10,
     "metadata": {},
     "output_type": "execute_result"
    }
   ],
   "source": [
    "result"
   ]
  },
  {
   "cell_type": "code",
   "execution_count": 11,
   "metadata": {},
   "outputs": [],
   "source": [
    "grounding_map, names, pos_labels = [{'ternary elongation complex': 'transcription elongation complex',\n",
    "  'thermal expansion coefficient': 'ungrounded',\n",
    "  'thromboembolic complications': 'ungrounded',\n",
    "  'thymic epithelial cells': 'NCIT:C33771',\n",
    "  'thymic epithelial cells line': 'NCIT:C33771',\n",
    "  'thyroid epithelial cells': 'MESH:D000072637',\n",
    "  'tissue engineered constructs': 'ungrounded',\n",
    "  'total electron content': 'ungrounded',\n",
    "  'total eosinophil count': 'EFO:0004842',\n",
    "  'total erythrocyte count': 'MESH:D004906',\n",
    "  'tracheal epithelial cells': 'ungrounded',\n",
    "  'transcription elongation complex': 'transcription elongation complex',\n",
    "  'transcription elongation complexes': 'transcription elongation complex',\n",
    "  'triethyl citrate': 'PUBCHEM:6506',\n",
    "  'triethylcholine': 'MESH:C100239',\n",
    "  'tubular epithelial cells': 'NCIT:C61147',\n",
    "  'tubule epithelial cells': 'NCIT:C61147',\n",
    "  'tumor associated endothelial cells': 'NCIT:C37088',\n",
    "  'tumor derived endothelial cells': 'NCIT:C37088',\n",
    "  'tumor ecs': 'NCIT:C37088',\n",
    "  'tumor endothelial cells': 'NCIT:C37088',\n",
    "  'tumour endothelial cells': 'NCIT:C37088'},\n",
    " {'transcription elongation complex': 'transcription elongation complex',\n",
    "  'NCIT:C33771': 'Thymic Epithelial Cell',\n",
    "  'MESH:D000072637': 'Thyroid Epithelial Cells',\n",
    "  'EFO:0004842': 'eosinophil count',\n",
    "  'MESH:D004906': 'Erythrocyte Count',\n",
    "  'PUBCHEM:6506': 'Triethyl citrate',\n",
    "  'MESH:C100239': 'triethylcholine',\n",
    "  'NCIT:C61147': 'Renal Tubular Epithelial Cell',\n",
    "  'NCIT:C37088': 'Neoplastic Endothelial Cell'},\n",
    " ['MESH:D000072637',\n",
    "  'NCIT:C33771',\n",
    "  'NCIT:C37088',\n",
    "  'NCIT:C61147',\n",
    "  'PUBCHEM:6506']]"
   ]
  },
  {
   "cell_type": "code",
   "execution_count": 12,
   "metadata": {},
   "outputs": [],
   "source": [
    "excluded_longforms = []"
   ]
  },
  {
   "cell_type": "code",
   "execution_count": 13,
   "metadata": {},
   "outputs": [],
   "source": [
    "grounding_dict = {shortform: {longform: grounding_map[longform] \n",
    "                              for longform, _, _ in longforms if longform in grounding_map\n",
    "                              and longform not in excluded_longforms}\n",
    "                  for shortform, longforms in longform_dict.items()}\n",
    "result = [grounding_dict, names, pos_labels]\n",
    "\n",
    "if not os.path.exists(results_path):\n",
    "    os.mkdir(results_path)\n",
    "with open(os.path.join(results_path, f'{model_name}_preliminary_grounding_info.json'), 'w') as f:\n",
    "    json.dump(result, f)"
   ]
  },
  {
   "cell_type": "code",
   "execution_count": 14,
   "metadata": {},
   "outputs": [],
   "source": [
    "additional_entities = {'HGNC:11719': ['TEC', ['TEC']]}"
   ]
  },
  {
   "cell_type": "code",
   "execution_count": 15,
   "metadata": {},
   "outputs": [],
   "source": [
    "unambiguous_agent_texts = {}"
   ]
  },
  {
   "cell_type": "code",
   "execution_count": 16,
   "metadata": {},
   "outputs": [],
   "source": [
    "labeler = AdeftLabeler(grounding_dict)\n",
    "corpus = labeler.build_from_texts((text, pmid) for pmid, text in all_texts.items())\n",
    "agent_text_pmid_map = defaultdict(list)\n",
    "for text, label, id_ in corpus:\n",
    "    agent_text_pmid_map[label].append(id_)\n",
    "\n",
    "entity_pmid_map = {entity: set(get_pmids_for_entity(*entity.split(':', maxsplit=1),\n",
    "                                                major_topic=True))for entity in additional_entities}"
   ]
  },
  {
   "cell_type": "code",
   "execution_count": 17,
   "metadata": {},
   "outputs": [],
   "source": [
    "intersection1 = []\n",
    "for entity1, pmids1 in entity_pmid_map.items():\n",
    "    for entity2, pmids2 in entity_pmid_map.items():\n",
    "        intersection1.append((entity1, entity2, len(pmids1 & pmids2)))"
   ]
  },
  {
   "cell_type": "code",
   "execution_count": 18,
   "metadata": {},
   "outputs": [],
   "source": [
    "intersection2 = []\n",
    "for entity1, pmids1 in agent_text_pmid_map.items():\n",
    "    for entity2, pmids2 in entity_pmid_map.items():\n",
    "        intersection2.append((entity1, entity2, len(set(pmids1) & pmids2)))"
   ]
  },
  {
   "cell_type": "code",
   "execution_count": 19,
   "metadata": {},
   "outputs": [
    {
     "data": {
      "text/plain": [
       "[('HGNC:11719', 'HGNC:11719', 564)]"
      ]
     },
     "execution_count": 19,
     "metadata": {},
     "output_type": "execute_result"
    }
   ],
   "source": [
    "intersection1"
   ]
  },
  {
   "cell_type": "code",
   "execution_count": 20,
   "metadata": {},
   "outputs": [
    {
     "data": {
      "text/plain": [
       "[('NCIT:C61147', 'HGNC:11719', 0),\n",
       " ('ungrounded', 'HGNC:11719', 0),\n",
       " ('NCIT:C33771', 'HGNC:11719', 9),\n",
       " ('MESH:D000072637', 'HGNC:11719', 0),\n",
       " ('MESH:C100239', 'HGNC:11719', 0),\n",
       " ('EFO:0004842', 'HGNC:11719', 0),\n",
       " ('MESH:D004906', 'HGNC:11719', 0),\n",
       " ('PUBCHEM:6506', 'HGNC:11719', 0),\n",
       " ('transcription elongation complex', 'HGNC:11719', 0),\n",
       " ('NCIT:C37088', 'HGNC:11719', 0)]"
      ]
     },
     "execution_count": 20,
     "metadata": {},
     "output_type": "execute_result"
    }
   ],
   "source": [
    "intersection2"
   ]
  },
  {
   "cell_type": "code",
   "execution_count": 21,
   "metadata": {},
   "outputs": [],
   "source": [
    "all_used_pmids = set()\n",
    "for entity, agent_texts in unambiguous_agent_texts.items():\n",
    "    used_pmids = set()\n",
    "    for agent_text in agent_texts[1]:\n",
    "        pmids = set(get_pmids_for_agent_text(agent_text))\n",
    "        new_pmids = list(pmids - all_texts.keys() - used_pmids)\n",
    "        text_dict = get_plaintexts_for_pmids(new_pmids, contains=agent_texts)\n",
    "        corpus.extend([(text, entity, pmid) for pmid, text in text_dict.items() if len(text) >= 5])\n",
    "        used_pmids.update(new_pmids)\n",
    "    all_used_pmids.update(used_pmids)\n",
    "        \n",
    "for entity, pmids in entity_pmid_map.items():\n",
    "    new_pmids = list(set(pmids) - all_texts.keys() - all_used_pmids)\n",
    "    if len(new_pmids) > 10000:\n",
    "        new_pmids = random.choices(new_pmids, k=10000)\n",
    "    _, contains = additional_entities[entity]\n",
    "    text_dict = get_plaintexts_for_pmids(new_pmids, contains=contains)\n",
    "    corpus.extend([(text, entity, pmid) for pmid, text in text_dict.items() if len(text) >= 5])"
   ]
  },
  {
   "cell_type": "code",
   "execution_count": 22,
   "metadata": {},
   "outputs": [],
   "source": [
    "names.update({key: value[0] for key, value in additional_entities.items()})\n",
    "names.update({key: value[0] for key, value in unambiguous_agent_texts.items()})\n",
    "pos_labels = list(set(pos_labels) | additional_entities.keys() |\n",
    "                  unambiguous_agent_texts.keys())"
   ]
  },
  {
   "cell_type": "code",
   "execution_count": 23,
   "metadata": {},
   "outputs": [
    {
     "name": "stderr",
     "output_type": "stream",
     "text": [
      "INFO: [2020-11-11 04:28:04] /adeft/PP/adeft/adeft/modeling/classify.py - Beginning grid search in parameter space:\n",
      "{'C': [100.0], 'max_features': [10000]}\n",
      "INFO: [2020-11-11 04:28:16] /adeft/PP/adeft/adeft/modeling/classify.py - Best f1 score of 0.9150433814494592 found for parameter values:\n",
      "{'logit__C': 100.0, 'tfidf__max_features': 10000}\n"
     ]
    }
   ],
   "source": [
    "%%capture\n",
    "\n",
    "classifier = AdeftClassifier(shortforms, pos_labels=pos_labels, random_state=1729)\n",
    "param_grid = {'C': [100.0], 'max_features': [10000]}\n",
    "texts, labels, pmids = zip(*corpus)\n",
    "classifier.cv(texts, labels, param_grid, cv=5, n_jobs=5)"
   ]
  },
  {
   "cell_type": "code",
   "execution_count": 24,
   "metadata": {
    "scrolled": true
   },
   "outputs": [
    {
     "data": {
      "text/plain": [
       "{'label_distribution': {'NCIT:C61147': 117,\n",
       "  'ungrounded': 15,\n",
       "  'NCIT:C33771': 211,\n",
       "  'MESH:D000072637': 13,\n",
       "  'MESH:C100239': 6,\n",
       "  'EFO:0004842': 3,\n",
       "  'MESH:D004906': 4,\n",
       "  'PUBCHEM:6506': 10,\n",
       "  'transcription elongation complex': 51,\n",
       "  'NCIT:C37088': 42,\n",
       "  'HGNC:11719': 64},\n",
       " 'f1': {'mean': 0.915043, 'std': 0.017486},\n",
       " 'precision': {'mean': 0.905184, 'std': 0.00861},\n",
       " 'recall': {'mean': 0.936642, 'std': 0.018432},\n",
       " 'ungrounded': {'f1': {'mean': 0.08, 'std': 0.16},\n",
       "  'pr': {'mean': 0.066667, 'std': 0.133333},\n",
       "  'rc': {'mean': 0.1, 'std': 0.2}},\n",
       " 'MESH:C100239': {'f1': {'mean': 1.0, 'std': 0.0},\n",
       "  'pr': {'mean': 1.0, 'std': 0.0},\n",
       "  'rc': {'mean': 1.0, 'std': 0.0}},\n",
       " 'MESH:D000072637': {'f1': {'mean': 0.533333, 'std': 0.323179},\n",
       "  'pr': {'mean': 0.466667, 'std': 0.339935},\n",
       "  'rc': {'mean': 0.733333, 'std': 0.38873}},\n",
       " 'transcription elongation complex': {'f1': {'mean': 1.0, 'std': 0.0},\n",
       "  'pr': {'mean': 1.0, 'std': 0.0},\n",
       "  'rc': {'mean': 1.0, 'std': 0.0}},\n",
       " 'MESH:D004906': {'f1': {'mean': 0.6, 'std': 0.489898},\n",
       "  'pr': {'mean': 0.6, 'std': 0.489898},\n",
       "  'rc': {'mean': 0.6, 'std': 0.489898}},\n",
       " 'NCIT:C61147': {'f1': {'mean': 0.94145, 'std': 0.025106},\n",
       "  'pr': {'mean': 0.96558, 'std': 0.032447},\n",
       "  'rc': {'mean': 0.91892, 'std': 0.025932}},\n",
       " 'HGNC:11719': {'f1': {'mean': 0.85563, 'std': 0.046404},\n",
       "  'pr': {'mean': 0.796154, 'std': 0.063897},\n",
       "  'rc': {'mean': 0.93007, 'std': 0.067511}},\n",
       " 'EFO:0004842': {'f1': {'mean': 0.0, 'std': 0.0},\n",
       "  'pr': {'mean': 0.0, 'std': 0.0},\n",
       "  'rc': {'mean': 0.0, 'std': 0.0}},\n",
       " 'NCIT:C37088': {'f1': {'mean': 0.938235, 'std': 0.055921},\n",
       "  'pr': {'mean': 0.908333, 'std': 0.084071},\n",
       "  'rc': {'mean': 0.975, 'std': 0.05}},\n",
       " 'NCIT:C33771': {'f1': {'mean': 0.935655, 'std': 0.018225},\n",
       "  'pr': {'mean': 0.995238, 'std': 0.009524},\n",
       "  'rc': {'mean': 0.883607, 'std': 0.034789}},\n",
       " 'PUBCHEM:6506': {'f1': {'mean': 0.933333, 'std': 0.133333},\n",
       "  'pr': {'mean': 1.0, 'std': 0.0},\n",
       "  'rc': {'mean': 0.9, 'std': 0.2}}}"
      ]
     },
     "execution_count": 24,
     "metadata": {},
     "output_type": "execute_result"
    }
   ],
   "source": [
    "classifier.stats"
   ]
  },
  {
   "cell_type": "code",
   "execution_count": 25,
   "metadata": {},
   "outputs": [],
   "source": [
    "disamb = AdeftDisambiguator(classifier, grounding_dict, names)"
   ]
  },
  {
   "cell_type": "code",
   "execution_count": 26,
   "metadata": {},
   "outputs": [],
   "source": [
    "disamb.dump(model_name, results_path)"
   ]
  },
  {
   "cell_type": "code",
   "execution_count": 27,
   "metadata": {},
   "outputs": [
    {
     "name": "stdout",
     "output_type": "stream",
     "text": [
      "Disambiguation model for TEC, and TECs\n",
      "\n",
      "Produces the disambiguations:\n",
      "\tErythrocyte Count\tMESH:D004906\n",
      "\tNeoplastic Endothelial Cell*\tNCIT:C37088\n",
      "\tRenal Tubular Epithelial Cell*\tNCIT:C61147\n",
      "\tTEC*\tHGNC:11719\n",
      "\tThymic Epithelial Cell*\tNCIT:C33771\n",
      "\tThyroid Epithelial Cells*\tMESH:D000072637\n",
      "\tTriethyl citrate*\tPUBCHEM:6506\n",
      "\teosinophil count\tEFO:0004842\n",
      "\ttranscription elongation complex\ttranscription elongation complex\n",
      "\ttriethylcholine\tMESH:C100239\n",
      "\n",
      "Class level metrics:\n",
      "--------------------\n",
      "Grounding                       \tCount\tF1     \n",
      "          Thymic Epithelial Cell*\t211\t0.93566\n",
      "   Renal Tubular Epithelial Cell*\t117\t0.94145\n",
      "                             TEC*\t 64\t0.85563\n",
      "transcription elongation complex\t 51\t    1.0\n",
      "     Neoplastic Endothelial Cell*\t 42\t0.93824\n",
      "                      Ungrounded\t 15\t   0.08\n",
      "        Thyroid Epithelial Cells*\t 13\t0.53333\n",
      "                Triethyl citrate*\t 10\t0.93333\n",
      "                 triethylcholine\t  6\t    1.0\n",
      "               Erythrocyte Count\t  4\t    0.6\n",
      "                eosinophil count\t  3\t    0.0\n",
      "\n",
      "Weighted Metrics:\n",
      "-----------------\n",
      "\tF1 score:\t0.91504\n",
      "\tPrecision:\t0.90518\n",
      "\tRecall:\t\t0.93664\n",
      "\n",
      "* Positive labels\n",
      "See Docstring for explanation\n",
      "\n"
     ]
    }
   ],
   "source": [
    "print(disamb.info())"
   ]
  },
  {
   "cell_type": "code",
   "execution_count": 28,
   "metadata": {},
   "outputs": [],
   "source": [
    "model_to_s3(disamb)"
   ]
  },
  {
   "cell_type": "code",
   "execution_count": 30,
   "metadata": {},
   "outputs": [],
   "source": [
    "preds = [disamb.disambiguate(text) for text in all_texts.values()]"
   ]
  },
  {
   "cell_type": "code",
   "execution_count": 31,
   "metadata": {},
   "outputs": [],
   "source": [
    "texts = [text for pred, text in zip(preds, all_texts.values()) if pred[0] == 'HGNC:10967']"
   ]
  },
  {
   "cell_type": "code",
   "execution_count": 36,
   "metadata": {},
   "outputs": [
    {
     "data": {
      "text/plain": [
       "'The non-neuronal monoamine transporters (OCT1, OCT2, EMT, and PMAT) play a key role in the clearance of monoamines from extracellular compartments. In a previous report we described endometrial distribution and cyclic variation of the vesicular monoamine transporter (VMAT2) mRNA and the neuronal norepinephrine transporter (NET) mRNA. In the present study we used in situ hybridization, real-time PCR and immunohistochemistry to reveal tissue distribution and cyclic variation of mRNA for the non-neuronal monoamine transporters in the human endometrium and early pregnancy decidua. We found that non-neuronal monoamine transporters are predominantly expressed in the stroma. The plasma membrane monoamine transporter (PMAT) mRNA expression peaked in the proliferative phase, whereas the extra-neuronal monoamine transporter (EMT) mRNA expression peaked in the secretory phase. The organic cation transporter 2 (OCT2) mRNA expression was exclusively detected in few scattered stromal cells and OCT1 mRNA was not detected at all. Our present results demonstrate that PMAT, EMT, and OCT2 transporters are expressed in the endometrial stroma and can potentially regulate reuptake of monoamines in general and histamine in particular. Taken together with our previous finding of VMAT2 mRNA in epithelial cells, we suggest a paracrine interaction between stromal and epithelial cells, which may modulate certain steps of the reproductive process.\\n'"
      ]
     },
     "execution_count": 36,
     "metadata": {},
     "output_type": "execute_result"
    }
   ],
   "source": [
    "texts[3]"
   ]
  },
  {
   "cell_type": "code",
   "execution_count": null,
   "metadata": {},
   "outputs": [],
   "source": []
  }
 ],
 "metadata": {
  "kernelspec": {
   "display_name": "Python 3",
   "language": "python",
   "name": "python3"
  },
  "language_info": {
   "codemirror_mode": {
    "name": "ipython",
    "version": 3
   },
   "file_extension": ".py",
   "mimetype": "text/x-python",
   "name": "python",
   "nbconvert_exporter": "python",
   "pygments_lexer": "ipython3",
   "version": "3.8.4"
  }
 },
 "nbformat": 4,
 "nbformat_minor": 2
}
