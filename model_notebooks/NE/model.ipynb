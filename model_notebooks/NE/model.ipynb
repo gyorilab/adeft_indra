{
 "cells": [
  {
   "cell_type": "code",
   "execution_count": 1,
   "metadata": {},
   "outputs": [],
   "source": [
    "import os\n",
    "import json\n",
    "import pickle\n",
    "import random\n",
    "from collections import defaultdict, Counter\n",
    "\n",
    "from indra.literature.adeft_tools import universal_extract_text\n",
    "from indra.databases.hgnc_client import get_hgnc_name, get_hgnc_id\n",
    "\n",
    "from adeft.discover import AdeftMiner\n",
    "from adeft.gui import ground_with_gui\n",
    "from adeft.modeling.label import AdeftLabeler\n",
    "from adeft.modeling.classify import AdeftClassifier\n",
    "from adeft.disambiguate import AdeftDisambiguator, load_disambiguator\n",
    "\n",
    "\n",
    "from adeft_indra.ground.ground import AdeftGrounder\n",
    "from adeft_indra.model_building.s3 import model_to_s3\n",
    "from adeft_indra.model_building.escape import escape_filename\n",
    "from adeft_indra.db.content import get_pmids_for_agent_text, get_pmids_for_entity, \\\n",
    "    get_plaintexts_for_pmids"
   ]
  },
  {
   "cell_type": "code",
   "execution_count": 2,
   "metadata": {},
   "outputs": [],
   "source": [
    "adeft_grounder = AdeftGrounder()"
   ]
  },
  {
   "cell_type": "code",
   "execution_count": 3,
   "metadata": {},
   "outputs": [],
   "source": [
    "shortforms = ['NE']\n",
    "model_name = ':'.join(sorted(escape_filename(shortform) for shortform in shortforms))\n",
    "results_path = os.path.abspath(os.path.join('../..', 'results', model_name))"
   ]
  },
  {
   "cell_type": "code",
   "execution_count": 4,
   "metadata": {},
   "outputs": [],
   "source": [
    "miners = dict()\n",
    "all_texts = {}\n",
    "for shortform in shortforms:\n",
    "    pmids = get_pmids_for_agent_text(shortform)\n",
    "    text_dict = get_plaintexts_for_pmids(pmids, contains=shortforms)\n",
    "    text_dict = {pmid: text for pmid, text in text_dict.items() if len(text) > 5}\n",
    "    miners[shortform] = AdeftMiner(shortform)\n",
    "    miners[shortform].process_texts(text_dict.values())\n",
    "    all_texts.update(text_dict)\n",
    "\n",
    "longform_dict = {}\n",
    "for shortform in shortforms:\n",
    "    longforms = miners[shortform].get_longforms()\n",
    "    longforms = [(longform, count, score) for longform, count, score in longforms\n",
    "                 if count*score > 2]\n",
    "    longform_dict[shortform] = longforms\n",
    "    \n",
    "combined_longforms = Counter()\n",
    "for longform_rows in longform_dict.values():\n",
    "    combined_longforms.update({longform: count for longform, count, score\n",
    "                               in longform_rows})\n",
    "grounding_map = {}\n",
    "names = {}\n",
    "for longform in combined_longforms:\n",
    "    groundings = adeft_grounder.ground(longform)\n",
    "    if groundings:\n",
    "        grounding = groundings[0]['grounding']\n",
    "        grounding_map[longform] = grounding\n",
    "        names[grounding] = groundings[0]['name']\n",
    "longforms, counts = zip(*combined_longforms.most_common())\n",
    "pos_labels = []"
   ]
  },
  {
   "cell_type": "code",
   "execution_count": 5,
   "metadata": {},
   "outputs": [
    {
     "data": {
      "text/plain": [
       "[('norepinephrine', 5467),\n",
       " ('neutrophil elastase', 703),\n",
       " ('nuclear envelope', 516),\n",
       " ('neuroendocrine', 297),\n",
       " ('noradrenaline', 104),\n",
       " ('noradrenergic', 78),\n",
       " ('necrotic enteritis', 68),\n",
       " ('nanoemulsion', 60),\n",
       " ('nuclear extract', 53),\n",
       " ('negative emotionality', 38),\n",
       " ('nocturnal enuresis', 34),\n",
       " ('neonatal encephalopathy', 27),\n",
       " ('neuroectoderm', 25),\n",
       " ('nephropathia epidemica', 19),\n",
       " ('neuroepithelial', 16),\n",
       " ('nephrine', 14),\n",
       " ('nor epinephrine', 13),\n",
       " ('net energy', 12),\n",
       " ('neural ectoderm', 10),\n",
       " ('neuroepithelium', 9),\n",
       " ('norepine phrine', 7),\n",
       " ('noladin ether', 6),\n",
       " ('neutrophil', 6),\n",
       " ('nutrition education', 5),\n",
       " ('network', 5),\n",
       " ('novel environment', 5),\n",
       " ('neighborhood environment', 5),\n",
       " ('norepinephrinergic', 5),\n",
       " ('norepineprine', 5),\n",
       " ('nash equilibrium', 4),\n",
       " ('neostriatum', 4),\n",
       " ('neutralizing epitope', 4),\n",
       " ('norephinephrine', 4),\n",
       " ('norepinephine', 4),\n",
       " ('norepinepherine', 4),\n",
       " ('norethisterone', 4),\n",
       " ('northeast', 4),\n",
       " ('neuro epithelial like', 4),\n",
       " ('norepinephrine bitartrate', 4),\n",
       " ('nash equilibria', 3),\n",
       " ('ne', 3),\n",
       " ('neuroepithelioma', 3),\n",
       " ('non essential', 3),\n",
       " ('neutropenic enterocolitis', 3),\n",
       " ('nicotine equivalent', 3),\n",
       " ('noise exposed', 3),\n",
       " ('noise exposure', 3),\n",
       " ('non exercise', 3),\n",
       " ('normal esophageal', 3),\n",
       " ('nutrition elements', 3),\n",
       " ('normal esophagus', 3),\n",
       " ('nuclear', 3),\n",
       " ('non e box', 3)]"
      ]
     },
     "execution_count": 5,
     "metadata": {},
     "output_type": "execute_result"
    }
   ],
   "source": [
    "list(zip(longforms, counts))"
   ]
  },
  {
   "cell_type": "code",
   "execution_count": 6,
   "metadata": {},
   "outputs": [],
   "source": [
    "try:\n",
    "    disamb = load_disambiguator(shortforms[0])\n",
    "    for shortform, gm in disamb.grounding_dict.items():\n",
    "        for longform, grounding in gm.items():\n",
    "            grounding_map[longform] = grounding\n",
    "    for grounding, name in disamb.names.items():\n",
    "        names[grounding] = name\n",
    "    pos_labels = disamb.pos_labels\n",
    "except Exception:\n",
    "    pass"
   ]
  },
  {
   "cell_type": "code",
   "execution_count": 7,
   "metadata": {},
   "outputs": [
    {
     "data": {
      "text/plain": [
       "{'CHEBI:CHEBI:18357': '(R)-noradrenaline',\n",
       " 'GO:GO:0005635': 'nuclear envelope',\n",
       " 'CHEBI:CHEBI:33569': 'noradrenaline',\n",
       " 'MESH:D004751': 'Enteritis',\n",
       " 'MESH:D053206': 'Nocturnal Enuresis',\n",
       " 'DOID:DOID:0050201': 'nephropathia epidemica',\n",
       " 'CHEBI:CHEBI:28918': '(R)-adrenaline',\n",
       " 'MESH:D004475': 'Ectoderm',\n",
       " 'MESH:C424442': 'noladin ether',\n",
       " 'MESH:D009504': 'Neutrophils',\n",
       " 'MESH:D004493': 'Education',\n",
       " 'MESH:D004777': 'Environment',\n",
       " 'MESH:D017072': 'Neostriatum',\n",
       " 'CHEBI:CHEBI:53000': 'epitope',\n",
       " 'CHEBI:CHEBI:7627': 'norethisterone',\n",
       " 'HGNC:3309': 'ELANE',\n",
       " 'MESH:D017599': 'Neuroectodermal Tumors',\n",
       " 'MESH:D044504': 'Enterocolitis, Neutropenic',\n",
       " 'EFO:0000487': 'exposure',\n",
       " 'CHEBI:CHEBI:33250': 'atom',\n",
       " 'MESH:D004947': 'Esophagus'}"
      ]
     },
     "execution_count": 7,
     "metadata": {},
     "output_type": "execute_result"
    }
   ],
   "source": [
    "names"
   ]
  },
  {
   "cell_type": "code",
   "execution_count": 8,
   "metadata": {},
   "outputs": [
    {
     "name": "stderr",
     "output_type": "stream",
     "text": [
      "INFO: [2020-11-10 04:55:29] indra.ontology.bio.ontology - Loading INDRA bio ontology from cache at /home/ubuntu/.indra/bio_ontology/1.4/bio_ontology.pkl\n"
     ]
    }
   ],
   "source": [
    "grounding_map, names, pos_labels = ground_with_gui(longforms, counts, \n",
    "                                                   grounding_map=grounding_map,\n",
    "                                                   names=names, pos_labels=pos_labels, no_browser=True, port=8891)"
   ]
  },
  {
   "cell_type": "code",
   "execution_count": 9,
   "metadata": {},
   "outputs": [],
   "source": [
    "result = [grounding_map, names, pos_labels]"
   ]
  },
  {
   "cell_type": "code",
   "execution_count": 10,
   "metadata": {},
   "outputs": [
    {
     "data": {
      "text/plain": [
       "[{'nanoemulsion': 'ungrounded',\n",
       "  'nash equilibria': 'ungrounded',\n",
       "  'nash equilibrium': 'ungrounded',\n",
       "  'ne': 'ungrounded',\n",
       "  'necrotic enteritis': 'ungrounded',\n",
       "  'negative emotionality': 'ungrounded',\n",
       "  'neighborhood environment': 'ungrounded',\n",
       "  'neonatal encephalopathy': 'ungrounded',\n",
       "  'neostriatum': 'MESH:D017072',\n",
       "  'nephrine': 'ungrounded',\n",
       "  'nephropathia epidemica': 'ungrounded',\n",
       "  'net energy': 'ungrounded',\n",
       "  'network': 'ungrounded',\n",
       "  'neural ectoderm': 'ungrounded',\n",
       "  'neuro epithelial like': 'ungrounded',\n",
       "  'neuroectoderm': 'ungrounded',\n",
       "  'neuroendocrine': 'ungrounded',\n",
       "  'neuroepithelial': 'ungrounded',\n",
       "  'neuroepithelioma': 'MESH:D017599',\n",
       "  'neuroepithelium': 'ungrounded',\n",
       "  'neutralizing epitope': 'ungrounded',\n",
       "  'neutropenic enterocolitis': 'MESH:D044504',\n",
       "  'neutrophil': 'HGNC:3309',\n",
       "  'neutrophil elastase': 'HGNC:3309',\n",
       "  'nicotine equivalent': 'ungrounded',\n",
       "  'nocturnal enuresis': 'ungrounded',\n",
       "  'noise exposed': 'ungrounded',\n",
       "  'noise exposure': 'ungrounded',\n",
       "  'noladin ether': 'MESH:C424442',\n",
       "  'non e box': 'ungrounded',\n",
       "  'non essential': 'ungrounded',\n",
       "  'non exercise': 'ungrounded',\n",
       "  'nor epinephrine': 'CHEBI:CHEBI:28918',\n",
       "  'noradrenaline': 'CHEBI:CHEBI:28918',\n",
       "  'noradrenergic': 'CHEBI:CHEBI:28918',\n",
       "  'norephinephrine': 'CHEBI:CHEBI:28918',\n",
       "  'norepine phrine': 'CHEBI:CHEBI:28918',\n",
       "  'norepinepherine': 'CHEBI:CHEBI:28918',\n",
       "  'norepinephine': 'CHEBI:CHEBI:28918',\n",
       "  'norepinephrine': 'CHEBI:CHEBI:28918',\n",
       "  'norepinephrine bitartrate': 'CHEBI:CHEBI:28918',\n",
       "  'norepinephrinergic': 'CHEBI:CHEBI:28918',\n",
       "  'norepineprine': 'CHEBI:CHEBI:28918',\n",
       "  'norethisterone': 'CHEBI:CHEBI:7627',\n",
       "  'normal esophageal': 'ungrounded',\n",
       "  'normal esophagus': 'ungrounded',\n",
       "  'northeast': 'ungrounded',\n",
       "  'novel environment': 'ungrounded',\n",
       "  'nuclear': 'ungrounded',\n",
       "  'nuclear envelope': 'GO:GO:0005635',\n",
       "  'nuclear extract': 'ungrounded',\n",
       "  'nutrition education': 'ungrounded',\n",
       "  'nutrition elements': 'ungrounded'},\n",
       " {'MESH:D017072': 'Neostriatum',\n",
       "  'MESH:D017599': 'Neuroectodermal Tumors',\n",
       "  'MESH:D044504': 'Enterocolitis, Neutropenic',\n",
       "  'HGNC:3309': 'ELANE',\n",
       "  'MESH:C424442': 'noladin ether',\n",
       "  'CHEBI:CHEBI:28918': '(R)-adrenaline',\n",
       "  'CHEBI:CHEBI:7627': 'norethisterone',\n",
       "  'GO:GO:0005635': 'nuclear envelope'},\n",
       " ['CHEBI:CHEBI:28918', 'GO:GO:0005635', 'HGNC:3309']]"
      ]
     },
     "execution_count": 10,
     "metadata": {},
     "output_type": "execute_result"
    }
   ],
   "source": [
    "result"
   ]
  },
  {
   "cell_type": "code",
   "execution_count": 11,
   "metadata": {},
   "outputs": [],
   "source": [
    "grounding_map, names, pos_labels = [{'nanoemulsion': 'ungrounded',\n",
    "  'nash equilibria': 'ungrounded',\n",
    "  'nash equilibrium': 'ungrounded',\n",
    "  'ne': 'ungrounded',\n",
    "  'necrotic enteritis': 'ungrounded',\n",
    "  'negative emotionality': 'ungrounded',\n",
    "  'neighborhood environment': 'ungrounded',\n",
    "  'neonatal encephalopathy': 'ungrounded',\n",
    "  'neostriatum': 'MESH:D017072',\n",
    "  'nephrine': 'ungrounded',\n",
    "  'nephropathia epidemica': 'ungrounded',\n",
    "  'net energy': 'ungrounded',\n",
    "  'network': 'ungrounded',\n",
    "  'neural ectoderm': 'ungrounded',\n",
    "  'neuro epithelial like': 'ungrounded',\n",
    "  'neuroectoderm': 'ungrounded',\n",
    "  'neuroendocrine': 'ungrounded',\n",
    "  'neuroepithelial': 'ungrounded',\n",
    "  'neuroepithelioma': 'MESH:D017599',\n",
    "  'neuroepithelium': 'ungrounded',\n",
    "  'neutralizing epitope': 'ungrounded',\n",
    "  'neutropenic enterocolitis': 'MESH:D044504',\n",
    "  'neutrophil': 'HGNC:3309',\n",
    "  'neutrophil elastase': 'HGNC:3309',\n",
    "  'nicotine equivalent': 'ungrounded',\n",
    "  'nocturnal enuresis': 'ungrounded',\n",
    "  'noise exposed': 'ungrounded',\n",
    "  'noise exposure': 'ungrounded',\n",
    "  'noladin ether': 'MESH:C424442',\n",
    "  'non e box': 'ungrounded',\n",
    "  'non essential': 'ungrounded',\n",
    "  'non exercise': 'ungrounded',\n",
    "  'nor epinephrine': 'CHEBI:CHEBI:28918',\n",
    "  'noradrenaline': 'CHEBI:CHEBI:28918',\n",
    "  'noradrenergic': 'CHEBI:CHEBI:28918',\n",
    "  'norephinephrine': 'CHEBI:CHEBI:28918',\n",
    "  'norepine phrine': 'CHEBI:CHEBI:28918',\n",
    "  'norepinepherine': 'CHEBI:CHEBI:28918',\n",
    "  'norepinephine': 'CHEBI:CHEBI:28918',\n",
    "  'norepinephrine': 'CHEBI:CHEBI:28918',\n",
    "  'norepinephrine bitartrate': 'CHEBI:CHEBI:28918',\n",
    "  'norepinephrinergic': 'CHEBI:CHEBI:28918',\n",
    "  'norepineprine': 'CHEBI:CHEBI:28918',\n",
    "  'norethisterone': 'CHEBI:CHEBI:7627',\n",
    "  'normal esophageal': 'ungrounded',\n",
    "  'normal esophagus': 'ungrounded',\n",
    "  'northeast': 'ungrounded',\n",
    "  'novel environment': 'ungrounded',\n",
    "  'nuclear': 'ungrounded',\n",
    "  'nuclear envelope': 'GO:GO:0005635',\n",
    "  'nuclear extract': 'ungrounded',\n",
    "  'nutrition education': 'ungrounded',\n",
    "  'nutrition elements': 'ungrounded'},\n",
    " {'MESH:D017072': 'Neostriatum',\n",
    "  'MESH:D017599': 'Neuroectodermal Tumors',\n",
    "  'MESH:D044504': 'Enterocolitis, Neutropenic',\n",
    "  'HGNC:3309': 'ELANE',\n",
    "  'MESH:C424442': 'noladin ether',\n",
    "  'CHEBI:CHEBI:28918': '(R)-adrenaline',\n",
    "  'CHEBI:CHEBI:7627': 'norethisterone',\n",
    "  'GO:GO:0005635': 'nuclear envelope'},\n",
    " ['CHEBI:CHEBI:28918', 'GO:GO:0005635', 'HGNC:3309']]"
   ]
  },
  {
   "cell_type": "code",
   "execution_count": 12,
   "metadata": {},
   "outputs": [],
   "source": [
    "excluded_longforms = ['ne']"
   ]
  },
  {
   "cell_type": "code",
   "execution_count": 13,
   "metadata": {},
   "outputs": [],
   "source": [
    "grounding_dict = {shortform: {longform: grounding_map[longform] \n",
    "                              for longform, _, _ in longforms if longform in grounding_map\n",
    "                              and longform not in excluded_longforms}\n",
    "                  for shortform, longforms in longform_dict.items()}\n",
    "result = [grounding_dict, names, pos_labels]\n",
    "\n",
    "if not os.path.exists(results_path):\n",
    "    os.mkdir(results_path)\n",
    "with open(os.path.join(results_path, f'{model_name}_preliminary_grounding_info.json'), 'w') as f:\n",
    "    json.dump(result, f)"
   ]
  },
  {
   "cell_type": "code",
   "execution_count": 14,
   "metadata": {},
   "outputs": [],
   "source": [
    "additional_entities = {}"
   ]
  },
  {
   "cell_type": "code",
   "execution_count": 15,
   "metadata": {},
   "outputs": [],
   "source": [
    "unambiguous_agent_texts = {}"
   ]
  },
  {
   "cell_type": "code",
   "execution_count": 16,
   "metadata": {},
   "outputs": [],
   "source": [
    "labeler = AdeftLabeler(grounding_dict)\n",
    "corpus = labeler.build_from_texts((text, pmid) for pmid, text in all_texts.items())\n",
    "agent_text_pmid_map = defaultdict(list)\n",
    "for text, label, id_ in corpus:\n",
    "    agent_text_pmid_map[label].append(id_)\n",
    "\n",
    "entity_pmid_map = {entity: set(get_pmids_for_entity(*entity.split(':', maxsplit=1),\n",
    "                                                major_topic=True))for entity in additional_entities}"
   ]
  },
  {
   "cell_type": "code",
   "execution_count": 18,
   "metadata": {},
   "outputs": [],
   "source": [
    "intersection1 = []\n",
    "for entity1, pmids1 in entity_pmid_map.items():\n",
    "    for entity2, pmids2 in entity_pmid_map.items():\n",
    "        intersection1.append((entity1, entity2, len(pmids1 & pmids2)))"
   ]
  },
  {
   "cell_type": "code",
   "execution_count": 19,
   "metadata": {},
   "outputs": [],
   "source": [
    "intersection2 = []\n",
    "for entity1, pmids1 in agent_text_pmid_map.items():\n",
    "    for entity2, pmids2 in entity_pmid_map.items():\n",
    "        intersection2.append((entity1, entity2, len(set(pmids1) & pmids2)))"
   ]
  },
  {
   "cell_type": "code",
   "execution_count": 20,
   "metadata": {},
   "outputs": [
    {
     "data": {
      "text/plain": [
       "[('HGNC:10967', 'HGNC:10967', 98)]"
      ]
     },
     "execution_count": 20,
     "metadata": {},
     "output_type": "execute_result"
    }
   ],
   "source": [
    "intersection1"
   ]
  },
  {
   "cell_type": "code",
   "execution_count": 21,
   "metadata": {},
   "outputs": [
    {
     "data": {
      "text/plain": [
       "[('GO:GO:0001837', 'HGNC:10967', 0),\n",
       " ('ungrounded', 'HGNC:10967', 0),\n",
       " ('HGNC:10967', 'HGNC:10967', 0),\n",
       " ('MESH:D055032', 'HGNC:10967', 0)]"
      ]
     },
     "execution_count": 21,
     "metadata": {},
     "output_type": "execute_result"
    }
   ],
   "source": [
    "intersection2"
   ]
  },
  {
   "cell_type": "code",
   "execution_count": 22,
   "metadata": {},
   "outputs": [],
   "source": [
    "all_used_pmids = set()\n",
    "for entity, agent_texts in unambiguous_agent_texts.items():\n",
    "    used_pmids = set()\n",
    "    for agent_text in agent_texts[1]:\n",
    "        pmids = set(get_pmids_for_agent_text(agent_text))\n",
    "        new_pmids = list(pmids - all_texts.keys() - used_pmids)\n",
    "        text_dict = get_plaintexts_for_pmids(new_pmids, contains=agent_texts)\n",
    "        corpus.extend([(text, entity, pmid) for pmid, text in text_dict.items() if len(text) >= 5])\n",
    "        used_pmids.update(new_pmids)\n",
    "    all_used_pmids.update(used_pmids)\n",
    "        \n",
    "for entity, pmids in entity_pmid_map.items():\n",
    "    new_pmids = list(set(pmids) - all_texts.keys() - all_used_pmids)\n",
    "    if len(new_pmids) > 10000:\n",
    "        new_pmids = random.choices(new_pmids, k=10000)\n",
    "    _, contains = additional_entities[entity]\n",
    "    text_dict = get_plaintexts_for_pmids(new_pmids, contains=contains)\n",
    "    corpus.extend([(text, entity, pmid) for pmid, text in text_dict.items() if len(text) >= 5])"
   ]
  },
  {
   "cell_type": "code",
   "execution_count": 23,
   "metadata": {},
   "outputs": [],
   "source": [
    "names.update({key: value[0] for key, value in additional_entities.items()})\n",
    "names.update({key: value[0] for key, value in unambiguous_agent_texts.items()})\n",
    "pos_labels = list(set(pos_labels) | additional_entities.keys() |\n",
    "                  unambiguous_agent_texts.keys())"
   ]
  },
  {
   "cell_type": "code",
   "execution_count": 17,
   "metadata": {},
   "outputs": [
    {
     "name": "stderr",
     "output_type": "stream",
     "text": [
      "INFO: [2020-11-10 05:01:37] /adeft/PP/adeft/adeft/modeling/classify.py - Beginning grid search in parameter space:\n",
      "{'C': [100.0], 'max_features': [10000]}\n",
      "INFO: [2020-11-10 05:03:31] /adeft/PP/adeft/adeft/modeling/classify.py - Best f1 score of 0.9832163602852344 found for parameter values:\n",
      "{'logit__C': 100.0, 'tfidf__max_features': 10000}\n"
     ]
    }
   ],
   "source": [
    "%%capture\n",
    "\n",
    "classifier = AdeftClassifier(shortforms, pos_labels=pos_labels, random_state=1729)\n",
    "param_grid = {'C': [100.0], 'max_features': [10000]}\n",
    "texts, labels, pmids = zip(*corpus)\n",
    "classifier.cv(texts, labels, param_grid, cv=5, n_jobs=5)"
   ]
  },
  {
   "cell_type": "code",
   "execution_count": 18,
   "metadata": {
    "scrolled": true
   },
   "outputs": [
    {
     "data": {
      "text/plain": [
       "{'label_distribution': {'CHEBI:CHEBI:28918': 4671,\n",
       "  'GO:GO:0005635': 390,\n",
       "  'HGNC:3309': 482,\n",
       "  'ungrounded': 518,\n",
       "  'CHEBI:CHEBI:7627': 2,\n",
       "  'MESH:C424442': 5,\n",
       "  'MESH:D017599': 2,\n",
       "  'MESH:D044504': 2,\n",
       "  'MESH:D017072': 1},\n",
       " 'f1': {'mean': 0.983216, 'std': 0.002514},\n",
       " 'precision': {'mean': 0.980138, 'std': 0.00209},\n",
       " 'recall': {'mean': 0.986649, 'std': 0.002992},\n",
       " 'CHEBI:CHEBI:28918': {'f1': {'mean': 0.987463, 'std': 0.001448},\n",
       "  'pr': {'mean': 0.994862, 'std': 0.002184},\n",
       "  'rc': {'mean': 0.980181, 'std': 0.002726}},\n",
       " 'GO:GO:0005635': {'f1': {'mean': 0.970302, 'std': 0.01872},\n",
       "  'pr': {'mean': 0.966667, 'std': 0.026399},\n",
       "  'rc': {'mean': 0.974307, 'std': 0.018332}},\n",
       " 'CHEBI:CHEBI:7627': {'f1': {'mean': 0.0, 'std': 0.0},\n",
       "  'pr': {'mean': 0.0, 'std': 0.0},\n",
       "  'rc': {'mean': 0.0, 'std': 0.0}},\n",
       " 'ungrounded': {'f1': {'mean': 0.913805, 'std': 0.010019},\n",
       "  'pr': {'mean': 0.889937, 'std': 0.010117},\n",
       "  'rc': {'mean': 0.939127, 'std': 0.015189}},\n",
       " 'MESH:D044504': {'f1': {'mean': 0.0, 'std': 0.0},\n",
       "  'pr': {'mean': 0.0, 'std': 0.0},\n",
       "  'rc': {'mean': 0.0, 'std': 0.0}},\n",
       " 'HGNC:3309': {'f1': {'mean': 0.952443, 'std': 0.026008},\n",
       "  'pr': {'mean': 0.923153, 'std': 0.039905},\n",
       "  'rc': {'mean': 0.984373, 'std': 0.016873}},\n",
       " 'MESH:C424442': {'f1': {'mean': 0.4, 'std': 0.489898},\n",
       "  'pr': {'mean': 0.4, 'std': 0.489898},\n",
       "  'rc': {'mean': 0.4, 'std': 0.489898}},\n",
       " 'MESH:D017072': {'f1': {'mean': 0.0, 'std': 0.0},\n",
       "  'pr': {'mean': 0.0, 'std': 0.0},\n",
       "  'rc': {'mean': 0.0, 'std': 0.0}},\n",
       " 'MESH:D017599': {'f1': {'mean': 0.0, 'std': 0.0},\n",
       "  'pr': {'mean': 0.0, 'std': 0.0},\n",
       "  'rc': {'mean': 0.0, 'std': 0.0}}}"
      ]
     },
     "execution_count": 18,
     "metadata": {},
     "output_type": "execute_result"
    }
   ],
   "source": [
    "classifier.stats"
   ]
  },
  {
   "cell_type": "code",
   "execution_count": 19,
   "metadata": {},
   "outputs": [],
   "source": [
    "disamb = AdeftDisambiguator(classifier, grounding_dict, names)"
   ]
  },
  {
   "cell_type": "code",
   "execution_count": 20,
   "metadata": {},
   "outputs": [],
   "source": [
    "disamb.dump(model_name, results_path)"
   ]
  },
  {
   "cell_type": "code",
   "execution_count": 21,
   "metadata": {},
   "outputs": [
    {
     "name": "stdout",
     "output_type": "stream",
     "text": [
      "Disambiguation model for NE\n",
      "\n",
      "Produces the disambiguations:\n",
      "\t(R)-adrenaline*\tCHEBI:CHEBI:28918\n",
      "\tELANE*\tHGNC:3309\n",
      "\tEnterocolitis, Neutropenic\tMESH:D044504\n",
      "\tNeostriatum\tMESH:D017072\n",
      "\tNeuroectodermal Tumors\tMESH:D017599\n",
      "\tnoladin ether\tMESH:C424442\n",
      "\tnorethisterone\tCHEBI:CHEBI:7627\n",
      "\tnuclear envelope*\tGO:GO:0005635\n",
      "\n",
      "Class level metrics:\n",
      "--------------------\n",
      "Grounding                 \tCount\tF1     \n",
      "            (R)-adrenaline*\t4671\t0.98746\n",
      "                Ungrounded\t 518\t 0.9138\n",
      "                     ELANE*\t 482\t0.95244\n",
      "          nuclear envelope*\t 390\t 0.9703\n",
      "             noladin ether\t   5\t    0.4\n",
      "            norethisterone\t   2\t    0.0\n",
      "    Neuroectodermal Tumors\t   2\t    0.0\n",
      "Enterocolitis, Neutropenic\t   2\t    0.0\n",
      "               Neostriatum\t   1\t    0.0\n",
      "\n",
      "Weighted Metrics:\n",
      "-----------------\n",
      "\tF1 score:\t0.98322\n",
      "\tPrecision:\t0.98014\n",
      "\tRecall:\t\t0.98665\n",
      "\n",
      "* Positive labels\n",
      "See Docstring for explanation\n",
      "\n"
     ]
    }
   ],
   "source": [
    "print(disamb.info())"
   ]
  },
  {
   "cell_type": "code",
   "execution_count": 22,
   "metadata": {},
   "outputs": [],
   "source": [
    "model_to_s3(disamb)"
   ]
  },
  {
   "cell_type": "code",
   "execution_count": 30,
   "metadata": {},
   "outputs": [],
   "source": [
    "preds = [disamb.disambiguate(text) for text in all_texts.values()]"
   ]
  },
  {
   "cell_type": "code",
   "execution_count": 31,
   "metadata": {},
   "outputs": [],
   "source": [
    "texts = [text for pred, text in zip(preds, all_texts.values()) if pred[0] == 'HGNC:10967']"
   ]
  },
  {
   "cell_type": "code",
   "execution_count": 36,
   "metadata": {},
   "outputs": [
    {
     "data": {
      "text/plain": [
       "'The non-neuronal monoamine transporters (OCT1, OCT2, EMT, and PMAT) play a key role in the clearance of monoamines from extracellular compartments. In a previous report we described endometrial distribution and cyclic variation of the vesicular monoamine transporter (VMAT2) mRNA and the neuronal norepinephrine transporter (NET) mRNA. In the present study we used in situ hybridization, real-time PCR and immunohistochemistry to reveal tissue distribution and cyclic variation of mRNA for the non-neuronal monoamine transporters in the human endometrium and early pregnancy decidua. We found that non-neuronal monoamine transporters are predominantly expressed in the stroma. The plasma membrane monoamine transporter (PMAT) mRNA expression peaked in the proliferative phase, whereas the extra-neuronal monoamine transporter (EMT) mRNA expression peaked in the secretory phase. The organic cation transporter 2 (OCT2) mRNA expression was exclusively detected in few scattered stromal cells and OCT1 mRNA was not detected at all. Our present results demonstrate that PMAT, EMT, and OCT2 transporters are expressed in the endometrial stroma and can potentially regulate reuptake of monoamines in general and histamine in particular. Taken together with our previous finding of VMAT2 mRNA in epithelial cells, we suggest a paracrine interaction between stromal and epithelial cells, which may modulate certain steps of the reproductive process.\\n'"
      ]
     },
     "execution_count": 36,
     "metadata": {},
     "output_type": "execute_result"
    }
   ],
   "source": [
    "texts[3]"
   ]
  },
  {
   "cell_type": "code",
   "execution_count": null,
   "metadata": {},
   "outputs": [],
   "source": []
  }
 ],
 "metadata": {
  "kernelspec": {
   "display_name": "Python 3",
   "language": "python",
   "name": "python3"
  },
  "language_info": {
   "codemirror_mode": {
    "name": "ipython",
    "version": 3
   },
   "file_extension": ".py",
   "mimetype": "text/x-python",
   "name": "python",
   "nbconvert_exporter": "python",
   "pygments_lexer": "ipython3",
   "version": "3.8.4"
  }
 },
 "nbformat": 4,
 "nbformat_minor": 2
}
