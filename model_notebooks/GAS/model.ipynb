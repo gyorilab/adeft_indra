{
 "cells": [
  {
   "cell_type": "code",
   "execution_count": 1,
   "metadata": {},
   "outputs": [],
   "source": [
    "import os\n",
    "import json\n",
    "import pickle\n",
    "import random\n",
    "from collections import defaultdict, Counter\n",
    "\n",
    "from indra.literature.adeft_tools import universal_extract_text\n",
    "from indra.databases.hgnc_client import get_hgnc_name, get_hgnc_id\n",
    "\n",
    "from adeft.discover import AdeftMiner\n",
    "from adeft.gui import ground_with_gui\n",
    "from adeft.modeling.label import AdeftLabeler\n",
    "from adeft.modeling.classify import AdeftClassifier\n",
    "from adeft.disambiguate import AdeftDisambiguator\n",
    "\n",
    "\n",
    "from adeft_indra.ground.ground import AdeftGrounder\n",
    "from adeft_indra.model_building.s3 import model_to_s3\n",
    "from adeft_indra.model_building.escape import escape_filename\n",
    "from adeft_indra.db.content import get_pmids_for_agent_text, get_pmids_for_entity, \\\n",
    "    get_plaintexts_for_pmids"
   ]
  },
  {
   "cell_type": "code",
   "execution_count": 2,
   "metadata": {},
   "outputs": [],
   "source": [
    "adeft_grounder = AdeftGrounder()"
   ]
  },
  {
   "cell_type": "code",
   "execution_count": 3,
   "metadata": {},
   "outputs": [],
   "source": [
    "shortforms = ['GAS']\n",
    "model_name = ':'.join(sorted(escape_filename(shortform) for shortform in shortforms))\n",
    "results_path = os.path.abspath(os.path.join('../..', 'results', model_name))"
   ]
  },
  {
   "cell_type": "code",
   "execution_count": 4,
   "metadata": {},
   "outputs": [],
   "source": [
    "miners = dict()\n",
    "all_texts = {}\n",
    "for shortform in shortforms:\n",
    "    pmids = get_pmids_for_agent_text(shortform)\n",
    "    if len(pmids) > 10000:\n",
    "        pmids = random.choices(pmids, k=10000)\n",
    "    text_dict = get_plaintexts_for_pmids(pmids, contains=shortforms)\n",
    "    text_dict = {pmid: text for pmid, text in text_dict.items() if len(text) > 5}\n",
    "    miners[shortform] = AdeftMiner(shortform)\n",
    "    miners[shortform].process_texts(text_dict.values())\n",
    "    all_texts.update(text_dict)\n",
    "\n",
    "longform_dict = {}\n",
    "for shortform in shortforms:\n",
    "    longforms = miners[shortform].get_longforms()\n",
    "    longforms = [(longform, count, score) for longform, count, score in longforms\n",
    "                 if count*score > 2]\n",
    "    longform_dict[shortform] = longforms\n",
    "    \n",
    "combined_longforms = Counter()\n",
    "for longform_rows in longform_dict.values():\n",
    "    combined_longforms.update({longform: count for longform, count, score\n",
    "                               in longform_rows})\n",
    "grounding_map = {}\n",
    "names = {}\n",
    "for longform in combined_longforms:\n",
    "    groundings = adeft_grounder.ground(longform)\n",
    "    if groundings:\n",
    "        grounding = groundings[0]['grounding']\n",
    "        grounding_map[longform] = grounding\n",
    "        names[grounding] = groundings[0]['name']\n",
    "longforms, counts = zip(*combined_longforms.most_common())\n",
    "pos_labels = []"
   ]
  },
  {
   "cell_type": "code",
   "execution_count": 5,
   "metadata": {},
   "outputs": [
    {
     "data": {
      "text/plain": [
       "[('group a streptococcus', 431),\n",
       " ('group a streptococci', 84),\n",
       " ('gamma activated sequence', 59),\n",
       " ('gamma activated site', 38),\n",
       " ('group a streptococcal', 36),\n",
       " ('gastrodin', 33),\n",
       " ('gastrocnemius', 21),\n",
       " ('gastric acid secretion', 17),\n",
       " ('group a streptococcus pyogenes', 16),\n",
       " ('gastrin', 15),\n",
       " ('gamma interferon activated site', 13),\n",
       " ('gamma interferon activated sequence', 8),\n",
       " ('gastric acid suppressants', 5),\n",
       " ('goal attainment scale', 5),\n",
       " ('glasgow aneurysm score', 4),\n",
       " ('group astreptococcus', 4),\n",
       " ('group a beta hemolytic streptococcus', 4),\n",
       " ('group a β hemolytic streptococcus', 4),\n",
       " ('gingerol aspirinate', 3),\n",
       " ('gaming addiction scale', 3),\n",
       " ('gas mixture', 3)]"
      ]
     },
     "execution_count": 5,
     "metadata": {},
     "output_type": "execute_result"
    }
   ],
   "source": [
    "list(zip(longforms, counts))"
   ]
  },
  {
   "cell_type": "code",
   "execution_count": 6,
   "metadata": {},
   "outputs": [
    {
     "name": "stderr",
     "output_type": "stream",
     "text": [
      "INFO: [2020-10-02 03:28:19] indra.ontology.bio.ontology - Loading INDRA bio ontology from cache at /home/ubuntu/.indra/bio_ontology/1.2/bio_ontology.pkl\n"
     ]
    }
   ],
   "source": [
    "grounding_map, names, pos_labels = ground_with_gui(longforms, counts, \n",
    "                                                   grounding_map=grounding_map,\n",
    "                                                   names=names, pos_labels=pos_labels, no_browser=True, port=8890)"
   ]
  },
  {
   "cell_type": "code",
   "execution_count": 6,
   "metadata": {},
   "outputs": [],
   "source": [
    "result = [grounding_map, names, pos_labels]"
   ]
  },
  {
   "cell_type": "code",
   "execution_count": 5,
   "metadata": {},
   "outputs": [
    {
     "ename": "NameError",
     "evalue": "name 'result' is not defined",
     "output_type": "error",
     "traceback": [
      "\u001b[0;31m---------------------------------------------------------------------------\u001b[0m",
      "\u001b[0;31mNameError\u001b[0m                                 Traceback (most recent call last)",
      "\u001b[0;32m<ipython-input-5-0ac921c19f1a>\u001b[0m in \u001b[0;36m<module>\u001b[0;34m\u001b[0m\n\u001b[0;32m----> 1\u001b[0;31m \u001b[0mresult\u001b[0m\u001b[0;34m\u001b[0m\u001b[0;34m\u001b[0m\u001b[0m\n\u001b[0m",
      "\u001b[0;31mNameError\u001b[0m: name 'result' is not defined"
     ]
    }
   ],
   "source": [
    "result"
   ]
  },
  {
   "cell_type": "code",
   "execution_count": 6,
   "metadata": {},
   "outputs": [],
   "source": [
    "grounding_map, names, pos_labels = [{'gaming addiction scale': 'ungrounded',\n",
    "  'gamma activated sequence': 'gamma_activated_sequence',\n",
    "  'gamma activated site': 'gamma_activated_sequence',\n",
    "  'gamma interferon activated sequence': 'gamma_activated_sequence',\n",
    "  'gamma interferon activated site': 'gamma_activated_sequence',\n",
    "  'gas mixture': 'ungrounded',\n",
    "  'gastric acid secretion': 'GO:GO:0001696',\n",
    "  'gastric acid suppressants': 'ungrounded',\n",
    "  'gastrin': 'HGNC:4164',\n",
    "  'gastrocnemius': 'NCIT:C32666',\n",
    "  'gastrodin': 'CHEBI:CHEBI:80828',\n",
    "  'gingerol aspirinate': 'ungrounded',\n",
    "  'glasgow aneurysm score': 'ungrounded',\n",
    "  'goal attainment scale': 'ungrounded',\n",
    "  'group a beta hemolytic streptococcus': 'TAXONOMY:36470',\n",
    "  'group a streptococcal': 'TAXONOMY:36470',\n",
    "  'group a streptococci': 'TAXONOMY:36470',\n",
    "  'group a streptococcus': 'TAXONOMY:36470',\n",
    "  'group a streptococcus pyogenes': 'TAXONOMY:36470',\n",
    "  'group a β hemolytic streptococcus': 'TAXONOMY:36470',\n",
    "  'group astreptococcus': 'TAXONOMY:36470'},\n",
    " {'gamma_activated_sequence': 'gamma_activated_sequence',\n",
    "  'GO:GO:0001696': 'gastric acid secretion',\n",
    "  'HGNC:4164': 'GAST',\n",
    "  'NCIT:C32666': 'Gastrocnemius Muscle',\n",
    "  'CHEBI:CHEBI:80828': 'Gastrodin',\n",
    "  'TAXONOMY:36470': \"Streptococcus sp. 'group A'\"},\n",
    " ['CHEBI:CHEBI:80828', 'HGNC:4164', 'TAXONOMY:36470', 'NCIT:C32666']]"
   ]
  },
  {
   "cell_type": "code",
   "execution_count": 7,
   "metadata": {},
   "outputs": [],
   "source": [
    "excluded_longforms = []"
   ]
  },
  {
   "cell_type": "code",
   "execution_count": 8,
   "metadata": {},
   "outputs": [],
   "source": [
    "grounding_dict = {shortform: {longform: grounding_map[longform] \n",
    "                              for longform, _, _ in longforms if longform in grounding_map\n",
    "                              and longform not in excluded_longforms}\n",
    "                  for shortform, longforms in longform_dict.items()}\n",
    "result = [grounding_dict, names, pos_labels]\n",
    "\n",
    "if not os.path.exists(results_path):\n",
    "    os.mkdir(results_path)\n",
    "with open(os.path.join(results_path, f'{model_name}_preliminary_grounding_info.json'), 'w') as f:\n",
    "    json.dump(result, f)"
   ]
  },
  {
   "cell_type": "code",
   "execution_count": 9,
   "metadata": {},
   "outputs": [],
   "source": [
    "additional_entities = {'HGNC:4164': ['GAST', ['GAS']]}"
   ]
  },
  {
   "cell_type": "code",
   "execution_count": 10,
   "metadata": {},
   "outputs": [],
   "source": [
    "unambiguous_agent_texts = {}"
   ]
  },
  {
   "cell_type": "code",
   "execution_count": 11,
   "metadata": {},
   "outputs": [],
   "source": [
    "labeler = AdeftLabeler(grounding_dict)\n",
    "corpus = labeler.build_from_texts((text, pmid) for pmid, text in all_texts.items())\n",
    "agent_text_pmid_map = defaultdict(list)\n",
    "for text, label, id_ in corpus:\n",
    "    agent_text_pmid_map[label].append(id_)\n",
    "\n",
    "entity_pmid_map = {entity: set(get_pmids_for_entity(*entity.split(':', maxsplit=1),\n",
    "                                                major_topic=True))for entity in additional_entities}"
   ]
  },
  {
   "cell_type": "code",
   "execution_count": 12,
   "metadata": {},
   "outputs": [],
   "source": [
    "intersection1 = []\n",
    "for entity1, pmids1 in entity_pmid_map.items():\n",
    "    for entity2, pmids2 in entity_pmid_map.items():\n",
    "        intersection1.append((entity1, entity2, len(pmids1 & pmids2)))"
   ]
  },
  {
   "cell_type": "code",
   "execution_count": 13,
   "metadata": {},
   "outputs": [],
   "source": [
    "intersection2 = []\n",
    "for entity1, pmids1 in agent_text_pmid_map.items():\n",
    "    for entity2, pmids2 in entity_pmid_map.items():\n",
    "        intersection2.append((entity1, entity2, len(set(pmids1) & pmids2)))"
   ]
  },
  {
   "cell_type": "code",
   "execution_count": 14,
   "metadata": {},
   "outputs": [
    {
     "data": {
      "text/plain": [
       "[('HGNC:4164', 'HGNC:4164', 121)]"
      ]
     },
     "execution_count": 14,
     "metadata": {},
     "output_type": "execute_result"
    }
   ],
   "source": [
    "intersection1"
   ]
  },
  {
   "cell_type": "code",
   "execution_count": 15,
   "metadata": {},
   "outputs": [
    {
     "data": {
      "text/plain": [
       "[('GO:GO:0001696', 'HGNC:4164', 0),\n",
       " ('ungrounded', 'HGNC:4164', 0),\n",
       " ('TAXONOMY:36470', 'HGNC:4164', 0),\n",
       " ('gamma_activated_sequence', 'HGNC:4164', 0),\n",
       " ('HGNC:4164', 'HGNC:4164', 1),\n",
       " ('CHEBI:CHEBI:80828', 'HGNC:4164', 0),\n",
       " ('NCIT:C32666', 'HGNC:4164', 0)]"
      ]
     },
     "execution_count": 15,
     "metadata": {},
     "output_type": "execute_result"
    }
   ],
   "source": [
    "intersection2"
   ]
  },
  {
   "cell_type": "code",
   "execution_count": null,
   "metadata": {},
   "outputs": [],
   "source": []
  },
  {
   "cell_type": "code",
   "execution_count": 16,
   "metadata": {},
   "outputs": [],
   "source": [
    "all_used_pmids = set()\n",
    "for entity, agent_texts in unambiguous_agent_texts.items():\n",
    "    used_pmids = set()\n",
    "    for agent_text in agent_texts[1]:\n",
    "        pmids = set(get_pmids_for_agent_text(agent_text))\n",
    "        new_pmids = list(pmids - all_texts.keys() - used_pmids)\n",
    "        text_dict = get_plaintexts_for_pmids(new_pmids, contains=agent_texts)\n",
    "        corpus.extend([(text, entity, pmid) for pmid, text in text_dict.items() if len(text) >= 5])\n",
    "        used_pmids.update(new_pmids)\n",
    "    all_used_pmids.update(used_pmids)\n",
    "        \n",
    "for entity, pmids in entity_pmid_map.items():\n",
    "    new_pmids = list(set(pmids) - all_texts.keys() - all_used_pmids)\n",
    "    if len(new_pmids) > 10000:\n",
    "        new_pmids = random.choices(new_pmids, k=10000)\n",
    "    _, contains = additional_entities[entity]\n",
    "    text_dict = get_plaintexts_for_pmids(new_pmids, contains=contains)\n",
    "    corpus.extend([(text, entity, pmid) for pmid, text in text_dict.items() if len(text) >= 5])"
   ]
  },
  {
   "cell_type": "code",
   "execution_count": 17,
   "metadata": {},
   "outputs": [],
   "source": [
    "names.update({key: value[0] for key, value in additional_entities.items()})\n",
    "names.update({key: value[0] for key, value in unambiguous_agent_texts.items()})\n",
    "pos_labels = list(set(pos_labels) | additional_entities.keys() |\n",
    "                  unambiguous_agent_texts.keys())"
   ]
  },
  {
   "cell_type": "code",
   "execution_count": 18,
   "metadata": {},
   "outputs": [
    {
     "name": "stderr",
     "output_type": "stream",
     "text": [
      "INFO: [2020-10-30 01:21:58] /adeft/PP/adeft/adeft/modeling/classify.py - Beginning grid search in parameter space:\n",
      "{'C': [100.0], 'max_features': [10000]}\n",
      "INFO: [2020-10-30 01:22:10] /adeft/PP/adeft/adeft/modeling/classify.py - Best f1 score of 0.9432987562942685 found for parameter values:\n",
      "{'logit__C': 100.0, 'tfidf__max_features': 10000}\n"
     ]
    }
   ],
   "source": [
    "%%capture\n",
    "\n",
    "classifier = AdeftClassifier(shortforms, pos_labels=pos_labels, random_state=1729)\n",
    "param_grid = {'C': [100.0], 'max_features': [10000]}\n",
    "texts, labels, pmids = zip(*corpus)\n",
    "classifier.cv(texts, labels, param_grid, cv=5, n_jobs=5)"
   ]
  },
  {
   "cell_type": "code",
   "execution_count": 19,
   "metadata": {
    "scrolled": true
   },
   "outputs": [
    {
     "data": {
      "text/plain": [
       "{'label_distribution': {'GO:GO:0001696': 17,\n",
       "  'ungrounded': 13,\n",
       "  'TAXONOMY:36470': 422,\n",
       "  'gamma_activated_sequence': 105,\n",
       "  'HGNC:4164': 22,\n",
       "  'CHEBI:CHEBI:80828': 29,\n",
       "  'NCIT:C32666': 15},\n",
       " 'f1': {'mean': 0.943299, 'std': 0.030306},\n",
       " 'precision': {'mean': 0.935696, 'std': 0.026084},\n",
       " 'recall': {'mean': 0.960972, 'std': 0.028641},\n",
       " 'HGNC:4164': {'f1': {'mean': 0.847619, 'std': 0.189042},\n",
       "  'pr': {'mean': 0.8, 'std': 0.252982},\n",
       "  'rc': {'mean': 0.95, 'std': 0.1}},\n",
       " 'CHEBI:CHEBI:80828': {'f1': {'mean': 0.808225, 'std': 0.148464},\n",
       "  'pr': {'mean': 0.746667, 'std': 0.202868},\n",
       "  'rc': {'mean': 0.926667, 'std': 0.090431}},\n",
       " 'GO:GO:0001696': {'f1': {'mean': 0.595238, 'std': 0.063888},\n",
       "  'pr': {'mean': 0.533333, 'std': 0.124722},\n",
       "  'rc': {'mean': 0.8, 'std': 0.244949}},\n",
       " 'ungrounded': {'f1': {'mean': 0.566667, 'std': 0.08165},\n",
       "  'pr': {'mean': 0.4, 'std': 0.08165},\n",
       "  'rc': {'mean': 1.0, 'std': 0.0}},\n",
       " 'NCIT:C32666': {'f1': {'mean': 0.831429, 'std': 0.183481},\n",
       "  'pr': {'mean': 0.8, 'std': 0.266667},\n",
       "  'rc': {'mean': 0.95, 'std': 0.1}},\n",
       " 'gamma_activated_sequence': {'f1': {'mean': 0.951667, 'std': 0.015809},\n",
       "  'pr': {'mean': 0.942857, 'std': 0.035635},\n",
       "  'rc': {'mean': 0.961861, 'std': 0.019123}},\n",
       " 'TAXONOMY:36470': {'f1': {'mean': 0.962109, 'std': 0.014922},\n",
       "  'pr': {'mean': 0.990476, 'std': 0.008909},\n",
       "  'rc': {'mean': 0.935588, 'std': 0.024141}}}"
      ]
     },
     "execution_count": 19,
     "metadata": {},
     "output_type": "execute_result"
    }
   ],
   "source": [
    "classifier.stats"
   ]
  },
  {
   "cell_type": "code",
   "execution_count": 20,
   "metadata": {},
   "outputs": [],
   "source": [
    "disamb = AdeftDisambiguator(classifier, grounding_dict, names)"
   ]
  },
  {
   "cell_type": "code",
   "execution_count": 21,
   "metadata": {},
   "outputs": [],
   "source": [
    "disamb.dump(model_name, results_path)"
   ]
  },
  {
   "cell_type": "code",
   "execution_count": 22,
   "metadata": {},
   "outputs": [
    {
     "name": "stdout",
     "output_type": "stream",
     "text": [
      "Disambiguation model for GAS\n",
      "\n",
      "Produces the disambiguations:\n",
      "\tGAST*\tHGNC:4164\n",
      "\tGastrocnemius Muscle*\tNCIT:C32666\n",
      "\tGastrodin*\tCHEBI:CHEBI:80828\n",
      "\tStreptococcus sp. 'group A'*\tTAXONOMY:36470\n",
      "\tgamma_activated_sequence\tgamma_activated_sequence\n",
      "\tgastric acid secretion\tGO:GO:0001696\n",
      "\n",
      "Class level metrics:\n",
      "--------------------\n",
      "Grounding                  \tCount\tF1     \n",
      "Streptococcus sp. 'group A'*\t422\t0.96211\n",
      "   gamma_activated_sequence\t105\t0.95167\n",
      "                  Gastrodin*\t 29\t0.80822\n",
      "                       GAST*\t 22\t0.84762\n",
      "     gastric acid secretion\t 17\t0.59524\n",
      "       Gastrocnemius Muscle*\t 15\t0.83143\n",
      "                 Ungrounded\t 13\t0.56667\n",
      "\n",
      "Weighted Metrics:\n",
      "-----------------\n",
      "\tF1 score:\t0.9433\n",
      "\tPrecision:\t0.9357\n",
      "\tRecall:\t\t0.96097\n",
      "\n",
      "* Positive labels\n",
      "See Docstring for explanation\n",
      "\n"
     ]
    }
   ],
   "source": [
    "print(disamb.info())"
   ]
  },
  {
   "cell_type": "code",
   "execution_count": 23,
   "metadata": {},
   "outputs": [],
   "source": [
    "model_to_s3(disamb)"
   ]
  },
  {
   "cell_type": "code",
   "execution_count": null,
   "metadata": {},
   "outputs": [],
   "source": []
  }
 ],
 "metadata": {
  "kernelspec": {
   "display_name": "Python 3",
   "language": "python",
   "name": "python3"
  },
  "language_info": {
   "codemirror_mode": {
    "name": "ipython",
    "version": 3
   },
   "file_extension": ".py",
   "mimetype": "text/x-python",
   "name": "python",
   "nbconvert_exporter": "python",
   "pygments_lexer": "ipython3",
   "version": "3.8.4"
  }
 },
 "nbformat": 4,
 "nbformat_minor": 2
}
