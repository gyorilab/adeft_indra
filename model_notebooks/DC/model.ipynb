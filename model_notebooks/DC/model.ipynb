{
 "cells": [
  {
   "cell_type": "code",
   "execution_count": 1,
   "metadata": {},
   "outputs": [],
   "source": [
    "import os\n",
    "import json\n",
    "import pickle\n",
    "import random\n",
    "from collections import defaultdict, Counter\n",
    "\n",
    "from indra.literature.adeft_tools import universal_extract_text\n",
    "from indra.databases.hgnc_client import get_hgnc_name, get_hgnc_id\n",
    "\n",
    "from adeft.discover import AdeftMiner\n",
    "from adeft.gui import ground_with_gui\n",
    "from adeft.modeling.label import AdeftLabeler\n",
    "from adeft.modeling.classify import AdeftClassifier\n",
    "from adeft.disambiguate import AdeftDisambiguator, load_disambiguator\n",
    "\n",
    "\n",
    "from adeft_indra.ground.ground import AdeftGrounder\n",
    "from adeft_indra.model_building.s3 import model_to_s3\n",
    "from adeft_indra.model_building.escape import escape_filename\n",
    "from adeft_indra.db.content import get_pmids_for_agent_text, get_pmids_for_entity, \\\n",
    "    get_plaintexts_for_pmids"
   ]
  },
  {
   "cell_type": "code",
   "execution_count": 2,
   "metadata": {},
   "outputs": [],
   "source": [
    "adeft_grounder = AdeftGrounder()"
   ]
  },
  {
   "cell_type": "code",
   "execution_count": 3,
   "metadata": {},
   "outputs": [],
   "source": [
    "shortforms = ['DC', 'DCs']\n",
    "model_name = ':'.join(sorted(escape_filename(shortform) for shortform in shortforms))\n",
    "results_path = os.path.abspath(os.path.join('../..', 'results', model_name))"
   ]
  },
  {
   "cell_type": "code",
   "execution_count": 4,
   "metadata": {},
   "outputs": [],
   "source": [
    "miners = dict()\n",
    "all_texts = {}\n",
    "for shortform in shortforms:\n",
    "    pmids = get_pmids_for_agent_text(shortform)\n",
    "    text_dict = get_plaintexts_for_pmids(pmids, contains=shortforms)\n",
    "    text_dict = {pmid: text for pmid, text in text_dict.items() if len(text) > 5}\n",
    "    miners[shortform] = AdeftMiner(shortform)\n",
    "    miners[shortform].process_texts(text_dict.values())\n",
    "    all_texts.update(text_dict)\n",
    "\n",
    "longform_dict = {}\n",
    "for shortform in shortforms:\n",
    "    longforms = miners[shortform].get_longforms()\n",
    "    longforms = [(longform, count, score) for longform, count, score in longforms\n",
    "                 if count*score > 2]\n",
    "    longform_dict[shortform] = longforms\n",
    "    \n",
    "combined_longforms = Counter()\n",
    "for longform_rows in longform_dict.values():\n",
    "    combined_longforms.update({longform: count for longform, count, score\n",
    "                               in longform_rows})\n",
    "grounding_map = {}\n",
    "names = {}\n",
    "for longform in combined_longforms:\n",
    "    groundings = adeft_grounder.ground(longform)\n",
    "    if groundings:\n",
    "        grounding = groundings[0]['grounding']\n",
    "        grounding_map[longform] = grounding\n",
    "        names[grounding] = groundings[0]['name']\n",
    "longforms, counts = zip(*combined_longforms.most_common())\n",
    "pos_labels = []"
   ]
  },
  {
   "cell_type": "code",
   "execution_count": 5,
   "metadata": {},
   "outputs": [
    {
     "data": {
      "text/plain": [
       "[('dendritic cells', 18763),\n",
       " ('dyskeratosis congenita', 60),\n",
       " ('direct current', 57),\n",
       " ('decompressive craniectomy', 54),\n",
       " ('deoxycholate', 33),\n",
       " ('dc', 20),\n",
       " ('doxycycline', 17),\n",
       " ('dorsal column', 14),\n",
       " ('dorsal closure', 13),\n",
       " ('deceleration capacity', 12),\n",
       " ('dark chocolate', 11),\n",
       " ('decisional conflict', 10),\n",
       " ('degree central', 9),\n",
       " ('diabetic cardiomyopathy', 8),\n",
       " ('dentritic cells', 8),\n",
       " ('deoxycholate acid', 7),\n",
       " ('dabigatran concentration', 6),\n",
       " ('dopachrome', 6),\n",
       " ('dansylcadaverine', 6),\n",
       " ('differentiation cells', 6),\n",
       " ('diene conjugates', 5),\n",
       " ('dosage compensation', 5),\n",
       " ('direct electric current', 5),\n",
       " ('dendritic antigen presenting cells', 5),\n",
       " ('destruction complex', 4),\n",
       " ('dotap cholesterol', 4),\n",
       " ('decylcatechol', 4),\n",
       " ('diclofenac', 4),\n",
       " ('dupuytren s contracture', 4),\n",
       " ('degree of vinyl conversion', 4),\n",
       " ('drug content', 3),\n",
       " ('decompressive craniotomy', 3),\n",
       " ('dental caries', 3),\n",
       " ('distensibility coefficient', 3),\n",
       " ('dietary cholesterol', 3),\n",
       " ('decanoylcarnitine', 3),\n",
       " ('dicoumarol', 3),\n",
       " ('dehydrocavidine', 3),\n",
       " ('decyl caffeic acid', 3),\n",
       " ('deiters s cells', 3)]"
      ]
     },
     "execution_count": 5,
     "metadata": {},
     "output_type": "execute_result"
    }
   ],
   "source": [
    "list(zip(longforms, counts))"
   ]
  },
  {
   "cell_type": "code",
   "execution_count": 6,
   "metadata": {},
   "outputs": [],
   "source": [
    "try:\n",
    "    disamb = load_disambiguator(shortforms[0])\n",
    "    for shortform, gm in disamb.grounding_dict.items():\n",
    "        for longform, grounding in gm.items():\n",
    "            grounding_map[longform] = grounding\n",
    "    for grounding, name in disamb.names.items():\n",
    "        names[grounding] = name\n",
    "    pos_labels = disamb.pos_labels\n",
    "except Exception:\n",
    "    pass"
   ]
  },
  {
   "cell_type": "code",
   "execution_count": 7,
   "metadata": {},
   "outputs": [
    {
     "data": {
      "text/plain": [
       "{'MESH:D003713': 'Dendritic Cells',\n",
       " 'MESH:D019871': 'Dyskeratosis Congenita',\n",
       " 'MESH:D056424': 'Decompressive Craniectomy',\n",
       " 'CHEBI:CHEBI:23614': 'deoxycholate',\n",
       " 'HGNC:2714': 'DCX',\n",
       " 'CHEBI:CHEBI:50845': 'doxycycline',\n",
       " 'GO:GO:0007391': 'dorsal closure',\n",
       " 'MESH:D000069956': 'Chocolate',\n",
       " 'HP:HP:0030645': 'Central',\n",
       " 'MESH:D058065': 'Diabetic Cardiomyopathies',\n",
       " 'MESH:D002477': 'Cells',\n",
       " 'CHEBI:CHEBI:49108': 'dopachrome',\n",
       " 'CHEBI:CHEBI:52007': 'monodansylcadaverine',\n",
       " 'MESH:D000938': 'Antigen-Presenting Cells',\n",
       " 'CHEBI:CHEBI:16113': 'cholesterol',\n",
       " 'CHEBI:CHEBI:47381': 'diclofenac',\n",
       " 'MESH:D004387': 'Dupuytren Contracture',\n",
       " 'MESH:D003399': 'Craniotomy',\n",
       " 'MESH:D003731': 'Dental Caries',\n",
       " 'MESH:D002791': 'Cholesterol, Dietary',\n",
       " 'MESH:C002893': 'decanoylcarnitine',\n",
       " 'CHEBI:CHEBI:4513': 'dicoumarol',\n",
       " 'CHEBI:CHEBI:36281': 'caffeic acid',\n",
       " 'MESH:D003654': 'Deceleration',\n",
       " 'HGNC:2705': 'DCN',\n",
       " 'MESH:C101278': 'decursin',\n",
       " 'CHEBI:CHEBI:4354': 'decursinol',\n",
       " 'PUBCHEM:13848091': '3-Decylbenzene-1,2-diol',\n",
       " 'CHEBI:CHEBI:65737': 'demethoxycurcumin',\n",
       " 'MESH:D051181': 'Desmosomal Cadherins',\n",
       " 'MESH:C439025': 'desoxyrhaponticin',\n",
       " 'DOID:DOID:13328': 'diabetic cataract',\n",
       " 'CHEBI:CHEBI:50095': 'bucladesine',\n",
       " 'MESH:C067342': 'dicentrine',\n",
       " 'CHEBI:CHEBI:81909': 'diclofop',\n",
       " 'MESH:C121718': 'dicyclanil',\n",
       " 'CHEBI:CHEBI:86570': '(5alpha)-cholestan-3beta-ol',\n",
       " 'CHEBI:CHEBI:135276': 'dihydrocodeine',\n",
       " 'MESH:D002311': 'Cardiomyopathy, Dilated',\n",
       " 'MESH:C091584': 'aminochrome 1',\n",
       " 'GO:GO:0007549': 'dosage compensation',\n",
       " 'GO:GO:0030286': 'dynein complex'}"
      ]
     },
     "execution_count": 7,
     "metadata": {},
     "output_type": "execute_result"
    }
   ],
   "source": [
    "names"
   ]
  },
  {
   "cell_type": "code",
   "execution_count": 8,
   "metadata": {},
   "outputs": [
    {
     "name": "stderr",
     "output_type": "stream",
     "text": [
      "INFO: [2020-11-03 02:39:40] indra.ontology.bio.ontology - Loading INDRA bio ontology from cache at /home/ubuntu/.indra/bio_ontology/1.4/bio_ontology.pkl\n"
     ]
    }
   ],
   "source": [
    "grounding_map, names, pos_labels = ground_with_gui(longforms, counts, \n",
    "                                                   grounding_map=grounding_map,\n",
    "                                                   names=names, pos_labels=pos_labels, no_browser=True, port=8891)"
   ]
  },
  {
   "cell_type": "code",
   "execution_count": 9,
   "metadata": {},
   "outputs": [],
   "source": [
    "result = [grounding_map, names, pos_labels]"
   ]
  },
  {
   "cell_type": "code",
   "execution_count": 10,
   "metadata": {},
   "outputs": [
    {
     "data": {
      "text/plain": [
       "[{'dabigatran concentration': 'ungrounded',\n",
       "  'dansylcadaverine': 'CHEBI:CHEBI:52007',\n",
       "  'dark chocolate': 'ungrounded',\n",
       "  'dc': 'ungrounded',\n",
       "  'decanoylcarnitine': 'MESH:C002893',\n",
       "  'deceleration capacity': 'ungrounded',\n",
       "  'decisional conflict': 'ungrounded',\n",
       "  'decompressive craniectomy': 'MESH:D056424',\n",
       "  'decompressive craniotomy': 'ungrounded',\n",
       "  'decyl caffeic acid': 'CHEBI:CHEBI:36281',\n",
       "  'decylcatechol': 'PUBCHEM:13848091',\n",
       "  'degree central': 'ungrounded',\n",
       "  'degree of vinyl conversion': 'ungrounded',\n",
       "  'dehydrocavidine': 'ungrounded',\n",
       "  'deiters s cells': 'ungrounded',\n",
       "  'dendritic antigen presenting cells': 'MESH:D000938',\n",
       "  'dendritic cells': 'MESH:D003713',\n",
       "  'dental caries': 'MESH:D003731',\n",
       "  'dentritic cells': 'MESH:D003713',\n",
       "  'deoxycholate': 'CHEBI:CHEBI:23614',\n",
       "  'deoxycholate acid': 'ungrounded',\n",
       "  'destruction complex': 'MESH:D060465',\n",
       "  'diabetic cardiomyopathy': 'MESH:D058065',\n",
       "  'diclofenac': 'CHEBI:CHEBI:47381',\n",
       "  'dicoumarol': 'CHEBI:CHEBI:4513',\n",
       "  'diene conjugates': 'ungrounded',\n",
       "  'dietary cholesterol': 'MESH:D002791',\n",
       "  'differentiation cells': 'ungrounded',\n",
       "  'direct current': 'ungrounded',\n",
       "  'direct electric current': 'ungrounded',\n",
       "  'distensibility coefficient': 'ungrounded',\n",
       "  'dopachrome': 'CHEBI:CHEBI:49108',\n",
       "  'dorsal closure': 'GO:GO:0007391',\n",
       "  'dorsal column': 'ungrounded',\n",
       "  'dosage compensation': 'GO:GO:0007549',\n",
       "  'dotap cholesterol': 'ungrounded',\n",
       "  'doxycycline': 'CHEBI:CHEBI:50845',\n",
       "  'drug content': 'ungrounded',\n",
       "  'dupuytren s contracture': 'ungrounded',\n",
       "  'dyskeratosis congenita': 'MESH:D019871'},\n",
       " {'CHEBI:CHEBI:52007': 'monodansylcadaverine',\n",
       "  'MESH:C002893': 'decanoylcarnitine',\n",
       "  'MESH:D056424': 'Decompressive Craniectomy',\n",
       "  'CHEBI:CHEBI:36281': 'caffeic acid',\n",
       "  'PUBCHEM:13848091': '3-Decylbenzene-1,2-diol',\n",
       "  'MESH:D000938': 'Antigen-Presenting Cells',\n",
       "  'MESH:D003713': 'Dendritic Cells',\n",
       "  'MESH:D003731': 'Dental Caries',\n",
       "  'CHEBI:CHEBI:23614': 'deoxycholate',\n",
       "  'MESH:D060465': 'Axin Signaling Complex',\n",
       "  'MESH:D058065': 'Diabetic Cardiomyopathies',\n",
       "  'CHEBI:CHEBI:47381': 'diclofenac',\n",
       "  'CHEBI:CHEBI:4513': 'dicoumarol',\n",
       "  'MESH:D002791': 'Cholesterol, Dietary',\n",
       "  'CHEBI:CHEBI:49108': 'dopachrome',\n",
       "  'GO:GO:0007391': 'dorsal closure',\n",
       "  'GO:GO:0007549': 'dosage compensation',\n",
       "  'CHEBI:CHEBI:50845': 'doxycycline',\n",
       "  'MESH:D019871': 'Dyskeratosis Congenita'},\n",
       " ['CHEBI:CHEBI:23614',\n",
       "  'CHEBI:CHEBI:50845',\n",
       "  'MESH:D003713',\n",
       "  'MESH:D019871',\n",
       "  'MESH:D056424']]"
      ]
     },
     "execution_count": 10,
     "metadata": {},
     "output_type": "execute_result"
    }
   ],
   "source": [
    "result"
   ]
  },
  {
   "cell_type": "code",
   "execution_count": 23,
   "metadata": {},
   "outputs": [],
   "source": [
    "grounding_map, names, pos_labels = [{'dabigatran concentration': 'ungrounded',\n",
    "  'dansylcadaverine': 'CHEBI:CHEBI:52007',\n",
    "  'dark chocolate': 'ungrounded',\n",
    "  'dc': 'ungrounded',\n",
    "  'decanoylcarnitine': 'MESH:C002893',\n",
    "  'deceleration capacity': 'ungrounded',\n",
    "  'decisional conflict': 'ungrounded',\n",
    "  'decompressive craniectomy': 'MESH:D056424',\n",
    "  'decompressive craniotomy': 'ungrounded',\n",
    "  'decyl caffeic acid': 'CHEBI:CHEBI:36281',\n",
    "  'decylcatechol': 'PUBCHEM:13848091',\n",
    "  'degree central': 'ungrounded',\n",
    "  'degree of vinyl conversion': 'ungrounded',\n",
    "  'dehydrocavidine': 'ungrounded',\n",
    "  'deiters s cells': 'ungrounded',\n",
    "  'dendritic antigen presenting cells': 'MESH:D000938',\n",
    "  'dendritic cells': 'MESH:D003713',\n",
    "  'dental caries': 'MESH:D003731',\n",
    "  'dentritic cells': 'MESH:D003713',\n",
    "  'deoxycholate': 'CHEBI:CHEBI:23614',\n",
    "  'deoxycholate acid': 'ungrounded',\n",
    "  'destruction complex': 'MESH:D060465',\n",
    "  'diabetic cardiomyopathy': 'MESH:D058065',\n",
    "  'diclofenac': 'CHEBI:CHEBI:47381',\n",
    "  'dicoumarol': 'CHEBI:CHEBI:4513',\n",
    "  'diene conjugates': 'ungrounded',\n",
    "  'dietary cholesterol': 'MESH:D002791',\n",
    "  'differentiation cells': 'ungrounded',\n",
    "  'direct current': 'ungrounded',\n",
    "  'direct electric current': 'ungrounded',\n",
    "  'distensibility coefficient': 'ungrounded',\n",
    "  'dopachrome': 'CHEBI:CHEBI:49108',\n",
    "  'dorsal closure': 'GO:GO:0007391',\n",
    "  'dorsal column': 'ungrounded',\n",
    "  'dosage compensation': 'GO:GO:0007549',\n",
    "  'dotap cholesterol': 'ungrounded',\n",
    "  'doxycycline': 'CHEBI:CHEBI:50845',\n",
    "  'drug content': 'ungrounded',\n",
    "  'dupuytren s contracture': 'ungrounded',\n",
    "  'dyskeratosis congenita': 'MESH:D019871'},\n",
    " {'CHEBI:CHEBI:52007': 'monodansylcadaverine',\n",
    "  'MESH:C002893': 'decanoylcarnitine',\n",
    "  'MESH:D056424': 'Decompressive Craniectomy',\n",
    "  'CHEBI:CHEBI:36281': 'caffeic acid',\n",
    "  'PUBCHEM:13848091': '3-Decylbenzene-1,2-diol',\n",
    "  'MESH:D000938': 'Antigen-Presenting Cells',\n",
    "  'MESH:D003713': 'Dendritic Cells',\n",
    "  'MESH:D003731': 'Dental Caries',\n",
    "  'CHEBI:CHEBI:23614': 'deoxycholate',\n",
    "  'MESH:D060465': 'Axin Signaling Complex',\n",
    "  'MESH:D058065': 'Diabetic Cardiomyopathies',\n",
    "  'CHEBI:CHEBI:47381': 'diclofenac',\n",
    "  'CHEBI:CHEBI:4513': 'dicoumarol',\n",
    "  'MESH:D002791': 'Cholesterol, Dietary',\n",
    "  'CHEBI:CHEBI:49108': 'dopachrome',\n",
    "  'GO:GO:0007391': 'dorsal closure',\n",
    "  'GO:GO:0007549': 'dosage compensation',\n",
    "  'CHEBI:CHEBI:50845': 'doxycycline',\n",
    "  'MESH:D019871': 'Dyskeratosis Congenita'},\n",
    " ['CHEBI:CHEBI:23614',\n",
    "  'CHEBI:CHEBI:50845',\n",
    "  'MESH:D003713',\n",
    "  'MESH:D019871',\n",
    "  'MESH:D056424']]"
   ]
  },
  {
   "cell_type": "code",
   "execution_count": 24,
   "metadata": {},
   "outputs": [],
   "source": [
    "excluded_longforms = ['dc']"
   ]
  },
  {
   "cell_type": "code",
   "execution_count": 25,
   "metadata": {},
   "outputs": [],
   "source": [
    "grounding_dict = {shortform: {longform: grounding_map[longform] \n",
    "                              for longform, _, _ in longforms if longform in grounding_map\n",
    "                              and longform not in excluded_longforms}\n",
    "                  for shortform, longforms in longform_dict.items()}\n",
    "result = [grounding_dict, names, pos_labels]\n",
    "\n",
    "if not os.path.exists(results_path):\n",
    "    os.mkdir(results_path)\n",
    "with open(os.path.join(results_path, f'{model_name}_preliminary_grounding_info.json'), 'w') as f:\n",
    "    json.dump(result, f)"
   ]
  },
  {
   "cell_type": "code",
   "execution_count": 26,
   "metadata": {},
   "outputs": [],
   "source": [
    "additional_entities = {'HGNC:2714': ['DCX', ['DC']]}"
   ]
  },
  {
   "cell_type": "code",
   "execution_count": 27,
   "metadata": {},
   "outputs": [],
   "source": [
    "unambiguous_agent_texts = {''"
   ]
  },
  {
   "cell_type": "code",
   "execution_count": 28,
   "metadata": {},
   "outputs": [],
   "source": [
    "labeler = AdeftLabeler(grounding_dict)\n",
    "corpus = labeler.build_from_texts((text, pmid) for pmid, text in all_texts.items())\n",
    "agent_text_pmid_map = defaultdict(list)\n",
    "for text, label, id_ in corpus:\n",
    "    agent_text_pmid_map[label].append(id_)\n",
    "\n",
    "entity_pmid_map = {entity: set(get_pmids_for_entity(*entity.split(':', maxsplit=1),\n",
    "                                                major_topic=True))for entity in additional_entities}"
   ]
  },
  {
   "cell_type": "code",
   "execution_count": 29,
   "metadata": {},
   "outputs": [],
   "source": [
    "intersection1 = []\n",
    "for entity1, pmids1 in entity_pmid_map.items():\n",
    "    for entity2, pmids2 in entity_pmid_map.items():\n",
    "        intersection1.append((entity1, entity2, len(pmids1 & pmids2)))"
   ]
  },
  {
   "cell_type": "code",
   "execution_count": 30,
   "metadata": {},
   "outputs": [],
   "source": [
    "intersection2 = []\n",
    "for entity1, pmids1 in agent_text_pmid_map.items():\n",
    "    for entity2, pmids2 in entity_pmid_map.items():\n",
    "        intersection2.append((entity1, entity2, len(set(pmids1) & pmids2)))"
   ]
  },
  {
   "cell_type": "code",
   "execution_count": 33,
   "metadata": {},
   "outputs": [
    {
     "data": {
      "text/plain": [
       "[('HGNC:2714', 'HGNC:2714', 0)]"
      ]
     },
     "execution_count": 33,
     "metadata": {},
     "output_type": "execute_result"
    }
   ],
   "source": [
    "intersection1"
   ]
  },
  {
   "cell_type": "code",
   "execution_count": 34,
   "metadata": {},
   "outputs": [
    {
     "data": {
      "text/plain": [
       "[('CHEBI:CHEBI:23614', 'HGNC:2714', 0),\n",
       " ('ungrounded', 'HGNC:2714', 0),\n",
       " ('MESH:D003713', 'HGNC:2714', 0),\n",
       " ('CHEBI:CHEBI:52007', 'HGNC:2714', 0),\n",
       " ('CHEBI:CHEBI:49108', 'HGNC:2714', 0),\n",
       " ('CHEBI:CHEBI:47381', 'HGNC:2714', 0),\n",
       " ('MESH:D000938', 'HGNC:2714', 0),\n",
       " ('MESH:C002893', 'HGNC:2714', 0),\n",
       " ('CHEBI:CHEBI:50845', 'HGNC:2714', 0),\n",
       " ('GO:GO:0007391', 'HGNC:2714', 0),\n",
       " ('MESH:D056424', 'HGNC:2714', 0),\n",
       " ('MESH:D019871', 'HGNC:2714', 0),\n",
       " ('MESH:D002791', 'HGNC:2714', 0),\n",
       " ('CHEBI:CHEBI:4513', 'HGNC:2714', 0),\n",
       " ('MESH:D058065', 'HGNC:2714', 0),\n",
       " ('MESH:D060465', 'HGNC:2714', 0),\n",
       " ('GO:GO:0007549', 'HGNC:2714', 0),\n",
       " ('MESH:D003731', 'HGNC:2714', 0),\n",
       " ('PUBCHEM:13848091', 'HGNC:2714', 0),\n",
       " ('CHEBI:CHEBI:36281', 'HGNC:2714', 0)]"
      ]
     },
     "execution_count": 34,
     "metadata": {},
     "output_type": "execute_result"
    }
   ],
   "source": [
    "intersection2"
   ]
  },
  {
   "cell_type": "code",
   "execution_count": 22,
   "metadata": {},
   "outputs": [],
   "source": [
    "all_used_pmids = set()\n",
    "for entity, agent_texts in unambiguous_agent_texts.items():\n",
    "    used_pmids = set()\n",
    "    for agent_text in agent_texts[1]:\n",
    "        pmids = set(get_pmids_for_agent_text(agent_text))\n",
    "        new_pmids = list(pmids - all_texts.keys() - used_pmids)\n",
    "        text_dict = get_plaintexts_for_pmids(new_pmids, contains=agent_texts)\n",
    "        corpus.extend([(text, entity, pmid) for pmid, text in text_dict.items() if len(text) >= 5])\n",
    "        used_pmids.update(new_pmids)\n",
    "    all_used_pmids.update(used_pmids)\n",
    "        \n",
    "for entity, pmids in entity_pmid_map.items():\n",
    "    new_pmids = list(set(pmids) - all_texts.keys() - all_used_pmids)\n",
    "    if len(new_pmids) > 10000:\n",
    "        new_pmids = random.choices(new_pmids, k=10000)\n",
    "    _, contains = additional_entities[entity]\n",
    "    text_dict = get_plaintexts_for_pmids(new_pmids, contains=contains)\n",
    "    corpus.extend([(text, entity, pmid) for pmid, text in text_dict.items() if len(text) >= 5])"
   ]
  },
  {
   "cell_type": "code",
   "execution_count": 23,
   "metadata": {},
   "outputs": [],
   "source": [
    "names.update({key: value[0] for key, value in additional_entities.items()})\n",
    "names.update({key: value[0] for key, value in unambiguous_agent_texts.items()})\n",
    "pos_labels = list(set(pos_labels) | additional_entities.keys() |\n",
    "                  unambiguous_agent_texts.keys())"
   ]
  },
  {
   "cell_type": "code",
   "execution_count": 17,
   "metadata": {},
   "outputs": [
    {
     "name": "stderr",
     "output_type": "stream",
     "text": [
      "INFO: [2020-11-03 02:52:30] /adeft/PP/adeft/adeft/modeling/classify.py - Beginning grid search in parameter space:\n",
      "{'C': [100.0], 'max_features': [10000]}\n",
      "INFO: [2020-11-03 03:01:09] /adeft/PP/adeft/adeft/modeling/classify.py - Best f1 score of 0.995340248308574 found for parameter values:\n",
      "{'logit__C': 100.0, 'tfidf__max_features': 10000}\n"
     ]
    }
   ],
   "source": [
    "%%capture\n",
    "\n",
    "classifier = AdeftClassifier(shortforms, pos_labels=pos_labels, random_state=1729)\n",
    "param_grid = {'C': [100.0], 'max_features': [10000]}\n",
    "texts, labels, pmids = zip(*corpus)\n",
    "classifier.cv(texts, labels, param_grid, cv=5, n_jobs=5)"
   ]
  },
  {
   "cell_type": "code",
   "execution_count": 18,
   "metadata": {
    "scrolled": true
   },
   "outputs": [
    {
     "data": {
      "text/plain": [
       "{'label_distribution': {'CHEBI:CHEBI:23614': 19,\n",
       "  'ungrounded': 100,\n",
       "  'MESH:D003713': 15989,\n",
       "  'CHEBI:CHEBI:52007': 5,\n",
       "  'CHEBI:CHEBI:49108': 5,\n",
       "  'CHEBI:CHEBI:47381': 3,\n",
       "  'MESH:D000938': 5,\n",
       "  'MESH:C002893': 3,\n",
       "  'CHEBI:CHEBI:50845': 10,\n",
       "  'GO:GO:0007391': 5,\n",
       "  'MESH:D056424': 39,\n",
       "  'MESH:D019871': 37,\n",
       "  'MESH:D002791': 2,\n",
       "  'CHEBI:CHEBI:4513': 3,\n",
       "  'MESH:D058065': 6,\n",
       "  'MESH:D060465': 4,\n",
       "  'GO:GO:0007549': 4,\n",
       "  'MESH:D003731': 2,\n",
       "  'PUBCHEM:13848091': 2,\n",
       "  'CHEBI:CHEBI:36281': 1},\n",
       " 'f1': {'mean': 0.99534, 'std': 0.000457},\n",
       " 'precision': {'mean': 0.993137, 'std': 0.000491},\n",
       " 'recall': {'mean': 0.997701, 'std': 0.000542},\n",
       " 'CHEBI:CHEBI:49108': {'f1': {'mean': 0.8, 'std': 0.4},\n",
       "  'pr': {'mean': 0.8, 'std': 0.4},\n",
       "  'rc': {'mean': 0.8, 'std': 0.4}},\n",
       " 'CHEBI:CHEBI:23614': {'f1': {'mean': 0.533333, 'std': 0.193781},\n",
       "  'pr': {'mean': 0.466667, 'std': 0.171594},\n",
       "  'rc': {'mean': 0.633333, 'std': 0.221108}},\n",
       " 'MESH:D056424': {'f1': {'mean': 0.862081, 'std': 0.124228},\n",
       "  'pr': {'mean': 0.814286, 'std': 0.183016},\n",
       "  'rc': {'mean': 0.937778, 'std': 0.081225}},\n",
       " 'ungrounded': {'f1': {'mean': 0.694852, 'std': 0.03397},\n",
       "  'pr': {'mean': 0.6, 'std': 0.083666},\n",
       "  'rc': {'mean': 0.84658, 'std': 0.06392}},\n",
       " 'MESH:D000938': {'f1': {'mean': 0.0, 'std': 0.0},\n",
       "  'pr': {'mean': 0.0, 'std': 0.0},\n",
       "  'rc': {'mean': 0.0, 'std': 0.0}},\n",
       " 'PUBCHEM:13848091': {'f1': {'mean': 0.0, 'std': 0.0},\n",
       "  'pr': {'mean': 0.0, 'std': 0.0},\n",
       "  'rc': {'mean': 0.0, 'std': 0.0}},\n",
       " 'GO:GO:0007549': {'f1': {'mean': 0.2, 'std': 0.4},\n",
       "  'pr': {'mean': 0.2, 'std': 0.4},\n",
       "  'rc': {'mean': 0.2, 'std': 0.4}},\n",
       " 'MESH:D003731': {'f1': {'mean': 0.0, 'std': 0.0},\n",
       "  'pr': {'mean': 0.0, 'std': 0.0},\n",
       "  'rc': {'mean': 0.0, 'std': 0.0}},\n",
       " 'CHEBI:CHEBI:4513': {'f1': {'mean': 0.0, 'std': 0.0},\n",
       "  'pr': {'mean': 0.0, 'std': 0.0},\n",
       "  'rc': {'mean': 0.0, 'std': 0.0}},\n",
       " 'MESH:D060465': {'f1': {'mean': 0.4, 'std': 0.489898},\n",
       "  'pr': {'mean': 0.4, 'std': 0.489898},\n",
       "  'rc': {'mean': 0.4, 'std': 0.489898}},\n",
       " 'MESH:D002791': {'f1': {'mean': 0.0, 'std': 0.0},\n",
       "  'pr': {'mean': 0.0, 'std': 0.0},\n",
       "  'rc': {'mean': 0.0, 'std': 0.0}},\n",
       " 'MESH:D058065': {'f1': {'mean': 0.4, 'std': 0.489898},\n",
       "  'pr': {'mean': 0.4, 'std': 0.489898},\n",
       "  'rc': {'mean': 0.4, 'std': 0.489898}},\n",
       " 'MESH:D003713': {'f1': {'mean': 0.996975, 'std': 0.000401},\n",
       "  'pr': {'mean': 0.999687, 'std': 0.000198},\n",
       "  'rc': {'mean': 0.994278, 'std': 0.000667}},\n",
       " 'CHEBI:CHEBI:47381': {'f1': {'mean': 0.0, 'std': 0.0},\n",
       "  'pr': {'mean': 0.0, 'std': 0.0},\n",
       "  'rc': {'mean': 0.0, 'std': 0.0}},\n",
       " 'MESH:C002893': {'f1': {'mean': 0.2, 'std': 0.4},\n",
       "  'pr': {'mean': 0.2, 'std': 0.4},\n",
       "  'rc': {'mean': 0.2, 'std': 0.4}},\n",
       " 'CHEBI:CHEBI:50845': {'f1': {'mean': 0.0, 'std': 0.0},\n",
       "  'pr': {'mean': 0.0, 'std': 0.0},\n",
       "  'rc': {'mean': 0.0, 'std': 0.0}},\n",
       " 'CHEBI:CHEBI:52007': {'f1': {'mean': 0.0, 'std': 0.0},\n",
       "  'pr': {'mean': 0.0, 'std': 0.0},\n",
       "  'rc': {'mean': 0.0, 'std': 0.0}},\n",
       " 'CHEBI:CHEBI:36281': {'f1': {'mean': 0.0, 'std': 0.0},\n",
       "  'pr': {'mean': 0.0, 'std': 0.0},\n",
       "  'rc': {'mean': 0.0, 'std': 0.0}},\n",
       " 'GO:GO:0007391': {'f1': {'mean': 0.6, 'std': 0.489898},\n",
       "  'pr': {'mean': 0.6, 'std': 0.489898},\n",
       "  'rc': {'mean': 0.6, 'std': 0.489898}},\n",
       " 'MESH:D019871': {'f1': {'mean': 0.922564, 'std': 0.053056},\n",
       "  'pr': {'mean': 0.860714, 'std': 0.090633},\n",
       "  'rc': {'mean': 1.0, 'std': 0.0}}}"
      ]
     },
     "execution_count": 18,
     "metadata": {},
     "output_type": "execute_result"
    }
   ],
   "source": [
    "classifier.stats"
   ]
  },
  {
   "cell_type": "code",
   "execution_count": 19,
   "metadata": {},
   "outputs": [],
   "source": [
    "disamb = AdeftDisambiguator(classifier, grounding_dict, names)"
   ]
  },
  {
   "cell_type": "code",
   "execution_count": 20,
   "metadata": {},
   "outputs": [],
   "source": [
    "disamb.dump(model_name, results_path)"
   ]
  },
  {
   "cell_type": "code",
   "execution_count": 21,
   "metadata": {},
   "outputs": [
    {
     "name": "stdout",
     "output_type": "stream",
     "text": [
      "Disambiguation model for DC, and DCs\n",
      "\n",
      "Produces the disambiguations:\n",
      "\t3-Decylbenzene-1,2-diol\tPUBCHEM:13848091\n",
      "\tAntigen-Presenting Cells\tMESH:D000938\n",
      "\tAxin Signaling Complex\tMESH:D060465\n",
      "\tCholesterol, Dietary\tMESH:D002791\n",
      "\tDecompressive Craniectomy*\tMESH:D056424\n",
      "\tDendritic Cells*\tMESH:D003713\n",
      "\tDental Caries\tMESH:D003731\n",
      "\tDiabetic Cardiomyopathies\tMESH:D058065\n",
      "\tDyskeratosis Congenita*\tMESH:D019871\n",
      "\tcaffeic acid\tCHEBI:CHEBI:36281\n",
      "\tdecanoylcarnitine\tMESH:C002893\n",
      "\tdeoxycholate*\tCHEBI:CHEBI:23614\n",
      "\tdiclofenac\tCHEBI:CHEBI:47381\n",
      "\tdicoumarol\tCHEBI:CHEBI:4513\n",
      "\tdopachrome\tCHEBI:CHEBI:49108\n",
      "\tdorsal closure\tGO:GO:0007391\n",
      "\tdosage compensation\tGO:GO:0007549\n",
      "\tdoxycycline*\tCHEBI:CHEBI:50845\n",
      "\tmonodansylcadaverine\tCHEBI:CHEBI:52007\n",
      "\n",
      "Class level metrics:\n",
      "--------------------\n",
      "Grounding                \tCount\tF1     \n",
      "          Dendritic Cells*\t15989\t0.99698\n",
      "               Ungrounded\t  100\t0.69485\n",
      "Decompressive Craniectomy*\t   39\t0.86208\n",
      "   Dyskeratosis Congenita*\t   37\t0.92256\n",
      "             deoxycholate*\t   19\t0.53333\n",
      "              doxycycline*\t   10\t    0.0\n",
      "Diabetic Cardiomyopathies\t    6\t    0.4\n",
      "     monodansylcadaverine\t    5\t    0.0\n",
      "               dopachrome\t    5\t    0.8\n",
      " Antigen-Presenting Cells\t    5\t    0.0\n",
      "           dorsal closure\t    5\t    0.6\n",
      "   Axin Signaling Complex\t    4\t    0.4\n",
      "      dosage compensation\t    4\t    0.2\n",
      "               diclofenac\t    3\t    0.0\n",
      "        decanoylcarnitine\t    3\t    0.2\n",
      "               dicoumarol\t    3\t    0.0\n",
      "     Cholesterol, Dietary\t    2\t    0.0\n",
      "            Dental Caries\t    2\t    0.0\n",
      "  3-Decylbenzene-1,2-diol\t    2\t    0.0\n",
      "             caffeic acid\t    1\t    0.0\n",
      "\n",
      "Weighted Metrics:\n",
      "-----------------\n",
      "\tF1 score:\t0.99534\n",
      "\tPrecision:\t0.99314\n",
      "\tRecall:\t\t0.9977\n",
      "\n",
      "* Positive labels\n",
      "See Docstring for explanation\n",
      "\n"
     ]
    }
   ],
   "source": [
    "print(disamb.info())"
   ]
  },
  {
   "cell_type": "code",
   "execution_count": 22,
   "metadata": {},
   "outputs": [],
   "source": [
    "model_to_s3(disamb)"
   ]
  },
  {
   "cell_type": "code",
   "execution_count": 30,
   "metadata": {},
   "outputs": [],
   "source": [
    "preds = [disamb.disambiguate(text) for text in all_texts.values()]"
   ]
  },
  {
   "cell_type": "code",
   "execution_count": 31,
   "metadata": {},
   "outputs": [],
   "source": [
    "texts = [text for pred, text in zip(preds, all_texts.values()) if pred[0] == 'HGNC:10967']"
   ]
  },
  {
   "cell_type": "code",
   "execution_count": 36,
   "metadata": {},
   "outputs": [
    {
     "data": {
      "text/plain": [
       "'The non-neuronal monoamine transporters (OCT1, OCT2, EMT, and PMAT) play a key role in the clearance of monoamines from extracellular compartments. In a previous report we described endometrial distribution and cyclic variation of the vesicular monoamine transporter (VMAT2) mRNA and the neuronal norepinephrine transporter (NET) mRNA. In the present study we used in situ hybridization, real-time PCR and immunohistochemistry to reveal tissue distribution and cyclic variation of mRNA for the non-neuronal monoamine transporters in the human endometrium and early pregnancy decidua. We found that non-neuronal monoamine transporters are predominantly expressed in the stroma. The plasma membrane monoamine transporter (PMAT) mRNA expression peaked in the proliferative phase, whereas the extra-neuronal monoamine transporter (EMT) mRNA expression peaked in the secretory phase. The organic cation transporter 2 (OCT2) mRNA expression was exclusively detected in few scattered stromal cells and OCT1 mRNA was not detected at all. Our present results demonstrate that PMAT, EMT, and OCT2 transporters are expressed in the endometrial stroma and can potentially regulate reuptake of monoamines in general and histamine in particular. Taken together with our previous finding of VMAT2 mRNA in epithelial cells, we suggest a paracrine interaction between stromal and epithelial cells, which may modulate certain steps of the reproductive process.\\n'"
      ]
     },
     "execution_count": 36,
     "metadata": {},
     "output_type": "execute_result"
    }
   ],
   "source": [
    "texts[3]"
   ]
  },
  {
   "cell_type": "code",
   "execution_count": null,
   "metadata": {},
   "outputs": [],
   "source": []
  }
 ],
 "metadata": {
  "kernelspec": {
   "display_name": "Python 3",
   "language": "python",
   "name": "python3"
  },
  "language_info": {
   "codemirror_mode": {
    "name": "ipython",
    "version": 3
   },
   "file_extension": ".py",
   "mimetype": "text/x-python",
   "name": "python",
   "nbconvert_exporter": "python",
   "pygments_lexer": "ipython3",
   "version": "3.8.4"
  }
 },
 "nbformat": 4,
 "nbformat_minor": 2
}
