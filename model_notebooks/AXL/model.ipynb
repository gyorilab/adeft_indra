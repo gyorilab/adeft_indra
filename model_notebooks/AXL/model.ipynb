{
 "cells": [
  {
   "cell_type": "code",
   "execution_count": 2,
   "metadata": {},
   "outputs": [
    {
     "name": "stderr",
     "output_type": "stream",
     "text": [
      "INFO: [2020-01-17 14:35:46] /Users/albertsteppi/adeft/adeft/recognize.py - OneShotRecognizer not available. AdeftLongformScorer has not been built successfully.\n"
     ]
    }
   ],
   "source": [
    "import json\n",
    "import pickle\n",
    "\n",
    "from indra.literature.adeft_tools import universal_extract_text\n",
    "from indra.databases.hgnc_client import get_hgnc_name, get_hgnc_id\n",
    "\n",
    "from indra_db.util.content_scripts import get_text_content_from_pmids\n",
    "from indra_db.util.content_scripts import get_stmts_with_agent_text_like\n",
    "from indra_db.util.content_scripts import get_text_content_from_stmt_ids\n",
    "\n",
    "from adeft.discover import AdeftMiner\n",
    "from adeft.gui import ground_with_gui\n",
    "from adeft.modeling.label import AdeftLabeler\n",
    "from adeft.modeling.classify import AdeftClassifier\n",
    "from adeft.disambiguate import AdeftDisambiguator\n",
    "\n",
    "from adeft_indra.s3 import model_to_s3\n",
    "from adeft_indra.ground import gilda_ground"
   ]
  },
  {
   "cell_type": "code",
   "execution_count": 3,
   "metadata": {},
   "outputs": [],
   "source": [
    "shortforms = ['AXL']\n",
    "genes = ['AXL']\n",
    "families = {}\n",
    "groundings = [f'HGNC:{get_hgnc_id(gene)}' for gene in genes]\n",
    "for family, members in families.items():\n",
    "    genes.extend(members)\n",
    "    groundings.append(f'FPLX:{family}')\n",
    "with open('../data/entrez_all_pmids.json', 'r') as f:\n",
    "    all_pmids = json.load(f)"
   ]
  },
  {
   "cell_type": "code",
   "execution_count": 4,
   "metadata": {},
   "outputs": [],
   "source": [
    "entrez_texts = []\n",
    "entrez_refs = set()\n",
    "for gene, grounding in zip(genes, groundings):\n",
    "    try:\n",
    "        pmids = all_pmids[gene]\n",
    "    except KeyError:\n",
    "        continue\n",
    "    _, content = get_text_content_from_pmids(pmids)\n",
    "    entrez_texts.extend([(universal_extract_text(text), grounding)\n",
    "                          for text in content.values() if text])\n",
    "    entrez_refs.update(content.keys())"
   ]
  },
  {
   "cell_type": "code",
   "execution_count": 5,
   "metadata": {},
   "outputs": [],
   "source": [
    "miners = dict()\n",
    "all_texts = set()\n",
    "for shortform in shortforms:\n",
    "    stmts = get_stmts_with_agent_text_like(shortform)[shortform]\n",
    "    _, content = get_text_content_from_stmt_ids(stmts)\n",
    "    shortform_texts = [universal_extract_text(text, contains=shortforms)\n",
    "                       for ref, text in content.items() if text and ref not in entrez_refs]\n",
    "    miners[shortform] = AdeftMiner(shortform)\n",
    "    miners[shortform].process_texts(shortform_texts)\n",
    "    all_texts.union(shortform_texts)"
   ]
  },
  {
   "cell_type": "markdown",
   "metadata": {},
   "source": [
    "It's then necessary to check if Acromine produced the correct results. We must fix errors manually"
   ]
  },
  {
   "cell_type": "code",
   "execution_count": 7,
   "metadata": {},
   "outputs": [],
   "source": [
    "top = miners['AXL'].top()"
   ]
  },
  {
   "cell_type": "code",
   "execution_count": 8,
   "metadata": {},
   "outputs": [
    {
     "data": {
      "text/plain": [
       "[('axl receptor tyrosine kinase', 19.272727272727273),\n",
       " ('of axl receptor tyrosine kinase', 3.6),\n",
       " ('anexelekto', 2.333333333333333),\n",
       " ('and axial length', 2.0),\n",
       " ('and axl receptor tyrosine kinase', 2.0),\n",
       " ('the axl receptor tyrosine kinase', 2.0),\n",
       " ('tyrosine protein kinase receptor ufo', 2.0),\n",
       " ('g21046959 in blood and ilmn_1809352 prl in lcls and b cg27094856 in blood and ilmn_1701877',\n",
       "  2),\n",
       " ('receptor tyrosine kinase', 1.913043478260871),\n",
       " ('axial length', 1.5),\n",
       " ('axl', 1.0),\n",
       " ('and anexelekto', 1.0),\n",
       " ('emt inducer', 1.0),\n",
       " ('myosin iia', 1),\n",
       " ('axl receptor tyrosine kinase ligand', 1),\n",
       " ('cancer axl receptor tyrosine kinase', 1.0),\n",
       " ('growth arrest specific 6 gas6 anexelekto', 1),\n",
       " ('of equine axl receptor tyrosine kinase', 1.0),\n",
       " ('overexpression of axl receptor tyrosine kinase', 1.0),\n",
       " ('to characterize axl receptor tyrosine kinase', 1),\n",
       " ('anaplastic lymphoma receptor tyrosine kinase alk axl receptor tyrosine kinase',\n",
       "  1.0),\n",
       " ('cabozantinib an oral tki that targets cmet vegfrs and anexelekto', 1),\n",
       " ('receptor pdgfr anaplastic lymphoma receptor tyrosine kinase alk axl receptor tyrosine kinase',\n",
       "  1),\n",
       " ('to investigate the functional and underlying mechanisms of axl receptor tyrosine kinase',\n",
       "  1),\n",
       " ('echanism of signaling cascade alternative splicing isoforms of equine axl receptor tyrosine kinase',\n",
       "  1),\n",
       " ('leckstrin homology domain containing family member 1 plekhg1 and axl receptor tyrosine kinase',\n",
       "  1),\n",
       " ('resistance inducer by prolonged docetaxel therapy in prostate cancer axl receptor tyrosine kinase',\n",
       "  1),\n",
       " ('az knockdown cells in addition two factors connective tissue growth factors ctgf and anexelekto',\n",
       "  1),\n",
       " ('er cells lines were anaplastic lymphoma receptor tyrosine kinase alk axl receptor tyrosine kinase',\n",
       "  1),\n",
       " ('for rop affecting zone 1 were evaluated retrospectively spherical equivalent se and axial length',\n",
       "  1),\n",
       " ('l significance the current study included 257 nsclc patients tyrosine protein kinase receptor ufo',\n",
       "  1),\n",
       " ('molecular therapeutic targets to improve the outcome of these cancer axl receptor tyrosine kinase',\n",
       "  1),\n",
       " ('or clinic problem in advanced prostate cancer the overexpression of axl receptor tyrosine kinase',\n",
       "  1),\n",
       " ('s associated with inhibition of expression and downstream signaling of axl receptor tyrosine kinase',\n",
       "  1),\n",
       " ('s genetic basis the tyrosine protein kinase receptor tyro3 tyrosine protein kinase receptor ufo',\n",
       "  1),\n",
       " ('targets for precision medicine approaches in this dismal tumor entity the receptor tyrosine kinase',\n",
       "  1),\n",
       " ('the met proto oncogene encoded receptor tyrosine kinase met and axl receptor tyrosine kinase',\n",
       "  1),\n",
       " ('ctivity of decitabine with vorinostat in in vitro aml models and identified a potential biomarker',\n",
       "  1),\n",
       " ('d mertk one promising therapeutic strategy to overcome this problem is axl receptor tyrosine kinase',\n",
       "  1),\n",
       " ('elf renewal and tumorigenic potential enhancers of zeste 2 ezh2 and axl receptor tyrosine kinase',\n",
       "  1),\n",
       " ('ial after exposure to chemotherapy compared to the axl silenced cells axl receptor tyrosine kinase',\n",
       "  1),\n",
       " ('n of new therapeutic targets 5 as previous described the receptor tyrosine kinase rtk axl',\n",
       "  1),\n",
       " ('ned by edi scanning of the optic nerve head onh baseline characteristics included axial length',\n",
       "  1),\n",
       " ('nti axl therapy in the clinic deregulated oncogene activity of the axl receptor tyrosine kinase',\n",
       "  1),\n",
       " ('on of horse athletic abilities in our previous study we identified axl receptor tyrosine kinase',\n",
       "  1),\n",
       " ('ss the therapeutic potential of axl inhibition for cancer therapy the axl receptor tyrosine kinase',\n",
       "  1),\n",
       " ('ve splicing analysis of amino acid sequences and phylogenetic tree of axl receptor tyrosine kinase',\n",
       "  1),\n",
       " ('his study was to determine the relationship of the central corneal thickness cct and axial length',\n",
       "  1),\n",
       " ('left of axl expression in untransfected sh sy5y or sh sy5y cells stably expression either axl',\n",
       "  1),\n",
       " ('lts vary depending on the included factors according to the previous study age and axial length',\n",
       "  1),\n",
       " ('nscriptomics data with the one from the functional genomics screen the genes encoded the axl rtk',\n",
       "  1),\n",
       " ('o axl and ror2 localize to contraction units and bind major contractile components tropomyosin 2 1',\n",
       "  1),\n",
       " ('oplasm 12 13 it has been proposed that the entry receptor tyrosine protein kinase receptor ufo',\n",
       "  1),\n",
       " ('sion free survival pfs at 12 weeks between patients treat with igf 1r pathway modulator axl1717',\n",
       "  1),\n",
       " ('urchased from santa cruz biotechnology san diego ca usa mir 34a also represses the emt inducer',\n",
       "  1),\n",
       " ('lar to cow and dog than frog and chicken expression pattern of equine axl receptor tyrosine kinase',\n",
       "  1),\n",
       " ('stacle to cisplatin treat in non small cells lung cancer we found that axl receptor tyrosine kinase',\n",
       "  1),\n",
       " ('g emt and inhibition the migration of a549 cells a the decreases of mir 34a downstream emt inducer',\n",
       "  1),\n",
       " ('1', 0.0),\n",
       " ('axl1717', 0.0),\n",
       " ('biomarker', 0.0),\n",
       " ('iia', 0.0),\n",
       " ('ilmn_1701877', 0.0),\n",
       " ('inducer', 0.0),\n",
       " ('kinase', 0.0),\n",
       " ('length', 0.0),\n",
       " ('ligand', 0.0),\n",
       " ('rtk', 0.0),\n",
       " ('ufo', 0.0),\n",
       " ('2 1', 0.0),\n",
       " ('and ilmn_1701877', 0.0),\n",
       " ('axl rtk', 0.0),\n",
       " ('either axl', 0.0),\n",
       " ('gas6 anexelekto', 0.0),\n",
       " ('kinase ligand', 0.0),\n",
       " ('modulator axl1717', 0.0),\n",
       " ('potential biomarker', 0.0),\n",
       " ('receptor ufo', 0.0),\n",
       " ('rtk axl', 0.0),\n",
       " ('tyrosine kinase', 0.0),\n",
       " ('6 gas6 anexelekto', 0.0),\n",
       " ('a potential biomarker', 0.0),\n",
       " ('blood and ilmn_1701877', 0.0),\n",
       " ('ctgf and anexelekto', 0.0),\n",
       " ('downstream emt inducer', 0.0),\n",
       " ('expression either axl', 0.0),\n",
       " ('included axial length', 0.0),\n",
       " ('kinase receptor ufo', 0.0),\n",
       " ('kinase rtk axl', 0.0),\n",
       " ('pathway modulator axl1717', 0.0),\n",
       " ('the axl rtk', 0.0),\n",
       " ('the emt inducer', 0.0),\n",
       " ('tropomyosin 2 1', 0.0),\n",
       " ('tyrosine kinase ligand', 0.0),\n",
       " ('vegfrs and anexelekto', 0.0),\n",
       " ('1r pathway modulator axl1717', 0.0),\n",
       " ('34a downstream emt inducer', 0.0),\n",
       " ('age and axial length', 0.0),\n",
       " ('cct and axial length', 0.0),\n",
       " ('characteristics included axial length', 0.0),\n",
       " ('cmet vegfrs and anexelekto', 0.0),\n",
       " ('components tropomyosin 2 1', 0.0),\n",
       " ('encoded the axl rtk', 0.0),\n",
       " ('factors ctgf and anexelekto', 0.0),\n",
       " ('identified a potential biomarker', 0.0),\n",
       " ('in blood and ilmn_1701877', 0.0),\n",
       " ('protein kinase receptor ufo', 0.0),\n",
       " ('receptor tyrosine kinase ligand', 0.0),\n",
       " ('represses the emt inducer', 0.0),\n",
       " ('se and axial length', 0.0),\n",
       " ('specific 6 gas6 anexelekto', 0.0),\n",
       " ('stably expression either axl', 0.0),\n",
       " ('the receptor tyrosine kinase', 0.0),\n",
       " ('tyrosine kinase rtk axl', 0.0),\n",
       " ('alk axl receptor tyrosine kinase', 0.0),\n",
       " ('also represses the emt inducer', 0.0),\n",
       " ('and identified a potential biomarker', 0.0),\n",
       " ('arrest specific 6 gas6 anexelekto', 0.0),\n",
       " ('baseline characteristics included axial length', 0.0),\n",
       " ('cells axl receptor tyrosine kinase', 0.0),\n",
       " ('cells stably expression either axl', 0.0),\n",
       " ('cg27094856 in blood and ilmn_1701877', 0.0),\n",
       " ('characterize axl receptor tyrosine kinase', 0.0),\n",
       " ('contractile components tropomyosin 2 1', 0.0),\n",
       " ('entity the receptor tyrosine kinase', 0.0),\n",
       " ('equine axl receptor tyrosine kinase', 0.0),\n",
       " ('equivalent se and axial length', 0.0),\n",
       " ('genes encoded the axl rtk', 0.0),\n",
       " ('growth factors ctgf and anexelekto', 0.0),\n",
       " ('identified axl receptor tyrosine kinase', 0.0),\n",
       " ('igf 1r pathway modulator axl1717', 0.0),\n",
       " ('is axl receptor tyrosine kinase', 0.0),\n",
       " ('mir 34a downstream emt inducer', 0.0),\n",
       " ('receptor tyrosine kinase rtk axl', 0.0),\n",
       " ('study age and axial length', 0.0),\n",
       " ('targets cmet vegfrs and anexelekto', 0.0),\n",
       " ('that axl receptor tyrosine kinase', 0.0),\n",
       " ('thickness cct and axial length', 0.0),\n",
       " ('34a also represses the emt inducer', 0.0),\n",
       " ('b cg27094856 in blood and ilmn_1701877', 0.0),\n",
       " ('corneal thickness cct and axial length', 0.0),\n",
       " ('ezh2 and axl receptor tyrosine kinase', 0.0),\n",
       " ('found that axl receptor tyrosine kinase', 0.0),\n",
       " ('kinase alk axl receptor tyrosine kinase', 0.0),\n",
       " ('major contractile components tropomyosin 2 1', 0.0),\n",
       " ('mechanisms of axl receptor tyrosine kinase', 0.0),\n",
       " ('met and axl receptor tyrosine kinase', 0.0),\n",
       " ('models and identified a potential biomarker', 0.0),\n",
       " ('of mir 34a downstream emt inducer', 0.0),\n",
       " ('of the axl receptor tyrosine kinase', 0.0),\n",
       " ('onh baseline characteristics included axial length', 0.0),\n",
       " ('patients tyrosine protein kinase receptor ufo', 0.0),\n",
       " ('plekhg1 and axl receptor tyrosine kinase', 0.0),\n",
       " ('previous study age and axial length', 0.0),\n",
       " ('problem is axl receptor tyrosine kinase', 0.0),\n",
       " ('prostate cancer axl receptor tyrosine kinase', 0.0),\n",
       " ('receptor tyrosine protein kinase receptor ufo', 0.0),\n",
       " ('signaling of axl receptor tyrosine kinase', 0.0),\n",
       " ('silenced cells axl receptor tyrosine kinase', 0.0),\n",
       " ('spherical equivalent se and axial length', 0.0),\n",
       " ('sy5y cells stably expression either axl', 0.0),\n",
       " ('that targets cmet vegfrs and anexelekto', 0.0),\n",
       " ('the genes encoded the axl rtk', 0.0),\n",
       " ('the receptor tyrosine kinase rtk axl', 0.0),\n",
       " ('therapy the axl receptor tyrosine kinase', 0.0),\n",
       " ('these cancer axl receptor tyrosine kinase', 0.0),\n",
       " ('tissue growth factors ctgf and anexelekto', 0.0),\n",
       " ('tree of axl receptor tyrosine kinase', 0.0),\n",
       " ('tumor entity the receptor tyrosine kinase', 0.0),\n",
       " ('tyro3 tyrosine protein kinase receptor ufo', 0.0),\n",
       " ('we identified axl receptor tyrosine kinase', 0.0),\n",
       " ('with igf 1r pathway modulator axl1717', 0.0),\n",
       " ('1 plekhg1 and axl receptor tyrosine kinase', 0.0),\n",
       " ('2 ezh2 and axl receptor tyrosine kinase', 0.0),\n",
       " ('activity of the axl receptor tyrosine kinase', 0.0),\n",
       " ('aml models and identified a potential biomarker', 0.0),\n",
       " ('and b cg27094856 in blood and ilmn_1701877', 0.0),\n",
       " ('axl silenced cells axl receptor tyrosine kinase', 0.0),\n",
       " ('bind major contractile components tropomyosin 2 1', 0.0),\n",
       " ('cancer therapy the axl receptor tyrosine kinase', 0.0),\n",
       " ('central corneal thickness cct and axial length', 0.0),\n",
       " ('connective tissue growth factors ctgf and anexelekto', 0.0),\n",
       " ('decreases of mir 34a downstream emt inducer', 0.0),\n",
       " ('described the receptor tyrosine kinase rtk axl', 0.0),\n",
       " ('dismal tumor entity the receptor tyrosine kinase', 0.0),\n",
       " ('downstream signaling of axl receptor tyrosine kinase', 0.0),\n",
       " ('entry receptor tyrosine protein kinase receptor ufo', 0.0),\n",
       " ('head onh baseline characteristics included axial length', 0.0),\n",
       " ('in prostate cancer axl receptor tyrosine kinase', 0.0),\n",
       " ('isoforms of equine axl receptor tyrosine kinase', 0.0),\n",
       " ('kinase met and axl receptor tyrosine kinase', 0.0),\n",
       " ('mir 34a also represses the emt inducer', 0.0),\n",
       " ('nsclc patients tyrosine protein kinase receptor ufo', 0.0),\n",
       " ('of these cancer axl receptor tyrosine kinase', 0.0),\n",
       " ('pattern of equine axl receptor tyrosine kinase', 0.0),\n",
       " ('phylogenetic tree of axl receptor tyrosine kinase', 0.0),\n",
       " ('receptor tyro3 tyrosine protein kinase receptor ufo', 0.0),\n",
       " ('retrospectively spherical equivalent se and axial length', 0.0),\n",
       " ('screen the genes encoded the axl rtk', 0.0),\n",
       " ('sh sy5y cells stably expression either axl', 0.0),\n",
       " ('study we identified axl receptor tyrosine kinase', 0.0),\n",
       " ('the overexpression of axl receptor tyrosine kinase', 0.0),\n",
       " ('the previous study age and axial length', 0.0),\n",
       " ('this problem is axl receptor tyrosine kinase', 0.0),\n",
       " ('tki that targets cmet vegfrs and anexelekto', 0.0),\n",
       " ('treat with igf 1r pathway modulator axl1717', 0.0),\n",
       " ('tyrosine kinase alk axl receptor tyrosine kinase', 0.0),\n",
       " ('underlying mechanisms of axl receptor tyrosine kinase', 0.0),\n",
       " ('we found that axl receptor tyrosine kinase', 0.0),\n",
       " ('257 nsclc patients tyrosine protein kinase receptor ufo', 0.0),\n",
       " ('and bind major contractile components tropomyosin 2 1', 0.0),\n",
       " ('and downstream signaling of axl receptor tyrosine kinase', 0.0),\n",
       " ('and phylogenetic tree of axl receptor tyrosine kinase', 0.0),\n",
       " ('and underlying mechanisms of axl receptor tyrosine kinase', 0.0),\n",
       " ('cancer the overexpression of axl receptor tyrosine kinase', 0.0),\n",
       " ('cancer we found that axl receptor tyrosine kinase', 0.0),\n",
       " ('evaluated retrospectively spherical equivalent se and axial length', 0.0),\n",
       " ('expression pattern of equine axl receptor tyrosine kinase', 0.0),\n",
       " ('factors connective tissue growth factors ctgf and anexelekto', 0.0),\n",
       " ('for cancer therapy the axl receptor tyrosine kinase', 0.0),\n",
       " ('genomics screen the genes encoded the axl rtk', 0.0),\n",
       " ('kinase receptor tyro3 tyrosine protein kinase receptor ufo', 0.0),\n",
       " ('lcls and b cg27094856 in blood and ilmn_1701877', 0.0),\n",
       " ('member 1 plekhg1 and axl receptor tyrosine kinase', 0.0),\n",
       " ('nerve head onh baseline characteristics included axial length', 0.0),\n",
       " ('oncogene activity of the axl receptor tyrosine kinase', 0.0),\n",
       " ('or sh sy5y cells stably expression either axl', 0.0),\n",
       " ('oral tki that targets cmet vegfrs and anexelekto', 0.0),\n",
       " ('outcome of these cancer axl receptor tyrosine kinase', 0.0),\n",
       " ('overcome this problem is axl receptor tyrosine kinase', 0.0),\n",
       " ('patients treat with igf 1r pathway modulator axl1717', 0.0),\n",
       " ('previous described the receptor tyrosine kinase rtk axl', 0.0),\n",
       " ('previous study we identified axl receptor tyrosine kinase', 0.0),\n",
       " ('receptor tyrosine kinase alk axl receptor tyrosine kinase', 0.0),\n",
       " ('splicing isoforms of equine axl receptor tyrosine kinase', 0.0),\n",
       " ('the axl silenced cells axl receptor tyrosine kinase', 0.0),\n",
       " ('the central corneal thickness cct and axial length', 0.0),\n",
       " ('the decreases of mir 34a downstream emt inducer', 0.0),\n",
       " ('the entry receptor tyrosine protein kinase receptor ufo', 0.0),\n",
       " ('therapy in prostate cancer axl receptor tyrosine kinase', 0.0),\n",
       " ('this dismal tumor entity the receptor tyrosine kinase', 0.0),\n",
       " ('to the previous study age and axial length', 0.0),\n",
       " ('tyrosine kinase met and axl receptor tyrosine kinase', 0.0),\n",
       " ('usa mir 34a also represses the emt inducer', 0.0),\n",
       " ('vitro aml models and identified a potential biomarker', 0.0),\n",
       " ('zeste 2 ezh2 and axl receptor tyrosine kinase', 0.0),\n",
       " ('a the decreases of mir 34a downstream emt inducer', 0.0),\n",
       " ('according to the previous study age and axial length', 0.0),\n",
       " ('alternative splicing isoforms of equine axl receptor tyrosine kinase', 0.0),\n",
       " ('an oral tki that targets cmet vegfrs and anexelekto', 0.0),\n",
       " ('as previous described the receptor tyrosine kinase rtk axl', 0.0),\n",
       " ('between patients treat with igf 1r pathway modulator axl1717', 0.0),\n",
       " ('ca usa mir 34a also represses the emt inducer', 0.0),\n",
       " ('chicken expression pattern of equine axl receptor tyrosine kinase', 0.0),\n",
       " ('deregulated oncogene activity of the axl receptor tyrosine kinase', 0.0),\n",
       " ('docetaxel therapy in prostate cancer axl receptor tyrosine kinase', 0.0),\n",
       " ('expression and downstream signaling of axl receptor tyrosine kinase', 0.0),\n",
       " ('family member 1 plekhg1 and axl receptor tyrosine kinase', 0.0),\n",
       " ('functional and underlying mechanisms of axl receptor tyrosine kinase', 0.0),\n",
       " ('functional genomics screen the genes encoded the axl rtk', 0.0),\n",
       " ('in lcls and b cg27094856 in blood and ilmn_1701877', 0.0),\n",
       " ('in this dismal tumor entity the receptor tyrosine kinase', 0.0),\n",
       " ('in vitro aml models and identified a potential biomarker', 0.0),\n",
       " ('included 257 nsclc patients tyrosine protein kinase receptor ufo', 0.0),\n",
       " ('inhibition for cancer therapy the axl receptor tyrosine kinase', 0.0),\n",
       " ('lung cancer we found that axl receptor tyrosine kinase', 0.0),\n",
       " ('lymphoma receptor tyrosine kinase alk axl receptor tyrosine kinase', 0.0),\n",
       " ('of the central corneal thickness cct and axial length', 0.0),\n",
       " ('of zeste 2 ezh2 and axl receptor tyrosine kinase', 0.0),\n",
       " ('optic nerve head onh baseline characteristics included axial length', 0.0),\n",
       " ('our previous study we identified axl receptor tyrosine kinase', 0.0),\n",
       " ('prostate cancer the overexpression of axl receptor tyrosine kinase', 0.0),\n",
       " ('protein kinase receptor tyro3 tyrosine protein kinase receptor ufo', 0.0),\n",
       " ('receptor tyrosine kinase met and axl receptor tyrosine kinase', 0.0),\n",
       " ('sequences and phylogenetic tree of axl receptor tyrosine kinase', 0.0),\n",
       " ('sy5y or sh sy5y cells stably expression either axl', 0.0),\n",
       " ('that the entry receptor tyrosine protein kinase receptor ufo', 0.0),\n",
       " ('the outcome of these cancer axl receptor tyrosine kinase', 0.0),\n",
       " ('to overcome this problem is axl receptor tyrosine kinase', 0.0),\n",
       " ('to the axl silenced cells axl receptor tyrosine kinase', 0.0),\n",
       " ('two factors connective tissue growth factors ctgf and anexelekto', 0.0),\n",
       " ('units and bind major contractile components tropomyosin 2 1', 0.0),\n",
       " ('were evaluated retrospectively spherical equivalent se and axial length',\n",
       "  0.0),\n",
       " ('1 were evaluated retrospectively spherical equivalent se and axial length',\n",
       "  0.0),\n",
       " ('5 as previous described the receptor tyrosine kinase rtk axl', 0.0),\n",
       " ('acid sequences and phylogenetic tree of axl receptor tyrosine kinase', 0.0),\n",
       " ('addition two factors connective tissue growth factors ctgf and anexelekto',\n",
       "  0.0),\n",
       " ('advanced prostate cancer the overexpression of axl receptor tyrosine kinase',\n",
       "  0.0),\n",
       " ('and chicken expression pattern of equine axl receptor tyrosine kinase',\n",
       "  0.0),\n",
       " ('approaches in this dismal tumor entity the receptor tyrosine kinase', 0.0),\n",
       " ('axl inhibition for cancer therapy the axl receptor tyrosine kinase', 0.0),\n",
       " ('cascade alternative splicing isoforms of equine axl receptor tyrosine kinase',\n",
       "  0.0),\n",
       " ('cells a the decreases of mir 34a downstream emt inducer', 0.0),\n",
       " ('cells lung cancer we found that axl receptor tyrosine kinase', 0.0),\n",
       " ('clinic deregulated oncogene activity of the axl receptor tyrosine kinase',\n",
       "  0.0),\n",
       " ('compared to the axl silenced cells axl receptor tyrosine kinase', 0.0),\n",
       " ('containing family member 1 plekhg1 and axl receptor tyrosine kinase', 0.0),\n",
       " ('contraction units and bind major contractile components tropomyosin 2 1',\n",
       "  0.0),\n",
       " ('diego ca usa mir 34a also represses the emt inducer', 0.0),\n",
       " ('encoded receptor tyrosine kinase met and axl receptor tyrosine kinase',\n",
       "  0.0),\n",
       " ('enhancers of zeste 2 ezh2 and axl receptor tyrosine kinase', 0.0),\n",
       " ('factors according to the previous study age and axial length', 0.0),\n",
       " ('improve the outcome of these cancer axl receptor tyrosine kinase', 0.0),\n",
       " ('in in vitro aml models and identified a potential biomarker', 0.0),\n",
       " ('in our previous study we identified axl receptor tyrosine kinase', 0.0),\n",
       " ('of expression and downstream signaling of axl receptor tyrosine kinase',\n",
       "  0.0),\n",
       " ('prl in lcls and b cg27094856 in blood and ilmn_1701877', 0.0),\n",
       " ('prolonged docetaxel therapy in prostate cancer axl receptor tyrosine kinase',\n",
       "  0.0),\n",
       " ('proposed that the entry receptor tyrosine protein kinase receptor ufo',\n",
       "  0.0),\n",
       " ('relationship of the central corneal thickness cct and axial length', 0.0),\n",
       " ('sh sy5y or sh sy5y cells stably expression either axl', 0.0),\n",
       " ('strategy to overcome this problem is axl receptor tyrosine kinase', 0.0),\n",
       " ('study included 257 nsclc patients tyrosine protein kinase receptor ufo',\n",
       "  0.0),\n",
       " ('the functional and underlying mechanisms of axl receptor tyrosine kinase',\n",
       "  0.0),\n",
       " ('the functional genomics screen the genes encoded the axl rtk', 0.0),\n",
       " ('the optic nerve head onh baseline characteristics included axial length',\n",
       "  0.0),\n",
       " ('tyrosine protein kinase receptor tyro3 tyrosine protein kinase receptor ufo',\n",
       "  0.0),\n",
       " ('weeks between patients treat with igf 1r pathway modulator axl1717', 0.0),\n",
       " ('12 weeks between patients treat with igf 1r pathway modulator axl1717',\n",
       "  0.0),\n",
       " ('a549 cells a the decreases of mir 34a downstream emt inducer', 0.0),\n",
       " ('abilities in our previous study we identified axl receptor tyrosine kinase',\n",
       "  0.0),\n",
       " ('amino acid sequences and phylogenetic tree of axl receptor tyrosine kinase',\n",
       "  0.0),\n",
       " ('been proposed that the entry receptor tyrosine protein kinase receptor ufo',\n",
       "  0.0),\n",
       " ('by prolonged docetaxel therapy in prostate cancer axl receptor tyrosine kinase',\n",
       "  0.0),\n",
       " ('chemotherapy compared to the axl silenced cells axl receptor tyrosine kinase',\n",
       "  0.0),\n",
       " ('current study included 257 nsclc patients tyrosine protein kinase receptor ufo',\n",
       "  0.0),\n",
       " ('domain containing family member 1 plekhg1 and axl receptor tyrosine kinase',\n",
       "  0.0),\n",
       " ('frog and chicken expression pattern of equine axl receptor tyrosine kinase',\n",
       "  0.0),\n",
       " ('from the functional genomics screen the genes encoded the axl rtk', 0.0),\n",
       " ('ilmn_1809352 prl in lcls and b cg27094856 in blood and ilmn_1701877', 0.0),\n",
       " ('in addition two factors connective tissue growth factors ctgf and anexelekto',\n",
       "  0.0),\n",
       " ('in advanced prostate cancer the overexpression of axl receptor tyrosine kinase',\n",
       "  0.0),\n",
       " ('included factors according to the previous study age and axial length',\n",
       "  0.0),\n",
       " ('inhibition of expression and downstream signaling of axl receptor tyrosine kinase',\n",
       "  0.0),\n",
       " ('investigate the functional and underlying mechanisms of axl receptor tyrosine kinase',\n",
       "  0.0),\n",
       " ('medicine approaches in this dismal tumor entity the receptor tyrosine kinase',\n",
       "  0.0),\n",
       " ('of axl inhibition for cancer therapy the axl receptor tyrosine kinase',\n",
       "  0.0),\n",
       " ('of the optic nerve head onh baseline characteristics included axial length',\n",
       "  0.0),\n",
       " ('oncogene encoded receptor tyrosine kinase met and axl receptor tyrosine kinase',\n",
       "  0.0),\n",
       " ('pdgfr anaplastic lymphoma receptor tyrosine kinase alk axl receptor tyrosine kinase',\n",
       "  0.0),\n",
       " ('potential enhancers of zeste 2 ezh2 and axl receptor tyrosine kinase', 0.0),\n",
       " ('san diego ca usa mir 34a also represses the emt inducer', 0.0),\n",
       " ('signaling cascade alternative splicing isoforms of equine axl receptor tyrosine kinase',\n",
       "  0.0),\n",
       " ('small cells lung cancer we found that axl receptor tyrosine kinase', 0.0),\n",
       " ('targets 5 as previous described the receptor tyrosine kinase rtk axl', 0.0),\n",
       " ('the clinic deregulated oncogene activity of the axl receptor tyrosine kinase',\n",
       "  0.0),\n",
       " ('the relationship of the central corneal thickness cct and axial length',\n",
       "  0.0),\n",
       " ('the tyrosine protein kinase receptor tyro3 tyrosine protein kinase receptor ufo',\n",
       "  0.0),\n",
       " ('therapeutic strategy to overcome this problem is axl receptor tyrosine kinase',\n",
       "  0.0),\n",
       " ('to contraction units and bind major contractile components tropomyosin 2 1',\n",
       "  0.0),\n",
       " ('to improve the outcome of these cancer axl receptor tyrosine kinase', 0.0),\n",
       " ('untransfected sh sy5y or sh sy5y cells stably expression either axl', 0.0),\n",
       " ('vorinostat in in vitro aml models and identified a potential biomarker',\n",
       "  0.0),\n",
       " ('were anaplastic lymphoma receptor tyrosine kinase alk axl receptor tyrosine kinase',\n",
       "  0.0),\n",
       " ('zone 1 were evaluated retrospectively spherical equivalent se and axial length',\n",
       "  0.0),\n",
       " ('affecting zone 1 were evaluated retrospectively spherical equivalent se and axial length',\n",
       "  0.0),\n",
       " ('and ilmn_1809352 prl in lcls and b cg27094856 in blood and ilmn_1701877',\n",
       "  0.0),\n",
       " ('at 12 weeks between patients treat with igf 1r pathway modulator axl1717',\n",
       "  0.0),\n",
       " ('athletic abilities in our previous study we identified axl receptor tyrosine kinase',\n",
       "  0.0),\n",
       " ('basis the tyrosine protein kinase receptor tyro3 tyrosine protein kinase receptor ufo',\n",
       "  0.0),\n",
       " ('biotechnology san diego ca usa mir 34a also represses the emt inducer',\n",
       "  0.0),\n",
       " ('cells in addition two factors connective tissue growth factors ctgf and anexelekto',\n",
       "  0.0),\n",
       " ('determine the relationship of the central corneal thickness cct and axial length',\n",
       "  0.0),\n",
       " ('has been proposed that the entry receptor tyrosine protein kinase receptor ufo',\n",
       "  0.0),\n",
       " ('homology domain containing family member 1 plekhg1 and axl receptor tyrosine kinase',\n",
       "  0.0),\n",
       " ('in the clinic deregulated oncogene activity of the axl receptor tyrosine kinase',\n",
       "  0.0),\n",
       " ('in untransfected sh sy5y or sh sy5y cells stably expression either axl',\n",
       "  0.0),\n",
       " ('inducer by prolonged docetaxel therapy in prostate cancer axl receptor tyrosine kinase',\n",
       "  0.0),\n",
       " ('lines were anaplastic lymphoma receptor tyrosine kinase alk axl receptor tyrosine kinase',\n",
       "  0.0),\n",
       " ('localize to contraction units and bind major contractile components tropomyosin 2 1',\n",
       "  0.0),\n",
       " ('non small cells lung cancer we found that axl receptor tyrosine kinase',\n",
       "  0.0),\n",
       " ('of a549 cells a the decreases of mir 34a downstream emt inducer', 0.0),\n",
       " ('of amino acid sequences and phylogenetic tree of axl receptor tyrosine kinase',\n",
       "  0.0),\n",
       " ('of signaling cascade alternative splicing isoforms of equine axl receptor tyrosine kinase',\n",
       "  0.0),\n",
       " ('one from the functional genomics screen the genes encoded the axl rtk',\n",
       "  0.0),\n",
       " ('potential of axl inhibition for cancer therapy the axl receptor tyrosine kinase',\n",
       "  0.0),\n",
       " ('precision medicine approaches in this dismal tumor entity the receptor tyrosine kinase',\n",
       "  0.0),\n",
       " ('problem in advanced prostate cancer the overexpression of axl receptor tyrosine kinase',\n",
       "  0.0),\n",
       " ('promising therapeutic strategy to overcome this problem is axl receptor tyrosine kinase',\n",
       "  0.0),\n",
       " ('proto oncogene encoded receptor tyrosine kinase met and axl receptor tyrosine kinase',\n",
       "  0.0),\n",
       " ('scanning of the optic nerve head onh baseline characteristics included axial length',\n",
       "  0.0),\n",
       " ('targets to improve the outcome of these cancer axl receptor tyrosine kinase',\n",
       "  0.0),\n",
       " ('than frog and chicken expression pattern of equine axl receptor tyrosine kinase',\n",
       "  0.0),\n",
       " ('the current study included 257 nsclc patients tyrosine protein kinase receptor ufo',\n",
       "  0.0),\n",
       " ('the included factors according to the previous study age and axial length',\n",
       "  0.0),\n",
       " ('therapeutic targets 5 as previous described the receptor tyrosine kinase rtk axl',\n",
       "  0.0),\n",
       " ('to chemotherapy compared to the axl silenced cells axl receptor tyrosine kinase',\n",
       "  0.0),\n",
       " ('tumorigenic potential enhancers of zeste 2 ezh2 and axl receptor tyrosine kinase',\n",
       "  0.0),\n",
       " ('with inhibition of expression and downstream signaling of axl receptor tyrosine kinase',\n",
       "  0.0),\n",
       " ('with vorinostat in in vitro aml models and identified a potential biomarker',\n",
       "  0.0),\n",
       " ('analysis of amino acid sequences and phylogenetic tree of axl receptor tyrosine kinase',\n",
       "  0.0),\n",
       " ('and tumorigenic potential enhancers of zeste 2 ezh2 and axl receptor tyrosine kinase',\n",
       "  0.0),\n",
       " ('associated with inhibition of expression and downstream signaling of axl receptor tyrosine kinase',\n",
       "  0.0),\n",
       " ('blood and ilmn_1809352 prl in lcls and b cg27094856 in blood and ilmn_1701877',\n",
       "  0.0),\n",
       " ('cells lines were anaplastic lymphoma receptor tyrosine kinase alk axl receptor tyrosine kinase',\n",
       "  0.0),\n",
       " ('clinic problem in advanced prostate cancer the overexpression of axl receptor tyrosine kinase',\n",
       "  0.0),\n",
       " ('cruz biotechnology san diego ca usa mir 34a also represses the emt inducer',\n",
       "  0.0),\n",
       " ('decitabine with vorinostat in in vitro aml models and identified a potential biomarker',\n",
       "  0.0),\n",
       " ('dog than frog and chicken expression pattern of equine axl receptor tyrosine kinase',\n",
       "  0.0),\n",
       " ('edi scanning of the optic nerve head onh baseline characteristics included axial length',\n",
       "  0.0),\n",
       " ('exposure to chemotherapy compared to the axl silenced cells axl receptor tyrosine kinase',\n",
       "  0.0),\n",
       " ('expression in untransfected sh sy5y or sh sy5y cells stably expression either axl',\n",
       "  0.0),\n",
       " ('for precision medicine approaches in this dismal tumor entity the receptor tyrosine kinase',\n",
       "  0.0),\n",
       " ('genetic basis the tyrosine protein kinase receptor tyro3 tyrosine protein kinase receptor ufo',\n",
       "  0.0),\n",
       " ('horse athletic abilities in our previous study we identified axl receptor tyrosine kinase',\n",
       "  0.0),\n",
       " ('in non small cells lung cancer we found that axl receptor tyrosine kinase',\n",
       "  0.0),\n",
       " ('it has been proposed that the entry receptor tyrosine protein kinase receptor ufo',\n",
       "  0.0),\n",
       " ('knockdown cells in addition two factors connective tissue growth factors ctgf and anexelekto',\n",
       "  0.0),\n",
       " ('met proto oncogene encoded receptor tyrosine kinase met and axl receptor tyrosine kinase',\n",
       "  0.0),\n",
       " ('migration of a549 cells a the decreases of mir 34a downstream emt inducer',\n",
       "  0.0),\n",
       " ('new therapeutic targets 5 as previous described the receptor tyrosine kinase rtk axl',\n",
       "  0.0),\n",
       " ('on the included factors according to the previous study age and axial length',\n",
       "  0.0),\n",
       " ('one promising therapeutic strategy to overcome this problem is axl receptor tyrosine kinase',\n",
       "  0.0),\n",
       " ('pfs at 12 weeks between patients treat with igf 1r pathway modulator axl1717',\n",
       "  0.0),\n",
       " ('rop affecting zone 1 were evaluated retrospectively spherical equivalent se and axial length',\n",
       "  0.0),\n",
       " ('ror2 localize to contraction units and bind major contractile components tropomyosin 2 1',\n",
       "  0.0),\n",
       " ('significance the current study included 257 nsclc patients tyrosine protein kinase receptor ufo',\n",
       "  0.0),\n",
       " ('the one from the functional genomics screen the genes encoded the axl rtk',\n",
       "  0.0),\n",
       " ('therapeutic potential of axl inhibition for cancer therapy the axl receptor tyrosine kinase',\n",
       "  0.0),\n",
       " ('therapeutic targets to improve the outcome of these cancer axl receptor tyrosine kinase',\n",
       "  0.0),\n",
       " ('therapy in the clinic deregulated oncogene activity of the axl receptor tyrosine kinase',\n",
       "  0.0),\n",
       " ('to determine the relationship of the central corneal thickness cct and axial length',\n",
       "  0.0),\n",
       " ('13 it has been proposed that the entry receptor tyrosine protein kinase receptor ufo',\n",
       "  0.0),\n",
       " ('after exposure to chemotherapy compared to the axl silenced cells axl receptor tyrosine kinase',\n",
       "  0.0),\n",
       " ('and dog than frog and chicken expression pattern of equine axl receptor tyrosine kinase',\n",
       "  0.0),\n",
       " ('and ror2 localize to contraction units and bind major contractile components tropomyosin 2 1',\n",
       "  0.0),\n",
       " ('axl expression in untransfected sh sy5y or sh sy5y cells stably expression either axl',\n",
       "  0.0),\n",
       " ('axl therapy in the clinic deregulated oncogene activity of the axl receptor tyrosine kinase',\n",
       "  0.0),\n",
       " ('by edi scanning of the optic nerve head onh baseline characteristics included axial length',\n",
       "  0.0),\n",
       " ('depending on the included factors according to the previous study age and axial length',\n",
       "  0.0),\n",
       " ('in blood and ilmn_1809352 prl in lcls and b cg27094856 in blood and ilmn_1701877',\n",
       "  0.0),\n",
       " ('mertk one promising therapeutic strategy to overcome this problem is axl receptor tyrosine kinase',\n",
       "  0.0),\n",
       " ('of decitabine with vorinostat in in vitro aml models and identified a potential biomarker',\n",
       "  0.0),\n",
       " ('of horse athletic abilities in our previous study we identified axl receptor tyrosine kinase',\n",
       "  0.0),\n",
       " ('of new therapeutic targets 5 as previous described the receptor tyrosine kinase rtk axl',\n",
       "  0.0),\n",
       " ('renewal and tumorigenic potential enhancers of zeste 2 ezh2 and axl receptor tyrosine kinase',\n",
       "  0.0),\n",
       " ('santa cruz biotechnology san diego ca usa mir 34a also represses the emt inducer',\n",
       "  0.0),\n",
       " ('splicing analysis of amino acid sequences and phylogenetic tree of axl receptor tyrosine kinase',\n",
       "  0.0),\n",
       " ('survival pfs at 12 weeks between patients treat with igf 1r pathway modulator axl1717',\n",
       "  0.0),\n",
       " ('the migration of a549 cells a the decreases of mir 34a downstream emt inducer',\n",
       "  0.0),\n",
       " ('the therapeutic potential of axl inhibition for cancer therapy the axl receptor tyrosine kinase',\n",
       "  0.0),\n",
       " ('treat in non small cells lung cancer we found that axl receptor tyrosine kinase',\n",
       "  0.0),\n",
       " ('was to determine the relationship of the central corneal thickness cct and axial length',\n",
       "  0.0),\n",
       " ('with the one from the functional genomics screen the genes encoded the axl rtk',\n",
       "  0.0),\n",
       " ('12 13 it has been proposed that the entry receptor tyrosine protein kinase receptor ufo',\n",
       "  0.0),\n",
       " ('axl and ror2 localize to contraction units and bind major contractile components tropomyosin 2 1',\n",
       "  0.0),\n",
       " ('cisplatin treat in non small cells lung cancer we found that axl receptor tyrosine kinase',\n",
       "  0.0),\n",
       " ('cow and dog than frog and chicken expression pattern of equine axl receptor tyrosine kinase',\n",
       "  0.0),\n",
       " ('data with the one from the functional genomics screen the genes encoded the axl rtk',\n",
       "  0.0),\n",
       " ('free survival pfs at 12 weeks between patients treat with igf 1r pathway modulator axl1717',\n",
       "  0.0),\n",
       " ('from santa cruz biotechnology san diego ca usa mir 34a also represses the emt inducer',\n",
       "  0.0),\n",
       " ('inhibition the migration of a549 cells a the decreases of mir 34a downstream emt inducer',\n",
       "  0.0),\n",
       " ('of axl expression in untransfected sh sy5y or sh sy5y cells stably expression either axl',\n",
       "  0.0),\n",
       " ('study was to determine the relationship of the central corneal thickness cct and axial length',\n",
       "  0.0),\n",
       " ('vary depending on the included factors according to the previous study age and axial length',\n",
       "  0.0),\n",
       " ('and inhibition the migration of a549 cells a the decreases of mir 34a downstream emt inducer',\n",
       "  0.0),\n",
       " ('to cisplatin treat in non small cells lung cancer we found that axl receptor tyrosine kinase',\n",
       "  0.0),\n",
       " ('to cow and dog than frog and chicken expression pattern of equine axl receptor tyrosine kinase',\n",
       "  0.0),\n",
       " ('emt and inhibition the migration of a549 cells a the decreases of mir 34a downstream emt inducer',\n",
       "  0.0)]"
      ]
     },
     "execution_count": 8,
     "metadata": {},
     "output_type": "execute_result"
    }
   ],
   "source": [
    "top"
   ]
  },
  {
   "cell_type": "code",
   "execution_count": 24,
   "metadata": {},
   "outputs": [
    {
     "data": {
      "text/plain": [
       "('postconcussion syndrome', 2.5)"
      ]
     },
     "execution_count": 24,
     "metadata": {},
     "output_type": "execute_result"
    }
   ],
   "source": [
    "top[50]"
   ]
  },
  {
   "cell_type": "code",
   "execution_count": 12,
   "metadata": {},
   "outputs": [],
   "source": [
    "longforms0 = miners['PCS'].get_longforms()"
   ]
  },
  {
   "cell_type": "code",
   "execution_count": 13,
   "metadata": {},
   "outputs": [
    {
     "data": {
      "text/plain": [
       "[('physical component summary', 82.6315789473684),\n",
       " ('score', 35.193548387096776),\n",
       " ('sulfate', 29.0188679245283),\n",
       " ('physical', 23.379310344827587),\n",
       " ('scale', 18.064516129032256),\n",
       " ('phytochelatin synthase', 16.705882352941178),\n",
       " ('portacaval shunt', 11.571428571428571),\n",
       " ('syndrome', 8.625),\n",
       " ('posterior circulation stroke', 7.25),\n",
       " ('post concussive symptoms', 6.25),\n",
       " ('porous calcium silicate', 5.428571428571429),\n",
       " ('premature chromatid separation', 5.0),\n",
       " ('physical health', 4.666666666666667),\n",
       " ('psoralea corylifolia seeds', 4.666666666666667),\n",
       " ('primary cytoreductive surgery', 3.6),\n",
       " ('catastrophizing', 2.4),\n",
       " ('sites', 1.3333333333333333),\n",
       " ('post error slowing pes and post conflict slowing', 1.3333333333333333)]"
      ]
     },
     "execution_count": 13,
     "metadata": {},
     "output_type": "execute_result"
    }
   ],
   "source": [
    "longforms0"
   ]
  },
  {
   "cell_type": "code",
   "execution_count": 14,
   "metadata": {},
   "outputs": [],
   "source": [
    "longforms0 = [x for i, x in enumerate(longforms0) if i in [0, 5, 6 , 8, 9, 10, 11, 12, 13, 14]]"
   ]
  },
  {
   "cell_type": "code",
   "execution_count": 15,
   "metadata": {},
   "outputs": [
    {
     "data": {
      "text/plain": [
       "[('physical component summary', 82.6315789473684),\n",
       " ('phytochelatin synthase', 16.705882352941178),\n",
       " ('portacaval shunt', 11.571428571428571),\n",
       " ('posterior circulation stroke', 7.25),\n",
       " ('post concussive symptoms', 6.25),\n",
       " ('porous calcium silicate', 5.428571428571429),\n",
       " ('premature chromatid separation', 5.0),\n",
       " ('physical health', 4.666666666666667),\n",
       " ('psoralea corylifolia seeds', 4.666666666666667),\n",
       " ('primary cytoreductive surgery', 3.6)]"
      ]
     },
     "execution_count": 15,
     "metadata": {},
     "output_type": "execute_result"
    }
   ],
   "source": [
    "longforms0"
   ]
  },
  {
   "cell_type": "code",
   "execution_count": 25,
   "metadata": {},
   "outputs": [],
   "source": [
    "longforms0.extend([x for i, x in enumerate(top) if i in [4, 5, 9, 12, 13, 27, 50]])"
   ]
  },
  {
   "cell_type": "code",
   "execution_count": 26,
   "metadata": {},
   "outputs": [
    {
     "data": {
      "text/plain": [
       "[('physical component summary', 82.6315789473684),\n",
       " ('phytochelatin synthase', 16.705882352941178),\n",
       " ('portacaval shunt', 11.571428571428571),\n",
       " ('posterior circulation stroke', 7.25),\n",
       " ('post concussive symptoms', 6.25),\n",
       " ('porous calcium silicate', 5.428571428571429),\n",
       " ('premature chromatid separation', 5.0),\n",
       " ('physical health', 4.666666666666667),\n",
       " ('psoralea corylifolia seeds', 4.666666666666667),\n",
       " ('primary cytoreductive surgery', 3.6),\n",
       " ('physical component score', 26.967741935483872),\n",
       " ('p cresyl sulfate', 25.82758620689655),\n",
       " ('physical component summary score', 14.666666666666666),\n",
       " ('p cresol sulfate', 10.736842105263158),\n",
       " ('pain catastrophizing scale', 10.666666666666668),\n",
       " ('physical component scale', 5.25),\n",
       " ('postconcussion syndrome', 2.5)]"
      ]
     },
     "execution_count": 26,
     "metadata": {},
     "output_type": "execute_result"
    }
   ],
   "source": [
    "longforms0"
   ]
  },
  {
   "cell_type": "code",
   "execution_count": 27,
   "metadata": {},
   "outputs": [],
   "source": [
    "longforms0.sort(key=lambda x: -x[1])"
   ]
  },
  {
   "cell_type": "code",
   "execution_count": 28,
   "metadata": {},
   "outputs": [],
   "source": [
    "longforms, scores = zip(*longforms0)"
   ]
  },
  {
   "cell_type": "code",
   "execution_count": 29,
   "metadata": {},
   "outputs": [
    {
     "data": {
      "text/plain": [
       "('physical component summary',\n",
       " 'physical component score',\n",
       " 'p cresyl sulfate',\n",
       " 'phytochelatin synthase',\n",
       " 'physical component summary score',\n",
       " 'portacaval shunt',\n",
       " 'p cresol sulfate',\n",
       " 'pain catastrophizing scale',\n",
       " 'posterior circulation stroke',\n",
       " 'post concussive symptoms',\n",
       " 'porous calcium silicate',\n",
       " 'physical component scale',\n",
       " 'premature chromatid separation',\n",
       " 'physical health',\n",
       " 'psoralea corylifolia seeds',\n",
       " 'primary cytoreductive surgery',\n",
       " 'postconcussion syndrome')"
      ]
     },
     "execution_count": 29,
     "metadata": {},
     "output_type": "execute_result"
    }
   ],
   "source": [
    "longforms"
   ]
  },
  {
   "cell_type": "code",
   "execution_count": 30,
   "metadata": {},
   "outputs": [],
   "source": [
    "grounding_map = {}\n",
    "names = {}\n",
    "for longform in longforms:\n",
    "    grounding = gilda_ground(longform)\n",
    "    if grounding[0]:\n",
    "        grounding_map[longform] = f'{grounding[0]}:{grounding[1]}'\n",
    "        names[grounding_map[longform]] = grounding[2]"
   ]
  },
  {
   "cell_type": "code",
   "execution_count": 34,
   "metadata": {},
   "outputs": [
    {
     "data": {
      "text/plain": [
       "{'p cresol sulfate': 'CHEBI:CHEBI:82914',\n",
       " 'p cresyl sulfate': 'CHEBI:CHEBI:82914',\n",
       " 'pain catastrophizing scale': 'ungrounded',\n",
       " 'physical component scale': 'physical component summary',\n",
       " 'physical component score': 'physical component summary',\n",
       " 'physical component summary': 'physical component summary',\n",
       " 'physical component summary score': 'physical component summary',\n",
       " 'physical health': 'ungrounded',\n",
       " 'phytochelatin synthase': 'UP:Q9S7Z3',\n",
       " 'porous calcium silicate': 'ungrounded',\n",
       " 'portacaval shunt': 'MESH:D011167',\n",
       " 'post concussive symptoms': 'MESH:D038223',\n",
       " 'postconcussion syndrome': 'MESH:D038223',\n",
       " 'posterior circulation stroke': 'ungrounded',\n",
       " 'premature chromatid separation': 'ungrounded',\n",
       " 'primary cytoreductive surgery': 'ungrounded',\n",
       " 'psoralea corylifolia seeds': 'ungrounded'}"
      ]
     },
     "execution_count": 34,
     "metadata": {},
     "output_type": "execute_result"
    }
   ],
   "source": [
    "grounding_map"
   ]
  },
  {
   "cell_type": "code",
   "execution_count": 35,
   "metadata": {},
   "outputs": [
    {
     "data": {
      "text/plain": [
       "{'CHEBI:CHEBI:82914': 'p-cresol sulfate',\n",
       " 'physical component summary': 'physical component summary',\n",
       " 'UP:Q9S7Z3': 'PCS1',\n",
       " 'MESH:D011167': 'Portacaval Shunt, Surgical',\n",
       " 'MESH:D038223': 'Post-Concussion Syndrome'}"
      ]
     },
     "execution_count": 35,
     "metadata": {},
     "output_type": "execute_result"
    }
   ],
   "source": [
    "names"
   ]
  },
  {
   "cell_type": "code",
   "execution_count": 33,
   "metadata": {},
   "outputs": [],
   "source": [
    "grounding_map, names, pos_labels = ground_with_gui(longforms, scores, grounding_map=grounding_map, names=names)"
   ]
  },
  {
   "cell_type": "code",
   "execution_count": 37,
   "metadata": {},
   "outputs": [],
   "source": [
    "names.update({f'HGNC:{get_hgnc_id(gene)}': gene for gene in genes})\n",
    "pos_labels = list(set(pos_labels) | set(f'HGNC:{get_hgnc_id(gene)}' for gene in genes))"
   ]
  },
  {
   "cell_type": "code",
   "execution_count": 38,
   "metadata": {},
   "outputs": [],
   "source": [
    "result = (grounding_map, names, pos_labels)"
   ]
  },
  {
   "cell_type": "code",
   "execution_count": 39,
   "metadata": {
    "scrolled": true
   },
   "outputs": [
    {
     "data": {
      "text/plain": [
       "({'p cresol sulfate': 'CHEBI:CHEBI:82914',\n",
       "  'p cresyl sulfate': 'CHEBI:CHEBI:82914',\n",
       "  'pain catastrophizing scale': 'ungrounded',\n",
       "  'physical component scale': 'physical component summary',\n",
       "  'physical component score': 'physical component summary',\n",
       "  'physical component summary': 'physical component summary',\n",
       "  'physical component summary score': 'physical component summary',\n",
       "  'physical health': 'ungrounded',\n",
       "  'phytochelatin synthase': 'UP:Q9S7Z3',\n",
       "  'porous calcium silicate': 'ungrounded',\n",
       "  'portacaval shunt': 'MESH:D011167',\n",
       "  'post concussive symptoms': 'MESH:D038223',\n",
       "  'postconcussion syndrome': 'MESH:D038223',\n",
       "  'posterior circulation stroke': 'ungrounded',\n",
       "  'premature chromatid separation': 'ungrounded',\n",
       "  'primary cytoreductive surgery': 'ungrounded',\n",
       "  'psoralea corylifolia seeds': 'ungrounded'},\n",
       " {'CHEBI:CHEBI:82914': 'p-cresol sulfate',\n",
       "  'physical component summary': 'physical component summary',\n",
       "  'UP:Q9S7Z3': 'PCS1',\n",
       "  'MESH:D011167': 'Portacaval Shunt, Surgical',\n",
       "  'MESH:D038223': 'Post-Concussion Syndrome',\n",
       "  'HGNC:1149': 'BUB1B'},\n",
       " ['CHEBI:CHEBI:82914', 'HGNC:1149', 'UP:Q9S7Z3'])"
      ]
     },
     "execution_count": 39,
     "metadata": {},
     "output_type": "execute_result"
    }
   ],
   "source": [
    "result"
   ]
  },
  {
   "cell_type": "code",
   "execution_count": 69,
   "metadata": {},
   "outputs": [],
   "source": [
    "grounding_map, names, pos_labels = ({'p cresol sulfate': 'CHEBI:CHEBI:82914',\n",
    "  'p cresyl sulfate': 'CHEBI:CHEBI:82914',\n",
    "  'pain catastrophizing scale': 'ungrounded',\n",
    "  'physical component scale': 'physical component summary',\n",
    "  'physical component score': 'physical component summary',\n",
    "  'physical component summary': 'physical component summary',\n",
    "  'physical component summary score': 'physical component summary',\n",
    "  'physical health': 'ungrounded',\n",
    "  'phytochelatin synthase': 'UP:Q9S7Z3',\n",
    "  'porous calcium silicate': 'ungrounded',\n",
    "  'portacaval shunt': 'MESH:D011167',\n",
    "  'post concussive symptoms': 'MESH:D038223',\n",
    "  'postconcussion syndrome': 'MESH:D038223',\n",
    "  'posterior circulation stroke': 'ungrounded',\n",
    "  'premature chromatid separation': 'ungrounded',\n",
    "  'primary cytoreductive surgery': 'ungrounded',\n",
    "  'psoralea corylifolia seeds': 'ungrounded'},\n",
    " {'CHEBI:CHEBI:82914': 'p-cresol sulfate',\n",
    "  'physical component summary': 'physical component summary',\n",
    "  'UP:Q9S7Z3': 'PCS1',\n",
    "  'MESH:D011167': 'Portacaval Shunt, Surgical',\n",
    "  'MESH:D038223': 'Post-Concussion Syndrome'},\n",
    " ['CHEBI:CHEBI:82914', 'UP:Q9S7Z3'])"
   ]
  },
  {
   "cell_type": "code",
   "execution_count": 70,
   "metadata": {},
   "outputs": [],
   "source": [
    "grounding_dict = {'PCS': grounding_map}"
   ]
  },
  {
   "cell_type": "code",
   "execution_count": 71,
   "metadata": {},
   "outputs": [],
   "source": [
    "classifier = AdeftClassifier('PCS', pos_labels=pos_labels)"
   ]
  },
  {
   "cell_type": "code",
   "execution_count": 72,
   "metadata": {},
   "outputs": [],
   "source": [
    "param_grid = {'C': [100.0], 'max_features': [10000]}"
   ]
  },
  {
   "cell_type": "code",
   "execution_count": 73,
   "metadata": {},
   "outputs": [],
   "source": [
    "labeler = AdeftLabeler(grounding_dict)"
   ]
  },
  {
   "cell_type": "code",
   "execution_count": 74,
   "metadata": {},
   "outputs": [],
   "source": [
    "corpus = labeler.build_from_texts(shortform_texts)"
   ]
  },
  {
   "cell_type": "code",
   "execution_count": 46,
   "metadata": {},
   "outputs": [],
   "source": [
    "corpus.extend(entrez_texts)"
   ]
  },
  {
   "cell_type": "code",
   "execution_count": 75,
   "metadata": {},
   "outputs": [],
   "source": [
    "texts, labels = zip(*corpus)"
   ]
  },
  {
   "cell_type": "code",
   "execution_count": 76,
   "metadata": {},
   "outputs": [
    {
     "name": "stderr",
     "output_type": "stream",
     "text": [
      "INFO: [2020-01-13 13:48:26] /Users/albertsteppi/adeft/adeft/modeling/classify.py - Beginning grid search in parameter space:\n",
      "{'C': [100.0], 'max_features': [10000]}\n",
      "INFO: [2020-01-13 13:48:29] /Users/albertsteppi/adeft/adeft/modeling/classify.py - Best f1 score of 0.9659340659340658 found for parameter values:\n",
      "{'logit__C': 100.0, 'tfidf__max_features': 10000}\n"
     ]
    }
   ],
   "source": [
    "classifier.cv(texts, labels, param_grid, cv=5, n_jobs=8)"
   ]
  },
  {
   "cell_type": "code",
   "execution_count": 77,
   "metadata": {},
   "outputs": [
    {
     "data": {
      "text/plain": [
       "{'label_distribution': {'MESH:D038223': 8,\n",
       "  'physical component summary': 105,\n",
       "  'ungrounded': 32,\n",
       "  'CHEBI:CHEBI:82914': 29,\n",
       "  'MESH:D011167': 13,\n",
       "  'UP:Q9S7Z3': 12},\n",
       " 'f1': {'mean': 0.9659340659340658, 'std': 0.04690361407328684},\n",
       " 'precision': {'mean': 0.9401360544217686, 'std': 0.08099524389734541},\n",
       " 'recall': {'mean': 1.0, 'std': 0.0}}"
      ]
     },
     "execution_count": 77,
     "metadata": {},
     "output_type": "execute_result"
    }
   ],
   "source": [
    "classifier.stats"
   ]
  },
  {
   "cell_type": "code",
   "execution_count": 78,
   "metadata": {},
   "outputs": [],
   "source": [
    "disamb = AdeftDisambiguator(classifier, grounding_dict, names)"
   ]
  },
  {
   "cell_type": "code",
   "execution_count": 79,
   "metadata": {},
   "outputs": [],
   "source": [
    "d = disamb.disambiguate(shortform_texts)"
   ]
  },
  {
   "cell_type": "code",
   "execution_count": 86,
   "metadata": {},
   "outputs": [],
   "source": [
    "a = [text for pred, text in zip(d, shortform_texts)if pred[0].startswith('UP')]"
   ]
  },
  {
   "cell_type": "code",
   "execution_count": 87,
   "metadata": {},
   "outputs": [
    {
     "data": {
      "text/plain": [
       "23"
      ]
     },
     "execution_count": 87,
     "metadata": {},
     "output_type": "execute_result"
    }
   ],
   "source": [
    "len(a)"
   ]
  },
  {
   "cell_type": "code",
   "execution_count": 88,
   "metadata": {},
   "outputs": [
    {
     "data": {
      "text/plain": [
       "'The OsPCS2 exhibits root- and shoot-specific differential ratios of alternatively spliced transcripts in indica rice under Cd stress, and plays role in Cd and As stress tolerance and accumulation. Enzymatic activity of phytochelatin synthase (PCS) in plant produces phytochelatins, which help in sequestration of heavy metal(loid)s inside the cell vacuole to alleviate toxicity. Here we report that among the two PCS genes-OsPCS1 and OsPCS2 in indica rice (Oryza sativa) cultivar, the OsPCS2 produces an alternatively spliced OsPCS2b transcript that bears the unusual premature termination codon besides the canonically spliced OsPCS2a transcript. Root- and shoot-specific differential ratios of alternatively spliced OsPCS2a and OsPCS2b transcript expressions were observed under cadmium stress. Saccharomyces cerevisiae cells transformed with OsPCS2a exhibited increased cadmium (Cd) and arsenic (As) tolerance and accumulation, unlike the OsPCS2b transformed yeast cells. An intron-containing hairpin RNA-mediated gene silencing was carried out in endosperm-specific manner for efficient down-regulation of OsPCS genes in rice grains. Analysis of the transgenic rice lines grown under metal(loid) stress revealed almost complete absence of both OsPCS1 and OsPCS2 transcripts in the developing seeds coupled with the significant reduction in the content of Cd (~51%) and As (~35%) in grains compared with the non-transgenic plant. Taken together, the findings indicate towards a crucial role played by the tissue-specific alternative splicing and relative abundance of the OsPCS2 gene during heavy metal(loid) stress mitigation in rice plant.\\n'"
      ]
     },
     "execution_count": 88,
     "metadata": {},
     "output_type": "execute_result"
    }
   ],
   "source": [
    "a[16]"
   ]
  },
  {
   "cell_type": "code",
   "execution_count": 89,
   "metadata": {},
   "outputs": [],
   "source": [
    "disamb.dump('PCS', '../results')"
   ]
  },
  {
   "cell_type": "code",
   "execution_count": null,
   "metadata": {},
   "outputs": [],
   "source": [
    "from adeft.disambiguate import load_disambiguator"
   ]
  },
  {
   "cell_type": "code",
   "execution_count": null,
   "metadata": {},
   "outputs": [],
   "source": [
    "d = load_disambiguator('ARG', '../results')"
   ]
  },
  {
   "cell_type": "code",
   "execution_count": null,
   "metadata": {},
   "outputs": [],
   "source": [
    "d.disambiguate(texts[0])"
   ]
  },
  {
   "cell_type": "code",
   "execution_count": null,
   "metadata": {},
   "outputs": [],
   "source": [
    "print(d.info())"
   ]
  },
  {
   "cell_type": "code",
   "execution_count": null,
   "metadata": {},
   "outputs": [],
   "source": [
    "a = load_disambiguator('AR')"
   ]
  },
  {
   "cell_type": "code",
   "execution_count": null,
   "metadata": {},
   "outputs": [],
   "source": [
    "a.disambiguate('Androgen')"
   ]
  },
  {
   "cell_type": "code",
   "execution_count": null,
   "metadata": {},
   "outputs": [],
   "source": [
    "logit = d.classifier.estimator.named_steps['logit']"
   ]
  },
  {
   "cell_type": "code",
   "execution_count": null,
   "metadata": {},
   "outputs": [],
   "source": [
    "logit.classes_"
   ]
  },
  {
   "cell_type": "code",
   "execution_count": 90,
   "metadata": {},
   "outputs": [],
   "source": [
    "model_to_s3(disamb)"
   ]
  },
  {
   "cell_type": "code",
   "execution_count": null,
   "metadata": {},
   "outputs": [],
   "source": []
  }
 ],
 "metadata": {
  "kernelspec": {
   "display_name": "Python 3",
   "language": "python",
   "name": "python3"
  },
  "language_info": {
   "codemirror_mode": {
    "name": "ipython",
    "version": 3
   },
   "file_extension": ".py",
   "mimetype": "text/x-python",
   "name": "python",
   "nbconvert_exporter": "python",
   "pygments_lexer": "ipython3",
   "version": "3.7.5"
  }
 },
 "nbformat": 4,
 "nbformat_minor": 2
}
