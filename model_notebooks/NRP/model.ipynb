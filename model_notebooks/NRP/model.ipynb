{
 "cells": [
  {
   "cell_type": "code",
   "execution_count": 1,
   "metadata": {},
   "outputs": [],
   "source": [
    "import os\n",
    "import json\n",
    "import pickle\n",
    "import random\n",
    "from collections import defaultdict, Counter\n",
    "\n",
    "from indra.literature.adeft_tools import universal_extract_text\n",
    "from indra.databases.hgnc_client import get_hgnc_name, get_hgnc_id\n",
    "\n",
    "from adeft.discover import AdeftMiner\n",
    "from adeft.gui import ground_with_gui\n",
    "from adeft.modeling.label import AdeftLabeler\n",
    "from adeft.modeling.classify import AdeftClassifier\n",
    "from adeft.disambiguate import AdeftDisambiguator, load_disambiguator\n",
    "\n",
    "from indra_db_lite.api import get_entrez_pmids_for_hgnc\n",
    "from indra_db_lite.api import get_entrez_pmids_for_uniprot\n",
    "from indra_db_lite.api import get_plaintexts_for_text_ref_ids\n",
    "from indra_db_lite.api import get_text_ref_ids_for_agent_text\n",
    "from indra_db_lite.api import get_text_ref_ids_for_pmids\n",
    "\n",
    "\n",
    "from adeft_indra.grounding import AdeftGrounder\n",
    "from adeft_indra.s3 import model_to_s3\n",
    "from adeft_indra.model_building.escape import escape_filename"
   ]
  },
  {
   "cell_type": "code",
   "execution_count": 2,
   "metadata": {},
   "outputs": [],
   "source": [
    "def get_text_ref_ids_for_entity(ns, id_):\n",
    "    if ns == 'HGNC':\n",
    "        pmids = get_entrez_pmids_for_hgnc(id_)\n",
    "    elif ns == 'UP':\n",
    "        pmids = get_entrez_pmids_for_uniprot(id_)\n",
    "    return list(get_text_ref_ids_for_pmids(pmids).values())"
   ]
  },
  {
   "cell_type": "code",
   "execution_count": 3,
   "metadata": {},
   "outputs": [],
   "source": [
    "adeft_grounder = AdeftGrounder()"
   ]
  },
  {
   "cell_type": "code",
   "execution_count": 4,
   "metadata": {},
   "outputs": [],
   "source": [
    "shortforms = ['NRP', 'NRPs']\n",
    "model_name = ':'.join(sorted(escape_filename(shortform) for shortform in shortforms))\n",
    "results_path = os.path.abspath(os.path.join('../../', 'results', model_name))"
   ]
  },
  {
   "cell_type": "code",
   "execution_count": 5,
   "metadata": {},
   "outputs": [],
   "source": [
    "miners = dict()\n",
    "all_texts = {}\n",
    "for shortform in shortforms:\n",
    "    text_ref_ids = get_text_ref_ids_for_agent_text(shortform)\n",
    "    content = get_plaintexts_for_text_ref_ids(text_ref_ids, contains=shortforms)\n",
    "    text_dict = content.flatten()\n",
    "    miners[shortform] = AdeftMiner(shortform)\n",
    "    miners[shortform].process_texts(text_dict.values())\n",
    "    all_texts.update(text_dict)\n",
    "\n",
    "longform_dict = {}\n",
    "for shortform in shortforms:\n",
    "    longforms = miners[shortform].get_longforms()\n",
    "    longforms = [(longform, count, score) for longform, count, score in longforms\n",
    "                 if count*score > 2]\n",
    "    longform_dict[shortform] = longforms\n",
    "    \n",
    "combined_longforms = Counter()\n",
    "for longform_rows in longform_dict.values():\n",
    "    combined_longforms.update({longform: count for longform, count, score\n",
    "                               in longform_rows})\n",
    "grounding_map = {}\n",
    "names = {}\n",
    "for longform in combined_longforms:\n",
    "    groundings = adeft_grounder.ground(longform)\n",
    "    if groundings:\n",
    "        grounding = groundings[0]['grounding']\n",
    "        grounding_map[longform] = grounding\n",
    "        names[grounding] = groundings[0]['name']\n",
    "longforms, counts = zip(*combined_longforms.most_common())\n",
    "pos_labels = []"
   ]
  },
  {
   "cell_type": "code",
   "execution_count": 6,
   "metadata": {},
   "outputs": [
    {
     "data": {
      "text/plain": [
       "[('neuropilin', 19),\n",
       " ('nonribosomal peptides', 16),\n",
       " ('non ribosomal peptides', 14),\n",
       " ('no reflow phenomenon', 10),\n",
       " ('normothermic regional perfusion', 9),\n",
       " ('nucleolin related protein', 8),\n",
       " ('non ribosomal peptide', 7),\n",
       " ('nephrotic range proteinuria', 6),\n",
       " ('n rich protein', 6),\n",
       " ('neonatal resuscitation program', 5),\n",
       " ('nucleus raphe pallidus', 5),\n",
       " ('nemo related protein', 4),\n",
       " ('nonreplicating persistence', 4),\n",
       " ('non rephasing', 3),\n",
       " ('nonribosomal peptide', 3),\n",
       " ('nitroxide radical containing polymer', 3),\n",
       " ('non ribosomal synthesized peptides', 3)]"
      ]
     },
     "execution_count": 6,
     "metadata": {},
     "output_type": "execute_result"
    }
   ],
   "source": [
    "list(zip(longforms, counts))"
   ]
  },
  {
   "cell_type": "code",
   "execution_count": 7,
   "metadata": {},
   "outputs": [],
   "source": [
    "grounding_map, names, pos_labels = ground_with_gui(longforms, counts, \n",
    "                                                   grounding_map=grounding_map,\n",
    "                                                   names=names, pos_labels=pos_labels, no_browser=True, port=8890)"
   ]
  },
  {
   "cell_type": "code",
   "execution_count": 8,
   "metadata": {},
   "outputs": [],
   "source": [
    "result = [grounding_map, names, pos_labels]"
   ]
  },
  {
   "cell_type": "code",
   "execution_count": 9,
   "metadata": {},
   "outputs": [
    {
     "data": {
      "text/plain": [
       "[{'n rich protein': 'UP:Q8RXN8',\n",
       "  'nemo related protein': 'HGNC:17142',\n",
       "  'neonatal resuscitation program': 'ungrounded',\n",
       "  'nephrotic range proteinuria': 'HP:HP:0012593',\n",
       "  'neuropilin': 'MESH:D039921',\n",
       "  'nitroxide radical containing polymer': 'ungrounded',\n",
       "  'no reflow phenomenon': 'MESH:D054318',\n",
       "  'non rephasing': 'ungrounded',\n",
       "  'non ribosomal peptide': 'nonribosomal_peptides',\n",
       "  'non ribosomal peptides': 'nonribosomal_peptides',\n",
       "  'non ribosomal synthesized peptides': 'ungrounded',\n",
       "  'nonreplicating persistence': 'GO:GO:0085015',\n",
       "  'nonribosomal peptide': 'nonribosomal_peptides',\n",
       "  'nonribosomal peptides': 'nonribosomal_peptides',\n",
       "  'normothermic regional perfusion': 'ungrounded',\n",
       "  'nucleolin related protein': 'nucleolin_related_protein',\n",
       "  'nucleus raphe pallidus': 'MESH:D065848'},\n",
       " {'UP:Q8RXN8': 'NRP',\n",
       "  'HGNC:17142': 'OPTN',\n",
       "  'HP:HP:0012593': 'Nephrotic range proteinuria',\n",
       "  'MESH:D039921': 'Neuropilins',\n",
       "  'MESH:D054318': 'No-Reflow Phenomenon',\n",
       "  'nonribosomal_peptides': 'nonribosomal_peptides',\n",
       "  'GO:GO:0085015': 'dormancy maintenance of symbiont in host',\n",
       "  'nucleolin_related_protein': 'nucleolin_related_protein',\n",
       "  'MESH:D065848': 'Nucleus Raphe Pallidus'},\n",
       " ['MESH:D039921']]"
      ]
     },
     "execution_count": 9,
     "metadata": {},
     "output_type": "execute_result"
    }
   ],
   "source": [
    "result"
   ]
  },
  {
   "cell_type": "code",
   "execution_count": 12,
   "metadata": {},
   "outputs": [],
   "source": [
    "grounding_map, names, pos_labels = [\n",
    "    {'n rich protein': 'UP:Q8RXN8',\n",
    "  'nemo related protein': 'HGNC:17142',\n",
    "  'neonatal resuscitation program': 'ungrounded',\n",
    "  'nephrotic range proteinuria': 'HP:HP:0012593',\n",
    "  'neuropilin': 'MESH:D039921',\n",
    "  'nitroxide radical containing polymer': 'ungrounded',\n",
    "  'no reflow phenomenon': 'MESH:D054318',\n",
    "  'non rephasing': 'ungrounded',\n",
    "  'non ribosomal peptide': 'nonribosomal_peptides',\n",
    "  'non ribosomal peptides': 'nonribosomal_peptides',\n",
    "  'non ribosomal synthesized peptides': 'nonribosomal_peptides',\n",
    "  'nonreplicating persistence': 'GO:GO:0085015',\n",
    "  'nonribosomal peptide': 'nonribosomal_peptides',\n",
    "  'nonribosomal peptides': 'nonribosomal_peptides',\n",
    "  'normothermic regional perfusion': 'ungrounded',\n",
    "  'nucleolin related protein': 'nucleolin_related_protein',\n",
    "  'nucleus raphe pallidus': 'MESH:D065848'},\n",
    " {'UP:Q8RXN8': 'NRP',\n",
    "  'HGNC:17142': 'OPTN',\n",
    "  'HP:HP:0012593': 'Nephrotic range proteinuria',\n",
    "  'MESH:D039921': 'Neuropilins',\n",
    "  'MESH:D054318': 'No-Reflow Phenomenon',\n",
    "  'nonribosomal_peptides': 'nonribosomal_peptides',\n",
    "  'GO:GO:0085015': 'dormancy maintenance of symbiont in host',\n",
    "  'nucleolin_related_protein': 'nucleolin_related_protein',\n",
    "  'MESH:D065848': 'Nucleus Raphe Pallidus'},\n",
    " ['MESH:D039921']\n",
    "]\n"
   ]
  },
  {
   "cell_type": "code",
   "execution_count": 13,
   "metadata": {},
   "outputs": [],
   "source": [
    "excluded_longforms = []"
   ]
  },
  {
   "cell_type": "code",
   "execution_count": 14,
   "metadata": {},
   "outputs": [],
   "source": [
    "grounding_dict = {shortform: {longform: grounding_map[longform] \n",
    "                              for longform, _, _ in longforms if longform in grounding_map\n",
    "                              and longform not in excluded_longforms}\n",
    "                  for shortform, longforms in longform_dict.items()}\n",
    "result = [grounding_dict, names, pos_labels]\n",
    "\n",
    "if not os.path.exists(results_path):\n",
    "    os.mkdir(results_path)\n",
    "with open(os.path.join(results_path, f'{model_name}_preliminary_grounding_info.json'), 'w') as f:\n",
    "    json.dump(result, f)"
   ]
  },
  {
   "cell_type": "code",
   "execution_count": 16,
   "metadata": {},
   "outputs": [],
   "source": [
    "additional_entities = {\n",
    "    'HGNC:17142': ['OPTN', ['NRP', 'optineurin', 'OPTN']],\n",
    "    'HGNC:7637': ['NAP1L1', ['NRP', 'NAP1L1', 'NAP1', 'NAP1L']],\n",
    "    'UP:Q8RXN8': ['NRP', ['NRP']],\n",
    "}"
   ]
  },
  {
   "cell_type": "code",
   "execution_count": 17,
   "metadata": {},
   "outputs": [],
   "source": [
    "unambiguous_agent_texts = {}"
   ]
  },
  {
   "cell_type": "code",
   "execution_count": 18,
   "metadata": {},
   "outputs": [],
   "source": [
    "labeler = AdeftLabeler(grounding_dict)\n",
    "corpus = labeler.build_from_texts(\n",
    "    (text, text_ref_id) for text_ref_id, text in all_texts.items()\n",
    ")\n",
    "agent_text_text_ref_id_map = defaultdict(list)\n",
    "for text, label, id_ in corpus:\n",
    "    agent_text_text_ref_id_map[label].append(id_)\n",
    "\n",
    "entity_text_ref_id_map = {\n",
    "    entity: set(\n",
    "        get_text_ref_ids_for_entity(*entity.split(':', maxsplit=1))\n",
    "    )\n",
    "    for entity in additional_entities\n",
    "}"
   ]
  },
  {
   "cell_type": "code",
   "execution_count": 19,
   "metadata": {},
   "outputs": [],
   "source": [
    "intersection1 = []\n",
    "for entity1, trids1 in entity_text_ref_id_map.items():\n",
    "    for entity2, trids2 in entity_text_ref_id_map.items():\n",
    "        intersection1.append((entity1, entity2, len(trids1 & trids2)))"
   ]
  },
  {
   "cell_type": "code",
   "execution_count": 20,
   "metadata": {},
   "outputs": [],
   "source": [
    "intersection2 = []\n",
    "for entity1, trids1 in agent_text_text_ref_id_map.items():\n",
    "    for entity2, pmids2 in entity_text_ref_id_map.items():\n",
    "        intersection2.append((entity1, entity2, len(set(trids1) & trids2)))"
   ]
  },
  {
   "cell_type": "code",
   "execution_count": 21,
   "metadata": {},
   "outputs": [
    {
     "data": {
      "text/plain": [
       "[('HGNC:17142', 'HGNC:17142', 249),\n",
       " ('HGNC:17142', 'HGNC:7637', 15),\n",
       " ('HGNC:17142', 'UP:Q8RXN8', 0),\n",
       " ('HGNC:7637', 'HGNC:17142', 15),\n",
       " ('HGNC:7637', 'HGNC:7637', 177),\n",
       " ('HGNC:7637', 'UP:Q8RXN8', 0),\n",
       " ('UP:Q8RXN8', 'HGNC:17142', 0),\n",
       " ('UP:Q8RXN8', 'HGNC:7637', 0),\n",
       " ('UP:Q8RXN8', 'UP:Q8RXN8', 7)]"
      ]
     },
     "execution_count": 21,
     "metadata": {},
     "output_type": "execute_result"
    }
   ],
   "source": [
    "intersection1"
   ]
  },
  {
   "cell_type": "code",
   "execution_count": 22,
   "metadata": {},
   "outputs": [
    {
     "data": {
      "text/plain": [
       "[('HGNC:17142', 'HGNC:17142', 0),\n",
       " ('HGNC:17142', 'HGNC:7637', 0),\n",
       " ('HGNC:17142', 'UP:Q8RXN8', 0),\n",
       " ('nonribosomal_peptides', 'HGNC:17142', 0),\n",
       " ('nonribosomal_peptides', 'HGNC:7637', 0),\n",
       " ('nonribosomal_peptides', 'UP:Q8RXN8', 0),\n",
       " ('UP:Q8RXN8', 'HGNC:17142', 0),\n",
       " ('UP:Q8RXN8', 'HGNC:7637', 0),\n",
       " ('UP:Q8RXN8', 'UP:Q8RXN8', 0),\n",
       " ('MESH:D065848', 'HGNC:17142', 0),\n",
       " ('MESH:D065848', 'HGNC:7637', 0),\n",
       " ('MESH:D065848', 'UP:Q8RXN8', 0),\n",
       " ('MESH:D039921', 'HGNC:17142', 0),\n",
       " ('MESH:D039921', 'HGNC:7637', 0),\n",
       " ('MESH:D039921', 'UP:Q8RXN8', 0),\n",
       " ('ungrounded', 'HGNC:17142', 0),\n",
       " ('ungrounded', 'HGNC:7637', 0),\n",
       " ('ungrounded', 'UP:Q8RXN8', 0),\n",
       " ('nucleolin_related_protein', 'HGNC:17142', 0),\n",
       " ('nucleolin_related_protein', 'HGNC:7637', 0),\n",
       " ('nucleolin_related_protein', 'UP:Q8RXN8', 0),\n",
       " ('MESH:D054318', 'HGNC:17142', 0),\n",
       " ('MESH:D054318', 'HGNC:7637', 0),\n",
       " ('MESH:D054318', 'UP:Q8RXN8', 0),\n",
       " ('GO:GO:0085015', 'HGNC:17142', 0),\n",
       " ('GO:GO:0085015', 'HGNC:7637', 0),\n",
       " ('GO:GO:0085015', 'UP:Q8RXN8', 0),\n",
       " ('HP:HP:0012593', 'HGNC:17142', 0),\n",
       " ('HP:HP:0012593', 'HGNC:7637', 0),\n",
       " ('HP:HP:0012593', 'UP:Q8RXN8', 0)]"
      ]
     },
     "execution_count": 22,
     "metadata": {},
     "output_type": "execute_result"
    }
   ],
   "source": [
    "intersection2"
   ]
  },
  {
   "cell_type": "code",
   "execution_count": 23,
   "metadata": {},
   "outputs": [],
   "source": [
    "all_used_trids = set()\n",
    "for entity, agent_texts in unambiguous_agent_texts.items():\n",
    "    used_trids = set()\n",
    "    for agent_text in agent_texts[1]:\n",
    "        trids = set(get_text_ref_ids_for_agent_text(agent_text))\n",
    "        new_trids = list(trids - all_texts.keys() - used_trids)\n",
    "        content = get_plaintexts_for_text_ref_ids(new_trids, contains=agent_texts[1])\n",
    "        text_dict = content.flatten()\n",
    "        corpus.extend(\n",
    "            [\n",
    "                (text, entity, trid) for trid, text in text_dict.items() if len(text) >= 5\n",
    "            ]\n",
    "        )\n",
    "        used_trids.update(new_trids)\n",
    "    all_used_trids.update(used_trids)\n",
    "        \n",
    "for entity, trids in entity_text_ref_id_map.items():\n",
    "    new_trids = list(set(trids) - all_texts.keys() - all_used_trids)\n",
    "    _, contains = additional_entities[entity]\n",
    "    content = get_plaintexts_for_text_ref_ids(new_trids, contains=contains)\n",
    "    text_dict = content.flatten()\n",
    "    corpus.extend(\n",
    "        [\n",
    "            (text, entity, trid) for trid, text in text_dict.items() if len(text) >= 5\n",
    "        ]\n",
    "    )"
   ]
  },
  {
   "cell_type": "code",
   "execution_count": 24,
   "metadata": {},
   "outputs": [],
   "source": [
    "names.update({key: value[0] for key, value in additional_entities.items()})\n",
    "names.update({key: value[0] for key, value in unambiguous_agent_texts.items()})\n",
    "pos_labels = list(set(pos_labels) | additional_entities.keys() |\n",
    "                  unambiguous_agent_texts.keys())"
   ]
  },
  {
   "cell_type": "code",
   "execution_count": 25,
   "metadata": {},
   "outputs": [
    {
     "name": "stderr",
     "output_type": "stream",
     "text": [
      "INFO: [2021-10-08 17:12:48] /adeft/Py/adeft/adeft/modeling/classify.py - Beginning grid search in parameter space:\n",
      "{'C': [100.0], 'max_features': [10000]}\n",
      "INFO: [2021-10-08 17:12:55] /adeft/Py/adeft/adeft/modeling/classify.py - Best f1 score of 0.976084920769895 found for parameter values:\n",
      "{'logit__C': 100.0, 'tfidf__max_features': 10000}\n"
     ]
    }
   ],
   "source": [
    "%%capture\n",
    "\n",
    "classifier = AdeftClassifier(shortforms, pos_labels=pos_labels, random_state=1729)\n",
    "param_grid = {'C': [100.0], 'max_features': [10000]}\n",
    "texts, labels, pmids = zip(*corpus)\n",
    "classifier.cv(texts, labels, param_grid, cv=5, n_jobs=5)"
   ]
  },
  {
   "cell_type": "code",
   "execution_count": 26,
   "metadata": {
    "scrolled": true
   },
   "outputs": [
    {
     "data": {
      "text/plain": [
       "{'label_distribution': {'HGNC:17142': 175,\n",
       "  'nonribosomal_peptides': 39,\n",
       "  'UP:Q8RXN8': 6,\n",
       "  'MESH:D065848': 4,\n",
       "  'MESH:D039921': 23,\n",
       "  'ungrounded': 14,\n",
       "  'nucleolin_related_protein': 2,\n",
       "  'MESH:D054318': 3,\n",
       "  'GO:GO:0085015': 3,\n",
       "  'HP:HP:0012593': 2,\n",
       "  'HGNC:7637': 20},\n",
       " 'f1': {'mean': 0.976085, 'std': 0.016823},\n",
       " 'precision': {'mean': 0.962508, 'std': 0.03427},\n",
       " 'recall': {'mean': 0.990909, 'std': 0.011134},\n",
       " 'GO:GO:0085015': {'f1': {'mean': 0.4, 'std': 0.489898},\n",
       "  'pr': {'mean': 0.4, 'std': 0.489898},\n",
       "  'rc': {'mean': 0.4, 'std': 0.489898}},\n",
       " 'HGNC:17142': {'f1': {'mean': 0.975477, 'std': 0.02283},\n",
       "  'pr': {'mean': 1.0, 'std': 0.0},\n",
       "  'rc': {'mean': 0.953078, 'std': 0.042619}},\n",
       " 'HGNC:7637': {'f1': {'mean': 0.942857, 'std': 0.069985},\n",
       "  'pr': {'mean': 0.9, 'std': 0.122474},\n",
       "  'rc': {'mean': 1.0, 'std': 0.0}},\n",
       " 'HP:HP:0012593': {'f1': {'mean': 0.0, 'std': 0.0},\n",
       "  'pr': {'mean': 0.0, 'std': 0.0},\n",
       "  'rc': {'mean': 0.0, 'std': 0.0}},\n",
       " 'MESH:D039921': {'f1': {'mean': 1.0, 'std': 0.0},\n",
       "  'pr': {'mean': 1.0, 'std': 0.0},\n",
       "  'rc': {'mean': 1.0, 'std': 0.0}},\n",
       " 'MESH:D054318': {'f1': {'mean': 0.4, 'std': 0.489898},\n",
       "  'pr': {'mean': 0.4, 'std': 0.489898},\n",
       "  'rc': {'mean': 0.4, 'std': 0.489898}},\n",
       " 'MESH:D065848': {'f1': {'mean': 0.6, 'std': 0.489898},\n",
       "  'pr': {'mean': 0.6, 'std': 0.489898},\n",
       "  'rc': {'mean': 0.6, 'std': 0.489898}},\n",
       " 'UP:Q8RXN8': {'f1': {'mean': 1.0, 'std': 0.0},\n",
       "  'pr': {'mean': 1.0, 'std': 0.0},\n",
       "  'rc': {'mean': 1.0, 'std': 0.0}},\n",
       " 'nonribosomal_peptides': {'f1': {'mean': 0.951373, 'std': 0.024503},\n",
       "  'pr': {'mean': 0.975, 'std': 0.05},\n",
       "  'rc': {'mean': 0.933333, 'std': 0.054433}},\n",
       " 'nucleolin_related_protein': {'f1': {'mean': 0.0, 'std': 0.0},\n",
       "  'pr': {'mean': 0.0, 'std': 0.0},\n",
       "  'rc': {'mean': 0.0, 'std': 0.0}},\n",
       " 'ungrounded': {'f1': {'mean': 0.831429, 'std': 0.183481},\n",
       "  'pr': {'mean': 0.8, 'std': 0.266667},\n",
       "  'rc': {'mean': 0.95, 'std': 0.1}}}"
      ]
     },
     "execution_count": 26,
     "metadata": {},
     "output_type": "execute_result"
    }
   ],
   "source": [
    "classifier.stats"
   ]
  },
  {
   "cell_type": "code",
   "execution_count": 27,
   "metadata": {},
   "outputs": [],
   "source": [
    "disamb = AdeftDisambiguator(classifier, grounding_dict, names)"
   ]
  },
  {
   "cell_type": "code",
   "execution_count": 28,
   "metadata": {},
   "outputs": [],
   "source": [
    "disamb.dump(model_name, results_path)"
   ]
  },
  {
   "cell_type": "code",
   "execution_count": 29,
   "metadata": {},
   "outputs": [
    {
     "name": "stdout",
     "output_type": "stream",
     "text": [
      "Disambiguation model for NRP, and NRPs\n",
      "\n",
      "Produces the disambiguations:\n",
      "\tNAP1L1*\tHGNC:7637\n",
      "\tNRP*\tUP:Q8RXN8\n",
      "\tNephrotic range proteinuria\tHP:HP:0012593\n",
      "\tNeuropilins*\tMESH:D039921\n",
      "\tNo-Reflow Phenomenon\tMESH:D054318\n",
      "\tNucleus Raphe Pallidus\tMESH:D065848\n",
      "\tOPTN*\tHGNC:17142\n",
      "\tdormancy maintenance of symbiont in host\tGO:GO:0085015\n",
      "\tnonribosomal_peptides\tnonribosomal_peptides\n",
      "\tnucleolin_related_protein\tnucleolin_related_protein\n",
      "\n",
      "Class level metrics:\n",
      "--------------------\n",
      "Grounding                               \tCount\tF1     \n",
      "                                    OPTN*\t175\t0.97548\n",
      "                   nonribosomal_peptides\t 39\t0.95137\n",
      "                             Neuropilins*\t 23\t    1.0\n",
      "                                  NAP1L1*\t 20\t0.94286\n",
      "                              Ungrounded\t 14\t0.83143\n",
      "                                     NRP*\t  6\t    1.0\n",
      "                  Nucleus Raphe Pallidus\t  4\t    0.6\n",
      "                    No-Reflow Phenomenon\t  3\t    0.4\n",
      "dormancy maintenance of symbiont in host\t  3\t    0.4\n",
      "               nucleolin_related_protein\t  2\t    0.0\n",
      "             Nephrotic range proteinuria\t  2\t    0.0\n",
      "\n",
      "Global Metrics:\n",
      "-----------------\n",
      "\tF1 score:\t0.97608\n",
      "\tPrecision:\t0.96251\n",
      "\tRecall:\t\t0.99091\n",
      "\n",
      "* Positive labels\n",
      "See Docstring for explanation\n",
      "\n"
     ]
    }
   ],
   "source": [
    "print(disamb.info())"
   ]
  },
  {
   "cell_type": "code",
   "execution_count": 30,
   "metadata": {},
   "outputs": [],
   "source": [
    "model_to_s3(disamb)"
   ]
  },
  {
   "cell_type": "code",
   "execution_count": 26,
   "metadata": {},
   "outputs": [],
   "source": [
    "from adeft.disambiguate import load_disambiguator"
   ]
  },
  {
   "cell_type": "code",
   "execution_count": 27,
   "metadata": {},
   "outputs": [],
   "source": [
    "disamb = load_disambiguator(\"BAL\")"
   ]
  },
  {
   "cell_type": "code",
   "execution_count": 28,
   "metadata": {},
   "outputs": [
    {
     "data": {
      "text/plain": [
       "<adeft.disambiguate.AdeftDisambiguator at 0x7f4f001b33a0>"
      ]
     },
     "execution_count": 28,
     "metadata": {},
     "output_type": "execute_result"
    }
   ],
   "source": [
    "disamb"
   ]
  },
  {
   "cell_type": "code",
   "execution_count": 29,
   "metadata": {},
   "outputs": [
    {
     "name": "stdout",
     "output_type": "stream",
     "text": [
      "Disambiguation model for BAL\n",
      "\n",
      "Produces the disambiguations:\n",
      "\tBronchoalveolar Lavage\tMESH:D018893\n",
      "\tCEL*\tHGNC:1848\n",
      "\tLiver, Artificial\tMESH:D019164\n",
      "\tbenzaldehyde lyase*\tMESH:C059416\n",
      "\tbetaine aldehyde*\tCHEBI:CHEBI:15710\n",
      "\tdimercaprol*\tCHEBI:CHEBI:64198\n",
      "\n",
      "Class level metrics:\n",
      "--------------------\n",
      "Grounding             \tCount\tF1     \n",
      "Bronchoalveolar Lavage\t1259\t 0.9929\n",
      "                   CEL*\t  36\t    1.0\n",
      "     Liver, Artificial\t  18\t0.83619\n",
      "            Ungrounded\t  17\t   0.65\n",
      "           dimercaprol*\t   8\t    0.4\n",
      "    benzaldehyde lyase*\t   3\t    0.2\n",
      "      betaine aldehyde*\t   2\t    0.2\n",
      "\n",
      "Global Metrics:\n",
      "-----------------\n",
      "\tF1 score:\t0.90773\n",
      "\tPrecision:\t1.0\n",
      "\tRecall:\t\t0.83293\n",
      "\n",
      "* Positive labels\n",
      "See Docstring for explanation\n",
      "\n"
     ]
    },
    {
     "name": "stderr",
     "output_type": "stream",
     "text": [
      "/adeft/.virtualenvs/py38/lib/python3.8/site-packages/sklearn/metrics/_classification.py:1248: UndefinedMetricWarning: Precision is ill-defined and being set to 0.0 due to no predicted samples. Use `zero_division` parameter to control this behavior.\n",
      "  _warn_prf(average, modifier, msg_start, len(result))\n",
      "/adeft/.virtualenvs/py38/lib/python3.8/site-packages/sklearn/metrics/_classification.py:1495: UndefinedMetricWarning: F-score is ill-defined and being set to 0.0 due to no true nor predicted samples. Use `zero_division` parameter to control this behavior.\n",
      "  _warn_prf(\n",
      "/adeft/.virtualenvs/py38/lib/python3.8/site-packages/sklearn/metrics/_classification.py:1248: UndefinedMetricWarning: Recall is ill-defined and being set to 0.0 due to no true samples. Use `zero_division` parameter to control this behavior.\n",
      "  _warn_prf(average, modifier, msg_start, len(result))\n",
      "/adeft/.virtualenvs/py38/lib/python3.8/site-packages/sklearn/metrics/_classification.py:1248: UndefinedMetricWarning: Precision is ill-defined and being set to 0.0 due to no predicted samples. Use `zero_division` parameter to control this behavior.\n",
      "  _warn_prf(average, modifier, msg_start, len(result))\n",
      "/adeft/.virtualenvs/py38/lib/python3.8/site-packages/sklearn/metrics/_classification.py:1495: UndefinedMetricWarning: F-score is ill-defined and being set to 0.0 due to no true nor predicted samples. Use `zero_division` parameter to control this behavior.\n",
      "  _warn_prf(\n",
      "/adeft/.virtualenvs/py38/lib/python3.8/site-packages/sklearn/metrics/_classification.py:1248: UndefinedMetricWarning: Recall is ill-defined and being set to 0.0 due to no true samples. Use `zero_division` parameter to control this behavior.\n",
      "  _warn_prf(average, modifier, msg_start, len(result))\n",
      "/adeft/.virtualenvs/py38/lib/python3.8/site-packages/sklearn/metrics/_classification.py:1248: UndefinedMetricWarning: Precision is ill-defined and being set to 0.0 due to no predicted samples. Use `zero_division` parameter to control this behavior.\n",
      "  _warn_prf(average, modifier, msg_start, len(result))\n",
      "/adeft/.virtualenvs/py38/lib/python3.8/site-packages/sklearn/metrics/_classification.py:1248: UndefinedMetricWarning: Precision is ill-defined and being set to 0.0 due to no predicted samples. Use `zero_division` parameter to control this behavior.\n",
      "  _warn_prf(average, modifier, msg_start, len(result))\n",
      "/adeft/.virtualenvs/py38/lib/python3.8/site-packages/sklearn/metrics/_classification.py:1495: UndefinedMetricWarning: F-score is ill-defined and being set to 0.0 due to no true nor predicted samples. Use `zero_division` parameter to control this behavior.\n",
      "  _warn_prf(\n",
      "/adeft/.virtualenvs/py38/lib/python3.8/site-packages/sklearn/metrics/_classification.py:1248: UndefinedMetricWarning: Recall is ill-defined and being set to 0.0 due to no true samples. Use `zero_division` parameter to control this behavior.\n",
      "  _warn_prf(average, modifier, msg_start, len(result))\n",
      "/adeft/.virtualenvs/py38/lib/python3.8/site-packages/sklearn/metrics/_classification.py:1248: UndefinedMetricWarning: Precision is ill-defined and being set to 0.0 due to no predicted samples. Use `zero_division` parameter to control this behavior.\n",
      "  _warn_prf(average, modifier, msg_start, len(result))\n",
      "/adeft/.virtualenvs/py38/lib/python3.8/site-packages/sklearn/metrics/_classification.py:1495: UndefinedMetricWarning: F-score is ill-defined and being set to 0.0 due to no true nor predicted samples. Use `zero_division` parameter to control this behavior.\n",
      "  _warn_prf(\n",
      "/adeft/.virtualenvs/py38/lib/python3.8/site-packages/sklearn/metrics/_classification.py:1248: UndefinedMetricWarning: Recall is ill-defined and being set to 0.0 due to no true samples. Use `zero_division` parameter to control this behavior.\n",
      "  _warn_prf(average, modifier, msg_start, len(result))\n",
      "/adeft/.virtualenvs/py38/lib/python3.8/site-packages/sklearn/metrics/_classification.py:1248: UndefinedMetricWarning: Precision is ill-defined and being set to 0.0 due to no predicted samples. Use `zero_division` parameter to control this behavior.\n",
      "  _warn_prf(average, modifier, msg_start, len(result))\n",
      "/adeft/.virtualenvs/py38/lib/python3.8/site-packages/sklearn/metrics/_classification.py:1248: UndefinedMetricWarning: Precision is ill-defined and being set to 0.0 due to no predicted samples. Use `zero_division` parameter to control this behavior.\n",
      "  _warn_prf(average, modifier, msg_start, len(result))\n",
      "/adeft/.virtualenvs/py38/lib/python3.8/site-packages/sklearn/metrics/_classification.py:1495: UndefinedMetricWarning: F-score is ill-defined and being set to 0.0 due to no true nor predicted samples. Use `zero_division` parameter to control this behavior.\n",
      "  _warn_prf(\n",
      "/adeft/.virtualenvs/py38/lib/python3.8/site-packages/sklearn/metrics/_classification.py:1248: UndefinedMetricWarning: Recall is ill-defined and being set to 0.0 due to no true samples. Use `zero_division` parameter to control this behavior.\n",
      "  _warn_prf(average, modifier, msg_start, len(result))\n",
      "/adeft/.virtualenvs/py38/lib/python3.8/site-packages/sklearn/metrics/_classification.py:1248: UndefinedMetricWarning: Precision is ill-defined and being set to 0.0 due to no predicted samples. Use `zero_division` parameter to control this behavior.\n",
      "  _warn_prf(average, modifier, msg_start, len(result))\n",
      "/adeft/.virtualenvs/py38/lib/python3.8/site-packages/sklearn/metrics/_classification.py:1248: UndefinedMetricWarning: Precision is ill-defined and being set to 0.0 due to no predicted samples. Use `zero_division` parameter to control this behavior.\n",
      "  _warn_prf(average, modifier, msg_start, len(result))\n"
     ]
    }
   ],
   "source": [
    "print(_28.info())"
   ]
  },
  {
   "cell_type": "code",
   "execution_count": null,
   "metadata": {},
   "outputs": [],
   "source": []
  }
 ],
 "metadata": {
  "kernelspec": {
   "display_name": "Python 3 (ipykernel)",
   "language": "python",
   "name": "python3"
  },
  "language_info": {
   "codemirror_mode": {
    "name": "ipython",
    "version": 3
   },
   "file_extension": ".py",
   "mimetype": "text/x-python",
   "name": "python",
   "nbconvert_exporter": "python",
   "pygments_lexer": "ipython3",
   "version": "3.8.7"
  }
 },
 "nbformat": 4,
 "nbformat_minor": 2
}
