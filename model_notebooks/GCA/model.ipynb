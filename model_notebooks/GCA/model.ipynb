{
 "cells": [
  {
   "cell_type": "code",
   "execution_count": 1,
   "metadata": {},
   "outputs": [],
   "source": [
    "import os\n",
    "import json\n",
    "import pickle\n",
    "import random\n",
    "from collections import defaultdict, Counter\n",
    "\n",
    "from indra.literature.adeft_tools import universal_extract_text\n",
    "from indra.databases.hgnc_client import get_hgnc_name, get_hgnc_id\n",
    "\n",
    "from adeft.discover import AdeftMiner\n",
    "from adeft.gui import ground_with_gui\n",
    "from adeft.modeling.label import AdeftLabeler\n",
    "from adeft.modeling.classify import AdeftClassifier\n",
    "from adeft.disambiguate import AdeftDisambiguator\n",
    "\n",
    "\n",
    "from adeft_indra.ground.ground import AdeftGrounder\n",
    "from adeft_indra.model_building.s3 import model_to_s3\n",
    "from adeft_indra.model_building.escape import escape_filename\n",
    "from adeft_indra.db.content import get_pmids_for_agent_text, get_pmids_for_entity, \\\n",
    "    get_plaintexts_for_pmids"
   ]
  },
  {
   "cell_type": "code",
   "execution_count": 2,
   "metadata": {},
   "outputs": [],
   "source": [
    "adeft_grounder = AdeftGrounder()"
   ]
  },
  {
   "cell_type": "code",
   "execution_count": 3,
   "metadata": {},
   "outputs": [],
   "source": [
    "shortforms = ['GCA']\n",
    "model_name = ':'.join(sorted(escape_filename(shortform) for shortform in shortforms))\n",
    "results_path = os.path.abspath(os.path.join('../..', 'results', model_name))"
   ]
  },
  {
   "cell_type": "code",
   "execution_count": 4,
   "metadata": {},
   "outputs": [],
   "source": [
    "miners = dict()\n",
    "all_texts = {}\n",
    "for shortform in shortforms:\n",
    "    pmids = get_pmids_for_agent_text(shortform)\n",
    "    if len(pmids) > 10000:\n",
    "        pmids = random.choices(pmids, k=10000)\n",
    "    text_dict = get_plaintexts_for_pmids(pmids, contains=shortforms)\n",
    "    text_dict = {pmid: text for pmid, text in text_dict.items() if len(text) > 5}\n",
    "    miners[shortform] = AdeftMiner(shortform)\n",
    "    miners[shortform].process_texts(text_dict.values())\n",
    "    all_texts.update(text_dict)\n",
    "\n",
    "longform_dict = {}\n",
    "for shortform in shortforms:\n",
    "    longforms = miners[shortform].get_longforms()\n",
    "    longforms = [(longform, count, score) for longform, count, score in longforms\n",
    "                 if count*score > 2]\n",
    "    longform_dict[shortform] = longforms\n",
    "    \n",
    "combined_longforms = Counter()\n",
    "for longform_rows in longform_dict.values():\n",
    "    combined_longforms.update({longform: count for longform, count, score\n",
    "                               in longform_rows})\n",
    "grounding_map = {}\n",
    "names = {}\n",
    "for longform in combined_longforms:\n",
    "    groundings = adeft_grounder.ground(longform)\n",
    "    if groundings:\n",
    "        grounding = groundings[0]['grounding']\n",
    "        grounding_map[longform] = grounding\n",
    "        names[grounding] = groundings[0]['name']\n",
    "longforms, counts = zip(*combined_longforms.most_common())\n",
    "pos_labels = []"
   ]
  },
  {
   "cell_type": "code",
   "execution_count": 5,
   "metadata": {},
   "outputs": [
    {
     "data": {
      "text/plain": [
       "[('giant cell arteritis', 194),\n",
       " ('gastric cardia adenocarcinoma', 45),\n",
       " ('golgicide a', 31),\n",
       " ('glycocholic acid', 25),\n",
       " ('general cognitive ability', 24),\n",
       " ('general combining ability', 15),\n",
       " ('gastric cardiac adenocarcinoma', 13),\n",
       " ('guanylyl cyclase a', 5),\n",
       " ('glycyrrhizic acid', 5),\n",
       " ('germ cell apoptosis', 3),\n",
       " ('granulated coal ash', 3),\n",
       " ('gastric cancer', 3),\n",
       " ('german cockroach', 3),\n",
       " ('gastric cardiac carcinoma', 3)]"
      ]
     },
     "execution_count": 5,
     "metadata": {},
     "output_type": "execute_result"
    }
   ],
   "source": [
    "list(zip(longforms, counts))"
   ]
  },
  {
   "cell_type": "code",
   "execution_count": 22,
   "metadata": {},
   "outputs": [
    {
     "name": "stderr",
     "output_type": "stream",
     "text": [
      "INFO: [2020-10-26 02:12:48] indra.ontology.bio.ontology - Loading INDRA bio ontology from cache at /home/ubuntu/.indra/bio_ontology/1.4/bio_ontology.pkl\n"
     ]
    }
   ],
   "source": [
    "grounding_map, names, pos_labels = ground_with_gui(longforms, counts, \n",
    "                                                   grounding_map=grounding_map,\n",
    "                                                   names=names, pos_labels=pos_labels, no_browser=True, port=8891)"
   ]
  },
  {
   "cell_type": "code",
   "execution_count": 23,
   "metadata": {},
   "outputs": [],
   "source": [
    "result = [grounding_map, names, pos_labels]"
   ]
  },
  {
   "cell_type": "code",
   "execution_count": 24,
   "metadata": {},
   "outputs": [
    {
     "data": {
      "text/plain": [
       "[{'gastric cancer': 'NCIT:C5247',\n",
       "  'gastric cardia adenocarcinoma': 'NCIT:C5247',\n",
       "  'gastric cardiac adenocarcinoma': 'NCIT:C5247',\n",
       "  'gastric cardiac carcinoma': 'NCIT:C5247',\n",
       "  'general cognitive ability': 'ungrounded',\n",
       "  'general combining ability': 'ungrounded',\n",
       "  'germ cell apoptosis': 'ungrounded',\n",
       "  'german cockroach': 'MESH:D020048',\n",
       "  'giant cell arteritis': 'MESH:D013700',\n",
       "  'glycocholic acid': 'CHEBI:CHEBI:17687',\n",
       "  'glycyrrhizic acid': 'MESH:D019695',\n",
       "  'golgicide a': 'CHEBI:CHEBI:139037',\n",
       "  'granulated coal ash': 'ungrounded',\n",
       "  'guanylyl cyclase a': 'HGNC:7946'},\n",
       " {'NCIT:C5247': 'Gastric Cardia Adenocarcinoma',\n",
       "  'MESH:D020048': 'Blattellidae',\n",
       "  'MESH:D013700': 'Giant Cell Arteritis',\n",
       "  'CHEBI:CHEBI:17687': 'glycocholic acid',\n",
       "  'MESH:D019695': 'Glycyrrhizic Acid',\n",
       "  'CHEBI:CHEBI:139037': 'golgicide A',\n",
       "  'HGNC:7946': 'NPR1'},\n",
       " ['CHEBI:CHEBI:139037',\n",
       "  'CHEBI:CHEBI:17687',\n",
       "  'HGNC:7946',\n",
       "  'MESH:D013700',\n",
       "  'MESH:D019695',\n",
       "  'MESH:D020048',\n",
       "  'NCIT:C5247']]"
      ]
     },
     "execution_count": 24,
     "metadata": {},
     "output_type": "execute_result"
    }
   ],
   "source": [
    "result"
   ]
  },
  {
   "cell_type": "code",
   "execution_count": 14,
   "metadata": {},
   "outputs": [],
   "source": [
    "grounding_map, names, pos_labels = [{'gastric cancer': 'NCIT:C5247',\n",
    "  'gastric cardia adenocarcinoma': 'NCIT:C5247',\n",
    "  'gastric cardiac adenocarcinoma': 'NCIT:C5247',\n",
    "  'gastric cardiac carcinoma': 'NCIT:C5247',\n",
    "  'general cognitive ability': 'ungrounded',\n",
    "  'general combining ability': 'ungrounded',\n",
    "  'germ cell apoptosis': 'ungrounded',\n",
    "  'german cockroach': 'MESH:D020048',\n",
    "  'giant cell arteritis': 'MESH:D013700',\n",
    "  'glycocholic acid': 'CHEBI:CHEBI:17687',\n",
    "  'glycyrrhizic acid': 'MESH:D019695',\n",
    "  'golgicide a': 'CHEBI:CHEBI:139037',\n",
    "  'granulated coal ash': 'ungrounded',\n",
    "  'guanylyl cyclase a': 'HGNC:7943'},\n",
    " {'NCIT:C5247': 'Gastric Cardia Adenocarcinoma',\n",
    "  'MESH:D020048': 'Blattellidae',\n",
    "  'MESH:D013700': 'Giant Cell Arteritis',\n",
    "  'CHEBI:CHEBI:17687': 'glycocholic acid',\n",
    "  'MESH:D019695': 'Glycyrrhizic Acid',\n",
    "  'CHEBI:CHEBI:139037': 'golgicide A',\n",
    "  'HGNC:7943': 'NPR1'},\n",
    " ['CHEBI:CHEBI:139037',\n",
    "  'CHEBI:CHEBI:17687',\n",
    "  'HGNC:7943',\n",
    "  'MESH:D013700',\n",
    "  'MESH:D019695',\n",
    "  'MESH:D020048',\n",
    "  'NCIT:C5247']]"
   ]
  },
  {
   "cell_type": "code",
   "execution_count": 15,
   "metadata": {},
   "outputs": [],
   "source": [
    "excluded_longforms = []"
   ]
  },
  {
   "cell_type": "code",
   "execution_count": 16,
   "metadata": {},
   "outputs": [],
   "source": [
    "grounding_dict = {shortform: {longform: grounding_map[longform] \n",
    "                              for longform, _, _ in longforms if longform in grounding_map\n",
    "                              and longform not in excluded_longforms}\n",
    "                  for shortform, longforms in longform_dict.items()}\n",
    "result = [grounding_dict, names, pos_labels]\n",
    "\n",
    "if not os.path.exists(results_path):\n",
    "    os.mkdir(results_path)\n",
    "with open(os.path.join(results_path, f'{model_name}_preliminary_grounding_info.json'), 'w') as f:\n",
    "    json.dump(result, f)"
   ]
  },
  {
   "cell_type": "code",
   "execution_count": 17,
   "metadata": {},
   "outputs": [],
   "source": [
    "additional_entities = {'HGNC:7943': ['NPR1', ['GCA', 'guanylate cyclase']]}"
   ]
  },
  {
   "cell_type": "code",
   "execution_count": 18,
   "metadata": {},
   "outputs": [],
   "source": [
    "unambiguous_agent_texts = {}"
   ]
  },
  {
   "cell_type": "code",
   "execution_count": 19,
   "metadata": {},
   "outputs": [],
   "source": [
    "labeler = AdeftLabeler(grounding_dict)\n",
    "corpus = labeler.build_from_texts((text, pmid) for pmid, text in all_texts.items())\n",
    "agent_text_pmid_map = defaultdict(list)\n",
    "for text, label, id_ in corpus:\n",
    "    agent_text_pmid_map[label].append(id_)\n",
    "\n",
    "entity_pmid_map = {entity: set(get_pmids_for_entity(*entity.split(':', maxsplit=1),\n",
    "                                                major_topic=True))for entity in additional_entities}"
   ]
  },
  {
   "cell_type": "code",
   "execution_count": 20,
   "metadata": {},
   "outputs": [],
   "source": [
    "intersection1 = []\n",
    "for entity1, pmids1 in entity_pmid_map.items():\n",
    "    for entity2, pmids2 in entity_pmid_map.items():\n",
    "        intersection1.append((entity1, entity2, len(pmids1 & pmids2)))"
   ]
  },
  {
   "cell_type": "code",
   "execution_count": 21,
   "metadata": {},
   "outputs": [],
   "source": [
    "intersection2 = []\n",
    "for entity1, pmids1 in agent_text_pmid_map.items():\n",
    "    for entity2, pmids2 in entity_pmid_map.items():\n",
    "        intersection2.append((entity1, entity2, len(set(pmids1) & pmids2)))"
   ]
  },
  {
   "cell_type": "code",
   "execution_count": 22,
   "metadata": {},
   "outputs": [
    {
     "data": {
      "text/plain": [
       "[('HGNC:7943', 'HGNC:7943', 91)]"
      ]
     },
     "execution_count": 22,
     "metadata": {},
     "output_type": "execute_result"
    }
   ],
   "source": [
    "intersection1"
   ]
  },
  {
   "cell_type": "code",
   "execution_count": 23,
   "metadata": {},
   "outputs": [
    {
     "data": {
      "text/plain": [
       "[('CHEBI:CHEBI:17687', 'HGNC:7943', 0),\n",
       " ('MESH:D013700', 'HGNC:7943', 0),\n",
       " ('MESH:D019695', 'HGNC:7943', 0),\n",
       " ('HGNC:7943', 'HGNC:7943', 0),\n",
       " ('MESH:D020048', 'HGNC:7943', 0),\n",
       " ('NCIT:C5247', 'HGNC:7943', 0),\n",
       " ('CHEBI:CHEBI:139037', 'HGNC:7943', 0),\n",
       " ('ungrounded', 'HGNC:7943', 0)]"
      ]
     },
     "execution_count": 23,
     "metadata": {},
     "output_type": "execute_result"
    }
   ],
   "source": [
    "intersection2"
   ]
  },
  {
   "cell_type": "code",
   "execution_count": null,
   "metadata": {},
   "outputs": [],
   "source": []
  },
  {
   "cell_type": "code",
   "execution_count": 24,
   "metadata": {},
   "outputs": [],
   "source": [
    "all_used_pmids = set()\n",
    "for entity, agent_texts in unambiguous_agent_texts.items():\n",
    "    used_pmids = set()\n",
    "    for agent_text in agent_texts[1]:\n",
    "        pmids = set(get_pmids_for_agent_text(agent_text))\n",
    "        new_pmids = list(pmids - all_texts.keys() - used_pmids)\n",
    "        text_dict = get_plaintexts_for_pmids(new_pmids, contains=agent_texts)\n",
    "        corpus.extend([(text, entity, pmid) for pmid, text in text_dict.items() if len(text) >= 5])\n",
    "        used_pmids.update(new_pmids)\n",
    "    all_used_pmids.update(used_pmids)\n",
    "        \n",
    "for entity, pmids in entity_pmid_map.items():\n",
    "    new_pmids = list(set(pmids) - all_texts.keys() - all_used_pmids)\n",
    "    if len(new_pmids) > 10000:\n",
    "        new_pmids = random.choices(new_pmids, k=10000)\n",
    "    _, contains = additional_entities[entity]\n",
    "    text_dict = get_plaintexts_for_pmids(new_pmids, contains=contains)\n",
    "    corpus.extend([(text, entity, pmid) for pmid, text in text_dict.items() if len(text) >= 5])"
   ]
  },
  {
   "cell_type": "code",
   "execution_count": 25,
   "metadata": {},
   "outputs": [],
   "source": [
    "names.update({key: value[0] for key, value in additional_entities.items()})\n",
    "names.update({key: value[0] for key, value in unambiguous_agent_texts.items()})\n",
    "pos_labels = list(set(pos_labels) | additional_entities.keys() |\n",
    "                  unambiguous_agent_texts.keys())"
   ]
  },
  {
   "cell_type": "code",
   "execution_count": 26,
   "metadata": {},
   "outputs": [
    {
     "name": "stderr",
     "output_type": "stream",
     "text": [
      "INFO: [2020-10-29 04:44:29] /adeft/PP/adeft/adeft/modeling/classify.py - Beginning grid search in parameter space:\n",
      "{'C': [100.0], 'max_features': [10000]}\n",
      "INFO: [2020-10-29 04:44:34] /adeft/PP/adeft/adeft/modeling/classify.py - Best f1 score of 0.9439207949389019 found for parameter values:\n",
      "{'logit__C': 100.0, 'tfidf__max_features': 10000}\n"
     ]
    }
   ],
   "source": [
    "%%capture\n",
    "\n",
    "classifier = AdeftClassifier(shortforms, pos_labels=pos_labels, random_state=1729)\n",
    "param_grid = {'C': [100.0], 'max_features': [10000]}\n",
    "texts, labels, pmids = zip(*corpus)\n",
    "classifier.cv(texts, labels, param_grid, cv=5, n_jobs=5)"
   ]
  },
  {
   "cell_type": "code",
   "execution_count": 27,
   "metadata": {
    "scrolled": true
   },
   "outputs": [
    {
     "data": {
      "text/plain": [
       "{'label_distribution': {'CHEBI:CHEBI:17687': 16,\n",
       "  'MESH:D013700': 120,\n",
       "  'MESH:D019695': 5,\n",
       "  'HGNC:7943': 15,\n",
       "  'MESH:D020048': 1,\n",
       "  'NCIT:C5247': 47,\n",
       "  'CHEBI:CHEBI:139037': 18,\n",
       "  'ungrounded': 23},\n",
       " 'f1': {'mean': 0.943921, 'std': 0.05547},\n",
       " 'precision': {'mean': 0.95176, 'std': 0.046666},\n",
       " 'recall': {'mean': 0.946364, 'std': 0.053612},\n",
       " 'NCIT:C5247': {'f1': {'mean': 0.948235, 'std': 0.07754},\n",
       "  'pr': {'mean': 0.911111, 'std': 0.129577},\n",
       "  'rc': {'mean': 1.0, 'std': 0.0}},\n",
       " 'CHEBI:CHEBI:139037': {'f1': {'mean': 0.971429, 'std': 0.057143},\n",
       "  'pr': {'mean': 0.95, 'std': 0.1},\n",
       "  'rc': {'mean': 1.0, 'std': 0.0}},\n",
       " 'MESH:D013700': {'f1': {'mean': 0.96105, 'std': 0.031404},\n",
       "  'pr': {'mean': 1.0, 'std': 0.0},\n",
       "  'rc': {'mean': 0.926748, 'std': 0.057152}},\n",
       " 'ungrounded': {'f1': {'mean': 0.96, 'std': 0.08},\n",
       "  'pr': {'mean': 1.0, 'std': 0.0},\n",
       "  'rc': {'mean': 0.933333, 'std': 0.133333}},\n",
       " 'CHEBI:CHEBI:17687': {'f1': {'mean': 0.931429, 'std': 0.085905},\n",
       "  'pr': {'mean': 0.883333, 'std': 0.145297},\n",
       "  'rc': {'mean': 1.0, 'std': 0.0}},\n",
       " 'MESH:D020048': {'f1': {'mean': 0.0, 'std': 0.0},\n",
       "  'pr': {'mean': 0.0, 'std': 0.0},\n",
       "  'rc': {'mean': 0.0, 'std': 0.0}},\n",
       " 'HGNC:7943': {'f1': {'mean': 0.88, 'std': 0.09798},\n",
       "  'pr': {'mean': 0.8, 'std': 0.163299},\n",
       "  'rc': {'mean': 1.0, 'std': 0.0}},\n",
       " 'MESH:D019695': {'f1': {'mean': 0.8, 'std': 0.4},\n",
       "  'pr': {'mean': 0.8, 'std': 0.4},\n",
       "  'rc': {'mean': 0.8, 'std': 0.4}}}"
      ]
     },
     "execution_count": 27,
     "metadata": {},
     "output_type": "execute_result"
    }
   ],
   "source": [
    "classifier.stats"
   ]
  },
  {
   "cell_type": "code",
   "execution_count": 28,
   "metadata": {},
   "outputs": [],
   "source": [
    "disamb = AdeftDisambiguator(classifier, grounding_dict, names)"
   ]
  },
  {
   "cell_type": "code",
   "execution_count": 29,
   "metadata": {},
   "outputs": [],
   "source": [
    "disamb.dump(model_name, results_path)"
   ]
  },
  {
   "cell_type": "code",
   "execution_count": 30,
   "metadata": {},
   "outputs": [
    {
     "name": "stdout",
     "output_type": "stream",
     "text": [
      "Disambiguation model for GCA\n",
      "\n",
      "Produces the disambiguations:\n",
      "\tBlattellidae*\tMESH:D020048\n",
      "\tGastric Cardia Adenocarcinoma*\tNCIT:C5247\n",
      "\tGiant Cell Arteritis*\tMESH:D013700\n",
      "\tGlycyrrhizic Acid*\tMESH:D019695\n",
      "\tNPR1*\tHGNC:7943\n",
      "\tglycocholic acid*\tCHEBI:CHEBI:17687\n",
      "\tgolgicide A*\tCHEBI:CHEBI:139037\n",
      "\n",
      "Class level metrics:\n",
      "--------------------\n",
      "Grounding                    \tCount\tF1     \n",
      "         Giant Cell Arteritis*\t120\t0.96105\n",
      "Gastric Cardia Adenocarcinoma*\t 47\t0.94824\n",
      "                   Ungrounded\t 23\t   0.96\n",
      "                  golgicide A*\t 18\t0.97143\n",
      "             glycocholic acid*\t 16\t0.93143\n",
      "                         NPR1*\t 15\t   0.88\n",
      "            Glycyrrhizic Acid*\t  5\t    0.8\n",
      "                 Blattellidae*\t  1\t    0.0\n",
      "\n",
      "Weighted Metrics:\n",
      "-----------------\n",
      "\tF1 score:\t0.94392\n",
      "\tPrecision:\t0.95176\n",
      "\tRecall:\t\t0.94636\n",
      "\n",
      "* Positive labels\n",
      "See Docstring for explanation\n",
      "\n"
     ]
    }
   ],
   "source": [
    "print(disamb.info())"
   ]
  },
  {
   "cell_type": "code",
   "execution_count": 31,
   "metadata": {},
   "outputs": [],
   "source": [
    "model_to_s3(disamb)"
   ]
  },
  {
   "cell_type": "code",
   "execution_count": null,
   "metadata": {},
   "outputs": [],
   "source": []
  }
 ],
 "metadata": {
  "kernelspec": {
   "display_name": "Python 3",
   "language": "python",
   "name": "python3"
  },
  "language_info": {
   "codemirror_mode": {
    "name": "ipython",
    "version": 3
   },
   "file_extension": ".py",
   "mimetype": "text/x-python",
   "name": "python",
   "nbconvert_exporter": "python",
   "pygments_lexer": "ipython3",
   "version": "3.8.4"
  }
 },
 "nbformat": 4,
 "nbformat_minor": 2
}
