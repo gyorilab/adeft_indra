{
 "cells": [
  {
   "cell_type": "code",
   "execution_count": 1,
   "metadata": {},
   "outputs": [],
   "source": [
    "import os\n",
    "import json\n",
    "import pickle\n",
    "import random\n",
    "from collections import defaultdict, Counter\n",
    "\n",
    "from indra.literature.adeft_tools import universal_extract_text\n",
    "from indra.databases.hgnc_client import get_hgnc_name, get_hgnc_id\n",
    "\n",
    "from adeft.discover import AdeftMiner\n",
    "from adeft.gui import ground_with_gui\n",
    "from adeft.modeling.label import AdeftLabeler\n",
    "from adeft.modeling.classify import AdeftClassifier\n",
    "from adeft.disambiguate import AdeftDisambiguator, load_disambiguator\n",
    "\n",
    "\n",
    "from adeft_indra.ground.ground import AdeftGrounder\n",
    "from adeft_indra.model_building.s3 import model_to_s3\n",
    "from adeft_indra.model_building.escape import escape_filename\n",
    "from adeft_indra.db.content import get_pmids_for_agent_text, get_pmids_for_entity, \\\n",
    "    get_plaintexts_for_pmids"
   ]
  },
  {
   "cell_type": "code",
   "execution_count": 2,
   "metadata": {},
   "outputs": [],
   "source": [
    "adeft_grounder = AdeftGrounder()"
   ]
  },
  {
   "cell_type": "code",
   "execution_count": 3,
   "metadata": {},
   "outputs": [],
   "source": [
    "shortforms = ['PET']\n",
    "model_name = ':'.join(sorted(escape_filename(shortform) for shortform in shortforms))\n",
    "results_path = os.path.abspath(os.path.join('../..', 'results', model_name))"
   ]
  },
  {
   "cell_type": "code",
   "execution_count": 4,
   "metadata": {},
   "outputs": [],
   "source": [
    "miners = dict()\n",
    "all_texts = {}\n",
    "for shortform in shortforms:\n",
    "    pmids = get_pmids_for_agent_text(shortform)\n",
    "    if len(pmids) > 10000:\n",
    "        pmids = random.choices(pmids, k=10000)\n",
    "    text_dict = get_plaintexts_for_pmids(pmids, contains=shortforms)\n",
    "    text_dict = {pmid: text for pmid, text in text_dict.items() if len(text) > 5}\n",
    "    miners[shortform] = AdeftMiner(shortform)\n",
    "    miners[shortform].process_texts(text_dict.values())\n",
    "    all_texts.update(text_dict)\n",
    "\n",
    "longform_dict = {}\n",
    "for shortform in shortforms:\n",
    "    longforms = miners[shortform].get_longforms()\n",
    "    longforms = [(longform, count, score) for longform, count, score in longforms\n",
    "                 if count*score > 2]\n",
    "    longform_dict[shortform] = longforms\n",
    "    \n",
    "combined_longforms = Counter()\n",
    "for longform_rows in longform_dict.values():\n",
    "    combined_longforms.update({longform: count for longform, count, score\n",
    "                               in longform_rows})\n",
    "grounding_map = {}\n",
    "names = {}\n",
    "for longform in combined_longforms:\n",
    "    groundings = adeft_grounder.ground(longform)\n",
    "    if groundings:\n",
    "        grounding = groundings[0]['grounding']\n",
    "        grounding_map[longform] = grounding\n",
    "        names[grounding] = groundings[0]['name']\n",
    "longforms, counts = zip(*combined_longforms.most_common())\n",
    "pos_labels = []"
   ]
  },
  {
   "cell_type": "code",
   "execution_count": 6,
   "metadata": {},
   "outputs": [
    {
     "data": {
      "text/plain": [
       "[('positron emission tomography', 2317),\n",
       " ('polyethylene terephthalate', 112),\n",
       " ('poly ethylene terephthalate', 67),\n",
       " ('photoinduced electron transfer', 58),\n",
       " ('photosynthetic electron transport', 29),\n",
       " ('positron emission tomographic', 21),\n",
       " ('polyester', 12),\n",
       " ('pancreatic endocrine tumor', 11),\n",
       " ('positive emission tomography', 10),\n",
       " ('photo induced electron transfer', 10),\n",
       " ('peritoneal equilibration test', 6),\n",
       " ('primary endocrine therapy', 6),\n",
       " ('preemptive therapy', 6),\n",
       " ('paraffin embedded tissue', 5),\n",
       " ('paired end tag', 5),\n",
       " ('petalosa', 5),\n",
       " ('photosynthetic electron transfer', 4),\n",
       " ('patulous eustachian tube', 3),\n",
       " ('positron emission topography', 3),\n",
       " ('peptide exit tunnel', 3),\n",
       " ('positron emitting tomography', 3),\n",
       " ('positron emission computed tomography', 3),\n",
       " ('preeclampsia', 3)]"
      ]
     },
     "execution_count": 6,
     "metadata": {},
     "output_type": "execute_result"
    }
   ],
   "source": [
    "list(zip(longforms, counts))"
   ]
  },
  {
   "cell_type": "code",
   "execution_count": 8,
   "metadata": {},
   "outputs": [],
   "source": [
    "grounding_map, names, pos_labels = ground_with_gui(longforms, counts,\n",
    "                                                   grounding_map=grounding_map,\n",
    "                                                   names=names, pos_labels=pos_labels, no_browser=True, port=8891)"
   ]
  },
  {
   "cell_type": "code",
   "execution_count": 9,
   "metadata": {},
   "outputs": [],
   "source": [
    "result = [grounding_map, names, pos_labels]"
   ]
  },
  {
   "cell_type": "code",
   "execution_count": 10,
   "metadata": {},
   "outputs": [
    {
     "data": {
      "text/plain": [
       "[{'paired end tag': 'ungrounded',\n",
       "  'pancreatic endocrine tumor': 'DOID:DOID:1799',\n",
       "  'paraffin embedded tissue': 'ungrounded',\n",
       "  'patulous eustachian tube': 'DOID:DOID:12358',\n",
       "  'peptide exit tunnel': 'ungrounded',\n",
       "  'peritoneal equilibration test': 'ungrounded',\n",
       "  'petalosa': 'MESH:C506636',\n",
       "  'photo induced electron transfer': 'GO:GO:0009767',\n",
       "  'photoinduced electron transfer': 'GO:GO:0009767',\n",
       "  'photosynthetic electron transfer': 'GO:GO:0009767',\n",
       "  'photosynthetic electron transport': 'GO:GO:0009767',\n",
       "  'poly ethylene terephthalate': 'CHEBI:CHEBI:61452',\n",
       "  'polyester': 'MESH:D011091',\n",
       "  'polyethylene terephthalate': 'CHEBI:CHEBI:61452',\n",
       "  'positive emission tomography': 'MESH:D049268',\n",
       "  'positron emission computed tomography': 'MESH:D049268',\n",
       "  'positron emission tomographic': 'MESH:D049268',\n",
       "  'positron emission tomography': 'MESH:D049268',\n",
       "  'positron emission topography': 'MESH:D049268',\n",
       "  'positron emitting tomography': 'MESH:D049268',\n",
       "  'preeclampsia': 'MESH:D011225',\n",
       "  'preemptive therapy': 'ungrounded',\n",
       "  'primary endocrine therapy': 'ungrounded'},\n",
       " {'DOID:DOID:1799': 'islet cell tumor',\n",
       "  'DOID:DOID:12358': 'patulous eustachian tube',\n",
       "  'MESH:C506636': 'petalosa',\n",
       "  'GO:GO:0009767': 'photosynthetic electron transport chain',\n",
       "  'CHEBI:CHEBI:61452': 'poly(ethylene terephthalate) polymer',\n",
       "  'MESH:D011091': 'Polyesters',\n",
       "  'MESH:D049268': 'Positron-Emission Tomography',\n",
       "  'MESH:D011225': 'Pre-Eclampsia'},\n",
       " ['CHEBI:CHEBI:61452', 'GO:GO:0009767']]"
      ]
     },
     "execution_count": 10,
     "metadata": {},
     "output_type": "execute_result"
    }
   ],
   "source": [
    "result"
   ]
  },
  {
   "cell_type": "code",
   "execution_count": 11,
   "metadata": {},
   "outputs": [],
   "source": [
    "grounding_map, names, pos_labels = [{'paired end tag': 'ungrounded',\n",
    "  'pancreatic endocrine tumor': 'DOID:DOID:1799',\n",
    "  'paraffin embedded tissue': 'ungrounded',\n",
    "  'patulous eustachian tube': 'DOID:DOID:12358',\n",
    "  'peptide exit tunnel': 'ungrounded',\n",
    "  'peritoneal equilibration test': 'ungrounded',\n",
    "  'petalosa': 'MESH:C506636',\n",
    "  'photo induced electron transfer': 'GO:GO:0009767',\n",
    "  'photoinduced electron transfer': 'GO:GO:0009767',\n",
    "  'photosynthetic electron transfer': 'GO:GO:0009767',\n",
    "  'photosynthetic electron transport': 'GO:GO:0009767',\n",
    "  'poly ethylene terephthalate': 'CHEBI:CHEBI:61452',\n",
    "  'polyester': 'MESH:D011091',\n",
    "  'polyethylene terephthalate': 'CHEBI:CHEBI:61452',\n",
    "  'positive emission tomography': 'MESH:D049268',\n",
    "  'positron emission computed tomography': 'MESH:D049268',\n",
    "  'positron emission tomographic': 'MESH:D049268',\n",
    "  'positron emission tomography': 'MESH:D049268',\n",
    "  'positron emission topography': 'MESH:D049268',\n",
    "  'positron emitting tomography': 'MESH:D049268',\n",
    "  'preeclampsia': 'MESH:D011225',\n",
    "  'preemptive therapy': 'ungrounded',\n",
    "  'primary endocrine therapy': 'ungrounded'},\n",
    " {'DOID:DOID:1799': 'islet cell tumor',\n",
    "  'DOID:DOID:12358': 'patulous eustachian tube',\n",
    "  'MESH:C506636': 'petalosa',\n",
    "  'GO:GO:0009767': 'photosynthetic electron transport chain',\n",
    "  'CHEBI:CHEBI:61452': 'poly(ethylene terephthalate) polymer',\n",
    "  'MESH:D011091': 'Polyesters',\n",
    "  'MESH:D049268': 'Positron-Emission Tomography',\n",
    "  'MESH:D011225': 'Pre-Eclampsia'},\n",
    " ['CHEBI:CHEBI:61452', 'GO:GO:0009767']]"
   ]
  },
  {
   "cell_type": "code",
   "execution_count": 12,
   "metadata": {},
   "outputs": [],
   "source": [
    "excluded_longforms = []"
   ]
  },
  {
   "cell_type": "code",
   "execution_count": 13,
   "metadata": {},
   "outputs": [],
   "source": [
    "grounding_dict = {shortform: {longform: grounding_map[longform] \n",
    "                              for longform, _, _ in longforms if longform in grounding_map\n",
    "                              and longform not in excluded_longforms}\n",
    "                  for shortform, longforms in longform_dict.items()}\n",
    "result = [grounding_dict, names, pos_labels]\n",
    "\n",
    "if not os.path.exists(results_path):\n",
    "    os.mkdir(results_path)\n",
    "with open(os.path.join(results_path, f'{model_name}_preliminary_grounding_info.json'), 'w') as f:\n",
    "    json.dump(result, f)"
   ]
  },
  {
   "cell_type": "code",
   "execution_count": 14,
   "metadata": {},
   "outputs": [],
   "source": [
    "additional_entities = {}"
   ]
  },
  {
   "cell_type": "code",
   "execution_count": 15,
   "metadata": {},
   "outputs": [],
   "source": [
    "unambiguous_agent_texts = {}"
   ]
  },
  {
   "cell_type": "code",
   "execution_count": 16,
   "metadata": {},
   "outputs": [],
   "source": [
    "labeler = AdeftLabeler(grounding_dict)\n",
    "corpus = labeler.build_from_texts((text, pmid) for pmid, text in all_texts.items())\n",
    "agent_text_pmid_map = defaultdict(list)\n",
    "for text, label, id_ in corpus:\n",
    "    agent_text_pmid_map[label].append(id_)\n",
    "\n",
    "entity_pmid_map = {entity: set(get_pmids_for_entity(*entity.split(':', maxsplit=1),\n",
    "                                                major_topic=True))for entity in additional_entities}"
   ]
  },
  {
   "cell_type": "code",
   "execution_count": 12,
   "metadata": {},
   "outputs": [],
   "source": [
    "intersection1 = []\n",
    "for entity1, pmids1 in entity_pmid_map.items():\n",
    "    for entity2, pmids2 in entity_pmid_map.items():\n",
    "        intersection1.append((entity1, entity2, len(pmids1 & pmids2)))"
   ]
  },
  {
   "cell_type": "code",
   "execution_count": 13,
   "metadata": {},
   "outputs": [],
   "source": [
    "intersection2 = []\n",
    "for entity1, pmids1 in agent_text_pmid_map.items():\n",
    "    for entity2, pmids2 in entity_pmid_map.items():\n",
    "        intersection2.append((entity1, entity2, len(set(pmids1) & pmids2)))"
   ]
  },
  {
   "cell_type": "code",
   "execution_count": 14,
   "metadata": {},
   "outputs": [
    {
     "data": {
      "text/plain": [
       "[('HGNC:1848', 'HGNC:1848', 86)]"
      ]
     },
     "execution_count": 14,
     "metadata": {},
     "output_type": "execute_result"
    }
   ],
   "source": [
    "intersection1"
   ]
  },
  {
   "cell_type": "code",
   "execution_count": 15,
   "metadata": {},
   "outputs": [
    {
     "data": {
      "text/plain": [
       "[('MESH:D018893', 'HGNC:1848', 0),\n",
       " ('HGNC:1848', 'HGNC:1848', 1),\n",
       " ('ungrounded', 'HGNC:1848', 0),\n",
       " ('CHEBI:CHEBI:64198', 'HGNC:1848', 0),\n",
       " ('MESH:D019164', 'HGNC:1848', 0),\n",
       " ('MESH:C059416', 'HGNC:1848', 0),\n",
       " ('CHEBI:CHEBI:15710', 'HGNC:1848', 0)]"
      ]
     },
     "execution_count": 15,
     "metadata": {},
     "output_type": "execute_result"
    }
   ],
   "source": [
    "intersection2"
   ]
  },
  {
   "cell_type": "code",
   "execution_count": 1,
   "metadata": {},
   "outputs": [
    {
     "ename": "NameError",
     "evalue": "name 'unambiguous_agent_texts' is not defined",
     "output_type": "error",
     "traceback": [
      "\u001b[0;31m---------------------------------------------------------------------------\u001b[0m",
      "\u001b[0;31mNameError\u001b[0m                                 Traceback (most recent call last)",
      "\u001b[0;32m<ipython-input-1-d5ed006a6b67>\u001b[0m in \u001b[0;36m<module>\u001b[0;34m\u001b[0m\n\u001b[1;32m      1\u001b[0m \u001b[0mall_used_pmids\u001b[0m \u001b[0;34m=\u001b[0m \u001b[0mset\u001b[0m\u001b[0;34m(\u001b[0m\u001b[0;34m)\u001b[0m\u001b[0;34m\u001b[0m\u001b[0;34m\u001b[0m\u001b[0m\n\u001b[0;32m----> 2\u001b[0;31m \u001b[0;32mfor\u001b[0m \u001b[0mentity\u001b[0m\u001b[0;34m,\u001b[0m \u001b[0magent_texts\u001b[0m \u001b[0;32min\u001b[0m \u001b[0munambiguous_agent_texts\u001b[0m\u001b[0;34m.\u001b[0m\u001b[0mitems\u001b[0m\u001b[0;34m(\u001b[0m\u001b[0;34m)\u001b[0m\u001b[0;34m:\u001b[0m\u001b[0;34m\u001b[0m\u001b[0;34m\u001b[0m\u001b[0m\n\u001b[0m\u001b[1;32m      3\u001b[0m     \u001b[0mused_pmids\u001b[0m \u001b[0;34m=\u001b[0m \u001b[0mset\u001b[0m\u001b[0;34m(\u001b[0m\u001b[0;34m)\u001b[0m\u001b[0;34m\u001b[0m\u001b[0;34m\u001b[0m\u001b[0m\n\u001b[1;32m      4\u001b[0m     \u001b[0;32mfor\u001b[0m \u001b[0magent_text\u001b[0m \u001b[0;32min\u001b[0m \u001b[0magent_texts\u001b[0m\u001b[0;34m[\u001b[0m\u001b[0;36m1\u001b[0m\u001b[0;34m]\u001b[0m\u001b[0;34m:\u001b[0m\u001b[0;34m\u001b[0m\u001b[0;34m\u001b[0m\u001b[0m\n\u001b[1;32m      5\u001b[0m         \u001b[0mpmids\u001b[0m \u001b[0;34m=\u001b[0m \u001b[0mset\u001b[0m\u001b[0;34m(\u001b[0m\u001b[0mget_pmids_for_agent_text\u001b[0m\u001b[0;34m(\u001b[0m\u001b[0magent_text\u001b[0m\u001b[0;34m)\u001b[0m\u001b[0;34m)\u001b[0m\u001b[0;34m\u001b[0m\u001b[0;34m\u001b[0m\u001b[0m\n",
      "\u001b[0;31mNameError\u001b[0m: name 'unambiguous_agent_texts' is not defined"
     ]
    }
   ],
   "source": [
    "all_used_pmids = set()\n",
    "for entity, agent_texts in unambiguous_agent_texts.items():\n",
    "    used_pmids = set()\n",
    "    for agent_text in agent_texts[1]:\n",
    "        pmids = set(get_pmids_for_agent_text(agent_text))\n",
    "        new_pmids = list(pmids - all_texts.keys() - used_pmids)\n",
    "        text_dict = get_plaintexts_for_pmids(new_pmids, contains=agent_texts)\n",
    "        corpus.extend([(text, entity, pmid) for pmid, text in text_dict.items() if len(text) >= 5])\n",
    "        used_pmids.update(new_pmids)\n",
    "    all_used_pmids.update(used_pmids)\n",
    "        \n",
    "for entity, pmids in entity_pmid_map.items():\n",
    "    new_pmids = list(set(pmids) - all_texts.keys() - all_used_pmids)\n",
    "    if len(new_pmids) > 10000:\n",
    "        new_pmids = random.choices(new_pmids, k=10000)\n",
    "    _, contains = additional_entities[entity]\n",
    "    text_dict = get_plaintexts_for_pmids(new_pmids, contains=contains)\n",
    "    corpus.extend([(text, entity, pmid) for pmid, text in text_dict.items() if len(text) >= 5])"
   ]
  },
  {
   "cell_type": "code",
   "execution_count": 18,
   "metadata": {},
   "outputs": [],
   "source": [
    "names.update({key: value[0] for key, value in additional_entities.items()})\n",
    "names.update({key: value[0] for key, value in unambiguous_agent_texts.items()})\n",
    "pos_labels = list(set(pos_labels) | additional_entities.keys() |\n",
    "                  unambiguous_agent_texts.keys())"
   ]
  },
  {
   "cell_type": "code",
   "execution_count": 17,
   "metadata": {},
   "outputs": [
    {
     "name": "stderr",
     "output_type": "stream",
     "text": [
      "INFO: [2020-11-11 21:35:47] /adeft/PP/adeft/adeft/modeling/classify.py - Beginning grid search in parameter space:\n",
      "{'C': [100.0], 'max_features': [10000]}\n",
      "INFO: [2020-11-11 21:36:26] /adeft/PP/adeft/adeft/modeling/classify.py - Best f1 score of 0.9229216111746906 found for parameter values:\n",
      "{'logit__C': 100.0, 'tfidf__max_features': 10000}\n"
     ]
    }
   ],
   "source": [
    "%%capture\n",
    "\n",
    "classifier = AdeftClassifier(shortforms, pos_labels=pos_labels, random_state=1729)\n",
    "param_grid = {'C': [100.0], 'max_features': [10000]}\n",
    "texts, labels, pmids = zip(*corpus)\n",
    "classifier.cv(texts, labels, param_grid, cv=5, n_jobs=5)"
   ]
  },
  {
   "cell_type": "code",
   "execution_count": 18,
   "metadata": {
    "scrolled": true
   },
   "outputs": [
    {
     "data": {
      "text/plain": [
       "{'label_distribution': {'MESH:D049268': 1784,\n",
       "  'CHEBI:CHEBI:61452': 127,\n",
       "  'ungrounded': 20,\n",
       "  'MESH:D011091': 8,\n",
       "  'GO:GO:0009767': 66,\n",
       "  'DOID:DOID:1799': 6,\n",
       "  'DOID:DOID:12358': 2,\n",
       "  'MESH:D011225': 2,\n",
       "  'MESH:C506636': 1},\n",
       " 'f1': {'mean': 0.922922, 'std': 0.027124},\n",
       " 'precision': {'mean': 0.938945, 'std': 0.022214},\n",
       " 'recall': {'mean': 0.911586, 'std': 0.049205},\n",
       " 'DOID:DOID:12358': {'f1': {'mean': 0.0, 'std': 0.0},\n",
       "  'pr': {'mean': 0.0, 'std': 0.0},\n",
       "  'rc': {'mean': 0.0, 'std': 0.0}},\n",
       " 'DOID:DOID:1799': {'f1': {'mean': 0.0, 'std': 0.0},\n",
       "  'pr': {'mean': 0.0, 'std': 0.0},\n",
       "  'rc': {'mean': 0.0, 'std': 0.0}},\n",
       " 'GO:GO:0009767': {'f1': {'mean': 0.935897, 'std': 0.032179},\n",
       "  'pr': {'mean': 0.894505, 'std': 0.060029},\n",
       "  'rc': {'mean': 0.984615, 'std': 0.030769}},\n",
       " 'ungrounded': {'f1': {'mean': 0.502857, 'std': 0.324056},\n",
       "  'pr': {'mean': 0.4, 'std': 0.3},\n",
       "  'rc': {'mean': 0.8, 'std': 0.4}},\n",
       " 'CHEBI:CHEBI:61452': {'f1': {'mean': 0.916235, 'std': 0.036001},\n",
       "  'pr': {'mean': 0.920308, 'std': 0.067119},\n",
       "  'rc': {'mean': 0.915459, 'std': 0.030285}},\n",
       " 'MESH:D011091': {'f1': {'mean': 0.0, 'std': 0.0},\n",
       "  'pr': {'mean': 0.0, 'std': 0.0},\n",
       "  'rc': {'mean': 0.0, 'std': 0.0}},\n",
       " 'MESH:C506636': {'f1': {'mean': 0.0, 'std': 0.0},\n",
       "  'pr': {'mean': 0.0, 'std': 0.0},\n",
       "  'rc': {'mean': 0.0, 'std': 0.0}},\n",
       " 'MESH:D049268': {'f1': {'mean': 0.989184, 'std': 0.002929},\n",
       "  'pr': {'mean': 0.99888, 'std': 0.002241},\n",
       "  'rc': {'mean': 0.979693, 'std': 0.005505}},\n",
       " 'MESH:D011225': {'f1': {'mean': 0.0, 'std': 0.0},\n",
       "  'pr': {'mean': 0.0, 'std': 0.0},\n",
       "  'rc': {'mean': 0.0, 'std': 0.0}}}"
      ]
     },
     "execution_count": 18,
     "metadata": {},
     "output_type": "execute_result"
    }
   ],
   "source": [
    "classifier.stats"
   ]
  },
  {
   "cell_type": "code",
   "execution_count": 19,
   "metadata": {},
   "outputs": [],
   "source": [
    "disamb = AdeftDisambiguator(classifier, grounding_dict, names)"
   ]
  },
  {
   "cell_type": "code",
   "execution_count": 20,
   "metadata": {},
   "outputs": [],
   "source": [
    "disamb.dump(model_name, results_path)"
   ]
  },
  {
   "cell_type": "code",
   "execution_count": 21,
   "metadata": {},
   "outputs": [
    {
     "name": "stdout",
     "output_type": "stream",
     "text": [
      "Disambiguation model for PET\n",
      "\n",
      "Produces the disambiguations:\n",
      "\tPolyesters\tMESH:D011091\n",
      "\tPositron-Emission Tomography\tMESH:D049268\n",
      "\tPre-Eclampsia\tMESH:D011225\n",
      "\tislet cell tumor\tDOID:DOID:1799\n",
      "\tpatulous eustachian tube\tDOID:DOID:12358\n",
      "\tpetalosa\tMESH:C506636\n",
      "\tphotosynthetic electron transport chain*\tGO:GO:0009767\n",
      "\tpoly(ethylene terephthalate) polymer*\tCHEBI:CHEBI:61452\n",
      "\n",
      "Class level metrics:\n",
      "--------------------\n",
      "Grounding                              \tCount\tF1     \n",
      "           Positron-Emission Tomography\t1784\t0.98918\n",
      "   poly(ethylene terephthalate) polymer*\t 127\t0.91624\n",
      "photosynthetic electron transport chain*\t  66\t 0.9359\n",
      "                             Ungrounded\t  20\t0.50286\n",
      "                             Polyesters\t   8\t    0.0\n",
      "                       islet cell tumor\t   6\t    0.0\n",
      "               patulous eustachian tube\t   2\t    0.0\n",
      "                          Pre-Eclampsia\t   2\t    0.0\n",
      "                               petalosa\t   1\t    0.0\n",
      "\n",
      "Weighted Metrics:\n",
      "-----------------\n",
      "\tF1 score:\t0.92292\n",
      "\tPrecision:\t0.93894\n",
      "\tRecall:\t\t0.91159\n",
      "\n",
      "* Positive labels\n",
      "See Docstring for explanation\n",
      "\n"
     ]
    }
   ],
   "source": [
    "print(disamb.info())"
   ]
  },
  {
   "cell_type": "code",
   "execution_count": 22,
   "metadata": {},
   "outputs": [],
   "source": [
    "model_to_s3(disamb)"
   ]
  },
  {
   "cell_type": "code",
   "execution_count": null,
   "metadata": {},
   "outputs": [],
   "source": []
  }
 ],
 "metadata": {
  "kernelspec": {
   "display_name": "Python 3",
   "language": "python",
   "name": "python3"
  },
  "language_info": {
   "codemirror_mode": {
    "name": "ipython",
    "version": 3
   },
   "file_extension": ".py",
   "mimetype": "text/x-python",
   "name": "python",
   "nbconvert_exporter": "python",
   "pygments_lexer": "ipython3",
   "version": "3.8.4"
  }
 },
 "nbformat": 4,
 "nbformat_minor": 2
}
