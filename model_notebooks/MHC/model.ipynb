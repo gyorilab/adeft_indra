{
 "cells": [
  {
   "cell_type": "code",
   "execution_count": 6,
   "metadata": {},
   "outputs": [],
   "source": [
    "import os\n",
    "import json\n",
    "import pickle\n",
    "import random\n",
    "from collections import defaultdict, Counter\n",
    "\n",
    "from indra.literature.adeft_tools import universal_extract_text\n",
    "from indra.databases.hgnc_client import get_hgnc_name, get_hgnc_id\n",
    "\n",
    "from adeft.discover import AdeftMiner\n",
    "from adeft.gui import ground_with_gui\n",
    "from adeft.modeling.label import AdeftLabeler\n",
    "from adeft.modeling.classify import AdeftClassifier\n",
    "from adeft.disambiguate import AdeftDisambiguator\n",
    "\n",
    "\n",
    "from adeft_indra.ground.ground import AdeftGrounder\n",
    "from adeft_indra.model_building.s3 import model_to_s3\n",
    "from adeft_indra.model_building.escape import escape_filename\n",
    "from adeft_indra.db.content import get_pmids_for_agent_text, get_pmids_for_entity, \\\n",
    "    get_plaintexts_for_pmids"
   ]
  },
  {
   "cell_type": "code",
   "execution_count": 2,
   "metadata": {},
   "outputs": [],
   "source": [
    "adeft_grounder = AdeftGrounder()"
   ]
  },
  {
   "cell_type": "code",
   "execution_count": 7,
   "metadata": {},
   "outputs": [],
   "source": [
    "shortforms = ['MHC']\n",
    "model_name = ':'.join(sorted(escape_filename(shortform) for shortform in shortforms))\n",
    "results_path = os.path.abspath(os.path.join('../..', 'results', model_name))"
   ]
  },
  {
   "cell_type": "code",
   "execution_count": 8,
   "metadata": {},
   "outputs": [],
   "source": [
    "miners = dict()\n",
    "all_texts = {}\n",
    "for shortform in shortforms:\n",
    "    pmids = get_pmids_for_agent_text(shortform)\n",
    "    if len(pmids) > 10000:\n",
    "        pmids = random.choices(pmids, k=10000)\n",
    "    text_dict = get_plaintexts_for_pmids(pmids, contains=shortforms)\n",
    "    text_dict = {pmid: text for pmid, text in text_dict.items() if len(text) > 5}\n",
    "    miners[shortform] = AdeftMiner(shortform)\n",
    "    miners[shortform].process_texts(text_dict.values())\n",
    "    all_texts.update(text_dict)\n",
    "\n",
    "longform_dict = {}\n",
    "for shortform in shortforms:\n",
    "    longforms = miners[shortform].get_longforms()\n",
    "    longforms = [(longform, count, score) for longform, count, score in longforms\n",
    "                 if count*score > 2]\n",
    "    longform_dict[shortform] = longforms\n",
    "    \n",
    "combined_longforms = Counter()\n",
    "for longform_rows in longform_dict.values():\n",
    "    combined_longforms.update({longform: count for longform, count, score\n",
    "                               in longform_rows})\n",
    "grounding_map = {}\n",
    "names = {}\n",
    "for longform in combined_longforms:\n",
    "    groundings = adeft_grounder.ground(longform)\n",
    "    if groundings:\n",
    "        grounding = groundings[0]['grounding']\n",
    "        grounding_map[longform] = grounding\n",
    "        names[grounding] = groundings[0]['name']\n",
    "longforms, counts = zip(*combined_longforms.most_common())\n",
    "pos_labels = []"
   ]
  },
  {
   "cell_type": "code",
   "execution_count": 12,
   "metadata": {},
   "outputs": [
    {
     "name": "stderr",
     "output_type": "stream",
     "text": [
      "INFO: [2020-09-24 15:19:37] indra.ontology.bio.ontology - Loading INDRA bio ontology from cache at /home/ubuntu/.indra/bio_ontology/1.2/bio_ontology.pkl\n"
     ]
    }
   ],
   "source": [
    "grounding_map, names, pos_labels = ground_with_gui(longforms, counts, \n",
    "                                                   grounding_map=grounding_map,\n",
    "                                                   names=names, pos_labels=pos_labels, no_browser=True, port=8890)"
   ]
  },
  {
   "cell_type": "code",
   "execution_count": 13,
   "metadata": {},
   "outputs": [],
   "source": [
    "result = [grounding_map, names, pos_labels]"
   ]
  },
  {
   "cell_type": "code",
   "execution_count": 14,
   "metadata": {},
   "outputs": [
    {
     "data": {
      "text/plain": [
       "[{'histocompatibility complex molecules': 'MESH:D008285',\n",
       "  'histocompatibility molecules': 'MESH:D008285',\n",
       "  'major his tocompatibility complex': 'MESH:D008285',\n",
       "  'major histo compatibility complex': 'MESH:D008285',\n",
       "  'major histocom patibility complex': 'MESH:D008285',\n",
       "  'major histocompability complex': 'MESH:D008285',\n",
       "  'major histocompati bility complex': 'MESH:D008285',\n",
       "  'major histocompatibil ity complex': 'MESH:D008285',\n",
       "  'major histocompatibility': 'MESH:D008285',\n",
       "  'major histocompatibility antigen': 'MESH:D008285',\n",
       "  'major histocompatibility antigen complex': 'MESH:D008285',\n",
       "  'major histocompatibility class': 'MESH:D008285',\n",
       "  'major histocompatibility com plex': 'MESH:D008285',\n",
       "  'major histocompatibility complex': 'MESH:D008285',\n",
       "  'major histocompatibility complex antigen': 'MESH:D008285',\n",
       "  'major histocompatibility complex class': 'MESH:D008285',\n",
       "  'major histocompatibility complex proteins': 'MESH:D008285',\n",
       "  'major histocompatibility ibility complex': 'MESH:D008285',\n",
       "  'major histocompatibilitycomplex': 'MESH:D008285',\n",
       "  'major histocompatibilty complex': 'MESH:D008285',\n",
       "  'major histocompatiblity complex': 'MESH:D008285',\n",
       "  'mental health care': 'ungrounded',\n",
       "  'mental health clinical': 'ungrounded',\n",
       "  'mental health composite': 'ungrounded',\n",
       "  'mental health conditions': 'ungrounded',\n",
       "  'mhc': 'ungrounded',\n",
       "  'moisture holding capacity': 'ungrounded',\n",
       "  'myosin heavy chain': 'FPLX:MYH',\n",
       "  'myosin ii heavy chain': 'FPLX:MYH'},\n",
       " {'MESH:D008285': 'Major Histocompatibility Complex', 'FPLX:MYH': 'MYH'},\n",
       " ['FPLX:MYH', 'MESH:D008285']]"
      ]
     },
     "execution_count": 14,
     "metadata": {},
     "output_type": "execute_result"
    }
   ],
   "source": [
    "result"
   ]
  },
  {
   "cell_type": "code",
   "execution_count": 28,
   "metadata": {},
   "outputs": [],
   "source": [
    "grounding_map, names, pos_labels = [{'histocompatibility complex molecules': 'MESH:D008285',\n",
    "  'histocompatibility molecules': 'MESH:D008285',\n",
    "  'major his tocompatibility complex': 'MESH:D008285',\n",
    "  'major histo compatibility complex': 'MESH:D008285',\n",
    "  'major histocom patibility complex': 'MESH:D008285',\n",
    "  'major histocompability complex': 'MESH:D008285',\n",
    "  'major histocompati bility complex': 'MESH:D008285',\n",
    "  'major histocompatibil ity complex': 'MESH:D008285',\n",
    "  'major histocompatibility': 'MESH:D008285',\n",
    "  'major histocompatibility antigen': 'MESH:D008285',\n",
    "  'major histocompatibility antigen complex': 'MESH:D008285',\n",
    "  'major histocompatibility class': 'MESH:D008285',\n",
    "  'major histocompatibility com plex': 'MESH:D008285',\n",
    "  'major histocompatibility complex': 'MESH:D008285',\n",
    "  'major histocompatibility complex antigen': 'MESH:D008285',\n",
    "  'major histocompatibility complex class': 'MESH:D008285',\n",
    "  'major histocompatibility complex proteins': 'MESH:D008285',\n",
    "  'major histocompatibility ibility complex': 'MESH:D008285',\n",
    "  'major histocompatibilitycomplex': 'MESH:D008285',\n",
    "  'major histocompatibilty complex': 'MESH:D008285',\n",
    "  'major histocompatiblity complex': 'MESH:D008285',\n",
    "  'mental health care': 'ungrounded',\n",
    "  'mental health clinical': 'ungrounded',\n",
    "  'mental health composite': 'ungrounded',\n",
    "  'mental health conditions': 'ungrounded',\n",
    "  'mhc': 'ungrounded',\n",
    "  'moisture holding capacity': 'ungrounded',\n",
    "  'myosin heavy chain': 'FPLX:MYH',\n",
    "  'myosin ii heavy chain': 'FPLX:MYH'},\n",
    " {'MESH:D008285': 'Major Histocompatibility Complex', 'FPLX:MYH': 'MYH'},\n",
    " ['FPLX:MYH', 'MESH:D008285']]\n",
    "  "
   ]
  },
  {
   "cell_type": "code",
   "execution_count": 16,
   "metadata": {},
   "outputs": [],
   "source": [
    "excluded_longforms = ['mhc']"
   ]
  },
  {
   "cell_type": "code",
   "execution_count": 17,
   "metadata": {},
   "outputs": [],
   "source": [
    "grounding_dict = {shortform: {longform: grounding_map[longform] \n",
    "                              for longform, _, _ in longforms if longform in grounding_map\n",
    "                              and longform not in excluded_longforms}\n",
    "                  for shortform, longforms in longform_dict.items()}\n",
    "result = [grounding_dict, names, pos_labels]\n",
    "\n",
    "if not os.path.exists(results_path):\n",
    "    os.mkdir(results_path)\n",
    "with open(os.path.join(results_path, f'{model_name}_preliminary_grounding_info.json'), 'w') as f:\n",
    "    json.dump(result, f)"
   ]
  },
  {
   "cell_type": "code",
   "execution_count": 19,
   "metadata": {},
   "outputs": [],
   "source": [
    "additional_entities = []"
   ]
  },
  {
   "cell_type": "code",
   "execution_count": 31,
   "metadata": {},
   "outputs": [],
   "source": [
    "unambiguous_agent_texts = {}"
   ]
  },
  {
   "cell_type": "code",
   "execution_count": 20,
   "metadata": {},
   "outputs": [],
   "source": [
    "labeler = AdeftLabeler(grounding_dict)\n",
    "corpus = labeler.build_from_texts((text, pmid) for pmid, text in all_texts.items())\n",
    "agent_text_pmid_map = defaultdict(list)\n",
    "for text, label, id_ in corpus:\n",
    "    agent_text_pmid_map[label].append(id_)\n",
    "\n",
    "entities = pos_labels + additional_entities\n",
    "entity_pmid_map = {entity: set(get_pmids_for_entity(*entity.split(':', maxsplit=1),\n",
    "                                                major_topic=True))for entity in entities}"
   ]
  },
  {
   "cell_type": "code",
   "execution_count": 17,
   "metadata": {},
   "outputs": [],
   "source": [
    "intersection1 = []\n",
    "for entity1, pmids1 in entity_pmid_map.items():\n",
    "    for entity2, pmids2 in entity_pmid_map.items():\n",
    "        intersection1.append((entity1, entity2, len(pmids1 & pmids2)))"
   ]
  },
  {
   "cell_type": "code",
   "execution_count": 18,
   "metadata": {},
   "outputs": [],
   "source": [
    "intersection2 = []\n",
    "for entity1, pmids1 in agent_text_pmid_map.items():\n",
    "    for entity2, pmids2 in entity_pmid_map.items():\n",
    "        intersection2.append((entity1, entity2, len(set(pmids1) & pmids2)))"
   ]
  },
  {
   "cell_type": "code",
   "execution_count": 19,
   "metadata": {},
   "outputs": [
    {
     "data": {
      "text/plain": [
       "[('CHEBI:CHEBI:47344', 'CHEBI:CHEBI:47344', 0),\n",
       " ('CHEBI:CHEBI:47344', 'CHEBI:CHEBI:5130', 0),\n",
       " ('CHEBI:CHEBI:47344', 'HGNC:9600', 0),\n",
       " ('CHEBI:CHEBI:47344', 'MESH:D005189', 0),\n",
       " ('CHEBI:CHEBI:47344', 'MESH:D005193', 0),\n",
       " ('CHEBI:CHEBI:47344', 'MESH:D005454', 0),\n",
       " ('CHEBI:CHEBI:47344', 'MESH:D008164', 0),\n",
       " ('CHEBI:CHEBI:47344', 'MESH:D014760', 0),\n",
       " ('CHEBI:CHEBI:47344', 'NCIT:C32623', 0),\n",
       " ('CHEBI:CHEBI:5130', 'CHEBI:CHEBI:47344', 0),\n",
       " ('CHEBI:CHEBI:5130', 'CHEBI:CHEBI:5130', 1314),\n",
       " ('CHEBI:CHEBI:5130', 'HGNC:9600', 0),\n",
       " ('CHEBI:CHEBI:5130', 'MESH:D005189', 0),\n",
       " ('CHEBI:CHEBI:5130', 'MESH:D005193', 0),\n",
       " ('CHEBI:CHEBI:5130', 'MESH:D005454', 0),\n",
       " ('CHEBI:CHEBI:5130', 'MESH:D008164', 0),\n",
       " ('CHEBI:CHEBI:5130', 'MESH:D014760', 0),\n",
       " ('CHEBI:CHEBI:5130', 'NCIT:C32623', 0),\n",
       " ('HGNC:9600', 'CHEBI:CHEBI:47344', 0),\n",
       " ('HGNC:9600', 'CHEBI:CHEBI:5130', 0),\n",
       " ('HGNC:9600', 'HGNC:9600', 0),\n",
       " ('HGNC:9600', 'MESH:D005189', 0),\n",
       " ('HGNC:9600', 'MESH:D005193', 0),\n",
       " ('HGNC:9600', 'MESH:D005454', 0),\n",
       " ('HGNC:9600', 'MESH:D008164', 0),\n",
       " ('HGNC:9600', 'MESH:D014760', 0),\n",
       " ('HGNC:9600', 'NCIT:C32623', 0),\n",
       " ('MESH:D005189', 'CHEBI:CHEBI:47344', 0),\n",
       " ('MESH:D005189', 'CHEBI:CHEBI:5130', 0),\n",
       " ('MESH:D005189', 'HGNC:9600', 0),\n",
       " ('MESH:D005189', 'MESH:D005189', 688),\n",
       " ('MESH:D005189', 'MESH:D005193', 0),\n",
       " ('MESH:D005189', 'MESH:D005454', 0),\n",
       " ('MESH:D005189', 'MESH:D008164', 0),\n",
       " ('MESH:D005189', 'MESH:D014760', 0),\n",
       " ('MESH:D005189', 'NCIT:C32623', 0),\n",
       " ('MESH:D005193', 'CHEBI:CHEBI:47344', 0),\n",
       " ('MESH:D005193', 'CHEBI:CHEBI:5130', 0),\n",
       " ('MESH:D005193', 'HGNC:9600', 0),\n",
       " ('MESH:D005193', 'MESH:D005189', 0),\n",
       " ('MESH:D005193', 'MESH:D005193', 0),\n",
       " ('MESH:D005193', 'MESH:D005454', 0),\n",
       " ('MESH:D005193', 'MESH:D008164', 0),\n",
       " ('MESH:D005193', 'MESH:D014760', 0),\n",
       " ('MESH:D005193', 'NCIT:C32623', 0),\n",
       " ('MESH:D005454', 'CHEBI:CHEBI:47344', 0),\n",
       " ('MESH:D005454', 'CHEBI:CHEBI:5130', 0),\n",
       " ('MESH:D005454', 'HGNC:9600', 0),\n",
       " ('MESH:D005454', 'MESH:D005189', 0),\n",
       " ('MESH:D005454', 'MESH:D005193', 0),\n",
       " ('MESH:D005454', 'MESH:D005454', 0),\n",
       " ('MESH:D005454', 'MESH:D008164', 0),\n",
       " ('MESH:D005454', 'MESH:D014760', 0),\n",
       " ('MESH:D005454', 'NCIT:C32623', 0),\n",
       " ('MESH:D008164', 'CHEBI:CHEBI:47344', 0),\n",
       " ('MESH:D008164', 'CHEBI:CHEBI:5130', 0),\n",
       " ('MESH:D008164', 'HGNC:9600', 0),\n",
       " ('MESH:D008164', 'MESH:D005189', 0),\n",
       " ('MESH:D008164', 'MESH:D005193', 0),\n",
       " ('MESH:D008164', 'MESH:D005454', 0),\n",
       " ('MESH:D008164', 'MESH:D008164', 0),\n",
       " ('MESH:D008164', 'MESH:D014760', 0),\n",
       " ('MESH:D008164', 'NCIT:C32623', 0),\n",
       " ('MESH:D014760', 'CHEBI:CHEBI:47344', 0),\n",
       " ('MESH:D014760', 'CHEBI:CHEBI:5130', 0),\n",
       " ('MESH:D014760', 'HGNC:9600', 0),\n",
       " ('MESH:D014760', 'MESH:D005189', 0),\n",
       " ('MESH:D014760', 'MESH:D005193', 0),\n",
       " ('MESH:D014760', 'MESH:D005454', 0),\n",
       " ('MESH:D014760', 'MESH:D008164', 0),\n",
       " ('MESH:D014760', 'MESH:D014760', 5105),\n",
       " ('MESH:D014760', 'NCIT:C32623', 0),\n",
       " ('NCIT:C32623', 'CHEBI:CHEBI:47344', 0),\n",
       " ('NCIT:C32623', 'CHEBI:CHEBI:5130', 0),\n",
       " ('NCIT:C32623', 'HGNC:9600', 0),\n",
       " ('NCIT:C32623', 'MESH:D005189', 0),\n",
       " ('NCIT:C32623', 'MESH:D005193', 0),\n",
       " ('NCIT:C32623', 'MESH:D005454', 0),\n",
       " ('NCIT:C32623', 'MESH:D008164', 0),\n",
       " ('NCIT:C32623', 'MESH:D014760', 0),\n",
       " ('NCIT:C32623', 'NCIT:C32623', 0)]"
      ]
     },
     "execution_count": 19,
     "metadata": {},
     "output_type": "execute_result"
    }
   ],
   "source": [
    "intersection1"
   ]
  },
  {
   "cell_type": "code",
   "execution_count": 75,
   "metadata": {},
   "outputs": [
    {
     "data": {
      "text/plain": [
       "[('CHEBI:CHEBI:27812', 'CHEBI:CHEBI:27812', 0),\n",
       " ('CHEBI:CHEBI:27812', 'CHEBI:CHEBI:7035', 0),\n",
       " ('CHEBI:CHEBI:27812', 'FPLX:Mechanosensitive_ion_channels', 0),\n",
       " ('CHEBI:CHEBI:27812', 'HGNC:7321', 0),\n",
       " ('CHEBI:CHEBI:27812', 'MESH:D000080364', 0),\n",
       " ('CHEBI:CHEBI:27812', 'MESH:D000604', 0),\n",
       " ('CHEBI:CHEBI:27812', 'MESH:D059630', 0),\n",
       " ('MESH:D059630', 'CHEBI:CHEBI:27812', 0),\n",
       " ('MESH:D059630', 'CHEBI:CHEBI:7035', 0),\n",
       " ('MESH:D059630', 'FPLX:Mechanosensitive_ion_channels', 0),\n",
       " ('MESH:D059630', 'HGNC:7321', 0),\n",
       " ('MESH:D059630', 'MESH:D000080364', 0),\n",
       " ('MESH:D059630', 'MESH:D000604', 0),\n",
       " ('MESH:D059630', 'MESH:D059630', 2261),\n",
       " ('ungrounded', 'CHEBI:CHEBI:27812', 0),\n",
       " ('ungrounded', 'CHEBI:CHEBI:7035', 0),\n",
       " ('ungrounded', 'FPLX:Mechanosensitive_ion_channels', 0),\n",
       " ('ungrounded', 'HGNC:7321', 0),\n",
       " ('ungrounded', 'MESH:D000080364', 0),\n",
       " ('ungrounded', 'MESH:D000604', 0),\n",
       " ('ungrounded', 'MESH:D059630', 0),\n",
       " ('MESH:D000604', 'CHEBI:CHEBI:27812', 0),\n",
       " ('MESH:D000604', 'CHEBI:CHEBI:7035', 0),\n",
       " ('MESH:D000604', 'FPLX:Mechanosensitive_ion_channels', 0),\n",
       " ('MESH:D000604', 'HGNC:7321', 0),\n",
       " ('MESH:D000604', 'MESH:D000080364', 0),\n",
       " ('MESH:D000604', 'MESH:D000604', 0),\n",
       " ('MESH:D000604', 'MESH:D059630', 0),\n",
       " ('CHEBI:CHEBI:7035', 'CHEBI:CHEBI:27812', 0),\n",
       " ('CHEBI:CHEBI:7035', 'CHEBI:CHEBI:7035', 0),\n",
       " ('CHEBI:CHEBI:7035', 'FPLX:Mechanosensitive_ion_channels', 0),\n",
       " ('CHEBI:CHEBI:7035', 'HGNC:7321', 0),\n",
       " ('CHEBI:CHEBI:7035', 'MESH:D000080364', 0),\n",
       " ('CHEBI:CHEBI:7035', 'MESH:D000604', 0),\n",
       " ('CHEBI:CHEBI:7035', 'MESH:D059630', 0),\n",
       " ('FPLX:Mechanosensitive_ion_channels', 'CHEBI:CHEBI:27812', 0),\n",
       " ('FPLX:Mechanosensitive_ion_channels', 'CHEBI:CHEBI:7035', 0),\n",
       " ('FPLX:Mechanosensitive_ion_channels',\n",
       "  'FPLX:Mechanosensitive_ion_channels',\n",
       "  0),\n",
       " ('FPLX:Mechanosensitive_ion_channels', 'HGNC:7321', 0),\n",
       " ('FPLX:Mechanosensitive_ion_channels', 'MESH:D000080364', 0),\n",
       " ('FPLX:Mechanosensitive_ion_channels', 'MESH:D000604', 0),\n",
       " ('FPLX:Mechanosensitive_ion_channels', 'MESH:D059630', 0),\n",
       " ('HGNC:7321', 'CHEBI:CHEBI:27812', 0),\n",
       " ('HGNC:7321', 'CHEBI:CHEBI:7035', 0),\n",
       " ('HGNC:7321', 'FPLX:Mechanosensitive_ion_channels', 0),\n",
       " ('HGNC:7321', 'HGNC:7321', 2),\n",
       " ('HGNC:7321', 'MESH:D000080364', 0),\n",
       " ('HGNC:7321', 'MESH:D000604', 0),\n",
       " ('HGNC:7321', 'MESH:D059630', 0),\n",
       " ('MESH:D000080364', 'CHEBI:CHEBI:27812', 0),\n",
       " ('MESH:D000080364', 'CHEBI:CHEBI:7035', 0),\n",
       " ('MESH:D000080364', 'FPLX:Mechanosensitive_ion_channels', 0),\n",
       " ('MESH:D000080364', 'HGNC:7321', 0),\n",
       " ('MESH:D000080364', 'MESH:D000080364', 0),\n",
       " ('MESH:D000080364', 'MESH:D000604', 0),\n",
       " ('MESH:D000080364', 'MESH:D059630', 0)]"
      ]
     },
     "execution_count": 75,
     "metadata": {},
     "output_type": "execute_result"
    }
   ],
   "source": [
    "intersection2"
   ]
  },
  {
   "cell_type": "code",
   "execution_count": 84,
   "metadata": {},
   "outputs": [
    {
     "data": {
      "text/plain": [
       "[('HGNC:7321', ['Musculin', 'musculin'])]"
      ]
     },
     "execution_count": 84,
     "metadata": {},
     "output_type": "execute_result"
    }
   ],
   "source": []
  },
  {
   "cell_type": "code",
   "execution_count": 91,
   "metadata": {},
   "outputs": [],
   "source": [
    "all_used_pmids = set()\n",
    "for entity, agent_texts in unambiguous_agent_texts.items():\n",
    "    used_pmids = set()\n",
    "    for agent_text in agent_texts:\n",
    "        pmids = set(get_pmids_for_agent_text(agent_text))\n",
    "        new_pmids = list(pmids - all_texts.keys() - used_pmids)\n",
    "        text_dict = get_plaintexts_for_pmids(new_pmids, contains=agent_texts)\n",
    "        corpus.extend([(text, entity, pmid) for pmid, text in text_dict.items()])\n",
    "        used_pmids.update(new_pmids)\n",
    "    all_used_pmids.update(used_pmids)\n",
    "        \n",
    "for entity, pmids in entity_pmid_map.items():\n",
    "    new_pmids = list(set(pmids) - all_texts.keys() - all_used_pmids)\n",
    "    if len(new_pmids) > 10000:\n",
    "        new_pmids = random.choices(new_pmids, k=10000)\n",
    "    text_dict = get_plaintexts_for_pmids(new_pmids)\n",
    "    corpus.extend([(text, entity, pmid) for pmid, text in text_dict.items()])"
   ]
  },
  {
   "cell_type": "code",
   "execution_count": 21,
   "metadata": {},
   "outputs": [
    {
     "name": "stderr",
     "output_type": "stream",
     "text": [
      "INFO: [2020-09-24 15:25:01] /adeft/PythonRepos/adeft/adeft/modeling/classify.py - Beginning grid search in parameter space:\n",
      "{'C': [100.0], 'max_features': [10000]}\n",
      "INFO: [2020-09-24 15:26:01] /adeft/PythonRepos/adeft/adeft/modeling/classify.py - Best f1 score of 0.995521795030666 found for parameter values:\n",
      "{'logit__C': 100.0, 'tfidf__max_features': 10000}\n"
     ]
    }
   ],
   "source": [
    "%%capture\n",
    "\n",
    "classifier = AdeftClassifier(shortforms, pos_labels=pos_labels, random_state=1729)\n",
    "param_grid = {'C': [100.0], 'max_features': [10000]}\n",
    "texts, labels, pmids = zip(*corpus)\n",
    "classifier.cv(texts, labels, param_grid, cv=5, n_jobs=5)"
   ]
  },
  {
   "cell_type": "code",
   "execution_count": 22,
   "metadata": {
    "scrolled": true
   },
   "outputs": [
    {
     "data": {
      "text/plain": [
       "{'label_distribution': {'MESH:D008285': 3191,\n",
       "  'FPLX:MYH': 296,\n",
       "  'ungrounded': 8},\n",
       " 'f1': {'mean': 0.995522, 'std': 0.003148},\n",
       " 'precision': {'mean': 0.994842, 'std': 0.003224},\n",
       " 'recall': {'mean': 0.996271, 'std': 0.003089},\n",
       " 'FPLX:MYH': {'f1': {'mean': 0.977628, 'std': 0.01858},\n",
       "  'pr': {'mean': 0.966328, 'std': 0.030069},\n",
       "  'rc': {'mean': 0.989649, 'std': 0.013655}},\n",
       " 'MESH:D008285': {'f1': {'mean': 0.997186, 'std': 0.001755},\n",
       "  'pr': {'mean': 0.99906, 'std': 0.001254},\n",
       "  'rc': {'mean': 0.995321, 'std': 0.002606}},\n",
       " 'ungrounded': {'f1': {'mean': 0.466667, 'std': 0.4},\n",
       "  'pr': {'mean': 0.4, 'std': 0.374166},\n",
       "  'rc': {'mean': 0.6, 'std': 0.489898}}}"
      ]
     },
     "execution_count": 22,
     "metadata": {},
     "output_type": "execute_result"
    }
   ],
   "source": [
    "classifier.stats"
   ]
  },
  {
   "cell_type": "code",
   "execution_count": 23,
   "metadata": {},
   "outputs": [],
   "source": [
    "disamb = AdeftDisambiguator(classifier, grounding_dict, names)"
   ]
  },
  {
   "cell_type": "code",
   "execution_count": 24,
   "metadata": {},
   "outputs": [],
   "source": [
    "disamb.dump(model_name, results_path)"
   ]
  },
  {
   "cell_type": "code",
   "execution_count": 25,
   "metadata": {},
   "outputs": [
    {
     "name": "stdout",
     "output_type": "stream",
     "text": [
      "Disambiguation model for MHC\n",
      "\n",
      "Produces the disambiguations:\n",
      "\tMYH*\tFPLX:MYH\n",
      "\tMajor Histocompatibility Complex*\tMESH:D008285\n",
      "\n",
      "Class level metrics:\n",
      "--------------------\n",
      "Grounding                       \tCount\tF1     \n",
      "Major Histocompatibility Complex*\t3191\t0.99719\n",
      "                             MYH*\t 296\t0.97763\n",
      "                      Ungrounded\t   8\t0.46667\n",
      "\n",
      "Weighted Metrics:\n",
      "-----------------\n",
      "\tF1 score:\t0.99552\n",
      "\tPrecision:\t0.99484\n",
      "\tRecall:\t\t0.99627\n",
      "\n",
      "* Positive labels\n",
      "See Docstring for explanation\n",
      "\n"
     ]
    }
   ],
   "source": [
    "print(disamb.info())"
   ]
  },
  {
   "cell_type": "code",
   "execution_count": 26,
   "metadata": {},
   "outputs": [],
   "source": [
    "model_to_s3(disamb)"
   ]
  },
  {
   "cell_type": "code",
   "execution_count": null,
   "metadata": {},
   "outputs": [],
   "source": []
  }
 ],
 "metadata": {
  "kernelspec": {
   "display_name": "Python 3",
   "language": "python",
   "name": "python3"
  },
  "language_info": {
   "codemirror_mode": {
    "name": "ipython",
    "version": 3
   },
   "file_extension": ".py",
   "mimetype": "text/x-python",
   "name": "python",
   "nbconvert_exporter": "python",
   "pygments_lexer": "ipython3",
   "version": "3.8.4"
  }
 },
 "nbformat": 4,
 "nbformat_minor": 2
}
