{
 "cells": [
  {
   "cell_type": "code",
   "execution_count": 2,
   "metadata": {},
   "outputs": [],
   "source": [
    "import os\n",
    "import json\n",
    "import pickle\n",
    "import random\n",
    "from collections import defaultdict, Counter\n",
    "\n",
    "from indra.literature.adeft_tools import universal_extract_text\n",
    "from indra.databases.hgnc_client import get_hgnc_name, get_hgnc_id\n",
    "\n",
    "from adeft.discover import AdeftMiner\n",
    "from adeft.gui import ground_with_gui\n",
    "from adeft.modeling.label import AdeftLabeler\n",
    "from adeft.modeling.classify import AdeftClassifier\n",
    "from adeft.disambiguate import AdeftDisambiguator\n",
    "\n",
    "\n",
    "from adeft_indra.ground.ground import AdeftGrounder\n",
    "from adeft_indra.model_building.s3 import model_to_s3\n",
    "from adeft_indra.model_building.escape import escape_filename\n",
    "from adeft_indra.db.content import get_pmids_for_agent_text, get_pmids_for_entity, \\\n",
    "    get_plaintexts_for_pmids"
   ]
  },
  {
   "cell_type": "code",
   "execution_count": 3,
   "metadata": {},
   "outputs": [],
   "source": [
    "adeft_grounder = AdeftGrounder()"
   ]
  },
  {
   "cell_type": "code",
   "execution_count": 4,
   "metadata": {},
   "outputs": [],
   "source": [
    "shortforms = ['PAH', 'PAHs'] \n",
    "model_name = ':'.join(sorted(escape_filename(shortform) for shortform in shortforms))\n",
    "results_path = os.path.abspath(os.path.join('../..', 'results', model_name))"
   ]
  },
  {
   "cell_type": "code",
   "execution_count": 5,
   "metadata": {},
   "outputs": [],
   "source": [
    "miners = dict()\n",
    "all_texts = {}\n",
    "for shortform in shortforms:\n",
    "    pmids = get_pmids_for_agent_text(shortform)\n",
    "    text_dict = get_plaintexts_for_pmids(pmids, contains=shortforms)\n",
    "    text_dict = {pmid: text for pmid, text in text_dict.items() if len(text) > 5}\n",
    "    miners[shortform] = AdeftMiner(shortform)\n",
    "    miners[shortform].process_texts(text_dict.values())\n",
    "    all_texts.update(text_dict)\n",
    "\n",
    "longform_dict = {}\n",
    "for shortform in shortforms:\n",
    "    longforms = miners[shortform].get_longforms()\n",
    "    longforms = [(longform, count, score) for longform, count, score in longforms\n",
    "                 if count*score > 2]\n",
    "    longform_dict[shortform] = longforms\n",
    "    \n",
    "combined_longforms = Counter()\n",
    "for longform_rows in longform_dict.values():\n",
    "    combined_longforms.update({longform: count for longform, count, score\n",
    "                               in longform_rows})\n",
    "grounding_map = {}\n",
    "names = {}\n",
    "for longform in combined_longforms:\n",
    "    groundings = adeft_grounder.ground(longform)\n",
    "    if groundings:\n",
    "        grounding = groundings[0]['grounding']\n",
    "        grounding_map[longform] = grounding\n",
    "        names[grounding] = groundings[0]['name']\n",
    "longforms, counts = zip(*combined_longforms.most_common())"
   ]
  },
  {
   "cell_type": "code",
   "execution_count": 16,
   "metadata": {},
   "outputs": [],
   "source": [
    "grounding_map, names, pos_labels = ground_with_gui(longforms, counts, \n",
    "                                                   grounding_map=grounding_map,\n",
    "                                                   names=names, no_browser=True, port=8891)"
   ]
  },
  {
   "cell_type": "code",
   "execution_count": 17,
   "metadata": {},
   "outputs": [],
   "source": [
    "excluded_longforms = ['ph']"
   ]
  },
  {
   "cell_type": "code",
   "execution_count": 18,
   "metadata": {},
   "outputs": [],
   "source": [
    "grounding_dict = {shortform: {longform: grounding_map[longform] \n",
    "                              for longform, _, _ in longforms if longform in grounding_map\n",
    "                              and longform not in excluded_longforms}\n",
    "                  for shortform, longforms in longform_dict.items()}\n",
    "result = [grounding_dict, names, pos_labels]\n",
    "\n",
    "if not os.path.exists(results_path):\n",
    "    os.mkdir(results_path)\n",
    "with open(os.path.join(results_path, f'{model_name}_preliminary_grounding_info.json'), 'w') as f:\n",
    "    json.dump(result, f)"
   ]
  },
  {
   "cell_type": "code",
   "execution_count": 6,
   "metadata": {},
   "outputs": [],
   "source": [
    "grounding_dict, names, pos_labels = [{'PAH': {'pulmonary arterial hypertension': 'MESH:D000081029',\n",
    "   'polycyclic aromatic hydrocarbons': 'CHEBI:CHEBI:33848',\n",
    "   'p aminohippurate': 'CHEBI:CHEBI:104011',\n",
    "   'phenylalanine hydroxylase': 'HGNC:8582',\n",
    "   'poly allylamine hydrochloride': 'CHEBI:CHEBI:53305',\n",
    "   'p aminohippurate acid': 'CHEBI:CHEBI:104011',\n",
    "   'para aminohippurate': 'CHEBI:CHEBI:104011',\n",
    "   'polyaromatic hydrocarbons': 'CHEBI:CHEBI:33848',\n",
    "   'para aminohippurate acid': 'CHEBI:CHEBI:104011',\n",
    "   'pulmonary hypertension': 'MESH:D000081029',\n",
    "   'polyallylamine': 'CHEBI:CHEBI:53305',\n",
    "   'predicted adult height': 'ungrounded',\n",
    "   'polynuclear aromatic hydrocarbons': 'CHEBI:CHEBI:33848',\n",
    "   'polyallylamine hydrochloride': 'CHEBI:CHEBI:53305',\n",
    "   'poly aromatic hydrocarbons': 'CHEBI:CHEBI:33848',\n",
    "   'pregnancy associated hypertension': 'MESH:D046110',\n",
    "   'paired amphipathic helix': 'IP:IPR003822',\n",
    "   'pa hypertension': 'MESH:D000081029',\n",
    "   'perillaldehyde': 'MESH:C033342',\n",
    "   'poly allylamine': 'CHEBI:CHEBI:53305',\n",
    "   'p amino hippurate': 'CHEBI:CHEBI:104011',\n",
    "   'ofp aminohippurate': 'CHEBI:CHEBI:104011',\n",
    "   'post atrophic hyperplasia': 'ungrounded',\n",
    "   'pathological hypertrophy': 'ungrounded',\n",
    "   'paraaminohippurate': 'CHEBI:CHEBI:104011',\n",
    "   'paraaminohippurate acid': 'CHEBI:CHEBI:104011'},\n",
    "  'PAHs': {'polycyclic aromatic hydrocarbons': 'CHEBI:CHEBI:33848'}},\n",
    " {'CHEBI:CHEBI:104011': 'p-aminohippuric acid',\n",
    "  'MESH:D000081029': 'Pulmonary Arterial Hypertension',\n",
    "  'IP:IPR003822': 'Paired amphipathic helix',\n",
    "  'MESH:C033342': 'perillaldehyde',\n",
    "  'HGNC:8582': 'PAH',\n",
    "  'CHEBI:CHEBI:53305': 'poly(allylamine hydrochloride)',\n",
    "  'CHEBI:CHEBI:33848': 'polycyclic arene',\n",
    "  'MESH:D046110': 'Hypertension, Pregnancy-Induced'},\n",
    " ['CHEBI:CHEBI:104011',\n",
    "  'CHEBI:CHEBI:33848',\n",
    "  'CHEBI:CHEBI:53305',\n",
    "  'HGNC:8582',\n",
    "  'IP:IPR003822',\n",
    "  'MESH:C033342',\n",
    "  'MESH:D000081029',\n",
    "  'MESH:D046110']]"
   ]
  },
  {
   "cell_type": "code",
   "execution_count": 7,
   "metadata": {},
   "outputs": [],
   "source": [
    "additional_entities = []"
   ]
  },
  {
   "cell_type": "code",
   "execution_count": 8,
   "metadata": {},
   "outputs": [],
   "source": [
    "labeler = AdeftLabeler(grounding_dict)\n",
    "corpus = labeler.build_from_texts((text, pmid) for pmid, text in all_texts.items())\n",
    "agent_text_pmid_map = defaultdict(list)\n",
    "for text, label, id_ in corpus:\n",
    "    agent_text_pmid_map[label].append(id_)\n",
    "\n",
    "entities = pos_labels + additional_entities\n",
    "entity_pmid_map = {entity: get_pmids_for_entity(*entity.split(':', maxsplit=1),\n",
    "                                                major_topic=True) for entity in entities}"
   ]
  },
  {
   "cell_type": "code",
   "execution_count": 9,
   "metadata": {},
   "outputs": [],
   "source": [
    "intersection1 = []\n",
    "for entity1, pmids1 in entity_pmid_map.items():\n",
    "    for entity2, pmids2 in entity_pmid_map.items():\n",
    "        intersection1.append((entity1, entity2, len(set(pmids1) & set(pmids2))))"
   ]
  },
  {
   "cell_type": "code",
   "execution_count": 10,
   "metadata": {},
   "outputs": [],
   "source": [
    "intersection2 = []\n",
    "for entity1, pmids1 in agent_text_pmid_map.items():\n",
    "    for entity2, pmids2 in entity_pmid_map.items():\n",
    "        intersection2.append((entity1, entity2, len(set(pmids1) & set(pmids2))))"
   ]
  },
  {
   "cell_type": "code",
   "execution_count": 11,
   "metadata": {},
   "outputs": [
    {
     "data": {
      "text/plain": [
       "[('CHEBI:CHEBI:104011', 'CHEBI:CHEBI:104011', 922),\n",
       " ('CHEBI:CHEBI:104011', 'CHEBI:CHEBI:33848', 0),\n",
       " ('CHEBI:CHEBI:104011', 'CHEBI:CHEBI:53305', 0),\n",
       " ('CHEBI:CHEBI:104011', 'HGNC:8582', 0),\n",
       " ('CHEBI:CHEBI:104011', 'IP:IPR003822', 0),\n",
       " ('CHEBI:CHEBI:104011', 'MESH:C033342', 0),\n",
       " ('CHEBI:CHEBI:104011', 'MESH:D000081029', 0),\n",
       " ('CHEBI:CHEBI:104011', 'MESH:D046110', 0),\n",
       " ('CHEBI:CHEBI:33848', 'CHEBI:CHEBI:104011', 0),\n",
       " ('CHEBI:CHEBI:33848', 'CHEBI:CHEBI:33848', 100000),\n",
       " ('CHEBI:CHEBI:33848', 'CHEBI:CHEBI:53305', 0),\n",
       " ('CHEBI:CHEBI:33848', 'HGNC:8582', 0),\n",
       " ('CHEBI:CHEBI:33848', 'IP:IPR003822', 0),\n",
       " ('CHEBI:CHEBI:33848', 'MESH:C033342', 0),\n",
       " ('CHEBI:CHEBI:33848', 'MESH:D000081029', 0),\n",
       " ('CHEBI:CHEBI:33848', 'MESH:D046110', 0),\n",
       " ('CHEBI:CHEBI:53305', 'CHEBI:CHEBI:104011', 0),\n",
       " ('CHEBI:CHEBI:53305', 'CHEBI:CHEBI:33848', 0),\n",
       " ('CHEBI:CHEBI:53305', 'CHEBI:CHEBI:53305', 0),\n",
       " ('CHEBI:CHEBI:53305', 'HGNC:8582', 0),\n",
       " ('CHEBI:CHEBI:53305', 'IP:IPR003822', 0),\n",
       " ('CHEBI:CHEBI:53305', 'MESH:C033342', 0),\n",
       " ('CHEBI:CHEBI:53305', 'MESH:D000081029', 0),\n",
       " ('CHEBI:CHEBI:53305', 'MESH:D046110', 0),\n",
       " ('HGNC:8582', 'CHEBI:CHEBI:104011', 0),\n",
       " ('HGNC:8582', 'CHEBI:CHEBI:33848', 0),\n",
       " ('HGNC:8582', 'CHEBI:CHEBI:53305', 0),\n",
       " ('HGNC:8582', 'HGNC:8582', 1347),\n",
       " ('HGNC:8582', 'IP:IPR003822', 0),\n",
       " ('HGNC:8582', 'MESH:C033342', 0),\n",
       " ('HGNC:8582', 'MESH:D000081029', 0),\n",
       " ('HGNC:8582', 'MESH:D046110', 0),\n",
       " ('IP:IPR003822', 'CHEBI:CHEBI:104011', 0),\n",
       " ('IP:IPR003822', 'CHEBI:CHEBI:33848', 0),\n",
       " ('IP:IPR003822', 'CHEBI:CHEBI:53305', 0),\n",
       " ('IP:IPR003822', 'HGNC:8582', 0),\n",
       " ('IP:IPR003822', 'IP:IPR003822', 0),\n",
       " ('IP:IPR003822', 'MESH:C033342', 0),\n",
       " ('IP:IPR003822', 'MESH:D000081029', 0),\n",
       " ('IP:IPR003822', 'MESH:D046110', 0),\n",
       " ('MESH:C033342', 'CHEBI:CHEBI:104011', 0),\n",
       " ('MESH:C033342', 'CHEBI:CHEBI:33848', 0),\n",
       " ('MESH:C033342', 'CHEBI:CHEBI:53305', 0),\n",
       " ('MESH:C033342', 'HGNC:8582', 0),\n",
       " ('MESH:C033342', 'IP:IPR003822', 0),\n",
       " ('MESH:C033342', 'MESH:C033342', 0),\n",
       " ('MESH:C033342', 'MESH:D000081029', 0),\n",
       " ('MESH:C033342', 'MESH:D046110', 0),\n",
       " ('MESH:D000081029', 'CHEBI:CHEBI:104011', 0),\n",
       " ('MESH:D000081029', 'CHEBI:CHEBI:33848', 0),\n",
       " ('MESH:D000081029', 'CHEBI:CHEBI:53305', 0),\n",
       " ('MESH:D000081029', 'HGNC:8582', 0),\n",
       " ('MESH:D000081029', 'IP:IPR003822', 0),\n",
       " ('MESH:D000081029', 'MESH:C033342', 0),\n",
       " ('MESH:D000081029', 'MESH:D000081029', 0),\n",
       " ('MESH:D000081029', 'MESH:D046110', 0),\n",
       " ('MESH:D046110', 'CHEBI:CHEBI:104011', 0),\n",
       " ('MESH:D046110', 'CHEBI:CHEBI:33848', 0),\n",
       " ('MESH:D046110', 'CHEBI:CHEBI:53305', 0),\n",
       " ('MESH:D046110', 'HGNC:8582', 0),\n",
       " ('MESH:D046110', 'IP:IPR003822', 0),\n",
       " ('MESH:D046110', 'MESH:C033342', 0),\n",
       " ('MESH:D046110', 'MESH:D000081029', 0),\n",
       " ('MESH:D046110', 'MESH:D046110', 0)]"
      ]
     },
     "execution_count": 11,
     "metadata": {},
     "output_type": "execute_result"
    }
   ],
   "source": [
    "intersection1"
   ]
  },
  {
   "cell_type": "code",
   "execution_count": 12,
   "metadata": {},
   "outputs": [
    {
     "data": {
      "text/plain": [
       "[('CHEBI:CHEBI:104011', 'CHEBI:CHEBI:104011', 101),\n",
       " ('CHEBI:CHEBI:104011', 'CHEBI:CHEBI:33848', 2),\n",
       " ('CHEBI:CHEBI:104011', 'CHEBI:CHEBI:53305', 0),\n",
       " ('CHEBI:CHEBI:104011', 'HGNC:8582', 0),\n",
       " ('CHEBI:CHEBI:104011', 'IP:IPR003822', 0),\n",
       " ('CHEBI:CHEBI:104011', 'MESH:C033342', 0),\n",
       " ('CHEBI:CHEBI:104011', 'MESH:D000081029', 0),\n",
       " ('CHEBI:CHEBI:104011', 'MESH:D046110', 0),\n",
       " ('HGNC:8582', 'CHEBI:CHEBI:104011', 0),\n",
       " ('HGNC:8582', 'CHEBI:CHEBI:33848', 0),\n",
       " ('HGNC:8582', 'CHEBI:CHEBI:53305', 0),\n",
       " ('HGNC:8582', 'HGNC:8582', 45),\n",
       " ('HGNC:8582', 'IP:IPR003822', 0),\n",
       " ('HGNC:8582', 'MESH:C033342', 0),\n",
       " ('HGNC:8582', 'MESH:D000081029', 0),\n",
       " ('HGNC:8582', 'MESH:D046110', 0),\n",
       " ('CHEBI:CHEBI:33848', 'CHEBI:CHEBI:104011', 0),\n",
       " ('CHEBI:CHEBI:33848', 'CHEBI:CHEBI:33848', 541),\n",
       " ('CHEBI:CHEBI:33848', 'CHEBI:CHEBI:53305', 0),\n",
       " ('CHEBI:CHEBI:33848', 'HGNC:8582', 0),\n",
       " ('CHEBI:CHEBI:33848', 'IP:IPR003822', 0),\n",
       " ('CHEBI:CHEBI:33848', 'MESH:C033342', 0),\n",
       " ('CHEBI:CHEBI:33848', 'MESH:D000081029', 0),\n",
       " ('CHEBI:CHEBI:33848', 'MESH:D046110', 0),\n",
       " ('MESH:D000081029', 'CHEBI:CHEBI:104011', 0),\n",
       " ('MESH:D000081029', 'CHEBI:CHEBI:33848', 11),\n",
       " ('MESH:D000081029', 'CHEBI:CHEBI:53305', 0),\n",
       " ('MESH:D000081029', 'HGNC:8582', 0),\n",
       " ('MESH:D000081029', 'IP:IPR003822', 0),\n",
       " ('MESH:D000081029', 'MESH:C033342', 0),\n",
       " ('MESH:D000081029', 'MESH:D000081029', 0),\n",
       " ('MESH:D000081029', 'MESH:D046110', 0),\n",
       " ('ungrounded', 'CHEBI:CHEBI:104011', 0),\n",
       " ('ungrounded', 'CHEBI:CHEBI:33848', 0),\n",
       " ('ungrounded', 'CHEBI:CHEBI:53305', 0),\n",
       " ('ungrounded', 'HGNC:8582', 0),\n",
       " ('ungrounded', 'IP:IPR003822', 0),\n",
       " ('ungrounded', 'MESH:C033342', 0),\n",
       " ('ungrounded', 'MESH:D000081029', 0),\n",
       " ('ungrounded', 'MESH:D046110', 0),\n",
       " ('IP:IPR003822', 'CHEBI:CHEBI:104011', 0),\n",
       " ('IP:IPR003822', 'CHEBI:CHEBI:33848', 0),\n",
       " ('IP:IPR003822', 'CHEBI:CHEBI:53305', 0),\n",
       " ('IP:IPR003822', 'HGNC:8582', 0),\n",
       " ('IP:IPR003822', 'IP:IPR003822', 0),\n",
       " ('IP:IPR003822', 'MESH:C033342', 0),\n",
       " ('IP:IPR003822', 'MESH:D000081029', 0),\n",
       " ('IP:IPR003822', 'MESH:D046110', 0),\n",
       " ('CHEBI:CHEBI:53305', 'CHEBI:CHEBI:104011', 0),\n",
       " ('CHEBI:CHEBI:53305', 'CHEBI:CHEBI:33848', 0),\n",
       " ('CHEBI:CHEBI:53305', 'CHEBI:CHEBI:53305', 0),\n",
       " ('CHEBI:CHEBI:53305', 'HGNC:8582', 0),\n",
       " ('CHEBI:CHEBI:53305', 'IP:IPR003822', 0),\n",
       " ('CHEBI:CHEBI:53305', 'MESH:C033342', 0),\n",
       " ('CHEBI:CHEBI:53305', 'MESH:D000081029', 0),\n",
       " ('CHEBI:CHEBI:53305', 'MESH:D046110', 0),\n",
       " ('MESH:C033342', 'CHEBI:CHEBI:104011', 0),\n",
       " ('MESH:C033342', 'CHEBI:CHEBI:33848', 0),\n",
       " ('MESH:C033342', 'CHEBI:CHEBI:53305', 0),\n",
       " ('MESH:C033342', 'HGNC:8582', 0),\n",
       " ('MESH:C033342', 'IP:IPR003822', 0),\n",
       " ('MESH:C033342', 'MESH:C033342', 0),\n",
       " ('MESH:C033342', 'MESH:D000081029', 0),\n",
       " ('MESH:C033342', 'MESH:D046110', 0),\n",
       " ('MESH:D046110', 'CHEBI:CHEBI:104011', 0),\n",
       " ('MESH:D046110', 'CHEBI:CHEBI:33848', 0),\n",
       " ('MESH:D046110', 'CHEBI:CHEBI:53305', 0),\n",
       " ('MESH:D046110', 'HGNC:8582', 0),\n",
       " ('MESH:D046110', 'IP:IPR003822', 0),\n",
       " ('MESH:D046110', 'MESH:C033342', 0),\n",
       " ('MESH:D046110', 'MESH:D000081029', 0),\n",
       " ('MESH:D046110', 'MESH:D046110', 0)]"
      ]
     },
     "execution_count": 12,
     "metadata": {},
     "output_type": "execute_result"
    }
   ],
   "source": [
    "intersection2"
   ]
  },
  {
   "cell_type": "code",
   "execution_count": 15,
   "metadata": {},
   "outputs": [],
   "source": [
    "for entity, pmids in entity_pmid_map.items():\n",
    "    new_pmids = list(set(pmids) - all_texts.keys())\n",
    "    if len(new_pmids) > 10000:\n",
    "        new_pmids = random.choices(new_pmids, k=10000)\n",
    "    text_dict = get_plaintexts_for_pmids(new_pmids)\n",
    "    corpus.extend([(text, entity, pmid) for pmid, text in text_dict.items()])"
   ]
  },
  {
   "cell_type": "code",
   "execution_count": 16,
   "metadata": {},
   "outputs": [
    {
     "name": "stderr",
     "output_type": "stream",
     "text": [
      "INFO: [2020-09-17 11:53:06] /adeft/PythonRepos/adeft/adeft/modeling/classify.py - Beginning grid search in parameter space:\n",
      "{'C': [100.0], 'max_features': [10000]}\n",
      "INFO: [2020-09-17 11:57:39] /adeft/PythonRepos/adeft/adeft/modeling/classify.py - Best f1 score of 0.9856359225261817 found for parameter values:\n",
      "{'logit__C': 100.0, 'tfidf__max_features': 10000}\n"
     ]
    }
   ],
   "source": [
    "%%capture\n",
    "\n",
    "classifier = AdeftClassifier(shortforms, pos_labels=pos_labels, random_state=1729)\n",
    "param_grid = {'C': [100.0], 'max_features': [10000]}\n",
    "texts, labels, pmids = zip(*corpus)\n",
    "classifier.cv(texts, labels, param_grid, cv=5, n_jobs=5)"
   ]
  },
  {
   "cell_type": "code",
   "execution_count": 17,
   "metadata": {
    "scrolled": true
   },
   "outputs": [
    {
     "data": {
      "text/plain": [
       "{'label_distribution': {'CHEBI:CHEBI:104011': 1839,\n",
       "  'HGNC:8582': 1364,\n",
       "  'CHEBI:CHEBI:33848': 10729,\n",
       "  'MESH:D000081029': 1585,\n",
       "  'ungrounded': 8,\n",
       "  'IP:IPR003822': 4,\n",
       "  'CHEBI:CHEBI:53305': 55,\n",
       "  'MESH:C033342': 4,\n",
       "  'MESH:D046110': 2},\n",
       " 'f1': {'mean': 0.985636, 'std': 0.002058},\n",
       " 'precision': {'mean': 0.985679, 'std': 0.001841},\n",
       " 'recall': {'mean': 0.986459, 'std': 0.001774},\n",
       " 'HGNC:8582': {'f1': {'mean': 0.976118, 'std': 0.008131},\n",
       "  'pr': {'mean': 0.961148, 'std': 0.015462},\n",
       "  'rc': {'mean': 0.991713, 'std': 0.004956}},\n",
       " 'CHEBI:CHEBI:53305': {'f1': {'mean': 0.617328, 'std': 0.184484},\n",
       "  'pr': {'mean': 0.490909, 'std': 0.195824},\n",
       "  'rc': {'mean': 0.946429, 'std': 0.065854}},\n",
       " 'CHEBI:CHEBI:33848': {'f1': {'mean': 0.99027, 'std': 0.00129},\n",
       "  'pr': {'mean': 0.995992, 'std': 0.001126},\n",
       "  'rc': {'mean': 0.984614, 'std': 0.001649}},\n",
       " 'IP:IPR003822': {'f1': {'mean': 0.333333, 'std': 0.421637},\n",
       "  'pr': {'mean': 0.4, 'std': 0.489898},\n",
       "  'rc': {'mean': 0.3, 'std': 0.4}},\n",
       " 'CHEBI:CHEBI:104011': {'f1': {'mean': 0.98528, 'std': 0.002534},\n",
       "  'pr': {'mean': 0.983149, 'std': 0.006517},\n",
       "  'rc': {'mean': 0.987463, 'std': 0.003587}},\n",
       " 'MESH:C033342': {'f1': {'mean': 0.0, 'std': 0.0},\n",
       "  'pr': {'mean': 0.0, 'std': 0.0},\n",
       "  'rc': {'mean': 0.0, 'std': 0.0}},\n",
       " 'MESH:D000081029': {'f1': {'mean': 0.980823, 'std': 0.008562},\n",
       "  'pr': {'mean': 0.969716, 'std': 0.012868},\n",
       "  'rc': {'mean': 0.992257, 'std': 0.006587}},\n",
       " 'MESH:D046110': {'f1': {'mean': 0.0, 'std': 0.0},\n",
       "  'pr': {'mean': 0.0, 'std': 0.0},\n",
       "  'rc': {'mean': 0.0, 'std': 0.0}},\n",
       " 'ungrounded': {'f1': {'mean': 0.333333, 'std': 0.421637},\n",
       "  'pr': {'mean': 0.3, 'std': 0.4},\n",
       "  'rc': {'mean': 0.4, 'std': 0.489898}}}"
      ]
     },
     "execution_count": 17,
     "metadata": {},
     "output_type": "execute_result"
    }
   ],
   "source": [
    "classifier.stats"
   ]
  },
  {
   "cell_type": "code",
   "execution_count": 18,
   "metadata": {},
   "outputs": [],
   "source": [
    "disamb = AdeftDisambiguator(classifier, grounding_dict, names)"
   ]
  },
  {
   "cell_type": "code",
   "execution_count": 20,
   "metadata": {},
   "outputs": [],
   "source": [
    "model_to_s3(disamb)"
   ]
  },
  {
   "cell_type": "code",
   "execution_count": 19,
   "metadata": {},
   "outputs": [
    {
     "name": "stdout",
     "output_type": "stream",
     "text": [
      "Disambiguation model for PAH, and PAHs\n",
      "\n",
      "Produces the disambiguations:\n",
      "\tHypertension, Pregnancy-Induced*\tMESH:D046110\n",
      "\tPAH*\tHGNC:8582\n",
      "\tPaired amphipathic helix*\tIP:IPR003822\n",
      "\tPulmonary Arterial Hypertension*\tMESH:D000081029\n",
      "\tp-aminohippuric acid*\tCHEBI:CHEBI:104011\n",
      "\tperillaldehyde*\tMESH:C033342\n",
      "\tpoly(allylamine hydrochloride)*\tCHEBI:CHEBI:53305\n",
      "\tpolycyclic arene*\tCHEBI:CHEBI:33848\n",
      "\n",
      "Class level metrics:\n",
      "--------------------\n",
      "Grounding                      \tCount\tF1     \n",
      "               polycyclic arene*\t10729\t0.99027\n",
      "           p-aminohippuric acid*\t 1839\t0.98528\n",
      "Pulmonary Arterial Hypertension*\t 1585\t0.98082\n",
      "                            PAH*\t 1364\t0.97612\n",
      " poly(allylamine hydrochloride)*\t   55\t0.61733\n",
      "                     Ungrounded\t    8\t0.33333\n",
      "       Paired amphipathic helix*\t    4\t0.33333\n",
      "                 perillaldehyde*\t    4\t    0.0\n",
      "Hypertension, Pregnancy-Induced*\t    2\t    0.0\n",
      "\n",
      "Weighted Metrics:\n",
      "-----------------\n",
      "\tF1 score:\t0.98564\n",
      "\tPrecision:\t0.98568\n",
      "\tRecall:\t\t0.98646\n",
      "\n",
      "* Positive labels\n",
      "See Docstring for explanation\n",
      "\n"
     ]
    }
   ],
   "source": [
    "print(disamb.info())"
   ]
  },
  {
   "cell_type": "code",
   "execution_count": null,
   "metadata": {},
   "outputs": [],
   "source": []
  }
 ],
 "metadata": {
  "kernelspec": {
   "display_name": "Python 3",
   "language": "python",
   "name": "python3"
  },
  "language_info": {
   "codemirror_mode": {
    "name": "ipython",
    "version": 3
   },
   "file_extension": ".py",
   "mimetype": "text/x-python",
   "name": "python",
   "nbconvert_exporter": "python",
   "pygments_lexer": "ipython3",
   "version": "3.8.4"
  }
 },
 "nbformat": 4,
 "nbformat_minor": 2
}
