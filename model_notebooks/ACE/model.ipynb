{
 "cells": [
  {
   "cell_type": "code",
   "execution_count": 1,
   "metadata": {},
   "outputs": [],
   "source": [
    "import os\n",
    "import json\n",
    "import pickle\n",
    "import random\n",
    "from collections import defaultdict, Counter\n",
    "\n",
    "from indra.literature.adeft_tools import universal_extract_text\n",
    "from indra.databases.hgnc_client import get_hgnc_name, get_hgnc_id\n",
    "\n",
    "from adeft.discover import AdeftMiner\n",
    "from adeft.gui import ground_with_gui\n",
    "from adeft.modeling.label import AdeftLabeler\n",
    "from adeft.modeling.classify import AdeftClassifier\n",
    "from adeft.disambiguate import AdeftDisambiguator\n",
    "\n",
    "\n",
    "from adeft_indra.ground.ground import AdeftGrounder\n",
    "from adeft_indra.model_building.s3 import model_to_s3\n",
    "from adeft_indra.model_building.escape import escape_filename\n",
    "from adeft_indra.db.content import get_pmids_for_agent_text, get_pmids_for_entity, \\\n",
    "    get_plaintexts_for_pmids"
   ]
  },
  {
   "cell_type": "code",
   "execution_count": 2,
   "metadata": {},
   "outputs": [],
   "source": [
    "adeft_grounder = AdeftGrounder()"
   ]
  },
  {
   "cell_type": "code",
   "execution_count": 3,
   "metadata": {},
   "outputs": [],
   "source": [
    "shortforms = ['ACE']\n",
    "model_name = ':'.join(sorted(escape_filename(shortform) for shortform in shortforms))\n",
    "results_path = os.path.abspath(os.path.join('../..', 'results', model_name))"
   ]
  },
  {
   "cell_type": "code",
   "execution_count": 4,
   "metadata": {},
   "outputs": [],
   "source": [
    "miners = dict()\n",
    "all_texts = {}\n",
    "for shortform in shortforms:\n",
    "    pmids = get_pmids_for_agent_text(shortform)\n",
    "    if len(pmids) > 10000:\n",
    "        pmids = random.choices(pmids, k=10000)\n",
    "    text_dict = get_plaintexts_for_pmids(pmids, contains=shortforms)\n",
    "    text_dict = {pmid: text for pmid, text in text_dict.items() if len(text) > 5}\n",
    "    miners[shortform] = AdeftMiner(shortform)\n",
    "    miners[shortform].process_texts(text_dict.values())\n",
    "    all_texts.update(text_dict)\n",
    "\n",
    "longform_dict = {}\n",
    "for shortform in shortforms:\n",
    "    longforms = miners[shortform].get_longforms()\n",
    "    longforms = [(longform, count, score) for longform, count, score in longforms\n",
    "                 if count*score > 2]\n",
    "    longform_dict[shortform] = longforms\n",
    "    \n",
    "combined_longforms = Counter()\n",
    "for longform_rows in longform_dict.values():\n",
    "    combined_longforms.update({longform: count for longform, count, score\n",
    "                               in longform_rows})\n",
    "grounding_map = {}\n",
    "names = {}\n",
    "for longform in combined_longforms:\n",
    "    groundings = adeft_grounder.ground(longform)\n",
    "    if groundings:\n",
    "        grounding = groundings[0]['grounding']\n",
    "        grounding_map[longform] = grounding\n",
    "        names[grounding] = groundings[0]['name']\n",
    "longforms, counts = zip(*combined_longforms.most_common())\n",
    "pos_labels = []"
   ]
  },
  {
   "cell_type": "code",
   "execution_count": 5,
   "metadata": {},
   "outputs": [
    {
     "data": {
      "text/plain": [
       "[('angiotensin converting enzyme', 3262),\n",
       " ('adverse childhood experiences', 42),\n",
       " ('angiotensin converting enzyme gene', 16),\n",
       " ('angiotensinconverting enzyme', 15),\n",
       " ('acetate', 9),\n",
       " ('allele coupled exchange', 9),\n",
       " ('acetamiprid', 9),\n",
       " ('acesulfame', 7),\n",
       " ('acetylcholinesterase', 6),\n",
       " ('enzyme activity', 6),\n",
       " ('acetaldehyde', 5),\n",
       " ('action sentence compatibility effects', 5),\n",
       " ('agonist induced calcium entry', 5),\n",
       " ('anterior chamber of the eye', 5),\n",
       " ('agonist induced ca2 + entry', 5),\n",
       " ('acupoint catgut embedding', 4),\n",
       " ('antegrade continence enemas', 4),\n",
       " ('aqueous cinnamon extract', 4),\n",
       " ('angiotensin converting en zyme', 4),\n",
       " ('angiotensin converting enzyme inhibitors', 4),\n",
       " ('angiotensin converting enzyme 1', 4),\n",
       " ('anthocephalus cadmaba ethanol extract', 4),\n",
       " ('ac', 4),\n",
       " ('ace', 3),\n",
       " ('aceclofenac', 3),\n",
       " ('affinity capillaris electrophoresis', 3),\n",
       " ('arm crank ergometer', 3),\n",
       " ('anticipatory contrast effects', 3),\n",
       " ('ac extract', 3),\n",
       " ('angiotensin conversion enzyme', 3),\n",
       " ('angiotensin converting enzyme i', 3),\n",
       " ('abundance based coverage estimation', 3),\n",
       " ('a camphorata extract', 3),\n",
       " ('acute care for elders', 3),\n",
       " ('amygdaloid central nucleus', 3),\n",
       " ('angiotensin con verting enzyme', 3),\n",
       " ('central amygdaloid nucleus', 3)]"
      ]
     },
     "execution_count": 5,
     "metadata": {},
     "output_type": "execute_result"
    }
   ],
   "source": [
    "list(zip(longforms, counts))"
   ]
  },
  {
   "cell_type": "code",
   "execution_count": 6,
   "metadata": {},
   "outputs": [
    {
     "name": "stderr",
     "output_type": "stream",
     "text": [
      "INFO: [2020-10-02 03:15:34] indra.ontology.bio.ontology - Loading INDRA bio ontology from cache at /home/ubuntu/.indra/bio_ontology/1.2/bio_ontology.pkl\n"
     ]
    }
   ],
   "source": [
    "grounding_map, names, pos_labels = ground_with_gui(longforms, counts, \n",
    "                                                   grounding_map=grounding_map,\n",
    "                                                   names=names, pos_labels=pos_labels, no_browser=True, port=8890)"
   ]
  },
  {
   "cell_type": "code",
   "execution_count": 7,
   "metadata": {},
   "outputs": [],
   "source": [
    "result = [grounding_map, names, pos_labels]"
   ]
  },
  {
   "cell_type": "code",
   "execution_count": 8,
   "metadata": {},
   "outputs": [
    {
     "data": {
      "text/plain": [
       "[{'a camphorata extract': 'ungrounded',\n",
       "  'abundance based coverage estimation': 'ungrounded',\n",
       "  'ac': 'ungrounded',\n",
       "  'ac extract': 'ungrounded',\n",
       "  'ace': 'ungrounded',\n",
       "  'aceclofenac': 'CHEBI:CHEBI:31159',\n",
       "  'acesulfame': 'CHEBI:CHEBI:83501',\n",
       "  'acetaldehyde': 'CHEBI:CHEBI:15343',\n",
       "  'acetamiprid': 'CHEBI:CHEBI:39163',\n",
       "  'acetate': 'CHEBI:CHEBI:30089',\n",
       "  'acetylcholinesterase': 'HGNC:12846',\n",
       "  'action sentence compatibility effects': 'ungrounded',\n",
       "  'acupoint catgut embedding': 'ungrounded',\n",
       "  'acute care for elders': 'ungrounded',\n",
       "  'adverse childhood experiences': 'MESH:D000076783',\n",
       "  'affinity capillaris electrophoresis': 'ungrounded',\n",
       "  'agonist induced ca2 + entry': 'ungrounded',\n",
       "  'agonist induced calcium entry': 'ungrounded',\n",
       "  'allele coupled exchange': 'ungrounded',\n",
       "  'amygdaloid central nucleus': 'MESH:D002529',\n",
       "  'angiotensin con verting enzyme': 'HGNC:2707',\n",
       "  'angiotensin conversion enzyme': 'HGNC:2707',\n",
       "  'angiotensin converting en zyme': 'HGNC:2707',\n",
       "  'angiotensin converting enzyme': 'HGNC:2707',\n",
       "  'angiotensin converting enzyme 1': 'HGNC:2707',\n",
       "  'angiotensin converting enzyme gene': 'HGNC:2707',\n",
       "  'angiotensin converting enzyme i': 'HGNC:2707',\n",
       "  'angiotensin converting enzyme inhibitors': 'CHEBI:CHEBI:35457',\n",
       "  'angiotensinconverting enzyme': 'HGNC:2707',\n",
       "  'antegrade continence enemas': 'ungrounded',\n",
       "  'anterior chamber of the eye': 'ungrounded',\n",
       "  'anthocephalus cadmaba ethanol extract': 'ungrounded',\n",
       "  'anticipatory contrast effects': 'ungrounded',\n",
       "  'aqueous cinnamon extract': 'ungrounded',\n",
       "  'arm crank ergometer': 'ungrounded',\n",
       "  'central amygdaloid nucleus': 'MESH:D066274',\n",
       "  'enzyme activity': 'GO:GO:0003824'},\n",
       " {'CHEBI:CHEBI:31159': 'aceclofenac',\n",
       "  'CHEBI:CHEBI:83501': 'acesulfame',\n",
       "  'CHEBI:CHEBI:15343': 'acetaldehyde',\n",
       "  'CHEBI:CHEBI:39163': 'acetamiprid',\n",
       "  'CHEBI:CHEBI:30089': 'acetate',\n",
       "  'HGNC:12846': 'ACHE',\n",
       "  'MESH:D000076783': 'Adverse Childhood Experiences',\n",
       "  'MESH:D002529': 'Cerebellar Nuclei',\n",
       "  'HGNC:2707': 'ACE',\n",
       "  'CHEBI:CHEBI:35457': 'EC 3.4.15.1 (peptidyl-dipeptidase A) inhibitor',\n",
       "  'MESH:D066274': 'Central Amygdaloid Nucleus',\n",
       "  'GO:GO:0003824': 'catalytic activity'},\n",
       " ['HGNC:2707', 'MESH:D000076783']]"
      ]
     },
     "execution_count": 8,
     "metadata": {},
     "output_type": "execute_result"
    }
   ],
   "source": [
    "result"
   ]
  },
  {
   "cell_type": "code",
   "execution_count": 9,
   "metadata": {},
   "outputs": [],
   "source": [
    "grounding_map, names, pos_labels = [{'a camphorata extract': 'ungrounded',\n",
    "  'abundance based coverage estimation': 'ungrounded',\n",
    "  'ac': 'ungrounded',\n",
    "  'ac extract': 'ungrounded',\n",
    "  'ace': 'ungrounded',\n",
    "  'aceclofenac': 'CHEBI:CHEBI:31159',\n",
    "  'acesulfame': 'CHEBI:CHEBI:83501',\n",
    "  'acetaldehyde': 'CHEBI:CHEBI:15343',\n",
    "  'acetamiprid': 'CHEBI:CHEBI:39163',\n",
    "  'acetate': 'CHEBI:CHEBI:30089',\n",
    "  'acetylcholinesterase': 'HGNC:12846',\n",
    "  'action sentence compatibility effects': 'ungrounded',\n",
    "  'acupoint catgut embedding': 'ungrounded',\n",
    "  'acute care for elders': 'ungrounded',\n",
    "  'adverse childhood experiences': 'MESH:D000076783',\n",
    "  'affinity capillaris electrophoresis': 'ungrounded',\n",
    "  'agonist induced ca2 + entry': 'ungrounded',\n",
    "  'agonist induced calcium entry': 'ungrounded',\n",
    "  'allele coupled exchange': 'ungrounded',\n",
    "  'amygdaloid central nucleus': 'MESH:D002529',\n",
    "  'angiotensin con verting enzyme': 'HGNC:2707',\n",
    "  'angiotensin conversion enzyme': 'HGNC:2707',\n",
    "  'angiotensin converting en zyme': 'HGNC:2707',\n",
    "  'angiotensin converting enzyme': 'HGNC:2707',\n",
    "  'angiotensin converting enzyme 1': 'HGNC:2707',\n",
    "  'angiotensin converting enzyme gene': 'HGNC:2707',\n",
    "  'angiotensin converting enzyme i': 'HGNC:2707',\n",
    "  'angiotensin converting enzyme inhibitors': 'CHEBI:CHEBI:35457',\n",
    "  'angiotensinconverting enzyme': 'HGNC:2707',\n",
    "  'antegrade continence enemas': 'ungrounded',\n",
    "  'anterior chamber of the eye': 'ungrounded',\n",
    "  'anthocephalus cadmaba ethanol extract': 'ungrounded',\n",
    "  'anticipatory contrast effects': 'ungrounded',\n",
    "  'aqueous cinnamon extract': 'ungrounded',\n",
    "  'arm crank ergometer': 'ungrounded',\n",
    "  'central amygdaloid nucleus': 'MESH:D066274',\n",
    "  'enzyme activity': 'GO:GO:0003824'},\n",
    " {'CHEBI:CHEBI:31159': 'aceclofenac',\n",
    "  'CHEBI:CHEBI:83501': 'acesulfame',\n",
    "  'CHEBI:CHEBI:15343': 'acetaldehyde',\n",
    "  'CHEBI:CHEBI:39163': 'acetamiprid',\n",
    "  'CHEBI:CHEBI:30089': 'acetate',\n",
    "  'HGNC:12846': 'ACHE',\n",
    "  'MESH:D000076783': 'Adverse Childhood Experiences',\n",
    "  'MESH:D002529': 'Cerebellar Nuclei',\n",
    "  'HGNC:2707': 'ACE',\n",
    "  'CHEBI:CHEBI:35457': 'EC 3.4.15.1 (peptidyl-dipeptidase A) inhibitor',\n",
    "  'MESH:D066274': 'Central Amygdaloid Nucleus',\n",
    "  'GO:GO:0003824': 'catalytic activity'},\n",
    " ['HGNC:2707', 'MESH:D000076783']]"
   ]
  },
  {
   "cell_type": "code",
   "execution_count": 10,
   "metadata": {},
   "outputs": [],
   "source": [
    "excluded_longforms = []"
   ]
  },
  {
   "cell_type": "code",
   "execution_count": 11,
   "metadata": {},
   "outputs": [],
   "source": [
    "grounding_dict = {shortform: {longform: grounding_map[longform] \n",
    "                              for longform, _, _ in longforms if longform in grounding_map\n",
    "                              and longform not in excluded_longforms}\n",
    "                  for shortform, longforms in longform_dict.items()}\n",
    "result = [grounding_dict, names, pos_labels]\n",
    "\n",
    "if not os.path.exists(results_path):\n",
    "    os.mkdir(results_path)\n",
    "with open(os.path.join(results_path, f'{model_name}_preliminary_grounding_info.json'), 'w') as f:\n",
    "    json.dump(result, f)"
   ]
  },
  {
   "cell_type": "code",
   "execution_count": 13,
   "metadata": {},
   "outputs": [],
   "source": [
    "additional_entities = {}"
   ]
  },
  {
   "cell_type": "code",
   "execution_count": 14,
   "metadata": {},
   "outputs": [],
   "source": [
    "unambiguous_agent_texts = {}"
   ]
  },
  {
   "cell_type": "code",
   "execution_count": 15,
   "metadata": {},
   "outputs": [],
   "source": [
    "labeler = AdeftLabeler(grounding_dict)\n",
    "corpus = labeler.build_from_texts((text, pmid) for pmid, text in all_texts.items())\n",
    "agent_text_pmid_map = defaultdict(list)\n",
    "for text, label, id_ in corpus:\n",
    "    agent_text_pmid_map[label].append(id_)\n",
    "\n",
    "entity_pmid_map = {entity: set(get_pmids_for_entity(*entity.split(':', maxsplit=1),\n",
    "                                                major_topic=True))for entity in additional_entities}"
   ]
  },
  {
   "cell_type": "code",
   "execution_count": 15,
   "metadata": {},
   "outputs": [],
   "source": [
    "intersection1 = []\n",
    "for entity1, pmids1 in entity_pmid_map.items():\n",
    "    for entity2, pmids2 in entity_pmid_map.items():\n",
    "        intersection1.append((entity1, entity2, len(pmids1 & pmids2)))"
   ]
  },
  {
   "cell_type": "code",
   "execution_count": 16,
   "metadata": {},
   "outputs": [],
   "source": [
    "intersection2 = []\n",
    "for entity1, pmids1 in agent_text_pmid_map.items():\n",
    "    for entity2, pmids2 in entity_pmid_map.items():\n",
    "        intersection2.append((entity1, entity2, len(set(pmids1) & pmids2)))"
   ]
  },
  {
   "cell_type": "code",
   "execution_count": 17,
   "metadata": {},
   "outputs": [
    {
     "data": {
      "text/plain": [
       "[('HGNC:17981', 'HGNC:17981', 29)]"
      ]
     },
     "execution_count": 17,
     "metadata": {},
     "output_type": "execute_result"
    }
   ],
   "source": [
    "intersection1"
   ]
  },
  {
   "cell_type": "code",
   "execution_count": 18,
   "metadata": {},
   "outputs": [
    {
     "data": {
      "text/plain": [
       "[('ungrounded', 'HGNC:17981', 0)]"
      ]
     },
     "execution_count": 18,
     "metadata": {},
     "output_type": "execute_result"
    }
   ],
   "source": [
    "intersection2"
   ]
  },
  {
   "cell_type": "code",
   "execution_count": null,
   "metadata": {},
   "outputs": [],
   "source": []
  },
  {
   "cell_type": "code",
   "execution_count": 17,
   "metadata": {},
   "outputs": [],
   "source": [
    "all_used_pmids = set()\n",
    "for entity, agent_texts in unambiguous_agent_texts.items():\n",
    "    used_pmids = set()\n",
    "    for agent_text in agent_texts:\n",
    "        pmids = set(get_pmids_for_agent_text(agent_text))\n",
    "        new_pmids = list(pmids - all_texts.keys() - used_pmids)\n",
    "        text_dict = get_plaintexts_for_pmids(new_pmids, contains=agent_texts)\n",
    "        corpus.extend([(text, entity, pmid) for pmid, text in text_dict.items()])\n",
    "        used_pmids.update(new_pmids)\n",
    "    all_used_pmids.update(used_pmids)\n",
    "        \n",
    "for entity, pmids in entity_pmid_map.items():\n",
    "    new_pmids = list(set(pmids) - all_texts.keys() - all_used_pmids)\n",
    "    if len(new_pmids) > 10000:\n",
    "        new_pmids = random.choices(new_pmids, k=10000)\n",
    "    text_dict = get_plaintexts_for_pmids(new_pmids)\n",
    "    corpus.extend([(text, entity, pmid) for pmid, text in text_dict.items()])"
   ]
  },
  {
   "cell_type": "code",
   "execution_count": 18,
   "metadata": {},
   "outputs": [],
   "source": [
    "names.update(additional_entities)\n",
    "pos_labels.extend(additional_entities.keys())"
   ]
  },
  {
   "cell_type": "code",
   "execution_count": 19,
   "metadata": {},
   "outputs": [
    {
     "name": "stderr",
     "output_type": "stream",
     "text": [
      "INFO: [2020-10-02 03:23:30] /adeft/PythonRepos/adeft/adeft/modeling/classify.py - Beginning grid search in parameter space:\n",
      "{'C': [100.0], 'max_features': [10000]}\n",
      "INFO: [2020-10-02 03:24:22] /adeft/PythonRepos/adeft/adeft/modeling/classify.py - Best f1 score of 0.9802739223065566 found for parameter values:\n",
      "{'logit__C': 100.0, 'tfidf__max_features': 10000}\n"
     ]
    }
   ],
   "source": [
    "%%capture\n",
    "\n",
    "classifier = AdeftClassifier(shortforms, pos_labels=pos_labels, random_state=1729)\n",
    "param_grid = {'C': [100.0], 'max_features': [10000]}\n",
    "texts, labels, pmids = zip(*corpus)\n",
    "classifier.cv(texts, labels, param_grid, cv=5, n_jobs=5)"
   ]
  },
  {
   "cell_type": "code",
   "execution_count": 20,
   "metadata": {
    "scrolled": true
   },
   "outputs": [
    {
     "data": {
      "text/plain": [
       "{'label_distribution': {'HGNC:2707': 2647,\n",
       "  'MESH:D066274': 3,\n",
       "  'GO:GO:0003824': 6,\n",
       "  'HGNC:12846': 5,\n",
       "  'ungrounded': 44,\n",
       "  'CHEBI:CHEBI:15343': 4,\n",
       "  'MESH:D002529': 3,\n",
       "  'CHEBI:CHEBI:35457': 4,\n",
       "  'CHEBI:CHEBI:30089': 7,\n",
       "  'CHEBI:CHEBI:31159': 3,\n",
       "  'MESH:D000076783': 31,\n",
       "  'CHEBI:CHEBI:39163': 7,\n",
       "  'CHEBI:CHEBI:83501': 5},\n",
       " 'f1': {'mean': 0.980274, 'std': 0.002623},\n",
       " 'precision': {'mean': 0.969181, 'std': 0.001597},\n",
       " 'recall': {'mean': 0.993281, 'std': 0.002789},\n",
       " 'MESH:D066274': {'f1': {'mean': 0.0, 'std': 0.0},\n",
       "  'pr': {'mean': 0.0, 'std': 0.0},\n",
       "  'rc': {'mean': 0.0, 'std': 0.0}},\n",
       " 'ungrounded': {'f1': {'mean': 0.396737, 'std': 0.054055},\n",
       "  'pr': {'mean': 0.272222, 'std': 0.050918},\n",
       "  'rc': {'mean': 0.766667, 'std': 0.122474}},\n",
       " 'CHEBI:CHEBI:31159': {'f1': {'mean': 0.0, 'std': 0.0},\n",
       "  'pr': {'mean': 0.0, 'std': 0.0},\n",
       "  'rc': {'mean': 0.0, 'std': 0.0}},\n",
       " 'GO:GO:0003824': {'f1': {'mean': 0.0, 'std': 0.0},\n",
       "  'pr': {'mean': 0.0, 'std': 0.0},\n",
       "  'rc': {'mean': 0.0, 'std': 0.0}},\n",
       " 'CHEBI:CHEBI:39163': {'f1': {'mean': 0.333333, 'std': 0.421637},\n",
       "  'pr': {'mean': 0.3, 'std': 0.4},\n",
       "  'rc': {'mean': 0.4, 'std': 0.489898}},\n",
       " 'HGNC:12846': {'f1': {'mean': 0.0, 'std': 0.0},\n",
       "  'pr': {'mean': 0.0, 'std': 0.0},\n",
       "  'rc': {'mean': 0.0, 'std': 0.0}},\n",
       " 'HGNC:2707': {'f1': {'mean': 0.983064, 'std': 0.001073},\n",
       "  'pr': {'mean': 0.997734, 'std': 0.000754},\n",
       "  'rc': {'mean': 0.968821, 'std': 0.001602}},\n",
       " 'MESH:D002529': {'f1': {'mean': 0.2, 'std': 0.4},\n",
       "  'pr': {'mean': 0.2, 'std': 0.4},\n",
       "  'rc': {'mean': 0.2, 'std': 0.4}},\n",
       " 'MESH:D000076783': {'f1': {'mean': 0.742424, 'std': 0.155109},\n",
       "  'pr': {'mean': 0.614286, 'std': 0.194831},\n",
       "  'rc': {'mean': 1.0, 'std': 0.0}},\n",
       " 'CHEBI:CHEBI:83501': {'f1': {'mean': 0.4, 'std': 0.489898},\n",
       "  'pr': {'mean': 0.4, 'std': 0.489898},\n",
       "  'rc': {'mean': 0.4, 'std': 0.489898}},\n",
       " 'CHEBI:CHEBI:15343': {'f1': {'mean': 0.0, 'std': 0.0},\n",
       "  'pr': {'mean': 0.0, 'std': 0.0},\n",
       "  'rc': {'mean': 0.0, 'std': 0.0}},\n",
       " 'CHEBI:CHEBI:30089': {'f1': {'mean': 0.0, 'std': 0.0},\n",
       "  'pr': {'mean': 0.0, 'std': 0.0},\n",
       "  'rc': {'mean': 0.0, 'std': 0.0}},\n",
       " 'CHEBI:CHEBI:35457': {'f1': {'mean': 0.0, 'std': 0.0},\n",
       "  'pr': {'mean': 0.0, 'std': 0.0},\n",
       "  'rc': {'mean': 0.0, 'std': 0.0}}}"
      ]
     },
     "execution_count": 20,
     "metadata": {},
     "output_type": "execute_result"
    }
   ],
   "source": [
    "classifier.stats"
   ]
  },
  {
   "cell_type": "code",
   "execution_count": 21,
   "metadata": {},
   "outputs": [],
   "source": [
    "disamb = AdeftDisambiguator(classifier, grounding_dict, names)"
   ]
  },
  {
   "cell_type": "code",
   "execution_count": 23,
   "metadata": {},
   "outputs": [],
   "source": [
    "disamb.dump(model_name, results_path)"
   ]
  },
  {
   "cell_type": "code",
   "execution_count": 22,
   "metadata": {},
   "outputs": [
    {
     "name": "stdout",
     "output_type": "stream",
     "text": [
      "Disambiguation model for ACE\n",
      "\n",
      "Produces the disambiguations:\n",
      "\tACE*\tHGNC:2707\n",
      "\tACHE\tHGNC:12846\n",
      "\tAdverse Childhood Experiences*\tMESH:D000076783\n",
      "\tCentral Amygdaloid Nucleus\tMESH:D066274\n",
      "\tCerebellar Nuclei\tMESH:D002529\n",
      "\tEC 3.4.15.1 (peptidyl-dipeptidase A) inhibitor\tCHEBI:CHEBI:35457\n",
      "\taceclofenac\tCHEBI:CHEBI:31159\n",
      "\tacesulfame\tCHEBI:CHEBI:83501\n",
      "\tacetaldehyde\tCHEBI:CHEBI:15343\n",
      "\tacetamiprid\tCHEBI:CHEBI:39163\n",
      "\tacetate\tCHEBI:CHEBI:30089\n",
      "\tcatalytic activity\tGO:GO:0003824\n",
      "\n",
      "Class level metrics:\n",
      "--------------------\n",
      "Grounding                                     \tCount\tF1     \n",
      "                                           ACE*\t2647\t0.98306\n",
      "                                    Ungrounded\t  44\t0.39674\n",
      "                 Adverse Childhood Experiences*\t  31\t0.74242\n",
      "                                       acetate\t   7\t    0.0\n",
      "                                   acetamiprid\t   7\t0.33333\n",
      "                            catalytic activity\t   6\t    0.0\n",
      "                                          ACHE\t   5\t    0.0\n",
      "                                    acesulfame\t   5\t    0.4\n",
      "                                  acetaldehyde\t   4\t    0.0\n",
      "EC 3.4.15.1 (peptidyl-dipeptidase A) inhibitor\t   4\t    0.0\n",
      "                    Central Amygdaloid Nucleus\t   3\t    0.0\n",
      "                             Cerebellar Nuclei\t   3\t    0.2\n",
      "                                   aceclofenac\t   3\t    0.0\n",
      "\n",
      "Weighted Metrics:\n",
      "-----------------\n",
      "\tF1 score:\t0.98027\n",
      "\tPrecision:\t0.96918\n",
      "\tRecall:\t\t0.99328\n",
      "\n",
      "* Positive labels\n",
      "See Docstring for explanation\n",
      "\n"
     ]
    }
   ],
   "source": [
    "print(disamb.info())"
   ]
  },
  {
   "cell_type": "code",
   "execution_count": 24,
   "metadata": {},
   "outputs": [],
   "source": [
    "model_to_s3(disamb)"
   ]
  },
  {
   "cell_type": "code",
   "execution_count": null,
   "metadata": {},
   "outputs": [],
   "source": []
  }
 ],
 "metadata": {
  "kernelspec": {
   "display_name": "Python 3",
   "language": "python",
   "name": "python3"
  },
  "language_info": {
   "codemirror_mode": {
    "name": "ipython",
    "version": 3
   },
   "file_extension": ".py",
   "mimetype": "text/x-python",
   "name": "python",
   "nbconvert_exporter": "python",
   "pygments_lexer": "ipython3",
   "version": "3.8.4"
  }
 },
 "nbformat": 4,
 "nbformat_minor": 2
}
