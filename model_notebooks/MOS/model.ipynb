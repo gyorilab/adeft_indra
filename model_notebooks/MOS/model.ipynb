{
 "cells": [
  {
   "cell_type": "code",
   "execution_count": 1,
   "metadata": {},
   "outputs": [],
   "source": [
    "import os\n",
    "import json\n",
    "import pickle\n",
    "import random\n",
    "from collections import defaultdict, Counter\n",
    "\n",
    "from indra.literature.adeft_tools import universal_extract_text\n",
    "from indra.databases.hgnc_client import get_hgnc_name, get_hgnc_id\n",
    "\n",
    "from adeft.discover import AdeftMiner\n",
    "from adeft.gui import ground_with_gui\n",
    "from adeft.modeling.label import AdeftLabeler\n",
    "from adeft.modeling.classify import AdeftClassifier\n",
    "from adeft.disambiguate import AdeftDisambiguator, load_disambiguator\n",
    "\n",
    "\n",
    "from adeft_indra.ground.ground import AdeftGrounder\n",
    "from adeft_indra.model_building.s3 import model_to_s3\n",
    "from adeft_indra.model_building.escape import escape_filename\n",
    "from adeft_indra.db.content import get_pmids_for_agent_text, get_pmids_for_entity, \\\n",
    "    get_plaintexts_for_pmids"
   ]
  },
  {
   "cell_type": "code",
   "execution_count": 2,
   "metadata": {},
   "outputs": [],
   "source": [
    "adeft_grounder = AdeftGrounder()"
   ]
  },
  {
   "cell_type": "code",
   "execution_count": 3,
   "metadata": {},
   "outputs": [],
   "source": [
    "shortforms = ['MOS']\n",
    "model_name = ':'.join(sorted(escape_filename(shortform) for shortform in shortforms))\n",
    "results_path = os.path.abspath(os.path.join('../..', 'results', model_name))"
   ]
  },
  {
   "cell_type": "code",
   "execution_count": 46,
   "metadata": {},
   "outputs": [],
   "source": [
    "miners = dict()\n",
    "all_texts = {}\n",
    "for shortform in shortforms:\n",
    "    pmids = get_pmids_for_agent_text(shortform)\n",
    "    text_dict = get_plaintexts_for_pmids(pmids, contains=shortforms)\n",
    "    text_dict = {pmid: text for pmid, text in text_dict.items() if len(text) > 5}\n",
    "    miners[shortform] = AdeftMiner(shortform)\n",
    "    miners[shortform].process_texts(text_dict.values())\n",
    "    all_texts.update(text_dict)\n",
    "\n",
    "longform_dict = {}\n",
    "for shortform in shortforms:\n",
    "    longforms = miners[shortform].get_longforms()\n",
    "    longforms = [(longform, count, score) for longform, count, score in longforms\n",
    "                 if count*score > 0]\n",
    "    longform_dict[shortform] = longforms\n",
    "    \n",
    "combined_longforms = Counter()\n",
    "for longform_rows in longform_dict.values():\n",
    "    combined_longforms.update({longform: count for longform, count, score\n",
    "                               in longform_rows})\n",
    "grounding_map = {}\n",
    "names = {}\n",
    "for longform in combined_longforms:\n",
    "    groundings = adeft_grounder.ground(longform)\n",
    "    if groundings:\n",
    "        grounding = groundings[0]['grounding']\n",
    "        grounding_map[longform] = grounding\n",
    "        names[grounding] = groundings[0]['name']\n",
    "longforms, counts = zip(*combined_longforms.most_common())\n",
    "pos_labels = []"
   ]
  },
  {
   "cell_type": "code",
   "execution_count": 47,
   "metadata": {},
   "outputs": [
    {
     "data": {
      "text/plain": [
       "[('mannan oligosaccharide', 54),\n",
       " ('mannanoligosaccharides', 19),\n",
       " ('mitochondrial oxidative stress', 15),\n",
       " ('mannooligosaccharides', 14),\n",
       " ('mosapride citrate', 13),\n",
       " ('margin of stability', 10),\n",
       " ('main olfactory system', 6),\n",
       " ('maltooligosaccharide', 6),\n",
       " ('medical outcome study', 5),\n",
       " ('manno oligosaccharide', 5),\n",
       " ('metal oxidative semiconductor', 4),\n",
       " ('motor optimality score', 4),\n",
       " ('medical outcome survey', 3),\n",
       " ('moderate intensity continuous swimming', 3),\n",
       " ('mos', 2),\n",
       " ('mosaicplasty', 2),\n",
       " ('margin of safety', 2),\n",
       " ('maxillary occlusal splint', 2),\n",
       " ('mannose rich oligosaccharide', 2),\n",
       " ('malto oligo saccharide', 1),\n",
       " ('mannan oligo saccharide', 1),\n",
       " ('median overall survival', 1),\n",
       " ('metastatic osteosarcoma', 1),\n",
       " ('metrical oxidative state', 1),\n",
       " ('microvascular occlusal syndromes', 1),\n",
       " ('minor oral surgery', 1),\n",
       " ('mandibular occlusal splint', 1),\n",
       " ('mantis operating system', 1),\n",
       " ('metmyoglobin oxidative system', 1),\n",
       " ('malto oligosaccharide', 1),\n",
       " ('mannose oligosaccharide', 1),\n",
       " ('mannoligosaccharide', 1),\n",
       " ('mannanoligoasacchardes', 1),\n",
       " ('medical outcome study social support survey', 1),\n",
       " ('main olfactory', 1),\n",
       " ('same maltose and glucose or greater', 1),\n",
       " ('gos and mannan', 1),\n",
       " ('no supplemented and experimental', 1),\n",
       " ('on ser459 by the p37mos protein kinase', 1),\n",
       " ('assigned to two groups control and experimental', 1)]"
      ]
     },
     "execution_count": 47,
     "metadata": {},
     "output_type": "execute_result"
    }
   ],
   "source": [
    "list(zip(longforms, counts))"
   ]
  },
  {
   "cell_type": "code",
   "execution_count": 7,
   "metadata": {},
   "outputs": [],
   "source": [
    "try:\n",
    "    disamb = load_disambiguator(shortforms[0])\n",
    "    for shortform, gm in disamb.grounding_dict.items():\n",
    "        for longform, grounding in gm.items():\n",
    "            grounding_map[longform] = grounding\n",
    "    for grounding, name in disamb.names.items():\n",
    "        names[grounding] = name\n",
    "    pos_labels = disamb.pos_labels\n",
    "except Exception:\n",
    "    pass"
   ]
  },
  {
   "cell_type": "code",
   "execution_count": 8,
   "metadata": {},
   "outputs": [
    {
     "data": {
      "text/plain": [
       "{'CHEBI:CHEBI:50699': 'oligosaccharide',\n",
       " 'MESH:D018384': 'Oxidative Stress',\n",
       " 'CHEBI:CHEBI:25174': 'mannooligosaccharide',\n",
       " 'CHEBI:CHEBI:31867': 'Mosapride citrate',\n",
       " 'CHEBI:CHEBI:17593': 'maltooligosaccharide',\n",
       " 'MESH:D012666': 'Semiconductors',\n",
       " 'GO:GO:0036268': 'swimming',\n",
       " 'HGNC:7199': 'MOS',\n",
       " 'HGNC:18234': 'MOCOS'}"
      ]
     },
     "execution_count": 8,
     "metadata": {},
     "output_type": "execute_result"
    }
   ],
   "source": [
    "names"
   ]
  },
  {
   "cell_type": "code",
   "execution_count": 9,
   "metadata": {},
   "outputs": [
    {
     "name": "stderr",
     "output_type": "stream",
     "text": [
      "INFO: [2020-11-04 02:42:08] indra.ontology.bio.ontology - Loading INDRA bio ontology from cache at /home/ubuntu/.indra/bio_ontology/1.4/bio_ontology.pkl\n"
     ]
    }
   ],
   "source": [
    "grounding_map, names, pos_labels = ground_with_gui(longforms, counts, \n",
    "                                                   grounding_map=grounding_map,\n",
    "                                                   names=names, pos_labels=pos_labels, no_browser=True, port=8891)"
   ]
  },
  {
   "cell_type": "code",
   "execution_count": 10,
   "metadata": {},
   "outputs": [],
   "source": [
    "result = [grounding_map, names, pos_labels]"
   ]
  },
  {
   "cell_type": "code",
   "execution_count": 11,
   "metadata": {},
   "outputs": [
    {
     "data": {
      "text/plain": [
       "[{'main olfactory system': 'ungrounded',\n",
       "  'maltooligosaccharide': 'CHEBI:CHEBI:17593',\n",
       "  'mannan oligosaccharide': 'CHEBI:CHEBI:25174',\n",
       "  'mannanoligosaccharides': 'CHEBI:CHEBI:25174',\n",
       "  'manno oligosaccharide': 'CHEBI:CHEBI:25174',\n",
       "  'mannooligosaccharides': 'CHEBI:CHEBI:25174',\n",
       "  'margin of stability': 'ungrounded',\n",
       "  'medical outcome study': 'ungrounded',\n",
       "  'medical outcome survey': 'ungrounded',\n",
       "  'metal oxidative semiconductor': 'ungrounded',\n",
       "  'mitochondrial oxidative stress': 'MESH:D018384',\n",
       "  'moderate intensity continuous swimming': 'GO:GO:0036268',\n",
       "  'mosapride citrate': 'CHEBI:CHEBI:31867',\n",
       "  'motor optimality score': 'ungrounded'},\n",
       " {'CHEBI:CHEBI:17593': 'maltooligosaccharide',\n",
       "  'CHEBI:CHEBI:25174': 'mannooligosaccharide',\n",
       "  'MESH:D018384': 'Oxidative Stress',\n",
       "  'GO:GO:0036268': 'swimming',\n",
       "  'CHEBI:CHEBI:31867': 'Mosapride citrate'},\n",
       " ['CHEBI:CHEBI:17593',\n",
       "  'CHEBI:CHEBI:25174',\n",
       "  'CHEBI:CHEBI:31867',\n",
       "  'MESH:D018384']]"
      ]
     },
     "execution_count": 11,
     "metadata": {},
     "output_type": "execute_result"
    }
   ],
   "source": [
    "result"
   ]
  },
  {
   "cell_type": "code",
   "execution_count": 71,
   "metadata": {},
   "outputs": [],
   "source": [
    "grounding_map, names, pos_labels = [{'main olfactory system': 'ungrounded',\n",
    "  'maltooligosaccharide': 'CHEBI:CHEBI:17593',\n",
    "  'mannan oligosaccharide': 'CHEBI:CHEBI:25174',\n",
    "  'mannanoligosaccharides': 'CHEBI:CHEBI:25174',\n",
    "  'manno oligosaccharide': 'CHEBI:CHEBI:25174',\n",
    "  'mannooligosaccharides': 'CHEBI:CHEBI:25174',\n",
    "  'margin of stability': 'ungrounded',\n",
    "  'medical outcome study': 'ungrounded',\n",
    "  'medical outcome survey': 'ungrounded',\n",
    "  'metal oxidative semiconductor': 'ungrounded',\n",
    "  'mitochondrial oxidative stress': 'MESH:D018384',\n",
    "  'moderate intensity continuous swimming': 'GO:GO:0036268',\n",
    "  'mosapride citrate': 'CHEBI:CHEBI:31867',\n",
    "  'motor optimality score': 'ungrounded'},\n",
    " {'CHEBI:CHEBI:17593': 'maltooligosaccharide',\n",
    "  'CHEBI:CHEBI:25174': 'mannooligosaccharide',\n",
    "  'MESH:D018384': 'Oxidative Stress',\n",
    "  'GO:GO:0036268': 'swimming',\n",
    "  'CHEBI:CHEBI:31867': 'Mosapride citrate'},\n",
    " ['CHEBI:CHEBI:17593',\n",
    "  'CHEBI:CHEBI:25174',\n",
    "  'CHEBI:CHEBI:31867',\n",
    "  'MESH:D018384']]"
   ]
  },
  {
   "cell_type": "code",
   "execution_count": 72,
   "metadata": {},
   "outputs": [],
   "source": [
    "excluded_longforms = []"
   ]
  },
  {
   "cell_type": "code",
   "execution_count": 73,
   "metadata": {},
   "outputs": [],
   "source": [
    "grounding_dict = {shortform: {longform: grounding_map[longform] \n",
    "                              for longform, _, _ in longforms if longform in grounding_map\n",
    "                              and longform not in excluded_longforms}\n",
    "                  for shortform, longforms in longform_dict.items()}\n",
    "result = [grounding_dict, names, pos_labels]\n",
    "\n",
    "if not os.path.exists(results_path):\n",
    "    os.mkdir(results_path)\n",
    "with open(os.path.join(results_path, f'{model_name}_preliminary_grounding_info.json'), 'w') as f:\n",
    "    json.dump(result, f)"
   ]
  },
  {
   "cell_type": "code",
   "execution_count": 104,
   "metadata": {},
   "outputs": [],
   "source": [
    "additional_entities = {}"
   ]
  },
  {
   "cell_type": "code",
   "execution_count": 105,
   "metadata": {},
   "outputs": [],
   "source": [
    "unambiguous_agent_texts = {}"
   ]
  },
  {
   "cell_type": "code",
   "execution_count": 106,
   "metadata": {},
   "outputs": [],
   "source": [
    "labeler = AdeftLabeler(grounding_dict)\n",
    "corpus = labeler.build_from_texts((text, pmid) for pmid, text in all_texts.items())\n",
    "agent_text_pmid_map = defaultdict(list)\n",
    "for text, label, id_ in corpus:\n",
    "    agent_text_pmid_map[label].append(id_)\n",
    "\n",
    "entity_pmid_map = {entity: set(get_pmids_for_entity(*entity.split(':', maxsplit=1),\n",
    "                                                major_topic=True))for entity in additional_entities}"
   ]
  },
  {
   "cell_type": "code",
   "execution_count": 107,
   "metadata": {},
   "outputs": [],
   "source": [
    "intersection1 = []\n",
    "for entity1, pmids1 in entity_pmid_map.items():\n",
    "    for entity2, pmids2 in entity_pmid_map.items():\n",
    "        intersection1.append((entity1, entity2, len(pmids1 & pmids2)))"
   ]
  },
  {
   "cell_type": "code",
   "execution_count": 108,
   "metadata": {},
   "outputs": [],
   "source": [
    "intersection2 = []\n",
    "for entity1, pmids1 in agent_text_pmid_map.items():\n",
    "    for entity2, pmids2 in entity_pmid_map.items():\n",
    "        intersection2.append((entity1, entity2, len(set(pmids1) & pmids2)))"
   ]
  },
  {
   "cell_type": "code",
   "execution_count": 109,
   "metadata": {},
   "outputs": [
    {
     "data": {
      "text/plain": [
       "[]"
      ]
     },
     "execution_count": 109,
     "metadata": {},
     "output_type": "execute_result"
    }
   ],
   "source": [
    "intersection1"
   ]
  },
  {
   "cell_type": "code",
   "execution_count": 110,
   "metadata": {},
   "outputs": [
    {
     "data": {
      "text/plain": [
       "[]"
      ]
     },
     "execution_count": 110,
     "metadata": {},
     "output_type": "execute_result"
    }
   ],
   "source": [
    "intersection2"
   ]
  },
  {
   "cell_type": "code",
   "execution_count": 111,
   "metadata": {},
   "outputs": [],
   "source": [
    "all_used_pmids = set()\n",
    "for entity, agent_texts in unambiguous_agent_texts.items():\n",
    "    used_pmids = set()\n",
    "    for agent_text in agent_texts[1]:\n",
    "        pmids = set(get_pmids_for_agent_text(agent_text))\n",
    "        new_pmids = list(pmids - all_texts.keys() - used_pmids)\n",
    "        text_dict = get_plaintexts_for_pmids(new_pmids, contains=agent_texts)\n",
    "        corpus.extend([(text, entity, pmid) for pmid, text in text_dict.items() if len(text) >= 5])\n",
    "        used_pmids.update(new_pmids)\n",
    "    all_used_pmids.update(used_pmids)\n",
    "        \n",
    "for entity, pmids in entity_pmid_map.items():\n",
    "    new_pmids = list(set(pmids) - all_texts.keys() - all_used_pmids)\n",
    "    if len(new_pmids) > 10000:\n",
    "        new_pmids = random.choices(new_pmids, k=10000)\n",
    "    _, contains = additional_entities[entity]\n",
    "    text_dict = get_plaintexts_for_pmids(new_pmids, contains=contains)\n",
    "    corpus.extend([(text, entity, pmid) for pmid, text in text_dict.items() if len(text) >= 5])"
   ]
  },
  {
   "cell_type": "code",
   "execution_count": 112,
   "metadata": {},
   "outputs": [],
   "source": [
    "names.update({key: value[0] for key, value in additional_entities.items()})\n",
    "names.update({key: value[0] for key, value in unambiguous_agent_texts.items()})\n",
    "pos_labels = list(set(pos_labels) | additional_entities.keys() |\n",
    "                  unambiguous_agent_texts.keys())"
   ]
  },
  {
   "cell_type": "code",
   "execution_count": 113,
   "metadata": {},
   "outputs": [
    {
     "name": "stderr",
     "output_type": "stream",
     "text": [
      "INFO: [2020-11-04 02:55:58] /adeft/PP/adeft/adeft/modeling/classify.py - Beginning grid search in parameter space:\n",
      "{'C': [100.0], 'max_features': [10000]}\n",
      "INFO: [2020-11-04 02:55:59] /adeft/PP/adeft/adeft/modeling/classify.py - Best f1 score of 0.8803409226938639 found for parameter values:\n",
      "{'logit__C': 100.0, 'tfidf__max_features': 10000}\n"
     ]
    }
   ],
   "source": [
    "%%capture\n",
    "\n",
    "classifier = AdeftClassifier(shortforms, pos_labels=pos_labels, random_state=1729)\n",
    "param_grid = {'C': [100.0], 'max_features': [10000]}\n",
    "texts, labels, pmids = zip(*corpus)\n",
    "classifier.cv(texts, labels, param_grid, cv=5, n_jobs=5)"
   ]
  },
  {
   "cell_type": "code",
   "execution_count": 114,
   "metadata": {
    "scrolled": true
   },
   "outputs": [
    {
     "data": {
      "text/plain": [
       "{'label_distribution': {'CHEBI:CHEBI:17593': 4,\n",
       "  'CHEBI:CHEBI:25174': 63,\n",
       "  'MESH:D018384': 11,\n",
       "  'ungrounded': 20,\n",
       "  'CHEBI:CHEBI:31867': 8,\n",
       "  'GO:GO:0036268': 1},\n",
       " 'f1': {'mean': 0.880341, 'std': 0.037938},\n",
       " 'precision': {'mean': 0.847955, 'std': 0.066131},\n",
       " 'recall': {'mean': 0.930065, 'std': 0.02389},\n",
       " 'CHEBI:CHEBI:25174': {'f1': {'mean': 0.920871, 'std': 0.030916},\n",
       "  'pr': {'mean': 1.0, 'std': 0.0},\n",
       "  'rc': {'mean': 0.854846, 'std': 0.052366}},\n",
       " 'CHEBI:CHEBI:17593': {'f1': {'mean': 0.2, 'std': 0.4},\n",
       "  'pr': {'mean': 0.2, 'std': 0.4},\n",
       "  'rc': {'mean': 0.2, 'std': 0.4}},\n",
       " 'ungrounded': {'f1': {'mean': 0.851429, 'std': 0.232397},\n",
       "  'pr': {'mean': 0.8, 'std': 0.291548},\n",
       "  'rc': {'mean': 1.0, 'std': 0.0}},\n",
       " 'CHEBI:CHEBI:31867': {'f1': {'mean': 0.733333, 'std': 0.38873},\n",
       "  'pr': {'mean': 0.7, 'std': 0.4},\n",
       "  'rc': {'mean': 0.8, 'std': 0.4}},\n",
       " 'MESH:D018384': {'f1': {'mean': 0.933333, 'std': 0.133333},\n",
       "  'pr': {'mean': 0.9, 'std': 0.2},\n",
       "  'rc': {'mean': 1.0, 'std': 0.0}},\n",
       " 'GO:GO:0036268': {'f1': {'mean': 0.0, 'std': 0.0},\n",
       "  'pr': {'mean': 0.0, 'std': 0.0},\n",
       "  'rc': {'mean': 0.0, 'std': 0.0}}}"
      ]
     },
     "execution_count": 114,
     "metadata": {},
     "output_type": "execute_result"
    }
   ],
   "source": [
    "classifier.stats"
   ]
  },
  {
   "cell_type": "code",
   "execution_count": 115,
   "metadata": {},
   "outputs": [],
   "source": [
    "disamb = AdeftDisambiguator(classifier, grounding_dict, names)"
   ]
  },
  {
   "cell_type": "code",
   "execution_count": 116,
   "metadata": {},
   "outputs": [],
   "source": [
    "disamb.dump(model_name, results_path)"
   ]
  },
  {
   "cell_type": "code",
   "execution_count": 117,
   "metadata": {},
   "outputs": [
    {
     "name": "stdout",
     "output_type": "stream",
     "text": [
      "Disambiguation model for MOS\n",
      "\n",
      "Produces the disambiguations:\n",
      "\tMOS*\tHGNC:7199\n",
      "\tMosapride citrate*\tCHEBI:CHEBI:31867\n",
      "\tOxidative Stress*\tMESH:D018384\n",
      "\tmaltooligosaccharide*\tCHEBI:CHEBI:17593\n",
      "\tmannooligosaccharide*\tCHEBI:CHEBI:25174\n",
      "\tswimming\tGO:GO:0036268\n",
      "\n",
      "Class level metrics:\n",
      "--------------------\n",
      "Grounding           \tCount\tF1     \n",
      "mannooligosaccharide*\t63\t0.92087\n",
      "          Ungrounded\t20\t0.85143\n",
      "    Oxidative Stress*\t11\t0.93333\n",
      "   Mosapride citrate*\t 8\t0.73333\n",
      "maltooligosaccharide*\t 4\t    0.2\n",
      "            swimming\t 1\t    0.0\n",
      "\n",
      "Weighted Metrics:\n",
      "-----------------\n",
      "\tF1 score:\t0.88034\n",
      "\tPrecision:\t0.84796\n",
      "\tRecall:\t\t0.93006\n",
      "\n",
      "* Positive labels\n",
      "See Docstring for explanation\n",
      "\n"
     ]
    }
   ],
   "source": [
    "print(disamb.info())"
   ]
  },
  {
   "cell_type": "code",
   "execution_count": 118,
   "metadata": {},
   "outputs": [],
   "source": [
    "model_to_s3(disamb)"
   ]
  },
  {
   "cell_type": "code",
   "execution_count": 30,
   "metadata": {},
   "outputs": [],
   "source": [
    "preds = [disamb.disambiguate(text) for text in all_texts.values()]"
   ]
  },
  {
   "cell_type": "code",
   "execution_count": 31,
   "metadata": {},
   "outputs": [],
   "source": [
    "texts = [text for pred, text in zip(preds, all_texts.values()) if pred[0] == 'HGNC:10967']"
   ]
  },
  {
   "cell_type": "code",
   "execution_count": 36,
   "metadata": {},
   "outputs": [
    {
     "data": {
      "text/plain": [
       "'The non-neuronal monoamine transporters (OCT1, OCT2, EMT, and PMAT) play a key role in the clearance of monoamines from extracellular compartments. In a previous report we described endometrial distribution and cyclic variation of the vesicular monoamine transporter (VMAT2) mRNA and the neuronal norepinephrine transporter (NET) mRNA. In the present study we used in situ hybridization, real-time PCR and immunohistochemistry to reveal tissue distribution and cyclic variation of mRNA for the non-neuronal monoamine transporters in the human endometrium and early pregnancy decidua. We found that non-neuronal monoamine transporters are predominantly expressed in the stroma. The plasma membrane monoamine transporter (PMAT) mRNA expression peaked in the proliferative phase, whereas the extra-neuronal monoamine transporter (EMT) mRNA expression peaked in the secretory phase. The organic cation transporter 2 (OCT2) mRNA expression was exclusively detected in few scattered stromal cells and OCT1 mRNA was not detected at all. Our present results demonstrate that PMAT, EMT, and OCT2 transporters are expressed in the endometrial stroma and can potentially regulate reuptake of monoamines in general and histamine in particular. Taken together with our previous finding of VMAT2 mRNA in epithelial cells, we suggest a paracrine interaction between stromal and epithelial cells, which may modulate certain steps of the reproductive process.\\n'"
      ]
     },
     "execution_count": 36,
     "metadata": {},
     "output_type": "execute_result"
    }
   ],
   "source": [
    "texts[3]"
   ]
  },
  {
   "cell_type": "code",
   "execution_count": 103,
   "metadata": {},
   "outputs": [
    {
     "data": {
      "text/plain": [
       "('The objective of this experiment was to compare the effects of dietary MOS and a feed-grade antimicrobial (AM) on growth performance of nursery pigs reared on three different farms (A and B were large-scale commercial farms, and C was located at Michigan State University). On all farms, production was continuous flow by building, but all-in/all-out by room. Within each nursery facility, all pigs on the experiment were in one room. Pigs (Farm A, n = 771, weaning age = 18.4 d; Farm B, n = 576, weaning age = 19.0 d; Farm C, n = 96, weaning age = 20.6 d) were blocked (within farm) by BW and sex and allotted randomly to dietary treatments arranged in a 2 x 2 factorial. The two factors were 1) with and without MOS (0.3% in Phase I, 0.2% in Phases II, III, and IV; as-fed basis) and 2) with and without AM (110 mg of tylosin and 110 mg of sulfamethazine/kg of diet in all phases; as-fed basis). The four nursery phases were 4, 7, 14, and 17 d, respectively. With 35, 20, and 4 pigs per pen on Farms A, B, and C, respectively, space allowances per pig were 0.29, 0.26, and 0.56 m2. Across all farms, the addition of AM and MOS plus AM increased (P < 0.05) ADG (368, 406, and 410 g/d for control, AM, and MOS plus AM, respectively and increased ADFI (661, 703, and 710 g/d for control, AM, and MOS plus AM, respectively) for the entire 42-d experiment. The addition of MOS also increased ADG (P < 0.05) from d 0 to 42 of the experiment (394 g/d). Performance differed depending on farm (P < 0.01). Antimicrobial did not affect growth performance on Farm B, but it increased (P < 0.05) ADG on Farms A and C, ADFI on Farm A, and G:F on Farm C. Growth improvements with MOS on Farms A and B were not significant; however, pigs on Farm C fed MOS had greater (P < 0.05) ADG, ADFI, and G:F than controls. The results of this study suggest that MOS may be an alternative to tylosin and sulfa-methazine as a growth promotant in nursery diets.',\n",
       " 'CHEBI:CHEBI:25174',\n",
       " 16230663)"
      ]
     },
     "execution_count": 103,
     "metadata": {},
     "output_type": "execute_result"
    }
   ],
   "source": [
    "corpus[5]"
   ]
  },
  {
   "cell_type": "code",
   "execution_count": null,
   "metadata": {},
   "outputs": [],
   "source": []
  }
 ],
 "metadata": {
  "kernelspec": {
   "display_name": "Python 3",
   "language": "python",
   "name": "python3"
  },
  "language_info": {
   "codemirror_mode": {
    "name": "ipython",
    "version": 3
   },
   "file_extension": ".py",
   "mimetype": "text/x-python",
   "name": "python",
   "nbconvert_exporter": "python",
   "pygments_lexer": "ipython3",
   "version": "3.8.4"
  }
 },
 "nbformat": 4,
 "nbformat_minor": 2
}
