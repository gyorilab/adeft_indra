{
 "cells": [
  {
   "cell_type": "code",
   "execution_count": 6,
   "metadata": {},
   "outputs": [],
   "source": [
    "import os\n",
    "import json\n",
    "import pickle\n",
    "import random\n",
    "from collections import defaultdict, Counter\n",
    "\n",
    "from indra.literature.adeft_tools import universal_extract_text\n",
    "from indra.databases.hgnc_client import get_hgnc_name, get_hgnc_id\n",
    "\n",
    "from adeft.discover import AdeftMiner\n",
    "from adeft.gui import ground_with_gui\n",
    "from adeft.modeling.label import AdeftLabeler\n",
    "from adeft.modeling.classify import AdeftClassifier\n",
    "from adeft.disambiguate import AdeftDisambiguator, load_disambiguator\n",
    "\n",
    "\n",
    "from adeft_indra.ground.ground import AdeftGrounder\n",
    "from adeft_indra.model_building.s3 import model_to_s3\n",
    "from adeft_indra.model_building.escape import escape_filename\n",
    "from adeft_indra.db.content import get_pmids_for_agent_text, get_pmids_for_entity, \\\n",
    "    get_plaintexts_for_pmids"
   ]
  },
  {
   "cell_type": "code",
   "execution_count": 7,
   "metadata": {},
   "outputs": [],
   "source": [
    "adeft_grounder = AdeftGrounder()"
   ]
  },
  {
   "cell_type": "code",
   "execution_count": 8,
   "metadata": {},
   "outputs": [],
   "source": [
    "shortforms = ['DLK']\n",
    "model_name = ':'.join(sorted(escape_filename(shortform) for shortform in shortforms))\n",
    "results_path = os.path.abspath(os.path.join('../..', 'results', model_name))"
   ]
  },
  {
   "cell_type": "code",
   "execution_count": 21,
   "metadata": {},
   "outputs": [],
   "source": [
    "miners = dict()\n",
    "all_texts = {}\n",
    "for shortform in shortforms:\n",
    "    pmids = get_pmids_for_agent_text(shortform)\n",
    "    text_dict = get_plaintexts_for_pmids(pmids, contains=shortforms)\n",
    "    text_dict = {pmid: text for pmid, text in text_dict.items() if len(text) > 5}\n",
    "    miners[shortform] = AdeftMiner(shortform)\n",
    "    miners[shortform].process_texts(text_dict.values())\n",
    "    all_texts.update(text_dict)\n",
    "\n",
    "longform_dict = {}\n",
    "for shortform in shortforms:\n",
    "    longforms = miners[shortform].get_longforms()\n",
    "    longforms = [(longform, count, score) for longform, count, score in longforms\n",
    "                 if count*score > 0]\n",
    "    longform_dict[shortform] = longforms\n",
    "    \n",
    "combined_longforms = Counter()\n",
    "for longform_rows in longform_dict.values():\n",
    "    combined_longforms.update({longform: count for longform, count, score\n",
    "                               in longform_rows})\n",
    "grounding_map = {}\n",
    "names = {}\n",
    "for longform in combined_longforms:\n",
    "    groundings = adeft_grounder.ground(longform)\n",
    "    if groundings:\n",
    "        grounding = groundings[0]['grounding']\n",
    "        grounding_map[longform] = grounding\n",
    "        names[grounding] = groundings[0]['name']\n",
    "longforms, counts = zip(*combined_longforms.most_common())\n",
    "pos_labels = []"
   ]
  },
  {
   "cell_type": "code",
   "execution_count": 22,
   "metadata": {},
   "outputs": [
    {
     "data": {
      "text/plain": [
       "[('dual leucine zipper kinase', 67),\n",
       " ('dual leucine zipper bearing kinase', 24),\n",
       " ('diffuse lamellar keratitis', 18),\n",
       " ('dual leucine kinase', 4),\n",
       " ('drosophila leucokinin', 1),\n",
       " ('dual lencine zipper kinase', 1),\n",
       " ('duel leucine zipper kinase', 1),\n",
       " ('duel leucine zipper bearing kinase', 1),\n",
       " ('dual zipper bearing kinase', 1)]"
      ]
     },
     "execution_count": 22,
     "metadata": {},
     "output_type": "execute_result"
    }
   ],
   "source": [
    "list(zip(longforms, counts))"
   ]
  },
  {
   "cell_type": "code",
   "execution_count": 13,
   "metadata": {},
   "outputs": [],
   "source": [
    "try:\n",
    "    disamb = load_disambiguator(shortforms[0])\n",
    "    for shortform, gm in disamb.grounding_dict.items():\n",
    "        for longform, grounding in gm.items():\n",
    "            grounding_map[longform] = grounding\n",
    "    for grounding, name in disamb.names.items():\n",
    "        names[grounding] = name\n",
    "    pos_labels = disamb.pos_labels\n",
    "except Exception:\n",
    "    pass"
   ]
  },
  {
   "cell_type": "code",
   "execution_count": 14,
   "metadata": {},
   "outputs": [
    {
     "data": {
      "text/plain": [
       "{'MESH:D007634': 'Keratitis',\n",
       " 'HGNC:6851': 'MAP3K12',\n",
       " 'HGNC:2676': 'DAPK3',\n",
       " 'HGNC:2907': 'DLK1'}"
      ]
     },
     "execution_count": 14,
     "metadata": {},
     "output_type": "execute_result"
    }
   ],
   "source": [
    "names"
   ]
  },
  {
   "cell_type": "code",
   "execution_count": 25,
   "metadata": {},
   "outputs": [],
   "source": [
    "grounding_map, names, pos_labels = ground_with_gui(longforms, counts, \n",
    "                                                   grounding_map=grounding_map,\n",
    "                                                   names=names, pos_labels=pos_labels, no_browser=True, port=8891)"
   ]
  },
  {
   "cell_type": "code",
   "execution_count": 26,
   "metadata": {},
   "outputs": [],
   "source": [
    "result = [grounding_map, names, pos_labels]"
   ]
  },
  {
   "cell_type": "code",
   "execution_count": 27,
   "metadata": {},
   "outputs": [
    {
     "data": {
      "text/plain": [
       "[{'diffuse lamellar keratitis': 'ungrounded',\n",
       "  'drosophila leucokinin': 'ungrounded',\n",
       "  'dual lencine zipper kinase': 'HGNC:6851',\n",
       "  'dual leucine kinase': 'HGNC:6851',\n",
       "  'dual leucine zipper bearing kinase': 'HGNC:6851',\n",
       "  'dual leucine zipper kinase': 'HGNC:6851',\n",
       "  'dual zipper bearing kinase': 'HGNC:6851',\n",
       "  'duel leucine zipper bearing kinase': 'HGNC:6851',\n",
       "  'duel leucine zipper kinase': 'HGNC:6851'},\n",
       " {'HGNC:6851': 'MAP3K12'},\n",
       " ['HGNC:6851']]"
      ]
     },
     "execution_count": 27,
     "metadata": {},
     "output_type": "execute_result"
    }
   ],
   "source": [
    "result"
   ]
  },
  {
   "cell_type": "code",
   "execution_count": 28,
   "metadata": {},
   "outputs": [],
   "source": [
    "grounding_map, names, pos_labels = [{'diffuse lamellar keratitis': 'ungrounded',\n",
    "  'drosophila leucokinin': 'ungrounded',\n",
    "  'dual lencine zipper kinase': 'HGNC:6851',\n",
    "  'dual leucine kinase': 'HGNC:6851',\n",
    "  'dual leucine zipper bearing kinase': 'HGNC:6851',\n",
    "  'dual leucine zipper kinase': 'HGNC:6851',\n",
    "  'dual zipper bearing kinase': 'HGNC:6851',\n",
    "  'duel leucine zipper bearing kinase': 'HGNC:6851',\n",
    "  'duel leucine zipper kinase': 'HGNC:6851'},\n",
    " {'HGNC:6851': 'MAP3K12'},\n",
    " ['HGNC:6851']]"
   ]
  },
  {
   "cell_type": "code",
   "execution_count": 29,
   "metadata": {},
   "outputs": [],
   "source": [
    "excluded_longforms = []"
   ]
  },
  {
   "cell_type": "code",
   "execution_count": 30,
   "metadata": {},
   "outputs": [],
   "source": [
    "grounding_dict = {shortform: {longform: grounding_map[longform] \n",
    "                              for longform, _, _ in longforms if longform in grounding_map\n",
    "                              and longform not in excluded_longforms}\n",
    "                  for shortform, longforms in longform_dict.items()}\n",
    "result = [grounding_dict, names, pos_labels]\n",
    "\n",
    "if not os.path.exists(results_path):\n",
    "    os.mkdir(results_path)\n",
    "with open(os.path.join(results_path, f'{model_name}_preliminary_grounding_info.json'), 'w') as f:\n",
    "    json.dump(result, f)"
   ]
  },
  {
   "cell_type": "code",
   "execution_count": 31,
   "metadata": {},
   "outputs": [],
   "source": [
    "additional_entities = {'HGNC:2907': ['DLK1', ['DLK', 'DLK1', 'delta-like homolog']]}"
   ]
  },
  {
   "cell_type": "code",
   "execution_count": 32,
   "metadata": {},
   "outputs": [],
   "source": [
    "unambiguous_agent_texts = {}"
   ]
  },
  {
   "cell_type": "code",
   "execution_count": 33,
   "metadata": {},
   "outputs": [],
   "source": [
    "labeler = AdeftLabeler(grounding_dict)\n",
    "corpus = labeler.build_from_texts((text, pmid) for pmid, text in all_texts.items())\n",
    "agent_text_pmid_map = defaultdict(list)\n",
    "for text, label, id_ in corpus:\n",
    "    agent_text_pmid_map[label].append(id_)\n",
    "\n",
    "entity_pmid_map = {entity: set(get_pmids_for_entity(*entity.split(':', maxsplit=1),\n",
    "                                                major_topic=True))for entity in additional_entities}"
   ]
  },
  {
   "cell_type": "code",
   "execution_count": 34,
   "metadata": {},
   "outputs": [],
   "source": [
    "intersection1 = []\n",
    "for entity1, pmids1 in entity_pmid_map.items():\n",
    "    for entity2, pmids2 in entity_pmid_map.items():\n",
    "        intersection1.append((entity1, entity2, len(pmids1 & pmids2)))"
   ]
  },
  {
   "cell_type": "code",
   "execution_count": 35,
   "metadata": {},
   "outputs": [],
   "source": [
    "intersection2 = []\n",
    "for entity1, pmids1 in agent_text_pmid_map.items():\n",
    "    for entity2, pmids2 in entity_pmid_map.items():\n",
    "        intersection2.append((entity1, entity2, len(set(pmids1) & pmids2)))"
   ]
  },
  {
   "cell_type": "code",
   "execution_count": 36,
   "metadata": {},
   "outputs": [
    {
     "data": {
      "text/plain": [
       "[('HGNC:2907', 'HGNC:2907', 151)]"
      ]
     },
     "execution_count": 36,
     "metadata": {},
     "output_type": "execute_result"
    }
   ],
   "source": [
    "intersection1"
   ]
  },
  {
   "cell_type": "code",
   "execution_count": 37,
   "metadata": {},
   "outputs": [
    {
     "data": {
      "text/plain": [
       "[('HGNC:6851', 'HGNC:2907', 0), ('ungrounded', 'HGNC:2907', 0)]"
      ]
     },
     "execution_count": 37,
     "metadata": {},
     "output_type": "execute_result"
    }
   ],
   "source": [
    "intersection2"
   ]
  },
  {
   "cell_type": "code",
   "execution_count": 38,
   "metadata": {},
   "outputs": [],
   "source": [
    "all_used_pmids = set()\n",
    "for entity, agent_texts in unambiguous_agent_texts.items():\n",
    "    used_pmids = set()\n",
    "    for agent_text in agent_texts[1]:\n",
    "        pmids = set(get_pmids_for_agent_text(agent_text))\n",
    "        new_pmids = list(pmids - all_texts.keys() - used_pmids)\n",
    "        text_dict = get_plaintexts_for_pmids(new_pmids, contains=agent_texts)\n",
    "        corpus.extend([(text, entity, pmid) for pmid, text in text_dict.items() if len(text) >= 5])\n",
    "        used_pmids.update(new_pmids)\n",
    "    all_used_pmids.update(used_pmids)\n",
    "        \n",
    "for entity, pmids in entity_pmid_map.items():\n",
    "    new_pmids = list(set(pmids) - all_texts.keys() - all_used_pmids)\n",
    "    if len(new_pmids) > 10000:\n",
    "        new_pmids = random.choices(new_pmids, k=10000)\n",
    "    _, contains = additional_entities[entity]\n",
    "    text_dict = get_plaintexts_for_pmids(new_pmids, contains=contains)\n",
    "    corpus.extend([(text, entity, pmid) for pmid, text in text_dict.items() if len(text) >= 5])"
   ]
  },
  {
   "cell_type": "code",
   "execution_count": 39,
   "metadata": {},
   "outputs": [],
   "source": [
    "names.update({key: value[0] for key, value in additional_entities.items()})\n",
    "names.update({key: value[0] for key, value in unambiguous_agent_texts.items()})\n",
    "pos_labels = list(set(pos_labels) | additional_entities.keys() |\n",
    "                  unambiguous_agent_texts.keys())"
   ]
  },
  {
   "cell_type": "code",
   "execution_count": 40,
   "metadata": {},
   "outputs": [
    {
     "name": "stderr",
     "output_type": "stream",
     "text": [
      "INFO: [2020-11-10 04:45:04] /adeft/PP/adeft/adeft/modeling/classify.py - Beginning grid search in parameter space:\n",
      "{'C': [100.0], 'max_features': [10000]}\n",
      "INFO: [2020-11-10 04:45:07] /adeft/PP/adeft/adeft/modeling/classify.py - Best f1 score of 0.9663521772345302 found for parameter values:\n",
      "{'logit__C': 100.0, 'tfidf__max_features': 10000}\n"
     ]
    }
   ],
   "source": [
    "%%capture\n",
    "\n",
    "classifier = AdeftClassifier(shortforms, pos_labels=pos_labels, random_state=1729)\n",
    "param_grid = {'C': [100.0], 'max_features': [10000]}\n",
    "texts, labels, pmids = zip(*corpus)\n",
    "classifier.cv(texts, labels, param_grid, cv=5, n_jobs=5)"
   ]
  },
  {
   "cell_type": "code",
   "execution_count": 41,
   "metadata": {
    "scrolled": true
   },
   "outputs": [
    {
     "data": {
      "text/plain": [
       "{'label_distribution': {'HGNC:6851': 79, 'ungrounded': 13, 'HGNC:2907': 85},\n",
       " 'f1': {'mean': 0.966352, 'std': 0.024766},\n",
       " 'precision': {'mean': 0.966768, 'std': 0.020269},\n",
       " 'recall': {'mean': 0.969318, 'std': 0.027535},\n",
       " 'HGNC:6851': {'f1': {'mean': 0.969675, 'std': 0.027154},\n",
       "  'pr': {'mean': 1.0, 'std': 0.0},\n",
       "  'rc': {'mean': 0.942484, 'std': 0.051198}},\n",
       " 'HGNC:2907': {'f1': {'mean': 0.963225, 'std': 0.023601},\n",
       "  'pr': {'mean': 0.941176, 'std': 0.052613},\n",
       "  'rc': {'mean': 0.988889, 'std': 0.022222}},\n",
       " 'ungrounded': {'f1': {'mean': 0.933333, 'std': 0.133333},\n",
       "  'pr': {'mean': 0.9, 'std': 0.2},\n",
       "  'rc': {'mean': 1.0, 'std': 0.0}}}"
      ]
     },
     "execution_count": 41,
     "metadata": {},
     "output_type": "execute_result"
    }
   ],
   "source": [
    "classifier.stats"
   ]
  },
  {
   "cell_type": "code",
   "execution_count": 42,
   "metadata": {},
   "outputs": [],
   "source": [
    "disamb = AdeftDisambiguator(classifier, grounding_dict, names)"
   ]
  },
  {
   "cell_type": "code",
   "execution_count": 43,
   "metadata": {},
   "outputs": [],
   "source": [
    "disamb.dump(model_name, results_path)"
   ]
  },
  {
   "cell_type": "code",
   "execution_count": 44,
   "metadata": {},
   "outputs": [
    {
     "name": "stdout",
     "output_type": "stream",
     "text": [
      "Disambiguation model for DLK\n",
      "\n",
      "Produces the disambiguations:\n",
      "\tDLK1*\tHGNC:2907\n",
      "\tMAP3K12*\tHGNC:6851\n",
      "\n",
      "Class level metrics:\n",
      "--------------------\n",
      "Grounding\tCount\tF1     \n",
      "   DLK1*\t85\t0.96322\n",
      "MAP3K12*\t79\t0.96968\n",
      "Ungrounded\t13\t0.93333\n",
      "\n",
      "Weighted Metrics:\n",
      "-----------------\n",
      "\tF1 score:\t0.96635\n",
      "\tPrecision:\t0.96677\n",
      "\tRecall:\t\t0.96932\n",
      "\n",
      "* Positive labels\n",
      "See Docstring for explanation\n",
      "\n"
     ]
    }
   ],
   "source": [
    "print(disamb.info())"
   ]
  },
  {
   "cell_type": "code",
   "execution_count": 50,
   "metadata": {},
   "outputs": [],
   "source": [
    "model_to_s3(disamb)"
   ]
  },
  {
   "cell_type": "code",
   "execution_count": 30,
   "metadata": {},
   "outputs": [],
   "source": [
    "preds = [disamb.disambiguate(text) for text in all_texts.values()]"
   ]
  },
  {
   "cell_type": "code",
   "execution_count": 31,
   "metadata": {},
   "outputs": [],
   "source": [
    "texts = [text for pred, text in zip(preds, all_texts.values()) if pred[0] == 'HGNC:10967']"
   ]
  },
  {
   "cell_type": "code",
   "execution_count": 36,
   "metadata": {},
   "outputs": [
    {
     "data": {
      "text/plain": [
       "'The non-neuronal monoamine transporters (OCT1, OCT2, EMT, and PMAT) play a key role in the clearance of monoamines from extracellular compartments. In a previous report we described endometrial distribution and cyclic variation of the vesicular monoamine transporter (VMAT2) mRNA and the neuronal norepinephrine transporter (NET) mRNA. In the present study we used in situ hybridization, real-time PCR and immunohistochemistry to reveal tissue distribution and cyclic variation of mRNA for the non-neuronal monoamine transporters in the human endometrium and early pregnancy decidua. We found that non-neuronal monoamine transporters are predominantly expressed in the stroma. The plasma membrane monoamine transporter (PMAT) mRNA expression peaked in the proliferative phase, whereas the extra-neuronal monoamine transporter (EMT) mRNA expression peaked in the secretory phase. The organic cation transporter 2 (OCT2) mRNA expression was exclusively detected in few scattered stromal cells and OCT1 mRNA was not detected at all. Our present results demonstrate that PMAT, EMT, and OCT2 transporters are expressed in the endometrial stroma and can potentially regulate reuptake of monoamines in general and histamine in particular. Taken together with our previous finding of VMAT2 mRNA in epithelial cells, we suggest a paracrine interaction between stromal and epithelial cells, which may modulate certain steps of the reproductive process.\\n'"
      ]
     },
     "execution_count": 36,
     "metadata": {},
     "output_type": "execute_result"
    }
   ],
   "source": [
    "texts[3]"
   ]
  },
  {
   "cell_type": "code",
   "execution_count": 46,
   "metadata": {},
   "outputs": [],
   "source": [
    "preds = [disamb.disambiguate(text) for text in all_texts.values()]\n",
    "texts = [text for pred, text in zip(preds, all_texts.values()) if pred[0] == 'HGNC:2907']"
   ]
  },
  {
   "cell_type": "code",
   "execution_count": 47,
   "metadata": {},
   "outputs": [
    {
     "data": {
      "text/plain": [
       "7"
      ]
     },
     "execution_count": 47,
     "metadata": {},
     "output_type": "execute_result"
    }
   ],
   "source": [
    "len(texts)"
   ]
  },
  {
   "cell_type": "code",
   "execution_count": 48,
   "metadata": {},
   "outputs": [
    {
     "data": {
      "text/plain": [
       "\"To investigate the effect of the tissue origin of stromal fibroblasts and epithelial cells on reconstructed corneas in vitro. Four types of constructs were produced by the self-assembly approach using the following combinations of human cells: corneal fibroblasts/corneal epithelial cells, corneal fibroblasts/skin epithelial cells, skin fibroblasts/corneal epithelial cells, skin fibroblasts/skin epithelial cells. Fibroblasts were cultured with ascorbic acid to produce stromal sheets on which epithelial cells were cultured. After 2 weeks at the air-liquid interface, the reconstructed tissues were photographed, absorption spectra were measured, and tissues were fixed for histologic analysis. Cytokine expression in corneal- or skin-fibroblast-conditioned media was determined with the use of protein array membranes. The effect of culturing reconstructed tissues with conditioned media, or media supplemented with a cytokine secreted mainly by corneal fibroblasts, was determined. The tissue source from which epithelial and mesenchymal cells were isolated had a great impact on the macroscopic and histologic features (epithelium thickness and differentiation) and the functional properties (transparency) of the reconstructed tissues. The reconstructed cornea had ultraviolet-absorption characteristics resembling those of native human cornea. The regulation of epithelial differentiation and thickness was mesenchyme-dependent and mediated by diffusible factors. IL-6, which is secreted in greater amounts by corneal fibroblasts than skin fibroblasts, decreased the expression of the differentiation marker DLK in the reconstructed epidermis. The tissue origin of fibroblasts and epithelial cells plays a significant role in the properties of the reconstructed tissues. These human models are promising tools for gaining a thorough understanding of epithelial-stromal interactions and regulation of epithelia homeostasis.\\n\\n\\nRecently we were able to purify these same HSC- supportive stromal cells based on the surface phenotype of SCF+DLK+ (Chou, S. and H. Lodish, unpublished). These are the principal fetal liver cells that express not only Angiopoietin- like 3, and IGF-2, but also SCF and Thrombopoietin, two other growth factors important for HSC expansion. They are also the principal fetal liver cells that express CXCL12, a factor required for HSC homing, and also α-fetoprotein (AFP), indicating they are fetal hepatoblasts. Immunocytochemistry shows that >93% of the SCF+ cells express DLK and Angptl3, and about a third of the SCF+ cells also expresses CXCL12. Thus SCF+DLK+ cells are a highly homogenous population that express a complete set of factors for HSC expansion and are the hepatoblast stromal cells that support HSC expansion in the fetal liver. Although we have not yet determined whether these SCF+DLK+ stromal cells physically interact with HSCs, the fact they express membrane-bound forms of DLK and SCF on their surface does suggest they are able to interact with HSCs via the binding between the SCF receptor c-kit and the still unknown receptor for DLK on HSCs.\\nWe do not know whether these SCF+DLK+ cells are present in adult bone marrow. Nor do we know the identity of the factors that stimulate self-renewal of HSCs in bone marrow. Several of the factors we showed support ex vivo expansion of HSCs – Tpo and Angptl3 – continue to be made by adult liver at levels similar to that in fetal liver (Chou, S. and H. Lodish, unpublished). But we do not know whether these hormones function systemically to regulate HSCs in the bone marrow.\\n\\n\\nWe have developed a coculture system that establishes DLK+ fetal hepatic progenitors as the authentic supportive cells for expansion of hematopoietic stem (HSCs) and progenitor cells. In 1-week cultures supplemented with serum and supportive cytokines, both cocultured DLK+ fetal hepatic progenitors and their conditioned medium supported rapid expansion of hematopoietic progenitors and a small increase in HSC numbers. In 2- and 3-week cultures DLK+ cells, but not their conditioned medium, continuously and significantly (>20-fold) expanded both hematopoietic stem and progenitor cells. Physical contact between HSCs and DLK+ cells was crucial to maintaining this long-term expansion. Similar HSC expansion (approximately sevenfold) was achieved in cocultures using a serum-free, low cytokine-containing medium. In contrast, DLK− cells are incapable of expanding hematopoietic cells, demonstrating that hepatic progenitors are the principle supportive cells for HSC expansion in the fetal liver.\\nStem cell factor (SCF) is a key membrane-bound growth factor that meditates the interaction between stromal cells and its receptor, c-Kit, on the surfaces of HSCs [19–21]. Using flow cytometry, we purified fetal liver SCF+DLK+ cells, which consist of 1%–2% of total E15.5 liver cells [22]. These are the major cell type in the fetal liver that expresses several known stem cell supportive cytokines, including Thrombopoietin (TPO), SCF, and CXCL12[23,24]. SCF+DLK+ cells are a subset of fetal hepatic progenitors that express high levels of α-fetoprotein (AFP) and albumin (ALB), two specific markers of fetal hepatic progenitor cells [22]. We therefore hypothesized that fetal liver hepatic progenitors are the major supportive stromal cells for HSC expansion.\\nIn this study, we report the establishment of a coculture system using DLK+ fetal liver hepatic progenitors that closely mimics hematopoietic stem and progenitor cell expansion in the fetal liver. These hepatic progenitors support the rapid expansion of hematopoietic progenitors in 1-week cocultures and significantly expand HSCs during 2- and 3-week cocultures. Our results provide direct proof that hepatic progenitors are the principle supportive cells for the expansion of hematopoietic stem and progenitors in the fetal liver and establish an ex vivo system for investigating the details of HSC function in the developing embryo.\\nMagnetic bead purification of fetal liver DLK+ cells\\nEmbryonic day 15.5 fetal liver cells were dispersed into single cells by pipetting and treated with collagenase and DNAase I as described previously [25]. Ammonium chloride (StemCell Technologies, Vancouver, BC, Canada) was used to lyse erythrocytes and the remaining cells were suspended in Hank’s balanced solution (StemCell Technologies) with 2% fetal bovine serum and incubated with CD16/32 antibody (eBioscience, San Diego, CA, USA) to block nonspecific binding. The cells were next incubated with FITC-conjugated DLK1 antibody (MBL International, Woburn, MA, USA) and anti-FITC magnetic beads (Miltenyi Biotec, Auburn, CA, USA) for 15 minutes each. DLK+ cells were separated using an autoMACS Magnetic Separator (Miltenyi) using a double-column setting.\\nCoculture with DLK+ fetal hepatic progenitors\\nFor 1-week coculture experiments with DLK+ cells in serum-containing medium, 5000 purified DLK+ cells were cultured in one well of a 96-well gelatin-coated plate (BD Biosciences) containing 170 mL Iscove’s modified Dulbecco’s medium (IMDM) with 10% fetal bovine serum, 50 μmol/L β-mercaptoethanol, and penicillin-streptomycin (Life Technologies, Carlsbad, CA, USA) added. The plates were incubated at 37°C for 2 days to allow hepatic cells to attach to the bottom of the wells and then carefully washed to remove all the cells that did not attach to the plates. In initial experiments, 2-day conditioned medium was filtered using 0.22-μm syringe-driven filter units (Millipore, Billerica, MA, USA) and added back to the wells. In later experiments, 170 μL fresh medium was added into each well directly, because we had shown that conditioned medium from DLK+ cells was dispensable for ex vivo HSC expansion. In either case, a cocktail of cytokines including 50 ng/mL SCF, 20 ng/mL TPO, and 50 ng/mL FLT3L (all from Peprotech, Rocky Hill, NJ, USA) supplemented the cultures. One hundred SLAM+ cells were sorted directly into each well and incubated at 37°C for 7 days before transplantation.\\nFor 2-week coculture experiments, cells expanded from 50 SLAM+ cells after a 1-week coculture were transferred to one well of a six-well gelatin-coated plate (BD Biosciences) containing 125,000 purified DLK+ cells in 2.5 mL IMDM plus 10% FBS supplemented with the cytokine cocktail. These DLK+ cells have previously been cultured for 2 days in IMDM plus 10% serum medium and carefully washed as described earlier. For week 3 of coculture, the cells from 2-week cocultures were diluted 40-fold and transferred to freshly prepared six-well gelatin-coated plates containing 125,000 DLK+ cells per well.\\nTwo-week coculture with DLK+ cells in serum-free, low-cytokine medium was performed in a similar way, except that greater numbers of DLK+ cells were plated into each well. For the first week of the coculture, 170 μL StemSpan medium (StemCell Technologies) supplemented with 10 ng/mL SCF and 2 ng/mL TPO and penicillin-streptomycin was added onto a washed DLK+ cell layer (20,000 cells/well) and cocultured with sorted SLAM+ cells (200 cells/well) in 96-well gelatin-coated plates. For week 2, the progeny of 200 SLAM+ cells were transferred to one well of a six-well gelatin-coated plate coated with 300,000 washed DLK+ cells. For each transplantation experiment, cells from at least three individual wells were pooled together.\\nThe method for the immunocytochemistry study of purified DLK+ cells is the same as that described previously [22]. DLK+ cells purified by magnetic beads method were stained with antibodies to DLK1 (MBL International) together with antibodies to ALB (Abcam, Cambridge, UK), AFP (Santa Cruz Biotechnology, Santa Cruz, CA, USA), or biotin-conjugated antibody to SCF (AbD Serotec, Kidlington, UK). Secondary antibodies were DyLight 488 conjugated donkey anti-rat antibody, Rhodamine Red X (RRX)-conjugated donkey anti-goat or anti-rabbit antibodies, or RRX-conjugated streptavidin (all from Jackson Immunoresearch). DAPI was added into the mounting solution. A Perkin-Elmer UltraView spinning disk confocal microscope was used to view the fluorescent signals.\\nImages of cultured DLK+ cells purified from the fetal livers of Tg(AFP-GFP) mice were obtained using a Nikon Eclipse TS100 fluorescence microscope (original magnification ×100) and taken using SPOT software.\\nThe most direct way to prove that fetal hepatic progenitors are bona fide supportive cells for HSC expansion is to establish a coculture assay that expands HSCs ex vivo. Initially, we cocultured FACS-sorted SCF+DLK+ cells with purified SLAM+ (CD150+CD48−CD41−) [14] fetal liver HSCs for 5 days. Although SCF+DLK+ cells were able to maintain fetal liver HSCs numbers in short-term ex vivo culture, as judged by transplantation experiments, there was no net expansion of HSCs [22]. Several factors likely contributed to this lack of HSC expansion. First, more than 90% of sorted SCF+DLK+ cells died within 24 hours of culture, presumably because of the stress caused by FACS sorting. To increase the numbers and survival of hepatic progenitors, we used magnetic beads to purify DLK+ cells from the fetal liver (Supplementary Figure 1A, online only, available at www.exphem.org). Using collagenase to treat fetal liver cells before magnetic bead selection, we were able to isolate DLK+ cells to greater than 70% purity. (Supplementary Figure 1A, online only, available at www.exphem.org). Most of the contaminating cells appeared to be hematopoietic, because they comprised of vast majority of the cells in the fetal liver. This fraction comprised approximately 5% of total E15.5 fetal liver cells, and only a fraction (~56% and 24%) express ALB and SCF, respectively (Fig. 1A). However, almost every DLK+ cell is also AFP+ (Fig. 1A) and is thus a hepatic cell, consistent with previous studies on fetal rat liver [26]. Furthermore, quantitative polymerase chain reaction (qPCR) analysis shows that DLK+ cells are highly enriched for expression of AFP and ALB, two specific markers for hepatic cells. Markers for other cell types in the fetal liver such as endothelial cells, mesenchymal cells, Kupffer cells, and bile duct epithelial cells are not enriched (Fig. 1B). Therefore, purified fetal liver DLK+ cells are specifically enriched for hepatic progenitor cells.\\nHepatocytes are notoriously difficult to culture; therefore, it is important to find a condition that can both support the expansion of HSCs and sustain hepatic progenitors for an extended period of time. We first determined the survival of purified DLK+ fetal hepatic progenitors in several culture media; we used fetal liver DLK+ cells purified from Tg(AFP-GFP) mice so that live fetal liver hepatic progenitors can be identified by their expression of GFP protein. We found that hepatic progenitors survived best in medium with serum and reasonably well in serum-free StemSpan SFEM medium (StemCell Technologies;Supplementary Figure 1B, online only, available at www. exphem.org), both of which are also capable of supporting hematopoietic stem or progenitor cells with the addition of supportive cytokines [27–29]. Growing in regular cell culture plates, GFP+ hepatic cells form cell clusters of various sizes (Supplementary Figure 1B, top row, online only, available at www.exphem.org). Growing on gelatin-coated plates, the cells spread and form monolayers (Supplementary Figure 1B, bottom row, online only, available at www.exphem.org).\\nAt E15.5, more than 90% of fetal liver cells are hematopoietic; therefore, purified DLK+ cells inevitably contain some hematopoietic cells. Without supportive cytokines, these cells cannot survive in either serum or StemSpan medium. However, when we cultured purified DLK+ cells in serum-containing medium for 10 days, clusters of small and round hematopoietic cells started to appear adjacent to GFP-positive hepatic cells and continued expanding through day 14 (Fig. 1C). In contrast, we found little accumulation of hematopoietic cells around GFP+ cells in serum-free Stem-Span medium (Supplementary Figure 1C, online only, available at www.exphem.org). This result indicates that fetal hepatic progenitors have the ability to support some hematopoietic stem or progenitor cells for an extended period of time in serum-containing medium during ex vivo culture.\\nAs a result, we chose to culture DLK+ cells in serum-containing medium supplemented with 50 ng/mL SCF, 20 ng/mL TPO, and 50 ng/mL FLT3L (STF medium [IMDM + 10% bovine serum albumin supplemented with previously mentioned cytokines]) to support expansion of HSCs. DLK+ cells were plated on gelatin-coated plates for 2 days to allow the hepatic cells to attach and spread (Supplementary Figure 1B, online only, available at www.exphem.org), after which the culture plates were washed carefully to remove nonadherent cells. Another concern was that ex vivo–cultured DLK+ cells lose expression of many cytokines, including IGF2, DLK1, and Angptl3. (Supplementary Figure 2, online only, available at www.exphem.org). To maximize the chance of HSC-supportive factors remaining in the culture, we also added back-filtered, 2-day conditioned medium (CM) from DLK+ cells to some of the cocultures (Fig. 2A).\\nThus, sorted SLAM+ bone marrow HSCs from CD45.1 mice were cocultured with DLK+ cells from CD45.2 mice with CM for 1 week, and the nonadherent hematopoietic cells derived from 50 SLAM+ cells were transplanted into CD45.2 recipient mice. HSCs cocultured with DLK+ cells showed a clear increase of donor-derived peripheral nucleated blood cells relative to uncultured SLAM cells (p < 0.002) at 1 and 4 months after transplantation (Fig. 2B). Importantly, the percentages of donor-derived B, T, and myeloid cells were all increased in the cocultured cells (Fig. 2C and 2D). These results suggest that there is an expansion of both short-term and long-term reconstituting HSCs after coculture.\\nWe also tested the ability of DLK+ cells or their conditioned medium to expand hematopoietic progenitor cells. After 1 week, SLAM+ cells cultured in STF medium (cytokines only control) increased in number by 90-fold (Fig. 2E). When SLAM+ cells were cultured in CM or with DLK+ cells, an additional fourfold to ninefold expansion was seen. Colony-forming assays showed that both DLK+ cells and their conditioned medium promoted a 10- to 30-fold increase of all types of hematopoietic progenitors, relative to culture only with cytokines (Fig. 2F). These results suggest that DLK+ fetal hepatic progenitors can both expand HSCs and promote their differentiation into hematopoietic progenitors in ex vivo culture.\\nTo examine whether HSCs can be expanded by DLK+ cells beyond a 1-week culture, we extended the coculture experiment to 3 weeks. Cells were transferred onto a new layer of DLK+ cells at the beginning of each week. SLAM+ cells cultured in CM alone expanded rapidly at the beginning, but proliferation slowed at the end of week 2 and then halted (Fig. 3A and 3B). In contrast, HSCs cocultured with DLK+ cells with or without CM continued to expand in numbers for 3 weeks (Fig. 3A and 3B). At the end of week3, one SLAM+ cell cocultured with DLK+ stromal cells produced nearly 3 million progeny—a more than 200-fold increase over HSCs cultured with cytokines alone and approximately 100-fold higher than those cultured in CM.\\nTo test whether long-term coculture with DLK+ cells further expanded HSCs, we transplanted the progeny of 10 SLAM+ cells after a 2-week culture. Only half of the mice transplanted with 10 uncultured SLAM+ cells were able to reconstitute irradiated mice (Fig. 3C). In contrast, every mouse transplanted with HSCs cocultured with DLK+ cells had a significant amount (>2%) of donor-derived nucleated blood cells at 1 and 4 months after transplantation, whether or not CM was included, indicating a clear expansion of HSCs (Fig. 3C). Donor-derived reconstitution in these mice was similar at 6 months after transplant (Fig. 3D). The recipient mice were kept for more than 10 months with no incidence of leukemia. In contrast, HSCs cultured in CM for 2 weeks only slightly increased their repopulating activity at 1 month after transplant. The percentage of donor-derived cells in peripheral blood continued to decline over time, and there was no longer a noticeable difference between HSCs cultured in CM and cytokines only at 6 month after transplantation (Fig. 3D). Therefore, HSCs cultured in CM lost their long-term repopulating ability after 2 weeks and were not able to continue expansion during week 3. In contrast, HSCs continued to expand at week 3 when cocultured with DLK+ cells (Fig. 3E). Recipient mice transplanted with HSCs cocultured for 3 weeks have high levels (between 28% and 85%) of donor-derived blood cells at one month after transplantation, indicating a large expansion of short-term HSCs. The percentage of donor-derived peripheral blood cells decreased over time, but were still present in significant levels (between 4% and 23%) in every recipient mouse at both 4 and 6 months after transplantation (Fig. 3E). Because all mice transplanted with the progeny of only one SLAM+ cell after a 3-week coculture were reconstituted, we can calculate using Poisson statistics that, compared with uncultured SLAM cell, coculture with DLK+ cells for 3 weeks resulted in a minimum of a 20-fold increase in HSC numbers. These results suggest that although factors secreted by DLK+ cells are capable of promoting HSC expansion in a short-term (1 week) coculture, direct cell-cell contact is required for HSCs to continue their expansion in long-term culture. It is likely that membrane-bound signaling molecules on the surface of DLK+ cells are important to maintain HSCs in an undifferentiated state.\\nCoculture with DLK+ cells in serum-free, low-cytokine medium expanded HSCs that can long-term self-renew and efficiently reconstitute all blood lineages\\nThe vast majority of mice transplanted with HSCs expanded by long-term coculture with DLK+ cells remained healthy at 10 months after transplantation. However, occasional transplanted mice died less than 2 months after transplantation. These dead mice had a high percentage of donor-derived cells in the peripheral blood at 1 month after transplantation and appeared to be anemic. One example is shown in Figure 3E (open cycle); 85% of blood cells from this mouse were donor derived at 1 month after transplantation. A closer inspection found that all recipient mice exhibited a temporary defect in donor-derived myeloid reconstitution at 2 months after transplantation (Supplementary Figures 3A–3C, online only, available at www.exphem.org). This subtle myeloid, and perhaps also erythroid, reconstituting problem is not caused by the DLK+ cells because SLAM+ cells cultured in medium containing cytokines only also exhibited a similar problem (Supplementary Figures 3D and 3E, online only, available at www.exphem.org). Although the exact reason for this myeloid reconstituting defect is unclear, the prolonged exposure to serum or high levels of mitotic cytokines such as TPO are the major suspects.\\nBecause DLK+ cells are able to survive in serum-free StemSpan medium for an extended period of time (Supplementary Figure 1B, online only, available at www.exphem.org), we tested whether coculture in serum-free, low-cytokine media could allow the expansion of HSCs without compromising their myeloid differentiation potential. We cocultured 100 CD 45.1 SLAM+ HSCs together with CD 45.2+DLK+ cells in StemSpan medium supplemented with either 10 ng/mL SCF or 10 ng/mL SCF plus 2 ng/mL TPO for 2 weeks, followed by bone marrow transplantation. In both conditions, donor-derived blood cells were present in all recipient mice 4 months after transplantation (Fig. 4A). We found that HSCs cultured in serum-free, low-cytokine medium no longer have myeloid reconstitution defects at 2 months after transplantation (Supplementary Figure 3F, online only, available at www.exphem.org) and these expanded HSCs could efficiently reconstitute B cells, T cells, and myeloid lineages (Fig. 4B). We next extracted the bone marrow cells from each recipient mouse and transplanted them into one secondary recipient mouse. We found that most of the secondary recipients contained significant levels of donor-derived cells in their peripheral blood 3 months after secondary transplantation (Fig. 4A). This result indicates that most of the expanded HSCs still maintain truly long-term self-renewing ability. These experiments suggest that in proper culture conditions, DLK+ cells are capable of expanding HSCs that can both long-term self-renew and efficiently reconstitute all blood lineages.\\nWe next quantified the level of HSC expansion in serum-free cocultures. Because DLK+ cells do not proliferate in serum-free medium, we could add twice the numbers of DLK+ cells without overcrowding the culture. We compared uncultured HSCs with those cultured in cytokines only (10 ng/mL SCF, 2 ng TPO) and those cocultured with DLK+ cells. After a 2-week coculture, HSCs cocultured with DLK+ cells generated nearly approximately 50-fold more hematopoietic cells than did cultures with cytokines only (Fig. 4C). Transplant assays showed that HSCs cultured with cytokines alone completely lost their repopulating activity after 2 weeks, and those cocultured with DLK+ cells had a clear increase of HSC numbers over uncultured HSCs (Fig. 4D). The expanded HSCs reconstituted B, T, and myeloid lineages equally well (Fig. 4E). We next performed a limiting dilution assay to assess the magnitude of HSC expansion after a 2-week coculture. The frequency of long-term repopulating HSCs in uncultured SLAM+ cells was 1 per 11.4 at 4 months after transplantation (95% confidence interval: 1 in 9 to 1 in 15) compared with 1 per 1.7 (95% confidence interval: 1 in 1.3 to 1 in 2.1) after the 2-week culture (Fig. 4F), determined using L-calc software (Stem Cell Technologies, Vancouver, BC, Canada). Therefore, coculture with DLK+ cells for 2 weeks in serum-free medium results in a sevenfold increase of HSC number. To evaluate the importance of the cell-cell contact between DLK+ cells and HSCs in supporting HSC expansion in serum-free medium, we separated HSCs from DLK+ cells by 0.4 mm transwell cell culture inserts (Millipore, Billerica, MA, USA). These porous cell culture inserts allow secreted protein factors to reach cells cultured inside the transwells, but prevent the direct contact between cells grown inside and outside of the transwells. SLAM+ cells were cocultured with DLK+ cells for 1 week, and their progeny were transferred onto cell culture inserts and placed on top of gelatin-coated plates cultured with DLK+ cells. After 1 week, the number of cells expanded in transwell plates was threefold less than the number of cells expanded by coculture (Fig. 4G). Transplantation assays showed a dramatic decrease in donor-derived reconstitution of peripheral blood cells when HSCs were placed in transwell plates compared to cultures in which the two cell types were in direct contact. (Fig. 4H). Considering these results and our earlier findings (Fig. 3C), it is clear that the contact between HSCs and their hepatic stromal cells is critical for HSC expansion in long-term culture.\\nTo eliminate the possibility that the HSC expansion we saw was actually mediated by contaminating DLK− cells, we examined whether DLK− cells could also support HSC and hematopoietic progenitor expansion in ex vivo culture. A 2-week coculture with DLK− cells in serum-free, low-cytokine medium completely failed to significantly expand hematopoietic cell numbers (Fig. 5A and 5B). Similar results were also obtained in serum containing medium (Supplementary Figure 4, online only, available at www.exphem.org). Transplant assays showed that there was no expansion of HSCs (Fig. 5C) when they were cocultured with DLK− cells (Fig. 5C). Therefore, DLK+ fetal hepatic progenitors are the major cell population in the fetal liver that supports expansion of HSCs.\\nTo ensure that the HSC expansion effect is from HSCs and not potential contaminating cells, we first used qPCR to show that only markers for hepatic cells are enriched in DLK+ cells versus DLK− cells (Fig. 1B). We then compared the ability of DLK+ and DLK− cells to expand HSCs. Although DLK+ cells supported significant HSC expansion, proportional numbers of DLK− cells failed completely to expand HSCs or hematopoietic progenitors in either serum-containing or serum-free media (Fig. 5, Supplementary Figure 4, online only, available at www. exphem.org). These results gave us confidence that the principle supportive cells for HSC expansion are indeed of hepatic origin.\\nTo develop this novel coculture system, we had to continuously adjust and improve our methods. For example, initially we purified DLK+ cells without collagenase treatment (Fig. 2). However, we found that collagenase treatment not only improved the purity of isolated DLK+ cells, but also increased their ability to attach to the culture plates. Therefore, far fewer DLK+ cells were needed for the later experiments. One key to achieving significant HSC expansion is to have as many DLK+ cells in the coculture as possible. When purified DLK+ cells were cultured in serum-containing medium, their mass increased significantly after 1 week, and it was a difficult task to consistently have sufficient numbers of DLK+ cells at the beginning of the coculture without overcrowding the culture at later stages. In contrast, when DLK+ cells were cultured in serum-free StemSpan medium, there was little change in their mass during the coculture; therefore, higher numbers of DLK+ cells could be plated without overcrowding the coculture. As a result, the coculture experiment was simplified and became more consistent.\\nThe establishment of a coculture system with fetal hepatic progenitors could also provide a major boost to the ex vivo culture and expansion of HSCs. Despite the fact that ex vivo–cultured DLK+ hepatic progenitors lose expression of many cytokines and that only a fraction of DLK+ hepatic cells are likely to be supportive of HSCs, we have consistently observed significant expansion of HSCs in both serum-containing and serum-free media using our coculture system. Moreover, we suspect that the true potential of hepatic stromal cells to expand HSCs in ex vivo coculture is much higher. The fact that many progenitors and short-term HSCs were generated in our long-term coculture indicates that many expanded HSCs underwent differentiation during coculture. Insufficient protection of expanded HSCs through direct contact with hepatic stromal cells is possibly the main reason for this finding. Better maintenance of long-term HSCs will also allow the duration of the coculture to be further extended, thus expanding more HSCs. Therefore, promoting direct contact between HSCs and their hepatic stromal cells, thus maintaining them in an undifferentiated state, is a key to successful long-term culture and expansion of HSCs.\\nOne remaining key question is which cell surface proteins on the surface of DLK+ cells are important for the expansion of HSCs. A natural candidate is DLK1, a homolog to the notch ligands. However, DLK1 expression is rapidly diminished in ex vivo culture, suggesting that it is dispensable for the ex vivo expansion of HSCs. Other candidates include Notch ligands because Notch pathway was suggested to play an important role in the regulation of HSCs by endothelial cells. We examined the expression of all the Notch ligands and found none of them is enriched by DLK+ cells. Therefore, fetal hepatic cells can use multiple signaling pathways to control the growth and differentiation of HSCs.\\nSupplementary Figure 1. Ex vivo–cultured fetal DLK+ cells can survive for an extend period in both serum containing medium and serum-free stem span medium. (A) Magnetic bead purification of DLK+ cells from E15.5 liver. Total fetal liver cells were stained with FITC-conjugated DLK1 antibody followed by anti-FITC magnetic beads. The DLK− (left) and DLK+ (middle) cells were separated using an automatic cell separator. Collagenase treatment before purification further improved the purity of DLK1+ cells. (B) Comparison of the survival of DLK+ cells in serum-containing medium, serum-free StemSpan medium, both of which are also capable of supporting hematopoietic cells and hepatocyte-defined medium (HDM; BD Biosciences), a serum-free medium specifically formulated for adult hepatocytes. GFP+ hepatic remained alive after 7 days in both serum and StemSpan medium after 7 days, but died in HDM (top row). Culturing DLK+ cells on gelatin-coated plates improved their survival, and hepatic cells spread and formed monolayers (bottom row). On both regular culture plates and gelatin-coated plates, hepatic cells survived the best in serum medium. (C) Very little hematopoietic cell growth surrounding DLK+ hepatic cells in StemSpan medium after 14 days.\\nSupplementary Figure 2. The expression of many growth factors by DLK+ cells is downregulated during ex vivo coculture. Indicated is the relative abundance of mRNA for each gene before culture and after 3 and 7 days of culture in serum-containing medium. The relative expression of each gene at each time point was calculated by setting the level of each mRNA before culture as one. Although expression of several HSC supportive factors such as SCF, TPO, and CXCl12 was maintained during culture, expression levels of DLK1, Angptl3, and IGF2 dropped quickly.\\nSupplementary Figure 4. DLK− cells failed to expand hematopoietic cells in serum containing STF medium after 3 weeks of coculture. HSCs were cocultured with DLK+ cells, a proportional amount of DLK− cells, or cytokines only in serum medium for 2 weeks. The numbers of hematopoietic cells expanded were counted using a hemocytometer. Fibroblastic cells from DLK− cell population grew rapidly, and a small portion of hematopoietic progenitors remained and expanded in serum medium; therefore, significant amount of cells were present in control wells with only DLK− cells (B, bottom right). We therefore subtracted the number of cells from control wells without HSCs added from the total number of cells after coculture. As (A) shows, coculture with DLK− cells did not expand hematopoietic cells when compared with cytokines only. For week 3, coculture with DLK+ cells expanded sixfold more cells than coculture with DLK− cells. FACS analysis shows that 88.5% of total cells expanded by coculture with DLK+ cells are donor-derived CD45.1+ cells (C, left panel). In contrast, only 2.2% of cells expanded by coculture with DLK− cells are CD45.1+ (C, right panel). The rest of the cells were mainly CD45.2+ contaminating hematopoietic cells from the fetal liver. Therefore, coculture with DLK+ cells expanded more than 200-fold of hematopoietic cells than coculture with DLK− cells.\\n\\n\\nThe role of NOTCH signaling in melanoma prompted us to analyze the effects of DLK proteins on melanoma NOTCH signaling and cell proliferation. In this study, we provide extensive evidence supporting that, in agreement with previous reports involving other cell types, DLK proteins can regulate also NOTCH signaling in melanoma cells. Interestingly, this can lead to opposite effects in metastatic melanoma growth, depending upon the final NOTCH activation levels. Our results suggest that both DLK proteins could be potentially interesting to be used, alone or together with other NOTCH inhibitors, such as DAPT, to regulate the growth of metastatic human melanoma cells by modulating NOTCH activation and signaling.\\nTo study the hypothetical involvement of DLK proteins on metastatic melanoma cell proliferation, we first modified DLK1 or DLK2 expression levels in SK-MEL-2 cells, which lack endogenous  DLK1  expression, but express  DLK2 . We stably transfected SK-MEL-2 cells with the empty vector (pLNCX2), sense  DLK1  (HDLK1S), or sense or antisense  DLK2  cDNA (HDLK2S, HDLK2aS) expression constructs. A minimum of two different stable transfectants from each construct was used in all experiments. We analyzed  DLK1  and  DLK2  expression in our stable transfectants by RT-qPCR (data not shown). By using Western blot, we confirmed that SK-MEL-2 cells transfected with sense  DLK1  (HDLK1S) or  DLK2  (HDLK2S) expression constructs overexpressed DLK1 or DLK2 proteins, respectively, and that SK-MEL-2 cells stably transfected with antisense  DLK2  (HDLK2aS) showed decreased DLK2 expression levels ( Fig.\\xa01 A ). To test the effects of DLK protein expression on melanoma growth, we performed cell proliferation assays. Overexpression of DLK1 or DLK2 in SK-MEL-2 melanoma cells significantly enhanced their proliferation rates, whereas diminished expression of DLK2 inhibited the proliferation of these cells compared to non-transfected parental cells or empty vector-transfected cells ( Fig.\\xa01 B).\\nCell proliferation is tightly regulated by expression and modulation of cell cycle-dependent cyclins, CDKs, and CDK inhibitors. To explore the underlying mechanism of increased cell proliferation induced by DLK1 and DLK2 proteins, we analyzed their effects on the expression levels of the cyclin-dependent kinase inhibitor  p21 WAF1/Cip1  and  cyclin D1 , since it has been previously reported that DLK1 modulates their expression in some cell types  [25,30] . As shown in  Fig.\\xa01 C, a significant decrease in  p21 WAF1/Cip1  expression and an increase in  cyclin D1  expression, relative to control cells transfected with the empty vector, were detected in SK-MEL-2 cells stably transfected with HDLK1S or HDLK2S plasmids. As expected, downregulation of  DLK2  expression increased  p21 WAF1/Cip1  expression and decreased  cyclin D1  expression. These results support a role of DLK proteins in melanoma cell proliferation.\\nTaking into consideration our data indicated that DLK proteins modulate  in vitro  cell growth of SK-MEL2 melanoma cells, we therefore analyzed whether they could affect  in vivo  SK-MEL2 melanoma growth. To investigate this, we injected in nude mice, subcutaneously, 5 × 10 6  SK-MEL-2 cells stably transfected with the empty vector or with plasmids HDLK1S or HDLK2S, and monitored the tumor size on the days indicated in  Fig.\\xa02 . The results showed that, as expected, SK-MEL-2 cells stably transfected with the empty vector did not develop significant tumors  in vivo . However, an increase in tumor cell growth was observed in HDLK1S or HDLK2 stable SK-MEL-2 transfectants, as compared to the control ( Fig.\\xa02 A). Comparison of tumor size on day 45 after inoculation also indicated that the tumors that finally developed from DLK1 or DLK2-overexpressing melanoma cells were significantly larger than those generated by the control cells ( Fig.\\xa02 B). These results demonstrate an  in vivo  oncogenic effect of DLK proteins in melanoma cells.\\nDLK1 and DLK2 have been reported to interact with NOTCH1 and inhibit NOTCH signaling  [18] . Considering that NOTCH signaling may play an important role in melanoma progression, we studied whether human DLK1 and DLK2 also acted as NOTCH signaling inhibitors in metastatic melanoma cells. As shown in  Fig.\\xa04 A , overexpression of DLK1 or DLK2 in SK-MEL-2 melanoma cells significantly inhibited NOTCH1 activation, whereas a decrease in DLK2 expression resulted in an increase of NOTCH1 activation. As a control, we treated vector-transfected cells with the γ-secretase inhibitor DAPT (10 μM) for 24 h, a treatment known to suppress NOTCH activation. In addition, we analyzed NOTCH-dependent transcriptional activity, as measured by luciferase assays, in SK-MEL-2 stably transfected with plasmids HDLK1S, HDLK2S or HDLK2aS, and transiently transfected with plasmid pGLucWT. Overexpression of either DLK1 or DLK2 resulted in the inhibition of NOTCH signaling ( Fig.\\xa04 B). However, we did not detect significant changes in NOTCH activation levels in SK-MEL-2 cells with decreased levels of DLK2. We also confirmed the effects of DLK proteins on NOTCH signaling by analyzing the expression levels of the NOTCH target genes  HES1 ,  HEY1  and  HEY2  by RT-qPCR ( Fig.\\xa04 C). The expression of these genes by HDLK1S or HDLK2S stably transfected cells was significantly reduced, whereas their expression levels in HDLK2aS transfectants were increased, thus confirming the inhibitory effects of DLK1 and DLK2 on NOTCH signaling.\\nThe potential effects of DLK1 or DLK2 on NOTCH activation and signaling were analyzed also by co-transfecting SK-MEL-2 cells with plasmid pGLucWT and different amounts of plasmids HDLK1S and/or HDLK2S. As shown in  Fig.\\xa05 A , overexpression of DLK1 and/or DLK2 proteins decreased NOTCH signaling. Besides, overexpression of DLK1 inhibited NOTCH signaling in a dose-dependent manner. Finally, we further analyzed NOTCH transcriptional activity in SK-MEL-2 cells stably transfected with DLK1 or DLK2-expressing plasmids, transiently transfected with plasmid pGLucWT, and cultured in conditioned medium from vector or HDLK1S-transfected cells. As expected, DLK1-enriched conditioned medium inhibited NOTCH signaling. Moreover, this inhibition was stronger in cells overexpressing DLK1 or DLK2 proteins, as compared to control cells transfected with the empty vector ( Fig.\\xa05 B). These results demonstrate that DLK proteins are able to inhibit NOTCH activation and signaling in a dose-dependent manner in metastatic melanoma cells.\\nPrevious studies have shown that the suppression of NOTCH activation and signaling with γ-secretase inhibitors (GSIs) decreases the proliferation rate of melanoma cell lines in a dose-dependent manner, leaving melanocyte growth unaltered  [8] . Moreover, it has been described that treatment of melanoma cell lines with a low dose of DAPT (0.2 μM), suppressed primary melanoma cell proliferation, but did not affect the proliferation of metastatic melanoma cells  [9] . To further investigate the role of DLK proteins on NOTCH1 activation and melanoma cell proliferation, we examined the effects of different concentrations of DAPT in our different transfected cells. As shown in  Fig.\\xa06 A , treatment of control SK-MEL-2 cells with a high dose of DAPT (2.5 μM) led to a drastic decrease of active NOTCH1, as compared to the levels of active NOTCH1 in cells treated with lower doses of DAPT (0.1 μM or 1.0 μM). We also analyzed NOTCH-dependent transcriptional activity in SK-MEL-2 cells transiently co-transfected with plasmid pGLucWT and empty vector, or with plasmids HDLK1S, HDLK2S or HDLK2aS, and treated with different concentrations of DAPT. As shown in  Fig.\\xa06 B, any dose of DAPT, and either DLK1 or DLK2 overexpression, significantly decreased, but downregulation of DLK2 expression increased, NOTCH-dependent transcriptional activity as measured by luciferase activity assays. Moreover, our results indicate that treatment of SK-MEL-2 cells with a low dose of DAPT (0.1 μM or 1.0 μM) led to a similar level of NOTCH signaling inhibition as that shown by SK-MEL-2 cells overexpressing DLK1 or DLK2.\\nTo investigate the dose-dependent effects of DAPT and DLK protein levels on NOTCH activation, we treated SK-MEL-2 cells stably transfected with DLK1 or DLK2-expressing plasmids with two different concentrations of DAPT and analyzed the active NOTCH1 levels by Western blot. As shown in  Fig.\\xa06 C, the treatment of HDLK1S or HDLK2S stable transfected cells with either a high (2.5 μM), or a low (1.0 μM) dose of DAPT led to complete NOTCH1 inhibition. We also analyzed these effects by measuring the NOTCH-dependent transcriptional activity in SK-MEL-2 cells overexpressing DLK1 or DLK2, and treated, or not, with 2.5 μM or 1.0 μM DAPT. As shown in  Fig.\\xa06 D, the inhibition of NOTCH-dependent transcriptional activity in cells overexpressing DLK1 or DLK2 and treated with DAPT was stronger than that obtained in control cells or in non-treated HDLK1S or HDLK2S stable transfectants.\\nTo investigate the dose-dependent effects of the above treatments on metastatic melanoma cell proliferation, we first analyzed by MTT assays the cell proliferation rate of SK-MEL-2 cells in the presence of increasing concentrations of DAPT. The treatment of these cells with a high dose of DAPT (2.5 μM) significantly reduced their proliferation rate. Surprisingly, low doses of DAPT (0.1 μM or 1.0 μM) significantly enhanced their proliferation rate ( Fig.\\xa07 A ). Then, we analyzed the proliferation rate of SK-MEL-2 cells stably transfected with plasmids HDLK1S or HDLK2S and treated, or not, with 2.5 μM or 1.0 μM DAPT. As shown in  Fig.\\xa07 B and C, treatment of HDLK1S or HDLK2S stable transfectants with either dose of DAPT significantly inhibited their proliferation rates. Taken together these results suggest that treatment of SK-MEL-2 melanoma cells overexpressing DLK1 or DLK2 with a low dose of DAPT leads to a more effective inhibition of cell proliferation than that obtained in cells transfected with empty vector and treated with any dose of DAPT, or cells overexpressing DLK1 or DLK2 not treated with DAPT. Thus, our data suggest that treatment of human metastatic melanoma tumors with a combination of DLK proteins and DAPT could be more effective at inhibiting NOTCH signaling and cell proliferation than treating these cells with each one of these inhibitory agents separately.\\nIt has been previously reported that the upregulation of p21 and the decrease in cyclin D1 expression contribute to G1 cell cycle arrest in SK-MEL-2 cells  [36,37] . Similarly, we have observed that the overexpression of DLK1 or DLK2 in these cells significantly decreased  p21 WAF1/Cip1  expression and increased  cyclin D1  expression, whereas lower levels of DLK2 expression resulted in an increase in  p21 WAF1/Cip1  expression and a decrease in  cyclin D1  expression. These results agree with other published reports showing that DLK1-overexpressing human hepatocellular carcinoma cells decreased p21 WAF1/Cip1  expression and induced cell proliferation  [30] . Yin and colleagues  [25]  found that DLK1 promoted glioblastoma cell proliferation and increased the expression of proliferation-enhancing proteins, such as cyclin D1. In contrast, forced expression of DLK1 in human erythroid leukemia cells enhanced their proliferation rates, but no difference was detected in levels of Rb, cyclin D1, and p21 proteins  [38] . Our results suggest that DLK proteins could induce melanoma cell proliferation through changes in the expression of key cell cycle regulators, such as p21 WAF1/Cip1  and cyclin D1.\\nAlthough SK-MEL-2 cells do not form tumors well in nude mice  [39] , we decided to perform a tumor growth assay in these animals to analyze whether DLK proteins could promote melanoma cell growth  in vivo , as they do  in vitro . In the present study we observed that SK-MEL-2 cells overexpressing either DLK1 or DLK2 and subcutaneously implanted in nude mice, increased tumor growth  in vivo , compared to mice inoculated with cells transfected with the empty vector. This finding agrees with other authors who showed that the overexpression of DLK1 promoted tumorigenic cell growth in mice  [30,40,41] . On the contrary, other studies have shown that expression of exogenous DLK1 could inhibit  in vivo  tumor growth  [20,42] . Our current findings support that DLK could be oncogenic in some tumor types and tumor suppressor in others, probably depending on their protein expression levels and the effects of DLK on NOTCH signaling in each tumor type.\\nDLK1 was previously shown to act both as a transmembrane and as a soluble protein  [16,25] , but nothing is known so far about whether DLK2 is also secreted or not. As expected, the results obtained by using conditioned media are consistent with DLK1 being released to the extracellular medium of SK-MEL-2 cells stably transfected with a DLK1-expressing plasmid. As we observed in DLK1 or DLK2 stable transfectants, we found that the growth rate of metastatic melanoma control cells (transfected with the empty vector) was significantly increased in the presence of conditioned medium from DLK1-expressing cells. Surprisingly, we detected that the addition of conditioned medium, containing soluble DLK1 protein, to HDLK1S or HDLK2S stable transfectants led to a significant inhibition of cell proliferation. These results indicate that the proliferation rate of SK-MEL-2 cells is highly sensitive to changes in the concentration or expression levels of DLK proteins.\\nThe versatile effects of NOTCH signaling on cell differentiation, cell proliferation, survival, and tumorigenesis have been widely described. It has been also described that DLK1 and DLK2 proteins act as inhibitors of NOTCH signaling in other cellular systems  [16–18,25] . In this work, we have observed that melanoma cell growth rates depend on the NOTCH signaling levels. Therefore, we studied the effects of DLK1 and DLK2 on NOTCH signaling in these cells to investigate whether the effects of DLK proteins on cell growth are a consequence on their modulation of NOTCH signaling. We have focused on NOTCH1, which is overexpressed in melanomas, but our data do not exclude the potential involvement of other NOTCH family members, also expressed in human melanoma cells  [8,43] . We have found that forced expression of DLK1 or DLK2 in these cells led to a decrease in NOTCH1 activation, and  HES1 ,  HEY1  and  HEY2  NOTCH-target gene expression. Moreover, the decrease of DLK2 expression levels in SK-MEL-2 cells led to an increase in both NOTCH1 activation and the expression of the NOTCH-target genes analyzed. These data demonstrate the inhibitory effect of DLK1 and DLK2 on NOTCH activation and signaling in human melanoma cells. In addition, our data also show that both, human soluble and transmembrane DLK1 variants, are able to inhibit NOTCH signaling in melanoma cells in a dose-dependent manner. To our knowledge, this is the first report describing the NOTCH inhibitory properties of human DLK proteins in tumorigenic cells.\\nMoreover, very important data obtained in this work are that different concentrations of DLK proteins can lead to an increase or to a decrease of SK-MEL-2 cell proliferation, most likely by inducing different levels of NOTCH signaling inhibition. Consistent with our findings, it has been reported that different levels of NOTCH signaling exert different effects  [2,44] . More surprising is the fact that downregulation of DLK2 expression, which implied an increase in NOTCH activation and signaling, led to an inhibition of the growth rate of SK-MEL-2 cells. We do not have an explanation for this effect, but DLK2 could also participate in the regulation of apoptosis, as DLK1 does  [20,45] . Besides, we cannot discard that DLK proteins could target other NOTCH receptors, and be involved in the regulation of NOTCH receptors, promoting other effects not described yet. Further studies will be necessary to determine the role of DLK proteins in the inhibition or not of each individual NOTCH receptor. In any case, the data presented here support that the inhibition of NOTCH activation by DLK proteins modulates NOTCH signaling and leads to variations in the cell proliferation rates of human metastatic melanoma cells.\\nInterestingly, in this work we have also found that different levels of NOTCH signaling may cause opposite effects on SK-MEL-2 proliferation rate. In particular, high levels of NOTCH inhibition resulted in a decrease of metastatic melanoma cell growth, whereas lower levels of NOTCH inhibition led to an increase in their cell proliferation rates. As mentioned above, we found that DLK proteins, while moderately decreasing NOTCH signaling levels, promoted the growth of SK-MEL-2 cells, whereas decreased expression of DLK2 protein, leading to increased NOTCH signaling, inhibited their proliferation. However, we observed that high levels of DLK protein expression, associated with a strong inhibition of NOTCH signaling, led to an inhibition of SK-MEL-2 proliferation. These data indicate that human DLK1 and DLK2 proteins may modulate the cell proliferation rate of human metastatic melanoma cells through the modulation of NOTCH signaling levels.\\nRecently, enthusiasm has increased in targeting the NOTCH pathway using γ-secretase inhibitors (GSIs) because a number of preclinical studies have shown that GSIs hold promise as a new target-based therapy for tumors in which activated NOTCH signaling is important for their growth  [4,6,13,15,53] . However, one of the major challenges is to eliminate unwanted toxicity associated with the GSIs. It is important to note that γ-secretase is a protease enzyme complex with up to one hundred potential substrates, including NOTCH receptors  [13,54,55] . Thus, these side effects may be minimized if agents selective for NOTCH receptors could be developed  [56] . In this regard, our work suggests that products derived from DLK proteins could be used in the future as novel anti-NOTCH agents with higher specificity to target NOTCH signaling than the current γ-secretase inhibitors.\\nIn addition, we show here that low inhibition of NOTCH signaling may promote cell growth, which implies an unexpected negative effect that could be a potential additional risk for the patients treated with NOTCH signaling inhibitors in inadequate doses. Our data indicate that a high dose of DAPT, a high amount of DLK proteins, or a low DAPT dose combined with a low amount of DLK proteins leads to an inhibition of the proliferation rate of melanoma SK-MEL-2 cells due to a strong NOTCH inhibition; however, the treatment of these cells with a low dose of DAPT or a low amount of DLK proteins leads to a lower reduction of NOTCH activation and to an increase in their proliferation rate. Thus, the level of NOTCH signaling appears to be critical for the proliferation outcome in response to the extracellular signals triggering this process. These findings highlight the necessity of a careful evaluation of GSI dose levels and therapeutic windows to determine the optimal design of human clinical trials for candidate drugs targeting NOTCH signaling. Besides, the data presented here suggest that an effective therapeutic approach could involve GSIs treatment in combination with DLK proteins or derived peptides. In fact, initial trials have shown that GSI toxicity was dose-limiting  [15,57] . Thus, this strategy may offer the advantage of allowing specific NOTCH inhibition and potentially minimizing side effects caused by highly non-specific GSIs. Finally, recent investigations in melanoma research have led to the identification of several molecular pathways and specific gene products that are often deregulated during melanoma initiation and progression to locally advanced and metastatic disease states. The combination of different drugs targeting distinct pathways or gene products altered during melanoma development may constitute more promising therapeutic strategies than the use of a single therapeutic approach  [6,14,58] . Therefore, balancing efficacy and toxicity of the use of an appropriate combination of DLK1 and/or DLK2 proteins with conventional chemotherapy might be considered as a research avenue to improve the treatment of melanoma in the future.\\nIn summary, our findings indicate that both DLK1 and DLK2 proteins regulate metastatic melanoma cell proliferation in a dose-dependent manner. Besides, our data revealed that the level of NOTCH signaling, which can be regulated by DLK proteins and their combined treatment with NOTCH signaling inhibitors, such as DAPT, can lead to opposite effects in metastatic melanoma cell growth. Interestingly, we show that insufficient inhibition of NOTCH signaling may promote tumor cell growth, an effect that needs to be considered in the design of clinical trials and patient treatment strategies. Finally, the data presented here suggest that the use of a correct combination of GSIs and DLK proteins or related peptides might be a favorable strategy for NOTCH-targeted cancer therapies in the future.\\n\\n\\nThe role of NOTCH signaling in adipogenesis is highly controversial, with data indicating null, positive or negative effects on this differentiation process. We hypothesize that these contradictory results could be due to the different global NOTCH signaling levels obtained in different experimental settings, because of a specific modulation of NOTCH receptors' activity by their ligands. We have previously demonstrated that DLK1 and DLK2, two non-canonical NOTCH1 ligands that inhibit NOTCH1 signaling in a dose-dependent manner, modulate the adipogenesis process of 3T3-L1 preadipocytes. In this work, we show that over-expression of any of the four NOTCH receptors enhanced adipogenesis of 3T3-L1 preadipocytes. We also determine that DLK proteins inhibit not only the activity of NOTCH1, but also the activity of NOTCH2, 3 and 4 receptors to different degrees. Interestingly, we have observed, by different approaches, that NOTCH1 over-expression seems to stimulate the differentiation of 3T3-L1 cells towards a brown-like adipocyte phenotype, whereas cells over-expressing NOTCH2, 3 or 4 receptors or DLK proteins would rather differentiate towards a white-like adipocyte phenotype. Finally, our data also demonstrate a complex feed-back mechanism involving Notch and Dlk genes in the regulation of their expression, which suggest that a precise level of global NOTCH expression and NOTCH-dependent transcriptional activity of specific targets could be necessary to determine the final phenotype of 3T3-L1 adipocytes.\\n\\n\\nGlioblastoma (GBM) stem-like cells (GSCs) are thought to be responsible for the maintenance and aggressiveness of GBM, the most common primary brain tumor in adults. This study aims at elucidating the involvement of deregulations within the imprinted DLK-DIO3 region on chromosome 14q32 in GBM pathogenesis. RT-PCR analyses were performed on GSCs and GBM tissues. Methylation analyses, gene expression and Reverse-Phase protein Array profiles were used to investigate the tumor suppressor function of MEG3. Loss of expression of genes and non-coding RNAs within the DLK1-DIO3 region was observed in GSCs and GBM tissues compared to normal brain. This down-regulation is mainly mediated by epigenetic silencing. Kaplan-Meier analysis indicated that low expression of MEG3 and MEG8 lncRNAs significantly correlated with short survival in GBM patients. MEG3 restoration impairs tumorigenic abilities of GSCs in vitro by inhibiting cell growth, migration and colony formation and decreases in vivo tumor growth reducing infiltrative growth. These effects were associated with modulation of genes involved in cell adhesion and Epithelial to Mesenchymal Transition (EMT). In GBM, MEG3 acts as a tumor-suppressor mainly regulating cell adhesion, EMT and cell proliferation, thus providing a potential candidate for novel GBM therapies.\\n\\n\\nLncRNA maternally expressed gene 3 (MEG3), encoded by the MEG3 gene, is ~1,600 nucleotides in length (4). MEG3 gene belongs to the imprinted DLK-MEG3 locus that is located at chromosome 14q32.3 in humans. Multiple factors are involved in the regulation of MEG3 gene expression including the DNA methyltransferase family (5), cyclic adenosine monophosphate (6) and nuclear factor-κB (NF-κB) (7). MEG3 expression is downregulated in several primary human tumors and tumor cell lines, and it may function as a novel tumor suppressor (4,8,9). An increasing number of studies have shown that MEG3 serves an important role in the development of osteogenic differentiation and thus regulates bone formation, metabolism, and regeneration (10,11). Additionally, dysregulation of MEG3 is associated with various bone diseases including bone tumors, joint degeneration, osteoporosis and rheumatoid arthritis (RA) (12-15). To the best of our knowledge, there are no literature reviews summarizing the specific roles of MEG3 in the development of osteogenic differentiation and bone diseases. In this review, the relevant literature was systematically searched, and the mechanisms underlying the roles of MEG3 in osteogenic differentiation and its potential effects in bone diseases are discussed.\\n\""
      ]
     },
     "execution_count": 48,
     "metadata": {},
     "output_type": "execute_result"
    }
   ],
   "source": [
    "'\\n\\n'.join(texts)"
   ]
  },
  {
   "cell_type": "code",
   "execution_count": 49,
   "metadata": {},
   "outputs": [
    {
     "data": {
      "text/plain": [
       "'To investigate the effect of the tissue origin of stromal fibroblasts and epithelial cells on reconstructed corneas in vitro. Four types of constructs were produced by the self-assembly approach using the following combinations of human cells: corneal fibroblasts/corneal epithelial cells, corneal fibroblasts/skin epithelial cells, skin fibroblasts/corneal epithelial cells, skin fibroblasts/skin epithelial cells. Fibroblasts were cultured with ascorbic acid to produce stromal sheets on which epithelial cells were cultured. After 2 weeks at the air-liquid interface, the reconstructed tissues were photographed, absorption spectra were measured, and tissues were fixed for histologic analysis. Cytokine expression in corneal- or skin-fibroblast-conditioned media was determined with the use of protein array membranes. The effect of culturing reconstructed tissues with conditioned media, or media supplemented with a cytokine secreted mainly by corneal fibroblasts, was determined. The tissue source from which epithelial and mesenchymal cells were isolated had a great impact on the macroscopic and histologic features (epithelium thickness and differentiation) and the functional properties (transparency) of the reconstructed tissues. The reconstructed cornea had ultraviolet-absorption characteristics resembling those of native human cornea. The regulation of epithelial differentiation and thickness was mesenchyme-dependent and mediated by diffusible factors. IL-6, which is secreted in greater amounts by corneal fibroblasts than skin fibroblasts, decreased the expression of the differentiation marker DLK in the reconstructed epidermis. The tissue origin of fibroblasts and epithelial cells plays a significant role in the properties of the reconstructed tissues. These human models are promising tools for gaining a thorough understanding of epithelial-stromal interactions and regulation of epithelia homeostasis.\\n'"
      ]
     },
     "execution_count": 49,
     "metadata": {},
     "output_type": "execute_result"
    }
   ],
   "source": [
    "texts[0]"
   ]
  },
  {
   "cell_type": "code",
   "execution_count": null,
   "metadata": {},
   "outputs": [],
   "source": []
  }
 ],
 "metadata": {
  "kernelspec": {
   "display_name": "Python 3",
   "language": "python",
   "name": "python3"
  },
  "language_info": {
   "codemirror_mode": {
    "name": "ipython",
    "version": 3
   },
   "file_extension": ".py",
   "mimetype": "text/x-python",
   "name": "python",
   "nbconvert_exporter": "python",
   "pygments_lexer": "ipython3",
   "version": "3.8.4"
  }
 },
 "nbformat": 4,
 "nbformat_minor": 2
}
