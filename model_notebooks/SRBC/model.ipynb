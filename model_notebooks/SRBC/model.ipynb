{
 "cells": [
  {
   "cell_type": "code",
   "execution_count": 1,
   "metadata": {},
   "outputs": [],
   "source": [
    "import os\n",
    "import json\n",
    "import pickle\n",
    "import random\n",
    "from collections import defaultdict, Counter\n",
    "\n",
    "from indra.literature.adeft_tools import universal_extract_text\n",
    "from indra.databases.hgnc_client import get_hgnc_name, get_hgnc_id\n",
    "\n",
    "from adeft.discover import AdeftMiner\n",
    "from adeft.gui import ground_with_gui\n",
    "from adeft.modeling.label import AdeftLabeler\n",
    "from adeft.modeling.classify import AdeftClassifier\n",
    "from adeft.disambiguate import AdeftDisambiguator\n",
    "\n",
    "\n",
    "from adeft_indra.ground.ground import AdeftGrounder\n",
    "from adeft_indra.model_building.s3 import model_to_s3\n",
    "from adeft_indra.model_building.escape import escape_filename\n",
    "from adeft_indra.db.content import get_pmids_for_agent_text, get_pmids_for_entity, \\\n",
    "    get_plaintexts_for_pmids"
   ]
  },
  {
   "cell_type": "code",
   "execution_count": 2,
   "metadata": {},
   "outputs": [],
   "source": [
    "adeft_grounder = AdeftGrounder()"
   ]
  },
  {
   "cell_type": "code",
   "execution_count": 3,
   "metadata": {},
   "outputs": [],
   "source": [
    "shortforms = ['SRBC']\n",
    "model_name = ':'.join(sorted(escape_filename(shortform) for shortform in shortforms))\n",
    "results_path = os.path.abspath(os.path.join('../..', 'results', model_name))"
   ]
  },
  {
   "cell_type": "code",
   "execution_count": 4,
   "metadata": {},
   "outputs": [],
   "source": [
    "miners = dict()\n",
    "all_texts = {}\n",
    "for shortform in shortforms:\n",
    "    pmids = get_pmids_for_agent_text(shortform)\n",
    "    if len(pmids) > 10000:\n",
    "        pmids = random.choices(pmids, k=10000)\n",
    "    text_dict = get_plaintexts_for_pmids(pmids, contains=shortforms)\n",
    "    text_dict = {pmid: text for pmid, text in text_dict.items() if len(text) > 5}\n",
    "    miners[shortform] = AdeftMiner(shortform)\n",
    "    miners[shortform].process_texts(text_dict.values())\n",
    "    all_texts.update(text_dict)\n",
    "\n",
    "longform_dict = {}\n",
    "for shortform in shortforms:\n",
    "    longforms = miners[shortform].get_longforms()\n",
    "    longforms = [(longform, count, score) for longform, count, score in longforms\n",
    "                 if count*score > 2]\n",
    "    longform_dict[shortform] = longforms\n",
    "    \n",
    "combined_longforms = Counter()\n",
    "for longform_rows in longform_dict.values():\n",
    "    combined_longforms.update({longform: count for longform, count, score\n",
    "                               in longform_rows})\n",
    "grounding_map = {}\n",
    "names = {}\n",
    "for longform in combined_longforms:\n",
    "    groundings = adeft_grounder.ground(longform)\n",
    "    if groundings:\n",
    "        grounding = groundings[0]['grounding']\n",
    "        grounding_map[longform] = grounding\n",
    "        names[grounding] = groundings[0]['name']\n",
    "longforms, counts = zip(*combined_longforms.most_common())\n",
    "pos_labels = []"
   ]
  },
  {
   "cell_type": "code",
   "execution_count": 6,
   "metadata": {},
   "outputs": [
    {
     "data": {
      "text/plain": [
       "[('sheep red blood cells', 278), ('stroma rich bladder cancer model', 3)]"
      ]
     },
     "execution_count": 6,
     "metadata": {},
     "output_type": "execute_result"
    }
   ],
   "source": [
    "list(zip(longforms, counts))"
   ]
  },
  {
   "cell_type": "code",
   "execution_count": 8,
   "metadata": {},
   "outputs": [],
   "source": [
    "grounding_map, names, pos_labels = ground_with_gui(longforms, counts, \n",
    "                                                   grounding_map=grounding_map,\n",
    "                                                   names=names, pos_labels=pos_labels, no_browser=True, port=8891)"
   ]
  },
  {
   "cell_type": "code",
   "execution_count": 9,
   "metadata": {},
   "outputs": [],
   "source": [
    "result = [grounding_map, names, pos_labels]"
   ]
  },
  {
   "cell_type": "code",
   "execution_count": 10,
   "metadata": {},
   "outputs": [
    {
     "data": {
      "text/plain": [
       "[{'sheep red blood cells': 'sheep_red_blood_cells',\n",
       "  'stroma rich bladder cancer model': 'ungrounded'},\n",
       " {'sheep_red_blood_cells': 'sheep_red_blood_cells'},\n",
       " []]"
      ]
     },
     "execution_count": 10,
     "metadata": {},
     "output_type": "execute_result"
    }
   ],
   "source": [
    "result"
   ]
  },
  {
   "cell_type": "code",
   "execution_count": 11,
   "metadata": {},
   "outputs": [],
   "source": [
    "grounding_map, names, pos_labels = [{'sheep red blood cells': 'sheep_red_blood_cells',\n",
    "  'stroma rich bladder cancer model': 'ungrounded'},\n",
    " {'sheep_red_blood_cells': 'sheep_red_blood_cells'},\n",
    " []]"
   ]
  },
  {
   "cell_type": "code",
   "execution_count": 12,
   "metadata": {},
   "outputs": [],
   "source": [
    "excluded_longforms = []"
   ]
  },
  {
   "cell_type": "code",
   "execution_count": 13,
   "metadata": {},
   "outputs": [],
   "source": [
    "grounding_dict = {shortform: {longform: grounding_map[longform] \n",
    "                              for longform, _, _ in longforms if longform in grounding_map\n",
    "                              and longform not in excluded_longforms}\n",
    "                  for shortform, longforms in longform_dict.items()}\n",
    "result = [grounding_dict, names, pos_labels]\n",
    "\n",
    "if not os.path.exists(results_path):\n",
    "    os.mkdir(results_path)\n",
    "with open(os.path.join(results_path, f'{model_name}_preliminary_grounding_info.json'), 'w') as f:\n",
    "    json.dump(result, f)"
   ]
  },
  {
   "cell_type": "code",
   "execution_count": 14,
   "metadata": {},
   "outputs": [],
   "source": [
    "additional_entities = {'HGNC:1639': 'CD2'}"
   ]
  },
  {
   "cell_type": "code",
   "execution_count": 15,
   "metadata": {},
   "outputs": [],
   "source": [
    "unambiguous_agent_texts = {}"
   ]
  },
  {
   "cell_type": "code",
   "execution_count": 16,
   "metadata": {},
   "outputs": [],
   "source": [
    "labeler = AdeftLabeler(grounding_dict)\n",
    "corpus = labeler.build_from_texts((text, pmid) for pmid, text in all_texts.items())\n",
    "agent_text_pmid_map = defaultdict(list)\n",
    "for text, label, id_ in corpus:\n",
    "    agent_text_pmid_map[label].append(id_)\n",
    "\n",
    "entity_pmid_map = {entity: set(get_pmids_for_entity(*entity.split(':', maxsplit=1),\n",
    "                                                major_topic=True))for entity in additional_entities}"
   ]
  },
  {
   "cell_type": "code",
   "execution_count": 17,
   "metadata": {},
   "outputs": [],
   "source": [
    "intersection1 = []\n",
    "for entity1, pmids1 in entity_pmid_map.items():\n",
    "    for entity2, pmids2 in entity_pmid_map.items():\n",
    "        intersection1.append((entity1, entity2, len(pmids1 & pmids2)))"
   ]
  },
  {
   "cell_type": "code",
   "execution_count": 18,
   "metadata": {},
   "outputs": [],
   "source": [
    "intersection2 = []\n",
    "for entity1, pmids1 in agent_text_pmid_map.items():\n",
    "    for entity2, pmids2 in entity_pmid_map.items():\n",
    "        intersection2.append((entity1, entity2, len(set(pmids1) & pmids2)))"
   ]
  },
  {
   "cell_type": "code",
   "execution_count": 19,
   "metadata": {},
   "outputs": [
    {
     "data": {
      "text/plain": [
       "[('HGNC:1639', 'HGNC:1639', 106)]"
      ]
     },
     "execution_count": 19,
     "metadata": {},
     "output_type": "execute_result"
    }
   ],
   "source": [
    "intersection1"
   ]
  },
  {
   "cell_type": "code",
   "execution_count": 20,
   "metadata": {},
   "outputs": [
    {
     "data": {
      "text/plain": [
       "[('sheep_red_blood_cells', 'HGNC:1639', 0), ('ungrounded', 'HGNC:1639', 0)]"
      ]
     },
     "execution_count": 20,
     "metadata": {},
     "output_type": "execute_result"
    }
   ],
   "source": [
    "intersection2"
   ]
  },
  {
   "cell_type": "code",
   "execution_count": null,
   "metadata": {},
   "outputs": [],
   "source": []
  },
  {
   "cell_type": "code",
   "execution_count": 21,
   "metadata": {},
   "outputs": [],
   "source": [
    "all_used_pmids = set()\n",
    "for entity, agent_texts in unambiguous_agent_texts.items():\n",
    "    used_pmids = set()\n",
    "    for agent_text in agent_texts:\n",
    "        pmids = set(get_pmids_for_agent_text(agent_text))\n",
    "        new_pmids = list(pmids - all_texts.keys() - used_pmids)\n",
    "        text_dict = get_plaintexts_for_pmids(new_pmids, contains=agent_texts)\n",
    "        corpus.extend([(text, entity, pmid) for pmid, text in text_dict.items()])\n",
    "        used_pmids.update(new_pmids)\n",
    "    all_used_pmids.update(used_pmids)\n",
    "        \n",
    "for entity, pmids in entity_pmid_map.items():\n",
    "    new_pmids = list(set(pmids) - all_texts.keys() - all_used_pmids)\n",
    "    if len(new_pmids) > 10000:\n",
    "        new_pmids = random.choices(new_pmids, k=10000)\n",
    "    text_dict = get_plaintexts_for_pmids(new_pmids, contains=['CD2', 'sheep red blood cell receptor'])\n",
    "    corpus.extend([(text, entity, pmid) for pmid, text in text_dict.items()])"
   ]
  },
  {
   "cell_type": "code",
   "execution_count": 22,
   "metadata": {},
   "outputs": [],
   "source": [
    "names.update(additional_entities)\n",
    "pos_labels.extend(additional_entities)"
   ]
  },
  {
   "cell_type": "code",
   "execution_count": 23,
   "metadata": {},
   "outputs": [
    {
     "name": "stderr",
     "output_type": "stream",
     "text": [
      "INFO: [2020-10-17 04:10:49] /adeft/PythonRepos/adeft/adeft/modeling/classify.py - Beginning grid search in parameter space:\n",
      "{'C': [100.0], 'max_features': [10000]}\n",
      "INFO: [2020-10-17 04:10:55] /adeft/PythonRepos/adeft/adeft/modeling/classify.py - Best f1 score of 0.9711908813440294 found for parameter values:\n",
      "{'logit__C': 100.0, 'tfidf__max_features': 10000}\n"
     ]
    }
   ],
   "source": [
    "%%capture\n",
    "\n",
    "classifier = AdeftClassifier(shortforms, pos_labels=pos_labels, random_state=1729)\n",
    "param_grid = {'C': [100.0], 'max_features': [10000]}\n",
    "texts, labels, pmids = zip(*corpus)\n",
    "classifier.cv(texts, labels, param_grid, cv=5, n_jobs=5)"
   ]
  },
  {
   "cell_type": "code",
   "execution_count": 24,
   "metadata": {
    "scrolled": true
   },
   "outputs": [
    {
     "data": {
      "text/plain": [
       "{'label_distribution': {'sheep_red_blood_cells': 220,\n",
       "  'ungrounded': 1,\n",
       "  'HGNC:1639': 106},\n",
       " 'f1': {'mean': 0.971191, 'std': 0.028329},\n",
       " 'precision': {'mean': 0.980476, 'std': 0.023924},\n",
       " 'recall': {'mean': 0.962338, 'std': 0.035529},\n",
       " 'ungrounded': {'f1': {'mean': 0.0, 'std': 0.0},\n",
       "  'pr': {'mean': 0.0, 'std': 0.0},\n",
       "  'rc': {'mean': 0.0, 'std': 0.0}},\n",
       " 'HGNC:1639': {'f1': {'mean': 0.971191, 'std': 0.028329},\n",
       "  'pr': {'mean': 0.962338, 'std': 0.035529},\n",
       "  'rc': {'mean': 0.980476, 'std': 0.023924}},\n",
       " 'sheep_red_blood_cells': {'f1': {'mean': 0.984219, 'std': 0.011489},\n",
       "  'pr': {'mean': 0.990909, 'std': 0.011134},\n",
       "  'rc': {'mean': 0.977677, 'std': 0.014056}}}"
      ]
     },
     "execution_count": 24,
     "metadata": {},
     "output_type": "execute_result"
    }
   ],
   "source": [
    "classifier.stats"
   ]
  },
  {
   "cell_type": "code",
   "execution_count": 25,
   "metadata": {},
   "outputs": [],
   "source": [
    "disamb = AdeftDisambiguator(classifier, grounding_dict, names)"
   ]
  },
  {
   "cell_type": "code",
   "execution_count": 26,
   "metadata": {},
   "outputs": [],
   "source": [
    "disamb.dump(model_name, results_path)"
   ]
  },
  {
   "cell_type": "code",
   "execution_count": 27,
   "metadata": {},
   "outputs": [
    {
     "name": "stdout",
     "output_type": "stream",
     "text": [
      "Disambiguation model for SRBC\n",
      "\n",
      "Produces the disambiguations:\n",
      "\tCD2*\tHGNC:1639\n",
      "\tsheep_red_blood_cells\tsheep_red_blood_cells\n",
      "\n",
      "Class level metrics:\n",
      "--------------------\n",
      "Grounding            \tCount\tF1     \n",
      "sheep_red_blood_cells\t220\t0.98422\n",
      "                  CD2*\t106\t0.97119\n",
      "           Ungrounded\t  1\t    0.0\n",
      "\n",
      "Weighted Metrics:\n",
      "-----------------\n",
      "\tF1 score:\t0.97119\n",
      "\tPrecision:\t0.98048\n",
      "\tRecall:\t\t0.96234\n",
      "\n",
      "* Positive labels\n",
      "See Docstring for explanation\n",
      "\n"
     ]
    }
   ],
   "source": [
    "print(disamb.info())"
   ]
  },
  {
   "cell_type": "code",
   "execution_count": 29,
   "metadata": {},
   "outputs": [],
   "source": [
    "model_to_s3(disamb)"
   ]
  },
  {
   "cell_type": "code",
   "execution_count": 29,
   "metadata": {},
   "outputs": [],
   "source": [
    "texts = [text for text, pred in zip(all_texts.values(), disamb.disambiguate(all_texts.values())) if pred[0] == 'HGNC:1639']"
   ]
  },
  {
   "cell_type": "code",
   "execution_count": 32,
   "metadata": {},
   "outputs": [
    {
     "data": {
      "text/plain": [
       "'Passive hemagglutination test (HP) after binding of ABS antigen to SRBC by chromium chloride, lymphocyte transformation (TTL) and inhibition of leukocyte migration (TML) tests were compared to tube agglutination and complement fixation tests, and to clinical symptoms for diagnosis of brucellosis. Both TTL and TML persist for years after contact with brucella. HP is the most reliable serologic test.\\n\\n\\nResting natural killer (NK) cells express the p75 chain of the IL-2 receptor (IL-2R beta) and most NK cells express the CD2 (erythrocyte rosette) receptor. The cell adhesion molecule, LFA-3, is a natural co-ligand for CD2. Tac antigen (IL-2R alpha), a p55 IL-2R subunit, can be expressed after NK activation and may play a role in IL-2-induced NK proliferation. Little is known of the molecular mechanisms underlying cytokine production in NK cells. We investigated the roles of IL-2R alpha, IL-2R beta, and CD2/LFA-3 in the molecular regulation of NK cell granulocyte/macrophage-colony-stimulating factor (GM-CSF) production. Enriched populations of peripheral blood NK cells were separated into CD16-positive and CD16-negative fractions by flow cytometry; positively selected cells were greater than 97% positive for CD16 (the FcIII receptor for IgG which is present on almost all NK cells), less than 1% positive for the T cell antigen CD3, and did not demonstrate rearrangement of the T cell receptor beta chain gene by Southern blot. NK cell supernatants were harvested after 3-4 d of incubation with 0-100 U/ml IL-2, or after incubation with anti-CD2 (T11(3] MAb and sheep red blood cells (SRBC are a homologue for LFA-3). Parallel cell aliquots were harvested at 3-16 h for transcriptional run-on assays, S1 nuclease assays, and actinomycin D mRNA t1/2 determinations. IL-2-activated NK supernatants contained large amounts of GM-CSF (178 +/- 35 pg/ml) by ELISA as did supernatants from CD2-activated NK cells (T11(3) MAb + SRBC: 212 +/- 42) vs. less than 20 pg/ml for NK cells incubated alone or with either SRBC or T11(3) MAb alone. Sepharose-linked anti-CD3 MAb did not induce GM-CSF release from NK cells. By S1 analysis, both IL-2 and CD2 stimulation markedly augmented GM-CSF mRNA expression but with very different latencies of onset. IL-2R beta MAb inhibited greater than 85% of GM-CSF release from IL-2-activated NK cells and markedly suppressed IL-2-induced GM-CSF mRNA expression, whereas IL-2R alpha MAb even at 2,000-fold molar excess of IL-2 had little effect (less than 10%) on either GM-CSF release or mRNA expression. Run-on assays showed that GM-CSF is constitutively transcribed in NK cells and that IL-2 and CD2-activated cells had a three- to fourfold increased rate of GM-CSF transcription compared to nonstimulated cells. The t1/2 of GM-CSF mRNA in IL-2-activated NK cells was identical to that of unstimulated NK cells (15 min), whereas GM-CSF mRNA t1/2 in CD2-activated NK cells was increased 2.5-fold. We conclude that GM-CSF production in NK cells is regulated by both the IL-2Rbeta and the CD2 receptor but not by IL-2Ralpha, that both transcriptional and posttranscriptional signals act together to modulate the level of GM-CSF mRNA in NK cells, and that the molecular mechanisms underlying NK cell GM-CSF production are dependent in part on differential surface receptor activation.\\n\\n\\nWe investigated the involvement of IL-1 and IL-6 in activation of resting human T lymphocytes via the Ti-Ag receptor/CD3-dependent and the CD2-dependent pathways, respectively. When lymphocytes were triggered through CD3-Ti, neither IL-1 nor IL-6 nor the combination of both cytokines was capable of inducing a proliferative response, whereas addition of monocytes or IL-2 to such a system mediated DNA synthesis and cellular mitosis. In contrast, in the presence of submitogenic concentrations of mAb directed at CD2, IL-1 and/or IL-6 produced marked comitogenic dose-dependent effects. Moreover, although the action of IL-1 was clearly dependent on expression of the IL-2/IL-2R system, proliferation to CD2 antibody plus IL-6 could not be blocked by mAb directed at the IL-2R and/or IL-4. T cell responsiveness to both IL-1 and IL-6 was facilitated in the presence of CD58-like signals as delivered by human rCD58, SRBC or a mAb (anti-T111A), which binds to an interaction site for CD58 on the human CD2 molecule. These findings indicate that CD2 and its ligand CD58 play an important role in T cell/monocyte interactions during primary immune responses by means of upregulating T cell susceptibility to monocyte-derived cytokines.\\n\\n\\nIncubation of precipitable immune complexes (IC) with fresh human serum or guinea pig serum resulted in solubilization of IC. When packed human E were added to human serum or guinea pig serum, binding of IC to the E occurred and IC solubilization was significantly inhibited. By contrast, SRBC did not bind IC nor inhibit IC solubilization. Because IC binding to human E is mediated by CR type 1 (CR1) we evaluated whether CR1 was responsible for the inhibition of IC solubilization. Human E were treated with trypsin or anti-CR1 mAb. Both treatments abrogated IC binding to human E but did not affect the ability of the human E to inhibit IC solubilization. Human E inhibited C activation by IC. Thus, incubation of IC in human serum caused significant activation of C3 and C5, but not C4. However, when IC were incubated in whole blood or with isolated human E and serum, C3 activation by IC was inhibited significantly. In addition, we demonstrated that the C3b generated during C activation by IC deposited on both IC and human E. Thus, human E may compete for nascent C3 generated during C activation by IC. In conclusion, human E inhibit both complement-mediated solubilization of IC and C activation by IC.\\n\\n\\nWe studied the proliferative response of PBL to the mitogens PHA and PWM and Candida albicans Ag in 301 HIV seropositive homosexual men, of whom 55 had AIDS. The responses to PHA were reduced only in the clinically ill HIV seropositive subjects. In contrast, the responses to PWM were profoundly reduced in most HIV seropositive subjects including the asymptomatic group. Further analysis of 16 HIV seropositive subjects showed that the proliferative responses were reduced in both CD4 and CD8 T cell subsets. A total of 15 HIV seropositive individuals with low responses to PWM, of whom seven had AIDS and eight controls were chosen for the following studies. Expression of T3, Ti, delta receptors, and CD2 was investigated and showed an increased percentage of CD2 receptors positive cells in HIV seropositive subjects without AIDS. The proliferative responses of PBL to stimulation with PHA, PWM, antibodies to CD3, or antibodies to CD2 were investigated and showed significant correlation in controls, whereas in contrast, only the responses to PHA and CD2ab correlated in patients with AIDS. The proliferative responses to CD2ab and CD3ab in controls were larger than the responses to both PHA and PWM. In patients, these responses were less suppressed than the responses to PWM indicating that stimulation with mitogens is more complex than a simple stimulation of Ti/T3 and CD2 receptors. Further investigations were done on resting T cells, i.e., lymphocytes depleted of macrophages and pre-activated cells. Addition of PHA to these cells resulted in preactivation with expression of IL-2R (CD25) but not in proliferation. In contrast, addition of PHA plus SRBC, which bind to the CD2 receptors caused IL-2R expression, IL-2 production, and proliferation. Addition of PWM + SRBC did not result in proliferation. A comparison of the responses to PHA + SRBC of resting T cells from 26 HIV seropositive individuals, of whom seven had AIDS and 12 seronegative controls, showed that these responses were normal or only slightly decreased in the 19 seropositive men without AIDS whereas it was decreased in AIDS patients. Nevertheless, all AIDS patients showed clear-cut responses in this assay. Thus, the discrepancy between responses to PHA and PWM may be explained by an at least partially preserved function of the PHA/CD2-dependent pathway. We suggest that the defect induced by the HIV infection primarily concerns T3/Ti-induced responses.\\n\\n\\nSpleen cells from irradiated, bone marrow-reconstituted mice were tested for their ability to mediate antibody-dependent cellular cytotoxicity against P815 target (ADCC-P815), ADCC against sheep red blood cells (ADCC-SRBC), and natural killer (NK) activity judged as YAC-1 lysis at different times after bone marrow reconstitution. Donor-derived ADCC-P815 effectors were found to appear in the spleens 10-12 days after bone marrow reconstitution simultaneously with the appearance of donor-derived NK cells. NK cells recently derived from bone marrow are known to express the Thy-1 antigen; the phenotype of the \"early\" ADCC-P815 effectors was found to be the same as that of NK cells, i.e., Thy-1+, asialo-GM1+. These data suggest that ADCC-P815 effector cells belong to the NK cell population. ADCC-SRBC, in contrast to ADCC-P815 and NK activity, was already high on Day 7 after bone marrow reconstitution. However, it was mediated partly by recipient-derived effectors. ADCC-SRBC effectors were characterized to be different from ADCC-P815 effectors.\\n\\n\\nAn alkali-soluble extract from a cell wall preparation of Candida albicans was conjugated to sheep erythrocytes (SRBC) by using periodate oxidation or concanavalin A. Conjugated SRBC readily attached to a fibrin-platelet matrix, whereas nonconjugated SRBC did not. To determine the active component which promoted attachment of SRBC, the alkali-soluble fraction was treated with alpha-mannosidase, pronase, or glusulase or chemically degraded by acetolysis. The treated extract was then reconjugated with SRBC, and attachment was measured. When treated with alpha-mannosidase or degraded by acetolysis, the alkali-soluble extract failed to promote the adherence of SRBC to the fibrin-platelet matrix. Pronase- or glusulase-digested extract promoted attachment equally as well as untreated controls. In addition, when preabsorbed with antiserum to whole cells of C. albicans, the alkali extract abrogated the inhibition of adherence by antiserum, thus indicating its antigenicity. The extract consisted primarily of polysaccharide (72%) and contained a small amount of protein (less than 1%). Mannose and glucose (ratio, 3:1) were detected by gas-liquid chromatography. These data indicate that cell surface mannan may play an important role in the adherence of C. albicans to the fibrin-platelet matrices which form in vivo on the endocardium of heart valves.\\n\\n\\nThe products of the various C3 genes have been found to differ in structure as well as in function. Studies on fish have shown that the most important and unusual feature of these C3 molecules is that they bind with different efficiencies to various complement-activating surfaces. For example, all three C3 isoforms in trout bind, to varying degrees, to several erythrocyte surfaces or  Escherichia coli , but only C3-1 (the most abundant isoform) binds to zymosan, a potent activator of the alternative pathway ( Table 1 \\n                      ) [16] . Similarly, in the gilthead sea bream, C3-1 and C3-2 (the most plentiful forms of C3 in serum) bind to zymosan, whereas C3-3, C3-4 and C3-5 do not bind ( Table 1 ) [18] . These differences in binding to a specific substrate pertain not only to C3 isoforms from the same fish species but also to the C3 isoforms of two different species. For instance, all of the C3 isoforms in the gilthead sea bream bind with high efficiency to sheep erythrocytes (SRBC), whereas trout C3-3 and C3-4 bind very poorly, and trout C3-1 not at all ( Table 1 ). It is interesting that this differential binding correlates with the high values of alternative complement pathway hemolytic activity (ACH50) displayed by sea bream serum against SRBC (66 ACH50 units ml −1 ) [29] compared with the very low activity in trout serum (2–4 ACH50 units ml −1 ) [16] . To date, this structural and functional diversity of C3 has only been shown in fish. Nevertheless, a related situation has been observed for human C4, which exists in two different isoforms (C4A and C4B). Although the two molecules have very few amino acid differences (13 substitutions in 1722 residues), C4A binds preferentially to surfaces carrying amino groups, whereas C4B binds with higher affinity to those containing hydroxyl groups [30] .\\nWhy do the various C3 molecules differ in their binding specificity for various surfaces? These differences may reflect  in vivo  differences in immune responsiveness. Selective pressure appears to be at work here. Perhaps the different environments in which trout and sea bream live (fresh and salt water, respectively) or the different microorganisms therein have driven, at least in part, the specificity of those C3s. For instance, salt water could harbor certain pathogenic microorganisms bearing surface molecules that are similar in structure to those on the surface of SRBCs (sea bream C3s in contrast to trout C3s bind to SRBC). If these microorganisms were not present in the fresh water in which trout live, there would be no selective pressure for trout C3 to bind to these molecules (or by analogy, to SRBC).\\n\\n\\nThis study investigates the role of the activated polymorphonuclear cell (APMN) products on sickle red blood cell (SRBC) retention/adherence in the pulmonary circulation. Isolated rat lungs were perfused with (51)Cr-labeled normal RBCs (NRBC) or SRBCs (10% hematocrit) suspensions +/- PMNs. Specific activities of lung and perfusate were measured and retention (the number of SRBC/g lung) was calculated. SRBC retention was 3.5 times greater than NRBC retention. PMN activation was required to increase SRBC retention. Supernatants from APMN increased SRBC retention, which suggested soluble products such as oxidants, PAF, and/or leukotriene (LTB(4)) are involved. Heat inactivation of PMN NADPH oxidase had no effect on retention. Whereas neither platelet-activating factor (PAF) nor LTB(4) (secreted by APMN) increased SRBC retention, PAF+LTB(4) did. The PAF antagonist, WEB-2170, attenuated SRBC retention mediated by PAF+LTB(4) and APMNs. Similarly, zileuton (5-lipoxygenase inhibitor) attenuated APMN-mediated SRBC retention. We conclude the concomitant release of PAF and LTB(4) from APMN is involved in the initiation of microvascular occlusion by SRBCs in the perfused rat lung.\\n\\n\\nCaveolae are a major membrane domain common to most cells. One of the defining features of this domain is the protein caveolin. The exact function of caveolin, however, is not clear. One possible function is to attract adapter molecules to caveolae in a manner similar to how clathrin attracts molecules to coated pits. Here, we characterize a candidate adapter molecule called SRBC. SRBC binds PKCdelta and is a member of the STICK (substrates that interact with C-kinase) superfamily of PKC-binding proteins. We also show it co-immunoprecipitates with caveolin-1. A leucine zipper in SRBC is essential for both co-precipitation with caveolin and localization to caveolae. SRBC remains associated with caveolin when caveolae bud to form vesicles (cavicles) that travel on microtubules to different regions of the cell. In the absence of SRBC, intracellular cavicle traffic is markedly impaired. We conclude that SRBC (sdr-related gene product that binds to c-kinase) and two other family members [PTRF (Pol I and transcription release factor) and SDPR] function as caveolin adapter molecules that regulate caveolae function.\\n\\n\\nWe found that body-wide PB-SMART can induce tumor formation in non-sensitized backgrounds. We observed that Luc-PB[mut]7;Act-PBase and Luc-PB[mut]7;Act-PBase;Cre mice developed tumors while conducting sensitized screens. Nine out of 32 of these Luc-PB[mut]7;Act-PBase(Cre) mice developed tumors within 50 weeks while only one out of seventeen Act-PBase(Cre) and zero out of 32 Luc-PB[mut](Cre) controls developed a tumor (Figure 1D). We have collected additional tumors from cohorts that have not reached 50 weeks and other non-sensitized cohorts containing floxed latent alleles of Pten loss or Braf activation [20], [21]. Across these cohorts, we have observed similar tumor types including kidney and pancreatic tumors, lung adenocarcinoma, hepatocellular carcinomas, soft tissue sarcomas such as angiosarcoma and small round blue cell (SRBC) tumors, and skin tumors such as squamous cell carcinoma, sebaceous cancer, and melanoma. These results confirm that our low copy PB-SMART system can efficiently induce tumor-promoting mutations in a wide variety of tissues.\\n(A) Insertions (wide arrows) upstream of the M-isoform of Mitf were mapped from five kidney tumors. (B) Quantitative PCR reveals that Mitf transcripts are upregulated in all five kidney tumors (KT1, KT2, KT3, KT4, and KT5) compared to two wild-type kidneys (wt-K). (C) Kidney tumors possessed similar histological profiles, featuring packets of spindle-shaped epitheliod cells, indicating carcinoma (scale bar, 50 µm). (D) Histological analysis shows SRBC morphology (scale bar, 100 µm). (E) Insertions (wide arrows) in intron 7 or 8 of Gli2 were mapped from eleven SRBC tumors.\\nWe also identified Gli2, a downstream effector of the Hedgehog (Hh) signaling pathway [28], as a common insertion site in SRBC tumors. We mapped coding-direction insertions in intron 7 or intron 8 from 11 tumors displaying SRBC morphology (Figures 2D and 2E). Gli2 contains a repressor domain in the amino-terminus, and expression of the C-terminal portion of Gli2 has previously been shown to result in the constitutive transcriptional activation of downstream target genes [29], [30]. In these sarcomas, it is likely that the Gli2 insertions lead to the expression of constitutive transcriptional activator forms of Gli2 that drive tumor formation. In fact, constitutive Hedgehog signaling in Gorlin\\'s syndrome due to mutation in PTCH leads to an increased propensity to develop an SRBC tumor, rhabdomyosarcoma [31], [32]. Furthermore, activation of Gli1 (a Gli2 transcriptional target) seems to be a major downstream effector of the EWS-FLI1 oncoprotein which drives another SRBC tumor, Ewing Sarcoma [33], [34]. Together these data strongly support the notion that constitutive Hedgehog signaling is a critical driver in SRBC tumor formation, with overexpression of truncated Gli2 being one mechanism. Thus, the identification of cancer genes with known human relevance validates the utility of our low-copy mutator for uncovering disease genes.\\nPB-SMART is also a highly efficient mutagenesis system. Utilizing PB\\'s large payload capacity, we engineered elements in PB to ectopically express genes or parts of genes and to terminate transcripts upon insertion in many genomic contexts, thereby creating highly mutagenic transposons. Together with PB\\'s high transposition efficiency and genome-wide distribution, PB-SMART is able to induce somatic phenotypes with low copy (seven or fewer) transposons. The efficiency of the system is highlighted by the fact that a broad spectrum of tumors is induced with only seven copies of transposon. Importantly, low transposon copy numbers allow for more straightforward identification of causative insertions because there are fewer bystander insertions. We found that over 64% of insertions in tumors are mapped in introns, exons, or within 10 kb of genes. This is a remarkably high gene insertional frequency indicative that there is a selective advantage for PB gene insertions in tumors. In two tumor types that have not previously been found in somatic mutagenesis screens, we used common insertion site analysis to identify Mitf as a driver in kidney tumor formation and truncated Gli2 as a driver of SRBC tumors. Thus, PB-SMART is a powerful tool to identify mutations relevant to human disease.\\n'"
      ]
     },
     "execution_count": 32,
     "metadata": {},
     "output_type": "execute_result"
    }
   ],
   "source": [
    "'\\n\\n'.join(texts)"
   ]
  },
  {
   "cell_type": "code",
   "execution_count": null,
   "metadata": {},
   "outputs": [],
   "source": []
  }
 ],
 "metadata": {
  "kernelspec": {
   "display_name": "Python 3",
   "language": "python",
   "name": "python3"
  },
  "language_info": {
   "codemirror_mode": {
    "name": "ipython",
    "version": 3
   },
   "file_extension": ".py",
   "mimetype": "text/x-python",
   "name": "python",
   "nbconvert_exporter": "python",
   "pygments_lexer": "ipython3",
   "version": "3.8.4"
  }
 },
 "nbformat": 4,
 "nbformat_minor": 2
}
