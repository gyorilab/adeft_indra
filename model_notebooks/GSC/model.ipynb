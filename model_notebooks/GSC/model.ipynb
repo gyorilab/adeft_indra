{
 "cells": [
  {
   "cell_type": "code",
   "execution_count": 1,
   "metadata": {},
   "outputs": [],
   "source": [
    "import os\n",
    "import json\n",
    "import pickle\n",
    "import random\n",
    "from collections import defaultdict, Counter\n",
    "\n",
    "from indra.literature.adeft_tools import universal_extract_text\n",
    "from indra.databases.hgnc_client import get_hgnc_name, get_hgnc_id\n",
    "\n",
    "from adeft.discover import AdeftMiner\n",
    "from adeft.gui import ground_with_gui\n",
    "from adeft.modeling.label import AdeftLabeler\n",
    "from adeft.modeling.classify import AdeftClassifier\n",
    "from adeft.disambiguate import AdeftDisambiguator, load_disambiguator\n",
    "\n",
    "\n",
    "from adeft_indra.ground.ground import AdeftGrounder\n",
    "from adeft_indra.model_building.s3 import model_to_s3\n",
    "from adeft_indra.model_building.escape import escape_filename\n",
    "from adeft_indra.db.content import get_pmids_for_agent_text, get_pmids_for_entity, \\\n",
    "    get_plaintexts_for_pmids"
   ]
  },
  {
   "cell_type": "code",
   "execution_count": 2,
   "metadata": {},
   "outputs": [],
   "source": [
    "adeft_grounder = AdeftGrounder()"
   ]
  },
  {
   "cell_type": "code",
   "execution_count": 4,
   "metadata": {},
   "outputs": [],
   "source": [
    "shortforms = ['GSC', 'GSCs']\n",
    "model_name = ':'.join(sorted(escape_filename(shortform) for shortform in shortforms))\n",
    "results_path = os.path.abspath(os.path.join('../..', 'results', model_name))"
   ]
  },
  {
   "cell_type": "code",
   "execution_count": 7,
   "metadata": {},
   "outputs": [],
   "source": [
    "miners = dict()\n",
    "all_texts = {}\n",
    "for shortform in shortforms:\n",
    "    pmids = get_pmids_for_agent_text(shortform)\n",
    "    text_dict = get_plaintexts_for_pmids(pmids, contains=shortforms)\n",
    "    text_dict = {pmid: text for pmid, text in text_dict.items() if len(text) > 5}\n",
    "    miners[shortform] = AdeftMiner(shortform)\n",
    "    miners[shortform].process_texts(text_dict.values())\n",
    "    all_texts.update(text_dict)\n",
    "\n",
    "longform_dict = {}\n",
    "for shortform in shortforms:\n",
    "    longforms = miners[shortform].get_longforms()\n",
    "    longforms = [(longform, count, score) for longform, count, score in longforms\n",
    "                 if count*score > 1]\n",
    "    longform_dict[shortform] = longforms\n",
    "    \n",
    "combined_longforms = Counter()\n",
    "for longform_rows in longform_dict.values():\n",
    "    combined_longforms.update({longform: count for longform, count, score\n",
    "                               in longform_rows})\n",
    "grounding_map = {}\n",
    "names = {}\n",
    "for longform in combined_longforms:\n",
    "    groundings = adeft_grounder.ground(longform)\n",
    "    if groundings:\n",
    "        grounding = groundings[0]['grounding']\n",
    "        grounding_map[longform] = grounding\n",
    "        names[grounding] = groundings[0]['name']\n",
    "longforms, counts = zip(*combined_longforms.most_common())\n",
    "pos_labels = []"
   ]
  },
  {
   "cell_type": "code",
   "execution_count": 8,
   "metadata": {},
   "outputs": [
    {
     "data": {
      "text/plain": [
       "[('glioma stem cells', 89),\n",
       " ('germline stem cell', 84),\n",
       " ('glioma stem cell', 72),\n",
       " ('glioblastoma stem cells', 44),\n",
       " ('glioblastoma stem cell', 38),\n",
       " ('glioma stem like cells', 29),\n",
       " ('glioma stem like cell', 27),\n",
       " ('glioblastoma stem like cell', 19),\n",
       " ('glioblastoma stem like cells', 11),\n",
       " ('gbm stem cells', 11),\n",
       " ('goosecoid', 10),\n",
       " ('gbm stem cell', 10),\n",
       " ('germ line stem cell', 9),\n",
       " ('gbm stem like cells', 7),\n",
       " ('gbm stem like cell', 5),\n",
       " ('germ line stem cells', 5),\n",
       " ('genomic standards consortium', 4),\n",
       " ('germ stem cells', 4),\n",
       " ('glut4 storage compartment', 3),\n",
       " ('glioma stemlike cell', 3),\n",
       " ('germ stem cell', 3),\n",
       " ('cm grown on germinated soybean', 3),\n",
       " ('glioma cscs', 3),\n",
       " ('green suspension cell cultures', 2),\n",
       " ('glioma stem initiating cell', 2),\n",
       " ('gc cancer stem cell', 2),\n",
       " ('goosecoid homeobox', 2),\n",
       " ('glioblastoma derived stem like cells', 2),\n",
       " ('gbm cancer stem cells', 2)]"
      ]
     },
     "execution_count": 8,
     "metadata": {},
     "output_type": "execute_result"
    }
   ],
   "source": [
    "list(zip(longforms, counts))"
   ]
  },
  {
   "cell_type": "code",
   "execution_count": 9,
   "metadata": {},
   "outputs": [],
   "source": [
    "try:\n",
    "    disamb = load_disambiguator(shortforms[0])\n",
    "    for shortform, gm in disamb.grounding_dict.items():\n",
    "        for longform, grounding in gm.items():\n",
    "            grounding_map[longform] = grounding\n",
    "    for grounding, name in disamb.names.items():\n",
    "        names[grounding] = name\n",
    "    pos_labels = disamb.pos_labels\n",
    "except Exception:\n",
    "    pass"
   ]
  },
  {
   "cell_type": "code",
   "execution_count": 10,
   "metadata": {},
   "outputs": [
    {
     "data": {
      "text/plain": [
       "{'MESH:D013234': 'Stem Cells',\n",
       " 'GO:GO:0032593': 'insulin-responsive compartment',\n",
       " 'GO:GO:0005623': 'cell',\n",
       " 'MESH:D013025': 'Soybeans',\n",
       " 'MESH:D018929': 'Cell Culture Techniques',\n",
       " 'HGNC:4612': 'GSC'}"
      ]
     },
     "execution_count": 10,
     "metadata": {},
     "output_type": "execute_result"
    }
   ],
   "source": [
    "names"
   ]
  },
  {
   "cell_type": "code",
   "execution_count": 38,
   "metadata": {},
   "outputs": [],
   "source": [
    "grounding_map, names, pos_labels = ground_with_gui(longforms, counts, \n",
    "                                                   grounding_map=grounding_map,\n",
    "                                                   names=names, pos_labels=pos_labels, no_browser=True, port=8891)"
   ]
  },
  {
   "cell_type": "code",
   "execution_count": 39,
   "metadata": {},
   "outputs": [],
   "source": [
    "result = [grounding_map, names, pos_labels]"
   ]
  },
  {
   "cell_type": "code",
   "execution_count": 40,
   "metadata": {},
   "outputs": [
    {
     "data": {
      "text/plain": [
       "[{'cm grown on germinated soybean': 'BTO:BTO:0006345',\n",
       "  'gbm cancer stem cells': 'BTO:BTO:0006345',\n",
       "  'gbm stem cell': 'BTO:BTO:0006345',\n",
       "  'gbm stem cells': 'BTO:BTO:0006345',\n",
       "  'gbm stem like cell': 'BTO:BTO:0006345',\n",
       "  'gbm stem like cells': 'BTO:BTO:0006345',\n",
       "  'gc cancer stem cell': 'BTO:BTO:0006345',\n",
       "  'genomic standards consortium': 'ungrounded',\n",
       "  'germ line stem cell': 'MESH:D000072956',\n",
       "  'germ line stem cells': 'MESH:D000072956',\n",
       "  'germ stem cell': 'MESH:D000072956',\n",
       "  'germ stem cells': 'MESH:D000072956',\n",
       "  'germline stem cell': 'MESH:D000072956',\n",
       "  'glioblastoma derived stem like cells': 'BTO:BTO:0006345',\n",
       "  'glioblastoma stem cell': 'BTO:BTO:0006345',\n",
       "  'glioblastoma stem cells': 'BTO:BTO:0006345',\n",
       "  'glioblastoma stem like cell': 'BTO:BTO:0006345',\n",
       "  'glioblastoma stem like cells': 'BTO:BTO:0006345',\n",
       "  'glioma cscs': 'BTO:BTO:0006345',\n",
       "  'glioma stem cell': 'BTO:BTO:0006345',\n",
       "  'glioma stem cells': 'BTO:BTO:0006345',\n",
       "  'glioma stem initiating cell': 'BTO:BTO:0006345',\n",
       "  'glioma stem like cell': 'BTO:BTO:0006345',\n",
       "  'glioma stem like cells': 'BTO:BTO:0006345',\n",
       "  'glioma stemlike cell': 'BTO:BTO:0006345',\n",
       "  'glut4 storage compartment': 'GO:GO:0032593',\n",
       "  'goosecoid': 'HGNC:4612',\n",
       "  'goosecoid homeobox': 'HGNC:4612',\n",
       "  'green suspension cell cultures': 'ungrounded'},\n",
       " {'BTO:BTO:0006345': 'glioblastoma multiforme cancer stem cell',\n",
       "  'MESH:D000072956': 'Adult Germline Stem Cells',\n",
       "  'GO:GO:0032593': 'insulin-responsive compartment',\n",
       "  'HGNC:4612': 'GSC'},\n",
       " ['BTO:BTO:0006345', 'HGNC:4612', 'MESH:D000072956']]"
      ]
     },
     "execution_count": 40,
     "metadata": {},
     "output_type": "execute_result"
    }
   ],
   "source": [
    "result"
   ]
  },
  {
   "cell_type": "code",
   "execution_count": 60,
   "metadata": {},
   "outputs": [],
   "source": [
    "grounding_map, names, pos_labels = [{'cm grown on germinated soybean': 'BTO:BTO:0006345',\n",
    "  'gbm cancer stem cells': 'BTO:BTO:0006345',\n",
    "  'gbm stem cell': 'BTO:BTO:0006345',\n",
    "  'gbm stem cells': 'BTO:BTO:0006345',\n",
    "  'gbm stem like cell': 'BTO:BTO:0006345',\n",
    "  'gbm stem like cells': 'BTO:BTO:0006345',\n",
    "  'gc cancer stem cell': 'BTO:BTO:0006345',\n",
    "  'genomic standards consortium': 'ungrounded',\n",
    "  'germ line stem cell': 'MESH:D000072956',\n",
    "  'germ line stem cells': 'MESH:D000072956',\n",
    "  'germ stem cell': 'MESH:D000072956',\n",
    "  'germ stem cells': 'MESH:D000072956',\n",
    "  'germline stem cell': 'MESH:D000072956',\n",
    "  'glioblastoma derived stem like cells': 'BTO:BTO:0006345',\n",
    "  'glioblastoma stem cell': 'BTO:BTO:0006345',\n",
    "  'glioblastoma stem cells': 'BTO:BTO:0006345',\n",
    "  'glioblastoma stem like cell': 'BTO:BTO:0006345',\n",
    "  'glioblastoma stem like cells': 'BTO:BTO:0006345',\n",
    "  'glioma cscs': 'BTO:BTO:0006345',\n",
    "  'glioma stem cell': 'BTO:BTO:0006345',\n",
    "  'glioma stem cells': 'BTO:BTO:0006345',\n",
    "  'glioma stem initiating cell': 'BTO:BTO:0006345',\n",
    "  'glioma stem like cell': 'BTO:BTO:0006345',\n",
    "  'glioma stem like cells': 'BTO:BTO:0006345',\n",
    "  'glioma stemlike cell': 'BTO:BTO:0006345',\n",
    "  'glut4 storage compartment': 'GO:GO:0032593',\n",
    "  'goosecoid': 'HGNC:4612',\n",
    "  'goosecoid homeobox': 'HGNC:4612',\n",
    "  'green suspension cell cultures': 'ungrounded'},\n",
    " {'BTO:BTO:0006345': 'glioblastoma multiforme cancer stem cell',\n",
    "  'MESH:D000072956': 'Adult Germline Stem Cells',\n",
    "  'GO:GO:0032593': 'insulin-responsive compartment',\n",
    "  'HGNC:4612': 'GSC'},\n",
    " ['BTO:BTO:0006345', 'HGNC:4612', 'MESH:D000072956']]"
   ]
  },
  {
   "cell_type": "code",
   "execution_count": 61,
   "metadata": {},
   "outputs": [],
   "source": [
    "excluded_longforms = []"
   ]
  },
  {
   "cell_type": "code",
   "execution_count": 62,
   "metadata": {},
   "outputs": [],
   "source": [
    "grounding_dict = {shortform: {longform: grounding_map[longform] \n",
    "                              for longform, _, _ in longforms if longform in grounding_map\n",
    "                              and longform not in excluded_longforms}\n",
    "                  for shortform, longforms in longform_dict.items()}\n",
    "result = [grounding_dict, names, pos_labels]\n",
    "\n",
    "if not os.path.exists(results_path):\n",
    "    os.mkdir(results_path)\n",
    "with open(os.path.join(results_path, f'{model_name}_preliminary_grounding_info.json'), 'w') as f:\n",
    "    json.dump(result, f)"
   ]
  },
  {
   "cell_type": "code",
   "execution_count": 63,
   "metadata": {},
   "outputs": [],
   "source": [
    "additional_entities = {}"
   ]
  },
  {
   "cell_type": "code",
   "execution_count": 64,
   "metadata": {},
   "outputs": [],
   "source": [
    "unambiguous_agent_texts = {\"HGNC:4612\": [\"GSC\", [\"goosecoid\"]]}"
   ]
  },
  {
   "cell_type": "code",
   "execution_count": 65,
   "metadata": {},
   "outputs": [],
   "source": [
    "labeler = AdeftLabeler(grounding_dict)\n",
    "corpus = labeler.build_from_texts((text, pmid) for pmid, text in all_texts.items())\n",
    "agent_text_pmid_map = defaultdict(list)\n",
    "for text, label, id_ in corpus:\n",
    "    agent_text_pmid_map[label].append(id_)\n",
    "\n",
    "entity_pmid_map = {entity: set(get_pmids_for_entity(*entity.split(':', maxsplit=1),\n",
    "                                                major_topic=True))for entity in additional_entities}"
   ]
  },
  {
   "cell_type": "code",
   "execution_count": 66,
   "metadata": {},
   "outputs": [],
   "source": [
    "intersection1 = []\n",
    "for entity1, pmids1 in entity_pmid_map.items():\n",
    "    for entity2, pmids2 in entity_pmid_map.items():\n",
    "        intersection1.append((entity1, entity2, len(pmids1 & pmids2)))"
   ]
  },
  {
   "cell_type": "code",
   "execution_count": 67,
   "metadata": {},
   "outputs": [],
   "source": [
    "intersection2 = []\n",
    "for entity1, pmids1 in agent_text_pmid_map.items():\n",
    "    for entity2, pmids2 in entity_pmid_map.items():\n",
    "        intersection2.append((entity1, entity2, len(set(pmids1) & pmids2)))"
   ]
  },
  {
   "cell_type": "code",
   "execution_count": 68,
   "metadata": {},
   "outputs": [
    {
     "data": {
      "text/plain": [
       "[]"
      ]
     },
     "execution_count": 68,
     "metadata": {},
     "output_type": "execute_result"
    }
   ],
   "source": [
    "intersection1"
   ]
  },
  {
   "cell_type": "code",
   "execution_count": 69,
   "metadata": {},
   "outputs": [
    {
     "data": {
      "text/plain": [
       "[]"
      ]
     },
     "execution_count": 69,
     "metadata": {},
     "output_type": "execute_result"
    }
   ],
   "source": [
    "intersection2"
   ]
  },
  {
   "cell_type": "code",
   "execution_count": 70,
   "metadata": {},
   "outputs": [],
   "source": [
    "all_used_pmids = set()\n",
    "for entity, agent_texts in unambiguous_agent_texts.items():\n",
    "    used_pmids = set()\n",
    "    for agent_text in agent_texts[1]:\n",
    "        pmids = set(get_pmids_for_agent_text(agent_text))\n",
    "        new_pmids = list(pmids - all_texts.keys() - used_pmids)\n",
    "        text_dict = get_plaintexts_for_pmids(new_pmids, contains=agent_texts)\n",
    "        corpus.extend([(text, entity, pmid) for pmid, text in text_dict.items() if len(text) >= 5])\n",
    "        used_pmids.update(new_pmids)\n",
    "    all_used_pmids.update(used_pmids)\n",
    "        \n",
    "for entity, pmids in entity_pmid_map.items():\n",
    "    new_pmids = list(set(pmids) - all_texts.keys() - all_used_pmids)\n",
    "    if len(new_pmids) > 10000:\n",
    "        new_pmids = random.choices(new_pmids, k=10000)\n",
    "    _, contains = additional_entities[entity]\n",
    "    text_dict = get_plaintexts_for_pmids(new_pmids, contains=contains)\n",
    "    corpus.extend([(text, entity, pmid) for pmid, text in text_dict.items() if len(text) >= 5])"
   ]
  },
  {
   "cell_type": "code",
   "execution_count": 71,
   "metadata": {},
   "outputs": [],
   "source": [
    "names.update({key: value[0] for key, value in additional_entities.items()})\n",
    "names.update({key: value[0] for key, value in unambiguous_agent_texts.items()})\n",
    "pos_labels = list(set(pos_labels) | additional_entities.keys() |\n",
    "                  unambiguous_agent_texts.keys())"
   ]
  },
  {
   "cell_type": "code",
   "execution_count": 72,
   "metadata": {},
   "outputs": [
    {
     "name": "stderr",
     "output_type": "stream",
     "text": [
      "INFO: [2020-10-31 21:34:02] /adeft/PP/adeft/adeft/modeling/classify.py - Beginning grid search in parameter space:\n",
      "{'C': [100.0], 'max_features': [10000]}\n",
      "INFO: [2020-10-31 21:34:13] /adeft/PP/adeft/adeft/modeling/classify.py - Best f1 score of 0.97186919472532 found for parameter values:\n",
      "{'logit__C': 100.0, 'tfidf__max_features': 10000}\n"
     ]
    }
   ],
   "source": [
    "%%capture\n",
    "\n",
    "classifier = AdeftClassifier(shortforms, pos_labels=pos_labels, random_state=1729)\n",
    "param_grid = {'C': [100.0], 'max_features': [10000]}\n",
    "texts, labels, pmids = zip(*corpus)\n",
    "classifier.cv(texts, labels, param_grid, cv=5, n_jobs=5)"
   ]
  },
  {
   "cell_type": "code",
   "execution_count": 73,
   "metadata": {
    "scrolled": true
   },
   "outputs": [
    {
     "data": {
      "text/plain": [
       "{'label_distribution': {'MESH:D000072956': 99,\n",
       "  'GO:GO:0032593': 3,\n",
       "  'BTO:BTO:0006345': 447,\n",
       "  'HGNC:4612': 25,\n",
       "  'ungrounded': 3},\n",
       " 'f1': {'mean': 0.971869, 'std': 0.004658},\n",
       " 'precision': {'mean': 0.974512, 'std': 0.005242},\n",
       " 'recall': {'mean': 0.975468, 'std': 0.003573},\n",
       " 'MESH:D000072956': {'f1': {'mean': 0.979466, 'std': 0.018867},\n",
       "  'pr': {'mean': 0.969474, 'std': 0.024943},\n",
       "  'rc': {'mean': 0.99, 'std': 0.02}},\n",
       " 'HGNC:4612': {'f1': {'mean': 0.714286, 'std': 0.071429},\n",
       "  'pr': {'mean': 0.56, 'std': 0.08},\n",
       "  'rc': {'mean': 1.0, 'std': 0.0}},\n",
       " 'ungrounded': {'f1': {'mean': 0.4, 'std': 0.489898},\n",
       "  'pr': {'mean': 0.4, 'std': 0.489898},\n",
       "  'rc': {'mean': 0.4, 'std': 0.489898}},\n",
       " 'BTO:BTO:0006345': {'f1': {'mean': 0.984579, 'std': 0.004122},\n",
       "  'pr': {'mean': 1.0, 'std': 0.0},\n",
       "  'rc': {'mean': 0.969659, 'std': 0.007985}},\n",
       " 'GO:GO:0032593': {'f1': {'mean': 0.6, 'std': 0.489898},\n",
       "  'pr': {'mean': 0.6, 'std': 0.489898},\n",
       "  'rc': {'mean': 0.6, 'std': 0.489898}}}"
      ]
     },
     "execution_count": 73,
     "metadata": {},
     "output_type": "execute_result"
    }
   ],
   "source": [
    "classifier.stats"
   ]
  },
  {
   "cell_type": "code",
   "execution_count": 74,
   "metadata": {},
   "outputs": [],
   "source": [
    "disamb = AdeftDisambiguator(classifier, grounding_dict, names)"
   ]
  },
  {
   "cell_type": "code",
   "execution_count": 75,
   "metadata": {},
   "outputs": [],
   "source": [
    "disamb.dump(model_name, results_path)"
   ]
  },
  {
   "cell_type": "code",
   "execution_count": 76,
   "metadata": {},
   "outputs": [
    {
     "name": "stdout",
     "output_type": "stream",
     "text": [
      "Disambiguation model for GSC, and GSCs\n",
      "\n",
      "Produces the disambiguations:\n",
      "\tAdult Germline Stem Cells*\tMESH:D000072956\n",
      "\tGSC*\tHGNC:4612\n",
      "\tglioblastoma multiforme cancer stem cell*\tBTO:BTO:0006345\n",
      "\tinsulin-responsive compartment\tGO:GO:0032593\n",
      "\n",
      "Class level metrics:\n",
      "--------------------\n",
      "Grounding                               \tCount\tF1     \n",
      "glioblastoma multiforme cancer stem cell*\t447\t0.98458\n",
      "               Adult Germline Stem Cells*\t 99\t0.97947\n",
      "                                     GSC*\t 25\t0.71429\n",
      "          insulin-responsive compartment\t  3\t    0.6\n",
      "                              Ungrounded\t  3\t    0.4\n",
      "\n",
      "Weighted Metrics:\n",
      "-----------------\n",
      "\tF1 score:\t0.97187\n",
      "\tPrecision:\t0.97451\n",
      "\tRecall:\t\t0.97547\n",
      "\n",
      "* Positive labels\n",
      "See Docstring for explanation\n",
      "\n"
     ]
    }
   ],
   "source": [
    "print(disamb.info())"
   ]
  },
  {
   "cell_type": "code",
   "execution_count": 77,
   "metadata": {},
   "outputs": [],
   "source": [
    "model_to_s3(disamb)"
   ]
  },
  {
   "cell_type": "code",
   "execution_count": 30,
   "metadata": {},
   "outputs": [],
   "source": [
    "preds = [disamb.disambiguate(text) for text in all_texts.values()]"
   ]
  },
  {
   "cell_type": "code",
   "execution_count": 31,
   "metadata": {},
   "outputs": [],
   "source": [
    "texts = [text for pred, text in zip(preds, all_texts.values()) if pred[0] == 'HGNC:10967']"
   ]
  },
  {
   "cell_type": "code",
   "execution_count": 36,
   "metadata": {},
   "outputs": [
    {
     "data": {
      "text/plain": [
       "'The non-neuronal monoamine transporters (OCT1, OCT2, EMT, and PMAT) play a key role in the clearance of monoamines from extracellular compartments. In a previous report we described endometrial distribution and cyclic variation of the vesicular monoamine transporter (VMAT2) mRNA and the neuronal norepinephrine transporter (NET) mRNA. In the present study we used in situ hybridization, real-time PCR and immunohistochemistry to reveal tissue distribution and cyclic variation of mRNA for the non-neuronal monoamine transporters in the human endometrium and early pregnancy decidua. We found that non-neuronal monoamine transporters are predominantly expressed in the stroma. The plasma membrane monoamine transporter (PMAT) mRNA expression peaked in the proliferative phase, whereas the extra-neuronal monoamine transporter (EMT) mRNA expression peaked in the secretory phase. The organic cation transporter 2 (OCT2) mRNA expression was exclusively detected in few scattered stromal cells and OCT1 mRNA was not detected at all. Our present results demonstrate that PMAT, EMT, and OCT2 transporters are expressed in the endometrial stroma and can potentially regulate reuptake of monoamines in general and histamine in particular. Taken together with our previous finding of VMAT2 mRNA in epithelial cells, we suggest a paracrine interaction between stromal and epithelial cells, which may modulate certain steps of the reproductive process.\\n'"
      ]
     },
     "execution_count": 36,
     "metadata": {},
     "output_type": "execute_result"
    }
   ],
   "source": [
    "texts[3]"
   ]
  },
  {
   "cell_type": "code",
   "execution_count": null,
   "metadata": {},
   "outputs": [],
   "source": []
  }
 ],
 "metadata": {
  "kernelspec": {
   "display_name": "Python 3",
   "language": "python",
   "name": "python3"
  },
  "language_info": {
   "codemirror_mode": {
    "name": "ipython",
    "version": 3
   },
   "file_extension": ".py",
   "mimetype": "text/x-python",
   "name": "python",
   "nbconvert_exporter": "python",
   "pygments_lexer": "ipython3",
   "version": "3.8.4"
  }
 },
 "nbformat": 4,
 "nbformat_minor": 2
}
