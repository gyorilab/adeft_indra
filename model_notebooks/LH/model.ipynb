{
 "cells": [
  {
   "cell_type": "code",
   "execution_count": 1,
   "metadata": {},
   "outputs": [],
   "source": [
    "import os\n",
    "import json\n",
    "import pickle\n",
    "import random\n",
    "from collections import defaultdict, Counter\n",
    "\n",
    "from indra.literature.adeft_tools import universal_extract_text\n",
    "from indra.databases.hgnc_client import get_hgnc_name, get_hgnc_id\n",
    "\n",
    "from adeft.discover import AdeftMiner\n",
    "from adeft.gui import ground_with_gui\n",
    "from adeft.modeling.label import AdeftLabeler\n",
    "from adeft.modeling.classify import AdeftClassifier\n",
    "from adeft.disambiguate import AdeftDisambiguator, load_disambiguator\n",
    "\n",
    "\n",
    "from adeft_indra.ground.ground import AdeftGrounder\n",
    "from adeft_indra.model_building.s3 import model_to_s3\n",
    "from adeft_indra.model_building.escape import escape_filename\n",
    "from adeft_indra.db.content import get_pmids_for_agent_text, get_pmids_for_entity, \\\n",
    "    get_plaintexts_for_pmids"
   ]
  },
  {
   "cell_type": "code",
   "execution_count": 2,
   "metadata": {},
   "outputs": [],
   "source": [
    "adeft_grounder = AdeftGrounder()"
   ]
  },
  {
   "cell_type": "code",
   "execution_count": 3,
   "metadata": {},
   "outputs": [],
   "source": [
    "shortforms = ['LH']\n",
    "model_name = ':'.join(sorted(escape_filename(shortform) for shortform in shortforms))\n",
    "results_path = os.path.abspath(os.path.join('../..', 'results', model_name))"
   ]
  },
  {
   "cell_type": "code",
   "execution_count": 4,
   "metadata": {},
   "outputs": [],
   "source": [
    "miners = dict()\n",
    "all_texts = {}\n",
    "for shortform in shortforms:\n",
    "    pmids = get_pmids_for_agent_text(shortform)\n",
    "    text_dict = get_plaintexts_for_pmids(pmids, contains=shortforms)\n",
    "    text_dict = {pmid: text for pmid, text in text_dict.items() if len(text) > 5}\n",
    "    miners[shortform] = AdeftMiner(shortform)\n",
    "    miners[shortform].process_texts(text_dict.values())\n",
    "    all_texts.update(text_dict)\n",
    "\n",
    "longform_dict = {}\n",
    "for shortform in shortforms:\n",
    "    longforms = miners[shortform].get_longforms()\n",
    "    longforms = [(longform, count, score) for longform, count, score in longforms\n",
    "                 if count*score > 2]\n",
    "    longform_dict[shortform] = longforms\n",
    "    \n",
    "combined_longforms = Counter()\n",
    "for longform_rows in longform_dict.values():\n",
    "    combined_longforms.update({longform: count for longform, count, score\n",
    "                               in longform_rows})\n",
    "grounding_map = {}\n",
    "names = {}\n",
    "for longform in combined_longforms:\n",
    "    groundings = adeft_grounder.ground(longform)\n",
    "    if groundings:\n",
    "        grounding = groundings[0]['grounding']\n",
    "        grounding_map[longform] = grounding\n",
    "        names[grounding] = groundings[0]['name']\n",
    "longforms, counts = zip(*combined_longforms.most_common())\n",
    "pos_labels = []"
   ]
  },
  {
   "cell_type": "code",
   "execution_count": 5,
   "metadata": {},
   "outputs": [
    {
     "data": {
      "text/plain": [
       "[('luteinizing hormone', 4666),\n",
       " ('lateral hypothalamus', 308),\n",
       " ('luteinising hormone', 202),\n",
       " ('learned helplessness', 45),\n",
       " ('lateral hypothalamic', 40),\n",
       " ('left hemisphere', 34),\n",
       " ('lutenizing hormone', 27),\n",
       " ('leutinizing hormone', 19),\n",
       " ('lateral horn', 15),\n",
       " ('lysyl hydroxylase', 15),\n",
       " ('luteinizing hor mone', 13),\n",
       " ('lateral hypothalamic area', 12),\n",
       " ('light harvesting', 11),\n",
       " ('lipohypertrophy', 9),\n",
       " ('lymphoid follicle hyperplasia', 9),\n",
       " ('leonurine hydrochloride', 8),\n",
       " ('left hand', 7),\n",
       " ('lipid hydroperoxide', 7),\n",
       " ('lymphocytic hypophysitis', 7),\n",
       " ('linker histone', 6),\n",
       " ('linear headache', 6),\n",
       " ('lyon hypertensive', 6),\n",
       " ('lianhuaqingwen', 6),\n",
       " ('leuteinizing hormone', 6),\n",
       " ('liver hydrolysate', 5),\n",
       " ('laparoscopic hepatectomy', 5),\n",
       " ('laparoscopic hysterectomy', 5),\n",
       " ('lower hypocotyl', 5),\n",
       " ('hormone lutropin', 5),\n",
       " ('left cerebral hemisphere', 5),\n",
       " ('lutenising hormone', 5),\n",
       " ('l', 5),\n",
       " ('liposomal honokiol', 4),\n",
       " ('local heat', 4),\n",
       " ('lidocaine hydrochloride', 4),\n",
       " ('length of hypocotyl', 4),\n",
       " ('leutenizing hormone', 4),\n",
       " ('luteinsing hormone', 4),\n",
       " ('luteinzing hormone', 4),\n",
       " ('lateral habenula', 3),\n",
       " ('lh', 3),\n",
       " ('life history', 3),\n",
       " ('lipid hyperoxide', 3),\n",
       " ('lateral hypothalamic nucleus', 3),\n",
       " ('loop of henle', 3),\n",
       " ('low molecular weight heparin', 3),\n",
       " ('low and one high', 3)]"
      ]
     },
     "execution_count": 5,
     "metadata": {},
     "output_type": "execute_result"
    }
   ],
   "source": [
    "list(zip(longforms, counts))"
   ]
  },
  {
   "cell_type": "code",
   "execution_count": 6,
   "metadata": {},
   "outputs": [],
   "source": [
    "try:\n",
    "    disamb = load_disambiguator(shortforms[0])\n",
    "    for shortform, gm in disamb.grounding_dict.items():\n",
    "        for longform, grounding in gm.items():\n",
    "            grounding_map[longform] = grounding\n",
    "    for grounding, name in disamb.names.items():\n",
    "        names[grounding] = name\n",
    "    pos_labels = disamb.pos_labels\n",
    "except Exception:\n",
    "    pass"
   ]
  },
  {
   "cell_type": "code",
   "execution_count": 7,
   "metadata": {},
   "outputs": [
    {
     "data": {
      "text/plain": [
       "{'FPLX:LH': 'LH',\n",
       " 'MESH:D007026': 'Hypothalamic Area, Lateral',\n",
       " 'CHEBI:CHEBI:24621': 'hormone',\n",
       " 'MESH:D006380': 'Helplessness, Learned',\n",
       " 'MESH:D006965': 'Hyperplasia',\n",
       " 'CHEBI:CHEBI:36807': 'hydrochloride',\n",
       " 'CHEBI:CHEBI:61051': 'lipid hydroperoxide',\n",
       " 'MESH:D006261': 'Headache',\n",
       " 'MESH:C000588632': 'lianhuaqingwen',\n",
       " 'MESH:D006498': 'Hepatectomy',\n",
       " 'MESH:D007044': 'Hysterectomy',\n",
       " 'MESH:D018546': 'Hypocotyl',\n",
       " 'CHEBI:CHEBI:81568': 'Luteinizing hormone',\n",
       " 'CHEBI:CHEBI:15603': 'L-leucine',\n",
       " 'MESH:C533735': 'liposomal honokiol',\n",
       " 'CHEBI:CHEBI:50512': 'lidocaine hydrochloride',\n",
       " 'MESH:D019262': 'Habenula',\n",
       " 'MESH:D006664': 'History',\n",
       " 'CHEBI:CHEBI:18421': 'superoxide',\n",
       " 'MESH:D008138': 'Loop of Henle',\n",
       " 'MESH:D006495': 'Heparin, Low-Molecular-Weight'}"
      ]
     },
     "execution_count": 7,
     "metadata": {},
     "output_type": "execute_result"
    }
   ],
   "source": [
    "names"
   ]
  },
  {
   "cell_type": "code",
   "execution_count": 8,
   "metadata": {},
   "outputs": [
    {
     "name": "stderr",
     "output_type": "stream",
     "text": [
      "INFO: [2020-11-10 02:33:21] indra.ontology.bio.ontology - Loading INDRA bio ontology from cache at /home/ubuntu/.indra/bio_ontology/1.4/bio_ontology.pkl\n"
     ]
    }
   ],
   "source": [
    "grounding_map, names, pos_labels = ground_with_gui(longforms, counts, \n",
    "                                                   grounding_map=grounding_map,\n",
    "                                                   names=names, pos_labels=pos_labels, no_browser=True, port=8891)"
   ]
  },
  {
   "cell_type": "code",
   "execution_count": 9,
   "metadata": {},
   "outputs": [],
   "source": [
    "result = [grounding_map, names, pos_labels]"
   ]
  },
  {
   "cell_type": "code",
   "execution_count": 10,
   "metadata": {},
   "outputs": [
    {
     "data": {
      "text/plain": [
       "[{'hormone lutropin': 'CHEBI:CHEBI:81568',\n",
       "  'l': 'ungrounded',\n",
       "  'laparoscopic hepatectomy': 'ungrounded',\n",
       "  'laparoscopic hysterectomy': 'ungrounded',\n",
       "  'lateral habenula': 'ungrounded',\n",
       "  'lateral horn': 'ungrounded',\n",
       "  'lateral hypothalamic': 'MESH:D007026',\n",
       "  'lateral hypothalamic area': 'MESH:D007026',\n",
       "  'lateral hypothalamic nucleus': 'MESH:D007026',\n",
       "  'lateral hypothalamus': 'MESH:D007026',\n",
       "  'learned helplessness': 'ungrounded',\n",
       "  'left cerebral hemisphere': 'ungrounded',\n",
       "  'left hand': 'ungrounded',\n",
       "  'left hemisphere': 'ungrounded',\n",
       "  'length of hypocotyl': 'ungrounded',\n",
       "  'leonurine hydrochloride': 'PUBCHEM:161464',\n",
       "  'leuteinizing hormone': 'FPLX:LH',\n",
       "  'leutenizing hormone': 'CHEBI:CHEBI:81568',\n",
       "  'leutinizing hormone': 'FPLX:LH',\n",
       "  'lh': 'ungrounded',\n",
       "  'lianhuaqingwen': 'MESH:C000588632',\n",
       "  'lidocaine hydrochloride': 'CHEBI:CHEBI:50512',\n",
       "  'life history': 'ungrounded',\n",
       "  'light harvesting': 'ungrounded',\n",
       "  'linear headache': 'ungrounded',\n",
       "  'linker histone': 'ungrounded',\n",
       "  'lipid hydroperoxide': 'CHEBI:CHEBI:61051',\n",
       "  'lipid hyperoxide': 'ungrounded',\n",
       "  'lipohypertrophy': 'ungrounded',\n",
       "  'liposomal honokiol': 'MESH:C533735',\n",
       "  'liver hydrolysate': 'ungrounded',\n",
       "  'local heat': 'ungrounded',\n",
       "  'loop of henle': 'MESH:D008138',\n",
       "  'low and one high': 'ungrounded',\n",
       "  'low molecular weight heparin': 'MESH:D006495',\n",
       "  'lower hypocotyl': 'MESH:D018546',\n",
       "  'luteinising hormone': 'FPLX:LH',\n",
       "  'luteinizing hor mone': 'FPLX:LH',\n",
       "  'luteinizing hormone': 'FPLX:LH',\n",
       "  'luteinsing hormone': 'CHEBI:CHEBI:81568',\n",
       "  'luteinzing hormone': 'CHEBI:CHEBI:81568',\n",
       "  'lutenising hormone': 'FPLX:LH',\n",
       "  'lutenizing hormone': 'FPLX:LH',\n",
       "  'lymphocytic hypophysitis': 'ungrounded',\n",
       "  'lymphoid follicle hyperplasia': 'ungrounded',\n",
       "  'lyon hypertensive': 'ungrounded',\n",
       "  'lysyl hydroxylase': 'PLOD'},\n",
       " {'CHEBI:CHEBI:81568': 'Luteinizing hormone',\n",
       "  'MESH:D007026': 'Hypothalamic Area, Lateral',\n",
       "  'PUBCHEM:161464': 'Leonurine',\n",
       "  'FPLX:LH': 'LH',\n",
       "  'MESH:C000588632': 'lianhuaqingwen',\n",
       "  'CHEBI:CHEBI:50512': 'lidocaine hydrochloride',\n",
       "  'CHEBI:CHEBI:61051': 'lipid hydroperoxide',\n",
       "  'MESH:C533735': 'liposomal honokiol',\n",
       "  'MESH:D008138': 'Loop of Henle',\n",
       "  'MESH:D006495': 'Heparin, Low-Molecular-Weight',\n",
       "  'MESH:D018546': 'Hypocotyl',\n",
       "  'PLOD': 'PLOD'},\n",
       " ['FPLX:LH']]"
      ]
     },
     "execution_count": 10,
     "metadata": {},
     "output_type": "execute_result"
    }
   ],
   "source": [
    "result"
   ]
  },
  {
   "cell_type": "code",
   "execution_count": 11,
   "metadata": {},
   "outputs": [],
   "source": [
    "grounding_map, names, pos_labels = [{'hormone lutropin': 'FPLX:LH',\n",
    "  'l': 'ungrounded',\n",
    "  'laparoscopic hepatectomy': 'ungrounded',\n",
    "  'laparoscopic hysterectomy': 'ungrounded',\n",
    "  'lateral habenula': 'ungrounded',\n",
    "  'lateral horn': 'ungrounded',\n",
    "  'lateral hypothalamic': 'MESH:D007026',\n",
    "  'lateral hypothalamic area': 'MESH:D007026',\n",
    "  'lateral hypothalamic nucleus': 'MESH:D007026',\n",
    "  'lateral hypothalamus': 'MESH:D007026',\n",
    "  'learned helplessness': 'ungrounded',\n",
    "  'left cerebral hemisphere': 'ungrounded',\n",
    "  'left hand': 'ungrounded',\n",
    "  'left hemisphere': 'ungrounded',\n",
    "  'length of hypocotyl': 'ungrounded',\n",
    "  'leonurine hydrochloride': 'PUBCHEM:161464',\n",
    "  'leuteinizing hormone': 'FPLX:LH',\n",
    "  'leutenizing hormone': 'FPLX:LH',\n",
    "  'leutinizing hormone': 'FPLX:LH',\n",
    "  'lh': 'ungrounded',\n",
    "  'lianhuaqingwen': 'MESH:C000588632',\n",
    "  'lidocaine hydrochloride': 'CHEBI:CHEBI:50512',\n",
    "  'life history': 'ungrounded',\n",
    "  'light harvesting': 'ungrounded',\n",
    "  'linear headache': 'ungrounded',\n",
    "  'linker histone': 'ungrounded',\n",
    "  'lipid hydroperoxide': 'CHEBI:CHEBI:61051',\n",
    "  'lipid hyperoxide': 'ungrounded',\n",
    "  'lipohypertrophy': 'ungrounded',\n",
    "  'liposomal honokiol': 'MESH:C533735',\n",
    "  'liver hydrolysate': 'ungrounded',\n",
    "  'local heat': 'ungrounded',\n",
    "  'loop of henle': 'MESH:D008138',\n",
    "  'low and one high': 'ungrounded',\n",
    "  'low molecular weight heparin': 'MESH:D006495',\n",
    "  'lower hypocotyl': 'MESH:D018546',\n",
    "  'luteinising hormone': 'FPLX:LH',\n",
    "  'luteinizing hor mone': 'FPLX:LH',\n",
    "  'luteinizing hormone': 'FPLX:LH',\n",
    "  'luteinsing hormone': 'FPLX:LH',\n",
    "  'luteinzing hormone': 'FPLX:LH',\n",
    "  'lutenising hormone': 'FPLX:LH',\n",
    "  'lutenizing hormone': 'FPLX:LH',\n",
    "  'lymphocytic hypophysitis': 'ungrounded',\n",
    "  'lymphoid follicle hyperplasia': 'ungrounded',\n",
    "  'lyon hypertensive': 'ungrounded',\n",
    "  'lysyl hydroxylase': 'PLOD'},\n",
    " {'MESH:D007026': 'Hypothalamic Area, Lateral',\n",
    "  'PUBCHEM:161464': 'Leonurine',\n",
    "  'FPLX:LH': 'LH',\n",
    "  'MESH:C000588632': 'lianhuaqingwen',\n",
    "  'CHEBI:CHEBI:50512': 'lidocaine hydrochloride',\n",
    "  'CHEBI:CHEBI:61051': 'lipid hydroperoxide',\n",
    "  'MESH:C533735': 'liposomal honokiol',\n",
    "  'MESH:D008138': 'Loop of Henle',\n",
    "  'MESH:D006495': 'Heparin, Low-Molecular-Weight',\n",
    "  'MESH:D018546': 'Hypocotyl',\n",
    "  'PLOD': 'PLOD'},\n",
    " ['FPLX:LH']]"
   ]
  },
  {
   "cell_type": "code",
   "execution_count": 12,
   "metadata": {},
   "outputs": [],
   "source": [
    "excluded_longforms = ['lh', 'l']"
   ]
  },
  {
   "cell_type": "code",
   "execution_count": 13,
   "metadata": {},
   "outputs": [],
   "source": [
    "grounding_dict = {shortform: {longform: grounding_map[longform] \n",
    "                              for longform, _, _ in longforms if longform in grounding_map\n",
    "                              and longform not in excluded_longforms}\n",
    "                  for shortform, longforms in longform_dict.items()}\n",
    "result = [grounding_dict, names, pos_labels]\n",
    "\n",
    "if not os.path.exists(results_path):\n",
    "    os.mkdir(results_path)\n",
    "with open(os.path.join(results_path, f'{model_name}_preliminary_grounding_info.json'), 'w') as f:\n",
    "    json.dump(result, f)"
   ]
  },
  {
   "cell_type": "code",
   "execution_count": 14,
   "metadata": {},
   "outputs": [],
   "source": [
    "additional_entities = {}"
   ]
  },
  {
   "cell_type": "code",
   "execution_count": 15,
   "metadata": {},
   "outputs": [],
   "source": [
    "unambiguous_agent_texts = {}"
   ]
  },
  {
   "cell_type": "code",
   "execution_count": 16,
   "metadata": {},
   "outputs": [],
   "source": [
    "labeler = AdeftLabeler(grounding_dict)\n",
    "corpus = labeler.build_from_texts((text, pmid) for pmid, text in all_texts.items())\n",
    "agent_text_pmid_map = defaultdict(list)\n",
    "for text, label, id_ in corpus:\n",
    "    agent_text_pmid_map[label].append(id_)\n",
    "\n",
    "entity_pmid_map = {entity: set(get_pmids_for_entity(*entity.split(':', maxsplit=1),\n",
    "                                                major_topic=True))for entity in additional_entities}"
   ]
  },
  {
   "cell_type": "code",
   "execution_count": 18,
   "metadata": {},
   "outputs": [],
   "source": [
    "intersection1 = []\n",
    "for entity1, pmids1 in entity_pmid_map.items():\n",
    "    for entity2, pmids2 in entity_pmid_map.items():\n",
    "        intersection1.append((entity1, entity2, len(pmids1 & pmids2)))"
   ]
  },
  {
   "cell_type": "code",
   "execution_count": 19,
   "metadata": {},
   "outputs": [],
   "source": [
    "intersection2 = []\n",
    "for entity1, pmids1 in agent_text_pmid_map.items():\n",
    "    for entity2, pmids2 in entity_pmid_map.items():\n",
    "        intersection2.append((entity1, entity2, len(set(pmids1) & pmids2)))"
   ]
  },
  {
   "cell_type": "code",
   "execution_count": 20,
   "metadata": {},
   "outputs": [
    {
     "data": {
      "text/plain": [
       "[('HGNC:10967', 'HGNC:10967', 98)]"
      ]
     },
     "execution_count": 20,
     "metadata": {},
     "output_type": "execute_result"
    }
   ],
   "source": [
    "intersection1"
   ]
  },
  {
   "cell_type": "code",
   "execution_count": 21,
   "metadata": {},
   "outputs": [
    {
     "data": {
      "text/plain": [
       "[('GO:GO:0001837', 'HGNC:10967', 0),\n",
       " ('ungrounded', 'HGNC:10967', 0),\n",
       " ('HGNC:10967', 'HGNC:10967', 0),\n",
       " ('MESH:D055032', 'HGNC:10967', 0)]"
      ]
     },
     "execution_count": 21,
     "metadata": {},
     "output_type": "execute_result"
    }
   ],
   "source": [
    "intersection2"
   ]
  },
  {
   "cell_type": "code",
   "execution_count": 22,
   "metadata": {},
   "outputs": [],
   "source": [
    "all_used_pmids = set()\n",
    "for entity, agent_texts in unambiguous_agent_texts.items():\n",
    "    used_pmids = set()\n",
    "    for agent_text in agent_texts[1]:\n",
    "        pmids = set(get_pmids_for_agent_text(agent_text))\n",
    "        new_pmids = list(pmids - all_texts.keys() - used_pmids)\n",
    "        text_dict = get_plaintexts_for_pmids(new_pmids, contains=agent_texts)\n",
    "        corpus.extend([(text, entity, pmid) for pmid, text in text_dict.items() if len(text) >= 5])\n",
    "        used_pmids.update(new_pmids)\n",
    "    all_used_pmids.update(used_pmids)\n",
    "        \n",
    "for entity, pmids in entity_pmid_map.items():\n",
    "    new_pmids = list(set(pmids) - all_texts.keys() - all_used_pmids)\n",
    "    if len(new_pmids) > 10000:\n",
    "        new_pmids = random.choices(new_pmids, k=10000)\n",
    "    _, contains = additional_entities[entity]\n",
    "    text_dict = get_plaintexts_for_pmids(new_pmids, contains=contains)\n",
    "    corpus.extend([(text, entity, pmid) for pmid, text in text_dict.items() if len(text) >= 5])"
   ]
  },
  {
   "cell_type": "code",
   "execution_count": 23,
   "metadata": {},
   "outputs": [],
   "source": [
    "names.update({key: value[0] for key, value in additional_entities.items()})\n",
    "names.update({key: value[0] for key, value in unambiguous_agent_texts.items()})\n",
    "pos_labels = list(set(pos_labels) | additional_entities.keys() |\n",
    "                  unambiguous_agent_texts.keys())"
   ]
  },
  {
   "cell_type": "code",
   "execution_count": 17,
   "metadata": {},
   "outputs": [
    {
     "name": "stderr",
     "output_type": "stream",
     "text": [
      "INFO: [2020-11-10 02:52:22] /adeft/PP/adeft/adeft/modeling/classify.py - Beginning grid search in parameter space:\n",
      "{'C': [100.0], 'max_features': [10000]}\n",
      "INFO: [2020-11-10 02:53:44] /adeft/PP/adeft/adeft/modeling/classify.py - Best f1 score of 0.9915721160418993 found for parameter values:\n",
      "{'logit__C': 100.0, 'tfidf__max_features': 10000}\n"
     ]
    }
   ],
   "source": [
    "%%capture\n",
    "\n",
    "classifier = AdeftClassifier(shortforms, pos_labels=pos_labels, random_state=1729)\n",
    "param_grid = {'C': [100.0], 'max_features': [10000]}\n",
    "texts, labels, pmids = zip(*corpus)\n",
    "classifier.cv(texts, labels, param_grid, cv=5, n_jobs=5)"
   ]
  },
  {
   "cell_type": "code",
   "execution_count": 18,
   "metadata": {
    "scrolled": true
   },
   "outputs": [
    {
     "data": {
      "text/plain": [
       "{'label_distribution': {'FPLX:LH': 4183,\n",
       "  'MESH:D007026': 280,\n",
       "  'ungrounded': 128,\n",
       "  'PLOD': 15,\n",
       "  'MESH:D008138': 3,\n",
       "  'CHEBI:CHEBI:61051': 6,\n",
       "  'CHEBI:CHEBI:50512': 3,\n",
       "  'PUBCHEM:161464': 8,\n",
       "  'MESH:D018546': 1,\n",
       "  'MESH:C533735': 2,\n",
       "  'MESH:D006495': 3,\n",
       "  'MESH:C000588632': 5},\n",
       " 'f1': {'mean': 0.991572, 'std': 0.001366},\n",
       " 'precision': {'mean': 0.984913, 'std': 0.002687},\n",
       " 'recall': {'mean': 0.998327, 'std': 0.001219},\n",
       " 'MESH:D018546': {'f1': {'mean': 0.0, 'std': 0.0},\n",
       "  'pr': {'mean': 0.0, 'std': 0.0},\n",
       "  'rc': {'mean': 0.0, 'std': 0.0}},\n",
       " 'PLOD': {'f1': {'mean': 1.0, 'std': 0.0},\n",
       "  'pr': {'mean': 1.0, 'std': 0.0},\n",
       "  'rc': {'mean': 1.0, 'std': 0.0}},\n",
       " 'MESH:C533735': {'f1': {'mean': 0.0, 'std': 0.0},\n",
       "  'pr': {'mean': 0.0, 'std': 0.0},\n",
       "  'rc': {'mean': 0.0, 'std': 0.0}},\n",
       " 'FPLX:LH': {'f1': {'mean': 0.991572, 'std': 0.001366},\n",
       "  'pr': {'mean': 0.998327, 'std': 0.001219},\n",
       "  'rc': {'mean': 0.984913, 'std': 0.002687}},\n",
       " 'PUBCHEM:161464': {'f1': {'mean': 0.0, 'std': 0.0},\n",
       "  'pr': {'mean': 0.0, 'std': 0.0},\n",
       "  'rc': {'mean': 0.0, 'std': 0.0}},\n",
       " 'MESH:D007026': {'f1': {'mean': 0.939802, 'std': 0.027829},\n",
       "  'pr': {'mean': 0.928571, 'std': 0.046566},\n",
       "  'rc': {'mean': 0.952522, 'std': 0.018196}},\n",
       " 'MESH:D006495': {'f1': {'mean': 0.0, 'std': 0.0},\n",
       "  'pr': {'mean': 0.0, 'std': 0.0},\n",
       "  'rc': {'mean': 0.0, 'std': 0.0}},\n",
       " 'MESH:C000588632': {'f1': {'mean': 0.6, 'std': 0.489898},\n",
       "  'pr': {'mean': 0.6, 'std': 0.489898},\n",
       "  'rc': {'mean': 0.6, 'std': 0.489898}},\n",
       " 'MESH:D008138': {'f1': {'mean': 0.0, 'std': 0.0},\n",
       "  'pr': {'mean': 0.0, 'std': 0.0},\n",
       "  'rc': {'mean': 0.0, 'std': 0.0}},\n",
       " 'CHEBI:CHEBI:50512': {'f1': {'mean': 0.0, 'std': 0.0},\n",
       "  'pr': {'mean': 0.0, 'std': 0.0},\n",
       "  'rc': {'mean': 0.0, 'std': 0.0}},\n",
       " 'ungrounded': {'f1': {'mean': 0.848237, 'std': 0.044109},\n",
       "  'pr': {'mean': 0.765846, 'std': 0.048606},\n",
       "  'rc': {'mean': 0.952338, 'std': 0.052184}},\n",
       " 'CHEBI:CHEBI:61051': {'f1': {'mean': 0.333333, 'std': 0.421637},\n",
       "  'pr': {'mean': 0.4, 'std': 0.489898},\n",
       "  'rc': {'mean': 0.3, 'std': 0.4}}}"
      ]
     },
     "execution_count": 18,
     "metadata": {},
     "output_type": "execute_result"
    }
   ],
   "source": [
    "classifier.stats"
   ]
  },
  {
   "cell_type": "code",
   "execution_count": 19,
   "metadata": {},
   "outputs": [],
   "source": [
    "disamb = AdeftDisambiguator(classifier, grounding_dict, names)"
   ]
  },
  {
   "cell_type": "code",
   "execution_count": 20,
   "metadata": {},
   "outputs": [],
   "source": [
    "disamb.dump(model_name, results_path)"
   ]
  },
  {
   "cell_type": "code",
   "execution_count": 21,
   "metadata": {},
   "outputs": [
    {
     "name": "stdout",
     "output_type": "stream",
     "text": [
      "Disambiguation model for LH\n",
      "\n",
      "Produces the disambiguations:\n",
      "\tHeparin, Low-Molecular-Weight\tMESH:D006495\n",
      "\tHypocotyl\tMESH:D018546\n",
      "\tHypothalamic Area, Lateral\tMESH:D007026\n",
      "\tLH*\tFPLX:LH\n",
      "\tLeonurine\tPUBCHEM:161464\n",
      "\tLoop of Henle\tMESH:D008138\n",
      "\tPLOD\tPLOD\n",
      "\tlianhuaqingwen\tMESH:C000588632\n",
      "\tlidocaine hydrochloride\tCHEBI:CHEBI:50512\n",
      "\tlipid hydroperoxide\tCHEBI:CHEBI:61051\n",
      "\tliposomal honokiol\tMESH:C533735\n",
      "\n",
      "Class level metrics:\n",
      "--------------------\n",
      "Grounding                    \tCount\tF1     \n",
      "                           LH*\t4183\t0.99157\n",
      "   Hypothalamic Area, Lateral\t 280\t 0.9398\n",
      "                   Ungrounded\t 128\t0.84824\n",
      "                         PLOD\t  15\t    1.0\n",
      "                    Leonurine\t   8\t    0.0\n",
      "          lipid hydroperoxide\t   6\t0.33333\n",
      "               lianhuaqingwen\t   5\t    0.6\n",
      "                Loop of Henle\t   3\t    0.0\n",
      "      lidocaine hydrochloride\t   3\t    0.0\n",
      "Heparin, Low-Molecular-Weight\t   3\t    0.0\n",
      "           liposomal honokiol\t   2\t    0.0\n",
      "                    Hypocotyl\t   1\t    0.0\n",
      "\n",
      "Weighted Metrics:\n",
      "-----------------\n",
      "\tF1 score:\t0.99157\n",
      "\tPrecision:\t0.98491\n",
      "\tRecall:\t\t0.99833\n",
      "\n",
      "* Positive labels\n",
      "See Docstring for explanation\n",
      "\n"
     ]
    }
   ],
   "source": [
    "print(disamb.info())"
   ]
  },
  {
   "cell_type": "code",
   "execution_count": 22,
   "metadata": {},
   "outputs": [],
   "source": [
    "model_to_s3(disamb)"
   ]
  },
  {
   "cell_type": "code",
   "execution_count": 30,
   "metadata": {},
   "outputs": [],
   "source": [
    "preds = [disamb.disambiguate(text) for text in all_texts.values()]"
   ]
  },
  {
   "cell_type": "code",
   "execution_count": 31,
   "metadata": {},
   "outputs": [],
   "source": [
    "texts = [text for pred, text in zip(preds, all_texts.values()) if pred[0] == 'HGNC:10967']"
   ]
  },
  {
   "cell_type": "code",
   "execution_count": 36,
   "metadata": {},
   "outputs": [
    {
     "data": {
      "text/plain": [
       "'The non-neuronal monoamine transporters (OCT1, OCT2, EMT, and PMAT) play a key role in the clearance of monoamines from extracellular compartments. In a previous report we described endometrial distribution and cyclic variation of the vesicular monoamine transporter (VMAT2) mRNA and the neuronal norepinephrine transporter (NET) mRNA. In the present study we used in situ hybridization, real-time PCR and immunohistochemistry to reveal tissue distribution and cyclic variation of mRNA for the non-neuronal monoamine transporters in the human endometrium and early pregnancy decidua. We found that non-neuronal monoamine transporters are predominantly expressed in the stroma. The plasma membrane monoamine transporter (PMAT) mRNA expression peaked in the proliferative phase, whereas the extra-neuronal monoamine transporter (EMT) mRNA expression peaked in the secretory phase. The organic cation transporter 2 (OCT2) mRNA expression was exclusively detected in few scattered stromal cells and OCT1 mRNA was not detected at all. Our present results demonstrate that PMAT, EMT, and OCT2 transporters are expressed in the endometrial stroma and can potentially regulate reuptake of monoamines in general and histamine in particular. Taken together with our previous finding of VMAT2 mRNA in epithelial cells, we suggest a paracrine interaction between stromal and epithelial cells, which may modulate certain steps of the reproductive process.\\n'"
      ]
     },
     "execution_count": 36,
     "metadata": {},
     "output_type": "execute_result"
    }
   ],
   "source": [
    "texts[3]"
   ]
  },
  {
   "cell_type": "code",
   "execution_count": null,
   "metadata": {},
   "outputs": [],
   "source": []
  }
 ],
 "metadata": {
  "kernelspec": {
   "display_name": "Python 3",
   "language": "python",
   "name": "python3"
  },
  "language_info": {
   "codemirror_mode": {
    "name": "ipython",
    "version": 3
   },
   "file_extension": ".py",
   "mimetype": "text/x-python",
   "name": "python",
   "nbconvert_exporter": "python",
   "pygments_lexer": "ipython3",
   "version": "3.8.4"
  }
 },
 "nbformat": 4,
 "nbformat_minor": 2
}
