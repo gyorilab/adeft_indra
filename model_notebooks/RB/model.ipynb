{
 "cells": [
  {
   "cell_type": "code",
   "execution_count": 1,
   "metadata": {},
   "outputs": [],
   "source": [
    "import os\n",
    "import json\n",
    "import pickle\n",
    "import random\n",
    "from collections import defaultdict, Counter\n",
    "\n",
    "from indra.literature.adeft_tools import universal_extract_text\n",
    "from indra.databases.hgnc_client import get_hgnc_name, get_hgnc_id\n",
    "\n",
    "from adeft.discover import AdeftMiner\n",
    "from adeft.gui import ground_with_gui\n",
    "from adeft.modeling.label import AdeftLabeler\n",
    "from adeft.modeling.classify import AdeftClassifier\n",
    "from adeft.disambiguate import AdeftDisambiguator, load_disambiguator\n",
    "\n",
    "\n",
    "from adeft_indra.ground.ground import AdeftGrounder\n",
    "from adeft_indra.model_building.s3 import model_to_s3\n",
    "from adeft_indra.model_building.escape import escape_filename\n",
    "from adeft_indra.db.content import get_pmids_for_agent_text, get_pmids_for_entity, \\\n",
    "    get_plaintexts_for_pmids"
   ]
  },
  {
   "cell_type": "code",
   "execution_count": 2,
   "metadata": {},
   "outputs": [],
   "source": [
    "adeft_grounder = AdeftGrounder()"
   ]
  },
  {
   "cell_type": "code",
   "execution_count": 3,
   "metadata": {},
   "outputs": [],
   "source": [
    "shortforms = ['RB', 'Rb']\n",
    "model_name = ':'.join(sorted(escape_filename(shortform) for shortform in shortforms))\n",
    "results_path = os.path.abspath(os.path.join('../..', 'results', model_name))"
   ]
  },
  {
   "cell_type": "code",
   "execution_count": 4,
   "metadata": {},
   "outputs": [],
   "source": [
    "miners = dict()\n",
    "all_texts = {}\n",
    "for shortform in shortforms:\n",
    "    pmids = get_pmids_for_agent_text(shortform)\n",
    "    text_dict = get_plaintexts_for_pmids(pmids, contains=shortforms)\n",
    "    text_dict = {pmid: text for pmid, text in text_dict.items() if len(text) > 5}\n",
    "    miners[shortform] = AdeftMiner(shortform)\n",
    "    miners[shortform].process_texts(text_dict.values())\n",
    "    all_texts.update(text_dict)\n",
    "\n",
    "longform_dict = {}\n",
    "for shortform in shortforms:\n",
    "    longforms = miners[shortform].get_longforms()\n",
    "    longforms = [(longform, count, score) for longform, count, score in longforms\n",
    "                 if count*score > 2]\n",
    "    longform_dict[shortform] = longforms\n",
    "    \n",
    "combined_longforms = Counter()\n",
    "for longform_rows in longform_dict.values():\n",
    "    combined_longforms.update({longform: count for longform, count, score\n",
    "                               in longform_rows})\n",
    "grounding_map = {}\n",
    "names = {}\n",
    "for longform in combined_longforms:\n",
    "    groundings = adeft_grounder.ground(longform)\n",
    "    if groundings:\n",
    "        grounding = groundings[0]['grounding']\n",
    "        grounding_map[longform] = grounding\n",
    "        names[grounding] = groundings[0]['name']\n",
    "longforms, counts = zip(*combined_longforms.most_common())\n",
    "pos_labels = []"
   ]
  },
  {
   "cell_type": "code",
   "execution_count": 5,
   "metadata": {},
   "outputs": [
    {
     "data": {
      "text/plain": [
       "[('retinoblastoma', 1927),\n",
       " ('retinoblastoma protein', 1161),\n",
       " ('retinoblastoma tumor suppressor protein', 132),\n",
       " ('rose bengal', 112),\n",
       " ('retinoblastoma gene product', 74),\n",
       " ('retinoblastoma tumor suppressor', 60),\n",
       " ('retinoblastoma gene', 50),\n",
       " ('rohon beard', 41),\n",
       " ('respiratory burst', 29),\n",
       " ('reticulate body', 27),\n",
       " ('rhodamine b', 25),\n",
       " ('rice bran', 20),\n",
       " ('retinoblastoma tumor suppressor gene', 18),\n",
       " ('retinoblastoma susceptibility gene product', 17),\n",
       " ('retinoblastoma susceptibility gene', 14),\n",
       " ('rubidium', 14),\n",
       " ('retinoblastoma susceptibility protein', 14),\n",
       " ('retinoblastoma tumour suppressor protein', 14),\n",
       " ('retinoblastoma 1', 12),\n",
       " ('retinoblastoma susceptibility', 12),\n",
       " ('retinoblastoma associated protein', 9),\n",
       " ('repeat breeder', 8),\n",
       " ('rod bipolar', 8),\n",
       " ('rule based', 8),\n",
       " ('red berry', 6),\n",
       " ('roaming beat', 6),\n",
       " ('resistance breaking', 6),\n",
       " ('raspberry', 6),\n",
       " ('red bull', 5),\n",
       " ('radix bupleuri', 5),\n",
       " ('reactive blue', 5),\n",
       " ('retigeric acid b', 5),\n",
       " ('rb1', 5),\n",
       " ('retinoblastoma tumor suppressor gene product', 5),\n",
       " ('resistance breathing', 4),\n",
       " ('rule breaking', 4),\n",
       " ('riboflavin', 4),\n",
       " ('resibufogenin', 4),\n",
       " ('retinoblastoma tumour suppressor', 4),\n",
       " ('ruffled border', 3),\n",
       " ('rectal bleeding', 3),\n",
       " ('repeat bout', 3),\n",
       " ('repetition blindness', 3),\n",
       " ('retired breeder', 3),\n",
       " ('ras binding', 3),\n",
       " ('red blue', 3),\n",
       " ('reduced body', 3),\n",
       " ('residual body', 3),\n",
       " ('resting b', 3),\n",
       " ('rho binding domain', 3),\n",
       " ('rohon beard cell', 3),\n",
       " ('retinoblas toma', 3)]"
      ]
     },
     "execution_count": 5,
     "metadata": {},
     "output_type": "execute_result"
    }
   ],
   "source": [
    "list(zip(longforms, counts))"
   ]
  },
  {
   "cell_type": "code",
   "execution_count": 6,
   "metadata": {},
   "outputs": [],
   "source": [
    "try:\n",
    "    disamb = load_disambiguator(shortforms[0])\n",
    "    for shortform, gm in disamb.grounding_dict.items():\n",
    "        for longform, grounding in gm.items():\n",
    "            grounding_map[longform] = grounding\n",
    "    for grounding, name in disamb.names.items():\n",
    "        names[grounding] = name\n",
    "    pos_labels = disamb.pos_labels\n",
    "except Exception:\n",
    "    pass"
   ]
  },
  {
   "cell_type": "code",
   "execution_count": 7,
   "metadata": {},
   "outputs": [
    {
     "data": {
      "text/plain": [
       "{'MESH:D012175': 'Retinoblastoma',\n",
       " 'HGNC:9884': 'RB1',\n",
       " 'CHEBI:CHEBI:52261': 'ROSE-BENGAL',\n",
       " 'GO:GO:0051726': 'regulation of cell cycle',\n",
       " 'HGNC:28135': 'TCHP',\n",
       " 'GO:GO:0045730': 'RESPIRATORY-BURST',\n",
       " 'CHEBI:CHEBI:52334': 'rhodamine B',\n",
       " 'MESH:D016161': 'Genes, Retinoblastoma',\n",
       " 'MESH:D016147': 'Genes, Tumor Suppressor',\n",
       " 'MESH:D005796': 'Genes',\n",
       " 'MESH:D012119': 'Respiration',\n",
       " 'CHEBI:CHEBI:17015': 'riboflavin',\n",
       " 'CHEBI:CHEBI:31319': 'bufogenin',\n",
       " 'MESH:D006471': 'Gastrointestinal Hemorrhage',\n",
       " 'MESH:D001766': 'Blindness',\n",
       " 'GO:GO:0005488': 'binding',\n",
       " 'CHEBI:CHEBI:27560': 'boron atom',\n",
       " 'GO:GO:0005623': 'cell',\n",
       " 'CHEBI:CHEBI:33322': 'RUBIDIUM'}"
      ]
     },
     "execution_count": 7,
     "metadata": {},
     "output_type": "execute_result"
    }
   ],
   "source": [
    "names"
   ]
  },
  {
   "cell_type": "code",
   "execution_count": 8,
   "metadata": {},
   "outputs": [
    {
     "name": "stderr",
     "output_type": "stream",
     "text": [
      "INFO: [2020-11-04 01:40:53] indra.ontology.bio.ontology - Loading INDRA bio ontology from cache at /home/ubuntu/.indra/bio_ontology/1.4/bio_ontology.pkl\n"
     ]
    }
   ],
   "source": [
    "grounding_map, names, pos_labels = ground_with_gui(longforms, counts, \n",
    "                                                   grounding_map=grounding_map,\n",
    "                                                   names=names, pos_labels=pos_labels, no_browser=True, port=8891)"
   ]
  },
  {
   "cell_type": "code",
   "execution_count": 9,
   "metadata": {},
   "outputs": [],
   "source": [
    "result = [grounding_map, names, pos_labels]"
   ]
  },
  {
   "cell_type": "code",
   "execution_count": 10,
   "metadata": {},
   "outputs": [
    {
     "data": {
      "text/plain": [
       "[{'radix bupleuri': 'ungrounded',\n",
       "  'ras binding': 'ungrounded',\n",
       "  'raspberry': 'ungrounded',\n",
       "  'rb1': 'HGNC:9884',\n",
       "  'reactive blue': 'ungrounded',\n",
       "  'rectal bleeding': 'MESH:D006471',\n",
       "  'red berry': 'ungrounded',\n",
       "  'red blue': 'ungrounded',\n",
       "  'red bull': 'ungrounded',\n",
       "  'reduced body': 'ungrounded',\n",
       "  'repeat bout': 'ungrounded',\n",
       "  'repeat breeder': 'ungrounded',\n",
       "  'repetition blindness': 'ungrounded',\n",
       "  'resibufogenin': 'CHEBI:CHEBI:31319',\n",
       "  'residual body': 'ungrounded',\n",
       "  'resistance breaking': 'ungrounded',\n",
       "  'resistance breathing': 'ungrounded',\n",
       "  'respiratory burst': 'GO:GO:0045730',\n",
       "  'resting b': 'ungrounded',\n",
       "  'reticulate body': 'ungrounded',\n",
       "  'retigeric acid b': 'ungrounded',\n",
       "  'retinoblas toma': 'HGNC:9884',\n",
       "  'retinoblastoma': 'HGNC:9884',\n",
       "  'retinoblastoma 1': 'HGNC:9884',\n",
       "  'retinoblastoma associated protein': 'HGNC:9884',\n",
       "  'retinoblastoma gene': 'HGNC:9884',\n",
       "  'retinoblastoma gene product': 'HGNC:9884',\n",
       "  'retinoblastoma protein': 'HGNC:9884',\n",
       "  'retinoblastoma susceptibility': 'ungrounded',\n",
       "  'retinoblastoma susceptibility gene': 'HGNC:9884',\n",
       "  'retinoblastoma susceptibility gene product': 'HGNC:9884',\n",
       "  'retinoblastoma susceptibility protein': 'HGNC:9884',\n",
       "  'retinoblastoma tumor suppressor': 'HGNC:9884',\n",
       "  'retinoblastoma tumor suppressor gene': 'HGNC:9884',\n",
       "  'retinoblastoma tumor suppressor gene product': 'HGNC:9884',\n",
       "  'retinoblastoma tumor suppressor protein': 'HGNC:9884',\n",
       "  'retinoblastoma tumour suppressor': 'HGNC:9884',\n",
       "  'retinoblastoma tumour suppressor protein': 'ungrounded',\n",
       "  'retired breeder': 'ungrounded',\n",
       "  'rho binding domain': 'ungrounded',\n",
       "  'rhodamine b': 'CHEBI:CHEBI:52334',\n",
       "  'riboflavin': 'CHEBI:CHEBI:17015',\n",
       "  'rice bran': 'ungrounded',\n",
       "  'roaming beat': 'ungrounded',\n",
       "  'rod bipolar': 'ungrounded',\n",
       "  'rohon beard': 'CL:CL:0000247',\n",
       "  'rohon beard cell': 'CL:CL:0000247',\n",
       "  'rose bengal': 'CHEBI:CHEBI:52261',\n",
       "  'rubidium': 'CHEBI:CHEBI:33322',\n",
       "  'ruffled border': 'ungrounded',\n",
       "  'rule based': 'ungrounded',\n",
       "  'rule breaking': 'ungrounded'},\n",
       " {'HGNC:9884': 'RB1',\n",
       "  'MESH:D006471': 'Gastrointestinal Hemorrhage',\n",
       "  'CHEBI:CHEBI:31319': 'bufogenin',\n",
       "  'GO:GO:0045730': 'respiratory burst',\n",
       "  'CHEBI:CHEBI:52334': 'rhodamine B',\n",
       "  'CHEBI:CHEBI:17015': 'riboflavin',\n",
       "  'CL:CL:0000247': 'Rohon-Beard neuron',\n",
       "  'CHEBI:CHEBI:52261': 'rose bengal',\n",
       "  'CHEBI:CHEBI:33322': 'rubidium atom'},\n",
       " ['CHEBI:CHEBI:52261',\n",
       "  'CHEBI:CHEBI:52334',\n",
       "  'CL:CL:0000247',\n",
       "  'GO:GO:0045730',\n",
       "  'HGNC:9884']]"
      ]
     },
     "execution_count": 10,
     "metadata": {},
     "output_type": "execute_result"
    }
   ],
   "source": [
    "result"
   ]
  },
  {
   "cell_type": "code",
   "execution_count": 11,
   "metadata": {},
   "outputs": [],
   "source": [
    "grounding_map, names, pos_labels = [{'radix bupleuri': 'ungrounded',\n",
    "  'ras binding': 'ungrounded',\n",
    "  'raspberry': 'ungrounded',\n",
    "  'rb1': 'HGNC:9884',\n",
    "  'reactive blue': 'ungrounded',\n",
    "  'rectal bleeding': 'MESH:D006471',\n",
    "  'red berry': 'ungrounded',\n",
    "  'red blue': 'ungrounded',\n",
    "  'red bull': 'ungrounded',\n",
    "  'reduced body': 'ungrounded',\n",
    "  'repeat bout': 'ungrounded',\n",
    "  'repeat breeder': 'ungrounded',\n",
    "  'repetition blindness': 'ungrounded',\n",
    "  'resibufogenin': 'CHEBI:CHEBI:31319',\n",
    "  'residual body': 'ungrounded',\n",
    "  'resistance breaking': 'ungrounded',\n",
    "  'resistance breathing': 'ungrounded',\n",
    "  'respiratory burst': 'GO:GO:0045730',\n",
    "  'resting b': 'ungrounded',\n",
    "  'reticulate body': 'ungrounded',\n",
    "  'retigeric acid b': 'ungrounded',\n",
    "  'retinoblas toma': 'HGNC:9884',\n",
    "  'retinoblastoma': 'HGNC:9884',\n",
    "  'retinoblastoma 1': 'HGNC:9884',\n",
    "  'retinoblastoma associated protein': 'HGNC:9884',\n",
    "  'retinoblastoma gene': 'HGNC:9884',\n",
    "  'retinoblastoma gene product': 'HGNC:9884',\n",
    "  'retinoblastoma protein': 'HGNC:9884',\n",
    "  'retinoblastoma susceptibility': 'ungrounded',\n",
    "  'retinoblastoma susceptibility gene': 'HGNC:9884',\n",
    "  'retinoblastoma susceptibility gene product': 'HGNC:9884',\n",
    "  'retinoblastoma susceptibility protein': 'HGNC:9884',\n",
    "  'retinoblastoma tumor suppressor': 'HGNC:9884',\n",
    "  'retinoblastoma tumor suppressor gene': 'HGNC:9884',\n",
    "  'retinoblastoma tumor suppressor gene product': 'HGNC:9884',\n",
    "  'retinoblastoma tumor suppressor protein': 'HGNC:9884',\n",
    "  'retinoblastoma tumour suppressor': 'HGNC:9884',\n",
    "  'retinoblastoma tumour suppressor protein': 'ungrounded',\n",
    "  'retired breeder': 'ungrounded',\n",
    "  'rho binding domain': 'ungrounded',\n",
    "  'rhodamine b': 'CHEBI:CHEBI:52334',\n",
    "  'riboflavin': 'CHEBI:CHEBI:17015',\n",
    "  'rice bran': 'ungrounded',\n",
    "  'roaming beat': 'ungrounded',\n",
    "  'rod bipolar': 'ungrounded',\n",
    "  'rohon beard': 'CL:CL:0000247',\n",
    "  'rohon beard cell': 'CL:CL:0000247',\n",
    "  'rose bengal': 'CHEBI:CHEBI:52261',\n",
    "  'rubidium': 'CHEBI:CHEBI:33322',\n",
    "  'ruffled border': 'ungrounded',\n",
    "  'rule based': 'ungrounded',\n",
    "  'rule breaking': 'ungrounded'},\n",
    " {'HGNC:9884': 'RB1',\n",
    "  'MESH:D006471': 'Gastrointestinal Hemorrhage',\n",
    "  'CHEBI:CHEBI:31319': 'bufogenin',\n",
    "  'GO:GO:0045730': 'respiratory burst',\n",
    "  'CHEBI:CHEBI:52334': 'rhodamine B',\n",
    "  'CHEBI:CHEBI:17015': 'riboflavin',\n",
    "  'CL:CL:0000247': 'Rohon-Beard neuron',\n",
    "  'CHEBI:CHEBI:52261': 'rose bengal',\n",
    "  'CHEBI:CHEBI:33322': 'rubidium atom'},\n",
    " ['CHEBI:CHEBI:52261',\n",
    "  'CHEBI:CHEBI:52334',\n",
    "  'CL:CL:0000247',\n",
    "  'GO:GO:0045730',\n",
    "  'HGNC:9884']]"
   ]
  },
  {
   "cell_type": "code",
   "execution_count": 12,
   "metadata": {},
   "outputs": [],
   "source": [
    "excluded_longforms = []"
   ]
  },
  {
   "cell_type": "code",
   "execution_count": 13,
   "metadata": {},
   "outputs": [],
   "source": [
    "grounding_dict = {shortform: {longform: grounding_map[longform] \n",
    "                              for longform, _, _ in longforms if longform in grounding_map\n",
    "                              and longform not in excluded_longforms}\n",
    "                  for shortform, longforms in longform_dict.items()}\n",
    "result = [grounding_dict, names, pos_labels]\n",
    "\n",
    "if not os.path.exists(results_path):\n",
    "    os.mkdir(results_path)\n",
    "with open(os.path.join(results_path, f'{model_name}_preliminary_grounding_info.json'), 'w') as f:\n",
    "    json.dump(result, f)"
   ]
  },
  {
   "cell_type": "code",
   "execution_count": 14,
   "metadata": {},
   "outputs": [],
   "source": [
    "additional_entities = {}"
   ]
  },
  {
   "cell_type": "code",
   "execution_count": 15,
   "metadata": {},
   "outputs": [],
   "source": [
    "unambiguous_agent_texts = {}"
   ]
  },
  {
   "cell_type": "code",
   "execution_count": 16,
   "metadata": {},
   "outputs": [],
   "source": [
    "labeler = AdeftLabeler(grounding_dict)\n",
    "corpus = labeler.build_from_texts((text, pmid) for pmid, text in all_texts.items())\n",
    "agent_text_pmid_map = defaultdict(list)\n",
    "for text, label, id_ in corpus:\n",
    "    agent_text_pmid_map[label].append(id_)\n",
    "\n",
    "entity_pmid_map = {entity: set(get_pmids_for_entity(*entity.split(':', maxsplit=1),\n",
    "                                                major_topic=True))for entity in additional_entities}"
   ]
  },
  {
   "cell_type": "code",
   "execution_count": 18,
   "metadata": {},
   "outputs": [],
   "source": [
    "intersection1 = []\n",
    "for entity1, pmids1 in entity_pmid_map.items():\n",
    "    for entity2, pmids2 in entity_pmid_map.items():\n",
    "        intersection1.append((entity1, entity2, len(pmids1 & pmids2)))"
   ]
  },
  {
   "cell_type": "code",
   "execution_count": 19,
   "metadata": {},
   "outputs": [],
   "source": [
    "intersection2 = []\n",
    "for entity1, pmids1 in agent_text_pmid_map.items():\n",
    "    for entity2, pmids2 in entity_pmid_map.items():\n",
    "        intersection2.append((entity1, entity2, len(set(pmids1) & pmids2)))"
   ]
  },
  {
   "cell_type": "code",
   "execution_count": 20,
   "metadata": {},
   "outputs": [
    {
     "data": {
      "text/plain": [
       "[('HGNC:10967', 'HGNC:10967', 98)]"
      ]
     },
     "execution_count": 20,
     "metadata": {},
     "output_type": "execute_result"
    }
   ],
   "source": [
    "intersection1"
   ]
  },
  {
   "cell_type": "code",
   "execution_count": 21,
   "metadata": {},
   "outputs": [
    {
     "data": {
      "text/plain": [
       "[('GO:GO:0001837', 'HGNC:10967', 0),\n",
       " ('ungrounded', 'HGNC:10967', 0),\n",
       " ('HGNC:10967', 'HGNC:10967', 0),\n",
       " ('MESH:D055032', 'HGNC:10967', 0)]"
      ]
     },
     "execution_count": 21,
     "metadata": {},
     "output_type": "execute_result"
    }
   ],
   "source": [
    "intersection2"
   ]
  },
  {
   "cell_type": "code",
   "execution_count": 22,
   "metadata": {},
   "outputs": [],
   "source": [
    "all_used_pmids = set()\n",
    "for entity, agent_texts in unambiguous_agent_texts.items():\n",
    "    used_pmids = set()\n",
    "    for agent_text in agent_texts[1]:\n",
    "        pmids = set(get_pmids_for_agent_text(agent_text))\n",
    "        new_pmids = list(pmids - all_texts.keys() - used_pmids)\n",
    "        text_dict = get_plaintexts_for_pmids(new_pmids, contains=agent_texts)\n",
    "        corpus.extend([(text, entity, pmid) for pmid, text in text_dict.items() if len(text) >= 5])\n",
    "        used_pmids.update(new_pmids)\n",
    "    all_used_pmids.update(used_pmids)\n",
    "        \n",
    "for entity, pmids in entity_pmid_map.items():\n",
    "    new_pmids = list(set(pmids) - all_texts.keys() - all_used_pmids)\n",
    "    if len(new_pmids) > 10000:\n",
    "        new_pmids = random.choices(new_pmids, k=10000)\n",
    "    _, contains = additional_entities[entity]\n",
    "    text_dict = get_plaintexts_for_pmids(new_pmids, contains=contains)\n",
    "    corpus.extend([(text, entity, pmid) for pmid, text in text_dict.items() if len(text) >= 5])"
   ]
  },
  {
   "cell_type": "code",
   "execution_count": 23,
   "metadata": {},
   "outputs": [],
   "source": [
    "names.update({key: value[0] for key, value in additional_entities.items()})\n",
    "names.update({key: value[0] for key, value in unambiguous_agent_texts.items()})\n",
    "pos_labels = list(set(pos_labels) | additional_entities.keys() |\n",
    "                  unambiguous_agent_texts.keys())"
   ]
  },
  {
   "cell_type": "code",
   "execution_count": 17,
   "metadata": {},
   "outputs": [
    {
     "name": "stderr",
     "output_type": "stream",
     "text": [
      "INFO: [2020-11-04 01:48:40] /adeft/PP/adeft/adeft/modeling/classify.py - Beginning grid search in parameter space:\n",
      "{'C': [100.0], 'max_features': [10000]}\n",
      "INFO: [2020-11-04 01:49:39] /adeft/PP/adeft/adeft/modeling/classify.py - Best f1 score of 0.9726783647375781 found for parameter values:\n",
      "{'logit__C': 100.0, 'tfidf__max_features': 10000}\n"
     ]
    }
   ],
   "source": [
    "%%capture\n",
    "\n",
    "classifier = AdeftClassifier(shortforms, pos_labels=pos_labels, random_state=1729)\n",
    "param_grid = {'C': [100.0], 'max_features': [10000]}\n",
    "texts, labels, pmids = zip(*corpus)\n",
    "classifier.cv(texts, labels, param_grid, cv=5, n_jobs=5)"
   ]
  },
  {
   "cell_type": "code",
   "execution_count": 18,
   "metadata": {
    "scrolled": true
   },
   "outputs": [
    {
     "data": {
      "text/plain": [
       "{'label_distribution': {'CHEBI:CHEBI:52261': 81,\n",
       "  'HGNC:9884': 2967,\n",
       "  'GO:GO:0045730': 27,\n",
       "  'ungrounded': 119,\n",
       "  'CL:CL:0000247': 26,\n",
       "  'CHEBI:CHEBI:52334': 19,\n",
       "  'CHEBI:CHEBI:17015': 3,\n",
       "  'MESH:D006471': 2,\n",
       "  'CHEBI:CHEBI:31319': 4,\n",
       "  'CHEBI:CHEBI:33322': 14},\n",
       " 'f1': {'mean': 0.972678, 'std': 0.005484},\n",
       " 'precision': {'mean': 0.962761, 'std': 0.008155},\n",
       " 'recall': {'mean': 0.984936, 'std': 0.003598},\n",
       " 'CL:CL:0000247': {'f1': {'mean': 0.937374, 'std': 0.051663},\n",
       "  'pr': {'mean': 0.92, 'std': 0.09798},\n",
       "  'rc': {'mean': 0.966667, 'std': 0.066667}},\n",
       " 'GO:GO:0045730': {'f1': {'mean': 0.771111, 'std': 0.07281},\n",
       "  'pr': {'mean': 0.633333, 'std': 0.098883},\n",
       "  'rc': {'mean': 1.0, 'std': 0.0}},\n",
       " 'ungrounded': {'f1': {'mean': 0.634218, 'std': 0.03751},\n",
       "  'pr': {'mean': 0.513406, 'std': 0.056788},\n",
       "  'rc': {'mean': 0.83977, 'std': 0.041335}},\n",
       " 'CHEBI:CHEBI:17015': {'f1': {'mean': 0.0, 'std': 0.0},\n",
       "  'pr': {'mean': 0.0, 'std': 0.0},\n",
       "  'rc': {'mean': 0.0, 'std': 0.0}},\n",
       " 'CHEBI:CHEBI:33322': {'f1': {'mean': 0.233333, 'std': 0.290593},\n",
       "  'pr': {'mean': 0.166667, 'std': 0.210819},\n",
       "  'rc': {'mean': 0.4, 'std': 0.489898}},\n",
       " 'HGNC:9884': {'f1': {'mean': 0.982089, 'std': 0.002762},\n",
       "  'pr': {'mean': 0.997641, 'std': 0.000825},\n",
       "  'rc': {'mean': 0.967026, 'std': 0.004936}},\n",
       " 'CHEBI:CHEBI:52334': {'f1': {'mean': 0.433333, 'std': 0.249444},\n",
       "  'pr': {'mean': 0.316667, 'std': 0.185592},\n",
       "  'rc': {'mean': 0.7, 'std': 0.4}},\n",
       " 'CHEBI:CHEBI:52261': {'f1': {'mean': 0.833262, 'std': 0.067201},\n",
       "  'pr': {'mean': 0.813235, 'std': 0.089434},\n",
       "  'rc': {'mean': 0.857945, 'std': 0.062446}},\n",
       " 'CHEBI:CHEBI:31319': {'f1': {'mean': 0.0, 'std': 0.0},\n",
       "  'pr': {'mean': 0.0, 'std': 0.0},\n",
       "  'rc': {'mean': 0.0, 'std': 0.0}},\n",
       " 'MESH:D006471': {'f1': {'mean': 0.0, 'std': 0.0},\n",
       "  'pr': {'mean': 0.0, 'std': 0.0},\n",
       "  'rc': {'mean': 0.0, 'std': 0.0}}}"
      ]
     },
     "execution_count": 18,
     "metadata": {},
     "output_type": "execute_result"
    }
   ],
   "source": [
    "classifier.stats"
   ]
  },
  {
   "cell_type": "code",
   "execution_count": 19,
   "metadata": {},
   "outputs": [],
   "source": [
    "disamb = AdeftDisambiguator(classifier, grounding_dict, names)"
   ]
  },
  {
   "cell_type": "code",
   "execution_count": 20,
   "metadata": {},
   "outputs": [],
   "source": [
    "disamb.dump(model_name, results_path)"
   ]
  },
  {
   "cell_type": "code",
   "execution_count": 21,
   "metadata": {},
   "outputs": [
    {
     "name": "stdout",
     "output_type": "stream",
     "text": [
      "Disambiguation model for RB, and Rb\n",
      "\n",
      "Produces the disambiguations:\n",
      "\tGastrointestinal Hemorrhage\tMESH:D006471\n",
      "\tRB1*\tHGNC:9884\n",
      "\tRohon-Beard neuron*\tCL:CL:0000247\n",
      "\tbufogenin\tCHEBI:CHEBI:31319\n",
      "\trespiratory burst*\tGO:GO:0045730\n",
      "\trhodamine B*\tCHEBI:CHEBI:52334\n",
      "\triboflavin\tCHEBI:CHEBI:17015\n",
      "\trose bengal*\tCHEBI:CHEBI:52261\n",
      "\trubidium atom\tCHEBI:CHEBI:33322\n",
      "\n",
      "Class level metrics:\n",
      "--------------------\n",
      "Grounding                  \tCount\tF1     \n",
      "                        RB1*\t2967\t0.98209\n",
      "                 Ungrounded\t 119\t0.63422\n",
      "                rose bengal*\t  81\t0.83326\n",
      "          respiratory burst*\t  27\t0.77111\n",
      "         Rohon-Beard neuron*\t  26\t0.93737\n",
      "                rhodamine B*\t  19\t0.43333\n",
      "              rubidium atom\t  14\t0.23333\n",
      "                  bufogenin\t   4\t    0.0\n",
      "                 riboflavin\t   3\t    0.0\n",
      "Gastrointestinal Hemorrhage\t   2\t    0.0\n",
      "\n",
      "Weighted Metrics:\n",
      "-----------------\n",
      "\tF1 score:\t0.97268\n",
      "\tPrecision:\t0.96276\n",
      "\tRecall:\t\t0.98494\n",
      "\n",
      "* Positive labels\n",
      "See Docstring for explanation\n",
      "\n"
     ]
    }
   ],
   "source": [
    "print(disamb.info())"
   ]
  },
  {
   "cell_type": "code",
   "execution_count": 22,
   "metadata": {},
   "outputs": [],
   "source": [
    "model_to_s3(disamb)"
   ]
  },
  {
   "cell_type": "code",
   "execution_count": 30,
   "metadata": {},
   "outputs": [],
   "source": [
    "preds = [disamb.disambiguate(text) for text in all_texts.values()]"
   ]
  },
  {
   "cell_type": "code",
   "execution_count": 31,
   "metadata": {},
   "outputs": [],
   "source": [
    "texts = [text for pred, text in zip(preds, all_texts.values()) if pred[0] == 'HGNC:10967']"
   ]
  },
  {
   "cell_type": "code",
   "execution_count": 36,
   "metadata": {},
   "outputs": [
    {
     "data": {
      "text/plain": [
       "'The non-neuronal monoamine transporters (OCT1, OCT2, EMT, and PMAT) play a key role in the clearance of monoamines from extracellular compartments. In a previous report we described endometrial distribution and cyclic variation of the vesicular monoamine transporter (VMAT2) mRNA and the neuronal norepinephrine transporter (NET) mRNA. In the present study we used in situ hybridization, real-time PCR and immunohistochemistry to reveal tissue distribution and cyclic variation of mRNA for the non-neuronal monoamine transporters in the human endometrium and early pregnancy decidua. We found that non-neuronal monoamine transporters are predominantly expressed in the stroma. The plasma membrane monoamine transporter (PMAT) mRNA expression peaked in the proliferative phase, whereas the extra-neuronal monoamine transporter (EMT) mRNA expression peaked in the secretory phase. The organic cation transporter 2 (OCT2) mRNA expression was exclusively detected in few scattered stromal cells and OCT1 mRNA was not detected at all. Our present results demonstrate that PMAT, EMT, and OCT2 transporters are expressed in the endometrial stroma and can potentially regulate reuptake of monoamines in general and histamine in particular. Taken together with our previous finding of VMAT2 mRNA in epithelial cells, we suggest a paracrine interaction between stromal and epithelial cells, which may modulate certain steps of the reproductive process.\\n'"
      ]
     },
     "execution_count": 36,
     "metadata": {},
     "output_type": "execute_result"
    }
   ],
   "source": [
    "texts[3]"
   ]
  },
  {
   "cell_type": "code",
   "execution_count": null,
   "metadata": {},
   "outputs": [],
   "source": []
  }
 ],
 "metadata": {
  "kernelspec": {
   "display_name": "Python 3",
   "language": "python",
   "name": "python3"
  },
  "language_info": {
   "codemirror_mode": {
    "name": "ipython",
    "version": 3
   },
   "file_extension": ".py",
   "mimetype": "text/x-python",
   "name": "python",
   "nbconvert_exporter": "python",
   "pygments_lexer": "ipython3",
   "version": "3.8.4"
  }
 },
 "nbformat": 4,
 "nbformat_minor": 2
}
