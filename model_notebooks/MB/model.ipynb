{
 "cells": [
  {
   "cell_type": "code",
   "execution_count": 1,
   "metadata": {},
   "outputs": [],
   "source": [
    "import os\n",
    "import json\n",
    "import pickle\n",
    "import random\n",
    "from collections import defaultdict, Counter\n",
    "\n",
    "from indra.literature.adeft_tools import universal_extract_text\n",
    "from indra.databases.hgnc_client import get_hgnc_name, get_hgnc_id\n",
    "\n",
    "from adeft.discover import AdeftMiner\n",
    "from adeft.gui import ground_with_gui\n",
    "from adeft.modeling.label import AdeftLabeler\n",
    "from adeft.modeling.classify import AdeftClassifier\n",
    "from adeft.disambiguate import AdeftDisambiguator, load_disambiguator\n",
    "\n",
    "\n",
    "from adeft_indra.ground.ground import AdeftGrounder\n",
    "from adeft_indra.model_building.s3 import model_to_s3\n",
    "from adeft_indra.model_building.escape import escape_filename\n",
    "from adeft_indra.db.content import get_pmids_for_agent_text, get_pmids_for_entity, \\\n",
    "    get_plaintexts_for_pmids"
   ]
  },
  {
   "cell_type": "code",
   "execution_count": 2,
   "metadata": {},
   "outputs": [],
   "source": [
    "adeft_grounder = AdeftGrounder()"
   ]
  },
  {
   "cell_type": "code",
   "execution_count": 3,
   "metadata": {},
   "outputs": [],
   "source": [
    "shortforms = ['MB']\n",
    "model_name = ':'.join(sorted(escape_filename(shortform) for shortform in shortforms))\n",
    "results_path = os.path.abspath(os.path.join('../..', 'results', model_name))"
   ]
  },
  {
   "cell_type": "code",
   "execution_count": 4,
   "metadata": {},
   "outputs": [],
   "source": [
    "miners = dict()\n",
    "all_texts = {}\n",
    "for shortform in shortforms:\n",
    "    pmids = get_pmids_for_agent_text(shortform)\n",
    "    text_dict = get_plaintexts_for_pmids(pmids, contains=shortforms)\n",
    "    text_dict = {pmid: text for pmid, text in text_dict.items() if len(text) > 5}\n",
    "    miners[shortform] = AdeftMiner(shortform)\n",
    "    miners[shortform].process_texts(text_dict.values())\n",
    "    all_texts.update(text_dict)\n",
    "\n",
    "longform_dict = {}\n",
    "for shortform in shortforms:\n",
    "    longforms = miners[shortform].get_longforms()\n",
    "    longforms = [(longform, count, score) for longform, count, score in longforms\n",
    "                 if count*score > 2]\n",
    "    longform_dict[shortform] = longforms\n",
    "    \n",
    "combined_longforms = Counter()\n",
    "for longform_rows in longform_dict.values():\n",
    "    combined_longforms.update({longform: count for longform, count, score\n",
    "                               in longform_rows})\n",
    "grounding_map = {}\n",
    "names = {}\n",
    "for longform in combined_longforms:\n",
    "    groundings = adeft_grounder.ground(longform)\n",
    "    if groundings:\n",
    "        grounding = groundings[0]['grounding']\n",
    "        grounding_map[longform] = grounding\n",
    "        names[grounding] = groundings[0]['name']\n",
    "longforms, counts = zip(*combined_longforms.most_common())\n",
    "pos_labels = []"
   ]
  },
  {
   "cell_type": "code",
   "execution_count": 5,
   "metadata": {},
   "outputs": [
    {
     "data": {
      "text/plain": [
       "[('methylene blue', 926),\n",
       " ('medulloblastoma', 396),\n",
       " ('mushroom body', 176),\n",
       " ('microbubbles', 92),\n",
       " ('molecular beacon', 58),\n",
       " ('myocardial bridge', 43),\n",
       " ('mitochondrial biogenesis', 28),\n",
       " ('maneb', 26),\n",
       " ('myoblasts', 22),\n",
       " ('multibacillary', 22),\n",
       " ('major bleeding', 18),\n",
       " ('multiband', 18),\n",
       " ('methyl blue', 15),\n",
       " ('maternal behavior', 13),\n",
       " ('mhyle blue', 13),\n",
       " ('midbrain', 12),\n",
       " ('methyl bromide', 9),\n",
       " ('mibolerone', 9),\n",
       " ('myoglobin', 9),\n",
       " ('murabutide', 8),\n",
       " ('mammillary body', 7),\n",
       " ('midbody', 7),\n",
       " ('model based', 6),\n",
       " ('matrix bound', 6),\n",
       " ('mini b', 6),\n",
       " ('méthylène blue', 6),\n",
       " ('main branch', 5),\n",
       " ('moderator band', 5),\n",
       " ('monobutyrin', 5),\n",
       " ('methanobactin', 5),\n",
       " ('mb camp', 5),\n",
       " ('mouth breathing', 4),\n",
       " ('macranthoside b', 4),\n",
       " ('mycalolide b', 4),\n",
       " ('meldola s blue', 4),\n",
       " ('marbles buried', 3),\n",
       " ('mirror box', 3),\n",
       " ('macconkey broth', 3),\n",
       " ('membranes bound', 3),\n",
       " ('marginal band', 3),\n",
       " ('methylene blue treated', 3),\n",
       " ('methylene blue usp', 3),\n",
       " ('methylene blue dye', 3),\n",
       " ('musa basjoo nam wa', 3),\n",
       " ('mulberry extract', 3)]"
      ]
     },
     "execution_count": 5,
     "metadata": {},
     "output_type": "execute_result"
    }
   ],
   "source": [
    "list(zip(longforms, counts))"
   ]
  },
  {
   "cell_type": "code",
   "execution_count": 8,
   "metadata": {},
   "outputs": [],
   "source": [
    "try:\n",
    "    disamb = load_disambiguator(shortforms[0])\n",
    "    for shortform, gm in disamb.grounding_dict.items():\n",
    "        for longform, grounding in gm.items():\n",
    "            grounding_map[longform] = grounding\n",
    "    for grounding, name in disamb.names.items():\n",
    "        names[grounding] = name\n",
    "    pos_labels = disamb.pos_labels\n",
    "except Exception:\n",
    "    pass"
   ]
  },
  {
   "cell_type": "code",
   "execution_count": 9,
   "metadata": {},
   "outputs": [
    {
     "data": {
      "text/plain": [
       "{'CHEBI:CHEBI:6872': 'Methylene Blue',\n",
       " 'MESH:D008527': 'Medulloblastoma',\n",
       " 'MESH:D024521': 'Mushroom Bodies',\n",
       " 'MESH:D045423': 'Microbubbles',\n",
       " 'MESH:D008344': 'Maneb',\n",
       " 'MESH:D032446': 'Myoblasts',\n",
       " 'MESH:D006470': 'Hemorrhage',\n",
       " 'MESH:C414357': 'Methyl Blue',\n",
       " 'GO:GO:0042711': 'maternal behavior',\n",
       " 'MESH:D008636': 'Mesencephalon',\n",
       " 'MESH:C005218': 'methyl bromide',\n",
       " 'CHEBI:CHEBI:34849': 'mibolerone',\n",
       " 'CHEBI:CHEBI:7044': 'myoglobin',\n",
       " 'MESH:C033575': 'N-acetylmuramyl-alanylglutamine-n-butyl ester',\n",
       " 'MESH:D008326': 'Mammillary Bodies',\n",
       " 'GO:GO:0030496': 'midbody',\n",
       " 'CHEBI:CHEBI:27560': 'boron atom',\n",
       " 'CHEBI:CHEBI:76503': 'monobutyrin',\n",
       " 'MESH:C491147': 'methanobactin',\n",
       " 'MESH:D009058': 'Mouth Breathing',\n",
       " 'MESH:C543144': 'macranthoside B',\n",
       " 'MESH:C080978': 'mycalolide B',\n",
       " 'GO:GO:0051748': 'UTP-monosaccharide-1-phosphate uridylyltransferase activity',\n",
       " 'CHEBI:CHEBI:69120': 'withaferin A',\n",
       " 'HGNC:6915': 'MB'}"
      ]
     },
     "execution_count": 9,
     "metadata": {},
     "output_type": "execute_result"
    }
   ],
   "source": [
    "names"
   ]
  },
  {
   "cell_type": "code",
   "execution_count": 10,
   "metadata": {},
   "outputs": [
    {
     "name": "stderr",
     "output_type": "stream",
     "text": [
      "INFO: [2020-11-11 18:50:26] indra.ontology.bio.ontology - Loading INDRA bio ontology from cache at /home/ubuntu/.indra/bio_ontology/1.4/bio_ontology.pkl\n",
      "ERROR: [2020-11-11 18:52:58] adeft.gui.ground - Exception on /ground_add [POST]\n",
      "Traceback (most recent call last):\n",
      "  File \"/adeft/.virtualenvs/adeft_env/lib/python3.8/site-packages/flask/app.py\", line 2447, in wsgi_app\n",
      "    response = self.full_dispatch_request()\n",
      "  File \"/adeft/.virtualenvs/adeft_env/lib/python3.8/site-packages/flask/app.py\", line 1952, in full_dispatch_request\n",
      "    rv = self.handle_user_exception(e)\n",
      "  File \"/adeft/.virtualenvs/adeft_env/lib/python3.8/site-packages/flask/app.py\", line 1821, in handle_user_exception\n",
      "    reraise(exc_type, exc_value, tb)\n",
      "  File \"/adeft/.virtualenvs/adeft_env/lib/python3.8/site-packages/flask/_compat.py\", line 39, in reraise\n",
      "    raise value\n",
      "  File \"/adeft/.virtualenvs/adeft_env/lib/python3.8/site-packages/flask/app.py\", line 1950, in full_dispatch_request\n",
      "    rv = self.dispatch_request()\n",
      "  File \"/adeft/.virtualenvs/adeft_env/lib/python3.8/site-packages/flask/app.py\", line 1936, in dispatch_request\n",
      "    return self.view_functions[rule.endpoint](**req.view_args)\n",
      "  File \"/adeft/PP/adeft/adeft/gui/ground/ground.py\", line 64, in add_groundings\n",
      "    name, grounding = determine_grounding_info(namespace, name, identifier)\n",
      "  File \"/adeft/PP/adeft/adeft/gui/ground/ground.py\", line 38, in determine_grounding_info\n",
      "    return name, grounding\n",
      "UnboundLocalError: local variable 'grounding' referenced before assignment\n"
     ]
    }
   ],
   "source": [
    "grounding_map, names, pos_labels = ground_with_gui(longforms, counts, \n",
    "                                                   grounding_map=grounding_map,\n",
    "                                                   names=names, pos_labels=pos_labels, no_browser=True, port=8891)"
   ]
  },
  {
   "cell_type": "code",
   "execution_count": 11,
   "metadata": {},
   "outputs": [],
   "source": [
    "result = [grounding_map, names, pos_labels]"
   ]
  },
  {
   "cell_type": "code",
   "execution_count": 12,
   "metadata": {},
   "outputs": [
    {
     "data": {
      "text/plain": [
       "[{'macconkey broth': 'ungrounded',\n",
       "  'macranthoside b': 'MESH:C543144',\n",
       "  'main branch': 'ungrounded',\n",
       "  'major bleeding': 'ungrounded',\n",
       "  'mammillary body': 'MESH:D008326',\n",
       "  'maneb': 'ungrounded',\n",
       "  'marbles buried': 'ungrounded',\n",
       "  'marginal band': 'ungrounded',\n",
       "  'maternal behavior': 'ungrounded',\n",
       "  'matrix bound': 'ungrounded',\n",
       "  'mb camp': 'ungrounded',\n",
       "  'medulloblastoma': 'NCIT:C3222',\n",
       "  'meldola s blue': 'ungrounded',\n",
       "  'membranes bound': 'ungrounded',\n",
       "  'methanobactin': 'MESH:C491147',\n",
       "  'methyl blue': 'CHEBI:CHEBI:6872',\n",
       "  'methyl bromide': 'MESH:C005218',\n",
       "  'methylene blue': 'CHEBI:CHEBI:6872',\n",
       "  'methylene blue dye': 'CHEBI:CHEBI:6872',\n",
       "  'methylene blue treated': 'CHEBI:CHEBI:6872',\n",
       "  'methylene blue usp': 'CHEBI:CHEBI:6872',\n",
       "  'mhyle blue': 'ungrounded',\n",
       "  'mibolerone': 'ungrounded',\n",
       "  'microbubbles': 'ungrounded',\n",
       "  'midbody': 'ungrounded',\n",
       "  'midbrain': 'ungrounded',\n",
       "  'mini b': 'ungrounded',\n",
       "  'mirror box': 'ungrounded',\n",
       "  'mitochondrial biogenesis': 'ungrounded',\n",
       "  'model based': 'ungrounded',\n",
       "  'moderator band': 'ungrounded',\n",
       "  'molecular beacon': 'ungrounded',\n",
       "  'monobutyrin': 'CHEBI:CHEBI:76503',\n",
       "  'mouth breathing': 'MESH:D009058',\n",
       "  'mulberry extract': 'ungrounded',\n",
       "  'multibacillary': 'ungrounded',\n",
       "  'multiband': 'ungrounded',\n",
       "  'murabutide': 'MESH:C033575',\n",
       "  'musa basjoo nam wa': 'ungrounded',\n",
       "  'mushroom body': 'BTO:BTO:0002675',\n",
       "  'mycalolide b': 'MESH:C080978',\n",
       "  'myoblasts': 'ungrounded',\n",
       "  'myocardial bridge': 'ungrounded',\n",
       "  'myoglobin': 'HGNC:6915',\n",
       "  'méthylène blue': 'CHEBI:CHEBI:6872'},\n",
       " {'MESH:C543144': 'macranthoside B',\n",
       "  'MESH:D008326': 'Mammillary Bodies',\n",
       "  'NCIT:C3222': 'Medulloblastoma',\n",
       "  'MESH:C491147': 'methanobactin',\n",
       "  'CHEBI:CHEBI:6872': 'methylene blue',\n",
       "  'MESH:C005218': 'methyl bromide',\n",
       "  'CHEBI:CHEBI:76503': 'monobutyrin',\n",
       "  'MESH:D009058': 'Mouth Breathing',\n",
       "  'MESH:C033575': 'N-acetylmuramyl-alanylglutamine-n-butyl ester',\n",
       "  'BTO:BTO:0002675': 'mushroom body',\n",
       "  'MESH:C080978': 'mycalolide B',\n",
       "  'HGNC:6915': 'MB'},\n",
       " ['CHEBI:CHEBI:6872', 'HGNC:6915']]"
      ]
     },
     "execution_count": 12,
     "metadata": {},
     "output_type": "execute_result"
    }
   ],
   "source": [
    "result"
   ]
  },
  {
   "cell_type": "code",
   "execution_count": 26,
   "metadata": {},
   "outputs": [],
   "source": [
    "grounding_map, names, pos_labels = [{'macconkey broth': 'ungrounded',\n",
    "  'macranthoside b': 'MESH:C543144',\n",
    "  'main branch': 'ungrounded',\n",
    "  'major bleeding': 'ungrounded',\n",
    "  'mammillary body': 'MESH:D008326',\n",
    "  'maneb': 'ungrounded',\n",
    "  'marbles buried': 'ungrounded',\n",
    "  'marginal band': 'ungrounded',\n",
    "  'maternal behavior': 'ungrounded',\n",
    "  'matrix bound': 'ungrounded',\n",
    "  'mb camp': 'ungrounded',\n",
    "  'medulloblastoma': 'NCIT:C3222',\n",
    "  'meldola s blue': 'ungrounded',\n",
    "  'membranes bound': 'ungrounded',\n",
    "  'methanobactin': 'MESH:C491147',\n",
    "  'methyl blue': 'CHEBI:CHEBI:6872',\n",
    "  'methyl bromide': 'MESH:C005218',\n",
    "  'methylene blue': 'CHEBI:CHEBI:6872',\n",
    "  'methylene blue dye': 'CHEBI:CHEBI:6872',\n",
    "  'methylene blue treated': 'CHEBI:CHEBI:6872',\n",
    "  'methylene blue usp': 'CHEBI:CHEBI:6872',\n",
    "  'mhyle blue': 'ungrounded',\n",
    "  'mibolerone': 'ungrounded',\n",
    "  'microbubbles': 'ungrounded',\n",
    "  'midbody': 'ungrounded',\n",
    "  'midbrain': 'ungrounded',\n",
    "  'mini b': 'ungrounded',\n",
    "  'mirror box': 'ungrounded',\n",
    "  'mitochondrial biogenesis': 'ungrounded',\n",
    "  'model based': 'ungrounded',\n",
    "  'moderator band': 'ungrounded',\n",
    "  'molecular beacon': 'ungrounded',\n",
    "  'monobutyrin': 'CHEBI:CHEBI:76503',\n",
    "  'mouth breathing': 'MESH:D009058',\n",
    "  'mulberry extract': 'ungrounded',\n",
    "  'multibacillary': 'ungrounded',\n",
    "  'multiband': 'ungrounded',\n",
    "  'murabutide': 'MESH:C033575',\n",
    "  'musa basjoo nam wa': 'ungrounded',\n",
    "  'mushroom body': 'BTO:BTO:0002675',\n",
    "  'mycalolide b': 'MESH:C080978',\n",
    "  'myoblasts': 'ungrounded',\n",
    "  'myocardial bridge': 'ungrounded',\n",
    "  'myoglobin': 'HGNC:6915',\n",
    "  'méthylène blue': 'CHEBI:CHEBI:6872'},\n",
    " {'MESH:C543144': 'macranthoside B',\n",
    "  'MESH:D008326': 'Mammillary Bodies',\n",
    "  'NCIT:C3222': 'Medulloblastoma',\n",
    "  'MESH:C491147': 'methanobactin',\n",
    "  'CHEBI:CHEBI:6872': 'methylene blue',\n",
    "  'MESH:C005218': 'methyl bromide',\n",
    "  'CHEBI:CHEBI:76503': 'monobutyrin',\n",
    "  'MESH:D009058': 'Mouth Breathing',\n",
    "  'MESH:C033575': 'N-acetylmuramyl-alanylglutamine-n-butyl ester',\n",
    "  'BTO:BTO:0002675': 'mushroom body',\n",
    "  'MESH:C080978': 'mycalolide B',\n",
    "  'HGNC:6915': 'MB'},\n",
    " ['CHEBI:CHEBI:6872', 'HGNC:6915']]"
   ]
  },
  {
   "cell_type": "code",
   "execution_count": 27,
   "metadata": {},
   "outputs": [],
   "source": [
    "excluded_longforms = ['mb camp']"
   ]
  },
  {
   "cell_type": "code",
   "execution_count": 28,
   "metadata": {},
   "outputs": [],
   "source": [
    "grounding_dict = {shortform: {longform: grounding_map[longform] \n",
    "                              for longform, _, _ in longforms if longform in grounding_map\n",
    "                              and longform not in excluded_longforms}\n",
    "                  for shortform, longforms in longform_dict.items()}\n",
    "result = [grounding_dict, names, pos_labels]\n",
    "\n",
    "if not os.path.exists(results_path):\n",
    "    os.mkdir(results_path)\n",
    "with open(os.path.join(results_path, f'{model_name}_preliminary_grounding_info.json'), 'w') as f:\n",
    "    json.dump(result, f)"
   ]
  },
  {
   "cell_type": "code",
   "execution_count": 29,
   "metadata": {},
   "outputs": [],
   "source": [
    "additional_entities = {'HGNC:6915': ['MB', ['MB']]}"
   ]
  },
  {
   "cell_type": "code",
   "execution_count": 30,
   "metadata": {},
   "outputs": [],
   "source": [
    "unambiguous_agent_texts = {}"
   ]
  },
  {
   "cell_type": "code",
   "execution_count": 31,
   "metadata": {},
   "outputs": [],
   "source": [
    "labeler = AdeftLabeler(grounding_dict)\n",
    "corpus = labeler.build_from_texts((text, pmid) for pmid, text in all_texts.items())\n",
    "agent_text_pmid_map = defaultdict(list)\n",
    "for text, label, id_ in corpus:\n",
    "    agent_text_pmid_map[label].append(id_)\n",
    "\n",
    "entity_pmid_map = {entity: set(get_pmids_for_entity(*entity.split(':', maxsplit=1),\n",
    "                                                major_topic=True))for entity in additional_entities}"
   ]
  },
  {
   "cell_type": "code",
   "execution_count": 32,
   "metadata": {},
   "outputs": [],
   "source": [
    "intersection1 = []\n",
    "for entity1, pmids1 in entity_pmid_map.items():\n",
    "    for entity2, pmids2 in entity_pmid_map.items():\n",
    "        intersection1.append((entity1, entity2, len(pmids1 & pmids2)))"
   ]
  },
  {
   "cell_type": "code",
   "execution_count": 33,
   "metadata": {},
   "outputs": [],
   "source": [
    "intersection2 = []\n",
    "for entity1, pmids1 in agent_text_pmid_map.items():\n",
    "    for entity2, pmids2 in entity_pmid_map.items():\n",
    "        intersection2.append((entity1, entity2, len(set(pmids1) & pmids2)))"
   ]
  },
  {
   "cell_type": "code",
   "execution_count": 34,
   "metadata": {},
   "outputs": [
    {
     "data": {
      "text/plain": [
       "[('HGNC:6915', 'HGNC:6915', 6308)]"
      ]
     },
     "execution_count": 34,
     "metadata": {},
     "output_type": "execute_result"
    }
   ],
   "source": [
    "intersection1"
   ]
  },
  {
   "cell_type": "code",
   "execution_count": 35,
   "metadata": {},
   "outputs": [
    {
     "data": {
      "text/plain": [
       "[('CHEBI:CHEBI:6872', 'HGNC:6915', 0),\n",
       " ('ungrounded', 'HGNC:6915', 0),\n",
       " ('MESH:D008326', 'HGNC:6915', 0),\n",
       " ('MESH:C005218', 'HGNC:6915', 0),\n",
       " ('CHEBI:CHEBI:76503', 'HGNC:6915', 0),\n",
       " ('MESH:C033575', 'HGNC:6915', 0),\n",
       " ('MESH:C080978', 'HGNC:6915', 0),\n",
       " ('BTO:BTO:0002675', 'HGNC:6915', 0),\n",
       " ('NCIT:C3222', 'HGNC:6915', 0),\n",
       " ('MESH:D009058', 'HGNC:6915', 0),\n",
       " ('MESH:C543144', 'HGNC:6915', 0),\n",
       " ('HGNC:6915', 'HGNC:6915', 3),\n",
       " ('MESH:C491147', 'HGNC:6915', 0)]"
      ]
     },
     "execution_count": 35,
     "metadata": {},
     "output_type": "execute_result"
    }
   ],
   "source": [
    "intersection2"
   ]
  },
  {
   "cell_type": "code",
   "execution_count": 36,
   "metadata": {},
   "outputs": [],
   "source": [
    "all_used_pmids = set()\n",
    "for entity, agent_texts in unambiguous_agent_texts.items():\n",
    "    used_pmids = set()\n",
    "    for agent_text in agent_texts[1]:\n",
    "        pmids = set(get_pmids_for_agent_text(agent_text))\n",
    "        new_pmids = list(pmids - all_texts.keys() - used_pmids)\n",
    "        text_dict = get_plaintexts_for_pmids(new_pmids, contains=agent_texts)\n",
    "        corpus.extend([(text, entity, pmid) for pmid, text in text_dict.items() if len(text) >= 5])\n",
    "        used_pmids.update(new_pmids)\n",
    "    all_used_pmids.update(used_pmids)\n",
    "        \n",
    "for entity, pmids in entity_pmid_map.items():\n",
    "    new_pmids = list(set(pmids) - all_texts.keys() - all_used_pmids)\n",
    "    if len(new_pmids) > 10000:\n",
    "        new_pmids = random.choices(new_pmids, k=10000)\n",
    "    _, contains = additional_entities[entity]\n",
    "    text_dict = get_plaintexts_for_pmids(new_pmids, contains=contains)\n",
    "    corpus.extend([(text, entity, pmid) for pmid, text in text_dict.items() if len(text) >= 5])"
   ]
  },
  {
   "cell_type": "code",
   "execution_count": 37,
   "metadata": {},
   "outputs": [],
   "source": [
    "names.update({key: value[0] for key, value in additional_entities.items()})\n",
    "names.update({key: value[0] for key, value in unambiguous_agent_texts.items()})\n",
    "pos_labels = list(set(pos_labels) | additional_entities.keys() |\n",
    "                  unambiguous_agent_texts.keys())"
   ]
  },
  {
   "cell_type": "code",
   "execution_count": 38,
   "metadata": {},
   "outputs": [
    {
     "name": "stderr",
     "output_type": "stream",
     "text": [
      "INFO: [2020-11-11 18:58:27] /adeft/PP/adeft/adeft/modeling/classify.py - Beginning grid search in parameter space:\n",
      "{'C': [100.0], 'max_features': [10000]}\n",
      "INFO: [2020-11-11 18:59:04] /adeft/PP/adeft/adeft/modeling/classify.py - Best f1 score of 0.9417929490871891 found for parameter values:\n",
      "{'logit__C': 100.0, 'tfidf__max_features': 10000}\n"
     ]
    }
   ],
   "source": [
    "%%capture\n",
    "\n",
    "classifier = AdeftClassifier(shortforms, pos_labels=pos_labels, random_state=1729)\n",
    "param_grid = {'C': [100.0], 'max_features': [10000]}\n",
    "texts, labels, pmids = zip(*corpus)\n",
    "classifier.cv(texts, labels, param_grid, cv=5, n_jobs=5)"
   ]
  },
  {
   "cell_type": "code",
   "execution_count": 39,
   "metadata": {
    "scrolled": true
   },
   "outputs": [
    {
     "data": {
      "text/plain": [
       "{'label_distribution': {'CHEBI:CHEBI:6872': 686,\n",
       "  'ungrounded': 294,\n",
       "  'MESH:D008326': 5,\n",
       "  'MESH:C005218': 7,\n",
       "  'CHEBI:CHEBI:76503': 4,\n",
       "  'MESH:C033575': 4,\n",
       "  'MESH:C080978': 3,\n",
       "  'BTO:BTO:0002675': 106,\n",
       "  'NCIT:C3222': 268,\n",
       "  'MESH:D009058': 2,\n",
       "  'MESH:C543144': 4,\n",
       "  'HGNC:6915': 259,\n",
       "  'MESH:C491147': 5},\n",
       " 'f1': {'mean': 0.941793, 'std': 0.018816},\n",
       " 'precision': {'mean': 0.927636, 'std': 0.021701},\n",
       " 'recall': {'mean': 0.958702, 'std': 0.015569},\n",
       " 'CHEBI:CHEBI:6872': {'f1': {'mean': 0.932755, 'std': 0.021776},\n",
       "  'pr': {'mean': 0.967915, 'std': 0.016407},\n",
       "  'rc': {'mean': 0.900339, 'std': 0.0298}},\n",
       " 'MESH:C491147': {'f1': {'mean': 0.4, 'std': 0.489898},\n",
       "  'pr': {'mean': 0.4, 'std': 0.489898},\n",
       "  'rc': {'mean': 0.4, 'std': 0.489898}},\n",
       " 'ungrounded': {'f1': {'mean': 0.859318, 'std': 0.02386},\n",
       "  'pr': {'mean': 0.823203, 'std': 0.039229},\n",
       "  'rc': {'mean': 0.899861, 'std': 0.017131}},\n",
       " 'MESH:C005218': {'f1': {'mean': 0.6, 'std': 0.489898},\n",
       "  'pr': {'mean': 0.6, 'std': 0.489898},\n",
       "  'rc': {'mean': 0.6, 'std': 0.489898}},\n",
       " 'MESH:D009058': {'f1': {'mean': 0.0, 'std': 0.0},\n",
       "  'pr': {'mean': 0.0, 'std': 0.0},\n",
       "  'rc': {'mean': 0.0, 'std': 0.0}},\n",
       " 'MESH:D008326': {'f1': {'mean': 0.2, 'std': 0.4},\n",
       "  'pr': {'mean': 0.2, 'std': 0.4},\n",
       "  'rc': {'mean': 0.2, 'std': 0.4}},\n",
       " 'CHEBI:CHEBI:76503': {'f1': {'mean': 0.0, 'std': 0.0},\n",
       "  'pr': {'mean': 0.0, 'std': 0.0},\n",
       "  'rc': {'mean': 0.0, 'std': 0.0}},\n",
       " 'HGNC:6915': {'f1': {'mean': 0.965812, 'std': 0.016728},\n",
       "  'pr': {'mean': 0.934389, 'std': 0.031194},\n",
       "  'rc': {'mean': 1.0, 'std': 0.0}},\n",
       " 'BTO:BTO:0002675': {'f1': {'mean': 0.981395, 'std': 0.027121},\n",
       "  'pr': {'mean': 0.990476, 'std': 0.019048},\n",
       "  'rc': {'mean': 0.972727, 'std': 0.036364}},\n",
       " 'NCIT:C3222': {'f1': {'mean': 0.960404, 'std': 0.022452},\n",
       "  'pr': {'mean': 0.985045, 'std': 0.013896},\n",
       "  'rc': {'mean': 0.93806, 'std': 0.041905}},\n",
       " 'MESH:C543144': {'f1': {'mean': 0.0, 'std': 0.0},\n",
       "  'pr': {'mean': 0.0, 'std': 0.0},\n",
       "  'rc': {'mean': 0.0, 'std': 0.0}},\n",
       " 'MESH:C080978': {'f1': {'mean': 0.0, 'std': 0.0},\n",
       "  'pr': {'mean': 0.0, 'std': 0.0},\n",
       "  'rc': {'mean': 0.0, 'std': 0.0}},\n",
       " 'MESH:C033575': {'f1': {'mean': 0.2, 'std': 0.4},\n",
       "  'pr': {'mean': 0.2, 'std': 0.4},\n",
       "  'rc': {'mean': 0.2, 'std': 0.4}}}"
      ]
     },
     "execution_count": 39,
     "metadata": {},
     "output_type": "execute_result"
    }
   ],
   "source": [
    "classifier.stats"
   ]
  },
  {
   "cell_type": "code",
   "execution_count": 40,
   "metadata": {},
   "outputs": [],
   "source": [
    "disamb = AdeftDisambiguator(classifier, grounding_dict, names)"
   ]
  },
  {
   "cell_type": "code",
   "execution_count": 41,
   "metadata": {},
   "outputs": [],
   "source": [
    "disamb.dump(model_name, results_path)"
   ]
  },
  {
   "cell_type": "code",
   "execution_count": 42,
   "metadata": {},
   "outputs": [
    {
     "name": "stdout",
     "output_type": "stream",
     "text": [
      "Disambiguation model for MB\n",
      "\n",
      "Produces the disambiguations:\n",
      "\tMB*\tHGNC:6915\n",
      "\tMammillary Bodies\tMESH:D008326\n",
      "\tMedulloblastoma\tNCIT:C3222\n",
      "\tMouth Breathing\tMESH:D009058\n",
      "\tN-acetylmuramyl-alanylglutamine-n-butyl ester\tMESH:C033575\n",
      "\tmacranthoside B\tMESH:C543144\n",
      "\tmethanobactin\tMESH:C491147\n",
      "\tmethyl bromide\tMESH:C005218\n",
      "\tmethylene blue*\tCHEBI:CHEBI:6872\n",
      "\tmonobutyrin\tCHEBI:CHEBI:76503\n",
      "\tmushroom body\tBTO:BTO:0002675\n",
      "\tmycalolide B\tMESH:C080978\n",
      "\n",
      "Class level metrics:\n",
      "--------------------\n",
      "Grounding                                    \tCount\tF1     \n",
      "                               methylene blue*\t686\t0.93276\n",
      "                                   Ungrounded\t294\t0.85932\n",
      "                              Medulloblastoma\t268\t 0.9604\n",
      "                                           MB*\t259\t0.96581\n",
      "                                mushroom body\t106\t 0.9814\n",
      "                               methyl bromide\t  7\t    0.6\n",
      "                            Mammillary Bodies\t  5\t    0.2\n",
      "                                methanobactin\t  5\t    0.4\n",
      "                                  monobutyrin\t  4\t    0.0\n",
      "N-acetylmuramyl-alanylglutamine-n-butyl ester\t  4\t    0.2\n",
      "                              macranthoside B\t  4\t    0.0\n",
      "                                 mycalolide B\t  3\t    0.0\n",
      "                              Mouth Breathing\t  2\t    0.0\n",
      "\n",
      "Weighted Metrics:\n",
      "-----------------\n",
      "\tF1 score:\t0.94179\n",
      "\tPrecision:\t0.92764\n",
      "\tRecall:\t\t0.9587\n",
      "\n",
      "* Positive labels\n",
      "See Docstring for explanation\n",
      "\n"
     ]
    }
   ],
   "source": [
    "print(disamb.info())"
   ]
  },
  {
   "cell_type": "code",
   "execution_count": 43,
   "metadata": {},
   "outputs": [],
   "source": [
    "model_to_s3(disamb)"
   ]
  },
  {
   "cell_type": "code",
   "execution_count": 30,
   "metadata": {},
   "outputs": [],
   "source": [
    "preds = [disamb.disambiguate(text) for text in all_texts.values()]"
   ]
  },
  {
   "cell_type": "code",
   "execution_count": 31,
   "metadata": {},
   "outputs": [],
   "source": [
    "texts = [text for pred, text in zip(preds, all_texts.values()) if pred[0] == 'HGNC:10967']"
   ]
  },
  {
   "cell_type": "code",
   "execution_count": 36,
   "metadata": {},
   "outputs": [
    {
     "data": {
      "text/plain": [
       "'The non-neuronal monoamine transporters (OCT1, OCT2, EMT, and PMAT) play a key role in the clearance of monoamines from extracellular compartments. In a previous report we described endometrial distribution and cyclic variation of the vesicular monoamine transporter (VMAT2) mRNA and the neuronal norepinephrine transporter (NET) mRNA. In the present study we used in situ hybridization, real-time PCR and immunohistochemistry to reveal tissue distribution and cyclic variation of mRNA for the non-neuronal monoamine transporters in the human endometrium and early pregnancy decidua. We found that non-neuronal monoamine transporters are predominantly expressed in the stroma. The plasma membrane monoamine transporter (PMAT) mRNA expression peaked in the proliferative phase, whereas the extra-neuronal monoamine transporter (EMT) mRNA expression peaked in the secretory phase. The organic cation transporter 2 (OCT2) mRNA expression was exclusively detected in few scattered stromal cells and OCT1 mRNA was not detected at all. Our present results demonstrate that PMAT, EMT, and OCT2 transporters are expressed in the endometrial stroma and can potentially regulate reuptake of monoamines in general and histamine in particular. Taken together with our previous finding of VMAT2 mRNA in epithelial cells, we suggest a paracrine interaction between stromal and epithelial cells, which may modulate certain steps of the reproductive process.\\n'"
      ]
     },
     "execution_count": 36,
     "metadata": {},
     "output_type": "execute_result"
    }
   ],
   "source": [
    "texts[3]"
   ]
  },
  {
   "cell_type": "code",
   "execution_count": null,
   "metadata": {},
   "outputs": [],
   "source": []
  }
 ],
 "metadata": {
  "kernelspec": {
   "display_name": "Python 3",
   "language": "python",
   "name": "python3"
  },
  "language_info": {
   "codemirror_mode": {
    "name": "ipython",
    "version": 3
   },
   "file_extension": ".py",
   "mimetype": "text/x-python",
   "name": "python",
   "nbconvert_exporter": "python",
   "pygments_lexer": "ipython3",
   "version": "3.8.4"
  }
 },
 "nbformat": 4,
 "nbformat_minor": 2
}
