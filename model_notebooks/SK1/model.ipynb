{
 "cells": [
  {
   "cell_type": "code",
   "execution_count": 12,
   "metadata": {},
   "outputs": [],
   "source": [
    "import json\n",
    "import pickle\n",
    "\n",
    "from indra.databases.hgnc_client import get_hgnc_name\n",
    "from indra.literature.adeft_tools import universal_extract_text\n",
    "\n",
    "from indra_db.util.content_scripts import get_text_content_from_pmids\n",
    "from indra_db.util.content_scripts import get_stmts_with_agent_text_like\n",
    "from indra_db.util.content_scripts import get_text_content_from_stmt_ids\n",
    "\n",
    "from adeft.discover import AdeftMiner\n",
    "from adeft.gui import ground_with_gui\n",
    "from adeft.modeling.label import AdeftLabeler\n",
    "from adeft.modeling.classify import AdeftClassifier\n",
    "from adeft.disambiguate import AdeftDisambiguator\n",
    "\n",
    "from adeft_indra.ground import gilda_ground"
   ]
  },
  {
   "cell_type": "code",
   "execution_count": 13,
   "metadata": {},
   "outputs": [],
   "source": [
    "shortform = 'IK1'"
   ]
  },
  {
   "cell_type": "code",
   "execution_count": 14,
   "metadata": {},
   "outputs": [],
   "source": [
    "stmts = get_stmts_with_agent_text_like(shortform)[shortform]\n",
    "\n",
    "ids, content = get_text_content_from_stmt_ids(stmts)\n",
    "\n",
    "shortform_texts = [universal_extract_text(text, contains=[shortform]) for text in content.values() if text]\n",
    "\n",
    "miner = AdeftMiner(shortform)\n",
    "miner.process_texts(shortform_texts)"
   ]
  },
  {
   "cell_type": "markdown",
   "metadata": {},
   "source": [
    "It's then necessary to check if Acromine produced the correct results. We must fix errors manually"
   ]
  },
  {
   "cell_type": "code",
   "execution_count": 17,
   "metadata": {},
   "outputs": [
    {
     "data": {
      "text/plain": [
       "'Myocardial infarction (MI) results in an increased susceptibility to ventricular arrhythmias, due in part to decreased inward-rectifier K+ current (IK1), which is mediated primarily by the Kir2.1 protein. The use of renin-angiotensin-aldosterone system antagonists is associated with a reduced incidence of ventricular arrhythmias. Casein kinase 2 (CK2) binds and phosphorylates SP1, a transcription factor of KCNJ2 that encodes Kir2.1. Whether valsartan represses CK2 activation to ameliorate IK1 remodeling following MI remains unclear.\\nCK2 expression was higher at the infarct border; and was accompanied by a depressed  IK1/Kir2.1  protein level. Additionally, CK2 overexpression suppressed  KCNJ2/Kir2.1  expression .  By contrast, CK2 inhibition enhanced  KCNJ2/Kir2.1  expression, establishing that CK2 regulates  KCNJ2  expression. Among the rats suffering from MI, valsartan reduced CK2 expression and increased Kir2.1 expression compared with the rats that received saline treatment. In vitro, hypoxia increased CK2 expression and valsartan inhibited CK2 expression. The over-expression of CK2 in cells treated with valsartan abrogated its beneficial effect on KCNJ2/Kir2.1.\\nAT1 receptor antagonist valsartan reduces CK2 activation, increases Kir2.1 expression and thereby ameliorates IK1 remodeling after MI in the rat model.\\nVentricular arrhythmias following myocardial infarction (MI) remain a major cause of mortality [ 1 ]. Numerous studies have confirmed that decreased inward-rectifier K+ current (IK1), along with the decreased expression of KCNJ2 mRNA and its encoded Kir2.1 protein, is a prominent feature of ventricular electrical remodeling following MI [ 2 – 4 ]. IK1 is the primary K+ current that maintains resting membrane potential, controls cardiac excitability and modulates both late-phase repolarization and action potential duration (APD) in cardiac cells. Furthermore, IK1 plays an important role in cardiac excitability and arrhythmogenesis and is a promising target for new antiarrhythmic approaches [ 5 ].\\nThe mechanism underlying IK1 dysregulation following MI primarily involves intracellular signaling pathways. However, the gene regulation of these pathways is poorly understood. Recent studies have discovered that CK2 is associated with several diseases, such as cardiac hypertrophy [ 6 ], and is also involved in ion channel regulation [ 7 ,  8 ]. Additionally, several studies have demonstrated that CK2 binds to and induces the phosphorylation of transcription factor SP1 serine, resulting in the suppression of gene expression [ 9 ,  10 ]. SP1 is also an important transcription factor for KCNJ2 [ 11 ]. Therefore, we hypothesized that CK2 regulates KCNJ2/Kir2.1/IK1 expression via CK2.\\nPatch-clamp techniques were applied to cultured neonatal rat ventricular myocytes transfected with miRNA or AMOs or negative control constructs. The pipettes used for the patch electrodes had tip resistances of 2 to 3 MΩ when filled with pipette solution. The cells were placed in a 1\\xa0ml chamber mounted on an inverted microscope (DMI3000 B; LEICA) and perfused with Tyrode’s solution. Whole-cell recording was performed using a patch EPC10 single amplifier (HEKA Instruments). The signals were filtered at 1\\xa0kHz, and the data were acquired via A/D conversion (LIH1600; HEKA Instruments). The ion currents were recorded in the whole-cell voltage-clamp mode. For the recordings of  IK1,  the pipette solution contained 130\\xa0mM KCl, 0.4\\xa0mM Na-GTP, 3\\xa0mM\\xa0Mg-ATP, 0.5\\xa0mM EGTA, and 25\\xa0mM HEPES (pH\\xa07.2 with KOH); the external Tyrode’s solution contained 135\\xa0mM NaCl, 4\\xa0mM KCl, 1.8\\xa0mM CaCl2, 1\\xa0mM MgCl2, 2\\xa0mM HEPES, and 11\\xa0mM dextrose (pH\\xa07.4 with NaOH). CoCl 2  (0.1\\xa0μM) and tetrodotoxin (10\\xa0μM) were both included to inhibit  IcaL  and  INa,  respectively .  The experiments were conducted at room temperature. Series resistance and capacitance were compensated, and leak currents were subtracted. Cells with considerable leak currents were removed from the analysis. The data were collected using an IBM-compatible computer and analyzed using PatchMaster.\\nAdding CK2 inhibitor TBB after the transfection of CK2 into either H9c2 cells or rat primary ventricular cells produced a marked inhibition of CK2 activity (Fig.\\xa0 3a ). Kir2.1 protein expression is significantly downregulated compared with the sham-treated control cells after the transfection of CK2 . And this repression was efficiently rescued by suppressing CK2 activity with TBB (100 μM) (Fig.\\xa0 3a ).  KCNJ2  mRNA expression was also decreased by CK2 (Fig.\\xa0 3a ). We subsequently verified the effects of CK2 at the functional level.  IK1  was determined in neonatal rat ventricular cells using whole-cell patch-clamp techniques. The cells transfected with CK2 had a lower  IK1  density than the control cells, and the difference was eliminated by adding TBB or valsartan (Fig.\\xa0 3b ). The regulation of the  KCNJ2  gene by CK2 was confirmed via an EMSA, which indicated that CK2 phosphorylates Sp1 to suppress KCNJ2 expression, and the CK2 inhibitor, TBB, eliminates this effect (Fig.\\xa0 3c ). Fig. 3 The regulation of Kir2.1 expression by CK2.  a  A qPCR analysis and a Western blot analysis demonstrating the CK2 level after transfection ( n \\u2009=\\u200910) and inhibition by TBB ( n \\u2009=\\u200910) and the effects of CK2 ( n \\u2009=\\u200910) and its inhibition (TBB;  n \\u2009=\\u200910) on Kir2.1 protein expression in H9c2 rat ventricular cells. * P \\u2009<\\u20090.05 vs. control;  † \\n P \\u2009<\\u20090.05 vs. CK2 alone.  b  IK1 density in cultured neonatal rat ventricular cardiomyocytes. IK1 was elicited by 200-ms pulses at the indicated voltages. * P \\u2009<\\u20090.05 vs. control;  n \\u2009=\\u200910/group.  c  Autoradiograms and the EMSA quantification of Sp1 DNA-binding activity in H9c2 rat ventricular cells. The data are the fold values of DNA-binding activity in the CK2 + TBB group compared with the CK2 group. * P \\u2009<\\u20090.05 vs. control;  † \\n P \\u2009<\\u20090.05 vs. CK2 alone;  n \\u2009=\\u200910/group. Values are means\\u2009±\\u2009SDs\\nThe regulation of Kir2.1 expression by CK2.  a  A qPCR analysis and a Western blot analysis demonstrating the CK2 level after transfection ( n \\u2009=\\u200910) and inhibition by TBB ( n \\u2009=\\u200910) and the effects of CK2 ( n \\u2009=\\u200910) and its inhibition (TBB;  n \\u2009=\\u200910) on Kir2.1 protein expression in H9c2 rat ventricular cells. * P \\u2009<\\u20090.05 vs. control;  † \\n P \\u2009<\\u20090.05 vs. CK2 alone.  b  IK1 density in cultured neonatal rat ventricular cardiomyocytes. IK1 was elicited by 200-ms pulses at the indicated voltages. * P \\u2009<\\u20090.05 vs. control;  n \\u2009=\\u200910/group.  c  Autoradiograms and the EMSA quantification of Sp1 DNA-binding activity in H9c2 rat ventricular cells. The data are the fold values of DNA-binding activity in the CK2 + TBB group compared with the CK2 group. * P \\u2009<\\u20090.05 vs. control;  † \\n P \\u2009<\\u20090.05 vs. CK2 alone;  n \\u2009=\\u200910/group. Values are means\\u2009±\\u2009SDs\\nTaken together, our results indicate that CK2 is a potentially important regulator of  KCNJ2  gene expression and an important determinant of cardiac electronic instability following MI, via  IK1 . Additionally, our findings indicate that CK2 is a potential mediator of the electrophysiological effects of valsartan and provide a basis for the improvement of  IK1  remolding facilitated by valsartan. Therefore, our study has revealed what we believe to be a novel molecular control mechanism of ion channel remodeling following MI.\\nCardiac  IK1  current is a strong inward rectifying K +  selective current and plays an important role in shaping normal cellular action potentials [ 30 ]. Cardiac  IK1  stabilizes the cellular resting membrane potential and is responsible for shaping both the initial depolarization and the final repolarization of the action potential [ 31 ,  32 ]. Studies indicate that  IK1  plays a role in ventricular arrhythmias, as illustrated by the recently described Andersen’s syndrome and studies utilizing guinea pig heart models of ventricular fibrillation [ 33 ]. Most of the research regarding the potential role of CK2 in cardiac pathophysiology has been focused on cardiac hypertrophy but has rarely focused on ion channel remodeling. Our findings indicate that CK2 regulates this important K+ channel under specific disease conditions. Further studies regarding the CK2-mediated dysregulation of  IK1  in other pathological contexts may be of interest.\\nCK2 (formerly casein kinase II or CKII) is a ubiquitous protein Ser/Thr kinase with a heterotetrameric structure consisting of two catalytic subunits (42\\xa0kDa α and 38\\xa0kDa α′) and two regulatory subunits (28\\xa0kDa β). CK2 phosphorylates a large number of substrates with various functions related to cell growth and proliferation. However, its electrophysiological effects have seldom been explored. In this study, we firstly investigated CK2 and Kir2.1 mRNA and protein levels in infarcted border and noninfarcted LVFW (left ventricular free wall) seperately to eliminate the different effects of cell necrosis and myocardial remodeling degrees on the levels of mRNA and protein expression. We found that CK2 was activated in vivo following MI and in vitro after the cells were induced to be hypoxia, which resulted in decreased Sp1 DNA binding activity. As a result, the expression of KCNJ2, the flow gene of SP1, was downregulated, as was the expression of Kir2.1 and IK1 current. This effect was repressed by the highly selective cell permeable CK2 inhibitor, TBB, and valsartan. TBB blocks in vitro CK2 activation under hypoxia condition. But as shown in Fig.\\xa0 5 , TBB has little effect on endogenous CK2 in non-hypoxia cells. Valsartan presents a similar effect on CK2 regulation. Without active CK2, both TBB and valsartan have a weak effect on Kir2.1 protein expression. This indicates that CK2 is the main factor mediating the regulation of valsartan on Kir2.1 during the healing phase after AMI.\\nIn conclusion, we have discovered that CK2 regulates the  KCNJ2  gene and its encoded channel,  IK1 . Moreover, valsartan regulates CK2 to improve cardiac ion channel remodeling following MI. But this regulation path still remains to be shown using genetic models. Besides, the improvement of valsartan to  IK1  remodeling may contribute to reduced susceptibility to ventricular arrhythmias during the healing phase of MI and this hypothesis needs to be further demonstrated in vivo. These are two major limitations of our experiment. These findings have provided us with new insights into the molecular mechanisms underlying the cardiac electrical instability that occurs following MI and may represent a treatment strategy for other conditions in which  IK1  is dysregulated.\\n'"
      ]
     },
     "execution_count": 17,
     "metadata": {},
     "output_type": "execute_result"
    }
   ],
   "source": [
    "shortform_texts[0]"
   ]
  },
  {
   "cell_type": "code",
   "execution_count": 15,
   "metadata": {},
   "outputs": [],
   "source": [
    "top = miner.top(15)"
   ]
  },
  {
   "cell_type": "code",
   "execution_count": 16,
   "metadata": {},
   "outputs": [
    {
     "data": {
      "text/plain": [
       "[('current', 19.5625),\n",
       " ('inward rectifier k + current', 14.470588235294118),\n",
       " ('channel', 4.8),\n",
       " ('intermediate conductance', 4.0),\n",
       " ('inward rectifier potassium current', 4.0),\n",
       " ('k + channel', 3.6666666666666665),\n",
       " ('inward rectifier', 2.5),\n",
       " ('k ca 3 1', 2.5),\n",
       " ('the inward rectifier k + current', 2.5),\n",
       " ('the inward rectifier potassium current', 2.0),\n",
       " ('decreased inward rectifier k + current', 2.0),\n",
       " ('intermediate conductance ca 2 + activated k + channel', 2.0),\n",
       " ('rectifier k + current', 1.8888888888888893),\n",
       " ('potassium current', 1.75),\n",
       " ('potassium channel', 1.5)]"
      ]
     },
     "execution_count": 16,
     "metadata": {},
     "output_type": "execute_result"
    }
   ],
   "source": [
    "top"
   ]
  },
  {
   "cell_type": "code",
   "execution_count": 203,
   "metadata": {},
   "outputs": [],
   "source": [
    "longforms = miner.get_longforms(cutoff=2.9)"
   ]
  },
  {
   "cell_type": "code",
   "execution_count": 204,
   "metadata": {},
   "outputs": [
    {
     "data": {
      "text/plain": [
       "[('dose', 46.06060606060606),\n",
       " ('multiple epiphyseal dysplasia', 46.048780487804876),\n",
       " ('mediterranean', 11.2),\n",
       " ('mycoepoxydiene', 11.0),\n",
       " ('medetomidine', 10.5),\n",
       " ('mediator', 10.0),\n",
       " ('metathesis electrodialysis', 6.166666666666667),\n",
       " ('microendoscopic discectomy', 5.0),\n",
       " ('diet', 4.25),\n",
       " ('medical', 3.2),\n",
       " ('b tabaci', 3.0)]"
      ]
     },
     "execution_count": 204,
     "metadata": {},
     "output_type": "execute_result"
    }
   ],
   "source": [
    "longforms"
   ]
  },
  {
   "cell_type": "code",
   "execution_count": 205,
   "metadata": {},
   "outputs": [],
   "source": [
    "longforms = [lf for i, lf in enumerate(longforms) if i in [1, 2, 3, 4, 5, 6, 7]]\n",
    "longforms.extend([top[3], top[7], top[11]])\n",
    "longforms.sort(key=lambda x: -x[1])"
   ]
  },
  {
   "cell_type": "code",
   "execution_count": 206,
   "metadata": {},
   "outputs": [
    {
     "data": {
      "text/plain": [
       "[('multiple epiphyseal dysplasia', 46.048780487804876),\n",
       " ('minimal erythema dose', 14.999999999999996),\n",
       " ('mediterranean', 11.2),\n",
       " ('mycoepoxydiene', 11.0),\n",
       " ('morphine equivalent dose', 10.666666666666666),\n",
       " ('medetomidine', 10.5),\n",
       " ('mediator', 10.0),\n",
       " ('minimal effective dose', 8.0),\n",
       " ('metathesis electrodialysis', 6.166666666666667),\n",
       " ('microendoscopic discectomy', 5.0)]"
      ]
     },
     "execution_count": 206,
     "metadata": {},
     "output_type": "execute_result"
    }
   ],
   "source": [
    "longforms"
   ]
  },
  {
   "cell_type": "code",
   "execution_count": 207,
   "metadata": {},
   "outputs": [],
   "source": [
    "longforms, scores = zip(*longforms)"
   ]
  },
  {
   "cell_type": "code",
   "execution_count": 208,
   "metadata": {},
   "outputs": [],
   "source": [
    "grounding_map = {}\n",
    "for longform in longforms:\n",
    "    grounding = gilda_ground(longform)\n",
    "    if grounding[0]:\n",
    "        grounding_map[longform] = f'{grounding[0]}:{grounding[1]}'"
   ]
  },
  {
   "cell_type": "code",
   "execution_count": 209,
   "metadata": {},
   "outputs": [
    {
     "data": {
      "text/plain": [
       "{'medetomidine': 'CHEBI:CHEBI:48552'}"
      ]
     },
     "execution_count": 209,
     "metadata": {},
     "output_type": "execute_result"
    }
   ],
   "source": [
    "grounding_map"
   ]
  },
  {
   "cell_type": "code",
   "execution_count": 210,
   "metadata": {},
   "outputs": [],
   "source": [
    "result = ground_with_gui(longforms, scores, grounding_map=grounding_map)"
   ]
  },
  {
   "cell_type": "code",
   "execution_count": 211,
   "metadata": {},
   "outputs": [
    {
     "data": {
      "text/plain": [
       "({'medetomidine': 'CHEBI:CHEBI:48552',\n",
       "  'mediator': 'ungrounded',\n",
       "  'mediterranean': 'ungrounded',\n",
       "  'metathesis electrodialysis': 'ungrounded',\n",
       "  'microendoscopic discectomy': 'ungrounded',\n",
       "  'minimal effective dose': 'ungrounded',\n",
       "  'minimal erythema dose': 'ungrounded',\n",
       "  'morphine equivalent dose': 'ungrounded',\n",
       "  'multiple epiphyseal dysplasia': 'MESH:D010009',\n",
       "  'mycoepoxydiene': 'PUBCHEM:11300750'},\n",
       " {'MESH:D010009': 'Osteochondrodysplasias',\n",
       "  'PUBCHEM:11300750': 'Mycoepoxydiene'},\n",
       " ['CHEBI:CHEBI:48552', 'PUBCHEM:11300750'])"
      ]
     },
     "execution_count": 211,
     "metadata": {},
     "output_type": "execute_result"
    }
   ],
   "source": [
    "result"
   ]
  },
  {
   "cell_type": "code",
   "execution_count": 212,
   "metadata": {},
   "outputs": [],
   "source": [
    "grounding_map, names, pos_labels = ({'medetomidine': 'CHEBI:CHEBI:48552',\n",
    "                                     'mediator': 'ungrounded',\n",
    "                                     'mediterranean': 'ungrounded',\n",
    "                                     'metathesis electrodialysis': 'ungrounded',\n",
    "                                     'microendoscopic discectomy': 'ungrounded',\n",
    "                                     'minimal effective dose': 'ungrounded',\n",
    "                                     'minimal erythema dose': 'ungrounded',\n",
    "                                     'morphine equivalent dose': 'ungrounded',\n",
    "                                     'multiple epiphyseal dysplasia': 'MESH:D010009',\n",
    "                                     'mycoepoxydiene': 'PUBCHEM:11300750'},\n",
    "                                     {'MESH:D010009': 'Osteochondrodysplasias',\n",
    "                                      'PUBCHEM:11300750': 'Mycoepoxydiene'},\n",
    "                                     ['CHEBI:CHEBI:48552', 'PUBCHEM:11300750'])"
   ]
  },
  {
   "cell_type": "code",
   "execution_count": 213,
   "metadata": {},
   "outputs": [],
   "source": [
    "grounding_dict = {'MED': grounding_map}"
   ]
  },
  {
   "cell_type": "code",
   "execution_count": 219,
   "metadata": {},
   "outputs": [],
   "source": [
    "classifier = AdeftClassifier('MED', pos_labels)"
   ]
  },
  {
   "cell_type": "code",
   "execution_count": 220,
   "metadata": {},
   "outputs": [
    {
     "data": {
      "text/plain": [
       "43"
      ]
     },
     "execution_count": 220,
     "metadata": {},
     "output_type": "execute_result"
    }
   ],
   "source": [
    "len(texts)"
   ]
  },
  {
   "cell_type": "code",
   "execution_count": 228,
   "metadata": {},
   "outputs": [],
   "source": [
    "param_grid = {'C': [100.0], 'max_features': [1000]}"
   ]
  },
  {
   "cell_type": "code",
   "execution_count": 229,
   "metadata": {},
   "outputs": [],
   "source": [
    "labeler = AdeftLabeler(grounding_dict)"
   ]
  },
  {
   "cell_type": "code",
   "execution_count": 230,
   "metadata": {},
   "outputs": [],
   "source": [
    "corpus = labeler.build_from_texts(shortform_texts)"
   ]
  },
  {
   "cell_type": "code",
   "execution_count": 231,
   "metadata": {},
   "outputs": [],
   "source": [
    "texts, labels = zip(*corpus)"
   ]
  },
  {
   "cell_type": "code",
   "execution_count": 232,
   "metadata": {},
   "outputs": [
    {
     "name": "stderr",
     "output_type": "stream",
     "text": [
      "INFO: [2019-12-17 10:25:47] /Users/albertsteppi/adeft/adeft/modeling/classify.py - Beginning grid search in parameter space:\n",
      "{'C': [100.0], 'max_features': [1000]}\n",
      "INFO: [2019-12-17 10:25:48] /Users/albertsteppi/adeft/adeft/modeling/classify.py - Best f1 score of 0.6633333333333333 found for parameter values:\n",
      "{'logit__C': 100.0, 'tfidf__max_features': 1000}\n"
     ]
    }
   ],
   "source": [
    "classifier.cv(texts, labels, param_grid, cv=5, n_jobs=8)"
   ]
  },
  {
   "cell_type": "code",
   "execution_count": 234,
   "metadata": {},
   "outputs": [
    {
     "data": {
      "text/plain": [
       "{'label_distribution': {'ungrounded': 57,\n",
       "  'CHEBI:CHEBI:48552': 11,\n",
       "  'MESH:D010009': 35,\n",
       "  'PUBCHEM:11300750': 10},\n",
       " 'f1': {'mean': 0.6633333333333333, 'std': 0.1796292478040997},\n",
       " 'precision': {'mean': 0.73, 'std': 0.24819347291981714},\n",
       " 'recall': {'mean': 0.63, 'std': 0.15033296378372907}}"
      ]
     },
     "execution_count": 234,
     "metadata": {},
     "output_type": "execute_result"
    }
   ],
   "source": [
    "classifier.stats"
   ]
  },
  {
   "cell_type": "code",
   "execution_count": 235,
   "metadata": {},
   "outputs": [],
   "source": [
    "disamb = AdeftDisambiguator(classifier, grounding_dict, names)"
   ]
  },
  {
   "cell_type": "code",
   "execution_count": 236,
   "metadata": {},
   "outputs": [
    {
     "data": {
      "text/plain": [
       "('MESH:D010009',\n",
       " 'Osteochondrodysplasias',\n",
       " {'CHEBI:CHEBI:48552': 0.0004532352177294433,\n",
       "  'MESH:D010009': 0.9990150835227889,\n",
       "  'PUBCHEM:11300750': 0.00030488616098269574,\n",
       "  'ungrounded': 0.00022679509849898903})"
      ]
     },
     "execution_count": 236,
     "metadata": {},
     "output_type": "execute_result"
    }
   ],
   "source": [
    "disamb.disambiguate(texts[2])"
   ]
  },
  {
   "cell_type": "code",
   "execution_count": 237,
   "metadata": {},
   "outputs": [],
   "source": [
    "disamb.dump('MED', '../results')"
   ]
  },
  {
   "cell_type": "code",
   "execution_count": 188,
   "metadata": {},
   "outputs": [],
   "source": [
    "from adeft.disambiguate import load_disambiguator"
   ]
  },
  {
   "cell_type": "code",
   "execution_count": 189,
   "metadata": {},
   "outputs": [],
   "source": [
    "d = load_disambiguator('HIR', '../results')"
   ]
  },
  {
   "cell_type": "code",
   "execution_count": 190,
   "metadata": {},
   "outputs": [
    {
     "data": {
      "text/plain": [
       "('HGNC:6091',\n",
       " 'INSR',\n",
       " {'HGNC:6091': 0.9495047219792215,\n",
       "  'MESH:D015427': 0.03378744088190508,\n",
       "  'ungrounded': 0.016707837138873322})"
      ]
     },
     "execution_count": 190,
     "metadata": {},
     "output_type": "execute_result"
    }
   ],
   "source": [
    "d.disambiguate(texts[0])"
   ]
  },
  {
   "cell_type": "code",
   "execution_count": 32,
   "metadata": {},
   "outputs": [],
   "source": [
    "a = load_disambiguator('AR')"
   ]
  },
  {
   "cell_type": "code",
   "execution_count": 33,
   "metadata": {},
   "outputs": [
    {
     "data": {
      "text/plain": [
       "('HGNC:644',\n",
       " 'AR',\n",
       " {'FPLX:ADRB': 4.719192246728643e-10,\n",
       "  'GO:GO:0007340': 1.3624879544267196e-09,\n",
       "  'HGNC:381': 5.2828214761836554e-12,\n",
       "  'HGNC:644': 0.9999384718638125,\n",
       "  'HGNC:651': 1.8656671170325e-12,\n",
       "  'ungrounded': 6.152629463170691e-05})"
      ]
     },
     "execution_count": 33,
     "metadata": {},
     "output_type": "execute_result"
    }
   ],
   "source": [
    "a.disambiguate('Androgen')"
   ]
  },
  {
   "cell_type": "code",
   "execution_count": 36,
   "metadata": {},
   "outputs": [],
   "source": [
    "logit = d.classifier.estimator.named_steps['logit']"
   ]
  },
  {
   "cell_type": "code",
   "execution_count": 37,
   "metadata": {},
   "outputs": [
    {
     "data": {
      "text/plain": [
       "array(['FPLX:AQP', 'FPLX:Macrophage_inflammatory_pro', 'MESH:D000072277',\n",
       "       'polymer', 'ungrounded'], dtype='<U32')"
      ]
     },
     "execution_count": 37,
     "metadata": {},
     "output_type": "execute_result"
    }
   ],
   "source": [
    "logit.classes_"
   ]
  },
  {
   "cell_type": "code",
   "execution_count": null,
   "metadata": {},
   "outputs": [],
   "source": []
  }
 ],
 "metadata": {
  "kernelspec": {
   "display_name": "Python 3",
   "language": "python",
   "name": "python3"
  },
  "language_info": {
   "codemirror_mode": {
    "name": "ipython",
    "version": 3
   },
   "file_extension": ".py",
   "mimetype": "text/x-python",
   "name": "python",
   "nbconvert_exporter": "python",
   "pygments_lexer": "ipython3",
   "version": "3.7.5"
  }
 },
 "nbformat": 4,
 "nbformat_minor": 2
}
