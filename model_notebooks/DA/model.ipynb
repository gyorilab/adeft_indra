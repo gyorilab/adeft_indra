{
 "cells": [
  {
   "cell_type": "code",
   "execution_count": 1,
   "metadata": {},
   "outputs": [],
   "source": [
    "import os\n",
    "import json\n",
    "import pickle\n",
    "import random\n",
    "from collections import defaultdict, Counter\n",
    "\n",
    "from indra.literature.adeft_tools import universal_extract_text\n",
    "from indra.databases.hgnc_client import get_hgnc_name, get_hgnc_id\n",
    "\n",
    "from adeft.discover import AdeftMiner\n",
    "from adeft.gui import ground_with_gui\n",
    "from adeft.modeling.label import AdeftLabeler\n",
    "from adeft.modeling.classify import AdeftClassifier\n",
    "from adeft.disambiguate import AdeftDisambiguator, load_disambiguator\n",
    "\n",
    "\n",
    "from adeft_indra.ground.ground import AdeftGrounder\n",
    "from adeft_indra.model_building.s3 import model_to_s3\n",
    "from adeft_indra.model_building.escape import escape_filename\n",
    "from adeft_indra.db.content import get_pmids_for_agent_text, get_pmids_for_entity, \\\n",
    "    get_plaintexts_for_pmids"
   ]
  },
  {
   "cell_type": "code",
   "execution_count": 2,
   "metadata": {},
   "outputs": [],
   "source": [
    "adeft_grounder = AdeftGrounder()"
   ]
  },
  {
   "cell_type": "code",
   "execution_count": 3,
   "metadata": {},
   "outputs": [],
   "source": [
    "shortforms = ['DA']\n",
    "model_name = ':'.join(sorted(escape_filename(shortform) for shortform in shortforms))\n",
    "results_path = os.path.abspath(os.path.join('../..', 'results', model_name))"
   ]
  },
  {
   "cell_type": "code",
   "execution_count": 4,
   "metadata": {},
   "outputs": [],
   "source": [
    "miners = dict()\n",
    "all_texts = {}\n",
    "for shortform in shortforms:\n",
    "    pmids = get_pmids_for_agent_text(shortform)\n",
    "    text_dict = get_plaintexts_for_pmids(pmids, contains=shortforms)\n",
    "    text_dict = {pmid: text for pmid, text in text_dict.items() if len(text) > 5}\n",
    "    miners[shortform] = AdeftMiner(shortform)\n",
    "    miners[shortform].process_texts(text_dict.values())\n",
    "    all_texts.update(text_dict)\n",
    "\n",
    "longform_dict = {}\n",
    "for shortform in shortforms:\n",
    "    longforms = miners[shortform].get_longforms()\n",
    "    longforms = [(longform, count, score) for longform, count, score in longforms\n",
    "                 if count*score > 2]\n",
    "    longform_dict[shortform] = longforms\n",
    "    \n",
    "combined_longforms = Counter()\n",
    "for longform_rows in longform_dict.values():\n",
    "    combined_longforms.update({longform: count for longform, count, score\n",
    "                               in longform_rows})\n",
    "grounding_map = {}\n",
    "names = {}\n",
    "for longform in combined_longforms:\n",
    "    groundings = adeft_grounder.ground(longform)\n",
    "    if groundings:\n",
    "        grounding = groundings[0]['grounding']\n",
    "        grounding_map[longform] = grounding\n",
    "        names[grounding] = groundings[0]['name']\n",
    "longforms, counts = zip(*combined_longforms.most_common())\n",
    "pos_labels = []"
   ]
  },
  {
   "cell_type": "code",
   "execution_count": 5,
   "metadata": {},
   "outputs": [
    {
     "data": {
      "text/plain": [
       "[('dopamine', 10859),\n",
       " ('dopaminergic', 1173),\n",
       " ('ductus arteriosus', 119),\n",
       " ('domoic acid', 87),\n",
       " ('dark agouti', 49),\n",
       " ('dopamine agonist', 44),\n",
       " ('dorsal aorta', 35),\n",
       " ('dafachronic acid', 29),\n",
       " ('decursinol angelate', 26),\n",
       " ('drugs abuse', 23),\n",
       " ('danaparoid sodium', 18),\n",
       " ('diminazene aceturate', 17),\n",
       " ('darbepoetin alfa', 16),\n",
       " ('dopaminergic neurons', 16),\n",
       " ('diels alder', 13),\n",
       " ('diacetyl', 13),\n",
       " ('distal arthrogryposis', 11),\n",
       " ('axial diffusivity', 11),\n",
       " ('destruxin a', 10),\n",
       " ('dehydroandrographolide', 10),\n",
       " ('dark adaptations', 9),\n",
       " ('discriminant analysis', 9),\n",
       " ('dehydroabietinal', 9),\n",
       " ('deoxycholic acid', 9),\n",
       " ('decanoic acid', 9),\n",
       " ('dasatinib', 8),\n",
       " ('divided attention', 8),\n",
       " ('degree of anisotropy', 8),\n",
       " ('dopa mine', 8),\n",
       " ('darbepoetin alpha', 7),\n",
       " ('degree of acetylation', 7),\n",
       " ('decision aid', 6),\n",
       " ('dendritic arborization', 6),\n",
       " ('direct asymmetry', 6),\n",
       " ('dominant activity', 6),\n",
       " ('diamide', 6),\n",
       " ('daniels', 5),\n",
       " ('desmodium adscendens', 5),\n",
       " ('dense area', 5),\n",
       " ('discordant alternans', 5),\n",
       " ('developmental age', 5),\n",
       " ('displacement adjustment', 5),\n",
       " ('differentiation abundant', 5),\n",
       " ('dorsal attention', 5),\n",
       " ('decanoic', 5),\n",
       " ('da', 4),\n",
       " ('diisocyanate asthma', 4),\n",
       " ('donor acceptor', 4),\n",
       " ('dorsal appendages', 4),\n",
       " ('dynamics assessed', 4),\n",
       " ('descending aorta', 4),\n",
       " ('diaceturate', 4),\n",
       " ('dopamlne', 4),\n",
       " ('deoxyandrographolide', 4),\n",
       " ('dimethylacrylshikonin', 4),\n",
       " ('dicarboxylic acid', 4),\n",
       " ('dodecanoic acid', 4),\n",
       " ('daidzein', 3),\n",
       " ('dental adhesive', 3),\n",
       " ('dexamethasone acetate', 3),\n",
       " ('deformation amplitude', 3),\n",
       " ('dioscorea alata', 3),\n",
       " ('distal appendages', 3),\n",
       " ('direct access', 3),\n",
       " ('delayed assessed', 3),\n",
       " ('dopaminergic agonist', 3),\n",
       " ('direct activity', 3),\n",
       " ('dehydromatricarin a', 3),\n",
       " ('diazirine', 3),\n",
       " ('dopaminc', 3),\n",
       " ('dehydroabietic acid', 3),\n",
       " ('dilute acid', 3),\n",
       " ('darbepoetin α', 3),\n",
       " ('dopamine hcl', 3),\n",
       " ('dopamine release', 3),\n",
       " ('dopamine s', 3)]"
      ]
     },
     "execution_count": 5,
     "metadata": {},
     "output_type": "execute_result"
    }
   ],
   "source": [
    "list(zip(longforms, counts))"
   ]
  },
  {
   "cell_type": "code",
   "execution_count": 8,
   "metadata": {},
   "outputs": [],
   "source": [
    "try:\n",
    "    disamb = load_disambiguator(shortforms[0])\n",
    "    for shortform, gm in disamb.grounding_dict.items():\n",
    "        for longform, grounding in gm.items():\n",
    "            grounding_map[longform] = grounding\n",
    "    for grounding, name in disamb.names.items():\n",
    "        names[grounding] = name\n",
    "    pos_labels = disamb.pos_labels\n",
    "except Exception:\n",
    "    pass"
   ]
  },
  {
   "cell_type": "code",
   "execution_count": 9,
   "metadata": {},
   "outputs": [
    {
     "data": {
      "text/plain": [
       "{'CHEBI:CHEBI:18243': 'dopamine',\n",
       " 'MESH:D004373': 'Ductus Arteriosus',\n",
       " 'CHEBI:CHEBI:34727': 'domoic acid',\n",
       " 'EFO:0005291': 'Dark agouti',\n",
       " 'CHEBI:CHEBI:51065': 'dopamine agonist',\n",
       " 'MESH:D001011': 'Aorta',\n",
       " 'MESH:C533800': 'dafachronic acid',\n",
       " 'CHEBI:CHEBI:52634': 'sodium-23 atom',\n",
       " 'MESH:C003915': 'diminazene aceturate',\n",
       " 'HGNC:4392': 'GNAS',\n",
       " 'MESH:D059290': 'Dopaminergic Neurons',\n",
       " 'MESH:D029661': 'Alnus',\n",
       " 'CHEBI:CHEBI:16583': 'butane-2,3-dione',\n",
       " 'HP:HP:0005684': 'Distal arthrogryposis',\n",
       " 'MESH:C040423': 'destruxin A',\n",
       " 'MESH:C478098': 'dehydroandrographolide',\n",
       " 'MESH:D016002': 'Discriminant Analysis',\n",
       " 'MESH:C576115': 'dehydroabietinal',\n",
       " 'CHEBI:CHEBI:28834': 'deoxycholic acid',\n",
       " 'CHEBI:CHEBI:30813': 'decanoic acid',\n",
       " 'CHEBI:CHEBI:49375': 'dasatinib (anhydrous)',\n",
       " 'MESH:D001288': 'Attention',\n",
       " 'MESH:D016880': 'Anisotropy',\n",
       " 'CHEBI:CHEBI:30216': 'alpha-particle',\n",
       " 'MESH:D000107': 'Acetylation',\n",
       " 'HGNC:13203': 'AICDA',\n",
       " 'CHEBI:CHEBI:48958': \"1,1'-azobis(N,N-dimethylformamide)\",\n",
       " 'EFO:0001696': 'area',\n",
       " 'EFO:0000246': 'age',\n",
       " 'MESH:D001249': 'Asthma',\n",
       " 'CHEBI:CHEBI:15339': 'acceptor',\n",
       " 'CHEBI:CHEBI:35692': 'dicarboxylic acid',\n",
       " 'CHEBI:CHEBI:30805': 'dodecanoic acid',\n",
       " 'CHEBI:CHEBI:28197': 'daidzein',\n",
       " 'MESH:D000269': 'Adhesives',\n",
       " 'CHEBI:CHEBI:4463': 'Dexamethasone acetate',\n",
       " 'CHEBI:CHEBI:34922': 'picloram',\n",
       " 'CHEBI:CHEBI:13193': 'hydrogen acceptor',\n",
       " 'CHEBI:CHEBI:51624': 'diazirine',\n",
       " 'CHEBI:CHEBI:29571': 'dehydroabietic acid',\n",
       " 'CHEBI:CHEBI:37527': 'acid',\n",
       " 'MESH:D007943': 'Leukemia, Hairy Cell',\n",
       " 'CHEBI:CHEBI:17115': 'L-serine',\n",
       " 'MESH:D015259': 'Dopamine Agents'}"
      ]
     },
     "execution_count": 9,
     "metadata": {},
     "output_type": "execute_result"
    }
   ],
   "source": [
    "names"
   ]
  },
  {
   "cell_type": "code",
   "execution_count": 10,
   "metadata": {},
   "outputs": [
    {
     "name": "stderr",
     "output_type": "stream",
     "text": [
      "INFO: [2020-11-04 01:59:57] indra.ontology.bio.ontology - Loading INDRA bio ontology from cache at /home/ubuntu/.indra/bio_ontology/1.4/bio_ontology.pkl\n"
     ]
    }
   ],
   "source": [
    "grounding_map, names, pos_labels = ground_with_gui(longforms, counts, \n",
    "                                                   grounding_map=grounding_map,\n",
    "                                                   names=names, pos_labels=pos_labels, no_browser=True, port=8891)"
   ]
  },
  {
   "cell_type": "code",
   "execution_count": 11,
   "metadata": {},
   "outputs": [],
   "source": [
    "result = [grounding_map, names, pos_labels]"
   ]
  },
  {
   "cell_type": "code",
   "execution_count": 12,
   "metadata": {},
   "outputs": [
    {
     "data": {
      "text/plain": [
       "[{'axial diffusivity': 'ungrounded',\n",
       "  'da': 'ungrounded',\n",
       "  'dafachronic acid': 'MESH:C533800',\n",
       "  'daidzein': 'CHEBI:CHEBI:28197',\n",
       "  'danaparoid sodium': 'ungrounded',\n",
       "  'daniels': 'ungrounded',\n",
       "  'darbepoetin alfa': 'ungrounded',\n",
       "  'darbepoetin alpha': 'ungrounded',\n",
       "  'darbepoetin α': 'ungrounded',\n",
       "  'dark adaptations': 'ungrounded',\n",
       "  'dark agouti': 'EFO:EFO:0005291',\n",
       "  'dasatinib': 'CHEBI:CHEBI:49375',\n",
       "  'decanoic': 'CHEBI:CHEBI:30813',\n",
       "  'decanoic acid': 'CHEBI:CHEBI:30813',\n",
       "  'decision aid': 'ungrounded',\n",
       "  'decursinol angelate': 'PUBCHEM:776123',\n",
       "  'deformation amplitude': 'ungrounded',\n",
       "  'degree of acetylation': 'MESH:D000107',\n",
       "  'degree of anisotropy': 'MESH:D016880',\n",
       "  'dehydroabietic acid': 'CHEBI:CHEBI:29571',\n",
       "  'dehydroabietinal': 'MESH:C576115',\n",
       "  'dehydroandrographolide': 'MESH:C478098',\n",
       "  'dehydromatricarin a': 'ungrounded',\n",
       "  'delayed assessed': 'ungrounded',\n",
       "  'dendritic arborization': 'ungrounded',\n",
       "  'dense area': 'ungrounded',\n",
       "  'dental adhesive': 'ungrounded',\n",
       "  'deoxyandrographolide': 'ungrounded',\n",
       "  'deoxycholic acid': 'CHEBI:CHEBI:28834',\n",
       "  'descending aorta': 'ungrounded',\n",
       "  'desmodium adscendens': 'ungrounded',\n",
       "  'destruxin a': 'MESH:C040423',\n",
       "  'developmental age': 'ungrounded',\n",
       "  'dexamethasone acetate': 'CHEBI:CHEBI:4463',\n",
       "  'diaceturate': 'ungrounded',\n",
       "  'diacetyl': 'CHEBI:CHEBI:16583',\n",
       "  'diamide': 'CHEBI:CHEBI:48958',\n",
       "  'diazirine': 'CHEBI:CHEBI:51624',\n",
       "  'dicarboxylic acid': 'CHEBI:CHEBI:35692',\n",
       "  'diels alder': 'ungrounded',\n",
       "  'differentiation abundant': 'ungrounded',\n",
       "  'diisocyanate asthma': 'ungrounded',\n",
       "  'dilute acid': 'ungrounded',\n",
       "  'dimethylacrylshikonin': 'ungrounded',\n",
       "  'diminazene aceturate': 'CHEBI:CHEBI:82615',\n",
       "  'dioscorea alata': 'ungrounded',\n",
       "  'direct access': 'CHEBI:CHEBI:34922',\n",
       "  'direct activity': 'ungrounded',\n",
       "  'direct asymmetry': 'ungrounded',\n",
       "  'discordant alternans': 'ungrounded',\n",
       "  'discriminant analysis': 'MESH:D016002',\n",
       "  'displacement adjustment': 'ungrounded',\n",
       "  'distal appendages': 'ungrounded',\n",
       "  'distal arthrogryposis': 'HP:HP:0005684',\n",
       "  'divided attention': 'ungrounded',\n",
       "  'dodecanoic acid': 'CHEBI:CHEBI:30805',\n",
       "  'dominant activity': 'ungrounded',\n",
       "  'domoic acid': 'CHEBI:CHEBI:34727',\n",
       "  'donor acceptor': 'ungrounded',\n",
       "  'dopa mine': 'CHEBI:CHEBI:18243',\n",
       "  'dopaminc': 'CHEBI:CHEBI:18243',\n",
       "  'dopamine': 'CHEBI:CHEBI:18243',\n",
       "  'dopamine agonist': 'CHEBI:CHEBI:51065',\n",
       "  'dopamine hcl': 'CHEBI:CHEBI:18243',\n",
       "  'dopamine release': 'ungrounded',\n",
       "  'dopamine s': 'CHEBI:CHEBI:18243',\n",
       "  'dopaminergic': 'CHEBI:CHEBI:18243',\n",
       "  'dopaminergic agonist': 'CHEBI:CHEBI:51065',\n",
       "  'dopaminergic neurons': 'MESH:D059290',\n",
       "  'dopamlne': 'CHEBI:CHEBI:18243',\n",
       "  'dorsal aorta': 'MESH:D001011',\n",
       "  'dorsal appendages': 'ungrounded',\n",
       "  'dorsal attention': 'ungrounded',\n",
       "  'drugs abuse': 'ungrounded',\n",
       "  'ductus arteriosus': 'MESH:D004373',\n",
       "  'dynamics assessed': 'ungrounded'},\n",
       " {'MESH:C533800': 'dafachronic acid',\n",
       "  'CHEBI:CHEBI:28197': 'daidzein',\n",
       "  'EFO:EFO:0005291': 'Dark agouti',\n",
       "  'CHEBI:CHEBI:49375': 'dasatinib (anhydrous)',\n",
       "  'CHEBI:CHEBI:30813': 'decanoic acid',\n",
       "  'PUBCHEM:776123': 'Decursinol angelate',\n",
       "  'MESH:D000107': 'Acetylation',\n",
       "  'MESH:D016880': 'Anisotropy',\n",
       "  'CHEBI:CHEBI:29571': 'dehydroabietic acid',\n",
       "  'MESH:C576115': 'dehydroabietinal',\n",
       "  'MESH:C478098': 'dehydroandrographolide',\n",
       "  'CHEBI:CHEBI:28834': 'deoxycholic acid',\n",
       "  'MESH:C040423': 'destruxin A',\n",
       "  'CHEBI:CHEBI:4463': 'Dexamethasone acetate',\n",
       "  'CHEBI:CHEBI:16583': 'butane-2,3-dione',\n",
       "  'CHEBI:CHEBI:48958': \"1,1'-azobis(N,N-dimethylformamide)\",\n",
       "  'CHEBI:CHEBI:51624': 'diazirine',\n",
       "  'CHEBI:CHEBI:35692': 'dicarboxylic acid',\n",
       "  'CHEBI:CHEBI:82615': 'diminazene diaceturate',\n",
       "  'CHEBI:CHEBI:34922': 'picloram',\n",
       "  'MESH:D016002': 'Discriminant Analysis',\n",
       "  'HP:HP:0005684': 'Distal arthrogryposis',\n",
       "  'CHEBI:CHEBI:30805': 'dodecanoic acid',\n",
       "  'CHEBI:CHEBI:34727': 'domoic acid',\n",
       "  'CHEBI:CHEBI:18243': 'dopamine',\n",
       "  'CHEBI:CHEBI:51065': 'dopamine agonist',\n",
       "  'MESH:D059290': 'Dopaminergic Neurons',\n",
       "  'MESH:D001011': 'Aorta',\n",
       "  'MESH:D004373': 'Ductus Arteriosus'},\n",
       " ['CHEBI:CHEBI:18243', 'CHEBI:CHEBI:34727', 'MESH:D004373']]"
      ]
     },
     "execution_count": 12,
     "metadata": {},
     "output_type": "execute_result"
    }
   ],
   "source": [
    "result"
   ]
  },
  {
   "cell_type": "code",
   "execution_count": 13,
   "metadata": {},
   "outputs": [],
   "source": [
    "grounding_map, names, pos_labels = [{'axial diffusivity': 'ungrounded',\n",
    "  'da': 'ungrounded',\n",
    "  'dafachronic acid': 'MESH:C533800',\n",
    "  'daidzein': 'CHEBI:CHEBI:28197',\n",
    "  'danaparoid sodium': 'ungrounded',\n",
    "  'daniels': 'ungrounded',\n",
    "  'darbepoetin alfa': 'ungrounded',\n",
    "  'darbepoetin alpha': 'ungrounded',\n",
    "  'darbepoetin α': 'ungrounded',\n",
    "  'dark adaptations': 'ungrounded',\n",
    "  'dark agouti': 'EFO:EFO:0005291',\n",
    "  'dasatinib': 'CHEBI:CHEBI:49375',\n",
    "  'decanoic': 'CHEBI:CHEBI:30813',\n",
    "  'decanoic acid': 'CHEBI:CHEBI:30813',\n",
    "  'decision aid': 'ungrounded',\n",
    "  'decursinol angelate': 'PUBCHEM:776123',\n",
    "  'deformation amplitude': 'ungrounded',\n",
    "  'degree of acetylation': 'MESH:D000107',\n",
    "  'degree of anisotropy': 'MESH:D016880',\n",
    "  'dehydroabietic acid': 'CHEBI:CHEBI:29571',\n",
    "  'dehydroabietinal': 'MESH:C576115',\n",
    "  'dehydroandrographolide': 'MESH:C478098',\n",
    "  'dehydromatricarin a': 'ungrounded',\n",
    "  'delayed assessed': 'ungrounded',\n",
    "  'dendritic arborization': 'ungrounded',\n",
    "  'dense area': 'ungrounded',\n",
    "  'dental adhesive': 'ungrounded',\n",
    "  'deoxyandrographolide': 'ungrounded',\n",
    "  'deoxycholic acid': 'CHEBI:CHEBI:28834',\n",
    "  'descending aorta': 'ungrounded',\n",
    "  'desmodium adscendens': 'ungrounded',\n",
    "  'destruxin a': 'MESH:C040423',\n",
    "  'developmental age': 'ungrounded',\n",
    "  'dexamethasone acetate': 'CHEBI:CHEBI:4463',\n",
    "  'diaceturate': 'ungrounded',\n",
    "  'diacetyl': 'CHEBI:CHEBI:16583',\n",
    "  'diamide': 'CHEBI:CHEBI:48958',\n",
    "  'diazirine': 'CHEBI:CHEBI:51624',\n",
    "  'dicarboxylic acid': 'CHEBI:CHEBI:35692',\n",
    "  'diels alder': 'ungrounded',\n",
    "  'differentiation abundant': 'ungrounded',\n",
    "  'diisocyanate asthma': 'ungrounded',\n",
    "  'dilute acid': 'ungrounded',\n",
    "  'dimethylacrylshikonin': 'ungrounded',\n",
    "  'diminazene aceturate': 'CHEBI:CHEBI:82615',\n",
    "  'dioscorea alata': 'ungrounded',\n",
    "  'direct access': 'CHEBI:CHEBI:34922',\n",
    "  'direct activity': 'ungrounded',\n",
    "  'direct asymmetry': 'ungrounded',\n",
    "  'discordant alternans': 'ungrounded',\n",
    "  'discriminant analysis': 'MESH:D016002',\n",
    "  'displacement adjustment': 'ungrounded',\n",
    "  'distal appendages': 'ungrounded',\n",
    "  'distal arthrogryposis': 'HP:HP:0005684',\n",
    "  'divided attention': 'ungrounded',\n",
    "  'dodecanoic acid': 'CHEBI:CHEBI:30805',\n",
    "  'dominant activity': 'ungrounded',\n",
    "  'domoic acid': 'CHEBI:CHEBI:34727',\n",
    "  'donor acceptor': 'ungrounded',\n",
    "  'dopa mine': 'CHEBI:CHEBI:18243',\n",
    "  'dopaminc': 'CHEBI:CHEBI:18243',\n",
    "  'dopamine': 'CHEBI:CHEBI:18243',\n",
    "  'dopamine agonist': 'CHEBI:CHEBI:51065',\n",
    "  'dopamine hcl': 'CHEBI:CHEBI:18243',\n",
    "  'dopamine release': 'ungrounded',\n",
    "  'dopamine s': 'CHEBI:CHEBI:18243',\n",
    "  'dopaminergic': 'CHEBI:CHEBI:18243',\n",
    "  'dopaminergic agonist': 'CHEBI:CHEBI:51065',\n",
    "  'dopaminergic neurons': 'MESH:D059290',\n",
    "  'dopamlne': 'CHEBI:CHEBI:18243',\n",
    "  'dorsal aorta': 'MESH:D001011',\n",
    "  'dorsal appendages': 'ungrounded',\n",
    "  'dorsal attention': 'ungrounded',\n",
    "  'drugs abuse': 'ungrounded',\n",
    "  'ductus arteriosus': 'MESH:D004373',\n",
    "  'dynamics assessed': 'ungrounded'},\n",
    " {'MESH:C533800': 'dafachronic acid',\n",
    "  'CHEBI:CHEBI:28197': 'daidzein',\n",
    "  'EFO:EFO:0005291': 'Dark agouti',\n",
    "  'CHEBI:CHEBI:49375': 'dasatinib (anhydrous)',\n",
    "  'CHEBI:CHEBI:30813': 'decanoic acid',\n",
    "  'PUBCHEM:776123': 'Decursinol angelate',\n",
    "  'MESH:D000107': 'Acetylation',\n",
    "  'MESH:D016880': 'Anisotropy',\n",
    "  'CHEBI:CHEBI:29571': 'dehydroabietic acid',\n",
    "  'MESH:C576115': 'dehydroabietinal',\n",
    "  'MESH:C478098': 'dehydroandrographolide',\n",
    "  'CHEBI:CHEBI:28834': 'deoxycholic acid',\n",
    "  'MESH:C040423': 'destruxin A',\n",
    "  'CHEBI:CHEBI:4463': 'Dexamethasone acetate',\n",
    "  'CHEBI:CHEBI:16583': 'butane-2,3-dione',\n",
    "  'CHEBI:CHEBI:48958': \"1,1'-azobis(N,N-dimethylformamide)\",\n",
    "  'CHEBI:CHEBI:51624': 'diazirine',\n",
    "  'CHEBI:CHEBI:35692': 'dicarboxylic acid',\n",
    "  'CHEBI:CHEBI:82615': 'diminazene diaceturate',\n",
    "  'CHEBI:CHEBI:34922': 'picloram',\n",
    "  'MESH:D016002': 'Discriminant Analysis',\n",
    "  'HP:HP:0005684': 'Distal arthrogryposis',\n",
    "  'CHEBI:CHEBI:30805': 'dodecanoic acid',\n",
    "  'CHEBI:CHEBI:34727': 'domoic acid',\n",
    "  'CHEBI:CHEBI:18243': 'dopamine',\n",
    "  'CHEBI:CHEBI:51065': 'dopamine agonist',\n",
    "  'MESH:D059290': 'Dopaminergic Neurons',\n",
    "  'MESH:D001011': 'Aorta',\n",
    "  'MESH:D004373': 'Ductus Arteriosus'},\n",
    " ['CHEBI:CHEBI:18243', 'CHEBI:CHEBI:34727', 'MESH:D004373']]"
   ]
  },
  {
   "cell_type": "code",
   "execution_count": 14,
   "metadata": {},
   "outputs": [],
   "source": [
    "excluded_longforms = ['da']"
   ]
  },
  {
   "cell_type": "code",
   "execution_count": 15,
   "metadata": {},
   "outputs": [],
   "source": [
    "grounding_dict = {shortform: {longform: grounding_map[longform] \n",
    "                              for longform, _, _ in longforms if longform in grounding_map\n",
    "                              and longform not in excluded_longforms}\n",
    "                  for shortform, longforms in longform_dict.items()}\n",
    "result = [grounding_dict, names, pos_labels]\n",
    "\n",
    "if not os.path.exists(results_path):\n",
    "    os.mkdir(results_path)\n",
    "with open(os.path.join(results_path, f'{model_name}_preliminary_grounding_info.json'), 'w') as f:\n",
    "    json.dump(result, f)"
   ]
  },
  {
   "cell_type": "code",
   "execution_count": 16,
   "metadata": {},
   "outputs": [],
   "source": [
    "additional_entities = {}"
   ]
  },
  {
   "cell_type": "code",
   "execution_count": 17,
   "metadata": {},
   "outputs": [],
   "source": [
    "unambiguous_agent_texts = {}"
   ]
  },
  {
   "cell_type": "code",
   "execution_count": 18,
   "metadata": {},
   "outputs": [],
   "source": [
    "labeler = AdeftLabeler(grounding_dict)\n",
    "corpus = labeler.build_from_texts((text, pmid) for pmid, text in all_texts.items())\n",
    "agent_text_pmid_map = defaultdict(list)\n",
    "for text, label, id_ in corpus:\n",
    "    agent_text_pmid_map[label].append(id_)\n",
    "\n",
    "entity_pmid_map = {entity: set(get_pmids_for_entity(*entity.split(':', maxsplit=1),\n",
    "                                                major_topic=True))for entity in additional_entities}"
   ]
  },
  {
   "cell_type": "code",
   "execution_count": 18,
   "metadata": {},
   "outputs": [],
   "source": [
    "intersection1 = []\n",
    "for entity1, pmids1 in entity_pmid_map.items():\n",
    "    for entity2, pmids2 in entity_pmid_map.items():\n",
    "        intersection1.append((entity1, entity2, len(pmids1 & pmids2)))"
   ]
  },
  {
   "cell_type": "code",
   "execution_count": 19,
   "metadata": {},
   "outputs": [],
   "source": [
    "intersection2 = []\n",
    "for entity1, pmids1 in agent_text_pmid_map.items():\n",
    "    for entity2, pmids2 in entity_pmid_map.items():\n",
    "        intersection2.append((entity1, entity2, len(set(pmids1) & pmids2)))"
   ]
  },
  {
   "cell_type": "code",
   "execution_count": 20,
   "metadata": {},
   "outputs": [
    {
     "data": {
      "text/plain": [
       "[('HGNC:10967', 'HGNC:10967', 98)]"
      ]
     },
     "execution_count": 20,
     "metadata": {},
     "output_type": "execute_result"
    }
   ],
   "source": [
    "intersection1"
   ]
  },
  {
   "cell_type": "code",
   "execution_count": 21,
   "metadata": {},
   "outputs": [
    {
     "data": {
      "text/plain": [
       "[('GO:GO:0001837', 'HGNC:10967', 0),\n",
       " ('ungrounded', 'HGNC:10967', 0),\n",
       " ('HGNC:10967', 'HGNC:10967', 0),\n",
       " ('MESH:D055032', 'HGNC:10967', 0)]"
      ]
     },
     "execution_count": 21,
     "metadata": {},
     "output_type": "execute_result"
    }
   ],
   "source": [
    "intersection2"
   ]
  },
  {
   "cell_type": "code",
   "execution_count": 22,
   "metadata": {},
   "outputs": [],
   "source": [
    "all_used_pmids = set()\n",
    "for entity, agent_texts in unambiguous_agent_texts.items():\n",
    "    used_pmids = set()\n",
    "    for agent_text in agent_texts[1]:\n",
    "        pmids = set(get_pmids_for_agent_text(agent_text))\n",
    "        new_pmids = list(pmids - all_texts.keys() - used_pmids)\n",
    "        text_dict = get_plaintexts_for_pmids(new_pmids, contains=agent_texts)\n",
    "        corpus.extend([(text, entity, pmid) for pmid, text in text_dict.items() if len(text) >= 5])\n",
    "        used_pmids.update(new_pmids)\n",
    "    all_used_pmids.update(used_pmids)\n",
    "        \n",
    "for entity, pmids in entity_pmid_map.items():\n",
    "    new_pmids = list(set(pmids) - all_texts.keys() - all_used_pmids)\n",
    "    if len(new_pmids) > 10000:\n",
    "        new_pmids = random.choices(new_pmids, k=10000)\n",
    "    _, contains = additional_entities[entity]\n",
    "    text_dict = get_plaintexts_for_pmids(new_pmids, contains=contains)\n",
    "    corpus.extend([(text, entity, pmid) for pmid, text in text_dict.items() if len(text) >= 5])"
   ]
  },
  {
   "cell_type": "code",
   "execution_count": 23,
   "metadata": {},
   "outputs": [],
   "source": [
    "names.update({key: value[0] for key, value in additional_entities.items()})\n",
    "names.update({key: value[0] for key, value in unambiguous_agent_texts.items()})\n",
    "pos_labels = list(set(pos_labels) | additional_entities.keys() |\n",
    "                  unambiguous_agent_texts.keys())"
   ]
  },
  {
   "cell_type": "code",
   "execution_count": 19,
   "metadata": {},
   "outputs": [
    {
     "name": "stderr",
     "output_type": "stream",
     "text": [
      "INFO: [2020-11-04 02:30:15] /adeft/PP/adeft/adeft/modeling/classify.py - Beginning grid search in parameter space:\n",
      "{'C': [100.0], 'max_features': [10000]}\n",
      "INFO: [2020-11-04 02:36:52] /adeft/PP/adeft/adeft/modeling/classify.py - Best f1 score of 0.9860805775970312 found for parameter values:\n",
      "{'logit__C': 100.0, 'tfidf__max_features': 10000}\n"
     ]
    }
   ],
   "source": [
    "%%capture\n",
    "\n",
    "classifier = AdeftClassifier(shortforms, pos_labels=pos_labels, random_state=1729)\n",
    "param_grid = {'C': [100.0], 'max_features': [10000]}\n",
    "texts, labels, pmids = zip(*corpus)\n",
    "classifier.cv(texts, labels, param_grid, cv=5, n_jobs=5)"
   ]
  },
  {
   "cell_type": "code",
   "execution_count": 20,
   "metadata": {
    "scrolled": true
   },
   "outputs": [
    {
     "data": {
      "text/plain": [
       "{'label_distribution': {'CHEBI:CHEBI:18243': 9488,\n",
       "  'MESH:D004373': 92,\n",
       "  'CHEBI:CHEBI:28834': 6,\n",
       "  'EFO:EFO:0005291': 30,\n",
       "  'CHEBI:CHEBI:35692': 4,\n",
       "  'CHEBI:CHEBI:16583': 7,\n",
       "  'ungrounded': 125,\n",
       "  'CHEBI:CHEBI:4463': 2,\n",
       "  'CHEBI:CHEBI:48958': 4,\n",
       "  'CHEBI:CHEBI:51065': 41,\n",
       "  'CHEBI:CHEBI:34727': 56,\n",
       "  'MESH:D016002': 6,\n",
       "  'MESH:D001011': 23,\n",
       "  'CHEBI:CHEBI:30813': 13,\n",
       "  'MESH:D059290': 15,\n",
       "  'CHEBI:CHEBI:82615': 12,\n",
       "  'HP:HP:0005684': 7,\n",
       "  'PUBCHEM:776123': 12,\n",
       "  'MESH:C533800': 20,\n",
       "  'MESH:C040423': 6,\n",
       "  'MESH:C576115': 5,\n",
       "  'CHEBI:CHEBI:28197': 3,\n",
       "  'MESH:D016880': 6,\n",
       "  'CHEBI:CHEBI:49375': 4,\n",
       "  'MESH:D000107': 5,\n",
       "  'CHEBI:CHEBI:29571': 3,\n",
       "  'CHEBI:CHEBI:34922': 2,\n",
       "  'MESH:C478098': 6,\n",
       "  'CHEBI:CHEBI:51624': 2,\n",
       "  'CHEBI:CHEBI:30805': 1},\n",
       " 'f1': {'mean': 0.986081, 'std': 0.001537},\n",
       " 'precision': {'mean': 0.9779, 'std': 0.001832},\n",
       " 'recall': {'mean': 0.995122, 'std': 0.001845},\n",
       " 'CHEBI:CHEBI:82615': {'f1': {'mean': 0.233333, 'std': 0.290593},\n",
       "  'pr': {'mean': 0.2, 'std': 0.266667},\n",
       "  'rc': {'mean': 0.333333, 'std': 0.421637}},\n",
       " 'CHEBI:CHEBI:34922': {'f1': {'mean': 0.0, 'std': 0.0},\n",
       "  'pr': {'mean': 0.0, 'std': 0.0},\n",
       "  'rc': {'mean': 0.0, 'std': 0.0}},\n",
       " 'MESH:C040423': {'f1': {'mean': 0.2, 'std': 0.4},\n",
       "  'pr': {'mean': 0.2, 'std': 0.4},\n",
       "  'rc': {'mean': 0.2, 'std': 0.4}},\n",
       " 'CHEBI:CHEBI:49375': {'f1': {'mean': 0.4, 'std': 0.489898},\n",
       "  'pr': {'mean': 0.4, 'std': 0.489898},\n",
       "  'rc': {'mean': 0.4, 'std': 0.489898}},\n",
       " 'CHEBI:CHEBI:35692': {'f1': {'mean': 0.0, 'std': 0.0},\n",
       "  'pr': {'mean': 0.0, 'std': 0.0},\n",
       "  'rc': {'mean': 0.0, 'std': 0.0}},\n",
       " 'CHEBI:CHEBI:16583': {'f1': {'mean': 0.133333, 'std': 0.266667},\n",
       "  'pr': {'mean': 0.1, 'std': 0.2},\n",
       "  'rc': {'mean': 0.2, 'std': 0.4}},\n",
       " 'ungrounded': {'f1': {'mean': 0.592271, 'std': 0.068575},\n",
       "  'pr': {'mean': 0.472, 'std': 0.081584},\n",
       "  'rc': {'mean': 0.807602, 'std': 0.042663}},\n",
       " 'MESH:C478098': {'f1': {'mean': 0.2, 'std': 0.4},\n",
       "  'pr': {'mean': 0.2, 'std': 0.4},\n",
       "  'rc': {'mean': 0.2, 'std': 0.4}},\n",
       " 'MESH:D016002': {'f1': {'mean': 0.733333, 'std': 0.38873},\n",
       "  'pr': {'mean': 0.7, 'std': 0.4},\n",
       "  'rc': {'mean': 0.8, 'std': 0.4}},\n",
       " 'MESH:D004373': {'f1': {'mean': 0.944736, 'std': 0.038864},\n",
       "  'pr': {'mean': 0.934503, 'std': 0.040372},\n",
       "  'rc': {'mean': 0.955556, 'std': 0.041574}},\n",
       " 'CHEBI:CHEBI:30813': {'f1': {'mean': 0.5, 'std': 0.447214},\n",
       "  'pr': {'mean': 0.466667, 'std': 0.452155},\n",
       "  'rc': {'mean': 0.6, 'std': 0.489898}},\n",
       " 'CHEBI:CHEBI:18243': {'f1': {'mean': 0.988106, 'std': 0.000705},\n",
       "  'pr': {'mean': 0.998103, 'std': 0.001135},\n",
       "  'rc': {'mean': 0.978309, 'std': 0.001522}},\n",
       " 'CHEBI:CHEBI:51065': {'f1': {'mean': 0.605861, 'std': 0.162624},\n",
       "  'pr': {'mean': 0.486111, 'std': 0.126686},\n",
       "  'rc': {'mean': 0.813333, 'std': 0.243676}},\n",
       " 'MESH:C576115': {'f1': {'mean': 1.0, 'std': 0.0},\n",
       "  'pr': {'mean': 1.0, 'std': 0.0},\n",
       "  'rc': {'mean': 1.0, 'std': 0.0}},\n",
       " 'CHEBI:CHEBI:30805': {'f1': {'mean': 0.0, 'std': 0.0},\n",
       "  'pr': {'mean': 0.0, 'std': 0.0},\n",
       "  'rc': {'mean': 0.0, 'std': 0.0}},\n",
       " 'HP:HP:0005684': {'f1': {'mean': 0.533333, 'std': 0.452155},\n",
       "  'pr': {'mean': 0.5, 'std': 0.447214},\n",
       "  'rc': {'mean': 0.6, 'std': 0.489898}},\n",
       " 'CHEBI:CHEBI:4463': {'f1': {'mean': 0.0, 'std': 0.0},\n",
       "  'pr': {'mean': 0.0, 'std': 0.0},\n",
       "  'rc': {'mean': 0.0, 'std': 0.0}},\n",
       " 'MESH:D001011': {'f1': {'mean': 0.854762, 'std': 0.053805},\n",
       "  'pr': {'mean': 0.79, 'std': 0.128062},\n",
       "  'rc': {'mean': 0.96, 'std': 0.08}},\n",
       " 'CHEBI:CHEBI:29571': {'f1': {'mean': 0.0, 'std': 0.0},\n",
       "  'pr': {'mean': 0.0, 'std': 0.0},\n",
       "  'rc': {'mean': 0.0, 'std': 0.0}},\n",
       " 'CHEBI:CHEBI:48958': {'f1': {'mean': 0.0, 'std': 0.0},\n",
       "  'pr': {'mean': 0.0, 'std': 0.0},\n",
       "  'rc': {'mean': 0.0, 'std': 0.0}},\n",
       " 'CHEBI:CHEBI:34727': {'f1': {'mean': 0.713183, 'std': 0.140506},\n",
       "  'pr': {'mean': 0.592424, 'std': 0.175679},\n",
       "  'rc': {'mean': 0.946667, 'std': 0.068638}},\n",
       " 'PUBCHEM:776123': {'f1': {'mean': 0.506667, 'std': 0.284722},\n",
       "  'pr': {'mean': 0.4, 'std': 0.226078},\n",
       "  'rc': {'mean': 0.7, 'std': 0.4}},\n",
       " 'EFO:EFO:0005291': {'f1': {'mean': 0.71697, 'std': 0.165595},\n",
       "  'pr': {'mean': 0.6, 'std': 0.2},\n",
       "  'rc': {'mean': 0.95, 'std': 0.1}},\n",
       " 'CHEBI:CHEBI:28834': {'f1': {'mean': 0.0, 'std': 0.0},\n",
       "  'pr': {'mean': 0.0, 'std': 0.0},\n",
       "  'rc': {'mean': 0.0, 'std': 0.0}},\n",
       " 'MESH:D016880': {'f1': {'mean': 0.4, 'std': 0.489898},\n",
       "  'pr': {'mean': 0.4, 'std': 0.489898},\n",
       "  'rc': {'mean': 0.4, 'std': 0.489898}},\n",
       " 'MESH:D059290': {'f1': {'mean': 0.0, 'std': 0.0},\n",
       "  'pr': {'mean': 0.0, 'std': 0.0},\n",
       "  'rc': {'mean': 0.0, 'std': 0.0}},\n",
       " 'CHEBI:CHEBI:51624': {'f1': {'mean': 0.0, 'std': 0.0},\n",
       "  'pr': {'mean': 0.0, 'std': 0.0},\n",
       "  'rc': {'mean': 0.0, 'std': 0.0}},\n",
       " 'MESH:D000107': {'f1': {'mean': 0.2, 'std': 0.4},\n",
       "  'pr': {'mean': 0.2, 'std': 0.4},\n",
       "  'rc': {'mean': 0.2, 'std': 0.4}},\n",
       " 'MESH:C533800': {'f1': {'mean': 0.920635, 'std': 0.06583},\n",
       "  'pr': {'mean': 0.9, 'std': 0.122474},\n",
       "  'rc': {'mean': 0.96, 'std': 0.08}},\n",
       " 'CHEBI:CHEBI:28197': {'f1': {'mean': 0.0, 'std': 0.0},\n",
       "  'pr': {'mean': 0.0, 'std': 0.0},\n",
       "  'rc': {'mean': 0.0, 'std': 0.0}}}"
      ]
     },
     "execution_count": 20,
     "metadata": {},
     "output_type": "execute_result"
    }
   ],
   "source": [
    "classifier.stats"
   ]
  },
  {
   "cell_type": "code",
   "execution_count": 21,
   "metadata": {},
   "outputs": [],
   "source": [
    "disamb = AdeftDisambiguator(classifier, grounding_dict, names)"
   ]
  },
  {
   "cell_type": "code",
   "execution_count": 22,
   "metadata": {},
   "outputs": [],
   "source": [
    "disamb.dump(model_name, results_path)"
   ]
  },
  {
   "cell_type": "code",
   "execution_count": 23,
   "metadata": {},
   "outputs": [
    {
     "name": "stdout",
     "output_type": "stream",
     "text": [
      "Disambiguation model for DA\n",
      "\n",
      "Produces the disambiguations:\n",
      "\t1,1'-azobis(N,N-dimethylformamide)\tCHEBI:CHEBI:48958\n",
      "\tAcetylation\tMESH:D000107\n",
      "\tAnisotropy\tMESH:D016880\n",
      "\tAorta\tMESH:D001011\n",
      "\tDark agouti\tEFO:EFO:0005291\n",
      "\tDecursinol angelate\tPUBCHEM:776123\n",
      "\tDexamethasone acetate\tCHEBI:CHEBI:4463\n",
      "\tDiscriminant Analysis\tMESH:D016002\n",
      "\tDistal arthrogryposis\tHP:HP:0005684\n",
      "\tDopaminergic Neurons\tMESH:D059290\n",
      "\tDuctus Arteriosus*\tMESH:D004373\n",
      "\tbutane-2,3-dione\tCHEBI:CHEBI:16583\n",
      "\tdafachronic acid\tMESH:C533800\n",
      "\tdaidzein\tCHEBI:CHEBI:28197\n",
      "\tdasatinib (anhydrous)\tCHEBI:CHEBI:49375\n",
      "\tdecanoic acid\tCHEBI:CHEBI:30813\n",
      "\tdehydroabietic acid\tCHEBI:CHEBI:29571\n",
      "\tdehydroabietinal\tMESH:C576115\n",
      "\tdehydroandrographolide\tMESH:C478098\n",
      "\tdeoxycholic acid\tCHEBI:CHEBI:28834\n",
      "\tdestruxin A\tMESH:C040423\n",
      "\tdiazirine\tCHEBI:CHEBI:51624\n",
      "\tdicarboxylic acid\tCHEBI:CHEBI:35692\n",
      "\tdiminazene diaceturate\tCHEBI:CHEBI:82615\n",
      "\tdodecanoic acid\tCHEBI:CHEBI:30805\n",
      "\tdomoic acid*\tCHEBI:CHEBI:34727\n",
      "\tdopamine*\tCHEBI:CHEBI:18243\n",
      "\tdopamine agonist\tCHEBI:CHEBI:51065\n",
      "\tpicloram\tCHEBI:CHEBI:34922\n",
      "\n",
      "Class level metrics:\n",
      "--------------------\n",
      "Grounding                         \tCount\tF1     \n",
      "                          dopamine*\t9488\t0.98811\n",
      "                        Ungrounded\t 125\t0.59227\n",
      "                 Ductus Arteriosus*\t  92\t0.94474\n",
      "                       domoic acid*\t  56\t0.71318\n",
      "                  dopamine agonist\t  41\t0.60586\n",
      "                       Dark agouti\t  30\t0.71697\n",
      "                             Aorta\t  23\t0.85476\n",
      "                  dafachronic acid\t  20\t0.92064\n",
      "              Dopaminergic Neurons\t  15\t    0.0\n",
      "                     decanoic acid\t  13\t    0.5\n",
      "            diminazene diaceturate\t  12\t0.23333\n",
      "               Decursinol angelate\t  12\t0.50667\n",
      "                  butane-2,3-dione\t   7\t0.13333\n",
      "             Distal arthrogryposis\t   7\t0.53333\n",
      "                  deoxycholic acid\t   6\t    0.0\n",
      "             Discriminant Analysis\t   6\t0.73333\n",
      "                       destruxin A\t   6\t    0.2\n",
      "                        Anisotropy\t   6\t    0.4\n",
      "            dehydroandrographolide\t   6\t    0.2\n",
      "                  dehydroabietinal\t   5\t    1.0\n",
      "                       Acetylation\t   5\t    0.2\n",
      "                 dicarboxylic acid\t   4\t    0.0\n",
      "1,1'-azobis(N,N-dimethylformamide)\t   4\t    0.0\n",
      "             dasatinib (anhydrous)\t   4\t    0.4\n",
      "                          daidzein\t   3\t    0.0\n",
      "               dehydroabietic acid\t   3\t    0.0\n",
      "             Dexamethasone acetate\t   2\t    0.0\n",
      "                          picloram\t   2\t    0.0\n",
      "                         diazirine\t   2\t    0.0\n",
      "                   dodecanoic acid\t   1\t    0.0\n",
      "\n",
      "Weighted Metrics:\n",
      "-----------------\n",
      "\tF1 score:\t0.98608\n",
      "\tPrecision:\t0.9779\n",
      "\tRecall:\t\t0.99512\n",
      "\n",
      "* Positive labels\n",
      "See Docstring for explanation\n",
      "\n"
     ]
    }
   ],
   "source": [
    "print(disamb.info())"
   ]
  },
  {
   "cell_type": "code",
   "execution_count": 24,
   "metadata": {},
   "outputs": [],
   "source": [
    "model_to_s3(disamb)"
   ]
  },
  {
   "cell_type": "code",
   "execution_count": 30,
   "metadata": {},
   "outputs": [],
   "source": [
    "preds = [disamb.disambiguate(text) for text in all_texts.values()]"
   ]
  },
  {
   "cell_type": "code",
   "execution_count": 31,
   "metadata": {},
   "outputs": [],
   "source": [
    "texts = [text for pred, text in zip(preds, all_texts.values()) if pred[0] == 'HGNC:10967']"
   ]
  },
  {
   "cell_type": "code",
   "execution_count": 36,
   "metadata": {},
   "outputs": [
    {
     "data": {
      "text/plain": [
       "'The non-neuronal monoamine transporters (OCT1, OCT2, EMT, and PMAT) play a key role in the clearance of monoamines from extracellular compartments. In a previous report we described endometrial distribution and cyclic variation of the vesicular monoamine transporter (VMAT2) mRNA and the neuronal norepinephrine transporter (NET) mRNA. In the present study we used in situ hybridization, real-time PCR and immunohistochemistry to reveal tissue distribution and cyclic variation of mRNA for the non-neuronal monoamine transporters in the human endometrium and early pregnancy decidua. We found that non-neuronal monoamine transporters are predominantly expressed in the stroma. The plasma membrane monoamine transporter (PMAT) mRNA expression peaked in the proliferative phase, whereas the extra-neuronal monoamine transporter (EMT) mRNA expression peaked in the secretory phase. The organic cation transporter 2 (OCT2) mRNA expression was exclusively detected in few scattered stromal cells and OCT1 mRNA was not detected at all. Our present results demonstrate that PMAT, EMT, and OCT2 transporters are expressed in the endometrial stroma and can potentially regulate reuptake of monoamines in general and histamine in particular. Taken together with our previous finding of VMAT2 mRNA in epithelial cells, we suggest a paracrine interaction between stromal and epithelial cells, which may modulate certain steps of the reproductive process.\\n'"
      ]
     },
     "execution_count": 36,
     "metadata": {},
     "output_type": "execute_result"
    }
   ],
   "source": [
    "texts[3]"
   ]
  },
  {
   "cell_type": "code",
   "execution_count": null,
   "metadata": {},
   "outputs": [],
   "source": []
  }
 ],
 "metadata": {
  "kernelspec": {
   "display_name": "Python 3",
   "language": "python",
   "name": "python3"
  },
  "language_info": {
   "codemirror_mode": {
    "name": "ipython",
    "version": 3
   },
   "file_extension": ".py",
   "mimetype": "text/x-python",
   "name": "python",
   "nbconvert_exporter": "python",
   "pygments_lexer": "ipython3",
   "version": "3.8.4"
  }
 },
 "nbformat": 4,
 "nbformat_minor": 2
}
