{
 "cells": [
  {
   "cell_type": "code",
   "execution_count": 1,
   "metadata": {},
   "outputs": [],
   "source": [
    "import os\n",
    "import json\n",
    "import pickle\n",
    "import random\n",
    "from collections import defaultdict, Counter\n",
    "\n",
    "from indra.literature.adeft_tools import universal_extract_text\n",
    "from indra.databases.hgnc_client import get_hgnc_name, get_hgnc_id\n",
    "\n",
    "from adeft.discover import AdeftMiner\n",
    "from adeft.gui import ground_with_gui\n",
    "from adeft.modeling.label import AdeftLabeler\n",
    "from adeft.modeling.classify import AdeftClassifier\n",
    "from adeft.disambiguate import AdeftDisambiguator, load_disambiguator\n",
    "\n",
    "\n",
    "from adeft_indra.ground.ground import AdeftGrounder\n",
    "from adeft_indra.model_building.s3 import model_to_s3\n",
    "from adeft_indra.model_building.escape import escape_filename\n",
    "from adeft_indra.db.content import get_pmids_for_agent_text, get_pmids_for_entity, \\\n",
    "    get_plaintexts_for_pmids"
   ]
  },
  {
   "cell_type": "code",
   "execution_count": 2,
   "metadata": {},
   "outputs": [],
   "source": [
    "adeft_grounder = AdeftGrounder()"
   ]
  },
  {
   "cell_type": "code",
   "execution_count": 3,
   "metadata": {},
   "outputs": [],
   "source": [
    "shortforms = ['TF']\n",
    "model_name = ':'.join(sorted(escape_filename(shortform) for shortform in shortforms))\n",
    "results_path = os.path.abspath(os.path.join('../..', 'results', model_name))"
   ]
  },
  {
   "cell_type": "code",
   "execution_count": 4,
   "metadata": {},
   "outputs": [],
   "source": [
    "miners = dict()\n",
    "all_texts = {}\n",
    "for shortform in shortforms:\n",
    "    pmids = get_pmids_for_agent_text(shortform)\n",
    "    text_dict = get_plaintexts_for_pmids(pmids, contains=shortforms)\n",
    "    text_dict = {pmid: text for pmid, text in text_dict.items() if len(text) > 5}\n",
    "    miners[shortform] = AdeftMiner(shortform)\n",
    "    miners[shortform].process_texts(text_dict.values())\n",
    "    all_texts.update(text_dict)\n",
    "\n",
    "longform_dict = {}\n",
    "for shortform in shortforms:\n",
    "    longforms = miners[shortform].get_longforms()\n",
    "    longforms = [(longform, count, score) for longform, count, score in longforms\n",
    "                 if count*score > 2]\n",
    "    longform_dict[shortform] = longforms\n",
    "    \n",
    "combined_longforms = Counter()\n",
    "for longform_rows in longform_dict.values():\n",
    "    combined_longforms.update({longform: count for longform, count, score\n",
    "                               in longform_rows})\n",
    "grounding_map = {}\n",
    "names = {}\n",
    "for longform in combined_longforms:\n",
    "    groundings = adeft_grounder.ground(longform)\n",
    "    if groundings:\n",
    "        grounding = groundings[0]['grounding']\n",
    "        grounding_map[longform] = grounding\n",
    "        names[grounding] = groundings[0]['name']\n",
    "longforms, counts = zip(*combined_longforms.most_common())\n",
    "pos_labels = []"
   ]
  },
  {
   "cell_type": "code",
   "execution_count": 5,
   "metadata": {},
   "outputs": [
    {
     "data": {
      "text/plain": [
       "[('tissue factor', 2947),\n",
       " ('transferrin', 150),\n",
       " ('tail flick', 67),\n",
       " ('theaflavin', 29),\n",
       " ('thomsen friedenreich', 27),\n",
       " ('total flavonoids', 27),\n",
       " ('transmitted founder', 26),\n",
       " ('tall fescue', 22),\n",
       " ('tolylfluanid', 18),\n",
       " ('time frequency', 14),\n",
       " ('trachomatous inflammation follicular', 13),\n",
       " ('tibiofemoral', 10),\n",
       " ('transfemoral', 9),\n",
       " ('telephone filtered', 8),\n",
       " ('typhoid fever', 8),\n",
       " ('terminal filament', 7),\n",
       " ('tension force', 7),\n",
       " ('treatment failure', 6),\n",
       " ('temporal frequency', 6),\n",
       " ('traditional foods', 5),\n",
       " ('trigger finger', 5),\n",
       " ('total fat', 5),\n",
       " ('trans fat', 5),\n",
       " ('toxicological footprint', 4),\n",
       " ('transverse foramen', 4),\n",
       " ('tube feeding', 4),\n",
       " ('triple fusion', 4),\n",
       " ('follicular trachoma', 4),\n",
       " ('tail flick reflex', 4),\n",
       " ('tear film', 3),\n",
       " ('tear fluid', 3),\n",
       " ('tf', 3),\n",
       " ('transfer function', 3),\n",
       " ('tryptophan fluorescence', 3),\n",
       " ('through focus', 3),\n",
       " ('thin filament', 3),\n",
       " ('thigh fat', 3),\n",
       " ('tongue force', 3),\n",
       " ('terfenadine', 3),\n",
       " ('transformation', 3),\n",
       " ('transframe', 3),\n",
       " ('to failure', 3)]"
      ]
     },
     "execution_count": 5,
     "metadata": {},
     "output_type": "execute_result"
    }
   ],
   "source": [
    "list(zip(longforms, counts))"
   ]
  },
  {
   "cell_type": "code",
   "execution_count": 6,
   "metadata": {},
   "outputs": [],
   "source": [
    "try:\n",
    "    disamb = load_disambiguator(shortforms[0])\n",
    "    for shortform, gm in disamb.grounding_dict.items():\n",
    "        for longform, grounding in gm.items():\n",
    "            grounding_map[longform] = grounding\n",
    "    for grounding, name in disamb.names.items():\n",
    "        names[grounding] = name\n",
    "    pos_labels = disamb.pos_labels\n",
    "except Exception:\n",
    "    pass"
   ]
  },
  {
   "cell_type": "code",
   "execution_count": 7,
   "metadata": {},
   "outputs": [
    {
     "data": {
      "text/plain": [
       "{'HGNC:3541': 'F3',\n",
       " 'HGNC:11740': 'TF',\n",
       " 'CHEBI:CHEBI:136609': 'Theaflavin',\n",
       " 'MESH:D005419': 'Flavonoids',\n",
       " 'CHEBI:CHEBI:75182': 'Toylfluanid',\n",
       " 'HP:HP:0040279': 'Frequency',\n",
       " 'MESH:D014435': 'Typhoid Fever',\n",
       " 'MESH:D017211': 'Treatment Failure',\n",
       " 'MESH:D005502': 'Food',\n",
       " 'HP:HP:0012276': 'Digital flexor tenosynovitis',\n",
       " 'HGNC:1663': 'CD36',\n",
       " 'MESH:D014141': 'Trachoma',\n",
       " 'MESH:D012018': 'Reflex',\n",
       " 'MESH:D005453': 'Fluorescence',\n",
       " 'CHEBI:CHEBI:9453': 'Terfenadine'}"
      ]
     },
     "execution_count": 7,
     "metadata": {},
     "output_type": "execute_result"
    }
   ],
   "source": [
    "names"
   ]
  },
  {
   "cell_type": "code",
   "execution_count": 8,
   "metadata": {},
   "outputs": [
    {
     "name": "stderr",
     "output_type": "stream",
     "text": [
      "INFO: [2020-11-02 23:47:17] indra.ontology.bio.ontology - Loading INDRA bio ontology from cache at /home/ubuntu/.indra/bio_ontology/1.4/bio_ontology.pkl\n"
     ]
    }
   ],
   "source": [
    "grounding_map, names, pos_labels = ground_with_gui(longforms, counts, \n",
    "                                                   grounding_map=grounding_map,\n",
    "                                                   names=names, pos_labels=pos_labels, no_browser=True, port=8891)"
   ]
  },
  {
   "cell_type": "code",
   "execution_count": 9,
   "metadata": {},
   "outputs": [],
   "source": [
    "result = [grounding_map, names, pos_labels]"
   ]
  },
  {
   "cell_type": "code",
   "execution_count": 10,
   "metadata": {},
   "outputs": [
    {
     "data": {
      "text/plain": [
       "[{'follicular trachoma': 'MESH:D014141',\n",
       "  'tail flick': 'ungrounded',\n",
       "  'tail flick reflex': 'ungrounded',\n",
       "  'tall fescue': 'ungrounded',\n",
       "  'tear film': 'ungrounded',\n",
       "  'tear fluid': 'ungrounded',\n",
       "  'telephone filtered': 'ungrounded',\n",
       "  'temporal frequency': 'ungrounded',\n",
       "  'tension force': 'ungrounded',\n",
       "  'terfenadine': 'CHEBI:CHEBI:9453',\n",
       "  'terminal filament': 'ungrounded',\n",
       "  'tf': 'ungrounded',\n",
       "  'theaflavin': 'CHEBI:CHEBI:136609',\n",
       "  'thigh fat': 'ungrounded',\n",
       "  'thin filament': 'ungrounded',\n",
       "  'thomsen friedenreich': 'MESH:C016467',\n",
       "  'through focus': 'ungrounded',\n",
       "  'tibiofemoral': 'ungrounded',\n",
       "  'time frequency': 'ungrounded',\n",
       "  'tissue factor': 'HGNC:3541',\n",
       "  'to failure': 'ungrounded',\n",
       "  'tolylfluanid': 'CHEBI:CHEBI:75182',\n",
       "  'tongue force': 'ungrounded',\n",
       "  'total fat': 'ungrounded',\n",
       "  'total flavonoids': 'ungrounded',\n",
       "  'toxicological footprint': 'ungrounded',\n",
       "  'trachomatous inflammation follicular': 'ungrounded',\n",
       "  'traditional foods': 'MESH:D005502',\n",
       "  'trans fat': 'ungrounded',\n",
       "  'transfemoral': 'ungrounded',\n",
       "  'transfer function': 'ungrounded',\n",
       "  'transferrin': 'HGNC:11740',\n",
       "  'transformation': 'ungrounded',\n",
       "  'transframe': 'ungrounded',\n",
       "  'transmitted founder': 'ungrounded',\n",
       "  'transverse foramen': 'ungrounded',\n",
       "  'treatment failure': 'MESH:D017211',\n",
       "  'trigger finger': 'HP:HP:0012276',\n",
       "  'triple fusion': 'ungrounded',\n",
       "  'tryptophan fluorescence': 'ungrounded',\n",
       "  'tube feeding': 'ungrounded',\n",
       "  'typhoid fever': 'MESH:D014435'},\n",
       " {'MESH:D014141': 'Trachoma',\n",
       "  'CHEBI:CHEBI:9453': 'Terfenadine',\n",
       "  'CHEBI:CHEBI:136609': 'Theaflavin',\n",
       "  'MESH:C016467': 'Thomsen-Friedenreich antigen',\n",
       "  'HGNC:3541': 'F3',\n",
       "  'CHEBI:CHEBI:75182': 'Toylfluanid',\n",
       "  'MESH:D005502': 'Food',\n",
       "  'HGNC:11740': 'TF',\n",
       "  'MESH:D017211': 'Treatment Failure',\n",
       "  'HP:HP:0012276': 'Digital flexor tenosynovitis',\n",
       "  'MESH:D014435': 'Typhoid Fever'},\n",
       " ['CHEBI:CHEBI:136609',\n",
       "  'CHEBI:CHEBI:75182',\n",
       "  'HGNC:11740',\n",
       "  'HGNC:3541',\n",
       "  'MESH:C016467']]"
      ]
     },
     "execution_count": 10,
     "metadata": {},
     "output_type": "execute_result"
    }
   ],
   "source": [
    "result"
   ]
  },
  {
   "cell_type": "code",
   "execution_count": 11,
   "metadata": {},
   "outputs": [],
   "source": [
    "grounding_map, names, pos_labels = [{'follicular trachoma': 'MESH:D014141',\n",
    "  'tail flick': 'ungrounded',\n",
    "  'tail flick reflex': 'ungrounded',\n",
    "  'tall fescue': 'ungrounded',\n",
    "  'tear film': 'ungrounded',\n",
    "  'tear fluid': 'ungrounded',\n",
    "  'telephone filtered': 'ungrounded',\n",
    "  'temporal frequency': 'ungrounded',\n",
    "  'tension force': 'ungrounded',\n",
    "  'terfenadine': 'CHEBI:CHEBI:9453',\n",
    "  'terminal filament': 'ungrounded',\n",
    "  'tf': 'ungrounded',\n",
    "  'theaflavin': 'CHEBI:CHEBI:136609',\n",
    "  'thigh fat': 'ungrounded',\n",
    "  'thin filament': 'ungrounded',\n",
    "  'thomsen friedenreich': 'MESH:C016467',\n",
    "  'through focus': 'ungrounded',\n",
    "  'tibiofemoral': 'ungrounded',\n",
    "  'time frequency': 'ungrounded',\n",
    "  'tissue factor': 'HGNC:3541',\n",
    "  'to failure': 'ungrounded',\n",
    "  'tolylfluanid': 'CHEBI:CHEBI:75182',\n",
    "  'tongue force': 'ungrounded',\n",
    "  'total fat': 'ungrounded',\n",
    "  'total flavonoids': 'ungrounded',\n",
    "  'toxicological footprint': 'ungrounded',\n",
    "  'trachomatous inflammation follicular': 'ungrounded',\n",
    "  'traditional foods': 'MESH:D005502',\n",
    "  'trans fat': 'ungrounded',\n",
    "  'transfemoral': 'ungrounded',\n",
    "  'transfer function': 'ungrounded',\n",
    "  'transferrin': 'HGNC:11740',\n",
    "  'transformation': 'ungrounded',\n",
    "  'transframe': 'ungrounded',\n",
    "  'transmitted founder': 'ungrounded',\n",
    "  'transverse foramen': 'ungrounded',\n",
    "  'treatment failure': 'MESH:D017211',\n",
    "  'trigger finger': 'HP:HP:0012276',\n",
    "  'triple fusion': 'ungrounded',\n",
    "  'tryptophan fluorescence': 'ungrounded',\n",
    "  'tube feeding': 'ungrounded',\n",
    "  'typhoid fever': 'MESH:D014435'},\n",
    " {'MESH:D014141': 'Trachoma',\n",
    "  'CHEBI:CHEBI:9453': 'Terfenadine',\n",
    "  'CHEBI:CHEBI:136609': 'Theaflavin',\n",
    "  'MESH:C016467': 'Thomsen-Friedenreich antigen',\n",
    "  'HGNC:3541': 'F3',\n",
    "  'CHEBI:CHEBI:75182': 'Toylfluanid',\n",
    "  'MESH:D005502': 'Food',\n",
    "  'HGNC:11740': 'TF',\n",
    "  'MESH:D017211': 'Treatment Failure',\n",
    "  'HP:HP:0012276': 'Digital flexor tenosynovitis',\n",
    "  'MESH:D014435': 'Typhoid Fever'},\n",
    " ['CHEBI:CHEBI:136609',\n",
    "  'CHEBI:CHEBI:75182',\n",
    "  'HGNC:11740',\n",
    "  'HGNC:3541',\n",
    "  'MESH:C016467']]"
   ]
  },
  {
   "cell_type": "code",
   "execution_count": 12,
   "metadata": {},
   "outputs": [],
   "source": [
    "excluded_longforms = ['tf']"
   ]
  },
  {
   "cell_type": "code",
   "execution_count": 13,
   "metadata": {},
   "outputs": [],
   "source": [
    "grounding_dict = {shortform: {longform: grounding_map[longform] \n",
    "                              for longform, _, _ in longforms if longform in grounding_map\n",
    "                              and longform not in excluded_longforms}\n",
    "                  for shortform, longforms in longform_dict.items()}\n",
    "result = [grounding_dict, names, pos_labels]\n",
    "\n",
    "if not os.path.exists(results_path):\n",
    "    os.mkdir(results_path)\n",
    "with open(os.path.join(results_path, f'{model_name}_preliminary_grounding_info.json'), 'w') as f:\n",
    "    json.dump(result, f)"
   ]
  },
  {
   "cell_type": "code",
   "execution_count": 14,
   "metadata": {},
   "outputs": [],
   "source": [
    "additional_entities = {}"
   ]
  },
  {
   "cell_type": "code",
   "execution_count": 15,
   "metadata": {},
   "outputs": [],
   "source": [
    "unambiguous_agent_texts = {}"
   ]
  },
  {
   "cell_type": "code",
   "execution_count": 16,
   "metadata": {},
   "outputs": [],
   "source": [
    "labeler = AdeftLabeler(grounding_dict)\n",
    "corpus = labeler.build_from_texts((text, pmid) for pmid, text in all_texts.items())\n",
    "agent_text_pmid_map = defaultdict(list)\n",
    "for text, label, id_ in corpus:\n",
    "    agent_text_pmid_map[label].append(id_)\n",
    "\n",
    "entity_pmid_map = {entity: set(get_pmids_for_entity(*entity.split(':', maxsplit=1),\n",
    "                                                major_topic=True))for entity in additional_entities}"
   ]
  },
  {
   "cell_type": "code",
   "execution_count": 17,
   "metadata": {},
   "outputs": [],
   "source": [
    "intersection1 = []\n",
    "for entity1, pmids1 in entity_pmid_map.items():\n",
    "    for entity2, pmids2 in entity_pmid_map.items():\n",
    "        intersection1.append((entity1, entity2, len(pmids1 & pmids2)))"
   ]
  },
  {
   "cell_type": "code",
   "execution_count": 18,
   "metadata": {},
   "outputs": [],
   "source": [
    "intersection2 = []\n",
    "for entity1, pmids1 in agent_text_pmid_map.items():\n",
    "    for entity2, pmids2 in entity_pmid_map.items():\n",
    "        intersection2.append((entity1, entity2, len(set(pmids1) & pmids2)))"
   ]
  },
  {
   "cell_type": "code",
   "execution_count": 19,
   "metadata": {},
   "outputs": [
    {
     "data": {
      "text/plain": [
       "[]"
      ]
     },
     "execution_count": 19,
     "metadata": {},
     "output_type": "execute_result"
    }
   ],
   "source": [
    "intersection1"
   ]
  },
  {
   "cell_type": "code",
   "execution_count": 20,
   "metadata": {},
   "outputs": [
    {
     "data": {
      "text/plain": [
       "[]"
      ]
     },
     "execution_count": 20,
     "metadata": {},
     "output_type": "execute_result"
    }
   ],
   "source": [
    "intersection2"
   ]
  },
  {
   "cell_type": "code",
   "execution_count": 22,
   "metadata": {},
   "outputs": [],
   "source": [
    "all_used_pmids = set()\n",
    "for entity, agent_texts in unambiguous_agent_texts.items():\n",
    "    used_pmids = set()\n",
    "    for agent_text in agent_texts[1]:\n",
    "        pmids = set(get_pmids_for_agent_text(agent_text))\n",
    "        new_pmids = list(pmids - all_texts.keys() - used_pmids)\n",
    "        text_dict = get_plaintexts_for_pmids(new_pmids, contains=agent_texts)\n",
    "        corpus.extend([(text, entity, pmid) for pmid, text in text_dict.items() if len(text) >= 5])\n",
    "        used_pmids.update(new_pmids)\n",
    "    all_used_pmids.update(used_pmids)\n",
    "        \n",
    "for entity, pmids in entity_pmid_map.items():\n",
    "    new_pmids = list(set(pmids) - all_texts.keys() - all_used_pmids)\n",
    "    if len(new_pmids) > 10000:\n",
    "        new_pmids = random.choices(new_pmids, k=10000)\n",
    "    _, contains = additional_entities[entity]\n",
    "    text_dict = get_plaintexts_for_pmids(new_pmids, contains=contains)\n",
    "    corpus.extend([(text, entity, pmid) for pmid, text in text_dict.items() if len(text) >= 5])"
   ]
  },
  {
   "cell_type": "code",
   "execution_count": 23,
   "metadata": {},
   "outputs": [],
   "source": [
    "names.update({key: value[0] for key, value in additional_entities.items()})\n",
    "names.update({key: value[0] for key, value in unambiguous_agent_texts.items()})\n",
    "pos_labels = list(set(pos_labels) | additional_entities.keys() |\n",
    "                  unambiguous_agent_texts.keys())"
   ]
  },
  {
   "cell_type": "code",
   "execution_count": 21,
   "metadata": {},
   "outputs": [
    {
     "name": "stderr",
     "output_type": "stream",
     "text": [
      "INFO: [2020-11-03 00:37:42] /adeft/PP/adeft/adeft/modeling/classify.py - Beginning grid search in parameter space:\n",
      "{'C': [100.0], 'max_features': [10000]}\n",
      "INFO: [2020-11-03 00:38:30] /adeft/PP/adeft/adeft/modeling/classify.py - Best f1 score of 0.9746253202407752 found for parameter values:\n",
      "{'logit__C': 100.0, 'tfidf__max_features': 10000}\n"
     ]
    }
   ],
   "source": [
    "%%capture\n",
    "\n",
    "classifier = AdeftClassifier(shortforms, pos_labels=pos_labels, random_state=1729)\n",
    "param_grid = {'C': [100.0], 'max_features': [10000]}\n",
    "texts, labels, pmids = zip(*corpus)\n",
    "classifier.cv(texts, labels, param_grid, cv=5, n_jobs=5)"
   ]
  },
  {
   "cell_type": "code",
   "execution_count": 22,
   "metadata": {
    "scrolled": true
   },
   "outputs": [
    {
     "data": {
      "text/plain": [
       "{'label_distribution': {'HGNC:3541': 2351,\n",
       "  'HGNC:11740': 114,\n",
       "  'ungrounded': 184,\n",
       "  'MESH:D014141': 4,\n",
       "  'CHEBI:CHEBI:9453': 3,\n",
       "  'MESH:D014435': 6,\n",
       "  'MESH:C016467': 19,\n",
       "  'CHEBI:CHEBI:136609': 23,\n",
       "  'CHEBI:CHEBI:75182': 10,\n",
       "  'MESH:D017211': 4,\n",
       "  'HP:HP:0012276': 4,\n",
       "  'MESH:D005502': 4},\n",
       " 'f1': {'mean': 0.974625, 'std': 0.006322},\n",
       " 'precision': {'mean': 0.968984, 'std': 0.009347},\n",
       " 'recall': {'mean': 0.982915, 'std': 0.005709},\n",
       " 'CHEBI:CHEBI:9453': {'f1': {'mean': 0.0, 'std': 0.0},\n",
       "  'pr': {'mean': 0.0, 'std': 0.0},\n",
       "  'rc': {'mean': 0.0, 'std': 0.0}},\n",
       " 'MESH:D014435': {'f1': {'mean': 0.6, 'std': 0.489898},\n",
       "  'pr': {'mean': 0.6, 'std': 0.489898},\n",
       "  'rc': {'mean': 0.6, 'std': 0.489898}},\n",
       " 'MESH:C016467': {'f1': {'mean': 0.674286, 'std': 0.372351},\n",
       "  'pr': {'mean': 0.633333, 'std': 0.371184},\n",
       "  'rc': {'mean': 0.733333, 'std': 0.38873}},\n",
       " 'MESH:D005502': {'f1': {'mean': 0.4, 'std': 0.489898},\n",
       "  'pr': {'mean': 0.4, 'std': 0.489898},\n",
       "  'rc': {'mean': 0.4, 'std': 0.489898}},\n",
       " 'ungrounded': {'f1': {'mean': 0.876791, 'std': 0.044584},\n",
       "  'pr': {'mean': 0.847898, 'std': 0.088034},\n",
       "  'rc': {'mean': 0.916936, 'std': 0.041638}},\n",
       " 'HGNC:11740': {'f1': {'mean': 0.872169, 'std': 0.06039},\n",
       "  'pr': {'mean': 0.799209, 'std': 0.100535},\n",
       "  'rc': {'mean': 0.968885, 'std': 0.026074}},\n",
       " 'MESH:D017211': {'f1': {'mean': 0.0, 'std': 0.0},\n",
       "  'pr': {'mean': 0.0, 'std': 0.0},\n",
       "  'rc': {'mean': 0.0, 'std': 0.0}},\n",
       " 'CHEBI:CHEBI:75182': {'f1': {'mean': 0.866667, 'std': 0.163299},\n",
       "  'pr': {'mean': 0.8, 'std': 0.244949},\n",
       "  'rc': {'mean': 1.0, 'std': 0.0}},\n",
       " 'CHEBI:CHEBI:136609': {'f1': {'mean': 0.769048, 'std': 0.148995},\n",
       "  'pr': {'mean': 0.67, 'std': 0.198997},\n",
       "  'rc': {'mean': 0.95, 'std': 0.1}},\n",
       " 'MESH:D014141': {'f1': {'mean': 0.0, 'std': 0.0},\n",
       "  'pr': {'mean': 0.0, 'std': 0.0},\n",
       "  'rc': {'mean': 0.0, 'std': 0.0}},\n",
       " 'HGNC:3541': {'f1': {'mean': 0.984704, 'std': 0.003797},\n",
       "  'pr': {'mean': 0.998724, 'std': 0.001042},\n",
       "  'rc': {'mean': 0.971092, 'std': 0.006861}},\n",
       " 'HP:HP:0012276': {'f1': {'mean': 0.0, 'std': 0.0},\n",
       "  'pr': {'mean': 0.0, 'std': 0.0},\n",
       "  'rc': {'mean': 0.0, 'std': 0.0}}}"
      ]
     },
     "execution_count": 22,
     "metadata": {},
     "output_type": "execute_result"
    }
   ],
   "source": [
    "classifier.stats"
   ]
  },
  {
   "cell_type": "code",
   "execution_count": 23,
   "metadata": {},
   "outputs": [],
   "source": [
    "disamb = AdeftDisambiguator(classifier, grounding_dict, names)"
   ]
  },
  {
   "cell_type": "code",
   "execution_count": 24,
   "metadata": {},
   "outputs": [],
   "source": [
    "disamb.dump(model_name, results_path)"
   ]
  },
  {
   "cell_type": "code",
   "execution_count": 25,
   "metadata": {},
   "outputs": [
    {
     "name": "stdout",
     "output_type": "stream",
     "text": [
      "Disambiguation model for TF\n",
      "\n",
      "Produces the disambiguations:\n",
      "\tDigital flexor tenosynovitis\tHP:HP:0012276\n",
      "\tF3*\tHGNC:3541\n",
      "\tFood\tMESH:D005502\n",
      "\tTF*\tHGNC:11740\n",
      "\tTerfenadine\tCHEBI:CHEBI:9453\n",
      "\tTheaflavin*\tCHEBI:CHEBI:136609\n",
      "\tThomsen-Friedenreich antigen*\tMESH:C016467\n",
      "\tToylfluanid*\tCHEBI:CHEBI:75182\n",
      "\tTrachoma\tMESH:D014141\n",
      "\tTreatment Failure\tMESH:D017211\n",
      "\tTyphoid Fever\tMESH:D014435\n",
      "\n",
      "Class level metrics:\n",
      "--------------------\n",
      "Grounding                   \tCount\tF1     \n",
      "                          F3*\t2351\t 0.9847\n",
      "                  Ungrounded\t 184\t0.87679\n",
      "                          TF*\t 114\t0.87217\n",
      "                  Theaflavin*\t  23\t0.76905\n",
      "Thomsen-Friedenreich antigen*\t  19\t0.67429\n",
      "                 Toylfluanid*\t  10\t0.86667\n",
      "               Typhoid Fever\t   6\t    0.6\n",
      "                    Trachoma\t   4\t    0.0\n",
      "           Treatment Failure\t   4\t    0.0\n",
      "Digital flexor tenosynovitis\t   4\t    0.0\n",
      "                        Food\t   4\t    0.4\n",
      "                 Terfenadine\t   3\t    0.0\n",
      "\n",
      "Weighted Metrics:\n",
      "-----------------\n",
      "\tF1 score:\t0.97462\n",
      "\tPrecision:\t0.96898\n",
      "\tRecall:\t\t0.98292\n",
      "\n",
      "* Positive labels\n",
      "See Docstring for explanation\n",
      "\n"
     ]
    }
   ],
   "source": [
    "print(disamb.info())"
   ]
  },
  {
   "cell_type": "code",
   "execution_count": 26,
   "metadata": {},
   "outputs": [],
   "source": [
    "model_to_s3(disamb)"
   ]
  },
  {
   "cell_type": "code",
   "execution_count": 30,
   "metadata": {},
   "outputs": [],
   "source": [
    "preds = [disamb.disambiguate(text) for text in all_texts.values()]"
   ]
  },
  {
   "cell_type": "code",
   "execution_count": 31,
   "metadata": {},
   "outputs": [],
   "source": [
    "texts = [text for pred, text in zip(preds, all_texts.values()) if pred[0] == 'HGNC:10967']"
   ]
  },
  {
   "cell_type": "code",
   "execution_count": 36,
   "metadata": {},
   "outputs": [
    {
     "data": {
      "text/plain": [
       "'The non-neuronal monoamine transporters (OCT1, OCT2, EMT, and PMAT) play a key role in the clearance of monoamines from extracellular compartments. In a previous report we described endometrial distribution and cyclic variation of the vesicular monoamine transporter (VMAT2) mRNA and the neuronal norepinephrine transporter (NET) mRNA. In the present study we used in situ hybridization, real-time PCR and immunohistochemistry to reveal tissue distribution and cyclic variation of mRNA for the non-neuronal monoamine transporters in the human endometrium and early pregnancy decidua. We found that non-neuronal monoamine transporters are predominantly expressed in the stroma. The plasma membrane monoamine transporter (PMAT) mRNA expression peaked in the proliferative phase, whereas the extra-neuronal monoamine transporter (EMT) mRNA expression peaked in the secretory phase. The organic cation transporter 2 (OCT2) mRNA expression was exclusively detected in few scattered stromal cells and OCT1 mRNA was not detected at all. Our present results demonstrate that PMAT, EMT, and OCT2 transporters are expressed in the endometrial stroma and can potentially regulate reuptake of monoamines in general and histamine in particular. Taken together with our previous finding of VMAT2 mRNA in epithelial cells, we suggest a paracrine interaction between stromal and epithelial cells, which may modulate certain steps of the reproductive process.\\n'"
      ]
     },
     "execution_count": 36,
     "metadata": {},
     "output_type": "execute_result"
    }
   ],
   "source": [
    "texts[3]"
   ]
  },
  {
   "cell_type": "code",
   "execution_count": null,
   "metadata": {},
   "outputs": [],
   "source": []
  }
 ],
 "metadata": {
  "kernelspec": {
   "display_name": "Python 3",
   "language": "python",
   "name": "python3"
  },
  "language_info": {
   "codemirror_mode": {
    "name": "ipython",
    "version": 3
   },
   "file_extension": ".py",
   "mimetype": "text/x-python",
   "name": "python",
   "nbconvert_exporter": "python",
   "pygments_lexer": "ipython3",
   "version": "3.8.4"
  }
 },
 "nbformat": 4,
 "nbformat_minor": 2
}
