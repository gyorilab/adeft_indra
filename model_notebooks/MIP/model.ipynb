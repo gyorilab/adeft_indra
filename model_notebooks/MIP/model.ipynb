{
 "cells": [
  {
   "cell_type": "code",
   "execution_count": 1,
   "metadata": {},
   "outputs": [],
   "source": [
    "import os\n",
    "import json\n",
    "import pickle\n",
    "import random\n",
    "from collections import defaultdict, Counter\n",
    "\n",
    "from indra.literature.adeft_tools import universal_extract_text\n",
    "from indra.databases.hgnc_client import get_hgnc_name, get_hgnc_id\n",
    "\n",
    "from adeft.discover import AdeftMiner\n",
    "from adeft.gui import ground_with_gui\n",
    "from adeft.modeling.label import AdeftLabeler\n",
    "from adeft.modeling.classify import AdeftClassifier\n",
    "from adeft.disambiguate import AdeftDisambiguator, load_disambiguator\n",
    "\n",
    "\n",
    "from adeft_indra.ground.ground import AdeftGrounder\n",
    "from adeft_indra.model_building.s3 import model_to_s3\n",
    "from adeft_indra.model_building.escape import escape_filename\n",
    "from adeft_indra.db.content import get_pmids_for_agent_text, get_pmids_for_entity, \\\n",
    "    get_plaintexts_for_pmids"
   ]
  },
  {
   "cell_type": "code",
   "execution_count": 2,
   "metadata": {},
   "outputs": [],
   "source": [
    "adeft_grounder = AdeftGrounder()"
   ]
  },
  {
   "cell_type": "code",
   "execution_count": 3,
   "metadata": {},
   "outputs": [],
   "source": [
    "shortforms = ['MIP']\n",
    "model_name = ':'.join(sorted(escape_filename(shortform) for shortform in shortforms))\n",
    "results_path = os.path.abspath(os.path.join('../..', 'results', model_name))"
   ]
  },
  {
   "cell_type": "code",
   "execution_count": 4,
   "metadata": {},
   "outputs": [],
   "source": [
    "miners = dict()\n",
    "all_texts = {}\n",
    "for shortform in shortforms:\n",
    "    pmids = get_pmids_for_agent_text(shortform)\n",
    "    if len(pmids) > 10000:\n",
    "        pmids = random.choices(pmids, k=10000)\n",
    "    text_dict = get_plaintexts_for_pmids(pmids, contains=shortforms)\n",
    "    text_dict = {pmid: text for pmid, text in text_dict.items() if len(text) > 5}\n",
    "    miners[shortform] = AdeftMiner(shortform)\n",
    "    miners[shortform].process_texts(text_dict.values())\n",
    "    all_texts.update(text_dict)\n",
    "\n",
    "longform_dict = {}\n",
    "for shortform in shortforms:\n",
    "    longforms = miners[shortform].get_longforms()\n",
    "    longforms = [(longform, count, score) for longform, count, score in longforms\n",
    "                 if count*score > 2]\n",
    "    longform_dict[shortform] = longforms\n",
    "    \n",
    "combined_longforms = Counter()\n",
    "for longform_rows in longform_dict.values():\n",
    "    combined_longforms.update({longform: count for longform, count, score\n",
    "                               in longform_rows})\n",
    "grounding_map = {}\n",
    "names = {}\n",
    "for longform in combined_longforms:\n",
    "    groundings = adeft_grounder.ground(longform)\n",
    "    if groundings:\n",
    "        grounding = groundings[0]['grounding']\n",
    "        grounding_map[longform] = grounding\n",
    "        names[grounding] = groundings[0]['name']\n",
    "longforms, counts = zip(*combined_longforms.most_common())\n",
    "pos_labels = []"
   ]
  },
  {
   "cell_type": "code",
   "execution_count": 5,
   "metadata": {},
   "outputs": [
    {
     "data": {
      "text/plain": [
       "[('molecularly imprinted polymer', 113),\n",
       " ('macrophage inflammatory protein', 69),\n",
       " ('maximal inspiratory pressure', 46),\n",
       " ('mycobacterium indicus pranii', 30),\n",
       " ('maximum intensity projection', 25),\n",
       " ('major intrinsic protein', 25),\n",
       " ('molecularly inversion probe', 14),\n",
       " ('maximum inspiratory pressure', 14),\n",
       " ('minimally invasive parathyroidectomy', 13),\n",
       " ('malaria in pregnancy', 12),\n",
       " ('myoinhibitory peptide', 11),\n",
       " ('myd88 inhibitory peptide', 8),\n",
       " ('mitochondrial intermediate peptidase', 6),\n",
       " ('main intrinsic protein', 6),\n",
       " ('mercury intrusion porosimetry', 4),\n",
       " ('macrophage infectivity potential', 4),\n",
       " ('micropapillary', 4),\n",
       " ('myo inositol 1 phosphate', 4),\n",
       " ('main intrinsic polypeptide', 3),\n",
       " ('methylation induced premeiotically', 3),\n",
       " ('mouse insulin promoter', 3),\n",
       " ('minimally invasive potential', 3),\n",
       " ('maximal inspiratory', 3),\n",
       " ('maff interacting protein', 3),\n",
       " ('inspiratory muscle strength', 3)]"
      ]
     },
     "execution_count": 5,
     "metadata": {},
     "output_type": "execute_result"
    }
   ],
   "source": [
    "list(zip(longforms, counts))"
   ]
  },
  {
   "cell_type": "code",
   "execution_count": 21,
   "metadata": {},
   "outputs": [],
   "source": [
    "grounding_map, names, pos_labels = ground_with_gui(longforms, counts, \n",
    "                                                   grounding_map=grounding_map,\n",
    "                                                   names=names, pos_labels=pos_labels, no_browser=True, port=8891)"
   ]
  },
  {
   "cell_type": "code",
   "execution_count": 22,
   "metadata": {},
   "outputs": [],
   "source": [
    "result = [grounding_map, names, pos_labels]"
   ]
  },
  {
   "cell_type": "code",
   "execution_count": 24,
   "metadata": {},
   "outputs": [
    {
     "data": {
      "text/plain": [
       "[{'inspiratory muscle strength': 'ungrounded',\n",
       "  'macrophage infectivity potential': 'ungrounded',\n",
       "  'macrophage inflammatory protein': 'FPLX:Macrophage_inflammatory_proteins',\n",
       "  'maff interacting protein': 'HGNC:31102',\n",
       "  'main intrinsic polypeptide': 'ungrounded',\n",
       "  'main intrinsic protein': 'FPLX:AQP',\n",
       "  'major intrinsic protein': 'FPLX:AQP',\n",
       "  'malaria in pregnancy': 'ungrounded',\n",
       "  'maximal inspiratory': 'NCIT:C135496',\n",
       "  'maximal inspiratory pressure': 'NCIT:C135496',\n",
       "  'maximum inspiratory pressure': 'NCIT:C135496',\n",
       "  'maximum intensity projection': 'NCIT:C94930',\n",
       "  'mercury intrusion porosimetry': 'ungrounded',\n",
       "  'methylation induced premeiotically': 'ungrounded',\n",
       "  'micropapillary': 'ungrounded',\n",
       "  'minimally invasive parathyroidectomy': 'ungrounded',\n",
       "  'minimally invasive potential': 'ungrounded',\n",
       "  'mitochondrial intermediate peptidase': 'HGNC:7104',\n",
       "  'molecularly imprinted polymer': 'molecularly imprinted polymer',\n",
       "  'molecularly inversion probe': 'ungrounded',\n",
       "  'mouse insulin promoter': 'ungrounded',\n",
       "  'mycobacterium indicus pranii': 'TAXONOMY:35617',\n",
       "  'myd88 inhibitory peptide': 'myd88_inhibitory_peptide',\n",
       "  'myo inositol 1 phosphate': 'ungrounded',\n",
       "  'myoinhibitory peptide': 'MESH:C000603492'},\n",
       " {'FPLX:Macrophage_inflammatory_proteins': 'Macrophage_inflammatory_proteins',\n",
       "  'HGNC:31102': 'MAFIP',\n",
       "  'FPLX:AQP': 'AQP',\n",
       "  'NCIT:C135496': 'Maximal Inspiratory Pressure',\n",
       "  'NCIT:C94930': 'Maximum Intensity Projection',\n",
       "  'HGNC:7104': 'MIPEP',\n",
       "  'molecularly imprinted polymer': 'molecularly imprinted polymer',\n",
       "  'TAXONOMY:35617': 'Mycobacterium intracellulare subsp. intracellulare',\n",
       "  'myd88_inhibitory_peptide': 'myd88 inhibitory peptide',\n",
       "  'MESH:C000603492': 'myoinhibitory peptide, Drosophila'},\n",
       " ['FPLX:AQP',\n",
       "  'FPLX:Macrophage_inflammatory_proteins',\n",
       "  'HGNC:31102',\n",
       "  'HGNC:7104',\n",
       "  'MESH:C000603492']]"
      ]
     },
     "execution_count": 24,
     "metadata": {},
     "output_type": "execute_result"
    }
   ],
   "source": [
    "result"
   ]
  },
  {
   "cell_type": "code",
   "execution_count": 25,
   "metadata": {},
   "outputs": [],
   "source": [
    "grounding_map, names, pos_labels = [{'inspiratory muscle strength': 'ungrounded',\n",
    "  'macrophage infectivity potential': 'ungrounded',\n",
    "  'macrophage inflammatory protein': 'FPLX:Macrophage_inflammatory_proteins',\n",
    "  'maff interacting protein': 'HGNC:31102',\n",
    "  'main intrinsic polypeptide': 'ungrounded',\n",
    "  'main intrinsic protein': 'FPLX:AQP',\n",
    "  'major intrinsic protein': 'FPLX:AQP',\n",
    "  'malaria in pregnancy': 'ungrounded',\n",
    "  'maximal inspiratory': 'NCIT:C135496',\n",
    "  'maximal inspiratory pressure': 'NCIT:C135496',\n",
    "  'maximum inspiratory pressure': 'NCIT:C135496',\n",
    "  'maximum intensity projection': 'NCIT:C94930',\n",
    "  'mercury intrusion porosimetry': 'ungrounded',\n",
    "  'methylation induced premeiotically': 'ungrounded',\n",
    "  'micropapillary': 'ungrounded',\n",
    "  'minimally invasive parathyroidectomy': 'ungrounded',\n",
    "  'minimally invasive potential': 'ungrounded',\n",
    "  'mitochondrial intermediate peptidase': 'HGNC:7104',\n",
    "  'molecularly imprinted polymer': 'molecularly imprinted polymer',\n",
    "  'molecularly inversion probe': 'ungrounded',\n",
    "  'mouse insulin promoter': 'ungrounded',\n",
    "  'mycobacterium indicus pranii': 'TAXONOMY:35617',\n",
    "  'myd88 inhibitory peptide': 'myd88_inhibitory_peptide',\n",
    "  'myo inositol 1 phosphate': 'ungrounded',\n",
    "  'myoinhibitory peptide': 'MESH:C000603492'},\n",
    " {'FPLX:Macrophage_inflammatory_proteins': 'Macrophage_inflammatory_proteins',\n",
    "  'HGNC:31102': 'MAFIP',\n",
    "  'FPLX:AQP': 'AQP',\n",
    "  'NCIT:C135496': 'Maximal Inspiratory Pressure',\n",
    "  'NCIT:C94930': 'Maximum Intensity Projection',\n",
    "  'HGNC:7104': 'MIPEP',\n",
    "  'molecularly imprinted polymer': 'molecularly imprinted polymer',\n",
    "  'TAXONOMY:35617': 'Mycobacterium intracellulare subsp. intracellulare',\n",
    "  'myd88_inhibitory_peptide': 'myd88 inhibitory peptide',\n",
    "  'MESH:C000603492': 'myoinhibitory peptide, Drosophila'},\n",
    " ['FPLX:AQP',\n",
    "  'FPLX:Macrophage_inflammatory_proteins',\n",
    "  'HGNC:31102',\n",
    "  'HGNC:7104',\n",
    "  'MESH:C000603492']]"
   ]
  },
  {
   "cell_type": "code",
   "execution_count": 26,
   "metadata": {},
   "outputs": [],
   "source": [
    "excluded_longforms = []"
   ]
  },
  {
   "cell_type": "code",
   "execution_count": 27,
   "metadata": {},
   "outputs": [],
   "source": [
    "grounding_dict = {shortform: {longform: grounding_map[longform] \n",
    "                              for longform, _, _ in longforms if longform in grounding_map\n",
    "                              and longform not in excluded_longforms}\n",
    "                  for shortform, longforms in longform_dict.items()}\n",
    "result = [grounding_dict, names, pos_labels]\n",
    "\n",
    "if not os.path.exists(results_path):\n",
    "    os.mkdir(results_path)\n",
    "with open(os.path.join(results_path, f'{model_name}_preliminary_grounding_info.json'), 'w') as f:\n",
    "    json.dump(result, f)"
   ]
  },
  {
   "cell_type": "code",
   "execution_count": 28,
   "metadata": {},
   "outputs": [],
   "source": [
    "additional_entities = {}"
   ]
  },
  {
   "cell_type": "code",
   "execution_count": 29,
   "metadata": {},
   "outputs": [],
   "source": [
    "unambiguous_agent_texts = {}"
   ]
  },
  {
   "cell_type": "code",
   "execution_count": 30,
   "metadata": {},
   "outputs": [],
   "source": [
    "labeler = AdeftLabeler(grounding_dict)\n",
    "corpus = labeler.build_from_texts((text, pmid) for pmid, text in all_texts.items())\n",
    "agent_text_pmid_map = defaultdict(list)\n",
    "for text, label, id_ in corpus:\n",
    "    agent_text_pmid_map[label].append(id_)\n",
    "\n",
    "entity_pmid_map = {entity: set(get_pmids_for_entity(*entity.split(':', maxsplit=1),\n",
    "                                                major_topic=True))for entity in additional_entities}"
   ]
  },
  {
   "cell_type": "code",
   "execution_count": 12,
   "metadata": {},
   "outputs": [],
   "source": [
    "intersection1 = []\n",
    "for entity1, pmids1 in entity_pmid_map.items():\n",
    "    for entity2, pmids2 in entity_pmid_map.items():\n",
    "        intersection1.append((entity1, entity2, len(pmids1 & pmids2)))"
   ]
  },
  {
   "cell_type": "code",
   "execution_count": 13,
   "metadata": {},
   "outputs": [],
   "source": [
    "intersection2 = []\n",
    "for entity1, pmids1 in agent_text_pmid_map.items():\n",
    "    for entity2, pmids2 in entity_pmid_map.items():\n",
    "        intersection2.append((entity1, entity2, len(set(pmids1) & pmids2)))"
   ]
  },
  {
   "cell_type": "code",
   "execution_count": 14,
   "metadata": {},
   "outputs": [
    {
     "data": {
      "text/plain": [
       "[('HGNC:1848', 'HGNC:1848', 86)]"
      ]
     },
     "execution_count": 14,
     "metadata": {},
     "output_type": "execute_result"
    }
   ],
   "source": [
    "intersection1"
   ]
  },
  {
   "cell_type": "code",
   "execution_count": 15,
   "metadata": {},
   "outputs": [
    {
     "data": {
      "text/plain": [
       "[('MESH:D018893', 'HGNC:1848', 0),\n",
       " ('HGNC:1848', 'HGNC:1848', 1),\n",
       " ('ungrounded', 'HGNC:1848', 0),\n",
       " ('CHEBI:CHEBI:64198', 'HGNC:1848', 0),\n",
       " ('MESH:D019164', 'HGNC:1848', 0),\n",
       " ('MESH:C059416', 'HGNC:1848', 0),\n",
       " ('CHEBI:CHEBI:15710', 'HGNC:1848', 0)]"
      ]
     },
     "execution_count": 15,
     "metadata": {},
     "output_type": "execute_result"
    }
   ],
   "source": [
    "intersection2"
   ]
  },
  {
   "cell_type": "code",
   "execution_count": 17,
   "metadata": {},
   "outputs": [],
   "source": [
    "all_used_pmids = set()\n",
    "for entity, agent_texts in unambiguous_agent_texts.items():\n",
    "    used_pmids = set()\n",
    "    for agent_text in agent_texts[1]:\n",
    "        pmids = set(get_pmids_for_agent_text(agent_text))\n",
    "        new_pmids = list(pmids - all_texts.keys() - used_pmids)\n",
    "        text_dict = get_plaintexts_for_pmids(new_pmids, contains=agent_texts)\n",
    "        corpus.extend([(text, entity, pmid) for pmid, text in text_dict.items()])\n",
    "        used_pmids.update(new_pmids)\n",
    "    all_used_pmids.update(used_pmids)\n",
    "        \n",
    "for entity, pmids in entity_pmid_map.items():\n",
    "    new_pmids = list(set(pmids) - all_texts.keys() - all_used_pmids)\n",
    "    if len(new_pmids) > 10000:\n",
    "        new_pmids = random.choices(new_pmids, k=10000)\n",
    "    _, contains = additional_entities[entity]\n",
    "    text_dict = get_plaintexts_for_pmids(new_pmids, contains=contains)\n",
    "    corpus.extend([(text, entity, pmid) for pmid, text in text_dict.items()])"
   ]
  },
  {
   "cell_type": "code",
   "execution_count": 18,
   "metadata": {},
   "outputs": [],
   "source": [
    "names.update({key: value[0] for key, value in additional_entities.items()})\n",
    "names.update({key: value[0] for key, value in unambiguous_agent_texts.items()})\n",
    "pos_labels = list(set(pos_labels) | additional_entities.keys() |\n",
    "                  unambiguous_agent_texts.keys())"
   ]
  },
  {
   "cell_type": "code",
   "execution_count": 31,
   "metadata": {},
   "outputs": [
    {
     "name": "stderr",
     "output_type": "stream",
     "text": [
      "INFO: [2020-10-28 04:17:22] /adeft/PP/adeft/adeft/modeling/classify.py - Beginning grid search in parameter space:\n",
      "{'C': [100.0], 'max_features': [10000]}\n",
      "INFO: [2020-10-28 04:17:27] /adeft/PP/adeft/adeft/modeling/classify.py - Best f1 score of 0.8238476971669672 found for parameter values:\n",
      "{'logit__C': 100.0, 'tfidf__max_features': 10000}\n"
     ]
    }
   ],
   "source": [
    "%%capture\n",
    "\n",
    "classifier = AdeftClassifier(shortforms, pos_labels=pos_labels, random_state=1729)\n",
    "param_grid = {'C': [100.0], 'max_features': [10000]}\n",
    "texts, labels, pmids = zip(*corpus)\n",
    "classifier.cv(texts, labels, param_grid, cv=5, n_jobs=5)"
   ]
  },
  {
   "cell_type": "code",
   "execution_count": 32,
   "metadata": {
    "scrolled": true
   },
   "outputs": [
    {
     "data": {
      "text/plain": [
       "{'label_distribution': {'HGNC:7104': 6,\n",
       "  'FPLX:Macrophage_inflammatory_proteins': 63,\n",
       "  'FPLX:AQP': 23,\n",
       "  'ungrounded': 47,\n",
       "  'NCIT:C135496': 42,\n",
       "  'NCIT:C94930': 22,\n",
       "  'molecularly imprinted polymer': 103,\n",
       "  'HGNC:31102': 3,\n",
       "  'TAXONOMY:35617': 17,\n",
       "  'myd88_inhibitory_peptide': 5,\n",
       "  'MESH:C000603492': 7},\n",
       " 'f1': {'mean': 0.823848, 'std': 0.039743},\n",
       " 'precision': {'mean': 0.812943, 'std': 0.052718},\n",
       " 'recall': {'mean': 0.852101, 'std': 0.033838},\n",
       " 'ungrounded': {'f1': {'mean': 0.689351, 'std': 0.129239},\n",
       "  'pr': {'mean': 0.671111, 'std': 0.203743},\n",
       "  'rc': {'mean': 0.740303, 'std': 0.064137}},\n",
       " 'HGNC:7104': {'f1': {'mean': 0.933333, 'std': 0.133333},\n",
       "  'pr': {'mean': 0.9, 'std': 0.2},\n",
       "  'rc': {'mean': 1.0, 'std': 0.0}},\n",
       " 'NCIT:C94930': {'f1': {'mean': 0.897691, 'std': 0.057377},\n",
       "  'pr': {'mean': 0.95, 'std': 0.1},\n",
       "  'rc': {'mean': 0.869524, 'std': 0.113393}},\n",
       " 'MESH:C000603492': {'f1': {'mean': 0.733333, 'std': 0.38873},\n",
       "  'pr': {'mean': 0.7, 'std': 0.4},\n",
       "  'rc': {'mean': 0.8, 'std': 0.4}},\n",
       " 'FPLX:AQP': {'f1': {'mean': 0.818009, 'std': 0.083172},\n",
       "  'pr': {'mean': 0.78, 'std': 0.128841},\n",
       "  'rc': {'mean': 0.876667, 'std': 0.104137}},\n",
       " 'TAXONOMY:35617': {'f1': {'mean': 0.694762, 'std': 0.160105},\n",
       "  'pr': {'mean': 0.633333, 'std': 0.15456},\n",
       "  'rc': {'mean': 0.783333, 'std': 0.194365}},\n",
       " 'myd88_inhibitory_peptide': {'f1': {'mean': 0.6, 'std': 0.489898},\n",
       "  'pr': {'mean': 0.6, 'std': 0.489898},\n",
       "  'rc': {'mean': 0.6, 'std': 0.489898}},\n",
       " 'HGNC:31102': {'f1': {'mean': 0.0, 'std': 0.0},\n",
       "  'pr': {'mean': 0.0, 'std': 0.0},\n",
       "  'rc': {'mean': 0.0, 'std': 0.0}},\n",
       " 'molecularly imprinted polymer': {'f1': {'mean': 0.977137, 'std': 0.024358},\n",
       "  'pr': {'mean': 0.990476, 'std': 0.019048},\n",
       "  'rc': {'mean': 0.965909, 'std': 0.048745}},\n",
       " 'FPLX:Macrophage_inflammatory_proteins': {'f1': {'mean': 0.868081,\n",
       "   'std': 0.053653},\n",
       "  'pr': {'mean': 0.937179, 'std': 0.057962},\n",
       "  'rc': {'mean': 0.81, 'std': 0.061545}},\n",
       " 'NCIT:C135496': {'f1': {'mean': 0.943137, 'std': 0.032243},\n",
       "  'pr': {'mean': 0.952778, 'std': 0.058002},\n",
       "  'rc': {'mean': 0.941414, 'std': 0.075156}}}"
      ]
     },
     "execution_count": 32,
     "metadata": {},
     "output_type": "execute_result"
    }
   ],
   "source": [
    "classifier.stats"
   ]
  },
  {
   "cell_type": "code",
   "execution_count": 33,
   "metadata": {},
   "outputs": [],
   "source": [
    "disamb = AdeftDisambiguator(classifier, grounding_dict, names)"
   ]
  },
  {
   "cell_type": "code",
   "execution_count": 34,
   "metadata": {},
   "outputs": [],
   "source": [
    "disamb.dump(model_name, results_path)"
   ]
  },
  {
   "cell_type": "code",
   "execution_count": 35,
   "metadata": {},
   "outputs": [
    {
     "name": "stdout",
     "output_type": "stream",
     "text": [
      "Disambiguation model for MIP\n",
      "\n",
      "Produces the disambiguations:\n",
      "\tAQP*\tFPLX:AQP\n",
      "\tMAFIP*\tHGNC:31102\n",
      "\tMIPEP*\tHGNC:7104\n",
      "\tMacrophage_inflammatory_proteins*\tFPLX:Macrophage_inflammatory_proteins\n",
      "\tMaximal Inspiratory Pressure\tNCIT:C135496\n",
      "\tMaximum Intensity Projection\tNCIT:C94930\n",
      "\tMycobacterium intracellulare subsp. intracellulare\tTAXONOMY:35617\n",
      "\tmolecularly imprinted polymer\tmolecularly imprinted polymer\n",
      "\tmyd88 inhibitory peptide\tmyd88_inhibitory_peptide\n",
      "\tmyoinhibitory peptide, Drosophila*\tMESH:C000603492\n",
      "\n",
      "Class level metrics:\n",
      "--------------------\n",
      "Grounding                                         \tCount\tF1     \n",
      "                     molecularly imprinted polymer\t103\t0.97714\n",
      "                  Macrophage_inflammatory_proteins*\t 63\t0.86808\n",
      "                                        Ungrounded\t 47\t0.68935\n",
      "                      Maximal Inspiratory Pressure\t 42\t0.94314\n",
      "                                               AQP*\t 23\t0.81801\n",
      "                      Maximum Intensity Projection\t 22\t0.89769\n",
      "Mycobacterium intracellulare subsp. intracellulare\t 17\t0.69476\n",
      "                 myoinhibitory peptide, Drosophila*\t  7\t0.73333\n",
      "                                             MIPEP*\t  6\t0.93333\n",
      "                          myd88 inhibitory peptide\t  5\t    0.6\n",
      "                                             MAFIP*\t  3\t    0.0\n",
      "\n",
      "Weighted Metrics:\n",
      "-----------------\n",
      "\tF1 score:\t0.82385\n",
      "\tPrecision:\t0.81294\n",
      "\tRecall:\t\t0.8521\n",
      "\n",
      "* Positive labels\n",
      "See Docstring for explanation\n",
      "\n"
     ]
    }
   ],
   "source": [
    "print(disamb.info())"
   ]
  },
  {
   "cell_type": "code",
   "execution_count": 36,
   "metadata": {},
   "outputs": [],
   "source": [
    "model_to_s3(disamb)"
   ]
  },
  {
   "cell_type": "code",
   "execution_count": null,
   "metadata": {},
   "outputs": [],
   "source": []
  }
 ],
 "metadata": {
  "kernelspec": {
   "display_name": "Python 3",
   "language": "python",
   "name": "python3"
  },
  "language_info": {
   "codemirror_mode": {
    "name": "ipython",
    "version": 3
   },
   "file_extension": ".py",
   "mimetype": "text/x-python",
   "name": "python",
   "nbconvert_exporter": "python",
   "pygments_lexer": "ipython3",
   "version": "3.8.4"
  }
 },
 "nbformat": 4,
 "nbformat_minor": 2
}
