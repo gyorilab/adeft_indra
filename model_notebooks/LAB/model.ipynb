{
 "cells": [
  {
   "cell_type": "code",
   "execution_count": 1,
   "metadata": {},
   "outputs": [],
   "source": [
    "import os\n",
    "import json\n",
    "import pickle\n",
    "import random\n",
    "from collections import defaultdict, Counter\n",
    "\n",
    "from indra.literature.adeft_tools import universal_extract_text\n",
    "from indra.databases.hgnc_client import get_hgnc_name, get_hgnc_id\n",
    "\n",
    "from adeft.discover import AdeftMiner\n",
    "from adeft.gui import ground_with_gui\n",
    "from adeft.modeling.label import AdeftLabeler\n",
    "from adeft.modeling.classify import AdeftClassifier\n",
    "from adeft.disambiguate import AdeftDisambiguator\n",
    "\n",
    "\n",
    "from adeft_indra.ground.ground import AdeftGrounder\n",
    "from adeft_indra.model_building.s3 import model_to_s3\n",
    "from adeft_indra.model_building.escape import escape_filename\n",
    "from adeft_indra.db.content import get_pmids_for_agent_text, get_pmids_for_entity, \\\n",
    "    get_plaintexts_for_pmids"
   ]
  },
  {
   "cell_type": "code",
   "execution_count": 2,
   "metadata": {},
   "outputs": [],
   "source": [
    "adeft_grounder = AdeftGrounder()"
   ]
  },
  {
   "cell_type": "code",
   "execution_count": 3,
   "metadata": {},
   "outputs": [],
   "source": [
    "shortforms = ['LAB']\n",
    "model_name = ':'.join(sorted(escape_filename(shortform) for shortform in shortforms))\n",
    "results_path = os.path.abspath(os.path.join('../..', 'results', model_name))"
   ]
  },
  {
   "cell_type": "code",
   "execution_count": 4,
   "metadata": {},
   "outputs": [],
   "source": [
    "miners = dict()\n",
    "all_texts = {}\n",
    "for shortform in shortforms:\n",
    "    pmids = get_pmids_for_agent_text(shortform)\n",
    "    if len(pmids) > 10000:\n",
    "        pmids = random.choices(pmids, k=10000)\n",
    "    text_dict = get_plaintexts_for_pmids(pmids, contains=shortforms)\n",
    "    text_dict = {pmid: text for pmid, text in text_dict.items() if len(text) > 5}\n",
    "    miners[shortform] = AdeftMiner(shortform)\n",
    "    miners[shortform].process_texts(text_dict.values())\n",
    "    all_texts.update(text_dict)\n",
    "\n",
    "longform_dict = {}\n",
    "for shortform in shortforms:\n",
    "    longforms = miners[shortform].get_longforms()\n",
    "    longforms = [(longform, count, score) for longform, count, score in longforms\n",
    "                 if count*score > 2]\n",
    "    longform_dict[shortform] = longforms\n",
    "    \n",
    "combined_longforms = Counter()\n",
    "for longform_rows in longform_dict.values():\n",
    "    combined_longforms.update({longform: count for longform, count, score\n",
    "                               in longform_rows})\n",
    "grounding_map = {}\n",
    "names = {}\n",
    "for longform in combined_longforms:\n",
    "    groundings = adeft_grounder.ground(longform)\n",
    "    if groundings:\n",
    "        grounding = groundings[0]['grounding']\n",
    "        grounding_map[longform] = grounding\n",
    "        names[grounding] = groundings[0]['name']\n",
    "longforms, counts = zip(*combined_longforms.most_common())\n",
    "pos_labels = []"
   ]
  },
  {
   "cell_type": "code",
   "execution_count": 5,
   "metadata": {},
   "outputs": [
    {
     "data": {
      "text/plain": [
       "[('lactic acid bacteria', 1146),\n",
       " ('lactic acid bacterium', 13),\n",
       " ('lactic acid bacterial', 9),\n",
       " ('lactic acid produced bacteria', 9),\n",
       " ('laser assisted bioprinting', 6),\n",
       " ('low anxiety related behavior', 6),\n",
       " ('lithospermate acid b', 5),\n",
       " ('hab and low', 5),\n",
       " ('lactic bacteria', 4),\n",
       " ('linker for activity of b cells', 4),\n",
       " ('low anxiety', 4),\n",
       " ('learning ability battery', 3),\n",
       " ('l arabinitol', 3),\n",
       " ('lactalbumin', 3),\n",
       " ('ligand containing apob', 3),\n",
       " ('magnesium lithospermate b', 3)]"
      ]
     },
     "execution_count": 5,
     "metadata": {},
     "output_type": "execute_result"
    }
   ],
   "source": [
    "list(zip(longforms, counts))"
   ]
  },
  {
   "cell_type": "code",
   "execution_count": 6,
   "metadata": {},
   "outputs": [
    {
     "name": "stderr",
     "output_type": "stream",
     "text": [
      "INFO: [2020-10-09 14:56:40] indra.ontology.bio.ontology - Loading INDRA bio ontology from cache at /home/ubuntu/.indra/bio_ontology/1.2/bio_ontology.pkl\n"
     ]
    }
   ],
   "source": [
    "grounding_map, names, pos_labels = ground_with_gui(longforms, counts, \n",
    "                                                   grounding_map=grounding_map,\n",
    "                                                   names=names, pos_labels=pos_labels, no_browser=True, port=8890)"
   ]
  },
  {
   "cell_type": "code",
   "execution_count": 7,
   "metadata": {},
   "outputs": [],
   "source": [
    "result = [grounding_map, names, pos_labels]"
   ]
  },
  {
   "cell_type": "code",
   "execution_count": 8,
   "metadata": {},
   "outputs": [
    {
     "data": {
      "text/plain": [
       "[{'hab and low': 'ungrounded',\n",
       "  'l arabinitol': 'CHEBI:CHEBI:18403',\n",
       "  'lactalbumin': 'MESH:D007768',\n",
       "  'lactic acid bacteria': 'MESH:D056546',\n",
       "  'lactic acid bacterial': 'MESH:D056546',\n",
       "  'lactic acid bacterium': 'MESH:D056546',\n",
       "  'lactic acid produced bacteria': 'MESH:D056546',\n",
       "  'lactic bacteria': 'MESH:D056546',\n",
       "  'laser assisted bioprinting': 'MESH:D062028',\n",
       "  'learning ability battery': 'ungrounded',\n",
       "  'ligand containing apob': 'HGNC:603',\n",
       "  'linker for activity of b cells': 'HGNC:12745',\n",
       "  'lithospermate acid b': 'MESH:C061091',\n",
       "  'low anxiety': 'ungrounded',\n",
       "  'low anxiety related behavior': 'ungrounded',\n",
       "  'magnesium lithospermate b': 'MESH:C061091'},\n",
       " {'CHEBI:CHEBI:18403': 'L-arabinitol',\n",
       "  'MESH:D007768': 'Lactalbumin',\n",
       "  'MESH:D056546': 'Lactobacillales',\n",
       "  'MESH:D062028': 'Bioprinting',\n",
       "  'HGNC:603': 'APOB',\n",
       "  'HGNC:12745': 'LAT2',\n",
       "  'MESH:C061091': 'lithospermate B'},\n",
       " ['HGNC:12745', 'MESH:C061091', 'MESH:D056546']]"
      ]
     },
     "execution_count": 8,
     "metadata": {},
     "output_type": "execute_result"
    }
   ],
   "source": [
    "result"
   ]
  },
  {
   "cell_type": "code",
   "execution_count": 6,
   "metadata": {},
   "outputs": [],
   "source": [
    "grounding_map, names, pos_labels = [{'hab and low': 'ungrounded',\n",
    "  'l arabinitol': 'CHEBI:CHEBI:18403',\n",
    "  'lactalbumin': 'MESH:D007768',\n",
    "  'lactic acid bacteria': 'MESH:D056546',\n",
    "  'lactic acid bacterial': 'MESH:D056546',\n",
    "  'lactic acid bacterium': 'MESH:D056546',\n",
    "  'lactic acid produced bacteria': 'MESH:D056546',\n",
    "  'lactic bacteria': 'MESH:D056546',\n",
    "  'laser assisted bioprinting': 'MESH:D062028',\n",
    "  'learning ability battery': 'ungrounded',\n",
    "  'ligand containing apob': 'HGNC:603',\n",
    "  'linker for activity of b cells': 'HGNC:12749',\n",
    "  'lithospermate acid b': 'MESH:C061091',\n",
    "  'low anxiety': 'ungrounded',\n",
    "  'low anxiety related behavior': 'ungrounded',\n",
    "  'magnesium lithospermate b': 'MESH:C061091'},\n",
    " {'CHEBI:CHEBI:18403': 'L-arabinitol',\n",
    "  'MESH:D007768': 'Lactalbumin',\n",
    "  'MESH:D056546': 'Lactobacillales',\n",
    "  'MESH:D062028': 'Bioprinting',\n",
    "  'HGNC:603': 'APOB',\n",
    "  'HGNC:12749': 'LAT2',\n",
    "  'MESH:C061091': 'lithospermate B'},\n",
    " ['HGNC:12749', 'MESH:C061091', 'MESH:D056546']]"
   ]
  },
  {
   "cell_type": "code",
   "execution_count": 7,
   "metadata": {},
   "outputs": [],
   "source": [
    "excluded_longforms = []"
   ]
  },
  {
   "cell_type": "code",
   "execution_count": 8,
   "metadata": {},
   "outputs": [],
   "source": [
    "grounding_dict = {shortform: {longform: grounding_map[longform] \n",
    "                              for longform, _, _ in longforms if longform in grounding_map\n",
    "                              and longform not in excluded_longforms}\n",
    "                  for shortform, longforms in longform_dict.items()}\n",
    "result = [grounding_dict, names, pos_labels]\n",
    "\n",
    "if not os.path.exists(results_path):\n",
    "    os.mkdir(results_path)\n",
    "with open(os.path.join(results_path, f'{model_name}_preliminary_grounding_info.json'), 'w') as f:\n",
    "    json.dump(result, f)"
   ]
  },
  {
   "cell_type": "code",
   "execution_count": 9,
   "metadata": {},
   "outputs": [],
   "source": [
    "additional_entities = {'HGNC:12749': ['LAT2', ['LAB']]}"
   ]
  },
  {
   "cell_type": "code",
   "execution_count": 10,
   "metadata": {},
   "outputs": [],
   "source": [
    "unambiguous_agent_texts = {}"
   ]
  },
  {
   "cell_type": "code",
   "execution_count": 11,
   "metadata": {},
   "outputs": [],
   "source": [
    "labeler = AdeftLabeler(grounding_dict)\n",
    "corpus = labeler.build_from_texts((text, pmid) for pmid, text in all_texts.items())\n",
    "agent_text_pmid_map = defaultdict(list)\n",
    "for text, label, id_ in corpus:\n",
    "    agent_text_pmid_map[label].append(id_)\n",
    "\n",
    "entity_pmid_map = {entity: set(get_pmids_for_entity(*entity.split(':', maxsplit=1),\n",
    "                                                major_topic=True))for entity in additional_entities}"
   ]
  },
  {
   "cell_type": "code",
   "execution_count": null,
   "metadata": {},
   "outputs": [],
   "source": []
  },
  {
   "cell_type": "code",
   "execution_count": 12,
   "metadata": {},
   "outputs": [],
   "source": [
    "intersection1 = []\n",
    "for entity1, pmids1 in entity_pmid_map.items():\n",
    "    for entity2, pmids2 in entity_pmid_map.items():\n",
    "        intersection1.append((entity1, entity2, len(pmids1 & pmids2)))"
   ]
  },
  {
   "cell_type": "code",
   "execution_count": 13,
   "metadata": {},
   "outputs": [],
   "source": [
    "intersection2 = []\n",
    "for entity1, pmids1 in agent_text_pmid_map.items():\n",
    "    for entity2, pmids2 in entity_pmid_map.items():\n",
    "        intersection2.append((entity1, entity2, len(set(pmids1) & pmids2)))"
   ]
  },
  {
   "cell_type": "code",
   "execution_count": 14,
   "metadata": {},
   "outputs": [
    {
     "data": {
      "text/plain": [
       "[('HGNC:12749', 'HGNC:12749', 35)]"
      ]
     },
     "execution_count": 14,
     "metadata": {},
     "output_type": "execute_result"
    }
   ],
   "source": [
    "intersection1"
   ]
  },
  {
   "cell_type": "code",
   "execution_count": 15,
   "metadata": {},
   "outputs": [
    {
     "data": {
      "text/plain": [
       "[('MESH:D056546', 'HGNC:12749', 0),\n",
       " ('ungrounded', 'HGNC:12749', 0),\n",
       " ('MESH:C061091', 'HGNC:12749', 0),\n",
       " ('HGNC:12749', 'HGNC:12749', 0),\n",
       " ('HGNC:603', 'HGNC:12749', 0),\n",
       " ('MESH:D007768', 'HGNC:12749', 0),\n",
       " ('CHEBI:CHEBI:18403', 'HGNC:12749', 0),\n",
       " ('MESH:D062028', 'HGNC:12749', 0)]"
      ]
     },
     "execution_count": 15,
     "metadata": {},
     "output_type": "execute_result"
    }
   ],
   "source": [
    "intersection2"
   ]
  },
  {
   "cell_type": "code",
   "execution_count": 16,
   "metadata": {},
   "outputs": [],
   "source": [
    "all_used_pmids = set()\n",
    "for entity, agent_texts in unambiguous_agent_texts.items():\n",
    "    used_pmids = set()\n",
    "    for agent_text in agent_texts[1]:\n",
    "        pmids = set(get_pmids_for_agent_text(agent_text))\n",
    "        new_pmids = list(pmids - all_texts.keys() - used_pmids)\n",
    "        text_dict = get_plaintexts_for_pmids(new_pmids, contains=agent_texts)\n",
    "        corpus.extend([(text, entity, pmid) for pmid, text in text_dict.items() if len(text) >= 5])\n",
    "        used_pmids.update(new_pmids)\n",
    "    all_used_pmids.update(used_pmids)\n",
    "        \n",
    "for entity, pmids in entity_pmid_map.items():\n",
    "    new_pmids = list(set(pmids) - all_texts.keys() - all_used_pmids)\n",
    "    if len(new_pmids) > 10000:\n",
    "        new_pmids = random.choices(new_pmids, k=10000)\n",
    "    _, contains = additional_entities[entity]\n",
    "    text_dict = get_plaintexts_for_pmids(new_pmids, contains=contains)\n",
    "    corpus.extend([(text, entity, pmid) for pmid, text in text_dict.items() if len(text) >= 5])"
   ]
  },
  {
   "cell_type": "code",
   "execution_count": 17,
   "metadata": {},
   "outputs": [],
   "source": [
    "names.update({key: value[0] for key, value in additional_entities.items()})\n",
    "names.update({key: value[0] for key, value in unambiguous_agent_texts.items()})\n",
    "pos_labels = list(set(pos_labels) | additional_entities.keys() |\n",
    "                  unambiguous_agent_texts.keys())"
   ]
  },
  {
   "cell_type": "code",
   "execution_count": 18,
   "metadata": {},
   "outputs": [
    {
     "name": "stderr",
     "output_type": "stream",
     "text": [
      "INFO: [2020-10-30 02:48:01] /adeft/PP/adeft/adeft/modeling/classify.py - Beginning grid search in parameter space:\n",
      "{'C': [100.0], 'max_features': [10000]}\n",
      "INFO: [2020-10-30 02:48:15] /adeft/PP/adeft/adeft/modeling/classify.py - Best f1 score of 0.9859568013078486 found for parameter values:\n",
      "{'logit__C': 100.0, 'tfidf__max_features': 10000}\n"
     ]
    }
   ],
   "source": [
    "%%capture\n",
    "\n",
    "classifier = AdeftClassifier(shortforms, pos_labels=pos_labels, random_state=1729)\n",
    "param_grid = {'C': [100.0], 'max_features': [10000]}\n",
    "texts, labels, pmids = zip(*corpus)\n",
    "classifier.cv(texts, labels, param_grid, cv=5, n_jobs=5)"
   ]
  },
  {
   "cell_type": "code",
   "execution_count": 19,
   "metadata": {
    "scrolled": true
   },
   "outputs": [
    {
     "data": {
      "text/plain": [
       "{'label_distribution': {'MESH:D056546': 875,\n",
       "  'ungrounded': 11,\n",
       "  'MESH:C061091': 6,\n",
       "  'HGNC:12749': 13,\n",
       "  'HGNC:603': 3,\n",
       "  'MESH:D007768': 2,\n",
       "  'CHEBI:CHEBI:18403': 2,\n",
       "  'MESH:D062028': 1},\n",
       " 'f1': {'mean': 0.985957, 'std': 0.003043},\n",
       " 'precision': {'mean': 0.980058, 'std': 0.004385},\n",
       " 'recall': {'mean': 0.992172, 'std': 0.002732},\n",
       " 'ungrounded': {'f1': {'mean': 0.866667, 'std': 0.163299},\n",
       "  'pr': {'mean': 0.8, 'std': 0.244949},\n",
       "  'rc': {'mean': 1.0, 'std': 0.0}},\n",
       " 'MESH:C061091': {'f1': {'mean': 0.0, 'std': 0.0},\n",
       "  'pr': {'mean': 0.0, 'std': 0.0},\n",
       "  'rc': {'mean': 0.0, 'std': 0.0}},\n",
       " 'HGNC:12749': {'f1': {'mean': 0.96, 'std': 0.08},\n",
       "  'pr': {'mean': 0.933333, 'std': 0.133333},\n",
       "  'rc': {'mean': 1.0, 'std': 0.0}},\n",
       " 'HGNC:603': {'f1': {'mean': 0.6, 'std': 0.489898},\n",
       "  'pr': {'mean': 0.6, 'std': 0.489898},\n",
       "  'rc': {'mean': 0.6, 'std': 0.489898}},\n",
       " 'MESH:D007768': {'f1': {'mean': 0.4, 'std': 0.489898},\n",
       "  'pr': {'mean': 0.4, 'std': 0.489898},\n",
       "  'rc': {'mean': 0.4, 'std': 0.489898}},\n",
       " 'CHEBI:CHEBI:18403': {'f1': {'mean': 0.0, 'std': 0.0},\n",
       "  'pr': {'mean': 0.0, 'std': 0.0},\n",
       "  'rc': {'mean': 0.0, 'std': 0.0}},\n",
       " 'MESH:D062028': {'f1': {'mean': 0.0, 'std': 0.0},\n",
       "  'pr': {'mean': 0.0, 'std': 0.0},\n",
       "  'rc': {'mean': 0.0, 'std': 0.0}},\n",
       " 'MESH:D056546': {'f1': {'mean': 0.993191, 'std': 0.00138},\n",
       "  'pr': {'mean': 1.0, 'std': 0.0},\n",
       "  'rc': {'mean': 0.986479, 'std': 0.002721}}}"
      ]
     },
     "execution_count": 19,
     "metadata": {},
     "output_type": "execute_result"
    }
   ],
   "source": [
    "classifier.stats"
   ]
  },
  {
   "cell_type": "code",
   "execution_count": 20,
   "metadata": {},
   "outputs": [],
   "source": [
    "disamb = AdeftDisambiguator(classifier, grounding_dict, names)"
   ]
  },
  {
   "cell_type": "code",
   "execution_count": 21,
   "metadata": {},
   "outputs": [],
   "source": [
    "disamb.dump(model_name, results_path)"
   ]
  },
  {
   "cell_type": "code",
   "execution_count": 22,
   "metadata": {},
   "outputs": [
    {
     "name": "stdout",
     "output_type": "stream",
     "text": [
      "Disambiguation model for LAB\n",
      "\n",
      "Produces the disambiguations:\n",
      "\tAPOB\tHGNC:603\n",
      "\tBioprinting\tMESH:D062028\n",
      "\tL-arabinitol\tCHEBI:CHEBI:18403\n",
      "\tLAT2*\tHGNC:12749\n",
      "\tLactalbumin\tMESH:D007768\n",
      "\tLactobacillales*\tMESH:D056546\n",
      "\tlithospermate B*\tMESH:C061091\n",
      "\n",
      "Class level metrics:\n",
      "--------------------\n",
      "Grounding      \tCount\tF1     \n",
      "Lactobacillales*\t875\t0.99319\n",
      "           LAT2*\t 13\t   0.96\n",
      "     Ungrounded\t 11\t0.86667\n",
      "lithospermate B*\t  6\t    0.0\n",
      "           APOB\t  3\t    0.6\n",
      "    Lactalbumin\t  2\t    0.4\n",
      "   L-arabinitol\t  2\t    0.0\n",
      "    Bioprinting\t  1\t    0.0\n",
      "\n",
      "Weighted Metrics:\n",
      "-----------------\n",
      "\tF1 score:\t0.98596\n",
      "\tPrecision:\t0.98006\n",
      "\tRecall:\t\t0.99217\n",
      "\n",
      "* Positive labels\n",
      "See Docstring for explanation\n",
      "\n"
     ]
    }
   ],
   "source": [
    "print(disamb.info())"
   ]
  },
  {
   "cell_type": "code",
   "execution_count": 23,
   "metadata": {},
   "outputs": [],
   "source": [
    "model_to_s3(disamb)"
   ]
  },
  {
   "cell_type": "code",
   "execution_count": 54,
   "metadata": {},
   "outputs": [],
   "source": [
    "preds = disamb.disambiguate(all_texts.values())"
   ]
  },
  {
   "cell_type": "code",
   "execution_count": 55,
   "metadata": {},
   "outputs": [],
   "source": [
    "texts = [text for text, pred in zip(all_texts.values(), preds) if pred[0] == 'HGNC:12749']"
   ]
  },
  {
   "cell_type": "code",
   "execution_count": 59,
   "metadata": {},
   "outputs": [
    {
     "data": {
      "text/plain": [
       "'An alternative scenario for BLNK recruitment involves a LAT-like molecule in B cells. This molecule, called either linker for activation of B cells (LAB) or non-T-cell activation linker (NTAL), was recently identified  [29 •• ,30 •• ] . LAB is expressed in B cells, natural killer cells, monocytes and mast cells  [30 •• ] . Similar to LAT, LAB is localized to lipid rafts and contains multiple conserved tyrosine motifs. When activated through the BCR and other immune receptors, LAB is phosphorylated, probably by Syk, and interacts with Grb2. Unlike LAT, however, LAB does not associate with PLC-γ isoforms  [29 •• ,30 •• ] . LAB is able to partially reconstitute calcium flux and Erk activation in LAT-deficient Jurkat T cells  [30 •• ] . In addition, when LAB protein levels are decreased in B cells using RNA interference, calcium flux and Erk activation are diminished  [29 •• ] . This demonstrates that LAB operates in the calcium and Ras-MAPK signaling pathways, similar to LAT. Furthermore, LAB can effectively substitute for LAT in thymocyte development. However, LAT and LAB do have some exclusive functions, since when LAB is expressed in mature T cells it causes aberrant activation  [29 •• ] . We propose that one function of LAB is to recruit BLNK to the membrane in B cells through its association with Grb2, with LAB–BLNK forming a functional equivalent of LAT–SLP-76 ( Figure 2 \\n                         ).\\n'"
      ]
     },
     "execution_count": 59,
     "metadata": {},
     "output_type": "execute_result"
    }
   ],
   "source": [
    "texts[1]"
   ]
  },
  {
   "cell_type": "code",
   "execution_count": null,
   "metadata": {},
   "outputs": [],
   "source": []
  }
 ],
 "metadata": {
  "kernelspec": {
   "display_name": "Python 3",
   "language": "python",
   "name": "python3"
  },
  "language_info": {
   "codemirror_mode": {
    "name": "ipython",
    "version": 3
   },
   "file_extension": ".py",
   "mimetype": "text/x-python",
   "name": "python",
   "nbconvert_exporter": "python",
   "pygments_lexer": "ipython3",
   "version": "3.8.4"
  }
 },
 "nbformat": 4,
 "nbformat_minor": 2
}
