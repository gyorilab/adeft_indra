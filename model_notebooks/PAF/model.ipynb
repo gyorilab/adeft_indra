{
 "cells": [
  {
   "cell_type": "code",
   "execution_count": 1,
   "metadata": {},
   "outputs": [],
   "source": [
    "import os\n",
    "import json\n",
    "import pickle\n",
    "import random\n",
    "from collections import defaultdict, Counter\n",
    "\n",
    "from indra.literature.adeft_tools import universal_extract_text\n",
    "from indra.databases.hgnc_client import get_hgnc_name, get_hgnc_id\n",
    "\n",
    "from adeft.discover import AdeftMiner\n",
    "from adeft.gui import ground_with_gui\n",
    "from adeft.modeling.label import AdeftLabeler\n",
    "from adeft.modeling.classify import AdeftClassifier\n",
    "from adeft.disambiguate import AdeftDisambiguator\n",
    "\n",
    "\n",
    "from adeft_indra.ground.ground import AdeftGrounder\n",
    "from adeft_indra.model_building.s3 import model_to_s3\n",
    "from adeft_indra.model_building.escape import escape_filename\n",
    "from adeft_indra.db.content import get_pmids_for_agent_text, get_pmids_for_entity, \\\n",
    "    get_plaintexts_for_pmids"
   ]
  },
  {
   "cell_type": "code",
   "execution_count": 2,
   "metadata": {},
   "outputs": [],
   "source": [
    "adeft_grounder = AdeftGrounder()"
   ]
  },
  {
   "cell_type": "code",
   "execution_count": 3,
   "metadata": {},
   "outputs": [],
   "source": [
    "shortforms = ['PAF']\n",
    "model_name = ':'.join(sorted(escape_filename(shortform) for shortform in shortforms))\n",
    "results_path = os.path.abspath(os.path.join('../..', 'results', model_name))"
   ]
  },
  {
   "cell_type": "code",
   "execution_count": 4,
   "metadata": {},
   "outputs": [],
   "source": [
    "miners = dict()\n",
    "all_texts = {}\n",
    "for shortform in shortforms:\n",
    "    pmids = get_pmids_for_agent_text(shortform)\n",
    "    if len(pmids) > 10000:\n",
    "        pmids = random.choices(pmids, k=10000)\n",
    "    text_dict = get_plaintexts_for_pmids(pmids, contains=shortforms)\n",
    "    text_dict = {pmid: text for pmid, text in text_dict.items() if len(text) > 5}\n",
    "    miners[shortform] = AdeftMiner(shortform)\n",
    "    miners[shortform].process_texts(text_dict.values())\n",
    "    all_texts.update(text_dict)\n",
    "\n",
    "longform_dict = {}\n",
    "for shortform in shortforms:\n",
    "    longforms = miners[shortform].get_longforms()\n",
    "    longforms = [(longform, count, score) for longform, count, score in longforms\n",
    "                 if count*score > 2]\n",
    "    longform_dict[shortform] = longforms\n",
    "    \n",
    "combined_longforms = Counter()\n",
    "for longform_rows in longform_dict.values():\n",
    "    combined_longforms.update({longform: count for longform, count, score\n",
    "                               in longform_rows})\n",
    "grounding_map = {}\n",
    "names = {}\n",
    "for longform in combined_longforms:\n",
    "    groundings = adeft_grounder.ground(longform)\n",
    "    if groundings:\n",
    "        grounding = groundings[0]['grounding']\n",
    "        grounding_map[longform] = grounding\n",
    "        names[grounding] = groundings[0]['name']\n",
    "longforms, counts = zip(*combined_longforms.most_common())\n",
    "pos_labels = []"
   ]
  },
  {
   "cell_type": "code",
   "execution_count": 5,
   "metadata": {},
   "outputs": [
    {
     "data": {
      "text/plain": [
       "[('platelet activating factor', 3280),\n",
       " ('paroxysmal atrial fibrillation', 50),\n",
       " ('population attributable fraction', 25),\n",
       " ('pure autonomic failure', 15),\n",
       " ('acetyl sn glycero 3 phosphocholine', 14),\n",
       " ('paroxysmal af', 11),\n",
       " ('paf', 10),\n",
       " ('posterior auditory field', 8),\n",
       " ('polymerase associated factor', 8),\n",
       " ('antifungal protein', 7),\n",
       " ('platelet activating fac tor', 7),\n",
       " ('peak alpha frequency', 6),\n",
       " ('platelet activating factor 16', 5),\n",
       " ('plasma autofluorescence', 4),\n",
       " ('platelet aggregation factor', 4),\n",
       " ('plateletactivating factor', 4),\n",
       " ('platelet acti vating factor', 4),\n",
       " ('polymerase ii associated factor', 4),\n",
       " ('positive affect function', 3),\n",
       " ('postoperative atrial fibrillation', 3),\n",
       " ('platelet activating factor acether', 3),\n",
       " ('platelet activat ing factor', 3)]"
      ]
     },
     "execution_count": 5,
     "metadata": {},
     "output_type": "execute_result"
    }
   ],
   "source": [
    "list(zip(longforms, counts))"
   ]
  },
  {
   "cell_type": "code",
   "execution_count": 7,
   "metadata": {},
   "outputs": [
    {
     "name": "stderr",
     "output_type": "stream",
     "text": [
      "INFO: [2020-10-03 01:31:23] indra.ontology.bio.ontology - Loading INDRA bio ontology from cache at /home/ubuntu/.indra/bio_ontology/1.2/bio_ontology.pkl\n"
     ]
    }
   ],
   "source": [
    "grounding_map, names, pos_labels = ground_with_gui(longforms, counts, \n",
    "                                                   grounding_map=grounding_map,\n",
    "                                                   names=names, pos_labels=pos_labels, no_browser=True, port=8890)"
   ]
  },
  {
   "cell_type": "code",
   "execution_count": 8,
   "metadata": {},
   "outputs": [],
   "source": [
    "result = [grounding_map, names, pos_labels]"
   ]
  },
  {
   "cell_type": "code",
   "execution_count": 9,
   "metadata": {},
   "outputs": [
    {
     "data": {
      "text/plain": [
       "[{'acetyl sn glycero 3 phosphocholine': 'CHEBI:CHEBI:52450',\n",
       "  'antifungal protein': 'ungrounded',\n",
       "  'paf': 'ungrounded',\n",
       "  'paroxysmal af': 'MESH:D001281',\n",
       "  'paroxysmal atrial fibrillation': 'MESH:D001281',\n",
       "  'peak alpha frequency': 'ungrounded',\n",
       "  'plasma autofluorescence': 'ungrounded',\n",
       "  'platelet acti vating factor': 'CHEBI:CHEBI:52450',\n",
       "  'platelet activat ing factor': 'CHEBI:CHEBI:52450',\n",
       "  'platelet activating fac tor': 'CHEBI:CHEBI:52450',\n",
       "  'platelet activating factor': 'CHEBI:CHEBI:52450',\n",
       "  'platelet activating factor 16': 'CHEBI:CHEBI:52450',\n",
       "  'platelet activating factor acether': 'CHEBI:CHEBI:52450',\n",
       "  'platelet aggregation factor': 'CHEBI:CHEBI:52450',\n",
       "  'plateletactivating factor': 'CHEBI:CHEBI:52450',\n",
       "  'polymerase associated factor': 'FPLX:Paf1/RNA_polymerase_II_complex',\n",
       "  'polymerase ii associated factor': 'FPLX:Paf1/RNA_polymerase_II_complex',\n",
       "  'population attributable fraction': 'ungrounded',\n",
       "  'positive affect function': 'ungrounded',\n",
       "  'posterior auditory field': 'ungrounded',\n",
       "  'postoperative atrial fibrillation': 'MESH:D001281',\n",
       "  'pure autonomic failure': 'MESH:D054970'},\n",
       " {'CHEBI:CHEBI:52450': '2-O-acetyl-1-O-octadecyl-sn-glycero-3-phosphocholine',\n",
       "  'MESH:D001281': 'Atrial Fibrillation',\n",
       "  'FPLX:Paf1/RNA_polymerase_II_complex': 'Paf1/RNA_polymerase_II_complex',\n",
       "  'MESH:D054970': 'Pure Autonomic Failure'},\n",
       " ['CHEBI:CHEBI:52450',\n",
       "  'FPLX:Paf1/RNA_polymerase_II_complex',\n",
       "  'MESH:D001281',\n",
       "  'MESH:D054970']]"
      ]
     },
     "execution_count": 9,
     "metadata": {},
     "output_type": "execute_result"
    }
   ],
   "source": [
    "result"
   ]
  },
  {
   "cell_type": "code",
   "execution_count": 6,
   "metadata": {},
   "outputs": [],
   "source": [
    "grounding_map, names, pos_labels = [{'acetyl sn glycero 3 phosphocholine': 'CHEBI:CHEBI:52450',\n",
    "  'antifungal protein': 'ungrounded',\n",
    "  'paf': 'ungrounded',\n",
    "  'paroxysmal af': 'MESH:D001281',\n",
    "  'paroxysmal atrial fibrillation': 'MESH:D001281',\n",
    "  'peak alpha frequency': 'ungrounded',\n",
    "  'plasma autofluorescence': 'ungrounded',\n",
    "  'platelet acti vating factor': 'CHEBI:CHEBI:52450',\n",
    "  'platelet activat ing factor': 'CHEBI:CHEBI:52450',\n",
    "  'platelet activating fac tor': 'CHEBI:CHEBI:52450',\n",
    "  'platelet activating factor': 'CHEBI:CHEBI:52450',\n",
    "  'platelet activating factor 16': 'CHEBI:CHEBI:52450',\n",
    "  'platelet activating factor acether': 'CHEBI:CHEBI:52450',\n",
    "  'platelet aggregation factor': 'CHEBI:CHEBI:52450',\n",
    "  'plateletactivating factor': 'CHEBI:CHEBI:52450',\n",
    "  'polymerase associated factor': 'FPLX:PAF1_complex',\n",
    "  'polymerase ii associated factor': 'FPLX:PAF1_complex',\n",
    "  'population attributable fraction': 'ungrounded',\n",
    "  'positive affect function': 'ungrounded',\n",
    "  'posterior auditory field': 'ungrounded',\n",
    "  'postoperative atrial fibrillation': 'MESH:D001281',\n",
    "  'pure autonomic failure': 'MESH:D054970'},\n",
    " {'CHEBI:CHEBI:52450': '2-O-acetyl-1-O-octadecyl-sn-glycero-3-phosphocholine',\n",
    "  'MESH:D001281': 'Atrial Fibrillation',\n",
    "  'FPLX:PAF1_complex': 'PAF1_complex',\n",
    "  'MESH:D054970': 'Pure Autonomic Failure'},\n",
    " ['CHEBI:CHEBI:52450',\n",
    "  'FPLX:PAF1_complex',\n",
    "  'MESH:D001281',\n",
    "  'MESH:D054970']]"
   ]
  },
  {
   "cell_type": "code",
   "execution_count": 7,
   "metadata": {},
   "outputs": [],
   "source": [
    "excluded_longforms = ['paf']"
   ]
  },
  {
   "cell_type": "code",
   "execution_count": 8,
   "metadata": {},
   "outputs": [],
   "source": [
    "grounding_dict = {shortform: {longform: grounding_map[longform] \n",
    "                              for longform, _, _ in longforms if longform in grounding_map\n",
    "                              and longform not in excluded_longforms}\n",
    "                  for shortform, longforms in longform_dict.items()}\n",
    "result = [grounding_dict, names, pos_labels]\n",
    "\n",
    "if not os.path.exists(results_path):\n",
    "    os.mkdir(results_path)\n",
    "with open(os.path.join(results_path, f'{model_name}_preliminary_grounding_info.json'), 'w') as f:\n",
    "    json.dump(result, f)"
   ]
  },
  {
   "cell_type": "code",
   "execution_count": 9,
   "metadata": {},
   "outputs": [],
   "source": [
    "additional_entities = {'HGNC:28961': ['PCLAF', ['PAF', 'PAF15']]} "
   ]
  },
  {
   "cell_type": "code",
   "execution_count": 10,
   "metadata": {},
   "outputs": [],
   "source": [
    "unambiguous_agent_texts = {}"
   ]
  },
  {
   "cell_type": "code",
   "execution_count": 11,
   "metadata": {},
   "outputs": [],
   "source": [
    "labeler = AdeftLabeler(grounding_dict)\n",
    "corpus = labeler.build_from_texts((text, pmid) for pmid, text in all_texts.items())\n",
    "agent_text_pmid_map = defaultdict(list)\n",
    "for text, label, id_ in corpus:\n",
    "    agent_text_pmid_map[label].append(id_)\n",
    "\n",
    "entity_pmid_map = {entity: set(get_pmids_for_entity(*entity.split(':', maxsplit=1),\n",
    "                                                major_topic=True))for entity in additional_entities}"
   ]
  },
  {
   "cell_type": "code",
   "execution_count": 12,
   "metadata": {},
   "outputs": [],
   "source": [
    "intersection1 = []\n",
    "for entity1, pmids1 in entity_pmid_map.items():\n",
    "    for entity2, pmids2 in entity_pmid_map.items():\n",
    "        intersection1.append((entity1, entity2, len(pmids1 & pmids2)))"
   ]
  },
  {
   "cell_type": "code",
   "execution_count": 13,
   "metadata": {},
   "outputs": [],
   "source": [
    "intersection2 = []\n",
    "for entity1, pmids1 in agent_text_pmid_map.items():\n",
    "    for entity2, pmids2 in entity_pmid_map.items():\n",
    "        intersection2.append((entity1, entity2, len(set(pmids1) & pmids2)))"
   ]
  },
  {
   "cell_type": "code",
   "execution_count": 14,
   "metadata": {},
   "outputs": [
    {
     "data": {
      "text/plain": [
       "[('HGNC:28961', 'HGNC:28961', 67)]"
      ]
     },
     "execution_count": 14,
     "metadata": {},
     "output_type": "execute_result"
    }
   ],
   "source": [
    "intersection1"
   ]
  },
  {
   "cell_type": "code",
   "execution_count": 15,
   "metadata": {},
   "outputs": [
    {
     "data": {
      "text/plain": [
       "[('CHEBI:CHEBI:52450', 'HGNC:28961', 2),\n",
       " ('MESH:D001281', 'HGNC:28961', 0),\n",
       " ('MESH:D054970', 'HGNC:28961', 0),\n",
       " ('ungrounded', 'HGNC:28961', 0),\n",
       " ('FPLX:PAF1_complex', 'HGNC:28961', 0)]"
      ]
     },
     "execution_count": 15,
     "metadata": {},
     "output_type": "execute_result"
    }
   ],
   "source": [
    "intersection2"
   ]
  },
  {
   "cell_type": "code",
   "execution_count": 16,
   "metadata": {},
   "outputs": [],
   "source": [
    "all_used_pmids = set()\n",
    "for entity, agent_texts in unambiguous_agent_texts.items():\n",
    "    used_pmids = set()\n",
    "    for agent_text in agent_texts[1]:\n",
    "        pmids = set(get_pmids_for_agent_text(agent_text))\n",
    "        new_pmids = list(pmids - all_texts.keys() - used_pmids)\n",
    "        text_dict = get_plaintexts_for_pmids(new_pmids, contains=agent_texts)\n",
    "        corpus.extend([(text, entity, pmid) for pmid, text in text_dict.items() if len(text) >= 5])\n",
    "        used_pmids.update(new_pmids)\n",
    "    all_used_pmids.update(used_pmids)\n",
    "        \n",
    "for entity, pmids in entity_pmid_map.items():\n",
    "    new_pmids = list(set(pmids) - all_texts.keys() - all_used_pmids)\n",
    "    if len(new_pmids) > 10000:\n",
    "        new_pmids = random.choices(new_pmids, k=10000)\n",
    "    _, contains = additional_entities[entity]\n",
    "    text_dict = get_plaintexts_for_pmids(new_pmids, contains=contains)\n",
    "    corpus.extend([(text, entity, pmid) for pmid, text in text_dict.items() if len(text) >= 5])"
   ]
  },
  {
   "cell_type": "code",
   "execution_count": 17,
   "metadata": {},
   "outputs": [],
   "source": [
    "names.update({key: value[0] for key, value in additional_entities.items()})\n",
    "names.update({key: value[0] for key, value in unambiguous_agent_texts.items()})\n",
    "pos_labels = list(set(pos_labels) | additional_entities.keys() |\n",
    "                  unambiguous_agent_texts.keys())"
   ]
  },
  {
   "cell_type": "code",
   "execution_count": 18,
   "metadata": {},
   "outputs": [
    {
     "name": "stderr",
     "output_type": "stream",
     "text": [
      "INFO: [2020-10-30 01:26:06] /adeft/PP/adeft/adeft/modeling/classify.py - Beginning grid search in parameter space:\n",
      "{'C': [100.0], 'max_features': [10000]}\n",
      "INFO: [2020-10-30 01:26:38] /adeft/PP/adeft/adeft/modeling/classify.py - Best f1 score of 0.9913494596957035 found for parameter values:\n",
      "{'logit__C': 100.0, 'tfidf__max_features': 10000}\n"
     ]
    }
   ],
   "source": [
    "%%capture\n",
    "\n",
    "classifier = AdeftClassifier(shortforms, pos_labels=pos_labels, random_state=1729)\n",
    "param_grid = {'C': [100.0], 'max_features': [10000]}\n",
    "texts, labels, pmids = zip(*corpus)\n",
    "classifier.cv(texts, labels, param_grid, cv=5, n_jobs=5)"
   ]
  },
  {
   "cell_type": "code",
   "execution_count": 19,
   "metadata": {
    "scrolled": true
   },
   "outputs": [
    {
     "data": {
      "text/plain": [
       "{'label_distribution': {'CHEBI:CHEBI:52450': 2697,\n",
       "  'MESH:D001281': 54,\n",
       "  'MESH:D054970': 9,\n",
       "  'ungrounded': 30,\n",
       "  'FPLX:PAF1_complex': 9,\n",
       "  'HGNC:28961': 16},\n",
       " 'f1': {'mean': 0.991349, 'std': 0.004307},\n",
       " 'precision': {'mean': 0.988991, 'std': 0.004938},\n",
       " 'recall': {'mean': 0.994614, 'std': 0.003406},\n",
       " 'CHEBI:CHEBI:52450': {'f1': {'mean': 0.994839, 'std': 0.002225},\n",
       "  'pr': {'mean': 1.0, 'std': 0.0},\n",
       "  'rc': {'mean': 0.989742, 'std': 0.004415}},\n",
       " 'FPLX:PAF1_complex': {'f1': {'mean': 0.466667, 'std': 0.4},\n",
       "  'pr': {'mean': 0.4, 'std': 0.374166},\n",
       "  'rc': {'mean': 0.6, 'std': 0.489898}},\n",
       " 'HGNC:28961': {'f1': {'mean': 0.92, 'std': 0.09798},\n",
       "  'pr': {'mean': 0.866667, 'std': 0.163299},\n",
       "  'rc': {'mean': 1.0, 'std': 0.0}},\n",
       " 'MESH:D054970': {'f1': {'mean': 0.866667, 'std': 0.163299},\n",
       "  'pr': {'mean': 0.8, 'std': 0.244949},\n",
       "  'rc': {'mean': 1.0, 'std': 0.0}},\n",
       " 'ungrounded': {'f1': {'mean': 0.687446, 'std': 0.228256},\n",
       "  'pr': {'mean': 0.566667, 'std': 0.249444},\n",
       "  'rc': {'mean': 1.0, 'std': 0.0}},\n",
       " 'MESH:D001281': {'f1': {'mean': 0.938847, 'std': 0.052034},\n",
       "  'pr': {'mean': 0.889091, 'std': 0.088775},\n",
       "  'rc': {'mean': 1.0, 'std': 0.0}}}"
      ]
     },
     "execution_count": 19,
     "metadata": {},
     "output_type": "execute_result"
    }
   ],
   "source": [
    "classifier.stats"
   ]
  },
  {
   "cell_type": "code",
   "execution_count": 20,
   "metadata": {},
   "outputs": [],
   "source": [
    "disamb = AdeftDisambiguator(classifier, grounding_dict, names)"
   ]
  },
  {
   "cell_type": "code",
   "execution_count": 21,
   "metadata": {},
   "outputs": [],
   "source": [
    "disamb.dump(model_name, results_path)"
   ]
  },
  {
   "cell_type": "code",
   "execution_count": 22,
   "metadata": {
    "scrolled": true
   },
   "outputs": [
    {
     "name": "stdout",
     "output_type": "stream",
     "text": [
      "Disambiguation model for PAF\n",
      "\n",
      "Produces the disambiguations:\n",
      "\t2-O-acetyl-1-O-octadecyl-sn-glycero-3-phosphocholine*\tCHEBI:CHEBI:52450\n",
      "\tAtrial Fibrillation*\tMESH:D001281\n",
      "\tPAF1_complex*\tFPLX:PAF1_complex\n",
      "\tPCLAF*\tHGNC:28961\n",
      "\tPure Autonomic Failure*\tMESH:D054970\n",
      "\n",
      "Class level metrics:\n",
      "--------------------\n",
      "Grounding                                           \tCount\tF1     \n",
      "2-O-acetyl-1-O-octadecyl-sn-glycero-3-phosphocholine*\t2697\t0.99484\n",
      "                                 Atrial Fibrillation*\t  54\t0.93885\n",
      "                                          Ungrounded\t  30\t0.68745\n",
      "                                               PCLAF*\t  16\t   0.92\n",
      "                              Pure Autonomic Failure*\t   9\t0.86667\n",
      "                                        PAF1_complex*\t   9\t0.46667\n",
      "\n",
      "Weighted Metrics:\n",
      "-----------------\n",
      "\tF1 score:\t0.99135\n",
      "\tPrecision:\t0.98899\n",
      "\tRecall:\t\t0.99461\n",
      "\n",
      "* Positive labels\n",
      "See Docstring for explanation\n",
      "\n"
     ]
    }
   ],
   "source": [
    "print(disamb.info())"
   ]
  },
  {
   "cell_type": "code",
   "execution_count": 23,
   "metadata": {},
   "outputs": [],
   "source": [
    "model_to_s3(disamb)"
   ]
  },
  {
   "cell_type": "code",
   "execution_count": 32,
   "metadata": {},
   "outputs": [],
   "source": [
    "preds = disamb.disambiguate(all_texts.values())"
   ]
  },
  {
   "cell_type": "code",
   "execution_count": 35,
   "metadata": {},
   "outputs": [],
   "source": [
    "PCLAF_texts = [text for pred, text in zip(preds, all_texts.values()) if pred[0].startswith('HGNC')]"
   ]
  },
  {
   "cell_type": "code",
   "execution_count": 37,
   "metadata": {},
   "outputs": [
    {
     "data": {
      "text/plain": [
       "\"p15 PAF  (15 kDa, PCNA-associated-factor) was first identified via a yeast two-hybrid screen for proteins that bind to PCNA  [1] . The p15 PAF  protein contains a conserved PCNA-binding motif and when overexpressed competes with p21 WAF  for PCNA binding. Expression analysis revealed upregulation of  p15 PAF  RNA in a range of tumor types  [1] , and an independent microarray study revealed elevated expression in colon tumors  [3] . The  KIAA0101 / p15 PAF  gene maps to human chromosome 15q22.31, a region thought to harbour a tumor suppressor gene for a sporadic form of colorectal cancer  [4,5] . Amplification of 15q22 also correlates with poor survival in colorectal cancer patients  [6] . Recently, the KIAA0101 protein has also been published as OEATC-1, identified as a gene overexpressed in anaplastic thyroid carcinoma-1  [2] .\\nSimilarly to p15 PAF  (1), p33ING1b contains a PCNA-binding motif (PIP) and binds to PCNA competitively with p21 WAF   [1,14] . p33ING1b is a specific isoform encoded by the ING1 tumor suppressor locus. ING1 was first isolated in a screen for growth inhibitors in breast cancer cell lines, where overexpression blocked cells in the G1 phase of the cell cycle, and suppression of ING1 promoted growth in soft agar and in vivo tumor growth  [15] . Since that time, a large body of work has implicated ING1 in oncogenesis, cellular aging, apoptosis, DNA repair, cell cycle regulation and chromatin remodelling, with many of these functions dependent on the close relationship of ING1 with the p53 tumor suppressor (reviewed in  [16] ). There are four isoforms of ING1, as well as an additional five human ING homologues (ING2-5, INGX)  [17] . Of these forms, p33ING1b is unique in that it contains a PIP motif and interacts with PCNA following exposure to UV (reviewed in  [16] ). Under these conditions, co-localisation of PCNA and p33ING1b increases in the nucleus, and their interaction can be inhibited by p21 WAF   [9,14] . p33ING1b mediates UV-induced apoptosis in melanoma cells  [18] , presumably by altering PCNA function through displacement of specific proteins from the complex. A role for p33ING1b in DNA repair is also suggested by the demonstration that the ability of melanoma cells to repair DNA damage was enhanced by p33ING1b in a p53-dependent manner  [19] . In addition to its role in DNA repair and apoptosis, p33ING1b physically associates with histone acetylases (HATs) and histone deacetylases (HDACs), and thus mediates chromatin remodelling and hence gene expression ( [20]  and reviewed in  [16,21] ).\\nHere, we report the characterisation of the PCNA-associated factor p15 PAF  in normal cells, tissues and under conditions of UV-induced DNA damage. In addition to binding to PCNA, we demonstrate that p15 PAF  exists in a complex with p33ING1b both before and after UV-irradiation. We also show that p15 PAF  expression is dysregulated in a number of colon tumor samples but, like p33ING1b, mutation does not appear to be the major mechanism for alteration in expression in these tumors.\\nThe coding sequence of p15 PAF  was amplified and sub-cloned into pcDNA3 next to an in-frame Myc tag allowing expression of C-terminally Myc-tagged p15 PAF  in mammalian cells.\\nThe full-length sequence of mouse p15 PAF  (KIAA0101) was cloned into pGEX4T-1. The entire coding sequence of p15 PAF  was amplified from the pCDNA3-Myc-p15 PAF  vector using a 5′ primer containing a  Bam H1 site (5′AGG GGA TCC ATG GTG CGG ACC AAA GCA AAC 3′) and T7 primer. The amplified product was digested and cloned into pGEX-4T-1 using  Bam HI and  Xho I. This construct was transformed into the  E. coli  strain BL-21 and cells induced with 10 mM IPTG according to standard protocols  [28] . The construct produced soluble protein that was purified by Glutathione-Sepharose affinity chromatography. Immunisation and affinity purification was carried out as described previously  [29] .\\nParaffin sections of mouse embryonic day 18.5 (E18.5) skin or human adult colon were deparaffinised in Xylene and rehydrated through graded ethanol washes into water. Antigen retrieval was not necessary for antibody binding. To block non-specific sites, the sections were incubated with 4% horse serum/PBS for 1 h at room temp. The sections were incubated with primary antibody, at a 1/50 dilution for the polyclonal p15 PAF  antibodies and 1/100 for the monoclonal anti-PCNA antibodies, in 4% horse serum, 0.1% Triton X-100 in PBS for 1 h at room temperature. After washing 3 times in PBS the sections were incubated with either anti-rabbit or anti-mouse secondary antibodies conjugated to Alexa-488 or Alexa-594 for 1 h. Sections were then washed in PBS and mounted in Mowiol mounting media (Calbiochem, La Jolla, CA, USA) prior to imaging.\\nHEK-293 cells and mouse colon homogenates were similarly processed for immunoprecipitation. For initial immunoprecipitations characterising the anti-p15 PAF  antibody the antiserum was cross-linked to pA-Sepharose using DMP (Pierce) according to protocols described in  [31] . Samples were extracted in NEB2 with 1% TX-100, sonicated and centrifuged as described above. Lysates were pre-cleared with Protein-A-Sepharose or Protein-G-Sepharose. Antibodies were incubated with the pre-cleared lysates for 1 h at room temperature prior to addition of Protein-A (for polyclonal immunoprecipitation) or Protein-G (for monoclonal immunoprecipitation) for a further 1 h. Samples were then washed 6 times in modified NEB2 buffer (modified to have TritonX-100 at 0.2% and 200 mM NaCl) and immunoprecipitates eluted by incubating the beads in Laemmli sample buffer plus DTT for 15 min at 65°C. After centrifugation at 15,000 rpm to remove beads the supernatants were subjected to Western analysis as described above.\\nHEK-293 cells were transfected with pcDNA3-Myc-p15 PAF  or with pcDNA3 only using Lipofectamine 2000 according to manufacturer's instructions. After 16 h, cells were selected with G418 Sulfate (Sigma Aldrich) at 50 μg/μl. Cells that survived G418 selection were further selected until 10 clonal populations were produced. pcDNA3-Myc-p15 PAF  lines were labelled #1–#10 and pcDNA3 lines as 1.–10.\\nFor Taqman analysis, primers for KIAA0101/p15 PAF  and 18S were obtained from Applied Biosystems “Assays on Demand” system. Primer production and validation was carried out by Applied Biosystems. Real time PCR analysis of gene expression was performed using an ABI Prism 7000 Sequence Detection System and SDS v3.0 software (Applied Biosystems). cDNA was prepared from RNA by standard reverse transcription PCR reactions. Duplicate PCR reactions, from normal and tumor tissue samples from 25 matched human colon cancers, were carried out in 96-well optical reaction plates with a total reaction volume of 25 μl containing 12.5 μl of 2× Taqman master mix (Applied Biosystems), 6.5 μl injection quality water, 1 μl of a mix containing gene-specific forward and reverse primers (final conc. 150 nM), and 5 μl of cDNA. Duplicate reactions were performed in two separate experiments with cDNA diluted 1/20 and 1/200 respectively. The PCR reaction involved one cycle of 50°C for 2 min, one cycle of 95°C for 10 min and 40 cycles of 95°C for 15 s and 60°C for 1 min. 18S and p15 PAF  reactions were multiplexed with the control primers at “primer limited” concentrations. Dissociation kinetics were evaluated for all amplicons. Data generated was analysed using auto-Ct and auto-baseline as outlined by the supplier (Applied Biosystems User Bulletin #2) and Ct values exported to Excel. All reactions included the passive reference dye ROX so that relative amplification of each sample is controlled. A comparative Ct method of analysis was used whereby endogenous 18S control was used to normalise expression levels of the target gene by correcting for differences in starting material amounts.\\nThe predicted full-length open reading frame of KIAA0101/p15 PAF  was amplified and cloned in frame into pcDNA3 vector containing a Myc cassette. p15 PAF  has previously been reported to contain a putative PCNA-interacting protein motif (PIP)  [1] , and standard database mining revealed no other functional domains. Database analysis showed that KIAA0101, while not annotated, corresponded to the previously described PCNA-associated factor, p15 PAF   [1] . From herein, we refer to KIAA0101 as p15 PAF .\\nIn order to examine p15 PAF  further, we raised two separate polyclonal anti-sera to a predicted full-length p15 PAF –GST fusion protein. Both anti-sera bound p15 PAF  when analysed by Western blotting, with results for anti-sera 1 shown in  Fig. 1 . The affinity-purified antibody recognised transiently transfected Myc-tagged p15 PAF  ( Fig. 1 A, lane 2), although no endogenous band corresponding to p15 PAF  was detected in BHK-21 cells under these extraction conditions ( Fig. 1 A, lane 1). For detection of endogenous p15 PAF , the extraction of cells in Laemmli sample buffer alone led to the formation of insoluble aggregates of high molecular weight protein complexes containing p15 PAF (data not shown). Endogenous p15 PAF  was clearly detected as a band running at the expected molecular weight of 15 kDa in cells extracted with a Nuclear Extraction Buffer ( Fig. 1 B, lane 2) or with 7 M urea ( Fig. 1 B, lane 3). Cells transfected with Myc-p15 PAF  were used as a positive control ( Fig. 1 B, lane 1). To test the suitability of the antibody for use in immunofluorescence localisation experiments, we performed immunoprecipitation followed by Western blotting analysis. Immunoprecipitation with anti-p15 PAF  antibody ( Fig. 1 C, lane 1) compared with immunoprecipitation using anti-GST antibodies ( Fig. 1 C, lane 2) shows that p15 PAF  antisera specifically immunoprecipitates only p15 PAF  and thus is suitable for localisation experiments. Upper bands in both immunoprecipitations correspond to immunoglobulin heavy chain. The transfected cells expressing Myc-p15 PAF  could be extracted under standard conditions for detection of Myc-p15 PAF , while endogenous p15 PAF  is less soluble, suggesting that endogenous p15 PAF  exists constitutively as part of a protein complex and that excess exogenous p15 PAF  from overexpression is not all included in endogenous complexes. Further studies therefore focused on investigation of endogenous p15 PAF  or cells stably expressing p15 PAF .\\nWe investigated the subcellular localisation of p15 PAF  using immunofluorescence labeling in a number of cell lines. Myc-tagged p15 PAF  expressed by transient transfection for 20 h in BHK-21 cells and detected with monoclonal anti-Myc antibody, showed both a nuclear and mitochondrial localisation, with no staining observed in non-transfected cells ( Figs. 2 A–C ). At early transfection time-points (12 h), the nuclear staining of Myc-p15 PAF  is predominant. We then investigated the distribution of endogenous p15 PAF  using our polyclonal affinity purified anti-p15 PAF  antibody. Endogenous p15 PAF  was similarly seen to have both a nuclear and mitochondrial localisation in HeLa ( Fig. 2 D), HCT116 ( Fig. 2 E) and BHK-21 cells ( Fig. 2 F). The proportion of p15 PAF  localised to the nucleus versus the proportion localised to mitochondria appeared to be cell-type dependent. To confirm the similar distribution of exogenous and endogenous p15 PAF  we expressed Myc-tagged p15 PAF  transiently in HCT116 cells. The cells were labelled with anti-Myc monoclonal antibody ( Fig. 2 G), anti-p15 PAF  antibody ( Fig. 2 H) with the merged images shown in  Fig. 2 I. The anti-p15 PAF  antibody clearly labels the transfected Myc-tagged p15 PAF , which shows the same localisation as the endogenous protein, which in the case of HCT116 cells is predominantly nuclear. To confirm the mitochondrial distribution of p15 PAF  seen in a number of cell lines, we co-labelled HeLa cells with the mitochondrial marker Mcl-1 ( Fig. 2 J) and with anti-p15 PAF  ( Fig. 2 K). As can be seen from the merged image ( Fig. 2 L), the extranuclear localisation of p15 PAF  in these cells overlaps with mitochondria. In order to confirm the mitochondrial localisation of p15 PAF  we performed competition with the GST-p15 PAF  fusion protein and also analysed p15 PAF  by Western blotting of purified mitochondria from HeLa cells. The GST–p15 PAF  fusion protein efficiently competes mitochondrial staining by immunofluorescence (data not shown) and the 15-kDa band corresponding to p15 PAF  is enriched in a pure mitochondrial fraction by Western analysis as well as in the wash fractions of the preparation which contain nuclei ( Fig. 2 M). Further support for the experimental localisation observed is provided by the PsortII database localisation predictions for KIAA0101, which are 21.7% nuclear and 69.6% mitochondrial for mouse, 13% cytoplasmic and 73.9% mitochondrial for the human protein ( http://psort.nibb.ac.jp/form2.html ).\\np15 PAF  contains a PIP motif and binds PCNA in yeast two-hybrid studies  [1] . We investigated the co-localisation of p15 PAF  and PCNA in the breast-cancer cell line MCF-7 where p15 PAF  is predominantly nuclear and highly expressed. Some co-localisation was observed by immunofluorescence analysis, although most cells showed no co-localisation ( Fig. 3 A ). Northern blot analysis of KIAA0101 ( http://www.kazusa.or.jp/huge ) showed  p15 PAF  is highly expressed in colon and thymus. Whole mount in situ hybridisation analysis of  p15 PAF  also showed a highly restricted expression of  p15 PAF  during mouse embryogenesis, with strong expression in the skin and hair follicles (our unpublished data). We therefore labelled p15 PAF  in skin and colon tissue sections, reasoning that this would allow us to observe PCNA and p15 PAF  localisation in the physiological context of tissues where p15 PAF  is most highly expressed.\\nIn embryonic day (E)18.5 mouse skin sections, PCNA and p15 PAF  were localised to a subset of basal cells of the interfollicular epidermis and outer root sheath (ORS) cells of the hair follicles, with PCNA expression being more widely spread in these cell populations ( Figs. 3 B, C). Both proteins showed a predominantly nuclear localisation with some cells showing diffuse nuclear staining and others a more punctate localisation of both proteins. Where both proteins showed a punctate nuclear localisation within the same cell, co-localisation was observed ( Figs. 3 B, C). The basal cell layer is the skin layer in which the epidermal progenitor cells reside and thus these cells have proliferative potential.\\nIn adult human colon sections ( Figs. 3 D, E), p15 PAF  was localised primarily to the cells of the colonic crypts. Supranuclear staining became more pronounced above the proliferative zone and conspicuous perinuclear staining was observed in the superficial epithelia, an area in which the cells are terminally differentiated ( Figs. 3 D, E). In sections where the angle of sectioning occurred through the base of the crypts the PCNA and p15 PAF  appeared more punctate in the nucleus and co-localisation was observed at high magnification ( Fig. 3 E, inset). No co-localisation of PCNA and p15 PAF  is seen in the perinuclear region. Thus, in a similar manner to skin, where p15 PAF  and PCNA are both in the nucleus in punctate structures, they tend to co-localise.\\nDue to the apparent non-co-localisation of p15 PAF  with PCNA in tissue culture cells and because molecules such as p33ING1b associate with PCNA only after UV-induction, we treated HaCaT (human keratinocyte cell line), HeLa and HEK-293 cells with UV at a low level (30 J/m 2 ) which minimises induction of cell death while giving maximal p53-induction  [13] . UV-treatment of cells caused an overall increase in the level of p15 PAF  protein as determined by Western blotting (data not shown). By immunofluorescence microscopy the increase of p15 PAF  staining in both the nucleus and in mitochondria could be observed. A time series of recovery after UV-irradiation of HaCaT keratinocytes is shown in  Figs. 4 A–E . Cells were immunolabelled for PCNA (lane 1, red) and for p15 PAF  (lane 2, green) with merged images shown in lane 3. Prior to UV-irradiation, p15 PAF  showed a predominantly mitochondrial localisation in these cells, with some nuclear staining evident. After UV-irradiation, the labeling in the nucleus increased and the originally diffuse staining became localised to punctate “rosette”-like structures. The maximal level of nuclear staining was detected at 4–6 h, corresponding to the time of maximum p53 activation following UV-irradiation  [13] . After 24 h of recovery the p15 PAF  staining returned to a diffuse nuclear pattern along with the normal mitochondrial localisation. Thus p15 PAF  is induced by low levels of UV-irradiation and has a greatly increased and more structured nuclear localisation at 4–6 h post-irradiation. The same effect of UV-irradiation was observed in HeLa cells ( Fig. 4 F) and in HEK-293 cells ( Fig. 4 G) where maximal induction of p15 PAF  occurred at 2 to 4 h ( Figs. 4 F and G). While some apparent co-localisation was observed with PCNA, most p15 PAF  positive nuclear puncta did not strongly label for PCNA. In some cells where PCNA appeared very punctate the p15 PAF  is not and vice-versa. However, it should be noted that PCNA exists in multiple complexes ranging from molecular weights of 30–300 kDa  [14]  and PCNA also exists in the cytoplasm, thus not all complexes containing PCNA will be observable by immunofluorescence (see  Fig. 5 , immunoprecipitations).\\nA number of co-immunoprecipitation experiments were carried out to investigate the association of p33ING1b, p15 PAF  and PCNA. Immunoprecipitations of p15 PAF  and p33ING1b from HEK-293 cells and UV-irradiated HEK293 cells are shown in  Figs. 5 A, B and C. p33ING1b and p15 PAF  co-immunoprecipitated from lysates of both untreated and UV-irradiated cells ( Fig. 5 A). Note that the p33ING1b levels appeared to be induced in the starting material following UV exposure. We were unable to co-immunoprecipitate PCNA and p15 PAF  from untreated cells, and only a very small amount of p33ING1b and PCNA co-precipitated under these conditions ( Fig. 5 B). In cells that have been UV-irradiated PCNA is co-precipitated with p33ING1b and with p15 PAF  ( Fig. 5 B). The reciprocal blot for p15 PAF  is shown in  Fig. 5 C and again PCNA and p15 PAF  only co-precipitate following UV-irradiation of the cells. Immunoprecipitation of PCNA and p15 PAF  from adult mouse colon was also performed and a proportion of p15 PAF  was found to associate with PCNA ( Fig. 5 C). Thus it appears that p15 PAF  constitutively associates with an immuno-complex containing p33ING1b, and that association of both p15 PAF  and p33ING1b with PCNA is enhanced by UV treatment.\\nA number of HEK-293 cell lines stably expressing either pcDNA3-Myc-p15 PAF  or pcDNA3 alone were produced. Cells from two independent p15 PAF  stable lines and one pcDNA3 line were plated at equal densities, harvested after 24 h and counted. No change in rate of growth of the cells was observed in a total of four independent experiments. Thus, stable expression of Myc-p15 PAF  had no effect on cell proliferation over this period. This was also true of cells transiently transfected with Myc-p15 PAF  (data not shown). Stable cell lines expressing Myc-p15 PAF  or pcDNA3 were exposed to low levels of UV-irradiation (30 J/m 2 ), or treated exactly as for UV-irradiation but with no exposure. After 24 h cells were collected and counted. Non-treated dishes for each clonal line were taken to represent 100% survival. Cells from each stable line that had been irradiated were calculated as % survival compared to untreated. The experiment was repeated four times in duplicate and combined results from all experiments are presented ( Fig. 6 A ). The data for two separate clonal lines expressing Myc-p15 PAF  and one line expressing the control pcDNA3 are shown ( Fig. 6 A). Cells expressing vector only showed a 25% survival rate while cells stably expressing Myc-p15 PAF  showed a 50% survival rate. These data suggest that increased levels of p15 PAF  protect against UV-induced apoptosis. It may be that this effect would be even greater in the absence of p15 PAF , as the vector-only controls still express endogenous p15 PAF  that is induced by UV-irradiation.\\nThe human  p15 PAF  gene localises to chromosome 15q22.31, which is within a region which harbours a candidate colon tumor suppressor locus  [34] . These data, along with the high expression of  p15 PAF  in colon, led us to investigate whether  p15 PAF  may be involved colon tumorigenesis.\\nA number of recent reports have shown an increased expression of  KIAA0101/p15 PAF  RNA in a number of different tumor types  [3,35] . We obtained 25 matched tumor and normal samples from patients with colorectal cancer. The normal tissue and tumor tissue RNA from each patient was analysed by Taqman Real Time RT-PCR for expression levels of  p15 PAF  relative to 18S control. The data presented in  Fig. 6 B show the change in levels of  p15 PAF  relative to 18S control in comparison to normal sample referenced to 18S control from each patient. Normal values were set at 0.00 and threshold for significant change is 1.0 or −1.0 as indicated. Tumor expression levels over normal are plotted. Due to limiting quantities of RNA, it was not possible to determine the concentration of either the RNA or resultant cDNA template. We therefore performed the PCR analysis at two different dilutions of the cDNA. The data represents the mean of two independent experiments with duplicate samples in each, with the RNA in the duplex Taqman reaction at a dilution of 1/200. The reaction was also carried out twice in duplicate at 1/20 dilution and the same trends were observed. No change was observed in 10/25 tumors, an upregulation was observed in 3/25 and a downregulation observed in 12/25 ( Fig. 6 B).\\nThe p15 PAF  coding region and intron/exon boundaries were subsequently screened for mutations in each of the 25 tumors by direct sequencing of PCR products from genomic DNA.  p15 PAF  exons were amplified using three sets of intronic primers covering exons 1 and 2, exon 3 and exon 4. Amplified DNA was sequenced and compared with the  KIAA0101  sequence. No mutations were found. Thus  p15 PAF  is dysregulated in more than 50% of colon tumors screened, but no mutations were detected in the coding regions or at the intron/exon boundaries. We did find a polymorphism in the intronic region just prior to the start of exon 2 (982-15delT).\\nWe have shown that p15 PAF  is localised to the nucleus and to mitochondria. This localisation is observed both with transfected protein and by labeling of endogenous p15 PAF , but appears to vary in a cell type specific manner. p15 PAF  has previously been identified as a PCNA associating factor able to compete with p21 WAF  for binding to PCNA  [1] . Both a previous study  [1]  and our current data show that overexpression of p15 PAF  does not cause any proliferation anomalies in mammalian cell cultures.\\nOur data show that a redistribution of p15 PAF  and its association with PCNA is enhanced after exposure of cells to low levels of UV irradiation, suggesting that the association of p15 PAF  with PCNA occurs in response to DNA damage. One effect of this association would be to compete p21 WAF  from PCNA. Ubiquitin-mediated degradation of p21 WAF  is essential for optimal DNA repair  [13] . By immunoprecipitation we show that p15 PAF  exists in the same immunocomplex as p33ING1b both in untreated and UV-irradiated cells. Following UV-irradiation p33ING1b also binds to PCNA and competes p21 WAF   [13] . As PCNA has more than one p21 WAF -binding site it may be that a complex containing both p33ING1b and p15 PAF  can more efficiently compete p21 WAF , leading to efficient p21 WAF  degradation and hence optimal DNA repair. It is interesting to note that transcription of the  KIAA0101/p15 PAF  gene is regulated by the E2F transcription factor family  [36] . E2F regulates transcription of genes involved in DNA replication and cell cycle entry and also genes encoding components of the DNA damage checkpoint and repair pathways  [36] .\\nWhile overexpression of p15 PAF  alone causes no change in cell proliferation we find that cells stably expressing p15 PAF  are more likely to survive low level UV-irradiation. This indicates that p15 PAF  is likely to have a function in DNA repair mechanisms. A role for p33ING1b in DNA repair has been demonstrated, in that the ability of melanoma cells to repair DNA is enhanced by p33ING1b in a p53 dependent manner  [19] . This mechanism appears to alter when DNA damage is increased after high level UV-irradiation. Under these conditions, p33ING1b has been shown to mediate apoptosis by activating genes such as BAX and PIDD additively with p53 and also independently ( [22–24]  and reviewed in  [16] ). It is of interest that a fraction of p15 PAF  is localised to the mitochondria, since Bax and PIDD proteins activate the mitochondrial apoptotic pathway through release of cytochrome  c   [16] . The localisation of p15 PAF  to both the nucleus and to mitochondria is similar to that reported for the human APE2 protein, which participates in both the nuclear and mitochondrial base excision repair (BER) pathways  [25] .\\nWe also investigated the distribution of p15 PAF  protein in human colon and mouse skin sections. The localisation of p15 PAF  in these tissues appears to be predominantly nuclear in areas of high cell proliferation such as the basal cell layer in the skin and the proliferative zone in the crypts of the colon. Supranuclear staining becomes more pronounced above the proliferative zones and in non-proliferative areas in the colon sections. The  p15 PAF  gene is localised to human chromosome 15q22.31, within a region thought to harbour a colorectal tumor suppressor locus  [34] . We initially considered  p15 PAF  as a candidate for this tumor suppressor locus. While mutation screening showed no mutation of  p15 PAF , significant downregulation of expression was found in 12/25 colon tumors, while 3/25 showed upregulation of expression. These findings are in contrast to studies in a number of tumor types that report only upregulation of  p15 PAF  levels, although our data are derived from matched tumor and normal samples from the same patient  [1,3,35] . Our data are consistent with previous studies of p33ING1b. Although downregulation of  p33ING1b  is seen in a range of tumor types, mutations in this gene are rare in tumors  [26] . In addition, in melanoma cell lines  [27] , basal cell carcinomas  [37]  and human brain tumors  [38] , upregulation of  p33ING1b  was observed. This suggests that the role of p15 PAF  and p33ING1b may be mediated differently in different tumor types. For a number of tumors studied, including brain tumors, it appears that mislocalisation of p33ING1b from the nucleus to the cytoplasm plays a role in tumor formation  [38,39] , and it remains to be determined if a similar mechanism holds for p15 PAF .\\nThe ING family of proteins has been shown to be involved in chromatin remodelling by binding to and affecting the activity of histone acetyltransferase, histone deacetylase (HDAC) and factor acetyltransferase complexes (reviewed in  [16] . Inhibition of histone deacetylation causes severe defects in chromosome stability  [40] . The 16 HDAC isoforms exist as multiprotein complexes associated with transcriptional control, cell cycle regulation, differentiation, and DNA repair  [41] . It is possible that the immuno-complex containing p15 PAF  and p33ING1b has a role in regulation of these processes.\\nThe integration of cell proliferation and DNA-repair mechanisms with chromatin remodelling and epigenetic homeostasis has been shown to involve key molecules with roles in a number of cellular pathways. These same molecules are also implicated in tumorigenesis. Defining the mechanism of action of these networks thus relies on identification of each molecule in the pathway and its binding partners. Our analysis of p15 PAF , its distribution, identification of binding partners and regulation in tumorigenesis suggests it has a role the mechanistic integration of cell proliferation and DNA repair.\\n\""
      ]
     },
     "execution_count": 37,
     "metadata": {},
     "output_type": "execute_result"
    }
   ],
   "source": [
    "PCLAF_texts[0]"
   ]
  },
  {
   "cell_type": "code",
   "execution_count": null,
   "metadata": {},
   "outputs": [],
   "source": []
  }
 ],
 "metadata": {
  "kernelspec": {
   "display_name": "Python 3",
   "language": "python",
   "name": "python3"
  },
  "language_info": {
   "codemirror_mode": {
    "name": "ipython",
    "version": 3
   },
   "file_extension": ".py",
   "mimetype": "text/x-python",
   "name": "python",
   "nbconvert_exporter": "python",
   "pygments_lexer": "ipython3",
   "version": "3.8.4"
  }
 },
 "nbformat": 4,
 "nbformat_minor": 2
}
