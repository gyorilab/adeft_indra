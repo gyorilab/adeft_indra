{
 "cells": [
  {
   "cell_type": "code",
   "execution_count": 5,
   "metadata": {},
   "outputs": [],
   "source": [
    "import os\n",
    "import json\n",
    "import pickle\n",
    "import random\n",
    "from collections import defaultdict, Counter\n",
    "\n",
    "from indra.literature.adeft_tools import universal_extract_text\n",
    "from indra.databases.hgnc_client import get_hgnc_name, get_hgnc_id\n",
    "\n",
    "from adeft.discover import AdeftMiner\n",
    "from adeft.gui import ground_with_gui\n",
    "from adeft.modeling.label import AdeftLabeler\n",
    "from adeft.modeling.classify import AdeftClassifier\n",
    "from adeft.disambiguate import AdeftDisambiguator\n",
    "\n",
    "\n",
    "from adeft_indra.ground.ground import AdeftGrounder\n",
    "from adeft_indra.model_building.s3 import model_to_s3\n",
    "from adeft_indra.model_building.escape import escape_filename\n",
    "from adeft_indra.db.content import get_pmids_for_agent_text, get_pmids_for_entity, \\\n",
    "    get_plaintexts_for_pmids"
   ]
  },
  {
   "cell_type": "code",
   "execution_count": 6,
   "metadata": {},
   "outputs": [],
   "source": [
    "adeft_grounder = AdeftGrounder()"
   ]
  },
  {
   "cell_type": "code",
   "execution_count": 7,
   "metadata": {},
   "outputs": [],
   "source": [
    "shortforms = ['AHR']\n",
    "model_name = ':'.join(sorted(escape_filename(shortform) for shortform in shortforms))\n",
    "results_path = os.path.abspath(os.path.join('../..', 'results', model_name))"
   ]
  },
  {
   "cell_type": "code",
   "execution_count": 8,
   "metadata": {},
   "outputs": [],
   "source": [
    "miners = dict()\n",
    "all_texts = {}\n",
    "for shortform in shortforms:\n",
    "    pmids = get_pmids_for_agent_text(shortform)\n",
    "    if len(pmids) > 10000:\n",
    "        pmids = random.choices(pmids, k=10000)\n",
    "    text_dict = get_plaintexts_for_pmids(pmids, contains=shortforms)\n",
    "    text_dict = {pmid: text for pmid, text in text_dict.items() if len(text) > 5}\n",
    "    miners[shortform] = AdeftMiner(shortform)\n",
    "    miners[shortform].process_texts(text_dict.values())\n",
    "    all_texts.update(text_dict)\n",
    "\n",
    "longform_dict = {}\n",
    "for shortform in shortforms:\n",
    "    longforms = miners[shortform].get_longforms()\n",
    "    longforms = [(longform, count, score) for longform, count, score in longforms\n",
    "                 if count*score > 2]\n",
    "    longform_dict[shortform] = longforms\n",
    "    \n",
    "combined_longforms = Counter()\n",
    "for longform_rows in longform_dict.values():\n",
    "    combined_longforms.update({longform: count for longform, count, score\n",
    "                               in longform_rows})\n",
    "grounding_map = {}\n",
    "names = {}\n",
    "for longform in combined_longforms:\n",
    "    groundings = adeft_grounder.ground(longform)\n",
    "    if groundings:\n",
    "        grounding = groundings[0]['grounding']\n",
    "        grounding_map[longform] = grounding\n",
    "        names[grounding] = groundings[0]['name']\n",
    "longforms, counts = zip(*combined_longforms.most_common())\n",
    "pos_labels = []"
   ]
  },
  {
   "cell_type": "code",
   "execution_count": 9,
   "metadata": {},
   "outputs": [
    {
     "data": {
      "text/plain": [
       "[('aryl hydrocarbon receptor', 1240),\n",
       " ('airway hyperresponsiveness', 1216),\n",
       " ('airway hyperreactivity', 295),\n",
       " ('airway hyper responsiveness', 224),\n",
       " ('airway hyper reactivity', 59),\n",
       " ('aromatic hydrocarbon receptor', 33),\n",
       " ('ah receptor', 27),\n",
       " ('and hyperresponsiveness', 18),\n",
       " ('arylhydrocarbon receptor', 12),\n",
       " ('acute humoral rejection', 8),\n",
       " ('aryl hydrocarbon', 7),\n",
       " ('acute haemodynamic responsiveness', 6),\n",
       " ('adjusted hazard ratio', 5),\n",
       " ('airway hyperactivity', 5),\n",
       " ('airway inflammation hyperresponsiveness', 5),\n",
       " ('antiseptic hand rubbing', 3),\n",
       " ('anti hydroxyl radical', 3),\n",
       " ('autonomic hyperreflexia', 3),\n",
       " ('acute hemodynamic responsiveness', 3),\n",
       " ('and hyper responsiveness', 3)]"
      ]
     },
     "execution_count": 9,
     "metadata": {},
     "output_type": "execute_result"
    }
   ],
   "source": [
    "list(zip(longforms, counts))"
   ]
  },
  {
   "cell_type": "code",
   "execution_count": 10,
   "metadata": {},
   "outputs": [
    {
     "name": "stderr",
     "output_type": "stream",
     "text": [
      "INFO: [2020-10-08 00:11:28] indra.ontology.bio.ontology - Loading INDRA bio ontology from cache at /home/ubuntu/.indra/bio_ontology/1.2/bio_ontology.pkl\n"
     ]
    }
   ],
   "source": [
    "grounding_map, names, pos_labels = ground_with_gui(longforms, counts, \n",
    "                                                   grounding_map=grounding_map,\n",
    "                                                   names=names, pos_labels=pos_labels, no_browser=True, port=8890)"
   ]
  },
  {
   "cell_type": "code",
   "execution_count": 11,
   "metadata": {},
   "outputs": [],
   "source": [
    "result = [grounding_map, names, pos_labels]"
   ]
  },
  {
   "cell_type": "code",
   "execution_count": 12,
   "metadata": {},
   "outputs": [
    {
     "data": {
      "text/plain": [
       "[{'acute haemodynamic responsiveness': 'ungrounded',\n",
       "  'acute hemodynamic responsiveness': 'ungrounded',\n",
       "  'acute humoral rejection': 'ungrounded',\n",
       "  'adjusted hazard ratio': 'ungrounded',\n",
       "  'ah receptor': 'HGNC:348',\n",
       "  'airway hyper reactivity': 'MESH:D012130',\n",
       "  'airway hyper responsiveness': 'MESH:D012130',\n",
       "  'airway hyperactivity': 'MESH:D012130',\n",
       "  'airway hyperreactivity': 'MESH:D012130',\n",
       "  'airway hyperresponsiveness': 'MESH:D012130',\n",
       "  'airway inflammation hyperresponsiveness': 'MESH:D012130',\n",
       "  'and hyper responsiveness': 'MESH:D012130',\n",
       "  'and hyperresponsiveness': 'MESH:D012130',\n",
       "  'anti hydroxyl radical': 'CHEBI:CHEBI:29191',\n",
       "  'antiseptic hand rubbing': 'ungrounded',\n",
       "  'aromatic hydrocarbon receptor': 'HGNC:348',\n",
       "  'aryl hydrocarbon': 'HGNC:348',\n",
       "  'aryl hydrocarbon receptor': 'HGNC:348',\n",
       "  'arylhydrocarbon receptor': 'HGNC:348',\n",
       "  'autonomic hyperreflexia': 'MESH:D020211'},\n",
       " {'HGNC:348': 'AHR',\n",
       "  'MESH:D012130': 'Respiratory Hypersensitivity',\n",
       "  'CHEBI:CHEBI:29191': 'hydroxyl',\n",
       "  'MESH:D020211': 'Autonomic Dysreflexia'},\n",
       " ['HGNC:348', 'MESH:D012130']]"
      ]
     },
     "execution_count": 12,
     "metadata": {},
     "output_type": "execute_result"
    }
   ],
   "source": [
    "result"
   ]
  },
  {
   "cell_type": "code",
   "execution_count": 13,
   "metadata": {},
   "outputs": [],
   "source": [
    "grounding_map, names, pos_labels = [{'acute haemodynamic responsiveness': 'ungrounded',\n",
    "  'acute hemodynamic responsiveness': 'ungrounded',\n",
    "  'acute humoral rejection': 'ungrounded',\n",
    "  'adjusted hazard ratio': 'ungrounded',\n",
    "  'ah receptor': 'HGNC:348',\n",
    "  'airway hyper reactivity': 'MESH:D012130',\n",
    "  'airway hyper responsiveness': 'MESH:D012130',\n",
    "  'airway hyperactivity': 'MESH:D012130',\n",
    "  'airway hyperreactivity': 'MESH:D012130',\n",
    "  'airway hyperresponsiveness': 'MESH:D012130',\n",
    "  'airway inflammation hyperresponsiveness': 'MESH:D012130',\n",
    "  'and hyper responsiveness': 'MESH:D012130',\n",
    "  'and hyperresponsiveness': 'MESH:D012130',\n",
    "  'anti hydroxyl radical': 'CHEBI:CHEBI:29191',\n",
    "  'antiseptic hand rubbing': 'ungrounded',\n",
    "  'aromatic hydrocarbon receptor': 'HGNC:348',\n",
    "  'aryl hydrocarbon': 'HGNC:348',\n",
    "  'aryl hydrocarbon receptor': 'HGNC:348',\n",
    "  'arylhydrocarbon receptor': 'HGNC:348',\n",
    "  'autonomic hyperreflexia': 'MESH:D020211'},\n",
    " {'HGNC:348': 'AHR',\n",
    "  'MESH:D012130': 'Respiratory Hypersensitivity',\n",
    "  'CHEBI:CHEBI:29191': 'hydroxyl',\n",
    "  'MESH:D020211': 'Autonomic Dysreflexia'},\n",
    " ['HGNC:348', 'MESH:D012130']]"
   ]
  },
  {
   "cell_type": "code",
   "execution_count": 14,
   "metadata": {},
   "outputs": [],
   "source": [
    "excluded_longforms = []"
   ]
  },
  {
   "cell_type": "code",
   "execution_count": 15,
   "metadata": {},
   "outputs": [],
   "source": [
    "grounding_dict = {shortform: {longform: grounding_map[longform] \n",
    "                              for longform, _, _ in longforms if longform in grounding_map\n",
    "                              and longform not in excluded_longforms}\n",
    "                  for shortform, longforms in longform_dict.items()}\n",
    "result = [grounding_dict, names, pos_labels]\n",
    "\n",
    "if not os.path.exists(results_path):\n",
    "    os.mkdir(results_path)\n",
    "with open(os.path.join(results_path, f'{model_name}_preliminary_grounding_info.json'), 'w') as f:\n",
    "    json.dump(result, f)"
   ]
  },
  {
   "cell_type": "code",
   "execution_count": 16,
   "metadata": {},
   "outputs": [],
   "source": [
    "additional_entities = {}"
   ]
  },
  {
   "cell_type": "code",
   "execution_count": 17,
   "metadata": {},
   "outputs": [],
   "source": [
    "unambiguous_agent_texts = {}"
   ]
  },
  {
   "cell_type": "code",
   "execution_count": 18,
   "metadata": {},
   "outputs": [],
   "source": [
    "labeler = AdeftLabeler(grounding_dict)\n",
    "corpus = labeler.build_from_texts((text, pmid) for pmid, text in all_texts.items())\n",
    "agent_text_pmid_map = defaultdict(list)\n",
    "for text, label, id_ in corpus:\n",
    "    agent_text_pmid_map[label].append(id_)\n",
    "\n",
    "entity_pmid_map = {entity: set(get_pmids_for_entity(*entity.split(':', maxsplit=1),\n",
    "                                                major_topic=True))for entity in additional_entities}"
   ]
  },
  {
   "cell_type": "code",
   "execution_count": 19,
   "metadata": {},
   "outputs": [],
   "source": [
    "intersection1 = []\n",
    "for entity1, pmids1 in entity_pmid_map.items():\n",
    "    for entity2, pmids2 in entity_pmid_map.items():\n",
    "        intersection1.append((entity1, entity2, len(pmids1 & pmids2)))"
   ]
  },
  {
   "cell_type": "code",
   "execution_count": 20,
   "metadata": {},
   "outputs": [],
   "source": [
    "intersection2 = []\n",
    "for entity1, pmids1 in agent_text_pmid_map.items():\n",
    "    for entity2, pmids2 in entity_pmid_map.items():\n",
    "        intersection2.append((entity1, entity2, len(set(pmids1) & pmids2)))"
   ]
  },
  {
   "cell_type": "code",
   "execution_count": 17,
   "metadata": {},
   "outputs": [
    {
     "data": {
      "text/plain": [
       "[('HGNC:17981', 'HGNC:17981', 29)]"
      ]
     },
     "execution_count": 17,
     "metadata": {},
     "output_type": "execute_result"
    }
   ],
   "source": [
    "intersection1"
   ]
  },
  {
   "cell_type": "code",
   "execution_count": 18,
   "metadata": {},
   "outputs": [
    {
     "data": {
      "text/plain": [
       "[('ungrounded', 'HGNC:17981', 0)]"
      ]
     },
     "execution_count": 18,
     "metadata": {},
     "output_type": "execute_result"
    }
   ],
   "source": [
    "intersection2"
   ]
  },
  {
   "cell_type": "code",
   "execution_count": null,
   "metadata": {},
   "outputs": [],
   "source": []
  },
  {
   "cell_type": "code",
   "execution_count": 20,
   "metadata": {},
   "outputs": [],
   "source": [
    "all_used_pmids = set()\n",
    "for entity, agent_texts in unambiguous_agent_texts.items():\n",
    "    used_pmids = set()\n",
    "    for agent_text in agent_texts:\n",
    "        pmids = set(get_pmids_for_agent_text(agent_text))\n",
    "        new_pmids = list(pmids - all_texts.keys() - used_pmids)\n",
    "        text_dict = get_plaintexts_for_pmids(new_pmids, contains=agent_texts)\n",
    "        corpus.extend([(text, entity, pmid) for pmid, text in text_dict.items()])\n",
    "        used_pmids.update(new_pmids)\n",
    "    all_used_pmids.update(used_pmids)\n",
    "        \n",
    "for entity, pmids in entity_pmid_map.items():\n",
    "    new_pmids = list(set(pmids) - all_texts.keys() - all_used_pmids)\n",
    "    if len(new_pmids) > 10000:\n",
    "        new_pmids = random.choices(new_pmids, k=10000)\n",
    "    text_dict = get_plaintexts_for_pmids(new_pmids, contains=['RTCA', 'RTCD1', 'RPC', 'RTC1', 'RTC'])\n",
    "    corpus.extend([(text, entity, pmid) for pmid, text in text_dict.items()])"
   ]
  },
  {
   "cell_type": "code",
   "execution_count": null,
   "metadata": {},
   "outputs": [],
   "source": [
    "names.update(additional_entitie)"
   ]
  },
  {
   "cell_type": "code",
   "execution_count": 21,
   "metadata": {},
   "outputs": [
    {
     "name": "stderr",
     "output_type": "stream",
     "text": [
      "INFO: [2020-10-08 00:22:18] /adeft/PythonRepos/adeft/adeft/modeling/classify.py - Beginning grid search in parameter space:\n",
      "{'C': [100.0], 'max_features': [10000]}\n",
      "INFO: [2020-10-08 00:22:50] /adeft/PythonRepos/adeft/adeft/modeling/classify.py - Best f1 score of 0.9950883841339072 found for parameter values:\n",
      "{'logit__C': 100.0, 'tfidf__max_features': 10000}\n"
     ]
    }
   ],
   "source": [
    "%%capture\n",
    "\n",
    "classifier = AdeftClassifier(shortforms, pos_labels=pos_labels, random_state=1729)\n",
    "param_grid = {'C': [100.0], 'max_features': [10000]}\n",
    "texts, labels, pmids = zip(*corpus)\n",
    "classifier.cv(texts, labels, param_grid, cv=5, n_jobs=5)"
   ]
  },
  {
   "cell_type": "code",
   "execution_count": 22,
   "metadata": {
    "scrolled": true
   },
   "outputs": [
    {
     "data": {
      "text/plain": [
       "{'label_distribution': {'MESH:D012130': 1385,\n",
       "  'HGNC:348': 952,\n",
       "  'ungrounded': 16,\n",
       "  'MESH:D020211': 3,\n",
       "  'CHEBI:CHEBI:29191': 3},\n",
       " 'f1': {'mean': 0.995088, 'std': 0.001091},\n",
       " 'precision': {'mean': 0.993624, 'std': 0.00133},\n",
       " 'recall': {'mean': 0.996577, 'std': 0.001713},\n",
       " 'MESH:D012130': {'f1': {'mean': 0.996396, 'std': 0.00161},\n",
       "  'pr': {'mean': 0.997834, 'std': 0.002888},\n",
       "  'rc': {'mean': 0.994979, 'std': 0.003639}},\n",
       " 'MESH:D020211': {'f1': {'mean': 0.4, 'std': 0.489898},\n",
       "  'pr': {'mean': 0.4, 'std': 0.489898},\n",
       "  'rc': {'mean': 0.4, 'std': 0.489898}},\n",
       " 'ungrounded': {'f1': {'mean': 0.871429, 'std': 0.193781},\n",
       "  'pr': {'mean': 0.816667, 'std': 0.260342},\n",
       "  'rc': {'mean': 1.0, 'std': 0.0}},\n",
       " 'CHEBI:CHEBI:29191': {'f1': {'mean': 0.0, 'std': 0.0},\n",
       "  'pr': {'mean': 0.0, 'std': 0.0},\n",
       "  'rc': {'mean': 0.0, 'std': 0.0}},\n",
       " 'HGNC:348': {'f1': {'mean': 0.993184, 'std': 0.001279},\n",
       "  'pr': {'mean': 0.994753, 'std': 0.003311},\n",
       "  'rc': {'mean': 0.991645, 'std': 0.004123}}}"
      ]
     },
     "execution_count": 22,
     "metadata": {},
     "output_type": "execute_result"
    }
   ],
   "source": [
    "classifier.stats"
   ]
  },
  {
   "cell_type": "code",
   "execution_count": 23,
   "metadata": {},
   "outputs": [],
   "source": [
    "disamb = AdeftDisambiguator(classifier, grounding_dict, names)"
   ]
  },
  {
   "cell_type": "code",
   "execution_count": 25,
   "metadata": {},
   "outputs": [],
   "source": [
    "disamb.dump(model_name, results_path)"
   ]
  },
  {
   "cell_type": "code",
   "execution_count": 24,
   "metadata": {},
   "outputs": [
    {
     "name": "stdout",
     "output_type": "stream",
     "text": [
      "Disambiguation model for AHR\n",
      "\n",
      "Produces the disambiguations:\n",
      "\tAHR*\tHGNC:348\n",
      "\tAutonomic Dysreflexia\tMESH:D020211\n",
      "\tRespiratory Hypersensitivity*\tMESH:D012130\n",
      "\thydroxyl\tCHEBI:CHEBI:29191\n",
      "\n",
      "Class level metrics:\n",
      "--------------------\n",
      "Grounding                   \tCount\tF1     \n",
      "Respiratory Hypersensitivity*\t1385\t 0.9964\n",
      "                         AHR*\t 952\t0.99318\n",
      "                  Ungrounded\t  16\t0.87143\n",
      "       Autonomic Dysreflexia\t   3\t    0.4\n",
      "                    hydroxyl\t   3\t    0.0\n",
      "\n",
      "Weighted Metrics:\n",
      "-----------------\n",
      "\tF1 score:\t0.99509\n",
      "\tPrecision:\t0.99362\n",
      "\tRecall:\t\t0.99658\n",
      "\n",
      "* Positive labels\n",
      "See Docstring for explanation\n",
      "\n"
     ]
    }
   ],
   "source": [
    "print(disamb.info())"
   ]
  },
  {
   "cell_type": "code",
   "execution_count": 26,
   "metadata": {},
   "outputs": [],
   "source": [
    "model_to_s3(disamb)"
   ]
  },
  {
   "cell_type": "code",
   "execution_count": null,
   "metadata": {},
   "outputs": [],
   "source": []
  }
 ],
 "metadata": {
  "kernelspec": {
   "display_name": "Python 3",
   "language": "python",
   "name": "python3"
  },
  "language_info": {
   "codemirror_mode": {
    "name": "ipython",
    "version": 3
   },
   "file_extension": ".py",
   "mimetype": "text/x-python",
   "name": "python",
   "nbconvert_exporter": "python",
   "pygments_lexer": "ipython3",
   "version": "3.8.4"
  }
 },
 "nbformat": 4,
 "nbformat_minor": 2
}
