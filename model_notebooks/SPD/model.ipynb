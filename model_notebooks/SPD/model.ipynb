{
 "cells": [
  {
   "cell_type": "code",
   "execution_count": 1,
   "metadata": {},
   "outputs": [],
   "source": [
    "import os\n",
    "import json\n",
    "import pickle\n",
    "import random\n",
    "from collections import defaultdict, Counter\n",
    "\n",
    "from indra.literature.adeft_tools import universal_extract_text\n",
    "from indra.databases.hgnc_client import get_hgnc_name, get_hgnc_id\n",
    "\n",
    "from adeft.discover import AdeftMiner\n",
    "from adeft.gui import ground_with_gui\n",
    "from adeft.modeling.label import AdeftLabeler\n",
    "from adeft.modeling.classify import AdeftClassifier\n",
    "from adeft.disambiguate import AdeftDisambiguator\n",
    "\n",
    "\n",
    "from adeft_indra.ground.ground import AdeftGrounder\n",
    "from adeft_indra.model_building.s3 import model_to_s3\n",
    "from adeft_indra.model_building.escape import escape_filename\n",
    "from adeft_indra.db.content import get_pmids_for_agent_text, get_pmids_for_entity, \\\n",
    "    get_plaintexts_for_pmids"
   ]
  },
  {
   "cell_type": "code",
   "execution_count": 2,
   "metadata": {},
   "outputs": [],
   "source": [
    "adeft_grounder = AdeftGrounder()"
   ]
  },
  {
   "cell_type": "code",
   "execution_count": 3,
   "metadata": {},
   "outputs": [],
   "source": [
    "shortforms = ['SPD']\n",
    "model_name = ':'.join(sorted(escape_filename(shortform) for shortform in shortforms))\n",
    "results_path = os.path.abspath(os.path.join('../..', 'results', model_name))"
   ]
  },
  {
   "cell_type": "code",
   "execution_count": 4,
   "metadata": {},
   "outputs": [],
   "source": [
    "miners = dict()\n",
    "all_texts = {}\n",
    "for shortform in shortforms:\n",
    "    pmids = get_pmids_for_agent_text(shortform)\n",
    "    if len(pmids) > 10000:\n",
    "        pmids = random.choices(pmids, k=10000)\n",
    "    text_dict = get_plaintexts_for_pmids(pmids, contains=shortforms)\n",
    "    text_dict = {pmid: text for pmid, text in text_dict.items() if len(text) > 5}\n",
    "    miners[shortform] = AdeftMiner(shortform)\n",
    "    miners[shortform].process_texts(text_dict.values())\n",
    "    all_texts.update(text_dict)\n",
    "\n",
    "longform_dict = {}\n",
    "for shortform in shortforms:\n",
    "    longforms = miners[shortform].get_longforms()\n",
    "    longforms = [(longform, count, score) for longform, count, score in longforms\n",
    "                 if count*score > 2]\n",
    "    longform_dict[shortform] = longforms\n",
    "    \n",
    "combined_longforms = Counter()\n",
    "for longform_rows in longform_dict.values():\n",
    "    combined_longforms.update({longform: count for longform, count, score\n",
    "                               in longform_rows})\n",
    "grounding_map = {}\n",
    "names = {}\n",
    "for longform in combined_longforms:\n",
    "    groundings = adeft_grounder.ground(longform)\n",
    "    if groundings:\n",
    "        grounding = groundings[0]['grounding']\n",
    "        grounding_map[longform] = grounding\n",
    "        names[grounding] = groundings[0]['name']\n",
    "longforms, counts = zip(*combined_longforms.most_common())\n",
    "pos_labels = []"
   ]
  },
  {
   "cell_type": "code",
   "execution_count": 5,
   "metadata": {},
   "outputs": [
    {
     "data": {
      "text/plain": [
       "[('spermidine', 63),\n",
       " ('stepholidine', 29),\n",
       " ('serious psychological distress', 15),\n",
       " ('sulpiride', 15),\n",
       " ('schizotypal personality disorder', 10),\n",
       " ('sprague dawley', 9),\n",
       " ('subcorneal pustular dermatosis', 8),\n",
       " ('surfactant protein d', 7),\n",
       " ('synpolydactyly', 6),\n",
       " ('sample progression discovery', 5),\n",
       " ('styrylpyrone derivative', 5),\n",
       " ('severe plastic deformation', 3),\n",
       " ('surfactant polymer dressing', 3)]"
      ]
     },
     "execution_count": 5,
     "metadata": {},
     "output_type": "execute_result"
    }
   ],
   "source": [
    "list(zip(longforms, counts))"
   ]
  },
  {
   "cell_type": "code",
   "execution_count": 7,
   "metadata": {},
   "outputs": [
    {
     "name": "stderr",
     "output_type": "stream",
     "text": [
      "INFO: [2020-09-24 20:06:54] indra.ontology.bio.ontology - Loading INDRA bio ontology from cache at /home/ubuntu/.indra/bio_ontology/1.2/bio_ontology.pkl\n"
     ]
    }
   ],
   "source": [
    "grounding_map, names, pos_labels = ground_with_gui(longforms, counts, \n",
    "                                                   grounding_map=grounding_map,\n",
    "                                                   names=names, pos_labels=pos_labels, no_browser=True, port=8890)"
   ]
  },
  {
   "cell_type": "code",
   "execution_count": 8,
   "metadata": {},
   "outputs": [],
   "source": [
    "result = [grounding_map, names, pos_labels]"
   ]
  },
  {
   "cell_type": "code",
   "execution_count": 9,
   "metadata": {},
   "outputs": [
    {
     "data": {
      "text/plain": [
       "[{'sample progression discovery': 'ungrounded',\n",
       "  'schizotypal personality disorder': 'MESH:D012569',\n",
       "  'serious psychological distress': 'MESH:D000079225',\n",
       "  'severe plastic deformation': 'ungrounded',\n",
       "  'spermidine': 'CHEBI:CHEBI:16610',\n",
       "  'sprague dawley': 'MESH:D017207',\n",
       "  'stepholidine': 'MESH:C010513',\n",
       "  'styrylpyrone derivative': 'ungrounded',\n",
       "  'subcorneal pustular dermatosis': 'DOID:DOID:8508',\n",
       "  'sulpiride': 'CHEBI:CHEBI:32168',\n",
       "  'surfactant polymer dressing': 'ungrounded',\n",
       "  'surfactant protein d': 'HGNC:10803',\n",
       "  'synpolydactyly': 'DOID:DOID:0060242'},\n",
       " {'MESH:D012569': 'Schizotypal Personality Disorder',\n",
       "  'MESH:D000079225': 'Psychological Distress',\n",
       "  'CHEBI:CHEBI:16610': 'spermidine',\n",
       "  'MESH:D017207': 'Rats, Sprague-Dawley',\n",
       "  'MESH:C010513': 'stepholidine',\n",
       "  'DOID:DOID:8508': 'subcorneal pustular dermatosis',\n",
       "  'CHEBI:CHEBI:32168': 'sulpiride',\n",
       "  'HGNC:10803': 'SFTPD',\n",
       "  'DOID:DOID:0060242': 'synpolydactyly'},\n",
       " ['CHEBI:CHEBI:16610', 'MESH:C010513']]"
      ]
     },
     "execution_count": 9,
     "metadata": {},
     "output_type": "execute_result"
    }
   ],
   "source": [
    "result"
   ]
  },
  {
   "cell_type": "code",
   "execution_count": 10,
   "metadata": {},
   "outputs": [],
   "source": [
    "grounding_map, names, pos_labels = [{'sample progression discovery': 'ungrounded',\n",
    "  'schizotypal personality disorder': 'MESH:D012569',\n",
    "  'serious psychological distress': 'MESH:D000079225',\n",
    "  'severe plastic deformation': 'ungrounded',\n",
    "  'spermidine': 'CHEBI:CHEBI:16610',\n",
    "  'sprague dawley': 'MESH:D017207',\n",
    "  'stepholidine': 'MESH:C010513',\n",
    "  'styrylpyrone derivative': 'ungrounded',\n",
    "  'subcorneal pustular dermatosis': 'DOID:DOID:8508',\n",
    "  'sulpiride': 'CHEBI:CHEBI:32168',\n",
    "  'surfactant polymer dressing': 'ungrounded',\n",
    "  'surfactant protein d': 'HGNC:10803',\n",
    "  'synpolydactyly': 'DOID:DOID:0060242'},\n",
    " {'MESH:D012569': 'Schizotypal Personality Disorder',\n",
    "  'MESH:D000079225': 'Psychological Distress',\n",
    "  'CHEBI:CHEBI:16610': 'spermidine',\n",
    "  'MESH:D017207': 'Rats, Sprague-Dawley',\n",
    "  'MESH:C010513': 'stepholidine',\n",
    "  'DOID:DOID:8508': 'subcorneal pustular dermatosis',\n",
    "  'CHEBI:CHEBI:32168': 'sulpiride',\n",
    "  'HGNC:10803': 'SFTPD',\n",
    "  'DOID:DOID:0060242': 'synpolydactyly'},\n",
    " ['CHEBI:CHEBI:16610', 'MESH:C010513']]"
   ]
  },
  {
   "cell_type": "code",
   "execution_count": 11,
   "metadata": {},
   "outputs": [],
   "source": [
    "excluded_longforms = []"
   ]
  },
  {
   "cell_type": "code",
   "execution_count": 12,
   "metadata": {},
   "outputs": [],
   "source": [
    "grounding_dict = {shortform: {longform: grounding_map[longform] \n",
    "                              for longform, _, _ in longforms if longform in grounding_map\n",
    "                              and longform not in excluded_longforms}\n",
    "                  for shortform, longforms in longform_dict.items()}\n",
    "result = [grounding_dict, names, pos_labels]\n",
    "\n",
    "if not os.path.exists(results_path):\n",
    "    os.mkdir(results_path)\n",
    "with open(os.path.join(results_path, f'{model_name}_preliminary_grounding_info.json'), 'w') as f:\n",
    "    json.dump(result, f)"
   ]
  },
  {
   "cell_type": "code",
   "execution_count": 13,
   "metadata": {},
   "outputs": [],
   "source": [
    "additional_entities = []"
   ]
  },
  {
   "cell_type": "code",
   "execution_count": 14,
   "metadata": {},
   "outputs": [],
   "source": [
    "unambiguous_agent_texts = {}"
   ]
  },
  {
   "cell_type": "code",
   "execution_count": 26,
   "metadata": {},
   "outputs": [],
   "source": [
    "labeler = AdeftLabeler(grounding_dict)\n",
    "corpus = labeler.build_from_texts((text, pmid) for pmid, text in all_texts.items())\n",
    "agent_text_pmid_map = defaultdict(list)\n",
    "for text, label, id_ in corpus:\n",
    "    agent_text_pmid_map[label].append(id_)\n",
    "\n",
    "entities = pos_labels + additional_entities\n",
    "entity_pmid_map = {entity: set(get_pmids_for_entity(*entity.split(':', maxsplit=1),\n",
    "                                                major_topic=True))for entity in entities}"
   ]
  },
  {
   "cell_type": "code",
   "execution_count": 16,
   "metadata": {},
   "outputs": [],
   "source": [
    "intersection1 = []\n",
    "for entity1, pmids1 in entity_pmid_map.items():\n",
    "    for entity2, pmids2 in entity_pmid_map.items():\n",
    "        intersection1.append((entity1, entity2, len(pmids1 & pmids2)))"
   ]
  },
  {
   "cell_type": "code",
   "execution_count": 17,
   "metadata": {},
   "outputs": [],
   "source": [
    "intersection2 = []\n",
    "for entity1, pmids1 in agent_text_pmid_map.items():\n",
    "    for entity2, pmids2 in entity_pmid_map.items():\n",
    "        intersection2.append((entity1, entity2, len(set(pmids1) & pmids2)))"
   ]
  },
  {
   "cell_type": "code",
   "execution_count": 18,
   "metadata": {},
   "outputs": [
    {
     "data": {
      "text/plain": [
       "[('CHEBI:CHEBI:16610', 'CHEBI:CHEBI:16610', 3850),\n",
       " ('CHEBI:CHEBI:16610', 'MESH:C010513', 0),\n",
       " ('MESH:C010513', 'CHEBI:CHEBI:16610', 0),\n",
       " ('MESH:C010513', 'MESH:C010513', 0)]"
      ]
     },
     "execution_count": 18,
     "metadata": {},
     "output_type": "execute_result"
    }
   ],
   "source": [
    "intersection1"
   ]
  },
  {
   "cell_type": "code",
   "execution_count": 19,
   "metadata": {},
   "outputs": [
    {
     "data": {
      "text/plain": [
       "[('MESH:C010513', 'CHEBI:CHEBI:16610', 0),\n",
       " ('MESH:C010513', 'MESH:C010513', 0),\n",
       " ('CHEBI:CHEBI:16610', 'CHEBI:CHEBI:16610', 22),\n",
       " ('CHEBI:CHEBI:16610', 'MESH:C010513', 0),\n",
       " ('MESH:D017207', 'CHEBI:CHEBI:16610', 0),\n",
       " ('MESH:D017207', 'MESH:C010513', 0),\n",
       " ('ungrounded', 'CHEBI:CHEBI:16610', 0),\n",
       " ('ungrounded', 'MESH:C010513', 0),\n",
       " ('DOID:DOID:8508', 'CHEBI:CHEBI:16610', 0),\n",
       " ('DOID:DOID:8508', 'MESH:C010513', 0),\n",
       " ('DOID:DOID:0060242', 'CHEBI:CHEBI:16610', 0),\n",
       " ('DOID:DOID:0060242', 'MESH:C010513', 0),\n",
       " ('MESH:D000079225', 'CHEBI:CHEBI:16610', 0),\n",
       " ('MESH:D000079225', 'MESH:C010513', 0),\n",
       " ('MESH:D012569', 'CHEBI:CHEBI:16610', 0),\n",
       " ('MESH:D012569', 'MESH:C010513', 0),\n",
       " ('HGNC:10803', 'CHEBI:CHEBI:16610', 0),\n",
       " ('HGNC:10803', 'MESH:C010513', 0),\n",
       " ('CHEBI:CHEBI:32168', 'CHEBI:CHEBI:16610', 0),\n",
       " ('CHEBI:CHEBI:32168', 'MESH:C010513', 0)]"
      ]
     },
     "execution_count": 19,
     "metadata": {},
     "output_type": "execute_result"
    }
   ],
   "source": [
    "intersection2"
   ]
  },
  {
   "cell_type": "code",
   "execution_count": 84,
   "metadata": {},
   "outputs": [
    {
     "data": {
      "text/plain": [
       "[('HGNC:7321', ['Musculin', 'musculin'])]"
      ]
     },
     "execution_count": 84,
     "metadata": {},
     "output_type": "execute_result"
    }
   ],
   "source": []
  },
  {
   "cell_type": "code",
   "execution_count": 27,
   "metadata": {},
   "outputs": [],
   "source": [
    "all_used_pmids = set()\n",
    "for entity, agent_texts in unambiguous_agent_texts.items():\n",
    "    used_pmids = set()\n",
    "    for agent_text in agent_texts:\n",
    "        pmids = set(get_pmids_for_agent_text(agent_text))\n",
    "        new_pmids = list(pmids - all_texts.keys() - used_pmids)\n",
    "        text_dict = get_plaintexts_for_pmids(new_pmids, contains=agent_texts)\n",
    "        corpus.extend([(text, entity, pmid) for pmid, text in text_dict.items()])\n",
    "        used_pmids.update(new_pmids)\n",
    "    all_used_pmids.update(used_pmids)\n",
    "        \n",
    "for entity, pmids in entity_pmid_map.items():\n",
    "    new_pmids = list(set(pmids) - all_texts.keys() - all_used_pmids)\n",
    "    if len(new_pmids) > 10000:\n",
    "        new_pmids = random.choices(new_pmids, k=10000)\n",
    "    text_dict = get_plaintexts_for_pmids(new_pmids, contains=['SPD', 'spermidine', 'Spermidine'])\n",
    "    corpus.extend([(text, entity, pmid) for pmid, text in text_dict.items() if len(text) > 5])"
   ]
  },
  {
   "cell_type": "code",
   "execution_count": 28,
   "metadata": {},
   "outputs": [
    {
     "name": "stderr",
     "output_type": "stream",
     "text": [
      "INFO: [2020-09-24 20:41:37] /adeft/PythonRepos/adeft/adeft/modeling/classify.py - Beginning grid search in parameter space:\n",
      "{'C': [100.0], 'max_features': [10000]}\n",
      "INFO: [2020-09-24 20:41:56] /adeft/PythonRepos/adeft/adeft/modeling/classify.py - Best f1 score of 0.9910350462025803 found for parameter values:\n",
      "{'logit__C': 100.0, 'tfidf__max_features': 10000}\n"
     ]
    }
   ],
   "source": [
    "%%capture\n",
    "\n",
    "classifier = AdeftClassifier(shortforms, pos_labels=pos_labels, random_state=1729)\n",
    "param_grid = {'C': [100.0], 'max_features': [10000]}\n",
    "texts, labels, pmids = zip(*corpus)\n",
    "classifier.cv(texts, labels, param_grid, cv=5, n_jobs=5)"
   ]
  },
  {
   "cell_type": "code",
   "execution_count": 29,
   "metadata": {
    "scrolled": true
   },
   "outputs": [
    {
     "data": {
      "text/plain": [
       "{'label_distribution': {'MESH:C010513': 25,\n",
       "  'CHEBI:CHEBI:16610': 2056,\n",
       "  'MESH:D017207': 5,\n",
       "  'ungrounded': 7,\n",
       "  'DOID:DOID:8508': 6,\n",
       "  'DOID:DOID:0060242': 5,\n",
       "  'MESH:D000079225': 8,\n",
       "  'MESH:D012569': 8,\n",
       "  'HGNC:10803': 5,\n",
       "  'CHEBI:CHEBI:32168': 1},\n",
       " 'f1': {'mean': 0.991035, 'std': 0.004081},\n",
       " 'precision': {'mean': 0.986724, 'std': 0.005681},\n",
       " 'recall': {'mean': 0.996155, 'std': 0.001924},\n",
       " 'CHEBI:CHEBI:32168': {'f1': {'mean': 0.0, 'std': 0.0},\n",
       "  'pr': {'mean': 0.0, 'std': 0.0},\n",
       "  'rc': {'mean': 0.0, 'std': 0.0}},\n",
       " 'HGNC:10803': {'f1': {'mean': 0.4, 'std': 0.489898},\n",
       "  'pr': {'mean': 0.4, 'std': 0.489898},\n",
       "  'rc': {'mean': 0.4, 'std': 0.489898}},\n",
       " 'ungrounded': {'f1': {'mean': 0.4, 'std': 0.489898},\n",
       "  'pr': {'mean': 0.4, 'std': 0.489898},\n",
       "  'rc': {'mean': 0.4, 'std': 0.489898}},\n",
       " 'MESH:D000079225': {'f1': {'mean': 0.533333, 'std': 0.452155},\n",
       "  'pr': {'mean': 0.5, 'std': 0.447214},\n",
       "  'rc': {'mean': 0.6, 'std': 0.489898}},\n",
       " 'DOID:DOID:0060242': {'f1': {'mean': 0.8, 'std': 0.4},\n",
       "  'pr': {'mean': 0.8, 'std': 0.4},\n",
       "  'rc': {'mean': 0.8, 'std': 0.4}},\n",
       " 'MESH:C010513': {'f1': {'mean': 0.829841, 'std': 0.143941},\n",
       "  'pr': {'mean': 0.76, 'std': 0.195959},\n",
       "  'rc': {'mean': 0.96, 'std': 0.08}},\n",
       " 'MESH:D017207': {'f1': {'mean': 0.2, 'std': 0.4},\n",
       "  'pr': {'mean': 0.2, 'std': 0.4},\n",
       "  'rc': {'mean': 0.2, 'std': 0.4}},\n",
       " 'DOID:DOID:8508': {'f1': {'mean': 0.733333, 'std': 0.38873},\n",
       "  'pr': {'mean': 0.7, 'std': 0.4},\n",
       "  'rc': {'mean': 0.8, 'std': 0.4}},\n",
       " 'MESH:D012569': {'f1': {'mean': 0.866667, 'std': 0.163299},\n",
       "  'pr': {'mean': 0.8, 'std': 0.244949},\n",
       "  'rc': {'mean': 1.0, 'std': 0.0}},\n",
       " 'CHEBI:CHEBI:16610': {'f1': {'mean': 0.992995, 'std': 0.002783},\n",
       "  'pr': {'mean': 0.999027, 'std': 0.001192},\n",
       "  'rc': {'mean': 0.987049, 'std': 0.005109}}}"
      ]
     },
     "execution_count": 29,
     "metadata": {},
     "output_type": "execute_result"
    }
   ],
   "source": [
    "classifier.stats"
   ]
  },
  {
   "cell_type": "code",
   "execution_count": 30,
   "metadata": {},
   "outputs": [],
   "source": [
    "disamb = AdeftDisambiguator(classifier, grounding_dict, names)"
   ]
  },
  {
   "cell_type": "code",
   "execution_count": 31,
   "metadata": {},
   "outputs": [],
   "source": [
    "disamb.dump(model_name, results_path)"
   ]
  },
  {
   "cell_type": "code",
   "execution_count": 32,
   "metadata": {},
   "outputs": [
    {
     "name": "stdout",
     "output_type": "stream",
     "text": [
      "Disambiguation model for SPD\n",
      "\n",
      "Produces the disambiguations:\n",
      "\tPsychological Distress\tMESH:D000079225\n",
      "\tRats, Sprague-Dawley\tMESH:D017207\n",
      "\tSFTPD\tHGNC:10803\n",
      "\tSchizotypal Personality Disorder\tMESH:D012569\n",
      "\tspermidine*\tCHEBI:CHEBI:16610\n",
      "\tstepholidine*\tMESH:C010513\n",
      "\tsubcorneal pustular dermatosis\tDOID:DOID:8508\n",
      "\tsulpiride\tCHEBI:CHEBI:32168\n",
      "\tsynpolydactyly\tDOID:DOID:0060242\n",
      "\n",
      "Class level metrics:\n",
      "--------------------\n",
      "Grounding                       \tCount\tF1     \n",
      "                      spermidine*\t2056\t  0.993\n",
      "                    stepholidine*\t  25\t0.82984\n",
      "          Psychological Distress\t   8\t0.53333\n",
      "Schizotypal Personality Disorder\t   8\t0.86667\n",
      "                      Ungrounded\t   7\t    0.4\n",
      "  subcorneal pustular dermatosis\t   6\t0.73333\n",
      "            Rats, Sprague-Dawley\t   5\t    0.2\n",
      "                  synpolydactyly\t   5\t    0.8\n",
      "                           SFTPD\t   5\t    0.4\n",
      "                       sulpiride\t   1\t    0.0\n",
      "\n",
      "Weighted Metrics:\n",
      "-----------------\n",
      "\tF1 score:\t0.99104\n",
      "\tPrecision:\t0.98672\n",
      "\tRecall:\t\t0.99616\n",
      "\n",
      "* Positive labels\n",
      "See Docstring for explanation\n",
      "\n"
     ]
    }
   ],
   "source": [
    "print(disamb.info())"
   ]
  },
  {
   "cell_type": "code",
   "execution_count": 33,
   "metadata": {},
   "outputs": [],
   "source": [
    "model_to_s3(disamb)"
   ]
  },
  {
   "cell_type": "code",
   "execution_count": null,
   "metadata": {},
   "outputs": [],
   "source": []
  }
 ],
 "metadata": {
  "kernelspec": {
   "display_name": "Python 3",
   "language": "python",
   "name": "python3"
  },
  "language_info": {
   "codemirror_mode": {
    "name": "ipython",
    "version": 3
   },
   "file_extension": ".py",
   "mimetype": "text/x-python",
   "name": "python",
   "nbconvert_exporter": "python",
   "pygments_lexer": "ipython3",
   "version": "3.8.4"
  }
 },
 "nbformat": 4,
 "nbformat_minor": 2
}
