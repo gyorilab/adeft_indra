{
 "cells": [
  {
   "cell_type": "code",
   "execution_count": 4,
   "metadata": {},
   "outputs": [],
   "source": [
    "import os\n",
    "import json\n",
    "import pickle\n",
    "import random\n",
    "from collections import defaultdict, Counter\n",
    "\n",
    "from indra.literature.adeft_tools import universal_extract_text\n",
    "from indra.databases.hgnc_client import get_hgnc_name, get_hgnc_id\n",
    "\n",
    "from adeft.discover import AdeftMiner\n",
    "from adeft.gui import ground_with_gui\n",
    "from adeft.modeling.label import AdeftLabeler\n",
    "from adeft.modeling.classify import AdeftClassifier\n",
    "from adeft.disambiguate import AdeftDisambiguator, load_disambiguator\n",
    "\n",
    "\n",
    "from adeft_indra.ground.ground import AdeftGrounder\n",
    "from adeft_indra.model_building.s3 import model_to_s3\n",
    "from adeft_indra.model_building.escape import escape_filename\n",
    "from adeft_indra.db.content import get_pmids_for_agent_text, get_pmids_for_entity, \\\n",
    "    get_plaintexts_for_pmids"
   ]
  },
  {
   "cell_type": "code",
   "execution_count": 5,
   "metadata": {},
   "outputs": [],
   "source": [
    "adeft_grounder = AdeftGrounder()"
   ]
  },
  {
   "cell_type": "code",
   "execution_count": 6,
   "metadata": {},
   "outputs": [],
   "source": [
    "shortforms = ['IBD']\n",
    "model_name = ':'.join(sorted(escape_filename(shortform) for shortform in shortforms))\n",
    "results_path = os.path.abspath(os.path.join('../..', 'results', model_name))"
   ]
  },
  {
   "cell_type": "code",
   "execution_count": 60,
   "metadata": {},
   "outputs": [],
   "source": [
    "miners = dict()\n",
    "all_texts = {}\n",
    "for shortform in shortforms:\n",
    "    pmids = get_pmids_for_agent_text(shortform)\n",
    "    if len(pmids) > 10000:\n",
    "        pmids = random.choices(pmids, k=10000)\n",
    "    text_dict = get_plaintexts_for_pmids(pmids, contains=shortforms)\n",
    "    text_dict = {pmid: text for pmid, text in text_dict.items() if len(text) > 5}\n",
    "    miners[shortform] = AdeftMiner(shortform)\n",
    "    miners[shortform].process_texts(text_dict.values())\n",
    "    all_texts.update(text_dict)\n",
    "\n",
    "longform_dict = {}\n",
    "for shortform in shortforms:\n",
    "    longforms = miners[shortform].get_longforms()\n",
    "    longforms = [(longform, count, score) for longform, count, score in longforms\n",
    "                 if count*score > 1]\n",
    "    longform_dict[shortform] = longforms\n",
    "    \n",
    "combined_longforms = Counter()\n",
    "for longform_rows in longform_dict.values():\n",
    "    combined_longforms.update({longform: count for longform, count, score\n",
    "                               in longform_rows})\n",
    "grounding_map = {}\n",
    "names = {}\n",
    "for longform in combined_longforms:\n",
    "    groundings = adeft_grounder.ground(longform)\n",
    "    if groundings:\n",
    "        grounding = groundings[0]['grounding']\n",
    "        grounding_map[longform] = grounding\n",
    "        names[grounding] = groundings[0]['name']\n",
    "longforms, counts = zip(*combined_longforms.most_common())\n",
    "pos_labels = []"
   ]
  },
  {
   "cell_type": "code",
   "execution_count": 61,
   "metadata": {},
   "outputs": [
    {
     "data": {
      "text/plain": [
       "[('inflammatory bowel disease', 3080),\n",
       " ('integrase binding domain', 33),\n",
       " ('identical by descent', 31),\n",
       " ('in binding domain', 19),\n",
       " ('infectious bursal disease', 16),\n",
       " ('isolation by distance', 15),\n",
       " ('inﬂammatory bowel disease', 12),\n",
       " ('inflammatory bowel disorders', 6),\n",
       " ('immune benefit disabled', 4),\n",
       " ('irif binding domain', 4),\n",
       " ('intrabony defect', 4),\n",
       " ('iliac branch devices', 2),\n",
       " ('intra bony defect', 2),\n",
       " ('inherited bleeding disorders', 2),\n",
       " ('indentity by descent', 2),\n",
       " ('inflammation bowel disease', 2),\n",
       " ('inhaled bronchodilators', 2),\n",
       " ('inflammatory bowel disease group', 2),\n",
       " ('isobutyryl coa dehydrogenase', 2)]"
      ]
     },
     "execution_count": 61,
     "metadata": {},
     "output_type": "execute_result"
    }
   ],
   "source": [
    "list(zip(longforms, counts))"
   ]
  },
  {
   "cell_type": "code",
   "execution_count": 65,
   "metadata": {},
   "outputs": [],
   "source": [
    "grounding_map, names, pos_labels = ground_with_gui(longforms, counts, \n",
    "                                                   grounding_map=grounding_map,\n",
    "                                                   names=names, pos_labels=pos_labels, no_browser=True, port=8891)"
   ]
  },
  {
   "cell_type": "code",
   "execution_count": 66,
   "metadata": {},
   "outputs": [],
   "source": [
    "result = [grounding_map, names, pos_labels]"
   ]
  },
  {
   "cell_type": "code",
   "execution_count": 67,
   "metadata": {},
   "outputs": [
    {
     "data": {
      "text/plain": [
       "[{'identical by descent': 'ungrounded',\n",
       "  'iliac branch devices': 'ungrounded',\n",
       "  'immune benefit disabled': 'ungrounded',\n",
       "  'in binding domain': 'ungrounded',\n",
       "  'indentity by descent': 'ungrounded',\n",
       "  'infectious bursal disease': 'MESH:D007243',\n",
       "  'inflammation bowel disease': 'NCIT:C157711',\n",
       "  'inflammatory bowel disease': 'NCIT:C157711',\n",
       "  'inflammatory bowel disease group': 'NCIT:C157711',\n",
       "  'inflammatory bowel disorders': 'NCIT:C157711',\n",
       "  'inhaled bronchodilators': 'ungrounded',\n",
       "  'inherited bleeding disorders': 'ungrounded',\n",
       "  'integrase binding domain': 'IP:IPR021567',\n",
       "  'intra bony defect': 'ungrounded',\n",
       "  'intrabony defect': 'ungrounded',\n",
       "  'inﬂammatory bowel disease': 'NCIT:C157711',\n",
       "  'irif binding domain': 'ungrounded',\n",
       "  'isobutyryl coa dehydrogenase': 'HGNC:87',\n",
       "  'isolation by distance': 'ungrounded'},\n",
       " {'MESH:D007243': 'Infectious bursal disease virus',\n",
       "  'NCIT:C157711': 'Inflammatory Bowel Disease',\n",
       "  'IP:IPR021567': 'Lens epithelium-derived growth factor, integrase-binding domain',\n",
       "  'HGNC:87': 'ACAD8'},\n",
       " ['HGNC:87', 'IP:IPR021567', 'MESH:D007243', 'NCIT:C157711']]"
      ]
     },
     "execution_count": 67,
     "metadata": {},
     "output_type": "execute_result"
    }
   ],
   "source": [
    "result"
   ]
  },
  {
   "cell_type": "code",
   "execution_count": 68,
   "metadata": {},
   "outputs": [],
   "source": [
    "grounding_map, names, pos_labels = [{'identical by descent': 'ungrounded',\n",
    "  'iliac branch devices': 'ungrounded',\n",
    "  'immune benefit disabled': 'ungrounded',\n",
    "  'in binding domain': 'ungrounded',\n",
    "  'indentity by descent': 'ungrounded',\n",
    "  'infectious bursal disease': 'MESH:D007243',\n",
    "  'inflammation bowel disease': 'NCIT:C157711',\n",
    "  'inflammatory bowel disease': 'NCIT:C157711',\n",
    "  'inflammatory bowel disease group': 'NCIT:C157711',\n",
    "  'inflammatory bowel disorders': 'NCIT:C157711',\n",
    "  'inhaled bronchodilators': 'ungrounded',\n",
    "  'inherited bleeding disorders': 'ungrounded',\n",
    "  'integrase binding domain': 'IP:IPR021567',\n",
    "  'intra bony defect': 'ungrounded',\n",
    "  'intrabony defect': 'ungrounded',\n",
    "  'inﬂammatory bowel disease': 'NCIT:C157711',\n",
    "  'irif binding domain': 'ungrounded',\n",
    "  'isobutyryl coa dehydrogenase': 'HGNC:87',\n",
    "  'isolation by distance': 'ungrounded'},\n",
    " {'MESH:D007243': 'Infectious bursal disease virus',\n",
    "  'NCIT:C157711': 'Inflammatory Bowel Disease',\n",
    "  'IP:IPR021567': 'Lens epithelium-derived growth factor, integrase-binding domain',\n",
    "  'HGNC:87': 'ACAD8'},\n",
    " ['HGNC:87', 'IP:IPR021567', 'MESH:D007243', 'NCIT:C157711']]"
   ]
  },
  {
   "cell_type": "code",
   "execution_count": 69,
   "metadata": {},
   "outputs": [],
   "source": [
    "excluded_longforms = ['in binding domain']"
   ]
  },
  {
   "cell_type": "code",
   "execution_count": 70,
   "metadata": {},
   "outputs": [],
   "source": [
    "grounding_dict = {shortform: {longform: grounding_map[longform] \n",
    "                              for longform, _, _ in longforms if longform in grounding_map\n",
    "                              and longform not in excluded_longforms}\n",
    "                  for shortform, longforms in longform_dict.items()}\n",
    "result = [grounding_dict, names, pos_labels]\n",
    "\n",
    "if not os.path.exists(results_path):\n",
    "    os.mkdir(results_path)\n",
    "with open(os.path.join(results_path, f'{model_name}_preliminary_grounding_info.json'), 'w') as f:\n",
    "    json.dump(result, f)"
   ]
  },
  {
   "cell_type": "code",
   "execution_count": 71,
   "metadata": {},
   "outputs": [],
   "source": [
    "additional_entities = {'HGNC:87': ['ACAD8', ['IBD', 'Isobutyryl', 'isobutyryl', 'IBDH']]}"
   ]
  },
  {
   "cell_type": "code",
   "execution_count": 72,
   "metadata": {},
   "outputs": [],
   "source": [
    "unambiguous_agent_texts = {}"
   ]
  },
  {
   "cell_type": "code",
   "execution_count": 73,
   "metadata": {},
   "outputs": [],
   "source": [
    "labeler = AdeftLabeler(grounding_dict)\n",
    "corpus = labeler.build_from_texts((text, pmid) for pmid, text in all_texts.items())\n",
    "agent_text_pmid_map = defaultdict(list)\n",
    "for text, label, id_ in corpus:\n",
    "    agent_text_pmid_map[label].append(id_)\n",
    "\n",
    "entity_pmid_map = {entity: set(get_pmids_for_entity(*entity.split(':', maxsplit=1),\n",
    "                                                major_topic=True))for entity in additional_entities}"
   ]
  },
  {
   "cell_type": "code",
   "execution_count": 74,
   "metadata": {},
   "outputs": [],
   "source": [
    "intersection1 = []\n",
    "for entity1, pmids1 in entity_pmid_map.items():\n",
    "    for entity2, pmids2 in entity_pmid_map.items():\n",
    "        intersection1.append((entity1, entity2, len(pmids1 & pmids2)))"
   ]
  },
  {
   "cell_type": "code",
   "execution_count": 75,
   "metadata": {},
   "outputs": [],
   "source": [
    "intersection2 = []\n",
    "for entity1, pmids1 in agent_text_pmid_map.items():\n",
    "    for entity2, pmids2 in entity_pmid_map.items():\n",
    "        intersection2.append((entity1, entity2, len(set(pmids1) & pmids2)))"
   ]
  },
  {
   "cell_type": "code",
   "execution_count": 76,
   "metadata": {},
   "outputs": [
    {
     "data": {
      "text/plain": [
       "[('HGNC:87', 'HGNC:87', 23)]"
      ]
     },
     "execution_count": 76,
     "metadata": {},
     "output_type": "execute_result"
    }
   ],
   "source": [
    "intersection1"
   ]
  },
  {
   "cell_type": "code",
   "execution_count": 77,
   "metadata": {},
   "outputs": [
    {
     "data": {
      "text/plain": [
       "[('MESH:D007243', 'HGNC:87', 0),\n",
       " ('NCIT:C157711', 'HGNC:87', 0),\n",
       " ('HGNC:87', 'HGNC:87', 1),\n",
       " ('ungrounded', 'HGNC:87', 0),\n",
       " ('IP:IPR021567', 'HGNC:87', 0)]"
      ]
     },
     "execution_count": 77,
     "metadata": {},
     "output_type": "execute_result"
    }
   ],
   "source": [
    "intersection2"
   ]
  },
  {
   "cell_type": "code",
   "execution_count": 78,
   "metadata": {},
   "outputs": [],
   "source": [
    "all_used_pmids = set()\n",
    "for entity, agent_texts in unambiguous_agent_texts.items():\n",
    "    used_pmids = set()\n",
    "    for agent_text in agent_texts[1]:\n",
    "        pmids = set(get_pmids_for_agent_text(agent_text))\n",
    "        new_pmids = list(pmids - all_texts.keys() - used_pmids)\n",
    "        text_dict = get_plaintexts_for_pmids(new_pmids, contains=agent_texts)\n",
    "        corpus.extend([(text, entity, pmid) for pmid, text in text_dict.items() if len(text) >= 5])\n",
    "        used_pmids.update(new_pmids)\n",
    "    all_used_pmids.update(used_pmids)\n",
    "        \n",
    "for entity, pmids in entity_pmid_map.items():\n",
    "    new_pmids = list(set(pmids) - all_texts.keys() - all_used_pmids)\n",
    "    if len(new_pmids) > 10000:\n",
    "        new_pmids = random.choices(new_pmids, k=10000)\n",
    "    _, contains = additional_entities[entity]\n",
    "    text_dict = get_plaintexts_for_pmids(new_pmids, contains=contains)\n",
    "    corpus.extend([(text, entity, pmid) for pmid, text in text_dict.items() if len(text) >= 5])"
   ]
  },
  {
   "cell_type": "code",
   "execution_count": 79,
   "metadata": {},
   "outputs": [],
   "source": [
    "names.update({key: value[0] for key, value in additional_entities.items()})\n",
    "names.update({key: value[0] for key, value in unambiguous_agent_texts.items()})\n",
    "pos_labels = list(set(pos_labels) | additional_entities.keys() |\n",
    "                  unambiguous_agent_texts.keys())"
   ]
  },
  {
   "cell_type": "code",
   "execution_count": 80,
   "metadata": {},
   "outputs": [
    {
     "name": "stderr",
     "output_type": "stream",
     "text": [
      "INFO: [2020-10-30 01:15:23] /adeft/PP/adeft/adeft/modeling/classify.py - Beginning grid search in parameter space:\n",
      "{'C': [100.0], 'max_features': [10000]}\n",
      "INFO: [2020-10-30 01:15:55] /adeft/PP/adeft/adeft/modeling/classify.py - Best f1 score of 0.9939795730265766 found for parameter values:\n",
      "{'logit__C': 100.0, 'tfidf__max_features': 10000}\n"
     ]
    }
   ],
   "source": [
    "%%capture\n",
    "\n",
    "classifier = AdeftClassifier(shortforms, pos_labels=pos_labels, random_state=1729)\n",
    "param_grid = {'C': [100.0], 'max_features': [10000]}\n",
    "texts, labels, pmids = zip(*corpus)\n",
    "classifier.cv(texts, labels, param_grid, cv=5, n_jobs=5)"
   ]
  },
  {
   "cell_type": "code",
   "execution_count": 81,
   "metadata": {
    "scrolled": true
   },
   "outputs": [
    {
     "data": {
      "text/plain": [
       "{'label_distribution': {'MESH:D007243': 14,\n",
       "  'NCIT:C157711': 2150,\n",
       "  'HGNC:87': 6,\n",
       "  'ungrounded': 40,\n",
       "  'IP:IPR021567': 27},\n",
       " 'f1': {'mean': 0.99398, 'std': 0.002377},\n",
       " 'precision': {'mean': 0.99188, 'std': 0.002282},\n",
       " 'recall': {'mean': 0.997269, 'std': 0.001702},\n",
       " 'NCIT:C157711': {'f1': {'mean': 0.995833, 'std': 0.001176},\n",
       "  'pr': {'mean': 1.0, 'std': 0.0},\n",
       "  'rc': {'mean': 0.991703, 'std': 0.002334}},\n",
       " 'ungrounded': {'f1': {'mean': 0.821978, 'std': 0.043068},\n",
       "  'pr': {'mean': 0.7, 'std': 0.061237},\n",
       "  'rc': {'mean': 1.0, 'std': 0.0}},\n",
       " 'MESH:D007243': {'f1': {'mean': 0.693333, 'std': 0.190205},\n",
       "  'pr': {'mean': 0.566667, 'std': 0.249444},\n",
       "  'rc': {'mean': 1.0, 'std': 0.0}},\n",
       " 'IP:IPR021567': {'f1': {'mean': 1.0, 'std': 0.0},\n",
       "  'pr': {'mean': 1.0, 'std': 0.0},\n",
       "  'rc': {'mean': 1.0, 'std': 0.0}},\n",
       " 'HGNC:87': {'f1': {'mean': 1.0, 'std': 0.0},\n",
       "  'pr': {'mean': 1.0, 'std': 0.0},\n",
       "  'rc': {'mean': 1.0, 'std': 0.0}}}"
      ]
     },
     "execution_count": 81,
     "metadata": {},
     "output_type": "execute_result"
    }
   ],
   "source": [
    "classifier.stats"
   ]
  },
  {
   "cell_type": "code",
   "execution_count": 82,
   "metadata": {},
   "outputs": [],
   "source": [
    "disamb = AdeftDisambiguator(classifier, grounding_dict, names)"
   ]
  },
  {
   "cell_type": "code",
   "execution_count": 83,
   "metadata": {},
   "outputs": [],
   "source": [
    "disamb.dump(model_name, results_path)"
   ]
  },
  {
   "cell_type": "code",
   "execution_count": 84,
   "metadata": {},
   "outputs": [
    {
     "name": "stdout",
     "output_type": "stream",
     "text": [
      "Disambiguation model for IBD\n",
      "\n",
      "Produces the disambiguations:\n",
      "\tACAD8*\tHGNC:87\n",
      "\tInfectious bursal disease virus*\tMESH:D007243\n",
      "\tInflammatory Bowel Disease*\tNCIT:C157711\n",
      "\tLens epithelium-derived growth factor, integrase-binding domain*\tIP:IPR021567\n",
      "\n",
      "Class level metrics:\n",
      "--------------------\n",
      "Grounding                                                      \tCount\tF1     \n",
      "                                     Inflammatory Bowel Disease*\t2150\t0.99583\n",
      "                                                     Ungrounded\t  40\t0.82198\n",
      "Lens epithelium-derived growth factor, integrase-binding domain*\t  27\t    1.0\n",
      "                                Infectious bursal disease virus*\t  14\t0.69333\n",
      "                                                          ACAD8*\t   6\t    1.0\n",
      "\n",
      "Weighted Metrics:\n",
      "-----------------\n",
      "\tF1 score:\t0.99398\n",
      "\tPrecision:\t0.99188\n",
      "\tRecall:\t\t0.99727\n",
      "\n",
      "* Positive labels\n",
      "See Docstring for explanation\n",
      "\n"
     ]
    }
   ],
   "source": [
    "print(disamb.info())"
   ]
  },
  {
   "cell_type": "code",
   "execution_count": 89,
   "metadata": {},
   "outputs": [],
   "source": [
    "model_to_s3(disamb)"
   ]
  },
  {
   "cell_type": "code",
   "execution_count": null,
   "metadata": {},
   "outputs": [],
   "source": []
  }
 ],
 "metadata": {
  "kernelspec": {
   "display_name": "Python 3",
   "language": "python",
   "name": "python3"
  },
  "language_info": {
   "codemirror_mode": {
    "name": "ipython",
    "version": 3
   },
   "file_extension": ".py",
   "mimetype": "text/x-python",
   "name": "python",
   "nbconvert_exporter": "python",
   "pygments_lexer": "ipython3",
   "version": "3.8.4"
  }
 },
 "nbformat": 4,
 "nbformat_minor": 2
}
