{
 "cells": [
  {
   "cell_type": "code",
   "execution_count": 1,
   "metadata": {},
   "outputs": [],
   "source": [
    "import os\n",
    "import json\n",
    "import pickle\n",
    "import random\n",
    "from collections import defaultdict, Counter\n",
    "\n",
    "from indra.literature.adeft_tools import universal_extract_text\n",
    "from indra.databases.hgnc_client import get_hgnc_name, get_hgnc_id\n",
    "\n",
    "from adeft.discover import AdeftMiner\n",
    "from adeft.gui import ground_with_gui\n",
    "from adeft.modeling.label import AdeftLabeler\n",
    "from adeft.modeling.classify import AdeftClassifier\n",
    "from adeft.disambiguate import AdeftDisambiguator, load_disambiguator\n",
    "\n",
    "\n",
    "from adeft_indra.ground.ground import AdeftGrounder\n",
    "from adeft_indra.model_building.s3 import model_to_s3\n",
    "from adeft_indra.model_building.escape import escape_filename\n",
    "from adeft_indra.db.content import get_pmids_for_agent_text, get_pmids_for_entity, \\\n",
    "    get_plaintexts_for_pmids"
   ]
  },
  {
   "cell_type": "code",
   "execution_count": 2,
   "metadata": {},
   "outputs": [],
   "source": [
    "adeft_grounder = AdeftGrounder()"
   ]
  },
  {
   "cell_type": "code",
   "execution_count": 3,
   "metadata": {},
   "outputs": [],
   "source": [
    "shortforms = ['FP', 'FPs']\n",
    "model_name = ':'.join(sorted(escape_filename(shortform) for shortform in shortforms))\n",
    "results_path = os.path.abspath(os.path.join('../..', 'results', model_name))"
   ]
  },
  {
   "cell_type": "code",
   "execution_count": 4,
   "metadata": {},
   "outputs": [],
   "source": [
    "miners = dict()\n",
    "all_texts = {}\n",
    "for shortform in shortforms:\n",
    "    pmids = get_pmids_for_agent_text(shortform)\n",
    "    if len(pmids) > 10000:\n",
    "        pmids = random.choices(pmids, k=10000)\n",
    "    text_dict = get_plaintexts_for_pmids(pmids, contains=shortforms)\n",
    "    text_dict = {pmid: text for pmid, text in text_dict.items() if len(text) > 5}\n",
    "    miners[shortform] = AdeftMiner(shortform)\n",
    "    miners[shortform].process_texts(text_dict.values())\n",
    "    all_texts.update(text_dict)\n",
    "\n",
    "longform_dict = {}\n",
    "for shortform in shortforms:\n",
    "    longforms = miners[shortform].get_longforms()\n",
    "    longforms = [(longform, count, score) for longform, count, score in longforms\n",
    "                 if count*score > 2]\n",
    "    longform_dict[shortform] = longforms\n",
    "    \n",
    "combined_longforms = Counter()\n",
    "for longform_rows in longform_dict.values():\n",
    "    combined_longforms.update({longform: count for longform, count, score\n",
    "                               in longform_rows})\n",
    "grounding_map = {}\n",
    "names = {}\n",
    "for longform in combined_longforms:\n",
    "    groundings = adeft_grounder.ground(longform)\n",
    "    if groundings:\n",
    "        grounding = groundings[0]['grounding']\n",
    "        grounding_map[longform] = grounding\n",
    "        names[grounding] = groundings[0]['name']\n",
    "longforms, counts = zip(*combined_longforms.most_common())\n",
    "pos_labels = []"
   ]
  },
  {
   "cell_type": "code",
   "execution_count": 5,
   "metadata": {},
   "outputs": [
    {
     "data": {
      "text/plain": [
       "[('fluticasone propionate', 213),\n",
       " ('fluorescence polarization', 132),\n",
       " ('fusion peptide', 107),\n",
       " ('false positive', 85),\n",
       " ('fluorescence protein', 76),\n",
       " ('floor plate', 58),\n",
       " ('flavopiridol', 42),\n",
       " ('fusion protein', 33),\n",
       " ('family planning', 27),\n",
       " ('false positives', 25),\n",
       " ('field potential', 23),\n",
       " ('flurbiprofen', 19),\n",
       " ('flagellar pocket', 16),\n",
       " ('foot processes', 16),\n",
       " ('field potentials', 12),\n",
       " ('family physicians', 11),\n",
       " ('first progression', 10),\n",
       " ('fat pad', 10),\n",
       " ('fluid percussion', 9),\n",
       " ('fertility preservation', 9),\n",
       " ('prostaglandin f2α receptor', 9),\n",
       " ('cp fine', 9),\n",
       " ('follicular phase', 8),\n",
       " ('fabry perot', 8),\n",
       " ('formyl peptide', 8),\n",
       " ('foreperiod', 8),\n",
       " ('fiber protein', 8),\n",
       " ('fluoropyrimidine', 8),\n",
       " ('fat percentage', 7),\n",
       " ('fluorophosphonate', 7),\n",
       " ('f prostanoid', 6),\n",
       " ('fish peptide', 6),\n",
       " ('flavoprotein', 6),\n",
       " ('fp dipeptides', 6),\n",
       " ('fluticasone', 6),\n",
       " ('fabry pérot', 5),\n",
       " ('few polyhedra', 5),\n",
       " ('fenugreek powder', 5),\n",
       " ('fenpropimorph', 5),\n",
       " ('fowlpox', 5),\n",
       " ('prostaglandin f', 5),\n",
       " ('faecalibacterium prausnitzii', 4),\n",
       " ('fast pathway', 4),\n",
       " ('filter paper', 4),\n",
       " ('fractional photothermolysis', 4),\n",
       " ('frailty phenotype', 4),\n",
       " ('fructus psoraleae', 4),\n",
       " ('fungiform papilla', 4),\n",
       " ('fatty pancreas', 4),\n",
       " ('flow probe', 4),\n",
       " ('farnesyl phosphate', 4),\n",
       " ('fermentation production', 4),\n",
       " ('fixed point', 4),\n",
       " ('fusion positive', 4),\n",
       " ('fluphenazine', 4),\n",
       " ('footpad', 4),\n",
       " ('female protein', 4),\n",
       " ('from propolis', 4),\n",
       " ('fowlpox virus', 4),\n",
       " ('fgfb pacap', 3),\n",
       " ('frontal pole', 3),\n",
       " ('flow proneness', 3),\n",
       " ('f poae', 3),\n",
       " ('faecal protease', 3),\n",
       " ('flowering period', 3),\n",
       " ('focused pulsed', 3),\n",
       " ('fronto parietal', 3),\n",
       " ('fucan polysaccharides', 3),\n",
       " ('fetal pancreas', 3),\n",
       " ('fluid pressure', 3),\n",
       " ('fipronil', 3),\n",
       " ('f series prostanoid', 3),\n",
       " ('frontopolar cortex', 3),\n",
       " ('flavonoids and phenolic acid', 3),\n",
       " ('filamentous processes', 3),\n",
       " ('fine particles', 3),\n",
       " ('fusion peptides', 3),\n",
       " ('fusogenic peptides', 3)]"
      ]
     },
     "execution_count": 5,
     "metadata": {},
     "output_type": "execute_result"
    }
   ],
   "source": [
    "list(zip(longforms, counts))"
   ]
  },
  {
   "cell_type": "code",
   "execution_count": 6,
   "metadata": {},
   "outputs": [
    {
     "name": "stderr",
     "output_type": "stream",
     "text": [
      "INFO: [2020-09-25 14:47:31] indra.ontology.bio.ontology - Loading INDRA bio ontology from cache at /home/ubuntu/.indra/bio_ontology/1.2/bio_ontology.pkl\n"
     ]
    }
   ],
   "source": [
    "grounding_map, names, pos_labels = ground_with_gui(longforms, counts, \n",
    "                                                   grounding_map=grounding_map,\n",
    "                                                   names=names, pos_labels=pos_labels, no_browser=True, port=8890)"
   ]
  },
  {
   "cell_type": "code",
   "execution_count": 7,
   "metadata": {},
   "outputs": [],
   "source": [
    "result = [grounding_map, names, pos_labels]"
   ]
  },
  {
   "cell_type": "code",
   "execution_count": 8,
   "metadata": {},
   "outputs": [
    {
     "data": {
      "text/plain": [
       "[{'benzaldehyde lyase': 'MESH:C059416',\n",
       "  'betaine aldehyde': 'CHEBI:CHEBI:15710',\n",
       "  'bile salt activity lipase': 'HGNC:1848',\n",
       "  'bioartificial liver': 'MESH:D019164',\n",
       "  'blood alcohol levels': 'ungrounded',\n",
       "  'breath alcohol levels': 'ungrounded',\n",
       "  'british anti lewisite': 'CHEBI:CHEBI:64198',\n",
       "  'brochoalveolar lavage': 'MESH:D018893',\n",
       "  'bronchalveolar lavage': 'MESH:D018893',\n",
       "  'bronchial alveolar lavage': 'MESH:D018893',\n",
       "  'bronchial lavage': 'MESH:D018893',\n",
       "  'bronchio alveolar lavage': 'MESH:D018893',\n",
       "  'bronchiolar lavage': 'MESH:D018893',\n",
       "  'broncho alveolar lavage': 'MESH:D018893',\n",
       "  'bronchoalveolar': 'MESH:D018893',\n",
       "  'bronchoalveolar fluid': 'MESH:D018893',\n",
       "  'bronchoalveolar larvage': 'MESH:D018893',\n",
       "  'bronchoalveolar lavage': 'MESH:D018893'},\n",
       " {'MESH:C059416': 'benzaldehyde lyase',\n",
       "  'CHEBI:CHEBI:15710': 'betaine aldehyde',\n",
       "  'HGNC:1848': 'CEL',\n",
       "  'MESH:D019164': 'Liver, Artificial',\n",
       "  'CHEBI:CHEBI:64198': 'dimercaprol',\n",
       "  'MESH:D018893': 'Bronchoalveolar Lavage'},\n",
       " ['HGNC:1848', 'MESH:D018893']]"
      ]
     },
     "execution_count": 8,
     "metadata": {},
     "output_type": "execute_result"
    }
   ],
   "source": [
    "result"
   ]
  },
  {
   "cell_type": "code",
   "execution_count": 6,
   "metadata": {},
   "outputs": [],
   "source": [
    "grounding_map, names, pos_labels = grounding_map, names, pos_labels = [{'cp fine': 'MESH:D052638',\n",
    "  'f poae': 'ungrounded',\n",
    "  'f prostanoid': 'CHEBI:CHEBI:26347',\n",
    "  'f series prostanoid': 'CHEBI:CHEBI:26347',\n",
    "  'fabry perot': 'ungrounded',\n",
    "  'fabry pérot': 'ungrounded',\n",
    "  'faecal protease': 'ungrounded',\n",
    "  'faecalibacterium prausnitzii': 'MESH:D000070037',\n",
    "  'false positive': 'MESH:D005189',\n",
    "  'false positives': 'MESH:D005189',\n",
    "  'family physicians': 'MESH:D010821',\n",
    "  'family planning': 'MESH:D005193',\n",
    "  'farnesyl phosphate': 'CHEBI:CHEBI:24018',\n",
    "  'fast pathway': 'CHEBI:CHEBI:34922',\n",
    "  'fat pad': 'MESH:D000273',\n",
    "  'fat percentage': 'ungrounded',\n",
    "  'fatty pancreas': 'ungrounded',\n",
    "  'female protein': 'ungrounded',\n",
    "  'fenpropimorph': 'CHEBI:CHEBI:50145',\n",
    "  'fenugreek powder': 'ungrounded',\n",
    "  'fermentation production': 'ungrounded',\n",
    "  'fertility preservation': 'MESH:D059247',\n",
    "  'fetal pancreas': 'ungrounded',\n",
    "  'few polyhedra': 'ungrounded',\n",
    "  'fgfb pacap': 'ungrounded',\n",
    "  'fiber protein': 'MESH:D012596',\n",
    "  'field potential': 'field_potential',\n",
    "  'field potentials': 'field_potential',\n",
    "  'filamentous processes': 'ungrounded',\n",
    "  'filter paper': 'ungrounded',\n",
    "  'fine particles': 'MESH:D052638',\n",
    "  'fipronil': 'CHEBI:CHEBI:5063',\n",
    "  'first progression': 'ungrounded',\n",
    "  'fish peptide': 'ungrounded',\n",
    "  'fixed point': 'ungrounded',\n",
    "  'flagellar pocket': 'GO:GO:0020016',\n",
    "  'flavonoids and phenolic acid': 'ungrounded',\n",
    "  'flavopiridol': 'CHEBI:CHEBI:47344',\n",
    "  'flavoprotein': 'CHEBI:CHEBI:5086',\n",
    "  'floor plate': 'floor_plate',\n",
    "  'flow probe': 'ungrounded',\n",
    "  'flow proneness': 'ungrounded',\n",
    "  'flowering period': 'ungrounded',\n",
    "  'fluid percussion': 'fluid_percussion',\n",
    "  'fluid pressure': 'ungrounded',\n",
    "  'fluorescence polarization': 'MESH:D005454',\n",
    "  'fluorescence protein': 'MESH:D008164',\n",
    "  'fluorophosphonate': 'CHEBI:CHEBI:42699',\n",
    "  'fluoropyrimidine': 'PUBCHEM:141643',\n",
    "  'fluphenazine': 'CHEBI:CHEBI:5123',\n",
    "  'flurbiprofen': 'CHEBI:CHEBI:5130',\n",
    "  'fluticasone': 'CHEBI:CHEBI:5134',\n",
    "  'fluticasone propionate': 'CHEBI:CHEBI:31441',\n",
    "  'focused pulsed': 'ungrounded',\n",
    "  'follicular phase': 'MESH:D005498',\n",
    "  'foot processes': 'NCIT:C32623',\n",
    "  'footpad': 'ungrounded',\n",
    "  'foreperiod': 'ungrounded',\n",
    "  'formyl peptide': 'MESH:D009240',\n",
    "  'fowlpox': 'MESH:D005587',\n",
    "  'fowlpox virus': 'MESH:D005587',\n",
    "  'fp dipeptides': 'ungrounded',\n",
    "  'fractional photothermolysis': 'ungrounded',\n",
    "  'frailty phenotype': 'ungrounded',\n",
    "  'from propolis': 'MESH:D011429',\n",
    "  'frontal pole': 'ungrounded',\n",
    "  'fronto parietal': 'ungrounded',\n",
    "  'frontopolar cortex': 'ungrounded',\n",
    "  'fructus psoraleae': 'ungrounded',\n",
    "  'fucan polysaccharides': 'ungrounded',\n",
    "  'fungiform papilla': 'ungrounded',\n",
    "  'fusion peptide': 'MESH:D014760',\n",
    "  'fusion peptides': 'MESH:D014760',\n",
    "  'fusion positive': 'ungrounded',\n",
    "  'fusion protein': 'MESH:D014760',\n",
    "  'fusogenic peptides': 'MESH:D014760',\n",
    "  'prostaglandin f': 'HGNC:9600',\n",
    "  'prostaglandin f2α receptor': 'HGNC:9600'},\n",
    " {'MESH:D052638': 'Particulate Matter',\n",
    "  'CHEBI:CHEBI:26347': 'prostanoid',\n",
    "  'MESH:D000070037': 'Faecalibacterium prausnitzii',\n",
    "  'MESH:D005189': 'False Positive Reactions',\n",
    "  'MESH:D010821': 'Physicians, Family',\n",
    "  'MESH:D005193': 'Family Planning Services',\n",
    "  'CHEBI:CHEBI:24018': 'farnesyl phosphate',\n",
    "  'CHEBI:CHEBI:34922': 'picloram',\n",
    "  'MESH:D000273': 'Adipose Tissue',\n",
    "  'CHEBI:CHEBI:50145': 'fenpropimorph',\n",
    "  'MESH:D059247': 'Fertility Preservation',\n",
    "  'MESH:D012596': 'Scleroproteins',\n",
    "  'field_potential': 'field_potential',\n",
    "  'CHEBI:CHEBI:5063': 'fipronil',\n",
    "  'GO:GO:0020016': 'ciliary pocket',\n",
    "  'CHEBI:CHEBI:47344': 'alvocidib',\n",
    "  'CHEBI:CHEBI:5086': 'flavoprotein',\n",
    "  'floor_plate': 'floor_plate',\n",
    "  'fluid_percussion': 'fluid_percussion',\n",
    "  'MESH:D005454': 'Fluorescence Polarization',\n",
    "  'MESH:D008164': 'Luminescent Proteins',\n",
    "  'CHEBI:CHEBI:42699': 'fluoridophosphate',\n",
    "  'PUBCHEM:141643': '2-Fluoropyrimidine',\n",
    "  'CHEBI:CHEBI:5123': 'fluphenazine',\n",
    "  'CHEBI:CHEBI:5130': 'flurbiprofen',\n",
    "  'CHEBI:CHEBI:5134': 'fluticasone',\n",
    "  'CHEBI:CHEBI:31441': 'fluticasone propionate',\n",
    "  'MESH:D005498': 'Follicular Phase',\n",
    "  'NCIT:C32623': 'Foot Process',\n",
    "  'MESH:D009240': 'N-Formylmethionine Leucyl-Phenylalanine',\n",
    "  'MESH:D005587': 'Fowlpox virus',\n",
    "  'MESH:D011429': 'Propolis',\n",
    "  'MESH:D014760': 'Viral Fusion Proteins',\n",
    "  'HGNC:9600': 'PTGFR'},\n",
    " ['CHEBI:CHEBI:47344',\n",
    "  'CHEBI:CHEBI:5130',\n",
    "  'MESH:D005189',\n",
    "  'MESH:D005193',\n",
    "  'MESH:D005454',\n",
    "  'MESH:D008164',\n",
    "  'MESH:D014760',\n",
    "  'NCIT:C32623',\n",
    " 'GO:GO:0020016']]"
   ]
  },
  {
   "cell_type": "code",
   "execution_count": 7,
   "metadata": {},
   "outputs": [],
   "source": [
    "excluded_longforms = []"
   ]
  },
  {
   "cell_type": "code",
   "execution_count": 8,
   "metadata": {},
   "outputs": [],
   "source": [
    "grounding_dict = {shortform: {longform: grounding_map[longform] \n",
    "                              for longform, _, _ in longforms if longform in grounding_map\n",
    "                              and longform not in excluded_longforms}\n",
    "                  for shortform, longforms in longform_dict.items()}\n",
    "result = [grounding_dict, names, pos_labels]\n",
    "\n",
    "if not os.path.exists(results_path):\n",
    "    os.mkdir(results_path)\n",
    "with open(os.path.join(results_path, f'{model_name}_preliminary_grounding_info.json'), 'w') as f:\n",
    "    json.dump(result, f)"
   ]
  },
  {
   "cell_type": "code",
   "execution_count": 9,
   "metadata": {},
   "outputs": [],
   "source": [
    "additional_entities = {'HGNC:1848': ['CEL', ['CEL', 'BSSL', 'MODY8', 'carboxyl ester']]}"
   ]
  },
  {
   "cell_type": "code",
   "execution_count": 10,
   "metadata": {},
   "outputs": [],
   "source": [
    "unambiguous_agent_texts = {}"
   ]
  },
  {
   "cell_type": "code",
   "execution_count": 11,
   "metadata": {},
   "outputs": [],
   "source": [
    "labeler = AdeftLabeler(grounding_dict)\n",
    "corpus = labeler.build_from_texts((text, pmid) for pmid, text in all_texts.items())\n",
    "agent_text_pmid_map = defaultdict(list)\n",
    "for text, label, id_ in corpus:\n",
    "    agent_text_pmid_map[label].append(id_)\n",
    "\n",
    "entity_pmid_map = {entity: set(get_pmids_for_entity(*entity.split(':', maxsplit=1),\n",
    "                                                major_topic=True))for entity in additional_entities}"
   ]
  },
  {
   "cell_type": "code",
   "execution_count": 12,
   "metadata": {},
   "outputs": [],
   "source": [
    "intersection1 = []\n",
    "for entity1, pmids1 in entity_pmid_map.items():\n",
    "    for entity2, pmids2 in entity_pmid_map.items():\n",
    "        intersection1.append((entity1, entity2, len(pmids1 & pmids2)))"
   ]
  },
  {
   "cell_type": "code",
   "execution_count": 13,
   "metadata": {},
   "outputs": [],
   "source": [
    "intersection2 = []\n",
    "for entity1, pmids1 in agent_text_pmid_map.items():\n",
    "    for entity2, pmids2 in entity_pmid_map.items():\n",
    "        intersection2.append((entity1, entity2, len(set(pmids1) & pmids2)))"
   ]
  },
  {
   "cell_type": "code",
   "execution_count": 14,
   "metadata": {},
   "outputs": [
    {
     "data": {
      "text/plain": [
       "[('HGNC:1848', 'HGNC:1848', 86)]"
      ]
     },
     "execution_count": 14,
     "metadata": {},
     "output_type": "execute_result"
    }
   ],
   "source": [
    "intersection1"
   ]
  },
  {
   "cell_type": "code",
   "execution_count": 15,
   "metadata": {},
   "outputs": [
    {
     "data": {
      "text/plain": [
       "[('MESH:D018893', 'HGNC:1848', 0),\n",
       " ('HGNC:1848', 'HGNC:1848', 1),\n",
       " ('ungrounded', 'HGNC:1848', 0),\n",
       " ('CHEBI:CHEBI:64198', 'HGNC:1848', 0),\n",
       " ('MESH:D019164', 'HGNC:1848', 0),\n",
       " ('MESH:C059416', 'HGNC:1848', 0),\n",
       " ('CHEBI:CHEBI:15710', 'HGNC:1848', 0)]"
      ]
     },
     "execution_count": 15,
     "metadata": {},
     "output_type": "execute_result"
    }
   ],
   "source": [
    "intersection2"
   ]
  },
  {
   "cell_type": "code",
   "execution_count": 17,
   "metadata": {},
   "outputs": [],
   "source": [
    "all_used_pmids = set()\n",
    "for entity, agent_texts in unambiguous_agent_texts.items():\n",
    "    used_pmids = set()\n",
    "    for agent_text in agent_texts[1]:\n",
    "        pmids = set(get_pmids_for_agent_text(agent_text))\n",
    "        new_pmids = list(pmids - all_texts.keys() - used_pmids)\n",
    "        text_dict = get_plaintexts_for_pmids(new_pmids, contains=agent_texts)\n",
    "        corpus.extend([(text, entity, pmid) for pmid, text in text_dict.items()])\n",
    "        used_pmids.update(new_pmids)\n",
    "    all_used_pmids.update(used_pmids)\n",
    "        \n",
    "for entity, pmids in entity_pmid_map.items():\n",
    "    new_pmids = list(set(pmids) - all_texts.keys() - all_used_pmids)\n",
    "    if len(new_pmids) > 10000:\n",
    "        new_pmids = random.choices(new_pmids, k=10000)\n",
    "    _, contains = additional_entities[entity]\n",
    "    text_dict = get_plaintexts_for_pmids(new_pmids, contains=contains)\n",
    "    corpus.extend([(text, entity, pmid) for pmid, text in text_dict.items()])"
   ]
  },
  {
   "cell_type": "code",
   "execution_count": 18,
   "metadata": {},
   "outputs": [],
   "source": [
    "names.update({key: value[0] for key, value in additional_entities.values()})\n",
    "pos_labels = list(set(pos_labels) | additional_entities.keys())"
   ]
  },
  {
   "cell_type": "code",
   "execution_count": 19,
   "metadata": {},
   "outputs": [
    {
     "name": "stderr",
     "output_type": "stream",
     "text": [
      "INFO: [2020-10-27 03:30:01] /adeft/PythonRepos/adeft/adeft/modeling/classify.py - Beginning grid search in parameter space:\n",
      "{'C': [100.0], 'max_features': [10000]}\n",
      "INFO: [2020-10-27 03:30:22] /adeft/PythonRepos/adeft/adeft/modeling/classify.py - Best f1 score of 0.9930679234710235 found for parameter values:\n",
      "{'logit__C': 100.0, 'tfidf__max_features': 10000}\n"
     ]
    }
   ],
   "source": [
    "%%capture\n",
    "\n",
    "classifier = AdeftClassifier(shortforms, pos_labels=pos_labels, random_state=1729)\n",
    "param_grid = {'C': [100.0], 'max_features': [10000]}\n",
    "texts, labels, pmids = zip(*corpus)\n",
    "classifier.cv(texts, labels, param_grid, cv=5, n_jobs=5)"
   ]
  },
  {
   "cell_type": "code",
   "execution_count": 20,
   "metadata": {
    "scrolled": true
   },
   "outputs": [
    {
     "data": {
      "text/plain": [
       "{'label_distribution': {'MESH:D018893': 1259,\n",
       "  'HGNC:1848': 86,\n",
       "  'ungrounded': 17,\n",
       "  'CHEBI:CHEBI:64198': 8,\n",
       "  'MESH:D019164': 18,\n",
       "  'MESH:C059416': 3,\n",
       "  'CHEBI:CHEBI:15710': 2},\n",
       " 'f1': {'mean': 0.993068, 'std': 0.002061},\n",
       " 'precision': {'mean': 0.987107, 'std': 0.004015},\n",
       " 'recall': {'mean': 0.999257, 'std': 0.001487},\n",
       " 'CHEBI:CHEBI:15710': {'f1': {'mean': 0.0, 'std': 0.0},\n",
       "  'pr': {'mean': 0.0, 'std': 0.0},\n",
       "  'rc': {'mean': 0.0, 'std': 0.0}},\n",
       " 'ungrounded': {'f1': {'mean': 0.67, 'std': 0.345832},\n",
       "  'pr': {'mean': 0.616667, 'std': 0.331662},\n",
       "  'rc': {'mean': 0.75, 'std': 0.387298}},\n",
       " 'HGNC:1848': {'f1': {'mean': 0.978069, 'std': 0.031578},\n",
       "  'pr': {'mean': 1.0, 'std': 0.0},\n",
       "  'rc': {'mean': 0.958889, 'std': 0.058542}},\n",
       " 'MESH:D019164': {'f1': {'mean': 0.914286, 'std': 0.069985},\n",
       "  'pr': {'mean': 0.85, 'std': 0.122474},\n",
       "  'rc': {'mean': 1.0, 'std': 0.0}},\n",
       " 'MESH:D018893': {'f1': {'mean': 0.994077, 'std': 0.001757},\n",
       "  'pr': {'mean': 0.999206, 'std': 0.001587},\n",
       "  'rc': {'mean': 0.989004, 'std': 0.002898}},\n",
       " 'CHEBI:CHEBI:64198': {'f1': {'mean': 0.466667, 'std': 0.4},\n",
       "  'pr': {'mean': 0.4, 'std': 0.374166},\n",
       "  'rc': {'mean': 0.6, 'std': 0.489898}},\n",
       " 'MESH:C059416': {'f1': {'mean': 0.2, 'std': 0.4},\n",
       "  'pr': {'mean': 0.2, 'std': 0.4},\n",
       "  'rc': {'mean': 0.2, 'std': 0.4}}}"
      ]
     },
     "execution_count": 20,
     "metadata": {},
     "output_type": "execute_result"
    }
   ],
   "source": [
    "classifier.stats"
   ]
  },
  {
   "cell_type": "code",
   "execution_count": 21,
   "metadata": {},
   "outputs": [],
   "source": [
    "disamb = AdeftDisambiguator(classifier, grounding_dict, names)"
   ]
  },
  {
   "cell_type": "code",
   "execution_count": 22,
   "metadata": {},
   "outputs": [],
   "source": [
    "disamb.dump(model_name, results_path)"
   ]
  },
  {
   "cell_type": "code",
   "execution_count": 24,
   "metadata": {},
   "outputs": [
    {
     "name": "stdout",
     "output_type": "stream",
     "text": [
      "Disambiguation model for BAL\n",
      "\n",
      "Produces the disambiguations:\n",
      "\tBronchoalveolar Lavage*\tMESH:D018893\n",
      "\tCEL*\tHGNC:1848\n",
      "\tCEL\tCEL\n",
      "\tLiver, Artificial\tMESH:D019164\n",
      "\tbenzaldehyde lyase\tMESH:C059416\n",
      "\tbetaine aldehyde\tCHEBI:CHEBI:15710\n",
      "\tdimercaprol\tCHEBI:CHEBI:64198\n",
      "\n",
      "Class level metrics:\n",
      "--------------------\n",
      "Grounding             \tCount\tF1     \n",
      "Bronchoalveolar Lavage*\t1259\t0.99408\n",
      "                   CEL*\t  86\t0.97807\n",
      "     Liver, Artificial\t  18\t0.91429\n",
      "            Ungrounded\t  17\t   0.67\n",
      "           dimercaprol\t   8\t0.46667\n",
      "    benzaldehyde lyase\t   3\t    0.2\n",
      "      betaine aldehyde\t   2\t    0.0\n",
      "\n",
      "Weighted Metrics:\n",
      "-----------------\n",
      "\tF1 score:\t0.99307\n",
      "\tPrecision:\t0.98711\n",
      "\tRecall:\t\t0.99926\n",
      "\n",
      "* Positive labels\n",
      "See Docstring for explanation\n",
      "\n"
     ]
    }
   ],
   "source": [
    "print(disamb.info())"
   ]
  },
  {
   "cell_type": "code",
   "execution_count": 25,
   "metadata": {},
   "outputs": [],
   "source": [
    "model_to_s3(disamb)"
   ]
  },
  {
   "cell_type": "code",
   "execution_count": null,
   "metadata": {},
   "outputs": [],
   "source": []
  }
 ],
 "metadata": {
  "kernelspec": {
   "display_name": "Python 3",
   "language": "python",
   "name": "python3"
  },
  "language_info": {
   "codemirror_mode": {
    "name": "ipython",
    "version": 3
   },
   "file_extension": ".py",
   "mimetype": "text/x-python",
   "name": "python",
   "nbconvert_exporter": "python",
   "pygments_lexer": "ipython3",
   "version": "3.8.4"
  }
 },
 "nbformat": 4,
 "nbformat_minor": 2
}
