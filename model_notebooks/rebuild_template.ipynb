{
 "cells": [
  {
   "cell_type": "code",
   "execution_count": 1,
   "metadata": {},
   "outputs": [],
   "source": [
    "import os\n",
    "import json\n",
    "import pickle\n",
    "import random\n",
    "from collections import defaultdict, Counter\n",
    "\n",
    "from indra.literature.adeft_tools import universal_extract_text\n",
    "from indra.databases.hgnc_client import get_hgnc_name, get_hgnc_id\n",
    "\n",
    "from adeft.discover import AdeftMiner\n",
    "from adeft.gui import ground_with_gui\n",
    "from adeft.modeling.label import AdeftLabeler\n",
    "from adeft.modeling.classify import AdeftClassifier\n",
    "from adeft.disambiguate import AdeftDisambiguator, load_disambiguator\n",
    "\n",
    "\n",
    "from adeft_indra.ground.ground import AdeftGrounder\n",
    "from adeft_indra.model_building.s3 import model_to_s3\n",
    "from adeft_indra.model_building.escape import escape_filename\n",
    "from adeft_indra.db.content import get_pmids_for_agent_text, get_pmids_for_entity, \\\n",
    "    get_plaintexts_for_pmids"
   ]
  },
  {
   "cell_type": "code",
   "execution_count": 2,
   "metadata": {},
   "outputs": [],
   "source": [
    "adeft_grounder = AdeftGrounder()"
   ]
  },
  {
   "cell_type": "code",
   "execution_count": 3,
   "metadata": {},
   "outputs": [],
   "source": [
    "shortforms = ['EMT']\n",
    "model_name = ':'.join(sorted(escape_filename(shortform) for shortform in shortforms))\n",
    "results_path = os.path.abspath(os.path.join('../..', 'results', model_name))"
   ]
  },
  {
   "cell_type": "code",
   "execution_count": 4,
   "metadata": {},
   "outputs": [],
   "source": [
    "miners = dict()\n",
    "all_texts = {}\n",
    "for shortform in shortforms:\n",
    "    pmids = get_pmids_for_agent_text(shortform)\n",
    "    text_dict = get_plaintexts_for_pmids(pmids, contains=shortforms)\n",
    "    text_dict = {pmid: text for pmid, text in text_dict.items() if len(text) > 5}\n",
    "    miners[shortform] = AdeftMiner(shortform)\n",
    "    miners[shortform].process_texts(text_dict.values())\n",
    "    all_texts.update(text_dict)\n",
    "\n",
    "longform_dict = {}\n",
    "for shortform in shortforms:\n",
    "    longforms = miners[shortform].get_longforms()\n",
    "    longforms = [(longform, count, score) for longform, count, score in longforms\n",
    "                 if count*score > 2]\n",
    "    longform_dict[shortform] = longforms\n",
    "    \n",
    "combined_longforms = Counter()\n",
    "for longform_rows in longform_dict.values():\n",
    "    combined_longforms.update({longform: count for longform, count, score\n",
    "                               in longform_rows})\n",
    "grounding_map = {}\n",
    "names = {}\n",
    "for longform in combined_longforms:\n",
    "    groundings = adeft_grounder.ground(longform)\n",
    "    if groundings:\n",
    "        grounding = groundings[0]['grounding']\n",
    "        grounding_map[longform] = grounding\n",
    "        names[grounding] = groundings[0]['name']\n",
    "longforms, counts = zip(*combined_longforms.most_common())\n",
    "pos_labels = []"
   ]
  },
  {
   "cell_type": "code",
   "execution_count": 5,
   "metadata": {},
   "outputs": [
    {
     "data": {
      "text/plain": [
       "[('epithelial mesenchymal transition', 13517),\n",
       " ('epithelial to mesenchymal', 140),\n",
       " ('epithelial mesenchymal transformation', 133),\n",
       " ('epithelial to mesenchymal transformation', 66),\n",
       " ('epithelial mesenchymal transdifferentiation', 33),\n",
       " ('epithelialmesenchymal transition', 21),\n",
       " ('endothelial to mesenchymal transformation', 17),\n",
       " ('epithelial to mesenchymal transdifferentiation', 12),\n",
       " ('endothelial mesenchymal transformation', 12),\n",
       " ('mesenchymal epithelial transition', 10),\n",
       " ('endocardial to mesenchymal transformation', 8),\n",
       " ('epithelial mensenchymal transition', 8),\n",
       " ('epithelial mesenchymal cells transition', 8),\n",
       " ('epitheliomesenchymal transition', 7),\n",
       " ('mesenchymal to epithelial transition', 7),\n",
       " ('extraneuronal monoamine transporter', 6),\n",
       " ('endometrial thickness', 6),\n",
       " ('eminence', 6),\n",
       " ('endothelial mesenchymal transdifferentiation', 5),\n",
       " ('epithelial mesenchymal transition process', 5),\n",
       " ('epithelial to mesenchymal phenotype', 5),\n",
       " ('epithelial tomesenchymal transition', 5),\n",
       " ('epithelial to mesenchymal like transition', 5),\n",
       " ('em tomography', 4),\n",
       " ('expiratory muscle training', 4),\n",
       " ('eye movement training', 4),\n",
       " ('endocardial mesenchymal transformation', 4),\n",
       " ('epithelial to mesencyhmal transition', 4),\n",
       " ('epithelial mesenchymal like transition', 4),\n",
       " ('eastern mediterranean transient', 3),\n",
       " ('emt', 3),\n",
       " ('endovascular mechanisms thrombectomy', 3),\n",
       " ('epithelial myofibroblasts transdifferentiation', 3),\n",
       " ('emt itk tsk', 3),\n",
       " ('epithelial mesenchymal transition or transformation', 3),\n",
       " ('the epithelial mesenchymal', 3),\n",
       " ('epithelial mesenchimal transition', 3),\n",
       " ('epithelial mesencymal transition', 3),\n",
       " ('epithelial cells to mesenchymal cells', 3),\n",
       " ('epithelial to mesechymal transition', 3),\n",
       " ('epithelial to mesenchimal transition', 3),\n",
       " ('epithelial to myofibroblasts transition', 3)]"
      ]
     },
     "execution_count": 5,
     "metadata": {},
     "output_type": "execute_result"
    }
   ],
   "source": [
    "list(zip(longforms, counts))"
   ]
  },
  {
   "cell_type": "code",
   "execution_count": 6,
   "metadata": {},
   "outputs": [],
   "source": [
    "try:\n",
    "    disamb = load_disambiguator(shortforms[0])\n",
    "    for shortform, gm in disamb.grounding_dict.items():\n",
    "        for longform, grounding in gm.items():\n",
    "            grounding_map[longform] = grounding\n",
    "    for grounding, name in disamb.names.items():\n",
    "        names[grounding] = name\n",
    "    pos_labels = disamb.pos_labels\n",
    "except Exception:\n",
    "    pass"
   ]
  },
  {
   "cell_type": "code",
   "execution_count": 7,
   "metadata": {},
   "outputs": [
    {
     "data": {
      "text/plain": [
       "{'GO:GO:0060290': 'transdifferentiation',\n",
       " 'GO:GO:0001837': 'epithelial to mesenchymal transition',\n",
       " 'HGNC:10967': 'SLC22A3',\n",
       " 'MESH:D010641': 'Phenotype',\n",
       " 'MESH:D055032': 'Electron Microscope Tomography',\n",
       " 'HP:HP:0025153': 'Transient',\n",
       " 'MESH:D017131': 'Thrombectomy',\n",
       " 'GO:GO:0060231': 'mesenchymal to epithelial transition',\n",
       " 'HGNC:6179': 'ITK'}"
      ]
     },
     "execution_count": 7,
     "metadata": {},
     "output_type": "execute_result"
    }
   ],
   "source": [
    "names"
   ]
  },
  {
   "cell_type": "code",
   "execution_count": 8,
   "metadata": {},
   "outputs": [
    {
     "name": "stderr",
     "output_type": "stream",
     "text": [
      "INFO: [2020-10-31 02:59:35] indra.ontology.bio.ontology - Loading INDRA bio ontology from cache at /home/ubuntu/.indra/bio_ontology/1.4/bio_ontology.pkl\n"
     ]
    }
   ],
   "source": [
    "grounding_map, names, pos_labels = ground_with_gui(longforms, counts, \n",
    "                                                   grounding_map=grounding_map,\n",
    "                                                   names=names, pos_labels=pos_labels, no_browser=True, port=8891)"
   ]
  },
  {
   "cell_type": "code",
   "execution_count": 9,
   "metadata": {},
   "outputs": [],
   "source": [
    "result = [grounding_map, names, pos_labels]"
   ]
  },
  {
   "cell_type": "code",
   "execution_count": 10,
   "metadata": {},
   "outputs": [
    {
     "data": {
      "text/plain": [
       "[{'eastern mediterranean transient': 'ungrounded',\n",
       "  'em tomography': 'MESH:D055032',\n",
       "  'eminence': 'ungrounded',\n",
       "  'emt': 'ungrounded',\n",
       "  'emt itk tsk': 'ungrounded',\n",
       "  'endocardial mesenchymal transformation': 'ungrounded',\n",
       "  'endocardial to mesenchymal transformation': 'ungrounded',\n",
       "  'endometrial thickness': 'ungrounded',\n",
       "  'endothelial mesenchymal transdifferentiation': 'ungrounded',\n",
       "  'endothelial mesenchymal transformation': 'ungrounded',\n",
       "  'endothelial to mesenchymal transformation': 'ungrounded',\n",
       "  'endovascular mechanisms thrombectomy': 'ungrounded',\n",
       "  'epithelial cells to mesenchymal cells': 'GO:GO:0001837',\n",
       "  'epithelial mensenchymal transition': 'GO:GO:0001837',\n",
       "  'epithelial mesenchimal transition': 'GO:GO:0001837',\n",
       "  'epithelial mesenchymal cells transition': 'GO:GO:0001837',\n",
       "  'epithelial mesenchymal like transition': 'GO:GO:0001837',\n",
       "  'epithelial mesenchymal transdifferentiation': 'GO:GO:0001837',\n",
       "  'epithelial mesenchymal transformation': 'GO:GO:0001837',\n",
       "  'epithelial mesenchymal transition': 'GO:GO:0001837',\n",
       "  'epithelial mesenchymal transition or transformation': 'GO:GO:0001837',\n",
       "  'epithelial mesenchymal transition process': 'GO:GO:0001837',\n",
       "  'epithelial mesencymal transition': 'GO:GO:0001837',\n",
       "  'epithelial myofibroblasts transdifferentiation': 'ungrounded',\n",
       "  'epithelial to mesechymal transition': 'GO:GO:0001837',\n",
       "  'epithelial to mesenchimal transition': 'GO:GO:0001837',\n",
       "  'epithelial to mesenchymal': 'GO:GO:0001837',\n",
       "  'epithelial to mesenchymal like transition': 'GO:GO:0001837',\n",
       "  'epithelial to mesenchymal phenotype': 'GO:GO:0001837',\n",
       "  'epithelial to mesenchymal transdifferentiation': 'GO:GO:0001837',\n",
       "  'epithelial to mesenchymal transformation': 'GO:GO:0001837',\n",
       "  'epithelial to mesencyhmal transition': 'GO:GO:0001837',\n",
       "  'epithelial to myofibroblasts transition': 'GO:GO:0001837',\n",
       "  'epithelial tomesenchymal transition': 'GO:GO:0001837',\n",
       "  'epithelialmesenchymal transition': 'GO:GO:0001837',\n",
       "  'epitheliomesenchymal transition': 'GO:GO:0001837',\n",
       "  'expiratory muscle training': 'ungrounded',\n",
       "  'extraneuronal monoamine transporter': 'HGNC:10967',\n",
       "  'eye movement training': 'ungrounded',\n",
       "  'mesenchymal epithelial transition': 'GO:GO:0001837',\n",
       "  'mesenchymal to epithelial transition': 'GO:GO:0001837',\n",
       "  'the epithelial mesenchymal': 'GO:GO:0001837'},\n",
       " {'MESH:D055032': 'Electron Microscope Tomography',\n",
       "  'GO:GO:0001837': 'epithelial to mesenchymal transition',\n",
       "  'HGNC:10967': 'SLC22A3'},\n",
       " ['GO:GO:0001837', 'HGNC:10967']]"
      ]
     },
     "execution_count": 10,
     "metadata": {},
     "output_type": "execute_result"
    }
   ],
   "source": [
    "result"
   ]
  },
  {
   "cell_type": "code",
   "execution_count": 11,
   "metadata": {},
   "outputs": [],
   "source": [
    "grounding_map, names, pos_labels = [{'eastern mediterranean transient': 'ungrounded',\n",
    "  'em tomography': 'MESH:D055032',\n",
    "  'eminence': 'ungrounded',\n",
    "  'emt': 'ungrounded',\n",
    "  'emt itk tsk': 'ungrounded',\n",
    "  'endocardial mesenchymal transformation': 'ungrounded',\n",
    "  'endocardial to mesenchymal transformation': 'ungrounded',\n",
    "  'endometrial thickness': 'ungrounded',\n",
    "  'endothelial mesenchymal transdifferentiation': 'ungrounded',\n",
    "  'endothelial mesenchymal transformation': 'ungrounded',\n",
    "  'endothelial to mesenchymal transformation': 'ungrounded',\n",
    "  'endovascular mechanisms thrombectomy': 'ungrounded',\n",
    "  'epithelial cells to mesenchymal cells': 'GO:GO:0001837',\n",
    "  'epithelial mensenchymal transition': 'GO:GO:0001837',\n",
    "  'epithelial mesenchimal transition': 'GO:GO:0001837',\n",
    "  'epithelial mesenchymal cells transition': 'GO:GO:0001837',\n",
    "  'epithelial mesenchymal like transition': 'GO:GO:0001837',\n",
    "  'epithelial mesenchymal transdifferentiation': 'GO:GO:0001837',\n",
    "  'epithelial mesenchymal transformation': 'GO:GO:0001837',\n",
    "  'epithelial mesenchymal transition': 'GO:GO:0001837',\n",
    "  'epithelial mesenchymal transition or transformation': 'GO:GO:0001837',\n",
    "  'epithelial mesenchymal transition process': 'GO:GO:0001837',\n",
    "  'epithelial mesencymal transition': 'GO:GO:0001837',\n",
    "  'epithelial myofibroblasts transdifferentiation': 'ungrounded',\n",
    "  'epithelial to mesechymal transition': 'GO:GO:0001837',\n",
    "  'epithelial to mesenchimal transition': 'GO:GO:0001837',\n",
    "  'epithelial to mesenchymal': 'GO:GO:0001837',\n",
    "  'epithelial to mesenchymal like transition': 'GO:GO:0001837',\n",
    "  'epithelial to mesenchymal phenotype': 'GO:GO:0001837',\n",
    "  'epithelial to mesenchymal transdifferentiation': 'GO:GO:0001837',\n",
    "  'epithelial to mesenchymal transformation': 'GO:GO:0001837',\n",
    "  'epithelial to mesencyhmal transition': 'GO:GO:0001837',\n",
    "  'epithelial to myofibroblasts transition': 'GO:GO:0001837',\n",
    "  'epithelial tomesenchymal transition': 'GO:GO:0001837',\n",
    "  'epithelialmesenchymal transition': 'GO:GO:0001837',\n",
    "  'epitheliomesenchymal transition': 'GO:GO:0001837',\n",
    "  'expiratory muscle training': 'ungrounded',\n",
    "  'extraneuronal monoamine transporter': 'HGNC:10967',\n",
    "  'eye movement training': 'ungrounded',\n",
    "  'mesenchymal epithelial transition': 'GO:GO:0001837',\n",
    "  'mesenchymal to epithelial transition': 'GO:GO:0001837',\n",
    "  'the epithelial mesenchymal': 'GO:GO:0001837'},\n",
    " {'MESH:D055032': 'Electron Microscope Tomography',\n",
    "  'GO:GO:0001837': 'epithelial to mesenchymal transition',\n",
    "  'HGNC:10967': 'SLC22A3'},\n",
    " ['GO:GO:0001837', 'HGNC:10967']]"
   ]
  },
  {
   "cell_type": "code",
   "execution_count": 12,
   "metadata": {},
   "outputs": [],
   "source": [
    "excluded_longforms = ['emt']"
   ]
  },
  {
   "cell_type": "code",
   "execution_count": 13,
   "metadata": {},
   "outputs": [],
   "source": [
    "grounding_dict = {shortform: {longform: grounding_map[longform] \n",
    "                              for longform, _, _ in longforms if longform in grounding_map\n",
    "                              and longform not in excluded_longforms}\n",
    "                  for shortform, longforms in longform_dict.items()}\n",
    "result = [grounding_dict, names, pos_labels]\n",
    "\n",
    "if not os.path.exists(results_path):\n",
    "    os.mkdir(results_path)\n",
    "with open(os.path.join(results_path, f'{model_name}_preliminary_grounding_info.json'), 'w') as f:\n",
    "    json.dump(result, f)"
   ]
  },
  {
   "cell_type": "code",
   "execution_count": 14,
   "metadata": {},
   "outputs": [],
   "source": [
    "additional_entities = {'HGNC:10967': ['SLC22A3', ['EMT', 'extraneuronal monoamine']]}"
   ]
  },
  {
   "cell_type": "code",
   "execution_count": 16,
   "metadata": {},
   "outputs": [],
   "source": [
    "unambiguous_agent_texts = {'HGNC:10967': ['SLC22A3', ['extraneuronal monoamine transporter']]}"
   ]
  },
  {
   "cell_type": "code",
   "execution_count": 17,
   "metadata": {},
   "outputs": [],
   "source": [
    "labeler = AdeftLabeler(grounding_dict)\n",
    "corpus = labeler.build_from_texts((text, pmid) for pmid, text in all_texts.items())\n",
    "agent_text_pmid_map = defaultdict(list)\n",
    "for text, label, id_ in corpus:\n",
    "    agent_text_pmid_map[label].append(id_)\n",
    "\n",
    "entity_pmid_map = {entity: set(get_pmids_for_entity(*entity.split(':', maxsplit=1),\n",
    "                                                major_topic=True))for entity in additional_entities}"
   ]
  },
  {
   "cell_type": "code",
   "execution_count": 18,
   "metadata": {},
   "outputs": [],
   "source": [
    "intersection1 = []\n",
    "for entity1, pmids1 in entity_pmid_map.items():\n",
    "    for entity2, pmids2 in entity_pmid_map.items():\n",
    "        intersection1.append((entity1, entity2, len(pmids1 & pmids2)))"
   ]
  },
  {
   "cell_type": "code",
   "execution_count": 19,
   "metadata": {},
   "outputs": [],
   "source": [
    "intersection2 = []\n",
    "for entity1, pmids1 in agent_text_pmid_map.items():\n",
    "    for entity2, pmids2 in entity_pmid_map.items():\n",
    "        intersection2.append((entity1, entity2, len(set(pmids1) & pmids2)))"
   ]
  },
  {
   "cell_type": "code",
   "execution_count": 20,
   "metadata": {},
   "outputs": [
    {
     "data": {
      "text/plain": [
       "[('HGNC:10967', 'HGNC:10967', 98)]"
      ]
     },
     "execution_count": 20,
     "metadata": {},
     "output_type": "execute_result"
    }
   ],
   "source": [
    "intersection1"
   ]
  },
  {
   "cell_type": "code",
   "execution_count": 21,
   "metadata": {},
   "outputs": [
    {
     "data": {
      "text/plain": [
       "[('GO:GO:0001837', 'HGNC:10967', 0),\n",
       " ('ungrounded', 'HGNC:10967', 0),\n",
       " ('HGNC:10967', 'HGNC:10967', 0),\n",
       " ('MESH:D055032', 'HGNC:10967', 0)]"
      ]
     },
     "execution_count": 21,
     "metadata": {},
     "output_type": "execute_result"
    }
   ],
   "source": [
    "intersection2"
   ]
  },
  {
   "cell_type": "code",
   "execution_count": 22,
   "metadata": {},
   "outputs": [],
   "source": [
    "all_used_pmids = set()\n",
    "for entity, agent_texts in unambiguous_agent_texts.items():\n",
    "    used_pmids = set()\n",
    "    for agent_text in agent_texts[1]:\n",
    "        pmids = set(get_pmids_for_agent_text(agent_text))\n",
    "        new_pmids = list(pmids - all_texts.keys() - used_pmids)\n",
    "        text_dict = get_plaintexts_for_pmids(new_pmids, contains=agent_texts)\n",
    "        corpus.extend([(text, entity, pmid) for pmid, text in text_dict.items() if len(text) >= 5])\n",
    "        used_pmids.update(new_pmids)\n",
    "    all_used_pmids.update(used_pmids)\n",
    "        \n",
    "for entity, pmids in entity_pmid_map.items():\n",
    "    new_pmids = list(set(pmids) - all_texts.keys() - all_used_pmids)\n",
    "    if len(new_pmids) > 10000:\n",
    "        new_pmids = random.choices(new_pmids, k=10000)\n",
    "    _, contains = additional_entities[entity]\n",
    "    text_dict = get_plaintexts_for_pmids(new_pmids, contains=contains)\n",
    "    corpus.extend([(text, entity, pmid) for pmid, text in text_dict.items() if len(text) >= 5])"
   ]
  },
  {
   "cell_type": "code",
   "execution_count": 23,
   "metadata": {},
   "outputs": [],
   "source": [
    "names.update({key: value[0] for key, value in additional_entities.items()})\n",
    "names.update({key: value[0] for key, value in unambiguous_agent_texts.items()})\n",
    "pos_labels = list(set(pos_labels) | additional_entities.keys() |\n",
    "                  unambiguous_agent_texts.keys())"
   ]
  },
  {
   "cell_type": "code",
   "execution_count": 24,
   "metadata": {},
   "outputs": [
    {
     "name": "stderr",
     "output_type": "stream",
     "text": [
      "INFO: [2020-10-31 03:06:04] /adeft/PP/adeft/adeft/modeling/classify.py - Beginning grid search in parameter space:\n",
      "{'C': [100.0], 'max_features': [10000]}\n",
      "INFO: [2020-10-31 03:08:00] /adeft/PP/adeft/adeft/modeling/classify.py - Best f1 score of 0.9957503486264458 found for parameter values:\n",
      "{'logit__C': 100.0, 'tfidf__max_features': 10000}\n"
     ]
    }
   ],
   "source": [
    "%%capture\n",
    "\n",
    "classifier = AdeftClassifier(shortforms, pos_labels=pos_labels, random_state=1729)\n",
    "param_grid = {'C': [100.0], 'max_features': [10000]}\n",
    "texts, labels, pmids = zip(*corpus)\n",
    "classifier.cv(texts, labels, param_grid, cv=5, n_jobs=5)"
   ]
  },
  {
   "cell_type": "code",
   "execution_count": 25,
   "metadata": {
    "scrolled": true
   },
   "outputs": [
    {
     "data": {
      "text/plain": [
       "{'label_distribution': {'GO:GO:0001837': 10335,\n",
       "  'ungrounded': 56,\n",
       "  'HGNC:10967': 15,\n",
       "  'MESH:D055032': 2},\n",
       " 'f1': {'mean': 0.99575, 'std': 0.000408},\n",
       " 'precision': {'mean': 0.994819, 'std': 0.00072},\n",
       " 'recall': {'mean': 0.996908, 'std': 0.000785},\n",
       " 'HGNC:10967': {'f1': {'mean': 0.531429, 'std': 0.304175},\n",
       "  'pr': {'mean': 0.466667, 'std': 0.339935},\n",
       "  'rc': {'mean': 0.75, 'std': 0.387298}},\n",
       " 'GO:GO:0001837': {'f1': {'mean': 0.996424, 'std': 0.000417},\n",
       "  'pr': {'mean': 0.997678, 'std': 0.000987},\n",
       "  'rc': {'mean': 0.995175, 'std': 0.000523}},\n",
       " 'MESH:D055032': {'f1': {'mean': 0.0, 'std': 0.0},\n",
       "  'pr': {'mean': 0.0, 'std': 0.0},\n",
       "  'rc': {'mean': 0.0, 'std': 0.0}},\n",
       " 'ungrounded': {'f1': {'mean': 0.33254, 'std': 0.138022},\n",
       "  'pr': {'mean': 0.287879, 'std': 0.136195},\n",
       "  'rc': {'mean': 0.419365, 'std': 0.148041}}}"
      ]
     },
     "execution_count": 25,
     "metadata": {},
     "output_type": "execute_result"
    }
   ],
   "source": [
    "classifier.stats"
   ]
  },
  {
   "cell_type": "code",
   "execution_count": 26,
   "metadata": {},
   "outputs": [],
   "source": [
    "disamb = AdeftDisambiguator(classifier, grounding_dict, names)"
   ]
  },
  {
   "cell_type": "code",
   "execution_count": 27,
   "metadata": {},
   "outputs": [],
   "source": [
    "disamb.dump(model_name, results_path)"
   ]
  },
  {
   "cell_type": "code",
   "execution_count": 28,
   "metadata": {},
   "outputs": [
    {
     "name": "stdout",
     "output_type": "stream",
     "text": [
      "Disambiguation model for EMT\n",
      "\n",
      "Produces the disambiguations:\n",
      "\tElectron Microscope Tomography\tMESH:D055032\n",
      "\tSLC22A3*\tHGNC:10967\n",
      "\tepithelial to mesenchymal transition*\tGO:GO:0001837\n",
      "\n",
      "Class level metrics:\n",
      "--------------------\n",
      "Grounding                           \tCount\tF1     \n",
      "epithelial to mesenchymal transition*\t10335\t0.99642\n",
      "                          Ungrounded\t   56\t0.33254\n",
      "                             SLC22A3*\t   15\t0.53143\n",
      "      Electron Microscope Tomography\t    2\t    0.0\n",
      "\n",
      "Weighted Metrics:\n",
      "-----------------\n",
      "\tF1 score:\t0.99575\n",
      "\tPrecision:\t0.99482\n",
      "\tRecall:\t\t0.99691\n",
      "\n",
      "* Positive labels\n",
      "See Docstring for explanation\n",
      "\n"
     ]
    }
   ],
   "source": [
    "print(disamb.info())"
   ]
  },
  {
   "cell_type": "code",
   "execution_count": 29,
   "metadata": {},
   "outputs": [],
   "source": [
    "model_to_s3(disamb)"
   ]
  },
  {
   "cell_type": "code",
   "execution_count": 30,
   "metadata": {},
   "outputs": [],
   "source": [
    "preds = [disamb.disambiguate(text) for text in all_texts.values()]"
   ]
  },
  {
   "cell_type": "code",
   "execution_count": 31,
   "metadata": {},
   "outputs": [],
   "source": [
    "texts = [text for pred, text in zip(preds, all_texts.values()) if pred[0] == 'HGNC:10967']"
   ]
  },
  {
   "cell_type": "code",
   "execution_count": 36,
   "metadata": {},
   "outputs": [
    {
     "data": {
      "text/plain": [
       "'The non-neuronal monoamine transporters (OCT1, OCT2, EMT, and PMAT) play a key role in the clearance of monoamines from extracellular compartments. In a previous report we described endometrial distribution and cyclic variation of the vesicular monoamine transporter (VMAT2) mRNA and the neuronal norepinephrine transporter (NET) mRNA. In the present study we used in situ hybridization, real-time PCR and immunohistochemistry to reveal tissue distribution and cyclic variation of mRNA for the non-neuronal monoamine transporters in the human endometrium and early pregnancy decidua. We found that non-neuronal monoamine transporters are predominantly expressed in the stroma. The plasma membrane monoamine transporter (PMAT) mRNA expression peaked in the proliferative phase, whereas the extra-neuronal monoamine transporter (EMT) mRNA expression peaked in the secretory phase. The organic cation transporter 2 (OCT2) mRNA expression was exclusively detected in few scattered stromal cells and OCT1 mRNA was not detected at all. Our present results demonstrate that PMAT, EMT, and OCT2 transporters are expressed in the endometrial stroma and can potentially regulate reuptake of monoamines in general and histamine in particular. Taken together with our previous finding of VMAT2 mRNA in epithelial cells, we suggest a paracrine interaction between stromal and epithelial cells, which may modulate certain steps of the reproductive process.\\n'"
      ]
     },
     "execution_count": 36,
     "metadata": {},
     "output_type": "execute_result"
    }
   ],
   "source": [
    "texts[3]"
   ]
  },
  {
   "cell_type": "code",
   "execution_count": null,
   "metadata": {},
   "outputs": [],
   "source": []
  }
 ],
 "metadata": {
  "kernelspec": {
   "display_name": "Python 3",
   "language": "python",
   "name": "python3"
  },
  "language_info": {
   "codemirror_mode": {
    "name": "ipython",
    "version": 3
   },
   "file_extension": ".py",
   "mimetype": "text/x-python",
   "name": "python",
   "nbconvert_exporter": "python",
   "pygments_lexer": "ipython3",
   "version": "3.8.4"
  }
 },
 "nbformat": 4,
 "nbformat_minor": 2
}
