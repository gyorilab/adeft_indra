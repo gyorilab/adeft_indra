{
 "cells": [
  {
   "cell_type": "code",
   "execution_count": 1,
   "metadata": {},
   "outputs": [],
   "source": [
    "import os\n",
    "import json\n",
    "import pickle\n",
    "import random\n",
    "from collections import defaultdict, Counter\n",
    "\n",
    "from indra.literature.adeft_tools import universal_extract_text\n",
    "from indra.databases.hgnc_client import get_hgnc_name, get_hgnc_id\n",
    "\n",
    "from adeft.discover import AdeftMiner\n",
    "from adeft.gui import ground_with_gui\n",
    "from adeft.modeling.label import AdeftLabeler\n",
    "from adeft.modeling.classify import AdeftClassifier\n",
    "from adeft.disambiguate import AdeftDisambiguator, load_disambiguator\n",
    "\n",
    "\n",
    "from adeft_indra.ground.ground import AdeftGrounder\n",
    "from adeft_indra.model_building.s3 import model_to_s3\n",
    "from adeft_indra.model_building.escape import escape_filename\n",
    "from adeft_indra.db.content import get_pmids_for_agent_text, get_pmids_for_entity, \\\n",
    "    get_plaintexts_for_pmids"
   ]
  },
  {
   "cell_type": "code",
   "execution_count": 2,
   "metadata": {},
   "outputs": [],
   "source": [
    "adeft_grounder = AdeftGrounder()"
   ]
  },
  {
   "cell_type": "code",
   "execution_count": 6,
   "metadata": {},
   "outputs": [],
   "source": [
    "shortforms = ['PGP', 'PGPs']\n",
    "model_name = ':'.join(sorted(escape_filename(shortform) for shortform in shortforms))\n",
    "results_path = os.path.abspath(os.path.join('../..', 'results', model_name))"
   ]
  },
  {
   "cell_type": "code",
   "execution_count": 56,
   "metadata": {},
   "outputs": [],
   "source": [
    "miners = dict()\n",
    "all_texts = {}\n",
    "for shortform in shortforms:\n",
    "    pmids = get_pmids_for_agent_text(shortform)\n",
    "    text_dict = get_plaintexts_for_pmids(pmids, contains=shortforms)\n",
    "    text_dict = {pmid: text for pmid, text in text_dict.items() if len(text) > 5}\n",
    "    miners[shortform] = AdeftMiner(shortform)\n",
    "    miners[shortform].process_texts(text_dict.values())\n",
    "    all_texts.update(text_dict)\n",
    "\n",
    "longform_dict = {}\n",
    "for shortform in shortforms:\n",
    "    longforms = miners[shortform].get_longforms()\n",
    "    longforms = [(longform, count, score) for longform, count, score in longforms\n",
    "                 if count*score > 0]\n",
    "    longform_dict[shortform] = longforms\n",
    "    \n",
    "combined_longforms = Counter()\n",
    "for longform_rows in longform_dict.values():\n",
    "    combined_longforms.update({longform: count for longform, count, score\n",
    "                               in longform_rows})\n",
    "grounding_map = {}\n",
    "names = {}\n",
    "for longform in combined_longforms:\n",
    "    groundings = adeft_grounder.ground(longform)\n",
    "    if groundings:\n",
    "        grounding = groundings[0]['grounding']\n",
    "        grounding_map[longform] = grounding\n",
    "        names[grounding] = groundings[0]['name']\n",
    "longforms, counts = zip(*combined_longforms.most_common())\n",
    "pos_labels = []"
   ]
  },
  {
   "cell_type": "code",
   "execution_count": 57,
   "metadata": {},
   "outputs": [
    {
     "data": {
      "text/plain": [
       "[('p glycoprotein', 81),\n",
       " ('proline glycine proline', 57),\n",
       " ('plant growth promoting', 48),\n",
       " ('pro gly pro', 19),\n",
       " ('phosphoglycolate phosphatase', 4),\n",
       " ('personal genome project', 3),\n",
       " ('pg phosphate', 3),\n",
       " ('permeability glycoprotein', 3),\n",
       " ('pelvic girdle pain', 2),\n",
       " ('panax ginseng polysaccharide', 2),\n",
       " ('presynaptic glutamate potential', 2),\n",
       " ('pattern generating potential', 2),\n",
       " ('peach gum polysaccharide', 2),\n",
       " ('phenogenetic project', 2),\n",
       " ('protein glycoprotein', 2),\n",
       " ('pelgipeptins', 2),\n",
       " ('pgp19 phosphoglycoprotein', 1),\n",
       " ('porous gelatin particles', 1),\n",
       " ('protein gene product', 1),\n",
       " ('pulicaria gnaphalodes powder', 1),\n",
       " ('prolil glycil proline', 1),\n",
       " ('generating phosphatidylglycerol phosphate', 1),\n",
       " ('phosphate generating phosphatidylglycerolphosphate', 1),\n",
       " ('prevotella glycoprotein', 1),\n",
       " ('glycoprotein p', 1),\n",
       " ('phophatidylglycerol phosphate', 1),\n",
       " ('plant growth promoting abilities', 1),\n",
       " ('plant growth promoting traits', 1),\n",
       " ('polysaccharide from gynostemma pentaphyllum', 1),\n",
       " ('position of genital pores', 1),\n",
       " ('precursor phosphatidylglycerolphosphate', 1),\n",
       " ('phosphatidyltransferase phosphatidylglycerophosphate', 1),\n",
       " ('peptidylglutamylpeptide', 1),\n",
       " ('p glycoprotein 1', 1),\n",
       " ('p yezoensis glycoprotein', 1),\n",
       " ('panax ginseng', 1),\n",
       " ('peptidylglutamyl peptide bond hydrolyzed', 1),\n",
       " ('phenomics and genome data publication infrastructure', 1),\n",
       " ('glycoprotein fraction from pr intermedia', 1),\n",
       " ('peptide', 1),\n",
       " ('plant genome and phenomics research data repository', 1)]"
      ]
     },
     "execution_count": 57,
     "metadata": {},
     "output_type": "execute_result"
    }
   ],
   "source": [
    "list(zip(longforms, counts))"
   ]
  },
  {
   "cell_type": "code",
   "execution_count": 9,
   "metadata": {},
   "outputs": [],
   "source": [
    "try:\n",
    "    disamb = load_disambiguator(shortforms[0])\n",
    "    for shortform, gm in disamb.grounding_dict.items():\n",
    "        for longform, grounding in gm.items():\n",
    "            grounding_map[longform] = grounding\n",
    "    for grounding, name in disamb.names.items():\n",
    "        names[grounding] = name\n",
    "    pos_labels = disamb.pos_labels\n",
    "except Exception:\n",
    "    pass"
   ]
  },
  {
   "cell_type": "code",
   "execution_count": 10,
   "metadata": {},
   "outputs": [
    {
     "data": {
      "text/plain": [
       "{'HGNC:40': 'ABCB1',\n",
       " 'MESH:C113164': 'prolyl-glycyl-proline',\n",
       " 'CHEBI:CHEBI:26020': 'phosphate',\n",
       " 'CHEBI:CHEBI:17089': 'glycoprotein',\n",
       " 'MESH:D059388': 'Pelvic Girdle Pain',\n",
       " 'CHEBI:CHEBI:18154': 'polysaccharide',\n",
       " 'CHEBI:CHEBI:17264': 'phosphatidylglycerol phosphate'}"
      ]
     },
     "execution_count": 10,
     "metadata": {},
     "output_type": "execute_result"
    }
   ],
   "source": [
    "names"
   ]
  },
  {
   "cell_type": "code",
   "execution_count": 11,
   "metadata": {},
   "outputs": [
    {
     "name": "stderr",
     "output_type": "stream",
     "text": [
      "INFO: [2020-11-11 18:15:11] indra.ontology.bio.ontology - Loading INDRA bio ontology from cache at /home/ubuntu/.indra/bio_ontology/1.4/bio_ontology.pkl\n"
     ]
    }
   ],
   "source": [
    "grounding_map, names, pos_labels = ground_with_gui(longforms, counts, \n",
    "                                                   grounding_map=grounding_map,\n",
    "                                                   names=names, pos_labels=pos_labels, no_browser=True, port=8891)"
   ]
  },
  {
   "cell_type": "code",
   "execution_count": 12,
   "metadata": {},
   "outputs": [],
   "source": [
    "result = [grounding_map, names, pos_labels]"
   ]
  },
  {
   "cell_type": "code",
   "execution_count": 13,
   "metadata": {},
   "outputs": [
    {
     "data": {
      "text/plain": [
       "[{'p glycoprotein': 'HGNC:40',\n",
       "  'panax ginseng polysaccharide': 'ungrounded',\n",
       "  'pattern generating potential': 'ungrounded',\n",
       "  'peach gum polysaccharide': 'ungrounded',\n",
       "  'pelgipeptins': 'ungrounded',\n",
       "  'pelvic girdle pain': 'MESH:D059388',\n",
       "  'permeability glycoprotein': 'CHEBI:CHEBI:17089',\n",
       "  'personal genome project': 'ungrounded',\n",
       "  'pg phosphate': 'ungrounded',\n",
       "  'phenogenetic project': 'ungrounded',\n",
       "  'phosphoglycolate phosphatase': 'HGNC:8909',\n",
       "  'plant growth promoting': 'ungrounded',\n",
       "  'presynaptic glutamate potential': 'ungrounded',\n",
       "  'pro gly pro': 'MESH:C428643',\n",
       "  'proline glycine proline': 'MESH:C428643',\n",
       "  'protein glycoprotein': 'ungrounded'},\n",
       " {'HGNC:40': 'ABCB1',\n",
       "  'MESH:D059388': 'Pelvic Girdle Pain',\n",
       "  'CHEBI:CHEBI:17089': 'glycoprotein',\n",
       "  'HGNC:8909': 'PGP',\n",
       "  'MESH:C428643': 'N-acetyl-proline-glycine-proline'},\n",
       " ['HGNC:40', 'HGNC:8909']]"
      ]
     },
     "execution_count": 13,
     "metadata": {},
     "output_type": "execute_result"
    }
   ],
   "source": [
    "result"
   ]
  },
  {
   "cell_type": "code",
   "execution_count": 61,
   "metadata": {},
   "outputs": [],
   "source": [
    "grounding_map, names, pos_labels = [{'p glycoprotein': 'HGNC:40',\n",
    "  'panax ginseng polysaccharide': 'ungrounded',\n",
    "  'pattern generating potential': 'ungrounded',\n",
    "  'peach gum polysaccharide': 'ungrounded',\n",
    "  'pelgipeptins': 'ungrounded',\n",
    "  'pelvic girdle pain': 'MESH:D059388',\n",
    "  'permeability glycoprotein': 'CHEBI:CHEBI:17089',\n",
    "  'personal genome project': 'ungrounded',\n",
    "  'pg phosphate': 'HGNC:8909',\n",
    "  'phenogenetic project': 'ungrounded',\n",
    "  'phosphoglycolate phosphatase': 'HGNC:8909',\n",
    "  'plant growth promoting': 'ungrounded',\n",
    "  'presynaptic glutamate potential': 'ungrounded',\n",
    "  'pro gly pro': 'MESH:C428643',\n",
    "  'proline glycine proline': 'MESH:C428643',\n",
    "  'protein glycoprotein': 'ungrounded',\n",
    "  'phosphatidylglycerolphosphate': 'HGNC:8909',\n",
    "  'phophatidylglycerol phosphate': 'HGNC:8909'},\n",
    " {'HGNC:40': 'ABCB1',\n",
    "  'MESH:D059388': 'Pelvic Girdle Pain',\n",
    "  'CHEBI:CHEBI:17089': 'glycoprotein',\n",
    "  'HGNC:8909': 'PGP',\n",
    "  'MESH:C428643': 'N-acetyl-proline-glycine-proline'},\n",
    " ['HGNC:40', 'HGNC:8909']]"
   ]
  },
  {
   "cell_type": "code",
   "execution_count": 62,
   "metadata": {},
   "outputs": [],
   "source": [
    "excluded_longforms = []"
   ]
  },
  {
   "cell_type": "code",
   "execution_count": 63,
   "metadata": {},
   "outputs": [],
   "source": [
    "grounding_dict = {shortform: {longform: grounding_map[longform] \n",
    "                              for longform, _, _ in longforms if longform in grounding_map\n",
    "                              and longform not in excluded_longforms}\n",
    "                  for shortform, longforms in longform_dict.items()}\n",
    "result = [grounding_dict, names, pos_labels]\n",
    "\n",
    "if not os.path.exists(results_path):\n",
    "    os.mkdir(results_path)\n",
    "with open(os.path.join(results_path, f'{model_name}_preliminary_grounding_info.json'), 'w') as f:\n",
    "    json.dump(result, f)"
   ]
  },
  {
   "cell_type": "code",
   "execution_count": 64,
   "metadata": {},
   "outputs": [],
   "source": [
    "additional_entities = {'HGNC:8909': ['PGP', ['PGP', 'phosphoglycolate']]}"
   ]
  },
  {
   "cell_type": "code",
   "execution_count": 65,
   "metadata": {},
   "outputs": [],
   "source": [
    "unambiguous_agent_texts = {}"
   ]
  },
  {
   "cell_type": "code",
   "execution_count": 66,
   "metadata": {},
   "outputs": [],
   "source": [
    "labeler = AdeftLabeler(grounding_dict)\n",
    "corpus = labeler.build_from_texts((text, pmid) for pmid, text in all_texts.items())\n",
    "agent_text_pmid_map = defaultdict(list)\n",
    "for text, label, id_ in corpus:\n",
    "    agent_text_pmid_map[label].append(id_)\n",
    "\n",
    "entity_pmid_map = {entity: set(get_pmids_for_entity(*entity.split(':', maxsplit=1),\n",
    "                                                major_topic=True))for entity in additional_entities}"
   ]
  },
  {
   "cell_type": "code",
   "execution_count": 67,
   "metadata": {},
   "outputs": [],
   "source": [
    "intersection1 = []\n",
    "for entity1, pmids1 in entity_pmid_map.items():\n",
    "    for entity2, pmids2 in entity_pmid_map.items():\n",
    "        intersection1.append((entity1, entity2, len(pmids1 & pmids2)))"
   ]
  },
  {
   "cell_type": "code",
   "execution_count": 68,
   "metadata": {},
   "outputs": [],
   "source": [
    "intersection2 = []\n",
    "for entity1, pmids1 in agent_text_pmid_map.items():\n",
    "    for entity2, pmids2 in entity_pmid_map.items():\n",
    "        intersection2.append((entity1, entity2, len(set(pmids1) & pmids2)))"
   ]
  },
  {
   "cell_type": "code",
   "execution_count": 69,
   "metadata": {},
   "outputs": [
    {
     "data": {
      "text/plain": [
       "[('HGNC:8909', 'HGNC:8909', 25)]"
      ]
     },
     "execution_count": 69,
     "metadata": {},
     "output_type": "execute_result"
    }
   ],
   "source": [
    "intersection1"
   ]
  },
  {
   "cell_type": "code",
   "execution_count": 70,
   "metadata": {},
   "outputs": [
    {
     "data": {
      "text/plain": [
       "[('HGNC:40', 'HGNC:8909', 0),\n",
       " ('ungrounded', 'HGNC:8909', 0),\n",
       " ('HGNC:8909', 'HGNC:8909', 0),\n",
       " ('MESH:C428643', 'HGNC:8909', 0),\n",
       " ('MESH:D059388', 'HGNC:8909', 0),\n",
       " ('CHEBI:CHEBI:17089', 'HGNC:8909', 0)]"
      ]
     },
     "execution_count": 70,
     "metadata": {},
     "output_type": "execute_result"
    }
   ],
   "source": [
    "intersection2"
   ]
  },
  {
   "cell_type": "code",
   "execution_count": 71,
   "metadata": {},
   "outputs": [],
   "source": [
    "all_used_pmids = set()\n",
    "for entity, agent_texts in unambiguous_agent_texts.items():\n",
    "    used_pmids = set()\n",
    "    for agent_text in agent_texts[1]:\n",
    "        pmids = set(get_pmids_for_agent_text(agent_text))\n",
    "        new_pmids = list(pmids - all_texts.keys() - used_pmids)\n",
    "        text_dict = get_plaintexts_for_pmids(new_pmids, contains=agent_texts)\n",
    "        corpus.extend([(text, entity, pmid) for pmid, text in text_dict.items() if len(text) >= 5])\n",
    "        used_pmids.update(new_pmids)\n",
    "    all_used_pmids.update(used_pmids)\n",
    "        \n",
    "for entity, pmids in entity_pmid_map.items():\n",
    "    new_pmids = list(set(pmids) - all_texts.keys() - all_used_pmids)\n",
    "    if len(new_pmids) > 10000:\n",
    "        new_pmids = random.choices(new_pmids, k=10000)\n",
    "    _, contains = additional_entities[entity]\n",
    "    text_dict = get_plaintexts_for_pmids(new_pmids, contains=contains)\n",
    "    corpus.extend([(text, entity, pmid) for pmid, text in text_dict.items() if len(text) >= 5])"
   ]
  },
  {
   "cell_type": "code",
   "execution_count": 72,
   "metadata": {},
   "outputs": [],
   "source": [
    "names.update({key: value[0] for key, value in additional_entities.items()})\n",
    "names.update({key: value[0] for key, value in unambiguous_agent_texts.items()})\n",
    "pos_labels = list(set(pos_labels) | additional_entities.keys() |\n",
    "                  unambiguous_agent_texts.keys())"
   ]
  },
  {
   "cell_type": "code",
   "execution_count": 73,
   "metadata": {},
   "outputs": [
    {
     "name": "stderr",
     "output_type": "stream",
     "text": [
      "INFO: [2020-11-11 18:35:33] /adeft/PP/adeft/adeft/modeling/classify.py - Beginning grid search in parameter space:\n",
      "{'C': [100.0], 'max_features': [10000]}\n",
      "INFO: [2020-11-11 18:35:36] /adeft/PP/adeft/adeft/modeling/classify.py - Best f1 score of 0.8821520829739521 found for parameter values:\n",
      "{'logit__C': 100.0, 'tfidf__max_features': 10000}\n"
     ]
    }
   ],
   "source": [
    "%%capture\n",
    "\n",
    "classifier = AdeftClassifier(shortforms, pos_labels=pos_labels, random_state=1729)\n",
    "param_grid = {'C': [100.0], 'max_features': [10000]}\n",
    "texts, labels, pmids = zip(*corpus)\n",
    "classifier.cv(texts, labels, param_grid, cv=5, n_jobs=5)"
   ]
  },
  {
   "cell_type": "code",
   "execution_count": 74,
   "metadata": {
    "scrolled": true
   },
   "outputs": [
    {
     "data": {
      "text/plain": [
       "{'label_distribution': {'HGNC:40': 73,\n",
       "  'ungrounded': 42,\n",
       "  'HGNC:8909': 12,\n",
       "  'MESH:C428643': 50,\n",
       "  'MESH:D059388': 2,\n",
       "  'CHEBI:CHEBI:17089': 1},\n",
       " 'f1': {'mean': 0.882152, 'std': 0.074321},\n",
       " 'precision': {'mean': 0.848039, 'std': 0.101335},\n",
       " 'recall': {'mean': 0.939624, 'std': 0.039627},\n",
       " 'ungrounded': {'f1': {'mean': 0.938137, 'std': 0.039635},\n",
       "  'pr': {'mean': 0.905556, 'std': 0.047629},\n",
       "  'rc': {'mean': 0.975, 'std': 0.05}},\n",
       " 'CHEBI:CHEBI:17089': {'f1': {'mean': 0.0, 'std': 0.0},\n",
       "  'pr': {'mean': 0.0, 'std': 0.0},\n",
       "  'rc': {'mean': 0.0, 'std': 0.0}},\n",
       " 'HGNC:8909': {'f1': {'mean': 0.626667, 'std': 0.336254},\n",
       "  'pr': {'mean': 0.533333, 'std': 0.323179},\n",
       "  'rc': {'mean': 0.8, 'std': 0.4}},\n",
       " 'HGNC:40': {'f1': {'mean': 0.919282, 'std': 0.042289},\n",
       "  'pr': {'mean': 1.0, 'std': 0.0},\n",
       "  'rc': {'mean': 0.853595, 'std': 0.076036}},\n",
       " 'MESH:D059388': {'f1': {'mean': 0.2, 'std': 0.4},\n",
       "  'pr': {'mean': 0.2, 'std': 0.4},\n",
       "  'rc': {'mean': 0.2, 'std': 0.4}},\n",
       " 'MESH:C428643': {'f1': {'mean': 0.968421, 'std': 0.025784},\n",
       "  'pr': {'mean': 0.94, 'std': 0.04899},\n",
       "  'rc': {'mean': 1.0, 'std': 0.0}}}"
      ]
     },
     "execution_count": 74,
     "metadata": {},
     "output_type": "execute_result"
    }
   ],
   "source": [
    "classifier.stats"
   ]
  },
  {
   "cell_type": "code",
   "execution_count": 75,
   "metadata": {},
   "outputs": [],
   "source": [
    "disamb = AdeftDisambiguator(classifier, grounding_dict, names)"
   ]
  },
  {
   "cell_type": "code",
   "execution_count": 76,
   "metadata": {},
   "outputs": [],
   "source": [
    "disamb.dump(model_name, results_path)"
   ]
  },
  {
   "cell_type": "code",
   "execution_count": 77,
   "metadata": {},
   "outputs": [
    {
     "name": "stdout",
     "output_type": "stream",
     "text": [
      "Disambiguation model for PGP, and PGPs\n",
      "\n",
      "Produces the disambiguations:\n",
      "\tABCB1*\tHGNC:40\n",
      "\tN-acetyl-proline-glycine-proline\tMESH:C428643\n",
      "\tPGP*\tHGNC:8909\n",
      "\tPelvic Girdle Pain\tMESH:D059388\n",
      "\tglycoprotein\tCHEBI:CHEBI:17089\n",
      "\n",
      "Class level metrics:\n",
      "--------------------\n",
      "Grounding                       \tCount\tF1     \n",
      "                           ABCB1*\t73\t0.91928\n",
      "N-acetyl-proline-glycine-proline\t50\t0.96842\n",
      "                      Ungrounded\t42\t0.93814\n",
      "                             PGP*\t12\t0.62667\n",
      "              Pelvic Girdle Pain\t 2\t    0.2\n",
      "                    glycoprotein\t 1\t    0.0\n",
      "\n",
      "Weighted Metrics:\n",
      "-----------------\n",
      "\tF1 score:\t0.88215\n",
      "\tPrecision:\t0.84804\n",
      "\tRecall:\t\t0.93962\n",
      "\n",
      "* Positive labels\n",
      "See Docstring for explanation\n",
      "\n"
     ]
    }
   ],
   "source": [
    "print(disamb.info())"
   ]
  },
  {
   "cell_type": "code",
   "execution_count": 78,
   "metadata": {},
   "outputs": [],
   "source": [
    "model_to_s3(disamb)"
   ]
  },
  {
   "cell_type": "code",
   "execution_count": 46,
   "metadata": {},
   "outputs": [],
   "source": [
    "preds = [disamb.disambiguate(text) for text in all_texts.values()]"
   ]
  },
  {
   "cell_type": "code",
   "execution_count": 47,
   "metadata": {},
   "outputs": [],
   "source": [
    "texts = [text for pred, text in zip(preds, all_texts.values()) if pred[0] == 'HGNC:8909']"
   ]
  },
  {
   "cell_type": "code",
   "execution_count": 55,
   "metadata": {},
   "outputs": [
    {
     "ename": "IndexError",
     "evalue": "list index out of range",
     "output_type": "error",
     "traceback": [
      "\u001b[0;31m---------------------------------------------------------------------------\u001b[0m",
      "\u001b[0;31mIndexError\u001b[0m                                Traceback (most recent call last)",
      "\u001b[0;32m<ipython-input-55-7017334d1b07>\u001b[0m in \u001b[0;36m<module>\u001b[0;34m\u001b[0m\n\u001b[0;32m----> 1\u001b[0;31m \u001b[0mtexts\u001b[0m\u001b[0;34m[\u001b[0m\u001b[0;36m5\u001b[0m\u001b[0;34m]\u001b[0m\u001b[0;34m\u001b[0m\u001b[0;34m\u001b[0m\u001b[0m\n\u001b[0m",
      "\u001b[0;31mIndexError\u001b[0m: list index out of range"
     ]
    }
   ],
   "source": [
    "texts[5]"
   ]
  },
  {
   "cell_type": "code",
   "execution_count": null,
   "metadata": {},
   "outputs": [],
   "source": []
  }
 ],
 "metadata": {
  "kernelspec": {
   "display_name": "Python 3",
   "language": "python",
   "name": "python3"
  },
  "language_info": {
   "codemirror_mode": {
    "name": "ipython",
    "version": 3
   },
   "file_extension": ".py",
   "mimetype": "text/x-python",
   "name": "python",
   "nbconvert_exporter": "python",
   "pygments_lexer": "ipython3",
   "version": "3.8.4"
  }
 },
 "nbformat": 4,
 "nbformat_minor": 2
}
