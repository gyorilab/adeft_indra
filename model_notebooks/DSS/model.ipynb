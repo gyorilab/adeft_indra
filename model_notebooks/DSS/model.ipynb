{
 "cells": [
  {
   "cell_type": "code",
   "execution_count": 3,
   "metadata": {},
   "outputs": [],
   "source": [
    "import os\n",
    "import json\n",
    "import pickle\n",
    "import random\n",
    "from collections import defaultdict, Counter\n",
    "\n",
    "from indra.literature.adeft_tools import universal_extract_text\n",
    "from indra.databases.hgnc_client import get_hgnc_name, get_hgnc_id\n",
    "\n",
    "from adeft.discover import AdeftMiner\n",
    "from adeft.gui import ground_with_gui\n",
    "from adeft.modeling.label import AdeftLabeler\n",
    "from adeft.modeling.classify import AdeftClassifier\n",
    "from adeft.disambiguate import AdeftDisambiguator\n",
    "\n",
    "\n",
    "from adeft_indra.ground.ground import AdeftGrounder\n",
    "from adeft_indra.model_building.s3 import model_to_s3\n",
    "from adeft_indra.model_building.escape import escape_filename\n",
    "from adeft_indra.db.content import get_pmids_for_agent_text, get_pmids_for_entity, \\\n",
    "    get_plaintexts_for_pmids"
   ]
  },
  {
   "cell_type": "code",
   "execution_count": 4,
   "metadata": {},
   "outputs": [],
   "source": [
    "adeft_grounder = AdeftGrounder()"
   ]
  },
  {
   "cell_type": "code",
   "execution_count": 5,
   "metadata": {},
   "outputs": [],
   "source": [
    "shortforms = ['DSS']\n",
    "model_name = ':'.join(sorted(escape_filename(shortform) for shortform in shortforms))\n",
    "results_path = os.path.abspath(os.path.join('../..', 'results', model_name))"
   ]
  },
  {
   "cell_type": "code",
   "execution_count": 6,
   "metadata": {},
   "outputs": [],
   "source": [
    "miners = dict()\n",
    "all_texts = {}\n",
    "for shortform in shortforms:\n",
    "    pmids = get_pmids_for_agent_text(shortform)\n",
    "    if len(pmids) > 10000:\n",
    "        pmids = random.choices(pmids, k=10000)\n",
    "    text_dict = get_plaintexts_for_pmids(pmids, contains=shortforms)\n",
    "    text_dict = {pmid: text for pmid, text in text_dict.items() if len(text) > 5}\n",
    "    miners[shortform] = AdeftMiner(shortform)\n",
    "    miners[shortform].process_texts(text_dict.values())\n",
    "    all_texts.update(text_dict)\n",
    "\n",
    "longform_dict = {}\n",
    "for shortform in shortforms:\n",
    "    longforms = miners[shortform].get_longforms()\n",
    "    longforms = [(longform, count, score) for longform, count, score in longforms\n",
    "                 if count*score > 1]\n",
    "    longform_dict[shortform] = longforms\n",
    "    \n",
    "combined_longforms = Counter()\n",
    "for longform_rows in longform_dict.values():\n",
    "    combined_longforms.update({longform: count for longform, count, score\n",
    "                               in longform_rows})\n",
    "grounding_map = {}\n",
    "names = {}\n",
    "for longform in combined_longforms:\n",
    "    groundings = adeft_grounder.ground(longform)\n",
    "    if groundings:\n",
    "        grounding = groundings[0]['grounding']\n",
    "        grounding_map[longform] = grounding\n",
    "        names[grounding] = groundings[0]['name']\n",
    "longforms, counts = zip(*combined_longforms.most_common())\n",
    "pos_labels = []"
   ]
  },
  {
   "cell_type": "code",
   "execution_count": 7,
   "metadata": {},
   "outputs": [
    {
     "data": {
      "text/plain": [
       "[('dextran sulfate sodium', 1642),\n",
       " ('dextran sodium sulfate', 1161),\n",
       " ('disease specific survival', 468),\n",
       " ('dextran sulphate sodium', 208),\n",
       " ('dextran sodium sulphate', 200),\n",
       " ('dengue shock syndrome', 96),\n",
       " ('dahl salt sensitive', 39),\n",
       " ('danshensu', 38),\n",
       " ('dextran sulfate sodium salt', 33),\n",
       " ('decision support system', 20),\n",
       " ('disuccinimidyl suberate', 20),\n",
       " ('danggui shaoyao san', 17),\n",
       " ('disease specific', 11),\n",
       " ('daidzein sulfonic sodium', 9),\n",
       " ('dss', 8),\n",
       " ('dioctyl sodium sulfosuccinate', 7),\n",
       " ('dimethyl 4 silapentane 1 sulfonic acid', 7),\n",
       " ('dss administration group', 7),\n",
       " ('depression symptoms severe', 5),\n",
       " ('depression stigma scale', 5),\n",
       " ('digit symbol substitution', 4),\n",
       " ('dss induced colitis group', 4),\n",
       " ('dark soy sauce', 3),\n",
       " ('demographic surveillance site', 3),\n",
       " ('disubstituted sulfonamides', 3),\n",
       " ('dejerine sottas syndrome', 3),\n",
       " ('déjérine sottas syndrome', 3),\n",
       " ('disuccinyl suberate', 3),\n",
       " ('dextan sodium sulfate', 3),\n",
       " ('sodium dextran sulfate', 3),\n",
       " ('dahl salt sensitive rats', 3),\n",
       " ('dextran sulphate sodium salt', 3),\n",
       " ('dextran sulfate sodium sulfate', 3),\n",
       " ('duplex stainless steel', 2),\n",
       " ('disturbed shear stress', 2),\n",
       " ('dewatered sewage sludge', 2),\n",
       " ('daily symptoms score', 2),\n",
       " ('dextran sulfate salt', 2),\n",
       " ('differentiation stress sensitive', 2),\n",
       " ('dark spot syndrome', 2),\n",
       " ('disuccimidyl suberate', 2),\n",
       " ('dsr and salt sensitive', 2),\n",
       " ('sodium dextran sulphate', 2),\n",
       " ('desulfococcus', 2),\n",
       " ('dextran sulfate sodium 5000', 2),\n",
       " ('dosage sensitive sex reversal', 2),\n",
       " ('dextran sulfate sodium colitis', 2),\n",
       " ('disease specific death', 2),\n",
       " ('dimethyl 2 silapentane 5 sulfonic', 2),\n",
       " ('dang gui shao yao san', 2),\n",
       " ('density of spikelets per spike', 2),\n",
       " ('dss alone', 2),\n",
       " ('dss treatment', 2),\n",
       " ('dss group', 2),\n",
       " ('dextrose sulfate sodium', 2),\n",
       " ('dss colitis mice', 2),\n",
       " ('dextransulfate sodium', 2),\n",
       " ('dss in drinking water', 2)]"
      ]
     },
     "execution_count": 7,
     "metadata": {},
     "output_type": "execute_result"
    }
   ],
   "source": [
    "list(zip(longforms, counts))"
   ]
  },
  {
   "cell_type": "code",
   "execution_count": 9,
   "metadata": {},
   "outputs": [
    {
     "name": "stderr",
     "output_type": "stream",
     "text": [
      "INFO: [2020-10-30 04:37:07] indra.ontology.bio.ontology - Loading INDRA bio ontology from cache at /home/ubuntu/.indra/bio_ontology/1.4/bio_ontology.pkl\n"
     ]
    }
   ],
   "source": [
    "grounding_map, names, pos_labels = ground_with_gui(longforms, counts, \n",
    "                                                   grounding_map=grounding_map,\n",
    "                                                   names=names, pos_labels=pos_labels, no_browser=True, port=8891)"
   ]
  },
  {
   "cell_type": "code",
   "execution_count": 10,
   "metadata": {},
   "outputs": [],
   "source": [
    "result = [grounding_map, names, pos_labels]"
   ]
  },
  {
   "cell_type": "code",
   "execution_count": 11,
   "metadata": {},
   "outputs": [
    {
     "data": {
      "text/plain": [
       "[{'dahl salt sensitive': 'EFO:0001350',\n",
       "  'dahl salt sensitive rats': 'EFO:0001350',\n",
       "  'daidzein sulfonic sodium': 'ungrounded',\n",
       "  'daily symptoms score': 'ungrounded',\n",
       "  'dang gui shao yao san': 'ungrounded',\n",
       "  'danggui shaoyao san': 'MESH:C531150',\n",
       "  'danshensu': 'MESH:C035055',\n",
       "  'dark soy sauce': 'ungrounded',\n",
       "  'dark spot syndrome': 'ungrounded',\n",
       "  'decision support system': 'ungrounded',\n",
       "  'dejerine sottas syndrome': 'DOID:0050540',\n",
       "  'demographic surveillance site': 'ungrounded',\n",
       "  'dengue shock syndrome': 'DOID:DOID:0050125',\n",
       "  'density of spikelets per spike': 'ungrounded',\n",
       "  'depression stigma scale': 'ungrounded',\n",
       "  'depression symptoms severe': 'ungrounded',\n",
       "  'desulfococcus': 'ungrounded',\n",
       "  'dewatered sewage sludge': 'ungrounded',\n",
       "  'dextan sodium sulfate': 'CHEBI:CHEBI:34674',\n",
       "  'dextran sodium sulfate': 'CHEBI:CHEBI:34674',\n",
       "  'dextran sodium sulphate': 'CHEBI:CHEBI:34674',\n",
       "  'dextran sulfate salt': 'ungrounded',\n",
       "  'dextran sulfate sodium': 'CHEBI:CHEBI:34674',\n",
       "  'dextran sulfate sodium 5000': 'ungrounded',\n",
       "  'dextran sulfate sodium colitis': 'CHEBI:CHEBI:34674',\n",
       "  'dextran sulfate sodium salt': 'CHEBI:CHEBI:34674',\n",
       "  'dextran sulfate sodium sulfate': 'CHEBI:CHEBI:34674',\n",
       "  'dextran sulphate sodium': 'CHEBI:CHEBI:34674',\n",
       "  'dextran sulphate sodium salt': 'CHEBI:CHEBI:34674',\n",
       "  'dextransulfate sodium': 'CHEBI:CHEBI:34674',\n",
       "  'dextrose sulfate sodium': 'CHEBI:CHEBI:34674',\n",
       "  'differentiation stress sensitive': 'ungrounded',\n",
       "  'digit symbol substitution': 'ungrounded',\n",
       "  'dimethyl 2 silapentane 5 sulfonic': 'ungrounded',\n",
       "  'dimethyl 4 silapentane 1 sulfonic acid': 'ungrounded',\n",
       "  'dioctyl sodium sulfosuccinate': 'ungrounded',\n",
       "  'disease specific': 'disease_specific_survival',\n",
       "  'disease specific death': 'ungrounded',\n",
       "  'disease specific survival': 'disease_specific_survival',\n",
       "  'disturbed shear stress': 'ungrounded',\n",
       "  'disubstituted sulfonamides': 'ungrounded',\n",
       "  'disuccimidyl suberate': 'ungrounded',\n",
       "  'disuccinimidyl suberate': 'MESH:C019358',\n",
       "  'disuccinyl suberate': 'CHEBI:CHEBI:132953',\n",
       "  'dosage sensitive sex reversal': 'HGNC:3055',\n",
       "  'dsr and salt sensitive': 'ungrounded',\n",
       "  'dss': 'ungrounded',\n",
       "  'dss administration group': 'ungrounded',\n",
       "  'dss alone': 'ungrounded',\n",
       "  'dss colitis mice': 'ungrounded',\n",
       "  'dss group': 'ungrounded',\n",
       "  'dss in drinking water': 'ungrounded',\n",
       "  'dss induced colitis group': 'ungrounded',\n",
       "  'dss treatment': 'ungrounded',\n",
       "  'duplex stainless steel': 'ungrounded',\n",
       "  'déjérine sottas syndrome': 'DOID:0050540',\n",
       "  'sodium dextran sulfate': 'CHEBI:CHEBI:34674',\n",
       "  'sodium dextran sulphate': 'CHEBI:CHEBI:34674'},\n",
       " {'EFO:0001350': 'Dahl salt-sensitive',\n",
       "  'MESH:C531150': 'danggui-shaoyao-san',\n",
       "  'MESH:C035055': '3,4-dihydroxyphenyllactic acid',\n",
       "  'DOID:0050540': 'Charcot-Marie-Tooth disease type 3',\n",
       "  'DOID:DOID:0050125': 'dengue shock syndrome',\n",
       "  'CHEBI:CHEBI:34674': 'dextran sulfate',\n",
       "  'disease_specific_survival': 'disease_specific_survival',\n",
       "  'MESH:C019358': 'disuccinimidyl suberate',\n",
       "  'CHEBI:CHEBI:132953': 'suberate',\n",
       "  'HGNC:3055': 'NR0B1'},\n",
       " ['CHEBI:CHEBI:34674', 'DOID:DOID:0050125', 'EFO:0001350', 'HGNC:3055']]"
      ]
     },
     "execution_count": 11,
     "metadata": {},
     "output_type": "execute_result"
    }
   ],
   "source": [
    "result"
   ]
  },
  {
   "cell_type": "code",
   "execution_count": 31,
   "metadata": {},
   "outputs": [],
   "source": [
    "grounding_map, names, pos_labels = [{'dahl salt sensitive': 'EFO:0001350',\n",
    "  'dahl salt sensitive rats': 'EFO:0001350',\n",
    "  'daidzein sulfonic sodium': 'ungrounded',\n",
    "  'daily symptoms score': 'ungrounded',\n",
    "  'dang gui shao yao san': 'ungrounded',\n",
    "  'danggui shaoyao san': 'MESH:C531150',\n",
    "  'danshensu': 'MESH:C035055',\n",
    "  'dark soy sauce': 'ungrounded',\n",
    "  'dark spot syndrome': 'ungrounded',\n",
    "  'decision support system': 'ungrounded',\n",
    "  'dejerine sottas syndrome': 'DOID:0050540',\n",
    "  'demographic surveillance site': 'ungrounded',\n",
    "  'dengue shock syndrome': 'DOID:DOID:0050125',\n",
    "  'density of spikelets per spike': 'ungrounded',\n",
    "  'depression stigma scale': 'ungrounded',\n",
    "  'depression symptoms severe': 'ungrounded',\n",
    "  'desulfococcus': 'ungrounded',\n",
    "  'dewatered sewage sludge': 'ungrounded',\n",
    "  'dextan sodium sulfate': 'CHEBI:CHEBI:34674',\n",
    "  'dextran sodium sulfate': 'CHEBI:CHEBI:34674',\n",
    "  'dextran sodium sulphate': 'CHEBI:CHEBI:34674',\n",
    "  'dextran sulfate salt': 'ungrounded',\n",
    "  'dextran sulfate sodium': 'CHEBI:CHEBI:34674',\n",
    "  'dextran sulfate sodium 5000': 'ungrounded',\n",
    "  'dextran sulfate sodium colitis': 'CHEBI:CHEBI:34674',\n",
    "  'dextran sulfate sodium salt': 'CHEBI:CHEBI:34674',\n",
    "  'dextran sulfate sodium sulfate': 'CHEBI:CHEBI:34674',\n",
    "  'dextran sulphate sodium': 'CHEBI:CHEBI:34674',\n",
    "  'dextran sulphate sodium salt': 'CHEBI:CHEBI:34674',\n",
    "  'dextransulfate sodium': 'CHEBI:CHEBI:34674',\n",
    "  'dextrose sulfate sodium': 'CHEBI:CHEBI:34674',\n",
    "  'differentiation stress sensitive': 'ungrounded',\n",
    "  'digit symbol substitution': 'ungrounded',\n",
    "  'dimethyl 2 silapentane 5 sulfonic': 'ungrounded',\n",
    "  'dimethyl 4 silapentane 1 sulfonic acid': 'ungrounded',\n",
    "  'dioctyl sodium sulfosuccinate': 'ungrounded',\n",
    "  'disease specific': 'disease_specific_survival',\n",
    "  'disease specific death': 'ungrounded',\n",
    "  'disease specific survival': 'disease_specific_survival',\n",
    "  'disturbed shear stress': 'ungrounded',\n",
    "  'disubstituted sulfonamides': 'ungrounded',\n",
    "  'disuccimidyl suberate': 'ungrounded',\n",
    "  'disuccinimidyl suberate': 'MESH:C019358',\n",
    "  'disuccinyl suberate': 'CHEBI:CHEBI:132953',\n",
    "  'dosage sensitive sex reversal': 'HGNC:7960',\n",
    "  'dsr and salt sensitive': 'ungrounded',\n",
    "  'dss': 'ungrounded',\n",
    "  'dss administration group': 'ungrounded',\n",
    "  'dss alone': 'ungrounded',\n",
    "  'dss colitis mice': 'ungrounded',\n",
    "  'dss group': 'ungrounded',\n",
    "  'dss in drinking water': 'ungrounded',\n",
    "  'dss induced colitis group': 'ungrounded',\n",
    "  'dss treatment': 'ungrounded',\n",
    "  'duplex stainless steel': 'ungrounded',\n",
    "  'déjérine sottas syndrome': 'DOID:0050540',\n",
    "  'sodium dextran sulfate': 'CHEBI:CHEBI:34674',\n",
    "  'sodium dextran sulphate': 'CHEBI:CHEBI:34674'},\n",
    " {'EFO:0001350': 'Dahl salt-sensitive',\n",
    "  'MESH:C531150': 'danggui-shaoyao-san',\n",
    "  'MESH:C035055': '3,4-dihydroxyphenyllactic acid',\n",
    "  'DOID:0050540': 'Charcot-Marie-Tooth disease type 3',\n",
    "  'DOID:DOID:0050125': 'dengue shock syndrome',\n",
    "  'CHEBI:CHEBI:34674': 'dextran sulfate',\n",
    "  'disease_specific_survival': 'disease_specific_survival',\n",
    "  'MESH:C019358': 'disuccinimidyl suberate',\n",
    "  'CHEBI:CHEBI:132953': 'suberate',\n",
    "  'HGNC:7960': 'NR0B1'},\n",
    " ['CHEBI:CHEBI:34674', 'DOID:DOID:0050125', 'EFO:0001350', 'HGNC:7960']]"
   ]
  },
  {
   "cell_type": "code",
   "execution_count": 32,
   "metadata": {},
   "outputs": [],
   "source": [
    "excluded_longforms = ['dss', 'dss alone', 'dsr and salt sensitive',\n",
    "                      'dss administration group', 'dss in drinking water',\n",
    "                      'dss colitis mice', 'dss group', 'dss induced colitis group',\n",
    "                      'dss treatment']"
   ]
  },
  {
   "cell_type": "code",
   "execution_count": 33,
   "metadata": {},
   "outputs": [],
   "source": [
    "grounding_dict = {shortform: {longform: grounding_map[longform] \n",
    "                              for longform, _, _ in longforms if longform in grounding_map\n",
    "                              and longform not in excluded_longforms}\n",
    "                  for shortform, longforms in longform_dict.items()}\n",
    "result = [grounding_dict, names, pos_labels]\n",
    "\n",
    "if not os.path.exists(results_path):\n",
    "    os.mkdir(results_path)\n",
    "with open(os.path.join(results_path, f'{model_name}_preliminary_grounding_info.json'), 'w') as f:\n",
    "    json.dump(result, f)"
   ]
  },
  {
   "cell_type": "code",
   "execution_count": 34,
   "metadata": {},
   "outputs": [],
   "source": [
    "additional_entities = {'HGNC:7960': ['NR0B1', ['DSS', 'sex reversal']]}"
   ]
  },
  {
   "cell_type": "code",
   "execution_count": 35,
   "metadata": {},
   "outputs": [],
   "source": [
    "unambiguous_agent_texts = {'HGNC:7960': ['NR0B1', ['dosage sensitive sex reversal']]}"
   ]
  },
  {
   "cell_type": "code",
   "execution_count": 36,
   "metadata": {},
   "outputs": [],
   "source": [
    "labeler = AdeftLabeler(grounding_dict)\n",
    "corpus = labeler.build_from_texts((text, pmid) for pmid, text in all_texts.items())\n",
    "agent_text_pmid_map = defaultdict(list)\n",
    "for text, label, id_ in corpus:\n",
    "    agent_text_pmid_map[label].append(id_)\n",
    "\n",
    "entity_pmid_map = {entity: set(get_pmids_for_entity(*entity.split(':', maxsplit=1),\n",
    "                                                major_topic=True))for entity in additional_entities}"
   ]
  },
  {
   "cell_type": "code",
   "execution_count": 20,
   "metadata": {},
   "outputs": [],
   "source": [
    "intersection1 = []\n",
    "for entity1, pmids1 in entity_pmid_map.items():\n",
    "    for entity2, pmids2 in entity_pmid_map.items():\n",
    "        intersection1.append((entity1, entity2, len(pmids1 & pmids2)))"
   ]
  },
  {
   "cell_type": "code",
   "execution_count": 21,
   "metadata": {},
   "outputs": [],
   "source": [
    "intersection2 = []\n",
    "for entity1, pmids1 in agent_text_pmid_map.items():\n",
    "    for entity2, pmids2 in entity_pmid_map.items():\n",
    "        intersection2.append((entity1, entity2, len(set(pmids1) & pmids2)))"
   ]
  },
  {
   "cell_type": "code",
   "execution_count": 22,
   "metadata": {},
   "outputs": [
    {
     "data": {
      "text/plain": [
       "[('HGNC:7960', 'HGNC:7960', 233)]"
      ]
     },
     "execution_count": 22,
     "metadata": {},
     "output_type": "execute_result"
    }
   ],
   "source": [
    "intersection1"
   ]
  },
  {
   "cell_type": "code",
   "execution_count": 23,
   "metadata": {},
   "outputs": [
    {
     "data": {
      "text/plain": [
       "[('ungrounded', 'HGNC:7960', 0),\n",
       " ('EFO:0001350', 'HGNC:7960', 0),\n",
       " ('CHEBI:CHEBI:34674', 'HGNC:7960', 0),\n",
       " ('MESH:C019358', 'HGNC:7960', 0),\n",
       " ('DOID:0050540', 'HGNC:7960', 0),\n",
       " ('CHEBI:CHEBI:132953', 'HGNC:7960', 0),\n",
       " ('disease_specific_survival', 'HGNC:7960', 0),\n",
       " ('HGNC:3055', 'HGNC:7960', 0),\n",
       " ('DOID:DOID:0050125', 'HGNC:7960', 0),\n",
       " ('MESH:C531150', 'HGNC:7960', 0),\n",
       " ('MESH:C035055', 'HGNC:7960', 0)]"
      ]
     },
     "execution_count": 23,
     "metadata": {},
     "output_type": "execute_result"
    }
   ],
   "source": [
    "intersection2"
   ]
  },
  {
   "cell_type": "code",
   "execution_count": 84,
   "metadata": {},
   "outputs": [
    {
     "data": {
      "text/plain": [
       "[('HGNC:7321', ['Musculin', 'musculin'])]"
      ]
     },
     "execution_count": 84,
     "metadata": {},
     "output_type": "execute_result"
    }
   ],
   "source": []
  },
  {
   "cell_type": "code",
   "execution_count": 37,
   "metadata": {},
   "outputs": [],
   "source": [
    "all_used_pmids = set()\n",
    "for entity, agent_texts in unambiguous_agent_texts.items():\n",
    "    used_pmids = set()\n",
    "    for agent_text in agent_texts[1]:\n",
    "        pmids = set(get_pmids_for_agent_text(agent_text))\n",
    "        new_pmids = list(pmids - all_texts.keys() - used_pmids)\n",
    "        text_dict = get_plaintexts_for_pmids(new_pmids, contains=agent_texts)\n",
    "        corpus.extend([(text, entity, pmid) for pmid, text in text_dict.items() if len(text) >= 5])\n",
    "        used_pmids.update(new_pmids)\n",
    "    all_used_pmids.update(used_pmids)\n",
    "        \n",
    "for entity, pmids in entity_pmid_map.items():\n",
    "    new_pmids = list(set(pmids) - all_texts.keys() - all_used_pmids)\n",
    "    if len(new_pmids) > 10000:\n",
    "        new_pmids = random.choices(new_pmids, k=10000)\n",
    "    _, contains = additional_entities[entity]\n",
    "    text_dict = get_plaintexts_for_pmids(new_pmids, contains=contains)\n",
    "    corpus.extend([(text, entity, pmid) for pmid, text in text_dict.items() if len(text) >= 5])"
   ]
  },
  {
   "cell_type": "code",
   "execution_count": 38,
   "metadata": {},
   "outputs": [],
   "source": [
    "names.update({key: value[0] for key, value in additional_entities.items()})\n",
    "names.update({key: value[0] for key, value in unambiguous_agent_texts.items()})\n",
    "pos_labels = list(set(pos_labels) | additional_entities.keys() |\n",
    "                  unambiguous_agent_texts.keys())"
   ]
  },
  {
   "cell_type": "code",
   "execution_count": 39,
   "metadata": {},
   "outputs": [
    {
     "name": "stderr",
     "output_type": "stream",
     "text": [
      "INFO: [2020-10-30 04:45:59] /adeft/PP/adeft/adeft/modeling/classify.py - Beginning grid search in parameter space:\n",
      "{'C': [100.0], 'max_features': [10000]}\n",
      "INFO: [2020-10-30 04:46:55] /adeft/PP/adeft/adeft/modeling/classify.py - Best f1 score of 0.9847838250645605 found for parameter values:\n",
      "{'logit__C': 100.0, 'tfidf__max_features': 10000}\n"
     ]
    }
   ],
   "source": [
    "%%capture\n",
    "\n",
    "classifier = AdeftClassifier(shortforms, pos_labels=pos_labels, random_state=1729)\n",
    "param_grid = {'C': [100.0], 'max_features': [10000]}\n",
    "texts, labels, pmids = zip(*corpus)\n",
    "classifier.cv(texts, labels, param_grid, cv=5, n_jobs=5)"
   ]
  },
  {
   "cell_type": "code",
   "execution_count": 40,
   "metadata": {
    "scrolled": true
   },
   "outputs": [
    {
     "data": {
      "text/plain": [
       "{'label_distribution': {'ungrounded': 69,\n",
       "  'EFO:0001350': 26,\n",
       "  'CHEBI:CHEBI:34674': 2201,\n",
       "  'MESH:C019358': 17,\n",
       "  'DOID:0050540': 6,\n",
       "  'CHEBI:CHEBI:132953': 2,\n",
       "  'disease_specific_survival': 304,\n",
       "  'HGNC:7960': 74,\n",
       "  'DOID:DOID:0050125': 72,\n",
       "  'MESH:C531150': 14,\n",
       "  'MESH:C035055': 31},\n",
       " 'f1': {'mean': 0.984784, 'std': 0.002354},\n",
       " 'precision': {'mean': 0.974168, 'std': 0.003291},\n",
       " 'recall': {'mean': 0.995789, 'std': 0.002657},\n",
       " 'MESH:C531150': {'f1': {'mean': 0.18, 'std': 0.222711},\n",
       "  'pr': {'mean': 0.133333, 'std': 0.163299},\n",
       "  'rc': {'mean': 0.3, 'std': 0.4}},\n",
       " 'DOID:DOID:0050125': {'f1': {'mean': 0.985696, 'std': 0.017537},\n",
       "  'pr': {'mean': 0.972381, 'std': 0.03386},\n",
       "  'rc': {'mean': 1.0, 'std': 0.0}},\n",
       " 'MESH:C035055': {'f1': {'mean': 0.50987, 'std': 0.181122},\n",
       "  'pr': {'mean': 0.390476, 'std': 0.174704},\n",
       "  'rc': {'mean': 0.85, 'std': 0.2}},\n",
       " 'DOID:0050540': {'f1': {'mean': 0.533333, 'std': 0.452155},\n",
       "  'pr': {'mean': 0.5, 'std': 0.447214},\n",
       "  'rc': {'mean': 0.6, 'std': 0.489898}},\n",
       " 'disease_specific_survival': {'f1': {'mean': 0.99019, 'std': 0.009495},\n",
       "  'pr': {'mean': 0.993443, 'std': 0.008031},\n",
       "  'rc': {'mean': 0.987198, 'std': 0.01853}},\n",
       " 'MESH:C019358': {'f1': {'mean': 0.72, 'std': 0.123089},\n",
       "  'pr': {'mean': 0.65, 'std': 0.08165},\n",
       "  'rc': {'mean': 0.833333, 'std': 0.210819}},\n",
       " 'CHEBI:CHEBI:132953': {'f1': {'mean': 0.0, 'std': 0.0},\n",
       "  'pr': {'mean': 0.0, 'std': 0.0},\n",
       "  'rc': {'mean': 0.0, 'std': 0.0}},\n",
       " 'ungrounded': {'f1': {'mean': 0.675212, 'std': 0.076208},\n",
       "  'pr': {'mean': 0.581319, 'std': 0.099837},\n",
       "  'rc': {'mean': 0.821818, 'std': 0.081573}},\n",
       " 'HGNC:7960': {'f1': {'mean': 1.0, 'std': 0.0},\n",
       "  'pr': {'mean': 1.0, 'std': 0.0},\n",
       "  'rc': {'mean': 1.0, 'std': 0.0}},\n",
       " 'EFO:0001350': {'f1': {'mean': 0.959596, 'std': 0.049895},\n",
       "  'pr': {'mean': 0.96, 'std': 0.08},\n",
       "  'rc': {'mean': 0.966667, 'std': 0.066667}},\n",
       " 'CHEBI:CHEBI:34674': {'f1': {'mean': 0.984522, 'std': 0.002672},\n",
       "  'pr': {'mean': 0.99682, 'std': 0.001817},\n",
       "  'rc': {'mean': 0.972528, 'std': 0.003791}}}"
      ]
     },
     "execution_count": 40,
     "metadata": {},
     "output_type": "execute_result"
    }
   ],
   "source": [
    "classifier.stats"
   ]
  },
  {
   "cell_type": "code",
   "execution_count": 41,
   "metadata": {},
   "outputs": [],
   "source": [
    "disamb = AdeftDisambiguator(classifier, grounding_dict, names)"
   ]
  },
  {
   "cell_type": "code",
   "execution_count": 42,
   "metadata": {},
   "outputs": [],
   "source": [
    "disamb.dump(model_name, results_path)"
   ]
  },
  {
   "cell_type": "code",
   "execution_count": 43,
   "metadata": {},
   "outputs": [
    {
     "name": "stdout",
     "output_type": "stream",
     "text": [
      "Disambiguation model for DSS\n",
      "\n",
      "Produces the disambiguations:\n",
      "\t3,4-dihydroxyphenyllactic acid\tMESH:C035055\n",
      "\tCharcot-Marie-Tooth disease type 3\tDOID:0050540\n",
      "\tDahl salt-sensitive*\tEFO:0001350\n",
      "\tNR0B1*\tHGNC:7960\n",
      "\tdanggui-shaoyao-san\tMESH:C531150\n",
      "\tdengue shock syndrome*\tDOID:DOID:0050125\n",
      "\tdextran sulfate*\tCHEBI:CHEBI:34674\n",
      "\tdisease_specific_survival\tdisease_specific_survival\n",
      "\tdisuccinimidyl suberate\tMESH:C019358\n",
      "\tsuberate\tCHEBI:CHEBI:132953\n",
      "\n",
      "Class level metrics:\n",
      "--------------------\n",
      "Grounding                         \tCount\tF1     \n",
      "                   dextran sulfate*\t2201\t0.98452\n",
      "         disease_specific_survival\t 304\t0.99019\n",
      "                             NR0B1*\t  74\t    1.0\n",
      "             dengue shock syndrome*\t  72\t 0.9857\n",
      "                        Ungrounded\t  69\t0.67521\n",
      "    3,4-dihydroxyphenyllactic acid\t  31\t0.50987\n",
      "               Dahl salt-sensitive*\t  26\t 0.9596\n",
      "           disuccinimidyl suberate\t  17\t   0.72\n",
      "               danggui-shaoyao-san\t  14\t   0.18\n",
      "Charcot-Marie-Tooth disease type 3\t   6\t0.53333\n",
      "                          suberate\t   2\t    0.0\n",
      "\n",
      "Weighted Metrics:\n",
      "-----------------\n",
      "\tF1 score:\t0.98478\n",
      "\tPrecision:\t0.97417\n",
      "\tRecall:\t\t0.99579\n",
      "\n",
      "* Positive labels\n",
      "See Docstring for explanation\n",
      "\n"
     ]
    }
   ],
   "source": [
    "print(disamb.info())"
   ]
  },
  {
   "cell_type": "code",
   "execution_count": 44,
   "metadata": {},
   "outputs": [
    {
     "name": "stdout",
     "output_type": "stream",
     "text": [
      "Disambiguation model for DSS\n",
      "\n",
      "Produces the disambiguations:\n",
      "\t3,4-dihydroxyphenyllactic acid\tMESH:C035055\n",
      "\tCharcot-Marie-Tooth disease type 3\tDOID:0050540\n",
      "\tDahl salt-sensitive*\tEFO:0001350\n",
      "\tNR0B1*\tHGNC:7960\n",
      "\tdanggui-shaoyao-san\tMESH:C531150\n",
      "\tdengue shock syndrome*\tDOID:DOID:0050125\n",
      "\tdextran sulfate*\tCHEBI:CHEBI:34674\n",
      "\tdisease_specific_survival\tdisease_specific_survival\n",
      "\tdisuccinimidyl suberate\tMESH:C019358\n",
      "\tsuberate\tCHEBI:CHEBI:132953\n",
      "\n",
      "Class level metrics:\n",
      "--------------------\n",
      "Grounding                         \tCount\tF1     \n",
      "                   dextran sulfate*\t2201\t0.98452\n",
      "         disease_specific_survival\t 304\t0.99019\n",
      "                             NR0B1*\t  74\t    1.0\n",
      "             dengue shock syndrome*\t  72\t 0.9857\n",
      "                        Ungrounded\t  69\t0.67521\n",
      "    3,4-dihydroxyphenyllactic acid\t  31\t0.50987\n",
      "               Dahl salt-sensitive*\t  26\t 0.9596\n",
      "           disuccinimidyl suberate\t  17\t   0.72\n",
      "               danggui-shaoyao-san\t  14\t   0.18\n",
      "Charcot-Marie-Tooth disease type 3\t   6\t0.53333\n",
      "                          suberate\t   2\t    0.0\n",
      "\n",
      "Weighted Metrics:\n",
      "-----------------\n",
      "\tF1 score:\t0.98478\n",
      "\tPrecision:\t0.97417\n",
      "\tRecall:\t\t0.99579\n",
      "\n",
      "* Positive labels\n",
      "See Docstring for explanation\n",
      "\n"
     ]
    }
   ],
   "source": [
    "print(disamb.info())"
   ]
  },
  {
   "cell_type": "code",
   "execution_count": 45,
   "metadata": {},
   "outputs": [],
   "source": [
    "model_to_s3(disamb)"
   ]
  },
  {
   "cell_type": "code",
   "execution_count": 46,
   "metadata": {},
   "outputs": [],
   "source": [
    "preds = disamb.disambiguate(all_texts.values())"
   ]
  },
  {
   "cell_type": "code",
   "execution_count": 47,
   "metadata": {},
   "outputs": [],
   "source": [
    "p = [(x, text) for x, text in zip(preds, all_texts.values()) if x[0].startswith('HGNC')]"
   ]
  },
  {
   "cell_type": "code",
   "execution_count": 48,
   "metadata": {},
   "outputs": [
    {
     "data": {
      "text/plain": [
       "(('HGNC:7960',\n",
       "  'NR0B1',\n",
       "  {'CHEBI:CHEBI:132953': 8.985212953745439e-05,\n",
       "   'CHEBI:CHEBI:34674': 0.0006598091069091671,\n",
       "   'DOID:0050540': 0.0005837659340991881,\n",
       "   'DOID:DOID:0050125': 0.000138460032754039,\n",
       "   'EFO:0001350': 0.00013381204155976588,\n",
       "   'HGNC:7960': 0.9971199665398686,\n",
       "   'MESH:C019358': 0.0002539218312002947,\n",
       "   'MESH:C035055': 0.0001576945133235649,\n",
       "   'MESH:C531150': 8.814552731259378e-05,\n",
       "   'disease_specific_survival': 0.00013873044530958862,\n",
       "   'ungrounded': 0.0006358418981258324}),\n",
       " 'Evidence that a gene located in the X chromosome might be involved in gonadal differentiation comes from the finding that duplication of Xp in association with a normal Y chromosome containing an intact SRY, can result in male-to-female sex reversal ( Bardoni et al., 1993; Am et al., 1994 ). This dosage-sensitive sex reversal locus (DSS) was mapped to a region on Xp21 adjacent to the adrenal hypoplasia congenital locus (AHC) ( Bardoni et al., 1994 ). Although DSS can interfere with testis determination when duplicated, it is not essential for testis formation as 46XY individuals carrying deletions of Xp21 region have a male phenotype. Therefore, it was proposed that Sry could repress DSS action and expression in normal testis differentiation. DSS could also be required for ovarian development, by either promoting differentiation of ovarian cell types, or repressing differentiation of testicular cells, or both ( Bardoni et al., 1994; Swain and Lovell-Badge, 1999; Capel, 2000 ). A candidate gene isolated from DSS region, DAX1 (DSS-AHC critical region on the X, gene 1) ( Muscatelli et al., 1994; Zanaria et al., 1994 ), was found to encode an orphan nuclear hormone receptor. Deletion or point mutations of DAX1 are responsible for AHC. DAX1 is expressed in adrenal primordium, developing hypothalamus and genital ridge of both male and female (11.5 dpc). Moreover, after 12 dpc, DAX1 expression in male gonad decreases dramatically as testis cords begin to appear, but persists in the developing ovary ( Swain et al., 1996 ). That DAX1 is the gene responsible for the XY female reversal was shown in transgenic mouse experiments, where overexpression of Dax1 alone was able to give XY female reversal in certain genetic backgrounds ( Swain et al., 1998 ).\\n')"
      ]
     },
     "execution_count": 48,
     "metadata": {},
     "output_type": "execute_result"
    }
   ],
   "source": [
    "p[1]"
   ]
  },
  {
   "cell_type": "code",
   "execution_count": null,
   "metadata": {},
   "outputs": [],
   "source": []
  }
 ],
 "metadata": {
  "kernelspec": {
   "display_name": "Python 3",
   "language": "python",
   "name": "python3"
  },
  "language_info": {
   "codemirror_mode": {
    "name": "ipython",
    "version": 3
   },
   "file_extension": ".py",
   "mimetype": "text/x-python",
   "name": "python",
   "nbconvert_exporter": "python",
   "pygments_lexer": "ipython3",
   "version": "3.8.4"
  }
 },
 "nbformat": 4,
 "nbformat_minor": 2
}
