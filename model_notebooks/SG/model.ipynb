{
 "cells": [
  {
   "cell_type": "code",
   "execution_count": 1,
   "metadata": {},
   "outputs": [],
   "source": [
    "import os\n",
    "import json\n",
    "import pickle\n",
    "import random\n",
    "from collections import defaultdict, Counter\n",
    "\n",
    "from indra.literature.adeft_tools import universal_extract_text\n",
    "from indra.databases.hgnc_client import get_hgnc_name, get_hgnc_id\n",
    "\n",
    "from adeft.discover import AdeftMiner\n",
    "from adeft.gui import ground_with_gui\n",
    "from adeft.modeling.label import AdeftLabeler\n",
    "from adeft.modeling.classify import AdeftClassifier\n",
    "from adeft.disambiguate import AdeftDisambiguator\n",
    "\n",
    "\n",
    "from adeft_indra.ground.ground import AdeftGrounder\n",
    "from adeft_indra.model_building.s3 import model_to_s3\n",
    "from adeft_indra.model_building.escape import escape_filename\n",
    "from adeft_indra.db.content import get_pmids_for_agent_text, get_pmids_for_entity, \\\n",
    "    get_plaintexts_for_pmids"
   ]
  },
  {
   "cell_type": "code",
   "execution_count": 2,
   "metadata": {},
   "outputs": [],
   "source": [
    "adeft_grounder = AdeftGrounder()"
   ]
  },
  {
   "cell_type": "code",
   "execution_count": 3,
   "metadata": {},
   "outputs": [],
   "source": [
    "shortforms = ['SG', 'SGs']\n",
    "model_name = ':'.join(sorted(escape_filename(shortform) for shortform in shortforms))\n",
    "results_path = os.path.abspath(os.path.join('../..', 'results', model_name))"
   ]
  },
  {
   "cell_type": "code",
   "execution_count": 4,
   "metadata": {},
   "outputs": [],
   "source": [
    "miners = dict()\n",
    "all_texts = {}\n",
    "for shortform in shortforms:\n",
    "    pmids = get_pmids_for_agent_text(shortform)\n",
    "    if len(pmids) > 10000:\n",
    "        pmids = random.choices(pmids, k=10000)\n",
    "    text_dict = get_plaintexts_for_pmids(pmids, contains=shortforms)\n",
    "    text_dict = {pmid: text for pmid, text in text_dict.items() if len(text) > 5}\n",
    "    miners[shortform] = AdeftMiner(shortform)\n",
    "    miners[shortform].process_texts(text_dict.values())\n",
    "    all_texts.update(text_dict)\n",
    "\n",
    "longform_dict = {}\n",
    "for shortform in shortforms:\n",
    "    longforms = miners[shortform].get_longforms()\n",
    "    longforms = [(longform, count, score) for longform, count, score in longforms\n",
    "                 if count*score > 2]\n",
    "    longform_dict[shortform] = longforms\n",
    "    \n",
    "combined_longforms = Counter()\n",
    "for longform_rows in longform_dict.values():\n",
    "    combined_longforms.update({longform: count for longform, count, score\n",
    "                               in longform_rows})\n",
    "grounding_map = {}\n",
    "names = {}\n",
    "for longform in combined_longforms:\n",
    "    groundings = adeft_grounder.ground(longform)\n",
    "    if groundings:\n",
    "        grounding = groundings[0]['grounding']\n",
    "        grounding_map[longform] = grounding\n",
    "        names[grounding] = groundings[0]['name']\n",
    "longforms, counts = zip(*combined_longforms.most_common())\n",
    "pos_labels = []"
   ]
  },
  {
   "cell_type": "code",
   "execution_count": 5,
   "metadata": {},
   "outputs": [
    {
     "data": {
      "text/plain": [
       "[('stress granules', 448),\n",
       " ('sleeve gastrectomy', 135),\n",
       " ('salivary gland', 115),\n",
       " ('stress granule', 107),\n",
       " ('substantia gelatinosa', 67),\n",
       " ('spiral ganglion', 36),\n",
       " ('sun ginseng', 30),\n",
       " ('sebaceous gland', 28),\n",
       " ('secretory granule', 24),\n",
       " ('stellate ganglion', 17),\n",
       " ('satratoxin g', 16),\n",
       " ('subgenomic', 16),\n",
       " ('stratum granulosum', 12),\n",
       " ('stellate ganglia', 12),\n",
       " ('sarcoglycan', 11),\n",
       " ('salmonella gallinarum', 10),\n",
       " ('steviol glycosides', 10),\n",
       " ('sybr green i', 8),\n",
       " ('sophoraflavanone g', 7),\n",
       " ('savitzky golay', 6),\n",
       " ('standard gamble', 6),\n",
       " ('spring germination', 6),\n",
       " ('serious games', 5),\n",
       " ('suicide gene', 5),\n",
       " ('structural genomic', 5),\n",
       " ('sulfated galactans', 5),\n",
       " ('sytox green', 5),\n",
       " ('standard germination', 5),\n",
       " ('schistosome generated', 5),\n",
       " ('steryl glucosides', 5),\n",
       " ('sympathetic ganglia', 5),\n",
       " ('sanguinarine', 5),\n",
       " ('sinus gland', 5),\n",
       " ('sorafenib β d glucuronide', 5),\n",
       " ('sterylglucosides', 5),\n",
       " ('sweat glands', 5),\n",
       " ('slow gamma', 4),\n",
       " ('skin grafting', 4),\n",
       " ('sarcodiotheca gaudichaudii', 4),\n",
       " ('siegesbeckia glabrescens', 4),\n",
       " ('striae gravidarum', 4),\n",
       " ('stacked graphene', 4),\n",
       " ('sangiovese', 4),\n",
       " ('subesophageal ganglion', 4),\n",
       " ('sweat gland', 4),\n",
       " ('sarcoglycans', 4),\n",
       " ('structural genetic', 3),\n",
       " ('sesbania gum', 3),\n",
       " ('subtotal gastrectomy', 3),\n",
       " ('serovar gallinarum', 3),\n",
       " ('sesaminol glucosides', 3),\n",
       " ('sargachromanol g', 3),\n",
       " ('serglycin', 3),\n",
       " ('sitagliptin', 3),\n",
       " ('shenzhuguanxin granule', 3),\n",
       " ('switchgrass', 3),\n",
       " ('starch grains', 3)]"
      ]
     },
     "execution_count": 5,
     "metadata": {},
     "output_type": "execute_result"
    }
   ],
   "source": [
    "list(zip(longforms, counts))"
   ]
  },
  {
   "cell_type": "code",
   "execution_count": 6,
   "metadata": {},
   "outputs": [
    {
     "name": "stderr",
     "output_type": "stream",
     "text": [
      "INFO: [2020-10-09 02:59:55] indra.ontology.bio.ontology - Loading INDRA bio ontology from cache at /home/ubuntu/.indra/bio_ontology/1.2/bio_ontology.pkl\n"
     ]
    }
   ],
   "source": [
    "grounding_map, names, pos_labels = ground_with_gui(longforms, counts, \n",
    "                                                   grounding_map=grounding_map,\n",
    "                                                   names=names, pos_labels=pos_labels, no_browser=True, port=8890)"
   ]
  },
  {
   "cell_type": "code",
   "execution_count": 7,
   "metadata": {},
   "outputs": [],
   "source": [
    "result = [grounding_map, names, pos_labels]"
   ]
  },
  {
   "cell_type": "code",
   "execution_count": 8,
   "metadata": {},
   "outputs": [
    {
     "data": {
      "text/plain": [
       "[{'salivary gland': 'MESH:D012469',\n",
       "  'salmonella gallinarum': 'Taxonomy:594',\n",
       "  'sangiovese': 'ungrounded',\n",
       "  'sanguinarine': 'CHEBI:CHEBI:17183',\n",
       "  'sarcodiotheca gaudichaudii': 'ungrounded',\n",
       "  'sarcoglycan': 'FPLX:Sarcoglycan_complex',\n",
       "  'sarcoglycans': 'FPLX:Sarcoglycan_complex',\n",
       "  'sargachromanol g': 'MESH:C577249',\n",
       "  'satratoxin g': 'MESH:C028268',\n",
       "  'savitzky golay': 'ungrounded',\n",
       "  'schistosome generated': 'ungrounded',\n",
       "  'sebaceous gland': 'MESH:D012627',\n",
       "  'secretory granule': 'GO:GO:0030141',\n",
       "  'serglycin': 'HGNC:9361',\n",
       "  'serious games': 'ungrounded',\n",
       "  'serovar gallinarum': 'ungrounded',\n",
       "  'sesaminol glucosides': 'CHEBI:CHEBI:24278',\n",
       "  'sesbania gum': 'ungrounded',\n",
       "  'shenzhuguanxin granule': 'ungrounded',\n",
       "  'siegesbeckia glabrescens': 'ungrounded',\n",
       "  'sinus gland': 'ungrounded',\n",
       "  'sitagliptin': 'CHEBI:CHEBI:40237',\n",
       "  'skin grafting': 'MESH:D016038',\n",
       "  'sleeve gastrectomy': 'MESH:D005743',\n",
       "  'slow gamma': 'ungrounded',\n",
       "  'sophoraflavanone g': 'CHEBI:CHEBI:50209',\n",
       "  'sorafenib β d glucuronide': 'ungrounded',\n",
       "  'spiral ganglion': 'MESH:D013136',\n",
       "  'spring germination': 'ungrounded',\n",
       "  'stacked graphene': 'CHEBI:CHEBI:36973',\n",
       "  'standard gamble': 'ungrounded',\n",
       "  'standard germination': 'ungrounded',\n",
       "  'starch grains': 'ungrounded',\n",
       "  'stellate ganglia': 'MESH:D013233',\n",
       "  'stellate ganglion': 'MESH:D013233',\n",
       "  'steryl glucosides': 'ungrounded',\n",
       "  'sterylglucosides': 'ungrounded',\n",
       "  'steviol glycosides': 'CHEBI:CHEBI:145027',\n",
       "  'stratum granulosum': 'NCIT:C33627',\n",
       "  'stress granule': 'GO:GO:0010494',\n",
       "  'stress granules': 'GO:GO:0010494',\n",
       "  'striae gravidarum': 'ungrounded',\n",
       "  'structural genetic': 'ungrounded',\n",
       "  'structural genomic': 'ungrounded',\n",
       "  'subesophageal ganglion': 'MESH:D045888',\n",
       "  'subgenomic': 'ungrounded',\n",
       "  'substantia gelatinosa': 'MESH:D013376',\n",
       "  'subtotal gastrectomy': 'MESH:D005743',\n",
       "  'suicide gene': 'MESH:D041722',\n",
       "  'sulfated galactans': 'CHEBI:CHEBI:37165',\n",
       "  'sun ginseng': 'MESH:D005894',\n",
       "  'sweat gland': 'MESH:D013545',\n",
       "  'sweat glands': 'MESH:D013545',\n",
       "  'switchgrass': 'ungrounded',\n",
       "  'sybr green i': 'CHEBI:CHEBI:51461',\n",
       "  'sympathetic ganglia': 'MESH:D005728',\n",
       "  'sytox green': 'MESH:C402795'},\n",
       " {'MESH:D012469': 'Salivary Glands',\n",
       "  'Taxonomy:594': 'Salmonella enterica subsp. enterica serovar Gallinarum',\n",
       "  'CHEBI:CHEBI:17183': 'sanguinarine',\n",
       "  'FPLX:Sarcoglycan_complex': 'Sarcoglycan_complex',\n",
       "  'MESH:C577249': 'sargachromanol G',\n",
       "  'MESH:C028268': 'satratoxin G',\n",
       "  'MESH:D012627': 'Sebaceous Glands',\n",
       "  'GO:GO:0030141': 'secretory granule',\n",
       "  'HGNC:9361': 'SRGN',\n",
       "  'CHEBI:CHEBI:24278': 'glucoside',\n",
       "  'CHEBI:CHEBI:40237': 'sitagliptin',\n",
       "  'MESH:D016038': 'Skin Transplantation',\n",
       "  'MESH:D005743': 'Gastrectomy',\n",
       "  'CHEBI:CHEBI:50209': 'sophoraflavanone G',\n",
       "  'MESH:D013136': 'Spiral Ganglion',\n",
       "  'CHEBI:CHEBI:36973': 'graphene',\n",
       "  'MESH:D013233': 'Stellate Ganglion',\n",
       "  'CHEBI:CHEBI:145027': 'steviol glycoside',\n",
       "  'NCIT:C33627': 'Stratum Granulosum',\n",
       "  'GO:GO:0010494': 'cytoplasmic stress granule',\n",
       "  'MESH:D045888': 'Ganglion Cysts',\n",
       "  'MESH:D013376': 'Substantia Gelatinosa',\n",
       "  'MESH:D041722': 'Genes, Transgenic, Suicide',\n",
       "  'CHEBI:CHEBI:37165': 'galactan',\n",
       "  'MESH:D005894': 'Panax',\n",
       "  'MESH:D013545': 'Sweat Glands',\n",
       "  'CHEBI:CHEBI:51461': 'SYBR Green I',\n",
       "  'MESH:D005728': 'Ganglia, Sympathetic',\n",
       "  'MESH:C402795': 'SYTOX Green'},\n",
       " ['FPLX:Sarcoglycan_complex',\n",
       "  'GO:GO:0010494',\n",
       "  'GO:GO:0030141',\n",
       "  'MESH:D005894',\n",
       "  'MESH:D012469',\n",
       "  'MESH:D012627',\n",
       "  'MESH:D013136',\n",
       "  'MESH:D013376']]"
      ]
     },
     "execution_count": 8,
     "metadata": {},
     "output_type": "execute_result"
    }
   ],
   "source": [
    "result"
   ]
  },
  {
   "cell_type": "code",
   "execution_count": 26,
   "metadata": {},
   "outputs": [],
   "source": [
    "grounding_map, names, pos_labels = [{'salivary gland': 'MESH:D012469',\n",
    "  'salmonella gallinarum': 'TAXONOMY:594',\n",
    "  'sangiovese': 'ungrounded',\n",
    "  'sanguinarine': 'CHEBI:CHEBI:17183',\n",
    "  'sarcodiotheca gaudichaudii': 'ungrounded',\n",
    "  'sarcoglycan': 'FPLX:Sarcoglycan_complex',\n",
    "  'sarcoglycans': 'FPLX:Sarcoglycan_complex',\n",
    "  'sargachromanol g': 'MESH:C577249',\n",
    "  'satratoxin g': 'MESH:C028268',\n",
    "  'savitzky golay': 'ungrounded',\n",
    "  'schistosome generated': 'ungrounded',\n",
    "  'sebaceous gland': 'MESH:D012627',\n",
    "  'secretory granule': 'GO:GO:0030141',\n",
    "  'serglycin': 'HGNC:9361',\n",
    "  'serious games': 'ungrounded',\n",
    "  'serovar gallinarum': 'ungrounded',\n",
    "  'sesaminol glucosides': 'CHEBI:CHEBI:24278',\n",
    "  'sesbania gum': 'ungrounded',\n",
    "  'shenzhuguanxin granule': 'ungrounded',\n",
    "  'siegesbeckia glabrescens': 'ungrounded',\n",
    "  'sinus gland': 'ungrounded',\n",
    "  'sitagliptin': 'CHEBI:CHEBI:40237',\n",
    "  'skin grafting': 'MESH:D016038',\n",
    "  'sleeve gastrectomy': 'MESH:D005743',\n",
    "  'slow gamma': 'ungrounded',\n",
    "  'sophoraflavanone g': 'CHEBI:CHEBI:50209',\n",
    "  'sorafenib β d glucuronide': 'ungrounded',\n",
    "  'spiral ganglion': 'MESH:D013136',\n",
    "  'spring germination': 'ungrounded',\n",
    "  'stacked graphene': 'CHEBI:CHEBI:36973',\n",
    "  'standard gamble': 'ungrounded',\n",
    "  'standard germination': 'ungrounded',\n",
    "  'starch grains': 'ungrounded',\n",
    "  'stellate ganglia': 'MESH:D013233',\n",
    "  'stellate ganglion': 'MESH:D013233',\n",
    "  'steryl glucosides': 'ungrounded',\n",
    "  'sterylglucosides': 'ungrounded',\n",
    "  'steviol glycosides': 'CHEBI:CHEBI:145027',\n",
    "  'stratum granulosum': 'NCIT:C33627',\n",
    "  'stress granule': 'GO:GO:0010494',\n",
    "  'stress granules': 'GO:GO:0010494',\n",
    "  'striae gravidarum': 'ungrounded',\n",
    "  'structural genetic': 'ungrounded',\n",
    "  'structural genomic': 'ungrounded',\n",
    "  'subesophageal ganglion': 'MESH:D045888',\n",
    "  'subgenomic': 'ungrounded',\n",
    "  'substantia gelatinosa': 'MESH:D013376',\n",
    "  'subtotal gastrectomy': 'MESH:D005743',\n",
    "  'suicide gene': 'MESH:D041722',\n",
    "  'sulfated galactans': 'CHEBI:CHEBI:37165',\n",
    "  'sun ginseng': 'MESH:D005894',\n",
    "  'sweat gland': 'MESH:D013545',\n",
    "  'sweat glands': 'MESH:D013545',\n",
    "  'switchgrass': 'ungrounded',\n",
    "  'sybr green i': 'CHEBI:CHEBI:51461',\n",
    "  'sympathetic ganglia': 'MESH:D005728',\n",
    "  'sytox green': 'MESH:C402795'},\n",
    " {'MESH:D012469': 'Salivary Glands',\n",
    "  'TAXONOMY:594': 'Salmonella enterica subsp. enterica serovar Gallinarum',\n",
    "  'CHEBI:CHEBI:17183': 'sanguinarine',\n",
    "  'FPLX:Sarcoglycan_complex': 'Sarcoglycan_complex',\n",
    "  'MESH:C577249': 'sargachromanol G',\n",
    "  'MESH:C028268': 'satratoxin G',\n",
    "  'MESH:D012627': 'Sebaceous Glands',\n",
    "  'GO:GO:0030141': 'secretory granule',\n",
    "  'HGNC:9361': 'SRGN',\n",
    "  'CHEBI:CHEBI:24278': 'glucoside',\n",
    "  'CHEBI:CHEBI:40237': 'sitagliptin',\n",
    "  'MESH:D016038': 'Skin Transplantation',\n",
    "  'MESH:D005743': 'Gastrectomy',\n",
    "  'CHEBI:CHEBI:50209': 'sophoraflavanone G',\n",
    "  'MESH:D013136': 'Spiral Ganglion',\n",
    "  'CHEBI:CHEBI:36973': 'graphene',\n",
    "  'MESH:D013233': 'Stellate Ganglion',\n",
    "  'CHEBI:CHEBI:145027': 'steviol glycoside',\n",
    "  'NCIT:C33627': 'Stratum Granulosum',\n",
    "  'GO:GO:0010494': 'cytoplasmic stress granule',\n",
    "  'MESH:D045888': 'Ganglion Cysts',\n",
    "  'MESH:D013376': 'Substantia Gelatinosa',\n",
    "  'MESH:D041722': 'Genes, Transgenic, Suicide',\n",
    "  'CHEBI:CHEBI:37165': 'galactan',\n",
    "  'MESH:D005894': 'Panax',\n",
    "  'MESH:D013545': 'Sweat Glands',\n",
    "  'CHEBI:CHEBI:51461': 'SYBR Green I',\n",
    "  'MESH:D005728': 'Ganglia, Sympathetic',\n",
    "  'MESH:C402795': 'SYTOX Green'},\n",
    " ['FPLX:Sarcoglycan_complex',\n",
    "  'GO:GO:0010494',\n",
    "  'GO:GO:0030141',\n",
    "  'MESH:C028268',\n",
    "  'MESH:D005743',\n",
    "  'MESH:D005894',\n",
    "  'MESH:D012469',\n",
    "  'MESH:D012627',\n",
    "  'MESH:D013136',\n",
    "  'MESH:D013376',\n",
    "  'MESH:D013233',\n",
    "  'MESH:D013545',\n",
    "  'TAXONOMY:594',\n",
    "  'NCIT:C33627']]"
   ]
  },
  {
   "cell_type": "code",
   "execution_count": 10,
   "metadata": {},
   "outputs": [],
   "source": [
    "excluded_longforms = []"
   ]
  },
  {
   "cell_type": "code",
   "execution_count": 27,
   "metadata": {},
   "outputs": [],
   "source": [
    "grounding_dict = {shortform: {longform: grounding_map[longform] \n",
    "                              for longform, _, _ in longforms if longform in grounding_map\n",
    "                              and longform not in excluded_longforms}\n",
    "                  for shortform, longforms in longform_dict.items()}\n",
    "result = [grounding_dict, names, pos_labels]\n",
    "\n",
    "if not os.path.exists(results_path):\n",
    "    os.mkdir(results_path)\n",
    "with open(os.path.join(results_path, f'{model_name}_preliminary_grounding_info.json'), 'w') as f:\n",
    "    json.dump(result, f)"
   ]
  },
  {
   "cell_type": "code",
   "execution_count": 12,
   "metadata": {},
   "outputs": [],
   "source": [
    "additional_entities = {}"
   ]
  },
  {
   "cell_type": "code",
   "execution_count": 13,
   "metadata": {},
   "outputs": [],
   "source": [
    "unambiguous_agent_texts = {}"
   ]
  },
  {
   "cell_type": "code",
   "execution_count": 28,
   "metadata": {},
   "outputs": [],
   "source": [
    "labeler = AdeftLabeler(grounding_dict)\n",
    "corpus = labeler.build_from_texts((text, pmid) for pmid, text in all_texts.items())\n",
    "agent_text_pmid_map = defaultdict(list)\n",
    "for text, label, id_ in corpus:\n",
    "    agent_text_pmid_map[label].append(id_)\n",
    "\n",
    "entity_pmid_map = {entity: set(get_pmids_for_entity(*entity.split(':', maxsplit=1),\n",
    "                                                major_topic=True))for entity in additional_entities}"
   ]
  },
  {
   "cell_type": "code",
   "execution_count": 15,
   "metadata": {},
   "outputs": [],
   "source": [
    "intersection1 = []\n",
    "for entity1, pmids1 in entity_pmid_map.items():\n",
    "    for entity2, pmids2 in entity_pmid_map.items():\n",
    "        intersection1.append((entity1, entity2, len(pmids1 & pmids2)))"
   ]
  },
  {
   "cell_type": "code",
   "execution_count": 16,
   "metadata": {},
   "outputs": [],
   "source": [
    "intersection2 = []\n",
    "for entity1, pmids1 in agent_text_pmid_map.items():\n",
    "    for entity2, pmids2 in entity_pmid_map.items():\n",
    "        intersection2.append((entity1, entity2, len(set(pmids1) & pmids2)))"
   ]
  },
  {
   "cell_type": "code",
   "execution_count": 17,
   "metadata": {},
   "outputs": [
    {
     "data": {
      "text/plain": [
       "[('HGNC:17981', 'HGNC:17981', 29)]"
      ]
     },
     "execution_count": 17,
     "metadata": {},
     "output_type": "execute_result"
    }
   ],
   "source": [
    "intersection1"
   ]
  },
  {
   "cell_type": "code",
   "execution_count": 18,
   "metadata": {},
   "outputs": [
    {
     "data": {
      "text/plain": [
       "[('ungrounded', 'HGNC:17981', 0)]"
      ]
     },
     "execution_count": 18,
     "metadata": {},
     "output_type": "execute_result"
    }
   ],
   "source": [
    "intersection2"
   ]
  },
  {
   "cell_type": "code",
   "execution_count": null,
   "metadata": {},
   "outputs": [],
   "source": []
  },
  {
   "cell_type": "code",
   "execution_count": 20,
   "metadata": {},
   "outputs": [],
   "source": [
    "all_used_pmids = set()\n",
    "for entity, agent_texts in unambiguous_agent_texts.items():\n",
    "    used_pmids = set()\n",
    "    for agent_text in agent_texts:\n",
    "        pmids = set(get_pmids_for_agent_text(agent_text))\n",
    "        new_pmids = list(pmids - all_texts.keys() - used_pmids)\n",
    "        text_dict = get_plaintexts_for_pmids(new_pmids, contains=agent_texts)\n",
    "        corpus.extend([(text, entity, pmid) for pmid, text in text_dict.items()])\n",
    "        used_pmids.update(new_pmids)\n",
    "    all_used_pmids.update(used_pmids)\n",
    "        \n",
    "for entity, pmids in entity_pmid_map.items():\n",
    "    new_pmids = list(set(pmids) - all_texts.keys() - all_used_pmids)\n",
    "    if len(new_pmids) > 10000:\n",
    "        new_pmids = random.choices(new_pmids, k=10000)\n",
    "    text_dict = get_plaintexts_for_pmids(new_pmids, contains=['RTCA', 'RTCD1', 'RPC', 'RTC1', 'RTC'])\n",
    "    corpus.extend([(text, entity, pmid) for pmid, text in text_dict.items()])"
   ]
  },
  {
   "cell_type": "code",
   "execution_count": null,
   "metadata": {},
   "outputs": [],
   "source": [
    "names.update(additional_entitie)"
   ]
  },
  {
   "cell_type": "code",
   "execution_count": 29,
   "metadata": {},
   "outputs": [
    {
     "name": "stderr",
     "output_type": "stream",
     "text": [
      "INFO: [2020-10-09 03:47:53] /adeft/PythonRepos/adeft/adeft/modeling/classify.py - Beginning grid search in parameter space:\n",
      "{'C': [100.0], 'max_features': [10000]}\n",
      "INFO: [2020-10-09 03:48:34] /adeft/PythonRepos/adeft/adeft/modeling/classify.py - Best f1 score of 0.9349396104362497 found for parameter values:\n",
      "{'logit__C': 100.0, 'tfidf__max_features': 10000}\n"
     ]
    }
   ],
   "source": [
    "%%capture\n",
    "\n",
    "classifier = AdeftClassifier(shortforms, pos_labels=pos_labels, random_state=1729)\n",
    "param_grid = {'C': [100.0], 'max_features': [10000]}\n",
    "texts, labels, pmids = zip(*corpus)\n",
    "classifier.cv(texts, labels, param_grid, cv=5, n_jobs=5)"
   ]
  },
  {
   "cell_type": "code",
   "execution_count": 21,
   "metadata": {
    "scrolled": true
   },
   "outputs": [
    {
     "data": {
      "text/plain": [
       "{'label_distribution': {'ungrounded': 59,\n",
       "  'MESH:D013545': 10,\n",
       "  'GO:GO:0030141': 21,\n",
       "  'MESH:D045888': 2,\n",
       "  'MESH:D012627': 24,\n",
       "  'MESH:D013376': 48,\n",
       "  'MESH:D013233': 20,\n",
       "  'MESH:D016038': 2,\n",
       "  'MESH:D012469': 73,\n",
       "  'FPLX:Sarcoglycan_complex': 15,\n",
       "  'MESH:D005743': 90,\n",
       "  'MESH:D013136': 28,\n",
       "  'HGNC:9361': 3,\n",
       "  'MESH:C028268': 11,\n",
       "  'GO:GO:0010494': 426,\n",
       "  'CHEBI:CHEBI:51461': 6,\n",
       "  'Taxonomy:594': 8,\n",
       "  'CHEBI:CHEBI:24278': 3,\n",
       "  'MESH:D005894': 10,\n",
       "  'NCIT:C33627': 8,\n",
       "  'MESH:C402795': 3,\n",
       "  'MESH:D005728': 2,\n",
       "  'MESH:D041722': 2,\n",
       "  'MESH:C577249': 3,\n",
       "  'CHEBI:CHEBI:17183': 4,\n",
       "  'CHEBI:CHEBI:37165': 5,\n",
       "  'CHEBI:CHEBI:145027': 9,\n",
       "  'CHEBI:CHEBI:50209': 5,\n",
       "  'CHEBI:CHEBI:36973': 1,\n",
       "  'CHEBI:CHEBI:40237': 2},\n",
       " 'f1': {'mean': 0.936376, 'std': 0.007423},\n",
       " 'precision': {'mean': 0.928634, 'std': 0.00314},\n",
       " 'recall': {'mean': 0.957904, 'std': 0.009549},\n",
       " 'MESH:D013136': {'f1': {'mean': 0.95, 'std': 0.1},\n",
       "  'pr': {'mean': 0.92, 'std': 0.16},\n",
       "  'rc': {'mean': 1.0, 'std': 0.0}},\n",
       " 'MESH:D041722': {'f1': {'mean': 0.0, 'std': 0.0},\n",
       "  'pr': {'mean': 0.0, 'std': 0.0},\n",
       "  'rc': {'mean': 0.0, 'std': 0.0}},\n",
       " 'ungrounded': {'f1': {'mean': 0.793064, 'std': 0.114473},\n",
       "  'pr': {'mean': 0.793939, 'std': 0.094791},\n",
       "  'rc': {'mean': 0.79947, 'std': 0.144096}},\n",
       " 'MESH:D005728': {'f1': {'mean': 0.0, 'std': 0.0},\n",
       "  'pr': {'mean': 0.0, 'std': 0.0},\n",
       "  'rc': {'mean': 0.0, 'std': 0.0}},\n",
       " 'CHEBI:CHEBI:40237': {'f1': {'mean': 0.0, 'std': 0.0},\n",
       "  'pr': {'mean': 0.0, 'std': 0.0},\n",
       "  'rc': {'mean': 0.0, 'std': 0.0}},\n",
       " 'NCIT:C33627': {'f1': {'mean': 0.8, 'std': 0.163299},\n",
       "  'pr': {'mean': 0.8, 'std': 0.244949},\n",
       "  'rc': {'mean': 0.9, 'std': 0.2}},\n",
       " 'HGNC:9361': {'f1': {'mean': 0.0, 'std': 0.0},\n",
       "  'pr': {'mean': 0.0, 'std': 0.0},\n",
       "  'rc': {'mean': 0.0, 'std': 0.0}},\n",
       " 'MESH:D045888': {'f1': {'mean': 0.0, 'std': 0.0},\n",
       "  'pr': {'mean': 0.0, 'std': 0.0},\n",
       "  'rc': {'mean': 0.0, 'std': 0.0}},\n",
       " 'MESH:D005894': {'f1': {'mean': 0.733333, 'std': 0.133333},\n",
       "  'pr': {'mean': 0.6, 'std': 0.2},\n",
       "  'rc': {'mean': 1.0, 'std': 0.0}},\n",
       " 'CHEBI:CHEBI:36973': {'f1': {'mean': 0.0, 'std': 0.0},\n",
       "  'pr': {'mean': 0.0, 'std': 0.0},\n",
       "  'rc': {'mean': 0.0, 'std': 0.0}},\n",
       " 'CHEBI:CHEBI:17183': {'f1': {'mean': 0.0, 'std': 0.0},\n",
       "  'pr': {'mean': 0.0, 'std': 0.0},\n",
       "  'rc': {'mean': 0.0, 'std': 0.0}},\n",
       " 'Taxonomy:594': {'f1': {'mean': 0.833333, 'std': 0.210819},\n",
       "  'pr': {'mean': 0.8, 'std': 0.244949},\n",
       "  'rc': {'mean': 0.9, 'std': 0.2}},\n",
       " 'MESH:D005743': {'f1': {'mean': 0.962978, 'std': 0.03137},\n",
       "  'pr': {'mean': 0.988889, 'std': 0.022222},\n",
       "  'rc': {'mean': 0.940317, 'std': 0.056008}},\n",
       " 'MESH:C402795': {'f1': {'mean': 0.6, 'std': 0.489898},\n",
       "  'pr': {'mean': 0.6, 'std': 0.489898},\n",
       "  'rc': {'mean': 0.6, 'std': 0.489898}},\n",
       " 'GO:GO:0010494': {'f1': {'mean': 0.9582, 'std': 0.006695},\n",
       "  'pr': {'mean': 0.995294, 'std': 0.009412},\n",
       "  'rc': {'mean': 0.923933, 'std': 0.012502}},\n",
       " 'CHEBI:CHEBI:37165': {'f1': {'mean': 0.4, 'std': 0.489898},\n",
       "  'pr': {'mean': 0.4, 'std': 0.489898},\n",
       "  'rc': {'mean': 0.4, 'std': 0.489898}},\n",
       " 'MESH:C028268': {'f1': {'mean': 0.893333, 'std': 0.137275},\n",
       "  'pr': {'mean': 0.9, 'std': 0.2},\n",
       "  'rc': {'mean': 0.933333, 'std': 0.133333}},\n",
       " 'CHEBI:CHEBI:145027': {'f1': {'mean': 0.666667, 'std': 0.365148},\n",
       "  'pr': {'mean': 0.6, 'std': 0.374166},\n",
       "  'rc': {'mean': 0.8, 'std': 0.4}},\n",
       " 'MESH:D012469': {'f1': {'mean': 0.896227, 'std': 0.037686},\n",
       "  'pr': {'mean': 0.944762, 'std': 0.027701},\n",
       "  'rc': {'mean': 0.855441, 'std': 0.067379}},\n",
       " 'CHEBI:CHEBI:24278': {'f1': {'mean': 0.0, 'std': 0.0},\n",
       "  'pr': {'mean': 0.0, 'std': 0.0},\n",
       "  'rc': {'mean': 0.0, 'std': 0.0}},\n",
       " 'MESH:C577249': {'f1': {'mean': 0.6, 'std': 0.489898},\n",
       "  'pr': {'mean': 0.6, 'std': 0.489898},\n",
       "  'rc': {'mean': 0.6, 'std': 0.489898}},\n",
       " 'MESH:D012627': {'f1': {'mean': 0.893333, 'std': 0.063479},\n",
       "  'pr': {'mean': 0.88, 'std': 0.09798},\n",
       "  'rc': {'mean': 0.92, 'std': 0.09798}},\n",
       " 'MESH:D013233': {'f1': {'mean': 0.807619, 'std': 0.073869},\n",
       "  'pr': {'mean': 0.75, 'std': 0.158114},\n",
       "  'rc': {'mean': 0.933333, 'std': 0.133333}},\n",
       " 'MESH:D016038': {'f1': {'mean': 0.0, 'std': 0.0},\n",
       "  'pr': {'mean': 0.0, 'std': 0.0},\n",
       "  'rc': {'mean': 0.0, 'std': 0.0}},\n",
       " 'MESH:D013545': {'f1': {'mean': 0.933333, 'std': 0.133333},\n",
       "  'pr': {'mean': 0.9, 'std': 0.2},\n",
       "  'rc': {'mean': 1.0, 'std': 0.0}},\n",
       " 'CHEBI:CHEBI:50209': {'f1': {'mean': 0.0, 'std': 0.0},\n",
       "  'pr': {'mean': 0.0, 'std': 0.0},\n",
       "  'rc': {'mean': 0.0, 'std': 0.0}},\n",
       " 'MESH:D013376': {'f1': {'mean': 0.969424, 'std': 0.025033},\n",
       "  'pr': {'mean': 1.0, 'std': 0.0},\n",
       "  'rc': {'mean': 0.941818, 'std': 0.047621}},\n",
       " 'FPLX:Sarcoglycan_complex': {'f1': {'mean': 0.971429, 'std': 0.057143},\n",
       "  'pr': {'mean': 1.0, 'std': 0.0},\n",
       "  'rc': {'mean': 0.95, 'std': 0.1}},\n",
       " 'GO:GO:0030141': {'f1': {'mean': 0.737143, 'std': 0.218641},\n",
       "  'pr': {'mean': 0.63, 'std': 0.269444},\n",
       "  'rc': {'mean': 1.0, 'std': 0.0}},\n",
       " 'CHEBI:CHEBI:51461': {'f1': {'mean': 0.666667, 'std': 0.365148},\n",
       "  'pr': {'mean': 0.7, 'std': 0.4},\n",
       "  'rc': {'mean': 0.7, 'std': 0.4}}}"
      ]
     },
     "execution_count": 21,
     "metadata": {},
     "output_type": "execute_result"
    }
   ],
   "source": [
    "classifier.stats"
   ]
  },
  {
   "cell_type": "code",
   "execution_count": 30,
   "metadata": {},
   "outputs": [],
   "source": [
    "disamb = AdeftDisambiguator(classifier, grounding_dict, names)"
   ]
  },
  {
   "cell_type": "code",
   "execution_count": 32,
   "metadata": {},
   "outputs": [],
   "source": [
    "disamb.dump(model_name, results_path)"
   ]
  },
  {
   "cell_type": "code",
   "execution_count": 31,
   "metadata": {},
   "outputs": [
    {
     "name": "stdout",
     "output_type": "stream",
     "text": [
      "Disambiguation model for SG, and SGs\n",
      "\n",
      "Produces the disambiguations:\n",
      "\tGanglia, Sympathetic\tMESH:D005728\n",
      "\tGanglion Cysts\tMESH:D045888\n",
      "\tGastrectomy*\tMESH:D005743\n",
      "\tGenes, Transgenic, Suicide\tMESH:D041722\n",
      "\tPanax*\tMESH:D005894\n",
      "\tSRGN\tHGNC:9361\n",
      "\tSYBR Green I\tCHEBI:CHEBI:51461\n",
      "\tSYTOX Green\tMESH:C402795\n",
      "\tSalivary Glands*\tMESH:D012469\n",
      "\tSalmonella enterica subsp. enterica serovar Gallinarum*\tTAXONOMY:594\n",
      "\tSarcoglycan_complex*\tFPLX:Sarcoglycan_complex\n",
      "\tSebaceous Glands*\tMESH:D012627\n",
      "\tSkin Transplantation\tMESH:D016038\n",
      "\tSpiral Ganglion*\tMESH:D013136\n",
      "\tStellate Ganglion*\tMESH:D013233\n",
      "\tStratum Granulosum*\tNCIT:C33627\n",
      "\tSubstantia Gelatinosa*\tMESH:D013376\n",
      "\tSweat Glands*\tMESH:D013545\n",
      "\tcytoplasmic stress granule*\tGO:GO:0010494\n",
      "\tgalactan\tCHEBI:CHEBI:37165\n",
      "\tglucoside\tCHEBI:CHEBI:24278\n",
      "\tgraphene\tCHEBI:CHEBI:36973\n",
      "\tsanguinarine\tCHEBI:CHEBI:17183\n",
      "\tsargachromanol G\tMESH:C577249\n",
      "\tsatratoxin G*\tMESH:C028268\n",
      "\tsecretory granule*\tGO:GO:0030141\n",
      "\tsitagliptin\tCHEBI:CHEBI:40237\n",
      "\tsophoraflavanone G\tCHEBI:CHEBI:50209\n",
      "\tsteviol glycoside\tCHEBI:CHEBI:145027\n",
      "\n",
      "Class level metrics:\n",
      "--------------------\n",
      "Grounding                                             \tCount\tF1     \n",
      "                            cytoplasmic stress granule*\t426\t 0.9582\n",
      "                                           Gastrectomy*\t 90\t0.96298\n",
      "                                       Salivary Glands*\t 73\t0.89623\n",
      "                                            Ungrounded\t 59\t0.79306\n",
      "                                 Substantia Gelatinosa*\t 48\t0.96942\n",
      "                                       Spiral Ganglion*\t 28\t   0.95\n",
      "                                      Sebaceous Glands*\t 24\t0.89333\n",
      "                                     secretory granule*\t 21\t0.73714\n",
      "                                     Stellate Ganglion*\t 20\t0.80762\n",
      "                                   Sarcoglycan_complex*\t 15\t0.97143\n",
      "                                          satratoxin G*\t 11\t0.89333\n",
      "                                          Sweat Glands*\t 10\t0.93333\n",
      "                                                 Panax*\t 10\t0.73333\n",
      "                                     steviol glycoside\t  9\t0.66667\n",
      "Salmonella enterica subsp. enterica serovar Gallinarum*\t  8\t0.83333\n",
      "                                    Stratum Granulosum*\t  8\t    0.8\n",
      "                                          SYBR Green I\t  6\t0.66667\n",
      "                                              galactan\t  5\t    0.4\n",
      "                                    sophoraflavanone G\t  5\t    0.0\n",
      "                                          sanguinarine\t  4\t    0.0\n",
      "                                                  SRGN\t  3\t    0.0\n",
      "                                             glucoside\t  3\t    0.0\n",
      "                                           SYTOX Green\t  3\t    0.6\n",
      "                                      sargachromanol G\t  3\t    0.6\n",
      "                                        Ganglion Cysts\t  2\t    0.0\n",
      "                                  Skin Transplantation\t  2\t    0.0\n",
      "                                  Ganglia, Sympathetic\t  2\t    0.0\n",
      "                            Genes, Transgenic, Suicide\t  2\t    0.0\n",
      "                                           sitagliptin\t  2\t    0.0\n",
      "                                              graphene\t  1\t    0.0\n",
      "\n",
      "Weighted Metrics:\n",
      "-----------------\n",
      "\tF1 score:\t0.93494\n",
      "\tPrecision:\t0.9281\n",
      "\tRecall:\t\t0.95584\n",
      "\n",
      "* Positive labels\n",
      "See Docstring for explanation\n",
      "\n"
     ]
    }
   ],
   "source": [
    "print(disamb.info())"
   ]
  },
  {
   "cell_type": "code",
   "execution_count": 29,
   "metadata": {},
   "outputs": [],
   "source": [
    "model_to_s3(disamb)"
   ]
  },
  {
   "cell_type": "code",
   "execution_count": null,
   "metadata": {},
   "outputs": [],
   "source": []
  }
 ],
 "metadata": {
  "kernelspec": {
   "display_name": "Python 3",
   "language": "python",
   "name": "python3"
  },
  "language_info": {
   "codemirror_mode": {
    "name": "ipython",
    "version": 3
   },
   "file_extension": ".py",
   "mimetype": "text/x-python",
   "name": "python",
   "nbconvert_exporter": "python",
   "pygments_lexer": "ipython3",
   "version": "3.8.4"
  }
 },
 "nbformat": 4,
 "nbformat_minor": 2
}
