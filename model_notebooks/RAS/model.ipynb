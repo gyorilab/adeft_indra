{
 "cells": [
  {
   "cell_type": "code",
   "execution_count": 1,
   "metadata": {},
   "outputs": [],
   "source": [
    "import os\n",
    "import json\n",
    "import pickle\n",
    "import random\n",
    "from collections import defaultdict, Counter\n",
    "\n",
    "from indra.literature.adeft_tools import universal_extract_text\n",
    "from indra.databases.hgnc_client import get_hgnc_name, get_hgnc_id\n",
    "\n",
    "from adeft.discover import AdeftMiner\n",
    "from adeft.gui import ground_with_gui\n",
    "from adeft.modeling.label import AdeftLabeler\n",
    "from adeft.modeling.classify import AdeftClassifier\n",
    "from adeft.disambiguate import AdeftDisambiguator, load_disambiguator\n",
    "\n",
    "\n",
    "from adeft_indra.ground.ground import AdeftGrounder\n",
    "from adeft_indra.model_building.s3 import model_to_s3\n",
    "from adeft_indra.model_building.escape import escape_filename\n",
    "from adeft_indra.db.content import get_pmids_for_agent_text, get_pmids_for_entity, \\\n",
    "    get_plaintexts_for_pmids"
   ]
  },
  {
   "cell_type": "code",
   "execution_count": 2,
   "metadata": {},
   "outputs": [],
   "source": [
    "adeft_grounder = AdeftGrounder()"
   ]
  },
  {
   "cell_type": "code",
   "execution_count": 3,
   "metadata": {},
   "outputs": [],
   "source": [
    "shortforms = ['RAS']\n",
    "model_name = ':'.join(sorted(escape_filename(shortform) for shortform in shortforms))\n",
    "results_path = os.path.abspath(os.path.join('../..', 'results', model_name))"
   ]
  },
  {
   "cell_type": "code",
   "execution_count": null,
   "metadata": {},
   "outputs": [],
   "source": [
    "miners = dict()\n",
    "all_texts = {}\n",
    "for shortform in shortforms:\n",
    "    pmids = get_pmids_for_agent_text(shortform)\n",
    "    if len(pmids) > 10000:\n",
    "        pmids = random.choices(pmids, k=10000)\n",
    "    text_dict = get_plaintexts_for_pmids(pmids, contains=shortforms)\n",
    "    text_dict = {pmid: text for pmid, text in text_dict.items() if len(text) > 5}\n",
    "    miners[shortform] = AdeftMiner(shortform)\n",
    "    miners[shortform].process_texts(text_dict.values())\n",
    "    all_texts.update(text_dict)\n",
    "\n",
    "longform_dict = {}\n",
    "for shortform in shortforms:\n",
    "    longforms = miners[shortform].get_longforms()\n",
    "    longforms = [(longform, count, score) for longform, count, score in longforms\n",
    "                 if count*score > 2]\n",
    "    longform_dict[shortform] = longforms\n",
    "    \n",
    "combined_longforms = Counter()\n",
    "for longform_rows in longform_dict.values():\n",
    "    combined_longforms.update({longform: count for longform, count, score\n",
    "                               in longform_rows})\n",
    "grounding_map = {}\n",
    "names = {}\n",
    "for longform in combined_longforms:\n",
    "    groundings = adeft_grounder.ground(longform)\n",
    "    if groundings:\n",
    "        grounding = groundings[0]['grounding']\n",
    "        grounding_map[longform] = grounding\n",
    "        names[grounding] = groundings[0]['name']\n",
    "longforms, counts = zip(*combined_longforms.most_common())\n",
    "pos_labels = []"
   ]
  },
  {
   "cell_type": "code",
   "execution_count": null,
   "metadata": {},
   "outputs": [],
   "source": [
    "list(zip(longforms, counts))"
   ]
  },
  {
   "cell_type": "code",
   "execution_count": 6,
   "metadata": {},
   "outputs": [
    {
     "name": "stderr",
     "output_type": "stream",
     "text": [
      "INFO: [2020-09-25 14:47:31] indra.ontology.bio.ontology - Loading INDRA bio ontology from cache at /home/ubuntu/.indra/bio_ontology/1.2/bio_ontology.pkl\n"
     ]
    }
   ],
   "source": [
    "grounding_map, names, pos_labels = ground_with_gui(longforms, counts, \n",
    "                                                   grounding_map=grounding_map,\n",
    "                                                   names=names, pos_labels=pos_labels, no_browser=True, port=8890)"
   ]
  },
  {
   "cell_type": "code",
   "execution_count": 7,
   "metadata": {},
   "outputs": [],
   "source": [
    "result = [grounding_map, names, pos_labels]"
   ]
  },
  {
   "cell_type": "code",
   "execution_count": 8,
   "metadata": {},
   "outputs": [
    {
     "data": {
      "text/plain": [
       "[{'benzaldehyde lyase': 'MESH:C059416',\n",
       "  'betaine aldehyde': 'CHEBI:CHEBI:15710',\n",
       "  'bile salt activity lipase': 'HGNC:1848',\n",
       "  'bioartificial liver': 'MESH:D019164',\n",
       "  'blood alcohol levels': 'ungrounded',\n",
       "  'breath alcohol levels': 'ungrounded',\n",
       "  'british anti lewisite': 'CHEBI:CHEBI:64198',\n",
       "  'brochoalveolar lavage': 'MESH:D018893',\n",
       "  'bronchalveolar lavage': 'MESH:D018893',\n",
       "  'bronchial alveolar lavage': 'MESH:D018893',\n",
       "  'bronchial lavage': 'MESH:D018893',\n",
       "  'bronchio alveolar lavage': 'MESH:D018893',\n",
       "  'bronchiolar lavage': 'MESH:D018893',\n",
       "  'broncho alveolar lavage': 'MESH:D018893',\n",
       "  'bronchoalveolar': 'MESH:D018893',\n",
       "  'bronchoalveolar fluid': 'MESH:D018893',\n",
       "  'bronchoalveolar larvage': 'MESH:D018893',\n",
       "  'bronchoalveolar lavage': 'MESH:D018893'},\n",
       " {'MESH:C059416': 'benzaldehyde lyase',\n",
       "  'CHEBI:CHEBI:15710': 'betaine aldehyde',\n",
       "  'HGNC:1848': 'CEL',\n",
       "  'MESH:D019164': 'Liver, Artificial',\n",
       "  'CHEBI:CHEBI:64198': 'dimercaprol',\n",
       "  'MESH:D018893': 'Bronchoalveolar Lavage'},\n",
       " ['HGNC:1848', 'MESH:D018893']]"
      ]
     },
     "execution_count": 8,
     "metadata": {},
     "output_type": "execute_result"
    }
   ],
   "source": [
    "result"
   ]
  },
  {
   "cell_type": "code",
   "execution_count": null,
   "metadata": {},
   "outputs": [],
   "source": [
    "grounding_map, names, pos_labels = ({'radial artery spasm': 'ungrounded',\n",
    "  'radiation attenuated plasmodium sporozoites': 'MESH:D034101',\n",
    "  'radiation attenuated sporozoites': 'MESH:D034101',\n",
    "  'radix angelica sinensis': 'MESH:D029971',\n",
    "  'ras': 'FPLX:RAS',\n",
    "  'ras alone': 'FPLX:RAS',\n",
    "  'ras g12v': 'FPLX:RAS',\n",
    "  'rasv12': 'FPLX:RAS',\n",
    "  'rat sarcoma': 'FPLX:RAS',\n",
    "  'rat sarcoma oncogene': 'FPLX:RAS',\n",
    "  'rat sarcoma viral oncogene': 'FPLX:RAS',\n",
    "  'rat sarcoma virus': 'FPLX:RAS',\n",
    "  'recirculating aquaculture system': 'ungrounded',\n",
    "  'recurrent aphthous stomatitis': 'MESH:D013281',\n",
    "  'reflectance anisotropy spectroscopy': 'ungrounded',\n",
    "  'regulatory activation score': 'ungrounded',\n",
    "  'related allele signaling': 'ungrounded',\n",
    "  'renal artery stenosis': 'ungrounded',\n",
    "  'renin ang system': 'MESH:D012084',\n",
    "  'renin angiotensin': 'MESH:D012084',\n",
    "  'renin angiotensin aldosterone': 'MESH:D012084',\n",
    "  'renin angiotensin aldosterone system': 'MESH:D012084',\n",
    "  'renin angiotensin ang system': 'MESH:D012084',\n",
    "  'renin angiotensin system': 'MESH:D012084',\n",
    "  'renin angiotensin system inhibitors': 'ungrounded',\n",
    "  'renin angiotensinsystem': 'MESH:D012084',\n",
    "  'renin − angiotensin system': 'MESH:D012084',\n",
    "  'reninangiotensin system': 'MESH:D012084',\n",
    "  'rennin angiotensin system': 'MESH:D012084',\n",
    "  'resistance associated substitution': 'ungrounded',\n",
    "  'restrictive allograft syndrome': 'ungrounded',\n",
    "  'reticular activation system': 'ungrounded',\n",
    "  'retinoic acid syndrome': 'ungrounded',\n",
    "  'retroviruses associated dna sequences': 'ungrounded',\n",
    "  'rhythmic auditory stimulation': 'MESH:D000161',\n",
    "  'ribi adjuvant system': 'ungrounded',\n",
    "  'robot assisted surgery': 'ungrounded'},\n",
    " {'MESH:D034101': 'Sporozoites',\n",
    "  'MESH:D029971': 'Angelica sinensis',\n",
    "  'FPLX:RAS': 'RAS',\n",
    "  'MESH:D013281': 'Stomatitis, Aphthous',\n",
    "  'MESH:D012084': 'Renin-Angiotensin System',\n",
    "  'MESH:D000161': 'Acoustic Stimulation'},\n",
    " ['FPLX:RAS',\n",
    "  'MESH:D000161',\n",
    "  'MESH:D012084',\n",
    "  'MESH:D013281',\n",
    "  'MESH:D029971',\n",
    "  'MESH:D034101'])"
   ]
  },
  {
   "cell_type": "code",
   "execution_count": null,
   "metadata": {},
   "outputs": [],
   "source": [
    "excluded_longforms = []"
   ]
  },
  {
   "cell_type": "code",
   "execution_count": null,
   "metadata": {},
   "outputs": [],
   "source": [
    "grounding_dict = {shortform: {longform: grounding_map[longform] \n",
    "                              for longform, _, _ in longforms if longform in grounding_map\n",
    "                              and longform not in excluded_longforms}\n",
    "                  for shortform, longforms in longform_dict.items()}\n",
    "result = [grounding_dict, names, pos_labels]\n",
    "if not os.path.exists(results_path):\n",
    "    os.mkdir(results_path)\n",
    "with open(os.path.join(results_path, f'{model_name}_preliminary_grounding_info.json'), 'w') as f:\n",
    "    json.dump(result, f)"
   ]
  },
  {
   "cell_type": "code",
   "execution_count": null,
   "metadata": {},
   "outputs": [],
   "source": [
    "additional_entities = {}"
   ]
  },
  {
   "cell_type": "code",
   "execution_count": null,
   "metadata": {},
   "outputs": [],
   "source": [
    "unambiguous_agent_texts = {}"
   ]
  },
  {
   "cell_type": "code",
   "execution_count": null,
   "metadata": {},
   "outputs": [],
   "source": [
    "labeler = AdeftLabeler(grounding_dict)\n",
    "corpus = labeler.build_from_texts((text, pmid) for pmid, text in all_texts.items())\n",
    "agent_text_pmid_map = defaultdict(list)\n",
    "for text, label, id_ in corpus:\n",
    "    agent_text_pmid_map[label].append(id_)\n",
    "\n",
    "entity_pmid_map = {entity: set(get_pmids_for_entity(*entity.split(':', maxsplit=1),\n",
    "                                                major_topic=True))for entity in additional_entities}"
   ]
  },
  {
   "cell_type": "code",
   "execution_count": 19,
   "metadata": {},
   "outputs": [],
   "source": [
    "intersection1 = []\n",
    "for entity1, pmids1 in entity_pmid_map.items():\n",
    "    for entity2, pmids2 in entity_pmid_map.items():\n",
    "        intersection1.append((entity1, entity2, len(pmids1 & pmids2)))"
   ]
  },
  {
   "cell_type": "code",
   "execution_count": 20,
   "metadata": {},
   "outputs": [],
   "source": [
    "intersection2 = []\n",
    "for entity1, pmids1 in agent_text_pmid_map.items():\n",
    "    for entity2, pmids2 in entity_pmid_map.items():\n",
    "        intersection2.append((entity1, entity2, len(set(pmids1) & pmids2)))"
   ]
  },
  {
   "cell_type": "code",
   "execution_count": 21,
   "metadata": {},
   "outputs": [
    {
     "data": {
      "text/plain": [
       "[('HGNC:13974', 'HGNC:13974', 74)]"
      ]
     },
     "execution_count": 21,
     "metadata": {},
     "output_type": "execute_result"
    }
   ],
   "source": [
    "intersection1"
   ]
  },
  {
   "cell_type": "code",
   "execution_count": 22,
   "metadata": {},
   "outputs": [
    {
     "data": {
      "text/plain": [
       "[('MESH:D013281', 'HGNC:13974', 0),\n",
       " ('MESH:D012084', 'HGNC:13974', 0),\n",
       " ('ungrounded', 'HGNC:13974', 0),\n",
       " ('MESH:D029971', 'HGNC:13974', 0),\n",
       " ('MESH:D034101', 'HGNC:13974', 0),\n",
       " ('FPLX:RAS', 'HGNC:13974', 0),\n",
       " ('MESH:D000161', 'HGNC:13974', 0)]"
      ]
     },
     "execution_count": 22,
     "metadata": {},
     "output_type": "execute_result"
    }
   ],
   "source": [
    "intersection2"
   ]
  },
  {
   "cell_type": "code",
   "execution_count": 23,
   "metadata": {},
   "outputs": [],
   "source": [
    "all_used_pmids = set()\n",
    "for entity, agent_texts in unambiguous_agent_texts.items():\n",
    "    used_pmids = set()\n",
    "    for agent_text in agent_texts[1]:\n",
    "        pmids = set(get_pmids_for_agent_text(agent_text))\n",
    "        new_pmids = list(pmids - all_texts.keys() - used_pmids)\n",
    "        text_dict = get_plaintexts_for_pmids(new_pmids, contains=agent_texts)\n",
    "        corpus.extend([(text, entity, pmid) for pmid, text in text_dict.items() if len(text) >= 5])\n",
    "        used_pmids.update(new_pmids)\n",
    "    all_used_pmids.update(used_pmids)\n",
    "        \n",
    "for entity, pmids in entity_pmid_map.items():\n",
    "    new_pmids = list(set(pmids) - all_texts.keys() - all_used_pmids)\n",
    "    if len(new_pmids) > 10000:\n",
    "        new_pmids = random.choices(new_pmids, k=10000)\n",
    "    _, contains = additional_entities[entity]\n",
    "    text_dict = get_plaintexts_for_pmids(new_pmids, contains=contains)\n",
    "    corpus.extend([(text, entity, pmid) for pmid, text in text_dict.items() if len(text) >= 5])"
   ]
  },
  {
   "cell_type": "code",
   "execution_count": 24,
   "metadata": {},
   "outputs": [],
   "source": [
    "names.update({key: value[0] for key, value in additional_entities.items()})\n",
    "names.update({key: value[0] for key, value in unambiguous_agent_texts.items()})\n",
    "pos_labels = list(set(pos_labels) | additional_entities.keys() |\n",
    "                  unambiguous_agent_texts.keys())"
   ]
  },
  {
   "cell_type": "code",
   "execution_count": null,
   "metadata": {},
   "outputs": [],
   "source": [
    "%%capture\n",
    "\n",
    "classifier = AdeftClassifier(shortforms, pos_labels=pos_labels, random_state=1729)\n",
    "param_grid = {'C': [100.0], 'max_features': [10000]}\n",
    "texts, labels, pmids = zip(*corpus)\n",
    "classifier.cv(texts, labels, param_grid, cv=5, n_jobs=5)"
   ]
  },
  {
   "cell_type": "code",
   "execution_count": 26,
   "metadata": {
    "scrolled": true
   },
   "outputs": [
    {
     "data": {
      "text/plain": [
       "{'label_distribution': {'MESH:D013281': 40,\n",
       "  'MESH:D012084': 1898,\n",
       "  'ungrounded': 128,\n",
       "  'MESH:D029971': 10,\n",
       "  'MESH:D034101': 32,\n",
       "  'FPLX:RAS': 62,\n",
       "  'MESH:D000161': 4,\n",
       "  'HGNC:13974': 11},\n",
       " 'f1': {'mean': 0.972077, 'std': 0.009956},\n",
       " 'precision': {'mean': 0.964013, 'std': 0.011602},\n",
       " 'recall': {'mean': 0.982507, 'std': 0.00773},\n",
       " 'MESH:D034101': {'f1': {'mean': 1.0, 'std': 0.0},\n",
       "  'pr': {'mean': 1.0, 'std': 0.0},\n",
       "  'rc': {'mean': 1.0, 'std': 0.0}},\n",
       " 'ungrounded': {'f1': {'mean': 0.838516, 'std': 0.053776},\n",
       "  'pr': {'mean': 0.742154, 'std': 0.075404},\n",
       "  'rc': {'mean': 0.97, 'std': 0.04}},\n",
       " 'MESH:D012084': {'f1': {'mean': 0.982399, 'std': 0.005503},\n",
       "  'pr': {'mean': 0.997893, 'std': 0.00197},\n",
       "  'rc': {'mean': 0.967429, 'std': 0.010168}},\n",
       " 'FPLX:RAS': {'f1': {'mean': 0.85562, 'std': 0.093808},\n",
       "  'pr': {'mean': 0.784615, 'std': 0.155683},\n",
       "  'rc': {'mean': 0.964615, 'std': 0.043947}},\n",
       " 'MESH:D013281': {'f1': {'mean': 0.900952, 'std': 0.057649},\n",
       "  'pr': {'mean': 0.825, 'std': 0.1},\n",
       "  'rc': {'mean': 1.0, 'std': 0.0}},\n",
       " 'HGNC:13974': {'f1': {'mean': 0.8, 'std': 0.4},\n",
       "  'pr': {'mean': 0.8, 'std': 0.4},\n",
       "  'rc': {'mean': 0.8, 'std': 0.4}},\n",
       " 'MESH:D000161': {'f1': {'mean': 0.4, 'std': 0.489898},\n",
       "  'pr': {'mean': 0.4, 'std': 0.489898},\n",
       "  'rc': {'mean': 0.4, 'std': 0.489898}},\n",
       " 'MESH:D029971': {'f1': {'mean': 0.266667, 'std': 0.326599},\n",
       "  'pr': {'mean': 0.2, 'std': 0.244949},\n",
       "  'rc': {'mean': 0.4, 'std': 0.489898}}}"
      ]
     },
     "execution_count": 26,
     "metadata": {},
     "output_type": "execute_result"
    }
   ],
   "source": [
    "classifier.stats"
   ]
  },
  {
   "cell_type": "code",
   "execution_count": 27,
   "metadata": {},
   "outputs": [],
   "source": [
    "disamb = AdeftDisambiguator(classifier, grounding_dict, names)"
   ]
  },
  {
   "cell_type": "code",
   "execution_count": 28,
   "metadata": {},
   "outputs": [],
   "source": [
    "disamb.dump(model_name, results_path)"
   ]
  },
  {
   "cell_type": "code",
   "execution_count": 29,
   "metadata": {},
   "outputs": [
    {
     "name": "stdout",
     "output_type": "stream",
     "text": [
      "Disambiguation model for RAS\n",
      "\n",
      "Produces the disambiguations:\n",
      "\tAcoustic Stimulation*\tMESH:D000161\n",
      "\tAngelica sinensis*\tMESH:D029971\n",
      "\tNELFE*\tHGNC:13974\n",
      "\tRAS*\tFPLX:RAS\n",
      "\tRenin-Angiotensin System*\tMESH:D012084\n",
      "\tSporozoites*\tMESH:D034101\n",
      "\tStomatitis, Aphthous*\tMESH:D013281\n",
      "\n",
      "Class level metrics:\n",
      "--------------------\n",
      "Grounding               \tCount\tF1     \n",
      "Renin-Angiotensin System*\t1898\t 0.9824\n",
      "              Ungrounded\t 128\t0.83852\n",
      "                     RAS*\t  62\t0.85562\n",
      "    Stomatitis, Aphthous*\t  40\t0.90095\n",
      "             Sporozoites*\t  32\t    1.0\n",
      "                   NELFE*\t  11\t    0.8\n",
      "       Angelica sinensis*\t  10\t0.26667\n",
      "    Acoustic Stimulation*\t   4\t    0.4\n",
      "\n",
      "Weighted Metrics:\n",
      "-----------------\n",
      "\tF1 score:\t0.97208\n",
      "\tPrecision:\t0.96401\n",
      "\tRecall:\t\t0.98251\n",
      "\n",
      "* Positive labels\n",
      "See Docstring for explanation\n",
      "\n"
     ]
    }
   ],
   "source": [
    "print(disamb.info())"
   ]
  },
  {
   "cell_type": "code",
   "execution_count": 30,
   "metadata": {},
   "outputs": [],
   "source": [
    "model_to_s3(disamb)"
   ]
  },
  {
   "cell_type": "code",
   "execution_count": null,
   "metadata": {},
   "outputs": [],
   "source": []
  }
 ],
 "metadata": {
  "kernelspec": {
   "display_name": "Python 3",
   "language": "python",
   "name": "python3"
  },
  "language_info": {
   "codemirror_mode": {
    "name": "ipython",
    "version": 3
   },
   "file_extension": ".py",
   "mimetype": "text/x-python",
   "name": "python",
   "nbconvert_exporter": "python",
   "pygments_lexer": "ipython3",
   "version": "3.8.4"
  }
 },
 "nbformat": 4,
 "nbformat_minor": 2
}
