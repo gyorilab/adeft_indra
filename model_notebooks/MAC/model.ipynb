{
 "cells": [
  {
   "cell_type": "code",
   "execution_count": 1,
   "metadata": {},
   "outputs": [],
   "source": [
    "import os\n",
    "import json\n",
    "import pickle\n",
    "import random\n",
    "from collections import defaultdict, Counter\n",
    "\n",
    "from indra.literature.adeft_tools import universal_extract_text\n",
    "from indra.databases.hgnc_client import get_hgnc_name, get_hgnc_id\n",
    "\n",
    "from adeft.discover import AdeftMiner\n",
    "from adeft.gui import ground_with_gui\n",
    "from adeft.modeling.label import AdeftLabeler\n",
    "from adeft.modeling.classify import AdeftClassifier\n",
    "from adeft.disambiguate import AdeftDisambiguator\n",
    "\n",
    "\n",
    "from adeft_indra.ground.ground import AdeftGrounder\n",
    "from adeft_indra.model_building.s3 import model_to_s3\n",
    "from adeft_indra.model_building.escape import escape_filename\n",
    "from adeft_indra.db.content import get_pmids_for_agent_text, get_pmids_for_entity, \\\n",
    "    get_plaintexts_for_pmids"
   ]
  },
  {
   "cell_type": "code",
   "execution_count": 2,
   "metadata": {},
   "outputs": [],
   "source": [
    "adeft_grounder = AdeftGrounder()"
   ]
  },
  {
   "cell_type": "code",
   "execution_count": 3,
   "metadata": {},
   "outputs": [],
   "source": [
    "shortforms = ['MAC']\n",
    "model_name = ':'.join(sorted(escape_filename(shortform) for shortform in shortforms))\n",
    "results_path = os.path.abspath(os.path.join('../..', 'results', model_name))"
   ]
  },
  {
   "cell_type": "code",
   "execution_count": 4,
   "metadata": {},
   "outputs": [],
   "source": [
    "miners = dict()\n",
    "all_texts = {}\n",
    "for shortform in shortforms:\n",
    "    pmids = get_pmids_for_agent_text(shortform)\n",
    "    if len(pmids) > 10000:\n",
    "        pmids = random.choices(pmids, k=10000)\n",
    "    text_dict = get_plaintexts_for_pmids(pmids, contains=shortforms)\n",
    "    text_dict = {pmid: text for pmid, text in text_dict.items() if len(text) > 5}\n",
    "    miners[shortform] = AdeftMiner(shortform)\n",
    "    miners[shortform].process_texts(text_dict.values())\n",
    "    all_texts.update(text_dict)\n",
    "\n",
    "longform_dict = {}\n",
    "for shortform in shortforms:\n",
    "    longforms = miners[shortform].get_longforms()\n",
    "    longforms = [(longform, count, score) for longform, count, score in longforms\n",
    "                 if count*score > 2]\n",
    "    longform_dict[shortform] = longforms\n",
    "    \n",
    "combined_longforms = Counter()\n",
    "for longform_rows in longform_dict.values():\n",
    "    combined_longforms.update({longform: count for longform, count, score\n",
    "                               in longform_rows})\n",
    "grounding_map = {}\n",
    "names = {}\n",
    "for longform in combined_longforms:\n",
    "    groundings = adeft_grounder.ground(longform)\n",
    "    if groundings:\n",
    "        grounding = groundings[0]['grounding']\n",
    "        grounding_map[longform] = grounding\n",
    "        names[grounding] = groundings[0]['name']\n",
    "longforms, counts = zip(*combined_longforms.most_common())\n",
    "pos_labels = []"
   ]
  },
  {
   "cell_type": "code",
   "execution_count": 5,
   "metadata": {},
   "outputs": [
    {
     "data": {
      "text/plain": [
       "[('membrane attack complex', 469),\n",
       " ('minimum alveolar concentration', 223),\n",
       " ('mycobacterium avium complex', 162),\n",
       " ('mitral annular calcification', 45),\n",
       " ('macronucleus', 27),\n",
       " ('minimum alveolar anesthetic concentration', 27),\n",
       " ('medium access control', 25),\n",
       " ('myeloablative conditioning', 24),\n",
       " ('macrophages', 23),\n",
       " ('minimal alveolar concentration', 22),\n",
       " ('mitochondrial apoptosis induced channel', 17),\n",
       " ('macitentan', 16),\n",
       " ('medial arterial calcification', 16),\n",
       " ('mucinous adenocarcinoma', 16),\n",
       " ('m avium complex', 15),\n",
       " ('mycobacterium avium intracellulare complex', 15),\n",
       " ('monitored anesthesia care', 11),\n",
       " ('mitral annulus calcification', 11),\n",
       " ('mitral annular calcium', 10),\n",
       " ('mos4 associated complex', 10),\n",
       " ('monolithic activation carbon', 8),\n",
       " ('methacrylamide chitosan', 8),\n",
       " ('minimum anesthetic concentration', 8),\n",
       " ('methylascochlorin', 7),\n",
       " ('membrane attack complex of complement', 7),\n",
       " ('multiple antigen construct', 6),\n",
       " ('metabolic acidosis', 4),\n",
       " ('mouse artificial chromosome', 4),\n",
       " ('melaleuca alternifolia concentration', 4),\n",
       " ('minimum alveolar anaesthetic concentration', 4),\n",
       " ('maintained', 4),\n",
       " ('maternal', 4),\n",
       " ('mean activation count', 3),\n",
       " ('monkey adapting components', 3),\n",
       " ('media access control', 3),\n",
       " ('mammary adenocarcinoma', 3),\n",
       " ('musa acuminata cavendish banana', 3),\n",
       " ('monocarbonyl analogs of curcumin', 3)]"
      ]
     },
     "execution_count": 5,
     "metadata": {},
     "output_type": "execute_result"
    }
   ],
   "source": [
    "list(zip(longforms, counts))"
   ]
  },
  {
   "cell_type": "code",
   "execution_count": 6,
   "metadata": {},
   "outputs": [
    {
     "name": "stderr",
     "output_type": "stream",
     "text": [
      "INFO: [2020-10-10 01:07:17] indra.ontology.bio.ontology - Loading INDRA bio ontology from cache at /home/ubuntu/.indra/bio_ontology/1.2/bio_ontology.pkl\n"
     ]
    }
   ],
   "source": [
    "grounding_map, names, pos_labels = ground_with_gui(longforms, counts, \n",
    "                                                   grounding_map=grounding_map,\n",
    "                                                   names=names, pos_labels=pos_labels, no_browser=True, port=8890)"
   ]
  },
  {
   "cell_type": "code",
   "execution_count": 7,
   "metadata": {},
   "outputs": [],
   "source": [
    "result = [grounding_map, names, pos_labels]"
   ]
  },
  {
   "cell_type": "code",
   "execution_count": 8,
   "metadata": {},
   "outputs": [
    {
     "data": {
      "text/plain": [
       "[{'m avium complex': 'MESH:D015269',\n",
       "  'macitentan': 'CHEBI:CHEBI:76607',\n",
       "  'macronucleus': 'GO:GO:0031039',\n",
       "  'macrophages': 'MESH:D008264',\n",
       "  'maintained': 'ungrounded',\n",
       "  'mammary adenocarcinoma': 'DOID:DOID:3458',\n",
       "  'maternal': 'ungrounded',\n",
       "  'mean activation count': 'ungrounded',\n",
       "  'media access control': 'ungrounded',\n",
       "  'medial arterial calcification': 'HP:HP:0012456',\n",
       "  'medium access control': 'ungrounded',\n",
       "  'melaleuca alternifolia concentration': 'ungrounded',\n",
       "  'membrane attack complex': 'FPLX:MAC',\n",
       "  'membrane attack complex of complement': 'FPLX:MAC',\n",
       "  'metabolic acidosis': 'DOID:DOID:0050758',\n",
       "  'methacrylamide chitosan': 'ungrounded',\n",
       "  'methylascochlorin': 'PUBCHEM:6441595',\n",
       "  'minimal alveolar concentration': 'NCIT:C139130',\n",
       "  'minimum alveolar anaesthetic concentration': 'NCIT:C139130',\n",
       "  'minimum alveolar anesthetic concentration': 'NCIT:C139130',\n",
       "  'minimum alveolar concentration': 'NCIT:C139130',\n",
       "  'minimum anesthetic concentration': 'ungrounded',\n",
       "  'mitochondrial apoptosis induced channel': 'mitochondrial',\n",
       "  'mitral annular calcification': 'HP:HP:0005136',\n",
       "  'mitral annular calcium': 'HP:HP:0004382',\n",
       "  'mitral annulus calcification': 'HP:HP:0004382',\n",
       "  'monitored anesthesia care': 'ungrounded',\n",
       "  'monkey adapting components': 'ungrounded',\n",
       "  'monocarbonyl analogs of curcumin': 'ungrounded',\n",
       "  'monolithic activation carbon': 'ungrounded',\n",
       "  'mos4 associated complex': 'ungrounded',\n",
       "  'mouse artificial chromosome': 'MESH:D022201',\n",
       "  'mucinous adenocarcinoma': 'MESH:D002288',\n",
       "  'multiple antigen construct': 'ungrounded',\n",
       "  'musa acuminata cavendish banana': 'ungrounded',\n",
       "  'mycobacterium avium complex': 'MESH:D015269',\n",
       "  'mycobacterium avium intracellulare complex': 'MESH:D015269',\n",
       "  'myeloablative conditioning': 'NCIT:C131679'},\n",
       " {'MESH:D015269': 'Mycobacterium avium Complex',\n",
       "  'CHEBI:CHEBI:76607': 'macitentan',\n",
       "  'GO:GO:0031039': 'macronucleus',\n",
       "  'MESH:D008264': 'Macrophages',\n",
       "  'DOID:DOID:3458': 'breast adenocarcinoma',\n",
       "  'HP:HP:0012456': 'Medial arterial calcification',\n",
       "  'FPLX:MAC': 'MAC',\n",
       "  'DOID:DOID:0050758': 'metabolic acidosis',\n",
       "  'PUBCHEM:6441595': '4-O-Methylascochlorin',\n",
       "  'NCIT:C139130': 'Minimum Alveolar Concentration 50 Percent',\n",
       "  'mitochondrial': 'mitochondrial_apoptosis_induced_channel',\n",
       "  'HP:HP:0005136': 'Mitral annular calcification',\n",
       "  'HP:HP:0004382': 'Mitral valve calcification',\n",
       "  'MESH:D022201': 'Chromosomes, Artificial',\n",
       "  'MESH:D002288': 'Adenocarcinoma, Mucinous',\n",
       "  'NCIT:C131679': 'Myeloablative Conditioning'},\n",
       " ['FPLX:MAC', 'HP:HP:0005136', 'MESH:D015269', 'NCIT:C139130']]"
      ]
     },
     "execution_count": 8,
     "metadata": {},
     "output_type": "execute_result"
    }
   ],
   "source": [
    "result"
   ]
  },
  {
   "cell_type": "code",
   "execution_count": 20,
   "metadata": {},
   "outputs": [],
   "source": [
    "grounding_map, names, pos_labels = [{'m avium complex': 'MESH:D015269',\n",
    "  'macitentan': 'CHEBI:CHEBI:76607',\n",
    "  'macronucleus': 'GO:GO:0031039',\n",
    "  'macrophages': 'MESH:D008264',\n",
    "  'maintained': 'ungrounded',\n",
    "  'mammary adenocarcinoma': 'DOID:DOID:3458',\n",
    "  'maternal': 'ungrounded',\n",
    "  'mean activation count': 'ungrounded',\n",
    "  'media access control': 'ungrounded',\n",
    "  'medial arterial calcification': 'HP:HP:0012456',\n",
    "  'medium access control': 'ungrounded',\n",
    "  'melaleuca alternifolia concentration': 'ungrounded',\n",
    "  'membrane attack complex': 'FPLX:MAC',\n",
    "  'membrane attack complex of complement': 'FPLX:MAC',\n",
    "  'metabolic acidosis': 'DOID:DOID:0050758',\n",
    "  'methacrylamide chitosan': 'ungrounded',\n",
    "  'methylascochlorin': 'PUBCHEM:6441595',\n",
    "  'minimal alveolar concentration': 'NCIT:C139130',\n",
    "  'minimum alveolar anaesthetic concentration': 'NCIT:C139130',\n",
    "  'minimum alveolar anesthetic concentration': 'NCIT:C139130',\n",
    "  'minimum alveolar concentration': 'NCIT:C139130',\n",
    "  'minimum anesthetic concentration': 'ungrounded',\n",
    "  'mitochondrial apoptosis induced channel': 'mitochondrial',\n",
    "  'mitral annular calcification': 'HP:HP:0005136',\n",
    "  'mitral annular calcium': 'HP:HP:0004382',\n",
    "  'mitral annulus calcification': 'HP:HP:0004382',\n",
    "  'monitored anesthesia care': 'ungrounded',\n",
    "  'monkey adapting components': 'ungrounded',\n",
    "  'monocarbonyl analogs of curcumin': 'ungrounded',\n",
    "  'monolithic activation carbon': 'ungrounded',\n",
    "  'mos4 associated complex': 'ungrounded',\n",
    "  'mouse artificial chromosome': 'MESH:D022201',\n",
    "  'mucinous adenocarcinoma': 'MESH:D002288',\n",
    "  'multiple antigen construct': 'ungrounded',\n",
    "  'musa acuminata cavendish banana': 'ungrounded',\n",
    "  'mycobacterium avium complex': 'MESH:D015269',\n",
    "  'mycobacterium avium intracellulare complex': 'MESH:D015269',\n",
    "  'myeloablative conditioning': 'NCIT:C131679'},\n",
    " {'MESH:D015269': 'Mycobacterium avium Complex',\n",
    "  'CHEBI:CHEBI:76607': 'macitentan',\n",
    "  'GO:GO:0031039': 'macronucleus',\n",
    "  'MESH:D008264': 'Macrophages',\n",
    "  'DOID:DOID:3458': 'breast adenocarcinoma',\n",
    "  'HP:HP:0012456': 'Medial arterial calcification',\n",
    "  'FPLX:MAC': 'MAC',\n",
    "  'DOID:DOID:0050758': 'metabolic acidosis',\n",
    "  'PUBCHEM:6441595': '4-O-Methylascochlorin',\n",
    "  'NCIT:C139130': 'Minimum Alveolar Concentration 50 Percent',\n",
    "  'mitochondrial': 'mitochondrial_apoptosis_induced_channel',\n",
    "  'HP:HP:0005136': 'Mitral annular calcification',\n",
    "  'HP:HP:0004382': 'Mitral valve calcification',\n",
    "  'MESH:D022201': 'Chromosomes, Artificial',\n",
    "  'MESH:D002288': 'Adenocarcinoma, Mucinous',\n",
    "  'NCIT:C131679': 'Myeloablative Conditioning'},\n",
    " ['FPLX:MAC', 'HP:HP:0005136', 'MESH:D015269', 'NCIT:C139130', 'GO:GO:0031039',\n",
    " 'NCIT:C131679', 'MESH:D008264', 'MESH:D002288', 'HP:HP:0012456', 'PUBCHEM:6441595']]"
   ]
  },
  {
   "cell_type": "code",
   "execution_count": 10,
   "metadata": {},
   "outputs": [],
   "source": [
    "excluded_longforms = []"
   ]
  },
  {
   "cell_type": "code",
   "execution_count": 21,
   "metadata": {},
   "outputs": [],
   "source": [
    "grounding_dict = {shortform: {longform: grounding_map[longform] \n",
    "                              for longform, _, _ in longforms if longform in grounding_map\n",
    "                              and longform not in excluded_longforms}\n",
    "                  for shortform, longforms in longform_dict.items()}\n",
    "result = [grounding_dict, names, pos_labels]\n",
    "\n",
    "if not os.path.exists(results_path):\n",
    "    os.mkdir(results_path)\n",
    "with open(os.path.join(results_path, f'{model_name}_preliminary_grounding_info.json'), 'w') as f:\n",
    "    json.dump(result, f)"
   ]
  },
  {
   "cell_type": "code",
   "execution_count": 12,
   "metadata": {},
   "outputs": [],
   "source": [
    "additional_entities = {}"
   ]
  },
  {
   "cell_type": "code",
   "execution_count": 13,
   "metadata": {},
   "outputs": [],
   "source": [
    "unambiguous_agent_texts = {}"
   ]
  },
  {
   "cell_type": "code",
   "execution_count": 22,
   "metadata": {},
   "outputs": [],
   "source": [
    "labeler = AdeftLabeler(grounding_dict)\n",
    "corpus = labeler.build_from_texts((text, pmid) for pmid, text in all_texts.items())\n",
    "agent_text_pmid_map = defaultdict(list)\n",
    "for text, label, id_ in corpus:\n",
    "    agent_text_pmid_map[label].append(id_)\n",
    "\n",
    "entity_pmid_map = {entity: set(get_pmids_for_entity(*entity.split(':', maxsplit=1),\n",
    "                                                major_topic=True))for entity in additional_entities}"
   ]
  },
  {
   "cell_type": "code",
   "execution_count": 15,
   "metadata": {},
   "outputs": [],
   "source": [
    "intersection1 = []\n",
    "for entity1, pmids1 in entity_pmid_map.items():\n",
    "    for entity2, pmids2 in entity_pmid_map.items():\n",
    "        intersection1.append((entity1, entity2, len(pmids1 & pmids2)))"
   ]
  },
  {
   "cell_type": "code",
   "execution_count": 16,
   "metadata": {},
   "outputs": [],
   "source": [
    "intersection2 = []\n",
    "for entity1, pmids1 in agent_text_pmid_map.items():\n",
    "    for entity2, pmids2 in entity_pmid_map.items():\n",
    "        intersection2.append((entity1, entity2, len(set(pmids1) & pmids2)))"
   ]
  },
  {
   "cell_type": "code",
   "execution_count": 17,
   "metadata": {},
   "outputs": [
    {
     "data": {
      "text/plain": [
       "[('HGNC:17981', 'HGNC:17981', 29)]"
      ]
     },
     "execution_count": 17,
     "metadata": {},
     "output_type": "execute_result"
    }
   ],
   "source": [
    "intersection1"
   ]
  },
  {
   "cell_type": "code",
   "execution_count": 18,
   "metadata": {},
   "outputs": [
    {
     "data": {
      "text/plain": [
       "[('ungrounded', 'HGNC:17981', 0)]"
      ]
     },
     "execution_count": 18,
     "metadata": {},
     "output_type": "execute_result"
    }
   ],
   "source": [
    "intersection2"
   ]
  },
  {
   "cell_type": "code",
   "execution_count": null,
   "metadata": {},
   "outputs": [],
   "source": []
  },
  {
   "cell_type": "code",
   "execution_count": 20,
   "metadata": {},
   "outputs": [],
   "source": [
    "all_used_pmids = set()\n",
    "for entity, agent_texts in unambiguous_agent_texts.items():\n",
    "    used_pmids = set()\n",
    "    for agent_text in agent_texts:\n",
    "        pmids = set(get_pmids_for_agent_text(agent_text))\n",
    "        new_pmids = list(pmids - all_texts.keys() - used_pmids)\n",
    "        text_dict = get_plaintexts_for_pmids(new_pmids, contains=agent_texts)\n",
    "        corpus.extend([(text, entity, pmid) for pmid, text in text_dict.items()])\n",
    "        used_pmids.update(new_pmids)\n",
    "    all_used_pmids.update(used_pmids)\n",
    "        \n",
    "for entity, pmids in entity_pmid_map.items():\n",
    "    new_pmids = list(set(pmids) - all_texts.keys() - all_used_pmids)\n",
    "    if len(new_pmids) > 10000:\n",
    "        new_pmids = random.choices(new_pmids, k=10000)\n",
    "    text_dict = get_plaintexts_for_pmids(new_pmids, contains=['RTCA', 'RTCD1', 'RPC', 'RTC1', 'RTC'])\n",
    "    corpus.extend([(text, entity, pmid) for pmid, text in text_dict.items()])"
   ]
  },
  {
   "cell_type": "code",
   "execution_count": null,
   "metadata": {},
   "outputs": [],
   "source": [
    "names.update(additional_entitie)"
   ]
  },
  {
   "cell_type": "code",
   "execution_count": 23,
   "metadata": {},
   "outputs": [
    {
     "name": "stderr",
     "output_type": "stream",
     "text": [
      "INFO: [2020-10-10 01:50:00] /adeft/PythonRepos/adeft/adeft/modeling/classify.py - Beginning grid search in parameter space:\n",
      "{'C': [100.0], 'max_features': [10000]}\n",
      "INFO: [2020-10-10 01:50:21] /adeft/PythonRepos/adeft/adeft/modeling/classify.py - Best f1 score of 0.9475911234792523 found for parameter values:\n",
      "{'logit__C': 100.0, 'tfidf__max_features': 10000}\n"
     ]
    }
   ],
   "source": [
    "%%capture\n",
    "\n",
    "classifier = AdeftClassifier(shortforms, pos_labels=pos_labels, random_state=1729)\n",
    "param_grid = {'C': [100.0], 'max_features': [10000]}\n",
    "texts, labels, pmids = zip(*corpus)\n",
    "classifier.cv(texts, labels, param_grid, cv=5, n_jobs=5)"
   ]
  },
  {
   "cell_type": "code",
   "execution_count": 16,
   "metadata": {
    "scrolled": true
   },
   "outputs": [
    {
     "data": {
      "text/plain": [
       "{'label_distribution': {'NCIT:C139130': 243,\n",
       "  'FPLX:MAC': 360,\n",
       "  'MESH:D008264': 15,\n",
       "  'MESH:D015269': 150,\n",
       "  'ungrounded': 60,\n",
       "  'DOID:DOID:3458': 3,\n",
       "  'PUBCHEM:6441595': 7,\n",
       "  'DOID:DOID:0050758': 4,\n",
       "  'mitochondrial': 14,\n",
       "  'HP:HP:0004382': 17,\n",
       "  'HP:HP:0005136': 25,\n",
       "  'GO:GO:0031039': 21,\n",
       "  'MESH:D002288': 10,\n",
       "  'NCIT:C131679': 19,\n",
       "  'HP:HP:0012456': 10,\n",
       "  'CHEBI:CHEBI:76607': 9,\n",
       "  'MESH:D022201': 3},\n",
       " 'f1': {'mean': 0.953616, 'std': 0.01069},\n",
       " 'precision': {'mean': 0.929589, 'std': 0.016737},\n",
       " 'recall': {'mean': 0.980736, 'std': 0.009054},\n",
       " 'ungrounded': {'f1': {'mean': 0.724569, 'std': 0.143599},\n",
       "  'pr': {'mean': 0.616667, 'std': 0.187083},\n",
       "  'rc': {'mean': 0.921111, 'std': 0.075064}},\n",
       " 'PUBCHEM:6441595': {'f1': {'mean': 0.866667, 'std': 0.163299},\n",
       "  'pr': {'mean': 0.8, 'std': 0.244949},\n",
       "  'rc': {'mean': 1.0, 'std': 0.0}},\n",
       " 'NCIT:C139130': {'f1': {'mean': 0.962853, 'std': 0.02006},\n",
       "  'pr': {'mean': 0.995833, 'std': 0.008333},\n",
       "  'rc': {'mean': 0.933254, 'std': 0.043308}},\n",
       " 'DOID:DOID:0050758': {'f1': {'mean': 0.2, 'std': 0.4},\n",
       "  'pr': {'mean': 0.2, 'std': 0.4},\n",
       "  'rc': {'mean': 0.2, 'std': 0.4}},\n",
       " 'mitochondrial': {'f1': {'mean': 1.0, 'std': 0.0},\n",
       "  'pr': {'mean': 1.0, 'std': 0.0},\n",
       "  'rc': {'mean': 1.0, 'std': 0.0}},\n",
       " 'NCIT:C131679': {'f1': {'mean': 1.0, 'std': 0.0},\n",
       "  'pr': {'mean': 1.0, 'std': 0.0},\n",
       "  'rc': {'mean': 1.0, 'std': 0.0}},\n",
       " 'CHEBI:CHEBI:76607': {'f1': {'mean': 0.466667, 'std': 0.4},\n",
       "  'pr': {'mean': 0.4, 'std': 0.374166},\n",
       "  'rc': {'mean': 0.6, 'std': 0.489898}},\n",
       " 'MESH:D015269': {'f1': {'mean': 0.950995, 'std': 0.031221},\n",
       "  'pr': {'mean': 0.966667, 'std': 0.036515},\n",
       "  'rc': {'mean': 0.937116, 'std': 0.043062}},\n",
       " 'MESH:D008264': {'f1': {'mean': 0.713333, 'std': 0.118509},\n",
       "  'pr': {'mean': 0.6, 'std': 0.133333},\n",
       "  'rc': {'mean': 0.933333, 'std': 0.133333}},\n",
       " 'DOID:DOID:3458': {'f1': {'mean': 0.0, 'std': 0.0},\n",
       "  'pr': {'mean': 0.0, 'std': 0.0},\n",
       "  'rc': {'mean': 0.0, 'std': 0.0}},\n",
       " 'MESH:D022201': {'f1': {'mean': 0.0, 'std': 0.0},\n",
       "  'pr': {'mean': 0.0, 'std': 0.0},\n",
       "  'rc': {'mean': 0.0, 'std': 0.0}},\n",
       " 'FPLX:MAC': {'f1': {'mean': 0.970341, 'std': 0.009939},\n",
       "  'pr': {'mean': 0.997222, 'std': 0.005556},\n",
       "  'rc': {'mean': 0.944999, 'std': 0.016678}},\n",
       " 'HP:HP:0005136': {'f1': {'mean': 0.638998, 'std': 0.220688},\n",
       "  'pr': {'mean': 0.68, 'std': 0.299333},\n",
       "  'rc': {'mean': 0.628333, 'std': 0.170098}},\n",
       " 'HP:HP:0004382': {'f1': {'mean': 0.500952, 'std': 0.169042},\n",
       "  'pr': {'mean': 0.483333, 'std': 0.169967},\n",
       "  'rc': {'mean': 0.633333, 'std': 0.305505}},\n",
       " 'GO:GO:0031039': {'f1': {'mean': 0.953247, 'std': 0.059571},\n",
       "  'pr': {'mean': 0.95, 'std': 0.1},\n",
       "  'rc': {'mean': 0.966667, 'std': 0.066667}},\n",
       " 'MESH:D002288': {'f1': {'mean': 0.9, 'std': 0.2},\n",
       "  'pr': {'mean': 0.9, 'std': 0.2},\n",
       "  'rc': {'mean': 0.9, 'std': 0.2}},\n",
       " 'HP:HP:0012456': {'f1': {'mean': 0.866667, 'std': 0.163299},\n",
       "  'pr': {'mean': 0.8, 'std': 0.244949},\n",
       "  'rc': {'mean': 1.0, 'std': 0.0}}}"
      ]
     },
     "execution_count": 16,
     "metadata": {},
     "output_type": "execute_result"
    }
   ],
   "source": [
    "classifier.stats"
   ]
  },
  {
   "cell_type": "code",
   "execution_count": 24,
   "metadata": {},
   "outputs": [],
   "source": [
    "disamb = AdeftDisambiguator(classifier, grounding_dict, names)"
   ]
  },
  {
   "cell_type": "code",
   "execution_count": 27,
   "metadata": {},
   "outputs": [],
   "source": [
    "disamb.dump(model_name, results_path)"
   ]
  },
  {
   "cell_type": "code",
   "execution_count": 25,
   "metadata": {},
   "outputs": [
    {
     "name": "stdout",
     "output_type": "stream",
     "text": [
      "Disambiguation model for MAC\n",
      "\n",
      "Produces the disambiguations:\n",
      "\t4-O-Methylascochlorin*\tPUBCHEM:6441595\n",
      "\tAdenocarcinoma, Mucinous*\tMESH:D002288\n",
      "\tChromosomes, Artificial\tMESH:D022201\n",
      "\tMAC*\tFPLX:MAC\n",
      "\tMacrophages*\tMESH:D008264\n",
      "\tMedial arterial calcification*\tHP:HP:0012456\n",
      "\tMinimum Alveolar Concentration 50 Percent*\tNCIT:C139130\n",
      "\tMitral annular calcification*\tHP:HP:0005136\n",
      "\tMitral valve calcification\tHP:HP:0004382\n",
      "\tMycobacterium avium Complex*\tMESH:D015269\n",
      "\tMyeloablative Conditioning*\tNCIT:C131679\n",
      "\tbreast adenocarcinoma\tDOID:DOID:3458\n",
      "\tmacitentan\tCHEBI:CHEBI:76607\n",
      "\tmacronucleus*\tGO:GO:0031039\n",
      "\tmetabolic acidosis\tDOID:DOID:0050758\n",
      "\tmitochondrial_apoptosis_induced_channel\tmitochondrial\n",
      "\n",
      "Class level metrics:\n",
      "--------------------\n",
      "Grounding                                \tCount\tF1     \n",
      "                                      MAC*\t360\t0.97034\n",
      "Minimum Alveolar Concentration 50 Percent*\t243\t0.96285\n",
      "              Mycobacterium avium Complex*\t150\t  0.951\n",
      "                               Ungrounded\t 60\t0.72457\n",
      "             Mitral annular calcification*\t 25\t  0.639\n",
      "                             macronucleus*\t 21\t0.95325\n",
      "               Myeloablative Conditioning*\t 19\t    1.0\n",
      "               Mitral valve calcification\t 17\t0.50095\n",
      "                              Macrophages*\t 15\t0.71333\n",
      "  mitochondrial_apoptosis_induced_channel\t 14\t    1.0\n",
      "                 Adenocarcinoma, Mucinous*\t 10\t    0.9\n",
      "            Medial arterial calcification*\t 10\t0.86667\n",
      "                               macitentan\t  9\t0.46667\n",
      "                    4-O-Methylascochlorin*\t  7\t0.86667\n",
      "                       metabolic acidosis\t  4\t    0.2\n",
      "                    breast adenocarcinoma\t  3\t    0.0\n",
      "                  Chromosomes, Artificial\t  3\t    0.0\n",
      "\n",
      "Weighted Metrics:\n",
      "-----------------\n",
      "\tF1 score:\t0.94759\n",
      "\tPrecision:\t0.93299\n",
      "\tRecall:\t\t0.96864\n",
      "\n",
      "* Positive labels\n",
      "See Docstring for explanation\n",
      "\n"
     ]
    }
   ],
   "source": [
    "print(disamb.info())"
   ]
  },
  {
   "cell_type": "code",
   "execution_count": 26,
   "metadata": {},
   "outputs": [],
   "source": [
    "model_to_s3(disamb)"
   ]
  },
  {
   "cell_type": "code",
   "execution_count": null,
   "metadata": {},
   "outputs": [],
   "source": []
  }
 ],
 "metadata": {
  "kernelspec": {
   "display_name": "Python 3",
   "language": "python",
   "name": "python3"
  },
  "language_info": {
   "codemirror_mode": {
    "name": "ipython",
    "version": 3
   },
   "file_extension": ".py",
   "mimetype": "text/x-python",
   "name": "python",
   "nbconvert_exporter": "python",
   "pygments_lexer": "ipython3",
   "version": "3.8.4"
  }
 },
 "nbformat": 4,
 "nbformat_minor": 2
}
