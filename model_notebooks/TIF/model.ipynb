{
 "cells": [
  {
   "cell_type": "code",
   "execution_count": 1,
   "metadata": {},
   "outputs": [],
   "source": [
    "import os\n",
    "import json\n",
    "import pickle\n",
    "import random\n",
    "from collections import defaultdict, Counter\n",
    "\n",
    "from indra.literature.adeft_tools import universal_extract_text\n",
    "from indra.databases.hgnc_client import get_hgnc_name, get_hgnc_id\n",
    "\n",
    "from adeft.discover import AdeftMiner\n",
    "from adeft.gui import ground_with_gui\n",
    "from adeft.modeling.label import AdeftLabeler\n",
    "from adeft.modeling.classify import AdeftClassifier\n",
    "from adeft.disambiguate import AdeftDisambiguator, load_disambiguator\n",
    "\n",
    "\n",
    "from adeft_indra.ground.ground import AdeftGrounder\n",
    "from adeft_indra.model_building.s3 import model_to_s3\n",
    "from adeft_indra.model_building.escape import escape_filename\n",
    "from adeft_indra.db.content import get_pmids_for_agent_text, get_pmids_for_entity, \\\n",
    "    get_plaintexts_for_pmids"
   ]
  },
  {
   "cell_type": "code",
   "execution_count": 2,
   "metadata": {},
   "outputs": [],
   "source": [
    "adeft_grounder = AdeftGrounder()"
   ]
  },
  {
   "cell_type": "code",
   "execution_count": 3,
   "metadata": {},
   "outputs": [],
   "source": [
    "shortforms = ['TIF']\n",
    "model_name = ':'.join(sorted(escape_filename(shortform) for shortform in shortforms))\n",
    "results_path = os.path.abspath(os.path.join('../..', 'results', model_name))"
   ]
  },
  {
   "cell_type": "code",
   "execution_count": 7,
   "metadata": {},
   "outputs": [],
   "source": [
    "miners = dict()\n",
    "all_texts = {}\n",
    "for shortform in shortforms:\n",
    "    pmids = get_pmids_for_agent_text(shortform)\n",
    "    if len(pmids) > 10000:\n",
    "        pmids = random.choices(pmids, k=10000)\n",
    "    text_dict = get_plaintexts_for_pmids(pmids, contains=shortforms)\n",
    "    text_dict = {pmid: text for pmid, text in text_dict.items() if len(text) > 5}\n",
    "    miners[shortform] = AdeftMiner(shortform)\n",
    "    miners[shortform].process_texts(text_dict.values())\n",
    "    all_texts.update(text_dict)\n",
    "\n",
    "longform_dict = {}\n",
    "for shortform in shortforms:\n",
    "    longforms = miners[shortform].get_longforms()\n",
    "    longforms = [(longform, count, score) for longform, count, score in longforms\n",
    "                 if count*score > 1]\n",
    "    longform_dict[shortform] = longforms\n",
    "    \n",
    "combined_longforms = Counter()\n",
    "for longform_rows in longform_dict.values():\n",
    "    combined_longforms.update({longform: count for longform, count, score\n",
    "                               in longform_rows})\n",
    "grounding_map = {}\n",
    "names = {}\n",
    "for longform in combined_longforms:\n",
    "    groundings = adeft_grounder.ground(longform)\n",
    "    if groundings:\n",
    "        grounding = groundings[0]['grounding']\n",
    "        grounding_map[longform] = grounding\n",
    "        names[grounding] = groundings[0]['name']\n",
    "longforms, counts = zip(*combined_longforms.most_common())\n",
    "pos_labels = []"
   ]
  },
  {
   "cell_type": "code",
   "execution_count": 8,
   "metadata": {},
   "outputs": [
    {
     "data": {
      "text/plain": [
       "[('tif', 85),\n",
       " ('tubulointerstitial fibrosis', 47),\n",
       " ('telomere dysfunction induced foci', 15),\n",
       " ('transoral incisionless fundoplication', 12),\n",
       " ('tumor interstitial fluid', 10),\n",
       " ('testicular interstitial fluid', 7),\n",
       " ('transcription initiation factor', 6),\n",
       " ('two independent experiments', 6),\n",
       " ('thalassaemia international federation', 4),\n",
       " ('trypanosomal immunosuppressive factor', 4),\n",
       " ('total impermeable film', 3),\n",
       " ('tetraiodofluorescein', 3),\n",
       " ('three independent experiments with similar results', 3),\n",
       " ('results is shown', 3),\n",
       " ('test information function', 2),\n",
       " ('tubular interstitial fibrosis', 2),\n",
       " ('tubule interstitial fibrosis', 2),\n",
       " ('triton insoluble f actin', 2),\n",
       " ('time to be inotrope free', 2),\n",
       " ('triplicate', 2),\n",
       " ('two independent experiments with similar results', 2)]"
      ]
     },
     "execution_count": 8,
     "metadata": {},
     "output_type": "execute_result"
    }
   ],
   "source": [
    "list(zip(longforms, counts))"
   ]
  },
  {
   "cell_type": "code",
   "execution_count": 6,
   "metadata": {},
   "outputs": [
    {
     "name": "stderr",
     "output_type": "stream",
     "text": [
      "INFO: [2020-09-25 14:47:31] indra.ontology.bio.ontology - Loading INDRA bio ontology from cache at /home/ubuntu/.indra/bio_ontology/1.2/bio_ontology.pkl\n"
     ]
    }
   ],
   "source": [
    "grounding_map, names, pos_labels = ground_with_gui(longforms, counts, \n",
    "                                                   grounding_map=grounding_map,\n",
    "                                                   names=names, pos_labels=pos_labels, no_browser=True, port=8890)"
   ]
  },
  {
   "cell_type": "code",
   "execution_count": 7,
   "metadata": {},
   "outputs": [],
   "source": [
    "result = [grounding_map, names, pos_labels]"
   ]
  },
  {
   "cell_type": "code",
   "execution_count": 8,
   "metadata": {},
   "outputs": [
    {
     "data": {
      "text/plain": [
       "[{'benzaldehyde lyase': 'MESH:C059416',\n",
       "  'betaine aldehyde': 'CHEBI:CHEBI:15710',\n",
       "  'bile salt activity lipase': 'HGNC:1848',\n",
       "  'bioartificial liver': 'MESH:D019164',\n",
       "  'blood alcohol levels': 'ungrounded',\n",
       "  'breath alcohol levels': 'ungrounded',\n",
       "  'british anti lewisite': 'CHEBI:CHEBI:64198',\n",
       "  'brochoalveolar lavage': 'MESH:D018893',\n",
       "  'bronchalveolar lavage': 'MESH:D018893',\n",
       "  'bronchial alveolar lavage': 'MESH:D018893',\n",
       "  'bronchial lavage': 'MESH:D018893',\n",
       "  'bronchio alveolar lavage': 'MESH:D018893',\n",
       "  'bronchiolar lavage': 'MESH:D018893',\n",
       "  'broncho alveolar lavage': 'MESH:D018893',\n",
       "  'bronchoalveolar': 'MESH:D018893',\n",
       "  'bronchoalveolar fluid': 'MESH:D018893',\n",
       "  'bronchoalveolar larvage': 'MESH:D018893',\n",
       "  'bronchoalveolar lavage': 'MESH:D018893'},\n",
       " {'MESH:C059416': 'benzaldehyde lyase',\n",
       "  'CHEBI:CHEBI:15710': 'betaine aldehyde',\n",
       "  'HGNC:1848': 'CEL',\n",
       "  'MESH:D019164': 'Liver, Artificial',\n",
       "  'CHEBI:CHEBI:64198': 'dimercaprol',\n",
       "  'MESH:D018893': 'Bronchoalveolar Lavage'},\n",
       " ['HGNC:1848', 'MESH:D018893']]"
      ]
     },
     "execution_count": 8,
     "metadata": {},
     "output_type": "execute_result"
    }
   ],
   "source": [
    "result"
   ]
  },
  {
   "cell_type": "code",
   "execution_count": 9,
   "metadata": {},
   "outputs": [],
   "source": [
    "grounding_map, names, pos_labels = ({'telomere dysfunction induced foci': 'ungrounded',\n",
    "  'test information function': 'ungrounded',\n",
    "  'testicular interstitial fluid': 'ungrounded',\n",
    "  'tetraiodofluorescein': 'CHEBI:CHEBI:61000',\n",
    "  'thalassaemia international federation': 'ungrounded',\n",
    "  'tissue interstitial fluid': 'ungrounded',\n",
    "  'totally impermeable film': 'ungrounded',\n",
    "  'transcription initiation factor': 'MESH:D035165',\n",
    "  'transoral incisionless fundoplication': 'MESH:D018662',\n",
    "  'trypanosomal immunosuppressive factor': 'ungrounded',\n",
    "  'tubular interstitial fibrosis': 'MESH:D009395',\n",
    "  'tubulo interstitial fibrosis': 'MESH:D009395',\n",
    "  'tubulointerstitial fibrosis': 'MESH:D009395',\n",
    "  'tumor interstitial fluid': 'ungrounded'},\n",
    " {'CHEBI:CHEBI:61000': 'erythrosin B',\n",
    "  'MESH:D035165': 'Transcription Factors, General',\n",
    "  'MESH:D018662': 'Fundoplication',\n",
    "  'MESH:D009395': 'Nephritis, Interstitial'},\n",
    " ['CHEBI:CHEBI:61000', 'MESH:D009395', 'MESH:D018662', 'MESH:D035165'])"
   ]
  },
  {
   "cell_type": "code",
   "execution_count": 16,
   "metadata": {},
   "outputs": [],
   "source": [
    "excluded_longforms = ['tif']"
   ]
  },
  {
   "cell_type": "code",
   "execution_count": 17,
   "metadata": {},
   "outputs": [],
   "source": [
    "grounding_dict = {shortform: {longform: grounding_map[longform] \n",
    "                              for longform, _, _ in longforms if longform in grounding_map\n",
    "                              and longform not in excluded_longforms}\n",
    "                  for shortform, longforms in longform_dict.items()}\n",
    "result = [grounding_dict, names, pos_labels]\n",
    "\n",
    "if not os.path.exists(results_path):\n",
    "    os.mkdir(results_path)\n",
    "with open(os.path.join(results_path, f'{model_name}_preliminary_grounding_info.json'), 'w') as f:\n",
    "    json.dump(result, f)"
   ]
  },
  {
   "cell_type": "code",
   "execution_count": 18,
   "metadata": {},
   "outputs": [],
   "source": [
    "additional_entities = {}"
   ]
  },
  {
   "cell_type": "code",
   "execution_count": 19,
   "metadata": {},
   "outputs": [],
   "source": [
    "unambiguous_agent_texts = {}"
   ]
  },
  {
   "cell_type": "code",
   "execution_count": 14,
   "metadata": {},
   "outputs": [],
   "source": [
    "labeler = AdeftLabeler(grounding_dict)\n",
    "corpus = labeler.build_from_texts((text, pmid) for pmid, text in all_texts.items())\n",
    "agent_text_pmid_map = defaultdict(list)\n",
    "for text, label, id_ in corpus:\n",
    "    agent_text_pmid_map[label].append(id_)\n",
    "\n",
    "entity_pmid_map = {entity: set(get_pmids_for_entity(*entity.split(':', maxsplit=1),\n",
    "                                                major_topic=True))for entity in additional_entities}"
   ]
  },
  {
   "cell_type": "code",
   "execution_count": 12,
   "metadata": {},
   "outputs": [],
   "source": [
    "intersection1 = []\n",
    "for entity1, pmids1 in entity_pmid_map.items():\n",
    "    for entity2, pmids2 in entity_pmid_map.items():\n",
    "        intersection1.append((entity1, entity2, len(pmids1 & pmids2)))"
   ]
  },
  {
   "cell_type": "code",
   "execution_count": 13,
   "metadata": {},
   "outputs": [],
   "source": [
    "intersection2 = []\n",
    "for entity1, pmids1 in agent_text_pmid_map.items():\n",
    "    for entity2, pmids2 in entity_pmid_map.items():\n",
    "        intersection2.append((entity1, entity2, len(set(pmids1) & pmids2)))"
   ]
  },
  {
   "cell_type": "code",
   "execution_count": 14,
   "metadata": {},
   "outputs": [
    {
     "data": {
      "text/plain": [
       "[('HGNC:1848', 'HGNC:1848', 86)]"
      ]
     },
     "execution_count": 14,
     "metadata": {},
     "output_type": "execute_result"
    }
   ],
   "source": [
    "intersection1"
   ]
  },
  {
   "cell_type": "code",
   "execution_count": 15,
   "metadata": {},
   "outputs": [
    {
     "data": {
      "text/plain": [
       "[('MESH:D018893', 'HGNC:1848', 0),\n",
       " ('HGNC:1848', 'HGNC:1848', 1),\n",
       " ('ungrounded', 'HGNC:1848', 0),\n",
       " ('CHEBI:CHEBI:64198', 'HGNC:1848', 0),\n",
       " ('MESH:D019164', 'HGNC:1848', 0),\n",
       " ('MESH:C059416', 'HGNC:1848', 0),\n",
       " ('CHEBI:CHEBI:15710', 'HGNC:1848', 0)]"
      ]
     },
     "execution_count": 15,
     "metadata": {},
     "output_type": "execute_result"
    }
   ],
   "source": [
    "intersection2"
   ]
  },
  {
   "cell_type": "code",
   "execution_count": 1,
   "metadata": {},
   "outputs": [
    {
     "ename": "NameError",
     "evalue": "name 'unambiguous_agent_texts' is not defined",
     "output_type": "error",
     "traceback": [
      "\u001b[0;31m---------------------------------------------------------------------------\u001b[0m",
      "\u001b[0;31mNameError\u001b[0m                                 Traceback (most recent call last)",
      "\u001b[0;32m<ipython-input-1-d5ed006a6b67>\u001b[0m in \u001b[0;36m<module>\u001b[0;34m\u001b[0m\n\u001b[1;32m      1\u001b[0m \u001b[0mall_used_pmids\u001b[0m \u001b[0;34m=\u001b[0m \u001b[0mset\u001b[0m\u001b[0;34m(\u001b[0m\u001b[0;34m)\u001b[0m\u001b[0;34m\u001b[0m\u001b[0;34m\u001b[0m\u001b[0m\n\u001b[0;32m----> 2\u001b[0;31m \u001b[0;32mfor\u001b[0m \u001b[0mentity\u001b[0m\u001b[0;34m,\u001b[0m \u001b[0magent_texts\u001b[0m \u001b[0;32min\u001b[0m \u001b[0munambiguous_agent_texts\u001b[0m\u001b[0;34m.\u001b[0m\u001b[0mitems\u001b[0m\u001b[0;34m(\u001b[0m\u001b[0;34m)\u001b[0m\u001b[0;34m:\u001b[0m\u001b[0;34m\u001b[0m\u001b[0;34m\u001b[0m\u001b[0m\n\u001b[0m\u001b[1;32m      3\u001b[0m     \u001b[0mused_pmids\u001b[0m \u001b[0;34m=\u001b[0m \u001b[0mset\u001b[0m\u001b[0;34m(\u001b[0m\u001b[0;34m)\u001b[0m\u001b[0;34m\u001b[0m\u001b[0;34m\u001b[0m\u001b[0m\n\u001b[1;32m      4\u001b[0m     \u001b[0;32mfor\u001b[0m \u001b[0magent_text\u001b[0m \u001b[0;32min\u001b[0m \u001b[0magent_texts\u001b[0m\u001b[0;34m[\u001b[0m\u001b[0;36m1\u001b[0m\u001b[0;34m]\u001b[0m\u001b[0;34m:\u001b[0m\u001b[0;34m\u001b[0m\u001b[0;34m\u001b[0m\u001b[0m\n\u001b[1;32m      5\u001b[0m         \u001b[0mpmids\u001b[0m \u001b[0;34m=\u001b[0m \u001b[0mset\u001b[0m\u001b[0;34m(\u001b[0m\u001b[0mget_pmids_for_agent_text\u001b[0m\u001b[0;34m(\u001b[0m\u001b[0magent_text\u001b[0m\u001b[0;34m)\u001b[0m\u001b[0;34m)\u001b[0m\u001b[0;34m\u001b[0m\u001b[0;34m\u001b[0m\u001b[0m\n",
      "\u001b[0;31mNameError\u001b[0m: name 'unambiguous_agent_texts' is not defined"
     ]
    }
   ],
   "source": [
    "all_used_pmids = set()\n",
    "for entity, agent_texts in unambiguous_agent_texts.items():\n",
    "    used_pmids = set()\n",
    "    for agent_text in agent_texts[1]:\n",
    "        pmids = set(get_pmids_for_agent_text(agent_text))\n",
    "        new_pmids = list(pmids - all_texts.keys() - used_pmids)\n",
    "        text_dict = get_plaintexts_for_pmids(new_pmids, contains=agent_texts)\n",
    "        corpus.extend([(text, entity, pmid) for pmid, text in text_dict.items() if len(text) >= 5])\n",
    "        used_pmids.update(new_pmids)\n",
    "    all_used_pmids.update(used_pmids)\n",
    "        \n",
    "for entity, pmids in entity_pmid_map.items():\n",
    "    new_pmids = list(set(pmids) - all_texts.keys() - all_used_pmids)\n",
    "    if len(new_pmids) > 10000:\n",
    "        new_pmids = random.choices(new_pmids, k=10000)\n",
    "    _, contains = additional_entities[entity]\n",
    "    text_dict = get_plaintexts_for_pmids(new_pmids, contains=contains)\n",
    "    corpus.extend([(text, entity, pmid) for pmid, text in text_dict.items() if len(text) >= 5])"
   ]
  },
  {
   "cell_type": "code",
   "execution_count": 18,
   "metadata": {},
   "outputs": [],
   "source": [
    "names.update({key: value[0] for key, value in additional_entities.items()})\n",
    "names.update({key: value[0] for key, value in unambiguous_agent_texts.items()})\n",
    "pos_labels = list(set(pos_labels) | additional_entities.keys() |\n",
    "                  unambiguous_agent_texts.keys())"
   ]
  },
  {
   "cell_type": "code",
   "execution_count": 15,
   "metadata": {},
   "outputs": [
    {
     "name": "stderr",
     "output_type": "stream",
     "text": [
      "INFO: [2020-10-29 04:04:14] /adeft/PP/adeft/adeft/modeling/classify.py - Beginning grid search in parameter space:\n",
      "{'C': [100.0], 'max_features': [10000]}\n",
      "INFO: [2020-10-29 04:04:17] /adeft/PP/adeft/adeft/modeling/classify.py - Best f1 score of 0.9571717171717171 found for parameter values:\n",
      "{'logit__C': 100.0, 'tfidf__max_features': 10000}\n"
     ]
    }
   ],
   "source": [
    "%%capture\n",
    "\n",
    "classifier = AdeftClassifier(shortforms, pos_labels=pos_labels, random_state=1729)\n",
    "param_grid = {'C': [100.0], 'max_features': [10000]}\n",
    "texts, labels, pmids = zip(*corpus)\n",
    "classifier.cv(texts, labels, param_grid, cv=5, n_jobs=5)"
   ]
  },
  {
   "cell_type": "code",
   "execution_count": 20,
   "metadata": {
    "scrolled": true
   },
   "outputs": [
    {
     "data": {
      "text/plain": [
       "{'label_distribution': {'MESH:D018893': 1259,\n",
       "  'HGNC:1848': 86,\n",
       "  'ungrounded': 17,\n",
       "  'CHEBI:CHEBI:64198': 8,\n",
       "  'MESH:D019164': 18,\n",
       "  'MESH:C059416': 3,\n",
       "  'CHEBI:CHEBI:15710': 2},\n",
       " 'f1': {'mean': 0.993068, 'std': 0.002061},\n",
       " 'precision': {'mean': 0.987107, 'std': 0.004015},\n",
       " 'recall': {'mean': 0.999257, 'std': 0.001487},\n",
       " 'CHEBI:CHEBI:15710': {'f1': {'mean': 0.0, 'std': 0.0},\n",
       "  'pr': {'mean': 0.0, 'std': 0.0},\n",
       "  'rc': {'mean': 0.0, 'std': 0.0}},\n",
       " 'ungrounded': {'f1': {'mean': 0.67, 'std': 0.345832},\n",
       "  'pr': {'mean': 0.616667, 'std': 0.331662},\n",
       "  'rc': {'mean': 0.75, 'std': 0.387298}},\n",
       " 'HGNC:1848': {'f1': {'mean': 0.978069, 'std': 0.031578},\n",
       "  'pr': {'mean': 1.0, 'std': 0.0},\n",
       "  'rc': {'mean': 0.958889, 'std': 0.058542}},\n",
       " 'MESH:D019164': {'f1': {'mean': 0.914286, 'std': 0.069985},\n",
       "  'pr': {'mean': 0.85, 'std': 0.122474},\n",
       "  'rc': {'mean': 1.0, 'std': 0.0}},\n",
       " 'MESH:D018893': {'f1': {'mean': 0.994077, 'std': 0.001757},\n",
       "  'pr': {'mean': 0.999206, 'std': 0.001587},\n",
       "  'rc': {'mean': 0.989004, 'std': 0.002898}},\n",
       " 'CHEBI:CHEBI:64198': {'f1': {'mean': 0.466667, 'std': 0.4},\n",
       "  'pr': {'mean': 0.4, 'std': 0.374166},\n",
       "  'rc': {'mean': 0.6, 'std': 0.489898}},\n",
       " 'MESH:C059416': {'f1': {'mean': 0.2, 'std': 0.4},\n",
       "  'pr': {'mean': 0.2, 'std': 0.4},\n",
       "  'rc': {'mean': 0.2, 'std': 0.4}}}"
      ]
     },
     "execution_count": 20,
     "metadata": {},
     "output_type": "execute_result"
    }
   ],
   "source": [
    "classifier.stats"
   ]
  },
  {
   "cell_type": "code",
   "execution_count": 20,
   "metadata": {},
   "outputs": [],
   "source": [
    "disamb = AdeftDisambiguator(classifier, grounding_dict, names)"
   ]
  },
  {
   "cell_type": "code",
   "execution_count": 21,
   "metadata": {},
   "outputs": [],
   "source": [
    "disamb.dump(model_name, results_path)"
   ]
  },
  {
   "cell_type": "code",
   "execution_count": 22,
   "metadata": {},
   "outputs": [
    {
     "name": "stdout",
     "output_type": "stream",
     "text": [
      "Disambiguation model for TIF\n",
      "\n",
      "Produces the disambiguations:\n",
      "\tFundoplication*\tMESH:D018662\n",
      "\tNephritis, Interstitial*\tMESH:D009395\n",
      "\tTranscription Factors, General*\tMESH:D035165\n",
      "\terythrosin B*\tCHEBI:CHEBI:61000\n",
      "\n",
      "Class level metrics:\n",
      "--------------------\n",
      "Grounding                     \tCount\tF1     \n",
      "       Nephritis, Interstitial*\t39\t0.96444\n",
      "                    Ungrounded\t30\t   0.96\n",
      "                Fundoplication*\t 8\t    1.0\n",
      "Transcription Factors, General*\t 5\t    1.0\n",
      "                  erythrosin B*\t 2\t    0.2\n",
      "\n",
      "Weighted Metrics:\n",
      "-----------------\n",
      "\tF1 score:\t0.95717\n",
      "\tPrecision:\t0.93682\n",
      "\tRecall:\t\t0.98182\n",
      "\n",
      "* Positive labels\n",
      "See Docstring for explanation\n",
      "\n"
     ]
    }
   ],
   "source": [
    "print(disamb.info())"
   ]
  },
  {
   "cell_type": "code",
   "execution_count": 23,
   "metadata": {},
   "outputs": [],
   "source": [
    "model_to_s3(disamb)"
   ]
  },
  {
   "cell_type": "code",
   "execution_count": null,
   "metadata": {},
   "outputs": [],
   "source": []
  }
 ],
 "metadata": {
  "kernelspec": {
   "display_name": "Python 3",
   "language": "python",
   "name": "python3"
  },
  "language_info": {
   "codemirror_mode": {
    "name": "ipython",
    "version": 3
   },
   "file_extension": ".py",
   "mimetype": "text/x-python",
   "name": "python",
   "nbconvert_exporter": "python",
   "pygments_lexer": "ipython3",
   "version": "3.8.4"
  }
 },
 "nbformat": 4,
 "nbformat_minor": 2
}
