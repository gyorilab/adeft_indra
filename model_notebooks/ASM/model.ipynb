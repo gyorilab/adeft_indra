{
 "cells": [
  {
   "cell_type": "code",
   "execution_count": 1,
   "metadata": {},
   "outputs": [],
   "source": [
    "import os\n",
    "import json\n",
    "import pickle\n",
    "import random\n",
    "from collections import defaultdict, Counter\n",
    "\n",
    "from indra.literature.adeft_tools import universal_extract_text\n",
    "from indra.databases.hgnc_client import get_hgnc_name, get_hgnc_id\n",
    "\n",
    "from adeft.discover import AdeftMiner\n",
    "from adeft.gui import ground_with_gui\n",
    "from adeft.modeling.label import AdeftLabeler\n",
    "from adeft.modeling.classify import AdeftClassifier\n",
    "from adeft.disambiguate import AdeftDisambiguator\n",
    "\n",
    "\n",
    "from adeft_indra.ground.ground import AdeftGrounder\n",
    "from adeft_indra.model_building.s3 import model_to_s3\n",
    "from adeft_indra.model_building.escape import escape_filename\n",
    "from adeft_indra.db.content import get_pmids_for_agent_text, get_pmids_for_entity, \\\n",
    "    get_plaintexts_for_pmids"
   ]
  },
  {
   "cell_type": "code",
   "execution_count": 2,
   "metadata": {},
   "outputs": [],
   "source": [
    "adeft_grounder = AdeftGrounder()"
   ]
  },
  {
   "cell_type": "code",
   "execution_count": 3,
   "metadata": {},
   "outputs": [],
   "source": [
    "shortforms = ['ASM']\n",
    "model_name = ':'.join(sorted(escape_filename(shortform) for shortform in shortforms))\n",
    "results_path = os.path.abspath(os.path.join('../..', 'results', model_name))"
   ]
  },
  {
   "cell_type": "code",
   "execution_count": 4,
   "metadata": {},
   "outputs": [],
   "source": [
    "miners = dict()\n",
    "all_texts = {}\n",
    "for shortform in shortforms:\n",
    "    pmids = get_pmids_for_agent_text(shortform)\n",
    "    if len(pmids) > 10000:\n",
    "        pmids = random.choices(pmids, k=10000)\n",
    "    text_dict = get_plaintexts_for_pmids(pmids, contains=shortforms)\n",
    "    text_dict = {pmid: text for pmid, text in text_dict.items() if len(text) > 5}\n",
    "    miners[shortform] = AdeftMiner(shortform)\n",
    "    miners[shortform].process_texts(text_dict.values())\n",
    "    all_texts.update(text_dict)\n",
    "\n",
    "longform_dict = {}\n",
    "for shortform in shortforms:\n",
    "    longforms = miners[shortform].get_longforms()\n",
    "    longforms = [(longform, count, score) for longform, count, score in longforms\n",
    "                 if count*score > 2]\n",
    "    longform_dict[shortform] = longforms\n",
    "    \n",
    "combined_longforms = Counter()\n",
    "for longform_rows in longform_dict.values():\n",
    "    combined_longforms.update({longform: count for longform, count, score\n",
    "                               in longform_rows})\n",
    "grounding_map = {}\n",
    "names = {}\n",
    "for longform in combined_longforms:\n",
    "    groundings = adeft_grounder.ground(longform)\n",
    "    if groundings:\n",
    "        grounding = groundings[0]['grounding']\n",
    "        grounding_map[longform] = grounding\n",
    "        names[grounding] = groundings[0]['name']\n",
    "longforms, counts = zip(*combined_longforms.most_common())\n",
    "pos_labels = []"
   ]
  },
  {
   "cell_type": "code",
   "execution_count": 5,
   "metadata": {},
   "outputs": [
    {
     "data": {
      "text/plain": [
       "[('airway smooth muscle', 824),\n",
       " ('acid sphingomyelinase', 247),\n",
       " ('acibenzolar s methyl', 24),\n",
       " ('allele specific methyl', 14),\n",
       " ('appendicular skeletal muscle mass', 10),\n",
       " ('artificial sputum medium', 9),\n",
       " ('smooth muscle area', 9),\n",
       " ('anesthesia sensitive memory', 8),\n",
       " ('airway smooth muscle cells', 8),\n",
       " ('allele specific dna methyl', 7),\n",
       " ('acid soluble metabolites', 5),\n",
       " ('asian summer monsoon', 5),\n",
       " ('acibenzolar s methyl treated', 4),\n",
       " ('acid soluble matrix', 3),\n",
       " ('alpine swamp meadow', 3),\n",
       " ('aggressive sm', 3),\n",
       " ('aggressive system mastocytosis', 3),\n",
       " ('atrial siphon muscle', 3),\n",
       " ('arterial smooth muscle', 3)]"
      ]
     },
     "execution_count": 5,
     "metadata": {},
     "output_type": "execute_result"
    }
   ],
   "source": [
    "list(zip(longforms, counts))"
   ]
  },
  {
   "cell_type": "code",
   "execution_count": 8,
   "metadata": {},
   "outputs": [],
   "source": [
    "grounding_map, names, pos_labels = ground_with_gui(longforms, counts, \n",
    "                                                   grounding_map=grounding_map,\n",
    "                                                   names=names, pos_labels=pos_labels, no_browser=True, port=8890)"
   ]
  },
  {
   "cell_type": "code",
   "execution_count": 9,
   "metadata": {},
   "outputs": [],
   "source": [
    "result = [grounding_map, names, pos_labels]"
   ]
  },
  {
   "cell_type": "code",
   "execution_count": 10,
   "metadata": {},
   "outputs": [
    {
     "data": {
      "text/plain": [
       "[{'acibenzolar s methyl': 'CHEBI:CHEBI:73178',\n",
       "  'acibenzolar s methyl treated': 'ungrounded',\n",
       "  'acid soluble matrix': 'ungrounded',\n",
       "  'acid soluble metabolites': 'ungrounded',\n",
       "  'acid sphingomyelinase': 'HGNC:11120',\n",
       "  'aggressive sm': 'ungrounded',\n",
       "  'aggressive system mastocytosis': 'ungrounded',\n",
       "  'airway smooth muscle': 'BTO:0001660',\n",
       "  'airway smooth muscle cells': 'MESH:D032389',\n",
       "  'allele specific dna methyl': 'ungrounded',\n",
       "  'allele specific methyl': 'ungrounded',\n",
       "  'alpine swamp meadow': 'ungrounded',\n",
       "  'anesthesia sensitive memory': 'ungrounded',\n",
       "  'appendicular skeletal muscle mass': 'ungrounded',\n",
       "  'arterial smooth muscle': 'ungrounded',\n",
       "  'artificial sputum medium': 'ungrounded',\n",
       "  'asian summer monsoon': 'ungrounded',\n",
       "  'atrial siphon muscle': 'ungrounded',\n",
       "  'smooth muscle area': 'ungrounded'},\n",
       " {'CHEBI:CHEBI:73178': 'acibenzolar-S-methyl',\n",
       "  'HGNC:11120': 'SMPD1',\n",
       "  'BTO:0001660': 'respiratory smooth muscle',\n",
       "  'MESH:D032389': 'Myocytes, Smooth Muscle'},\n",
       " ['BTO:0001660', 'CHEBI:CHEBI:73178', 'HGNC:11120']]"
      ]
     },
     "execution_count": 10,
     "metadata": {},
     "output_type": "execute_result"
    }
   ],
   "source": [
    "result"
   ]
  },
  {
   "cell_type": "code",
   "execution_count": 7,
   "metadata": {},
   "outputs": [],
   "source": [
    "grounding_map, names, pos_labels = [{'acibenzolar s methyl': 'CHEBI:CHEBI:73178',\n",
    "  'acibenzolar s methyl treated': 'CHEBI:CHEBI:73178',\n",
    "  'acid soluble matrix': 'ungrounded',\n",
    "  'acid soluble metabolites': 'ungrounded',\n",
    "  'acid sphingomyelinase': 'HGNC:11120',\n",
    "  'aggressive sm': 'ungrounded',\n",
    "  'aggressive system mastocytosis': 'ungrounded',\n",
    "  'airway smooth muscle': 'BTO:0001660',\n",
    "  'airway smooth muscle cells': 'BTO:0001660',\n",
    "  'allele specific dna methyl': 'ungrounded',\n",
    "  'allele specific methyl': 'ungrounded',\n",
    "  'alpine swamp meadow': 'ungrounded',\n",
    "  'anesthesia sensitive memory': 'ungrounded',\n",
    "  'appendicular skeletal muscle mass': 'ungrounded',\n",
    "  'arterial smooth muscle': 'ungrounded',\n",
    "  'artificial sputum medium': 'ungrounded',\n",
    "  'asian summer monsoon': 'ungrounded',\n",
    "  'atrial siphon muscle': 'ungrounded',\n",
    "  'smooth muscle area': 'ungrounded'},\n",
    " {'CHEBI:CHEBI:73178': 'acibenzolar-S-methyl',\n",
    "  'HGNC:11120': 'SMPD1',\n",
    "  'BTO:0001660': 'respiratory smooth muscle'},\n",
    " ['BTO:0001660', 'CHEBI:CHEBI:73178', 'HGNC:11120']]"
   ]
  },
  {
   "cell_type": "code",
   "execution_count": 8,
   "metadata": {},
   "outputs": [],
   "source": [
    "excluded_longforms = []"
   ]
  },
  {
   "cell_type": "code",
   "execution_count": 9,
   "metadata": {},
   "outputs": [],
   "source": [
    "grounding_dict = {shortform: {longform: grounding_map[longform] \n",
    "                              for longform, _, _ in longforms if longform in grounding_map\n",
    "                              and longform not in excluded_longforms}\n",
    "                  for shortform, longforms in longform_dict.items()}\n",
    "result = [grounding_dict, names, pos_labels]\n",
    "\n",
    "if not os.path.exists(results_path):\n",
    "    os.mkdir(results_path)\n",
    "with open(os.path.join(results_path, f'{model_name}_preliminary_grounding_info.json'), 'w') as f:\n",
    "    json.dump(result, f)"
   ]
  },
  {
   "cell_type": "code",
   "execution_count": 10,
   "metadata": {},
   "outputs": [],
   "source": [
    "additional_entities = {}"
   ]
  },
  {
   "cell_type": "code",
   "execution_count": 11,
   "metadata": {},
   "outputs": [],
   "source": [
    "unambiguous_agent_texts = {}"
   ]
  },
  {
   "cell_type": "code",
   "execution_count": 12,
   "metadata": {},
   "outputs": [],
   "source": [
    "labeler = AdeftLabeler(grounding_dict)\n",
    "corpus = labeler.build_from_texts((text, pmid) for pmid, text in all_texts.items())\n",
    "agent_text_pmid_map = defaultdict(list)\n",
    "for text, label, id_ in corpus:\n",
    "    agent_text_pmid_map[label].append(id_)\n",
    "\n",
    "entity_pmid_map = {entity: set(get_pmids_for_entity(*entity.split(':', maxsplit=1),\n",
    "                                                major_topic=True))for entity in additional_entities}"
   ]
  },
  {
   "cell_type": "code",
   "execution_count": 13,
   "metadata": {},
   "outputs": [],
   "source": [
    "intersection1 = []\n",
    "for entity1, pmids1 in entity_pmid_map.items():\n",
    "    for entity2, pmids2 in entity_pmid_map.items():\n",
    "        intersection1.append((entity1, entity2, len(pmids1 & pmids2)))"
   ]
  },
  {
   "cell_type": "code",
   "execution_count": 14,
   "metadata": {},
   "outputs": [],
   "source": [
    "intersection2 = []\n",
    "for entity1, pmids1 in agent_text_pmid_map.items():\n",
    "    for entity2, pmids2 in entity_pmid_map.items():\n",
    "        intersection2.append((entity1, entity2, len(set(pmids1) & pmids2)))"
   ]
  },
  {
   "cell_type": "code",
   "execution_count": 15,
   "metadata": {},
   "outputs": [
    {
     "data": {
      "text/plain": [
       "[]"
      ]
     },
     "execution_count": 15,
     "metadata": {},
     "output_type": "execute_result"
    }
   ],
   "source": [
    "intersection1"
   ]
  },
  {
   "cell_type": "code",
   "execution_count": 16,
   "metadata": {},
   "outputs": [
    {
     "data": {
      "text/plain": [
       "[]"
      ]
     },
     "execution_count": 16,
     "metadata": {},
     "output_type": "execute_result"
    }
   ],
   "source": [
    "intersection2"
   ]
  },
  {
   "cell_type": "code",
   "execution_count": null,
   "metadata": {},
   "outputs": [],
   "source": []
  },
  {
   "cell_type": "code",
   "execution_count": 20,
   "metadata": {},
   "outputs": [],
   "source": [
    "all_used_pmids = set()\n",
    "for entity, agent_texts in unambiguous_agent_texts.items():\n",
    "    used_pmids = set()\n",
    "    for agent_text in agent_texts:\n",
    "        pmids = set(get_pmids_for_agent_text(agent_text))\n",
    "        new_pmids = list(pmids - all_texts.keys() - used_pmids)\n",
    "        text_dict = get_plaintexts_for_pmids(new_pmids, contains=agent_texts)\n",
    "        corpus.extend([(text, entity, pmid) for pmid, text in text_dict.items()])\n",
    "        used_pmids.update(new_pmids)\n",
    "    all_used_pmids.update(used_pmids)\n",
    "        \n",
    "for entity, pmids in entity_pmid_map.items():\n",
    "    new_pmids = list(set(pmids) - all_texts.keys() - all_used_pmids)\n",
    "    if len(new_pmids) > 10000:\n",
    "        new_pmids = random.choices(new_pmids, k=10000)\n",
    "    text_dict = get_plaintexts_for_pmids(new_pmids, contains=['RTCA', 'RTCD1', 'RPC', 'RTC1', 'RTC'])\n",
    "    corpus.extend([(text, entity, pmid) for pmid, text in text_dict.items()])"
   ]
  },
  {
   "cell_type": "code",
   "execution_count": null,
   "metadata": {},
   "outputs": [],
   "source": [
    "names.update(additional_entitie)"
   ]
  },
  {
   "cell_type": "code",
   "execution_count": 17,
   "metadata": {},
   "outputs": [
    {
     "name": "stderr",
     "output_type": "stream",
     "text": [
      "INFO: [2020-10-26 01:58:53] /adeft/PythonRepos/adeft/adeft/modeling/classify.py - Beginning grid search in parameter space:\n",
      "{'C': [100.0], 'max_features': [10000]}\n",
      "INFO: [2020-10-26 01:59:06] /adeft/PythonRepos/adeft/adeft/modeling/classify.py - Best f1 score of 0.9821676718486613 found for parameter values:\n",
      "{'logit__C': 100.0, 'tfidf__max_features': 10000}\n"
     ]
    }
   ],
   "source": [
    "%%capture\n",
    "\n",
    "classifier = AdeftClassifier(shortforms, pos_labels=pos_labels, random_state=1729)\n",
    "param_grid = {'C': [100.0], 'max_features': [10000]}\n",
    "texts, labels, pmids = zip(*corpus)\n",
    "classifier.cv(texts, labels, param_grid, cv=5, n_jobs=5)"
   ]
  },
  {
   "cell_type": "code",
   "execution_count": 19,
   "metadata": {
    "scrolled": true
   },
   "outputs": [
    {
     "data": {
      "text/plain": [
       "{'label_distribution': {'BTO:0001660': 609,\n",
       "  'HGNC:11120': 185,\n",
       "  'CHEBI:CHEBI:73178': 19,\n",
       "  'ungrounded': 51},\n",
       " 'f1': {'mean': 0.982168, 'std': 0.010477},\n",
       " 'precision': {'mean': 0.979454, 'std': 0.008262},\n",
       " 'recall': {'mean': 0.986488, 'std': 0.012511},\n",
       " 'ungrounded': {'f1': {'mean': 0.916725, 'std': 0.025347},\n",
       "  'pr': {'mean': 0.863636, 'std': 0.044906},\n",
       "  'rc': {'mean': 0.98, 'std': 0.04}},\n",
       " 'CHEBI:CHEBI:73178': {'f1': {'mean': 0.847619, 'std': 0.106053},\n",
       "  'pr': {'mean': 0.75, 'std': 0.158114},\n",
       "  'rc': {'mean': 1.0, 'std': 0.0}},\n",
       " 'HGNC:11120': {'f1': {'mean': 0.980816, 'std': 0.018918},\n",
       "  'pr': {'mean': 0.978378, 'std': 0.031519},\n",
       "  'rc': {'mean': 0.983759, 'std': 0.013286}},\n",
       " 'BTO:0001660': {'f1': {'mean': 0.987005, 'std': 0.007836},\n",
       "  'pr': {'mean': 0.996721, 'std': 0.006557},\n",
       "  'rc': {'mean': 0.977484, 'std': 0.009283}}}"
      ]
     },
     "execution_count": 19,
     "metadata": {},
     "output_type": "execute_result"
    }
   ],
   "source": [
    "classifier.stats"
   ]
  },
  {
   "cell_type": "code",
   "execution_count": 18,
   "metadata": {},
   "outputs": [],
   "source": [
    "disamb = AdeftDisambiguator(classifier, grounding_dict, names)"
   ]
  },
  {
   "cell_type": "code",
   "execution_count": 19,
   "metadata": {},
   "outputs": [],
   "source": [
    "disamb.dump(model_name, results_path)"
   ]
  },
  {
   "cell_type": "code",
   "execution_count": 20,
   "metadata": {},
   "outputs": [
    {
     "name": "stdout",
     "output_type": "stream",
     "text": [
      "Disambiguation model for ASM\n",
      "\n",
      "Produces the disambiguations:\n",
      "\tSMPD1*\tHGNC:11120\n",
      "\tacibenzolar-S-methyl*\tCHEBI:CHEBI:73178\n",
      "\trespiratory smooth muscle*\tBTO:0001660\n",
      "\n",
      "Class level metrics:\n",
      "--------------------\n",
      "Grounding                \tCount\tF1     \n",
      "respiratory smooth muscle*\t609\t  0.987\n",
      "                    SMPD1*\t185\t0.98082\n",
      "               Ungrounded\t 51\t0.91672\n",
      "     acibenzolar-S-methyl*\t 19\t0.84762\n",
      "\n",
      "Weighted Metrics:\n",
      "-----------------\n",
      "\tF1 score:\t0.98217\n",
      "\tPrecision:\t0.97945\n",
      "\tRecall:\t\t0.98649\n",
      "\n",
      "* Positive labels\n",
      "See Docstring for explanation\n",
      "\n"
     ]
    }
   ],
   "source": [
    "print(disamb.info())"
   ]
  },
  {
   "cell_type": "code",
   "execution_count": 21,
   "metadata": {},
   "outputs": [],
   "source": [
    "model_to_s3(disamb)"
   ]
  },
  {
   "cell_type": "code",
   "execution_count": null,
   "metadata": {},
   "outputs": [],
   "source": []
  }
 ],
 "metadata": {
  "kernelspec": {
   "display_name": "Python 3",
   "language": "python",
   "name": "python3"
  },
  "language_info": {
   "codemirror_mode": {
    "name": "ipython",
    "version": 3
   },
   "file_extension": ".py",
   "mimetype": "text/x-python",
   "name": "python",
   "nbconvert_exporter": "python",
   "pygments_lexer": "ipython3",
   "version": "3.8.4"
  }
 },
 "nbformat": 4,
 "nbformat_minor": 2
}
