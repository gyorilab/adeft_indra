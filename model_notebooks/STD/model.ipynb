{
 "cells": [
  {
   "cell_type": "code",
   "execution_count": 1,
   "metadata": {},
   "outputs": [],
   "source": [
    "import os\n",
    "import json\n",
    "import pickle\n",
    "import random\n",
    "from collections import defaultdict, Counter\n",
    "\n",
    "from indra.literature.adeft_tools import universal_extract_text\n",
    "from indra.databases.hgnc_client import get_hgnc_name, get_hgnc_id\n",
    "\n",
    "from adeft.discover import AdeftMiner\n",
    "from adeft.gui import ground_with_gui\n",
    "from adeft.modeling.label import AdeftLabeler\n",
    "from adeft.modeling.classify import AdeftClassifier\n",
    "from adeft.disambiguate import AdeftDisambiguator, load_disambiguator\n",
    "\n",
    "\n",
    "from adeft_indra.ground.ground import AdeftGrounder\n",
    "from adeft_indra.model_building.s3 import model_to_s3\n",
    "from adeft_indra.model_building.escape import escape_filename\n",
    "from adeft_indra.db.content import get_pmids_for_agent_text, get_pmids_for_entity, \\\n",
    "    get_plaintexts_for_pmids"
   ]
  },
  {
   "cell_type": "code",
   "execution_count": 2,
   "metadata": {},
   "outputs": [],
   "source": [
    "adeft_grounder = AdeftGrounder()"
   ]
  },
  {
   "cell_type": "code",
   "execution_count": 3,
   "metadata": {},
   "outputs": [],
   "source": [
    "shortforms = ['STD']\n",
    "model_name = ':'.join(sorted(escape_filename(shortform) for shortform in shortforms))\n",
    "results_path = os.path.abspath(os.path.join('../..', 'results', model_name))"
   ]
  },
  {
   "cell_type": "code",
   "execution_count": 10,
   "metadata": {},
   "outputs": [],
   "source": [
    "miners = dict()\n",
    "all_texts = {}\n",
    "for shortform in shortforms:\n",
    "    pmids = get_pmids_for_agent_text(shortform)\n",
    "    text_dict = get_plaintexts_for_pmids(pmids, contains=shortforms)\n",
    "    text_dict = {pmid: text for pmid, text in text_dict.items() if len(text) > 5}\n",
    "    miners[shortform] = AdeftMiner(shortform)\n",
    "    miners[shortform].process_texts(text_dict.values())\n",
    "    all_texts.update(text_dict)\n",
    "\n",
    "longform_dict = {}\n",
    "for shortform in shortforms:\n",
    "    longforms = miners[shortform].get_longforms()\n",
    "    longforms = [(longform, count, score) for longform, count, score in longforms\n",
    "                 if count*score > 1]\n",
    "    longform_dict[shortform] = longforms\n",
    "    \n",
    "combined_longforms = Counter()\n",
    "for longform_rows in longform_dict.values():\n",
    "    combined_longforms.update({longform: count for longform, count, score\n",
    "                               in longform_rows})\n",
    "grounding_map = {}\n",
    "names = {}\n",
    "for longform in combined_longforms:\n",
    "    groundings = adeft_grounder.ground(longform)\n",
    "    if groundings:\n",
    "        grounding = groundings[0]['grounding']\n",
    "        grounding_map[longform] = grounding\n",
    "        names[grounding] = groundings[0]['name']\n",
    "longforms, counts = zip(*combined_longforms.most_common())\n",
    "pos_labels = []"
   ]
  },
  {
   "cell_type": "code",
   "execution_count": 11,
   "metadata": {},
   "outputs": [
    {
     "data": {
      "text/plain": [
       "[('saturation transfer difference', 47),\n",
       " ('short term depression', 36),\n",
       " ('sexually transmitted disease', 25),\n",
       " ('standard diet', 14),\n",
       " ('standard deviation', 10),\n",
       " ('standard', 9),\n",
       " ('stichoposide d', 7),\n",
       " ('synaptic depression', 7),\n",
       " ('spike timing dependent', 3),\n",
       " ('standard treatment', 3),\n",
       " ('samples u c c d and', 3),\n",
       " ('sodium tungstate dihydrate', 2),\n",
       " ('short term depletion', 2),\n",
       " ('seminiferous tubular diameter', 2),\n",
       " ('seminiferous tubule diameter', 2),\n",
       " ('synthesis conditions', 2)]"
      ]
     },
     "execution_count": 11,
     "metadata": {},
     "output_type": "execute_result"
    }
   ],
   "source": [
    "list(zip(longforms, counts))"
   ]
  },
  {
   "cell_type": "code",
   "execution_count": 12,
   "metadata": {},
   "outputs": [],
   "source": [
    "try:\n",
    "    disamb = load_disambiguator(shortforms[0])\n",
    "    for shortform, gm in disamb.grounding_dict.items():\n",
    "        for longform, grounding in gm.items():\n",
    "            grounding_map[longform] = grounding\n",
    "    for grounding, name in disamb.names.items():\n",
    "        names[grounding] = name\n",
    "    pos_labels = disamb.pos_labels\n",
    "except Exception:\n",
    "    pass"
   ]
  },
  {
   "cell_type": "code",
   "execution_count": 13,
   "metadata": {},
   "outputs": [
    {
     "data": {
      "text/plain": [
       "{'MESH:D004032': 'Diet',\n",
       " 'MESH:C000609767': 'stichoposide D',\n",
       " 'MESH:D013812': 'Therapeutics',\n",
       " 'CHEBI:CHEBI:63939': 'sodium tungstate dihydrate',\n",
       " 'HGNC:11458': 'SULT2A1',\n",
       " 'MESH:D003866': 'Depressive Disorder',\n",
       " 'MESH:D009682': 'Magnetic Resonance Spectroscopy',\n",
       " 'MESH:D012749': 'Sexually Transmitted Diseases'}"
      ]
     },
     "execution_count": 13,
     "metadata": {},
     "output_type": "execute_result"
    }
   ],
   "source": [
    "names"
   ]
  },
  {
   "cell_type": "code",
   "execution_count": 14,
   "metadata": {},
   "outputs": [
    {
     "name": "stderr",
     "output_type": "stream",
     "text": [
      "INFO: [2020-11-10 05:09:44] indra.ontology.bio.ontology - Loading INDRA bio ontology from cache at /home/ubuntu/.indra/bio_ontology/1.4/bio_ontology.pkl\n"
     ]
    }
   ],
   "source": [
    "grounding_map, names, pos_labels = ground_with_gui(longforms, counts, \n",
    "                                                   grounding_map=grounding_map,\n",
    "                                                   names=names, pos_labels=pos_labels, no_browser=True, port=8891)"
   ]
  },
  {
   "cell_type": "code",
   "execution_count": 15,
   "metadata": {},
   "outputs": [],
   "source": [
    "result = [grounding_map, names, pos_labels]"
   ]
  },
  {
   "cell_type": "code",
   "execution_count": 16,
   "metadata": {},
   "outputs": [
    {
     "data": {
      "text/plain": [
       "[{'samples u c c d and': 'ungrounded',\n",
       "  'saturation transfer difference': 'NCIT:C116451',\n",
       "  'seminiferous tubular diameter': 'ungrounded',\n",
       "  'seminiferous tubule diameter': 'ungrounded',\n",
       "  'sexually transmitted disease': 'MESH:D012749',\n",
       "  'short term depletion': 'ungrounded',\n",
       "  'short term depression': 'ungrounded',\n",
       "  'sodium tungstate dihydrate': 'CHEBI:CHEBI:63939',\n",
       "  'spike timing dependent': 'ungrounded',\n",
       "  'standard': 'ungrounded',\n",
       "  'standard deviation': 'ungrounded',\n",
       "  'standard diet': 'ungrounded',\n",
       "  'standard treatment': 'ungrounded',\n",
       "  'stichoposide d': 'MESH:C000609767',\n",
       "  'synaptic depression': 'ungrounded',\n",
       "  'synthesis conditions': 'ungrounded'},\n",
       " {'NCIT:C116451': 'Chemical Exchange Saturation Transfer Magnetic Resonance Imaging',\n",
       "  'MESH:D012749': 'Sexually Transmitted Diseases',\n",
       "  'CHEBI:CHEBI:63939': 'sodium tungstate dihydrate',\n",
       "  'MESH:C000609767': 'stichoposide D'},\n",
       " ['CHEBI:CHEBI:63939']]"
      ]
     },
     "execution_count": 16,
     "metadata": {},
     "output_type": "execute_result"
    }
   ],
   "source": [
    "result"
   ]
  },
  {
   "cell_type": "code",
   "execution_count": 17,
   "metadata": {},
   "outputs": [],
   "source": [
    "grounding_map, names, pos_labels = [{'samples u c c d and': 'ungrounded',\n",
    "  'saturation transfer difference': 'NCIT:C116451',\n",
    "  'seminiferous tubular diameter': 'ungrounded',\n",
    "  'seminiferous tubule diameter': 'ungrounded',\n",
    "  'sexually transmitted disease': 'MESH:D012749',\n",
    "  'short term depletion': 'ungrounded',\n",
    "  'short term depression': 'ungrounded',\n",
    "  'sodium tungstate dihydrate': 'CHEBI:CHEBI:63939',\n",
    "  'spike timing dependent': 'ungrounded',\n",
    "  'standard': 'ungrounded',\n",
    "  'standard deviation': 'ungrounded',\n",
    "  'standard diet': 'ungrounded',\n",
    "  'standard treatment': 'ungrounded',\n",
    "  'stichoposide d': 'MESH:C000609767',\n",
    "  'synaptic depression': 'ungrounded',\n",
    "  'synthesis conditions': 'ungrounded'},\n",
    " {'NCIT:C116451': 'Chemical Exchange Saturation Transfer Magnetic Resonance Imaging',\n",
    "  'MESH:D012749': 'Sexually Transmitted Diseases',\n",
    "  'CHEBI:CHEBI:63939': 'sodium tungstate dihydrate',\n",
    "  'MESH:C000609767': 'stichoposide D'},\n",
    " ['CHEBI:CHEBI:63939']]"
   ]
  },
  {
   "cell_type": "code",
   "execution_count": 18,
   "metadata": {},
   "outputs": [],
   "source": [
    "excluded_longforms = []"
   ]
  },
  {
   "cell_type": "code",
   "execution_count": 19,
   "metadata": {},
   "outputs": [],
   "source": [
    "grounding_dict = {shortform: {longform: grounding_map[longform] \n",
    "                              for longform, _, _ in longforms if longform in grounding_map\n",
    "                              and longform not in excluded_longforms}\n",
    "                  for shortform, longforms in longform_dict.items()}\n",
    "result = [grounding_dict, names, pos_labels]\n",
    "\n",
    "if not os.path.exists(results_path):\n",
    "    os.mkdir(results_path)\n",
    "with open(os.path.join(results_path, f'{model_name}_preliminary_grounding_info.json'), 'w') as f:\n",
    "    json.dump(result, f)"
   ]
  },
  {
   "cell_type": "code",
   "execution_count": 35,
   "metadata": {},
   "outputs": [],
   "source": [
    "additional_entities = {'HGNC:11458': ['SULT2A1', ['STD']]}"
   ]
  },
  {
   "cell_type": "code",
   "execution_count": 36,
   "metadata": {},
   "outputs": [],
   "source": [
    "unambiguous_agent_texts = {}"
   ]
  },
  {
   "cell_type": "code",
   "execution_count": 37,
   "metadata": {},
   "outputs": [],
   "source": [
    "labeler = AdeftLabeler(grounding_dict)\n",
    "corpus = labeler.build_from_texts((text, pmid) for pmid, text in all_texts.items())\n",
    "agent_text_pmid_map = defaultdict(list)\n",
    "for text, label, id_ in corpus:\n",
    "    agent_text_pmid_map[label].append(id_)\n",
    "\n",
    "entity_pmid_map = {entity: set(get_pmids_for_entity(*entity.split(':', maxsplit=1),\n",
    "                                                major_topic=True))for entity in additional_entities}"
   ]
  },
  {
   "cell_type": "code",
   "execution_count": 38,
   "metadata": {},
   "outputs": [],
   "source": [
    "intersection1 = []\n",
    "for entity1, pmids1 in entity_pmid_map.items():\n",
    "    for entity2, pmids2 in entity_pmid_map.items():\n",
    "        intersection1.append((entity1, entity2, len(pmids1 & pmids2)))"
   ]
  },
  {
   "cell_type": "code",
   "execution_count": 39,
   "metadata": {},
   "outputs": [],
   "source": [
    "intersection2 = []\n",
    "for entity1, pmids1 in agent_text_pmid_map.items():\n",
    "    for entity2, pmids2 in entity_pmid_map.items():\n",
    "        intersection2.append((entity1, entity2, len(set(pmids1) & pmids2)))"
   ]
  },
  {
   "cell_type": "code",
   "execution_count": 40,
   "metadata": {},
   "outputs": [
    {
     "data": {
      "text/plain": [
       "[('HGNC:11458', 'HGNC:11458', 375)]"
      ]
     },
     "execution_count": 40,
     "metadata": {},
     "output_type": "execute_result"
    }
   ],
   "source": [
    "intersection1"
   ]
  },
  {
   "cell_type": "code",
   "execution_count": 41,
   "metadata": {},
   "outputs": [
    {
     "data": {
      "text/plain": [
       "[('MESH:D012749', 'HGNC:11458', 0),\n",
       " ('ungrounded', 'HGNC:11458', 0),\n",
       " ('NCIT:C116451', 'HGNC:11458', 0),\n",
       " ('MESH:C000609767', 'HGNC:11458', 0),\n",
       " ('CHEBI:CHEBI:63939', 'HGNC:11458', 0)]"
      ]
     },
     "execution_count": 41,
     "metadata": {},
     "output_type": "execute_result"
    }
   ],
   "source": [
    "intersection2"
   ]
  },
  {
   "cell_type": "code",
   "execution_count": 42,
   "metadata": {},
   "outputs": [],
   "source": [
    "all_used_pmids = set()\n",
    "for entity, agent_texts in unambiguous_agent_texts.items():\n",
    "    used_pmids = set()\n",
    "    for agent_text in agent_texts[1]:\n",
    "        pmids = set(get_pmids_for_agent_text(agent_text))\n",
    "        new_pmids = list(pmids - all_texts.keys() - used_pmids)\n",
    "        text_dict = get_plaintexts_for_pmids(new_pmids, contains=agent_texts)\n",
    "        corpus.extend([(text, entity, pmid) for pmid, text in text_dict.items() if len(text) >= 5])\n",
    "        used_pmids.update(new_pmids)\n",
    "    all_used_pmids.update(used_pmids)\n",
    "        \n",
    "for entity, pmids in entity_pmid_map.items():\n",
    "    new_pmids = list(set(pmids) - all_texts.keys() - all_used_pmids)\n",
    "    if len(new_pmids) > 10000:\n",
    "        new_pmids = random.choices(new_pmids, k=10000)\n",
    "    _, contains = additional_entities[entity]\n",
    "    text_dict = get_plaintexts_for_pmids(new_pmids, contains=contains)\n",
    "    corpus.extend([(text, entity, pmid) for pmid, text in text_dict.items() if len(text) >= 5])"
   ]
  },
  {
   "cell_type": "code",
   "execution_count": 43,
   "metadata": {},
   "outputs": [],
   "source": [
    "names.update({key: value[0] for key, value in additional_entities.items()})\n",
    "names.update({key: value[0] for key, value in unambiguous_agent_texts.items()})\n",
    "pos_labels = list(set(pos_labels) | additional_entities.keys() |\n",
    "                  unambiguous_agent_texts.keys())"
   ]
  },
  {
   "cell_type": "code",
   "execution_count": 44,
   "metadata": {},
   "outputs": [
    {
     "name": "stderr",
     "output_type": "stream",
     "text": [
      "INFO: [2020-11-10 05:19:12] /adeft/PP/adeft/adeft/modeling/classify.py - Beginning grid search in parameter space:\n",
      "{'C': [100.0], 'max_features': [10000]}\n",
      "INFO: [2020-11-10 05:19:13] /adeft/PP/adeft/adeft/modeling/classify.py - Best f1 score of 0.9 found for parameter values:\n",
      "{'logit__C': 100.0, 'tfidf__max_features': 10000}\n"
     ]
    }
   ],
   "source": [
    "%%capture\n",
    "\n",
    "classifier = AdeftClassifier(shortforms, pos_labels=pos_labels, random_state=1729)\n",
    "param_grid = {'C': [100.0], 'max_features': [10000]}\n",
    "texts, labels, pmids = zip(*corpus)\n",
    "classifier.cv(texts, labels, param_grid, cv=5, n_jobs=5)"
   ]
  },
  {
   "cell_type": "code",
   "execution_count": 45,
   "metadata": {
    "scrolled": true
   },
   "outputs": [
    {
     "data": {
      "text/plain": [
       "{'label_distribution': {'MESH:D012749': 21,\n",
       "  'ungrounded': 68,\n",
       "  'NCIT:C116451': 31,\n",
       "  'MESH:C000609767': 4,\n",
       "  'CHEBI:CHEBI:63939': 1,\n",
       "  'HGNC:11458': 5},\n",
       " 'f1': {'mean': 0.9, 'std': 0.2},\n",
       " 'precision': {'mean': 0.9, 'std': 0.2},\n",
       " 'recall': {'mean': 0.9, 'std': 0.2},\n",
       " 'CHEBI:CHEBI:63939': {'f1': {'mean': 0.0, 'std': 0.0},\n",
       "  'pr': {'mean': 0.0, 'std': 0.0},\n",
       "  'rc': {'mean': 0.0, 'std': 0.0}},\n",
       " 'MESH:D012749': {'f1': {'mean': 0.949206, 'std': 0.063014},\n",
       "  'pr': {'mean': 0.95, 'std': 0.1},\n",
       "  'rc': {'mean': 0.96, 'std': 0.08}},\n",
       " 'MESH:C000609767': {'f1': {'mean': 0.6, 'std': 0.489898},\n",
       "  'pr': {'mean': 0.6, 'std': 0.489898},\n",
       "  'rc': {'mean': 0.6, 'std': 0.489898}},\n",
       " 'NCIT:C116451': {'f1': {'mean': 1.0, 'std': 0.0},\n",
       "  'pr': {'mean': 1.0, 'std': 0.0},\n",
       "  'rc': {'mean': 1.0, 'std': 0.0}},\n",
       " 'ungrounded': {'f1': {'mean': 0.970822, 'std': 0.02842},\n",
       "  'pr': {'mean': 0.984615, 'std': 0.030769},\n",
       "  'rc': {'mean': 0.957949, 'std': 0.034538}},\n",
       " 'HGNC:11458': {'f1': {'mean': 1.0, 'std': 0.0},\n",
       "  'pr': {'mean': 1.0, 'std': 0.0},\n",
       "  'rc': {'mean': 1.0, 'std': 0.0}}}"
      ]
     },
     "execution_count": 45,
     "metadata": {},
     "output_type": "execute_result"
    }
   ],
   "source": [
    "classifier.stats"
   ]
  },
  {
   "cell_type": "code",
   "execution_count": 46,
   "metadata": {},
   "outputs": [],
   "source": [
    "disamb = AdeftDisambiguator(classifier, grounding_dict, names)"
   ]
  },
  {
   "cell_type": "code",
   "execution_count": 47,
   "metadata": {},
   "outputs": [],
   "source": [
    "disamb.dump(model_name, results_path)"
   ]
  },
  {
   "cell_type": "code",
   "execution_count": 48,
   "metadata": {},
   "outputs": [
    {
     "name": "stdout",
     "output_type": "stream",
     "text": [
      "Disambiguation model for STD\n",
      "\n",
      "Produces the disambiguations:\n",
      "\tChemical Exchange Saturation Transfer Magnetic Resonance Imaging\tNCIT:C116451\n",
      "\tSULT2A1*\tHGNC:11458\n",
      "\tSexually Transmitted Diseases\tMESH:D012749\n",
      "\tsodium tungstate dihydrate*\tCHEBI:CHEBI:63939\n",
      "\tstichoposide D\tMESH:C000609767\n",
      "\n",
      "Class level metrics:\n",
      "--------------------\n",
      "Grounding                                                       \tCount\tF1     \n",
      "                                                      Ungrounded\t68\t0.97082\n",
      "Chemical Exchange Saturation Transfer Magnetic Resonance Imaging\t31\t    1.0\n",
      "                                   Sexually Transmitted Diseases\t21\t0.94921\n",
      "                                                         SULT2A1*\t 5\t    1.0\n",
      "                                                  stichoposide D\t 4\t    0.6\n",
      "                                      sodium tungstate dihydrate*\t 1\t    0.0\n",
      "\n",
      "Weighted Metrics:\n",
      "-----------------\n",
      "\tF1 score:\t0.9\n",
      "\tPrecision:\t0.9\n",
      "\tRecall:\t\t0.9\n",
      "\n",
      "* Positive labels\n",
      "See Docstring for explanation\n",
      "\n"
     ]
    }
   ],
   "source": [
    "print(disamb.info())"
   ]
  },
  {
   "cell_type": "code",
   "execution_count": 52,
   "metadata": {},
   "outputs": [],
   "source": [
    "model_to_s3(disamb)"
   ]
  },
  {
   "cell_type": "code",
   "execution_count": 49,
   "metadata": {},
   "outputs": [],
   "source": [
    "preds = [disamb.disambiguate(text) for text in all_texts.values()]"
   ]
  },
  {
   "cell_type": "code",
   "execution_count": 50,
   "metadata": {},
   "outputs": [],
   "source": [
    "texts = [text for pred, text in zip(preds, all_texts.values()) if pred[0] == 'HGNC:11458']"
   ]
  },
  {
   "cell_type": "code",
   "execution_count": 51,
   "metadata": {},
   "outputs": [
    {
     "data": {
      "text/plain": [
       "0"
      ]
     },
     "execution_count": 51,
     "metadata": {},
     "output_type": "execute_result"
    }
   ],
   "source": []
  },
  {
   "cell_type": "code",
   "execution_count": null,
   "metadata": {},
   "outputs": [],
   "source": []
  }
 ],
 "metadata": {
  "kernelspec": {
   "display_name": "Python 3",
   "language": "python",
   "name": "python3"
  },
  "language_info": {
   "codemirror_mode": {
    "name": "ipython",
    "version": 3
   },
   "file_extension": ".py",
   "mimetype": "text/x-python",
   "name": "python",
   "nbconvert_exporter": "python",
   "pygments_lexer": "ipython3",
   "version": "3.8.4"
  }
 },
 "nbformat": 4,
 "nbformat_minor": 2
}
