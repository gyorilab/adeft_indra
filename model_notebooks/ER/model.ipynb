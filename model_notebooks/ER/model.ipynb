{
 "cells": [
  {
   "cell_type": "code",
   "execution_count": 1,
   "metadata": {},
   "outputs": [],
   "source": [
    "import os\n",
    "import json\n",
    "import pickle\n",
    "import random\n",
    "from collections import defaultdict, Counter\n",
    "\n",
    "from indra.literature.adeft_tools import universal_extract_text\n",
    "from indra.databases.hgnc_client import get_hgnc_name, get_hgnc_id\n",
    "\n",
    "from adeft.discover import AdeftMiner\n",
    "from adeft.gui import ground_with_gui\n",
    "from adeft.modeling.label import AdeftLabeler\n",
    "from adeft.modeling.classify import AdeftClassifier\n",
    "from adeft.disambiguate import AdeftDisambiguator, load_disambiguator\n",
    "\n",
    "\n",
    "from adeft_indra.ground.ground import AdeftGrounder\n",
    "from adeft_indra.model_building.s3 import model_to_s3\n",
    "from adeft_indra.model_building.escape import escape_filename\n",
    "from adeft_indra.db.content import get_pmids_for_agent_text, get_pmids_for_entity, \\\n",
    "    get_plaintexts_for_pmids"
   ]
  },
  {
   "cell_type": "code",
   "execution_count": 2,
   "metadata": {},
   "outputs": [],
   "source": [
    "adeft_grounder = AdeftGrounder()"
   ]
  },
  {
   "cell_type": "code",
   "execution_count": 3,
   "metadata": {},
   "outputs": [],
   "source": [
    "shortforms = ['ER']\n",
    "model_name = ':'.join(sorted(escape_filename(shortform) for shortform in shortforms))\n",
    "results_path = os.path.abspath(os.path.join('../..', 'results', model_name))"
   ]
  },
  {
   "cell_type": "code",
   "execution_count": 4,
   "metadata": {},
   "outputs": [],
   "source": [
    "miners = dict()\n",
    "all_texts = {}\n",
    "for shortform in shortforms:\n",
    "    pmids = get_pmids_for_agent_text(shortform)\n",
    "    text_dict = get_plaintexts_for_pmids(pmids, contains=shortforms)\n",
    "    text_dict = {pmid: text for pmid, text in text_dict.items() if len(text) > 5}\n",
    "    miners[shortform] = AdeftMiner(shortform)\n",
    "    miners[shortform].process_texts(text_dict.values())\n",
    "    all_texts.update(text_dict)\n",
    "\n",
    "longform_dict = {}\n",
    "for shortform in shortforms:\n",
    "    longforms = miners[shortform].get_longforms()\n",
    "    longforms = [(longform, count, score) for longform, count, score in longforms\n",
    "                 if count*score > 2]\n",
    "    longform_dict[shortform] = longforms\n",
    "    \n",
    "combined_longforms = Counter()\n",
    "for longform_rows in longform_dict.values():\n",
    "    combined_longforms.update({longform: count for longform, count, score\n",
    "                               in longform_rows})\n",
    "grounding_map = {}\n",
    "names = {}\n",
    "for longform in combined_longforms:\n",
    "    groundings = adeft_grounder.ground(longform)\n",
    "    if groundings:\n",
    "        grounding = groundings[0]['grounding']\n",
    "        grounding_map[longform] = grounding\n",
    "        names[grounding] = groundings[0]['name']\n",
    "longforms, counts = zip(*combined_longforms.most_common())\n",
    "pos_labels = []"
   ]
  },
  {
   "cell_type": "code",
   "execution_count": null,
   "metadata": {},
   "outputs": [],
   "source": [
    "list(zip(longforms, counts))"
   ]
  },
  {
   "cell_type": "code",
   "execution_count": null,
   "metadata": {},
   "outputs": [],
   "source": [
    "try:\n",
    "    disamb = load_disambiguator(shortforms[0])\n",
    "    for shortform, gm in disamb.grounding_dict.items():\n",
    "        for longform, grounding in gm.items():\n",
    "            grounding_map[longform] = grounding\n",
    "    for grounding, name in disamb.names.items():\n",
    "        names[grounding] = name\n",
    "    pos_labels = disamb.pos_labels\n",
    "except Exception:\n",
    "    pass"
   ]
  },
  {
   "cell_type": "code",
   "execution_count": null,
   "metadata": {},
   "outputs": [],
   "source": [
    "names"
   ]
  },
  {
   "cell_type": "code",
   "execution_count": null,
   "metadata": {},
   "outputs": [],
   "source": [
    "grounding_map, names, pos_labels = ground_with_gui(longforms, counts, \n",
    "                                                   grounding_map=grounding_map,\n",
    "                                                   names=names, pos_labels=pos_labels, no_browser=True, port=8891)"
   ]
  },
  {
   "cell_type": "code",
   "execution_count": null,
   "metadata": {},
   "outputs": [],
   "source": [
    "result = [grounding_map, names, pos_labels]"
   ]
  },
  {
   "cell_type": "code",
   "execution_count": null,
   "metadata": {},
   "outputs": [],
   "source": [
    "result"
   ]
  },
  {
   "cell_type": "code",
   "execution_count": 5,
   "metadata": {},
   "outputs": [],
   "source": [
    "grounding_map, names, pos_labels = [{'early': 'ungrounded',\n",
    "  'early recurrence': 'ungrounded',\n",
    "  'early region': 'ungrounded',\n",
    "  'early relapse': 'ungrounded',\n",
    "  'early repolarization': 'ungrounded',\n",
    "  'early response': 'ungrounded',\n",
    "  'ecosystem respiration': 'ungrounded',\n",
    "  'effects rate': 'ungrounded',\n",
    "  'efflux ratio': 'ungrounded',\n",
    "  'electrical remodeling': 'MESH:D064752',\n",
    "  'electrical resistance': 'ungrounded',\n",
    "  'electron relay': 'ungrounded',\n",
    "  'electroresistive': 'ungrounded',\n",
    "  'electrorheological': 'ungrounded',\n",
    "  'elizabeth river': 'ungrounded',\n",
    "  'embryonic resorption': 'ungrounded',\n",
    "  'emergency department': 'MESH:D004636',\n",
    "  'emergency room': 'ungrounded',\n",
    "  'emotion reaction': 'ungrounded',\n",
    "  'emotion reactive': 'ungrounded',\n",
    "  'emotion recognition': 'ungrounded',\n",
    "  'emotion regulation': 'ungrounded',\n",
    "  'emotion self regulation': 'MESH:D000080103',\n",
    "  'en mass repair': 'ungrounded',\n",
    "  'endo plasmic reticulum': 'GO:GO:0005783',\n",
    "  'endocytoplasmic reticulum': 'GO:GO:0005783',\n",
    "  'endometrial receptivity': 'ungrounded',\n",
    "  'endoplamic reticulum': 'GO:GO:0005783',\n",
    "  'endoplas mic reticulum': 'GO:GO:0005783',\n",
    "  'endoplasmatic reticulum': 'GO:GO:0005783',\n",
    "  'endoplasmic recticulum': 'GO:GO:0005783',\n",
    "  'endoplasmic reticu lum': 'GO:GO:0005783',\n",
    "  'endoplasmic reticula': 'GO:GO:0005783',\n",
    "  'endoplasmic reticular': 'GO:GO:0005783',\n",
    "  'endoplasmic reticulum': 'GO:GO:0005783',\n",
    "  'endoplasmic reticulum membrane': 'GO:GO:0005783',\n",
    "  'endoplasmic reticulum stress': 'GO:GO:0005783',\n",
    "  'endoplasmic stress': 'ungrounded',\n",
    "  'endoplastic reticulum': 'GO:GO:0005783',\n",
    "  'endoreduplication': 'MESH:D062951',\n",
    "  'endoscopic resection': 'ungrounded',\n",
    "  'endothelial reticulum': 'MESH:D012159',\n",
    "  'endovascular repair': 'ungrounded',\n",
    "  'energy restriction': 'ungrounded',\n",
    "  'enhanced ratio': 'ungrounded',\n",
    "  'enhanced reuterin': 'ungrounded',\n",
    "  'enoyl reductase': 'ungrounded',\n",
    "  'enoylreductase': 'ungrounded',\n",
    "  'env reactive': 'ungrounded',\n",
    "  'epiregulin': 'HGNC:3443',\n",
    "  'episodic register': 'ungrounded',\n",
    "  'er': 'ungrounded',\n",
    "  'er form': 'ungrounded',\n",
    "  'erdosteine': 'CHEBI:CHEBI:135014',\n",
    "  'erecta': 'ungrounded',\n",
    "  'ergonovine': 'CHEBI:CHEBI:4822',\n",
    "  'ergosterol': 'CHEBI:CHEBI:16933',\n",
    "  'erlotinib resistance': 'ungrounded',\n",
    "  'error rate': 'ungrounded',\n",
    "  'error ratio': 'ungrounded',\n",
    "  'erucin': 'ungrounded',\n",
    "  'erythrodiol': 'CHEBI:CHEBI:67939',\n",
    "  'erythrose reductase': 'ungrounded',\n",
    "  'erythrosine b': 'CHEBI:CHEBI:61000',\n",
    "  'erα': 'FPLX:ESR',\n",
    "  'esr1': 'FPLX:ESR',\n",
    "  'estradiol': 'CHEBI:CHEBI:23965',\n",
    "  'estrogen': 'FPLX:ESR',\n",
    "  'estrogen recep tor': 'FPLX:ESR',\n",
    "  'estrogen receptivity': 'ungrounded',\n",
    "  'estrogen receptor': 'FPLX:ESR',\n",
    "  'estrogen receptor alpha': 'FPLX:ESR',\n",
    "  'estrogen receptor positive': 'EFO:0005512',\n",
    "  'estrogen receptor protein': 'FPLX:ESR',\n",
    "  'estrogen receptor status': 'EFO:0005512',\n",
    "  'estrogen receptor α': 'FPLX:ESR',\n",
    "  'estrogen replacement': 'ungrounded',\n",
    "  'etch and rinse': 'ungrounded',\n",
    "  'ethoxyresorufin': 'MESH:C007649',\n",
    "  'events rate': 'ungrounded',\n",
    "  'evodia rutaecarpa': 'ungrounded',\n",
    "  'evoked response': 'ungrounded',\n",
    "  'evolutionary rate': 'ungrounded',\n",
    "  'excretion rate': 'ungrounded',\n",
    "  'exert rhabdomyolysis': 'MESH:D012206',\n",
    "  'expansion ratio': 'ungrounded',\n",
    "  'extended release': 'ungrounded',\n",
    "  'external rotation': 'ungrounded',\n",
    "  'extinction ratio': 'ungrounded',\n",
    "  'extract ratio': 'ungrounded',\n",
    "  'extreme resistance': 'ungrounded'},\n",
    " {'MESH:D064752': 'Atrial Remodeling',\n",
    "  'MESH:D004636': 'Emergency Service, Hospital',\n",
    "  'MESH:D000080103': 'Emotional Regulation',\n",
    "  'GO:GO:0005783': 'endoplasmic reticulum',\n",
    "  'MESH:D062951': 'Endoreduplication',\n",
    "  'MESH:D012159': 'Reticulum',\n",
    "  'HGNC:3443': 'EREG',\n",
    "  'CHEBI:CHEBI:135014': 'erdosteine',\n",
    "  'CHEBI:CHEBI:4822': 'ergometrine',\n",
    "  'CHEBI:CHEBI:16933': 'ergosterol',\n",
    "  'CHEBI:CHEBI:67939': 'erythrodiol',\n",
    "  'CHEBI:CHEBI:61000': 'erythrosin B',\n",
    "  'FPLX:ESR': 'ESR',\n",
    "  'CHEBI:CHEBI:23965': 'estradiol',\n",
    "  'EFO:0005512': 'estrogen receptor status',\n",
    "  'MESH:C007649': 'ethoxyresorufin',\n",
    "  'MESH:D012206': 'Rhabdomyolysis'},\n",
    " ['CHEBI:CHEBI:23965', 'FPLX:ESR', 'GO:GO:0005783']]"
   ]
  },
  {
   "cell_type": "code",
   "execution_count": 6,
   "metadata": {},
   "outputs": [],
   "source": [
    "excluded_longforms = ['er']"
   ]
  },
  {
   "cell_type": "code",
   "execution_count": 7,
   "metadata": {},
   "outputs": [],
   "source": [
    "grounding_dict = {shortform: {longform: grounding_map[longform] \n",
    "                              for longform, _, _ in longforms if longform in grounding_map\n",
    "                              and longform not in excluded_longforms}\n",
    "                  for shortform, longforms in longform_dict.items()}\n",
    "result = [grounding_dict, names, pos_labels]\n",
    "\n",
    "if not os.path.exists(results_path):\n",
    "    os.mkdir(results_path)\n",
    "with open(os.path.join(results_path, f'{model_name}_preliminary_grounding_info.json'), 'w') as f:\n",
    "    json.dump(result, f)"
   ]
  },
  {
   "cell_type": "code",
   "execution_count": 8,
   "metadata": {},
   "outputs": [],
   "source": [
    "additional_entities = {}"
   ]
  },
  {
   "cell_type": "code",
   "execution_count": 9,
   "metadata": {},
   "outputs": [],
   "source": [
    "unambiguous_agent_texts = {}"
   ]
  },
  {
   "cell_type": "code",
   "execution_count": 10,
   "metadata": {},
   "outputs": [],
   "source": [
    "labeler = AdeftLabeler(grounding_dict)\n",
    "corpus = labeler.build_from_texts((text, pmid) for pmid, text in all_texts.items())\n",
    "agent_text_pmid_map = defaultdict(list)\n",
    "for text, label, id_ in corpus:\n",
    "    agent_text_pmid_map[label].append(id_)\n",
    "\n",
    "entity_pmid_map = {entity: set(get_pmids_for_entity(*entity.split(':', maxsplit=1),\n",
    "                                                major_topic=True))for entity in additional_entities}"
   ]
  },
  {
   "cell_type": "code",
   "execution_count": null,
   "metadata": {},
   "outputs": [],
   "source": [
    "intersection1 = []\n",
    "for entity1, pmids1 in entity_pmid_map.items():\n",
    "    for entity2, pmids2 in entity_pmid_map.items():\n",
    "        intersection1.append((entity1, entity2, len(pmids1 & pmids2)))"
   ]
  },
  {
   "cell_type": "code",
   "execution_count": null,
   "metadata": {},
   "outputs": [],
   "source": [
    "intersection2 = []\n",
    "for entity1, pmids1 in agent_text_pmid_map.items():\n",
    "    for entity2, pmids2 in entity_pmid_map.items():\n",
    "        intersection2.append((entity1, entity2, len(set(pmids1) & pmids2)))"
   ]
  },
  {
   "cell_type": "code",
   "execution_count": null,
   "metadata": {},
   "outputs": [],
   "source": [
    "intersection1"
   ]
  },
  {
   "cell_type": "code",
   "execution_count": null,
   "metadata": {},
   "outputs": [],
   "source": [
    "intersection2"
   ]
  },
  {
   "cell_type": "code",
   "execution_count": 22,
   "metadata": {},
   "outputs": [],
   "source": [
    "all_used_pmids = set()\n",
    "for entity, agent_texts in unambiguous_agent_texts.items():\n",
    "    used_pmids = set()\n",
    "    for agent_text in agent_texts[1]:\n",
    "        pmids = set(get_pmids_for_agent_text(agent_text))\n",
    "        new_pmids = list(pmids - all_texts.keys() - used_pmids)\n",
    "        text_dict = get_plaintexts_for_pmids(new_pmids, contains=agent_texts)\n",
    "        corpus.extend([(text, entity, pmid) for pmid, text in text_dict.items() if len(text) >= 5])\n",
    "        used_pmids.update(new_pmids)\n",
    "    all_used_pmids.update(used_pmids)\n",
    "        \n",
    "for entity, pmids in entity_pmid_map.items():\n",
    "    new_pmids = list(set(pmids) - all_texts.keys() - all_used_pmids)\n",
    "    if len(new_pmids) > 10000:\n",
    "        new_pmids = random.choices(new_pmids, k=10000)\n",
    "    _, contains = additional_entities[entity]\n",
    "    text_dict = get_plaintexts_for_pmids(new_pmids, contains=contains)\n",
    "    corpus.extend([(text, entity, pmid) for pmid, text in text_dict.items() if len(text) >= 5])"
   ]
  },
  {
   "cell_type": "code",
   "execution_count": 23,
   "metadata": {},
   "outputs": [],
   "source": [
    "names.update({key: value[0] for key, value in additional_entities.items()})\n",
    "names.update({key: value[0] for key, value in unambiguous_agent_texts.items()})\n",
    "pos_labels = list(set(pos_labels) | additional_entities.keys() |\n",
    "                  unambiguous_agent_texts.keys())"
   ]
  },
  {
   "cell_type": "code",
   "execution_count": 11,
   "metadata": {},
   "outputs": [
    {
     "name": "stderr",
     "output_type": "stream",
     "text": [
      "INFO: [2020-11-24 03:18:08] /adeft/PP/adeft/adeft/modeling/classify.py - Beginning grid search in parameter space:\n",
      "{'C': [100.0], 'max_features': [10000]}\n",
      "INFO: [2020-11-24 03:30:15] /adeft/PP/adeft/adeft/modeling/classify.py - Best f1 score of 0.9839845074833274 found for parameter values:\n",
      "{'logit__C': 100.0, 'tfidf__max_features': 10000}\n"
     ]
    }
   ],
   "source": [
    "%%capture\n",
    "\n",
    "classifier = AdeftClassifier(shortforms, pos_labels=pos_labels, random_state=1729)\n",
    "param_grid = {'C': [100.0], 'max_features': [10000]}\n",
    "texts, labels, pmids = zip(*corpus)\n",
    "classifier.cv(texts, labels, param_grid, cv=5, n_jobs=5)"
   ]
  },
  {
   "cell_type": "code",
   "execution_count": 12,
   "metadata": {
    "scrolled": true
   },
   "outputs": [
    {
     "data": {
      "text/plain": [
       "{'label_distribution': {'ungrounded': 530,\n",
       "  'GO:GO:0005783': 15897,\n",
       "  'FPLX:ESR': 5430,\n",
       "  'MESH:C007649': 7,\n",
       "  'CHEBI:CHEBI:23965': 8,\n",
       "  'MESH:D062951': 2,\n",
       "  'CHEBI:CHEBI:4822': 4,\n",
       "  'HGNC:3443': 2,\n",
       "  'MESH:D064752': 3,\n",
       "  'MESH:D012159': 2,\n",
       "  'EFO:0005512': 7,\n",
       "  'MESH:D004636': 3,\n",
       "  'MESH:D012206': 5,\n",
       "  'CHEBI:CHEBI:61000': 2,\n",
       "  'CHEBI:CHEBI:67939': 2,\n",
       "  'MESH:D000080103': 1,\n",
       "  'CHEBI:CHEBI:135014': 2,\n",
       "  'CHEBI:CHEBI:16933': 3},\n",
       " 'f1': {'mean': 0.983985, 'std': 0.001292},\n",
       " 'precision': {'mean': 0.981535, 'std': 0.001572},\n",
       " 'recall': {'mean': 0.986454, 'std': 0.001286},\n",
       " 'MESH:C007649': {'f1': {'mean': 0.0, 'std': 0.0},\n",
       "  'pr': {'mean': 0.0, 'std': 0.0},\n",
       "  'rc': {'mean': 0.0, 'std': 0.0}},\n",
       " 'CHEBI:CHEBI:23965': {'f1': {'mean': 0.0, 'std': 0.0},\n",
       "  'pr': {'mean': 0.0, 'std': 0.0},\n",
       "  'rc': {'mean': 0.0, 'std': 0.0}},\n",
       " 'CHEBI:CHEBI:67939': {'f1': {'mean': 0.0, 'std': 0.0},\n",
       "  'pr': {'mean': 0.0, 'std': 0.0},\n",
       "  'rc': {'mean': 0.0, 'std': 0.0}},\n",
       " 'MESH:D012159': {'f1': {'mean': 0.0, 'std': 0.0},\n",
       "  'pr': {'mean': 0.0, 'std': 0.0},\n",
       "  'rc': {'mean': 0.0, 'std': 0.0}},\n",
       " 'MESH:D000080103': {'f1': {'mean': 0.0, 'std': 0.0},\n",
       "  'pr': {'mean': 0.0, 'std': 0.0},\n",
       "  'rc': {'mean': 0.0, 'std': 0.0}},\n",
       " 'MESH:D012206': {'f1': {'mean': 0.0, 'std': 0.0},\n",
       "  'pr': {'mean': 0.0, 'std': 0.0},\n",
       "  'rc': {'mean': 0.0, 'std': 0.0}},\n",
       " 'EFO:0005512': {'f1': {'mean': 0.0, 'std': 0.0},\n",
       "  'pr': {'mean': 0.0, 'std': 0.0},\n",
       "  'rc': {'mean': 0.0, 'std': 0.0}},\n",
       " 'CHEBI:CHEBI:16933': {'f1': {'mean': 0.0, 'std': 0.0},\n",
       "  'pr': {'mean': 0.0, 'std': 0.0},\n",
       "  'rc': {'mean': 0.0, 'std': 0.0}},\n",
       " 'MESH:D064752': {'f1': {'mean': 0.0, 'std': 0.0},\n",
       "  'pr': {'mean': 0.0, 'std': 0.0},\n",
       "  'rc': {'mean': 0.0, 'std': 0.0}},\n",
       " 'CHEBI:CHEBI:135014': {'f1': {'mean': 0.0, 'std': 0.0},\n",
       "  'pr': {'mean': 0.0, 'std': 0.0},\n",
       "  'rc': {'mean': 0.0, 'std': 0.0}},\n",
       " 'ungrounded': {'f1': {'mean': 0.858567, 'std': 0.033241},\n",
       "  'pr': {'mean': 0.80566, 'std': 0.046447},\n",
       "  'rc': {'mean': 0.919902, 'std': 0.020451}},\n",
       " 'MESH:D004636': {'f1': {'mean': 0.0, 'std': 0.0},\n",
       "  'pr': {'mean': 0.0, 'std': 0.0},\n",
       "  'rc': {'mean': 0.0, 'std': 0.0}},\n",
       " 'CHEBI:CHEBI:4822': {'f1': {'mean': 0.4, 'std': 0.489898},\n",
       "  'pr': {'mean': 0.4, 'std': 0.489898},\n",
       "  'rc': {'mean': 0.4, 'std': 0.489898}},\n",
       " 'HGNC:3443': {'f1': {'mean': 0.0, 'std': 0.0},\n",
       "  'pr': {'mean': 0.0, 'std': 0.0},\n",
       "  'rc': {'mean': 0.0, 'std': 0.0}},\n",
       " 'GO:GO:0005783': {'f1': {'mean': 0.98877, 'std': 0.000976},\n",
       "  'pr': {'mean': 0.991319, 'std': 0.001169},\n",
       "  'rc': {'mean': 0.986238, 'std': 0.002223}},\n",
       " 'MESH:D062951': {'f1': {'mean': 0.0, 'std': 0.0},\n",
       "  'pr': {'mean': 0.0, 'std': 0.0},\n",
       "  'rc': {'mean': 0.0, 'std': 0.0}},\n",
       " 'FPLX:ESR': {'f1': {'mean': 0.971425, 'std': 0.002531},\n",
       "  'pr': {'mean': 0.973665, 'std': 0.004717},\n",
       "  'rc': {'mean': 0.969211, 'std': 0.002536}},\n",
       " 'CHEBI:CHEBI:61000': {'f1': {'mean': 0.0, 'std': 0.0},\n",
       "  'pr': {'mean': 0.0, 'std': 0.0},\n",
       "  'rc': {'mean': 0.0, 'std': 0.0}}}"
      ]
     },
     "execution_count": 12,
     "metadata": {},
     "output_type": "execute_result"
    }
   ],
   "source": [
    "classifier.stats"
   ]
  },
  {
   "cell_type": "code",
   "execution_count": 13,
   "metadata": {},
   "outputs": [],
   "source": [
    "disamb = AdeftDisambiguator(classifier, grounding_dict, names)"
   ]
  },
  {
   "cell_type": "code",
   "execution_count": 14,
   "metadata": {},
   "outputs": [],
   "source": [
    "disamb.dump(model_name, results_path)"
   ]
  },
  {
   "cell_type": "code",
   "execution_count": 17,
   "metadata": {},
   "outputs": [
    {
     "name": "stdout",
     "output_type": "stream",
     "text": [
      "Disambiguation model for ER\n",
      "\n",
      "Produces the disambiguations:\n",
      "\tAtrial Remodeling\tMESH:D064752\n",
      "\tEREG\tHGNC:3443\n",
      "\tESR*\tFPLX:ESR\n",
      "\tEmergency Service, Hospital\tMESH:D004636\n",
      "\tEmotional Regulation\tMESH:D000080103\n",
      "\tEndoreduplication\tMESH:D062951\n",
      "\tReticulum\tMESH:D012159\n",
      "\tRhabdomyolysis\tMESH:D012206\n",
      "\tendoplasmic reticulum*\tGO:GO:0005783\n",
      "\terdosteine\tCHEBI:CHEBI:135014\n",
      "\tergometrine\tCHEBI:CHEBI:4822\n",
      "\tergosterol\tCHEBI:CHEBI:16933\n",
      "\terythrodiol\tCHEBI:CHEBI:67939\n",
      "\terythrosin B\tCHEBI:CHEBI:61000\n",
      "\testradiol*\tCHEBI:CHEBI:23965\n",
      "\testrogen receptor status\tEFO:0005512\n",
      "\tethoxyresorufin\tMESH:C007649\n",
      "\n",
      "Class level metrics:\n",
      "--------------------\n",
      "Grounding                  \tCount\tF1     \n",
      "      endoplasmic reticulum*\t15897\t0.98877\n",
      "                        ESR*\t 5430\t0.97142\n",
      "                 Ungrounded\t  530\t0.85857\n",
      "                  estradiol*\t    8\t    0.0\n",
      "            ethoxyresorufin\t    7\t    0.0\n",
      "   estrogen receptor status\t    7\t    0.0\n",
      "             Rhabdomyolysis\t    5\t    0.0\n",
      "                ergometrine\t    4\t    0.4\n",
      "          Atrial Remodeling\t    3\t    0.0\n",
      "Emergency Service, Hospital\t    3\t    0.0\n",
      "                 ergosterol\t    3\t    0.0\n",
      "          Endoreduplication\t    2\t    0.0\n",
      "                       EREG\t    2\t    0.0\n",
      "                  Reticulum\t    2\t    0.0\n",
      "               erythrosin B\t    2\t    0.0\n",
      "                erythrodiol\t    2\t    0.0\n",
      "                 erdosteine\t    2\t    0.0\n",
      "       Emotional Regulation\t    1\t    0.0\n",
      "\n",
      "Weighted Metrics:\n",
      "-----------------\n",
      "\tF1 score:\t0.98398\n",
      "\tPrecision:\t0.98154\n",
      "\tRecall:\t\t0.98645\n",
      "\n",
      "* Positive labels\n",
      "See Docstring for explanation\n",
      "\n"
     ]
    }
   ],
   "source": [
    "print(disamb.info())"
   ]
  },
  {
   "cell_type": "code",
   "execution_count": 16,
   "metadata": {},
   "outputs": [],
   "source": [
    "model_to_s3(disamb)"
   ]
  },
  {
   "cell_type": "code",
   "execution_count": 30,
   "metadata": {},
   "outputs": [],
   "source": [
    "preds = [disamb.disambiguate(text) for text in all_texts.values()]"
   ]
  },
  {
   "cell_type": "code",
   "execution_count": 31,
   "metadata": {},
   "outputs": [],
   "source": [
    "texts = [text for pred, text in zip(preds, all_texts.values()) if pred[0] == 'HGNC:10967']"
   ]
  },
  {
   "cell_type": "code",
   "execution_count": 36,
   "metadata": {},
   "outputs": [
    {
     "data": {
      "text/plain": [
       "'The non-neuronal monoamine transporters (OCT1, OCT2, EMT, and PMAT) play a key role in the clearance of monoamines from extracellular compartments. In a previous report we described endometrial distribution and cyclic variation of the vesicular monoamine transporter (VMAT2) mRNA and the neuronal norepinephrine transporter (NET) mRNA. In the present study we used in situ hybridization, real-time PCR and immunohistochemistry to reveal tissue distribution and cyclic variation of mRNA for the non-neuronal monoamine transporters in the human endometrium and early pregnancy decidua. We found that non-neuronal monoamine transporters are predominantly expressed in the stroma. The plasma membrane monoamine transporter (PMAT) mRNA expression peaked in the proliferative phase, whereas the extra-neuronal monoamine transporter (EMT) mRNA expression peaked in the secretory phase. The organic cation transporter 2 (OCT2) mRNA expression was exclusively detected in few scattered stromal cells and OCT1 mRNA was not detected at all. Our present results demonstrate that PMAT, EMT, and OCT2 transporters are expressed in the endometrial stroma and can potentially regulate reuptake of monoamines in general and histamine in particular. Taken together with our previous finding of VMAT2 mRNA in epithelial cells, we suggest a paracrine interaction between stromal and epithelial cells, which may modulate certain steps of the reproductive process.\\n'"
      ]
     },
     "execution_count": 36,
     "metadata": {},
     "output_type": "execute_result"
    }
   ],
   "source": [
    "texts[3]"
   ]
  },
  {
   "cell_type": "code",
   "execution_count": 1,
   "metadata": {},
   "outputs": [],
   "source": [
    "from adeft import __version__"
   ]
  },
  {
   "cell_type": "code",
   "execution_count": 2,
   "metadata": {},
   "outputs": [
    {
     "data": {
      "text/plain": [
       "'0.9.0'"
      ]
     },
     "execution_count": 2,
     "metadata": {},
     "output_type": "execute_result"
    }
   ],
   "source": [
    "__version__"
   ]
  },
  {
   "cell_type": "code",
   "execution_count": null,
   "metadata": {},
   "outputs": [],
   "source": []
  }
 ],
 "metadata": {
  "kernelspec": {
   "display_name": "Python 3",
   "language": "python",
   "name": "python3"
  },
  "language_info": {
   "codemirror_mode": {
    "name": "ipython",
    "version": 3
   },
   "file_extension": ".py",
   "mimetype": "text/x-python",
   "name": "python",
   "nbconvert_exporter": "python",
   "pygments_lexer": "ipython3",
   "version": "3.8.4"
  }
 },
 "nbformat": 4,
 "nbformat_minor": 2
}
