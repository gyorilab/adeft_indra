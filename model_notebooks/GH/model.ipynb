{
 "cells": [
  {
   "cell_type": "code",
   "execution_count": 5,
   "metadata": {},
   "outputs": [],
   "source": [
    "import os\n",
    "import json\n",
    "import pickle\n",
    "import random\n",
    "from collections import defaultdict, Counter\n",
    "\n",
    "from indra.literature.adeft_tools import universal_extract_text\n",
    "from indra.databases.hgnc_client import get_hgnc_name, get_hgnc_id\n",
    "\n",
    "from adeft.discover import AdeftMiner\n",
    "from adeft.gui import ground_with_gui\n",
    "from adeft.modeling.label import AdeftLabeler\n",
    "from adeft.modeling.classify import AdeftClassifier\n",
    "from adeft.disambiguate import AdeftDisambiguator, load_disambiguator\n",
    "\n",
    "\n",
    "from adeft_indra.ground.ground import AdeftGrounder\n",
    "from adeft_indra.model_building.s3 import model_to_s3\n",
    "from adeft_indra.model_building.escape import escape_filename\n",
    "from adeft_indra.db.content import get_pmids_for_agent_text, get_pmids_for_entity, \\\n",
    "    get_plaintexts_for_pmids"
   ]
  },
  {
   "cell_type": "code",
   "execution_count": 6,
   "metadata": {},
   "outputs": [],
   "source": [
    "adeft_grounder = AdeftGrounder()"
   ]
  },
  {
   "cell_type": "code",
   "execution_count": 7,
   "metadata": {},
   "outputs": [],
   "source": [
    "shortforms = ['GH']\n",
    "model_name = ':'.join(sorted(escape_filename(shortform) for shortform in shortforms))\n",
    "results_path = os.path.abspath(os.path.join('../..', 'results', model_name))"
   ]
  },
  {
   "cell_type": "code",
   "execution_count": 8,
   "metadata": {},
   "outputs": [],
   "source": [
    "miners = dict()\n",
    "all_texts = {}\n",
    "for shortform in shortforms:\n",
    "    pmids = get_pmids_for_agent_text(shortform)\n",
    "    text_dict = get_plaintexts_for_pmids(pmids, contains=shortforms)\n",
    "    text_dict = {pmid: text for pmid, text in text_dict.items() if len(text) > 5}\n",
    "    miners[shortform] = AdeftMiner(shortform)\n",
    "    miners[shortform].process_texts(text_dict.values())\n",
    "    all_texts.update(text_dict)\n",
    "\n",
    "longform_dict = {}\n",
    "for shortform in shortforms:\n",
    "    longforms = miners[shortform].get_longforms()\n",
    "    longforms = [(longform, count, score) for longform, count, score in longforms\n",
    "                 if count*score > 2]\n",
    "    longform_dict[shortform] = longforms\n",
    "    \n",
    "combined_longforms = Counter()\n",
    "for longform_rows in longform_dict.values():\n",
    "    combined_longforms.update({longform: count for longform, count, score\n",
    "                               in longform_rows})\n",
    "grounding_map = {}\n",
    "names = {}\n",
    "for longform in combined_longforms:\n",
    "    groundings = adeft_grounder.ground(longform)\n",
    "    if groundings:\n",
    "        grounding = groundings[0]['grounding']\n",
    "        grounding_map[longform] = grounding\n",
    "        names[grounding] = groundings[0]['name']\n",
    "longforms, counts = zip(*combined_longforms.most_common())\n",
    "pos_labels = []"
   ]
  },
  {
   "cell_type": "code",
   "execution_count": 9,
   "metadata": {},
   "outputs": [
    {
     "data": {
      "text/plain": [
       "[('growth hormone', 6773),\n",
       " ('gestational hypertension', 49),\n",
       " ('glycoside hydrolase', 42),\n",
       " ('general health', 14),\n",
       " ('glycogenic hepatopathy', 13),\n",
       " ('growth hor mone', 11),\n",
       " ('garlic homogenate', 10),\n",
       " ('gelatin hydrogel', 9),\n",
       " ('genetic hypertension', 9),\n",
       " ('gingival hyperplasia', 8),\n",
       " ('glycosyl hydrolase', 8),\n",
       " ('gelam honey', 7),\n",
       " ('glucosamine hydrochloride', 7),\n",
       " ('gestational hypothyroid', 6),\n",
       " ('group housed', 6),\n",
       " ('glucosyl hesperidin', 5),\n",
       " ('graphene hydrogel', 5),\n",
       " ('glenohumeral', 5),\n",
       " ('geniohyoid', 5),\n",
       " ('genital hiatus', 4),\n",
       " ('gastric heterotopia', 4),\n",
       " ('genetic hemochromatosis', 4),\n",
       " ('grass hay', 4),\n",
       " ('graves hyperthyroidism', 4),\n",
       " ('guest host', 4),\n",
       " ('growth', 4),\n",
       " ('general health perceptions', 4),\n",
       " ('glycan hole', 3),\n",
       " ('glycine hydroxamate', 3),\n",
       " ('grain hardness', 3),\n",
       " ('global health', 3),\n",
       " ('gelatin − hydroxyphenyl propionic acid', 3)]"
      ]
     },
     "execution_count": 9,
     "metadata": {},
     "output_type": "execute_result"
    }
   ],
   "source": [
    "list(zip(longforms, counts))"
   ]
  },
  {
   "cell_type": "code",
   "execution_count": 10,
   "metadata": {},
   "outputs": [],
   "source": [
    "try:\n",
    "    disamb = load_disambiguator(shortforms[0])\n",
    "    for shortform, gm in disamb.grounding_dict.items():\n",
    "        for longform, grounding in gm.items():\n",
    "            grounding_map[longform] = grounding\n",
    "    for grounding, name in disamb.names.items():\n",
    "        names[grounding] = name\n",
    "    pos_labels = disamb.pos_labels\n",
    "except Exception:\n",
    "    pass"
   ]
  },
  {
   "cell_type": "code",
   "execution_count": 11,
   "metadata": {},
   "outputs": [
    {
     "data": {
      "text/plain": [
       "{'CHEBI:CHEBI:37845': 'growth hormone',\n",
       " 'MESH:D006262': 'Health',\n",
       " 'MESH:D008107': 'Liver Diseases',\n",
       " 'MESH:D020100': 'Hydrogels',\n",
       " 'MESH:D005885': 'Gingival Hyperplasia',\n",
       " 'MESH:D006722': 'Honey',\n",
       " 'CHEBI:CHEBI:36807': 'hydrochloride',\n",
       " 'MESH:D007037': 'Hypothyroidism',\n",
       " 'MESH:C487382': 'glucosyl hesperidin',\n",
       " 'MESH:D002828': 'Choristoma',\n",
       " 'MESH:D006432': 'Hemochromatosis',\n",
       " 'EFO:0000532': 'host',\n",
       " 'MESH:D006128': 'Growth',\n",
       " 'MESH:D010465': 'Perception',\n",
       " 'HGNC:20511': 'TMEM121',\n",
       " 'CHEBI:CHEBI:75426': 'glycine hydroxamate',\n",
       " 'MESH:D006244': 'Hardness',\n",
       " 'MESH:D014943': 'Global Health',\n",
       " 'CHEBI:CHEBI:32980': 'phloretic acid',\n",
       " 'HGNC:4261': 'GH1',\n",
       " 'MESH:D006026': 'Glycoside Hydrolases'}"
      ]
     },
     "execution_count": 11,
     "metadata": {},
     "output_type": "execute_result"
    }
   ],
   "source": [
    "names"
   ]
  },
  {
   "cell_type": "code",
   "execution_count": 12,
   "metadata": {},
   "outputs": [
    {
     "name": "stderr",
     "output_type": "stream",
     "text": [
      "INFO: [2020-11-02 23:23:15] indra.ontology.bio.ontology - Loading INDRA bio ontology from cache at /home/ubuntu/.indra/bio_ontology/1.4/bio_ontology.pkl\n"
     ]
    }
   ],
   "source": [
    "grounding_map, names, pos_labels = ground_with_gui(longforms, counts, \n",
    "                                                   grounding_map=grounding_map,\n",
    "                                                   names=names, pos_labels=pos_labels, no_browser=True, port=8891)"
   ]
  },
  {
   "cell_type": "code",
   "execution_count": 13,
   "metadata": {},
   "outputs": [],
   "source": [
    "result = [grounding_map, names, pos_labels]"
   ]
  },
  {
   "cell_type": "code",
   "execution_count": 14,
   "metadata": {},
   "outputs": [
    {
     "data": {
      "text/plain": [
       "[{'garlic homogenate': 'ungrounded',\n",
       "  'gastric heterotopia': 'MESH:D002828',\n",
       "  'gelam honey': 'MESH:D006722',\n",
       "  'gelatin hydrogel': 'ungrounded',\n",
       "  'gelatin − hydroxyphenyl propionic acid': 'ungrounded',\n",
       "  'general health': 'MESH:D006262',\n",
       "  'general health perceptions': 'ungrounded',\n",
       "  'genetic hemochromatosis': 'MESH:D006432',\n",
       "  'genetic hypertension': 'ungrounded',\n",
       "  'geniohyoid': 'NCIT:C52930',\n",
       "  'genital hiatus': 'ungrounded',\n",
       "  'gestational hypertension': 'ungrounded',\n",
       "  'gestational hypothyroid': 'MESH:D007037',\n",
       "  'gingival hyperplasia': 'MESH:D005885',\n",
       "  'glenohumeral': 'ungrounded',\n",
       "  'global health': 'MESH:D014943',\n",
       "  'glucosamine hydrochloride': 'NCIT:C83732',\n",
       "  'glucosyl hesperidin': 'MESH:C487382',\n",
       "  'glycan hole': 'ungrounded',\n",
       "  'glycine hydroxamate': 'CHEBI:CHEBI:75426',\n",
       "  'glycogenic hepatopathy': 'ungrounded',\n",
       "  'glycoside hydrolase': 'MESH:D006026',\n",
       "  'glycosyl hydrolase': 'MESH:D006026',\n",
       "  'grain hardness': 'ungrounded',\n",
       "  'graphene hydrogel': 'ungrounded',\n",
       "  'grass hay': 'ungrounded',\n",
       "  'graves hyperthyroidism': 'NCIT:C3071',\n",
       "  'group housed': 'ungrounded',\n",
       "  'growth': 'ungrounded',\n",
       "  'growth hor mone': 'HGNC:4261',\n",
       "  'growth hormone': 'HGNC:4261',\n",
       "  'guest host': 'ungrounded'},\n",
       " {'MESH:D002828': 'Choristoma',\n",
       "  'MESH:D006722': 'Honey',\n",
       "  'MESH:D006262': 'Health',\n",
       "  'MESH:D006432': 'Hemochromatosis',\n",
       "  'NCIT:C52930': 'Geniohyoid',\n",
       "  'MESH:D007037': 'Hypothyroidism',\n",
       "  'MESH:D005885': 'Gingival Hyperplasia',\n",
       "  'MESH:D014943': 'Global Health',\n",
       "  'NCIT:C83732': 'Glucosamine Hydrochloride',\n",
       "  'MESH:C487382': 'glucosyl hesperidin',\n",
       "  'CHEBI:CHEBI:75426': 'glycine hydroxamate',\n",
       "  'MESH:D006026': 'Glycoside Hydrolases',\n",
       "  'NCIT:C3071': 'Graves Disease',\n",
       "  'HGNC:4261': 'GH1'},\n",
       " ['HGNC:4261', 'MESH:D006026']]"
      ]
     },
     "execution_count": 14,
     "metadata": {},
     "output_type": "execute_result"
    }
   ],
   "source": [
    "result"
   ]
  },
  {
   "cell_type": "code",
   "execution_count": 15,
   "metadata": {},
   "outputs": [],
   "source": [
    "grounding_map, names, pos_labels = [{'garlic homogenate': 'ungrounded',\n",
    "  'gastric heterotopia': 'MESH:D002828',\n",
    "  'gelam honey': 'MESH:D006722',\n",
    "  'gelatin hydrogel': 'ungrounded',\n",
    "  'gelatin − hydroxyphenyl propionic acid': 'ungrounded',\n",
    "  'general health': 'MESH:D006262',\n",
    "  'general health perceptions': 'ungrounded',\n",
    "  'genetic hemochromatosis': 'MESH:D006432',\n",
    "  'genetic hypertension': 'ungrounded',\n",
    "  'geniohyoid': 'NCIT:C52930',\n",
    "  'genital hiatus': 'ungrounded',\n",
    "  'gestational hypertension': 'ungrounded',\n",
    "  'gestational hypothyroid': 'MESH:D007037',\n",
    "  'gingival hyperplasia': 'MESH:D005885',\n",
    "  'glenohumeral': 'ungrounded',\n",
    "  'global health': 'MESH:D014943',\n",
    "  'glucosamine hydrochloride': 'NCIT:C83732',\n",
    "  'glucosyl hesperidin': 'MESH:C487382',\n",
    "  'glycan hole': 'ungrounded',\n",
    "  'glycine hydroxamate': 'CHEBI:CHEBI:75426',\n",
    "  'glycogenic hepatopathy': 'ungrounded',\n",
    "  'glycoside hydrolase': 'MESH:D006026',\n",
    "  'glycosyl hydrolase': 'MESH:D006026',\n",
    "  'grain hardness': 'ungrounded',\n",
    "  'graphene hydrogel': 'ungrounded',\n",
    "  'grass hay': 'ungrounded',\n",
    "  'graves hyperthyroidism': 'NCIT:C3071',\n",
    "  'group housed': 'ungrounded',\n",
    "  'growth': 'ungrounded',\n",
    "  'growth hor mone': 'HGNC:4261',\n",
    "  'growth hormone': 'HGNC:4261',\n",
    "  'guest host': 'ungrounded'},\n",
    " {'MESH:D002828': 'Choristoma',\n",
    "  'MESH:D006722': 'Honey',\n",
    "  'MESH:D006262': 'Health',\n",
    "  'MESH:D006432': 'Hemochromatosis',\n",
    "  'NCIT:C52930': 'Geniohyoid',\n",
    "  'MESH:D007037': 'Hypothyroidism',\n",
    "  'MESH:D005885': 'Gingival Hyperplasia',\n",
    "  'MESH:D014943': 'Global Health',\n",
    "  'NCIT:C83732': 'Glucosamine Hydrochloride',\n",
    "  'MESH:C487382': 'glucosyl hesperidin',\n",
    "  'CHEBI:CHEBI:75426': 'glycine hydroxamate',\n",
    "  'MESH:D006026': 'Glycoside Hydrolases',\n",
    "  'NCIT:C3071': 'Graves Disease',\n",
    "  'HGNC:4261': 'GH1'},\n",
    " ['HGNC:4261', 'MESH:D006026']]"
   ]
  },
  {
   "cell_type": "code",
   "execution_count": 16,
   "metadata": {},
   "outputs": [],
   "source": [
    "excluded_longforms = ['growth']"
   ]
  },
  {
   "cell_type": "code",
   "execution_count": 17,
   "metadata": {},
   "outputs": [],
   "source": [
    "grounding_dict = {shortform: {longform: grounding_map[longform] \n",
    "                              for longform, _, _ in longforms if longform in grounding_map\n",
    "                              and longform not in excluded_longforms}\n",
    "                  for shortform, longforms in longform_dict.items()}\n",
    "result = [grounding_dict, names, pos_labels]\n",
    "\n",
    "if not os.path.exists(results_path):\n",
    "    os.mkdir(results_path)\n",
    "with open(os.path.join(results_path, f'{model_name}_preliminary_grounding_info.json'), 'w') as f:\n",
    "    json.dump(result, f)"
   ]
  },
  {
   "cell_type": "code",
   "execution_count": 18,
   "metadata": {},
   "outputs": [],
   "source": [
    "additional_entities = {}"
   ]
  },
  {
   "cell_type": "code",
   "execution_count": 19,
   "metadata": {},
   "outputs": [],
   "source": [
    "unambiguous_agent_texts = {}"
   ]
  },
  {
   "cell_type": "code",
   "execution_count": 20,
   "metadata": {},
   "outputs": [],
   "source": [
    "labeler = AdeftLabeler(grounding_dict)\n",
    "corpus = labeler.build_from_texts((text, pmid) for pmid, text in all_texts.items())\n",
    "agent_text_pmid_map = defaultdict(list)\n",
    "for text, label, id_ in corpus:\n",
    "    agent_text_pmid_map[label].append(id_)\n",
    "\n",
    "entity_pmid_map = {entity: set(get_pmids_for_entity(*entity.split(':', maxsplit=1),\n",
    "                                                major_topic=True))for entity in additional_entities}"
   ]
  },
  {
   "cell_type": "code",
   "execution_count": 18,
   "metadata": {},
   "outputs": [],
   "source": [
    "intersection1 = []\n",
    "for entity1, pmids1 in entity_pmid_map.items():\n",
    "    for entity2, pmids2 in entity_pmid_map.items():\n",
    "        intersection1.append((entity1, entity2, len(pmids1 & pmids2)))"
   ]
  },
  {
   "cell_type": "code",
   "execution_count": 19,
   "metadata": {},
   "outputs": [],
   "source": [
    "intersection2 = []\n",
    "for entity1, pmids1 in agent_text_pmid_map.items():\n",
    "    for entity2, pmids2 in entity_pmid_map.items():\n",
    "        intersection2.append((entity1, entity2, len(set(pmids1) & pmids2)))"
   ]
  },
  {
   "cell_type": "code",
   "execution_count": 20,
   "metadata": {},
   "outputs": [
    {
     "data": {
      "text/plain": [
       "[('HGNC:10967', 'HGNC:10967', 98)]"
      ]
     },
     "execution_count": 20,
     "metadata": {},
     "output_type": "execute_result"
    }
   ],
   "source": [
    "intersection1"
   ]
  },
  {
   "cell_type": "code",
   "execution_count": 21,
   "metadata": {},
   "outputs": [
    {
     "data": {
      "text/plain": [
       "[('GO:GO:0001837', 'HGNC:10967', 0),\n",
       " ('ungrounded', 'HGNC:10967', 0),\n",
       " ('HGNC:10967', 'HGNC:10967', 0),\n",
       " ('MESH:D055032', 'HGNC:10967', 0)]"
      ]
     },
     "execution_count": 21,
     "metadata": {},
     "output_type": "execute_result"
    }
   ],
   "source": [
    "intersection2"
   ]
  },
  {
   "cell_type": "code",
   "execution_count": 22,
   "metadata": {},
   "outputs": [],
   "source": [
    "all_used_pmids = set()\n",
    "for entity, agent_texts in unambiguous_agent_texts.items():\n",
    "    used_pmids = set()\n",
    "    for agent_text in agent_texts[1]:\n",
    "        pmids = set(get_pmids_for_agent_text(agent_text))\n",
    "        new_pmids = list(pmids - all_texts.keys() - used_pmids)\n",
    "        text_dict = get_plaintexts_for_pmids(new_pmids, contains=agent_texts)\n",
    "        corpus.extend([(text, entity, pmid) for pmid, text in text_dict.items() if len(text) >= 5])\n",
    "        used_pmids.update(new_pmids)\n",
    "    all_used_pmids.update(used_pmids)\n",
    "        \n",
    "for entity, pmids in entity_pmid_map.items():\n",
    "    new_pmids = list(set(pmids) - all_texts.keys() - all_used_pmids)\n",
    "    if len(new_pmids) > 10000:\n",
    "        new_pmids = random.choices(new_pmids, k=10000)\n",
    "    _, contains = additional_entities[entity]\n",
    "    text_dict = get_plaintexts_for_pmids(new_pmids, contains=contains)\n",
    "    corpus.extend([(text, entity, pmid) for pmid, text in text_dict.items() if len(text) >= 5])"
   ]
  },
  {
   "cell_type": "code",
   "execution_count": 23,
   "metadata": {},
   "outputs": [],
   "source": [
    "names.update({key: value[0] for key, value in additional_entities.items()})\n",
    "names.update({key: value[0] for key, value in unambiguous_agent_texts.items()})\n",
    "pos_labels = list(set(pos_labels) | additional_entities.keys() |\n",
    "                  unambiguous_agent_texts.keys())"
   ]
  },
  {
   "cell_type": "code",
   "execution_count": 21,
   "metadata": {},
   "outputs": [
    {
     "name": "stderr",
     "output_type": "stream",
     "text": [
      "INFO: [2020-11-02 23:38:32] /adeft/PP/adeft/adeft/modeling/classify.py - Beginning grid search in parameter space:\n",
      "{'C': [100.0], 'max_features': [10000]}\n",
      "INFO: [2020-11-02 23:40:13] /adeft/PP/adeft/adeft/modeling/classify.py - Best f1 score of 0.9923180045053153 found for parameter values:\n",
      "{'logit__C': 100.0, 'tfidf__max_features': 10000}\n"
     ]
    }
   ],
   "source": [
    "%%capture\n",
    "\n",
    "classifier = AdeftClassifier(shortforms, pos_labels=pos_labels, random_state=1729)\n",
    "param_grid = {'C': [100.0], 'max_features': [10000]}\n",
    "texts, labels, pmids = zip(*corpus)\n",
    "classifier.cv(texts, labels, param_grid, cv=5, n_jobs=5)"
   ]
  },
  {
   "cell_type": "code",
   "execution_count": 22,
   "metadata": {
    "scrolled": true
   },
   "outputs": [
    {
     "data": {
      "text/plain": [
       "{'label_distribution': {'HGNC:4261': 5491,\n",
       "  'ungrounded': 86,\n",
       "  'NCIT:C52930': 4,\n",
       "  'CHEBI:CHEBI:75426': 3,\n",
       "  'MESH:D006432': 4,\n",
       "  'MESH:D005885': 8,\n",
       "  'MESH:D006026': 32,\n",
       "  'NCIT:C3071': 3,\n",
       "  'MESH:D006262': 12,\n",
       "  'MESH:D014943': 2,\n",
       "  'MESH:D007037': 1,\n",
       "  'MESH:D002828': 2,\n",
       "  'MESH:C487382': 3,\n",
       "  'MESH:D006722': 4,\n",
       "  'NCIT:C83732': 2},\n",
       " 'f1': {'mean': 0.992318, 'std': 0.001003},\n",
       " 'precision': {'mean': 0.986607, 'std': 0.00278},\n",
       " 'recall': {'mean': 0.998371, 'std': 0.001201},\n",
       " 'NCIT:C3071': {'f1': {'mean': 0.0, 'std': 0.0},\n",
       "  'pr': {'mean': 0.0, 'std': 0.0},\n",
       "  'rc': {'mean': 0.0, 'std': 0.0}},\n",
       " 'NCIT:C83732': {'f1': {'mean': 0.0, 'std': 0.0},\n",
       "  'pr': {'mean': 0.0, 'std': 0.0},\n",
       "  'rc': {'mean': 0.0, 'std': 0.0}},\n",
       " 'MESH:D002828': {'f1': {'mean': 0.0, 'std': 0.0},\n",
       "  'pr': {'mean': 0.0, 'std': 0.0},\n",
       "  'rc': {'mean': 0.0, 'std': 0.0}},\n",
       " 'MESH:D014943': {'f1': {'mean': 0.0, 'std': 0.0},\n",
       "  'pr': {'mean': 0.0, 'std': 0.0},\n",
       "  'rc': {'mean': 0.0, 'std': 0.0}},\n",
       " 'ungrounded': {'f1': {'mean': 0.688978, 'std': 0.122473},\n",
       "  'pr': {'mean': 0.581046, 'std': 0.164446},\n",
       "  'rc': {'mean': 0.92089, 'std': 0.085945}},\n",
       " 'MESH:D006262': {'f1': {'mean': 0.313333, 'std': 0.26965},\n",
       "  'pr': {'mean': 0.266667, 'std': 0.226078},\n",
       "  'rc': {'mean': 0.466667, 'std': 0.452155}},\n",
       " 'NCIT:C52930': {'f1': {'mean': 0.0, 'std': 0.0},\n",
       "  'pr': {'mean': 0.0, 'std': 0.0},\n",
       "  'rc': {'mean': 0.0, 'std': 0.0}},\n",
       " 'MESH:D006432': {'f1': {'mean': 0.4, 'std': 0.489898},\n",
       "  'pr': {'mean': 0.4, 'std': 0.489898},\n",
       "  'rc': {'mean': 0.4, 'std': 0.489898}},\n",
       " 'MESH:D006722': {'f1': {'mean': 0.0, 'std': 0.0},\n",
       "  'pr': {'mean': 0.0, 'std': 0.0},\n",
       "  'rc': {'mean': 0.0, 'std': 0.0}},\n",
       " 'MESH:D006026': {'f1': {'mean': 0.871888, 'std': 0.096435},\n",
       "  'pr': {'mean': 0.785714, 'std': 0.150585},\n",
       "  'rc': {'mean': 1.0, 'std': 0.0}},\n",
       " 'MESH:C487382': {'f1': {'mean': 0.0, 'std': 0.0},\n",
       "  'pr': {'mean': 0.0, 'std': 0.0},\n",
       "  'rc': {'mean': 0.0, 'std': 0.0}},\n",
       " 'MESH:D005885': {'f1': {'mean': 0.0, 'std': 0.0},\n",
       "  'pr': {'mean': 0.0, 'std': 0.0},\n",
       "  'rc': {'mean': 0.0, 'std': 0.0}},\n",
       " 'HGNC:4261': {'f1': {'mean': 0.993037, 'std': 0.001284},\n",
       "  'pr': {'mean': 0.999636, 'std': 0.000446},\n",
       "  'rc': {'mean': 0.98653, 'std': 0.002792}},\n",
       " 'MESH:D007037': {'f1': {'mean': 0.0, 'std': 0.0},\n",
       "  'pr': {'mean': 0.0, 'std': 0.0},\n",
       "  'rc': {'mean': 0.0, 'std': 0.0}},\n",
       " 'CHEBI:CHEBI:75426': {'f1': {'mean': 0.4, 'std': 0.489898},\n",
       "  'pr': {'mean': 0.4, 'std': 0.489898},\n",
       "  'rc': {'mean': 0.4, 'std': 0.489898}}}"
      ]
     },
     "execution_count": 22,
     "metadata": {},
     "output_type": "execute_result"
    }
   ],
   "source": [
    "classifier.stats"
   ]
  },
  {
   "cell_type": "code",
   "execution_count": 23,
   "metadata": {},
   "outputs": [],
   "source": [
    "disamb = AdeftDisambiguator(classifier, grounding_dict, names)"
   ]
  },
  {
   "cell_type": "code",
   "execution_count": 24,
   "metadata": {},
   "outputs": [],
   "source": [
    "disamb.dump(model_name, results_path)"
   ]
  },
  {
   "cell_type": "code",
   "execution_count": 25,
   "metadata": {},
   "outputs": [
    {
     "name": "stdout",
     "output_type": "stream",
     "text": [
      "Disambiguation model for GH\n",
      "\n",
      "Produces the disambiguations:\n",
      "\tChoristoma\tMESH:D002828\n",
      "\tGH1*\tHGNC:4261\n",
      "\tGeniohyoid\tNCIT:C52930\n",
      "\tGingival Hyperplasia\tMESH:D005885\n",
      "\tGlobal Health\tMESH:D014943\n",
      "\tGlucosamine Hydrochloride\tNCIT:C83732\n",
      "\tGlycoside Hydrolases*\tMESH:D006026\n",
      "\tGraves Disease\tNCIT:C3071\n",
      "\tHealth\tMESH:D006262\n",
      "\tHemochromatosis\tMESH:D006432\n",
      "\tHoney\tMESH:D006722\n",
      "\tHypothyroidism\tMESH:D007037\n",
      "\tglucosyl hesperidin\tMESH:C487382\n",
      "\tglycine hydroxamate\tCHEBI:CHEBI:75426\n",
      "\n",
      "Class level metrics:\n",
      "--------------------\n",
      "Grounding                \tCount\tF1     \n",
      "                      GH1*\t5491\t0.99304\n",
      "               Ungrounded\t  86\t0.68898\n",
      "     Glycoside Hydrolases*\t  32\t0.87189\n",
      "                   Health\t  12\t0.31333\n",
      "     Gingival Hyperplasia\t   8\t    0.0\n",
      "               Geniohyoid\t   4\t    0.0\n",
      "          Hemochromatosis\t   4\t    0.4\n",
      "                    Honey\t   4\t    0.0\n",
      "      glycine hydroxamate\t   3\t    0.4\n",
      "           Graves Disease\t   3\t    0.0\n",
      "      glucosyl hesperidin\t   3\t    0.0\n",
      "            Global Health\t   2\t    0.0\n",
      "               Choristoma\t   2\t    0.0\n",
      "Glucosamine Hydrochloride\t   2\t    0.0\n",
      "           Hypothyroidism\t   1\t    0.0\n",
      "\n",
      "Weighted Metrics:\n",
      "-----------------\n",
      "\tF1 score:\t0.99232\n",
      "\tPrecision:\t0.98661\n",
      "\tRecall:\t\t0.99837\n",
      "\n",
      "* Positive labels\n",
      "See Docstring for explanation\n",
      "\n"
     ]
    }
   ],
   "source": [
    "print(disamb.info())"
   ]
  },
  {
   "cell_type": "code",
   "execution_count": 26,
   "metadata": {},
   "outputs": [],
   "source": [
    "model_to_s3(disamb)"
   ]
  },
  {
   "cell_type": "code",
   "execution_count": 30,
   "metadata": {},
   "outputs": [],
   "source": [
    "preds = [disamb.disambiguate(text) for text in all_texts.values()]"
   ]
  },
  {
   "cell_type": "code",
   "execution_count": 31,
   "metadata": {},
   "outputs": [],
   "source": [
    "texts = [text for pred, text in zip(preds, all_texts.values()) if pred[0] == 'HGNC:10967']"
   ]
  },
  {
   "cell_type": "code",
   "execution_count": 36,
   "metadata": {},
   "outputs": [
    {
     "data": {
      "text/plain": [
       "'The non-neuronal monoamine transporters (OCT1, OCT2, EMT, and PMAT) play a key role in the clearance of monoamines from extracellular compartments. In a previous report we described endometrial distribution and cyclic variation of the vesicular monoamine transporter (VMAT2) mRNA and the neuronal norepinephrine transporter (NET) mRNA. In the present study we used in situ hybridization, real-time PCR and immunohistochemistry to reveal tissue distribution and cyclic variation of mRNA for the non-neuronal monoamine transporters in the human endometrium and early pregnancy decidua. We found that non-neuronal monoamine transporters are predominantly expressed in the stroma. The plasma membrane monoamine transporter (PMAT) mRNA expression peaked in the proliferative phase, whereas the extra-neuronal monoamine transporter (EMT) mRNA expression peaked in the secretory phase. The organic cation transporter 2 (OCT2) mRNA expression was exclusively detected in few scattered stromal cells and OCT1 mRNA was not detected at all. Our present results demonstrate that PMAT, EMT, and OCT2 transporters are expressed in the endometrial stroma and can potentially regulate reuptake of monoamines in general and histamine in particular. Taken together with our previous finding of VMAT2 mRNA in epithelial cells, we suggest a paracrine interaction between stromal and epithelial cells, which may modulate certain steps of the reproductive process.\\n'"
      ]
     },
     "execution_count": 36,
     "metadata": {},
     "output_type": "execute_result"
    }
   ],
   "source": [
    "texts[3]"
   ]
  },
  {
   "cell_type": "code",
   "execution_count": null,
   "metadata": {},
   "outputs": [],
   "source": []
  }
 ],
 "metadata": {
  "kernelspec": {
   "display_name": "Python 3",
   "language": "python",
   "name": "python3"
  },
  "language_info": {
   "codemirror_mode": {
    "name": "ipython",
    "version": 3
   },
   "file_extension": ".py",
   "mimetype": "text/x-python",
   "name": "python",
   "nbconvert_exporter": "python",
   "pygments_lexer": "ipython3",
   "version": "3.8.4"
  }
 },
 "nbformat": 4,
 "nbformat_minor": 2
}
