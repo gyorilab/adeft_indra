{
 "cells": [
  {
   "cell_type": "code",
   "execution_count": 145,
   "metadata": {},
   "outputs": [],
   "source": [
    "import json\n",
    "import pickle\n",
    "\n",
    "from indra.databases.hgnc_client import get_hgnc_name\n",
    "from indra.literature.adeft_tools import universal_extract_text\n",
    "\n",
    "from indra_db.util.content_scripts import get_text_content_from_pmids\n",
    "from indra_db.util.content_scripts import get_stmts_with_agent_text_like\n",
    "from indra_db.util.content_scripts import get_text_content_from_stmt_ids\n",
    "\n",
    "from adeft.discover import AdeftMiner\n",
    "from adeft.gui import ground_with_gui\n",
    "from adeft.modeling.label import AdeftLabeler\n",
    "from adeft.modeling.classify import AdeftClassifier\n",
    "from adeft.disambiguate import AdeftDisambiguator\n",
    "\n",
    "from adeft_indra.ground import gilda_ground"
   ]
  },
  {
   "cell_type": "code",
   "execution_count": 146,
   "metadata": {},
   "outputs": [],
   "source": [
    "shortform = 'HIR'"
   ]
  },
  {
   "cell_type": "code",
   "execution_count": 147,
   "metadata": {},
   "outputs": [],
   "source": [
    "stmts = get_stmts_with_agent_text_like(shortform)[shortform]\n",
    "\n",
    "ids, content = get_text_content_from_stmt_ids(stmts)\n",
    "\n",
    "shortform_texts = [universal_extract_text(text, contains=[shortform]) for text in content.values() if text]\n",
    "\n",
    "miner = AdeftMiner(shortform)\n",
    "miner.process_texts(shortform_texts)"
   ]
  },
  {
   "cell_type": "markdown",
   "metadata": {},
   "source": [
    "It's then necessary to check if Acromine produced the correct results. We must fix errors manually"
   ]
  },
  {
   "cell_type": "code",
   "execution_count": 152,
   "metadata": {},
   "outputs": [],
   "source": [
    "top = miner.top(15)"
   ]
  },
  {
   "cell_type": "code",
   "execution_count": 153,
   "metadata": {},
   "outputs": [
    {
     "data": {
      "text/plain": [
       "[('hepatic ischemia reperfusion', 16.666666666666668),\n",
       " ('the human insulin receptor', 12.0),\n",
       " ('human insulin receptor', 10.0),\n",
       " ('mab against the human insulin receptor', 9.23076923076923),\n",
       " ('reperfusion', 6.916666666666668),\n",
       " ('response', 6.363636363636363),\n",
       " ('risk', 4.444444444444445),\n",
       " ('monoclonal antibody mab against the human insulin receptor',\n",
       "  3.6666666666666665),\n",
       " ('high intermediate risk', 3.6),\n",
       " ('high irradiation response', 3.2),\n",
       " ('hepatic irradiation', 3.0),\n",
       " ('high infertility risk', 3.0),\n",
       " ('hypoxia induced relaxation', 3.0),\n",
       " ('of human insulin receptor', 3.0),\n",
       " ('e abbreviations glycycoumarin gc geissoschizine methyl ether gm hirsuteine hte hirsutine',\n",
       "  3)]"
      ]
     },
     "execution_count": 153,
     "metadata": {},
     "output_type": "execute_result"
    }
   ],
   "source": [
    "top"
   ]
  },
  {
   "cell_type": "code",
   "execution_count": 159,
   "metadata": {},
   "outputs": [],
   "source": [
    "longforms = miner.get_longforms(cutoff=2.9)"
   ]
  },
  {
   "cell_type": "code",
   "execution_count": 160,
   "metadata": {},
   "outputs": [
    {
     "data": {
      "text/plain": [
       "[('hepatic ischemia reperfusion', 16.666666666666668),\n",
       " ('the human insulin receptor', 12.0),\n",
       " ('response', 6.363636363636363),\n",
       " ('risk', 4.444444444444445),\n",
       " ('hepatic irradiation', 3.0),\n",
       " ('hypoxia induced relaxation', 3.0),\n",
       " ('e abbreviations glycycoumarin gc geissoschizine methyl ether gm hirsuteine hte hirsutine',\n",
       "  3)]"
      ]
     },
     "execution_count": 160,
     "metadata": {},
     "output_type": "execute_result"
    }
   ],
   "source": [
    "longforms"
   ]
  },
  {
   "cell_type": "code",
   "execution_count": 165,
   "metadata": {},
   "outputs": [],
   "source": [
    "longforms = [lf for i, lf in enumerate(longforms) if i in [0, 4, 5]]\n",
    "longforms.extend([top[2], top[8], top[9], top[11]])"
   ]
  },
  {
   "cell_type": "code",
   "execution_count": 167,
   "metadata": {},
   "outputs": [],
   "source": [
    "longforms, scores = zip(*longforms)"
   ]
  },
  {
   "cell_type": "code",
   "execution_count": 168,
   "metadata": {},
   "outputs": [],
   "source": [
    "grounding_map = {}\n",
    "for longform in longforms:\n",
    "    grounding = gilda_ground(longform)\n",
    "    if grounding[0]:\n",
    "        grounding_map[longform] = f'{grounding[0]}:{grounding[1]}'"
   ]
  },
  {
   "cell_type": "code",
   "execution_count": 169,
   "metadata": {},
   "outputs": [
    {
     "data": {
      "text/plain": [
       "{}"
      ]
     },
     "execution_count": 169,
     "metadata": {},
     "output_type": "execute_result"
    }
   ],
   "source": [
    "grounding_map"
   ]
  },
  {
   "cell_type": "code",
   "execution_count": 170,
   "metadata": {},
   "outputs": [],
   "source": [
    "result = ground_with_gui(longforms, scores)"
   ]
  },
  {
   "cell_type": "code",
   "execution_count": 171,
   "metadata": {},
   "outputs": [
    {
     "data": {
      "text/plain": [
       "({'hepatic ischemia reperfusion': 'MESH:D015427',\n",
       "  'high infertility risk': 'ungrounded',\n",
       "  'high intermediate risk': 'ungrounded',\n",
       "  'high irradiation response': 'ungrounded',\n",
       "  'human insulin receptor': 'HGNC:6091'},\n",
       " {'MESH:D015427': 'Reperfusion Injury', 'HGNC:6091': 'INSR'},\n",
       " ['HGNC:6091', 'MESH:D015427'])"
      ]
     },
     "execution_count": 171,
     "metadata": {},
     "output_type": "execute_result"
    }
   ],
   "source": [
    "result"
   ]
  },
  {
   "cell_type": "code",
   "execution_count": 172,
   "metadata": {},
   "outputs": [],
   "source": [
    "grounding_map, names, pos_labels = ({'hepatic ischemia reperfusion': 'MESH:D015427',\n",
    "                                     'high infertility risk': 'ungrounded',\n",
    "                                     'high intermediate risk': 'ungrounded',\n",
    "                                     'high irradiation response': 'ungrounded',\n",
    "                                     'human insulin receptor': 'HGNC:6091'},\n",
    "                                     {'MESH:D015427': 'Reperfusion Injury', 'HGNC:6091': 'INSR'},\n",
    "                                     ['HGNC:6091', 'MESH:D015427'])"
   ]
  },
  {
   "cell_type": "code",
   "execution_count": 173,
   "metadata": {},
   "outputs": [],
   "source": [
    "grounding_dict = {'HIR': grounding_map}"
   ]
  },
  {
   "cell_type": "code",
   "execution_count": 174,
   "metadata": {},
   "outputs": [],
   "source": [
    "classifier = AdeftClassifier('HIR', pos_labels)"
   ]
  },
  {
   "cell_type": "code",
   "execution_count": 175,
   "metadata": {},
   "outputs": [],
   "source": [
    "param_grid = {'C': [10.0], 'max_features': [1000]}"
   ]
  },
  {
   "cell_type": "code",
   "execution_count": 176,
   "metadata": {},
   "outputs": [],
   "source": [
    "labeler = AdeftLabeler(grounding_dict)"
   ]
  },
  {
   "cell_type": "code",
   "execution_count": 177,
   "metadata": {},
   "outputs": [],
   "source": [
    "corpus = labeler.build_from_texts(shortform_texts)"
   ]
  },
  {
   "cell_type": "code",
   "execution_count": 178,
   "metadata": {},
   "outputs": [],
   "source": [
    "texts, labels = zip(*corpus)"
   ]
  },
  {
   "cell_type": "code",
   "execution_count": 180,
   "metadata": {},
   "outputs": [
    {
     "name": "stderr",
     "output_type": "stream",
     "text": [
      "INFO: [2019-12-17 10:08:08] /Users/albertsteppi/adeft/adeft/modeling/classify.py - Beginning grid search in parameter space:\n",
      "{'C': [10.0], 'max_features': [1000]}\n",
      "INFO: [2019-12-17 10:08:09] /Users/albertsteppi/adeft/adeft/modeling/classify.py - Best f1 score of 1.0 found for parameter values:\n",
      "{'logit__C': 10.0, 'tfidf__max_features': 1000}\n"
     ]
    }
   ],
   "source": [
    "classifier.cv(texts, labels, param_grid, cv=5, n_jobs=8)"
   ]
  },
  {
   "cell_type": "code",
   "execution_count": 181,
   "metadata": {},
   "outputs": [
    {
     "data": {
      "text/plain": [
       "{'label_distribution': {'HGNC:6091': 19, 'ungrounded': 9, 'MESH:D015427': 15},\n",
       " 'f1': {'mean': 1.0, 'std': 0.0},\n",
       " 'precision': {'mean': 1.0, 'std': 0.0},\n",
       " 'recall': {'mean': 1.0, 'std': 0.0}}"
      ]
     },
     "execution_count": 181,
     "metadata": {},
     "output_type": "execute_result"
    }
   ],
   "source": [
    "classifier.stats"
   ]
  },
  {
   "cell_type": "code",
   "execution_count": 182,
   "metadata": {},
   "outputs": [],
   "source": [
    "disamb = AdeftDisambiguator(classifier, grounding_dict, names)"
   ]
  },
  {
   "cell_type": "code",
   "execution_count": 185,
   "metadata": {},
   "outputs": [
    {
     "data": {
      "text/plain": [
       "('ungrounded',\n",
       " None,\n",
       " {'HGNC:6091': 0.03221201907376195,\n",
       "  'MESH:D015427': 0.046365491206260684,\n",
       "  'ungrounded': 0.9214224897199773})"
      ]
     },
     "execution_count": 185,
     "metadata": {},
     "output_type": "execute_result"
    }
   ],
   "source": [
    "disamb.disambiguate(texts[2])"
   ]
  },
  {
   "cell_type": "code",
   "execution_count": 187,
   "metadata": {},
   "outputs": [],
   "source": [
    "disamb.dump('HIR', '../results')"
   ]
  },
  {
   "cell_type": "code",
   "execution_count": 188,
   "metadata": {},
   "outputs": [],
   "source": [
    "from adeft.disambiguate import load_disambiguator"
   ]
  },
  {
   "cell_type": "code",
   "execution_count": 189,
   "metadata": {},
   "outputs": [],
   "source": [
    "d = load_disambiguator('HIR', '../results')"
   ]
  },
  {
   "cell_type": "code",
   "execution_count": 190,
   "metadata": {},
   "outputs": [
    {
     "data": {
      "text/plain": [
       "('HGNC:6091',\n",
       " 'INSR',\n",
       " {'HGNC:6091': 0.9495047219792215,\n",
       "  'MESH:D015427': 0.03378744088190508,\n",
       "  'ungrounded': 0.016707837138873322})"
      ]
     },
     "execution_count": 190,
     "metadata": {},
     "output_type": "execute_result"
    }
   ],
   "source": [
    "d.disambiguate(texts[0])"
   ]
  },
  {
   "cell_type": "code",
   "execution_count": 32,
   "metadata": {},
   "outputs": [],
   "source": [
    "a = load_disambiguator('AR')"
   ]
  },
  {
   "cell_type": "code",
   "execution_count": 33,
   "metadata": {},
   "outputs": [
    {
     "data": {
      "text/plain": [
       "('HGNC:644',\n",
       " 'AR',\n",
       " {'FPLX:ADRB': 4.719192246728643e-10,\n",
       "  'GO:GO:0007340': 1.3624879544267196e-09,\n",
       "  'HGNC:381': 5.2828214761836554e-12,\n",
       "  'HGNC:644': 0.9999384718638125,\n",
       "  'HGNC:651': 1.8656671170325e-12,\n",
       "  'ungrounded': 6.152629463170691e-05})"
      ]
     },
     "execution_count": 33,
     "metadata": {},
     "output_type": "execute_result"
    }
   ],
   "source": [
    "a.disambiguate('Androgen')"
   ]
  },
  {
   "cell_type": "code",
   "execution_count": 36,
   "metadata": {},
   "outputs": [],
   "source": [
    "logit = d.classifier.estimator.named_steps['logit']"
   ]
  },
  {
   "cell_type": "code",
   "execution_count": 37,
   "metadata": {},
   "outputs": [
    {
     "data": {
      "text/plain": [
       "array(['FPLX:AQP', 'FPLX:Macrophage_inflammatory_pro', 'MESH:D000072277',\n",
       "       'polymer', 'ungrounded'], dtype='<U32')"
      ]
     },
     "execution_count": 37,
     "metadata": {},
     "output_type": "execute_result"
    }
   ],
   "source": [
    "logit.classes_"
   ]
  },
  {
   "cell_type": "code",
   "execution_count": null,
   "metadata": {},
   "outputs": [],
   "source": []
  }
 ],
 "metadata": {
  "kernelspec": {
   "display_name": "Python 3",
   "language": "python",
   "name": "python3"
  },
  "language_info": {
   "codemirror_mode": {
    "name": "ipython",
    "version": 3
   },
   "file_extension": ".py",
   "mimetype": "text/x-python",
   "name": "python",
   "nbconvert_exporter": "python",
   "pygments_lexer": "ipython3",
   "version": "3.7.5"
  }
 },
 "nbformat": 4,
 "nbformat_minor": 2
}
