{
 "cells": [
  {
   "cell_type": "code",
   "execution_count": 1,
   "metadata": {},
   "outputs": [],
   "source": [
    "import os\n",
    "import json\n",
    "import pickle\n",
    "import random\n",
    "from collections import defaultdict, Counter\n",
    "\n",
    "from indra.literature.adeft_tools import universal_extract_text\n",
    "from indra.databases.hgnc_client import get_hgnc_name, get_hgnc_id\n",
    "\n",
    "from adeft.discover import AdeftMiner\n",
    "from adeft.gui import ground_with_gui\n",
    "from adeft.modeling.label import AdeftLabeler\n",
    "from adeft.modeling.classify import AdeftClassifier\n",
    "from adeft.disambiguate import AdeftDisambiguator\n",
    "\n",
    "\n",
    "from adeft_indra.ground.ground import AdeftGrounder\n",
    "from adeft_indra.model_building.s3 import model_to_s3\n",
    "from adeft_indra.model_building.escape import escape_filename\n",
    "from adeft_indra.db.content import get_pmids_for_agent_text, get_pmids_for_entity, \\\n",
    "    get_plaintexts_for_pmids"
   ]
  },
  {
   "cell_type": "code",
   "execution_count": 2,
   "metadata": {},
   "outputs": [],
   "source": [
    "adeft_grounder = AdeftGrounder()"
   ]
  },
  {
   "cell_type": "code",
   "execution_count": 3,
   "metadata": {},
   "outputs": [],
   "source": [
    "shortforms = ['CPE']\n",
    "model_name = ':'.join(sorted(escape_filename(shortform) for shortform in shortforms))\n",
    "results_path = os.path.abspath(os.path.join('../..', 'results', model_name))"
   ]
  },
  {
   "cell_type": "code",
   "execution_count": 4,
   "metadata": {},
   "outputs": [],
   "source": [
    "miners = dict()\n",
    "all_texts = {}\n",
    "for shortform in shortforms:\n",
    "    pmids = get_pmids_for_agent_text(shortform)\n",
    "    if len(pmids) > 10000:\n",
    "        pmids = random.choices(pmids, k=10000)\n",
    "    text_dict = get_plaintexts_for_pmids(pmids, contains=shortforms)\n",
    "    text_dict = {pmid: text for pmid, text in text_dict.items() if len(text) > 5}\n",
    "    miners[shortform] = AdeftMiner(shortform)\n",
    "    miners[shortform].process_texts(text_dict.values())\n",
    "    all_texts.update(text_dict)\n",
    "\n",
    "longform_dict = {}\n",
    "for shortform in shortforms:\n",
    "    longforms = miners[shortform].get_longforms()\n",
    "    longforms = [(longform, count, score) for longform, count, score in longforms\n",
    "                 if count*score > 2]\n",
    "    longform_dict[shortform] = longforms\n",
    "    \n",
    "combined_longforms = Counter()\n",
    "for longform_rows in longform_dict.values():\n",
    "    combined_longforms.update({longform: count for longform, count, score\n",
    "                               in longform_rows})\n",
    "grounding_map = {}\n",
    "names = {}\n",
    "for longform in combined_longforms:\n",
    "    groundings = adeft_grounder.ground(longform)\n",
    "    if groundings:\n",
    "        grounding = groundings[0]['grounding']\n",
    "        grounding_map[longform] = grounding\n",
    "        names[grounding] = groundings[0]['name']\n",
    "longforms, counts = zip(*combined_longforms.most_common())\n",
    "pos_labels = []"
   ]
  },
  {
   "cell_type": "code",
   "execution_count": 5,
   "metadata": {},
   "outputs": [
    {
     "data": {
      "text/plain": [
       "[('cytopathic effect', 679),\n",
       " ('carbapenemase producing enterobacteriaceae', 301),\n",
       " ('clostridium perfringens enterotoxin', 109),\n",
       " ('carboxypeptidase e', 99),\n",
       " ('cytoplasmic polyadenylation element', 72),\n",
       " ('cytopathogenic effect', 44),\n",
       " ('c perfringens enterotoxin', 30),\n",
       " ('choroid plexus epithelium', 20),\n",
       " ('carbapenemase producing enterobacterales', 16),\n",
       " ('caspofungin paradoxical effect', 15),\n",
       " ('crude peanut extract', 14),\n",
       " ('cns penetration effect', 13),\n",
       " ('choroid plexus epithelial', 9),\n",
       " ('cardiogenic pulmonary edema', 8),\n",
       " ('ceramide phosphoethanolamine', 8),\n",
       " ('cocoa polyphenol extract', 8),\n",
       " ('carbon paste electrode', 7),\n",
       " ('complicated parapneumonic effusions', 7),\n",
       " ('cloud point extract', 7),\n",
       " ('coffee polyphenol extract', 7),\n",
       " ('chromosomal positive effect', 6),\n",
       " ('carp pituitary extract', 5),\n",
       " ('cinnamon polyphenol extract', 5),\n",
       " ('cocoa phenolic extract', 5),\n",
       " ('central nervous system penetration effect', 5),\n",
       " ('clostridium perfringens', 4),\n",
       " ('control potential electrolysis', 4),\n",
       " ('composite polymer electrolyte', 4),\n",
       " ('chloroplastic pigment equivalent', 3),\n",
       " ('constant phase element', 3),\n",
       " ('conjugated polyelectrolyte', 3),\n",
       " ('conventional polyethylene', 3),\n",
       " ('cryptolepine', 3),\n",
       " ('cocoa proanthocyanidin extract', 3),\n",
       " ('citrus peel extract', 3)]"
      ]
     },
     "execution_count": 5,
     "metadata": {},
     "output_type": "execute_result"
    }
   ],
   "source": [
    "list(zip(longforms, counts))"
   ]
  },
  {
   "cell_type": "code",
   "execution_count": 7,
   "metadata": {},
   "outputs": [
    {
     "name": "stderr",
     "output_type": "stream",
     "text": [
      "INFO: [2020-10-02 00:14:23] indra.ontology.bio.ontology - Loading INDRA bio ontology from cache at /home/ubuntu/.indra/bio_ontology/1.2/bio_ontology.pkl\n"
     ]
    }
   ],
   "source": [
    "grounding_map, names, pos_labels = ground_with_gui(longforms, counts, \n",
    "                                                   grounding_map=grounding_map,\n",
    "                                                   names=names, pos_labels=pos_labels, no_browser=True, port=8890)"
   ]
  },
  {
   "cell_type": "code",
   "execution_count": 8,
   "metadata": {},
   "outputs": [],
   "source": [
    "result = [grounding_map, names, pos_labels]"
   ]
  },
  {
   "cell_type": "code",
   "execution_count": 9,
   "metadata": {},
   "outputs": [
    {
     "data": {
      "text/plain": [
       "[{'c perfringens enterotoxin': 'MESH:C035598',\n",
       "  'carbapenemase producing enterobacterales': 'MESH:D000073182',\n",
       "  'carbapenemase producing enterobacteriaceae': 'MESH:D000073182',\n",
       "  'carbon paste electrode': 'MESH:D004566',\n",
       "  'carboxypeptidase e': 'HGNC:2303',\n",
       "  'cardiogenic pulmonary edema': 'DOID:DOID:11396',\n",
       "  'carp pituitary extract': 'ungrounded',\n",
       "  'caspofungin paradoxical effect': 'caspofungin_paradoxical_effect',\n",
       "  'central nervous system penetration effect': 'cns_penetration',\n",
       "  'ceramide phosphoethanolamine': 'CHEBI:CHEBI:73204',\n",
       "  'chloroplastic pigment equivalent': 'ungrounded',\n",
       "  'choroid plexus epithelial': 'NCIT:C42079',\n",
       "  'choroid plexus epithelium': 'NCIT:C42079',\n",
       "  'chromosomal positive effect': 'MESH:D055012',\n",
       "  'cinnamon polyphenol extract': 'ungrounded',\n",
       "  'citrus peel extract': 'ungrounded',\n",
       "  'clostridium perfringens': 'MESH:C035598',\n",
       "  'clostridium perfringens enterotoxin': 'MESH:C035598',\n",
       "  'cloud point extract': 'ungrounded',\n",
       "  'cns penetration effect': 'cns_penetration',\n",
       "  'cocoa phenolic extract': 'NCIT:C121851',\n",
       "  'cocoa polyphenol extract': 'NCIT:C121851',\n",
       "  'cocoa proanthocyanidin extract': 'ungrounded',\n",
       "  'coffee polyphenol extract': 'NCIT:C154289',\n",
       "  'complicated parapneumonic effusions': 'MESH:D010996',\n",
       "  'composite polymer electrolyte': 'CHEBI:CHEBI:53369',\n",
       "  'conjugated polyelectrolyte': 'CHEBI:CHEBI:53369',\n",
       "  'constant phase element': 'ungrounded',\n",
       "  'control potential electrolysis': 'ungrounded',\n",
       "  'conventional polyethylene': 'CHEBI:CHEBI:53227',\n",
       "  'crude peanut extract': 'ungrounded',\n",
       "  'cryptolepine': 'CHEBI:CHEBI:3930',\n",
       "  'cytopathic effect': 'MESH:D003588',\n",
       "  'cytopathogenic effect': 'MESH:D003588',\n",
       "  'cytoplasmic polyadenylation element': 'cytoplasmic_polyadenylation_element'},\n",
       " {'MESH:C035598': 'enterotoxin, Clostridium',\n",
       "  'MESH:D000073182': 'Carbapenem-Resistant Enterobacteriaceae',\n",
       "  'MESH:D004566': 'Electrodes',\n",
       "  'HGNC:2303': 'CPE',\n",
       "  'DOID:DOID:11396': 'pulmonary edema',\n",
       "  'caspofungin_paradoxical_effect': 'caspofungin_paradoxical_effect',\n",
       "  'cns_penetration': 'cns_penetration',\n",
       "  'CHEBI:CHEBI:73204': 'ceramide phosphoethanolamine',\n",
       "  'NCIT:C42079': 'Choroid Plexus Epithelium',\n",
       "  'MESH:D055012': 'Chromosomal Position Effects',\n",
       "  'NCIT:C121851': 'Cocoa Extract',\n",
       "  'NCIT:C154289': 'Coffea arabica Extract',\n",
       "  'MESH:D010996': 'Pleural Effusion',\n",
       "  'CHEBI:CHEBI:53369': 'polyelectrolyte macromolecule',\n",
       "  'CHEBI:CHEBI:53227': 'poly(ethylene)',\n",
       "  'CHEBI:CHEBI:3930': 'cryptolepine',\n",
       "  'MESH:D003588': 'Cytopathogenic Effect, Viral',\n",
       "  'cytoplasmic_polyadenylation_element': 'cytoplasmic_polyadenylation_element'},\n",
       " ['HGNC:2303',\n",
       "  'MESH:C035598',\n",
       "  'MESH:D000073182',\n",
       "  'MESH:D003588',\n",
       "  'NCIT:C42079']]"
      ]
     },
     "execution_count": 9,
     "metadata": {},
     "output_type": "execute_result"
    }
   ],
   "source": [
    "result"
   ]
  },
  {
   "cell_type": "code",
   "execution_count": 10,
   "metadata": {},
   "outputs": [],
   "source": [
    "grounding_map, names, pos_labels = [{'c perfringens enterotoxin': 'MESH:C035598',\n",
    "  'carbapenemase producing enterobacterales': 'MESH:D000073182',\n",
    "  'carbapenemase producing enterobacteriaceae': 'MESH:D000073182',\n",
    "  'carbon paste electrode': 'MESH:D004566',\n",
    "  'carboxypeptidase e': 'HGNC:2303',\n",
    "  'cardiogenic pulmonary edema': 'DOID:DOID:11396',\n",
    "  'carp pituitary extract': 'ungrounded',\n",
    "  'caspofungin paradoxical effect': 'caspofungin_paradoxical_effect',\n",
    "  'central nervous system penetration effect': 'cns_penetration',\n",
    "  'ceramide phosphoethanolamine': 'CHEBI:CHEBI:73204',\n",
    "  'chloroplastic pigment equivalent': 'ungrounded',\n",
    "  'choroid plexus epithelial': 'NCIT:C42079',\n",
    "  'choroid plexus epithelium': 'NCIT:C42079',\n",
    "  'chromosomal positive effect': 'MESH:D055012',\n",
    "  'cinnamon polyphenol extract': 'ungrounded',\n",
    "  'citrus peel extract': 'ungrounded',\n",
    "  'clostridium perfringens': 'MESH:C035598',\n",
    "  'clostridium perfringens enterotoxin': 'MESH:C035598',\n",
    "  'cloud point extract': 'ungrounded',\n",
    "  'cns penetration effect': 'cns_penetration',\n",
    "  'cocoa phenolic extract': 'NCIT:C121851',\n",
    "  'cocoa polyphenol extract': 'NCIT:C121851',\n",
    "  'cocoa proanthocyanidin extract': 'ungrounded',\n",
    "  'coffee polyphenol extract': 'NCIT:C154289',\n",
    "  'complicated parapneumonic effusions': 'MESH:D010996',\n",
    "  'composite polymer electrolyte': 'CHEBI:CHEBI:53369',\n",
    "  'conjugated polyelectrolyte': 'CHEBI:CHEBI:53369',\n",
    "  'constant phase element': 'ungrounded',\n",
    "  'control potential electrolysis': 'ungrounded',\n",
    "  'conventional polyethylene': 'CHEBI:CHEBI:53227',\n",
    "  'crude peanut extract': 'ungrounded',\n",
    "  'cryptolepine': 'CHEBI:CHEBI:3930',\n",
    "  'cytopathic effect': 'MESH:D003588',\n",
    "  'cytopathogenic effect': 'MESH:D003588',\n",
    "  'cytoplasmic polyadenylation element': 'cytoplasmic_polyadenylation_element'},\n",
    " {'MESH:C035598': 'enterotoxin, Clostridium',\n",
    "  'MESH:D000073182': 'Carbapenem-Resistant Enterobacteriaceae',\n",
    "  'MESH:D004566': 'Electrodes',\n",
    "  'HGNC:2303': 'CPE',\n",
    "  'DOID:DOID:11396': 'pulmonary edema',\n",
    "  'caspofungin_paradoxical_effect': 'caspofungin_paradoxical_effect',\n",
    "  'cns_penetration': 'cns_penetration',\n",
    "  'CHEBI:CHEBI:73204': 'ceramide phosphoethanolamine',\n",
    "  'NCIT:C42079': 'Choroid Plexus Epithelium',\n",
    "  'MESH:D055012': 'Chromosomal Position Effects',\n",
    "  'NCIT:C121851': 'Cocoa Extract',\n",
    "  'NCIT:C154289': 'Coffea arabica Extract',\n",
    "  'MESH:D010996': 'Pleural Effusion',\n",
    "  'CHEBI:CHEBI:53369': 'polyelectrolyte macromolecule',\n",
    "  'CHEBI:CHEBI:53227': 'poly(ethylene)',\n",
    "  'CHEBI:CHEBI:3930': 'cryptolepine',\n",
    "  'MESH:D003588': 'Cytopathogenic Effect, Viral',\n",
    "  'cytoplasmic_polyadenylation_element': 'cytoplasmic_polyadenylation_element'},\n",
    " ['HGNC:2303',\n",
    "  'MESH:C035598',\n",
    "  'MESH:D000073182',\n",
    "  'MESH:D003588',\n",
    "  'NCIT:C42079']]"
   ]
  },
  {
   "cell_type": "code",
   "execution_count": 11,
   "metadata": {},
   "outputs": [],
   "source": [
    "excluded_longforms = []"
   ]
  },
  {
   "cell_type": "code",
   "execution_count": 12,
   "metadata": {},
   "outputs": [],
   "source": [
    "grounding_dict = {shortform: {longform: grounding_map[longform] \n",
    "                              for longform, _, _ in longforms if longform in grounding_map\n",
    "                              and longform not in excluded_longforms}\n",
    "                  for shortform, longforms in longform_dict.items()}\n",
    "result = [grounding_dict, names, pos_labels]\n",
    "\n",
    "if not os.path.exists(results_path):\n",
    "    os.mkdir(results_path)\n",
    "with open(os.path.join(results_path, f'{model_name}_preliminary_grounding_info.json'), 'w') as f:\n",
    "    json.dump(result, f)"
   ]
  },
  {
   "cell_type": "code",
   "execution_count": 22,
   "metadata": {},
   "outputs": [],
   "source": [
    "additional_entities = {}"
   ]
  },
  {
   "cell_type": "code",
   "execution_count": 23,
   "metadata": {},
   "outputs": [],
   "source": [
    "unambiguous_agent_texts = {}"
   ]
  },
  {
   "cell_type": "code",
   "execution_count": 24,
   "metadata": {},
   "outputs": [],
   "source": [
    "labeler = AdeftLabeler(grounding_dict)\n",
    "corpus = labeler.build_from_texts((text, pmid) for pmid, text in all_texts.items())\n",
    "agent_text_pmid_map = defaultdict(list)\n",
    "for text, label, id_ in corpus:\n",
    "    agent_text_pmid_map[label].append(id_)\n",
    "\n",
    "entity_pmid_map = {entity: set(get_pmids_for_entity(*entity.split(':', maxsplit=1),\n",
    "                                                major_topic=True))for entity in additional_entities}"
   ]
  },
  {
   "cell_type": "code",
   "execution_count": 25,
   "metadata": {},
   "outputs": [],
   "source": [
    "intersection1 = []\n",
    "for entity1, pmids1 in entity_pmid_map.items():\n",
    "    for entity2, pmids2 in entity_pmid_map.items():\n",
    "        intersection1.append((entity1, entity2, len(pmids1 & pmids2)))"
   ]
  },
  {
   "cell_type": "code",
   "execution_count": 26,
   "metadata": {},
   "outputs": [],
   "source": [
    "intersection2 = []\n",
    "for entity1, pmids1 in agent_text_pmid_map.items():\n",
    "    for entity2, pmids2 in entity_pmid_map.items():\n",
    "        intersection2.append((entity1, entity2, len(set(pmids1) & pmids2)))"
   ]
  },
  {
   "cell_type": "code",
   "execution_count": 27,
   "metadata": {},
   "outputs": [
    {
     "data": {
      "text/plain": [
       "[('HGNC:2303', 'HGNC:2303', 154)]"
      ]
     },
     "execution_count": 27,
     "metadata": {},
     "output_type": "execute_result"
    }
   ],
   "source": [
    "intersection1"
   ]
  },
  {
   "cell_type": "code",
   "execution_count": 32,
   "metadata": {},
   "outputs": [
    {
     "data": {
      "text/plain": [
       "[('Glioblastoma (GBM), the most frequent and aggressive malignant primary brain tumor, is characterized by a highly invasive growth. In our previous study we showed that overexpression of Carboxypeptidase E (CPE) mitigated glioma cell migration. In the present study we aimed at deciphering the regulatory mechanisms of the secreted form of CPE (sCPE). By transcriptome analysis and inhibition of signaling pathways involved in the regulation of cell growth and motility, we discovered that overexpression of sCPE was accompanied by differential regulation of mRNAs connected to the motility-associated networks, among others FAK, PAK, Cdc42, integrin, STAT3 as well as TGF-β. Especially SLUG was downregulated in sCPE-overexpressing glioma cells, paralleled by reduced expression of matrix-metalloproteinases (MMP) and, in consequence, by decreased cell migration. Expression of SLUG was regulated by ERK since inhibition of ERK reverted sCPE-mediated SLUG downregulation and enhanced cell motility. In a mouse glioma model, overexpression of sCPE significantly prolonged survival. Our results implicate a novel role for sCPE that mainly affects the expression of motility-associated genes via several signal pathways.\\n',\n",
       "  'HGNC:2303',\n",
       "  28656234),\n",
       " ('Peptides and small molecules that bind to peptide receptors are important classes of drugs that are used for a wide variety of different applications. The search for novel neuropeptides traditionally involved a time-consuming approach to purify each peptide to homogeneity and determine its amino acid sequence. The discovery in the 1980s of enkephalin convertase/carboxypeptidase E (CPE), and the observation that this enzyme was involved in the production of nearly every known neuropeptide led to the idea for a one-step affinity purification of CPE substrates. This approach was successfully used to isolate hundreds of known neuropeptides in mouse brain, as well as over a dozen novel peptides. Some of the novel peptides found using this approach are among the most abundant peptides present in brain, but had not been previously identified by traditional approaches. Recently, receptors for two of the novel peptides have been identified, confirming their role as neuropeptides that function in cell-cell signaling. Small molecules that bind to one of these receptors have been developed and found to significantly reduce food intake and anxiety-like behavior in an animal model. This review describes the entire project, from discovery of CPE to the novel peptides and their receptors.\\nIf enkephalin convertase was specific for producing enkephalin, it would recognize more than the C-terminal basic residues (i.e. Lys or Arg). Because the existing assays for pancreatic carboxypeptidase B used very short peptides such as hippuryl-Arg (Folk et al., 1960), these substrates were not likely to be useful to detect an enzyme with specificity for a longer peptide. A new assay was developed that used the C-terminal sequence of an enkephalin precursor: Phe-Leu-Arg (Fricker & Snyder, 1982). A fluorescent group was attached to the N-terminus of this peptide so that it could be readily detected, and enzymatic conversion of substrate (dansyl-Phe-Leu-Arg) into product (dansyl-Phe-Leu) monitored by extraction of the product into chloroform. Using this assay, enkephalin convertase was detected in bovine adrenal chromaffin granules (Fricker & Snyder, 1982). Chromaffin granules were previously reported to contain enkephalin as well as enkephalin precursors, implying that they contain the carboxypeptidase that generates enkephalin (Lewis et al., 1979; Stern et al., 1979). The enzyme detected in the chromaffin granules was a metallopeptidase with pH optimum around 5.5 (Fricker & Snyder, 1982). These properties were similar to those of an enzyme associated with pancreatic beta cells (Zuhlke et al., 1977; Zuhlke et al., 1976), but distinct from an enzyme that was claimed to be the enkephalin-producing carboxypeptidase (Hook, Eiden & Brownstein, 1982). The chromaffin granule metallopeptidase was purified to homogeneity from adrenal, brain, and pituitary (Fricker & Snyder, 1983). Upon characterization, the enzyme was shown to convert enkephalin precursors into enkephalin and was named enkephalin convertase in the initial publication (Fricker & Snyder, 1982). However, enkephalin convertase was not specific for enkephalin precursors, cleaving basic residues from a wide range of peptides containing C-terminal Lys or Arg, although not from dipeptides such as hippuryl-Arg which are too short to be efficient substrates of this enzyme (Fricker & Snyder, 1983; Supattapone, Fricker & Snyder, 1984). The finding that enkephalin convertase was not specific for the sequence of the enkephalin precursor matched the broad distribution of the enzyme in all neuroendocrine tissues, with no correlation with the distribution of enkephalin. Taken together, it appeared that enkephalin convertase was a common enzyme for the production of all neuropeptides that were produced from precursors that required removal of basic amino acids, including the synthesis of insulin and other peptide hormones (Davidson & Hutton, 1987; Docherty & Hutton, 1983; Mains & Eipper, 1984). Therefore, the name enkephalin convertase was considered inaccurate and the enzyme was renamed carboxypeptidase E (CPE) (Fricker, 1985; Fricker, 1988). Other names have been used for this enzyme, such as carboxypeptidase H, but CPE is most commonly used.\\nIf CPE functions in the biosynthesis of a large number of known neuropeptides, then it was predicted that this enzyme would also function in the production of novel neuropeptides. At the time of the discovery of CPE in the early 1980s, novel neuropeptides were being discovered every year or two, and it was assumed that many unknown neuropeptides awaited discovery (Tatemoto, Carlquist & Mutt, 1982; Tatemoto et al., 1986; Tatemoto et al., 1984a; Tatemoto et al., 1984b; Tatemoto et al., 1985; Tatemoto & Mutt, 1980; Tatemoto et al., 1983). One major limitation to the discovery of neuropeptides was the purification approach, which usually started with many kilograms of tissue and took years to separate the bioactive neuropeptide from all other proteins and peptides present in the extracts (Burgus & Guillemin, 1970; Hughes et al., 1975; Tatemoto, Carlquist & Mutt, 1982; Tatemoto & Mutt, 1980).\\nBecause CPE seemed to be specific for neuropeptide production, based on the enzyme’s neuroendocrine distribution and localization to peptide-containing secretory vesicles, CPE could be used to rapidly identify novel neuropeptides. The idea was to use affinity chromatography to isolate CPE substrates in a single step, instead of using conventional chromatography that only afforded a 5–10-fold purification in each step and therefore required multiple steps to achieve sufficient purity for sequence determination. This idea consisted of two steps (Figure 1). The first involved inhibition of CPE to accumulate the Lys/Arg-extended CPE substrates—these are normally present at extremely low levels within brain and other neuroendocrine tissues. The second step involved purification on an affinity column, using an inactive enzyme that could bind substrates but not cleave them.\\nFor step 1 of the scheme, potent inhibitors of CPE were identified from a screen of compounds previously developed as inhibitors of carboxypeptidase B and related enzymes (Fricker, Plummer & Snyder, 1983; McKay & Plummer, 1978; Plummer & Ryan, 1981). However, none of these compounds was able to penetrate the secretory vesicles where the production of neuropeptides occurred, presumably due to the highly-charged nature of the compounds. Without the essential first step of in vivo inhibition of CPE activity, it was not possible to pursue the idea of affinity purification of neuropeptides precursors.\\nIn the late-1980s, techniques to generate mice with a targeted disruption of a specific gene (termed “knock-out” mice) were developed (Capecchi, 1989; Capecchi, 2001; Evans, 2001; Smithies, 2001). Knock-out of the CPE gene would lead to elevated levels of CPE substrates, a requirement for the peptide purification scheme to succeed (Figure 1). However, it was assumed that the knockout would completely eliminate the mature forms of most bioactive peptides and this would be embryonic lethal. At the time, CPE was incorrectly thought to be the only neuropeptide-producing carboxypeptidase in the secretory pathway (Fricker, 1988; Fricker, 1993; Fricker & Devi, 1994). Fortunately, mice lacking CPE activity were viable. In fact, such mice already existed—a spontaneous mutation in the CPE gene occurred in the early 1970s at The Jackson Laboratory in a colony of inbred mice, and because the mutant mouse was notably overweight, the mutation was named fat (Coleman & Eicher, 1990). Mice homozygous for the fat mutation (i.e. fat/fat mice) were extremely overweight and also sterile, but mice heterozygous for the fat mutation were fertile and had normal body weights. Geneticists mapped the location of the fat gene to chromosome 8 near the Cpe gene, and my laboratory helped determine that these mice had a mutation in the protein-coding region of the gene that caused CPE to be completely inactive (Naggert et al., 1995). The mutation was renamed Cpefat to reflect the altered gene.\\nAnalysis of peptides in brain and neuroendocrine tissues of Cpefat/Cpefat mice revealed that mature fully-processed neuropeptides were present, albeit at extremely low levels for most peptides (Cain, Wang & Beinfeld, 1997; Fricker et al., 1996; Naggert et al., 1995; Rovere et al., 1996). This led to the discovery of carboxypeptidase D, a CPE-like enzyme that is mainly present in the trans Golgi network of the secretory pathway where it primarily functions in the processing of proteins and peptides that transit to the cell surface via the constitutive secretory pathway (Song & Fricker, 1995; Varlamov & Fricker, 1998; Xin et al., 1997). Although carboxypeptidase D appears to be excluded from the mature secretory vesicles where CPE is enriched and the majority of the neuropeptide processing occurs, the presence of carboxypeptidase D in the trans Golgi network and immature secretory vesicles is sufficient to produce enough of the mature bioactive forms of neuropeptides to permit the animals to live a fairly normal lifespan (Varlamov et al., 1999a; Varlamov et al., 1999b).\\nAs predicted from earlier studies on the substrate specificity and distribution of CPE, studies on Cpefat/Cpefat mice confirmed that CPE is the major carboxypeptidase involved in the production of nearly every neuropeptide (Che, Biswas & Fricker, 2005; Che & Fricker, 2002; Zhang et al., 2008). The only exceptions are secretory pathway peptides that do not require removal of C-terminal basic residues, and peptides that are not produced within the secretory pathway. For example, secretory pathway peptides that are present in the Cpefat/Cpefat mice include peptides located on the C-terminus of their precursor such as beta-endorphin which only require endopeptidase cleavage, or peptides in which the C-terminal basic residues are not removed such as alpha-neoendorphin which terminates in -Pro-Arg and is not an efficient substrate of CPE (Zhang et al., 2008).\\nIn addition to the secretory pathway peptides, a large number of other peptides are detected in brains of both wild-type and Cpefat/Cpefat mice as well as all other genotypes of mice that have been studied (Fricker, 2010; Zhang et al., 2008). These other peptides are mainly derived from proteins known to be localized to the cell cytoplasm, mitochondria, and/or nucleus; these are termed “intracellular peptides” to distinguish them from neuropeptides derived from secretory pathway proteins (Ferro et al., 2014; Fricker, 2010). Quantitative peptidomics studies indicated that the intracellular peptides are present at comparable levels in wild-type and Cpefat/Cpefat mice brains, and therefore are not substrates of CPE, consistent with their intracellular location as well as the absence of basic amino acid cleavage sites (Zhang et al., 2008). Some of these intracellular peptides have been found to be secreted via an unknown mechanism from brain slices and these secreted peptides may function as non-classical neuropeptides (Gelman et al., 2013). For example, the peptide RVD-hemopressin is secreted from mouse brain slices and binds to cannabinoid CB1 receptors (Gomes et al., 2009; Heimann et al., 2007). Intracellular peptides that are not secreted from cells may bind to intracellular proteins and alter their folding and/or interactions with other proteins (Ferro et al., 2014). However, these potential functions of peptides are difficult to identify and the targets are not easily druggable because of their intracellular location, as opposed to the cell surface location of neuropeptide receptors.\\nUsing mice lacking CPE to identify novel neuropeptides: Discovery of proSAAS-derived peptides\\nOnce the Cpefat/Cpefat mutation was found to inactivate CPE activity and lead to the accumulation of neuropeptides, which is step 1 of the scheme shown in Figure 1, my laboratory began working on step 2; the affinity column to purify peptides with C-terminal Lys/Arg residues in a single step. Mutagenesis of a critical active site residue in CPE (Glu300Gln) rendered the enzyme inactive but still able to bind substrates (Qian, Varlamov & Fricker, 1999). (This is not the same point mutation as found in the Cpefat/Cpefat mice, which is Ser202Pro and causes the protein to be unstable and rapidly degraded.) Alternatively, treatment of the wild-type enzyme with chelating agents to remove the active site zinc ion also eliminated enzyme activity without compromising substrate binding. Either of these approaches were able to produce the intended result; a protein that bound CPE substrates without cleaving them. However, it was difficult to produce large amounts of CPE and couple it to a solid-phase matrix (e.g. agarose) in high yield. Instead, the commercially available anhydrotrypsin-agarose was found to be comparable in terms of binding specificity (Che et al., 2001; Fricker et al., 2000). This was unexpected, in that trypsin typically cleaves peptides with internal Lys/Arg residues, and peptides with these residues on the C-terminus represent trypsin products, not substrates. Usually, enzymes bind substrates with much higher affinity than products. However, in testing it was found that the anhydrotrypsin-agarose bound poorly to peptides with internal Lys/Arg residues and with high affinity to peptides with C-terminal Lys/Arg residues (Che et al., 2001; Fricker et al., 2000). Thus, the commercially-available resin was an ideal resource for step 2 of the scheme to purify neuropeptide precursors from brains of Cpefat/Cpefat mice.\\nUsing the anhydrotrypsin affinity column, hundreds of peptide were purified from Cpefat/Cpefat mouse brains and identified using mass spectrometry (Che et al., 2001; Fricker et al., 2000). Many of these peptides corresponded to known neuropeptides with C-terminal Lys/Arg, as predicted. This finding confirmed that CPE is involved in the production of the vast majority of neuropeptides. In addition to the predicted peptides from known neuropeptide precursors, several novel peptides were found from a new precursor (Che et al., 2001; Fricker et al., 2000). Because the functions of the peptides were not known at the time, and there was no amino acid sequence homology to known peptides, it was impossible to name the novel peptides with a functional name. Thus, the peptides were named based on amino acid sequence motifs found within the peptides. The first peptide identified had a Ser-Ala-Ala-Ser sequence in the middle of the peptide, and so the peptide was named SAAS based on the single letter amino acid nomenclature (Fricker et al., 2000). Because two forms of this peptide were found, the larger was named Big SAAS and the smaller was named Little SAAS. The precursor was therefore named proSAAS, using the tradition of naming neuropeptide precursors. Other peptides identified in the affinity column eluate that were subsequently found to arise from different regions of proSAAS include peptides named GAV (Big and Little), PEN, and LEN (Big and Little). The big and little forms of the proSAAS-derived peptides arose from partial cleavage by the prohormone convertases (PCs) at basic amino acid-containing sites that are not efficiently cleaved (e.g., single basic residues)—this is also found with many other neuropeptide precursors that undergo differential processing into big and little forms (Fricker, 2012).\\nBased on the phenotype of mice lacking CPE activity, it is clear that peptides play important roles in many processes for which there is a major therapeutic demand. In addition to obesity and infertility, mice lacking CPE activity are anxious, depressed, and have memory problems (Rodriguiz et al., 2013; Woronowicz et al., 2008). Some of these same problems have been reported in a human patient lacking CPE activity due to a point mutation within the CPE gene that caused a frameshift and truncation of the protein (Alsters et al., 2015). Thus, further studies to identify the peptide(s) responsible for each of these behaviors in mice may be translatable to novel therapeutic approaches for major clinical problems. Studies on conditional CPE knock-out mice in which the Cpe gene is disrupted in specific cell types may reveal novel roles for peptides in anxiety, depression, memory, fertility, and body weight regulation; such studies are currently in progress.\\n',\n",
       "  'HGNC:2303',\n",
       "  29413529),\n",
       " ('\\n', 'HGNC:2303', 29476508),\n",
       " ('Peptidomic techniques are powerful tools to identify peptides in a biological sample. This protocol describes a targeted peptidomic approach that uses affinity chromatography to purify peptides that are substrates of carboxypeptidase E (CPE), an enzyme present in the secretory pathway of neuroendocrine cells. Many CPE products function as neuropeptides and/or peptide hormones, and therefore represent an important subset of the peptidome. Because CPE removes C-terminal Lys and Arg residues from peptide-processing intermediates, organisms lacking CPE show a large decrease in the levels of the mature forms of most neuropeptides and peptide hormones, and a very large increase in the levels of the processing intermediates that contain C-terminal Lys and/or Arg (i.e., the CPE substrates). These CPE substrates can be purified on an anhydrotrypsin-agarose affinity resin, which specifically binds peptides with C-terminal basic residues. Not all peptides with basic C-terminal residues within a cell are CPE substrates, and these other peptides will also be purified on the anhydrotrypsin affinity column. However, a comparison of peptides purified from wild-type mice and from mice lacking CPE allows for the rapid identification of CPE substrates based on their large increase in the absence of CPE.\\n',\n",
       "  'HGNC:2303',\n",
       "  29476513),\n",
       " ('\\n', 'HGNC:2303', 29509190),\n",
       " ('Carboxypeptidase E (CPE), an exopeptidase involved in proneuropeptide processing, is also a neurotrophic factor, named neurotrophic factor-α1 (NF-α1) and has important roles in neuroprotection, stem cell differentiation, and neurite outgrowth, independent of enzymatic activity. Additionally, an N-terminal-truncated CPE/NF-α1 variant, (CPE/NF-α1)-ΔN, proposed from bioinformatic analysis of GenBank (National Center for Biotechnology Information, Bethesda, MD, USA) DNA sequences and encoding a 40-kDa protein, has been found to be exclusively expressed in embryonic neurons. To investigate the function of (CPE/NF-α1)-ΔN in neurodevelopment, we first cloned (CPE/NF-α1)-ΔN transcripts from an embryonic mouse brain. A rapid amplification of cDNA ends assay, DNA sequencing, and Northern blot revealed 1.9- and 1.73-kb transcripts, which encoded 47- and 40-kDa (CPE/NF-α1)-ΔN proteins, respectively. Those proteins were expressed in embryonic mouse brain. Expression of the 2 (CPE/NF-α1)-ΔN mRNAs surged at embryonic d 10.5, correlating with the time of neurogenesis in the developing brain and also at postnatal d 1. HT22 cells, a mouse hippocampal cell line, transduced with 40 kDa (CPE/NF-α1)-ΔN up-regulated expression of genes involved in embryonic neurodevelopment: insulin-like growth factor binding protein 2 ( IGFBP2), death-associated protein 1, and ephrin A1, which regulate proliferation, programmed cell death, and neuronal migration, respectively. HT22 cells and embryonic cortical neurons overexpressing 40 kDa (CPE/NF-α1)-ΔN exhibited enhanced proliferation, which was inhibited by IGFBP2 short interfering RNA treatment. Thus, 40 kDa (CPE/NF-α1)-ΔN has an important, enzymatically independent role in the regulation of genes critical for neurodevelopment.-Xiao, L., Yang, X., Sharma, V. K., Loh, Y. P. Cloning, gene regulation, and neuronal proliferation functions of novel N-terminal-truncated carboxypeptidase E/neurotrophic factor-αl variants in embryonic mouse brain.\\n',\n",
       "  'HGNC:2303',\n",
       "  30063439),\n",
       " ('\\n', 'HGNC:2303', 30230179),\n",
       " ('\\n', 'HGNC:2303', 30454862),\n",
       " ('Osteosarcoma (OS) is the most common malignant bone tumor in children and adolescents, and metastatic OS is the major cause of OS-related death. Carboxypeptidase E (CPE) is demonstrated to be highly expressed in some cancer types, and its N-terminal truncated form, CPE-ΔN, is implicated in tumor metastasis and poor prognosis. In this study, we investigated the effect of CPE-ΔN on cell migration, invasion and epithelial-mesenchymal transition (EMT) of OS cells, and illustrated the molecular mechanisms. We first constructed CPE-ΔN overexpressing human OS cell lines (143B and U2OS cells), and found that ectopic CPE-ΔN expression in OS cells enhanced cellular migratory and invasiveness abilities, and promoted EMT process. Further, overexpression of CPE-ΔN increased c-myc and nuclear β-catenin levels in OS cells, which suggested CPE-ΔN promoted the activation of Wnt/β-catenin pathway in OS cells. Treatment with β-catenin small interfering RNA (siRNA) inhibited the migratory and invasive abilities of CPE-ΔN-overexpressing cells, and reversed E-cadherin expression. Together, these results suggest that CPE-ΔN promotes migration, invasion and EMT of OS cells via the Wnt/β-catenin signaling.\\n',\n",
       "  'HGNC:2303',\n",
       "  30508384),\n",
       " ('Pancreatic cancer is one of the leading causes of cancer-related mortality worldwide. The molecular basis for the pathogenesis of this disease remains elusive. In this study, we have investigated the role of wild-type Carboxypeptidase E (CPE-WT) and a 40 kDa N-terminal truncated isoform, CPE-ΔN in promoting proliferation and invasion of Panc-1 cells, a pancreatic cancer cell line. Both CPE-WT and CPE-ΔN were expressed in Panc-1 and BXPC-3 pancreatic cancer cells. Immunocytochemical studies revealed that in CPE transfected Panc-1 cells, CPE-ΔN was found primarily in the nucleus, whereas CPE-WT was present exclusively in the cytoplasm as puncta, characteristic of secretory vesicles. Endogenous CPE-WT was secreted into the media. Overexpression of CPE-ΔN in Panc-1 cells resulted in enhancement of proliferation and invasion of these cells, as determined by MTT (3-(4,5-dimethylthiazol-2-yl)-2,5-diphenyltetrazolium bromide) cell proliferation assay and Matrigel invasion assay, respectively. In contrast, the expression of CPE-WT protein at comparable levels to CPE-ΔN in Panc-1 cells resulted in promotion of proliferation but not invasion. Importantly, there was an upregulation of the expression of  CXCR2  mRNA and protein in Panc-1 cells overexpressing CPE-ΔN, and these cells exhibited significant increase in proliferation in a CXCR2-dependent manner. Thus, CPE-ΔN may play an important role in promoting pancreatic cancer growth and malignancy through upregulating the expression of the metastasis-related gene,  CXCR2 .\\n',\n",
       "  'HGNC:2303',\n",
       "  31731578)]"
      ]
     },
     "execution_count": 32,
     "metadata": {},
     "output_type": "execute_result"
    }
   ],
   "source": [
    "corpus[-10:]"
   ]
  },
  {
   "cell_type": "code",
   "execution_count": 28,
   "metadata": {},
   "outputs": [
    {
     "data": {
      "text/plain": [
       "[('MESH:D003588', 'HGNC:2303', 0),\n",
       " ('HGNC:2303', 'HGNC:2303', 33),\n",
       " ('cytoplasmic_polyadenylation_element', 'HGNC:2303', 0),\n",
       " ('MESH:C035598', 'HGNC:2303', 0),\n",
       " ('MESH:D010996', 'HGNC:2303', 0),\n",
       " ('ungrounded', 'HGNC:2303', 0),\n",
       " ('MESH:D055012', 'HGNC:2303', 0),\n",
       " ('MESH:D004566', 'HGNC:2303', 0),\n",
       " ('DOID:DOID:11396', 'HGNC:2303', 0),\n",
       " ('NCIT:C42079', 'HGNC:2303', 0),\n",
       " ('CHEBI:CHEBI:73204', 'HGNC:2303', 0),\n",
       " ('NCIT:C121851', 'HGNC:2303', 0),\n",
       " ('MESH:D000073182', 'HGNC:2303', 0),\n",
       " ('cns_penetration', 'HGNC:2303', 0),\n",
       " ('CHEBI:CHEBI:53227', 'HGNC:2303', 0),\n",
       " ('CHEBI:CHEBI:53369', 'HGNC:2303', 0),\n",
       " ('NCIT:C154289', 'HGNC:2303', 0),\n",
       " ('CHEBI:CHEBI:3930', 'HGNC:2303', 0),\n",
       " ('caspofungin_paradoxical_effect', 'HGNC:2303', 0)]"
      ]
     },
     "execution_count": 28,
     "metadata": {},
     "output_type": "execute_result"
    }
   ],
   "source": [
    "intersection2"
   ]
  },
  {
   "cell_type": "code",
   "execution_count": 30,
   "metadata": {},
   "outputs": [],
   "source": [
    "all_used_pmids = set()\n",
    "for entity, agent_texts in unambiguous_agent_texts.items():\n",
    "    used_pmids = set()\n",
    "    for agent_text in agent_texts:\n",
    "        pmids = set(get_pmids_for_agent_text(agent_text))\n",
    "        new_pmids = list(pmids - all_texts.keys() - used_pmids)\n",
    "        text_dict = get_plaintexts_for_pmids(new_pmids, contains=agent_texts)\n",
    "        corpus.extend([(text, entity, pmid) for pmid, text in text_dict.items()])\n",
    "        used_pmids.update(new_pmids)\n",
    "    all_used_pmids.update(used_pmids)\n",
    "        \n",
    "for entity, pmids in entity_pmid_map.items():\n",
    "    new_pmids = list(set(pmids) - all_texts.keys() - all_used_pmids)\n",
    "    if len(new_pmids) > 10000:\n",
    "        new_pmids = random.choices(new_pmids, k=10000)\n",
    "    text_dict = get_plaintexts_for_pmids(new_pmids, contains=['CPE'])\n",
    "    corpus.extend([(text, entity, pmid) for pmid, text in text_dict.items()])"
   ]
  },
  {
   "cell_type": "code",
   "execution_count": 33,
   "metadata": {},
   "outputs": [
    {
     "name": "stderr",
     "output_type": "stream",
     "text": [
      "INFO: [2020-10-02 01:08:31] /adeft/PythonRepos/adeft/adeft/modeling/classify.py - Beginning grid search in parameter space:\n",
      "{'C': [100.0], 'max_features': [10000]}\n",
      "INFO: [2020-10-02 01:09:04] /adeft/PythonRepos/adeft/adeft/modeling/classify.py - Best f1 score of 0.955588974480681 found for parameter values:\n",
      "{'logit__C': 100.0, 'tfidf__max_features': 10000}\n"
     ]
    }
   ],
   "source": [
    "%%capture\n",
    "\n",
    "classifier = AdeftClassifier(shortforms, pos_labels=pos_labels, random_state=1729)\n",
    "param_grid = {'C': [100.0], 'max_features': [10000]}\n",
    "texts, labels, pmids = zip(*corpus)\n",
    "classifier.cv(texts, labels, param_grid, cv=5, n_jobs=5)"
   ]
  },
  {
   "cell_type": "code",
   "execution_count": 17,
   "metadata": {
    "scrolled": true
   },
   "outputs": [
    {
     "data": {
      "text/plain": [
       "{'label_distribution': {'MESH:D003588': 557,\n",
       "  'HGNC:2303': 75,\n",
       "  'cytoplasmic_polyadenylation_element': 62,\n",
       "  'MESH:C035598': 92,\n",
       "  'MESH:D010996': 3,\n",
       "  'ungrounded': 36,\n",
       "  'MESH:D055012': 4,\n",
       "  'MESH:D004566': 6,\n",
       "  'DOID:DOID:11396': 5,\n",
       "  'NCIT:C42079': 17,\n",
       "  'CHEBI:CHEBI:73204': 6,\n",
       "  'NCIT:C121851': 10,\n",
       "  'MESH:D000073182': 261,\n",
       "  'cns_penetration': 9,\n",
       "  'CHEBI:CHEBI:53227': 2,\n",
       "  'CHEBI:CHEBI:53369': 5,\n",
       "  'NCIT:C154289': 1,\n",
       "  'CHEBI:CHEBI:3930': 1,\n",
       "  'caspofungin_paradoxical_effect': 4},\n",
       " 'f1': {'mean': 0.965416, 'std': 0.012584},\n",
       " 'precision': {'mean': 0.954414, 'std': 0.013735},\n",
       " 'recall': {'mean': 0.97901, 'std': 0.010233},\n",
       " 'caspofungin_paradoxical_effect': {'f1': {'mean': 0.8, 'std': 0.4},\n",
       "  'pr': {'mean': 0.8, 'std': 0.4},\n",
       "  'rc': {'mean': 0.8, 'std': 0.4}},\n",
       " 'MESH:C035598': {'f1': {'mean': 0.955839, 'std': 0.021319},\n",
       "  'pr': {'mean': 0.935088, 'std': 0.020207},\n",
       "  'rc': {'mean': 0.977778, 'std': 0.027217}},\n",
       " 'CHEBI:CHEBI:3930': {'f1': {'mean': 0.0, 'std': 0.0},\n",
       "  'pr': {'mean': 0.0, 'std': 0.0},\n",
       "  'rc': {'mean': 0.0, 'std': 0.0}},\n",
       " 'HGNC:2303': {'f1': {'mean': 0.905622, 'std': 0.072496},\n",
       "  'pr': {'mean': 0.88, 'std': 0.129271},\n",
       "  'rc': {'mean': 0.947115, 'std': 0.047884}},\n",
       " 'MESH:D000073182': {'f1': {'mean': 0.982962, 'std': 0.009313},\n",
       "  'pr': {'mean': 0.992308, 'std': 0.009421},\n",
       "  'rc': {'mean': 0.973927, 'std': 0.014756}},\n",
       " 'NCIT:C42079': {'f1': {'mean': 0.871111, 'std': 0.126803},\n",
       "  'pr': {'mean': 0.866667, 'std': 0.163299},\n",
       "  'rc': {'mean': 0.893333, 'std': 0.137275}},\n",
       " 'CHEBI:CHEBI:73204': {'f1': {'mean': 0.8, 'std': 0.4},\n",
       "  'pr': {'mean': 0.8, 'std': 0.4},\n",
       "  'rc': {'mean': 0.8, 'std': 0.4}},\n",
       " 'DOID:DOID:11396': {'f1': {'mean': 0.6, 'std': 0.489898},\n",
       "  'pr': {'mean': 0.6, 'std': 0.489898},\n",
       "  'rc': {'mean': 0.6, 'std': 0.489898}},\n",
       " 'MESH:D010996': {'f1': {'mean': 0.4, 'std': 0.489898},\n",
       "  'pr': {'mean': 0.4, 'std': 0.489898},\n",
       "  'rc': {'mean': 0.4, 'std': 0.489898}},\n",
       " 'cns_penetration': {'f1': {'mean': 0.933333, 'std': 0.133333},\n",
       "  'pr': {'mean': 0.9, 'std': 0.2},\n",
       "  'rc': {'mean': 1.0, 'std': 0.0}},\n",
       " 'NCIT:C121851': {'f1': {'mean': 0.733333, 'std': 0.133333},\n",
       "  'pr': {'mean': 0.6, 'std': 0.2},\n",
       "  'rc': {'mean': 1.0, 'std': 0.0}},\n",
       " 'NCIT:C154289': {'f1': {'mean': 0.0, 'std': 0.0},\n",
       "  'pr': {'mean': 0.0, 'std': 0.0},\n",
       "  'rc': {'mean': 0.0, 'std': 0.0}},\n",
       " 'CHEBI:CHEBI:53227': {'f1': {'mean': 0.0, 'std': 0.0},\n",
       "  'pr': {'mean': 0.0, 'std': 0.0},\n",
       "  'rc': {'mean': 0.0, 'std': 0.0}},\n",
       " 'MESH:D003588': {'f1': {'mean': 0.969505, 'std': 0.009289},\n",
       "  'pr': {'mean': 0.996412, 'std': 0.004394},\n",
       "  'rc': {'mean': 0.944258, 'std': 0.01927}},\n",
       " 'ungrounded': {'f1': {'mean': 0.73956, 'std': 0.106847},\n",
       "  'pr': {'mean': 0.696429, 'std': 0.097153},\n",
       "  'rc': {'mean': 0.810714, 'std': 0.181968}},\n",
       " 'cytoplasmic_polyadenylation_element': {'f1': {'mean': 1.0, 'std': 0.0},\n",
       "  'pr': {'mean': 1.0, 'std': 0.0},\n",
       "  'rc': {'mean': 1.0, 'std': 0.0}},\n",
       " 'MESH:D055012': {'f1': {'mean': 0.6, 'std': 0.489898},\n",
       "  'pr': {'mean': 0.6, 'std': 0.489898},\n",
       "  'rc': {'mean': 0.6, 'std': 0.489898}},\n",
       " 'CHEBI:CHEBI:53369': {'f1': {'mean': 0.0, 'std': 0.0},\n",
       "  'pr': {'mean': 0.0, 'std': 0.0},\n",
       "  'rc': {'mean': 0.0, 'std': 0.0}},\n",
       " 'MESH:D004566': {'f1': {'mean': 0.333333, 'std': 0.421637},\n",
       "  'pr': {'mean': 0.3, 'std': 0.4},\n",
       "  'rc': {'mean': 0.4, 'std': 0.489898}}}"
      ]
     },
     "execution_count": 17,
     "metadata": {},
     "output_type": "execute_result"
    }
   ],
   "source": [
    "classifier.stats"
   ]
  },
  {
   "cell_type": "code",
   "execution_count": 19,
   "metadata": {},
   "outputs": [],
   "source": [
    "disamb.dump(model_name, results_path)"
   ]
  },
  {
   "cell_type": "code",
   "execution_count": 36,
   "metadata": {},
   "outputs": [
    {
     "name": "stdout",
     "output_type": "stream",
     "text": [
      "Disambiguation model for CPE\n",
      "\n",
      "Produces the disambiguations:\n",
      "\tCPE*\tHGNC:2303\n",
      "\tCarbapenem-Resistant Enterobacteriaceae*\tMESH:D000073182\n",
      "\tChoroid Plexus Epithelium*\tNCIT:C42079\n",
      "\tChromosomal Position Effects\tMESH:D055012\n",
      "\tCocoa Extract\tNCIT:C121851\n",
      "\tCoffea arabica Extract\tNCIT:C154289\n",
      "\tCytopathogenic Effect, Viral*\tMESH:D003588\n",
      "\tElectrodes\tMESH:D004566\n",
      "\tPleural Effusion\tMESH:D010996\n",
      "\tcaspofungin_paradoxical_effect\tcaspofungin_paradoxical_effect\n",
      "\tceramide phosphoethanolamine\tCHEBI:CHEBI:73204\n",
      "\tcns_penetration\tcns_penetration\n",
      "\tcryptolepine\tCHEBI:CHEBI:3930\n",
      "\tcytoplasmic_polyadenylation_element\tcytoplasmic_polyadenylation_element\n",
      "\tenterotoxin, Clostridium*\tMESH:C035598\n",
      "\tpoly(ethylene)\tCHEBI:CHEBI:53227\n",
      "\tpolyelectrolyte macromolecule\tCHEBI:CHEBI:53369\n",
      "\tpulmonary edema\tDOID:DOID:11396\n",
      "\n",
      "Class level metrics:\n",
      "--------------------\n",
      "Grounding                              \tCount\tF1     \n",
      "           Cytopathogenic Effect, Viral*\t557\t 0.9695\n",
      "Carbapenem-Resistant Enterobacteriaceae*\t261\t0.98296\n",
      "               enterotoxin, Clostridium*\t 92\t0.95584\n",
      "                                    CPE*\t 75\t0.90562\n",
      "    cytoplasmic_polyadenylation_element\t 62\t    1.0\n",
      "                             Ungrounded\t 36\t0.73956\n",
      "              Choroid Plexus Epithelium*\t 17\t0.87111\n",
      "                          Cocoa Extract\t 10\t0.73333\n",
      "                        cns_penetration\t  9\t0.93333\n",
      "                             Electrodes\t  6\t0.33333\n",
      "           ceramide phosphoethanolamine\t  6\t    0.8\n",
      "                        pulmonary edema\t  5\t    0.6\n",
      "          polyelectrolyte macromolecule\t  5\t    0.0\n",
      "           Chromosomal Position Effects\t  4\t    0.6\n",
      "         caspofungin_paradoxical_effect\t  4\t    0.8\n",
      "                       Pleural Effusion\t  3\t    0.4\n",
      "                         poly(ethylene)\t  2\t    0.0\n",
      "                 Coffea arabica Extract\t  1\t    0.0\n",
      "                           cryptolepine\t  1\t    0.0\n",
      "\n",
      "Weighted Metrics:\n",
      "-----------------\n",
      "\tF1 score:\t0.96542\n",
      "\tPrecision:\t0.95441\n",
      "\tRecall:\t\t0.97901\n",
      "\n",
      "* Positive labels\n",
      "See Docstring for explanation\n",
      "\n"
     ]
    }
   ],
   "source": [
    "print(disamb.info())"
   ]
  },
  {
   "cell_type": "code",
   "execution_count": 37,
   "metadata": {},
   "outputs": [],
   "source": [
    "model_to_s3(disamb)"
   ]
  },
  {
   "cell_type": "code",
   "execution_count": null,
   "metadata": {},
   "outputs": [],
   "source": []
  }
 ],
 "metadata": {
  "kernelspec": {
   "display_name": "Python 3",
   "language": "python",
   "name": "python3"
  },
  "language_info": {
   "codemirror_mode": {
    "name": "ipython",
    "version": 3
   },
   "file_extension": ".py",
   "mimetype": "text/x-python",
   "name": "python",
   "nbconvert_exporter": "python",
   "pygments_lexer": "ipython3",
   "version": "3.8.4"
  }
 },
 "nbformat": 4,
 "nbformat_minor": 2
}
